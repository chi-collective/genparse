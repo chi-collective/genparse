{
 "cells": [
  {
   "cell_type": "markdown",
   "id": "7fb27b941602401d91542211134fc71a",
   "metadata": {},
   "source": [
    "# GenParse SQL Example\n",
    "\n",
    "This notebook demonstrates a simple use case of the GenParse library for constrained text generation using SQL grammar.\n",
    "It uses a basic grammar to generate SQL queries, showcasing how to set up inference, run it, and process the results to obtain probabilities for each generated query."
   ]
  },
  {
   "cell_type": "markdown",
   "id": "4ff1bbb2",
   "metadata": {},
   "source": [
    "Reset the environment to clear all variables and imports. Note that Jupyter will display the results of the last run when you re-enter. Even if you've fixed the code, it will still display the old results."
   ]
  },
  {
   "cell_type": "code",
   "execution_count": null,
   "id": "7bd14fa9",
   "metadata": {},
   "outputs": [],
   "source": [
    "# Import necessary modules to interact with the IPython environment\n",
    "from IPython import get_ipython\n",
    "import os\n",
    "\n",
    "# Set an environment variable to prevent parallelism issues between\n",
    "# jupyter asynchronous event loops and tokenizers parallelism.\n",
    "os.environ['TOKENIZERS_PARALLELISM'] = 'false'\n",
    "\n",
    "# Get the current IPython instance\n",
    "ipython = get_ipython()\n",
    "\n",
    "# If an IPython instance is running, reset the kernel state to clear all variables and imports\n",
    "if ipython:\n",
    "    ipython.run_line_magic('reset', '-sf')\n",
    "\n",
    "# Re-import required modules for display and asynchronous operations\n",
    "from IPython.display import clear_output\n",
    "import nest_asyncio\n",
    "\n",
    "# Apply nest_asyncio to allow nested event loops, which is useful in Jupyter notebooks\n",
    "nest_asyncio.apply()\n",
    "\n",
    "# Clear the output of the current cell to keep the notebook clean\n",
    "clear_output(wait=True)"
   ]
  },
  {
   "cell_type": "code",
   "execution_count": 1,
   "id": "acae54e37e7d407bbb7b55eff062a284",
   "metadata": {},
   "outputs": [],
   "source": [
    "from genparse import InferenceSetup"
   ]
  },
  {
   "cell_type": "markdown",
   "id": "9a63283cbaf04dbcab1f6479b197f3a8",
   "metadata": {},
   "source": [
    "## Define Grammar\n",
    "\n",
    "Define a simple grammar using Lark syntax for SQL queries."
   ]
  },
  {
   "cell_type": "code",
   "execution_count": 2,
   "id": "8dd0d8092fe74a7c96281538738b07e2",
   "metadata": {},
   "outputs": [
    {
     "name": "stdout",
     "output_type": "stream",
     "text": [
      "Grammar defined.\n"
     ]
    }
   ],
   "source": [
    "grammar = \"\"\"\n",
    "start: WS? \"SELECT\" WS column WS from_clause (WS group_clause)?\n",
    "from_clause: \"FROM\" WS table\n",
    "group_clause: \"GROUP BY\" WS column\n",
    "column: \"age\" | \"name\"\n",
    "table: \"employees\"\n",
    "WS: \" \"\n",
    "\"\"\"\n",
    "print('Grammar defined.')"
   ]
  },
  {
   "cell_type": "markdown",
   "id": "72eea5119410473aa328ad9291626812",
   "metadata": {},
   "source": [
    "## Initialize InferenceSetup\n",
    "\n",
    "Initialize the `InferenceSetup` with the GPT2 model and character-level proposal."
   ]
  },
  {
   "cell_type": "code",
   "execution_count": 3,
   "id": "8edb47106e1a46a883d545849b8ab81b",
   "metadata": {},
   "outputs": [
    {
     "ename": "",
     "evalue": "",
     "output_type": "error",
     "traceback": [
      "\u001b[1;31mThe kernel failed to start as the Python Environment 'genparse (Python 3.12.7)' is no longer available. Consider selecting another kernel or refreshing the list of Python Environments."
     ]
    }
   ],
   "source": [
    "inference_setup = InferenceSetup('gpt2', grammar, proposal_name='character')\n",
    "print('InferenceSetup created successfully.')"
   ]
  },
  {
   "cell_type": "markdown",
   "id": "10185d26023b46108eb7d9f57d49d2b3",
   "metadata": {},
   "source": [
    "## Run Inference\n",
    "\n",
    "Run inference with a single space as the initial prompt, 5 particles, and set verbosity to 1 to print progress to the console."
   ]
  },
  {
   "cell_type": "code",
   "execution_count": 4,
   "id": "8763a12b2bbd4a93a75aff182afb95dc",
   "metadata": {},
   "outputs": [
    {
     "name": "stdout",
     "output_type": "stream",
     "text": [
      "Inference completed.\n"
     ]
    }
   ],
   "source": [
    "inference_result = inference_setup(\n",
    "    'Write an SQL query:', n_particles=5, verbosity=1, max_tokens=25, return_record=True\n",
    ")\n",
    "print('Inference completed.')"
   ]
  }
 ],
 "metadata": {
  "kernelspec": {
   "display_name": "Python 3",
   "language": "python",
   "name": "python3"
  },
  "language_info": {
   "codemirror_mode": {
    "name": "ipython",
    "version": 3
   },
   "file_extension": ".py",
   "mimetype": "text/x-python",
   "name": "python",
   "nbconvert_exporter": "python",
   "pygments_lexer": "ipython3",
   "version": "3.12.7"
  }
 },
 "nbformat": 4,
 "nbformat_minor": 5
}
