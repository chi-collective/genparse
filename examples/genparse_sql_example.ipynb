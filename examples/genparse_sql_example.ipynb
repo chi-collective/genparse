{
 "cells": [
  {
   "cell_type": "markdown",
   "metadata": {},
   "source": [
    "# GenParse SQL Example\n",
    "\n",
    "This notebook demonstrates a simple use case of the GenParse library for constrained text generation using an SQL grammar. It generates SQL queries contrained by the basic grammar, showcasing how to set up inference, run it, and process the results to obtain a probability distribution over queries."
   ]
  },
  {
   "cell_type": "code",
   "execution_count": null,
   "metadata": {},
   "outputs": [],
   "source": [
    "import nest_asyncio\n",
    "\n",
    "# Apply nest_asyncio to allow nested event loops, which is useful in Jupyter notebooks\n",
    "nest_asyncio.apply()\n",
    "\n",
    "import os\n",
    "\n",
    "# Set an environment variable to prevent parallelism issues between\n",
    "# jupyter asynchronous event loops and tokenizers parallelism.\n",
    "os.environ['TOKENIZERS_PARALLELISM'] = 'false'"
   ]
  },
  {
   "cell_type": "markdown",
   "metadata": {},
   "source": [
    "GenParse currently provides a high-level interface for constrained generation via the `InferenceSetup` class. We recommend using this class as its internals may be deprecated without prior warning. "
   ]
  },
  {
   "cell_type": "code",
   "execution_count": null,
   "metadata": {},
   "outputs": [],
   "source": [
    "from genparse import InferenceSetup\n",
    "\n",
    "print('Inference set up.')"
   ]
  },
  {
   "cell_type": "markdown",
   "metadata": {},
   "source": [
    "## Define Grammar"
   ]
  },
  {
   "cell_type": "code",
   "execution_count": null,
   "metadata": {},
   "outputs": [],
   "source": [
    "grammar = \"\"\"\n",
    "start: WS? \"SELECT\" WS column WS from_clause (WS group_clause)?\n",
    "from_clause: \"FROM\" WS table\n",
    "group_clause: \"GROUP BY\" WS column\n",
    "column: \"age\" | \"name\"\n",
    "table: \"employees\"\n",
    "WS: \" \"\n",
    "\"\"\"\n",
    "print('Grammar defined.')"
   ]
  },
  {
   "cell_type": "markdown",
   "metadata": {},
   "source": [
    "## Initialize InferenceSetup"
   ]
  },
  {
   "cell_type": "code",
   "execution_count": null,
   "metadata": {},
   "outputs": [],
   "source": [
    "# Initialize InferenceSetup with GPT-2 model and character-level proposal\n",
    "inference_setup = InferenceSetup('gpt2', grammar, proposal_name='character')\n",
    "print('InferenceSetup created successfully.')"
   ]
  },
  {
   "cell_type": "markdown",
   "metadata": {},
   "source": [
    "## Run Inference"
   ]
  },
  {
   "cell_type": "code",
   "execution_count": null,
   "metadata": {},
   "outputs": [],
   "source": [
    "# Run inference with a single space as the initial prompt, 5 particles,\n",
    "# and set verbosity to 1 to print progress to the console\n",
    "inference_result = inference_setup(' ', n_particles=5, verbosity=1)\n",
    "print('Inference completed.')"
   ]
  }
 ],
 "metadata": {
  "language_info": {
   "name": "python"
  }
 },
 "nbformat": 4,
 "nbformat_minor": 2
}
