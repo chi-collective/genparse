{
 "cells": [
  {
   "cell_type": "code",
   "execution_count": 2,
   "id": "97f44124-d539-459d-92a5-e908cb9929e1",
   "metadata": {},
   "outputs": [],
   "source": [
    "%load_ext autoreload\n",
    "%autoreload 2"
   ]
  },
  {
   "cell_type": "code",
   "execution_count": 3,
   "id": "6a38267b-c1c5-4cc4-bbb6-5ffbd6eff7de",
   "metadata": {},
   "outputs": [],
   "source": [
    "from bench.spider.interface import SpiderInterface"
   ]
  },
  {
   "cell_type": "code",
   "execution_count": 4,
   "id": "6762eb64-e9a2-41c7-ab09-b3ff3c5fb259",
   "metadata": {},
   "outputs": [],
   "source": [
    "spider = SpiderInterface()"
   ]
  },
  {
   "cell_type": "code",
   "execution_count": 5,
   "id": "2b211006-7d05-495b-8e45-c53b015f0216",
   "metadata": {},
   "outputs": [
    {
     "name": "stdout",
     "output_type": "stream",
     "text": [
      "\n",
      "How many singers do we have?\n",
      "SELECT count(*) FROM singer\n",
      "concert_singer\n",
      "\n",
      "What is the total number of singers?\n",
      "SELECT count(*) FROM singer\n",
      "concert_singer\n"
     ]
    }
   ],
   "source": [
    "for x in spider.dev_data[:2]:\n",
    "    print()\n",
    "    print(x.text)\n",
    "    print(x.gold_sql)\n",
    "    print(x.db_name)"
   ]
  },
  {
   "cell_type": "code",
   "execution_count": 6,
   "id": "aa99c672-c9f6-46bc-a425-ad5dbb6f0e79",
   "metadata": {},
   "outputs": [
    {
     "data": {
      "text/plain": [
       "<SpiderExample db='concert_singer', text='How many singers do we have?'>"
      ]
     },
     "execution_count": 6,
     "metadata": {},
     "output_type": "execute_result"
    }
   ],
   "source": [
    "x = spider.dev_data[0]\n",
    "x"
   ]
  },
  {
   "cell_type": "code",
   "execution_count": 7,
   "id": "caea4e95-286a-4f52-af9c-2a76a158ab76",
   "metadata": {},
   "outputs": [
    {
     "data": {
      "text/plain": [
       "True"
      ]
     },
     "execution_count": 7,
     "metadata": {},
     "output_type": "execute_result"
    }
   ],
   "source": [
    "x.evaluate(x.gold_sql)"
   ]
  },
  {
   "cell_type": "code",
   "execution_count": 8,
   "id": "60bd72b7-ae8e-4eca-a124-6bd2582c6848",
   "metadata": {},
   "outputs": [
    {
     "data": {
      "text/plain": [
       "<SpiderExample db='concert_singer', text='What is the total number of singers?'>"
      ]
     },
     "execution_count": 8,
     "metadata": {},
     "output_type": "execute_result"
    }
   ],
   "source": [
    "x = spider.dev_data[1]\n",
    "x"
   ]
  },
  {
   "cell_type": "code",
   "execution_count": 9,
   "id": "f9609f9d-92dc-4ffa-86d1-ecb847370d6c",
   "metadata": {},
   "outputs": [
    {
     "data": {
      "text/plain": [
       "True"
      ]
     },
     "execution_count": 9,
     "metadata": {},
     "output_type": "execute_result"
    }
   ],
   "source": [
    "x.evaluate(\"SELECT count(*) FROM singer\")"
   ]
  },
  {
   "cell_type": "code",
   "execution_count": 10,
   "id": "daa16e94-7463-462e-b6f0-69217722852b",
   "metadata": {},
   "outputs": [
    {
     "name": "stdout",
     "output_type": "stream",
     "text": [
      "\n",
      "You are a coding assistant helping an analyst answer questions over business data in SQL.\n",
      "More specifically, the analyst provides you a database schema\n",
      "(tables in the database along with their column names and types)\n",
      "and asks a question about the data that can be solved by issuing a SQL query to the database.\n",
      "In response, you write the SQL statement that answers the question.\n",
      "You do not provide any commentary or explanation of what the code does,\n",
      "just the SQL statement ending in a semicolon.\n",
      "\n",
      "Here is a database schema:\n",
      "\n",
      "stadium\n",
      "* Stadium_ID (number): stadium id\n",
      "* Location (text): location\n",
      "* Name (text): name\n",
      "* Capacity (number): capacity\n",
      "* Highest (number): highest\n",
      "* Lowest (number): lowest\n",
      "* Average (number): average\n",
      "\n",
      "singer\n",
      "* Singer_ID (number): singer id\n",
      "* Name (text): name\n",
      "* Country (text): country\n",
      "* Song_Name (text): song name\n",
      "* Song_release_year (text): song release year\n",
      "* Age (number): age\n",
      "* Is_male (others): is male\n",
      "\n",
      "concert\n",
      "* concert_ID (number): concert id\n",
      "* concert_Name (text): concert name\n",
      "* Theme (text): theme\n",
      "* Stadium_ID (text): stadium id\n",
      "* Year (text): year\n",
      "\n",
      "singer_in_concert\n",
      "* concert_ID (number): concert id\n",
      "* Singer_ID (text): singer id\n",
      "\n",
      "Please write me a SQL statement that answers the following question: What is the total number of singers?\n",
      "\n",
      "Remember, DO NOT provide any commentary or explanation of what the code does, just the SQL statement ending in a semicolon.\n",
      "\n"
     ]
    }
   ],
   "source": [
    "print(x.describe())"
   ]
  },
  {
   "cell_type": "code",
   "execution_count": null,
   "id": "b709a74e-e1fd-4239-ac4b-206f953ded3e",
   "metadata": {},
   "outputs": [],
   "source": []
  }
 ],
 "metadata": {
  "kernelspec": {
   "display_name": "Python 3 (ipykernel)",
   "language": "python",
   "name": "python3"
  },
  "language_info": {
   "codemirror_mode": {
    "name": "ipython",
    "version": 3
   },
   "file_extension": ".py",
   "mimetype": "text/x-python",
   "name": "python",
   "nbconvert_exporter": "python",
   "pygments_lexer": "ipython3",
   "version": "3.10.12"
  }
 },
 "nbformat": 4,
 "nbformat_minor": 5
}
