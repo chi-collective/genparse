{
 "cells": [
  {
   "cell_type": "code",
   "execution_count": 1,
   "id": "97f44124-d539-459d-92a5-e908cb9929e1",
   "metadata": {},
   "outputs": [],
   "source": [
    "%load_ext autoreload\n",
    "%autoreload 2"
   ]
  },
  {
   "cell_type": "code",
   "execution_count": 33,
   "id": "6a38267b-c1c5-4cc4-bbb6-5ffbd6eff7de",
   "metadata": {},
   "outputs": [],
   "source": [
    "from arsenal import colors\n",
    "from bench.spider.interface import SpiderInterface\n",
    "from IPython.display import HTML\n",
    "from genparse import EOS\n",
    "\n",
    "import nest_asyncio\n",
    "\n",
    "nest_asyncio.apply()"
   ]
  },
  {
   "cell_type": "code",
   "execution_count": 3,
   "id": "6762eb64-e9a2-41c7-ab09-b3ff3c5fb259",
   "metadata": {},
   "outputs": [],
   "source": [
    "spider = SpiderInterface()"
   ]
  },
  {
   "cell_type": "code",
   "execution_count": 4,
   "id": "2b211006-7d05-495b-8e45-c53b015f0216",
   "metadata": {},
   "outputs": [],
   "source": [
    "# for x in spider.dev_data[:2]:\n",
    "#    print()\n",
    "#    print(x.text)\n",
    "#    print(x.gold_sql)\n",
    "#    print(x.db_name)"
   ]
  },
  {
   "cell_type": "code",
   "execution_count": 9,
   "id": "aa99c672-c9f6-46bc-a425-ad5dbb6f0e79",
   "metadata": {},
   "outputs": [
    {
     "data": {
      "text/plain": [
       "<SpiderExample db='concert_singer', text='How many singers do we have?'>"
      ]
     },
     "execution_count": 9,
     "metadata": {},
     "output_type": "execute_result"
    }
   ],
   "source": [
    "x = spider.dev_data[0]\n",
    "assert x.evaluate(x.gold_sql)\n",
    "x"
   ]
  },
  {
   "cell_type": "code",
   "execution_count": 13,
   "id": "60bd72b7-ae8e-4eca-a124-6bd2582c6848",
   "metadata": {},
   "outputs": [
    {
     "data": {
      "text/plain": [
       "<SpiderExample db='concert_singer', text='What is the total number of singers?'>"
      ]
     },
     "execution_count": 13,
     "metadata": {},
     "output_type": "execute_result"
    }
   ],
   "source": [
    "x = spider.dev_data[1]\n",
    "assert x.evaluate('SELECT count(*) FROM singer')\n",
    "x"
   ]
  },
  {
   "cell_type": "code",
   "execution_count": 14,
   "id": "2fa38854",
   "metadata": {},
   "outputs": [
    {
     "data": {
      "text/html": [
       "<div>\n",
       "<style scoped>\n",
       "    .dataframe tbody tr th:only-of-type {\n",
       "        vertical-align: middle;\n",
       "    }\n",
       "\n",
       "    .dataframe tbody tr th {\n",
       "        vertical-align: top;\n",
       "    }\n",
       "\n",
       "    .dataframe thead th {\n",
       "        text-align: right;\n",
       "    }\n",
       "</style>\n",
       "<table border=\"1\" class=\"dataframe\">\n",
       "  <thead>\n",
       "    <tr style=\"text-align: right;\">\n",
       "      <th></th>\n",
       "      <th>count(*)</th>\n",
       "    </tr>\n",
       "  </thead>\n",
       "  <tbody>\n",
       "    <tr>\n",
       "      <th>0</th>\n",
       "      <td>6</td>\n",
       "    </tr>\n",
       "  </tbody>\n",
       "</table>\n",
       "</div>"
      ],
      "text/plain": [
       "   count(*)\n",
       "0         6"
      ]
     },
     "execution_count": 14,
     "metadata": {},
     "output_type": "execute_result"
    }
   ],
   "source": [
    "x.run_query('SELECT count(*) FROM singer')"
   ]
  },
  {
   "cell_type": "code",
   "execution_count": null,
   "id": "11484f4c",
   "metadata": {},
   "outputs": [],
   "source": []
  },
  {
   "cell_type": "code",
   "execution_count": 16,
   "id": "b709a74e-e1fd-4239-ac4b-206f953ded3e",
   "metadata": {},
   "outputs": [],
   "source": [
    "from pathlib import Path\n",
    "\n",
    "import bench.spider.evaluation as E\n",
    "from bench.spider.evaluation import (\n",
    "    # build_foreign_key_map_from_json,\n",
    "    build_valid_col_units,\n",
    "    rebuild_sql_val,\n",
    "    rebuild_sql_col,\n",
    "    eval_exec_match,\n",
    ")\n",
    "\n",
    "\n",
    "def evaluate(self, gold: str, pred: str, db_name: str):\n",
    "    \"\"\"Returns: bool, Optional[str]\n",
    "\n",
    "    On success (i.e., predicted execution result is the same as gold), returns `(True, None)`\n",
    "    On failure, returns `(False, reason)` where reason is one of the two cases:\n",
    "    * `invalid` if `pred` sql is not a well-formed sql statement that can be parsed by sqlite\n",
    "    * `mismatch` if `pred` is a well-formed sql but the execution result is different from that of the `gold`.\n",
    "    \"\"\"\n",
    "    db = self.db_path / db_name / (db_name + '.sqlite')\n",
    "    schema = E.Schema(E.get_schema(db))\n",
    "    g_sql = E.get_sql(schema, gold)\n",
    "\n",
    "    try:\n",
    "        p_sql = E.get_sql(schema, pred)\n",
    "    except Exception as e:\n",
    "        # sql is ill-formed (can't be parsed by sqlite engine)\n",
    "        print(\n",
    "            colors.red % e.__class__.__name__,\n",
    "            e,\n",
    "        )\n",
    "\n",
    "        import traceback\n",
    "\n",
    "        traceback.print_exc()\n",
    "\n",
    "        return False, 'invalid'\n",
    "\n",
    "    kmap = self.kmaps[db_name]\n",
    "    g_valid_col_units = build_valid_col_units(g_sql['from']['table_units'], schema)\n",
    "    g_sql = rebuild_sql_val(g_sql)\n",
    "    g_sql = rebuild_sql_col(g_valid_col_units, g_sql, kmap)\n",
    "    p_valid_col_units = build_valid_col_units(p_sql['from']['table_units'], schema)\n",
    "    p_sql = rebuild_sql_val(p_sql)\n",
    "    p_sql = rebuild_sql_col(p_valid_col_units, p_sql, kmap)\n",
    "\n",
    "    exec_match = eval_exec_match(db, pred, gold, p_sql, g_sql)\n",
    "    reason = None if exec_match else 'mismatch'\n",
    "\n",
    "    return exec_match, reason\n",
    "\n",
    "\n",
    "# spider.evaluator = evaluate"
   ]
  },
  {
   "cell_type": "code",
   "execution_count": 17,
   "id": "b2044d38-ed05-4bf9-8294-69a0f8388a92",
   "metadata": {},
   "outputs": [],
   "source": [
    "# x.interface.evaluator = evaluate"
   ]
  },
  {
   "cell_type": "code",
   "execution_count": 18,
   "id": "ff725aa3-aadc-49c0-af86-7e4e68b95c98",
   "metadata": {},
   "outputs": [],
   "source": [
    "x.interface.evaluator.evaluate = evaluate"
   ]
  },
  {
   "cell_type": "code",
   "execution_count": 21,
   "id": "afb85928-d061-4c6f-a6f1-07a60fd55272",
   "metadata": {},
   "outputs": [],
   "source": [
    "junk_sql = 'select count(*) from sangerz'"
   ]
  },
  {
   "cell_type": "code",
   "execution_count": 22,
   "id": "45e8e0bd-ba11-4f73-9d0c-306be55d3240",
   "metadata": {},
   "outputs": [
    {
     "name": "stdout",
     "output_type": "stream",
     "text": [
      "\u001b[0;31mKeyError\u001b[0m 'sangerz'\n"
     ]
    },
    {
     "name": "stderr",
     "output_type": "stream",
     "text": [
      "Traceback (most recent call last):\n",
      "  File \"/home/timv/tmp/ipykernel_5039/1033643670.py\", line 25, in evaluate\n",
      "    p_sql = E.get_sql(schema, pred)\n",
      "  File \"/home/timv/projects/genparse/bench/spider/process_sql.py\", line 618, in get_sql\n",
      "    _, sql = parse_sql(toks, 0, tables_with_alias, schema)\n",
      "  File \"/home/timv/projects/genparse/bench/spider/process_sql.py\", line 562, in parse_sql\n",
      "    from_end_idx, table_units, conds, default_tables = parse_from(\n",
      "  File \"/home/timv/projects/genparse/bench/spider/process_sql.py\", line 439, in parse_from\n",
      "    idx, table_unit, table_name = parse_table_unit(\n",
      "  File \"/home/timv/projects/genparse/bench/spider/process_sql.py\", line 289, in parse_table_unit\n",
      "    key = tables_with_alias[toks[idx]]\n",
      "KeyError: 'sangerz'\n"
     ]
    },
    {
     "data": {
      "text/plain": [
       "(False, 'invalid')"
      ]
     },
     "execution_count": 22,
     "metadata": {},
     "output_type": "execute_result"
    }
   ],
   "source": [
    "x.interface.evaluator.evaluate(\n",
    "    x.interface.evaluator, gold=x.gold_sql, pred=junk_sql, db_name=x.db_name\n",
    ")"
   ]
  },
  {
   "cell_type": "code",
   "execution_count": 23,
   "id": "32fdf70d-7695-4506-a049-bb7f5297de34",
   "metadata": {},
   "outputs": [],
   "source": [
    "# x.db_schema.columns"
   ]
  },
  {
   "cell_type": "code",
   "execution_count": 24,
   "id": "08428768",
   "metadata": {},
   "outputs": [],
   "source": [
    "grammar_text = open(\n",
    "    '/home/timv/projects/genparse/benchmark/grammars/sql_case_insensitive.lark'\n",
    ").read()"
   ]
  },
  {
   "cell_type": "code",
   "execution_count": 25,
   "id": "a425dba1",
   "metadata": {},
   "outputs": [],
   "source": [
    "from genparse.util import InferenceSetupVLLM, InferenceSetup"
   ]
  },
  {
   "cell_type": "code",
   "execution_count": 26,
   "id": "65ca1813",
   "metadata": {},
   "outputs": [
    {
     "name": "stdout",
     "output_type": "stream",
     "text": [
      "INFO 06-28 18:46:49 config.py:1214] Upcasting torch.bfloat16 to torch.float32.\n",
      "INFO 06-28 18:46:49 llm_engine.py:161] Initializing an LLM engine (v0.5.0.post1) with config: model='codellama/CodeLlama-7b-Instruct-hf', speculative_config=None, tokenizer='codellama/CodeLlama-7b-Instruct-hf', skip_tokenizer_init=False, tokenizer_mode=auto, revision=None, rope_scaling=None, rope_theta=None, tokenizer_revision=None, trust_remote_code=False, dtype=torch.float32, max_seq_len=4096, download_dir=None, load_format=LoadFormat.AUTO, tensor_parallel_size=1, disable_custom_all_reduce=False, quantization=None, enforce_eager=False, kv_cache_dtype=auto, quantization_param_path=None, device_config=cuda, decoding_config=DecodingConfig(guided_decoding_backend='outlines'), seed=0, served_model_name=codellama/CodeLlama-7b-Instruct-hf)\n",
      "INFO 06-28 18:46:50 selector.py:136] Cannot use FlashAttention-2 backend for dtype other than torch.float16 or torch.bfloat16.\n",
      "INFO 06-28 18:46:50 selector.py:51] Using XFormers backend.\n",
      "INFO 06-28 18:47:09 selector.py:136] Cannot use FlashAttention-2 backend for dtype other than torch.float16 or torch.bfloat16.\n",
      "INFO 06-28 18:47:09 selector.py:51] Using XFormers backend.\n",
      "INFO 06-28 18:47:09 weight_utils.py:218] Using model weights format ['*.safetensors']\n",
      "INFO 06-28 18:48:59 model_runner.py:160] Loading model weights took 25.1143 GB\n",
      "INFO 06-28 18:49:02 gpu_executor.py:83] # GPU blocks: 605, # CPU blocks: 256\n",
      "INFO 06-28 18:49:04 model_runner.py:889] Capturing the model for CUDA graphs. This may lead to unexpected consequences if the model is not static. To run the model in eager mode, set 'enforce_eager=True' or use '--enforce-eager' in the CLI.\n",
      "INFO 06-28 18:49:04 model_runner.py:893] CUDA graphs can take additional 1~3 GiB memory per GPU. If you are running out of memory, consider decreasing `gpu_memory_utilization` or enforcing eager mode. You can also reduce the `max_num_seqs` as needed to decrease memory usage.\n",
      "INFO 06-28 18:49:22 model_runner.py:965] Graph capturing finished in 17 secs.\n"
     ]
    }
   ],
   "source": [
    "# infer = InferenceSetup('codellama', grammar_text, proposal_name='character', guide_opts={'ignore': '\\s*'})\n",
    "infer = InferenceSetupVLLM(\n",
    "    'codellama',\n",
    "    grammar_text,\n",
    "    proposal_name='character',\n",
    "    guide_opts={'ignore': r'\\s*'},\n",
    "    batch_size=50,\n",
    ")"
   ]
  },
  {
   "cell_type": "code",
   "execution_count": 93,
   "id": "d4e98350",
   "metadata": {},
   "outputs": [
    {
     "data": {
      "text/plain": [
       "<SpiderExample db='concert_singer', text='Show name, country, age for all singers ordered by age from the oldest to the youngest.'>"
      ]
     },
     "execution_count": 93,
     "metadata": {},
     "output_type": "execute_result"
    }
   ],
   "source": [
    "x = spider.dev_data[2]\n",
    "x"
   ]
  },
  {
   "cell_type": "code",
   "execution_count": 128,
   "id": "b503d231",
   "metadata": {},
   "outputs": [
    {
     "name": "stdout",
     "output_type": "stream",
     "text": [
      "llm is 45.2331x faster than cfg+trie (\u001b[0;32mp=0.00000\u001b[0m, median: cfg+trie: 1.57952, llm: 0.0349195)\n"
     ]
    }
   ],
   "source": [
    "infer.sampler.timer.compare()"
   ]
  },
  {
   "cell_type": "code",
   "execution_count": 127,
   "id": "a71b5dbb",
   "metadata": {},
   "outputs": [
    {
     "data": {
      "image/png": "[encoded data removed]",
      "text/plain": [
       "<Figure size 640x480 with 1 Axes>"
      ]
     },
     "metadata": {},
     "output_type": "display_data"
    }
   ],
   "source": [
    "infer.sampler.timer.plot_feature('t')"
   ]
  },
  {
   "cell_type": "code",
   "execution_count": null,
   "id": "a9cddc3a",
   "metadata": {},
   "outputs": [],
   "source": []
  },
  {
   "cell_type": "code",
   "execution_count": 97,
   "id": "933e8506",
   "metadata": {},
   "outputs": [],
   "source": [
    "p = infer(x.describe(), n_particles=50, method='smc-standard', max_tokens=100)"
   ]
  },
  {
   "cell_type": "code",
   "execution_count": 98,
   "id": "46cc14c2",
   "metadata": {},
   "outputs": [],
   "source": [
    "def show_posterior_tables(x, p):\n",
    "    display(HTML(f'<h3>{x.text}</h3>'))\n",
    "    for y, py in sorted(p[0].posterior.items(), key=lambda ab: -ab[1]):\n",
    "        y = y[:-1]  # remove EOS\n",
    "        print(f'{colors.mark(x.evaluate(y))} {py:-.6f} {y}')\n",
    "        try:\n",
    "            display(x.run_query(y))\n",
    "        except Exception as e:\n",
    "            print()\n",
    "            print(colors.dark.red % '💀 ERROR', e)\n",
    "            print()"
   ]
  },
  {
   "cell_type": "code",
   "execution_count": 99,
   "id": "9ca12ea8",
   "metadata": {},
   "outputs": [
    {
     "data": {
      "text/html": [
       "<h3>Show name, country, age for all singers ordered by age from the oldest to the youngest.</h3>"
      ],
      "text/plain": [
       "<IPython.core.display.HTML object>"
      ]
     },
     "metadata": {},
     "output_type": "display_data"
    },
    {
     "name": "stdout",
     "output_type": "stream",
     "text": [
      "\u001b[2;31m✘\u001b[0m 0.324854 Select singer_name, singer_country, singer_age from singer_in_concert inner join singer on singer_in_concert.singer_id = singer.singer_id\n",
      "\n",
      "\u001b[2;31m💀 ERROR\u001b[0m Execution failed on sql 'Select singer_name, singer_country, singer_age from singer_in_concert inner join singer on singer_in_concert.singer_id = singer.singer_id': no such column: singer_name\n",
      "\n",
      "\u001b[2;31m✘\u001b[0m 0.243641 Select singer_name from singer inner join concert on concert_ID = concert.singer_ID\n",
      "\n",
      "\u001b[2;31m💀 ERROR\u001b[0m Execution failed on sql 'Select singer_name from singer inner join concert on concert_ID = concert.singer_ID': no such column: singer_name\n",
      "\n",
      "\u001b[2;31m✘\u001b[0m 0.081214 Select singer.Song_name, singer.Name, singer.Country, singer.Song_release_year from singer inner join concert_attendees on singer.Singer_ID = concert_attendees.Singer_ID order by singer.Age \n",
      "\n",
      "\u001b[2;31m💀 ERROR\u001b[0m Execution failed on sql 'Select singer.Song_name, singer.Name, singer.Country, singer.Song_release_year from singer inner join concert_attendees on singer.Singer_ID = concert_attendees.Singer_ID order by singer.Age ': no such table: concert_attendees\n",
      "\n",
      "\u001b[2;31m✘\u001b[0m 0.054142 Select singer_id, singer_name, singer_country, singer_age From singer Order By singer_age Desc\n",
      "\n",
      "\u001b[2;31m💀 ERROR\u001b[0m Execution failed on sql 'Select singer_id, singer_name, singer_country, singer_age From singer Order By singer_age Desc': no such column: singer_name\n",
      "\n",
      "\u001b[2;31m✘\u001b[0m 0.053609 Select singer_in_concert.Singer_ID, singer.Name, singer.Country, singer.Age, singer.is_male, concert.concert_Name, concert.Theme, concert.Stadium_ID, concert.Year, concert.concert_ID from singer_in_concert join singer on singer_in_concert.Singer_ID=singer.Singer_ID join concert on singer_in_concert.co\n",
      "\n",
      "\u001b[2;31m💀 ERROR\u001b[0m Execution failed on sql 'Select singer_in_concert.Singer_ID, singer.Name, singer.Country, singer.Age, singer.is_male, concert.concert_Name, concert.Theme, concert.Stadium_ID, concert.Year, concert.concert_ID from singer_in_concert join singer on singer_in_concert.Singer_ID=singer.Singer_ID join concert on singer_in_concert.co': no such column: singer_in_concert.co\n",
      "\n",
      "\u001b[2;31m✘\u001b[0m 0.027071 Select singer_name, singer_country, singer_age from singer join concert on singer.Singer_ID = concert.Singer_ID join singer_in_concert on concert.Concert_ID = singer_in_concert.Concert_ID join stadium on concert.Stadium_ID = stadium\n",
      "\n",
      "\u001b[2;31m💀 ERROR\u001b[0m Execution failed on sql 'Select singer_name, singer_country, singer_age from singer join concert on singer.Singer_ID = concert.Singer_ID join singer_in_concert on concert.Concert_ID = singer_in_concert.Concert_ID join stadium on concert.Stadium_ID = stadium': no such column: singer_name\n",
      "\n",
      "\u001b[2;31m✘\u001b[0m 0.026763 Select singer_in_concert.Singer_ID, singer.Name, singer.Country, singer.Age, singer.is_male, concert.concert_Name, concert.Theme, concert.Stadium_ID, concert.Year, concert.concert_ID from singer_in_concert join singer on singer_in_concert.Singer_ID=singer.Singer_ID join concert on concert.concert_ID=sin\n",
      "\n",
      "\u001b[2;31m💀 ERROR\u001b[0m Execution failed on sql 'Select singer_in_concert.Singer_ID, singer.Name, singer.Country, singer.Age, singer.is_male, concert.concert_Name, concert.Theme, concert.Stadium_ID, concert.Year, concert.concert_ID from singer_in_concert join singer on singer_in_concert.Singer_ID=singer.Singer_ID join concert on concert.concert_ID=sin': no such column: sin\n",
      "\n",
      "\u001b[2;31m✘\u001b[0m 0.026738 Select singer_in_concert.Singer_ID, singer.Name, singer.Country, singer.Age, singer.is_male, concert.concert_Name, concert.Theme, concert.Stadium_ID, concert.Year, concert.concert_ID from singer_in_concert join singer on singer_in_concert.Singer_ID= singer.Singer_ID join concert on singer_in_concert.concer\n",
      "\n",
      "\u001b[2;31m💀 ERROR\u001b[0m Execution failed on sql 'Select singer_in_concert.Singer_ID, singer.Name, singer.Country, singer.Age, singer.is_male, concert.concert_Name, concert.Theme, concert.Stadium_ID, concert.Year, concert.concert_ID from singer_in_concert join singer on singer_in_concert.Singer_ID= singer.Singer_ID join concert on singer_in_concert.concer': no such column: singer_in_concert.concer\n",
      "\n",
      "\u001b[2;31m✘\u001b[0m 0.021860 Select singer.name, singer.country, singer.age, sum(age) as age from singer, concert, singer_in_concert, concert WHERE singer.Singer_ID = singer_in_concert.Singer_ID and singer_in_concert.concert_ID = concert.concert_ID and concert.concert_ID = singer_in_concert.concert_ID and concert.Year = '1986\n",
      "\n",
      "\u001b[2;31m💀 ERROR\u001b[0m Execution failed on sql 'Select singer.name, singer.country, singer.age, sum(age) as age from singer, concert, singer_in_concert, concert WHERE singer.Singer_ID = singer_in_concert.Singer_ID and singer_in_concert.concert_ID = concert.concert_ID and concert.concert_ID = singer_in_concert.concert_ID and concert.Year = '1986': unrecognized token: \"'1986\"\n",
      "\n",
      "\u001b[2;31m✘\u001b[0m 0.021495 Select singer.name, singer.country, singer.age FROM singer, concert, singer_and_concert WHERE singer.country = 'USA' AND singer.song_release_year > 1980 AND singer_in_concert.singer_ID = singer.Singer_ID AND singer_in_concert.concert_ID = concert.concert_ID\n",
      "\n",
      "\u001b[2;31m💀 ERROR\u001b[0m Execution failed on sql 'Select singer.name, singer.country, singer.age FROM singer, concert, singer_and_concert WHERE singer.country = 'USA' AND singer.song_release_year > 1980 AND singer_in_concert.singer_ID = singer.Singer_ID AND singer_in_concert.concert_ID = concert.concert_ID': no such table: singer_and_concert\n",
      "\n",
      "\u001b[2;31m✘\u001b[0m 0.019510 Select singer_name from singer inner join concert on concert_ID = concert.singer_ID inner join singer_in_concert on singer.ID = singer_in_concert.singer_ID inner join singer2 on singer2.ID = singer3.singer_ID and singer2.Name = 'DAVID BUCKLEY' and singer.Country = singer2.Country and singer.song_release_year = singer2.song\n",
      "\n",
      "\u001b[2;31m💀 ERROR\u001b[0m Execution failed on sql 'Select singer_name from singer inner join concert on concert_ID = concert.singer_ID inner join singer_in_concert on singer.ID = singer_in_concert.singer_ID inner join singer2 on singer2.ID = singer3.singer_ID and singer2.Name = 'DAVID BUCKLEY' and singer.Country = singer2.Country and singer.song_release_year = singer2.song': no such table: singer2\n",
      "\n",
      "\u001b[2;31m✘\u001b[0m 0.015135 Select singer.Song_name, singer.Name, singer.Country, singer.Song_release_year, singer.Age, singer.Is_male, singer.Singer_ID, concert.concert_id, concert.theme, concert.Stadium_ID, concert.Year, singer_in_concert.singer_id, singer_in_concert.concert_id, singer_in_concert.singer_i\n",
      "\n",
      "\u001b[2;31m💀 ERROR\u001b[0m Execution failed on sql 'Select singer.Song_name, singer.Name, singer.Country, singer.Song_release_year, singer.Age, singer.Is_male, singer.Singer_ID, concert.concert_id, concert.theme, concert.Stadium_ID, concert.Year, singer_in_concert.singer_id, singer_in_concert.concert_id, singer_in_concert.singer_i': no such column: singer.Song_name\n",
      "\n",
      "\u001b[2;31m✘\u001b[0m 0.014395 Select singer_name, singer_country, singer_age from singer join concert on singer.Singer_ID = concert.Singer_ID join singer_in_concert on concert.Concert_ID = singer_in_concert.Concert_ID join stadium on concert.Stadium_ID = stadium.Stadium_ID where concert.Theme = 'Rock' and stadium.Highest > 20000 and concer\n",
      "\n",
      "\u001b[2;31m💀 ERROR\u001b[0m Execution failed on sql 'Select singer_name, singer_country, singer_age from singer join concert on singer.Singer_ID = concert.Singer_ID join singer_in_concert on concert.Concert_ID = singer_in_concert.Concert_ID join stadium on concert.Stadium_ID = stadium.Stadium_ID where concert.Theme = 'Rock' and stadium.Highest > 20000 and concer': no such column: singer_name\n",
      "\n",
      "\u001b[2;31m✘\u001b[0m 0.013864 Select singer_name, singer_country, singer_age from singer join concert on singer.Singer_ID = concert.Singer_ID join singer_in_concert on concert.Concert_ID = singer_in_concert.Concert_ID join stadium on concert.Stadium_ID = stadium.Stadium_ID where concert.Theme = 'Pop' AND stadium.Location = 'Taiwan' ORDER BY singer.Ag\n",
      "\n",
      "\u001b[2;31m💀 ERROR\u001b[0m Execution failed on sql 'Select singer_name, singer_country, singer_age from singer join concert on singer.Singer_ID = concert.Singer_ID join singer_in_concert on concert.Concert_ID = singer_in_concert.Concert_ID join stadium on concert.Stadium_ID = stadium.Stadium_ID where concert.Theme = 'Pop' AND stadium.Location = 'Taiwan' ORDER BY singer.Ag': no such column: singer_name\n",
      "\n",
      "\u001b[2;31m✘\u001b[0m 0.013495 Select singer.Song_name, singer.Name, singer.Country, singer.Song_release_year from singer inner join concert_attendees on singer.singer_id = concert_attendees.singer_id inner join concert on concert_attendees.concert_id = concert.concert_id Where ships.ships = '737' and spacecraft.planet='Earth' and crew.ships = '7\n",
      "\n",
      "\u001b[2;31m💀 ERROR\u001b[0m Execution failed on sql 'Select singer.Song_name, singer.Name, singer.Country, singer.Song_release_year from singer inner join concert_attendees on singer.singer_id = concert_attendees.singer_id inner join concert on concert_attendees.concert_id = concert.concert_id Where ships.ships = '737' and spacecraft.planet='Earth' and crew.ships = '7': unrecognized token: \"'7\"\n",
      "\n",
      "\u001b[2;31m✘\u001b[0m 0.013077 Select singer.Song_name, singer.Name, singer.Country, singer.Song_release_year, singer.Age, singer.Is_male, singer.Singer_ID, concert.concert_id, concert.theme, concert.Stadium_ID, concert.Year, singer_in_concert.Singer_ID, singer_in_concert.concert_ID from singer, concert, singer_in_concert orde\n",
      "\n",
      "\u001b[2;31m💀 ERROR\u001b[0m Execution failed on sql 'Select singer.Song_name, singer.Name, singer.Country, singer.Song_release_year, singer.Age, singer.Is_male, singer.Singer_ID, concert.concert_id, concert.theme, concert.Stadium_ID, concert.Year, singer_in_concert.Singer_ID, singer_in_concert.concert_ID from singer, concert, singer_in_concert orde': no such column: singer_in_concert.Singer_ID\n",
      "\n",
      "\u001b[2;31m✘\u001b[0m 0.013077 Select singer.Song_name, singer.Name, singer.Country, singer.Song_release_year, singer.Age, singer.Is_male, singer.Singer_ID, concert.concert_id, concert.theme, concert.Stadium_ID, concert.Year, singer_in_concert.Singer_ID, singer_in_concert.concert_ID from singer, concert, singer_in_concert wher\n",
      "\n",
      "\u001b[2;31m💀 ERROR\u001b[0m Execution failed on sql 'Select singer.Song_name, singer.Name, singer.Country, singer.Song_release_year, singer.Age, singer.Is_male, singer.Singer_ID, concert.concert_id, concert.theme, concert.Stadium_ID, concert.Year, singer_in_concert.Singer_ID, singer_in_concert.concert_ID from singer, concert, singer_in_concert wher': no such column: singer_in_concert.Singer_ID\n",
      "\n",
      "\u001b[2;31m✘\u001b[0m 0.006835 Select singer.Song_name, singer.Name, singer.Country, singer.Song_release_year from singer inner join concert_attendees on singer.Singer_id = concert_attendees.Singer_id inner join concert on concert_attendees.concert_id = concert.Concert_id where concert.Theme = 'rock' and concert.Year = 2005 \n",
      "\n",
      "\u001b[2;31m💀 ERROR\u001b[0m Execution failed on sql 'Select singer.Song_name, singer.Name, singer.Country, singer.Song_release_year from singer inner join concert_attendees on singer.Singer_id = concert_attendees.Singer_id inner join concert on concert_attendees.concert_id = concert.Concert_id where concert.Theme = 'rock' and concert.Year = 2005 ': no such table: concert_attendees\n",
      "\n",
      "\u001b[2;31m✘\u001b[0m 0.003174 Select singer.Song_name, singer.Name, singer.Country, singer.Song_release_year from singer inner join concert_attendees on singer.singer_id = concert_attendees.singer_id inner join concert on concert_attendees.concert_id = concert.concert_id Where ships.ships = '737' order by 3 DESC\n",
      "\n",
      "\u001b[2;31m💀 ERROR\u001b[0m Execution failed on sql 'Select singer.Song_name, singer.Name, singer.Country, singer.Song_release_year from singer inner join concert_attendees on singer.singer_id = concert_attendees.singer_id inner join concert on concert_attendees.concert_id = concert.concert_id Where ships.ships = '737' order by 3 DESC': no such table: concert_attendees\n",
      "\n",
      "\u001b[2;31m✘\u001b[0m 0.001756 Select singer_name from singer inner join concert on concert_ID = concert.singer_ID inner join singer_in_concert on singer.ID = singer_in_concert.singer_ID inner join singer2 on singer2.ID = singer3.singer_ID and singer2.Age > singer2.Age and singer3.Age > singer3.Age order by singer2.Age asc\n",
      "\n",
      "\u001b[2;31m💀 ERROR\u001b[0m Execution failed on sql 'Select singer_name from singer inner join concert on concert_ID = concert.singer_ID inner join singer_in_concert on singer.ID = singer_in_concert.singer_ID inner join singer2 on singer2.ID = singer3.singer_ID and singer2.Age > singer2.Age and singer3.Age > singer3.Age order by singer2.Age asc': no such table: singer2\n",
      "\n",
      "\u001b[2;31m✘\u001b[0m 0.001516 Select singer_name, singer_country, singer_age from singer_in_concert inner join singer on singer_in_concert.singer_id=singer.singer_id inner join concert on singer_in_concert.concert_id=concert.concert_id group by singer_in_concert.concert_id order by singer.age DESC\n",
      "\n",
      "\u001b[2;31m💀 ERROR\u001b[0m Execution failed on sql 'Select singer_name, singer_country, singer_age from singer_in_concert inner join singer on singer_in_concert.singer_id=singer.singer_id inner join concert on singer_in_concert.concert_id=concert.concert_id group by singer_in_concert.concert_id order by singer.age DESC': no such column: singer_name\n",
      "\n",
      "\u001b[2;31m✘\u001b[0m 0.001095 Select singer_name, singer_country, singer_age from singer join concert on singer.Singer_ID = concert.Singer_ID join singer_in_concert on concert.Concert_ID = singer_in_concert.Concert_ID join stadium on concert.Stadium_ID = stadium.Stadium_ID where concert.Theme = 'Hit' order by singer_age desc\n",
      "\n",
      "\u001b[2;31m💀 ERROR\u001b[0m Execution failed on sql 'Select singer_name, singer_country, singer_age from singer join concert on singer.Singer_ID = concert.Singer_ID join singer_in_concert on concert.Concert_ID = singer_in_concert.Concert_ID join stadium on concert.Stadium_ID = stadium.Stadium_ID where concert.Theme = 'Hit' order by singer_age desc': no such column: singer_name\n",
      "\n",
      "\u001b[2;31m✘\u001b[0m 0.000803 Select singer.Song_name, singer.Name, singer.Country, singer.Song_release_year from singer inner join concert_attendees on singer.Singer_id = concert_attendees.Singer_id inner join concert on concert_attendees.concert_id = concert.Concert_id where concert.Theme = 'rock' and concert.year = '2017' order by singer.age desc limit \n",
      "\n",
      "\u001b[2;31m💀 ERROR\u001b[0m Execution failed on sql 'Select singer.Song_name, singer.Name, singer.Country, singer.Song_release_year from singer inner join concert_attendees on singer.Singer_id = concert_attendees.Singer_id inner join concert on concert_attendees.concert_id = concert.Concert_id where concert.Theme = 'rock' and concert.year = '2017' order by singer.age desc limit ': incomplete input\n",
      "\n",
      "\u001b[2;31m✘\u001b[0m 0.000734 Select singer.Song_name, singer.Name, singer.Country, singer.Song_release_year from singer inner join concert_attendees on singer.Singer_id = concert_attendees.Singer_id inner join concert on concert_attendees.concert_id = concert.concert_id where concert.Theme = 'Blues' and concert.year = '2002' order by singer.Age desc limit\n",
      "\n",
      "\u001b[2;31m💀 ERROR\u001b[0m Execution failed on sql 'Select singer.Song_name, singer.Name, singer.Country, singer.Song_release_year from singer inner join concert_attendees on singer.Singer_id = concert_attendees.Singer_id inner join concert on concert_attendees.concert_id = concert.concert_id where concert.Theme = 'Blues' and concert.year = '2002' order by singer.Age desc limit': incomplete input\n",
      "\n",
      "\u001b[2;31m✘\u001b[0m 0.000147 Select singer_name from singer inner join concert on concert_ID = concert.singer_ID inner join singer_in_concert on singer.ID = singer_in_concert.singer_ID inner join singer2 on singer2.ID = singer3.singer_ID and singer2.Name = 'DAVID BUCKLEY' and singer.Country = 'USA' group by singer.Name order by singer.Age desc limit 3\n",
      "\n",
      "\u001b[2;31m💀 ERROR\u001b[0m Execution failed on sql 'Select singer_name from singer inner join concert on concert_ID = concert.singer_ID inner join singer_in_concert on singer.ID = singer_in_concert.singer_ID inner join singer2 on singer2.ID = singer3.singer_ID and singer2.Name = 'DAVID BUCKLEY' and singer.Country = 'USA' group by singer.Name order by singer.Age desc limit 3': no such table: singer2\n",
      "\n",
      "\u001b[2;31m✘\u001b[0m 0.000002 Select singer_name, singer_country, singer_age from singer_in_concert inner join singer on singer_in_concert.singer_id=singer.singer_id inner join concert on singer_in_concert.concert_id=concert.concert_id group by singer_in_concert.concert_id order by singer.age asc limit 50 offset 450\n",
      "\n",
      "\u001b[2;31m💀 ERROR\u001b[0m Execution failed on sql 'Select singer_name, singer_country, singer_age from singer_in_concert inner join singer on singer_in_concert.singer_id=singer.singer_id inner join concert on singer_in_concert.concert_id=concert.concert_id group by singer_in_concert.concert_id order by singer.age asc limit 50 offset 450': no such column: singer_name\n",
      "\n",
      "\u001b[2;31m✘\u001b[0m 0.000000 Select singer.Song_name, singer.Name, singer.Country, singer.Song_release_year from singer inner join concert_attendees on singer.Singer_id = concert_attendees.Singer_id inner join concert on concert_attendees.concert_id = concert.Concert_id where concert.Theme = 'rock' and concert.Year > '2016' order by singer.Age DESC EXC\n",
      "\n",
      "\u001b[2;31m💀 ERROR\u001b[0m Execution failed on sql 'Select singer.Song_name, singer.Name, singer.Country, singer.Song_release_year from singer inner join concert_attendees on singer.Singer_id = concert_attendees.Singer_id inner join concert on concert_attendees.concert_id = concert.Concert_id where concert.Theme = 'rock' and concert.Year > '2016' order by singer.Age DESC EXC': near \"EXC\": syntax error\n",
      "\n"
     ]
    }
   ],
   "source": [
    "show_posterior_tables(x, p)"
   ]
  },
  {
   "cell_type": "markdown",
   "id": "91570990",
   "metadata": {},
   "source": [
    "### Approximate Minimum Bayes Risk Decoding"
   ]
  },
  {
   "cell_type": "code",
   "execution_count": 100,
   "id": "8d3fed30",
   "metadata": {},
   "outputs": [
    {
     "data": {
      "text/plain": [
       "'SELECT name ,  country ,  age FROM singer ORDER BY age DESC'"
      ]
     },
     "execution_count": 100,
     "metadata": {},
     "output_type": "execute_result"
    }
   ],
   "source": [
    "x.gold_sql"
   ]
  },
  {
   "cell_type": "code",
   "execution_count": 111,
   "id": "b9296bbb",
   "metadata": {},
   "outputs": [
    {
     "name": "stdout",
     "output_type": "stream",
     "text": [
      "\n",
      "You are a coding assistant helping an analyst answer questions over business data in SQL.\n",
      "More specifically, the analyst provides you a database schema\n",
      "(tables in the database along with their column names and types)\n",
      "and asks a question about the data that can be solved by issuing a SQL query to the database.\n",
      "In response, you write the SQL statement that answers the question.\n",
      "You do not provide any commentary or explanation of what the code does,\n",
      "just the SQL statement ending in a semicolon.\n",
      "\n",
      "Here is a database schema:\n",
      "\n",
      "stadium\n",
      "* Stadium_ID (number): stadium id\n",
      "* Location (text): location\n",
      "* Name (text): name\n",
      "* Capacity (number): capacity\n",
      "* Highest (number): highest\n",
      "* Lowest (number): lowest\n",
      "* Average (number): average\n",
      "\n",
      "singer\n",
      "* Singer_ID (number): singer id\n",
      "* Name (text): name\n",
      "* Country (text): country\n",
      "* Song_Name (text): song name\n",
      "* Song_release_year (text): song release year\n",
      "* Age (number): age\n",
      "* Is_male (others): is male\n",
      "\n",
      "concert\n",
      "* concert_ID (number): concert id\n",
      "* concert_Name (text): concert name\n",
      "* Theme (text): theme\n",
      "* Stadium_ID (text): stadium id\n",
      "* Year (text): year\n",
      "\n",
      "singer_in_concert\n",
      "* concert_ID (number): concert id\n",
      "* Singer_ID (text): singer id\n",
      "\n",
      "Please write me a SQL statement that answers the following question: Show name, country, age for all singers ordered by age from the oldest to the youngest.\n",
      "\n",
      "Remember, DO NOT provide any commentary or explanation of what the code does, just the SQL statement ending in a semicolon.\n",
      "\n"
     ]
    }
   ],
   "source": [
    "print(x.describe())"
   ]
  },
  {
   "cell_type": "code",
   "execution_count": 101,
   "id": "405806da",
   "metadata": {},
   "outputs": [],
   "source": [
    "def EVAL(x, y1, y2):\n",
    "    if y1.endswith(EOS):\n",
    "        y1 = y1[:-1]\n",
    "    if y2.endswith(EOS):\n",
    "        y2 = y2[:-1]\n",
    "    try:\n",
    "        return x.interface.evaluate(y1, y2, x.db_name)[0]\n",
    "    except Exception:\n",
    "        #        print(e)\n",
    "        return False"
   ]
  },
  {
   "cell_type": "code",
   "execution_count": 102,
   "id": "a1a17f31",
   "metadata": {},
   "outputs": [],
   "source": [
    "def risk(x, candidate, particles):\n",
    "    return sum(p * EVAL(x, candidate, y) for y, p in particles[0].posterior.items())"
   ]
  },
  {
   "cell_type": "code",
   "execution_count": 108,
   "id": "633aae3d",
   "metadata": {},
   "outputs": [],
   "source": [
    "def show_mbr_tables(x, particles):\n",
    "    display(HTML(f'<h3>{x.text}</h3>'))\n",
    "    risks = {\n",
    "        candidate: risk(x, candidate, particles) for candidate in particles[0].posterior\n",
    "    }\n",
    "    for candidate in sorted(risks, key=risks.__getitem__, reverse=True):\n",
    "        print(\n",
    "            colors.mark(\n",
    "                x.evaluate(candidate[:-1] if candidate.endswith(EOS) else candidate)\n",
    "            ),\n",
    "            f'{risks[candidate]:f}',\n",
    "            (colors.dark.magenta if risks[candidate] == 0 else colors.light.magenta)\n",
    "            % candidate,\n",
    "        )\n",
    "        try:\n",
    "            display(x.run_query(candidate[:-1] if candidate.endswith(EOS) else candidate))\n",
    "        except Exception as e:\n",
    "            print()\n",
    "            print(colors.dark.red % '💀 ERROR', e)\n",
    "            print()"
   ]
  },
  {
   "cell_type": "code",
   "execution_count": 109,
   "id": "0d123ac0",
   "metadata": {},
   "outputs": [
    {
     "data": {
      "text/html": [
       "<h3>Show name, country, age for all singers ordered by age from the oldest to the youngest.</h3>"
      ],
      "text/plain": [
       "<IPython.core.display.HTML object>"
      ]
     },
     "metadata": {},
     "output_type": "display_data"
    },
    {
     "name": "stdout",
     "output_type": "stream",
     "text": [
      "\u001b[2;31m✘\u001b[0m 0.000000 \u001b[2;35mSelect singer.Song_name, singer.Name, singer.Country, singer.Song_release_year from singer inner join concert_attendees on singer.singer_id = concert_attendees.singer_id inner join concert on concert_attendees.concert_id = concert.concert_id Where ships.ships = '737' and spacecraft.planet='Earth' and crew.ships = '73\u001b[0m\n",
      "\n",
      "\u001b[2;31m💀 ERROR\u001b[0m Execution failed on sql 'Select singer.Song_name, singer.Name, singer.Country, singer.Song_release_year from singer inner join concert_attendees on singer.singer_id = concert_attendees.singer_id inner join concert on concert_attendees.concert_id = concert.concert_id Where ships.ships = '737' and spacecraft.planet='Earth' and crew.ships = '73': unrecognized token: \"'73\"\n",
      "\n",
      "\u001b[2;31m✘\u001b[0m 0.000000 \u001b[2;35mSelect singer_name from singer inner join concert on concert_ID = concert.singer_ID▪\u001b[0m\n",
      "\n",
      "\u001b[2;31m💀 ERROR\u001b[0m Execution failed on sql 'Select singer_name from singer inner join concert on concert_ID = concert.singer_ID': no such column: singer_name\n",
      "\n",
      "\u001b[2;31m✘\u001b[0m 0.000000 \u001b[2;35mSelect singer_name, singer_country, singer_age from singer_in_concert inner join singer on singer_in_concert.singer_id = singer.singer_id▪\u001b[0m\n",
      "\n",
      "\u001b[2;31m💀 ERROR\u001b[0m Execution failed on sql 'Select singer_name, singer_country, singer_age from singer_in_concert inner join singer on singer_in_concert.singer_id = singer.singer_id': no such column: singer_name\n",
      "\n",
      "\u001b[2;31m✘\u001b[0m 0.000000 \u001b[2;35mSelect singer_name, singer_country, singer_age from singer join concert on singer.Singer_ID = concert.Singer_ID join singer_in_concert on concert.Concert_ID = singer_in_concert.Concert_ID join stadium on concert.Stadium_ID = stadium.Stadium_ID where concert.Theme = 'Rock' and stadium.Highest > 20000 and concert\u001b[0m\n",
      "\n",
      "\u001b[2;31m💀 ERROR\u001b[0m Execution failed on sql 'Select singer_name, singer_country, singer_age from singer join concert on singer.Singer_ID = concert.Singer_ID join singer_in_concert on concert.Concert_ID = singer_in_concert.Concert_ID join stadium on concert.Stadium_ID = stadium.Stadium_ID where concert.Theme = 'Rock' and stadium.Highest > 20000 and concert': no such column: singer_name\n",
      "\n",
      "\u001b[2;31m✘\u001b[0m 0.000000 \u001b[2;35mSelect singer.name, singer.country, singer.age FROM singer, concert, singer_and_concert WHERE singer.country = 'USA' AND singer.song_release_year > 1980 AND singer_in_concert.singer_ID = singer.Singer_ID AND singer_in_concert.concert_ID = concert.concert_ID▪\u001b[0m\n",
      "\n",
      "\u001b[2;31m💀 ERROR\u001b[0m Execution failed on sql 'Select singer.name, singer.country, singer.age FROM singer, concert, singer_and_concert WHERE singer.country = 'USA' AND singer.song_release_year > 1980 AND singer_in_concert.singer_ID = singer.Singer_ID AND singer_in_concert.concert_ID = concert.concert_ID': no such table: singer_and_concert\n",
      "\n",
      "\u001b[2;31m✘\u001b[0m 0.000000 \u001b[2;35mSelect singer_name, singer_country, singer_age from singer join concert on singer.Singer_ID = concert.Singer_ID join singer_in_concert on concert.Concert_ID = singer_in_concert.Concert_ID join stadium on concert.Stadium_ID = stadium.Stadium_ID where concert.Theme = 'Pop' AND stadium.Location = 'Taiwan' ORDER BY singer.Age\u001b[0m\n",
      "\n",
      "\u001b[2;31m💀 ERROR\u001b[0m Execution failed on sql 'Select singer_name, singer_country, singer_age from singer join concert on singer.Singer_ID = concert.Singer_ID join singer_in_concert on concert.Concert_ID = singer_in_concert.Concert_ID join stadium on concert.Stadium_ID = stadium.Stadium_ID where concert.Theme = 'Pop' AND stadium.Location = 'Taiwan' ORDER BY singer.Age': no such column: singer_name\n",
      "\n",
      "\u001b[2;31m✘\u001b[0m 0.000000 \u001b[2;35mSelect singer_id, singer_name, singer_country, singer_age From singer Order By singer_age Desc▪\u001b[0m\n",
      "\n",
      "\u001b[2;31m💀 ERROR\u001b[0m Execution failed on sql 'Select singer_id, singer_name, singer_country, singer_age From singer Order By singer_age Desc': no such column: singer_name\n",
      "\n",
      "\u001b[2;31m✘\u001b[0m 0.000000 \u001b[2;35mSelect singer_name, singer_country, singer_age from singer join concert on singer.Singer_ID = concert.Singer_ID join singer_in_concert on concert.Concert_ID = singer_in_concert.Concert_ID join stadium on concert.Stadium_ID = stadium▪\u001b[0m\n",
      "\n",
      "\u001b[2;31m💀 ERROR\u001b[0m Execution failed on sql 'Select singer_name, singer_country, singer_age from singer join concert on singer.Singer_ID = concert.Singer_ID join singer_in_concert on concert.Concert_ID = singer_in_concert.Concert_ID join stadium on concert.Stadium_ID = stadium': no such column: singer_name\n",
      "\n",
      "\u001b[2;31m✘\u001b[0m 0.000000 \u001b[2;35mSelect singer_name, singer_country, singer_age from singer_in_concert inner join singer on singer_in_concert.singer_id=singer.singer_id inner join concert on singer_in_concert.concert_id=concert.concert_id group by singer_in_concert.concert_id order by singer.age DESC▪\u001b[0m\n",
      "\n",
      "\u001b[2;31m💀 ERROR\u001b[0m Execution failed on sql 'Select singer_name, singer_country, singer_age from singer_in_concert inner join singer on singer_in_concert.singer_id=singer.singer_id inner join concert on singer_in_concert.concert_id=concert.concert_id group by singer_in_concert.concert_id order by singer.age DESC': no such column: singer_name\n",
      "\n",
      "\u001b[2;31m✘\u001b[0m 0.000000 \u001b[2;35mSelect singer_name, singer_country, singer_age from singer join concert on singer.Singer_ID = concert.Singer_ID join singer_in_concert on concert.Concert_ID = singer_in_concert.Concert_ID join stadium on concert.Stadium_ID = stadium.Stadium_ID where concert.Theme = 'Hit' order by singer_age desc▪\u001b[0m\n",
      "\n",
      "\u001b[2;31m💀 ERROR\u001b[0m Execution failed on sql 'Select singer_name, singer_country, singer_age from singer join concert on singer.Singer_ID = concert.Singer_ID join singer_in_concert on concert.Concert_ID = singer_in_concert.Concert_ID join stadium on concert.Stadium_ID = stadium.Stadium_ID where concert.Theme = 'Hit' order by singer_age desc': no such column: singer_name\n",
      "\n",
      "\u001b[2;31m✘\u001b[0m 0.000000 \u001b[2;35mSelect singer.name, singer.country, singer.age, sum(age) as age from singer, concert, singer_in_concert, concert WHERE singer.Singer_ID = singer_in_concert.Singer_ID and singer_in_concert.concert_ID = concert.concert_ID and concert.concert_ID = singer_in_concert.concert_ID and concert.Year = '1986'\u001b[0m\n",
      "\n",
      "\u001b[2;31m💀 ERROR\u001b[0m Execution failed on sql 'Select singer.name, singer.country, singer.age, sum(age) as age from singer, concert, singer_in_concert, concert WHERE singer.Singer_ID = singer_in_concert.Singer_ID and singer_in_concert.concert_ID = concert.concert_ID and concert.concert_ID = singer_in_concert.concert_ID and concert.Year = '1986'': ambiguous column name: concert.concert_ID\n",
      "\n",
      "\u001b[2;31m✘\u001b[0m 0.000000 \u001b[2;35mSelect singer_name from singer inner join concert on concert_ID = concert.singer_ID inner join singer_in_concert on singer.ID = singer_in_concert.singer_ID inner join singer2 on singer2.ID = singer3.singer_ID and singer2.Age > singer2.Age and singer3.Age > singer3.Age order by singer2.Age asc▪\u001b[0m\n",
      "\n",
      "\u001b[2;31m💀 ERROR\u001b[0m Execution failed on sql 'Select singer_name from singer inner join concert on concert_ID = concert.singer_ID inner join singer_in_concert on singer.ID = singer_in_concert.singer_ID inner join singer2 on singer2.ID = singer3.singer_ID and singer2.Age > singer2.Age and singer3.Age > singer3.Age order by singer2.Age asc': no such table: singer2\n",
      "\n",
      "\u001b[2;31m✘\u001b[0m 0.000000 \u001b[2;35mSelect singer_in_concert.Singer_ID, singer.Name, singer.Country, singer.Age, singer.is_male, concert.concert_Name, concert.Theme, concert.Stadium_ID, concert.Year, concert.concert_ID from singer_in_concert join singer on singer_in_concert.Singer_ID=singer.Singer_ID join concert on singer_in_concert.con\u001b[0m\n",
      "\n",
      "\u001b[2;31m💀 ERROR\u001b[0m Execution failed on sql 'Select singer_in_concert.Singer_ID, singer.Name, singer.Country, singer.Age, singer.is_male, concert.concert_Name, concert.Theme, concert.Stadium_ID, concert.Year, concert.concert_ID from singer_in_concert join singer on singer_in_concert.Singer_ID=singer.Singer_ID join concert on singer_in_concert.con': no such column: singer_in_concert.con\n",
      "\n",
      "\u001b[2;31m✘\u001b[0m 0.000000 \u001b[2;35mSelect singer.Song_name, singer.Name, singer.Country, singer.Song_release_year from singer inner join concert_attendees on singer.Singer_ID = concert_attendees.Singer_ID order by singer.Age ▪\u001b[0m\n",
      "\n",
      "\u001b[2;31m💀 ERROR\u001b[0m Execution failed on sql 'Select singer.Song_name, singer.Name, singer.Country, singer.Song_release_year from singer inner join concert_attendees on singer.Singer_ID = concert_attendees.Singer_ID order by singer.Age ': no such table: concert_attendees\n",
      "\n",
      "\u001b[2;31m✘\u001b[0m 0.000000 \u001b[2;35mSelect singer.Song_name, singer.Name, singer.Country, singer.Song_release_year, singer.Age, singer.Is_male, singer.Singer_ID, concert.concert_id, concert.theme, concert.Stadium_ID, concert.Year, singer_in_concert.singer_id, singer_in_concert.concert_id, singer_in_concert.singer_id\u001b[0m\n",
      "\n",
      "\u001b[2;31m💀 ERROR\u001b[0m Execution failed on sql 'Select singer.Song_name, singer.Name, singer.Country, singer.Song_release_year, singer.Age, singer.Is_male, singer.Singer_ID, concert.concert_id, concert.theme, concert.Stadium_ID, concert.Year, singer_in_concert.singer_id, singer_in_concert.concert_id, singer_in_concert.singer_id': no such column: singer.Song_name\n",
      "\n",
      "\u001b[2;31m✘\u001b[0m 0.000000 \u001b[2;35mSelect singer.Song_name, singer.Name, singer.Country, singer.Song_release_year, singer.Age, singer.Is_male, singer.Singer_ID, concert.concert_id, concert.theme, concert.Stadium_ID, concert.Year, singer_in_concert.Singer_ID, singer_in_concert.concert_ID from singer, concert, singer_in_concert order\u001b[0m\n",
      "\n",
      "\u001b[2;31m💀 ERROR\u001b[0m Execution failed on sql 'Select singer.Song_name, singer.Name, singer.Country, singer.Song_release_year, singer.Age, singer.Is_male, singer.Singer_ID, concert.concert_id, concert.theme, concert.Stadium_ID, concert.Year, singer_in_concert.Singer_ID, singer_in_concert.concert_ID from singer, concert, singer_in_concert order': incomplete input\n",
      "\n",
      "\u001b[2;31m✘\u001b[0m 0.000000 \u001b[2;35mSelect singer.Song_name, singer.Name, singer.Country, singer.Song_release_year, singer.Age, singer.Is_male, singer.Singer_ID, concert.concert_id, concert.theme, concert.Stadium_ID, concert.Year, singer_in_concert.Singer_ID, singer_in_concert.concert_ID from singer, concert, singer_in_concert where\u001b[0m\n",
      "\n",
      "\u001b[2;31m💀 ERROR\u001b[0m Execution failed on sql 'Select singer.Song_name, singer.Name, singer.Country, singer.Song_release_year, singer.Age, singer.Is_male, singer.Singer_ID, concert.concert_id, concert.theme, concert.Stadium_ID, concert.Year, singer_in_concert.Singer_ID, singer_in_concert.concert_ID from singer, concert, singer_in_concert where': incomplete input\n",
      "\n",
      "\u001b[2;31m✘\u001b[0m 0.000000 \u001b[2;35mSelect singer.Song_name, singer.Name, singer.Country, singer.Song_release_year from singer inner join concert_attendees on singer.singer_id = concert_attendees.singer_id inner join concert on concert_attendees.concert_id = concert.concert_id Where ships.ships = '737' order by 3 DESC▪\u001b[0m\n",
      "\n",
      "\u001b[2;31m💀 ERROR\u001b[0m Execution failed on sql 'Select singer.Song_name, singer.Name, singer.Country, singer.Song_release_year from singer inner join concert_attendees on singer.singer_id = concert_attendees.singer_id inner join concert on concert_attendees.concert_id = concert.concert_id Where ships.ships = '737' order by 3 DESC': no such table: concert_attendees\n",
      "\n",
      "\u001b[2;31m✘\u001b[0m 0.000000 \u001b[2;35mSelect singer_name, singer_country, singer_age from singer_in_concert inner join singer on singer_in_concert.singer_id=singer.singer_id inner join concert on singer_in_concert.concert_id=concert.concert_id group by singer_in_concert.concert_id order by singer.age asc limit 50 offset 450▪\u001b[0m\n",
      "\n",
      "\u001b[2;31m💀 ERROR\u001b[0m Execution failed on sql 'Select singer_name, singer_country, singer_age from singer_in_concert inner join singer on singer_in_concert.singer_id=singer.singer_id inner join concert on singer_in_concert.concert_id=concert.concert_id group by singer_in_concert.concert_id order by singer.age asc limit 50 offset 450': no such column: singer_name\n",
      "\n",
      "\u001b[2;31m✘\u001b[0m 0.000000 \u001b[2;35mSelect singer_in_concert.Singer_ID, singer.Name, singer.Country, singer.Age, singer.is_male, concert.concert_Name, concert.Theme, concert.Stadium_ID, concert.Year, concert.concert_ID from singer_in_concert join singer on singer_in_concert.Singer_ID=singer.Singer_ID join concert on concert.concert_ID=sing\u001b[0m\n",
      "\n",
      "\u001b[2;31m💀 ERROR\u001b[0m Execution failed on sql 'Select singer_in_concert.Singer_ID, singer.Name, singer.Country, singer.Age, singer.is_male, concert.concert_Name, concert.Theme, concert.Stadium_ID, concert.Year, concert.concert_ID from singer_in_concert join singer on singer_in_concert.Singer_ID=singer.Singer_ID join concert on concert.concert_ID=sing': no such column: sing\n",
      "\n",
      "\u001b[2;31m✘\u001b[0m 0.000000 \u001b[2;35mSelect singer_name from singer inner join concert on concert_ID = concert.singer_ID inner join singer_in_concert on singer.ID = singer_in_concert.singer_ID inner join singer2 on singer2.ID = singer3.singer_ID and singer2.Name = 'DAVID BUCKLEY' and singer.Country = singer2.Country and singer.song_release_year = singer2.song_\u001b[0m\n",
      "\n",
      "\u001b[2;31m💀 ERROR\u001b[0m Execution failed on sql 'Select singer_name from singer inner join concert on concert_ID = concert.singer_ID inner join singer_in_concert on singer.ID = singer_in_concert.singer_ID inner join singer2 on singer2.ID = singer3.singer_ID and singer2.Name = 'DAVID BUCKLEY' and singer.Country = singer2.Country and singer.song_release_year = singer2.song_': no such table: singer2\n",
      "\n",
      "\u001b[2;31m✘\u001b[0m 0.000000 \u001b[2;35mSelect singer.Song_name, singer.Name, singer.Country, singer.Song_release_year from singer inner join concert_attendees on singer.Singer_id = concert_attendees.Singer_id inner join concert on concert_attendees.concert_id = concert.Concert_id where concert.Theme = 'rock' and concert.Year = 2005 ▪\u001b[0m\n",
      "\n",
      "\u001b[2;31m💀 ERROR\u001b[0m Execution failed on sql 'Select singer.Song_name, singer.Name, singer.Country, singer.Song_release_year from singer inner join concert_attendees on singer.Singer_id = concert_attendees.Singer_id inner join concert on concert_attendees.concert_id = concert.Concert_id where concert.Theme = 'rock' and concert.Year = 2005 ': no such table: concert_attendees\n",
      "\n",
      "\u001b[2;31m✘\u001b[0m 0.000000 \u001b[2;35mSelect singer.Song_name, singer.Name, singer.Country, singer.Song_release_year from singer inner join concert_attendees on singer.Singer_id = concert_attendees.Singer_id inner join concert on concert_attendees.concert_id = concert.Concert_id where concert.Theme = 'rock' and concert.year = '2017' order by singer.age desc limit 5\u001b[0m\n",
      "\n",
      "\u001b[2;31m💀 ERROR\u001b[0m Execution failed on sql 'Select singer.Song_name, singer.Name, singer.Country, singer.Song_release_year from singer inner join concert_attendees on singer.Singer_id = concert_attendees.Singer_id inner join concert on concert_attendees.concert_id = concert.Concert_id where concert.Theme = 'rock' and concert.year = '2017' order by singer.age desc limit 5': no such table: concert_attendees\n",
      "\n",
      "\u001b[2;31m✘\u001b[0m 0.000000 \u001b[2;35mSelect singer_name from singer inner join concert on concert_ID = concert.singer_ID inner join singer_in_concert on singer.ID = singer_in_concert.singer_ID inner join singer2 on singer2.ID = singer3.singer_ID and singer2.Name = 'DAVID BUCKLEY' and singer.Country = 'USA' group by singer.Name order by singer.Age desc limit 30\u001b[0m\n",
      "\n",
      "\u001b[2;31m💀 ERROR\u001b[0m Execution failed on sql 'Select singer_name from singer inner join concert on concert_ID = concert.singer_ID inner join singer_in_concert on singer.ID = singer_in_concert.singer_ID inner join singer2 on singer2.ID = singer3.singer_ID and singer2.Name = 'DAVID BUCKLEY' and singer.Country = 'USA' group by singer.Name order by singer.Age desc limit 30': no such table: singer2\n",
      "\n",
      "\u001b[2;31m✘\u001b[0m 0.000000 \u001b[2;35mSelect singer_in_concert.Singer_ID, singer.Name, singer.Country, singer.Age, singer.is_male, concert.concert_Name, concert.Theme, concert.Stadium_ID, concert.Year, concert.concert_ID from singer_in_concert join singer on singer_in_concert.Singer_ID= singer.Singer_ID join concert on singer_in_concert.concert\u001b[0m\n",
      "\n",
      "\u001b[2;31m💀 ERROR\u001b[0m Execution failed on sql 'Select singer_in_concert.Singer_ID, singer.Name, singer.Country, singer.Age, singer.is_male, concert.concert_Name, concert.Theme, concert.Stadium_ID, concert.Year, concert.concert_ID from singer_in_concert join singer on singer_in_concert.Singer_ID= singer.Singer_ID join concert on singer_in_concert.concert': no such column: singer_in_concert.concert\n",
      "\n",
      "\u001b[2;31m✘\u001b[0m 0.000000 \u001b[2;35mSelect singer.Song_name, singer.Name, singer.Country, singer.Song_release_year from singer inner join concert_attendees on singer.Singer_id = concert_attendees.Singer_id inner join concert on concert_attendees.concert_id = concert.concert_id where concert.Theme = 'Blues' and concert.year = '2002' order by singer.Age desc limit \u001b[0m\n",
      "\n",
      "\u001b[2;31m💀 ERROR\u001b[0m Execution failed on sql 'Select singer.Song_name, singer.Name, singer.Country, singer.Song_release_year from singer inner join concert_attendees on singer.Singer_id = concert_attendees.Singer_id inner join concert on concert_attendees.concert_id = concert.concert_id where concert.Theme = 'Blues' and concert.year = '2002' order by singer.Age desc limit ': incomplete input\n",
      "\n",
      "\u001b[2;31m✘\u001b[0m 0.000000 \u001b[2;35mSelect singer.Song_name, singer.Name, singer.Country, singer.Song_release_year from singer inner join concert_attendees on singer.Singer_id = concert_attendees.Singer_id inner join concert on concert_attendees.concert_id = concert.Concert_id where concert.Theme = 'rock' and concert.Year > '2016' order by singer.Age DESC EXCE\u001b[0m\n",
      "\n",
      "\u001b[2;31m💀 ERROR\u001b[0m Execution failed on sql 'Select singer.Song_name, singer.Name, singer.Country, singer.Song_release_year from singer inner join concert_attendees on singer.Singer_id = concert_attendees.Singer_id inner join concert on concert_attendees.concert_id = concert.Concert_id where concert.Theme = 'rock' and concert.Year > '2016' order by singer.Age DESC EXCE': near \"EXCE\": syntax error\n",
      "\n"
     ]
    }
   ],
   "source": [
    "show_mbr_tables(x, p)"
   ]
  },
  {
   "cell_type": "code",
   "execution_count": null,
   "id": "3cb2a641",
   "metadata": {},
   "outputs": [],
   "source": []
  },
  {
   "cell_type": "code",
   "execution_count": null,
   "id": "4cbb631a",
   "metadata": {},
   "outputs": [],
   "source": []
  },
  {
   "cell_type": "code",
   "execution_count": null,
   "id": "8ad14041",
   "metadata": {},
   "outputs": [],
   "source": []
  }
 ],
 "metadata": {
  "kernelspec": {
   "display_name": "Python 3 (ipykernel)",
   "language": "python",
   "name": "python3"
  },
  "language_info": {
   "codemirror_mode": {
    "name": "ipython",
    "version": 3
   },
   "file_extension": ".py",
   "mimetype": "text/x-python",
   "name": "python",
   "nbconvert_exporter": "python",
   "pygments_lexer": "ipython3",
   "version": "3.10.13"
  }
 },
 "nbformat": 4,
 "nbformat_minor": 5
}
