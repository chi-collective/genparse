{
 "cells": [
  {
   "cell_type": "code",
   "execution_count": 1,
   "id": "97f44124-d539-459d-92a5-e908cb9929e1",
   "metadata": {},
   "outputs": [],
   "source": [
    "%load_ext autoreload\n",
    "%autoreload 2"
   ]
  },
  {
   "cell_type": "code",
   "execution_count": 2,
   "id": "6a38267b-c1c5-4cc4-bbb6-5ffbd6eff7de",
   "metadata": {},
   "outputs": [],
   "source": [
    "from arsenal import colors\n",
    "from bench.spider.interface import SpiderInterface\n",
    "from IPython.display import HTML\n",
    "from genparse import EOS\n",
    "\n",
    "import nest_asyncio\n",
    "nest_asyncio.apply()"
   ]
  },
  {
   "cell_type": "code",
   "execution_count": 3,
   "id": "6762eb64-e9a2-41c7-ab09-b3ff3c5fb259",
   "metadata": {},
   "outputs": [],
   "source": [
    "spider = SpiderInterface()"
   ]
  },
  {
   "cell_type": "code",
   "execution_count": 4,
   "id": "2b211006-7d05-495b-8e45-c53b015f0216",
   "metadata": {},
   "outputs": [],
   "source": [
    "#for x in spider.dev_data[:2]:\n",
    "#    print()\n",
    "#    print(x.text)\n",
    "#    print(x.gold_sql)\n",
    "#    print(x.db_name)"
   ]
  },
  {
   "cell_type": "code",
   "execution_count": 5,
   "id": "aa99c672-c9f6-46bc-a425-ad5dbb6f0e79",
   "metadata": {},
   "outputs": [
    {
     "data": {
      "text/plain": [
       "<SpiderExample db='concert_singer', text='How many singers do we have?'>"
      ]
     },
     "execution_count": 5,
     "metadata": {},
     "output_type": "execute_result"
    }
   ],
   "source": [
    "x = spider.dev_data[0]\n",
    "assert x.evaluate(x.gold_sql)\n",
    "x"
   ]
  },
  {
   "cell_type": "code",
   "execution_count": 6,
   "id": "60bd72b7-ae8e-4eca-a124-6bd2582c6848",
   "metadata": {},
   "outputs": [
    {
     "data": {
      "text/plain": [
       "<SpiderExample db='concert_singer', text='What is the total number of singers?'>"
      ]
     },
     "execution_count": 6,
     "metadata": {},
     "output_type": "execute_result"
    }
   ],
   "source": [
    "x = spider.dev_data[1]\n",
    "assert x.evaluate('SELECT count(*) FROM singer')\n",
    "x"
   ]
  },
  {
   "cell_type": "code",
   "execution_count": 7,
   "id": "2fa38854",
   "metadata": {},
   "outputs": [
    {
     "data": {
      "text/html": [
       "<div>\n",
       "<style scoped>\n",
       "    .dataframe tbody tr th:only-of-type {\n",
       "        vertical-align: middle;\n",
       "    }\n",
       "\n",
       "    .dataframe tbody tr th {\n",
       "        vertical-align: top;\n",
       "    }\n",
       "\n",
       "    .dataframe thead th {\n",
       "        text-align: right;\n",
       "    }\n",
       "</style>\n",
       "<table border=\"1\" class=\"dataframe\">\n",
       "  <thead>\n",
       "    <tr style=\"text-align: right;\">\n",
       "      <th></th>\n",
       "      <th>count(*)</th>\n",
       "    </tr>\n",
       "  </thead>\n",
       "  <tbody>\n",
       "    <tr>\n",
       "      <th>0</th>\n",
       "      <td>6</td>\n",
       "    </tr>\n",
       "  </tbody>\n",
       "</table>\n",
       "</div>"
      ],
      "text/plain": [
       "   count(*)\n",
       "0         6"
      ]
     },
     "execution_count": 7,
     "metadata": {},
     "output_type": "execute_result"
    }
   ],
   "source": [
    "x.run_query('SELECT count(*) FROM singer')"
   ]
  },
  {
   "cell_type": "code",
   "execution_count": null,
   "id": "11484f4c",
   "metadata": {},
   "outputs": [],
   "source": []
  },
  {
   "cell_type": "code",
   "execution_count": 8,
   "id": "b709a74e-e1fd-4239-ac4b-206f953ded3e",
   "metadata": {},
   "outputs": [],
   "source": [
    "from pathlib import Path\n",
    "\n",
    "import bench.spider.evaluation as E\n",
    "from bench.spider.evaluation import (\n",
    "    #build_foreign_key_map_from_json,\n",
    "    build_valid_col_units,\n",
    "    rebuild_sql_val,\n",
    "    rebuild_sql_col,\n",
    "    eval_exec_match,\n",
    ")\n",
    "\n",
    "def evaluate(self, gold: str, pred: str, db_name: str):\n",
    "    \"\"\"Returns: bool, Optional[str]\n",
    "\n",
    "    On success (i.e., predicted execution result is the same as gold), returns `(True, None)`\n",
    "    On failure, returns `(False, reason)` where reason is one of the two cases:\n",
    "    * `invalid` if `pred` sql is not a well-formed sql statement that can be parsed by sqlite\n",
    "    * `mismatch` if `pred` is a well-formed sql but the execution result is different from that of the `gold`.\n",
    "    \"\"\"\n",
    "    db = self.db_path / db_name / (db_name + '.sqlite')\n",
    "    schema = E.Schema(E.get_schema(db))\n",
    "    g_sql = E.get_sql(schema, gold)\n",
    "\n",
    "    try:\n",
    "        p_sql = E.get_sql(schema, pred)\n",
    "    except Exception as e:\n",
    "        # sql is ill-formed (can't be parsed by sqlite engine)\n",
    "        print(colors.red % e.__class__.__name__, e, )\n",
    "\n",
    "        import traceback\n",
    "        traceback.print_exc()\n",
    "        \n",
    "        return False, 'invalid'\n",
    "\n",
    "    kmap = self.kmaps[db_name]\n",
    "    g_valid_col_units = build_valid_col_units(g_sql['from']['table_units'], schema)\n",
    "    g_sql = rebuild_sql_val(g_sql)\n",
    "    g_sql = rebuild_sql_col(g_valid_col_units, g_sql, kmap)\n",
    "    p_valid_col_units = build_valid_col_units(p_sql['from']['table_units'], schema)\n",
    "    p_sql = rebuild_sql_val(p_sql)\n",
    "    p_sql = rebuild_sql_col(p_valid_col_units, p_sql, kmap)\n",
    "\n",
    "    exec_match = eval_exec_match(db, pred, gold, p_sql, g_sql)\n",
    "    reason = None if exec_match else 'mismatch'\n",
    "\n",
    "    return exec_match, reason\n",
    "\n",
    "#spider.evaluator = evaluate"
   ]
  },
  {
   "cell_type": "code",
   "execution_count": 9,
   "id": "b2044d38-ed05-4bf9-8294-69a0f8388a92",
   "metadata": {},
   "outputs": [],
   "source": [
    "#x.interface.evaluator = evaluate"
   ]
  },
  {
   "cell_type": "code",
   "execution_count": 10,
   "id": "ff725aa3-aadc-49c0-af86-7e4e68b95c98",
   "metadata": {},
   "outputs": [],
   "source": [
    "x.interface.evaluator.evaluate = evaluate"
   ]
  },
  {
   "cell_type": "code",
   "execution_count": 11,
   "id": "afb85928-d061-4c6f-a6f1-07a60fd55272",
   "metadata": {},
   "outputs": [],
   "source": [
    "junk_sql = 'select count(*) from sangerz'"
   ]
  },
  {
   "cell_type": "code",
   "execution_count": 12,
   "id": "45e8e0bd-ba11-4f73-9d0c-306be55d3240",
   "metadata": {},
   "outputs": [
    {
     "name": "stdout",
     "output_type": "stream",
     "text": [
      "\u001b[0;31mKeyError\u001b[0m 'sangerz'\n"
     ]
    },
    {
     "name": "stderr",
     "output_type": "stream",
     "text": [
      "Traceback (most recent call last):\n",
      "  File \"/home/timv/tmp/ipykernel_257739/1033643670.py\", line 25, in evaluate\n",
      "    p_sql = E.get_sql(schema, pred)\n",
      "  File \"/home/timv/projects/genparse/bench/spider/process_sql.py\", line 618, in get_sql\n",
      "    _, sql = parse_sql(toks, 0, tables_with_alias, schema)\n",
      "  File \"/home/timv/projects/genparse/bench/spider/process_sql.py\", line 562, in parse_sql\n",
      "    from_end_idx, table_units, conds, default_tables = parse_from(\n",
      "  File \"/home/timv/projects/genparse/bench/spider/process_sql.py\", line 439, in parse_from\n",
      "    idx, table_unit, table_name = parse_table_unit(\n",
      "  File \"/home/timv/projects/genparse/bench/spider/process_sql.py\", line 289, in parse_table_unit\n",
      "    key = tables_with_alias[toks[idx]]\n",
      "KeyError: 'sangerz'\n"
     ]
    },
    {
     "data": {
      "text/plain": [
       "(False, 'invalid')"
      ]
     },
     "execution_count": 12,
     "metadata": {},
     "output_type": "execute_result"
    }
   ],
   "source": [
    "x.interface.evaluator.evaluate(x.interface.evaluator, gold = x.gold_sql, pred = junk_sql, db_name = x.db_name)"
   ]
  },
  {
   "cell_type": "code",
   "execution_count": 13,
   "id": "32fdf70d-7695-4506-a049-bb7f5297de34",
   "metadata": {},
   "outputs": [],
   "source": [
    "#x.db_schema.columns"
   ]
  },
  {
   "cell_type": "code",
   "execution_count": 14,
   "id": "08428768",
   "metadata": {},
   "outputs": [],
   "source": [
    "grammar_text = open('/home/timv/projects/genparse/benchmark/grammars/sql_case_insensitive.lark').read()"
   ]
  },
  {
   "cell_type": "code",
   "execution_count": 15,
   "id": "a425dba1",
   "metadata": {},
   "outputs": [],
   "source": [
    "from genparse.util import InferenceSetupVLLM, InferenceSetup"
   ]
  },
  {
   "cell_type": "code",
   "execution_count": 16,
   "id": "65ca1813",
   "metadata": {},
   "outputs": [
    {
     "name": "stdout",
     "output_type": "stream",
     "text": [
      "INFO 06-30 02:30:19 config.py:1214] Upcasting torch.bfloat16 to torch.float32.\n",
      "INFO 06-30 02:30:19 llm_engine.py:161] Initializing an LLM engine (v0.5.0.post1) with config: model='codellama/CodeLlama-7b-Instruct-hf', speculative_config=None, tokenizer='codellama/CodeLlama-7b-Instruct-hf', skip_tokenizer_init=False, tokenizer_mode=auto, revision=None, rope_scaling=None, rope_theta=None, tokenizer_revision=None, trust_remote_code=False, dtype=torch.float32, max_seq_len=4096, download_dir=None, load_format=LoadFormat.AUTO, tensor_parallel_size=1, disable_custom_all_reduce=False, quantization=None, enforce_eager=False, kv_cache_dtype=auto, quantization_param_path=None, device_config=cuda, decoding_config=DecodingConfig(guided_decoding_backend='outlines'), seed=0, served_model_name=codellama/CodeLlama-7b-Instruct-hf)\n",
      "INFO 06-30 02:30:20 selector.py:136] Cannot use FlashAttention-2 backend for dtype other than torch.float16 or torch.bfloat16.\n",
      "INFO 06-30 02:30:20 selector.py:51] Using XFormers backend.\n",
      "INFO 06-30 02:30:21 selector.py:136] Cannot use FlashAttention-2 backend for dtype other than torch.float16 or torch.bfloat16.\n",
      "INFO 06-30 02:30:21 selector.py:51] Using XFormers backend.\n",
      "INFO 06-30 02:30:21 weight_utils.py:218] Using model weights format ['*.safetensors']\n",
      "INFO 06-30 02:30:29 model_runner.py:160] Loading model weights took 25.1143 GB\n",
      "INFO 06-30 02:30:31 gpu_executor.py:83] # GPU blocks: 605, # CPU blocks: 256\n",
      "INFO 06-30 02:30:33 model_runner.py:889] Capturing the model for CUDA graphs. This may lead to unexpected consequences if the model is not static. To run the model in eager mode, set 'enforce_eager=True' or use '--enforce-eager' in the CLI.\n",
      "INFO 06-30 02:30:33 model_runner.py:893] CUDA graphs can take additional 1~3 GiB memory per GPU. If you are running out of memory, consider decreasing `gpu_memory_utilization` or enforcing eager mode. You can also reduce the `max_num_seqs` as needed to decrease memory usage.\n",
      "INFO 06-30 02:30:49 model_runner.py:965] Graph capturing finished in 16 secs.\n"
     ]
    }
   ],
   "source": [
    "#infer = InferenceSetup('codellama', grammar_text, proposal_name='character', guide_opts={'ignore': '\\s*'})\n",
    "infer = InferenceSetupVLLM('codellama', grammar_text, proposal_name='character', guide_opts={'ignore': r'\\s*'}, batch_size=50)"
   ]
  },
  {
   "cell_type": "code",
   "execution_count": 17,
   "id": "d4e98350",
   "metadata": {},
   "outputs": [
    {
     "data": {
      "text/plain": [
       "<SpiderExample db='concert_singer', text='Show name, country, age for all singers ordered by age from the oldest to the youngest.'>"
      ]
     },
     "execution_count": 17,
     "metadata": {},
     "output_type": "execute_result"
    }
   ],
   "source": [
    "x = spider.dev_data[2]\n",
    "x"
   ]
  },
  {
   "cell_type": "code",
   "execution_count": 20,
   "id": "933e8506",
   "metadata": {},
   "outputs": [],
   "source": [
    "p = infer(x.describe(), n_particles=50, method='smc-standard', max_tokens=100)"
   ]
  },
  {
   "cell_type": "code",
   "execution_count": 41,
   "id": "5e8719f2",
   "metadata": {},
   "outputs": [],
   "source": [
    "#infer.proposal.timer.compare()\n",
    "#infer.proposal.timer.plot_feature('t')"
   ]
  },
  {
   "cell_type": "code",
   "execution_count": 26,
   "id": "46cc14c2",
   "metadata": {},
   "outputs": [],
   "source": [
    "def show_posterior_tables(x, p):\n",
    "    display(HTML(f'<h3>{x.text}</h3>')) \n",
    "    for y, py in sorted(p.posterior.items(), key=lambda ab: -ab[1]):\n",
    "        y = y[:-1]  # remove EOS\n",
    "        print(f'{colors.mark(x.evaluate(y))} {py:-.6f} {y}')\n",
    "        try:\n",
    "            display(x.run_query(y))\n",
    "        except Exception as e:\n",
    "            print()\n",
    "            print(colors.dark.red % '💀 ERROR', e)\n",
    "            print()"
   ]
  },
  {
   "cell_type": "code",
   "execution_count": 27,
   "id": "9ca12ea8",
   "metadata": {},
   "outputs": [
    {
     "data": {
      "text/html": [
       "<h3>Show name, country, age for all singers ordered by age from the oldest to the youngest.</h3>"
      ],
      "text/plain": [
       "<IPython.core.display.HTML object>"
      ]
     },
     "metadata": {},
     "output_type": "display_data"
    },
    {
     "name": "stdout",
     "output_type": "stream",
     "text": [
      "\u001b[0;32m✔\u001b[0m 0.228059 SELECT DISTINCT Name, Country, Age FROM singer ORDER BY Age DESC\n"
     ]
    },
    {
     "data": {
      "text/html": [
       "<div>\n",
       "<style scoped>\n",
       "    .dataframe tbody tr th:only-of-type {\n",
       "        vertical-align: middle;\n",
       "    }\n",
       "\n",
       "    .dataframe tbody tr th {\n",
       "        vertical-align: top;\n",
       "    }\n",
       "\n",
       "    .dataframe thead th {\n",
       "        text-align: right;\n",
       "    }\n",
       "</style>\n",
       "<table border=\"1\" class=\"dataframe\">\n",
       "  <thead>\n",
       "    <tr style=\"text-align: right;\">\n",
       "      <th></th>\n",
       "      <th>Name</th>\n",
       "      <th>Country</th>\n",
       "      <th>Age</th>\n",
       "    </tr>\n",
       "  </thead>\n",
       "  <tbody>\n",
       "    <tr>\n",
       "      <th>0</th>\n",
       "      <td>Joe Sharp</td>\n",
       "      <td>Netherlands</td>\n",
       "      <td>52</td>\n",
       "    </tr>\n",
       "    <tr>\n",
       "      <th>1</th>\n",
       "      <td>John Nizinik</td>\n",
       "      <td>France</td>\n",
       "      <td>43</td>\n",
       "    </tr>\n",
       "    <tr>\n",
       "      <th>2</th>\n",
       "      <td>Rose White</td>\n",
       "      <td>France</td>\n",
       "      <td>41</td>\n",
       "    </tr>\n",
       "    <tr>\n",
       "      <th>3</th>\n",
       "      <td>Timbaland</td>\n",
       "      <td>United States</td>\n",
       "      <td>32</td>\n",
       "    </tr>\n",
       "    <tr>\n",
       "      <th>4</th>\n",
       "      <td>Justin Brown</td>\n",
       "      <td>France</td>\n",
       "      <td>29</td>\n",
       "    </tr>\n",
       "    <tr>\n",
       "      <th>5</th>\n",
       "      <td>Tribal King</td>\n",
       "      <td>France</td>\n",
       "      <td>25</td>\n",
       "    </tr>\n",
       "  </tbody>\n",
       "</table>\n",
       "</div>"
      ],
      "text/plain": [
       "           Name        Country  Age\n",
       "0     Joe Sharp    Netherlands   52\n",
       "1  John Nizinik         France   43\n",
       "2    Rose White         France   41\n",
       "3     Timbaland  United States   32\n",
       "4  Justin Brown         France   29\n",
       "5   Tribal King         France   25"
      ]
     },
     "metadata": {},
     "output_type": "display_data"
    },
    {
     "name": "stdout",
     "output_type": "stream",
     "text": [
      "\u001b[2;31m✘\u001b[0m 0.142537 SELECT DISTINCT Name, Country, Age FROM singer, concert, singer_in_concert, stadium where singer.Age = singer_in_concert.Age ORDER BY singer.Age DESC \n",
      "\n",
      "\u001b[2;31m💀 ERROR\u001b[0m Execution failed on sql 'SELECT DISTINCT Name, Country, Age FROM singer, concert, singer_in_concert, stadium where singer.Age = singer_in_concert.Age ORDER BY singer.Age DESC ': ambiguous column name: Name\n",
      "\n",
      "\u001b[0;32m✔\u001b[0m 0.114030 SELECT DISTINCT NAME, COUNTRY, AGE FROM SINGER ORDER BY AGE DESC\n"
     ]
    },
    {
     "data": {
      "text/html": [
       "<div>\n",
       "<style scoped>\n",
       "    .dataframe tbody tr th:only-of-type {\n",
       "        vertical-align: middle;\n",
       "    }\n",
       "\n",
       "    .dataframe tbody tr th {\n",
       "        vertical-align: top;\n",
       "    }\n",
       "\n",
       "    .dataframe thead th {\n",
       "        text-align: right;\n",
       "    }\n",
       "</style>\n",
       "<table border=\"1\" class=\"dataframe\">\n",
       "  <thead>\n",
       "    <tr style=\"text-align: right;\">\n",
       "      <th></th>\n",
       "      <th>Name</th>\n",
       "      <th>Country</th>\n",
       "      <th>Age</th>\n",
       "    </tr>\n",
       "  </thead>\n",
       "  <tbody>\n",
       "    <tr>\n",
       "      <th>0</th>\n",
       "      <td>Joe Sharp</td>\n",
       "      <td>Netherlands</td>\n",
       "      <td>52</td>\n",
       "    </tr>\n",
       "    <tr>\n",
       "      <th>1</th>\n",
       "      <td>John Nizinik</td>\n",
       "      <td>France</td>\n",
       "      <td>43</td>\n",
       "    </tr>\n",
       "    <tr>\n",
       "      <th>2</th>\n",
       "      <td>Rose White</td>\n",
       "      <td>France</td>\n",
       "      <td>41</td>\n",
       "    </tr>\n",
       "    <tr>\n",
       "      <th>3</th>\n",
       "      <td>Timbaland</td>\n",
       "      <td>United States</td>\n",
       "      <td>32</td>\n",
       "    </tr>\n",
       "    <tr>\n",
       "      <th>4</th>\n",
       "      <td>Justin Brown</td>\n",
       "      <td>France</td>\n",
       "      <td>29</td>\n",
       "    </tr>\n",
       "    <tr>\n",
       "      <th>5</th>\n",
       "      <td>Tribal King</td>\n",
       "      <td>France</td>\n",
       "      <td>25</td>\n",
       "    </tr>\n",
       "  </tbody>\n",
       "</table>\n",
       "</div>"
      ],
      "text/plain": [
       "           Name        Country  Age\n",
       "0     Joe Sharp    Netherlands   52\n",
       "1  John Nizinik         France   43\n",
       "2    Rose White         France   41\n",
       "3     Timbaland  United States   32\n",
       "4  Justin Brown         France   29\n",
       "5   Tribal King         France   25"
      ]
     },
     "metadata": {},
     "output_type": "display_data"
    },
    {
     "name": "stdout",
     "output_type": "stream",
     "text": [
      "\u001b[2;31m✘\u001b[0m 0.114030 SELECT DISTINCT a.Name, b.Country, a.Age, (SELECT COUNT(*) FROM singer_in_concert WHERE a.Singer_Id=Singer_ID) AS 'AppearanceIn' FROM singer a, singer_in_concert b WHERE b.Singer_ID=a.S\n",
      "\n",
      "\u001b[2;31m💀 ERROR\u001b[0m Execution failed on sql 'SELECT DISTINCT a.Name, b.Country, a.Age, (SELECT COUNT(*) FROM singer_in_concert WHERE a.Singer_Id=Singer_ID) AS 'AppearanceIn' FROM singer a, singer_in_concert b WHERE b.Singer_ID=a.S': no such column: b.Country\n",
      "\n",
      "\u001b[2;31m✘\u001b[0m 0.057015 Select name, country, age from singer, singer inner join concert on singer.Singer_ID = concert.Singer_ID, singer inner join singer_in_concert on singer.Singer_ID = singer_in_concert.Singer_ID order by singer_in_concert.Name DESC\n",
      "\n",
      "\u001b[2;31m💀 ERROR\u001b[0m Execution failed on sql 'Select name, country, age from singer, singer inner join concert on singer.Singer_ID = concert.Singer_ID, singer inner join singer_in_concert on singer.Singer_ID = singer_in_concert.Singer_ID order by singer_in_concert.Name DESC': ambiguous column name: name\n",
      "\n",
      "\u001b[2;31m✘\u001b[0m 0.057015 SELECT DISTINCT singer.name, singer.country, singer.age FROM singer join singer_in_concert on singer.singer_id=singer_in_concert.singer_id \n"
     ]
    },
    {
     "data": {
      "text/html": [
       "<div>\n",
       "<style scoped>\n",
       "    .dataframe tbody tr th:only-of-type {\n",
       "        vertical-align: middle;\n",
       "    }\n",
       "\n",
       "    .dataframe tbody tr th {\n",
       "        vertical-align: top;\n",
       "    }\n",
       "\n",
       "    .dataframe thead th {\n",
       "        text-align: right;\n",
       "    }\n",
       "</style>\n",
       "<table border=\"1\" class=\"dataframe\">\n",
       "  <thead>\n",
       "    <tr style=\"text-align: right;\">\n",
       "      <th></th>\n",
       "      <th>Name</th>\n",
       "      <th>Country</th>\n",
       "      <th>Age</th>\n",
       "    </tr>\n",
       "  </thead>\n",
       "  <tbody>\n",
       "    <tr>\n",
       "      <th>0</th>\n",
       "      <td>Timbaland</td>\n",
       "      <td>United States</td>\n",
       "      <td>32</td>\n",
       "    </tr>\n",
       "    <tr>\n",
       "      <th>1</th>\n",
       "      <td>Justin Brown</td>\n",
       "      <td>France</td>\n",
       "      <td>29</td>\n",
       "    </tr>\n",
       "    <tr>\n",
       "      <th>2</th>\n",
       "      <td>John Nizinik</td>\n",
       "      <td>France</td>\n",
       "      <td>43</td>\n",
       "    </tr>\n",
       "    <tr>\n",
       "      <th>3</th>\n",
       "      <td>Tribal King</td>\n",
       "      <td>France</td>\n",
       "      <td>25</td>\n",
       "    </tr>\n",
       "    <tr>\n",
       "      <th>4</th>\n",
       "      <td>Rose White</td>\n",
       "      <td>France</td>\n",
       "      <td>41</td>\n",
       "    </tr>\n",
       "  </tbody>\n",
       "</table>\n",
       "</div>"
      ],
      "text/plain": [
       "           Name        Country  Age\n",
       "0     Timbaland  United States   32\n",
       "1  Justin Brown         France   29\n",
       "2  John Nizinik         France   43\n",
       "3   Tribal King         France   25\n",
       "4    Rose White         France   41"
      ]
     },
     "metadata": {},
     "output_type": "display_data"
    },
    {
     "name": "stdout",
     "output_type": "stream",
     "text": [
      "\u001b[2;31m✘\u001b[0m 0.055353 SELECT DISTINCT Starter_ID FROM judgementLatest_tmp INNER JOIN judgement ON judgementLatest_tmp.Starter_ID = judgement.Starter_ID AND judgementLatest_tmp.StarterPID = (SELECT MAX(judgementLatest_tmp.StarterPID) FROM judgementLatest_tmp WHERE judgementLatest_tmp.Starter_ID = judgement\n",
      "\n",
      "\u001b[2;31m💀 ERROR\u001b[0m Execution failed on sql 'SELECT DISTINCT Starter_ID FROM judgementLatest_tmp INNER JOIN judgement ON judgementLatest_tmp.Starter_ID = judgement.Starter_ID AND judgementLatest_tmp.StarterPID = (SELECT MAX(judgementLatest_tmp.StarterPID) FROM judgementLatest_tmp WHERE judgementLatest_tmp.Starter_ID = judgement': incomplete input\n",
      "\n",
      "\u001b[2;31m✘\u001b[0m 0.028507 Select everything from singer INNER JOIN singer x INNER JOIN singer_in_concert y on x.Singer_ID =  y.Singer_ID INNER JOIN concert  z on z.concert_ID = y.concert_ID ORDER BY x.AGE  \n",
      "\n",
      "\u001b[2;31m💀 ERROR\u001b[0m Execution failed on sql 'Select everything from singer INNER JOIN singer x INNER JOIN singer_in_concert y on x.Singer_ID =  y.Singer_ID INNER JOIN concert  z on z.concert_ID = y.concert_ID ORDER BY x.AGE  ': no such column: everything\n",
      "\n",
      "\u001b[2;31m✘\u001b[0m 0.028507 SELECT DISTINCT Name, Country, Age FROM singer, concert, singer_in_concert WHERE concert.Singer_ID = singer.Singer_ID AND concert.Concert_ID = Singer_in_concert AND Age IS NOT NULL ORDER BY Age DESC\n",
      "\n",
      "\u001b[2;31m💀 ERROR\u001b[0m Execution failed on sql 'SELECT DISTINCT Name, Country, Age FROM singer, concert, singer_in_concert WHERE concert.Singer_ID = singer.Singer_ID AND concert.Concert_ID = Singer_in_concert AND Age IS NOT NULL ORDER BY Age DESC': no such column: concert.Singer_ID\n",
      "\n",
      "\u001b[2;31m✘\u001b[0m 0.025759 SELECT DISTINCT Starter_ID FROM judgementLatest_tmp INNER JOIN(SELECT  judgementLatest_tmp.Starter_ID,RANK() OVER(PARTITION BY Starter_ID ORDER BY LATEST_DAY DESC,LATEST_TIME DESC,LATEST_VERSION DESC) AS Rank FROM judgementLatest_tmp ) AS a ON judgementLatest_tmp.Starter_ID = a\n",
      "\n",
      "\u001b[2;31m💀 ERROR\u001b[0m Execution failed on sql 'SELECT DISTINCT Starter_ID FROM judgementLatest_tmp INNER JOIN(SELECT  judgementLatest_tmp.Starter_ID,RANK() OVER(PARTITION BY Starter_ID ORDER BY LATEST_DAY DESC,LATEST_TIME DESC,LATEST_VERSION DESC) AS Rank FROM judgementLatest_tmp ) AS a ON judgementLatest_tmp.Starter_ID = a': no such table: judgementLatest_tmp\n",
      "\n",
      "\u001b[2;31m✘\u001b[0m 0.024500 SELECT DISTINCT a.Name, b.Country, b.Age FROM singer a, singer_in_concert c, concert d, stadium e, singer f WHERE a.Singer_ID = c.singer_id AND c.concert_id = d.concert_id AND d.Stadium_ID = e.stadium_id AND e.Stadium_ID = f.Stadium_ID ORDER BY b.Ag\n",
      "\n",
      "\u001b[2;31m💀 ERROR\u001b[0m Execution failed on sql 'SELECT DISTINCT a.Name, b.Country, b.Age FROM singer a, singer_in_concert c, concert d, stadium e, singer f WHERE a.Singer_ID = c.singer_id AND c.concert_id = d.concert_id AND d.Stadium_ID = e.stadium_id AND e.Stadium_ID = f.Stadium_ID ORDER BY b.Ag': no such column: b.Country\n",
      "\n",
      "\u001b[2;31m✘\u001b[0m 0.022829 SELECT DISTINCT Starter_ID FROM judgementLatest_tmp INNER JOIN(SELECT  judgementLatest_tmp.Starter_ID,RANK() OVER(PARTITION BY Starter_ID ORDER BY LATEST_DAY DESC,LATEST_TIME DESC,LATEST_VERSION DESC) AS Rank FROM judgementLatest_tmp ) AS JudgementLatestRanking ON judgementLatest_tmp\n",
      "\n",
      "\u001b[2;31m💀 ERROR\u001b[0m Execution failed on sql 'SELECT DISTINCT Starter_ID FROM judgementLatest_tmp INNER JOIN(SELECT  judgementLatest_tmp.Starter_ID,RANK() OVER(PARTITION BY Starter_ID ORDER BY LATEST_DAY DESC,LATEST_TIME DESC,LATEST_VERSION DESC) AS Rank FROM judgementLatest_tmp ) AS JudgementLatestRanking ON judgementLatest_tmp': no such table: judgementLatest_tmp\n",
      "\n",
      "\u001b[2;31m✘\u001b[0m 0.021057 SELECT DISTINCT a.Name, b.Country, b.Age FROM singer a, singer_in_concert c, concert d, stadium e, singer f WHERE a.Singer_ID = c.singer_ID AND c.concert_ID = d.concert_ID AND d.Stadium_ID = e.Stadium_ID AND a.Singer_ID = f.Singer_ID AND d.Theme = \n",
      "\n",
      "\u001b[2;31m💀 ERROR\u001b[0m Execution failed on sql 'SELECT DISTINCT a.Name, b.Country, b.Age FROM singer a, singer_in_concert c, concert d, stadium e, singer f WHERE a.Singer_ID = c.singer_ID AND c.concert_ID = d.concert_ID AND d.Stadium_ID = e.Stadium_ID AND a.Singer_ID = f.Singer_ID AND d.Theme = ': incomplete input\n",
      "\n",
      "\u001b[2;31m✘\u001b[0m 0.015780 SELECT DISTINCT a.Name, b.Country, b.Age FROM singer a, singer_in_concert c, concert d, stadium e, singer f WHERE a.Singer_ID = c.singer_id AND c.concert_id = d.concert_id AND d.Stadium_ID = e.stadium_id AND e.Stadium_ID = f.Singer_ID ORDER BY f.age DES\n",
      "\n",
      "\u001b[2;31m💀 ERROR\u001b[0m Execution failed on sql 'SELECT DISTINCT a.Name, b.Country, b.Age FROM singer a, singer_in_concert c, concert d, stadium e, singer f WHERE a.Singer_ID = c.singer_id AND c.concert_id = d.concert_id AND d.Stadium_ID = e.stadium_id AND e.Stadium_ID = f.Singer_ID ORDER BY f.age DES': near \"DES\": syntax error\n",
      "\n",
      "\u001b[2;31m✘\u001b[0m 0.014942 SELECT DISTINCT a.Name, b.Country, b.Age FROM singer a, singer_in_concert c, concert d, stadium e, singer f WHERE a.Singer_ID = c.singer_ID AND c.concert_ID = d.concert_ID AND d.Stadium_ID = e.Stadium_ID AND a.Singer_ID = f.Singer_ID ORDER BY f.Age DES\n",
      "\n",
      "\u001b[2;31m💀 ERROR\u001b[0m Execution failed on sql 'SELECT DISTINCT a.Name, b.Country, b.Age FROM singer a, singer_in_concert c, concert d, stadium e, singer f WHERE a.Singer_ID = c.singer_ID AND c.concert_ID = d.concert_ID AND d.Stadium_ID = e.Stadium_ID AND a.Singer_ID = f.Singer_ID ORDER BY f.Age DES': near \"DES\": syntax error\n",
      "\n",
      "\u001b[2;31m✘\u001b[0m 0.013461 SELECT DISTINCT Starter_ID FROM judgementLatest_tmp INNER JOIN msp_judgement ON judgementLatest_tmp.StarterID = msp_judgement.FK_StarterID GROUP BY msp_judgement.FK_StarterID HAVING COUNT(msp_judgement.FK_StarterID) > 0 ORDER BY COUNT(msp_judgement.F\n",
      "\n",
      "\u001b[2;31m💀 ERROR\u001b[0m Execution failed on sql 'SELECT DISTINCT Starter_ID FROM judgementLatest_tmp INNER JOIN msp_judgement ON judgementLatest_tmp.StarterID = msp_judgement.FK_StarterID GROUP BY msp_judgement.FK_StarterID HAVING COUNT(msp_judgement.FK_StarterID) > 0 ORDER BY COUNT(msp_judgement.F': incomplete input\n",
      "\n",
      "\u001b[2;31m✘\u001b[0m 0.009059 SELECT DISTINCT Starter_ID FROM judgementLatest_tmp INNER JOIN(SELECT  judgementLatest_tmp.Starter_ID,RANK() OVER(PARTITION BY Starter_ID ORDER BY judgementLatest_tmp.HitValue DESC) AS Ranking FROM judgementLatest_tmp ) AS ranked ON(judgementLatest_tmp.Starter_ID = ranked.Starter_ID AND ranke\n",
      "\n",
      "\u001b[2;31m💀 ERROR\u001b[0m Execution failed on sql 'SELECT DISTINCT Starter_ID FROM judgementLatest_tmp INNER JOIN(SELECT  judgementLatest_tmp.Starter_ID,RANK() OVER(PARTITION BY Starter_ID ORDER BY judgementLatest_tmp.HitValue DESC) AS Ranking FROM judgementLatest_tmp ) AS ranked ON(judgementLatest_tmp.Starter_ID = ranked.Starter_ID AND ranke': incomplete input\n",
      "\n",
      "\u001b[2;31m✘\u001b[0m 0.008699 Select everything from singer INNER JOIN singer x INNER JOIN singer_in_concert y INNER JOIN concert  where x.Singer_ID  = y.singer_ID  and  x.Country   = y.Country   and   y.singer_id =  x.Singer_ID and concert_Name = y.Stadium_id and   x.Is_male = y.Is_male  and   is_shown =  random an\n",
      "\n",
      "\u001b[2;31m💀 ERROR\u001b[0m Execution failed on sql 'Select everything from singer INNER JOIN singer x INNER JOIN singer_in_concert y INNER JOIN concert  where x.Singer_ID  = y.singer_ID  and  x.Country   = y.Country   and   y.singer_id =  x.Singer_ID and concert_Name = y.Stadium_id and   x.Is_male = y.Is_male  and   is_shown =  random an': near \"an\": syntax error\n",
      "\n",
      "\u001b[2;31m✘\u001b[0m 0.006551 SELECT DISTINCT a.Name, b.Country, a.Age, (SELECT COUNT(*) FROM singer_in_concert WHERE a.Singer_Id=Singer_ID) AS 'AppearanceIn' FROM singer a JOIN singin_in_concert b ON a.Singer_Id=b.Singer_Id  GROUP BY a.Name, b.Country, a.Age ORDER BY a.Age DESC\n",
      "\n",
      "\u001b[2;31m💀 ERROR\u001b[0m Execution failed on sql 'SELECT DISTINCT a.Name, b.Country, a.Age, (SELECT COUNT(*) FROM singer_in_concert WHERE a.Singer_Id=Singer_ID) AS 'AppearanceIn' FROM singer a JOIN singin_in_concert b ON a.Singer_Id=b.Singer_Id  GROUP BY a.Name, b.Country, a.Age ORDER BY a.Age DESC': no such table: singin_in_concert\n",
      "\n",
      "\u001b[2;31m✘\u001b[0m 0.006323 SELECT * FROM singer consultatoevents LEFT JOIN concertalbums ON concerts.concert_id = events.concert_id LEFT JOIN artists ON events.artist_id = artists.artist_id WHERE events.concert_id >= args.concert_id GROUP BY events.artist, events.artist_id, events.ranked_name ORDER BY events.ranked_name DESC, events.artist_id, events.concert_i\n",
      "\n",
      "\u001b[2;31m💀 ERROR\u001b[0m Execution failed on sql 'SELECT * FROM singer consultatoevents LEFT JOIN concertalbums ON concerts.concert_id = events.concert_id LEFT JOIN artists ON events.artist_id = artists.artist_id WHERE events.concert_id >= args.concert_id GROUP BY events.artist, events.artist_id, events.ranked_name ORDER BY events.ranked_name DESC, events.artist_id, events.concert_i': no such table: concertalbums\n",
      "\n",
      "\u001b[2;31m✘\u001b[0m 0.002072 SELECT * FROM singer consultatoevents LEFT JOIN concertalbums ON concerts.concert_ID = concerts_id JOIN singers_in_concerts ON concerts.concert_ID = singers_in_concerts.concert_ID JOIN singers ON singers.singer_id = singers_in_concerts.singer_id order by age desc\n",
      "\n",
      "\u001b[2;31m💀 ERROR\u001b[0m Execution failed on sql 'SELECT * FROM singer consultatoevents LEFT JOIN concertalbums ON concerts.concert_ID = concerts_id JOIN singers_in_concerts ON concerts.concert_ID = singers_in_concerts.concert_ID JOIN singers ON singers.singer_id = singers_in_concerts.singer_id order by age desc': no such table: concertalbums\n",
      "\n",
      "\u001b[2;31m✘\u001b[0m 0.001977 SELECT * FROM singer consultatoevents LEFT JOIN concertalbums ON concerts.concert_id = events.concert_id LEFT JOIN artists ON events.artist_id = artists.artist_id WHERE events.concert_id >= args.concert_id GROUP BY events.artist, events.artist_id, events.ranked_name ORDER BY events.ranked_name DESC, events.artist_id, events.age LIMIT \n",
      "\n",
      "\u001b[2;31m💀 ERROR\u001b[0m Execution failed on sql 'SELECT * FROM singer consultatoevents LEFT JOIN concertalbums ON concerts.concert_id = events.concert_id LEFT JOIN artists ON events.artist_id = artists.artist_id WHERE events.concert_id >= args.concert_id GROUP BY events.artist, events.artist_id, events.ranked_name ORDER BY events.ranked_name DESC, events.artist_id, events.age LIMIT ': incomplete input\n",
      "\n",
      "\u001b[2;31m✘\u001b[0m 0.001679 SELECT DISTINCT a.Name, b.Country, b.Age FROM singer a, singer_in_concert c, concert d, stadium e, singer f WHERE a.Singer_ID = c.singer_id AND c.concert_id = d.concert_id AND d.Stadium_ID = e.stadium_id AND e.Stadium_ID = '1' ORDER BY f.Age DESC\n",
      "\n",
      "\u001b[2;31m💀 ERROR\u001b[0m Execution failed on sql 'SELECT DISTINCT a.Name, b.Country, b.Age FROM singer a, singer_in_concert c, concert d, stadium e, singer f WHERE a.Singer_ID = c.singer_id AND c.concert_id = d.concert_id AND d.Stadium_ID = e.stadium_id AND e.Stadium_ID = '1' ORDER BY f.Age DESC': no such column: b.Country\n",
      "\n",
      "\u001b[2;31m✘\u001b[0m 0.000219 Select name, country, age from singer, singer inner join concert on singer.Singer_ID = concert.Singer_ID, singer inner join singer_in_concert on singer.Singer_ID = singer_in_concert.Singer_ID, concert inner join concert on concert.concert_ID = concert_in_concert.concert_ID order by age asc limit 10\n",
      "\n",
      "\u001b[2;31m💀 ERROR\u001b[0m Execution failed on sql 'Select name, country, age from singer, singer inner join concert on singer.Singer_ID = concert.Singer_ID, singer inner join singer_in_concert on singer.Singer_ID = singer_in_concert.Singer_ID, concert inner join concert on concert.concert_ID = concert_in_concert.concert_ID order by age asc limit 10': ambiguous column name: name\n",
      "\n",
      "\u001b[2;31m✘\u001b[0m 0.000025 SELECT DISTINCT Starter_ID FROM judgementLatest_tmp INNER JOIN judgement ON judgementLatest_tmp.Starter_ID = judgement.Starter_ID AND judgementLatest_tmp.Token_ID = judgement.Token_ID LEFT JOIN uib40 ON judgement.Starter_ID = uib40.Starter_ID WHERE does not in (Ameloglossus_\n",
      "\n",
      "\u001b[2;31m💀 ERROR\u001b[0m Execution failed on sql 'SELECT DISTINCT Starter_ID FROM judgementLatest_tmp INNER JOIN judgement ON judgementLatest_tmp.Starter_ID = judgement.Starter_ID AND judgementLatest_tmp.Token_ID = judgement.Token_ID LEFT JOIN uib40 ON judgement.Starter_ID = uib40.Starter_ID WHERE does not in (Ameloglossus_': incomplete input\n",
      "\n",
      "\u001b[2;31m✘\u001b[0m 0.000015 Select everything from singer INNER JOIN singer x INNER JOIN singer_in_concert y on x.Singer_ID =  y.Singer_ID INNER JOIN concert  z on z.concert_ID = y.concert_ID where z.Themes = AHHH GROUP BY  x.name HAVING  AVG(z.Year ) > 30 ORDER BY  AVG(z.year )   DESC  LIMIT 5  OF\n",
      "\n",
      "\u001b[2;31m💀 ERROR\u001b[0m Execution failed on sql 'Select everything from singer INNER JOIN singer x INNER JOIN singer_in_concert y on x.Singer_ID =  y.Singer_ID INNER JOIN concert  z on z.concert_ID = y.concert_ID where z.Themes = AHHH GROUP BY  x.name HAVING  AVG(z.Year ) > 30 ORDER BY  AVG(z.year )   DESC  LIMIT 5  OF': near \"OF\": syntax error\n",
      "\n",
      "\u001b[2;31m✘\u001b[0m 0.000001 Select name, country, age from singer, singer_in_concert, concert, stadium where singer_in_concert.Singer_ID = singer.Singer_ID and concert.concert_ID = singer_in_concert.concert_ID and singer.Age > 18 and concert.concert_ID in (select concert_ID from singer_in_concert) order by age desc limit 100000\n",
      "\n",
      "\u001b[2;31m💀 ERROR\u001b[0m Execution failed on sql 'Select name, country, age from singer, singer_in_concert, concert, stadium where singer_in_concert.Singer_ID = singer.Singer_ID and concert.concert_ID = singer_in_concert.concert_ID and singer.Age > 18 and concert.concert_ID in (select concert_ID from singer_in_concert) order by age desc limit 100000': ambiguous column name: name\n",
      "\n",
      "\u001b[2;31m✘\u001b[0m 0.000000 Select name, country, age from singer, singer inner join concert on singer.Singer_ID = concert.Singer_ID, singer inner join singer_in_concert on singer.Singer_ID = singer_in_concert.Singer_ID, concert inner join concert on concert.concert_ID = concert_in_concert.concert_ID order by age desc limit 50 offset 100000000\n",
      "\n",
      "\u001b[2;31m💀 ERROR\u001b[0m Execution failed on sql 'Select name, country, age from singer, singer inner join concert on singer.Singer_ID = concert.Singer_ID, singer inner join singer_in_concert on singer.Singer_ID = singer_in_concert.Singer_ID, concert inner join concert on concert.concert_ID = concert_in_concert.concert_ID order by age desc limit 50 offset 100000000': ambiguous column name: name\n",
      "\n",
      "\u001b[2;31m✘\u001b[0m 0.000000 Select everything from singer INNER JOIN singer x INNER JOIN singer_in_concert y on x.Singer_ID =  y.Singer_ID INNER JOIN concert  z on z.concert_ID = y.concert_ID where z.Themes = AHHH GROUP BY  x.name HAVING  AVG(z.Year ) > 30 ORDER BY AGE desc  EXCEPT SELECT lagtage FROM singer WHERE score \n",
      "\n",
      "\u001b[2;31m💀 ERROR\u001b[0m Execution failed on sql 'Select everything from singer INNER JOIN singer x INNER JOIN singer_in_concert y on x.Singer_ID =  y.Singer_ID INNER JOIN concert  z on z.concert_ID = y.concert_ID where z.Themes = AHHH GROUP BY  x.name HAVING  AVG(z.Year ) > 30 ORDER BY AGE desc  EXCEPT SELECT lagtage FROM singer WHERE score ': ORDER BY clause should come after EXCEPT not before\n",
      "\n"
     ]
    }
   ],
   "source": [
    "show_posterior_tables(x, p)"
   ]
  },
  {
   "cell_type": "markdown",
   "id": "91570990",
   "metadata": {},
   "source": [
    "### Approximate Minimum Bayes Risk Decoding"
   ]
  },
  {
   "cell_type": "code",
   "execution_count": 28,
   "id": "8d3fed30",
   "metadata": {},
   "outputs": [
    {
     "data": {
      "text/plain": [
       "'SELECT name ,  country ,  age FROM singer ORDER BY age DESC'"
      ]
     },
     "execution_count": 28,
     "metadata": {},
     "output_type": "execute_result"
    }
   ],
   "source": [
    "x.gold_sql"
   ]
  },
  {
   "cell_type": "code",
   "execution_count": 29,
   "id": "b9296bbb",
   "metadata": {},
   "outputs": [
    {
     "name": "stdout",
     "output_type": "stream",
     "text": [
      "\n",
      "You are a coding assistant helping an analyst answer questions over business data in SQL.\n",
      "More specifically, the analyst provides you a database schema\n",
      "(tables in the database along with their column names and types)\n",
      "and asks a question about the data that can be solved by issuing a SQL query to the database.\n",
      "In response, you write the SQL statement that answers the question.\n",
      "You do not provide any commentary or explanation of what the code does,\n",
      "just the SQL statement ending in a semicolon.\n",
      "\n",
      "Here is a database schema:\n",
      "\n",
      "stadium\n",
      "* Stadium_ID (number): stadium id\n",
      "* Location (text): location\n",
      "* Name (text): name\n",
      "* Capacity (number): capacity\n",
      "* Highest (number): highest\n",
      "* Lowest (number): lowest\n",
      "* Average (number): average\n",
      "\n",
      "singer\n",
      "* Singer_ID (number): singer id\n",
      "* Name (text): name\n",
      "* Country (text): country\n",
      "* Song_Name (text): song name\n",
      "* Song_release_year (text): song release year\n",
      "* Age (number): age\n",
      "* Is_male (others): is male\n",
      "\n",
      "concert\n",
      "* concert_ID (number): concert id\n",
      "* concert_Name (text): concert name\n",
      "* Theme (text): theme\n",
      "* Stadium_ID (text): stadium id\n",
      "* Year (text): year\n",
      "\n",
      "singer_in_concert\n",
      "* concert_ID (number): concert id\n",
      "* Singer_ID (text): singer id\n",
      "\n",
      "Please write me a SQL statement that answers the following question: Show name, country, age for all singers ordered by age from the oldest to the youngest.\n",
      "\n",
      "Remember, DO NOT provide any commentary or explanation of what the code does, just the SQL statement ending in a semicolon.\n",
      "\n"
     ]
    }
   ],
   "source": [
    "print(x.describe())"
   ]
  },
  {
   "cell_type": "code",
   "execution_count": 30,
   "id": "405806da",
   "metadata": {},
   "outputs": [],
   "source": [
    "def EVAL(x, y1, y2):\n",
    "    if y1.endswith(EOS): y1 = y1[:-1]  \n",
    "    if y2.endswith(EOS): y2 = y2[:-1]\n",
    "    try:\n",
    "        return x.interface.evaluate(y1, y2, x.db_name)[0]\n",
    "    except Exception:\n",
    "#        print(e)\n",
    "        return False"
   ]
  },
  {
   "cell_type": "code",
   "execution_count": 38,
   "id": "a1a17f31",
   "metadata": {},
   "outputs": [],
   "source": [
    "def risk(x, candidate, particles):\n",
    "    return sum(p * EVAL(x, candidate, y)        \n",
    "               for y, p in particles.posterior.items())"
   ]
  },
  {
   "cell_type": "code",
   "execution_count": 39,
   "id": "633aae3d",
   "metadata": {},
   "outputs": [],
   "source": [
    "def show_mbr_tables(x, particles):\n",
    "    display(HTML(f'<h3>{x.text}</h3>')) \n",
    "    risks = {candidate: risk(x, candidate, particles) for candidate in particles.posterior}\n",
    "    for candidate in sorted(risks, key=risks.__getitem__, reverse=True):\n",
    "        print(colors.mark(x.evaluate(candidate[:-1] if candidate.endswith(EOS) else candidate)), \n",
    "              f'{risks[candidate]:f}', (colors.dark.magenta if risks[candidate] == 0 else colors.light.magenta) % candidate)\n",
    "        try:\n",
    "            display(x.run_query(candidate[:-1] if candidate.endswith(EOS) else candidate))\n",
    "        except Exception as e:\n",
    "            print()\n",
    "            print(colors.dark.red % '💀 ERROR', e)\n",
    "            print()\n"
   ]
  },
  {
   "cell_type": "code",
   "execution_count": 40,
   "id": "0d123ac0",
   "metadata": {},
   "outputs": [
    {
     "data": {
      "text/html": [
       "<h3>Show name, country, age for all singers ordered by age from the oldest to the youngest.</h3>"
      ],
      "text/plain": [
       "<IPython.core.display.HTML object>"
      ]
     },
     "metadata": {},
     "output_type": "display_data"
    },
    {
     "name": "stdout",
     "output_type": "stream",
     "text": [
      "\u001b[0;32m✔\u001b[0m 0.342089 \u001b[1;35mSELECT DISTINCT Name, Country, Age FROM singer ORDER BY Age DESC▪\u001b[0m\n"
     ]
    },
    {
     "data": {
      "text/html": [
       "<div>\n",
       "<style scoped>\n",
       "    .dataframe tbody tr th:only-of-type {\n",
       "        vertical-align: middle;\n",
       "    }\n",
       "\n",
       "    .dataframe tbody tr th {\n",
       "        vertical-align: top;\n",
       "    }\n",
       "\n",
       "    .dataframe thead th {\n",
       "        text-align: right;\n",
       "    }\n",
       "</style>\n",
       "<table border=\"1\" class=\"dataframe\">\n",
       "  <thead>\n",
       "    <tr style=\"text-align: right;\">\n",
       "      <th></th>\n",
       "      <th>Name</th>\n",
       "      <th>Country</th>\n",
       "      <th>Age</th>\n",
       "    </tr>\n",
       "  </thead>\n",
       "  <tbody>\n",
       "    <tr>\n",
       "      <th>0</th>\n",
       "      <td>Joe Sharp</td>\n",
       "      <td>Netherlands</td>\n",
       "      <td>52</td>\n",
       "    </tr>\n",
       "    <tr>\n",
       "      <th>1</th>\n",
       "      <td>John Nizinik</td>\n",
       "      <td>France</td>\n",
       "      <td>43</td>\n",
       "    </tr>\n",
       "    <tr>\n",
       "      <th>2</th>\n",
       "      <td>Rose White</td>\n",
       "      <td>France</td>\n",
       "      <td>41</td>\n",
       "    </tr>\n",
       "    <tr>\n",
       "      <th>3</th>\n",
       "      <td>Timbaland</td>\n",
       "      <td>United States</td>\n",
       "      <td>32</td>\n",
       "    </tr>\n",
       "    <tr>\n",
       "      <th>4</th>\n",
       "      <td>Justin Brown</td>\n",
       "      <td>France</td>\n",
       "      <td>29</td>\n",
       "    </tr>\n",
       "    <tr>\n",
       "      <th>5</th>\n",
       "      <td>Tribal King</td>\n",
       "      <td>France</td>\n",
       "      <td>25</td>\n",
       "    </tr>\n",
       "  </tbody>\n",
       "</table>\n",
       "</div>"
      ],
      "text/plain": [
       "           Name        Country  Age\n",
       "0     Joe Sharp    Netherlands   52\n",
       "1  John Nizinik         France   43\n",
       "2    Rose White         France   41\n",
       "3     Timbaland  United States   32\n",
       "4  Justin Brown         France   29\n",
       "5   Tribal King         France   25"
      ]
     },
     "metadata": {},
     "output_type": "display_data"
    },
    {
     "name": "stdout",
     "output_type": "stream",
     "text": [
      "\u001b[0;32m✔\u001b[0m 0.342089 \u001b[1;35mSELECT DISTINCT NAME, COUNTRY, AGE FROM SINGER ORDER BY AGE DESC▪\u001b[0m\n"
     ]
    },
    {
     "data": {
      "text/html": [
       "<div>\n",
       "<style scoped>\n",
       "    .dataframe tbody tr th:only-of-type {\n",
       "        vertical-align: middle;\n",
       "    }\n",
       "\n",
       "    .dataframe tbody tr th {\n",
       "        vertical-align: top;\n",
       "    }\n",
       "\n",
       "    .dataframe thead th {\n",
       "        text-align: right;\n",
       "    }\n",
       "</style>\n",
       "<table border=\"1\" class=\"dataframe\">\n",
       "  <thead>\n",
       "    <tr style=\"text-align: right;\">\n",
       "      <th></th>\n",
       "      <th>Name</th>\n",
       "      <th>Country</th>\n",
       "      <th>Age</th>\n",
       "    </tr>\n",
       "  </thead>\n",
       "  <tbody>\n",
       "    <tr>\n",
       "      <th>0</th>\n",
       "      <td>Joe Sharp</td>\n",
       "      <td>Netherlands</td>\n",
       "      <td>52</td>\n",
       "    </tr>\n",
       "    <tr>\n",
       "      <th>1</th>\n",
       "      <td>John Nizinik</td>\n",
       "      <td>France</td>\n",
       "      <td>43</td>\n",
       "    </tr>\n",
       "    <tr>\n",
       "      <th>2</th>\n",
       "      <td>Rose White</td>\n",
       "      <td>France</td>\n",
       "      <td>41</td>\n",
       "    </tr>\n",
       "    <tr>\n",
       "      <th>3</th>\n",
       "      <td>Timbaland</td>\n",
       "      <td>United States</td>\n",
       "      <td>32</td>\n",
       "    </tr>\n",
       "    <tr>\n",
       "      <th>4</th>\n",
       "      <td>Justin Brown</td>\n",
       "      <td>France</td>\n",
       "      <td>29</td>\n",
       "    </tr>\n",
       "    <tr>\n",
       "      <th>5</th>\n",
       "      <td>Tribal King</td>\n",
       "      <td>France</td>\n",
       "      <td>25</td>\n",
       "    </tr>\n",
       "  </tbody>\n",
       "</table>\n",
       "</div>"
      ],
      "text/plain": [
       "           Name        Country  Age\n",
       "0     Joe Sharp    Netherlands   52\n",
       "1  John Nizinik         France   43\n",
       "2    Rose White         France   41\n",
       "3     Timbaland  United States   32\n",
       "4  Justin Brown         France   29\n",
       "5   Tribal King         France   25"
      ]
     },
     "metadata": {},
     "output_type": "display_data"
    },
    {
     "name": "stdout",
     "output_type": "stream",
     "text": [
      "\u001b[2;31m✘\u001b[0m 0.000000 \u001b[2;35mSelect name, country, age from singer, singer inner join concert on singer.Singer_ID = concert.Singer_ID, singer inner join singer_in_concert on singer.Singer_ID = singer_in_concert.Singer_ID order by singer_in_concert.Name DESC▪\u001b[0m\n",
      "\n",
      "\u001b[2;31m💀 ERROR\u001b[0m Execution failed on sql 'Select name, country, age from singer, singer inner join concert on singer.Singer_ID = concert.Singer_ID, singer inner join singer_in_concert on singer.Singer_ID = singer_in_concert.Singer_ID order by singer_in_concert.Name DESC': ambiguous column name: name\n",
      "\n",
      "\u001b[2;31m✘\u001b[0m 0.000000 \u001b[2;35mSELECT DISTINCT a.Name, b.Country, b.Age FROM singer a, singer_in_concert c, concert d, stadium e, singer f WHERE a.Singer_ID = c.singer_id AND c.concert_id = d.concert_id AND d.Stadium_ID = e.stadium_id AND e.Stadium_ID = '1' ORDER BY f.Age DESC▪\u001b[0m\n",
      "\n",
      "\u001b[2;31m💀 ERROR\u001b[0m Execution failed on sql 'SELECT DISTINCT a.Name, b.Country, b.Age FROM singer a, singer_in_concert c, concert d, stadium e, singer f WHERE a.Singer_ID = c.singer_id AND c.concert_id = d.concert_id AND d.Stadium_ID = e.stadium_id AND e.Stadium_ID = '1' ORDER BY f.Age DESC': no such column: b.Country\n",
      "\n",
      "\u001b[2;31m✘\u001b[0m 0.000000 \u001b[2;35mSELECT DISTINCT a.Name, b.Country, b.Age FROM singer a, singer_in_concert c, concert d, stadium e, singer f WHERE a.Singer_ID = c.singer_id AND c.concert_id = d.concert_id AND d.Stadium_ID = e.stadium_id AND e.Stadium_ID = f.Singer_ID ORDER BY f.age DESC\u001b[0m\n",
      "\n",
      "\u001b[2;31m💀 ERROR\u001b[0m Execution failed on sql 'SELECT DISTINCT a.Name, b.Country, b.Age FROM singer a, singer_in_concert c, concert d, stadium e, singer f WHERE a.Singer_ID = c.singer_id AND c.concert_id = d.concert_id AND d.Stadium_ID = e.stadium_id AND e.Stadium_ID = f.Singer_ID ORDER BY f.age DESC': no such column: b.Country\n",
      "\n",
      "\u001b[2;31m✘\u001b[0m 0.000000 \u001b[2;35mSELECT DISTINCT a.Name, b.Country, b.Age FROM singer a, singer_in_concert c, concert d, stadium e, singer f WHERE a.Singer_ID = c.singer_ID AND c.concert_ID = d.concert_ID AND d.Stadium_ID = e.Stadium_ID AND a.Singer_ID = f.Singer_ID ORDER BY f.Age DESC\u001b[0m\n",
      "\n",
      "\u001b[2;31m💀 ERROR\u001b[0m Execution failed on sql 'SELECT DISTINCT a.Name, b.Country, b.Age FROM singer a, singer_in_concert c, concert d, stadium e, singer f WHERE a.Singer_ID = c.singer_ID AND c.concert_ID = d.concert_ID AND d.Stadium_ID = e.Stadium_ID AND a.Singer_ID = f.Singer_ID ORDER BY f.Age DESC': no such column: b.Country\n",
      "\n",
      "\u001b[2;31m✘\u001b[0m 0.000000 \u001b[2;35mSELECT DISTINCT Starter_ID FROM judgementLatest_tmp INNER JOIN judgement ON judgementLatest_tmp.Starter_ID = judgement.Starter_ID AND judgementLatest_tmp.StarterPID = (SELECT MAX(judgementLatest_tmp.StarterPID) FROM judgementLatest_tmp WHERE judgementLatest_tmp.Starter_ID = judgement.\u001b[0m\n",
      "\n",
      "\u001b[2;31m💀 ERROR\u001b[0m Execution failed on sql 'SELECT DISTINCT Starter_ID FROM judgementLatest_tmp INNER JOIN judgement ON judgementLatest_tmp.Starter_ID = judgement.Starter_ID AND judgementLatest_tmp.StarterPID = (SELECT MAX(judgementLatest_tmp.StarterPID) FROM judgementLatest_tmp WHERE judgementLatest_tmp.Starter_ID = judgement.': incomplete input\n",
      "\n",
      "\u001b[2;31m✘\u001b[0m 0.000000 \u001b[2;35mSELECT DISTINCT a.Name, b.Country, a.Age, (SELECT COUNT(*) FROM singer_in_concert WHERE a.Singer_Id=Singer_ID) AS 'AppearanceIn' FROM singer a, singer_in_concert b WHERE b.Singer_ID=a.S▪\u001b[0m\n",
      "\n",
      "\u001b[2;31m💀 ERROR\u001b[0m Execution failed on sql 'SELECT DISTINCT a.Name, b.Country, a.Age, (SELECT COUNT(*) FROM singer_in_concert WHERE a.Singer_Id=Singer_ID) AS 'AppearanceIn' FROM singer a, singer_in_concert b WHERE b.Singer_ID=a.S': no such column: b.Country\n",
      "\n",
      "\u001b[2;31m✘\u001b[0m 0.000000 \u001b[2;35mSELECT DISTINCT Starter_ID FROM judgementLatest_tmp INNER JOIN(SELECT  judgementLatest_tmp.Starter_ID,RANK() OVER(PARTITION BY Starter_ID ORDER BY judgementLatest_tmp.HitValue DESC) AS Ranking FROM judgementLatest_tmp ) AS ranked ON(judgementLatest_tmp.Starter_ID = ranked.Starter_ID AND ranked\u001b[0m\n",
      "\n",
      "\u001b[2;31m💀 ERROR\u001b[0m Execution failed on sql 'SELECT DISTINCT Starter_ID FROM judgementLatest_tmp INNER JOIN(SELECT  judgementLatest_tmp.Starter_ID,RANK() OVER(PARTITION BY Starter_ID ORDER BY judgementLatest_tmp.HitValue DESC) AS Ranking FROM judgementLatest_tmp ) AS ranked ON(judgementLatest_tmp.Starter_ID = ranked.Starter_ID AND ranked': incomplete input\n",
      "\n",
      "\u001b[2;31m✘\u001b[0m 0.000000 \u001b[2;35mSELECT * FROM singer consultatoevents LEFT JOIN concertalbums ON concerts.concert_ID = concerts_id JOIN singers_in_concerts ON concerts.concert_ID = singers_in_concerts.concert_ID JOIN singers ON singers.singer_id = singers_in_concerts.singer_id order by age desc▪\u001b[0m\n",
      "\n",
      "\u001b[2;31m💀 ERROR\u001b[0m Execution failed on sql 'SELECT * FROM singer consultatoevents LEFT JOIN concertalbums ON concerts.concert_ID = concerts_id JOIN singers_in_concerts ON concerts.concert_ID = singers_in_concerts.concert_ID JOIN singers ON singers.singer_id = singers_in_concerts.singer_id order by age desc': no such table: concertalbums\n",
      "\n",
      "\u001b[2;31m✘\u001b[0m 0.000000 \u001b[2;35mSelect everything from singer INNER JOIN singer x INNER JOIN singer_in_concert y on x.Singer_ID =  y.Singer_ID INNER JOIN concert  z on z.concert_ID = y.concert_ID ORDER BY x.AGE  ▪\u001b[0m\n",
      "\n",
      "\u001b[2;31m💀 ERROR\u001b[0m Execution failed on sql 'Select everything from singer INNER JOIN singer x INNER JOIN singer_in_concert y on x.Singer_ID =  y.Singer_ID INNER JOIN concert  z on z.concert_ID = y.concert_ID ORDER BY x.AGE  ': no such column: everything\n",
      "\n",
      "\u001b[2;31m✘\u001b[0m 0.000000 \u001b[2;35mSELECT DISTINCT Name, Country, Age FROM singer, concert, singer_in_concert WHERE concert.Singer_ID = singer.Singer_ID AND concert.Concert_ID = Singer_in_concert AND Age IS NOT NULL ORDER BY Age DESC▪\u001b[0m\n",
      "\n",
      "\u001b[2;31m💀 ERROR\u001b[0m Execution failed on sql 'SELECT DISTINCT Name, Country, Age FROM singer, concert, singer_in_concert WHERE concert.Singer_ID = singer.Singer_ID AND concert.Concert_ID = Singer_in_concert AND Age IS NOT NULL ORDER BY Age DESC': no such column: concert.Singer_ID\n",
      "\n",
      "\u001b[2;31m✘\u001b[0m 0.000000 \u001b[2;35mSELECT DISTINCT Starter_ID FROM judgementLatest_tmp INNER JOIN(SELECT  judgementLatest_tmp.Starter_ID,RANK() OVER(PARTITION BY Starter_ID ORDER BY LATEST_DAY DESC,LATEST_TIME DESC,LATEST_VERSION DESC) AS Rank FROM judgementLatest_tmp ) AS JudgementLatestRanking ON judgementLatest_tmp.\u001b[0m\n",
      "\n",
      "\u001b[2;31m💀 ERROR\u001b[0m Execution failed on sql 'SELECT DISTINCT Starter_ID FROM judgementLatest_tmp INNER JOIN(SELECT  judgementLatest_tmp.Starter_ID,RANK() OVER(PARTITION BY Starter_ID ORDER BY LATEST_DAY DESC,LATEST_TIME DESC,LATEST_VERSION DESC) AS Rank FROM judgementLatest_tmp ) AS JudgementLatestRanking ON judgementLatest_tmp.': incomplete input\n",
      "\n",
      "\u001b[2;31m✘\u001b[0m 0.000000 \u001b[2;35mSelect everything from singer INNER JOIN singer x INNER JOIN singer_in_concert y on x.Singer_ID =  y.Singer_ID INNER JOIN concert  z on z.concert_ID = y.concert_ID where z.Themes = AHHH GROUP BY  x.name HAVING  AVG(z.Year ) > 30 ORDER BY AGE desc  EXCEPT SELECT lagtage FROM singer WHERE score =\u001b[0m\n",
      "\n",
      "\u001b[2;31m💀 ERROR\u001b[0m Execution failed on sql 'Select everything from singer INNER JOIN singer x INNER JOIN singer_in_concert y on x.Singer_ID =  y.Singer_ID INNER JOIN concert  z on z.concert_ID = y.concert_ID where z.Themes = AHHH GROUP BY  x.name HAVING  AVG(z.Year ) > 30 ORDER BY AGE desc  EXCEPT SELECT lagtage FROM singer WHERE score =': incomplete input\n",
      "\n",
      "\u001b[2;31m✘\u001b[0m 0.000000 \u001b[2;35mSelect name, country, age from singer, singer inner join concert on singer.Singer_ID = concert.Singer_ID, singer inner join singer_in_concert on singer.Singer_ID = singer_in_concert.Singer_ID, concert inner join concert on concert.concert_ID = concert_in_concert.concert_ID order by age desc limit 50 offset 1000000000\u001b[0m\n",
      "\n",
      "\u001b[2;31m💀 ERROR\u001b[0m Execution failed on sql 'Select name, country, age from singer, singer inner join concert on singer.Singer_ID = concert.Singer_ID, singer inner join singer_in_concert on singer.Singer_ID = singer_in_concert.Singer_ID, concert inner join concert on concert.concert_ID = concert_in_concert.concert_ID order by age desc limit 50 offset 1000000000': ambiguous column name: name\n",
      "\n",
      "\u001b[2;31m✘\u001b[0m 0.000000 \u001b[2;35mSelect everything from singer INNER JOIN singer x INNER JOIN singer_in_concert y INNER JOIN concert  where x.Singer_ID  = y.singer_ID  and  x.Country   = y.Country   and   y.singer_id =  x.Singer_ID and concert_Name = y.Stadium_id and   x.Is_male = y.Is_male  and   is_shown =  random and\u001b[0m\n",
      "\n",
      "\u001b[2;31m💀 ERROR\u001b[0m Execution failed on sql 'Select everything from singer INNER JOIN singer x INNER JOIN singer_in_concert y INNER JOIN concert  where x.Singer_ID  = y.singer_ID  and  x.Country   = y.Country   and   y.singer_id =  x.Singer_ID and concert_Name = y.Stadium_id and   x.Is_male = y.Is_male  and   is_shown =  random and': incomplete input\n",
      "\n",
      "\u001b[2;31m✘\u001b[0m 0.000000 \u001b[2;35mSELECT DISTINCT Name, Country, Age FROM singer, concert, singer_in_concert, stadium where singer.Age = singer_in_concert.Age ORDER BY singer.Age DESC ▪\u001b[0m\n",
      "\n",
      "\u001b[2;31m💀 ERROR\u001b[0m Execution failed on sql 'SELECT DISTINCT Name, Country, Age FROM singer, concert, singer_in_concert, stadium where singer.Age = singer_in_concert.Age ORDER BY singer.Age DESC ': ambiguous column name: Name\n",
      "\n",
      "\u001b[2;31m✘\u001b[0m 0.000000 \u001b[2;35mSELECT DISTINCT singer.name, singer.country, singer.age FROM singer join singer_in_concert on singer.singer_id=singer_in_concert.singer_id ▪\u001b[0m\n"
     ]
    },
    {
     "data": {
      "text/html": [
       "<div>\n",
       "<style scoped>\n",
       "    .dataframe tbody tr th:only-of-type {\n",
       "        vertical-align: middle;\n",
       "    }\n",
       "\n",
       "    .dataframe tbody tr th {\n",
       "        vertical-align: top;\n",
       "    }\n",
       "\n",
       "    .dataframe thead th {\n",
       "        text-align: right;\n",
       "    }\n",
       "</style>\n",
       "<table border=\"1\" class=\"dataframe\">\n",
       "  <thead>\n",
       "    <tr style=\"text-align: right;\">\n",
       "      <th></th>\n",
       "      <th>Name</th>\n",
       "      <th>Country</th>\n",
       "      <th>Age</th>\n",
       "    </tr>\n",
       "  </thead>\n",
       "  <tbody>\n",
       "    <tr>\n",
       "      <th>0</th>\n",
       "      <td>Timbaland</td>\n",
       "      <td>United States</td>\n",
       "      <td>32</td>\n",
       "    </tr>\n",
       "    <tr>\n",
       "      <th>1</th>\n",
       "      <td>Justin Brown</td>\n",
       "      <td>France</td>\n",
       "      <td>29</td>\n",
       "    </tr>\n",
       "    <tr>\n",
       "      <th>2</th>\n",
       "      <td>John Nizinik</td>\n",
       "      <td>France</td>\n",
       "      <td>43</td>\n",
       "    </tr>\n",
       "    <tr>\n",
       "      <th>3</th>\n",
       "      <td>Tribal King</td>\n",
       "      <td>France</td>\n",
       "      <td>25</td>\n",
       "    </tr>\n",
       "    <tr>\n",
       "      <th>4</th>\n",
       "      <td>Rose White</td>\n",
       "      <td>France</td>\n",
       "      <td>41</td>\n",
       "    </tr>\n",
       "  </tbody>\n",
       "</table>\n",
       "</div>"
      ],
      "text/plain": [
       "           Name        Country  Age\n",
       "0     Timbaland  United States   32\n",
       "1  Justin Brown         France   29\n",
       "2  John Nizinik         France   43\n",
       "3   Tribal King         France   25\n",
       "4    Rose White         France   41"
      ]
     },
     "metadata": {},
     "output_type": "display_data"
    },
    {
     "name": "stdout",
     "output_type": "stream",
     "text": [
      "\u001b[2;31m✘\u001b[0m 0.000000 \u001b[2;35mSELECT DISTINCT Starter_ID FROM judgementLatest_tmp INNER JOIN msp_judgement ON judgementLatest_tmp.StarterID = msp_judgement.FK_StarterID GROUP BY msp_judgement.FK_StarterID HAVING COUNT(msp_judgement.FK_StarterID) > 0 ORDER BY COUNT(msp_judgement.FK\u001b[0m\n",
      "\n",
      "\u001b[2;31m💀 ERROR\u001b[0m Execution failed on sql 'SELECT DISTINCT Starter_ID FROM judgementLatest_tmp INNER JOIN msp_judgement ON judgementLatest_tmp.StarterID = msp_judgement.FK_StarterID GROUP BY msp_judgement.FK_StarterID HAVING COUNT(msp_judgement.FK_StarterID) > 0 ORDER BY COUNT(msp_judgement.FK': incomplete input\n",
      "\n",
      "\u001b[2;31m✘\u001b[0m 0.000000 \u001b[2;35mSELECT DISTINCT a.Name, b.Country, a.Age, (SELECT COUNT(*) FROM singer_in_concert WHERE a.Singer_Id=Singer_ID) AS 'AppearanceIn' FROM singer a JOIN singin_in_concert b ON a.Singer_Id=b.Singer_Id  GROUP BY a.Name, b.Country, a.Age ORDER BY a.Age DESC▪\u001b[0m\n",
      "\n",
      "\u001b[2;31m💀 ERROR\u001b[0m Execution failed on sql 'SELECT DISTINCT a.Name, b.Country, a.Age, (SELECT COUNT(*) FROM singer_in_concert WHERE a.Singer_Id=Singer_ID) AS 'AppearanceIn' FROM singer a JOIN singin_in_concert b ON a.Singer_Id=b.Singer_Id  GROUP BY a.Name, b.Country, a.Age ORDER BY a.Age DESC': no such table: singin_in_concert\n",
      "\n",
      "\u001b[2;31m✘\u001b[0m 0.000000 \u001b[2;35mSelect name, country, age from singer, singer_in_concert, concert, stadium where singer_in_concert.Singer_ID = singer.Singer_ID and concert.concert_ID = singer_in_concert.concert_ID and singer.Age > 18 and concert.concert_ID in (select concert_ID from singer_in_concert) order by age desc limit 1000000\u001b[0m\n",
      "\n",
      "\u001b[2;31m💀 ERROR\u001b[0m Execution failed on sql 'Select name, country, age from singer, singer_in_concert, concert, stadium where singer_in_concert.Singer_ID = singer.Singer_ID and concert.concert_ID = singer_in_concert.concert_ID and singer.Age > 18 and concert.concert_ID in (select concert_ID from singer_in_concert) order by age desc limit 1000000': ambiguous column name: name\n",
      "\n",
      "\u001b[2;31m✘\u001b[0m 0.000000 \u001b[2;35mSELECT DISTINCT a.Name, b.Country, b.Age FROM singer a, singer_in_concert c, concert d, stadium e, singer f WHERE a.Singer_ID = c.singer_ID AND c.concert_ID = d.concert_ID AND d.Stadium_ID = e.Stadium_ID AND a.Singer_ID = f.Singer_ID AND d.Theme = e\u001b[0m\n",
      "\n",
      "\u001b[2;31m💀 ERROR\u001b[0m Execution failed on sql 'SELECT DISTINCT a.Name, b.Country, b.Age FROM singer a, singer_in_concert c, concert d, stadium e, singer f WHERE a.Singer_ID = c.singer_ID AND c.concert_ID = d.concert_ID AND d.Stadium_ID = e.Stadium_ID AND a.Singer_ID = f.Singer_ID AND d.Theme = e': no such column: b.Country\n",
      "\n",
      "\u001b[2;31m✘\u001b[0m 0.000000 \u001b[2;35mSelect name, country, age from singer, singer inner join concert on singer.Singer_ID = concert.Singer_ID, singer inner join singer_in_concert on singer.Singer_ID = singer_in_concert.Singer_ID, concert inner join concert on concert.concert_ID = concert_in_concert.concert_ID order by age asc limit 10▪\u001b[0m\n",
      "\n",
      "\u001b[2;31m💀 ERROR\u001b[0m Execution failed on sql 'Select name, country, age from singer, singer inner join concert on singer.Singer_ID = concert.Singer_ID, singer inner join singer_in_concert on singer.Singer_ID = singer_in_concert.Singer_ID, concert inner join concert on concert.concert_ID = concert_in_concert.concert_ID order by age asc limit 10': ambiguous column name: name\n",
      "\n",
      "\u001b[2;31m✘\u001b[0m 0.000000 \u001b[2;35mSELECT DISTINCT Starter_ID FROM judgementLatest_tmp INNER JOIN judgement ON judgementLatest_tmp.Starter_ID = judgement.Starter_ID AND judgementLatest_tmp.Token_ID = judgement.Token_ID LEFT JOIN uib40 ON judgement.Starter_ID = uib40.Starter_ID WHERE does not in (Ameloglossus_g\u001b[0m\n",
      "\n",
      "\u001b[2;31m💀 ERROR\u001b[0m Execution failed on sql 'SELECT DISTINCT Starter_ID FROM judgementLatest_tmp INNER JOIN judgement ON judgementLatest_tmp.Starter_ID = judgement.Starter_ID AND judgementLatest_tmp.Token_ID = judgement.Token_ID LEFT JOIN uib40 ON judgement.Starter_ID = uib40.Starter_ID WHERE does not in (Ameloglossus_g': incomplete input\n",
      "\n",
      "\u001b[2;31m✘\u001b[0m 0.000000 \u001b[2;35mSELECT * FROM singer consultatoevents LEFT JOIN concertalbums ON concerts.concert_id = events.concert_id LEFT JOIN artists ON events.artist_id = artists.artist_id WHERE events.concert_id >= args.concert_id GROUP BY events.artist, events.artist_id, events.ranked_name ORDER BY events.ranked_name DESC, events.artist_id, events.concert_id\u001b[0m\n",
      "\n",
      "\u001b[2;31m💀 ERROR\u001b[0m Execution failed on sql 'SELECT * FROM singer consultatoevents LEFT JOIN concertalbums ON concerts.concert_id = events.concert_id LEFT JOIN artists ON events.artist_id = artists.artist_id WHERE events.concert_id >= args.concert_id GROUP BY events.artist, events.artist_id, events.ranked_name ORDER BY events.ranked_name DESC, events.artist_id, events.concert_id': no such table: concertalbums\n",
      "\n",
      "\u001b[2;31m✘\u001b[0m 0.000000 \u001b[2;35mSELECT DISTINCT Starter_ID FROM judgementLatest_tmp INNER JOIN(SELECT  judgementLatest_tmp.Starter_ID,RANK() OVER(PARTITION BY Starter_ID ORDER BY LATEST_DAY DESC,LATEST_TIME DESC,LATEST_VERSION DESC) AS Rank FROM judgementLatest_tmp ) AS a ON judgementLatest_tmp.Starter_ID = a.\u001b[0m\n",
      "\n",
      "\u001b[2;31m💀 ERROR\u001b[0m Execution failed on sql 'SELECT DISTINCT Starter_ID FROM judgementLatest_tmp INNER JOIN(SELECT  judgementLatest_tmp.Starter_ID,RANK() OVER(PARTITION BY Starter_ID ORDER BY LATEST_DAY DESC,LATEST_TIME DESC,LATEST_VERSION DESC) AS Rank FROM judgementLatest_tmp ) AS a ON judgementLatest_tmp.Starter_ID = a.': incomplete input\n",
      "\n",
      "\u001b[2;31m✘\u001b[0m 0.000000 \u001b[2;35mSelect everything from singer INNER JOIN singer x INNER JOIN singer_in_concert y on x.Singer_ID =  y.Singer_ID INNER JOIN concert  z on z.concert_ID = y.concert_ID where z.Themes = AHHH GROUP BY  x.name HAVING  AVG(z.Year ) > 30 ORDER BY  AVG(z.year )   DESC  LIMIT 5  OFF\u001b[0m\n",
      "\n",
      "\u001b[2;31m💀 ERROR\u001b[0m Execution failed on sql 'Select everything from singer INNER JOIN singer x INNER JOIN singer_in_concert y on x.Singer_ID =  y.Singer_ID INNER JOIN concert  z on z.concert_ID = y.concert_ID where z.Themes = AHHH GROUP BY  x.name HAVING  AVG(z.Year ) > 30 ORDER BY  AVG(z.year )   DESC  LIMIT 5  OFF': near \"OFF\": syntax error\n",
      "\n",
      "\u001b[2;31m✘\u001b[0m 0.000000 \u001b[2;35mSELECT DISTINCT a.Name, b.Country, b.Age FROM singer a, singer_in_concert c, concert d, stadium e, singer f WHERE a.Singer_ID = c.singer_id AND c.concert_id = d.concert_id AND d.Stadium_ID = e.stadium_id AND e.Stadium_ID = f.Stadium_ID ORDER BY b.Age\u001b[0m\n",
      "\n",
      "\u001b[2;31m💀 ERROR\u001b[0m Execution failed on sql 'SELECT DISTINCT a.Name, b.Country, b.Age FROM singer a, singer_in_concert c, concert d, stadium e, singer f WHERE a.Singer_ID = c.singer_id AND c.concert_id = d.concert_id AND d.Stadium_ID = e.stadium_id AND e.Stadium_ID = f.Stadium_ID ORDER BY b.Age': no such column: b.Country\n",
      "\n",
      "\u001b[2;31m✘\u001b[0m 0.000000 \u001b[2;35mSELECT * FROM singer consultatoevents LEFT JOIN concertalbums ON concerts.concert_id = events.concert_id LEFT JOIN artists ON events.artist_id = artists.artist_id WHERE events.concert_id >= args.concert_id GROUP BY events.artist, events.artist_id, events.ranked_name ORDER BY events.ranked_name DESC, events.artist_id, events.age LIMIT 5\u001b[0m\n",
      "\n",
      "\u001b[2;31m💀 ERROR\u001b[0m Execution failed on sql 'SELECT * FROM singer consultatoevents LEFT JOIN concertalbums ON concerts.concert_id = events.concert_id LEFT JOIN artists ON events.artist_id = artists.artist_id WHERE events.concert_id >= args.concert_id GROUP BY events.artist, events.artist_id, events.ranked_name ORDER BY events.ranked_name DESC, events.artist_id, events.age LIMIT 5': no such table: concertalbums\n",
      "\n"
     ]
    }
   ],
   "source": [
    "show_mbr_tables(x, p)"
   ]
  },
  {
   "cell_type": "code",
   "execution_count": null,
   "id": "3cb2a641",
   "metadata": {},
   "outputs": [],
   "source": []
  },
  {
   "cell_type": "code",
   "execution_count": null,
   "id": "4cbb631a",
   "metadata": {},
   "outputs": [],
   "source": [
    "\n"
   ]
  },
  {
   "cell_type": "code",
   "execution_count": null,
   "id": "8ad14041",
   "metadata": {},
   "outputs": [],
   "source": []
  }
 ],
 "metadata": {
  "kernelspec": {
   "display_name": "Python 3 (ipykernel)",
   "language": "python",
   "name": "python3"
  },
  "language_info": {
   "codemirror_mode": {
    "name": "ipython",
    "version": 3
   },
   "file_extension": ".py",
   "mimetype": "text/x-python",
   "name": "python",
   "nbconvert_exporter": "python",
   "pygments_lexer": "ipython3",
   "version": "3.10.13"
  }
 },
 "nbformat": 4,
 "nbformat_minor": 5
}
