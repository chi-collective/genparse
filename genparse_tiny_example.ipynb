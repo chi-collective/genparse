{
 "cells": [
  {
   "cell_type": "markdown",
   "id": "6355da4b",
   "metadata": {},
   "source": [
    "# GenParse Tiny Example\n",
    "\n",
    "This notebook demonstrates a simple use case of the GenParse library for constrained text generation.\n",
    "It uses a basic grammar to generate completions for the phrase \"Sequential Monte Carlo is\",\n",
    "constraining the output to either \"good\" or \"bad\".\n",
    "\n",
    "The notebook showcases how to set up inference, run it, and process the results to obtain\n",
    "probabilities for each generated text."
   ]
  },
  {
   "cell_type": "markdown",
   "id": "13e14d2b",
   "metadata": {},
   "source": [
    "Reset the environment to clear all variables and imports. Note that Jupyter will display the results of the last run when you re-enter. Even if you've fixed the code, it will still display the old results."
   ]
  },
  {
   "cell_type": "code",
   "execution_count": 1,
   "id": "a045b8e0",
   "metadata": {},
   "outputs": [],
   "source": [
    "# Import necessary modules to interact with the IPython environment\n",
    "from IPython import get_ipython\n",
    "import os\n",
    "\n",
    "# Set an environment variable to prevent parallelism issues between\n",
    "# jupyter asynchronous event loops and tokenizers parallelism.\n",
    "os.environ['TOKENIZERS_PARALLELISM'] = 'false'\n",
    "\n",
    "# Get the current IPython instance\n",
    "ipython = get_ipython()\n",
    "\n",
    "# If an IPython instance is running, reset the kernel state to clear all variables and imports\n",
    "if ipython:\n",
    "    ipython.run_line_magic('reset', '-sf')\n",
    "\n",
    "# Re-import required modules for display and asynchronous operations\n",
    "from IPython.display import clear_output\n",
    "import nest_asyncio\n",
    "\n",
    "# Apply nest_asyncio to allow nested event loops, which is useful in Jupyter notebooks\n",
    "nest_asyncio.apply()\n",
    "\n",
    "# Clear the output of the current cell to keep the notebook clean\n",
    "clear_output(wait=True)"
   ]
  },
  {
   "cell_type": "code",
   "execution_count": 2,
   "id": "469a3cbe-c088-4c34-9f45-3c167fc9787a",
   "metadata": {},
   "outputs": [],
   "source": [
    "from genparse import InferenceSetup"
   ]
  },
  {
   "cell_type": "markdown",
   "id": "41363b3f",
   "metadata": {},
   "source": [
    "## Define Grammar"
   ]
  },
  {
   "cell_type": "code",
   "execution_count": 3,
   "id": "a364a2ad",
   "metadata": {},
   "outputs": [
    {
     "name": "stdout",
     "output_type": "stream",
     "text": [
      "Grammar defined.\n"
     ]
    }
   ],
   "source": [
    "# Define a simple grammar using Lark syntax\n",
    "grammar = \"\"\"\n",
    "start: \"Sequential Monte Carlo is \" ( \"good\" | \"bad\" )\n",
    "\"\"\"\n",
    "print('Grammar defined.')"
   ]
  },
  {
   "cell_type": "markdown",
   "id": "c3810ea3",
   "metadata": {},
   "source": [
    "## Initialize InferenceSetup"
   ]
  },
  {
   "cell_type": "code",
   "execution_count": 4,
   "id": "072b10ae",
   "metadata": {},
   "outputs": [
    {
     "name": "stderr",
     "output_type": "stream",
     "text": [
      "2024-11-26 18:26:30,795 - genparse.util : Using CPU for LM next token probability computations\n",
      "2024-11-26 18:26:30,795 - genparse.util : Initializing Python Earley parser\n",
      "2024-11-26 18:26:30,930 - genparse.util : Initializing character proposal with 2 subprocesses\n"
     ]
    },
    {
     "name": "stdout",
     "output_type": "stream",
     "text": [
      "InferenceSetup created successfully.\n"
     ]
    }
   ],
   "source": [
    "# Initialize InferenceSetup with GPT-2 model and character-level proposal\n",
    "inference_setup = InferenceSetup('gpt2', grammar, proposal_name='character')\n",
    "print('InferenceSetup created successfully.')"
   ]
  },
  {
   "cell_type": "markdown",
   "id": "6c254dfc",
   "metadata": {},
   "source": [
    "## Run Inference"
   ]
  },
  {
   "cell_type": "code",
   "execution_count": 5,
   "id": "c3548db3",
   "metadata": {},
   "outputs": [
    {
     "name": "stdout",
     "output_type": "stream",
     "text": [
      "├ Particle   0 `S` : 1.10:\t\u001b[1;36m[\u001b[0mS\u001b[1;36m]\u001b[0m\n",
      "├ Particle   1 `Sequ` : 1.10:\t\u001b[1;36m[\u001b[0mSequ\u001b[1;36m]\u001b[0m\n",
      "├ Particle   2 `Sequ` : 1.10:\t\u001b[1;36m[\u001b[0mSequ\u001b[1;36m]\u001b[0m\n",
      "├ Particle   3 `Sequ` : 1.10:\t\u001b[1;36m[\u001b[0mSequ\u001b[1;36m]\u001b[0m\n",
      "├ Particle   4 `Se` : 1.10:\t\u001b[1;36m[\u001b[0mSe\u001b[1;36m]\u001b[0m\n",
      "│ Step   1 average weight: 1.0986\n",
      "└╼\n",
      "├ Particle   0 `e` : 2.20:\t\u001b[1;36m[\u001b[0mS\u001b[1;36m|\u001b[0me\u001b[1;36m]\u001b[0m\n",
      "├ Particle   1 `e` : 2.48:\t\u001b[1;36m[\u001b[0mSequ\u001b[1;36m|\u001b[0me\u001b[1;36m]\u001b[0m\n",
      "├ Particle   2 `e` : 2.48:\t\u001b[1;36m[\u001b[0mSequ\u001b[1;36m|\u001b[0me\u001b[1;36m]\u001b[0m\n",
      "├ Particle   3 `e` : 2.48:\t\u001b[1;36m[\u001b[0mSequ\u001b[1;36m|\u001b[0me\u001b[1;36m]\u001b[0m\n",
      "├ Particle   4 `qu` : 2.20:\t\u001b[1;36m[\u001b[0mSe\u001b[1;36m|\u001b[0mqu\u001b[1;36m]\u001b[0m\n",
      "│ Step   2 average weight: 2.3795\n",
      "└╼\n",
      "├ Particle   0 `q` : 3.30:\t\u001b[1;36m[\u001b[0mS\u001b[1;36m|\u001b[0me\u001b[1;36m|\u001b[0mq\u001b[1;36m]\u001b[0m\n",
      "├ Particle   1 `nt` : 3.18:\t\u001b[1;36m[\u001b[0mSequ\u001b[1;36m|\u001b[0me\u001b[1;36m|\u001b[0mnt\u001b[1;36m]\u001b[0m\n",
      "├ Particle   2 `nt` : 3.18:\t\u001b[1;36m[\u001b[0mSequ\u001b[1;36m|\u001b[0me\u001b[1;36m|\u001b[0mnt\u001b[1;36m]\u001b[0m\n",
      "├ Particle   3 `n` : 3.18:\t\u001b[1;36m[\u001b[0mSequ\u001b[1;36m|\u001b[0me\u001b[1;36m|\u001b[0mn\u001b[1;36m]\u001b[0m\n",
      "├ Particle   4 `e` : 3.58:\t\u001b[1;36m[\u001b[0mSe\u001b[1;36m|\u001b[0mqu\u001b[1;36m|\u001b[0me\u001b[1;36m]\u001b[0m\n",
      "│ Step   3 average weight: 3.2958\n",
      "└╼\n",
      "├ Particle   0 `u` : 3.99:\t\u001b[1;36m[\u001b[0mS\u001b[1;36m|\u001b[0me\u001b[1;36m|\u001b[0mq\u001b[1;36m|\u001b[0mu\u001b[1;36m]\u001b[0m\n",
      "├ Particle   1 `ial` : 4.28:\t\u001b[1;36m[\u001b[0mSequ\u001b[1;36m|\u001b[0me\u001b[1;36m|\u001b[0mnt\u001b[1;36m|\u001b[0mial\u001b[1;36m]\u001b[0m\n",
      "├ Particle   2 `ia` : 4.28:\t\u001b[1;36m[\u001b[0mSequ\u001b[1;36m|\u001b[0me\u001b[1;36m|\u001b[0mnt\u001b[1;36m|\u001b[0mia\u001b[1;36m]\u001b[0m\n",
      "├ Particle   3 `ti` : 3.87:\t\u001b[1;36m[\u001b[0mSequ\u001b[1;36m|\u001b[0me\u001b[1;36m|\u001b[0mn\u001b[1;36m|\u001b[0mti\u001b[1;36m]\u001b[0m\n",
      "├ Particle   4 `nt` : 4.28:\t\u001b[1;36m[\u001b[0mSe\u001b[1;36m|\u001b[0mqu\u001b[1;36m|\u001b[0me\u001b[1;36m|\u001b[0mnt\u001b[1;36m]\u001b[0m\n",
      "│ Step   4 average weight: 4.1526\n",
      "└╼\n",
      "├ Particle   0 `ent` : 5.38:\t\u001b[1;36m[\u001b[0mS\u001b[1;36m|\u001b[0me\u001b[1;36m|\u001b[0mq\u001b[1;36m|\u001b[0mu\u001b[1;36m|\u001b[0ment\u001b[1;36m]\u001b[0m\n",
      "├ Particle   1 ` ` : 6.07:\t\u001b[1;36m[\u001b[0mSequ\u001b[1;36m|\u001b[0me\u001b[1;36m|\u001b[0mnt\u001b[1;36m|\u001b[0mial\u001b[1;36m|\u001b[0m \u001b[1;36m]\u001b[0m\n",
      "├ Particle   2 `l` : 4.28:\t\u001b[1;36m[\u001b[0mSequ\u001b[1;36m|\u001b[0me\u001b[1;36m|\u001b[0mnt\u001b[1;36m|\u001b[0mia\u001b[1;36m|\u001b[0ml\u001b[1;36m]\u001b[0m\n",
      "├ Particle   3 `al` : 4.56:\t\u001b[1;36m[\u001b[0mSequ\u001b[1;36m|\u001b[0me\u001b[1;36m|\u001b[0mn\u001b[1;36m|\u001b[0mti\u001b[1;36m|\u001b[0mal\u001b[1;36m]\u001b[0m\n",
      "├ Particle   4 `ia` : 5.38:\t\u001b[1;36m[\u001b[0mSe\u001b[1;36m|\u001b[0mqu\u001b[1;36m|\u001b[0me\u001b[1;36m|\u001b[0mnt\u001b[1;36m|\u001b[0mia\u001b[1;36m]\u001b[0m\n",
      "│ Step   5 average weight: 5.3298\n",
      "└╼\n",
      "├ Particle   0 `i` : 6.47:\t\u001b[1;36m[\u001b[0mS\u001b[1;36m|\u001b[0me\u001b[1;36m|\u001b[0mq\u001b[1;36m|\u001b[0mu\u001b[1;36m|\u001b[0ment\u001b[1;36m|\u001b[0mi\u001b[1;36m]\u001b[0m\n",
      "├ Particle   1 `Mont` : 7.45:\t\u001b[1;36m[\u001b[0mSequ\u001b[1;36m|\u001b[0me\u001b[1;36m|\u001b[0mnt\u001b[1;36m|\u001b[0mial\u001b[1;36m|\u001b[0m \u001b[1;36m|\u001b[0mMont\u001b[1;36m]\u001b[0m\n",
      "├ Particle   2 ` ` : 6.07:\t\u001b[1;36m[\u001b[0mSequ\u001b[1;36m|\u001b[0me\u001b[1;36m|\u001b[0mnt\u001b[1;36m|\u001b[0mia\u001b[1;36m|\u001b[0ml\u001b[1;36m|\u001b[0m \u001b[1;36m]\u001b[0m\n",
      "├ Particle   3 ` M` : 6.36:\t\u001b[1;36m[\u001b[0mSequ\u001b[1;36m|\u001b[0me\u001b[1;36m|\u001b[0mn\u001b[1;36m|\u001b[0mti\u001b[1;36m|\u001b[0mal\u001b[1;36m|\u001b[0m M\u001b[1;36m]\u001b[0m\n",
      "├ Particle   4 `l` : 5.38:\t\u001b[1;36m[\u001b[0mSe\u001b[1;36m|\u001b[0mqu\u001b[1;36m|\u001b[0me\u001b[1;36m|\u001b[0mnt\u001b[1;36m|\u001b[0mia\u001b[1;36m|\u001b[0ml\u001b[1;36m]\u001b[0m\n",
      "│ Step   6 average weight: 6.5793\n",
      "└╼\n",
      "├ Particle   0 `a` : 7.17:\t\u001b[1;36m[\u001b[0mS\u001b[1;36m|\u001b[0me\u001b[1;36m|\u001b[0mq\u001b[1;36m|\u001b[0mu\u001b[1;36m|\u001b[0ment\u001b[1;36m|\u001b[0mi\u001b[1;36m|\u001b[0ma\u001b[1;36m]\u001b[0m\n",
      "├ Particle   1 `e` : 7.45:\t\u001b[1;36m[\u001b[0mSequ\u001b[1;36m|\u001b[0me\u001b[1;36m|\u001b[0mnt\u001b[1;36m|\u001b[0mial\u001b[1;36m|\u001b[0m \u001b[1;36m|\u001b[0mMont\u001b[1;36m|\u001b[0me\u001b[1;36m]\u001b[0m\n",
      "├ Particle   2 `Mont` : 7.45:\t\u001b[1;36m[\u001b[0mSequ\u001b[1;36m|\u001b[0me\u001b[1;36m|\u001b[0mnt\u001b[1;36m|\u001b[0mia\u001b[1;36m|\u001b[0ml\u001b[1;36m|\u001b[0m \u001b[1;36m|\u001b[0mMont\u001b[1;36m]\u001b[0m\n",
      "├ Particle   3 `ont` : 7.74:\t\u001b[1;36m[\u001b[0mSequ\u001b[1;36m|\u001b[0me\u001b[1;36m|\u001b[0mn\u001b[1;36m|\u001b[0mti\u001b[1;36m|\u001b[0mal\u001b[1;36m|\u001b[0m M\u001b[1;36m|\u001b[0mont\u001b[1;36m]\u001b[0m\n",
      "├ Particle   4 ` M` : 7.17:\t\u001b[1;36m[\u001b[0mSe\u001b[1;36m|\u001b[0mqu\u001b[1;36m|\u001b[0me\u001b[1;36m|\u001b[0mnt\u001b[1;36m|\u001b[0mia\u001b[1;36m|\u001b[0ml\u001b[1;36m|\u001b[0m M\u001b[1;36m]\u001b[0m\n",
      "│ Step   7 average weight: 7.4208\n",
      "└╼\n",
      "├ Particle   0 `l` : 7.17:\t\u001b[1;36m[\u001b[0mS\u001b[1;36m|\u001b[0me\u001b[1;36m|\u001b[0mq\u001b[1;36m|\u001b[0mu\u001b[1;36m|\u001b[0ment\u001b[1;36m|\u001b[0mi\u001b[1;36m|\u001b[0ma\u001b[1;36m|\u001b[0ml\u001b[1;36m]\u001b[0m\n",
      "├ Particle   1 ` ` : 9.25:\t\u001b[1;36m[\u001b[0mSequ\u001b[1;36m|\u001b[0me\u001b[1;36m|\u001b[0mnt\u001b[1;36m|\u001b[0mial\u001b[1;36m|\u001b[0m \u001b[1;36m|\u001b[0mMont\u001b[1;36m|\u001b[0me\u001b[1;36m|\u001b[0m \u001b[1;36m]\u001b[0m\n",
      "├ Particle   2 `e` : 7.45:\t\u001b[1;36m[\u001b[0mSequ\u001b[1;36m|\u001b[0me\u001b[1;36m|\u001b[0mnt\u001b[1;36m|\u001b[0mia\u001b[1;36m|\u001b[0ml\u001b[1;36m|\u001b[0m \u001b[1;36m|\u001b[0mMont\u001b[1;36m|\u001b[0me\u001b[1;36m]\u001b[0m\n",
      "├ Particle   3 `e` : 7.74:\t\u001b[1;36m[\u001b[0mSequ\u001b[1;36m|\u001b[0me\u001b[1;36m|\u001b[0mn\u001b[1;36m|\u001b[0mti\u001b[1;36m|\u001b[0mal\u001b[1;36m|\u001b[0m M\u001b[1;36m|\u001b[0mont\u001b[1;36m|\u001b[0me\u001b[1;36m]\u001b[0m\n",
      "├ Particle   4 `ont` : 8.55:\t\u001b[1;36m[\u001b[0mSe\u001b[1;36m|\u001b[0mqu\u001b[1;36m|\u001b[0me\u001b[1;36m|\u001b[0mnt\u001b[1;36m|\u001b[0mia\u001b[1;36m|\u001b[0ml\u001b[1;36m|\u001b[0m M\u001b[1;36m|\u001b[0mont\u001b[1;36m]\u001b[0m\n",
      "│ Step   8 average weight: 8.3371\n",
      "└╼\n",
      "├ Particle   0 ` Mon` : 8.96:\t\u001b[1;36m[\u001b[0mS\u001b[1;36m|\u001b[0me\u001b[1;36m|\u001b[0mq\u001b[1;36m|\u001b[0mu\u001b[1;36m|\u001b[0ment\u001b[1;36m|\u001b[0mi\u001b[1;36m|\u001b[0ma\u001b[1;36m|\u001b[0ml\u001b[1;36m|\u001b[0m Mon\u001b[1;36m]\u001b[0m\n",
      "├ Particle   1 `Carl` : 10.63:\t\u001b[1;36m[\u001b[0mSequ\u001b[1;36m|\u001b[0me\u001b[1;36m|\u001b[0mnt\u001b[1;36m|\u001b[0mial\u001b[1;36m|\u001b[0m \u001b[1;36m|\u001b[0mMont\u001b[1;36m|\u001b[0me\u001b[1;36m|\u001b[0m \u001b[1;36m|\u001b[0mCarl\u001b[1;36m]\u001b[0m\n",
      "├ Particle   2 ` ` : 9.25:\t\u001b[1;36m[\u001b[0mSequ\u001b[1;36m|\u001b[0me\u001b[1;36m|\u001b[0mnt\u001b[1;36m|\u001b[0mia\u001b[1;36m|\u001b[0ml\u001b[1;36m|\u001b[0m \u001b[1;36m|\u001b[0mMont\u001b[1;36m|\u001b[0me\u001b[1;36m|\u001b[0m \u001b[1;36m]\u001b[0m\n",
      "├ Particle   3 ` C` : 9.53:\t\u001b[1;36m[\u001b[0mSequ\u001b[1;36m|\u001b[0me\u001b[1;36m|\u001b[0mn\u001b[1;36m|\u001b[0mti\u001b[1;36m|\u001b[0mal\u001b[1;36m|\u001b[0m M\u001b[1;36m|\u001b[0mont\u001b[1;36m|\u001b[0me\u001b[1;36m|\u001b[0m C\u001b[1;36m]\u001b[0m\n",
      "├ Particle   4 `e` : 8.55:\t\u001b[1;36m[\u001b[0mSe\u001b[1;36m|\u001b[0mqu\u001b[1;36m|\u001b[0me\u001b[1;36m|\u001b[0mnt\u001b[1;36m|\u001b[0mia\u001b[1;36m|\u001b[0ml\u001b[1;36m|\u001b[0m M\u001b[1;36m|\u001b[0mont\u001b[1;36m|\u001b[0me\u001b[1;36m]\u001b[0m\n",
      "│ Step   9 average weight: 9.6630\n",
      "└╼\n",
      "├ Particle   0 `t` : 9.65:\t\u001b[1;36m[\u001b[0mS\u001b[1;36m|\u001b[0me\u001b[1;36m|\u001b[0mq\u001b[1;36m|\u001b[0mu\u001b[1;36m|\u001b[0ment\u001b[1;36m|\u001b[0mi\u001b[1;36m|\u001b[0ma\u001b[1;36m|\u001b[0ml\u001b[1;36m|\u001b[0m Mon\u001b[1;36m|\u001b[0mt\u001b[1;36m]\u001b[0m\n",
      "├ Particle   1 `o` : 10.63:\t\u001b[1;36m[\u001b[0mSequ\u001b[1;36m|\u001b[0me\u001b[1;36m|\u001b[0mnt\u001b[1;36m|\u001b[0mial\u001b[1;36m|\u001b[0m \u001b[1;36m|\u001b[0mMont\u001b[1;36m|\u001b[0me\u001b[1;36m|\u001b[0m \u001b[1;36m|\u001b[0mCarl\u001b[1;36m|\u001b[0mo\u001b[1;36m]\u001b[0m\n",
      "├ Particle   2 `Carl` : 10.63:\t\u001b[1;36m[\u001b[0mSequ\u001b[1;36m|\u001b[0me\u001b[1;36m|\u001b[0mnt\u001b[1;36m|\u001b[0mia\u001b[1;36m|\u001b[0ml\u001b[1;36m|\u001b[0m \u001b[1;36m|\u001b[0mMont\u001b[1;36m|\u001b[0me\u001b[1;36m|\u001b[0m \u001b[1;36m|\u001b[0mCarl\u001b[1;36m]\u001b[0m\n",
      "├ Particle   3 `ar` : 10.63:\t\u001b[1;36m[\u001b[0mSequ\u001b[1;36m|\u001b[0me\u001b[1;36m|\u001b[0mn\u001b[1;36m|\u001b[0mti\u001b[1;36m|\u001b[0mal\u001b[1;36m|\u001b[0m M\u001b[1;36m|\u001b[0mont\u001b[1;36m|\u001b[0me\u001b[1;36m|\u001b[0m C\u001b[1;36m|\u001b[0mar\u001b[1;36m]\u001b[0m\n",
      "├ Particle   4 ` C` : 10.35:\t\u001b[1;36m[\u001b[0mSe\u001b[1;36m|\u001b[0mqu\u001b[1;36m|\u001b[0me\u001b[1;36m|\u001b[0mnt\u001b[1;36m|\u001b[0mia\u001b[1;36m|\u001b[0ml\u001b[1;36m|\u001b[0m M\u001b[1;36m|\u001b[0mont\u001b[1;36m|\u001b[0me\u001b[1;36m|\u001b[0m C\u001b[1;36m]\u001b[0m\n",
      "│ Step  10 average weight: 10.4404\n",
      "└╼\n",
      "├ Particle   0 `e` : 9.65:\t\u001b[1;36m[\u001b[0mS\u001b[1;36m|\u001b[0me\u001b[1;36m|\u001b[0mq\u001b[1;36m|\u001b[0mu\u001b[1;36m|\u001b[0ment\u001b[1;36m|\u001b[0mi\u001b[1;36m|\u001b[0ma\u001b[1;36m|\u001b[0ml\u001b[1;36m|\u001b[0m Mon\u001b[1;36m|\u001b[0mt\u001b[1;36m|\u001b[0me\u001b[1;36m]\u001b[0m\n",
      "├ Particle   1 ` is` : 11.73:\t\u001b[1;36m[\u001b[0mSequ\u001b[1;36m|\u001b[0me\u001b[1;36m|\u001b[0mnt\u001b[1;36m|\u001b[0mial\u001b[1;36m|\u001b[0m \u001b[1;36m|\u001b[0mMont\u001b[1;36m|\u001b[0me\u001b[1;36m|\u001b[0m \u001b[1;36m|\u001b[0mCarl\u001b[1;36m|\u001b[0mo\u001b[1;36m|\u001b[0m is\u001b[1;36m]\u001b[0m\n",
      "├ Particle   2 `o` : 10.63:\t\u001b[1;36m[\u001b[0mSequ\u001b[1;36m|\u001b[0me\u001b[1;36m|\u001b[0mnt\u001b[1;36m|\u001b[0mia\u001b[1;36m|\u001b[0ml\u001b[1;36m|\u001b[0m \u001b[1;36m|\u001b[0mMont\u001b[1;36m|\u001b[0me\u001b[1;36m|\u001b[0m \u001b[1;36m|\u001b[0mCarl\u001b[1;36m|\u001b[0mo\u001b[1;36m]\u001b[0m\n",
      "├ Particle   3 `lo` : 11.33:\t\u001b[1;36m[\u001b[0mSequ\u001b[1;36m|\u001b[0me\u001b[1;36m|\u001b[0mn\u001b[1;36m|\u001b[0mti\u001b[1;36m|\u001b[0mal\u001b[1;36m|\u001b[0m M\u001b[1;36m|\u001b[0mont\u001b[1;36m|\u001b[0me\u001b[1;36m|\u001b[0m C\u001b[1;36m|\u001b[0mar\u001b[1;36m|\u001b[0mlo\u001b[1;36m]\u001b[0m\n",
      "├ Particle   4 `ar` : 11.44:\t\u001b[1;36m[\u001b[0mSe\u001b[1;36m|\u001b[0mqu\u001b[1;36m|\u001b[0me\u001b[1;36m|\u001b[0mnt\u001b[1;36m|\u001b[0mia\u001b[1;36m|\u001b[0ml\u001b[1;36m|\u001b[0m M\u001b[1;36m|\u001b[0mont\u001b[1;36m|\u001b[0me\u001b[1;36m|\u001b[0m C\u001b[1;36m|\u001b[0mar\u001b[1;36m]\u001b[0m\n",
      "│ Step  11 average weight: 11.1780\n",
      "└╼\n",
      "├ Particle   0 ` Car` : 11.44:\t\u001b[1;36m[\u001b[0mS\u001b[1;36m|\u001b[0me\u001b[1;36m|\u001b[0mq\u001b[1;36m|\u001b[0mu\u001b[1;36m|\u001b[0ment\u001b[1;36m|\u001b[0mi\u001b[1;36m|\u001b[0ma\u001b[1;36m|\u001b[0ml\u001b[1;36m|\u001b[0m Mon\u001b[1;36m|\u001b[0mt\u001b[1;36m|\u001b[0me\u001b[1;36m|\u001b[0m Car\u001b[1;36m]\u001b[0m\n",
      "├ Particle   1 ` bad` : 13.48:\t\u001b[1;36m[\u001b[0mSequ\u001b[1;36m|\u001b[0me\u001b[1;36m|\u001b[0mnt\u001b[1;36m|\u001b[0mial\u001b[1;36m|\u001b[0m \u001b[1;36m|\u001b[0mMont\u001b[1;36m|\u001b[0me\u001b[1;36m|\u001b[0m \u001b[1;36m|\u001b[0mCarl\u001b[1;36m|\u001b[0mo\u001b[1;36m|\u001b[0m is\u001b[1;36m|\u001b[0m bad\u001b[1;36m]\u001b[0m\n",
      "├ Particle   2 ` i` : 11.73:\t\u001b[1;36m[\u001b[0mSequ\u001b[1;36m|\u001b[0me\u001b[1;36m|\u001b[0mnt\u001b[1;36m|\u001b[0mia\u001b[1;36m|\u001b[0ml\u001b[1;36m|\u001b[0m \u001b[1;36m|\u001b[0mMont\u001b[1;36m|\u001b[0me\u001b[1;36m|\u001b[0m \u001b[1;36m|\u001b[0mCarl\u001b[1;36m|\u001b[0mo\u001b[1;36m|\u001b[0m i\u001b[1;36m]\u001b[0m\n",
      "├ Particle   3 ` i` : 12.42:\t\u001b[1;36m[\u001b[0mSequ\u001b[1;36m|\u001b[0me\u001b[1;36m|\u001b[0mn\u001b[1;36m|\u001b[0mti\u001b[1;36m|\u001b[0mal\u001b[1;36m|\u001b[0m M\u001b[1;36m|\u001b[0mont\u001b[1;36m|\u001b[0me\u001b[1;36m|\u001b[0m C\u001b[1;36m|\u001b[0mar\u001b[1;36m|\u001b[0mlo\u001b[1;36m|\u001b[0m i\u001b[1;36m]\u001b[0m\n",
      "├ Particle   4 `lo` : 12.14:\t\u001b[1;36m[\u001b[0mSe\u001b[1;36m|\u001b[0mqu\u001b[1;36m|\u001b[0me\u001b[1;36m|\u001b[0mnt\u001b[1;36m|\u001b[0mia\u001b[1;36m|\u001b[0ml\u001b[1;36m|\u001b[0m M\u001b[1;36m|\u001b[0mont\u001b[1;36m|\u001b[0me\u001b[1;36m|\u001b[0m C\u001b[1;36m|\u001b[0mar\u001b[1;36m|\u001b[0mlo\u001b[1;36m]\u001b[0m\n",
      "│ Step  12 average weight: 12.5179\n",
      "└╼\n",
      "├ Particle   0 `l` : 12.14:\t\u001b[1;36m[\u001b[0mS\u001b[1;36m|\u001b[0me\u001b[1;36m|\u001b[0mq\u001b[1;36m|\u001b[0mu\u001b[1;36m|\u001b[0ment\u001b[1;36m|\u001b[0mi\u001b[1;36m|\u001b[0ma\u001b[1;36m|\u001b[0ml\u001b[1;36m|\u001b[0m Mon\u001b[1;36m|\u001b[0mt\u001b[1;36m|\u001b[0me\u001b[1;36m|\u001b[0m Car\u001b[1;36m|\u001b[0ml\u001b[1;36m]\u001b[0m\n",
      "├ Particle   1 `▪` : 13.48:\t\u001b[1;36m[\u001b[0mSequ\u001b[1;36m|\u001b[0me\u001b[1;36m|\u001b[0mnt\u001b[1;36m|\u001b[0mial\u001b[1;36m|\u001b[0m \u001b[1;36m|\u001b[0mMont\u001b[1;36m|\u001b[0me\u001b[1;36m|\u001b[0m \u001b[1;36m|\u001b[0mCarl\u001b[1;36m|\u001b[0mo\u001b[1;36m|\u001b[0m is\u001b[1;36m|\u001b[0m bad\u001b[1;36m|\u001b[0m▪\u001b[1;36m]\u001b[0m\n",
      "├ Particle   2 `s` : 11.73:\t\u001b[1;36m[\u001b[0mSequ\u001b[1;36m|\u001b[0me\u001b[1;36m|\u001b[0mnt\u001b[1;36m|\u001b[0mia\u001b[1;36m|\u001b[0ml\u001b[1;36m|\u001b[0m \u001b[1;36m|\u001b[0mMont\u001b[1;36m|\u001b[0me\u001b[1;36m|\u001b[0m \u001b[1;36m|\u001b[0mCarl\u001b[1;36m|\u001b[0mo\u001b[1;36m|\u001b[0m i\u001b[1;36m|\u001b[0ms\u001b[1;36m]\u001b[0m\n",
      "├ Particle   3 `s` : 12.42:\t\u001b[1;36m[\u001b[0mSequ\u001b[1;36m|\u001b[0me\u001b[1;36m|\u001b[0mn\u001b[1;36m|\u001b[0mti\u001b[1;36m|\u001b[0mal\u001b[1;36m|\u001b[0m M\u001b[1;36m|\u001b[0mont\u001b[1;36m|\u001b[0me\u001b[1;36m|\u001b[0m C\u001b[1;36m|\u001b[0mar\u001b[1;36m|\u001b[0mlo\u001b[1;36m|\u001b[0m i\u001b[1;36m|\u001b[0ms\u001b[1;36m]\u001b[0m\n",
      "├ Particle   4 ` i` : 13.24:\t\u001b[1;36m[\u001b[0mSe\u001b[1;36m|\u001b[0mqu\u001b[1;36m|\u001b[0me\u001b[1;36m|\u001b[0mnt\u001b[1;36m|\u001b[0mia\u001b[1;36m|\u001b[0ml\u001b[1;36m|\u001b[0m M\u001b[1;36m|\u001b[0mont\u001b[1;36m|\u001b[0me\u001b[1;36m|\u001b[0m C\u001b[1;36m|\u001b[0mar\u001b[1;36m|\u001b[0mlo\u001b[1;36m|\u001b[0m i\u001b[1;36m]\u001b[0m\n",
      "│ Step  13 average weight: 12.8117\n",
      "└╼\n",
      "├ Particle   0 `o` : 12.14:\t\u001b[1;36m[\u001b[0mS\u001b[1;36m|\u001b[0me\u001b[1;36m|\u001b[0mq\u001b[1;36m|\u001b[0mu\u001b[1;36m|\u001b[0ment\u001b[1;36m|\u001b[0mi\u001b[1;36m|\u001b[0ma\u001b[1;36m|\u001b[0ml\u001b[1;36m|\u001b[0m Mon\u001b[1;36m|\u001b[0mt\u001b[1;36m|\u001b[0me\u001b[1;36m|\u001b[0m Car\u001b[1;36m|\u001b[0ml\u001b[1;36m|\u001b[0mo\u001b[1;36m]\u001b[0m\n",
      "├ Particle   1 `▪` : 13.48:\t\u001b[1;36m[\u001b[0mSequ\u001b[1;36m|\u001b[0me\u001b[1;36m|\u001b[0mnt\u001b[1;36m|\u001b[0mial\u001b[1;36m|\u001b[0m \u001b[1;36m|\u001b[0mMont\u001b[1;36m|\u001b[0me\u001b[1;36m|\u001b[0m \u001b[1;36m|\u001b[0mCarl\u001b[1;36m|\u001b[0mo\u001b[1;36m|\u001b[0m is\u001b[1;36m|\u001b[0m bad\u001b[1;36m|\u001b[0m▪\u001b[1;36m]\u001b[0m\n",
      "├ Particle   2 ` b` : 13.48:\t\u001b[1;36m[\u001b[0mSequ\u001b[1;36m|\u001b[0me\u001b[1;36m|\u001b[0mnt\u001b[1;36m|\u001b[0mia\u001b[1;36m|\u001b[0ml\u001b[1;36m|\u001b[0m \u001b[1;36m|\u001b[0mMont\u001b[1;36m|\u001b[0me\u001b[1;36m|\u001b[0m \u001b[1;36m|\u001b[0mCarl\u001b[1;36m|\u001b[0mo\u001b[1;36m|\u001b[0m i\u001b[1;36m|\u001b[0ms\u001b[1;36m|\u001b[0m b\u001b[1;36m]\u001b[0m\n",
      "├ Particle   3 ` b` : 14.17:\t\u001b[1;36m[\u001b[0mSequ\u001b[1;36m|\u001b[0me\u001b[1;36m|\u001b[0mn\u001b[1;36m|\u001b[0mti\u001b[1;36m|\u001b[0mal\u001b[1;36m|\u001b[0m M\u001b[1;36m|\u001b[0mont\u001b[1;36m|\u001b[0me\u001b[1;36m|\u001b[0m C\u001b[1;36m|\u001b[0mar\u001b[1;36m|\u001b[0mlo\u001b[1;36m|\u001b[0m i\u001b[1;36m|\u001b[0ms\u001b[1;36m|\u001b[0m b\u001b[1;36m]\u001b[0m\n",
      "├ Particle   4 `s` : 13.24:\t\u001b[1;36m[\u001b[0mSe\u001b[1;36m|\u001b[0mqu\u001b[1;36m|\u001b[0me\u001b[1;36m|\u001b[0mnt\u001b[1;36m|\u001b[0mia\u001b[1;36m|\u001b[0ml\u001b[1;36m|\u001b[0m M\u001b[1;36m|\u001b[0mont\u001b[1;36m|\u001b[0me\u001b[1;36m|\u001b[0m C\u001b[1;36m|\u001b[0mar\u001b[1;36m|\u001b[0mlo\u001b[1;36m|\u001b[0m i\u001b[1;36m|\u001b[0ms\u001b[1;36m]\u001b[0m\n",
      "│ Step  14 average weight: 13.4863\n",
      "└╼\n",
      "├ Particle   0 ` ` : 13.24:\t\u001b[1;36m[\u001b[0mS\u001b[1;36m|\u001b[0me\u001b[1;36m|\u001b[0mq\u001b[1;36m|\u001b[0mu\u001b[1;36m|\u001b[0ment\u001b[1;36m|\u001b[0mi\u001b[1;36m|\u001b[0ma\u001b[1;36m|\u001b[0ml\u001b[1;36m|\u001b[0m Mon\u001b[1;36m|\u001b[0mt\u001b[1;36m|\u001b[0me\u001b[1;36m|\u001b[0m Car\u001b[1;36m|\u001b[0ml\u001b[1;36m|\u001b[0mo\u001b[1;36m|\u001b[0m \u001b[1;36m]\u001b[0m\n",
      "├ Particle   1 `▪` : 13.48:\t\u001b[1;36m[\u001b[0mSequ\u001b[1;36m|\u001b[0me\u001b[1;36m|\u001b[0mnt\u001b[1;36m|\u001b[0mial\u001b[1;36m|\u001b[0m \u001b[1;36m|\u001b[0mMont\u001b[1;36m|\u001b[0me\u001b[1;36m|\u001b[0m \u001b[1;36m|\u001b[0mCarl\u001b[1;36m|\u001b[0mo\u001b[1;36m|\u001b[0m is\u001b[1;36m|\u001b[0m bad\u001b[1;36m|\u001b[0m▪\u001b[1;36m]\u001b[0m\n",
      "├ Particle   2 `ad` : 14.17:\t\u001b[1;36m[\u001b[0mSequ\u001b[1;36m|\u001b[0me\u001b[1;36m|\u001b[0mnt\u001b[1;36m|\u001b[0mia\u001b[1;36m|\u001b[0ml\u001b[1;36m|\u001b[0m \u001b[1;36m|\u001b[0mMont\u001b[1;36m|\u001b[0me\u001b[1;36m|\u001b[0m \u001b[1;36m|\u001b[0mCarl\u001b[1;36m|\u001b[0mo\u001b[1;36m|\u001b[0m i\u001b[1;36m|\u001b[0ms\u001b[1;36m|\u001b[0m b\u001b[1;36m|\u001b[0mad\u001b[1;36m]\u001b[0m\n",
      "├ Particle   3 `a` : 14.86:\t\u001b[1;36m[\u001b[0mSequ\u001b[1;36m|\u001b[0me\u001b[1;36m|\u001b[0mn\u001b[1;36m|\u001b[0mti\u001b[1;36m|\u001b[0mal\u001b[1;36m|\u001b[0m M\u001b[1;36m|\u001b[0mont\u001b[1;36m|\u001b[0me\u001b[1;36m|\u001b[0m C\u001b[1;36m|\u001b[0mar\u001b[1;36m|\u001b[0mlo\u001b[1;36m|\u001b[0m i\u001b[1;36m|\u001b[0ms\u001b[1;36m|\u001b[0m b\u001b[1;36m|\u001b[0ma\u001b[1;36m]\u001b[0m\n",
      "├ Particle   4 ` go` : 15.46:\t\u001b[1;36m[\u001b[0mSe\u001b[1;36m|\u001b[0mqu\u001b[1;36m|\u001b[0me\u001b[1;36m|\u001b[0mnt\u001b[1;36m|\u001b[0mia\u001b[1;36m|\u001b[0ml\u001b[1;36m|\u001b[0m M\u001b[1;36m|\u001b[0mont\u001b[1;36m|\u001b[0me\u001b[1;36m|\u001b[0m C\u001b[1;36m|\u001b[0mar\u001b[1;36m|\u001b[0mlo\u001b[1;36m|\u001b[0m i\u001b[1;36m|\u001b[0ms\u001b[1;36m|\u001b[0m go\u001b[1;36m]\u001b[0m\n",
      "│ Step  15 average weight: 14.5766\n",
      "└╼\n",
      "├ Particle   0 `i` : 13.93:\t\u001b[1;36m[\u001b[0mS\u001b[1;36m|\u001b[0me\u001b[1;36m|\u001b[0mq\u001b[1;36m|\u001b[0mu\u001b[1;36m|\u001b[0ment\u001b[1;36m|\u001b[0mi\u001b[1;36m|\u001b[0ma\u001b[1;36m|\u001b[0ml\u001b[1;36m|\u001b[0m Mon\u001b[1;36m|\u001b[0mt\u001b[1;36m|\u001b[0me\u001b[1;36m|\u001b[0m Car\u001b[1;36m|\u001b[0ml\u001b[1;36m|\u001b[0mo\u001b[1;36m|\u001b[0m \u001b[1;36m|\u001b[0mi\u001b[1;36m]\u001b[0m\n",
      "├ Particle   1 `▪` : 13.48:\t\u001b[1;36m[\u001b[0mSequ\u001b[1;36m|\u001b[0me\u001b[1;36m|\u001b[0mnt\u001b[1;36m|\u001b[0mial\u001b[1;36m|\u001b[0m \u001b[1;36m|\u001b[0mMont\u001b[1;36m|\u001b[0me\u001b[1;36m|\u001b[0m \u001b[1;36m|\u001b[0mCarl\u001b[1;36m|\u001b[0mo\u001b[1;36m|\u001b[0m is\u001b[1;36m|\u001b[0m bad\u001b[1;36m|\u001b[0m▪\u001b[1;36m]\u001b[0m\n",
      "├ Particle   2 `▪` : 14.17:\t\u001b[1;36m[\u001b[0mSequ\u001b[1;36m|\u001b[0me\u001b[1;36m|\u001b[0mnt\u001b[1;36m|\u001b[0mia\u001b[1;36m|\u001b[0ml\u001b[1;36m|\u001b[0m \u001b[1;36m|\u001b[0mMont\u001b[1;36m|\u001b[0me\u001b[1;36m|\u001b[0m \u001b[1;36m|\u001b[0mCarl\u001b[1;36m|\u001b[0mo\u001b[1;36m|\u001b[0m i\u001b[1;36m|\u001b[0ms\u001b[1;36m|\u001b[0m b\u001b[1;36m|\u001b[0mad\u001b[1;36m|\u001b[0m▪\u001b[1;36m]\u001b[0m\n",
      "├ Particle   3 `d` : 14.86:\t\u001b[1;36m[\u001b[0mSequ\u001b[1;36m|\u001b[0me\u001b[1;36m|\u001b[0mn\u001b[1;36m|\u001b[0mti\u001b[1;36m|\u001b[0mal\u001b[1;36m|\u001b[0m M\u001b[1;36m|\u001b[0mont\u001b[1;36m|\u001b[0me\u001b[1;36m|\u001b[0m C\u001b[1;36m|\u001b[0mar\u001b[1;36m|\u001b[0mlo\u001b[1;36m|\u001b[0m i\u001b[1;36m|\u001b[0ms\u001b[1;36m|\u001b[0m b\u001b[1;36m|\u001b[0ma\u001b[1;36m|\u001b[0md\u001b[1;36m]\u001b[0m\n",
      "├ Particle   4 `od` : 16.15:\t\u001b[1;36m[\u001b[0mSe\u001b[1;36m|\u001b[0mqu\u001b[1;36m|\u001b[0me\u001b[1;36m|\u001b[0mnt\u001b[1;36m|\u001b[0mia\u001b[1;36m|\u001b[0ml\u001b[1;36m|\u001b[0m M\u001b[1;36m|\u001b[0mont\u001b[1;36m|\u001b[0me\u001b[1;36m|\u001b[0m C\u001b[1;36m|\u001b[0mar\u001b[1;36m|\u001b[0mlo\u001b[1;36m|\u001b[0m i\u001b[1;36m|\u001b[0ms\u001b[1;36m|\u001b[0m go\u001b[1;36m|\u001b[0mod\u001b[1;36m]\u001b[0m\n",
      "│ Step  16 average weight: 15.0044\n",
      "└╼  Resampling! [4 3 4 2 4]. Weights all set to = 15.0044.\n",
      "├ Particle   0 `▪` : 15.00:\t\u001b[1;36m[\u001b[0mSe\u001b[1;36m|\u001b[0mqu\u001b[1;36m|\u001b[0me\u001b[1;36m|\u001b[0mnt\u001b[1;36m|\u001b[0mia\u001b[1;36m|\u001b[0ml\u001b[1;36m|\u001b[0m M\u001b[1;36m|\u001b[0mont\u001b[1;36m|\u001b[0me\u001b[1;36m|\u001b[0m C\u001b[1;36m|\u001b[0mar\u001b[1;36m|\u001b[0mlo\u001b[1;36m|\u001b[0m i\u001b[1;36m|\u001b[0ms\u001b[1;36m|\u001b[0m go\u001b[1;36m|\u001b[0mod\u001b[1;36m|\u001b[0m▪\u001b[1;36m]\u001b[0m\n",
      "├ Particle   1 `▪` : 15.00:\t\u001b[1;36m[\u001b[0mSequ\u001b[1;36m|\u001b[0me\u001b[1;36m|\u001b[0mn\u001b[1;36m|\u001b[0mti\u001b[1;36m|\u001b[0mal\u001b[1;36m|\u001b[0m M\u001b[1;36m|\u001b[0mont\u001b[1;36m|\u001b[0me\u001b[1;36m|\u001b[0m C\u001b[1;36m|\u001b[0mar\u001b[1;36m|\u001b[0mlo\u001b[1;36m|\u001b[0m i\u001b[1;36m|\u001b[0ms\u001b[1;36m|\u001b[0m b\u001b[1;36m|\u001b[0ma\u001b[1;36m|\u001b[0md\u001b[1;36m|\u001b[0m▪\u001b[1;36m]\u001b[0m\n",
      "├ Particle   2 `▪` : 15.00:\t\u001b[1;36m[\u001b[0mSe\u001b[1;36m|\u001b[0mqu\u001b[1;36m|\u001b[0me\u001b[1;36m|\u001b[0mnt\u001b[1;36m|\u001b[0mia\u001b[1;36m|\u001b[0ml\u001b[1;36m|\u001b[0m M\u001b[1;36m|\u001b[0mont\u001b[1;36m|\u001b[0me\u001b[1;36m|\u001b[0m C\u001b[1;36m|\u001b[0mar\u001b[1;36m|\u001b[0mlo\u001b[1;36m|\u001b[0m i\u001b[1;36m|\u001b[0ms\u001b[1;36m|\u001b[0m go\u001b[1;36m|\u001b[0mod\u001b[1;36m|\u001b[0m▪\u001b[1;36m]\u001b[0m\n",
      "├ Particle   3 `▪` : 15.00:\t\u001b[1;36m[\u001b[0mSequ\u001b[1;36m|\u001b[0me\u001b[1;36m|\u001b[0mnt\u001b[1;36m|\u001b[0mia\u001b[1;36m|\u001b[0ml\u001b[1;36m|\u001b[0m \u001b[1;36m|\u001b[0mMont\u001b[1;36m|\u001b[0me\u001b[1;36m|\u001b[0m \u001b[1;36m|\u001b[0mCarl\u001b[1;36m|\u001b[0mo\u001b[1;36m|\u001b[0m i\u001b[1;36m|\u001b[0ms\u001b[1;36m|\u001b[0m b\u001b[1;36m|\u001b[0mad\u001b[1;36m|\u001b[0m▪\u001b[1;36m]\u001b[0m\n",
      "├ Particle   4 `▪` : 15.00:\t\u001b[1;36m[\u001b[0mSe\u001b[1;36m|\u001b[0mqu\u001b[1;36m|\u001b[0me\u001b[1;36m|\u001b[0mnt\u001b[1;36m|\u001b[0mia\u001b[1;36m|\u001b[0ml\u001b[1;36m|\u001b[0m M\u001b[1;36m|\u001b[0mont\u001b[1;36m|\u001b[0me\u001b[1;36m|\u001b[0m C\u001b[1;36m|\u001b[0mar\u001b[1;36m|\u001b[0mlo\u001b[1;36m|\u001b[0m i\u001b[1;36m|\u001b[0ms\u001b[1;36m|\u001b[0m go\u001b[1;36m|\u001b[0mod\u001b[1;36m|\u001b[0m▪\u001b[1;36m]\u001b[0m\n",
      "│ Step  17 average weight: 15.0044\n",
      "└╼\n",
      "Inference completed.\n"
     ]
    }
   ],
   "source": [
    "# Run inference with a single space as the initial prompt, 5 particles,\n",
    "# and set verbosity to 1 to print progress to the console\n",
    "inference_result = inference_setup(' ', n_particles=5, verbosity=1)\n",
    "print('Inference completed.')"
   ]
  }
 ],
 "metadata": {
  "kernelspec": {
   "display_name": "Python conda genparse",
   "language": "python",
   "name": "genparse"
  },
  "language_info": {
   "codemirror_mode": {
    "name": "ipython",
    "version": 3
   },
   "file_extension": ".py",
   "mimetype": "text/x-python",
   "name": "python",
   "nbconvert_exporter": "python",
   "pygments_lexer": "ipython3",
   "version": "3.12.7"
  }
 },
 "nbformat": 4,
 "nbformat_minor": 5
}
