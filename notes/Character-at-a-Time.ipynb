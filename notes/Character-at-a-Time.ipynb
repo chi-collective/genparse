{
 "cells": [
  {
   "cell_type": "code",
   "execution_count": null,
   "id": "21cf5561-f02d-4229-9d3d-b8326bf292b2",
   "metadata": {},
   "outputs": [],
   "source": [
    "%load_ext autoreload\n",
    "%autoreload 2"
   ]
  },
  {
   "cell_type": "code",
   "execution_count": null,
   "id": "d5ca93c9-4d9d-4bb1-b87f-fefc8d609d7c",
   "metadata": {},
   "outputs": [],
   "source": [
    "from genparse import Float, CFGLM\n",
    "from genparse.cfglm import locally_normalize, EOS, ERROR\n",
    "from genparse.align.trie import TokenTrieApproximation, NextTokenTrie\n",
    "from genparse.lm import GreedilyTokenizedLLM\n",
    "from genparse.util import LarkStuff, display_table\n",
    "from genparse.inference import TraceSWOR"
   ]
  },
  {
   "cell_type": "code",
   "execution_count": null,
   "id": "c149b3b0-5388-48ab-9c28-1f853bf8f12e",
   "metadata": {},
   "outputs": [],
   "source": [
    "llm = GreedilyTokenizedLLM(\"gpt2\")"
   ]
  },
  {
   "cell_type": "code",
   "execution_count": null,
   "id": "4757709c-95b5-4af8-8dea-2c78b2976456",
   "metadata": {},
   "outputs": [],
   "source": [
    "prompt = 'Hello my name is'\n",
    "pp = llm.p_next(prompt, 10).normalize()\n",
    "pp"
   ]
  },
  {
   "cell_type": "code",
   "execution_count": null,
   "id": "eaa4a31e-421c-4068-a545-7853af9f6ceb",
   "metadata": {},
   "outputs": [],
   "source": [
    "# create a character-level trie for the next token given the prompt\n",
    "#NextTokenTrie(pp).show()"
   ]
  },
  {
   "cell_type": "code",
   "execution_count": null,
   "id": "a5bcbd68-049e-46cf-acc5-01af1d6b670d",
   "metadata": {},
   "outputs": [],
   "source": [
    "pcfg = CFGLM(locally_normalize(LarkStuff(r\"\"\"\n",
    "\n",
    "start: /[ ]*(|Mr\\.[ ]|Dr\\.[ ])Tim(othy)?[ ](|Fabbri[ ])Vieira(|,[ ]Ph\\.D\\.)/\n",
    "\n",
    "\"\"\").char_cfg(.99), tol=1e-100))"
   ]
  },
  {
   "cell_type": "code",
   "execution_count": null,
   "id": "0c2047f9-9102-47b9-8ccb-251c9618a34d",
   "metadata": {},
   "outputs": [],
   "source": [
    "print(repr(''.join(pcfg.sample())))"
   ]
  },
  {
   "cell_type": "code",
   "execution_count": null,
   "id": "7a247b30-5798-4c18-b0cd-1858791be4eb",
   "metadata": {},
   "outputs": [],
   "source": []
  },
  {
   "cell_type": "code",
   "execution_count": null,
   "id": "12b97356-3175-46f4-a3b4-69c3acc2005c",
   "metadata": {},
   "outputs": [],
   "source": [
    "token_trie_approx = TokenTrieApproximation(llm, pcfg)\n",
    "tracer = TraceSWOR()\n",
    "for _ in range(1):\n",
    "    with tracer:\n",
    "        print('----------------------------------')\n",
    "        print(tracer.root.mass)\n",
    "        ys = token_trie_approx.sample(prompt, max_tokens=50, draw=tracer, verbosity=1)\n",
    "        print(ys)"
   ]
  },
  {
   "cell_type": "code",
   "execution_count": null,
   "id": "ace39a45-6410-46b7-b5bf-d464ceb36d4c",
   "metadata": {},
   "outputs": [],
   "source": [
    "tracer.root.graphviz(fmt_node=lambda x: f'{x._mass:.3g}', fmt_edge=lambda i,a,j: repr(a))"
   ]
  },
  {
   "cell_type": "code",
   "execution_count": null,
   "id": "374443b8-faa4-43e9-8525-7cd6c282b18d",
   "metadata": {},
   "outputs": [],
   "source": []
  },
  {
   "cell_type": "code",
   "execution_count": null,
   "id": "5d3819b9-fbaa-4347-ba30-04dfe129c265",
   "metadata": {},
   "outputs": [],
   "source": [
    "fruit = CFGLM(locally_normalize(LarkStuff(r\"\"\"\n",
    "start: (|\" \") sentence\n",
    "\n",
    "sentence: noun verb noun        \n",
    "        | noun verb \"like\" noun \n",
    "\n",
    "noun: det* adj* NOUN\n",
    "verb: VERB\n",
    "adj: ADJ\n",
    "det: \"a\" | \"the\"\n",
    "\n",
    "NOUN: \"flies\" | \"banana\" | \"fruit\"\n",
    "VERB: \"like\" | \"flies\"\n",
    "ADJ: \"fruit\"\n",
    "\n",
    "\"\"\").char_cfg(.99, ignore='[ ]?'), tol=1e-100))"
   ]
  },
  {
   "cell_type": "code",
   "execution_count": null,
   "id": "3af2eb3e-6512-403a-a4bb-72f66b48d972",
   "metadata": {},
   "outputs": [],
   "source": [
    "''.join(fruit.sample())"
   ]
  },
  {
   "cell_type": "code",
   "execution_count": null,
   "id": "a3ca6b23-4c3c-430e-a229-544825195aca",
   "metadata": {},
   "outputs": [],
   "source": [
    "#fruit.cfg.language(20).project(lambda x: ''.join(x))"
   ]
  },
  {
   "cell_type": "code",
   "execution_count": null,
   "id": "e41f9ceb-4577-4594-98e0-d7177a91f231",
   "metadata": {},
   "outputs": [],
   "source": [
    "fruit('fruit flies like a banana ' + EOS)"
   ]
  },
  {
   "cell_type": "code",
   "execution_count": null,
   "id": "605aefd4-bba3-4a72-89f9-ec119bd5d86a",
   "metadata": {},
   "outputs": [],
   "source": [
    "prompt = 'The following is a favorite sentence among linguists:'\n",
    "token_trie_approx = TokenTrieApproximation(llm, fruit)\n",
    "tracer = TraceSWOR()\n",
    "for _ in range(1):\n",
    "    with tracer:\n",
    "        print('----------------------------------')\n",
    "        print(tracer.root.mass)\n",
    "        ys = token_trie_approx.sample(prompt, max_tokens=50, draw=tracer)\n",
    "        print(ys)"
   ]
  },
  {
   "cell_type": "code",
   "execution_count": null,
   "id": "b19a7861-45ab-40c5-97ad-b2bff3e88139",
   "metadata": {},
   "outputs": [],
   "source": []
  }
 ],
 "metadata": {
  "kernelspec": {
   "display_name": "Python 3 (ipykernel)",
   "language": "python",
   "name": "python3"
  },
  "language_info": {
   "codemirror_mode": {
    "name": "ipython",
    "version": 3
   },
   "file_extension": ".py",
   "mimetype": "text/x-python",
   "name": "python",
   "nbconvert_exporter": "python",
   "pygments_lexer": "ipython3",
   "version": "3.10.12"
  }
 },
 "nbformat": 4,
 "nbformat_minor": 5
}
