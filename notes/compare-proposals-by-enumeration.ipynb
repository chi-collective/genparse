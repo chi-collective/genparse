{
 "cells": [
  {
   "cell_type": "code",
   "execution_count": 1,
   "metadata": {},
   "outputs": [],
   "source": [
    "%load_ext autoreload\n",
    "%autoreload 2"
   ]
  },
  {
   "cell_type": "code",
   "execution_count": 2,
   "metadata": {},
   "outputs": [
    {
     "name": "stdout",
     "output_type": "stream",
     "text": [
      "WARNING 07-10 17:26:12 _custom_ops.py:14] Failed to import from vllm._C with ImportError('libcuda.so.1: cannot open shared object file: No such file or directory')\n"
     ]
    }
   ],
   "source": [
    "from genparse import Float\n",
    "from genparse.trace import TraceSWOR\n",
    "from genparse.lm import MockLLM\n",
    "from genparse.util import lark_guide, format_table\n",
    "from genparse.proposal import TokenProposal, CharacterProposal\n",
    "from arsenal.maths import assert_equal, random_dist\n",
    "\n",
    "import asyncio\n",
    "import nest_asyncio\n",
    "nest_asyncio.apply()"
   ]
  },
  {
   "cell_type": "code",
   "execution_count": 3,
   "metadata": {},
   "outputs": [],
   "source": [
    "class enumerate_proposal_distribution:\n",
    "    def __init__(self, proposal, prompt, context):\n",
    "        tracer = TraceSWOR()\n",
    "        P = Float.chart()\n",
    "        while tracer.root.mass > 0:\n",
    "            with tracer:\n",
    "                (s, q, w) = asyncio.run(\n",
    "                    proposal.sample_next_token(draw=tracer, prompt=prompt, context=context)\n",
    "                )\n",
    "                P[s] += q\n",
    "        self.P = P\n",
    "        self.tracer = tracer\n",
    "    def _repr_html_(self):\n",
    "        return format_table([[self.P, self.tracer.root.graphviz(fmt_edge=lambda i,a,j: a.replace(' ', '␣'))]])"
   ]
  },
  {
   "cell_type": "code",
   "execution_count": 4,
   "metadata": {},
   "outputs": [],
   "source": [
    "if 1:\n",
    "    V = {' a', ' b', ' ab', '▪'}\n",
    "    \n",
    "    grammar = r\"\"\"\n",
    "        start: WS x EOS\n",
    "        EOS: \"▪\"\n",
    "        x: \"a\" | \"b\"\n",
    "        WS: /[ ]/\n",
    "    \"\"\""
   ]
  },
  {
   "cell_type": "code",
   "execution_count": 5,
   "metadata": {},
   "outputs": [],
   "source": [
    "if 0:\n",
    "    V = {' a', ' b', ' ac', '▪'}\n",
    "    \n",
    "    grammar = r\"\"\"\n",
    "        start: WS x EOS\n",
    "        EOS: \"▪\"\n",
    "        x: \"a\" | \"b\"\n",
    "        WS: /[ ]/\n",
    "    \"\"\""
   ]
  },
  {
   "cell_type": "code",
   "execution_count": 6,
   "metadata": {},
   "outputs": [
    {
     "data": {
      "text/html": [
       "<div>\n",
       "<style scoped>\n",
       "    .dataframe tbody tr th:only-of-type {\n",
       "        vertical-align: middle;\n",
       "    }\n",
       "\n",
       "    .dataframe tbody tr th {\n",
       "        vertical-align: top;\n",
       "    }\n",
       "\n",
       "    .dataframe thead th {\n",
       "        text-align: right;\n",
       "    }\n",
       "</style>\n",
       "<table border=\"1\" class=\"dataframe\">\n",
       "  <thead>\n",
       "    <tr style=\"text-align: right;\">\n",
       "      <th></th>\n",
       "      <th>key</th>\n",
       "      <th>self</th>\n",
       "      <th>other</th>\n",
       "      <th>metric</th>\n",
       "    </tr>\n",
       "  </thead>\n",
       "  <tbody>\n",
       "    <tr>\n",
       "      <th>0</th>\n",
       "      <td>b</td>\n",
       "      <td>0.333333</td>\n",
       "      <td>0.5</td>\n",
       "      <td>0.166667</td>\n",
       "    </tr>\n",
       "    <tr>\n",
       "      <th>1</th>\n",
       "      <td>a</td>\n",
       "      <td>0.666667</td>\n",
       "      <td>0.5</td>\n",
       "      <td>0.166667</td>\n",
       "    </tr>\n",
       "  </tbody>\n",
       "</table>\n",
       "</div>"
      ],
      "text/plain": [
       "  key      self  other    metric\n",
       "0   b  0.333333    0.5  0.166667\n",
       "1   a  0.666667    0.5  0.166667"
      ]
     },
     "metadata": {},
     "output_type": "display_data"
    }
   ],
   "source": [
    "llm = MockLLM(V=V, eos='▪', _p=None)\n",
    "guide = lark_guide(grammar)\n",
    "\n",
    "character_proposal = CharacterProposal(llm=llm, guide=guide)\n",
    "token_proposal = TokenProposal(llm=llm, guide=guide, K=None)\n",
    "\n",
    "prompt = ()\n",
    "context = ()\n",
    "\n",
    "# computes q(token) = Σ_S q(token, S)\n",
    "chr = enumerate_proposal_distribution(character_proposal, prompt, context)\n",
    "# P_tok = local product of experts\n",
    "tok = enumerate_proposal_distribution(token_proposal, prompt, context)\n",
    "\n",
    "#for v in V: print(repr(v), chr.P[v], tok.P[v])\n",
    "\n",
    "display(chr.P.compare(tok.P))"
   ]
  },
  {
   "cell_type": "code",
   "execution_count": 7,
   "metadata": {},
   "outputs": [
    {
     "data": {
      "text/html": [
       "<table><tr><td><div style=\"font-family: Monospace;\"><table><tr style=\"font-weight: bold;\"><td>key</td><td>value</td></tr><tr><td><pre> a</pre></td><td><pre>0.6666666666666666</pre></td> </tr><tr><td><pre> b</pre></td><td><pre>0.3333333333333333</pre></td> </tr></table></div></td><td><?xml version=\"1.0\" encoding=\"UTF-8\" standalone=\"no\"?>\n",
       "<!DOCTYPE svg PUBLIC \"-//W3C//DTD SVG 1.1//EN\"\n",
       " \"http://www.w3.org/Graphics/SVG/1.1/DTD/svg11.dtd\">\n",
       "<!-- Generated by graphviz version 2.43.0 (0)\n",
       " -->\n",
       "<!-- Title: %3 Pages: 1 -->\n",
       "<svg width=\"235pt\" height=\"62pt\"\n",
       " viewBox=\"0.00 0.00 235.00 61.50\" xmlns=\"http://www.w3.org/2000/svg\" xmlns:xlink=\"http://www.w3.org/1999/xlink\">\n",
       "<g id=\"graph0\" class=\"graph\" transform=\"scale(1 1) rotate(0) translate(4 57.5)\">\n",
       "<title>%3</title>\n",
       "<polygon fill=\"white\" stroke=\"transparent\" points=\"-4,4 -4,-57.5 231,-57.5 231,4 -4,4\"/>\n",
       "<!-- 0 -->\n",
       "<g id=\"node1\" class=\"node\">\n",
       "<title>0</title>\n",
       "<polygon fill=\"none\" stroke=\"black\" points=\"15,-34 0,-34 0,-17 15,-17 15,-34\"/>\n",
       "<text text-anchor=\"middle\" x=\"7.5\" y=\"-23\" font-family=\"Monospace\" font-size=\"10.00\">1</text>\n",
       "</g>\n",
       "<!-- 1 -->\n",
       "<g id=\"node2\" class=\"node\">\n",
       "<title>1</title>\n",
       "<polygon fill=\"none\" stroke=\"black\" points=\"72,-34 57,-34 57,-17 72,-17 72,-34\"/>\n",
       "<text text-anchor=\"middle\" x=\"64.5\" y=\"-23\" font-family=\"Monospace\" font-size=\"10.00\">1</text>\n",
       "</g>\n",
       "<!-- 0&#45;&gt;1 -->\n",
       "<g id=\"edge1\" class=\"edge\">\n",
       "<title>0&#45;&gt;1</title>\n",
       "<path fill=\"none\" stroke=\"black\" d=\"M15.24,-25.5C24.81,-25.5 42.39,-25.5 53.48,-25.5\"/>\n",
       "<polygon fill=\"black\" stroke=\"black\" points=\"53.7,-26.55 56.7,-25.5 53.7,-24.45 53.7,-26.55\"/>\n",
       "<text text-anchor=\"middle\" x=\"36\" y=\"-28.3\" font-family=\"Monospace\" font-size=\"9.00\">␣</text>\n",
       "</g>\n",
       "<!-- 2 -->\n",
       "<g id=\"node3\" class=\"node\">\n",
       "<title>2</title>\n",
       "<polygon fill=\"none\" stroke=\"black\" points=\"147,-52 114,-52 114,-35 147,-35 147,-52\"/>\n",
       "<text text-anchor=\"middle\" x=\"130.5\" y=\"-41\" font-family=\"Monospace\" font-size=\"10.00\">0.67</text>\n",
       "</g>\n",
       "<!-- 1&#45;&gt;2 -->\n",
       "<g id=\"edge2\" class=\"edge\">\n",
       "<title>1&#45;&gt;2</title>\n",
       "<path fill=\"none\" stroke=\"black\" d=\"M72.35,-27.43C81.45,-29.98 97.87,-34.6 110.78,-38.24\"/>\n",
       "<polygon fill=\"black\" stroke=\"black\" points=\"110.81,-39.33 113.98,-39.14 111.38,-37.31 110.81,-39.33\"/>\n",
       "<text text-anchor=\"middle\" x=\"93\" y=\"-36.3\" font-family=\"Monospace\" font-size=\"9.00\">a</text>\n",
       "</g>\n",
       "<!-- 3 -->\n",
       "<g id=\"node4\" class=\"node\">\n",
       "<title>3</title>\n",
       "<polygon fill=\"none\" stroke=\"black\" points=\"147,-17 114,-17 114,0 147,0 147,-17\"/>\n",
       "<text text-anchor=\"middle\" x=\"130.5\" y=\"-6\" font-family=\"Monospace\" font-size=\"10.00\">0.33</text>\n",
       "</g>\n",
       "<!-- 1&#45;&gt;3 -->\n",
       "<g id=\"edge3\" class=\"edge\">\n",
       "<title>1&#45;&gt;3</title>\n",
       "<path fill=\"none\" stroke=\"black\" d=\"M72.33,-20.02C77.01,-16.61 83.52,-12.5 90,-10.5 96.54,-8.48 103.98,-7.73 110.62,-7.56\"/>\n",
       "<polygon fill=\"black\" stroke=\"black\" points=\"110.82,-8.61 113.81,-7.53 110.8,-6.51 110.82,-8.61\"/>\n",
       "<text text-anchor=\"middle\" x=\"93\" y=\"-13.3\" font-family=\"Monospace\" font-size=\"9.00\">b</text>\n",
       "</g>\n",
       "<!-- 5 -->\n",
       "<g id=\"node6\" class=\"node\">\n",
       "<title>5</title>\n",
       "<polygon fill=\"none\" stroke=\"black\" points=\"227,-52 194,-52 194,-35 227,-35 227,-52\"/>\n",
       "<text text-anchor=\"middle\" x=\"210.5\" y=\"-41\" font-family=\"Monospace\" font-size=\"10.00\">0.67</text>\n",
       "</g>\n",
       "<!-- 2&#45;&gt;5 -->\n",
       "<g id=\"edge5\" class=\"edge\">\n",
       "<title>2&#45;&gt;5</title>\n",
       "<path fill=\"none\" stroke=\"black\" d=\"M147.28,-43.5C159.76,-43.5 177.22,-43.5 190.47,-43.5\"/>\n",
       "<polygon fill=\"black\" stroke=\"black\" points=\"190.74,-44.55 193.74,-43.5 190.74,-42.45 190.74,-44.55\"/>\n",
       "<text text-anchor=\"middle\" x=\"170.5\" y=\"-46.3\" font-family=\"Monospace\" font-size=\"9.00\">␣a</text>\n",
       "</g>\n",
       "<!-- 4 -->\n",
       "<g id=\"node5\" class=\"node\">\n",
       "<title>4</title>\n",
       "<polygon fill=\"none\" stroke=\"black\" points=\"227,-17 194,-17 194,0 227,0 227,-17\"/>\n",
       "<text text-anchor=\"middle\" x=\"210.5\" y=\"-6\" font-family=\"Monospace\" font-size=\"10.00\">0.33</text>\n",
       "</g>\n",
       "<!-- 3&#45;&gt;4 -->\n",
       "<g id=\"edge4\" class=\"edge\">\n",
       "<title>3&#45;&gt;4</title>\n",
       "<path fill=\"none\" stroke=\"black\" d=\"M147.28,-8.5C159.76,-8.5 177.22,-8.5 190.47,-8.5\"/>\n",
       "<polygon fill=\"black\" stroke=\"black\" points=\"190.74,-9.55 193.74,-8.5 190.74,-7.45 190.74,-9.55\"/>\n",
       "<text text-anchor=\"middle\" x=\"170.5\" y=\"-11.3\" font-family=\"Monospace\" font-size=\"9.00\">␣b</text>\n",
       "</g>\n",
       "</g>\n",
       "</svg>\n",
       "</td> </tr></table>"
      ],
      "text/plain": [
       "<__main__.enumerate_proposal_distribution at 0x7e86853b73d0>"
      ]
     },
     "execution_count": 7,
     "metadata": {},
     "output_type": "execute_result"
    }
   ],
   "source": [
    "chr"
   ]
  },
  {
   "cell_type": "code",
   "execution_count": 8,
   "metadata": {},
   "outputs": [
    {
     "data": {
      "text/html": [
       "<table><tr><td><div style=\"font-family: Monospace;\"><table><tr style=\"font-weight: bold;\"><td>key</td><td>value</td></tr><tr><td><pre> b</pre></td><td><pre>0.5</pre></td> </tr><tr><td><pre> a</pre></td><td><pre>0.5</pre></td> </tr></table></div></td><td><?xml version=\"1.0\" encoding=\"UTF-8\" standalone=\"no\"?>\n",
       "<!DOCTYPE svg PUBLIC \"-//W3C//DTD SVG 1.1//EN\"\n",
       " \"http://www.w3.org/Graphics/SVG/1.1/DTD/svg11.dtd\">\n",
       "<!-- Generated by graphviz version 2.43.0 (0)\n",
       " -->\n",
       "<!-- Title: %3 Pages: 1 -->\n",
       "<svg width=\"182pt\" height=\"130pt\"\n",
       " viewBox=\"0.00 0.00 182.00 130.00\" xmlns=\"http://www.w3.org/2000/svg\" xmlns:xlink=\"http://www.w3.org/1999/xlink\">\n",
       "<g id=\"graph0\" class=\"graph\" transform=\"scale(1 1) rotate(0) translate(4 126)\">\n",
       "<title>%3</title>\n",
       "<polygon fill=\"white\" stroke=\"transparent\" points=\"-4,4 -4,-126 178,-126 178,4 -4,4\"/>\n",
       "<!-- 0 -->\n",
       "<g id=\"node1\" class=\"node\">\n",
       "<title>0</title>\n",
       "<polygon fill=\"none\" stroke=\"black\" points=\"15,-69 0,-69 0,-52 15,-52 15,-69\"/>\n",
       "<text text-anchor=\"middle\" x=\"7.5\" y=\"-58\" font-family=\"Monospace\" font-size=\"10.00\">1</text>\n",
       "</g>\n",
       "<!-- 1 -->\n",
       "<g id=\"node2\" class=\"node\">\n",
       "<title>1</title>\n",
       "<polygon fill=\"none\" stroke=\"black\" points=\"94,-87 67,-87 67,-70 94,-70 94,-87\"/>\n",
       "<text text-anchor=\"middle\" x=\"80.5\" y=\"-76\" font-family=\"Monospace\" font-size=\"10.00\">0.5</text>\n",
       "</g>\n",
       "<!-- 0&#45;&gt;1 -->\n",
       "<g id=\"edge1\" class=\"edge\">\n",
       "<title>0&#45;&gt;1</title>\n",
       "<path fill=\"none\" stroke=\"black\" d=\"M15.05,-62.16C26.06,-64.95 48.55,-70.65 63.83,-74.53\"/>\n",
       "<polygon fill=\"black\" stroke=\"black\" points=\"63.62,-75.56 66.79,-75.28 64.14,-73.52 63.62,-75.56\"/>\n",
       "<text text-anchor=\"middle\" x=\"41\" y=\"-73.3\" font-family=\"Monospace\" font-size=\"9.00\">▪</text>\n",
       "</g>\n",
       "<!-- 2 -->\n",
       "<g id=\"node3\" class=\"node\">\n",
       "<title>2</title>\n",
       "<polygon fill=\"none\" stroke=\"black\" points=\"94,-52 67,-52 67,-35 94,-35 94,-52\"/>\n",
       "<text text-anchor=\"middle\" x=\"80.5\" y=\"-41\" font-family=\"Monospace\" font-size=\"10.00\">0.5</text>\n",
       "</g>\n",
       "<!-- 0&#45;&gt;2 -->\n",
       "<g id=\"edge2\" class=\"edge\">\n",
       "<title>0&#45;&gt;2</title>\n",
       "<path fill=\"none\" stroke=\"black\" d=\"M15.33,-55.01C20,-51.59 26.51,-47.48 33,-45.5 42.91,-42.48 54.56,-41.98 63.72,-42.24\"/>\n",
       "<polygon fill=\"black\" stroke=\"black\" points=\"63.94,-43.3 66.98,-42.36 64.02,-41.2 63.94,-43.3\"/>\n",
       "<text text-anchor=\"middle\" x=\"41\" y=\"-48.3\" font-family=\"Monospace\" font-size=\"9.00\">␣ab</text>\n",
       "</g>\n",
       "<!-- 5 -->\n",
       "<g id=\"node6\" class=\"node\">\n",
       "<title>5</title>\n",
       "<polygon fill=\"none\" stroke=\"black\" points=\"174,-122 141,-122 141,-105 174,-105 174,-122\"/>\n",
       "<text text-anchor=\"middle\" x=\"157.5\" y=\"-111\" font-family=\"Monospace\" font-size=\"10.00\">0.25</text>\n",
       "</g>\n",
       "<!-- 1&#45;&gt;5 -->\n",
       "<g id=\"edge5\" class=\"edge\">\n",
       "<title>1&#45;&gt;5</title>\n",
       "<path fill=\"none\" stroke=\"black\" d=\"M94.22,-84.44C106.19,-90.02 124.25,-98.45 137.85,-104.79\"/>\n",
       "<polygon fill=\"black\" stroke=\"black\" points=\"137.69,-105.88 140.85,-106.2 138.57,-103.98 137.69,-105.88\"/>\n",
       "<text text-anchor=\"middle\" x=\"117.5\" y=\"-99.3\" font-family=\"Monospace\" font-size=\"9.00\">␣b</text>\n",
       "</g>\n",
       "<!-- 6 -->\n",
       "<g id=\"node7\" class=\"node\">\n",
       "<title>6</title>\n",
       "<polygon fill=\"none\" stroke=\"black\" points=\"174,-87 141,-87 141,-70 174,-70 174,-87\"/>\n",
       "<text text-anchor=\"middle\" x=\"157.5\" y=\"-76\" font-family=\"Monospace\" font-size=\"10.00\">0.25</text>\n",
       "</g>\n",
       "<!-- 1&#45;&gt;6 -->\n",
       "<g id=\"edge6\" class=\"edge\">\n",
       "<title>1&#45;&gt;6</title>\n",
       "<path fill=\"none\" stroke=\"black\" d=\"M94.22,-78.5C106.19,-78.5 124.25,-78.5 137.85,-78.5\"/>\n",
       "<polygon fill=\"black\" stroke=\"black\" points=\"137.85,-79.55 140.85,-78.5 137.85,-77.45 137.85,-79.55\"/>\n",
       "<text text-anchor=\"middle\" x=\"117.5\" y=\"-81.3\" font-family=\"Monospace\" font-size=\"9.00\">␣a</text>\n",
       "</g>\n",
       "<!-- 3 -->\n",
       "<g id=\"node4\" class=\"node\">\n",
       "<title>3</title>\n",
       "<polygon fill=\"none\" stroke=\"black\" points=\"174,-52 141,-52 141,-35 174,-35 174,-52\"/>\n",
       "<text text-anchor=\"middle\" x=\"157.5\" y=\"-41\" font-family=\"Monospace\" font-size=\"10.00\">0.25</text>\n",
       "</g>\n",
       "<!-- 2&#45;&gt;3 -->\n",
       "<g id=\"edge3\" class=\"edge\">\n",
       "<title>2&#45;&gt;3</title>\n",
       "<path fill=\"none\" stroke=\"black\" d=\"M94.22,-43.5C106.19,-43.5 124.25,-43.5 137.85,-43.5\"/>\n",
       "<polygon fill=\"black\" stroke=\"black\" points=\"137.85,-44.55 140.85,-43.5 137.85,-42.45 137.85,-44.55\"/>\n",
       "<text text-anchor=\"middle\" x=\"117.5\" y=\"-46.3\" font-family=\"Monospace\" font-size=\"9.00\">␣b</text>\n",
       "</g>\n",
       "<!-- 4 -->\n",
       "<g id=\"node5\" class=\"node\">\n",
       "<title>4</title>\n",
       "<polygon fill=\"none\" stroke=\"black\" points=\"174,-17 141,-17 141,0 174,0 174,-17\"/>\n",
       "<text text-anchor=\"middle\" x=\"157.5\" y=\"-6\" font-family=\"Monospace\" font-size=\"10.00\">0.25</text>\n",
       "</g>\n",
       "<!-- 2&#45;&gt;4 -->\n",
       "<g id=\"edge4\" class=\"edge\">\n",
       "<title>2&#45;&gt;4</title>\n",
       "<path fill=\"none\" stroke=\"black\" d=\"M94.22,-37.56C106.19,-31.98 124.25,-23.55 137.85,-17.21\"/>\n",
       "<polygon fill=\"black\" stroke=\"black\" points=\"138.57,-18.02 140.85,-15.8 137.69,-16.12 138.57,-18.02\"/>\n",
       "<text text-anchor=\"middle\" x=\"117.5\" y=\"-31.3\" font-family=\"Monospace\" font-size=\"9.00\">␣a</text>\n",
       "</g>\n",
       "</g>\n",
       "</svg>\n",
       "</td> </tr></table>"
      ],
      "text/plain": [
       "<__main__.enumerate_proposal_distribution at 0x7e86853b7130>"
      ]
     },
     "execution_count": 8,
     "metadata": {},
     "output_type": "execute_result"
    }
   ],
   "source": [
    "tok"
   ]
  },
  {
   "cell_type": "code",
   "execution_count": 14,
   "metadata": {},
   "outputs": [],
   "source": [
    "from arsenal.iterextras import take"
   ]
  },
  {
   "cell_type": "code",
   "execution_count": 18,
   "metadata": {},
   "outputs": [
    {
     "data": {
      "text/html": [
       "<div style=\"font-family: Monospace;\"><table><tr style=\"font-weight: bold;\"><td>key</td><td>value</td></tr><tr><td><pre> ab</pre></td><td><pre>0.25</pre></td> </tr><tr><td><pre>▪</pre></td><td><pre>0.25</pre></td> </tr></table></div>"
      ],
      "text/plain": [
       "{' ab': 0.25, '▪': 0.25}"
      ]
     },
     "execution_count": 18,
     "metadata": {},
     "output_type": "execute_result"
    }
   ],
   "source": [
    "p_llm = llm.p_next(prompt + context)\n",
    "\n",
    "# enumerate top K tokens\n",
    "Ws = Float.chart(take(token_proposal.K, token_proposal.traverse_trie(context, p_llm)))\n",
    "\n",
    "# compute distribution over wildcard tokens\n",
    "P_wc = Float.chart({x: p for x, p in p_llm.items() if x not in Ws and p > 0})\n",
    "P_wc"
   ]
  },
  {
   "cell_type": "code",
   "execution_count": null,
   "metadata": {},
   "outputs": [],
   "source": []
  },
  {
   "cell_type": "code",
   "execution_count": 19,
   "metadata": {},
   "outputs": [
    {
     "data": {
      "text/html": [
       "<div style=\"font-family: Monospace;\"><table><tr style=\"font-weight: bold;\"><td>key</td><td>value</td></tr><tr><td><pre> a</pre></td><td><pre>0.25</pre></td> </tr><tr><td><pre> b</pre></td><td><pre>0.25</pre></td> </tr></table></div>"
      ],
      "text/plain": [
       "{' a': 0.25, ' b': 0.25}"
      ]
     },
     "execution_count": 19,
     "metadata": {},
     "output_type": "execute_result"
    }
   ],
   "source": [
    "Ws"
   ]
  }
 ],
 "metadata": {
  "kernelspec": {
   "display_name": "Python 3 (ipykernel)",
   "language": "python",
   "name": "python3"
  },
  "language_info": {
   "codemirror_mode": {
    "name": "ipython",
    "version": 3
   },
   "file_extension": ".py",
   "mimetype": "text/x-python",
   "name": "python",
   "nbconvert_exporter": "python",
   "pygments_lexer": "ipython3",
   "version": "3.10.12"
  }
 },
 "nbformat": 4,
 "nbformat_minor": 4
}
