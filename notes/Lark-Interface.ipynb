{
 "cells": [
  {
   "cell_type": "markdown",
   "id": "937f6110-f228-45a0-bd78-d45742b1da28",
   "metadata": {},
   "source": [
    "# GenParse: Lark Interface"
   ]
  },
  {
   "cell_type": "code",
   "execution_count": null,
   "id": "8e5cdaac-af87-42ce-8d8f-c6b828037bd5",
   "metadata": {},
   "outputs": [],
   "source": [
    "from genparse.util import LarkStuff\n",
    "from arsenal import Integerizer\n",
    "from genparse.util import regex_to_greenery, greenery_to_fsa"
   ]
  },
  {
   "cell_type": "markdown",
   "id": "4ccc5236-176c-4291-a87f-95113ec2f0c3",
   "metadata": {},
   "source": [
    "## Using lark as a front end"
   ]
  },
  {
   "cell_type": "code",
   "execution_count": null,
   "id": "23c93cf3-c23b-44fa-bd49-0ff7c2553162",
   "metadata": {},
   "outputs": [],
   "source": [
    "grammar2 = r\"\"\"\n",
    "WS: /[ \\t\\f\\r\\n]/\n",
    "STAR: \"*\"\n",
    "NUMBER: /\\d+/\n",
    "\n",
    "start: WS? \"SELECT\" WS select_expr WS \"FROM\" WS from_expr\n",
    "  [WS \"WHERE\" WS bool_condition] [WS \"GROUP BY\" WS var_list] [WS \"ORDER BY\" WS orderby_expr] WS EOS\n",
    "EOS: \"</s>\"\n",
    "select_expr: STAR | select_list\n",
    "bool_condition: bool_expr | \"(\" bool_condition WS \"AND\" WS bool_condition \")\" | \"(\" bool_condition WS \"OR\" WS bool_condition \")\" \n",
    "bool_expr: var \"=\" value | var \">\" value | var \"<\" value\n",
    "from_expr: \"data\"\n",
    "orderby_expr: var_list WS \"ASC\" | var_list WS \"DESC\"\n",
    "select_list: select_var (\",\" WS select_var)*\n",
    "var_list: var (\",\" WS var)*\n",
    "select_var: var | \"AVG(\" var \")\" | \"MEDIAN(\" var \")\" | \"COUNT(\" var \")\"\n",
    "var: \"age\" | \"gender\" | \"year\" | \"state_color\" | \"zipcode\" | \"vote\" | \"race_ethnicity\"\n",
    "value: NUMBER | \"red\" | \"blue\" | \"white\" | \"black\" | \"latino\" | \"republican\" | \"democrat\" | \"male\" | \"female\"\n",
    "\n",
    "\"\"\""
   ]
  },
  {
   "cell_type": "code",
   "execution_count": null,
   "id": "fbec96ff-50f1-4de9-886c-59f31ba443f5",
   "metadata": {},
   "outputs": [],
   "source": [
    "grammar1 = \"\"\"\n",
    "start: query_expr EOS\n",
    "\n",
    "EOS: \"</s>\"\n",
    "\n",
    "query_expr: select [ \"ORDER\" \"BY\" (order_by_expr \",\")*  order_by_expr] [ \"LIMIT\" integer_ ] \n",
    "\n",
    "select: \"SELECT\" [(select_expr \",\")*] select_expr \"FROM\" \"data\" [ \"WHERE\" bool_expression ] [ \"GROUP\" \"BY\" [(expression \",\")*] expression ]\n",
    "\n",
    "select_expr.0: expression_math [ [ \"AS\" ] alias ] -> select_expression\n",
    "\n",
    "?expression_math: expression_product\n",
    "               | expression_math PLUS expression_product -> expression_add\n",
    "               | expression_math \"-\" expression_product -> expression_sub\n",
    "               | AGGREGATION expression_math /\\)/ -> sql_aggregation\n",
    "\n",
    "?expression: (name | STAR) -> column_name\n",
    "            | literal\n",
    "\n",
    "?expression_product: expression_parens\n",
    "                  | expression_product STAR expression_parens\n",
    "                  | expression_product \"/\" expression_parens \n",
    "\n",
    "?expression_parens: expression\n",
    "                  | /\\(/ expression_parens STAR expression /\\)/ \n",
    "                  | /\\(/  expression_parens \"/\" expression /\\)/ \n",
    "                  | /\\(/  expression_parens PLUS expression /\\)/\n",
    "                  | /\\(/  expression_parens \"-\" expression /\\)/\n",
    "\n",
    "bool_expression: bool_parentheses\n",
    "                 | bool_expression \"AND\" bool_parentheses \n",
    "                 | bool_expression \"OR\" bool_parentheses\n",
    "bool_parentheses: comparison_type\n",
    "                 | /\\(/   bool_expression \"AND\" comparison_type /\\)/\n",
    "                 | /\\(/  bool_expression \"OR\" comparison_type /\\)/\n",
    "comparison_type: equals | not_equals | greater_than | less_than | greater_than_or_equal\n",
    "| less_than_or_equal | is_null | is_not_null\n",
    "equals: expression_math \"=\" expression_math\n",
    "not_equals: expression_math (\"<>\" | \"!=\") expression_math\n",
    "greater_than: expression_math \">\" expression_math\n",
    "less_than: expression_math \"<\" expression_math\n",
    "greater_than_or_equal: expression_math \">=\" expression_math\n",
    "less_than_or_equal: expression_math \"<=\" expression_math\n",
    "is_null: expression_math \"is\" \"null\"\n",
    "is_not_null: expression_math \"is\" \"not\" \"null\"\n",
    "\n",
    "alias: /[A-Za-z]+/\n",
    "name: /[A-Za-z]+/\n",
    "PLUS: /\\+/\n",
    "\n",
    "order_by_expr: expression_math [\"ASC\"] -> order_asc\n",
    "        | expression_math \"DESC\" -> order_desc\n",
    "\n",
    "AGGREGATION.8: (\"sum(\" | \"avg(\" | \"min(\" | \"max(\" | \"count(\" \"distinct\" | \"count(\")\n",
    "STAR: /\\*/\n",
    "integer_: /[1-9][0-9]*/\n",
    "?literal: boolean -> bool\n",
    "       | integer_ -> number\n",
    "       | ESCAPED_STRING -> string\n",
    "\n",
    "boolean: \"true\" -> true\n",
    "       | \"false\" -> false\n",
    "\n",
    "%import common.WS\n",
    "%ignore WS\n",
    "%import common.ESCAPED_STRING\n",
    "    \n",
    "\"\"\""
   ]
  },
  {
   "cell_type": "code",
   "execution_count": null,
   "id": "fc459c21-38c3-4feb-9302-f4b115173ffb",
   "metadata": {},
   "outputs": [],
   "source": [
    "raw_grammar = grammar1\n",
    "\n",
    "lark_stuff = LarkStuff(raw_grammar)"
   ]
  },
  {
   "cell_type": "code",
   "execution_count": null,
   "id": "9ca2cb1d-d589-4dab-bbe4-db9891aa1272",
   "metadata": {},
   "outputs": [],
   "source": [
    "intern = Integerizer()  # rename nonterminals to integers\n",
    "g = lark_stuff.convert()\n",
    "g = g.rename(intern)\n",
    "assert g.in_cnf()  # lark returns a grammar in CNF\n",
    "# g = g.cnf"
   ]
  },
  {
   "cell_type": "code",
   "execution_count": null,
   "id": "85d6098e-d0c2-4669-8240-a62666b44dff",
   "metadata": {},
   "outputs": [],
   "source": [
    "g"
   ]
  },
  {
   "cell_type": "code",
   "execution_count": null,
   "id": "d51f88b1-ede9-45c6-af09-3ca75012b16c",
   "metadata": {},
   "outputs": [],
   "source": [
    "len(g.rules), len(g.V), len(g.N)"
   ]
  },
  {
   "cell_type": "code",
   "execution_count": null,
   "id": "5894ba68-ca88-45f2-8208-67e6d58d047b",
   "metadata": {},
   "outputs": [],
   "source": [
    "sorted(g.cnf.V)"
   ]
  },
  {
   "cell_type": "code",
   "execution_count": null,
   "id": "e7a45c30-96c2-4f3a-9ccb-645b29aed153",
   "metadata": {},
   "outputs": [],
   "source": [
    "# from newton.linking import LinkAnalysis\n",
    "# f = Integerizer()\n",
    "# links = LinkAnalysis(g.rename(f))\n",
    "# links.dfs"
   ]
  },
  {
   "cell_type": "code",
   "execution_count": null,
   "id": "c6a81d2e-5b21-4c18-9b7f-771a57f0efc9",
   "metadata": {},
   "outputs": [],
   "source": [
    "# g.language(6)"
   ]
  },
  {
   "cell_type": "markdown",
   "id": "6bf9d40f-c709-48c2-86ca-bad50d21b082",
   "metadata": {},
   "source": [
    "## Tokenization"
   ]
  },
  {
   "cell_type": "markdown",
   "id": "89cadc4f-c54b-4d04-a3e7-79ac64845359",
   "metadata": {},
   "source": [
    "We can extract lark's tokenizer in a format that we can build on.  We will even make a DIY tokenizer based on Python's `re` library.\n",
    "\n",
    "| Terminology  |         |\n",
    "|--------------|---------|\n",
    "| tokenization | lexing  |\n",
    "| tokenizers   | lexers  |\n",
    "| tokens       | lexemes |\n",
    "\n"
   ]
  },
  {
   "cell_type": "code",
   "execution_count": null,
   "id": "5742a1a4-6333-4fcc-b912-99041b1457b8",
   "metadata": {},
   "outputs": [],
   "source": [
    "sorted(lark_stuff.terminals, key=lambda t: -t.priority)"
   ]
  },
  {
   "cell_type": "markdown",
   "id": "2187585c-d539-4ba6-9df3-ab5e868efece",
   "metadata": {},
   "source": [
    "### DIY tokenizer"
   ]
  },
  {
   "cell_type": "code",
   "execution_count": null,
   "id": "a23c1c98-8899-4fde-8d69-efb112ab1671",
   "metadata": {},
   "outputs": [],
   "source": [
    "text = (\n",
    "    \"12 + 24 - 36 * 48 / 60 SELECT table.name AS thing WHERE table.potato IS NOT 'banana'\"\n",
    ")\n",
    "\n",
    "for x, y in lark_stuff.simple_tokenizer(text):\n",
    "    print(f'{x:15s} -> {y!r}')"
   ]
  },
  {
   "cell_type": "markdown",
   "id": "02205aa5-d614-46ff-b788-7e3a890e612b",
   "metadata": {},
   "source": [
    "### Parsing tokenized input"
   ]
  },
  {
   "cell_type": "code",
   "execution_count": null,
   "id": "d8315892-a52e-49ef-8e72-54b07158ce17",
   "metadata": {},
   "outputs": [],
   "source": [
    "text = 'SELECT name FROM data </s>'"
   ]
  },
  {
   "cell_type": "code",
   "execution_count": null,
   "id": "b7d23524-690d-4755-8752-3038d75db666",
   "metadata": {},
   "outputs": [],
   "source": [
    "tokens = list(lark_stuff.lex(text))\n",
    "tokens"
   ]
  },
  {
   "cell_type": "markdown",
   "id": "5804d323-127d-434e-b630-51835e31fc66",
   "metadata": {},
   "source": [
    "Call the lark parser on the text:"
   ]
  },
  {
   "cell_type": "code",
   "execution_count": null,
   "id": "947b6f02-f813-419a-a8d4-d1070db36c25",
   "metadata": {},
   "outputs": [],
   "source": [
    "# lark_stuff.instance.parse(text)"
   ]
  },
  {
   "cell_type": "markdown",
   "id": "a53b1d5a-c150-4888-9906-264f248e9b03",
   "metadata": {},
   "source": [
    "We can call the lark parser on these tokens:"
   ]
  },
  {
   "cell_type": "code",
   "execution_count": null,
   "id": "5b6f1618-19f0-41b5-8019-1f542fed5822",
   "metadata": {},
   "outputs": [],
   "source": [
    "lark_stuff.parser.parse(tokens, 'start')"
   ]
  },
  {
   "cell_type": "markdown",
   "id": "4a4dd57d-de80-4cda-ac32-50fbd70ea7a8",
   "metadata": {},
   "source": [
    "We can call our parser on this text to get its total weight"
   ]
  },
  {
   "cell_type": "code",
   "execution_count": null,
   "id": "ce49b825-c8bb-4aa3-9eaf-4a3d9d5c70c1",
   "metadata": {},
   "outputs": [],
   "source": [
    "g([t.type for t in tokens])"
   ]
  },
  {
   "cell_type": "code",
   "execution_count": null,
   "id": "24b19f74-58c3-4530-902e-055f16589d53",
   "metadata": {},
   "outputs": [],
   "source": []
  },
  {
   "cell_type": "markdown",
   "id": "7a02f575-ce09-423f-9e29-6f778750dd69",
   "metadata": {},
   "source": [
    "### Tokenizer State Machines"
   ]
  },
  {
   "cell_type": "markdown",
   "id": "2723bd27-9624-4704-998e-b0912d6d5483",
   "metadata": {},
   "source": [
    "**Note**: Tokenizers are FSTs, not FSAs.  However, these libraries implement the kind of restricted FSTs with a separate FSA per token type."
   ]
  },
  {
   "cell_type": "code",
   "execution_count": null,
   "id": "5365570b-c794-4f24-8a9c-814e02f2efb5",
   "metadata": {},
   "outputs": [],
   "source": [
    "i = 4\n",
    "token_class = lark_stuff.terminals[i]\n",
    "m = greenery_to_fsa(regex_to_greenery(token_class.pattern.to_regexp()))\n",
    "display(token_class)\n",
    "display(m.min())"
   ]
  },
  {
   "cell_type": "code",
   "execution_count": null,
   "id": "236668fb-00e0-40f5-b0b2-57766970a51b",
   "metadata": {},
   "outputs": [],
   "source": [
    "# for e in m.arcs(): print(e)"
   ]
  },
  {
   "cell_type": "code",
   "execution_count": null,
   "id": "b7438146-ec41-4d37-a41c-9d52ccb68fc3",
   "metadata": {},
   "outputs": [],
   "source": []
  },
  {
   "cell_type": "markdown",
   "id": "24389e5d-2120-42dc-9ded-42d4b9203834",
   "metadata": {},
   "source": [
    "## Prefix Grammar"
   ]
  },
  {
   "cell_type": "code",
   "execution_count": null,
   "id": "6846da76-1fdf-457a-88d2-030f2abddcb7",
   "metadata": {},
   "outputs": [],
   "source": [
    "(\n",
    "    len(g.cnf.rules),\n",
    "    len(g.cnf.prefix_grammar.trim().rules),\n",
    "    len(g.cnf.prefix_grammar.trim().rules) / len(g.cnf.rules),\n",
    ")"
   ]
  },
  {
   "cell_type": "code",
   "execution_count": null,
   "id": "fb1cb8d6-14d7-4d96-8c71-ae079c9acd35",
   "metadata": {},
   "outputs": [],
   "source": [
    "# N = G.nullaryremove()    # could be faster with SCC-based prioritization"
   ]
  },
  {
   "cell_type": "code",
   "execution_count": null,
   "id": "2fc74a97-ce21-45af-a8c0-560dae8b4b80",
   "metadata": {},
   "outputs": [],
   "source": [
    "g.cnf.prefix_grammar.trim().cnf"
   ]
  },
  {
   "cell_type": "code",
   "execution_count": null,
   "id": "0199134d-5370-4ef4-8cb8-a527b0680020",
   "metadata": {},
   "outputs": [],
   "source": [
    "g.prefix_weight([t.type for t in tokens])"
   ]
  },
  {
   "cell_type": "code",
   "execution_count": null,
   "id": "91f60200-80ee-4e8d-818d-ad4bbe67ef89",
   "metadata": {},
   "outputs": [],
   "source": []
  }
 ],
 "metadata": {
  "kernelspec": {
   "display_name": "Python 3 (ipykernel)",
   "language": "python",
   "name": "python3"
  },
  "language_info": {
   "codemirror_mode": {
    "name": "ipython",
    "version": 3
   },
   "file_extension": ".py",
   "mimetype": "text/x-python",
   "name": "python",
   "nbconvert_exporter": "python",
   "pygments_lexer": "ipython3",
   "version": "3.10.12"
  }
 },
 "nbformat": 4,
 "nbformat_minor": 5
}
