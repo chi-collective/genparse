{
 "cells": [
  {
   "cell_type": "code",
   "execution_count": 1,
   "metadata": {},
   "outputs": [],
   "source": [
    "%load_ext autoreload\n",
    "%autoreload all"
   ]
  },
  {
   "cell_type": "code",
   "execution_count": 7,
   "metadata": {},
   "outputs": [
    {
     "name": "stdout",
     "output_type": "stream",
     "text": [
      "HF cache set; path updated hooverjac\n"
     ]
    }
   ],
   "source": [
    "import sys\n",
    "import os\n",
    "import getpass\n",
    "\n",
    "if getpass.getuser() == \"benjamin.lebrun\":\n",
    "    sys.path.append(\"/home/mila/b/benjamin.lebrun/genparse\")\n",
    "    os.environ[\"HF_HOME\"] = os.path.join(os.environ[\"SCRATCH\"], \"hf_cache\")\n",
    "    print(\"HF cache set; path updated\")\n",
    "\n",
    "if getpass.getuser() == \"hooverjac\":\n",
    "    sys.path.append(os.path.join(os.environ[\"HOME\"], \"proj-genparse/genparse\"))\n",
    "    os.environ[\"HF_HOME\"] = os.environ[\"SCRATCH\"]\n",
    "    print(\"HF cache set; path updated\", getpass.getuser())\n",
    "\n",
    "if getpass.getuser() == \"j\":\n",
    "    sys.path.append(\"/Users/j/CHI/repos/genparse\")\n",
    "    print(\"j on mac\")\n",
    "\n",
    "import nest_asyncio\n",
    "nest_asyncio.apply()"
   ]
  },
  {
   "cell_type": "code",
   "execution_count": 8,
   "metadata": {},
   "outputs": [],
   "source": [
    "prompt = \"\"\"\n",
    "    You have access to a political survey data table named \"data\", which includes the following columns:\n",
    "    - \"age\" (integer)\n",
    "    - \"gender\" (\"male\" or \"female\"),\n",
    "    - \"year\" (integer)\n",
    "    - \"state_color\" (\"blue\" or \"red\")\n",
    "    - \"zipcode\" (integer)\n",
    "    - \"vote\" (\"democrat\" or \"republican\") \n",
    "    - \"race_ethnicity\" (\"white\", \"black\", or \"latino\").\n",
    "\n",
    "    Q: Write a SQL query that shows individuals' age and gender, for people over 50 years old.\n",
    "    A: SELECT age, gender FROM data WHERE age>50 </s>\n",
    "    Q: Write a SQL query that shows individuals' vote and zipcode, ordered from lowest to highest age.\n",
    "    A: SELECT vote, zipcode, age FROM data ORDER BY age ASC </s>\n",
    "    Q: Write a SQL query that returns white voters' average age for each state color. \n",
    "    A:\"\"\"\n",
    "\n",
    "very_restricted_sql = r\"\"\"\n",
    "    start: WS? \"SELECT\" WS select_expr WS \"FROM\" WS from_expr [WS \"WHERE\" WS bool_condition] [WS \"GROUP BY\" WS var_list] [WS \"ORDER BY\" WS orderby_expr] WS EOS\n",
    "    EOS: \"</s>\"\n",
    "    select_expr: STAR | select_list\n",
    "    bool_condition: bool_expr | \"(\" bool_condition WS \"AND\" WS bool_condition \")\" | \"(\" bool_condition WS \"OR\" WS bool_condition \")\"\n",
    "    bool_expr: var \"=\" value | var \">\" value | var \"<\" value\n",
    "    from_expr: \"data\"\n",
    "    orderby_expr: var_list WS \"ASC\" | var_list WS \"DESC\"\n",
    "    select_list: select_var (\",\" WS select_var)*\n",
    "    var_list: var (\",\" WS var)*\n",
    "    select_var: var | \"AVG(\" var \")\" | \"MEDIAN(\" var \")\" | \"COUNT(\" var \")\"\n",
    "    var: \"age\" | \"gender\" | \"year\" | \"state_color\" | \"zipcode\" | \"vote\" | \"race_ethnicity\"\n",
    "    value: NUMBER | \"'red'\" | \"'blue'\" | \"'white'\" | \"'black'\" | \"'latino'\" | \"'republican'\" | \"'democrat'\" | \"'male'\" | \"'female'\"\n",
    "    STAR: \"*\"\n",
    "    NUMBER: /\\d+/\n",
    "    WS: /[ ]/\n",
    "\"\"\""
   ]
  },
  {
   "cell_type": "code",
   "execution_count": 4,
   "metadata": {},
   "outputs": [
    {
     "name": "stderr",
     "output_type": "stream",
     "text": [
      "The `load_in_4bit` and `load_in_8bit` arguments are deprecated and will be removed in the future versions. Please, pass a `BitsAndBytesConfig` object in `quantization_config` argument instead.\n"
     ]
    },
    {
     "data": {
      "application/vnd.jupyter.widget-view+json": {
       "model_id": "6543503da18c40d8a7a2e3abf8520f52",
       "version_major": 2,
       "version_minor": 0
      },
      "text/plain": [
       "Loading checkpoint shards:   0%|          | 0/2 [00:00<?, ?it/s]"
      ]
     },
     "metadata": {},
     "output_type": "display_data"
    }
   ],
   "source": [
    "from genparse.lm import AsyncGreedilyTokenizedLLM\n",
    "genparse_llm = AsyncGreedilyTokenizedLLM.from_name(\"codellama/CodeLlama-7b-Instruct-hf\", batch_size=40)"
   ]
  },
  {
   "cell_type": "code",
   "execution_count": 9,
   "metadata": {},
   "outputs": [],
   "source": [
    "from genparse.cfglm import EarleyBoolMaskCFGLM\n",
    "from genparse.util import LarkStuff\n",
    "guide = EarleyBoolMaskCFGLM(LarkStuff(very_restricted_sql).char_cfg(.99, ignore='[ ]?'))\n",
    "\n",
    "from genparse.steer import HFPPLSampler\n",
    "sampler = HFPPLSampler(llm=genparse_llm, guide=guide)\n",
    "\n",
    "from genparse.proposal import TokenProposal, CharacterProposal\n",
    "proposal = CharacterProposal(llm=genparse_llm, guide=guide)"
   ]
  },
  {
   "cell_type": "markdown",
   "metadata": {},
   "source": [
    "testing a modified version"
   ]
  },
  {
   "cell_type": "code",
   "execution_count": 10,
   "metadata": {},
   "outputs": [
    {
     "name": "stdout",
     "output_type": "stream",
     "text": [
      "├ Particle 0 (weight -0.0642). ` SELECT` :  SELECT\n",
      "├ Particle 1 (weight -0.0642). ` SELECT` :  SELECT\n",
      "├ Particle 2 (weight -0.0642). ` SELECT` :  SELECT\n",
      "├ Particle 3 (weight -0.0642). ` SELECT` :  SELECT\n",
      "├ Particle 4 (weight -0.0642). ` SELECT` :  SELECT\n",
      "├ Particle 5 (weight -0.0642). ` ` :  \n",
      "├ Particle 6 (weight -0.0642). ` SELECT` :  SELECT\n",
      "├ Particle 7 (weight -0.0642). ` SELECT` :  SELECT\n",
      "├ Particle 8 (weight -0.0642). ` SELECT` :  SELECT\n",
      "├ Particle 9 (weight -0.0642). ` SELECT` :  SELECT\n",
      "├ Particle 10 (weight -0.0642). ` SELECT` :  SELECT\n",
      "├ Particle 11 (weight -0.0642). ` SELECT` :  SELECT\n",
      "│ Step 1 average weight: -0.0642\n",
      "└╼\n",
      "├ Particle 0 (weight -0.1388). ` state` :  SELECT state\n",
      "├ Particle 1 (weight -0.1388). ` state` :  SELECT state\n",
      "├ Particle 2 (weight -0.1388). ` state` :  SELECT state\n",
      "├ Particle 3 (weight -0.1388). ` state` :  SELECT state\n",
      "├ Particle 4 (weight -0.1388). ` state` :  SELECT state\n",
      "├ Particle 5 (weight -2.4643). ` SELECT` :   SELECT\n",
      "├ Particle 6 (weight -0.1388). ` state` :  SELECT state\n",
      "├ Particle 7 (weight -0.9296). ` ` :  SELECT \n",
      "├ Particle 8 (weight -0.1388). ` state` :  SELECT state\n",
      "├ Particle 9 (weight -0.1388). ` state` :  SELECT state\n",
      "├ Particle 10 (weight -0.1388). ` state` :  SELECT state\n",
      "├ Particle 11 (weight -0.1388). ` state` :  SELECT state\n",
      "│ Step 2 average weight: -0.2675\n",
      "└╼\n",
      "├ Particle 0 (weight -0.1626). `_` :  SELECT state_\n",
      "├ Particle 1 (weight -0.1626). `_` :  SELECT state_\n",
      "├ Particle 2 (weight -0.1626). `_` :  SELECT state_\n",
      "├ Particle 3 (weight -0.1626). `_` :  SELECT state_\n",
      "├ Particle 4 (weight -0.1626). `_` :  SELECT state_\n",
      "├ Particle 5 (weight -2.5437). ` state` :   SELECT state\n",
      "├ Particle 6 (weight -0.1626). `_` :  SELECT state_\n",
      "├ Particle 7 (weight -1.8187). ` state` :  SELECT  state\n",
      "├ Particle 8 (weight -0.1626). `_` :  SELECT state_\n",
      "├ Particle 9 (weight -0.1626). `_` :  SELECT state_\n",
      "├ Particle 10 (weight -0.1626). `_` :  SELECT state_\n",
      "├ Particle 11 (weight -0.1626). `_` :  SELECT state_\n",
      "│ Step 3 average weight: -0.3170\n",
      "└╼\n",
      "├ Particle 0 (weight -0.1652). `color` :  SELECT state_color\n",
      "├ Particle 1 (weight -0.1652). `color` :  SELECT state_color\n",
      "├ Particle 2 (weight -0.1652). `color` :  SELECT state_color\n",
      "├ Particle 3 (weight -0.1652). `color` :  SELECT state_color\n",
      "├ Particle 4 (weight -0.1652). `color` :  SELECT state_color\n",
      "├ Particle 5 (weight -2.5701). `_` :   SELECT state_\n",
      "├ Particle 6 (weight -0.1652). `color` :  SELECT state_color\n",
      "├ Particle 7 (weight -1.8505). `_` :  SELECT  state_\n",
      "├ Particle 8 (weight -0.1652). `color` :  SELECT state_color\n",
      "├ Particle 9 (weight -0.1652). `color` :  SELECT state_color\n",
      "├ Particle 10 (weight -0.1652). `color` :  SELECT state_color\n",
      "├ Particle 11 (weight -0.1652). `color` :  SELECT state_color\n",
      "│ Step 4 average weight: -0.3204\n",
      "└╼\n",
      "├ Particle 0 (weight -0.1680). `,` :  SELECT state_color,\n",
      "├ Particle 1 (weight -0.1680). `,` :  SELECT state_color,\n",
      "├ Particle 2 (weight -0.1680). `,` :  SELECT state_color,\n",
      "├ Particle 3 (weight -0.1680). `,` :  SELECT state_color,\n",
      "├ Particle 4 (weight -0.1680). `,` :  SELECT state_color,\n",
      "├ Particle 5 (weight -2.5732). `color` :   SELECT state_color\n",
      "├ Particle 6 (weight -0.1680). `,` :  SELECT state_color,\n",
      "├ Particle 7 (weight -1.8546). `color` :  SELECT  state_color\n",
      "├ Particle 8 (weight -0.1680). `,` :  SELECT state_color,\n",
      "├ Particle 9 (weight -0.1680). `,` :  SELECT state_color,\n",
      "├ Particle 10 (weight -0.1680). `,` :  SELECT state_color,\n",
      "├ Particle 11 (weight -0.1680). `,` :  SELECT state_color,\n",
      "│ Step 5 average weight: -0.3232\n",
      "└╼\n",
      "├ Particle 0 (weight -0.2327). ` AV` :  SELECT state_color, AV\n",
      "├ Particle 1 (weight -0.2327). ` AV` :  SELECT state_color, AV\n",
      "├ Particle 2 (weight -0.0094). ` vote` :  SELECT state_color, vote\n",
      "├ Particle 3 (weight -0.2327). ` AV` :  SELECT state_color, AV\n",
      "├ Particle 4 (weight -0.2327). ` AV` :  SELECT state_color, AV\n",
      "├ Particle 5 (weight -2.5771). `,` :   SELECT state_color,\n",
      "├ Particle 6 (weight -0.2327). ` AV` :  SELECT state_color, AV\n",
      "├ Particle 7 (weight -1.8618). `,` :  SELECT  state_color,\n",
      "├ Particle 8 (weight -0.2327). ` AV` :  SELECT state_color, AV\n",
      "├ Particle 9 (weight -0.2327). ` AV` :  SELECT state_color, AV\n",
      "├ Particle 10 (weight -0.0094). ` vote` :  SELECT state_color, vote\n",
      "├ Particle 11 (weight -0.2327). ` AV` :  SELECT state_color, AV\n",
      "│ Step 6 average weight: -0.3388\n",
      "└╼\n",
      "├ Particle 0 (weight -0.2330). `G` :  SELECT state_color, AVG\n",
      "├ Particle 1 (weight -0.2330). `G` :  SELECT state_color, AVG\n",
      "├ Particle 2 (weight -0.0157). `,` :  SELECT state_color, vote,\n",
      "├ Particle 3 (weight -0.2330). `G` :  SELECT state_color, AVG\n",
      "├ Particle 4 (weight -0.2330). `G` :  SELECT state_color, AVG\n",
      "├ Particle 5 (weight -2.6623). ` AV` :   SELECT state_color, AV\n",
      "├ Particle 6 (weight -0.2330). `G` :  SELECT state_color, AVG\n",
      "├ Particle 7 (weight -1.9764). ` AV` :  SELECT  state_color, AV\n",
      "├ Particle 8 (weight -0.2330). `G` :  SELECT state_color, AVG\n",
      "├ Particle 9 (weight -0.2330). `G` :  SELECT state_color, AVG\n",
      "├ Particle 10 (weight -0.0157). `,` :  SELECT state_color, vote,\n",
      "├ Particle 11 (weight -0.2330). `G` :  SELECT state_color, AVG\n",
      "│ Step 7 average weight: -0.3431\n",
      "└╼\n",
      "├ Particle 0 (weight -0.2491). `(` :  SELECT state_color, AVG(\n",
      "├ Particle 1 (weight -0.2491). `(` :  SELECT state_color, AVG(\n",
      "├ Particle 2 (weight -0.0443). ` AV` :  SELECT state_color, vote, AV\n",
      "├ Particle 3 (weight -0.2491). `(` :  SELECT state_color, AVG(\n",
      "├ Particle 4 (weight -0.2491). `(` :  SELECT state_color, AVG(\n",
      "├ Particle 5 (weight -2.6626). `G` :   SELECT state_color, AVG\n",
      "├ Particle 6 (weight -0.2491). `(` :  SELECT state_color, AVG(\n",
      "├ Particle 7 (weight -1.9770). `G` :  SELECT  state_color, AVG\n",
      "├ Particle 8 (weight -0.2491). `(` :  SELECT state_color, AVG(\n",
      "├ Particle 9 (weight -0.2491). `(` :  SELECT state_color, AVG(\n",
      "├ Particle 10 (weight -0.0443). ` AV` :  SELECT state_color, vote, AV\n",
      "├ Particle 11 (weight -0.2491). `(` :  SELECT state_color, AVG(\n",
      "│ Step 8 average weight: -0.3617\n",
      "└╼\n",
      "├ Particle 0 (weight -0.2793). `age` :  SELECT state_color, AVG(age\n",
      "├ Particle 1 (weight -0.2793). `age` :  SELECT state_color, AVG(age\n",
      "├ Particle 2 (weight -0.0446). `G` :  SELECT state_color, vote, AVG\n",
      "├ Particle 3 (weight -0.2803). `vote` :  SELECT state_color, AVG(vote\n",
      "├ Particle 4 (weight -0.4636). ` age` :  SELECT state_color, AVG( age\n",
      "├ Particle 5 (weight -2.6893). `(` :   SELECT state_color, AVG(\n",
      "├ Particle 6 (weight -0.2793). `age` :  SELECT state_color, AVG(age\n",
      "├ Particle 7 (weight -2.0264). `(` :  SELECT  state_color, AVG(\n",
      "├ Particle 8 (weight -0.2793). `age` :  SELECT state_color, AVG(age\n",
      "├ Particle 9 (weight -0.2793). `age` :  SELECT state_color, AVG(age\n",
      "├ Particle 10 (weight -0.0446). `G` :  SELECT state_color, vote, AVG\n",
      "├ Particle 11 (weight -0.2793). `age` :  SELECT state_color, AVG(age\n",
      "│ Step 9 average weight: -0.4011\n",
      "└╼\n",
      "├ Particle 0 (weight -0.2844). `)` :  SELECT state_color, AVG(age)\n",
      "├ Particle 1 (weight -0.2844). `)` :  SELECT state_color, AVG(age)\n",
      "├ Particle 2 (weight -0.0576). `(` :  SELECT state_color, vote, AVG(\n",
      "├ Particle 3 (weight -0.3867). `)` :  SELECT state_color, AVG(vote)\n",
      "├ Particle 4 (weight -0.4736). ` )` :  SELECT state_color, AVG( age )\n",
      "├ Particle 5 (weight -2.7210). `age` :   SELECT state_color, AVG(age\n",
      "├ Particle 6 (weight -0.2844). `)` :  SELECT state_color, AVG(age)\n",
      "├ Particle 7 (weight -2.2248). ` age` :  SELECT  state_color, AVG( age\n",
      "├ Particle 8 (weight -0.2844). `)` :  SELECT state_color, AVG(age)\n",
      "├ Particle 9 (weight -0.2844). `)` :  SELECT state_color, AVG(age)\n",
      "├ Particle 10 (weight -0.0576). `(` :  SELECT state_color, vote, AVG(\n",
      "├ Particle 11 (weight -0.2844). `)` :  SELECT state_color, AVG(age)\n",
      "│ Step 10 average weight: -0.4207\n",
      "└╼\n",
      "├ Particle 0 (weight -0.7209). ` FROM` :  SELECT state_color, AVG(age) FROM\n",
      "├ Particle 1 (weight -0.7209). ` FROM` :  SELECT state_color, AVG(age) FROM\n",
      "├ Particle 2 (weight -0.0663). `age` :  SELECT state_color, vote, AVG(age\n",
      "├ Particle 3 (weight -0.9828). ` FROM` :  SELECT state_color, AVG(vote) FROM\n",
      "├ Particle 4 (weight -1.1403). ` FROM` :  SELECT state_color, AVG( age ) FROM\n",
      "├ Particle 5 (weight -2.7267). `)` :   SELECT state_color, AVG(age)\n",
      "├ Particle 6 (weight -0.7209). ` FROM` :  SELECT state_color, AVG(age) FROM\n",
      "├ Particle 7 (weight -2.2344). ` )` :  SELECT  state_color, AVG( age )\n",
      "├ Particle 8 (weight -0.7209). ` FROM` :  SELECT state_color, AVG(age) FROM\n",
      "├ Particle 9 (weight -0.7209). ` FROM` :  SELECT state_color, AVG(age) FROM\n",
      "├ Particle 10 (weight -0.0663). `age` :  SELECT state_color, vote, AVG(age\n",
      "├ Particle 11 (weight -0.7209). ` FROM` :  SELECT state_color, AVG(age) FROM\n",
      "│ Step 11 average weight: -0.7522\n",
      "└╼\n",
      "├ Particle 0 (weight -0.7412). ` data` :  SELECT state_color, AVG(age) FROM data\n",
      "├ Particle 1 (weight -0.7412). ` data` :  SELECT state_color, AVG(age) FROM data\n",
      "├ Particle 2 (weight -0.0679). `)` :  SELECT state_color, vote, AVG(age)\n",
      "├ Particle 3 (weight -1.0019). ` data` :  SELECT state_color, AVG(vote) FROM data\n",
      "├ Particle 4 (weight -1.1731). ` data` :  SELECT state_color, AVG( age ) FROM data\n",
      "├ Particle 5 (weight -3.2501). ` FROM` :   SELECT state_color, AVG(age) FROM\n",
      "├ Particle 6 (weight -0.7412). ` data` :  SELECT state_color, AVG(age) FROM data\n",
      "├ Particle 7 (weight -3.0776). ` FROM` :  SELECT  state_color, AVG( age ) FROM\n",
      "├ Particle 8 (weight -0.7412). ` data` :  SELECT state_color, AVG(age) FROM data\n",
      "├ Particle 9 (weight -0.7412). ` data` :  SELECT state_color, AVG(age) FROM data\n",
      "├ Particle 10 (weight -0.0679). `)` :  SELECT state_color, vote, AVG(age)\n",
      "├ Particle 11 (weight -0.7412). ` data` :  SELECT state_color, AVG(age) FROM data\n",
      "│ Step 12 average weight: -0.7821\n",
      "└╼\n",
      "├ Particle 0 (weight -0.7797). ` WHERE` :  SELECT state_color, AVG(age) FROM data WHERE\n",
      "├ Particle 1 (weight -0.7797). ` WHERE` :  SELECT state_color, AVG(age) FROM data WHERE\n",
      "├ Particle 2 (weight -0.5222). ` FROM` :  SELECT state_color, vote, AVG(age) FROM\n",
      "├ Particle 3 (weight -1.0009). ` GROUP` :  SELECT state_color, AVG(vote) FROM data GROUP\n",
      "├ Particle 4 (weight -1.2107). ` WHERE` :  SELECT state_color, AVG( age ) FROM data WHERE\n",
      "├ Particle 5 (weight -3.2920). ` data` :   SELECT state_color, AVG(age) FROM data\n",
      "├ Particle 6 (weight -0.7797). ` WHERE` :  SELECT state_color, AVG(age) FROM data WHERE\n",
      "├ Particle 7 (weight -3.1147). ` data` :  SELECT  state_color, AVG( age ) FROM data\n",
      "├ Particle 8 (weight -0.7797). ` WHERE` :  SELECT state_color, AVG(age) FROM data WHERE\n",
      "├ Particle 9 (weight -0.7797). ` WHERE` :  SELECT state_color, AVG(age) FROM data WHERE\n",
      "├ Particle 10 (weight -0.5222). ` FROM` :  SELECT state_color, vote, AVG(age) FROM\n",
      "├ Particle 11 (weight -0.7797). ` WHERE` :  SELECT state_color, AVG(age) FROM data WHERE\n",
      "│ Step 13 average weight: -0.9406\n",
      "└╼\n",
      "├ Particle 0 (weight -0.8028). ` race` :  SELECT state_color, AVG(age) FROM data WHERE race\n",
      "├ Particle 1 (weight -0.8028). ` race` :  SELECT state_color, AVG(age) FROM data WHERE race\n",
      "├ Particle 2 (weight -0.5308). ` data` :  SELECT state_color, vote, AVG(age) FROM data\n",
      "├ Particle 3 (weight -1.0053). ` BY` :  SELECT state_color, AVG(vote) FROM data GROUP BY\n",
      "├ Particle 4 (weight -1.2291). ` race` :  SELECT state_color, AVG( age ) FROM data WHERE race\n",
      "├ Particle 5 (weight -3.3612). ` WHERE` :   SELECT state_color, AVG(age) FROM data WHERE\n",
      "├ Particle 6 (weight -0.8028). ` race` :  SELECT state_color, AVG(age) FROM data WHERE race\n",
      "├ Particle 7 (weight -3.2091). ` WHERE` :  SELECT  state_color, AVG( age ) FROM data WHERE\n",
      "├ Particle 8 (weight -0.8028). ` race` :  SELECT state_color, AVG(age) FROM data WHERE race\n",
      "├ Particle 9 (weight -0.8028). ` race` :  SELECT state_color, AVG(age) FROM data WHERE race\n",
      "├ Particle 10 (weight -0.5308). ` data` :  SELECT state_color, vote, AVG(age) FROM data\n",
      "├ Particle 11 (weight -0.7887). ` vote` :  SELECT state_color, AVG(age) FROM data WHERE vote\n",
      "│ Step 14 average weight: -0.9578\n",
      "└╼\n",
      "├ Particle 0 (weight -0.8202). `_` :  SELECT state_color, AVG(age) FROM data WHERE race_\n",
      "├ Particle 1 (weight -0.8202). `_` :  SELECT state_color, AVG(age) FROM data WHERE race_\n",
      "├ Particle 2 (weight -0.5117). ` GROUP` :  SELECT state_color, vote, AVG(age) FROM data GROUP\n",
      "├ Particle 3 (weight -1.0109). ` state` :  SELECT state_color, AVG(vote) FROM data GROUP BY state\n",
      "├ Particle 4 (weight -1.2444). `_` :  SELECT state_color, AVG( age ) FROM data WHERE race_\n",
      "├ Particle 5 (weight -3.3906). ` race` :   SELECT state_color, AVG(age) FROM data WHERE race\n",
      "├ Particle 6 (weight -0.8202). `_` :  SELECT state_color, AVG(age) FROM data WHERE race_\n",
      "├ Particle 7 (weight -3.2192). ` race` :  SELECT  state_color, AVG( age ) FROM data WHERE race\n",
      "├ Particle 8 (weight -0.8202). `_` :  SELECT state_color, AVG(age) FROM data WHERE race_\n",
      "├ Particle 9 (weight -0.8202). `_` :  SELECT state_color, AVG(age) FROM data WHERE race_\n",
      "├ Particle 10 (weight -0.5117). ` GROUP` :  SELECT state_color, vote, AVG(age) FROM data GROUP\n",
      "├ Particle 11 (weight -0.9733). ` =` :  SELECT state_color, AVG(age) FROM data WHERE vote =\n",
      "│ Step 15 average weight: -0.9799\n",
      "└╼\n",
      "├ Particle 0 (weight -0.8259). `eth` :  SELECT state_color, AVG(age) FROM data WHERE race_eth\n",
      "├ Particle 1 (weight -0.8259). `eth` :  SELECT state_color, AVG(age) FROM data WHERE race_eth\n",
      "├ Particle 2 (weight -0.5166). ` BY` :  SELECT state_color, vote, AVG(age) FROM data GROUP BY\n",
      "├ Particle 3 (weight -1.0132). `_` :  SELECT state_color, AVG(vote) FROM data GROUP BY state_\n",
      "├ Particle 4 (weight -1.2511). `eth` :  SELECT state_color, AVG( age ) FROM data WHERE race_eth\n",
      "├ Particle 5 (weight -3.4107). `_` :   SELECT state_color, AVG(age) FROM data WHERE race_\n",
      "├ Particle 6 (weight -0.8259). `eth` :  SELECT state_color, AVG(age) FROM data WHERE race_eth\n",
      "├ Particle 7 (weight -3.2396). `_` :  SELECT  state_color, AVG( age ) FROM data WHERE race_\n",
      "├ Particle 8 (weight -0.8259). `eth` :  SELECT state_color, AVG(age) FROM data WHERE race_eth\n",
      "├ Particle 9 (weight -0.8259). `eth` :  SELECT state_color, AVG(age) FROM data WHERE race_eth\n",
      "├ Particle 10 (weight -0.5166). ` BY` :  SELECT state_color, vote, AVG(age) FROM data GROUP BY\n",
      "├ Particle 11 (weight -1.3567). ` '` :  SELECT state_color, AVG(age) FROM data WHERE vote = '\n",
      "│ Step 16 average weight: -1.0121\n",
      "└╼\n",
      "├ Particle 0 (weight -0.8435). `nic` :  SELECT state_color, AVG(age) FROM data WHERE race_ethnic\n",
      "├ Particle 1 (weight -0.8435). `nic` :  SELECT state_color, AVG(age) FROM data WHERE race_ethnic\n",
      "├ Particle 2 (weight -0.5203). ` state` :  SELECT state_color, vote, AVG(age) FROM data GROUP BY state\n",
      "├ Particle 3 (weight -1.0143). `color` :  SELECT state_color, AVG(vote) FROM data GROUP BY state_color\n",
      "├ Particle 4 (weight -1.2663). `nic` :  SELECT state_color, AVG( age ) FROM data WHERE race_ethnic\n",
      "├ Particle 5 (weight -3.4165). `eth` :   SELECT state_color, AVG(age) FROM data WHERE race_eth\n",
      "├ Particle 6 (weight -0.8435). `nic` :  SELECT state_color, AVG(age) FROM data WHERE race_ethnic\n",
      "├ Particle 7 (weight -3.2484). `eth` :  SELECT  state_color, AVG( age ) FROM data WHERE race_eth\n",
      "├ Particle 8 (weight -0.8435). `nic` :  SELECT state_color, AVG(age) FROM data WHERE race_ethnic\n",
      "├ Particle 9 (weight -0.8435). `nic` :  SELECT state_color, AVG(age) FROM data WHERE race_ethnic\n",
      "├ Particle 10 (weight -0.5203). ` state` :  SELECT state_color, vote, AVG(age) FROM data GROUP BY state\n",
      "├ Particle 11 (weight -1.4017). `dem` :  SELECT state_color, AVG(age) FROM data WHERE vote = 'dem\n",
      "│ Step 17 average weight: -1.0258\n",
      "└╼\n",
      "├ Particle 0 (weight -0.8465). `ity` :  SELECT state_color, AVG(age) FROM data WHERE race_ethnicity\n",
      "├ Particle 1 (weight -0.8465). `ity` :  SELECT state_color, AVG(age) FROM data WHERE race_ethnicity\n",
      "├ Particle 2 (weight -0.5219). `_` :  SELECT state_color, vote, AVG(age) FROM data GROUP BY state_\n",
      "├ Particle 3 (weight -1.1543). ` ` :  SELECT state_color, AVG(vote) FROM data GROUP BY state_color \n",
      "├ Particle 4 (weight -1.2705). `ity` :  SELECT state_color, AVG( age ) FROM data WHERE race_ethnicity\n",
      "├ Particle 5 (weight -3.4342). `nic` :   SELECT state_color, AVG(age) FROM data WHERE race_ethnic\n",
      "├ Particle 6 (weight -0.8465). `ity` :  SELECT state_color, AVG(age) FROM data WHERE race_ethnicity\n",
      "├ Particle 7 (weight -3.2646). `nic` :  SELECT  state_color, AVG( age ) FROM data WHERE race_ethnic\n",
      "├ Particle 8 (weight -0.8465). `ity` :  SELECT state_color, AVG(age) FROM data WHERE race_ethnicity\n",
      "├ Particle 9 (weight -0.8465). `ity` :  SELECT state_color, AVG(age) FROM data WHERE race_ethnicity\n",
      "├ Particle 10 (weight -0.5219). `_` :  SELECT state_color, vote, AVG(age) FROM data GROUP BY state_\n",
      "├ Particle 11 (weight -1.4032). `ocrat` :  SELECT state_color, AVG(age) FROM data WHERE vote = 'democrat\n",
      "│ Step 18 average weight: -1.0395\n",
      "└╼\n",
      "├ Particle 0 (weight -1.0165). ` =` :  SELECT state_color, AVG(age) FROM data WHERE race_ethnicity =\n",
      "├ Particle 1 (weight -1.0165). ` =` :  SELECT state_color, AVG(age) FROM data WHERE race_ethnicity =\n",
      "├ Particle 2 (weight -0.5224). `color` :  SELECT state_color, vote, AVG(age) FROM data GROUP BY state_color\n",
      "├ Particle 3 (weight -7.0581). ` ORDER` :  SELECT state_color, AVG(vote) FROM data GROUP BY state_color  ORDER\n",
      "├ Particle 4 (weight -1.3600). ` =` :  SELECT state_color, AVG( age ) FROM data WHERE race_ethnicity =\n",
      "├ Particle 5 (weight -3.4404). `ity` :   SELECT state_color, AVG(age) FROM data WHERE race_ethnicity\n",
      "├ Particle 6 (weight -1.0165). ` =` :  SELECT state_color, AVG(age) FROM data WHERE race_ethnicity =\n",
      "├ Particle 7 (weight -3.2688). `ity` :  SELECT  state_color, AVG( age ) FROM data WHERE race_ethnicity\n",
      "├ Particle 8 (weight -0.9974). `='` :  SELECT state_color, AVG(age) FROM data WHERE race_ethnicity='\n",
      "├ Particle 9 (weight -0.9974). `='` :  SELECT state_color, AVG(age) FROM data WHERE race_ethnicity='\n",
      "├ Particle 10 (weight -0.5224). `color` :  SELECT state_color, vote, AVG(age) FROM data GROUP BY state_color\n",
      "├ Particle 11 (weight -1.4121). `'` :  SELECT state_color, AVG(age) FROM data WHERE vote = 'democrat'\n",
      "│ Step 19 average weight: -1.2093\n",
      "└╼\n",
      "├ Particle 0 (weight -1.4389). ` '` :  SELECT state_color, AVG(age) FROM data WHERE race_ethnicity = '\n",
      "├ Particle 1 (weight -1.4389). ` '` :  SELECT state_color, AVG(age) FROM data WHERE race_ethnicity = '\n",
      "├ Particle 2 (weight -0.5660). `,` :  SELECT state_color, vote, AVG(age) FROM data GROUP BY state_color,\n",
      "├ Particle 3 (weight -7.0623). ` BY` :  SELECT state_color, AVG(vote) FROM data GROUP BY state_color  ORDER BY\n",
      "├ Particle 4 (weight -1.7053). ` '` :  SELECT state_color, AVG( age ) FROM data WHERE race_ethnicity = '\n",
      "├ Particle 5 (weight -3.6017). ` =` :   SELECT state_color, AVG(age) FROM data WHERE race_ethnicity =\n",
      "├ Particle 6 (weight -1.4389). ` '` :  SELECT state_color, AVG(age) FROM data WHERE race_ethnicity = '\n",
      "├ Particle 7 (weight -3.3640). ` =` :  SELECT  state_color, AVG( age ) FROM data WHERE race_ethnicity =\n",
      "├ Particle 8 (weight -1.0130). `white` :  SELECT state_color, AVG(age) FROM data WHERE race_ethnicity='white\n",
      "├ Particle 9 (weight -1.0130). `white` :  SELECT state_color, AVG(age) FROM data WHERE race_ethnicity='white\n",
      "├ Particle 10 (weight -0.5660). `,` :  SELECT state_color, vote, AVG(age) FROM data GROUP BY state_color,\n",
      "├ Particle 11 (weight -3.9635). ` GROUP` :  SELECT state_color, AVG(age) FROM data WHERE vote = 'democrat' GROUP\n",
      "│ Step 20 average weight: -1.4422\n",
      "└╼\n",
      "├ Particle 0 (weight -1.4589). `white` :  SELECT state_color, AVG(age) FROM data WHERE race_ethnicity = 'white\n",
      "├ Particle 1 (weight -1.4589). `white` :  SELECT state_color, AVG(age) FROM data WHERE race_ethnicity = 'white\n",
      "├ Particle 2 (weight -0.5986). ` vote` :  SELECT state_color, vote, AVG(age) FROM data GROUP BY state_color, vote\n",
      "├ Particle 3 (weight -7.7948). ` state` :  SELECT state_color, AVG(vote) FROM data GROUP BY state_color  ORDER BY state\n",
      "├ Particle 4 (weight -1.7341). `white` :  SELECT state_color, AVG( age ) FROM data WHERE race_ethnicity = 'white\n",
      "├ Particle 5 (weight -3.9946). ` '` :   SELECT state_color, AVG(age) FROM data WHERE race_ethnicity = '\n",
      "├ Particle 6 (weight -1.4589). `white` :  SELECT state_color, AVG(age) FROM data WHERE race_ethnicity = 'white\n",
      "├ Particle 7 (weight -3.7020). ` '` :  SELECT  state_color, AVG( age ) FROM data WHERE race_ethnicity = '\n",
      "├ Particle 8 (weight -1.0196). `'` :  SELECT state_color, AVG(age) FROM data WHERE race_ethnicity='white'\n",
      "├ Particle 9 (weight -1.0196). `'` :  SELECT state_color, AVG(age) FROM data WHERE race_ethnicity='white'\n",
      "├ Particle 10 (weight -0.5986). ` vote` :  SELECT state_color, vote, AVG(age) FROM data GROUP BY state_color, vote\n",
      "├ Particle 11 (weight -3.9679). ` BY` :  SELECT state_color, AVG(age) FROM data WHERE vote = 'democrat' GROUP BY\n",
      "│ Step 21 average weight: -1.4707\n",
      "└╼\n",
      "├ Particle 0 (weight -1.4664). `'` :  SELECT state_color, AVG(age) FROM data WHERE race_ethnicity = 'white'\n",
      "├ Particle 1 (weight -1.4664). `'` :  SELECT state_color, AVG(age) FROM data WHERE race_ethnicity = 'white'\n",
      "├ Particle 2 (weight -1.8384). ` ` :  SELECT state_color, vote, AVG(age) FROM data GROUP BY state_color, vote \n",
      "├ Particle 3 (weight -7.7962). `_` :  SELECT state_color, AVG(vote) FROM data GROUP BY state_color  ORDER BY state_\n",
      "├ Particle 4 (weight -1.7410). `'` :  SELECT state_color, AVG( age ) FROM data WHERE race_ethnicity = 'white'\n",
      "├ Particle 5 (weight -4.0172). `white` :   SELECT state_color, AVG(age) FROM data WHERE race_ethnicity = 'white\n",
      "├ Particle 6 (weight -1.4664). `'` :  SELECT state_color, AVG(age) FROM data WHERE race_ethnicity = 'white'\n",
      "├ Particle 7 (weight -3.7411). `white` :  SELECT  state_color, AVG( age ) FROM data WHERE race_ethnicity = 'white\n",
      "├ Particle 8 (weight 2.5604). ` ` :  SELECT state_color, AVG(age) FROM data WHERE race_ethnicity='white' \n",
      "├ Particle 9 (weight -1.1093). ` GROUP` :  SELECT state_color, AVG(age) FROM data WHERE race_ethnicity='white' GROUP\n",
      "├ Particle 10 (weight -1.8384). ` ` :  SELECT state_color, vote, AVG(age) FROM data GROUP BY state_color, vote \n",
      "├ Particle 11 (weight -3.9713). ` state` :  SELECT state_color, AVG(age) FROM data WHERE vote = 'democrat' GROUP BY state\n",
      "│ Step 22 average weight: 0.1905\n",
      "└╼  Resampling! Weights all set to = 0.1905.\n",
      "├ Particle 0 (weight -1.1436). ` GROUP` :  SELECT state_color, AVG(age) FROM data WHERE race_ethnicity='white'  GROUP\n",
      "├ Particle 1 (weight 0.1373). ` GROUP` :  SELECT state_color, AVG( age ) FROM data WHERE race_ethnicity = 'white' GROUP\n",
      "├ Particle 2 (weight -1.1436). ` GROUP` :  SELECT state_color, AVG(age) FROM data WHERE race_ethnicity='white'  GROUP\n",
      "├ Particle 3 (weight -1.1436). ` GROUP` :  SELECT state_color, AVG(age) FROM data WHERE race_ethnicity='white'  GROUP\n",
      "├ Particle 4 (weight -1.1436). ` GROUP` :  SELECT state_color, AVG(age) FROM data WHERE race_ethnicity='white'  GROUP\n",
      "├ Particle 5 (weight -1.1436). ` GROUP` :  SELECT state_color, AVG(age) FROM data WHERE race_ethnicity='white'  GROUP\n",
      "├ Particle 6 (weight -1.1436). ` GROUP` :  SELECT state_color, AVG(age) FROM data WHERE race_ethnicity='white'  GROUP\n",
      "├ Particle 7 (weight -1.1436). ` GROUP` :  SELECT state_color, AVG(age) FROM data WHERE race_ethnicity='white'  GROUP\n",
      "├ Particle 8 (weight -1.1436). ` GROUP` :  SELECT state_color, AVG(age) FROM data WHERE race_ethnicity='white'  GROUP\n",
      "├ Particle 9 (weight -1.1436). ` GROUP` :  SELECT state_color, AVG(age) FROM data WHERE race_ethnicity='white'  GROUP\n",
      "├ Particle 10 (weight -1.1436). ` GROUP` :  SELECT state_color, AVG(age) FROM data WHERE race_ethnicity='white'  GROUP\n",
      "├ Particle 11 (weight -1.1436). ` GROUP` :  SELECT state_color, AVG(age) FROM data WHERE race_ethnicity='white'  GROUP\n",
      "│ Step 23 average weight: -0.9475\n",
      "└╼\n",
      "├ Particle 0 (weight -1.1524). ` BY` :  SELECT state_color, AVG(age) FROM data WHERE race_ethnicity='white'  GROUP BY\n",
      "├ Particle 1 (weight 0.1315). ` BY` :  SELECT state_color, AVG( age ) FROM data WHERE race_ethnicity = 'white' GROUP BY\n",
      "├ Particle 2 (weight -1.1524). ` BY` :  SELECT state_color, AVG(age) FROM data WHERE race_ethnicity='white'  GROUP BY\n",
      "├ Particle 3 (weight -1.1524). ` BY` :  SELECT state_color, AVG(age) FROM data WHERE race_ethnicity='white'  GROUP BY\n",
      "├ Particle 4 (weight -1.1524). ` BY` :  SELECT state_color, AVG(age) FROM data WHERE race_ethnicity='white'  GROUP BY\n",
      "├ Particle 5 (weight -1.1524). ` BY` :  SELECT state_color, AVG(age) FROM data WHERE race_ethnicity='white'  GROUP BY\n",
      "├ Particle 6 (weight -1.1524). ` BY` :  SELECT state_color, AVG(age) FROM data WHERE race_ethnicity='white'  GROUP BY\n",
      "├ Particle 7 (weight -1.1524). ` BY` :  SELECT state_color, AVG(age) FROM data WHERE race_ethnicity='white'  GROUP BY\n",
      "├ Particle 8 (weight -1.1524). ` BY` :  SELECT state_color, AVG(age) FROM data WHERE race_ethnicity='white'  GROUP BY\n",
      "├ Particle 9 (weight -1.1524). ` BY` :  SELECT state_color, AVG(age) FROM data WHERE race_ethnicity='white'  GROUP BY\n",
      "├ Particle 10 (weight -1.1524). ` BY` :  SELECT state_color, AVG(age) FROM data WHERE race_ethnicity='white'  GROUP BY\n",
      "├ Particle 11 (weight -1.1524). ` BY` :  SELECT state_color, AVG(age) FROM data WHERE race_ethnicity='white'  GROUP BY\n",
      "│ Step 24 average weight: -0.9555\n",
      "└╼\n",
      "├ Particle 0 (weight -1.1568). ` state` :  SELECT state_color, AVG(age) FROM data WHERE race_ethnicity='white'  GROUP BY state\n",
      "├ Particle 1 (weight 0.1279). ` state` :  SELECT state_color, AVG( age ) FROM data WHERE race_ethnicity = 'white' GROUP BY state\n",
      "├ Particle 2 (weight -1.1568). ` state` :  SELECT state_color, AVG(age) FROM data WHERE race_ethnicity='white'  GROUP BY state\n",
      "├ Particle 3 (weight -1.1568). ` state` :  SELECT state_color, AVG(age) FROM data WHERE race_ethnicity='white'  GROUP BY state\n",
      "├ Particle 4 (weight -1.1568). ` state` :  SELECT state_color, AVG(age) FROM data WHERE race_ethnicity='white'  GROUP BY state\n",
      "├ Particle 5 (weight -1.1568). ` state` :  SELECT state_color, AVG(age) FROM data WHERE race_ethnicity='white'  GROUP BY state\n",
      "├ Particle 6 (weight -1.1568). ` state` :  SELECT state_color, AVG(age) FROM data WHERE race_ethnicity='white'  GROUP BY state\n",
      "├ Particle 7 (weight -1.1568). ` state` :  SELECT state_color, AVG(age) FROM data WHERE race_ethnicity='white'  GROUP BY state\n",
      "├ Particle 8 (weight -1.1568). ` state` :  SELECT state_color, AVG(age) FROM data WHERE race_ethnicity='white'  GROUP BY state\n",
      "├ Particle 9 (weight -1.1568). ` state` :  SELECT state_color, AVG(age) FROM data WHERE race_ethnicity='white'  GROUP BY state\n",
      "├ Particle 10 (weight -1.1568). ` state` :  SELECT state_color, AVG(age) FROM data WHERE race_ethnicity='white'  GROUP BY state\n",
      "├ Particle 11 (weight -1.1568). ` state` :  SELECT state_color, AVG(age) FROM data WHERE race_ethnicity='white'  GROUP BY state\n",
      "│ Step 25 average weight: -0.9598\n",
      "└╼\n",
      "├ Particle 0 (weight -1.1604). `_` :  SELECT state_color, AVG(age) FROM data WHERE race_ethnicity='white'  GROUP BY state_\n",
      "├ Particle 1 (weight 0.1250). `_` :  SELECT state_color, AVG( age ) FROM data WHERE race_ethnicity = 'white' GROUP BY state_\n",
      "├ Particle 2 (weight -1.1604). `_` :  SELECT state_color, AVG(age) FROM data WHERE race_ethnicity='white'  GROUP BY state_\n",
      "├ Particle 3 (weight -1.1604). `_` :  SELECT state_color, AVG(age) FROM data WHERE race_ethnicity='white'  GROUP BY state_\n",
      "├ Particle 4 (weight -1.1604). `_` :  SELECT state_color, AVG(age) FROM data WHERE race_ethnicity='white'  GROUP BY state_\n",
      "├ Particle 5 (weight -1.1604). `_` :  SELECT state_color, AVG(age) FROM data WHERE race_ethnicity='white'  GROUP BY state_\n",
      "├ Particle 6 (weight -1.1604). `_` :  SELECT state_color, AVG(age) FROM data WHERE race_ethnicity='white'  GROUP BY state_\n",
      "├ Particle 7 (weight -1.1604). `_` :  SELECT state_color, AVG(age) FROM data WHERE race_ethnicity='white'  GROUP BY state_\n",
      "├ Particle 8 (weight -1.1604). `_` :  SELECT state_color, AVG(age) FROM data WHERE race_ethnicity='white'  GROUP BY state_\n",
      "├ Particle 9 (weight -1.1604). `_` :  SELECT state_color, AVG(age) FROM data WHERE race_ethnicity='white'  GROUP BY state_\n",
      "├ Particle 10 (weight -1.1604). `_` :  SELECT state_color, AVG(age) FROM data WHERE race_ethnicity='white'  GROUP BY state_\n",
      "├ Particle 11 (weight -1.1604). `_` :  SELECT state_color, AVG(age) FROM data WHERE race_ethnicity='white'  GROUP BY state_\n",
      "│ Step 26 average weight: -0.9632\n",
      "└╼\n",
      "├ Particle 0 (weight -1.1619). `color` :  SELECT state_color, AVG(age) FROM data WHERE race_ethnicity='white'  GROUP BY state_color\n",
      "├ Particle 1 (weight 0.1236). `color` :  SELECT state_color, AVG( age ) FROM data WHERE race_ethnicity = 'white' GROUP BY state_color\n",
      "├ Particle 2 (weight -1.1619). `color` :  SELECT state_color, AVG(age) FROM data WHERE race_ethnicity='white'  GROUP BY state_color\n",
      "├ Particle 3 (weight -1.1619). `color` :  SELECT state_color, AVG(age) FROM data WHERE race_ethnicity='white'  GROUP BY state_color\n",
      "├ Particle 4 (weight -1.1619). `color` :  SELECT state_color, AVG(age) FROM data WHERE race_ethnicity='white'  GROUP BY state_color\n",
      "├ Particle 5 (weight -1.1619). `color` :  SELECT state_color, AVG(age) FROM data WHERE race_ethnicity='white'  GROUP BY state_color\n",
      "├ Particle 6 (weight -1.1619). `color` :  SELECT state_color, AVG(age) FROM data WHERE race_ethnicity='white'  GROUP BY state_color\n",
      "├ Particle 7 (weight -1.1619). `color` :  SELECT state_color, AVG(age) FROM data WHERE race_ethnicity='white'  GROUP BY state_color\n",
      "├ Particle 8 (weight -1.1619). `color` :  SELECT state_color, AVG(age) FROM data WHERE race_ethnicity='white'  GROUP BY state_color\n",
      "├ Particle 9 (weight -1.1619). `color` :  SELECT state_color, AVG(age) FROM data WHERE race_ethnicity='white'  GROUP BY state_color\n",
      "├ Particle 10 (weight -1.1619). `color` :  SELECT state_color, AVG(age) FROM data WHERE race_ethnicity='white'  GROUP BY state_color\n",
      "├ Particle 11 (weight -1.1619). `color` :  SELECT state_color, AVG(age) FROM data WHERE race_ethnicity='white'  GROUP BY state_color\n",
      "│ Step 27 average weight: -0.9646\n",
      "└╼\n",
      "├ Particle 0 (weight -2.1051). ` ` :  SELECT state_color, AVG(age) FROM data WHERE race_ethnicity='white'  GROUP BY state_color \n",
      "├ Particle 1 (weight -0.7631). ` ` :  SELECT state_color, AVG( age ) FROM data WHERE race_ethnicity = 'white' GROUP BY state_color \n",
      "├ Particle 2 (weight -2.1051). `  ` :  SELECT state_color, AVG(age) FROM data WHERE race_ethnicity='white'  GROUP BY state_color  \n",
      "├ Particle 3 (weight -2.1051). ` ` :  SELECT state_color, AVG(age) FROM data WHERE race_ethnicity='white'  GROUP BY state_color \n",
      "├ Particle 4 (weight -1.8779). ` ` :  SELECT state_color, AVG(age) FROM data WHERE race_ethnicity='white'  GROUP BY state_color \n",
      "├ Particle 5 (weight -1.8779). ` ` :  SELECT state_color, AVG(age) FROM data WHERE race_ethnicity='white'  GROUP BY state_color \n",
      "├ Particle 6 (weight -2.1051). ` ` :  SELECT state_color, AVG(age) FROM data WHERE race_ethnicity='white'  GROUP BY state_color \n",
      "├ Particle 7 (weight -1.8779). ` ORDER` :  SELECT state_color, AVG(age) FROM data WHERE race_ethnicity='white'  GROUP BY state_color ORDER\n",
      "├ Particle 8 (weight -2.1051). ` ` :  SELECT state_color, AVG(age) FROM data WHERE race_ethnicity='white'  GROUP BY state_color \n",
      "├ Particle 9 (weight -1.8779). ` ORDER` :  SELECT state_color, AVG(age) FROM data WHERE race_ethnicity='white'  GROUP BY state_color ORDER\n",
      "├ Particle 10 (weight -1.8779). ` ORDER` :  SELECT state_color, AVG(age) FROM data WHERE race_ethnicity='white'  GROUP BY state_color ORDER\n",
      "├ Particle 11 (weight -1.8779). ` ` :  SELECT state_color, AVG(age) FROM data WHERE race_ethnicity='white'  GROUP BY state_color \n",
      "│ Step 28 average weight: -1.7953\n",
      "└╼\n",
      "├ Particle 0 (weight -5.3673). ` ORDER` :  SELECT state_color, AVG(age) FROM data WHERE race_ethnicity='white'  GROUP BY state_color  ORDER\n",
      "├ Particle 1 (weight -5.3673). ` ORDER` :  SELECT state_color, AVG( age ) FROM data WHERE race_ethnicity = 'white' GROUP BY state_color  ORDER\n",
      "├ Particle 2 (weight -6.7239). ` ORDER` :  SELECT state_color, AVG(age) FROM data WHERE race_ethnicity='white'  GROUP BY state_color   ORDER\n",
      "├ Particle 3 (weight -5.3673). ` ORDER` :  SELECT state_color, AVG(age) FROM data WHERE race_ethnicity='white'  GROUP BY state_color  ORDER\n",
      "├ Particle 4 (weight -5.1402). ` ORDER` :  SELECT state_color, AVG(age) FROM data WHERE race_ethnicity='white'  GROUP BY state_color  ORDER\n",
      "├ Particle 5 (weight -5.1402). ` ORDER` :  SELECT state_color, AVG(age) FROM data WHERE race_ethnicity='white'  GROUP BY state_color  ORDER\n",
      "├ Particle 6 (weight -5.3673). ` ORDER` :  SELECT state_color, AVG(age) FROM data WHERE race_ethnicity='white'  GROUP BY state_color  ORDER\n",
      "├ Particle 7 (weight -1.8840). ` BY` :  SELECT state_color, AVG(age) FROM data WHERE race_ethnicity='white'  GROUP BY state_color ORDER BY\n",
      "├ Particle 8 (weight -5.3673). ` ORDER` :  SELECT state_color, AVG(age) FROM data WHERE race_ethnicity='white'  GROUP BY state_color  ORDER\n",
      "├ Particle 9 (weight -1.8840). ` BY` :  SELECT state_color, AVG(age) FROM data WHERE race_ethnicity='white'  GROUP BY state_color ORDER BY\n",
      "├ Particle 10 (weight -1.8840). ` BY` :  SELECT state_color, AVG(age) FROM data WHERE race_ethnicity='white'  GROUP BY state_color ORDER BY\n",
      "├ Particle 11 (weight -5.1402). ` ORDER` :  SELECT state_color, AVG(age) FROM data WHERE race_ethnicity='white'  GROUP BY state_color  ORDER\n",
      "│ Step 29 average weight: -3.1819\n",
      "└╼  Resampling! Weights all set to = -3.1819.\n",
      "├ Particle 0 (weight -3.6812). ` state` :  SELECT state_color, AVG(age) FROM data WHERE race_ethnicity='white'  GROUP BY state_color ORDER BY state\n",
      "├ Particle 1 (weight -3.6812). ` state` :  SELECT state_color, AVG(age) FROM data WHERE race_ethnicity='white'  GROUP BY state_color ORDER BY state\n",
      "├ Particle 2 (weight -3.6812). ` state` :  SELECT state_color, AVG(age) FROM data WHERE race_ethnicity='white'  GROUP BY state_color ORDER BY state\n",
      "├ Particle 3 (weight -3.6812). ` state` :  SELECT state_color, AVG(age) FROM data WHERE race_ethnicity='white'  GROUP BY state_color ORDER BY state\n",
      "├ Particle 4 (weight -3.6812). ` state` :  SELECT state_color, AVG(age) FROM data WHERE race_ethnicity='white'  GROUP BY state_color ORDER BY state\n",
      "├ Particle 5 (weight -3.6812). ` state` :  SELECT state_color, AVG(age) FROM data WHERE race_ethnicity='white'  GROUP BY state_color ORDER BY state\n",
      "├ Particle 6 (weight -3.6812). ` state` :  SELECT state_color, AVG(age) FROM data WHERE race_ethnicity='white'  GROUP BY state_color ORDER BY state\n",
      "├ Particle 7 (weight -3.6812). ` state` :  SELECT state_color, AVG(age) FROM data WHERE race_ethnicity='white'  GROUP BY state_color ORDER BY state\n",
      "├ Particle 8 (weight -3.1859). ` BY` :  SELECT state_color, AVG(age) FROM data WHERE race_ethnicity='white'  GROUP BY state_color  ORDER BY\n",
      "├ Particle 9 (weight -3.6812). ` state` :  SELECT state_color, AVG(age) FROM data WHERE race_ethnicity='white'  GROUP BY state_color ORDER BY state\n",
      "├ Particle 10 (weight -3.6812). ` state` :  SELECT state_color, AVG(age) FROM data WHERE race_ethnicity='white'  GROUP BY state_color ORDER BY state\n",
      "├ Particle 11 (weight -3.1859). ` BY` :  SELECT state_color, AVG(age) FROM data WHERE race_ethnicity='white'  GROUP BY state_color  ORDER BY\n",
      "│ Step 30 average weight: -3.5797\n",
      "└╼\n",
      "├ Particle 0 (weight -3.6831). `_` :  SELECT state_color, AVG(age) FROM data WHERE race_ethnicity='white'  GROUP BY state_color ORDER BY state_\n",
      "├ Particle 1 (weight -3.6831). `_` :  SELECT state_color, AVG(age) FROM data WHERE race_ethnicity='white'  GROUP BY state_color ORDER BY state_\n",
      "├ Particle 2 (weight -3.6831). `_` :  SELECT state_color, AVG(age) FROM data WHERE race_ethnicity='white'  GROUP BY state_color ORDER BY state_\n",
      "├ Particle 3 (weight -3.6831). `_` :  SELECT state_color, AVG(age) FROM data WHERE race_ethnicity='white'  GROUP BY state_color ORDER BY state_\n",
      "├ Particle 4 (weight -3.6831). `_` :  SELECT state_color, AVG(age) FROM data WHERE race_ethnicity='white'  GROUP BY state_color ORDER BY state_\n",
      "├ Particle 5 (weight -3.6831). `_` :  SELECT state_color, AVG(age) FROM data WHERE race_ethnicity='white'  GROUP BY state_color ORDER BY state_\n",
      "├ Particle 6 (weight -3.6831). `_` :  SELECT state_color, AVG(age) FROM data WHERE race_ethnicity='white'  GROUP BY state_color ORDER BY state_\n",
      "├ Particle 7 (weight -3.6831). `_` :  SELECT state_color, AVG(age) FROM data WHERE race_ethnicity='white'  GROUP BY state_color ORDER BY state_\n",
      "├ Particle 8 (weight -3.6614). ` state` :  SELECT state_color, AVG(age) FROM data WHERE race_ethnicity='white'  GROUP BY state_color  ORDER BY state\n",
      "├ Particle 9 (weight -3.6831). `_` :  SELECT state_color, AVG(age) FROM data WHERE race_ethnicity='white'  GROUP BY state_color ORDER BY state_\n",
      "├ Particle 10 (weight -3.6831). `_` :  SELECT state_color, AVG(age) FROM data WHERE race_ethnicity='white'  GROUP BY state_color ORDER BY state_\n",
      "├ Particle 11 (weight -3.6614). ` state` :  SELECT state_color, AVG(age) FROM data WHERE race_ethnicity='white'  GROUP BY state_color  ORDER BY state\n",
      "│ Step 31 average weight: -3.6794\n",
      "└╼\n",
      "├ Particle 0 (weight -3.6844). `color` :  SELECT state_color, AVG(age) FROM data WHERE race_ethnicity='white'  GROUP BY state_color ORDER BY state_color\n",
      "├ Particle 1 (weight -3.6844). `color` :  SELECT state_color, AVG(age) FROM data WHERE race_ethnicity='white'  GROUP BY state_color ORDER BY state_color\n",
      "├ Particle 2 (weight -3.6844). `color` :  SELECT state_color, AVG(age) FROM data WHERE race_ethnicity='white'  GROUP BY state_color ORDER BY state_color\n",
      "├ Particle 3 (weight -3.6844). `color` :  SELECT state_color, AVG(age) FROM data WHERE race_ethnicity='white'  GROUP BY state_color ORDER BY state_color\n",
      "├ Particle 4 (weight -3.6844). `color` :  SELECT state_color, AVG(age) FROM data WHERE race_ethnicity='white'  GROUP BY state_color ORDER BY state_color\n",
      "├ Particle 5 (weight -3.6844). `color` :  SELECT state_color, AVG(age) FROM data WHERE race_ethnicity='white'  GROUP BY state_color ORDER BY state_color\n",
      "├ Particle 6 (weight -3.6844). `color` :  SELECT state_color, AVG(age) FROM data WHERE race_ethnicity='white'  GROUP BY state_color ORDER BY state_color\n",
      "├ Particle 7 (weight -3.6844). `color` :  SELECT state_color, AVG(age) FROM data WHERE race_ethnicity='white'  GROUP BY state_color ORDER BY state_color\n",
      "├ Particle 8 (weight -3.6638). `_` :  SELECT state_color, AVG(age) FROM data WHERE race_ethnicity='white'  GROUP BY state_color  ORDER BY state_\n",
      "├ Particle 9 (weight -3.6844). `color` :  SELECT state_color, AVG(age) FROM data WHERE race_ethnicity='white'  GROUP BY state_color ORDER BY state_color\n",
      "├ Particle 10 (weight -3.6844). `color` :  SELECT state_color, AVG(age) FROM data WHERE race_ethnicity='white'  GROUP BY state_color ORDER BY state_color\n",
      "├ Particle 11 (weight -3.6638). `_` :  SELECT state_color, AVG(age) FROM data WHERE race_ethnicity='white'  GROUP BY state_color  ORDER BY state_\n",
      "│ Step 32 average weight: -3.6809\n",
      "└╼\n",
      "├ Particle 0 (weight -4.3088). `,` :  SELECT state_color, AVG(age) FROM data WHERE race_ethnicity='white'  GROUP BY state_color ORDER BY state_color,\n",
      "├ Particle 1 (weight -4.2998). ` ASC` :  SELECT state_color, AVG(age) FROM data WHERE race_ethnicity='white'  GROUP BY state_color ORDER BY state_color ASC\n",
      "├ Particle 2 (weight -4.2998). ` ` :  SELECT state_color, AVG(age) FROM data WHERE race_ethnicity='white'  GROUP BY state_color ORDER BY state_color \n",
      "├ Particle 3 (weight -4.2998). ` ASC` :  SELECT state_color, AVG(age) FROM data WHERE race_ethnicity='white'  GROUP BY state_color ORDER BY state_color ASC\n",
      "├ Particle 4 (weight -4.2998). ` ASC` :  SELECT state_color, AVG(age) FROM data WHERE race_ethnicity='white'  GROUP BY state_color ORDER BY state_color ASC\n",
      "├ Particle 5 (weight -4.2998). ` ASC` :  SELECT state_color, AVG(age) FROM data WHERE race_ethnicity='white'  GROUP BY state_color ORDER BY state_color ASC\n",
      "├ Particle 6 (weight -4.2998). ` ` :  SELECT state_color, AVG(age) FROM data WHERE race_ethnicity='white'  GROUP BY state_color ORDER BY state_color \n",
      "├ Particle 7 (weight -4.2998). ` ASC` :  SELECT state_color, AVG(age) FROM data WHERE race_ethnicity='white'  GROUP BY state_color ORDER BY state_color ASC\n",
      "├ Particle 8 (weight -3.6648). `color` :  SELECT state_color, AVG(age) FROM data WHERE race_ethnicity='white'  GROUP BY state_color  ORDER BY state_color\n",
      "├ Particle 9 (weight -4.2998). ` ASC` :  SELECT state_color, AVG(age) FROM data WHERE race_ethnicity='white'  GROUP BY state_color ORDER BY state_color ASC\n",
      "├ Particle 10 (weight -2.2627). ` ` :  SELECT state_color, AVG(age) FROM data WHERE race_ethnicity='white'  GROUP BY state_color ORDER BY state_color \n",
      "├ Particle 11 (weight -3.6648). `color` :  SELECT state_color, AVG(age) FROM data WHERE race_ethnicity='white'  GROUP BY state_color  ORDER BY state_color\n",
      "│ Step 33 average weight: -3.7675\n",
      "└╼  Resampling! Weights all set to = -3.7675.\n",
      "├ Particle 0 (weight -5.2310). ` ` :  SELECT state_color, AVG(age) FROM data WHERE race_ethnicity='white'  GROUP BY state_color ORDER BY state_color ASC \n",
      "├ Particle 1 (weight -7.0394). ` DESC` :  SELECT state_color, AVG(age) FROM data WHERE race_ethnicity='white'  GROUP BY state_color ORDER BY state_color  DESC\n",
      "├ Particle 2 (weight -7.0396). ` ASC` :  SELECT state_color, AVG(age) FROM data WHERE race_ethnicity='white'  GROUP BY state_color ORDER BY state_color  ASC\n",
      "├ Particle 3 (weight -5.2310). ` ` :  SELECT state_color, AVG(age) FROM data WHERE race_ethnicity='white'  GROUP BY state_color ORDER BY state_color ASC \n",
      "├ Particle 4 (weight -7.0396). ` ASC` :  SELECT state_color, AVG(age) FROM data WHERE race_ethnicity='white'  GROUP BY state_color ORDER BY state_color  ASC\n",
      "├ Particle 5 (weight -5.2310). ` ` :  SELECT state_color, AVG(age) FROM data WHERE race_ethnicity='white'  GROUP BY state_color ORDER BY state_color ASC \n",
      "├ Particle 6 (weight -5.2310). ` ` :  SELECT state_color, AVG(age) FROM data WHERE race_ethnicity='white'  GROUP BY state_color ORDER BY state_color ASC \n",
      "├ Particle 7 (weight -7.0396). ` ASC` :  SELECT state_color, AVG(age) FROM data WHERE race_ethnicity='white'  GROUP BY state_color ORDER BY state_color  ASC\n",
      "├ Particle 8 (weight -4.2180). ` ` :  SELECT state_color, AVG(age) FROM data WHERE race_ethnicity='white'  GROUP BY state_color  ORDER BY state_color \n",
      "├ Particle 9 (weight -5.8770). ` age` :  SELECT state_color, AVG(age) FROM data WHERE race_ethnicity='white'  GROUP BY state_color ORDER BY state_color, age\n",
      "├ Particle 10 (weight -4.2180). ` ASC` :  SELECT state_color, AVG(age) FROM data WHERE race_ethnicity='white'  GROUP BY state_color  ORDER BY state_color ASC\n",
      "├ Particle 11 (weight -7.0396). ` ASC` :  SELECT state_color, AVG(age) FROM data WHERE race_ethnicity='white'  GROUP BY state_color ORDER BY state_color  ASC\n",
      "│ Step 34 average weight: -5.3316\n",
      "└╼\n",
      "├ Particle 0 (weight -14.2744). ` <` :  SELECT state_color, AVG(age) FROM data WHERE race_ethnicity='white'  GROUP BY state_color ORDER BY state_color ASC  <\n",
      "├ Particle 1 (weight -8.4835). ` ` :  SELECT state_color, AVG(age) FROM data WHERE race_ethnicity='white'  GROUP BY state_color ORDER BY state_color  DESC \n",
      "├ Particle 2 (weight -8.4637). ` ` :  SELECT state_color, AVG(age) FROM data WHERE race_ethnicity='white'  GROUP BY state_color ORDER BY state_color  ASC \n",
      "├ Particle 3 (weight -14.2744). ` <` :  SELECT state_color, AVG(age) FROM data WHERE race_ethnicity='white'  GROUP BY state_color ORDER BY state_color ASC  <\n",
      "├ Particle 4 (weight -8.4637). ` ` :  SELECT state_color, AVG(age) FROM data WHERE race_ethnicity='white'  GROUP BY state_color ORDER BY state_color  ASC \n",
      "├ Particle 5 (weight -14.2744). ` <` :  SELECT state_color, AVG(age) FROM data WHERE race_ethnicity='white'  GROUP BY state_color ORDER BY state_color ASC  <\n",
      "├ Particle 6 (weight -14.2744). ` <` :  SELECT state_color, AVG(age) FROM data WHERE race_ethnicity='white'  GROUP BY state_color ORDER BY state_color ASC  <\n",
      "├ Particle 7 (weight -8.4637). ` ` :  SELECT state_color, AVG(age) FROM data WHERE race_ethnicity='white'  GROUP BY state_color ORDER BY state_color  ASC \n",
      "├ Particle 8 (weight -6.1979). ` ASC` :  SELECT state_color, AVG(age) FROM data WHERE race_ethnicity='white'  GROUP BY state_color  ORDER BY state_color  ASC\n",
      "├ Particle 9 (weight -6.5142). ` ASC` :  SELECT state_color, AVG(age) FROM data WHERE race_ethnicity='white'  GROUP BY state_color ORDER BY state_color, age ASC\n",
      "├ Particle 10 (weight -5.4618). `   ` :  SELECT state_color, AVG(age) FROM data WHERE race_ethnicity='white'  GROUP BY state_color  ORDER BY state_color ASC   \n",
      "├ Particle 11 (weight -8.4637). ` ` :  SELECT state_color, AVG(age) FROM data WHERE race_ethnicity='white'  GROUP BY state_color ORDER BY state_color  ASC \n",
      "│ Step 35 average weight: -7.2162\n",
      "└╼  Resampling! Weights all set to = -7.2162.\n",
      "├ Particle 0 (weight -8.4062). ` ` :  SELECT state_color, AVG(age) FROM data WHERE race_ethnicity='white'  GROUP BY state_color  ORDER BY state_color  ASC \n",
      "├ Particle 1 (weight -24.8249). `</` :  SELECT state_color, AVG(age) FROM data WHERE race_ethnicity='white'  GROUP BY state_color  ORDER BY state_color ASC   </\n",
      "├ Particle 2 (weight -15.9682). ` <` :  SELECT state_color, AVG(age) FROM data WHERE race_ethnicity='white'  GROUP BY state_color ORDER BY state_color  ASC  <\n",
      "├ Particle 3 (weight -8.4062). ` ` :  SELECT state_color, AVG(age) FROM data WHERE race_ethnicity='white'  GROUP BY state_color  ORDER BY state_color  ASC \n",
      "├ Particle 4 (weight -24.8249). `</` :  SELECT state_color, AVG(age) FROM data WHERE race_ethnicity='white'  GROUP BY state_color  ORDER BY state_color ASC   </\n",
      "├ Particle 5 (weight -24.8249). `</` :  SELECT state_color, AVG(age) FROM data WHERE race_ethnicity='white'  GROUP BY state_color  ORDER BY state_color ASC   </\n",
      "├ Particle 6 (weight -8.4843). ` ` :  SELECT state_color, AVG(age) FROM data WHERE race_ethnicity='white'  GROUP BY state_color ORDER BY state_color, age ASC \n",
      "├ Particle 7 (weight -24.8249). `<` :  SELECT state_color, AVG(age) FROM data WHERE race_ethnicity='white'  GROUP BY state_color  ORDER BY state_color ASC   <\n",
      "├ Particle 8 (weight -15.9682). ` <` :  SELECT state_color, AVG(age) FROM data WHERE race_ethnicity='white'  GROUP BY state_color ORDER BY state_color  ASC  <\n",
      "├ Particle 9 (weight -24.8249). `</` :  SELECT state_color, AVG(age) FROM data WHERE race_ethnicity='white'  GROUP BY state_color  ORDER BY state_color ASC   </\n",
      "├ Particle 10 (weight -8.4062). ` ` :  SELECT state_color, AVG(age) FROM data WHERE race_ethnicity='white'  GROUP BY state_color  ORDER BY state_color  ASC \n",
      "├ Particle 11 (weight -15.9682). ` <` :  SELECT state_color, AVG(age) FROM data WHERE race_ethnicity='white'  GROUP BY state_color ORDER BY state_color  ASC  <\n",
      "│ Step 36 average weight: -9.5234\n",
      "└╼  Resampling! Weights all set to = -9.5234.\n",
      "├ Particle 0 (weight -18.5925). ` <` :  SELECT state_color, AVG(age) FROM data WHERE race_ethnicity='white'  GROUP BY state_color ORDER BY state_color, age ASC  <\n",
      "├ Particle 1 (weight -18.5925). ` <` :  SELECT state_color, AVG(age) FROM data WHERE race_ethnicity='white'  GROUP BY state_color ORDER BY state_color, age ASC  <\n",
      "├ Particle 2 (weight -18.1529). ` ` :  SELECT state_color, AVG(age) FROM data WHERE race_ethnicity='white'  GROUP BY state_color  ORDER BY state_color  ASC  \n",
      "├ Particle 3 (weight -18.1529). ` <` :  SELECT state_color, AVG(age) FROM data WHERE race_ethnicity='white'  GROUP BY state_color  ORDER BY state_color  ASC  <\n",
      "├ Particle 4 (weight -18.5925). ` </` :  SELECT state_color, AVG(age) FROM data WHERE race_ethnicity='white'  GROUP BY state_color ORDER BY state_color, age ASC  </\n",
      "├ Particle 5 (weight -18.1529). ` <` :  SELECT state_color, AVG(age) FROM data WHERE race_ethnicity='white'  GROUP BY state_color  ORDER BY state_color  ASC  <\n",
      "├ Particle 6 (weight -18.1529). ` <` :  SELECT state_color, AVG(age) FROM data WHERE race_ethnicity='white'  GROUP BY state_color  ORDER BY state_color  ASC  <\n",
      "├ Particle 7 (weight -18.1529). ` <` :  SELECT state_color, AVG(age) FROM data WHERE race_ethnicity='white'  GROUP BY state_color  ORDER BY state_color  ASC  <\n",
      "├ Particle 8 (weight -18.1529). ` <` :  SELECT state_color, AVG(age) FROM data WHERE race_ethnicity='white'  GROUP BY state_color  ORDER BY state_color  ASC  <\n",
      "├ Particle 9 (weight -18.5925). ` <` :  SELECT state_color, AVG(age) FROM data WHERE race_ethnicity='white'  GROUP BY state_color ORDER BY state_color, age ASC  <\n",
      "├ Particle 10 (weight -18.1529). ` <` :  SELECT state_color, AVG(age) FROM data WHERE race_ethnicity='white'  GROUP BY state_color  ORDER BY state_color  ASC  <\n",
      "├ Particle 11 (weight -18.5925). ` <` :  SELECT state_color, AVG(age) FROM data WHERE race_ethnicity='white'  GROUP BY state_color ORDER BY state_color, age ASC  <\n",
      "│ Step 37 average weight: -18.3133\n",
      "└╼\n",
      "├ Particle 0 (weight -29.1197). `/` :  SELECT state_color, AVG(age) FROM data WHERE race_ethnicity='white'  GROUP BY state_color ORDER BY state_color, age ASC  </\n",
      "├ Particle 1 (weight -29.1197). `/` :  SELECT state_color, AVG(age) FROM data WHERE race_ethnicity='white'  GROUP BY state_color ORDER BY state_color, age ASC  </\n",
      "├ Particle 2 (weight -26.1080). ` <` :  SELECT state_color, AVG(age) FROM data WHERE race_ethnicity='white'  GROUP BY state_color  ORDER BY state_color  ASC   <\n",
      "├ Particle 3 (weight -28.3090). `/` :  SELECT state_color, AVG(age) FROM data WHERE race_ethnicity='white'  GROUP BY state_color  ORDER BY state_color  ASC  </\n",
      "├ Particle 4 (weight -25.4685). `s` :  SELECT state_color, AVG(age) FROM data WHERE race_ethnicity='white'  GROUP BY state_color ORDER BY state_color, age ASC  </s\n",
      "├ Particle 5 (weight -28.3090). `/` :  SELECT state_color, AVG(age) FROM data WHERE race_ethnicity='white'  GROUP BY state_color  ORDER BY state_color  ASC  </\n",
      "├ Particle 6 (weight -28.3090). `/` :  SELECT state_color, AVG(age) FROM data WHERE race_ethnicity='white'  GROUP BY state_color  ORDER BY state_color  ASC  </\n",
      "├ Particle 7 (weight -28.3090). `/` :  SELECT state_color, AVG(age) FROM data WHERE race_ethnicity='white'  GROUP BY state_color  ORDER BY state_color  ASC  </\n",
      "├ Particle 8 (weight -28.3090). `/` :  SELECT state_color, AVG(age) FROM data WHERE race_ethnicity='white'  GROUP BY state_color  ORDER BY state_color  ASC  </\n",
      "├ Particle 9 (weight -29.1197). `/` :  SELECT state_color, AVG(age) FROM data WHERE race_ethnicity='white'  GROUP BY state_color ORDER BY state_color, age ASC  </\n",
      "├ Particle 10 (weight -28.3090). `/` :  SELECT state_color, AVG(age) FROM data WHERE race_ethnicity='white'  GROUP BY state_color  ORDER BY state_color  ASC  </\n",
      "├ Particle 11 (weight -29.1197). `/` :  SELECT state_color, AVG(age) FROM data WHERE race_ethnicity='white'  GROUP BY state_color ORDER BY state_color, age ASC  </\n",
      "│ Step 38 average weight: -27.2694\n",
      "└╼  Resampling! Weights all set to = -27.2694.\n",
      "├ Particle 0 (weight -34.7019). `s` :  SELECT state_color, AVG(age) FROM data WHERE race_ethnicity='white'  GROUP BY state_color  ORDER BY state_color  ASC  </s\n",
      "├ Particle 1 (weight -28.7585). `>` :  SELECT state_color, AVG(age) FROM data WHERE race_ethnicity='white'  GROUP BY state_color ORDER BY state_color, age ASC  </s>\n",
      "├ Particle 2 (weight -28.7585). `>` :  SELECT state_color, AVG(age) FROM data WHERE race_ethnicity='white'  GROUP BY state_color ORDER BY state_color, age ASC  </s>\n",
      "├ Particle 3 (weight -28.7585). `>` :  SELECT state_color, AVG(age) FROM data WHERE race_ethnicity='white'  GROUP BY state_color ORDER BY state_color, age ASC  </s>\n",
      "├ Particle 4 (weight -28.7585). `>` :  SELECT state_color, AVG(age) FROM data WHERE race_ethnicity='white'  GROUP BY state_color ORDER BY state_color, age ASC  </s>\n",
      "├ Particle 5 (weight -37.3298). `/` :  SELECT state_color, AVG(age) FROM data WHERE race_ethnicity='white'  GROUP BY state_color  ORDER BY state_color  ASC   </\n",
      "├ Particle 6 (weight -28.7585). `>` :  SELECT state_color, AVG(age) FROM data WHERE race_ethnicity='white'  GROUP BY state_color ORDER BY state_color, age ASC  </s>\n",
      "├ Particle 7 (weight -28.7585). `>` :  SELECT state_color, AVG(age) FROM data WHERE race_ethnicity='white'  GROUP BY state_color ORDER BY state_color, age ASC  </s>\n",
      "├ Particle 8 (weight -28.7585). `>` :  SELECT state_color, AVG(age) FROM data WHERE race_ethnicity='white'  GROUP BY state_color ORDER BY state_color, age ASC  </s>\n",
      "├ Particle 9 (weight -28.7585). `>` :  SELECT state_color, AVG(age) FROM data WHERE race_ethnicity='white'  GROUP BY state_color ORDER BY state_color, age ASC  </s>\n",
      "├ Particle 10 (weight -28.7585). `>` :  SELECT state_color, AVG(age) FROM data WHERE race_ethnicity='white'  GROUP BY state_color ORDER BY state_color, age ASC  </s>\n",
      "├ Particle 11 (weight -34.1455). `s` :  SELECT state_color, AVG(age) FROM data WHERE race_ethnicity='white'  GROUP BY state_color ORDER BY state_color, age ASC  </s\n",
      "│ Step 39 average weight: -29.0453\n",
      "└╼\n",
      "├ Particle 0 (weight -35.9990). `>` :  SELECT state_color, AVG(age) FROM data WHERE race_ethnicity='white'  GROUP BY state_color  ORDER BY state_color  ASC  </s>\n",
      "├ Particle 1 (weight -31.6107). ` ` :  SELECT state_color, AVG(age) FROM data WHERE race_ethnicity='white'  GROUP BY state_color ORDER BY state_color, age ASC  </s> \n",
      "├ Particle 2 (weight -31.6107). ` ` :  SELECT state_color, AVG(age) FROM data WHERE race_ethnicity='white'  GROUP BY state_color ORDER BY state_color, age ASC  </s> \n",
      "├ Particle 3 (weight -31.6107). ` ` :  SELECT state_color, AVG(age) FROM data WHERE race_ethnicity='white'  GROUP BY state_color ORDER BY state_color, age ASC  </s> \n",
      "├ Particle 4 (weight -31.6107). ` ` :  SELECT state_color, AVG(age) FROM data WHERE race_ethnicity='white'  GROUP BY state_color ORDER BY state_color, age ASC  </s> \n",
      "├ Particle 5 (weight -44.3372). `s` :  SELECT state_color, AVG(age) FROM data WHERE race_ethnicity='white'  GROUP BY state_color  ORDER BY state_color  ASC   </s\n",
      "├ Particle 6 (weight -31.6107). ` ` :  SELECT state_color, AVG(age) FROM data WHERE race_ethnicity='white'  GROUP BY state_color ORDER BY state_color, age ASC  </s> \n",
      "├ Particle 7 (weight -30.5475). `▪` :  SELECT state_color, AVG(age) FROM data WHERE race_ethnicity='white'  GROUP BY state_color ORDER BY state_color, age ASC  </s>▪\n",
      "├ Particle 8 (weight -30.5475). `▪` :  SELECT state_color, AVG(age) FROM data WHERE race_ethnicity='white'  GROUP BY state_color ORDER BY state_color, age ASC  </s>▪\n",
      "├ Particle 9 (weight -30.5475). `▪` :  SELECT state_color, AVG(age) FROM data WHERE race_ethnicity='white'  GROUP BY state_color ORDER BY state_color, age ASC  </s>▪\n",
      "├ Particle 10 (weight -30.5475). `▪` :  SELECT state_color, AVG(age) FROM data WHERE race_ethnicity='white'  GROUP BY state_color ORDER BY state_color, age ASC  </s>▪\n",
      "├ Particle 11 (weight -35.6345). `>` :  SELECT state_color, AVG(age) FROM data WHERE race_ethnicity='white'  GROUP BY state_color ORDER BY state_color, age ASC  </s>\n",
      "│ Step 40 average weight: -31.2854\n",
      "└╼\n",
      "├ Particle 0 (weight -50.4905). ` ` :  SELECT state_color, AVG(age) FROM data WHERE race_ethnicity='white'  GROUP BY state_color  ORDER BY state_color  ASC  </s> \n",
      "├ Particle 1 (weight -36.9742). `▪` :  SELECT state_color, AVG(age) FROM data WHERE race_ethnicity='white'  GROUP BY state_color ORDER BY state_color, age ASC  </s> ▪\n",
      "├ Particle 2 (weight -36.9742). `▪` :  SELECT state_color, AVG(age) FROM data WHERE race_ethnicity='white'  GROUP BY state_color ORDER BY state_color, age ASC  </s> ▪\n",
      "├ Particle 3 (weight -36.9742). `▪` :  SELECT state_color, AVG(age) FROM data WHERE race_ethnicity='white'  GROUP BY state_color ORDER BY state_color, age ASC  </s> ▪\n",
      "├ Particle 4 (weight -36.9742). `▪` :  SELECT state_color, AVG(age) FROM data WHERE race_ethnicity='white'  GROUP BY state_color ORDER BY state_color, age ASC  </s> ▪\n",
      "├ Particle 5 (weight -45.6350). `>` :  SELECT state_color, AVG(age) FROM data WHERE race_ethnicity='white'  GROUP BY state_color  ORDER BY state_color  ASC   </s>\n",
      "├ Particle 6 (weight -36.9742). `▪` :  SELECT state_color, AVG(age) FROM data WHERE race_ethnicity='white'  GROUP BY state_color ORDER BY state_color, age ASC  </s> ▪\n",
      "├ Particle 7 (weight -30.5475). `▪` :  SELECT state_color, AVG(age) FROM data WHERE race_ethnicity='white'  GROUP BY state_color ORDER BY state_color, age ASC  </s>▪\n",
      "├ Particle 8 (weight -30.5475). `▪` :  SELECT state_color, AVG(age) FROM data WHERE race_ethnicity='white'  GROUP BY state_color ORDER BY state_color, age ASC  </s>▪\n",
      "├ Particle 9 (weight -30.5475). `▪` :  SELECT state_color, AVG(age) FROM data WHERE race_ethnicity='white'  GROUP BY state_color ORDER BY state_color, age ASC  </s>▪\n",
      "├ Particle 10 (weight -30.5475). `▪` :  SELECT state_color, AVG(age) FROM data WHERE race_ethnicity='white'  GROUP BY state_color ORDER BY state_color, age ASC  </s>▪\n",
      "├ Particle 11 (weight -38.4868). ` ` :  SELECT state_color, AVG(age) FROM data WHERE race_ethnicity='white'  GROUP BY state_color ORDER BY state_color, age ASC  </s> \n",
      "│ Step 41 average weight: -31.6440\n",
      "└╼  Resampling! Weights all set to = -31.6440.\n"
     ]
    }
   ],
   "source": [
    "particle_approx, record = sampler.run_inference(\n",
    "    prompt = prompt,\n",
    "    proposal = proposal,\n",
    "    method = \"smc-standard-record\", # use version of smc that keeps a record\n",
    "    n_particles = 12,\n",
    "    max_tokens = 60,\n",
    "    verbosity = 1\n",
    ")\n"
   ]
  },
  {
   "cell_type": "code",
   "execution_count": 11,
   "metadata": {},
   "outputs": [],
   "source": [
    "import pandas as pd\n",
    "rec = pd.DataFrame(record)\n",
    "rec['token'] = rec['context'].apply(lambda r: [ri[-1] if len(ri)>0 else [] for ri in r ])\n",
    "# rec"
   ]
  },
  {
   "cell_type": "code",
   "execution_count": 12,
   "metadata": {},
   "outputs": [],
   "source": [
    "import numpy as np\n",
    "recs = rec.explode(['context','weight','parent','token']).reset_index(drop=True)\n",
    "N_PARTS = len(rec['context'][0])\n",
    "recs['particle'] = recs.groupby(recs.index // N_PARTS).cumcount()\n",
    "recs['context_string'] = recs['context'].apply(lambda r: ''.join(r[:-1]))\n",
    "recs['float parent'] = recs['parent'].apply(lambda r: float(r))\n",
    "recs['exp_average weight'] = recs['average weight'].apply(lambda r: np.exp(r))\n",
    "recs['exp_weight'] = recs['weight'].apply(lambda r: np.exp(r))\n",
    "recs['prop_exp_weight'] = recs['exp_weight'] / recs['exp_average weight']"
   ]
  },
  {
   "cell_type": "code",
   "execution_count": 13,
   "metadata": {},
   "outputs": [
    {
     "data": {
      "text/html": [
       "<div style=\"font-family: Monospace;\"><table><tr style=\"font-weight: bold;\"><td>key</td><td>value</td></tr><tr><td><pre> SELECT state_color, AVG(age) FROM data WHERE race_ethnicity=&#x27;white&#x27;  GROUP BY state_color ORDER BY state_color, age ASC  &lt;/s&gt;▪</pre></td><td><pre>1.0</pre></td> </tr></table></div>"
      ],
      "text/plain": [
       "{\" SELECT state_color, AVG(age) FROM data WHERE race_ethnicity='white'  GROUP BY state_color ORDER BY state_color, age ASC  </s>▪\": 1.0}"
      ]
     },
     "execution_count": 13,
     "metadata": {},
     "output_type": "execute_result"
    }
   ],
   "source": [
    "particle_approx.posterior\n"
   ]
  },
  {
   "cell_type": "markdown",
   "metadata": {},
   "source": [
    "-----------\n",
    "\n",
    "plotting quick start\n"
   ]
  },
  {
   "cell_type": "code",
   "execution_count": 14,
   "metadata": {},
   "outputs": [],
   "source": [
    "import plotly.express as px\n",
    "import plotly.graph_objects as go"
   ]
  },
  {
   "cell_type": "code",
   "execution_count": 30,
   "metadata": {},
   "outputs": [
    {
     "data": {
      "application/vnd.plotly.v1+json": {
       "config": {
        "plotlyServerURL": "https://plot.ly"
       },
       "data": [
        {
         "customdata": [
          [
           "",
           0,
           false
          ],
          [
           "",
           0,
           false
          ],
          [
           "",
           0,
           false
          ],
          [
           "",
           0,
           false
          ],
          [
           "",
           0,
           false
          ],
          [
           "",
           0,
           false
          ],
          [
           "",
           0,
           false
          ],
          [
           "",
           0,
           false
          ],
          [
           "",
           0,
           false
          ],
          [
           "",
           0,
           false
          ],
          [
           "",
           0,
           false
          ],
          [
           "",
           0,
           false
          ],
          [
           "",
           -0.06423650998111026,
           false
          ],
          [
           "",
           -0.06423650998111026,
           false
          ],
          [
           "",
           -0.06423650998111026,
           false
          ],
          [
           "",
           -0.06423650998111026,
           false
          ],
          [
           "",
           -0.06423650998111026,
           false
          ],
          [
           "",
           -0.06423650998110997,
           false
          ],
          [
           "",
           -0.06423650998111026,
           false
          ],
          [
           "",
           -0.06423650998111026,
           false
          ],
          [
           "",
           -0.06423650998111026,
           false
          ],
          [
           "",
           -0.06423650998111026,
           false
          ],
          [
           "",
           -0.06423650998111026,
           false
          ],
          [
           "",
           -0.06423650998111026,
           false
          ],
          [
           " SELECT",
           -0.13881743232963722,
           false
          ],
          [
           " SELECT",
           -0.13881743232963722,
           false
          ],
          [
           " SELECT",
           -0.13881743232963722,
           false
          ],
          [
           " SELECT",
           -0.13881743232963722,
           false
          ],
          [
           " SELECT",
           -0.13881743232963722,
           false
          ],
          [
           " ",
           -2.464340974385423,
           false
          ],
          [
           " SELECT",
           -0.13881743232963722,
           false
          ],
          [
           " SELECT",
           -0.9295670218515627,
           false
          ],
          [
           " SELECT",
           -0.13881743232963722,
           false
          ],
          [
           " SELECT",
           -0.13881743232963722,
           false
          ],
          [
           " SELECT",
           -0.13881743232963722,
           false
          ],
          [
           " SELECT",
           -0.13881743232963722,
           false
          ],
          [
           " SELECT state",
           -0.1625813233498789,
           false
          ],
          [
           " SELECT state",
           -0.1625813233498789,
           false
          ],
          [
           " SELECT state",
           -0.1625813233498789,
           false
          ],
          [
           " SELECT state",
           -0.1625813233498789,
           false
          ],
          [
           " SELECT state",
           -0.1625813233498789,
           false
          ],
          [
           "  SELECT",
           -2.5437364502950865,
           false
          ],
          [
           " SELECT state",
           -0.1625813233498789,
           false
          ],
          [
           " SELECT ",
           -1.8186911935155932,
           false
          ],
          [
           " SELECT state",
           -0.1625813233498789,
           false
          ],
          [
           " SELECT state",
           -0.1625813233498789,
           false
          ],
          [
           " SELECT state",
           -0.1625813233498789,
           false
          ],
          [
           " SELECT state",
           -0.1625813233498789,
           false
          ],
          [
           " SELECT state_",
           -0.16523130627039267,
           false
          ],
          [
           " SELECT state_",
           -0.16523130627039267,
           false
          ],
          [
           " SELECT state_",
           -0.16523130627039267,
           false
          ],
          [
           " SELECT state_",
           -0.16523130627039267,
           false
          ],
          [
           " SELECT state_",
           -0.16523130627039267,
           false
          ],
          [
           "  SELECT state",
           -2.570119615171418,
           false
          ],
          [
           " SELECT state_",
           -0.16523130627039267,
           false
          ],
          [
           " SELECT  state",
           -1.8505265876598784,
           false
          ],
          [
           " SELECT state_",
           -0.16523130627039267,
           false
          ],
          [
           " SELECT state_",
           -0.16523130627039267,
           false
          ],
          [
           " SELECT state_",
           -0.16523130627039267,
           false
          ],
          [
           " SELECT state_",
           -0.16523130627039267,
           false
          ],
          [
           " SELECT state_color",
           -0.16800486683141774,
           false
          ],
          [
           " SELECT state_color",
           -0.16800486683141774,
           false
          ],
          [
           " SELECT state_color",
           -0.16800486683141774,
           false
          ],
          [
           " SELECT state_color",
           -0.16800486683141774,
           false
          ],
          [
           " SELECT state_color",
           -0.16800486683141774,
           false
          ],
          [
           "  SELECT state_",
           -2.5732055989155227,
           false
          ],
          [
           " SELECT state_color",
           -0.16800486683141774,
           false
          ],
          [
           " SELECT  state_",
           -1.8546137093044308,
           false
          ],
          [
           " SELECT state_color",
           -0.16800486683141774,
           false
          ],
          [
           " SELECT state_color",
           -0.16800486683141774,
           false
          ],
          [
           " SELECT state_color",
           -0.16800486683141774,
           false
          ],
          [
           " SELECT state_color",
           -0.16800486683141774,
           false
          ],
          [
           " SELECT state_color,",
           -0.2327039031064409,
           false
          ],
          [
           " SELECT state_color,",
           -0.2327039031064409,
           false
          ],
          [
           " SELECT state_color,",
           -0.00937239861374789,
           false
          ],
          [
           " SELECT state_color,",
           -0.2327039031064409,
           false
          ],
          [
           " SELECT state_color,",
           -0.2327039031064409,
           false
          ],
          [
           "  SELECT state_color",
           -2.577082242441811,
           false
          ],
          [
           " SELECT state_color,",
           -0.2327039031064409,
           false
          ],
          [
           " SELECT  state_color",
           -1.8617712135776239,
           false
          ],
          [
           " SELECT state_color,",
           -0.2327039031064409,
           false
          ],
          [
           " SELECT state_color,",
           -0.2327039031064409,
           false
          ],
          [
           " SELECT state_color,",
           -0.00937239861374789,
           false
          ],
          [
           " SELECT state_color,",
           -0.2327039031064409,
           false
          ],
          [
           " SELECT state_color, AV",
           -0.23298700563421848,
           false
          ],
          [
           " SELECT state_color, AV",
           -0.23298700563421848,
           false
          ],
          [
           " SELECT state_color, vote",
           -0.015706210601005962,
           false
          ],
          [
           " SELECT state_color, AV",
           -0.23298700563421848,
           false
          ],
          [
           " SELECT state_color, AV",
           -0.23298700563421848,
           false
          ],
          [
           "  SELECT state_color,",
           -2.662291710066364,
           false
          ],
          [
           " SELECT state_color, AV",
           -0.23298700563421848,
           false
          ],
          [
           " SELECT  state_color,",
           -1.9763824670176813,
           false
          ],
          [
           " SELECT state_color, AV",
           -0.23298700563421848,
           false
          ],
          [
           " SELECT state_color, AV",
           -0.23298700563421848,
           false
          ],
          [
           " SELECT state_color, vote",
           -0.015706210601005962,
           false
          ],
          [
           " SELECT state_color, AV",
           -0.23298700563421848,
           false
          ],
          [
           " SELECT state_color, AVG",
           -0.24912490088814046,
           false
          ],
          [
           " SELECT state_color, AVG",
           -0.24912490088814046,
           false
          ],
          [
           " SELECT state_color, vote,",
           -0.04427832154564515,
           false
          ],
          [
           " SELECT state_color, AVG",
           -0.24912490088814046,
           false
          ],
          [
           " SELECT state_color, AVG",
           -0.24912490088814046,
           false
          ],
          [
           "  SELECT state_color, AV",
           -2.662570937202761,
           false
          ],
          [
           " SELECT state_color, AVG",
           -0.24912490088814046,
           false
          ],
          [
           " SELECT  state_color, AV",
           -1.9770262255353779,
           false
          ],
          [
           " SELECT state_color, AVG",
           -0.24912490088814046,
           false
          ],
          [
           " SELECT state_color, AVG",
           -0.24912490088814046,
           false
          ],
          [
           " SELECT state_color, vote,",
           -0.04427832154564515,
           false
          ],
          [
           " SELECT state_color, AVG",
           -0.24912490088814046,
           false
          ],
          [
           " SELECT state_color, AVG(",
           -0.27934526602176357,
           false
          ],
          [
           " SELECT state_color, AVG(",
           -0.27934526602176357,
           false
          ],
          [
           " SELECT state_color, vote, AV",
           -0.04460649895945082,
           false
          ],
          [
           " SELECT state_color, AVG(",
           -0.28028068912601856,
           false
          ],
          [
           " SELECT state_color, AVG(",
           -0.4635757013085089,
           false
          ],
          [
           "  SELECT state_color, AVG",
           -2.689274954155267,
           false
          ],
          [
           " SELECT state_color, AVG(",
           -0.27934526602176357,
           false
          ],
          [
           " SELECT  state_color, AVG",
           -2.0263608982026957,
           false
          ],
          [
           " SELECT state_color, AVG(",
           -0.27934526602176357,
           false
          ],
          [
           " SELECT state_color, AVG(",
           -0.27934526602176357,
           false
          ],
          [
           " SELECT state_color, vote, AV",
           -0.04460649895945082,
           false
          ],
          [
           " SELECT state_color, AVG(",
           -0.27934526602176357,
           false
          ],
          [
           " SELECT state_color, AVG(age",
           -0.28440212092267136,
           false
          ],
          [
           " SELECT state_color, AVG(age",
           -0.28440212092267136,
           false
          ],
          [
           " SELECT state_color, vote, AVG",
           -0.05757762006086329,
           false
          ],
          [
           " SELECT state_color, AVG(vote",
           -0.3867324769658002,
           false
          ],
          [
           " SELECT state_color, AVG( age",
           -0.473621918325108,
           false
          ],
          [
           "  SELECT state_color, AVG(",
           -2.7210320243122426,
           false
          ],
          [
           " SELECT state_color, AVG(age",
           -0.28440212092267136,
           false
          ],
          [
           " SELECT  state_color, AVG(",
           -2.224848462403134,
           false
          ],
          [
           " SELECT state_color, AVG(age",
           -0.28440212092267136,
           false
          ],
          [
           " SELECT state_color, AVG(age",
           -0.28440212092267136,
           false
          ],
          [
           " SELECT state_color, vote, AVG",
           -0.05757762006086329,
           false
          ],
          [
           " SELECT state_color, AVG(age",
           -0.28440212092267136,
           false
          ],
          [
           " SELECT state_color, AVG(age)",
           -0.7208645195222263,
           false
          ],
          [
           " SELECT state_color, AVG(age)",
           -0.7208645195222263,
           false
          ],
          [
           " SELECT state_color, vote, AVG(",
           -0.06629290515509179,
           false
          ],
          [
           " SELECT state_color, AVG(vote)",
           -0.9827915018030127,
           false
          ],
          [
           " SELECT state_color, AVG( age )",
           -1.1402611473388644,
           false
          ],
          [
           "  SELECT state_color, AVG(age",
           -2.726660857805541,
           false
          ],
          [
           " SELECT state_color, AVG(age)",
           -0.7208645195222263,
           false
          ],
          [
           " SELECT  state_color, AVG( age",
           -2.2343872246628385,
           false
          ],
          [
           " SELECT state_color, AVG(age)",
           -0.7208645195222263,
           false
          ],
          [
           " SELECT state_color, AVG(age)",
           -0.7208645195222263,
           false
          ],
          [
           " SELECT state_color, vote, AVG(",
           -0.06629290515509179,
           false
          ],
          [
           " SELECT state_color, AVG(age)",
           -0.7208645195222263,
           false
          ],
          [
           " SELECT state_color, AVG(age) FROM",
           -0.7411937765024813,
           false
          ],
          [
           " SELECT state_color, AVG(age) FROM",
           -0.7411937765024813,
           false
          ],
          [
           " SELECT state_color, vote, AVG(age",
           -0.06791383640914175,
           false
          ],
          [
           " SELECT state_color, AVG(vote) FROM",
           -1.001912020434208,
           false
          ],
          [
           " SELECT state_color, AVG( age ) FROM",
           -1.1730541969645174,
           false
          ],
          [
           "  SELECT state_color, AVG(age)",
           -3.250135569328193,
           false
          ],
          [
           " SELECT state_color, AVG(age) FROM",
           -0.7411937765024813,
           false
          ],
          [
           " SELECT  state_color, AVG( age )",
           -3.077634234084507,
           false
          ],
          [
           " SELECT state_color, AVG(age) FROM",
           -0.7411937765024813,
           false
          ],
          [
           " SELECT state_color, AVG(age) FROM",
           -0.7411937765024813,
           false
          ],
          [
           " SELECT state_color, vote, AVG(age",
           -0.06791383640914175,
           false
          ],
          [
           " SELECT state_color, AVG(age) FROM",
           -0.7411937765024813,
           false
          ],
          [
           " SELECT state_color, AVG(age) FROM data",
           -0.7797052639353024,
           false
          ],
          [
           " SELECT state_color, AVG(age) FROM data",
           -0.7797052639353024,
           false
          ],
          [
           " SELECT state_color, vote, AVG(age)",
           -0.5221990587580139,
           false
          ],
          [
           " SELECT state_color, AVG(vote) FROM data",
           -1.0009368965954109,
           false
          ],
          [
           " SELECT state_color, AVG( age ) FROM data",
           -1.2106672193049615,
           false
          ],
          [
           "  SELECT state_color, AVG(age) FROM",
           -3.2920404307796542,
           false
          ],
          [
           " SELECT state_color, AVG(age) FROM data",
           -0.7797052639353024,
           false
          ],
          [
           " SELECT  state_color, AVG( age ) FROM",
           -3.114745234343204,
           false
          ],
          [
           " SELECT state_color, AVG(age) FROM data",
           -0.7797052639353024,
           false
          ],
          [
           " SELECT state_color, AVG(age) FROM data",
           -0.7797052639353024,
           false
          ],
          [
           " SELECT state_color, vote, AVG(age)",
           -0.5221990587580139,
           false
          ],
          [
           " SELECT state_color, AVG(age) FROM data",
           -0.7797052639353024,
           false
          ],
          [
           " SELECT state_color, AVG(age) FROM data WHERE",
           -0.8027609508003747,
           false
          ],
          [
           " SELECT state_color, AVG(age) FROM data WHERE",
           -0.8027609508003747,
           false
          ],
          [
           " SELECT state_color, vote, AVG(age) FROM",
           -0.5308457544006819,
           false
          ],
          [
           " SELECT state_color, AVG(vote) FROM data GROUP",
           -1.0052745687902167,
           false
          ],
          [
           " SELECT state_color, AVG( age ) FROM data WHERE",
           -1.2291197043819193,
           false
          ],
          [
           "  SELECT state_color, AVG(age) FROM data",
           -3.361163263853064,
           false
          ],
          [
           " SELECT state_color, AVG(age) FROM data WHERE",
           -0.8027609508003747,
           false
          ],
          [
           " SELECT  state_color, AVG( age ) FROM data",
           -3.2091482213115525,
           false
          ],
          [
           " SELECT state_color, AVG(age) FROM data WHERE",
           -0.8027609508003747,
           false
          ],
          [
           " SELECT state_color, AVG(age) FROM data WHERE",
           -0.8027609508003747,
           false
          ],
          [
           " SELECT state_color, vote, AVG(age) FROM",
           -0.5308457544006819,
           false
          ],
          [
           " SELECT state_color, AVG(age) FROM data WHERE",
           -0.7886773570333001,
           false
          ],
          [
           " SELECT state_color, AVG(age) FROM data WHERE race",
           -0.8202330375267218,
           false
          ],
          [
           " SELECT state_color, AVG(age) FROM data WHERE race",
           -0.8202330375267218,
           false
          ],
          [
           " SELECT state_color, vote, AVG(age) FROM data",
           -0.5116800381210351,
           false
          ],
          [
           " SELECT state_color, AVG(vote) FROM data GROUP BY",
           -1.0109344931269217,
           false
          ],
          [
           " SELECT state_color, AVG( age ) FROM data WHERE race",
           -1.2444079209782435,
           false
          ],
          [
           "  SELECT state_color, AVG(age) FROM data WHERE",
           -3.390641936695356,
           false
          ],
          [
           " SELECT state_color, AVG(age) FROM data WHERE race",
           -0.8202330375267218,
           false
          ],
          [
           " SELECT  state_color, AVG( age ) FROM data WHERE",
           -3.219179637266679,
           false
          ],
          [
           " SELECT state_color, AVG(age) FROM data WHERE race",
           -0.8202330375267218,
           false
          ],
          [
           " SELECT state_color, AVG(age) FROM data WHERE race",
           -0.8202330375267218,
           false
          ],
          [
           " SELECT state_color, vote, AVG(age) FROM data",
           -0.5116800381210351,
           false
          ],
          [
           " SELECT state_color, AVG(age) FROM data WHERE vote",
           -0.9733190668331188,
           false
          ],
          [
           " SELECT state_color, AVG(age) FROM data WHERE race_",
           -0.825854048414291,
           false
          ],
          [
           " SELECT state_color, AVG(age) FROM data WHERE race_",
           -0.825854048414291,
           false
          ],
          [
           " SELECT state_color, vote, AVG(age) FROM data GROUP",
           -0.516594233150886,
           false
          ],
          [
           " SELECT state_color, AVG(vote) FROM data GROUP BY state",
           -1.0131544269572728,
           false
          ],
          [
           " SELECT state_color, AVG( age ) FROM data WHERE race_",
           -1.2510571028704713,
           false
          ],
          [
           "  SELECT state_color, AVG(age) FROM data WHERE race",
           -3.4106933740006355,
           false
          ],
          [
           " SELECT state_color, AVG(age) FROM data WHERE race_",
           -0.825854048414291,
           false
          ],
          [
           " SELECT  state_color, AVG( age ) FROM data WHERE race",
           -3.239591997311892,
           false
          ],
          [
           " SELECT state_color, AVG(age) FROM data WHERE race_",
           -0.825854048414291,
           false
          ],
          [
           " SELECT state_color, AVG(age) FROM data WHERE race_",
           -0.825854048414291,
           false
          ],
          [
           " SELECT state_color, vote, AVG(age) FROM data GROUP",
           -0.516594233150886,
           false
          ],
          [
           " SELECT state_color, AVG(age) FROM data WHERE vote =",
           -1.356707042546489,
           false
          ],
          [
           " SELECT state_color, AVG(age) FROM data WHERE race_eth",
           -0.8434738325328712,
           false
          ],
          [
           " SELECT state_color, AVG(age) FROM data WHERE race_eth",
           -0.8434738325328712,
           false
          ],
          [
           " SELECT state_color, vote, AVG(age) FROM data GROUP BY",
           -0.5203140938738017,
           false
          ],
          [
           " SELECT state_color, AVG(vote) FROM data GROUP BY state_",
           -1.0142566341234105,
           false
          ],
          [
           " SELECT state_color, AVG( age ) FROM data WHERE race_eth",
           -1.266295476802626,
           false
          ],
          [
           "  SELECT state_color, AVG(age) FROM data WHERE race_",
           -3.416491385934563,
           false
          ],
          [
           " SELECT state_color, AVG(age) FROM data WHERE race_eth",
           -0.8434738325328712,
           false
          ],
          [
           " SELECT  state_color, AVG( age ) FROM data WHERE race_",
           -3.24844344720833,
           false
          ],
          [
           " SELECT state_color, AVG(age) FROM data WHERE race_eth",
           -0.8434738325328712,
           false
          ],
          [
           " SELECT state_color, AVG(age) FROM data WHERE race_eth",
           -0.8434738325328712,
           false
          ],
          [
           " SELECT state_color, vote, AVG(age) FROM data GROUP BY",
           -0.5203140938738017,
           false
          ],
          [
           " SELECT state_color, AVG(age) FROM data WHERE vote = '",
           -1.4017157559947881,
           false
          ],
          [
           " SELECT state_color, AVG(age) FROM data WHERE race_ethnic",
           -0.8464699004501499,
           false
          ],
          [
           " SELECT state_color, AVG(age) FROM data WHERE race_ethnic",
           -0.8464699004501499,
           false
          ],
          [
           " SELECT state_color, vote, AVG(age) FROM data GROUP BY state",
           -0.5218558830736802,
           false
          ],
          [
           " SELECT state_color, AVG(vote) FROM data GROUP BY state_color",
           -1.1542863853791858,
           false
          ],
          [
           " SELECT state_color, AVG( age ) FROM data WHERE race_ethnic",
           -1.2705271447781326,
           false
          ],
          [
           "  SELECT state_color, AVG(age) FROM data WHERE race_eth",
           -3.434224622756989,
           false
          ],
          [
           " SELECT state_color, AVG(age) FROM data WHERE race_ethnic",
           -0.8464699004501499,
           false
          ],
          [
           " SELECT  state_color, AVG( age ) FROM data WHERE race_eth",
           -3.2645954742632033,
           false
          ],
          [
           " SELECT state_color, AVG(age) FROM data WHERE race_ethnic",
           -0.8464699004501499,
           false
          ],
          [
           " SELECT state_color, AVG(age) FROM data WHERE race_ethnic",
           -0.8464699004501499,
           false
          ],
          [
           " SELECT state_color, vote, AVG(age) FROM data GROUP BY state",
           -0.5218558830736802,
           false
          ],
          [
           " SELECT state_color, AVG(age) FROM data WHERE vote = 'dem",
           -1.4031637156867405,
           false
          ],
          [
           " SELECT state_color, AVG(age) FROM data WHERE race_ethnicity",
           -1.0164675267989707,
           false
          ],
          [
           " SELECT state_color, AVG(age) FROM data WHERE race_ethnicity",
           -1.0164675267989707,
           false
          ],
          [
           " SELECT state_color, vote, AVG(age) FROM data GROUP BY state_",
           -0.5224324537804097,
           false
          ],
          [
           " SELECT state_color, AVG(vote) FROM data GROUP BY state_color ",
           -7.058143280444078,
           false
          ],
          [
           " SELECT state_color, AVG( age ) FROM data WHERE race_ethnicity",
           -1.3599868532290758,
           false
          ],
          [
           "  SELECT state_color, AVG(age) FROM data WHERE race_ethnic",
           -3.4403644819080736,
           false
          ],
          [
           " SELECT state_color, AVG(age) FROM data WHERE race_ethnicity",
           -1.0164675267989707,
           false
          ],
          [
           " SELECT  state_color, AVG( age ) FROM data WHERE race_ethnic",
           -3.2688269751185692,
           false
          ],
          [
           " SELECT state_color, AVG(age) FROM data WHERE race_ethnicity",
           -0.9973909722464701,
           false
          ],
          [
           " SELECT state_color, AVG(age) FROM data WHERE race_ethnicity",
           -0.9973909722464701,
           false
          ],
          [
           " SELECT state_color, vote, AVG(age) FROM data GROUP BY state_",
           -0.5224324537804097,
           false
          ],
          [
           " SELECT state_color, AVG(age) FROM data WHERE vote = 'democrat",
           -1.412140169744217,
           false
          ],
          [
           " SELECT state_color, AVG(age) FROM data WHERE race_ethnicity =",
           -1.4389200866341274,
           false
          ],
          [
           " SELECT state_color, AVG(age) FROM data WHERE race_ethnicity =",
           -1.4389200866341274,
           false
          ],
          [
           " SELECT state_color, vote, AVG(age) FROM data GROUP BY state_color",
           -0.5660375064959887,
           false
          ],
          [
           " SELECT state_color, AVG(vote) FROM data GROUP BY state_color  ORDER",
           -7.062294652422782,
           false
          ],
          [
           " SELECT state_color, AVG( age ) FROM data WHERE race_ethnicity =",
           -1.7052860926518683,
           false
          ],
          [
           "  SELECT state_color, AVG(age) FROM data WHERE race_ethnicity",
           -3.60166838833212,
           false
          ],
          [
           " SELECT state_color, AVG(age) FROM data WHERE race_ethnicity =",
           -1.4389200866341274,
           false
          ],
          [
           " SELECT  state_color, AVG( age ) FROM data WHERE race_ethnicity",
           -3.3639873949664856,
           false
          ],
          [
           " SELECT state_color, AVG(age) FROM data WHERE race_ethnicity='",
           -1.0129575552558232,
           false
          ],
          [
           " SELECT state_color, AVG(age) FROM data WHERE race_ethnicity='",
           -1.0129575552558232,
           false
          ],
          [
           " SELECT state_color, vote, AVG(age) FROM data GROUP BY state_color",
           -0.5660375064959887,
           false
          ],
          [
           " SELECT state_color, AVG(age) FROM data WHERE vote = 'democrat'",
           -3.9634845696968473,
           false
          ],
          [
           " SELECT state_color, AVG(age) FROM data WHERE race_ethnicity = '",
           -1.458856349894649,
           false
          ],
          [
           " SELECT state_color, AVG(age) FROM data WHERE race_ethnicity = '",
           -1.458856349894649,
           false
          ],
          [
           " SELECT state_color, vote, AVG(age) FROM data GROUP BY state_color,",
           -0.5985562815106478,
           false
          ],
          [
           " SELECT state_color, AVG(vote) FROM data GROUP BY state_color  ORDER BY",
           -7.794756358989545,
           false
          ],
          [
           " SELECT state_color, AVG( age ) FROM data WHERE race_ethnicity = '",
           -1.7341422699959337,
           false
          ],
          [
           "  SELECT state_color, AVG(age) FROM data WHERE race_ethnicity =",
           -3.9945955824225265,
           false
          ],
          [
           " SELECT state_color, AVG(age) FROM data WHERE race_ethnicity = '",
           -1.458856349894649,
           false
          ],
          [
           " SELECT  state_color, AVG( age ) FROM data WHERE race_ethnicity =",
           -3.702049875793614,
           false
          ],
          [
           " SELECT state_color, AVG(age) FROM data WHERE race_ethnicity='white",
           -1.019565773974233,
           false
          ],
          [
           " SELECT state_color, AVG(age) FROM data WHERE race_ethnicity='white",
           -1.019565773974233,
           false
          ],
          [
           " SELECT state_color, vote, AVG(age) FROM data GROUP BY state_color,",
           -0.5985562815106478,
           false
          ],
          [
           " SELECT state_color, AVG(age) FROM data WHERE vote = 'democrat' GROUP",
           -3.9678834202496582,
           false
          ],
          [
           " SELECT state_color, AVG(age) FROM data WHERE race_ethnicity = 'white",
           -1.466358185232746,
           true
          ],
          [
           " SELECT state_color, AVG(age) FROM data WHERE race_ethnicity = 'white",
           -1.466358185232746,
           true
          ],
          [
           " SELECT state_color, vote, AVG(age) FROM data GROUP BY state_color, vote",
           -1.8384206661164184,
           true
          ],
          [
           " SELECT state_color, AVG(vote) FROM data GROUP BY state_color  ORDER BY state",
           -7.796203891679066,
           true
          ],
          [
           " SELECT state_color, AVG( age ) FROM data WHERE race_ethnicity = 'white",
           -1.7410373290345853,
           true
          ],
          [
           "  SELECT state_color, AVG(age) FROM data WHERE race_ethnicity = '",
           -4.017185698230834,
           true
          ],
          [
           " SELECT state_color, AVG(age) FROM data WHERE race_ethnicity = 'white",
           -1.466358185232746,
           true
          ],
          [
           " SELECT  state_color, AVG( age ) FROM data WHERE race_ethnicity = '",
           -3.741060190825044,
           true
          ],
          [
           " SELECT state_color, AVG(age) FROM data WHERE race_ethnicity='white'",
           2.560402408683238,
           true
          ],
          [
           " SELECT state_color, AVG(age) FROM data WHERE race_ethnicity='white'",
           -1.1092553930042857,
           true
          ],
          [
           " SELECT state_color, vote, AVG(age) FROM data GROUP BY state_color, vote",
           -1.8384206661164184,
           true
          ],
          [
           " SELECT state_color, AVG(age) FROM data WHERE vote = 'democrat' GROUP BY",
           -3.9712762500073158,
           true
          ],
          [
           " SELECT state_color, AVG(age) FROM data WHERE race_ethnicity='white' ",
           -1.1436064166855813,
           false
          ],
          [
           " SELECT state_color, AVG( age ) FROM data WHERE race_ethnicity = 'white'",
           0.13727573602346982,
           false
          ],
          [
           " SELECT state_color, AVG(age) FROM data WHERE race_ethnicity='white' ",
           -1.1436064166855813,
           false
          ],
          [
           " SELECT state_color, AVG(age) FROM data WHERE race_ethnicity='white' ",
           -1.1436064166855813,
           false
          ],
          [
           " SELECT state_color, AVG(age) FROM data WHERE race_ethnicity='white' ",
           -1.1436064166855813,
           false
          ],
          [
           " SELECT state_color, AVG(age) FROM data WHERE race_ethnicity='white' ",
           -1.1436064166855813,
           false
          ],
          [
           " SELECT state_color, AVG(age) FROM data WHERE race_ethnicity='white' ",
           -1.1436064166855813,
           false
          ],
          [
           " SELECT state_color, AVG(age) FROM data WHERE race_ethnicity='white' ",
           -1.1436064166855813,
           false
          ],
          [
           " SELECT state_color, AVG(age) FROM data WHERE race_ethnicity='white' ",
           -1.1436064166855813,
           false
          ],
          [
           " SELECT state_color, AVG(age) FROM data WHERE race_ethnicity='white' ",
           -1.1436064166855813,
           false
          ],
          [
           " SELECT state_color, AVG(age) FROM data WHERE race_ethnicity='white' ",
           -1.1436064166855813,
           false
          ],
          [
           " SELECT state_color, AVG(age) FROM data WHERE race_ethnicity='white' ",
           -1.1436064166855813,
           false
          ],
          [
           " SELECT state_color, AVG(age) FROM data WHERE race_ethnicity='white'  GROUP",
           -1.1523841072734777,
           false
          ],
          [
           " SELECT state_color, AVG( age ) FROM data WHERE race_ethnicity = 'white' GROUP",
           0.1314981848085647,
           false
          ],
          [
           " SELECT state_color, AVG(age) FROM data WHERE race_ethnicity='white'  GROUP",
           -1.1523841072734777,
           false
          ],
          [
           " SELECT state_color, AVG(age) FROM data WHERE race_ethnicity='white'  GROUP",
           -1.1523841072734777,
           false
          ],
          [
           " SELECT state_color, AVG(age) FROM data WHERE race_ethnicity='white'  GROUP",
           -1.1523841072734777,
           false
          ],
          [
           " SELECT state_color, AVG(age) FROM data WHERE race_ethnicity='white'  GROUP",
           -1.1523841072734777,
           false
          ],
          [
           " SELECT state_color, AVG(age) FROM data WHERE race_ethnicity='white'  GROUP",
           -1.1523841072734777,
           false
          ],
          [
           " SELECT state_color, AVG(age) FROM data WHERE race_ethnicity='white'  GROUP",
           -1.1523841072734777,
           false
          ],
          [
           " SELECT state_color, AVG(age) FROM data WHERE race_ethnicity='white'  GROUP",
           -1.1523841072734777,
           false
          ],
          [
           " SELECT state_color, AVG(age) FROM data WHERE race_ethnicity='white'  GROUP",
           -1.1523841072734777,
           false
          ],
          [
           " SELECT state_color, AVG(age) FROM data WHERE race_ethnicity='white'  GROUP",
           -1.1523841072734777,
           false
          ],
          [
           " SELECT state_color, AVG(age) FROM data WHERE race_ethnicity='white'  GROUP",
           -1.1523841072734777,
           false
          ],
          [
           " SELECT state_color, AVG(age) FROM data WHERE race_ethnicity='white'  GROUP BY",
           -1.1568155893845207,
           false
          ],
          [
           " SELECT state_color, AVG( age ) FROM data WHERE race_ethnicity = 'white' GROUP BY",
           0.12788854344986714,
           false
          ],
          [
           " SELECT state_color, AVG(age) FROM data WHERE race_ethnicity='white'  GROUP BY",
           -1.1568155893845207,
           false
          ],
          [
           " SELECT state_color, AVG(age) FROM data WHERE race_ethnicity='white'  GROUP BY",
           -1.1568155893845207,
           false
          ],
          [
           " SELECT state_color, AVG(age) FROM data WHERE race_ethnicity='white'  GROUP BY",
           -1.1568155893845207,
           false
          ],
          [
           " SELECT state_color, AVG(age) FROM data WHERE race_ethnicity='white'  GROUP BY",
           -1.1568155893845207,
           false
          ],
          [
           " SELECT state_color, AVG(age) FROM data WHERE race_ethnicity='white'  GROUP BY",
           -1.1568155893845207,
           false
          ],
          [
           " SELECT state_color, AVG(age) FROM data WHERE race_ethnicity='white'  GROUP BY",
           -1.1568155893845207,
           false
          ],
          [
           " SELECT state_color, AVG(age) FROM data WHERE race_ethnicity='white'  GROUP BY",
           -1.1568155893845207,
           false
          ],
          [
           " SELECT state_color, AVG(age) FROM data WHERE race_ethnicity='white'  GROUP BY",
           -1.1568155893845207,
           false
          ],
          [
           " SELECT state_color, AVG(age) FROM data WHERE race_ethnicity='white'  GROUP BY",
           -1.1568155893845207,
           false
          ],
          [
           " SELECT state_color, AVG(age) FROM data WHERE race_ethnicity='white'  GROUP BY",
           -1.1568155893845207,
           false
          ],
          [
           " SELECT state_color, AVG(age) FROM data WHERE race_ethnicity='white'  GROUP BY state",
           -1.160369565740601,
           false
          ],
          [
           " SELECT state_color, AVG( age ) FROM data WHERE race_ethnicity = 'white' GROUP BY state",
           0.1249868963535662,
           false
          ],
          [
           " SELECT state_color, AVG(age) FROM data WHERE race_ethnicity='white'  GROUP BY state",
           -1.160369565740601,
           false
          ],
          [
           " SELECT state_color, AVG(age) FROM data WHERE race_ethnicity='white'  GROUP BY state",
           -1.160369565740601,
           false
          ],
          [
           " SELECT state_color, AVG(age) FROM data WHERE race_ethnicity='white'  GROUP BY state",
           -1.160369565740601,
           false
          ],
          [
           " SELECT state_color, AVG(age) FROM data WHERE race_ethnicity='white'  GROUP BY state",
           -1.160369565740601,
           false
          ],
          [
           " SELECT state_color, AVG(age) FROM data WHERE race_ethnicity='white'  GROUP BY state",
           -1.160369565740601,
           false
          ],
          [
           " SELECT state_color, AVG(age) FROM data WHERE race_ethnicity='white'  GROUP BY state",
           -1.160369565740601,
           false
          ],
          [
           " SELECT state_color, AVG(age) FROM data WHERE race_ethnicity='white'  GROUP BY state",
           -1.160369565740601,
           false
          ],
          [
           " SELECT state_color, AVG(age) FROM data WHERE race_ethnicity='white'  GROUP BY state",
           -1.160369565740601,
           false
          ],
          [
           " SELECT state_color, AVG(age) FROM data WHERE race_ethnicity='white'  GROUP BY state",
           -1.160369565740601,
           false
          ],
          [
           " SELECT state_color, AVG(age) FROM data WHERE race_ethnicity='white'  GROUP BY state",
           -1.160369565740601,
           false
          ],
          [
           " SELECT state_color, AVG(age) FROM data WHERE race_ethnicity='white'  GROUP BY state_",
           -1.1618726759484577,
           false
          ],
          [
           " SELECT state_color, AVG( age ) FROM data WHERE race_ethnicity = 'white' GROUP BY state_",
           0.12358248376708514,
           false
          ],
          [
           " SELECT state_color, AVG(age) FROM data WHERE race_ethnicity='white'  GROUP BY state_",
           -1.1618726759484577,
           false
          ],
          [
           " SELECT state_color, AVG(age) FROM data WHERE race_ethnicity='white'  GROUP BY state_",
           -1.1618726759484577,
           false
          ],
          [
           " SELECT state_color, AVG(age) FROM data WHERE race_ethnicity='white'  GROUP BY state_",
           -1.1618726759484577,
           false
          ],
          [
           " SELECT state_color, AVG(age) FROM data WHERE race_ethnicity='white'  GROUP BY state_",
           -1.1618726759484577,
           false
          ],
          [
           " SELECT state_color, AVG(age) FROM data WHERE race_ethnicity='white'  GROUP BY state_",
           -1.1618726759484577,
           false
          ],
          [
           " SELECT state_color, AVG(age) FROM data WHERE race_ethnicity='white'  GROUP BY state_",
           -1.1618726759484577,
           false
          ],
          [
           " SELECT state_color, AVG(age) FROM data WHERE race_ethnicity='white'  GROUP BY state_",
           -1.1618726759484577,
           false
          ],
          [
           " SELECT state_color, AVG(age) FROM data WHERE race_ethnicity='white'  GROUP BY state_",
           -1.1618726759484577,
           false
          ],
          [
           " SELECT state_color, AVG(age) FROM data WHERE race_ethnicity='white'  GROUP BY state_",
           -1.1618726759484577,
           false
          ],
          [
           " SELECT state_color, AVG(age) FROM data WHERE race_ethnicity='white'  GROUP BY state_",
           -1.1618726759484577,
           false
          ],
          [
           " SELECT state_color, AVG(age) FROM data WHERE race_ethnicity='white'  GROUP BY state_color",
           -2.1050917172067543,
           false
          ],
          [
           " SELECT state_color, AVG( age ) FROM data WHERE race_ethnicity = 'white' GROUP BY state_color",
           -0.7630702195332567,
           false
          ],
          [
           " SELECT state_color, AVG(age) FROM data WHERE race_ethnicity='white'  GROUP BY state_color",
           -2.1050917172067543,
           false
          ],
          [
           " SELECT state_color, AVG(age) FROM data WHERE race_ethnicity='white'  GROUP BY state_color",
           -2.1050917172067543,
           false
          ],
          [
           " SELECT state_color, AVG(age) FROM data WHERE race_ethnicity='white'  GROUP BY state_color",
           -1.8779415556334054,
           false
          ],
          [
           " SELECT state_color, AVG(age) FROM data WHERE race_ethnicity='white'  GROUP BY state_color",
           -1.8779415556334054,
           false
          ],
          [
           " SELECT state_color, AVG(age) FROM data WHERE race_ethnicity='white'  GROUP BY state_color",
           -2.1050917172067543,
           false
          ],
          [
           " SELECT state_color, AVG(age) FROM data WHERE race_ethnicity='white'  GROUP BY state_color",
           -1.8779415556334056,
           false
          ],
          [
           " SELECT state_color, AVG(age) FROM data WHERE race_ethnicity='white'  GROUP BY state_color",
           -2.1050917172067543,
           false
          ],
          [
           " SELECT state_color, AVG(age) FROM data WHERE race_ethnicity='white'  GROUP BY state_color",
           -1.8779415556334056,
           false
          ],
          [
           " SELECT state_color, AVG(age) FROM data WHERE race_ethnicity='white'  GROUP BY state_color",
           -1.8779415556334056,
           false
          ],
          [
           " SELECT state_color, AVG(age) FROM data WHERE race_ethnicity='white'  GROUP BY state_color",
           -1.8779415556334054,
           false
          ],
          [
           " SELECT state_color, AVG(age) FROM data WHERE race_ethnicity='white'  GROUP BY state_color ",
           -5.367302090749735,
           true
          ],
          [
           " SELECT state_color, AVG( age ) FROM data WHERE race_ethnicity = 'white' GROUP BY state_color ",
           -5.367298350004282,
           true
          ],
          [
           " SELECT state_color, AVG(age) FROM data WHERE race_ethnicity='white'  GROUP BY state_color  ",
           -6.723885653114229,
           true
          ],
          [
           " SELECT state_color, AVG(age) FROM data WHERE race_ethnicity='white'  GROUP BY state_color ",
           -5.367302090749735,
           true
          ],
          [
           " SELECT state_color, AVG(age) FROM data WHERE race_ethnicity='white'  GROUP BY state_color ",
           -5.140151929176387,
           true
          ],
          [
           " SELECT state_color, AVG(age) FROM data WHERE race_ethnicity='white'  GROUP BY state_color ",
           -5.140151929176387,
           true
          ],
          [
           " SELECT state_color, AVG(age) FROM data WHERE race_ethnicity='white'  GROUP BY state_color ",
           -5.367302090749735,
           true
          ],
          [
           " SELECT state_color, AVG(age) FROM data WHERE race_ethnicity='white'  GROUP BY state_color ORDER",
           -1.8839724904720065,
           true
          ],
          [
           " SELECT state_color, AVG(age) FROM data WHERE race_ethnicity='white'  GROUP BY state_color ",
           -5.367302090749735,
           true
          ],
          [
           " SELECT state_color, AVG(age) FROM data WHERE race_ethnicity='white'  GROUP BY state_color ORDER",
           -1.8839724904720065,
           true
          ],
          [
           " SELECT state_color, AVG(age) FROM data WHERE race_ethnicity='white'  GROUP BY state_color ORDER",
           -1.8839724904720065,
           true
          ],
          [
           " SELECT state_color, AVG(age) FROM data WHERE race_ethnicity='white'  GROUP BY state_color ",
           -5.140151929176387,
           true
          ],
          [
           " SELECT state_color, AVG(age) FROM data WHERE race_ethnicity='white'  GROUP BY state_color ORDER BY",
           -3.681156853983823,
           false
          ],
          [
           " SELECT state_color, AVG(age) FROM data WHERE race_ethnicity='white'  GROUP BY state_color ORDER BY",
           -3.681156853983823,
           false
          ],
          [
           " SELECT state_color, AVG(age) FROM data WHERE race_ethnicity='white'  GROUP BY state_color ORDER BY",
           -3.681156853983823,
           false
          ],
          [
           " SELECT state_color, AVG(age) FROM data WHERE race_ethnicity='white'  GROUP BY state_color ORDER BY",
           -3.681156853983823,
           false
          ],
          [
           " SELECT state_color, AVG(age) FROM data WHERE race_ethnicity='white'  GROUP BY state_color ORDER BY",
           -3.681156853983823,
           false
          ],
          [
           " SELECT state_color, AVG(age) FROM data WHERE race_ethnicity='white'  GROUP BY state_color ORDER BY",
           -3.681156853983823,
           false
          ],
          [
           " SELECT state_color, AVG(age) FROM data WHERE race_ethnicity='white'  GROUP BY state_color ORDER BY",
           -3.681156853983823,
           false
          ],
          [
           " SELECT state_color, AVG(age) FROM data WHERE race_ethnicity='white'  GROUP BY state_color ORDER BY",
           -3.681156853983823,
           false
          ],
          [
           " SELECT state_color, AVG(age) FROM data WHERE race_ethnicity='white'  GROUP BY state_color  ORDER",
           -3.185875901657719,
           false
          ],
          [
           " SELECT state_color, AVG(age) FROM data WHERE race_ethnicity='white'  GROUP BY state_color ORDER BY",
           -3.681156853983823,
           false
          ],
          [
           " SELECT state_color, AVG(age) FROM data WHERE race_ethnicity='white'  GROUP BY state_color ORDER BY",
           -3.681156853983823,
           false
          ],
          [
           " SELECT state_color, AVG(age) FROM data WHERE race_ethnicity='white'  GROUP BY state_color  ORDER",
           -3.185875901657719,
           false
          ],
          [
           " SELECT state_color, AVG(age) FROM data WHERE race_ethnicity='white'  GROUP BY state_color ORDER BY state",
           -3.683078803773437,
           false
          ],
          [
           " SELECT state_color, AVG(age) FROM data WHERE race_ethnicity='white'  GROUP BY state_color ORDER BY state",
           -3.683078803773437,
           false
          ],
          [
           " SELECT state_color, AVG(age) FROM data WHERE race_ethnicity='white'  GROUP BY state_color ORDER BY state",
           -3.683078803773437,
           false
          ],
          [
           " SELECT state_color, AVG(age) FROM data WHERE race_ethnicity='white'  GROUP BY state_color ORDER BY state",
           -3.683078803773437,
           false
          ],
          [
           " SELECT state_color, AVG(age) FROM data WHERE race_ethnicity='white'  GROUP BY state_color ORDER BY state",
           -3.683078803773437,
           false
          ],
          [
           " SELECT state_color, AVG(age) FROM data WHERE race_ethnicity='white'  GROUP BY state_color ORDER BY state",
           -3.683078803773437,
           false
          ],
          [
           " SELECT state_color, AVG(age) FROM data WHERE race_ethnicity='white'  GROUP BY state_color ORDER BY state",
           -3.683078803773437,
           false
          ],
          [
           " SELECT state_color, AVG(age) FROM data WHERE race_ethnicity='white'  GROUP BY state_color ORDER BY state",
           -3.683078803773437,
           false
          ],
          [
           " SELECT state_color, AVG(age) FROM data WHERE race_ethnicity='white'  GROUP BY state_color  ORDER BY",
           -3.661374901790666,
           false
          ],
          [
           " SELECT state_color, AVG(age) FROM data WHERE race_ethnicity='white'  GROUP BY state_color ORDER BY state",
           -3.683078803773437,
           false
          ],
          [
           " SELECT state_color, AVG(age) FROM data WHERE race_ethnicity='white'  GROUP BY state_color ORDER BY state",
           -3.683078803773437,
           false
          ],
          [
           " SELECT state_color, AVG(age) FROM data WHERE race_ethnicity='white'  GROUP BY state_color  ORDER BY",
           -3.661374901790666,
           false
          ],
          [
           " SELECT state_color, AVG(age) FROM data WHERE race_ethnicity='white'  GROUP BY state_color ORDER BY state_",
           -3.6843796095130266,
           false
          ],
          [
           " SELECT state_color, AVG(age) FROM data WHERE race_ethnicity='white'  GROUP BY state_color ORDER BY state_",
           -3.6843796095130266,
           false
          ],
          [
           " SELECT state_color, AVG(age) FROM data WHERE race_ethnicity='white'  GROUP BY state_color ORDER BY state_",
           -3.6843796095130266,
           false
          ],
          [
           " SELECT state_color, AVG(age) FROM data WHERE race_ethnicity='white'  GROUP BY state_color ORDER BY state_",
           -3.6843796095130266,
           false
          ],
          [
           " SELECT state_color, AVG(age) FROM data WHERE race_ethnicity='white'  GROUP BY state_color ORDER BY state_",
           -3.6843796095130266,
           false
          ],
          [
           " SELECT state_color, AVG(age) FROM data WHERE race_ethnicity='white'  GROUP BY state_color ORDER BY state_",
           -3.6843796095130266,
           false
          ],
          [
           " SELECT state_color, AVG(age) FROM data WHERE race_ethnicity='white'  GROUP BY state_color ORDER BY state_",
           -3.6843796095130266,
           false
          ],
          [
           " SELECT state_color, AVG(age) FROM data WHERE race_ethnicity='white'  GROUP BY state_color ORDER BY state_",
           -3.6843796095130266,
           false
          ],
          [
           " SELECT state_color, AVG(age) FROM data WHERE race_ethnicity='white'  GROUP BY state_color  ORDER BY state",
           -3.6637582897121987,
           false
          ],
          [
           " SELECT state_color, AVG(age) FROM data WHERE race_ethnicity='white'  GROUP BY state_color ORDER BY state_",
           -3.6843796095130266,
           false
          ],
          [
           " SELECT state_color, AVG(age) FROM data WHERE race_ethnicity='white'  GROUP BY state_color ORDER BY state_",
           -3.6843796095130266,
           false
          ],
          [
           " SELECT state_color, AVG(age) FROM data WHERE race_ethnicity='white'  GROUP BY state_color  ORDER BY state",
           -3.6637582897121987,
           false
          ],
          [
           " SELECT state_color, AVG(age) FROM data WHERE race_ethnicity='white'  GROUP BY state_color ORDER BY state_color",
           -4.308772067100728,
           true
          ],
          [
           " SELECT state_color, AVG(age) FROM data WHERE race_ethnicity='white'  GROUP BY state_color ORDER BY state_color",
           -4.299828586137416,
           true
          ],
          [
           " SELECT state_color, AVG(age) FROM data WHERE race_ethnicity='white'  GROUP BY state_color ORDER BY state_color",
           -4.299828586137416,
           true
          ],
          [
           " SELECT state_color, AVG(age) FROM data WHERE race_ethnicity='white'  GROUP BY state_color ORDER BY state_color",
           -4.299828586137416,
           true
          ],
          [
           " SELECT state_color, AVG(age) FROM data WHERE race_ethnicity='white'  GROUP BY state_color ORDER BY state_color",
           -4.299828586137416,
           true
          ],
          [
           " SELECT state_color, AVG(age) FROM data WHERE race_ethnicity='white'  GROUP BY state_color ORDER BY state_color",
           -4.299828586137416,
           true
          ],
          [
           " SELECT state_color, AVG(age) FROM data WHERE race_ethnicity='white'  GROUP BY state_color ORDER BY state_color",
           -4.299828586137416,
           true
          ],
          [
           " SELECT state_color, AVG(age) FROM data WHERE race_ethnicity='white'  GROUP BY state_color ORDER BY state_color",
           -4.299828586137416,
           true
          ],
          [
           " SELECT state_color, AVG(age) FROM data WHERE race_ethnicity='white'  GROUP BY state_color  ORDER BY state_",
           -3.6648022073449864,
           true
          ],
          [
           " SELECT state_color, AVG(age) FROM data WHERE race_ethnicity='white'  GROUP BY state_color ORDER BY state_color",
           -4.299828586137416,
           true
          ],
          [
           " SELECT state_color, AVG(age) FROM data WHERE race_ethnicity='white'  GROUP BY state_color ORDER BY state_color",
           -2.262658203851893,
           true
          ],
          [
           " SELECT state_color, AVG(age) FROM data WHERE race_ethnicity='white'  GROUP BY state_color  ORDER BY state_",
           -3.6648022073449864,
           true
          ],
          [
           " SELECT state_color, AVG(age) FROM data WHERE race_ethnicity='white'  GROUP BY state_color ORDER BY state_color ASC",
           -5.230966956346258,
           false
          ],
          [
           " SELECT state_color, AVG(age) FROM data WHERE race_ethnicity='white'  GROUP BY state_color ORDER BY state_color ",
           -7.0393763789807995,
           false
          ],
          [
           " SELECT state_color, AVG(age) FROM data WHERE race_ethnicity='white'  GROUP BY state_color ORDER BY state_color ",
           -7.039599359926851,
           false
          ],
          [
           " SELECT state_color, AVG(age) FROM data WHERE race_ethnicity='white'  GROUP BY state_color ORDER BY state_color ASC",
           -5.230966956346258,
           false
          ],
          [
           " SELECT state_color, AVG(age) FROM data WHERE race_ethnicity='white'  GROUP BY state_color ORDER BY state_color ",
           -7.039599359926851,
           false
          ],
          [
           " SELECT state_color, AVG(age) FROM data WHERE race_ethnicity='white'  GROUP BY state_color ORDER BY state_color ASC",
           -5.230966956346258,
           false
          ],
          [
           " SELECT state_color, AVG(age) FROM data WHERE race_ethnicity='white'  GROUP BY state_color ORDER BY state_color ASC",
           -5.230966956346258,
           false
          ],
          [
           " SELECT state_color, AVG(age) FROM data WHERE race_ethnicity='white'  GROUP BY state_color ORDER BY state_color ",
           -7.039599359926851,
           false
          ],
          [
           " SELECT state_color, AVG(age) FROM data WHERE race_ethnicity='white'  GROUP BY state_color  ORDER BY state_color",
           -4.217973006041021,
           false
          ],
          [
           " SELECT state_color, AVG(age) FROM data WHERE race_ethnicity='white'  GROUP BY state_color ORDER BY state_color,",
           -5.876962839678503,
           false
          ],
          [
           " SELECT state_color, AVG(age) FROM data WHERE race_ethnicity='white'  GROUP BY state_color  ORDER BY state_color",
           -4.217973006041021,
           false
          ],
          [
           " SELECT state_color, AVG(age) FROM data WHERE race_ethnicity='white'  GROUP BY state_color ORDER BY state_color ",
           -7.039599359926851,
           false
          ],
          [
           " SELECT state_color, AVG(age) FROM data WHERE race_ethnicity='white'  GROUP BY state_color ORDER BY state_color ASC ",
           -14.274379114669845,
           true
          ],
          [
           " SELECT state_color, AVG(age) FROM data WHERE race_ethnicity='white'  GROUP BY state_color ORDER BY state_color  DESC",
           -8.483518041185615,
           true
          ],
          [
           " SELECT state_color, AVG(age) FROM data WHERE race_ethnicity='white'  GROUP BY state_color ORDER BY state_color  ASC",
           -8.463718071801871,
           true
          ],
          [
           " SELECT state_color, AVG(age) FROM data WHERE race_ethnicity='white'  GROUP BY state_color ORDER BY state_color ASC ",
           -14.274379114669845,
           true
          ],
          [
           " SELECT state_color, AVG(age) FROM data WHERE race_ethnicity='white'  GROUP BY state_color ORDER BY state_color  ASC",
           -8.463718071801871,
           true
          ],
          [
           " SELECT state_color, AVG(age) FROM data WHERE race_ethnicity='white'  GROUP BY state_color ORDER BY state_color ASC ",
           -14.274379114669845,
           true
          ],
          [
           " SELECT state_color, AVG(age) FROM data WHERE race_ethnicity='white'  GROUP BY state_color ORDER BY state_color ASC ",
           -14.274379114669845,
           true
          ],
          [
           " SELECT state_color, AVG(age) FROM data WHERE race_ethnicity='white'  GROUP BY state_color ORDER BY state_color  ASC",
           -8.463718071801871,
           true
          ],
          [
           " SELECT state_color, AVG(age) FROM data WHERE race_ethnicity='white'  GROUP BY state_color  ORDER BY state_color ",
           -6.1978765554043616,
           true
          ],
          [
           " SELECT state_color, AVG(age) FROM data WHERE race_ethnicity='white'  GROUP BY state_color ORDER BY state_color, age",
           -6.514202368032815,
           true
          ],
          [
           " SELECT state_color, AVG(age) FROM data WHERE race_ethnicity='white'  GROUP BY state_color  ORDER BY state_color ASC",
           -5.461809888235475,
           true
          ],
          [
           " SELECT state_color, AVG(age) FROM data WHERE race_ethnicity='white'  GROUP BY state_color ORDER BY state_color  ASC",
           -8.463718071801871,
           true
          ],
          [
           " SELECT state_color, AVG(age) FROM data WHERE race_ethnicity='white'  GROUP BY state_color  ORDER BY state_color  ASC",
           -8.406246151697754,
           true
          ],
          [
           " SELECT state_color, AVG(age) FROM data WHERE race_ethnicity='white'  GROUP BY state_color  ORDER BY state_color ASC   ",
           -24.824898649432622,
           true
          ],
          [
           " SELECT state_color, AVG(age) FROM data WHERE race_ethnicity='white'  GROUP BY state_color ORDER BY state_color  ASC ",
           -15.968246849071624,
           true
          ],
          [
           " SELECT state_color, AVG(age) FROM data WHERE race_ethnicity='white'  GROUP BY state_color  ORDER BY state_color  ASC",
           -8.406246151697754,
           true
          ],
          [
           " SELECT state_color, AVG(age) FROM data WHERE race_ethnicity='white'  GROUP BY state_color  ORDER BY state_color ASC   ",
           -24.824898649432622,
           true
          ],
          [
           " SELECT state_color, AVG(age) FROM data WHERE race_ethnicity='white'  GROUP BY state_color  ORDER BY state_color ASC   ",
           -24.824898649432622,
           true
          ],
          [
           " SELECT state_color, AVG(age) FROM data WHERE race_ethnicity='white'  GROUP BY state_color ORDER BY state_color, age ASC",
           -8.48433325332628,
           true
          ],
          [
           " SELECT state_color, AVG(age) FROM data WHERE race_ethnicity='white'  GROUP BY state_color  ORDER BY state_color ASC   ",
           -24.824898649432622,
           true
          ],
          [
           " SELECT state_color, AVG(age) FROM data WHERE race_ethnicity='white'  GROUP BY state_color ORDER BY state_color  ASC ",
           -15.968246849071624,
           true
          ],
          [
           " SELECT state_color, AVG(age) FROM data WHERE race_ethnicity='white'  GROUP BY state_color  ORDER BY state_color ASC   ",
           -24.824898649432622,
           true
          ],
          [
           " SELECT state_color, AVG(age) FROM data WHERE race_ethnicity='white'  GROUP BY state_color  ORDER BY state_color  ASC",
           -8.406246151697754,
           true
          ],
          [
           " SELECT state_color, AVG(age) FROM data WHERE race_ethnicity='white'  GROUP BY state_color ORDER BY state_color  ASC ",
           -15.968246849071624,
           true
          ],
          [
           " SELECT state_color, AVG(age) FROM data WHERE race_ethnicity='white'  GROUP BY state_color ORDER BY state_color, age ASC ",
           -18.59245300424918,
           false
          ],
          [
           " SELECT state_color, AVG(age) FROM data WHERE race_ethnicity='white'  GROUP BY state_color ORDER BY state_color, age ASC ",
           -18.59245300424918,
           false
          ],
          [
           " SELECT state_color, AVG(age) FROM data WHERE race_ethnicity='white'  GROUP BY state_color  ORDER BY state_color  ASC ",
           -18.152908783471144,
           false
          ],
          [
           " SELECT state_color, AVG(age) FROM data WHERE race_ethnicity='white'  GROUP BY state_color  ORDER BY state_color  ASC ",
           -18.152908783471148,
           false
          ],
          [
           " SELECT state_color, AVG(age) FROM data WHERE race_ethnicity='white'  GROUP BY state_color ORDER BY state_color, age ASC ",
           -18.59245300424918,
           false
          ],
          [
           " SELECT state_color, AVG(age) FROM data WHERE race_ethnicity='white'  GROUP BY state_color  ORDER BY state_color  ASC ",
           -18.152908783471148,
           false
          ],
          [
           " SELECT state_color, AVG(age) FROM data WHERE race_ethnicity='white'  GROUP BY state_color  ORDER BY state_color  ASC ",
           -18.152908783471148,
           false
          ],
          [
           " SELECT state_color, AVG(age) FROM data WHERE race_ethnicity='white'  GROUP BY state_color  ORDER BY state_color  ASC ",
           -18.152908783471148,
           false
          ],
          [
           " SELECT state_color, AVG(age) FROM data WHERE race_ethnicity='white'  GROUP BY state_color  ORDER BY state_color  ASC ",
           -18.152908783471148,
           false
          ],
          [
           " SELECT state_color, AVG(age) FROM data WHERE race_ethnicity='white'  GROUP BY state_color ORDER BY state_color, age ASC ",
           -18.59245300424918,
           false
          ],
          [
           " SELECT state_color, AVG(age) FROM data WHERE race_ethnicity='white'  GROUP BY state_color  ORDER BY state_color  ASC ",
           -18.152908783471148,
           false
          ],
          [
           " SELECT state_color, AVG(age) FROM data WHERE race_ethnicity='white'  GROUP BY state_color ORDER BY state_color, age ASC ",
           -18.59245300424918,
           false
          ],
          [
           " SELECT state_color, AVG(age) FROM data WHERE race_ethnicity='white'  GROUP BY state_color ORDER BY state_color, age ASC  <",
           -29.11965085070506,
           true
          ],
          [
           " SELECT state_color, AVG(age) FROM data WHERE race_ethnicity='white'  GROUP BY state_color ORDER BY state_color, age ASC  <",
           -29.11965085070506,
           true
          ],
          [
           " SELECT state_color, AVG(age) FROM data WHERE race_ethnicity='white'  GROUP BY state_color  ORDER BY state_color  ASC  ",
           -26.10803868680101,
           true
          ],
          [
           " SELECT state_color, AVG(age) FROM data WHERE race_ethnicity='white'  GROUP BY state_color  ORDER BY state_color  ASC  <",
           -28.309033789013974,
           true
          ],
          [
           " SELECT state_color, AVG(age) FROM data WHERE race_ethnicity='white'  GROUP BY state_color ORDER BY state_color, age ASC  </",
           -25.46850833481728,
           true
          ],
          [
           " SELECT state_color, AVG(age) FROM data WHERE race_ethnicity='white'  GROUP BY state_color  ORDER BY state_color  ASC  <",
           -28.309033789013974,
           true
          ],
          [
           " SELECT state_color, AVG(age) FROM data WHERE race_ethnicity='white'  GROUP BY state_color  ORDER BY state_color  ASC  <",
           -28.309033789013974,
           true
          ],
          [
           " SELECT state_color, AVG(age) FROM data WHERE race_ethnicity='white'  GROUP BY state_color  ORDER BY state_color  ASC  <",
           -28.309033789013974,
           true
          ],
          [
           " SELECT state_color, AVG(age) FROM data WHERE race_ethnicity='white'  GROUP BY state_color  ORDER BY state_color  ASC  <",
           -28.309033789013974,
           true
          ],
          [
           " SELECT state_color, AVG(age) FROM data WHERE race_ethnicity='white'  GROUP BY state_color ORDER BY state_color, age ASC  <",
           -29.11965085070506,
           true
          ],
          [
           " SELECT state_color, AVG(age) FROM data WHERE race_ethnicity='white'  GROUP BY state_color  ORDER BY state_color  ASC  <",
           -28.309033789013974,
           true
          ],
          [
           " SELECT state_color, AVG(age) FROM data WHERE race_ethnicity='white'  GROUP BY state_color ORDER BY state_color, age ASC  <",
           -29.11965085070506,
           true
          ],
          [
           " SELECT state_color, AVG(age) FROM data WHERE race_ethnicity='white'  GROUP BY state_color  ORDER BY state_color  ASC  </",
           -34.70187437828981,
           false
          ],
          [
           " SELECT state_color, AVG(age) FROM data WHERE race_ethnicity='white'  GROUP BY state_color ORDER BY state_color, age ASC  </s",
           -28.75846936168768,
           false
          ],
          [
           " SELECT state_color, AVG(age) FROM data WHERE race_ethnicity='white'  GROUP BY state_color ORDER BY state_color, age ASC  </s",
           -28.75846936168768,
           false
          ],
          [
           " SELECT state_color, AVG(age) FROM data WHERE race_ethnicity='white'  GROUP BY state_color ORDER BY state_color, age ASC  </s",
           -28.75846936168768,
           false
          ],
          [
           " SELECT state_color, AVG(age) FROM data WHERE race_ethnicity='white'  GROUP BY state_color ORDER BY state_color, age ASC  </s",
           -28.75846936168768,
           false
          ],
          [
           " SELECT state_color, AVG(age) FROM data WHERE race_ethnicity='white'  GROUP BY state_color  ORDER BY state_color  ASC   <",
           -37.32984043363163,
           false
          ],
          [
           " SELECT state_color, AVG(age) FROM data WHERE race_ethnicity='white'  GROUP BY state_color ORDER BY state_color, age ASC  </s",
           -28.75846936168768,
           false
          ],
          [
           " SELECT state_color, AVG(age) FROM data WHERE race_ethnicity='white'  GROUP BY state_color ORDER BY state_color, age ASC  </s",
           -28.75846936168768,
           false
          ],
          [
           " SELECT state_color, AVG(age) FROM data WHERE race_ethnicity='white'  GROUP BY state_color ORDER BY state_color, age ASC  </s",
           -28.75846936168768,
           false
          ],
          [
           " SELECT state_color, AVG(age) FROM data WHERE race_ethnicity='white'  GROUP BY state_color ORDER BY state_color, age ASC  </s",
           -28.75846936168768,
           false
          ],
          [
           " SELECT state_color, AVG(age) FROM data WHERE race_ethnicity='white'  GROUP BY state_color ORDER BY state_color, age ASC  </s",
           -28.75846936168768,
           false
          ],
          [
           " SELECT state_color, AVG(age) FROM data WHERE race_ethnicity='white'  GROUP BY state_color ORDER BY state_color, age ASC  </",
           -34.14548711088275,
           false
          ],
          [
           " SELECT state_color, AVG(age) FROM data WHERE race_ethnicity='white'  GROUP BY state_color  ORDER BY state_color  ASC  </s",
           -35.998981628315335,
           false
          ],
          [
           " SELECT state_color, AVG(age) FROM data WHERE race_ethnicity='white'  GROUP BY state_color ORDER BY state_color, age ASC  </s>",
           -31.61072027357319,
           false
          ],
          [
           " SELECT state_color, AVG(age) FROM data WHERE race_ethnicity='white'  GROUP BY state_color ORDER BY state_color, age ASC  </s>",
           -31.61072027357319,
           false
          ],
          [
           " SELECT state_color, AVG(age) FROM data WHERE race_ethnicity='white'  GROUP BY state_color ORDER BY state_color, age ASC  </s>",
           -31.61072027357319,
           false
          ],
          [
           " SELECT state_color, AVG(age) FROM data WHERE race_ethnicity='white'  GROUP BY state_color ORDER BY state_color, age ASC  </s>",
           -31.61072027357319,
           false
          ],
          [
           " SELECT state_color, AVG(age) FROM data WHERE race_ethnicity='white'  GROUP BY state_color  ORDER BY state_color  ASC   </",
           -44.337165600537766,
           false
          ],
          [
           " SELECT state_color, AVG(age) FROM data WHERE race_ethnicity='white'  GROUP BY state_color ORDER BY state_color, age ASC  </s>",
           -31.61072027357319,
           false
          ],
          [
           " SELECT state_color, AVG(age) FROM data WHERE race_ethnicity='white'  GROUP BY state_color ORDER BY state_color, age ASC  </s>",
           -30.547486139966292,
           false
          ],
          [
           " SELECT state_color, AVG(age) FROM data WHERE race_ethnicity='white'  GROUP BY state_color ORDER BY state_color, age ASC  </s>",
           -30.547486139966292,
           false
          ],
          [
           " SELECT state_color, AVG(age) FROM data WHERE race_ethnicity='white'  GROUP BY state_color ORDER BY state_color, age ASC  </s>",
           -30.547486139966292,
           false
          ],
          [
           " SELECT state_color, AVG(age) FROM data WHERE race_ethnicity='white'  GROUP BY state_color ORDER BY state_color, age ASC  </s>",
           -30.547486139966292,
           false
          ],
          [
           " SELECT state_color, AVG(age) FROM data WHERE race_ethnicity='white'  GROUP BY state_color ORDER BY state_color, age ASC  </s",
           -35.63452469225578,
           false
          ],
          [
           " SELECT state_color, AVG(age) FROM data WHERE race_ethnicity='white'  GROUP BY state_color  ORDER BY state_color  ASC  </s>",
           -50.4904838581423,
           true
          ],
          [
           " SELECT state_color, AVG(age) FROM data WHERE race_ethnicity='white'  GROUP BY state_color ORDER BY state_color, age ASC  </s> ",
           -36.97420653994669,
           true
          ],
          [
           " SELECT state_color, AVG(age) FROM data WHERE race_ethnicity='white'  GROUP BY state_color ORDER BY state_color, age ASC  </s> ",
           -36.97420653994669,
           true
          ],
          [
           " SELECT state_color, AVG(age) FROM data WHERE race_ethnicity='white'  GROUP BY state_color ORDER BY state_color, age ASC  </s> ",
           -36.97420653994669,
           true
          ],
          [
           " SELECT state_color, AVG(age) FROM data WHERE race_ethnicity='white'  GROUP BY state_color ORDER BY state_color, age ASC  </s> ",
           -36.97420653994669,
           true
          ],
          [
           " SELECT state_color, AVG(age) FROM data WHERE race_ethnicity='white'  GROUP BY state_color  ORDER BY state_color  ASC   </s",
           -45.635035314595896,
           true
          ],
          [
           " SELECT state_color, AVG(age) FROM data WHERE race_ethnicity='white'  GROUP BY state_color ORDER BY state_color, age ASC  </s> ",
           -36.97420653994669,
           true
          ],
          [
           " SELECT state_color, AVG(age) FROM data WHERE race_ethnicity='white'  GROUP BY state_color ORDER BY state_color, age ASC  </s>",
           -30.547486139966292,
           true
          ],
          [
           " SELECT state_color, AVG(age) FROM data WHERE race_ethnicity='white'  GROUP BY state_color ORDER BY state_color, age ASC  </s>",
           -30.547486139966292,
           true
          ],
          [
           " SELECT state_color, AVG(age) FROM data WHERE race_ethnicity='white'  GROUP BY state_color ORDER BY state_color, age ASC  </s>",
           -30.547486139966292,
           true
          ],
          [
           " SELECT state_color, AVG(age) FROM data WHERE race_ethnicity='white'  GROUP BY state_color ORDER BY state_color, age ASC  </s>",
           -30.547486139966292,
           true
          ],
          [
           " SELECT state_color, AVG(age) FROM data WHERE race_ethnicity='white'  GROUP BY state_color ORDER BY state_color, age ASC  </s>",
           -38.486775604141286,
           true
          ]
         ],
         "hovertemplate": "<b>%{hovertext}</b><br><br>step=%{x}<br>particle=%{y}<br>prop_exp_weight=%{marker.size}<br>context_string=%{customdata[0]}<br>weight=%{customdata[1]}<br>resample?=%{customdata[2]}<br>float parent=%{marker.color}<extra></extra>",
         "hovertext": [
          [],
          [],
          [],
          [],
          [],
          [],
          [],
          [],
          [],
          [],
          [],
          [],
          " SELECT",
          " SELECT",
          " SELECT",
          " SELECT",
          " SELECT",
          " ",
          " SELECT",
          " SELECT",
          " SELECT",
          " SELECT",
          " SELECT",
          " SELECT",
          " state",
          " state",
          " state",
          " state",
          " state",
          " SELECT",
          " state",
          " ",
          " state",
          " state",
          " state",
          " state",
          "_",
          "_",
          "_",
          "_",
          "_",
          " state",
          "_",
          " state",
          "_",
          "_",
          "_",
          "_",
          "color",
          "color",
          "color",
          "color",
          "color",
          "_",
          "color",
          "_",
          "color",
          "color",
          "color",
          "color",
          ",",
          ",",
          ",",
          ",",
          ",",
          "color",
          ",",
          "color",
          ",",
          ",",
          ",",
          ",",
          " AV",
          " AV",
          " vote",
          " AV",
          " AV",
          ",",
          " AV",
          ",",
          " AV",
          " AV",
          " vote",
          " AV",
          "G",
          "G",
          ",",
          "G",
          "G",
          " AV",
          "G",
          " AV",
          "G",
          "G",
          ",",
          "G",
          "(",
          "(",
          " AV",
          "(",
          "(",
          "G",
          "(",
          "G",
          "(",
          "(",
          " AV",
          "(",
          "age",
          "age",
          "G",
          "vote",
          " age",
          "(",
          "age",
          "(",
          "age",
          "age",
          "G",
          "age",
          ")",
          ")",
          "(",
          ")",
          " )",
          "age",
          ")",
          " age",
          ")",
          ")",
          "(",
          ")",
          " FROM",
          " FROM",
          "age",
          " FROM",
          " FROM",
          ")",
          " FROM",
          " )",
          " FROM",
          " FROM",
          "age",
          " FROM",
          " data",
          " data",
          ")",
          " data",
          " data",
          " FROM",
          " data",
          " FROM",
          " data",
          " data",
          ")",
          " data",
          " WHERE",
          " WHERE",
          " FROM",
          " GROUP",
          " WHERE",
          " data",
          " WHERE",
          " data",
          " WHERE",
          " WHERE",
          " FROM",
          " WHERE",
          " race",
          " race",
          " data",
          " BY",
          " race",
          " WHERE",
          " race",
          " WHERE",
          " race",
          " race",
          " data",
          " vote",
          "_",
          "_",
          " GROUP",
          " state",
          "_",
          " race",
          "_",
          " race",
          "_",
          "_",
          " GROUP",
          " =",
          "eth",
          "eth",
          " BY",
          "_",
          "eth",
          "_",
          "eth",
          "_",
          "eth",
          "eth",
          " BY",
          " '",
          "nic",
          "nic",
          " state",
          "color",
          "nic",
          "eth",
          "nic",
          "eth",
          "nic",
          "nic",
          " state",
          "dem",
          "ity",
          "ity",
          "_",
          " ",
          "ity",
          "nic",
          "ity",
          "nic",
          "ity",
          "ity",
          "_",
          "ocrat",
          " =",
          " =",
          "color",
          " ORDER",
          " =",
          "ity",
          " =",
          "ity",
          "='",
          "='",
          "color",
          "'",
          " '",
          " '",
          ",",
          " BY",
          " '",
          " =",
          " '",
          " =",
          "white",
          "white",
          ",",
          " GROUP",
          "white",
          "white",
          " vote",
          " state",
          "white",
          " '",
          "white",
          " '",
          "'",
          "'",
          " vote",
          " BY",
          "'",
          "'",
          " ",
          "_",
          "'",
          "white",
          "'",
          "white",
          " ",
          " GROUP",
          " ",
          " state",
          " GROUP",
          " GROUP",
          " GROUP",
          " GROUP",
          " GROUP",
          " GROUP",
          " GROUP",
          " GROUP",
          " GROUP",
          " GROUP",
          " GROUP",
          " GROUP",
          " BY",
          " BY",
          " BY",
          " BY",
          " BY",
          " BY",
          " BY",
          " BY",
          " BY",
          " BY",
          " BY",
          " BY",
          " state",
          " state",
          " state",
          " state",
          " state",
          " state",
          " state",
          " state",
          " state",
          " state",
          " state",
          " state",
          "_",
          "_",
          "_",
          "_",
          "_",
          "_",
          "_",
          "_",
          "_",
          "_",
          "_",
          "_",
          "color",
          "color",
          "color",
          "color",
          "color",
          "color",
          "color",
          "color",
          "color",
          "color",
          "color",
          "color",
          " ",
          " ",
          "  ",
          " ",
          " ",
          " ",
          " ",
          " ORDER",
          " ",
          " ORDER",
          " ORDER",
          " ",
          " ORDER",
          " ORDER",
          " ORDER",
          " ORDER",
          " ORDER",
          " ORDER",
          " ORDER",
          " BY",
          " ORDER",
          " BY",
          " BY",
          " ORDER",
          " state",
          " state",
          " state",
          " state",
          " state",
          " state",
          " state",
          " state",
          " BY",
          " state",
          " state",
          " BY",
          "_",
          "_",
          "_",
          "_",
          "_",
          "_",
          "_",
          "_",
          " state",
          "_",
          "_",
          " state",
          "color",
          "color",
          "color",
          "color",
          "color",
          "color",
          "color",
          "color",
          "_",
          "color",
          "color",
          "_",
          ",",
          " ASC",
          " ",
          " ASC",
          " ASC",
          " ASC",
          " ",
          " ASC",
          "color",
          " ASC",
          " ",
          "color",
          " ",
          " DESC",
          " ASC",
          " ",
          " ASC",
          " ",
          " ",
          " ASC",
          " ",
          " age",
          " ASC",
          " ASC",
          " <",
          " ",
          " ",
          " <",
          " ",
          " <",
          " <",
          " ",
          " ASC",
          " ASC",
          "   ",
          " ",
          " ",
          "</",
          " <",
          " ",
          "</",
          "</",
          " ",
          "<",
          " <",
          "</",
          " ",
          " <",
          " <",
          " <",
          " ",
          " <",
          " </",
          " <",
          " <",
          " <",
          " <",
          " <",
          " <",
          " <",
          "/",
          "/",
          " <",
          "/",
          "s",
          "/",
          "/",
          "/",
          "/",
          "/",
          "/",
          "/",
          "s",
          ">",
          ">",
          ">",
          ">",
          "/",
          ">",
          ">",
          ">",
          ">",
          ">",
          "s",
          ">",
          " ",
          " ",
          " ",
          " ",
          "s",
          " ",
          "▪",
          "▪",
          "▪",
          "▪",
          ">",
          " ",
          "▪",
          "▪",
          "▪",
          "▪",
          ">",
          "▪",
          "▪",
          "▪",
          "▪",
          "▪",
          " "
         ],
         "legendgroup": "",
         "marker": {
          "color": [
           0,
           1,
           2,
           3,
           4,
           5,
           6,
           7,
           8,
           9,
           10,
           11,
           0,
           1,
           2,
           3,
           4,
           5,
           6,
           7,
           8,
           9,
           10,
           11,
           0,
           1,
           2,
           3,
           4,
           5,
           6,
           7,
           8,
           9,
           10,
           11,
           0,
           1,
           2,
           3,
           4,
           5,
           6,
           7,
           8,
           9,
           10,
           11,
           0,
           1,
           2,
           3,
           4,
           5,
           6,
           7,
           8,
           9,
           10,
           11,
           0,
           1,
           2,
           3,
           4,
           5,
           6,
           7,
           8,
           9,
           10,
           11,
           0,
           1,
           2,
           3,
           4,
           5,
           6,
           7,
           8,
           9,
           10,
           11,
           0,
           1,
           2,
           3,
           4,
           5,
           6,
           7,
           8,
           9,
           10,
           11,
           0,
           1,
           2,
           3,
           4,
           5,
           6,
           7,
           8,
           9,
           10,
           11,
           0,
           1,
           2,
           3,
           4,
           5,
           6,
           7,
           8,
           9,
           10,
           11,
           0,
           1,
           2,
           3,
           4,
           5,
           6,
           7,
           8,
           9,
           10,
           11,
           0,
           1,
           2,
           3,
           4,
           5,
           6,
           7,
           8,
           9,
           10,
           11,
           0,
           1,
           2,
           3,
           4,
           5,
           6,
           7,
           8,
           9,
           10,
           11,
           0,
           1,
           2,
           3,
           4,
           5,
           6,
           7,
           8,
           9,
           10,
           11,
           0,
           1,
           2,
           3,
           4,
           5,
           6,
           7,
           8,
           9,
           10,
           11,
           0,
           1,
           2,
           3,
           4,
           5,
           6,
           7,
           8,
           9,
           10,
           11,
           0,
           1,
           2,
           3,
           4,
           5,
           6,
           7,
           8,
           9,
           10,
           11,
           0,
           1,
           2,
           3,
           4,
           5,
           6,
           7,
           8,
           9,
           10,
           11,
           0,
           1,
           2,
           3,
           4,
           5,
           6,
           7,
           8,
           9,
           10,
           11,
           0,
           1,
           2,
           3,
           4,
           5,
           6,
           7,
           8,
           9,
           10,
           11,
           0,
           1,
           2,
           3,
           4,
           5,
           6,
           7,
           8,
           9,
           10,
           11,
           0,
           1,
           2,
           3,
           4,
           5,
           6,
           7,
           8,
           9,
           10,
           11,
           8,
           4,
           8,
           8,
           8,
           8,
           8,
           8,
           8,
           8,
           8,
           8,
           0,
           1,
           2,
           3,
           4,
           5,
           6,
           7,
           8,
           9,
           10,
           11,
           0,
           1,
           2,
           3,
           4,
           5,
           6,
           7,
           8,
           9,
           10,
           11,
           0,
           1,
           2,
           3,
           4,
           5,
           6,
           7,
           8,
           9,
           10,
           11,
           0,
           1,
           2,
           3,
           4,
           5,
           6,
           7,
           8,
           9,
           10,
           11,
           0,
           1,
           2,
           3,
           4,
           5,
           6,
           7,
           8,
           9,
           10,
           11,
           0,
           1,
           2,
           3,
           4,
           5,
           6,
           7,
           8,
           9,
           10,
           11,
           10,
           10,
           10,
           9,
           9,
           10,
           10,
           10,
           6,
           7,
           7,
           3,
           0,
           1,
           2,
           3,
           4,
           5,
           6,
           7,
           8,
           9,
           10,
           11,
           0,
           1,
           2,
           3,
           4,
           5,
           6,
           7,
           8,
           9,
           10,
           11,
           0,
           1,
           2,
           3,
           4,
           5,
           6,
           7,
           8,
           9,
           10,
           11,
           3,
           10,
           10,
           5,
           10,
           4,
           1,
           10,
           11,
           0,
           11,
           10,
           0,
           1,
           2,
           3,
           4,
           5,
           6,
           7,
           8,
           9,
           10,
           11,
           8,
           10,
           11,
           8,
           10,
           10,
           9,
           10,
           7,
           10,
           8,
           7,
           6,
           6,
           3,
           0,
           6,
           3,
           3,
           10,
           3,
           6,
           10,
           6,
           0,
           1,
           2,
           3,
           4,
           5,
           6,
           7,
           8,
           9,
           10,
           11,
           8,
           4,
           4,
           4,
           4,
           2,
           4,
           4,
           4,
           4,
           4,
           1,
           0,
           1,
           2,
           3,
           4,
           5,
           6,
           7,
           8,
           9,
           10,
           11,
           0,
           1,
           2,
           3,
           4,
           5,
           6,
           7,
           8,
           9,
           10,
           11,
           10,
           7,
           10,
           7,
           7,
           10,
           7,
           9,
           10,
           8,
           8,
           10
          ],
          "coloraxis": "coloraxis",
          "size": [
           1,
           1,
           1,
           1,
           1,
           1,
           1,
           1,
           1,
           1,
           1,
           1,
           0.9999999999999997,
           0.9999999999999997,
           0.9999999999999997,
           0.9999999999999997,
           0.9999999999999997,
           1,
           0.9999999999999997,
           0.9999999999999997,
           0.9999999999999997,
           0.9999999999999997,
           0.9999999999999997,
           0.9999999999999997,
           1.1373074088216055,
           1.1373074088216055,
           1.1373074088216055,
           1.1373074088216055,
           1.1373074088216055,
           0.11115162759229698,
           1.1373074088216055,
           0.5157742841916514,
           1.1373074088216055,
           1.1373074088216055,
           1.1373074088216055,
           1.1373074088216055,
           1.1669378707610234,
           1.1669378707610234,
           1.1669378707610234,
           1.1669378707610234,
           1.1669378707610234,
           0.10787609127960342,
           1.1669378707610234,
           0.22274520111016324,
           1.1669378707610234,
           1.1669378707610234,
           1.1669378707610234,
           1.1669378707610234,
           1.1678076014187195,
           1.1678076014187195,
           1.1678076014187195,
           1.1678076014187195,
           1.1678076014187195,
           0.10542450624033929,
           1.1678076014187195,
           0.21649947957246535,
           1.1678076014187195,
           1.1678076014187195,
           1.1678076014187195,
           1.1678076014187195,
           1.1678384645192958,
           1.1678384645192958,
           1.1678384645192958,
           1.1678384645192958,
           1.1678384645192958,
           0.10539435963905144,
           1.1678384645192958,
           0.2162209951679904,
           1.1678384645192958,
           1.1678384645192958,
           1.1678384645192958,
           1.1678384645192958,
           1.1118843718147122,
           1.1118843718147122,
           1.390116717071457,
           1.1118843718147122,
           1.1118843718147122,
           0.10663727773065801,
           1.1118843718147122,
           0.21805431360873115,
           1.1118843718147122,
           1.1118843718147122,
           1.390116717071457,
           1.1118843718147122,
           1.116444252174472,
           1.116444252174472,
           1.3873974516779375,
           1.116444252174472,
           1.116444252174472,
           0.0983565788405305,
           1.116444252174472,
           0.19529450040781773,
           1.116444252174472,
           1.116444252174472,
           1.3873974516779375,
           1.116444252174472,
           1.1192112275480106,
           1.1192112275480106,
           1.3736490724922743,
           1.1192112275480106,
           1.1192112275480106,
           0.10017647881691559,
           1.1192112275480106,
           0.19883555581445161,
           1.1192112275480106,
           1.1192112275480106,
           1.3736490724922743,
           1.1192112275480106,
           1.129509479953803,
           1.129509479953803,
           1.4283532638997618,
           1.12845340470538,
           0.9394628667952635,
           0.10145435985882591,
           1.129509479953803,
           0.1968659611181893,
           1.129509479953803,
           1.129509479953803,
           1.4283532638997618,
           1.129509479953803,
           1.146060643989327,
           1.146060643989327,
           1.4378587614309233,
           1.0345847917279674,
           0.9484850394875518,
           0.10022883387227771,
           1.146060643989327,
           0.164619948114397,
           1.146060643989327,
           1.146060643989327,
           1.4378587614309233,
           1.146060643989327,
           1.0317847457855478,
           1.0317847457855478,
           1.9854819487428312,
           0.7940277119511544,
           0.6783400540188078,
           0.1388298394141202,
           1.0317847457855478,
           0.22713002241696906,
           1.0317847457855478,
           1.0317847457855478,
           1.9854819487428312,
           1.0317847457855478,
           1.0417445581930465,
           1.0417445581930465,
           2.0425044116644915,
           0.8026620793433048,
           0.6764047409621687,
           0.08475038201028844,
           1.0417445581930465,
           0.10070662519697683,
           1.0417445581930465,
           1.0417445581930465,
           2.0425044116644915,
           1.0417445581930465,
           1.1745475994565142,
           1.1745475994565142,
           1.519512039835826,
           0.9414363096246577,
           0.7633192632827059,
           0.09523077571330554,
           1.1745475994565142,
           0.11370397496859126,
           1.1745475994565142,
           1.1745475994565142,
           1.519512039835826,
           1.1745475994565142,
           1.1677399271242652,
           1.1677399271242652,
           1.5326302711791289,
           0.9536644265915876,
           0.7623964682204778,
           0.09041617337475395,
           1.1677399271242652,
           0.10526049714672928,
           1.1677399271242652,
           1.1677399271242652,
           1.5326302711791289,
           1.184302256686868,
           1.1731386723136707,
           1.1731386723136707,
           1.5971739436496957,
           0.9694574705184443,
           0.7675957124265114,
           0.08975010189729421,
           1.1731386723136707,
           0.10653690619294136,
           1.1731386723136707,
           1.1731386723136707,
           1.5971739436496957,
           1.006618560097067,
           1.2047399560115213,
           1.2047399560115213,
           1.6413573546244022,
           0.9989638980953771,
           0.7874626681400728,
           0.09084726528057914,
           1.2047399560115213,
           0.10780036771972723,
           1.2047399560115213,
           1.2047399560115213,
           1.6413573546244022,
           0.708511311457834,
           1.2000048586240573,
           1.2000048586240573,
           1.6577899241259966,
           1.0116096792727587,
           0.7862377600201391,
           0.09156630285347014,
           1.2000048586240573,
           0.10832232465683467,
           1.2000048586240573,
           1.2000048586240573,
           1.6577899241259966,
           0.6866597918245203,
           1.2128798713300666,
           1.2128798713300666,
           1.678015102128961,
           0.8915275900828774,
           0.7936921180125635,
           0.09119482457420516,
           1.2128798713300666,
           0.10805358871571899,
           1.2128798713300666,
           1.2128798713300666,
           1.678015102128961,
           0.6951023177063816,
           1.2127395348029355,
           1.2127395348029355,
           1.9875782777721964,
           0.00288337477248311,
           0.8601594949934942,
           0.10741933595208182,
           1.2127395348029355,
           0.12752057312914825,
           1.2360965036166054,
           1.2360965036166054,
           1.9875782777721964,
           0.8164490539663842,
           1.0033052118595032,
           1.0033052118595032,
           2.4017132618720054,
           0.0036243699809609623,
           0.7686909741791308,
           0.11538873576298149,
           1.0033052118595032,
           0.14634805636266904,
           1.5361238961541126,
           1.5361238961541126,
           2.4017132618720054,
           0.08035791208351449,
           1.0119112005750366,
           1.0119112005750366,
           2.3920264385479735,
           0.0017926520049660448,
           0.768399806773875,
           0.08014655265806474,
           1.0119112005750366,
           0.10738307418701573,
           1.570087572502077,
           1.570087572502077,
           2.3920264385479735,
           0.08231629055086974,
           0.19074600706025097,
           0.19074600706025097,
           0.13148335375875655,
           0.00033996827676968075,
           0.14493184440055182,
           0.01488144632741833,
           0.19074600706025097,
           0.01961394379695444,
           10.69683659080187,
           0.27261090696294177,
           0.13148335375875655,
           0.015580570735230802,
           0.8219282843764104,
           2.9587888718594884,
           0.8219282843764104,
           0.8219282843764104,
           0.8219282843764104,
           0.8219282843764104,
           0.8219282843764104,
           0.8219282843764104,
           0.8219282843764104,
           0.8219282843764104,
           0.8219282843764104,
           0.8219282843764104,
           0.8213198158804613,
           2.96548202531493,
           0.8213198158804613,
           0.8213198158804613,
           0.8213198158804613,
           0.8213198158804613,
           0.8213198158804613,
           0.8213198158804613,
           0.8213198158804613,
           0.8213198158804613,
           0.8213198158804613,
           0.8213198158804613,
           0.8211529743113759,
           2.9673172825748657,
           0.8211529743113759,
           0.8211529743113759,
           0.8211529743113759,
           0.8211529743113759,
           0.8211529743113759,
           0.8211529743113759,
           0.8211529743113759,
           0.8211529743113759,
           0.8211529743113759,
           0.8211529743113759,
           0.8210204958556236,
           2.9687745455881416,
           0.8210204958556236,
           0.8210204958556236,
           0.8210204958556236,
           0.8210204958556236,
           0.8210204958556236,
           0.8210204958556236,
           0.8210204958556236,
           0.8210204958556236,
           0.8210204958556236,
           0.8210204958556236,
           0.8210004480204011,
           2.9689950717755864,
           0.8210004480204011,
           0.8210004480204011,
           0.8210004480204011,
           0.8210004480204011,
           0.8210004480204011,
           0.8210004480204011,
           0.8210004480204011,
           0.8210004480204011,
           0.8210004480204011,
           0.8210004480204011,
           0.7336361827115567,
           2.807458036366173,
           0.7336361827115567,
           0.7336361827115567,
           0.9207268416793403,
           0.9207268416793403,
           0.7336361827115567,
           0.92072684167934,
           0.7336361827115567,
           0.92072684167934,
           0.92072684167934,
           0.9207268416793403,
           0.11243688974878095,
           0.1124373103473517,
           0.028956900123704065,
           0.11243688974878095,
           0.14111035527720908,
           0.14111035527720908,
           0.11243688974878095,
           3.661842388234064,
           0.11243688974878095,
           3.661842388234064,
           3.661842388234064,
           0.14111035527720908,
           0.9034839417378024,
           0.9034839417378024,
           0.9034839417378024,
           0.9034839417378024,
           0.9034839417378024,
           0.9034839417378024,
           0.9034839417378024,
           0.9034839417378024,
           1.4825802913109893,
           0.9034839417378024,
           0.9034839417378024,
           1.4825802913109893,
           0.9963564663963983,
           0.9963564663963983,
           0.9963564663963983,
           0.9963564663963983,
           0.9963564663963983,
           0.9963564663963983,
           0.9963564663963983,
           0.9963564663963983,
           1.0182176680180077,
           0.9963564663963983,
           0.9963564663963983,
           1.0182176680180077,
           0.996539448952437,
           0.996539448952437,
           0.996539448952437,
           0.996539448952437,
           0.996539448952437,
           0.996539448952437,
           0.996539448952437,
           0.996539448952437,
           1.0173027552378173,
           0.996539448952437,
           0.996539448952437,
           1.0173027552378173,
           0.5820244507274028,
           0.5872531217308615,
           0.5872531217308615,
           0.5872531217308615,
           0.5872531217308615,
           0.5872531217308615,
           0.5872531217308615,
           0.5872531217308615,
           1.1081888756456642,
           0.5872531217308615,
           4.503572824134378,
           1.1081888756456642,
           1.1058649685538822,
           0.18126746760404533,
           0.18122705291865046,
           1.1058649685538822,
           0.18122705291865046,
           1.1058649685538822,
           1.1058649685538822,
           0.18122705291865046,
           3.0453680253322184,
           0.5796283958413803,
           3.0453680253322184,
           0.18122705291865046,
           0.0008603328942548854,
           0.2815824205170136,
           0.2872133055385228,
           0.0008603328942548854,
           0.2872133055385228,
           0.0008603328942548854,
           0.0008603328942548854,
           0.2872133055385228,
           2.7685159042813443,
           2.0177551657336648,
           5.779851955736862,
           0.2872133055385228,
           3.0562006752673767,
           2.2628287465122557e-7,
           0.0015887175472938336,
           3.0562006752673767,
           2.2628287465122557e-7,
           2.2628287465122557e-7,
           2.8266306901416116,
           2.2628287465122557e-7,
           0.0015887175472938336,
           2.2628287465122557e-7,
           3.0562006752673767,
           0.0015887175472938336,
           0.7564297561553531,
           0.7564297561553531,
           1.1739787456033242,
           1.17397874560332,
           0.7564297561553531,
           1.17397874560332,
           1.17397874560332,
           1.17397874560332,
           1.17397874560332,
           0.7564297561553531,
           1.17397874560332,
           0.7564297561553531,
           0.15720272407898997,
           0.15720272407898997,
           3.194380248276915,
           0.3535953818441889,
           6.055236564342006,
           0.3535953818441889,
           0.3535953818441889,
           0.3535953818441889,
           0.3535953818441889,
           0.15720272407898997,
           0.3535953818441889,
           0.15720272407898997,
           0.003494575006282781,
           1.3322396927223579,
           1.3322396927223579,
           1.3322396927223579,
           1.3322396927223579,
           0.00025239643128452524,
           1.3322396927223579,
           1.3322396927223579,
           1.3322396927223579,
           1.3322396927223579,
           1.3322396927223579,
           0.0060957940612329665,
           0.008972850151027069,
           0.7223174494445898,
           0.7223174494445898,
           0.7223174494445898,
           0.7223174494445898,
           0.000002146362770630807,
           0.7223174494445898,
           2.091629814350969,
           2.091629814350969,
           2.091629814350969,
           2.091629814350969,
           0.012918498859386411,
           6.532379441681466e-9,
           0.004843017724902661,
           0.004843017724902661,
           0.004843017724902661,
           0.004843017724902661,
           8.390076350720811e-7,
           0.004843017724902661,
           2.9936792349840347,
           2.9936792349840347,
           2.9936792349840347,
           2.9936792349840347,
           0.001067125899344415
          ],
          "sizemode": "area",
          "sizeref": 0.026742091477004678,
          "symbol": "circle"
         },
         "mode": "markers",
         "name": "",
         "orientation": "v",
         "showlegend": false,
         "type": "scatter",
         "x": [
          0,
          0,
          0,
          0,
          0,
          0,
          0,
          0,
          0,
          0,
          0,
          0,
          1,
          1,
          1,
          1,
          1,
          1,
          1,
          1,
          1,
          1,
          1,
          1,
          2,
          2,
          2,
          2,
          2,
          2,
          2,
          2,
          2,
          2,
          2,
          2,
          3,
          3,
          3,
          3,
          3,
          3,
          3,
          3,
          3,
          3,
          3,
          3,
          4,
          4,
          4,
          4,
          4,
          4,
          4,
          4,
          4,
          4,
          4,
          4,
          5,
          5,
          5,
          5,
          5,
          5,
          5,
          5,
          5,
          5,
          5,
          5,
          6,
          6,
          6,
          6,
          6,
          6,
          6,
          6,
          6,
          6,
          6,
          6,
          7,
          7,
          7,
          7,
          7,
          7,
          7,
          7,
          7,
          7,
          7,
          7,
          8,
          8,
          8,
          8,
          8,
          8,
          8,
          8,
          8,
          8,
          8,
          8,
          9,
          9,
          9,
          9,
          9,
          9,
          9,
          9,
          9,
          9,
          9,
          9,
          10,
          10,
          10,
          10,
          10,
          10,
          10,
          10,
          10,
          10,
          10,
          10,
          11,
          11,
          11,
          11,
          11,
          11,
          11,
          11,
          11,
          11,
          11,
          11,
          12,
          12,
          12,
          12,
          12,
          12,
          12,
          12,
          12,
          12,
          12,
          12,
          13,
          13,
          13,
          13,
          13,
          13,
          13,
          13,
          13,
          13,
          13,
          13,
          14,
          14,
          14,
          14,
          14,
          14,
          14,
          14,
          14,
          14,
          14,
          14,
          15,
          15,
          15,
          15,
          15,
          15,
          15,
          15,
          15,
          15,
          15,
          15,
          16,
          16,
          16,
          16,
          16,
          16,
          16,
          16,
          16,
          16,
          16,
          16,
          17,
          17,
          17,
          17,
          17,
          17,
          17,
          17,
          17,
          17,
          17,
          17,
          18,
          18,
          18,
          18,
          18,
          18,
          18,
          18,
          18,
          18,
          18,
          18,
          19,
          19,
          19,
          19,
          19,
          19,
          19,
          19,
          19,
          19,
          19,
          19,
          20,
          20,
          20,
          20,
          20,
          20,
          20,
          20,
          20,
          20,
          20,
          20,
          21,
          21,
          21,
          21,
          21,
          21,
          21,
          21,
          21,
          21,
          21,
          21,
          22,
          22,
          22,
          22,
          22,
          22,
          22,
          22,
          22,
          22,
          22,
          22,
          23,
          23,
          23,
          23,
          23,
          23,
          23,
          23,
          23,
          23,
          23,
          23,
          24,
          24,
          24,
          24,
          24,
          24,
          24,
          24,
          24,
          24,
          24,
          24,
          25,
          25,
          25,
          25,
          25,
          25,
          25,
          25,
          25,
          25,
          25,
          25,
          26,
          26,
          26,
          26,
          26,
          26,
          26,
          26,
          26,
          26,
          26,
          26,
          27,
          27,
          27,
          27,
          27,
          27,
          27,
          27,
          27,
          27,
          27,
          27,
          28,
          28,
          28,
          28,
          28,
          28,
          28,
          28,
          28,
          28,
          28,
          28,
          29,
          29,
          29,
          29,
          29,
          29,
          29,
          29,
          29,
          29,
          29,
          29,
          30,
          30,
          30,
          30,
          30,
          30,
          30,
          30,
          30,
          30,
          30,
          30,
          31,
          31,
          31,
          31,
          31,
          31,
          31,
          31,
          31,
          31,
          31,
          31,
          32,
          32,
          32,
          32,
          32,
          32,
          32,
          32,
          32,
          32,
          32,
          32,
          33,
          33,
          33,
          33,
          33,
          33,
          33,
          33,
          33,
          33,
          33,
          33,
          34,
          34,
          34,
          34,
          34,
          34,
          34,
          34,
          34,
          34,
          34,
          34,
          35,
          35,
          35,
          35,
          35,
          35,
          35,
          35,
          35,
          35,
          35,
          35,
          36,
          36,
          36,
          36,
          36,
          36,
          36,
          36,
          36,
          36,
          36,
          36,
          37,
          37,
          37,
          37,
          37,
          37,
          37,
          37,
          37,
          37,
          37,
          37,
          38,
          38,
          38,
          38,
          38,
          38,
          38,
          38,
          38,
          38,
          38,
          38,
          39,
          39,
          39,
          39,
          39,
          39,
          39,
          39,
          39,
          39,
          39,
          39,
          40,
          40,
          40,
          40,
          40,
          40,
          40,
          40,
          40,
          40,
          40,
          40,
          41,
          41,
          41,
          41,
          41,
          41,
          41,
          41,
          41,
          41,
          41,
          41
         ],
         "xaxis": "x",
         "y": [
          0,
          1,
          2,
          3,
          4,
          5,
          6,
          7,
          8,
          9,
          10,
          11,
          0,
          1,
          2,
          3,
          4,
          5,
          6,
          7,
          8,
          9,
          10,
          11,
          0,
          1,
          2,
          3,
          4,
          5,
          6,
          7,
          8,
          9,
          10,
          11,
          0,
          1,
          2,
          3,
          4,
          5,
          6,
          7,
          8,
          9,
          10,
          11,
          0,
          1,
          2,
          3,
          4,
          5,
          6,
          7,
          8,
          9,
          10,
          11,
          0,
          1,
          2,
          3,
          4,
          5,
          6,
          7,
          8,
          9,
          10,
          11,
          0,
          1,
          2,
          3,
          4,
          5,
          6,
          7,
          8,
          9,
          10,
          11,
          0,
          1,
          2,
          3,
          4,
          5,
          6,
          7,
          8,
          9,
          10,
          11,
          0,
          1,
          2,
          3,
          4,
          5,
          6,
          7,
          8,
          9,
          10,
          11,
          0,
          1,
          2,
          3,
          4,
          5,
          6,
          7,
          8,
          9,
          10,
          11,
          0,
          1,
          2,
          3,
          4,
          5,
          6,
          7,
          8,
          9,
          10,
          11,
          0,
          1,
          2,
          3,
          4,
          5,
          6,
          7,
          8,
          9,
          10,
          11,
          0,
          1,
          2,
          3,
          4,
          5,
          6,
          7,
          8,
          9,
          10,
          11,
          0,
          1,
          2,
          3,
          4,
          5,
          6,
          7,
          8,
          9,
          10,
          11,
          0,
          1,
          2,
          3,
          4,
          5,
          6,
          7,
          8,
          9,
          10,
          11,
          0,
          1,
          2,
          3,
          4,
          5,
          6,
          7,
          8,
          9,
          10,
          11,
          0,
          1,
          2,
          3,
          4,
          5,
          6,
          7,
          8,
          9,
          10,
          11,
          0,
          1,
          2,
          3,
          4,
          5,
          6,
          7,
          8,
          9,
          10,
          11,
          0,
          1,
          2,
          3,
          4,
          5,
          6,
          7,
          8,
          9,
          10,
          11,
          0,
          1,
          2,
          3,
          4,
          5,
          6,
          7,
          8,
          9,
          10,
          11,
          0,
          1,
          2,
          3,
          4,
          5,
          6,
          7,
          8,
          9,
          10,
          11,
          0,
          1,
          2,
          3,
          4,
          5,
          6,
          7,
          8,
          9,
          10,
          11,
          0,
          1,
          2,
          3,
          4,
          5,
          6,
          7,
          8,
          9,
          10,
          11,
          0,
          1,
          2,
          3,
          4,
          5,
          6,
          7,
          8,
          9,
          10,
          11,
          0,
          1,
          2,
          3,
          4,
          5,
          6,
          7,
          8,
          9,
          10,
          11,
          0,
          1,
          2,
          3,
          4,
          5,
          6,
          7,
          8,
          9,
          10,
          11,
          0,
          1,
          2,
          3,
          4,
          5,
          6,
          7,
          8,
          9,
          10,
          11,
          0,
          1,
          2,
          3,
          4,
          5,
          6,
          7,
          8,
          9,
          10,
          11,
          0,
          1,
          2,
          3,
          4,
          5,
          6,
          7,
          8,
          9,
          10,
          11,
          0,
          1,
          2,
          3,
          4,
          5,
          6,
          7,
          8,
          9,
          10,
          11,
          0,
          1,
          2,
          3,
          4,
          5,
          6,
          7,
          8,
          9,
          10,
          11,
          0,
          1,
          2,
          3,
          4,
          5,
          6,
          7,
          8,
          9,
          10,
          11,
          0,
          1,
          2,
          3,
          4,
          5,
          6,
          7,
          8,
          9,
          10,
          11,
          0,
          1,
          2,
          3,
          4,
          5,
          6,
          7,
          8,
          9,
          10,
          11,
          0,
          1,
          2,
          3,
          4,
          5,
          6,
          7,
          8,
          9,
          10,
          11,
          0,
          1,
          2,
          3,
          4,
          5,
          6,
          7,
          8,
          9,
          10,
          11,
          0,
          1,
          2,
          3,
          4,
          5,
          6,
          7,
          8,
          9,
          10,
          11,
          0,
          1,
          2,
          3,
          4,
          5,
          6,
          7,
          8,
          9,
          10,
          11,
          0,
          1,
          2,
          3,
          4,
          5,
          6,
          7,
          8,
          9,
          10,
          11,
          0,
          1,
          2,
          3,
          4,
          5,
          6,
          7,
          8,
          9,
          10,
          11,
          0,
          1,
          2,
          3,
          4,
          5,
          6,
          7,
          8,
          9,
          10,
          11,
          0,
          1,
          2,
          3,
          4,
          5,
          6,
          7,
          8,
          9,
          10,
          11
         ],
         "yaxis": "y"
        },
        {
         "line": {
          "color": "#636EFA"
         },
         "mode": "lines",
         "name": "parent_0",
         "showlegend": false,
         "type": "scatter",
         "x": [
          33,
          32
         ],
         "y": [
          9,
          0
         ]
        },
        {
         "line": {
          "color": "#EF553B"
         },
         "mode": "lines",
         "name": "parent_1",
         "showlegend": false,
         "type": "scatter",
         "x": [
          33,
          32
         ],
         "y": [
          6,
          1
         ]
        },
        {
         "line": {
          "color": "#EF553B"
         },
         "mode": "lines",
         "name": "parent_1",
         "showlegend": false,
         "type": "scatter",
         "x": [
          38,
          37
         ],
         "y": [
          11,
          1
         ]
        },
        {
         "line": {
          "color": "#00CC96"
         },
         "mode": "lines",
         "name": "parent_2",
         "showlegend": false,
         "type": "scatter",
         "x": [
          38,
          37
         ],
         "y": [
          5,
          2
         ]
        },
        {
         "line": {
          "color": "#AB63FA"
         },
         "mode": "lines",
         "name": "parent_3",
         "showlegend": false,
         "type": "scatter",
         "x": [
          29,
          28
         ],
         "y": [
          11,
          3
         ]
        },
        {
         "line": {
          "color": "#AB63FA"
         },
         "mode": "lines",
         "name": "parent_3",
         "showlegend": false,
         "type": "scatter",
         "x": [
          33,
          32
         ],
         "y": [
          0,
          3
         ]
        },
        {
         "line": {
          "color": "#FFA15A"
         },
         "mode": "lines",
         "name": "parent_4",
         "showlegend": false,
         "type": "scatter",
         "x": [
          22,
          21
         ],
         "y": [
          1,
          4
         ]
        },
        {
         "line": {
          "color": "#FFA15A"
         },
         "mode": "lines",
         "name": "parent_4",
         "showlegend": false,
         "type": "scatter",
         "x": [
          33,
          32
         ],
         "y": [
          5,
          4
         ]
        },
        {
         "line": {
          "color": "#FFA15A"
         },
         "mode": "lines",
         "name": "parent_4",
         "showlegend": false,
         "type": "scatter",
         "x": [
          38,
          37
         ],
         "y": [
          1,
          4
         ]
        },
        {
         "line": {
          "color": "#FFA15A"
         },
         "mode": "lines",
         "name": "parent_4",
         "showlegend": false,
         "type": "scatter",
         "x": [
          38,
          37
         ],
         "y": [
          2,
          4
         ]
        },
        {
         "line": {
          "color": "#FFA15A"
         },
         "mode": "lines",
         "name": "parent_4",
         "showlegend": false,
         "type": "scatter",
         "x": [
          38,
          37
         ],
         "y": [
          3,
          4
         ]
        },
        {
         "line": {
          "color": "#FFA15A"
         },
         "mode": "lines",
         "name": "parent_4",
         "showlegend": false,
         "type": "scatter",
         "x": [
          38,
          37
         ],
         "y": [
          4,
          4
         ]
        },
        {
         "line": {
          "color": "#FFA15A"
         },
         "mode": "lines",
         "name": "parent_4",
         "showlegend": false,
         "type": "scatter",
         "x": [
          38,
          37
         ],
         "y": [
          6,
          4
         ]
        },
        {
         "line": {
          "color": "#FFA15A"
         },
         "mode": "lines",
         "name": "parent_4",
         "showlegend": false,
         "type": "scatter",
         "x": [
          38,
          37
         ],
         "y": [
          7,
          4
         ]
        },
        {
         "line": {
          "color": "#FFA15A"
         },
         "mode": "lines",
         "name": "parent_4",
         "showlegend": false,
         "type": "scatter",
         "x": [
          38,
          37
         ],
         "y": [
          8,
          4
         ]
        },
        {
         "line": {
          "color": "#FFA15A"
         },
         "mode": "lines",
         "name": "parent_4",
         "showlegend": false,
         "type": "scatter",
         "x": [
          38,
          37
         ],
         "y": [
          9,
          4
         ]
        },
        {
         "line": {
          "color": "#FFA15A"
         },
         "mode": "lines",
         "name": "parent_4",
         "showlegend": false,
         "type": "scatter",
         "x": [
          38,
          37
         ],
         "y": [
          10,
          4
         ]
        },
        {
         "line": {
          "color": "#19D3F3"
         },
         "mode": "lines",
         "name": "parent_5",
         "showlegend": false,
         "type": "scatter",
         "x": [
          33,
          32
         ],
         "y": [
          3,
          5
         ]
        },
        {
         "line": {
          "color": "#FF6692"
         },
         "mode": "lines",
         "name": "parent_6",
         "showlegend": false,
         "type": "scatter",
         "x": [
          29,
          28
         ],
         "y": [
          8,
          6
         ]
        },
        {
         "line": {
          "color": "#B6E880"
         },
         "mode": "lines",
         "name": "parent_7",
         "showlegend": false,
         "type": "scatter",
         "x": [
          29,
          28
         ],
         "y": [
          9,
          7
         ]
        },
        {
         "line": {
          "color": "#B6E880"
         },
         "mode": "lines",
         "name": "parent_7",
         "showlegend": false,
         "type": "scatter",
         "x": [
          29,
          28
         ],
         "y": [
          10,
          7
         ]
        },
        {
         "line": {
          "color": "#B6E880"
         },
         "mode": "lines",
         "name": "parent_7",
         "showlegend": false,
         "type": "scatter",
         "x": [
          35,
          34
         ],
         "y": [
          8,
          7
         ]
        },
        {
         "line": {
          "color": "#B6E880"
         },
         "mode": "lines",
         "name": "parent_7",
         "showlegend": false,
         "type": "scatter",
         "x": [
          35,
          34
         ],
         "y": [
          11,
          7
         ]
        },
        {
         "line": {
          "color": "#B6E880"
         },
         "mode": "lines",
         "name": "parent_7",
         "showlegend": false,
         "type": "scatter",
         "x": [
          41,
          40
         ],
         "y": [
          1,
          7
         ]
        },
        {
         "line": {
          "color": "#B6E880"
         },
         "mode": "lines",
         "name": "parent_7",
         "showlegend": false,
         "type": "scatter",
         "x": [
          41,
          40
         ],
         "y": [
          3,
          7
         ]
        },
        {
         "line": {
          "color": "#B6E880"
         },
         "mode": "lines",
         "name": "parent_7",
         "showlegend": false,
         "type": "scatter",
         "x": [
          41,
          40
         ],
         "y": [
          4,
          7
         ]
        },
        {
         "line": {
          "color": "#B6E880"
         },
         "mode": "lines",
         "name": "parent_7",
         "showlegend": false,
         "type": "scatter",
         "x": [
          41,
          40
         ],
         "y": [
          6,
          7
         ]
        },
        {
         "line": {
          "color": "#FF97FF"
         },
         "mode": "lines",
         "name": "parent_8",
         "showlegend": false,
         "type": "scatter",
         "x": [
          22,
          21
         ],
         "y": [
          0,
          8
         ]
        },
        {
         "line": {
          "color": "#FF97FF"
         },
         "mode": "lines",
         "name": "parent_8",
         "showlegend": false,
         "type": "scatter",
         "x": [
          22,
          21
         ],
         "y": [
          2,
          8
         ]
        },
        {
         "line": {
          "color": "#FF97FF"
         },
         "mode": "lines",
         "name": "parent_8",
         "showlegend": false,
         "type": "scatter",
         "x": [
          22,
          21
         ],
         "y": [
          3,
          8
         ]
        },
        {
         "line": {
          "color": "#FF97FF"
         },
         "mode": "lines",
         "name": "parent_8",
         "showlegend": false,
         "type": "scatter",
         "x": [
          22,
          21
         ],
         "y": [
          4,
          8
         ]
        },
        {
         "line": {
          "color": "#FF97FF"
         },
         "mode": "lines",
         "name": "parent_8",
         "showlegend": false,
         "type": "scatter",
         "x": [
          22,
          21
         ],
         "y": [
          5,
          8
         ]
        },
        {
         "line": {
          "color": "#FF97FF"
         },
         "mode": "lines",
         "name": "parent_8",
         "showlegend": false,
         "type": "scatter",
         "x": [
          22,
          21
         ],
         "y": [
          6,
          8
         ]
        },
        {
         "line": {
          "color": "#FF97FF"
         },
         "mode": "lines",
         "name": "parent_8",
         "showlegend": false,
         "type": "scatter",
         "x": [
          22,
          21
         ],
         "y": [
          7,
          8
         ]
        },
        {
         "line": {
          "color": "#FF97FF"
         },
         "mode": "lines",
         "name": "parent_8",
         "showlegend": false,
         "type": "scatter",
         "x": [
          22,
          21
         ],
         "y": [
          8,
          8
         ]
        },
        {
         "line": {
          "color": "#FF97FF"
         },
         "mode": "lines",
         "name": "parent_8",
         "showlegend": false,
         "type": "scatter",
         "x": [
          22,
          21
         ],
         "y": [
          9,
          8
         ]
        },
        {
         "line": {
          "color": "#FF97FF"
         },
         "mode": "lines",
         "name": "parent_8",
         "showlegend": false,
         "type": "scatter",
         "x": [
          22,
          21
         ],
         "y": [
          10,
          8
         ]
        },
        {
         "line": {
          "color": "#FF97FF"
         },
         "mode": "lines",
         "name": "parent_8",
         "showlegend": false,
         "type": "scatter",
         "x": [
          22,
          21
         ],
         "y": [
          11,
          8
         ]
        },
        {
         "line": {
          "color": "#FF97FF"
         },
         "mode": "lines",
         "name": "parent_8",
         "showlegend": false,
         "type": "scatter",
         "x": [
          35,
          34
         ],
         "y": [
          0,
          8
         ]
        },
        {
         "line": {
          "color": "#FF97FF"
         },
         "mode": "lines",
         "name": "parent_8",
         "showlegend": false,
         "type": "scatter",
         "x": [
          35,
          34
         ],
         "y": [
          3,
          8
         ]
        },
        {
         "line": {
          "color": "#FF97FF"
         },
         "mode": "lines",
         "name": "parent_8",
         "showlegend": false,
         "type": "scatter",
         "x": [
          35,
          34
         ],
         "y": [
          10,
          8
         ]
        },
        {
         "line": {
          "color": "#FF97FF"
         },
         "mode": "lines",
         "name": "parent_8",
         "showlegend": false,
         "type": "scatter",
         "x": [
          38,
          37
         ],
         "y": [
          0,
          8
         ]
        },
        {
         "line": {
          "color": "#FF97FF"
         },
         "mode": "lines",
         "name": "parent_8",
         "showlegend": false,
         "type": "scatter",
         "x": [
          41,
          40
         ],
         "y": [
          9,
          8
         ]
        },
        {
         "line": {
          "color": "#FF97FF"
         },
         "mode": "lines",
         "name": "parent_8",
         "showlegend": false,
         "type": "scatter",
         "x": [
          41,
          40
         ],
         "y": [
          10,
          8
         ]
        },
        {
         "line": {
          "color": "#FECB52"
         },
         "mode": "lines",
         "name": "parent_9",
         "showlegend": false,
         "type": "scatter",
         "x": [
          29,
          28
         ],
         "y": [
          3,
          9
         ]
        },
        {
         "line": {
          "color": "#FECB52"
         },
         "mode": "lines",
         "name": "parent_9",
         "showlegend": false,
         "type": "scatter",
         "x": [
          29,
          28
         ],
         "y": [
          4,
          9
         ]
        },
        {
         "line": {
          "color": "#FECB52"
         },
         "mode": "lines",
         "name": "parent_9",
         "showlegend": false,
         "type": "scatter",
         "x": [
          35,
          34
         ],
         "y": [
          6,
          9
         ]
        },
        {
         "line": {
          "color": "#FECB52"
         },
         "mode": "lines",
         "name": "parent_9",
         "showlegend": false,
         "type": "scatter",
         "x": [
          41,
          40
         ],
         "y": [
          7,
          9
         ]
        },
        {
         "line": {
          "color": "#636EFA"
         },
         "mode": "lines",
         "name": "parent_10",
         "showlegend": false,
         "type": "scatter",
         "x": [
          29,
          28
         ],
         "y": [
          0,
          10
         ]
        },
        {
         "line": {
          "color": "#636EFA"
         },
         "mode": "lines",
         "name": "parent_10",
         "showlegend": false,
         "type": "scatter",
         "x": [
          29,
          28
         ],
         "y": [
          1,
          10
         ]
        },
        {
         "line": {
          "color": "#636EFA"
         },
         "mode": "lines",
         "name": "parent_10",
         "showlegend": false,
         "type": "scatter",
         "x": [
          29,
          28
         ],
         "y": [
          2,
          10
         ]
        },
        {
         "line": {
          "color": "#636EFA"
         },
         "mode": "lines",
         "name": "parent_10",
         "showlegend": false,
         "type": "scatter",
         "x": [
          29,
          28
         ],
         "y": [
          5,
          10
         ]
        },
        {
         "line": {
          "color": "#636EFA"
         },
         "mode": "lines",
         "name": "parent_10",
         "showlegend": false,
         "type": "scatter",
         "x": [
          29,
          28
         ],
         "y": [
          6,
          10
         ]
        },
        {
         "line": {
          "color": "#636EFA"
         },
         "mode": "lines",
         "name": "parent_10",
         "showlegend": false,
         "type": "scatter",
         "x": [
          29,
          28
         ],
         "y": [
          7,
          10
         ]
        },
        {
         "line": {
          "color": "#636EFA"
         },
         "mode": "lines",
         "name": "parent_10",
         "showlegend": false,
         "type": "scatter",
         "x": [
          33,
          32
         ],
         "y": [
          1,
          10
         ]
        },
        {
         "line": {
          "color": "#636EFA"
         },
         "mode": "lines",
         "name": "parent_10",
         "showlegend": false,
         "type": "scatter",
         "x": [
          33,
          32
         ],
         "y": [
          2,
          10
         ]
        },
        {
         "line": {
          "color": "#636EFA"
         },
         "mode": "lines",
         "name": "parent_10",
         "showlegend": false,
         "type": "scatter",
         "x": [
          33,
          32
         ],
         "y": [
          4,
          10
         ]
        },
        {
         "line": {
          "color": "#636EFA"
         },
         "mode": "lines",
         "name": "parent_10",
         "showlegend": false,
         "type": "scatter",
         "x": [
          33,
          32
         ],
         "y": [
          7,
          10
         ]
        },
        {
         "line": {
          "color": "#636EFA"
         },
         "mode": "lines",
         "name": "parent_10",
         "showlegend": false,
         "type": "scatter",
         "x": [
          33,
          32
         ],
         "y": [
          11,
          10
         ]
        },
        {
         "line": {
          "color": "#636EFA"
         },
         "mode": "lines",
         "name": "parent_10",
         "showlegend": false,
         "type": "scatter",
         "x": [
          35,
          34
         ],
         "y": [
          1,
          10
         ]
        },
        {
         "line": {
          "color": "#636EFA"
         },
         "mode": "lines",
         "name": "parent_10",
         "showlegend": false,
         "type": "scatter",
         "x": [
          35,
          34
         ],
         "y": [
          4,
          10
         ]
        },
        {
         "line": {
          "color": "#636EFA"
         },
         "mode": "lines",
         "name": "parent_10",
         "showlegend": false,
         "type": "scatter",
         "x": [
          35,
          34
         ],
         "y": [
          5,
          10
         ]
        },
        {
         "line": {
          "color": "#636EFA"
         },
         "mode": "lines",
         "name": "parent_10",
         "showlegend": false,
         "type": "scatter",
         "x": [
          35,
          34
         ],
         "y": [
          7,
          10
         ]
        },
        {
         "line": {
          "color": "#636EFA"
         },
         "mode": "lines",
         "name": "parent_10",
         "showlegend": false,
         "type": "scatter",
         "x": [
          35,
          34
         ],
         "y": [
          9,
          10
         ]
        },
        {
         "line": {
          "color": "#636EFA"
         },
         "mode": "lines",
         "name": "parent_10",
         "showlegend": false,
         "type": "scatter",
         "x": [
          36,
          35
         ],
         "y": [
          7,
          1
         ]
        },
        {
         "line": {
          "color": "#636EFA"
         },
         "mode": "lines",
         "name": "parent_10",
         "showlegend": false,
         "type": "scatter",
         "x": [
          36,
          35
         ],
         "y": [
          7,
          4
         ]
        },
        {
         "line": {
          "color": "#636EFA"
         },
         "mode": "lines",
         "name": "parent_10",
         "showlegend": false,
         "type": "scatter",
         "x": [
          36,
          35
         ],
         "y": [
          7,
          5
         ]
        },
        {
         "line": {
          "color": "#636EFA"
         },
         "mode": "lines",
         "name": "parent_10",
         "showlegend": false,
         "type": "scatter",
         "x": [
          36,
          35
         ],
         "y": [
          7,
          7
         ]
        },
        {
         "line": {
          "color": "#636EFA"
         },
         "mode": "lines",
         "name": "parent_10",
         "showlegend": false,
         "type": "scatter",
         "x": [
          36,
          35
         ],
         "y": [
          7,
          9
         ]
        },
        {
         "line": {
          "color": "#636EFA"
         },
         "mode": "lines",
         "name": "parent_10",
         "showlegend": false,
         "type": "scatter",
         "x": [
          36,
          35
         ],
         "y": [
          10,
          1
         ]
        },
        {
         "line": {
          "color": "#636EFA"
         },
         "mode": "lines",
         "name": "parent_10",
         "showlegend": false,
         "type": "scatter",
         "x": [
          36,
          35
         ],
         "y": [
          10,
          4
         ]
        },
        {
         "line": {
          "color": "#636EFA"
         },
         "mode": "lines",
         "name": "parent_10",
         "showlegend": false,
         "type": "scatter",
         "x": [
          36,
          35
         ],
         "y": [
          10,
          5
         ]
        },
        {
         "line": {
          "color": "#636EFA"
         },
         "mode": "lines",
         "name": "parent_10",
         "showlegend": false,
         "type": "scatter",
         "x": [
          36,
          35
         ],
         "y": [
          10,
          7
         ]
        },
        {
         "line": {
          "color": "#636EFA"
         },
         "mode": "lines",
         "name": "parent_10",
         "showlegend": false,
         "type": "scatter",
         "x": [
          36,
          35
         ],
         "y": [
          10,
          9
         ]
        },
        {
         "line": {
          "color": "#636EFA"
         },
         "mode": "lines",
         "name": "parent_10",
         "showlegend": false,
         "type": "scatter",
         "x": [
          41,
          40
         ],
         "y": [
          0,
          10
         ]
        },
        {
         "line": {
          "color": "#636EFA"
         },
         "mode": "lines",
         "name": "parent_10",
         "showlegend": false,
         "type": "scatter",
         "x": [
          41,
          40
         ],
         "y": [
          2,
          10
         ]
        },
        {
         "line": {
          "color": "#636EFA"
         },
         "mode": "lines",
         "name": "parent_10",
         "showlegend": false,
         "type": "scatter",
         "x": [
          41,
          40
         ],
         "y": [
          5,
          10
         ]
        },
        {
         "line": {
          "color": "#636EFA"
         },
         "mode": "lines",
         "name": "parent_10",
         "showlegend": false,
         "type": "scatter",
         "x": [
          41,
          40
         ],
         "y": [
          8,
          10
         ]
        },
        {
         "line": {
          "color": "#636EFA"
         },
         "mode": "lines",
         "name": "parent_10",
         "showlegend": false,
         "type": "scatter",
         "x": [
          41,
          40
         ],
         "y": [
          11,
          10
         ]
        },
        {
         "line": {
          "color": "#EF553B"
         },
         "mode": "lines",
         "name": "parent_11",
         "showlegend": false,
         "type": "scatter",
         "x": [
          33,
          32
         ],
         "y": [
          8,
          11
         ]
        },
        {
         "line": {
          "color": "#EF553B"
         },
         "mode": "lines",
         "name": "parent_11",
         "showlegend": false,
         "type": "scatter",
         "x": [
          33,
          32
         ],
         "y": [
          10,
          11
         ]
        },
        {
         "line": {
          "color": "#EF553B"
         },
         "mode": "lines",
         "name": "parent_11",
         "showlegend": false,
         "type": "scatter",
         "x": [
          35,
          34
         ],
         "y": [
          2,
          11
         ]
        }
       ],
       "layout": {
        "coloraxis": {
         "colorbar": {
          "title": {
           "text": "float parent"
          }
         },
         "colorscale": [
          [
           0,
           "#0d0887"
          ],
          [
           0.1111111111111111,
           "#46039f"
          ],
          [
           0.2222222222222222,
           "#7201a8"
          ],
          [
           0.3333333333333333,
           "#9c179e"
          ],
          [
           0.4444444444444444,
           "#bd3786"
          ],
          [
           0.5555555555555556,
           "#d8576b"
          ],
          [
           0.6666666666666666,
           "#ed7953"
          ],
          [
           0.7777777777777778,
           "#fb9f3a"
          ],
          [
           0.8888888888888888,
           "#fdca26"
          ],
          [
           1,
           "#f0f921"
          ]
         ]
        },
        "legend": {
         "itemsizing": "constant",
         "tracegroupgap": 0
        },
        "margin": {
         "t": 60
        },
        "shapes": [
         {
          "line": {
           "color": "gray",
           "width": 4
          },
          "opacity": 0.15,
          "type": "line",
          "x0": 22,
          "x1": 22,
          "xref": "x",
          "y0": 0,
          "y1": 1,
          "yref": "y domain"
         },
         {
          "line": {
           "color": "gray",
           "width": 4
          },
          "opacity": 0.15,
          "type": "line",
          "x0": 29,
          "x1": 29,
          "xref": "x",
          "y0": 0,
          "y1": 1,
          "yref": "y domain"
         },
         {
          "line": {
           "color": "gray",
           "width": 4
          },
          "opacity": 0.15,
          "type": "line",
          "x0": 33,
          "x1": 33,
          "xref": "x",
          "y0": 0,
          "y1": 1,
          "yref": "y domain"
         },
         {
          "line": {
           "color": "gray",
           "width": 4
          },
          "opacity": 0.15,
          "type": "line",
          "x0": 35,
          "x1": 35,
          "xref": "x",
          "y0": 0,
          "y1": 1,
          "yref": "y domain"
         },
         {
          "line": {
           "color": "gray",
           "width": 4
          },
          "opacity": 0.15,
          "type": "line",
          "x0": 36,
          "x1": 36,
          "xref": "x",
          "y0": 0,
          "y1": 1,
          "yref": "y domain"
         },
         {
          "line": {
           "color": "gray",
           "width": 4
          },
          "opacity": 0.15,
          "type": "line",
          "x0": 38,
          "x1": 38,
          "xref": "x",
          "y0": 0,
          "y1": 1,
          "yref": "y domain"
         },
         {
          "line": {
           "color": "gray",
           "width": 4
          },
          "opacity": 0.15,
          "type": "line",
          "x0": 41,
          "x1": 41,
          "xref": "x",
          "y0": 0,
          "y1": 1,
          "yref": "y domain"
         }
        ],
        "template": {
         "data": {
          "bar": [
           {
            "error_x": {
             "color": "#2a3f5f"
            },
            "error_y": {
             "color": "#2a3f5f"
            },
            "marker": {
             "line": {
              "color": "#E5ECF6",
              "width": 0.5
             },
             "pattern": {
              "fillmode": "overlay",
              "size": 10,
              "solidity": 0.2
             }
            },
            "type": "bar"
           }
          ],
          "barpolar": [
           {
            "marker": {
             "line": {
              "color": "#E5ECF6",
              "width": 0.5
             },
             "pattern": {
              "fillmode": "overlay",
              "size": 10,
              "solidity": 0.2
             }
            },
            "type": "barpolar"
           }
          ],
          "carpet": [
           {
            "aaxis": {
             "endlinecolor": "#2a3f5f",
             "gridcolor": "white",
             "linecolor": "white",
             "minorgridcolor": "white",
             "startlinecolor": "#2a3f5f"
            },
            "baxis": {
             "endlinecolor": "#2a3f5f",
             "gridcolor": "white",
             "linecolor": "white",
             "minorgridcolor": "white",
             "startlinecolor": "#2a3f5f"
            },
            "type": "carpet"
           }
          ],
          "choropleth": [
           {
            "colorbar": {
             "outlinewidth": 0,
             "ticks": ""
            },
            "type": "choropleth"
           }
          ],
          "contour": [
           {
            "colorbar": {
             "outlinewidth": 0,
             "ticks": ""
            },
            "colorscale": [
             [
              0,
              "#0d0887"
             ],
             [
              0.1111111111111111,
              "#46039f"
             ],
             [
              0.2222222222222222,
              "#7201a8"
             ],
             [
              0.3333333333333333,
              "#9c179e"
             ],
             [
              0.4444444444444444,
              "#bd3786"
             ],
             [
              0.5555555555555556,
              "#d8576b"
             ],
             [
              0.6666666666666666,
              "#ed7953"
             ],
             [
              0.7777777777777778,
              "#fb9f3a"
             ],
             [
              0.8888888888888888,
              "#fdca26"
             ],
             [
              1,
              "#f0f921"
             ]
            ],
            "type": "contour"
           }
          ],
          "contourcarpet": [
           {
            "colorbar": {
             "outlinewidth": 0,
             "ticks": ""
            },
            "type": "contourcarpet"
           }
          ],
          "heatmap": [
           {
            "colorbar": {
             "outlinewidth": 0,
             "ticks": ""
            },
            "colorscale": [
             [
              0,
              "#0d0887"
             ],
             [
              0.1111111111111111,
              "#46039f"
             ],
             [
              0.2222222222222222,
              "#7201a8"
             ],
             [
              0.3333333333333333,
              "#9c179e"
             ],
             [
              0.4444444444444444,
              "#bd3786"
             ],
             [
              0.5555555555555556,
              "#d8576b"
             ],
             [
              0.6666666666666666,
              "#ed7953"
             ],
             [
              0.7777777777777778,
              "#fb9f3a"
             ],
             [
              0.8888888888888888,
              "#fdca26"
             ],
             [
              1,
              "#f0f921"
             ]
            ],
            "type": "heatmap"
           }
          ],
          "heatmapgl": [
           {
            "colorbar": {
             "outlinewidth": 0,
             "ticks": ""
            },
            "colorscale": [
             [
              0,
              "#0d0887"
             ],
             [
              0.1111111111111111,
              "#46039f"
             ],
             [
              0.2222222222222222,
              "#7201a8"
             ],
             [
              0.3333333333333333,
              "#9c179e"
             ],
             [
              0.4444444444444444,
              "#bd3786"
             ],
             [
              0.5555555555555556,
              "#d8576b"
             ],
             [
              0.6666666666666666,
              "#ed7953"
             ],
             [
              0.7777777777777778,
              "#fb9f3a"
             ],
             [
              0.8888888888888888,
              "#fdca26"
             ],
             [
              1,
              "#f0f921"
             ]
            ],
            "type": "heatmapgl"
           }
          ],
          "histogram": [
           {
            "marker": {
             "pattern": {
              "fillmode": "overlay",
              "size": 10,
              "solidity": 0.2
             }
            },
            "type": "histogram"
           }
          ],
          "histogram2d": [
           {
            "colorbar": {
             "outlinewidth": 0,
             "ticks": ""
            },
            "colorscale": [
             [
              0,
              "#0d0887"
             ],
             [
              0.1111111111111111,
              "#46039f"
             ],
             [
              0.2222222222222222,
              "#7201a8"
             ],
             [
              0.3333333333333333,
              "#9c179e"
             ],
             [
              0.4444444444444444,
              "#bd3786"
             ],
             [
              0.5555555555555556,
              "#d8576b"
             ],
             [
              0.6666666666666666,
              "#ed7953"
             ],
             [
              0.7777777777777778,
              "#fb9f3a"
             ],
             [
              0.8888888888888888,
              "#fdca26"
             ],
             [
              1,
              "#f0f921"
             ]
            ],
            "type": "histogram2d"
           }
          ],
          "histogram2dcontour": [
           {
            "colorbar": {
             "outlinewidth": 0,
             "ticks": ""
            },
            "colorscale": [
             [
              0,
              "#0d0887"
             ],
             [
              0.1111111111111111,
              "#46039f"
             ],
             [
              0.2222222222222222,
              "#7201a8"
             ],
             [
              0.3333333333333333,
              "#9c179e"
             ],
             [
              0.4444444444444444,
              "#bd3786"
             ],
             [
              0.5555555555555556,
              "#d8576b"
             ],
             [
              0.6666666666666666,
              "#ed7953"
             ],
             [
              0.7777777777777778,
              "#fb9f3a"
             ],
             [
              0.8888888888888888,
              "#fdca26"
             ],
             [
              1,
              "#f0f921"
             ]
            ],
            "type": "histogram2dcontour"
           }
          ],
          "mesh3d": [
           {
            "colorbar": {
             "outlinewidth": 0,
             "ticks": ""
            },
            "type": "mesh3d"
           }
          ],
          "parcoords": [
           {
            "line": {
             "colorbar": {
              "outlinewidth": 0,
              "ticks": ""
             }
            },
            "type": "parcoords"
           }
          ],
          "pie": [
           {
            "automargin": true,
            "type": "pie"
           }
          ],
          "scatter": [
           {
            "fillpattern": {
             "fillmode": "overlay",
             "size": 10,
             "solidity": 0.2
            },
            "type": "scatter"
           }
          ],
          "scatter3d": [
           {
            "line": {
             "colorbar": {
              "outlinewidth": 0,
              "ticks": ""
             }
            },
            "marker": {
             "colorbar": {
              "outlinewidth": 0,
              "ticks": ""
             }
            },
            "type": "scatter3d"
           }
          ],
          "scattercarpet": [
           {
            "marker": {
             "colorbar": {
              "outlinewidth": 0,
              "ticks": ""
             }
            },
            "type": "scattercarpet"
           }
          ],
          "scattergeo": [
           {
            "marker": {
             "colorbar": {
              "outlinewidth": 0,
              "ticks": ""
             }
            },
            "type": "scattergeo"
           }
          ],
          "scattergl": [
           {
            "marker": {
             "colorbar": {
              "outlinewidth": 0,
              "ticks": ""
             }
            },
            "type": "scattergl"
           }
          ],
          "scattermapbox": [
           {
            "marker": {
             "colorbar": {
              "outlinewidth": 0,
              "ticks": ""
             }
            },
            "type": "scattermapbox"
           }
          ],
          "scatterpolar": [
           {
            "marker": {
             "colorbar": {
              "outlinewidth": 0,
              "ticks": ""
             }
            },
            "type": "scatterpolar"
           }
          ],
          "scatterpolargl": [
           {
            "marker": {
             "colorbar": {
              "outlinewidth": 0,
              "ticks": ""
             }
            },
            "type": "scatterpolargl"
           }
          ],
          "scatterternary": [
           {
            "marker": {
             "colorbar": {
              "outlinewidth": 0,
              "ticks": ""
             }
            },
            "type": "scatterternary"
           }
          ],
          "surface": [
           {
            "colorbar": {
             "outlinewidth": 0,
             "ticks": ""
            },
            "colorscale": [
             [
              0,
              "#0d0887"
             ],
             [
              0.1111111111111111,
              "#46039f"
             ],
             [
              0.2222222222222222,
              "#7201a8"
             ],
             [
              0.3333333333333333,
              "#9c179e"
             ],
             [
              0.4444444444444444,
              "#bd3786"
             ],
             [
              0.5555555555555556,
              "#d8576b"
             ],
             [
              0.6666666666666666,
              "#ed7953"
             ],
             [
              0.7777777777777778,
              "#fb9f3a"
             ],
             [
              0.8888888888888888,
              "#fdca26"
             ],
             [
              1,
              "#f0f921"
             ]
            ],
            "type": "surface"
           }
          ],
          "table": [
           {
            "cells": {
             "fill": {
              "color": "#EBF0F8"
             },
             "line": {
              "color": "white"
             }
            },
            "header": {
             "fill": {
              "color": "#C8D4E3"
             },
             "line": {
              "color": "white"
             }
            },
            "type": "table"
           }
          ]
         },
         "layout": {
          "annotationdefaults": {
           "arrowcolor": "#2a3f5f",
           "arrowhead": 0,
           "arrowwidth": 1
          },
          "autotypenumbers": "strict",
          "coloraxis": {
           "colorbar": {
            "outlinewidth": 0,
            "ticks": ""
           }
          },
          "colorscale": {
           "diverging": [
            [
             0,
             "#8e0152"
            ],
            [
             0.1,
             "#c51b7d"
            ],
            [
             0.2,
             "#de77ae"
            ],
            [
             0.3,
             "#f1b6da"
            ],
            [
             0.4,
             "#fde0ef"
            ],
            [
             0.5,
             "#f7f7f7"
            ],
            [
             0.6,
             "#e6f5d0"
            ],
            [
             0.7,
             "#b8e186"
            ],
            [
             0.8,
             "#7fbc41"
            ],
            [
             0.9,
             "#4d9221"
            ],
            [
             1,
             "#276419"
            ]
           ],
           "sequential": [
            [
             0,
             "#0d0887"
            ],
            [
             0.1111111111111111,
             "#46039f"
            ],
            [
             0.2222222222222222,
             "#7201a8"
            ],
            [
             0.3333333333333333,
             "#9c179e"
            ],
            [
             0.4444444444444444,
             "#bd3786"
            ],
            [
             0.5555555555555556,
             "#d8576b"
            ],
            [
             0.6666666666666666,
             "#ed7953"
            ],
            [
             0.7777777777777778,
             "#fb9f3a"
            ],
            [
             0.8888888888888888,
             "#fdca26"
            ],
            [
             1,
             "#f0f921"
            ]
           ],
           "sequentialminus": [
            [
             0,
             "#0d0887"
            ],
            [
             0.1111111111111111,
             "#46039f"
            ],
            [
             0.2222222222222222,
             "#7201a8"
            ],
            [
             0.3333333333333333,
             "#9c179e"
            ],
            [
             0.4444444444444444,
             "#bd3786"
            ],
            [
             0.5555555555555556,
             "#d8576b"
            ],
            [
             0.6666666666666666,
             "#ed7953"
            ],
            [
             0.7777777777777778,
             "#fb9f3a"
            ],
            [
             0.8888888888888888,
             "#fdca26"
            ],
            [
             1,
             "#f0f921"
            ]
           ]
          },
          "colorway": [
           "#636efa",
           "#EF553B",
           "#00cc96",
           "#ab63fa",
           "#FFA15A",
           "#19d3f3",
           "#FF6692",
           "#B6E880",
           "#FF97FF",
           "#FECB52"
          ],
          "font": {
           "color": "#2a3f5f"
          },
          "geo": {
           "bgcolor": "white",
           "lakecolor": "white",
           "landcolor": "#E5ECF6",
           "showlakes": true,
           "showland": true,
           "subunitcolor": "white"
          },
          "hoverlabel": {
           "align": "left"
          },
          "hovermode": "closest",
          "mapbox": {
           "style": "light"
          },
          "paper_bgcolor": "white",
          "plot_bgcolor": "#E5ECF6",
          "polar": {
           "angularaxis": {
            "gridcolor": "white",
            "linecolor": "white",
            "ticks": ""
           },
           "bgcolor": "#E5ECF6",
           "radialaxis": {
            "gridcolor": "white",
            "linecolor": "white",
            "ticks": ""
           }
          },
          "scene": {
           "xaxis": {
            "backgroundcolor": "#E5ECF6",
            "gridcolor": "white",
            "gridwidth": 2,
            "linecolor": "white",
            "showbackground": true,
            "ticks": "",
            "zerolinecolor": "white"
           },
           "yaxis": {
            "backgroundcolor": "#E5ECF6",
            "gridcolor": "white",
            "gridwidth": 2,
            "linecolor": "white",
            "showbackground": true,
            "ticks": "",
            "zerolinecolor": "white"
           },
           "zaxis": {
            "backgroundcolor": "#E5ECF6",
            "gridcolor": "white",
            "gridwidth": 2,
            "linecolor": "white",
            "showbackground": true,
            "ticks": "",
            "zerolinecolor": "white"
           }
          },
          "shapedefaults": {
           "line": {
            "color": "#2a3f5f"
           }
          },
          "ternary": {
           "aaxis": {
            "gridcolor": "white",
            "linecolor": "white",
            "ticks": ""
           },
           "baxis": {
            "gridcolor": "white",
            "linecolor": "white",
            "ticks": ""
           },
           "bgcolor": "#E5ECF6",
           "caxis": {
            "gridcolor": "white",
            "linecolor": "white",
            "ticks": ""
           }
          },
          "title": {
           "x": 0.05
          },
          "xaxis": {
           "automargin": true,
           "gridcolor": "white",
           "linecolor": "white",
           "ticks": "",
           "title": {
            "standoff": 15
           },
           "zerolinecolor": "white",
           "zerolinewidth": 2
          },
          "yaxis": {
           "automargin": true,
           "gridcolor": "white",
           "linecolor": "white",
           "ticks": "",
           "title": {
            "standoff": 15
           },
           "zerolinecolor": "white",
           "zerolinewidth": 2
          }
         }
        },
        "xaxis": {
         "anchor": "y",
         "domain": [
          0,
          1
         ],
         "range": [
          20,
          41
         ],
         "title": {
          "text": "step"
         }
        },
        "yaxis": {
         "anchor": "x",
         "domain": [
          0,
          1
         ],
         "title": {
          "text": "particle"
         }
        }
       }
      },
      "text/html": [
       "<div>                            <div id=\"2c714dbe-87c0-47b5-bbb9-18d1193ac0a2\" class=\"plotly-graph-div\" style=\"height:525px; width:100%;\"></div>            <script type=\"text/javascript\">                require([\"plotly\"], function(Plotly) {                    window.PLOTLYENV=window.PLOTLYENV || {};                                    if (document.getElementById(\"2c714dbe-87c0-47b5-bbb9-18d1193ac0a2\")) {                    Plotly.newPlot(                        \"2c714dbe-87c0-47b5-bbb9-18d1193ac0a2\",                        [{\"customdata\":[[\"\",0.0,false],[\"\",0.0,false],[\"\",0.0,false],[\"\",0.0,false],[\"\",0.0,false],[\"\",0.0,false],[\"\",0.0,false],[\"\",0.0,false],[\"\",0.0,false],[\"\",0.0,false],[\"\",0.0,false],[\"\",0.0,false],[\"\",-0.06423650998111026,false],[\"\",-0.06423650998111026,false],[\"\",-0.06423650998111026,false],[\"\",-0.06423650998111026,false],[\"\",-0.06423650998111026,false],[\"\",-0.06423650998110997,false],[\"\",-0.06423650998111026,false],[\"\",-0.06423650998111026,false],[\"\",-0.06423650998111026,false],[\"\",-0.06423650998111026,false],[\"\",-0.06423650998111026,false],[\"\",-0.06423650998111026,false],[\" SELECT\",-0.13881743232963722,false],[\" SELECT\",-0.13881743232963722,false],[\" SELECT\",-0.13881743232963722,false],[\" SELECT\",-0.13881743232963722,false],[\" SELECT\",-0.13881743232963722,false],[\" \",-2.464340974385423,false],[\" SELECT\",-0.13881743232963722,false],[\" SELECT\",-0.9295670218515627,false],[\" SELECT\",-0.13881743232963722,false],[\" SELECT\",-0.13881743232963722,false],[\" SELECT\",-0.13881743232963722,false],[\" SELECT\",-0.13881743232963722,false],[\" SELECT state\",-0.1625813233498789,false],[\" SELECT state\",-0.1625813233498789,false],[\" SELECT state\",-0.1625813233498789,false],[\" SELECT state\",-0.1625813233498789,false],[\" SELECT state\",-0.1625813233498789,false],[\"  SELECT\",-2.5437364502950865,false],[\" SELECT state\",-0.1625813233498789,false],[\" SELECT \",-1.8186911935155932,false],[\" SELECT state\",-0.1625813233498789,false],[\" SELECT state\",-0.1625813233498789,false],[\" SELECT state\",-0.1625813233498789,false],[\" SELECT state\",-0.1625813233498789,false],[\" SELECT state_\",-0.16523130627039267,false],[\" SELECT state_\",-0.16523130627039267,false],[\" SELECT state_\",-0.16523130627039267,false],[\" SELECT state_\",-0.16523130627039267,false],[\" SELECT state_\",-0.16523130627039267,false],[\"  SELECT state\",-2.570119615171418,false],[\" SELECT state_\",-0.16523130627039267,false],[\" SELECT  state\",-1.8505265876598784,false],[\" SELECT state_\",-0.16523130627039267,false],[\" SELECT state_\",-0.16523130627039267,false],[\" SELECT state_\",-0.16523130627039267,false],[\" SELECT state_\",-0.16523130627039267,false],[\" SELECT state_color\",-0.16800486683141774,false],[\" SELECT state_color\",-0.16800486683141774,false],[\" SELECT state_color\",-0.16800486683141774,false],[\" SELECT state_color\",-0.16800486683141774,false],[\" SELECT state_color\",-0.16800486683141774,false],[\"  SELECT state_\",-2.5732055989155227,false],[\" SELECT state_color\",-0.16800486683141774,false],[\" SELECT  state_\",-1.8546137093044308,false],[\" SELECT state_color\",-0.16800486683141774,false],[\" SELECT state_color\",-0.16800486683141774,false],[\" SELECT state_color\",-0.16800486683141774,false],[\" SELECT state_color\",-0.16800486683141774,false],[\" SELECT state_color,\",-0.2327039031064409,false],[\" SELECT state_color,\",-0.2327039031064409,false],[\" SELECT state_color,\",-0.00937239861374789,false],[\" SELECT state_color,\",-0.2327039031064409,false],[\" SELECT state_color,\",-0.2327039031064409,false],[\"  SELECT state_color\",-2.577082242441811,false],[\" SELECT state_color,\",-0.2327039031064409,false],[\" SELECT  state_color\",-1.8617712135776239,false],[\" SELECT state_color,\",-0.2327039031064409,false],[\" SELECT state_color,\",-0.2327039031064409,false],[\" SELECT state_color,\",-0.00937239861374789,false],[\" SELECT state_color,\",-0.2327039031064409,false],[\" SELECT state_color, AV\",-0.23298700563421848,false],[\" SELECT state_color, AV\",-0.23298700563421848,false],[\" SELECT state_color, vote\",-0.015706210601005962,false],[\" SELECT state_color, AV\",-0.23298700563421848,false],[\" SELECT state_color, AV\",-0.23298700563421848,false],[\"  SELECT state_color,\",-2.662291710066364,false],[\" SELECT state_color, AV\",-0.23298700563421848,false],[\" SELECT  state_color,\",-1.9763824670176813,false],[\" SELECT state_color, AV\",-0.23298700563421848,false],[\" SELECT state_color, AV\",-0.23298700563421848,false],[\" SELECT state_color, vote\",-0.015706210601005962,false],[\" SELECT state_color, AV\",-0.23298700563421848,false],[\" SELECT state_color, AVG\",-0.24912490088814046,false],[\" SELECT state_color, AVG\",-0.24912490088814046,false],[\" SELECT state_color, vote,\",-0.04427832154564515,false],[\" SELECT state_color, AVG\",-0.24912490088814046,false],[\" SELECT state_color, AVG\",-0.24912490088814046,false],[\"  SELECT state_color, AV\",-2.662570937202761,false],[\" SELECT state_color, AVG\",-0.24912490088814046,false],[\" SELECT  state_color, AV\",-1.9770262255353779,false],[\" SELECT state_color, AVG\",-0.24912490088814046,false],[\" SELECT state_color, AVG\",-0.24912490088814046,false],[\" SELECT state_color, vote,\",-0.04427832154564515,false],[\" SELECT state_color, AVG\",-0.24912490088814046,false],[\" SELECT state_color, AVG(\",-0.27934526602176357,false],[\" SELECT state_color, AVG(\",-0.27934526602176357,false],[\" SELECT state_color, vote, AV\",-0.04460649895945082,false],[\" SELECT state_color, AVG(\",-0.28028068912601856,false],[\" SELECT state_color, AVG(\",-0.4635757013085089,false],[\"  SELECT state_color, AVG\",-2.689274954155267,false],[\" SELECT state_color, AVG(\",-0.27934526602176357,false],[\" SELECT  state_color, AVG\",-2.0263608982026957,false],[\" SELECT state_color, AVG(\",-0.27934526602176357,false],[\" SELECT state_color, AVG(\",-0.27934526602176357,false],[\" SELECT state_color, vote, AV\",-0.04460649895945082,false],[\" SELECT state_color, AVG(\",-0.27934526602176357,false],[\" SELECT state_color, AVG(age\",-0.28440212092267136,false],[\" SELECT state_color, AVG(age\",-0.28440212092267136,false],[\" SELECT state_color, vote, AVG\",-0.05757762006086329,false],[\" SELECT state_color, AVG(vote\",-0.3867324769658002,false],[\" SELECT state_color, AVG( age\",-0.473621918325108,false],[\"  SELECT state_color, AVG(\",-2.7210320243122426,false],[\" SELECT state_color, AVG(age\",-0.28440212092267136,false],[\" SELECT  state_color, AVG(\",-2.224848462403134,false],[\" SELECT state_color, AVG(age\",-0.28440212092267136,false],[\" SELECT state_color, AVG(age\",-0.28440212092267136,false],[\" SELECT state_color, vote, AVG\",-0.05757762006086329,false],[\" SELECT state_color, AVG(age\",-0.28440212092267136,false],[\" SELECT state_color, AVG(age)\",-0.7208645195222263,false],[\" SELECT state_color, AVG(age)\",-0.7208645195222263,false],[\" SELECT state_color, vote, AVG(\",-0.06629290515509179,false],[\" SELECT state_color, AVG(vote)\",-0.9827915018030127,false],[\" SELECT state_color, AVG( age )\",-1.1402611473388644,false],[\"  SELECT state_color, AVG(age\",-2.726660857805541,false],[\" SELECT state_color, AVG(age)\",-0.7208645195222263,false],[\" SELECT  state_color, AVG( age\",-2.2343872246628385,false],[\" SELECT state_color, AVG(age)\",-0.7208645195222263,false],[\" SELECT state_color, AVG(age)\",-0.7208645195222263,false],[\" SELECT state_color, vote, AVG(\",-0.06629290515509179,false],[\" SELECT state_color, AVG(age)\",-0.7208645195222263,false],[\" SELECT state_color, AVG(age) FROM\",-0.7411937765024813,false],[\" SELECT state_color, AVG(age) FROM\",-0.7411937765024813,false],[\" SELECT state_color, vote, AVG(age\",-0.06791383640914175,false],[\" SELECT state_color, AVG(vote) FROM\",-1.001912020434208,false],[\" SELECT state_color, AVG( age ) FROM\",-1.1730541969645174,false],[\"  SELECT state_color, AVG(age)\",-3.250135569328193,false],[\" SELECT state_color, AVG(age) FROM\",-0.7411937765024813,false],[\" SELECT  state_color, AVG( age )\",-3.077634234084507,false],[\" SELECT state_color, AVG(age) FROM\",-0.7411937765024813,false],[\" SELECT state_color, AVG(age) FROM\",-0.7411937765024813,false],[\" SELECT state_color, vote, AVG(age\",-0.06791383640914175,false],[\" SELECT state_color, AVG(age) FROM\",-0.7411937765024813,false],[\" SELECT state_color, AVG(age) FROM data\",-0.7797052639353024,false],[\" SELECT state_color, AVG(age) FROM data\",-0.7797052639353024,false],[\" SELECT state_color, vote, AVG(age)\",-0.5221990587580139,false],[\" SELECT state_color, AVG(vote) FROM data\",-1.0009368965954109,false],[\" SELECT state_color, AVG( age ) FROM data\",-1.2106672193049615,false],[\"  SELECT state_color, AVG(age) FROM\",-3.2920404307796542,false],[\" SELECT state_color, AVG(age) FROM data\",-0.7797052639353024,false],[\" SELECT  state_color, AVG( age ) FROM\",-3.114745234343204,false],[\" SELECT state_color, AVG(age) FROM data\",-0.7797052639353024,false],[\" SELECT state_color, AVG(age) FROM data\",-0.7797052639353024,false],[\" SELECT state_color, vote, AVG(age)\",-0.5221990587580139,false],[\" SELECT state_color, AVG(age) FROM data\",-0.7797052639353024,false],[\" SELECT state_color, AVG(age) FROM data WHERE\",-0.8027609508003747,false],[\" SELECT state_color, AVG(age) FROM data WHERE\",-0.8027609508003747,false],[\" SELECT state_color, vote, AVG(age) FROM\",-0.5308457544006819,false],[\" SELECT state_color, AVG(vote) FROM data GROUP\",-1.0052745687902167,false],[\" SELECT state_color, AVG( age ) FROM data WHERE\",-1.2291197043819193,false],[\"  SELECT state_color, AVG(age) FROM data\",-3.361163263853064,false],[\" SELECT state_color, AVG(age) FROM data WHERE\",-0.8027609508003747,false],[\" SELECT  state_color, AVG( age ) FROM data\",-3.2091482213115525,false],[\" SELECT state_color, AVG(age) FROM data WHERE\",-0.8027609508003747,false],[\" SELECT state_color, AVG(age) FROM data WHERE\",-0.8027609508003747,false],[\" SELECT state_color, vote, AVG(age) FROM\",-0.5308457544006819,false],[\" SELECT state_color, AVG(age) FROM data WHERE\",-0.7886773570333001,false],[\" SELECT state_color, AVG(age) FROM data WHERE race\",-0.8202330375267218,false],[\" SELECT state_color, AVG(age) FROM data WHERE race\",-0.8202330375267218,false],[\" SELECT state_color, vote, AVG(age) FROM data\",-0.5116800381210351,false],[\" SELECT state_color, AVG(vote) FROM data GROUP BY\",-1.0109344931269217,false],[\" SELECT state_color, AVG( age ) FROM data WHERE race\",-1.2444079209782435,false],[\"  SELECT state_color, AVG(age) FROM data WHERE\",-3.390641936695356,false],[\" SELECT state_color, AVG(age) FROM data WHERE race\",-0.8202330375267218,false],[\" SELECT  state_color, AVG( age ) FROM data WHERE\",-3.219179637266679,false],[\" SELECT state_color, AVG(age) FROM data WHERE race\",-0.8202330375267218,false],[\" SELECT state_color, AVG(age) FROM data WHERE race\",-0.8202330375267218,false],[\" SELECT state_color, vote, AVG(age) FROM data\",-0.5116800381210351,false],[\" SELECT state_color, AVG(age) FROM data WHERE vote\",-0.9733190668331188,false],[\" SELECT state_color, AVG(age) FROM data WHERE race_\",-0.825854048414291,false],[\" SELECT state_color, AVG(age) FROM data WHERE race_\",-0.825854048414291,false],[\" SELECT state_color, vote, AVG(age) FROM data GROUP\",-0.516594233150886,false],[\" SELECT state_color, AVG(vote) FROM data GROUP BY state\",-1.0131544269572728,false],[\" SELECT state_color, AVG( age ) FROM data WHERE race_\",-1.2510571028704713,false],[\"  SELECT state_color, AVG(age) FROM data WHERE race\",-3.4106933740006355,false],[\" SELECT state_color, AVG(age) FROM data WHERE race_\",-0.825854048414291,false],[\" SELECT  state_color, AVG( age ) FROM data WHERE race\",-3.239591997311892,false],[\" SELECT state_color, AVG(age) FROM data WHERE race_\",-0.825854048414291,false],[\" SELECT state_color, AVG(age) FROM data WHERE race_\",-0.825854048414291,false],[\" SELECT state_color, vote, AVG(age) FROM data GROUP\",-0.516594233150886,false],[\" SELECT state_color, AVG(age) FROM data WHERE vote =\",-1.356707042546489,false],[\" SELECT state_color, AVG(age) FROM data WHERE race_eth\",-0.8434738325328712,false],[\" SELECT state_color, AVG(age) FROM data WHERE race_eth\",-0.8434738325328712,false],[\" SELECT state_color, vote, AVG(age) FROM data GROUP BY\",-0.5203140938738017,false],[\" SELECT state_color, AVG(vote) FROM data GROUP BY state_\",-1.0142566341234105,false],[\" SELECT state_color, AVG( age ) FROM data WHERE race_eth\",-1.266295476802626,false],[\"  SELECT state_color, AVG(age) FROM data WHERE race_\",-3.416491385934563,false],[\" SELECT state_color, AVG(age) FROM data WHERE race_eth\",-0.8434738325328712,false],[\" SELECT  state_color, AVG( age ) FROM data WHERE race_\",-3.24844344720833,false],[\" SELECT state_color, AVG(age) FROM data WHERE race_eth\",-0.8434738325328712,false],[\" SELECT state_color, AVG(age) FROM data WHERE race_eth\",-0.8434738325328712,false],[\" SELECT state_color, vote, AVG(age) FROM data GROUP BY\",-0.5203140938738017,false],[\" SELECT state_color, AVG(age) FROM data WHERE vote = '\",-1.4017157559947881,false],[\" SELECT state_color, AVG(age) FROM data WHERE race_ethnic\",-0.8464699004501499,false],[\" SELECT state_color, AVG(age) FROM data WHERE race_ethnic\",-0.8464699004501499,false],[\" SELECT state_color, vote, AVG(age) FROM data GROUP BY state\",-0.5218558830736802,false],[\" SELECT state_color, AVG(vote) FROM data GROUP BY state_color\",-1.1542863853791858,false],[\" SELECT state_color, AVG( age ) FROM data WHERE race_ethnic\",-1.2705271447781326,false],[\"  SELECT state_color, AVG(age) FROM data WHERE race_eth\",-3.434224622756989,false],[\" SELECT state_color, AVG(age) FROM data WHERE race_ethnic\",-0.8464699004501499,false],[\" SELECT  state_color, AVG( age ) FROM data WHERE race_eth\",-3.2645954742632033,false],[\" SELECT state_color, AVG(age) FROM data WHERE race_ethnic\",-0.8464699004501499,false],[\" SELECT state_color, AVG(age) FROM data WHERE race_ethnic\",-0.8464699004501499,false],[\" SELECT state_color, vote, AVG(age) FROM data GROUP BY state\",-0.5218558830736802,false],[\" SELECT state_color, AVG(age) FROM data WHERE vote = 'dem\",-1.4031637156867405,false],[\" SELECT state_color, AVG(age) FROM data WHERE race_ethnicity\",-1.0164675267989707,false],[\" SELECT state_color, AVG(age) FROM data WHERE race_ethnicity\",-1.0164675267989707,false],[\" SELECT state_color, vote, AVG(age) FROM data GROUP BY state_\",-0.5224324537804097,false],[\" SELECT state_color, AVG(vote) FROM data GROUP BY state_color \",-7.058143280444078,false],[\" SELECT state_color, AVG( age ) FROM data WHERE race_ethnicity\",-1.3599868532290758,false],[\"  SELECT state_color, AVG(age) FROM data WHERE race_ethnic\",-3.4403644819080736,false],[\" SELECT state_color, AVG(age) FROM data WHERE race_ethnicity\",-1.0164675267989707,false],[\" SELECT  state_color, AVG( age ) FROM data WHERE race_ethnic\",-3.2688269751185692,false],[\" SELECT state_color, AVG(age) FROM data WHERE race_ethnicity\",-0.9973909722464701,false],[\" SELECT state_color, AVG(age) FROM data WHERE race_ethnicity\",-0.9973909722464701,false],[\" SELECT state_color, vote, AVG(age) FROM data GROUP BY state_\",-0.5224324537804097,false],[\" SELECT state_color, AVG(age) FROM data WHERE vote = 'democrat\",-1.412140169744217,false],[\" SELECT state_color, AVG(age) FROM data WHERE race_ethnicity =\",-1.4389200866341274,false],[\" SELECT state_color, AVG(age) FROM data WHERE race_ethnicity =\",-1.4389200866341274,false],[\" SELECT state_color, vote, AVG(age) FROM data GROUP BY state_color\",-0.5660375064959887,false],[\" SELECT state_color, AVG(vote) FROM data GROUP BY state_color  ORDER\",-7.062294652422782,false],[\" SELECT state_color, AVG( age ) FROM data WHERE race_ethnicity =\",-1.7052860926518683,false],[\"  SELECT state_color, AVG(age) FROM data WHERE race_ethnicity\",-3.60166838833212,false],[\" SELECT state_color, AVG(age) FROM data WHERE race_ethnicity =\",-1.4389200866341274,false],[\" SELECT  state_color, AVG( age ) FROM data WHERE race_ethnicity\",-3.3639873949664856,false],[\" SELECT state_color, AVG(age) FROM data WHERE race_ethnicity='\",-1.0129575552558232,false],[\" SELECT state_color, AVG(age) FROM data WHERE race_ethnicity='\",-1.0129575552558232,false],[\" SELECT state_color, vote, AVG(age) FROM data GROUP BY state_color\",-0.5660375064959887,false],[\" SELECT state_color, AVG(age) FROM data WHERE vote = 'democrat'\",-3.9634845696968473,false],[\" SELECT state_color, AVG(age) FROM data WHERE race_ethnicity = '\",-1.458856349894649,false],[\" SELECT state_color, AVG(age) FROM data WHERE race_ethnicity = '\",-1.458856349894649,false],[\" SELECT state_color, vote, AVG(age) FROM data GROUP BY state_color,\",-0.5985562815106478,false],[\" SELECT state_color, AVG(vote) FROM data GROUP BY state_color  ORDER BY\",-7.794756358989545,false],[\" SELECT state_color, AVG( age ) FROM data WHERE race_ethnicity = '\",-1.7341422699959337,false],[\"  SELECT state_color, AVG(age) FROM data WHERE race_ethnicity =\",-3.9945955824225265,false],[\" SELECT state_color, AVG(age) FROM data WHERE race_ethnicity = '\",-1.458856349894649,false],[\" SELECT  state_color, AVG( age ) FROM data WHERE race_ethnicity =\",-3.702049875793614,false],[\" SELECT state_color, AVG(age) FROM data WHERE race_ethnicity='white\",-1.019565773974233,false],[\" SELECT state_color, AVG(age) FROM data WHERE race_ethnicity='white\",-1.019565773974233,false],[\" SELECT state_color, vote, AVG(age) FROM data GROUP BY state_color,\",-0.5985562815106478,false],[\" SELECT state_color, AVG(age) FROM data WHERE vote = 'democrat' GROUP\",-3.9678834202496582,false],[\" SELECT state_color, AVG(age) FROM data WHERE race_ethnicity = 'white\",-1.466358185232746,true],[\" SELECT state_color, AVG(age) FROM data WHERE race_ethnicity = 'white\",-1.466358185232746,true],[\" SELECT state_color, vote, AVG(age) FROM data GROUP BY state_color, vote\",-1.8384206661164184,true],[\" SELECT state_color, AVG(vote) FROM data GROUP BY state_color  ORDER BY state\",-7.796203891679066,true],[\" SELECT state_color, AVG( age ) FROM data WHERE race_ethnicity = 'white\",-1.7410373290345853,true],[\"  SELECT state_color, AVG(age) FROM data WHERE race_ethnicity = '\",-4.017185698230834,true],[\" SELECT state_color, AVG(age) FROM data WHERE race_ethnicity = 'white\",-1.466358185232746,true],[\" SELECT  state_color, AVG( age ) FROM data WHERE race_ethnicity = '\",-3.741060190825044,true],[\" SELECT state_color, AVG(age) FROM data WHERE race_ethnicity='white'\",2.560402408683238,true],[\" SELECT state_color, AVG(age) FROM data WHERE race_ethnicity='white'\",-1.1092553930042857,true],[\" SELECT state_color, vote, AVG(age) FROM data GROUP BY state_color, vote\",-1.8384206661164184,true],[\" SELECT state_color, AVG(age) FROM data WHERE vote = 'democrat' GROUP BY\",-3.9712762500073158,true],[\" SELECT state_color, AVG(age) FROM data WHERE race_ethnicity='white' \",-1.1436064166855813,false],[\" SELECT state_color, AVG( age ) FROM data WHERE race_ethnicity = 'white'\",0.13727573602346982,false],[\" SELECT state_color, AVG(age) FROM data WHERE race_ethnicity='white' \",-1.1436064166855813,false],[\" SELECT state_color, AVG(age) FROM data WHERE race_ethnicity='white' \",-1.1436064166855813,false],[\" SELECT state_color, AVG(age) FROM data WHERE race_ethnicity='white' \",-1.1436064166855813,false],[\" SELECT state_color, AVG(age) FROM data WHERE race_ethnicity='white' \",-1.1436064166855813,false],[\" SELECT state_color, AVG(age) FROM data WHERE race_ethnicity='white' \",-1.1436064166855813,false],[\" SELECT state_color, AVG(age) FROM data WHERE race_ethnicity='white' \",-1.1436064166855813,false],[\" SELECT state_color, AVG(age) FROM data WHERE race_ethnicity='white' \",-1.1436064166855813,false],[\" SELECT state_color, AVG(age) FROM data WHERE race_ethnicity='white' \",-1.1436064166855813,false],[\" SELECT state_color, AVG(age) FROM data WHERE race_ethnicity='white' \",-1.1436064166855813,false],[\" SELECT state_color, AVG(age) FROM data WHERE race_ethnicity='white' \",-1.1436064166855813,false],[\" SELECT state_color, AVG(age) FROM data WHERE race_ethnicity='white'  GROUP\",-1.1523841072734777,false],[\" SELECT state_color, AVG( age ) FROM data WHERE race_ethnicity = 'white' GROUP\",0.1314981848085647,false],[\" SELECT state_color, AVG(age) FROM data WHERE race_ethnicity='white'  GROUP\",-1.1523841072734777,false],[\" SELECT state_color, AVG(age) FROM data WHERE race_ethnicity='white'  GROUP\",-1.1523841072734777,false],[\" SELECT state_color, AVG(age) FROM data WHERE race_ethnicity='white'  GROUP\",-1.1523841072734777,false],[\" SELECT state_color, AVG(age) FROM data WHERE race_ethnicity='white'  GROUP\",-1.1523841072734777,false],[\" SELECT state_color, AVG(age) FROM data WHERE race_ethnicity='white'  GROUP\",-1.1523841072734777,false],[\" SELECT state_color, AVG(age) FROM data WHERE race_ethnicity='white'  GROUP\",-1.1523841072734777,false],[\" SELECT state_color, AVG(age) FROM data WHERE race_ethnicity='white'  GROUP\",-1.1523841072734777,false],[\" SELECT state_color, AVG(age) FROM data WHERE race_ethnicity='white'  GROUP\",-1.1523841072734777,false],[\" SELECT state_color, AVG(age) FROM data WHERE race_ethnicity='white'  GROUP\",-1.1523841072734777,false],[\" SELECT state_color, AVG(age) FROM data WHERE race_ethnicity='white'  GROUP\",-1.1523841072734777,false],[\" SELECT state_color, AVG(age) FROM data WHERE race_ethnicity='white'  GROUP BY\",-1.1568155893845207,false],[\" SELECT state_color, AVG( age ) FROM data WHERE race_ethnicity = 'white' GROUP BY\",0.12788854344986714,false],[\" SELECT state_color, AVG(age) FROM data WHERE race_ethnicity='white'  GROUP BY\",-1.1568155893845207,false],[\" SELECT state_color, AVG(age) FROM data WHERE race_ethnicity='white'  GROUP BY\",-1.1568155893845207,false],[\" SELECT state_color, AVG(age) FROM data WHERE race_ethnicity='white'  GROUP BY\",-1.1568155893845207,false],[\" SELECT state_color, AVG(age) FROM data WHERE race_ethnicity='white'  GROUP BY\",-1.1568155893845207,false],[\" SELECT state_color, AVG(age) FROM data WHERE race_ethnicity='white'  GROUP BY\",-1.1568155893845207,false],[\" SELECT state_color, AVG(age) FROM data WHERE race_ethnicity='white'  GROUP BY\",-1.1568155893845207,false],[\" SELECT state_color, AVG(age) FROM data WHERE race_ethnicity='white'  GROUP BY\",-1.1568155893845207,false],[\" SELECT state_color, AVG(age) FROM data WHERE race_ethnicity='white'  GROUP BY\",-1.1568155893845207,false],[\" SELECT state_color, AVG(age) FROM data WHERE race_ethnicity='white'  GROUP BY\",-1.1568155893845207,false],[\" SELECT state_color, AVG(age) FROM data WHERE race_ethnicity='white'  GROUP BY\",-1.1568155893845207,false],[\" SELECT state_color, AVG(age) FROM data WHERE race_ethnicity='white'  GROUP BY state\",-1.160369565740601,false],[\" SELECT state_color, AVG( age ) FROM data WHERE race_ethnicity = 'white' GROUP BY state\",0.1249868963535662,false],[\" SELECT state_color, AVG(age) FROM data WHERE race_ethnicity='white'  GROUP BY state\",-1.160369565740601,false],[\" SELECT state_color, AVG(age) FROM data WHERE race_ethnicity='white'  GROUP BY state\",-1.160369565740601,false],[\" SELECT state_color, AVG(age) FROM data WHERE race_ethnicity='white'  GROUP BY state\",-1.160369565740601,false],[\" SELECT state_color, AVG(age) FROM data WHERE race_ethnicity='white'  GROUP BY state\",-1.160369565740601,false],[\" SELECT state_color, AVG(age) FROM data WHERE race_ethnicity='white'  GROUP BY state\",-1.160369565740601,false],[\" SELECT state_color, AVG(age) FROM data WHERE race_ethnicity='white'  GROUP BY state\",-1.160369565740601,false],[\" SELECT state_color, AVG(age) FROM data WHERE race_ethnicity='white'  GROUP BY state\",-1.160369565740601,false],[\" SELECT state_color, AVG(age) FROM data WHERE race_ethnicity='white'  GROUP BY state\",-1.160369565740601,false],[\" SELECT state_color, AVG(age) FROM data WHERE race_ethnicity='white'  GROUP BY state\",-1.160369565740601,false],[\" SELECT state_color, AVG(age) FROM data WHERE race_ethnicity='white'  GROUP BY state\",-1.160369565740601,false],[\" SELECT state_color, AVG(age) FROM data WHERE race_ethnicity='white'  GROUP BY state_\",-1.1618726759484577,false],[\" SELECT state_color, AVG( age ) FROM data WHERE race_ethnicity = 'white' GROUP BY state_\",0.12358248376708514,false],[\" SELECT state_color, AVG(age) FROM data WHERE race_ethnicity='white'  GROUP BY state_\",-1.1618726759484577,false],[\" SELECT state_color, AVG(age) FROM data WHERE race_ethnicity='white'  GROUP BY state_\",-1.1618726759484577,false],[\" SELECT state_color, AVG(age) FROM data WHERE race_ethnicity='white'  GROUP BY state_\",-1.1618726759484577,false],[\" SELECT state_color, AVG(age) FROM data WHERE race_ethnicity='white'  GROUP BY state_\",-1.1618726759484577,false],[\" SELECT state_color, AVG(age) FROM data WHERE race_ethnicity='white'  GROUP BY state_\",-1.1618726759484577,false],[\" SELECT state_color, AVG(age) FROM data WHERE race_ethnicity='white'  GROUP BY state_\",-1.1618726759484577,false],[\" SELECT state_color, AVG(age) FROM data WHERE race_ethnicity='white'  GROUP BY state_\",-1.1618726759484577,false],[\" SELECT state_color, AVG(age) FROM data WHERE race_ethnicity='white'  GROUP BY state_\",-1.1618726759484577,false],[\" SELECT state_color, AVG(age) FROM data WHERE race_ethnicity='white'  GROUP BY state_\",-1.1618726759484577,false],[\" SELECT state_color, AVG(age) FROM data WHERE race_ethnicity='white'  GROUP BY state_\",-1.1618726759484577,false],[\" SELECT state_color, AVG(age) FROM data WHERE race_ethnicity='white'  GROUP BY state_color\",-2.1050917172067543,false],[\" SELECT state_color, AVG( age ) FROM data WHERE race_ethnicity = 'white' GROUP BY state_color\",-0.7630702195332567,false],[\" SELECT state_color, AVG(age) FROM data WHERE race_ethnicity='white'  GROUP BY state_color\",-2.1050917172067543,false],[\" SELECT state_color, AVG(age) FROM data WHERE race_ethnicity='white'  GROUP BY state_color\",-2.1050917172067543,false],[\" SELECT state_color, AVG(age) FROM data WHERE race_ethnicity='white'  GROUP BY state_color\",-1.8779415556334054,false],[\" SELECT state_color, AVG(age) FROM data WHERE race_ethnicity='white'  GROUP BY state_color\",-1.8779415556334054,false],[\" SELECT state_color, AVG(age) FROM data WHERE race_ethnicity='white'  GROUP BY state_color\",-2.1050917172067543,false],[\" SELECT state_color, AVG(age) FROM data WHERE race_ethnicity='white'  GROUP BY state_color\",-1.8779415556334056,false],[\" SELECT state_color, AVG(age) FROM data WHERE race_ethnicity='white'  GROUP BY state_color\",-2.1050917172067543,false],[\" SELECT state_color, AVG(age) FROM data WHERE race_ethnicity='white'  GROUP BY state_color\",-1.8779415556334056,false],[\" SELECT state_color, AVG(age) FROM data WHERE race_ethnicity='white'  GROUP BY state_color\",-1.8779415556334056,false],[\" SELECT state_color, AVG(age) FROM data WHERE race_ethnicity='white'  GROUP BY state_color\",-1.8779415556334054,false],[\" SELECT state_color, AVG(age) FROM data WHERE race_ethnicity='white'  GROUP BY state_color \",-5.367302090749735,true],[\" SELECT state_color, AVG( age ) FROM data WHERE race_ethnicity = 'white' GROUP BY state_color \",-5.367298350004282,true],[\" SELECT state_color, AVG(age) FROM data WHERE race_ethnicity='white'  GROUP BY state_color  \",-6.723885653114229,true],[\" SELECT state_color, AVG(age) FROM data WHERE race_ethnicity='white'  GROUP BY state_color \",-5.367302090749735,true],[\" SELECT state_color, AVG(age) FROM data WHERE race_ethnicity='white'  GROUP BY state_color \",-5.140151929176387,true],[\" SELECT state_color, AVG(age) FROM data WHERE race_ethnicity='white'  GROUP BY state_color \",-5.140151929176387,true],[\" SELECT state_color, AVG(age) FROM data WHERE race_ethnicity='white'  GROUP BY state_color \",-5.367302090749735,true],[\" SELECT state_color, AVG(age) FROM data WHERE race_ethnicity='white'  GROUP BY state_color ORDER\",-1.8839724904720065,true],[\" SELECT state_color, AVG(age) FROM data WHERE race_ethnicity='white'  GROUP BY state_color \",-5.367302090749735,true],[\" SELECT state_color, AVG(age) FROM data WHERE race_ethnicity='white'  GROUP BY state_color ORDER\",-1.8839724904720065,true],[\" SELECT state_color, AVG(age) FROM data WHERE race_ethnicity='white'  GROUP BY state_color ORDER\",-1.8839724904720065,true],[\" SELECT state_color, AVG(age) FROM data WHERE race_ethnicity='white'  GROUP BY state_color \",-5.140151929176387,true],[\" SELECT state_color, AVG(age) FROM data WHERE race_ethnicity='white'  GROUP BY state_color ORDER BY\",-3.681156853983823,false],[\" SELECT state_color, AVG(age) FROM data WHERE race_ethnicity='white'  GROUP BY state_color ORDER BY\",-3.681156853983823,false],[\" SELECT state_color, AVG(age) FROM data WHERE race_ethnicity='white'  GROUP BY state_color ORDER BY\",-3.681156853983823,false],[\" SELECT state_color, AVG(age) FROM data WHERE race_ethnicity='white'  GROUP BY state_color ORDER BY\",-3.681156853983823,false],[\" SELECT state_color, AVG(age) FROM data WHERE race_ethnicity='white'  GROUP BY state_color ORDER BY\",-3.681156853983823,false],[\" SELECT state_color, AVG(age) FROM data WHERE race_ethnicity='white'  GROUP BY state_color ORDER BY\",-3.681156853983823,false],[\" SELECT state_color, AVG(age) FROM data WHERE race_ethnicity='white'  GROUP BY state_color ORDER BY\",-3.681156853983823,false],[\" SELECT state_color, AVG(age) FROM data WHERE race_ethnicity='white'  GROUP BY state_color ORDER BY\",-3.681156853983823,false],[\" SELECT state_color, AVG(age) FROM data WHERE race_ethnicity='white'  GROUP BY state_color  ORDER\",-3.185875901657719,false],[\" SELECT state_color, AVG(age) FROM data WHERE race_ethnicity='white'  GROUP BY state_color ORDER BY\",-3.681156853983823,false],[\" SELECT state_color, AVG(age) FROM data WHERE race_ethnicity='white'  GROUP BY state_color ORDER BY\",-3.681156853983823,false],[\" SELECT state_color, AVG(age) FROM data WHERE race_ethnicity='white'  GROUP BY state_color  ORDER\",-3.185875901657719,false],[\" SELECT state_color, AVG(age) FROM data WHERE race_ethnicity='white'  GROUP BY state_color ORDER BY state\",-3.683078803773437,false],[\" SELECT state_color, AVG(age) FROM data WHERE race_ethnicity='white'  GROUP BY state_color ORDER BY state\",-3.683078803773437,false],[\" SELECT state_color, AVG(age) FROM data WHERE race_ethnicity='white'  GROUP BY state_color ORDER BY state\",-3.683078803773437,false],[\" SELECT state_color, AVG(age) FROM data WHERE race_ethnicity='white'  GROUP BY state_color ORDER BY state\",-3.683078803773437,false],[\" SELECT state_color, AVG(age) FROM data WHERE race_ethnicity='white'  GROUP BY state_color ORDER BY state\",-3.683078803773437,false],[\" SELECT state_color, AVG(age) FROM data WHERE race_ethnicity='white'  GROUP BY state_color ORDER BY state\",-3.683078803773437,false],[\" SELECT state_color, AVG(age) FROM data WHERE race_ethnicity='white'  GROUP BY state_color ORDER BY state\",-3.683078803773437,false],[\" SELECT state_color, AVG(age) FROM data WHERE race_ethnicity='white'  GROUP BY state_color ORDER BY state\",-3.683078803773437,false],[\" SELECT state_color, AVG(age) FROM data WHERE race_ethnicity='white'  GROUP BY state_color  ORDER BY\",-3.661374901790666,false],[\" SELECT state_color, AVG(age) FROM data WHERE race_ethnicity='white'  GROUP BY state_color ORDER BY state\",-3.683078803773437,false],[\" SELECT state_color, AVG(age) FROM data WHERE race_ethnicity='white'  GROUP BY state_color ORDER BY state\",-3.683078803773437,false],[\" SELECT state_color, AVG(age) FROM data WHERE race_ethnicity='white'  GROUP BY state_color  ORDER BY\",-3.661374901790666,false],[\" SELECT state_color, AVG(age) FROM data WHERE race_ethnicity='white'  GROUP BY state_color ORDER BY state_\",-3.6843796095130266,false],[\" SELECT state_color, AVG(age) FROM data WHERE race_ethnicity='white'  GROUP BY state_color ORDER BY state_\",-3.6843796095130266,false],[\" SELECT state_color, AVG(age) FROM data WHERE race_ethnicity='white'  GROUP BY state_color ORDER BY state_\",-3.6843796095130266,false],[\" SELECT state_color, AVG(age) FROM data WHERE race_ethnicity='white'  GROUP BY state_color ORDER BY state_\",-3.6843796095130266,false],[\" SELECT state_color, AVG(age) FROM data WHERE race_ethnicity='white'  GROUP BY state_color ORDER BY state_\",-3.6843796095130266,false],[\" SELECT state_color, AVG(age) FROM data WHERE race_ethnicity='white'  GROUP BY state_color ORDER BY state_\",-3.6843796095130266,false],[\" SELECT state_color, AVG(age) FROM data WHERE race_ethnicity='white'  GROUP BY state_color ORDER BY state_\",-3.6843796095130266,false],[\" SELECT state_color, AVG(age) FROM data WHERE race_ethnicity='white'  GROUP BY state_color ORDER BY state_\",-3.6843796095130266,false],[\" SELECT state_color, AVG(age) FROM data WHERE race_ethnicity='white'  GROUP BY state_color  ORDER BY state\",-3.6637582897121987,false],[\" SELECT state_color, AVG(age) FROM data WHERE race_ethnicity='white'  GROUP BY state_color ORDER BY state_\",-3.6843796095130266,false],[\" SELECT state_color, AVG(age) FROM data WHERE race_ethnicity='white'  GROUP BY state_color ORDER BY state_\",-3.6843796095130266,false],[\" SELECT state_color, AVG(age) FROM data WHERE race_ethnicity='white'  GROUP BY state_color  ORDER BY state\",-3.6637582897121987,false],[\" SELECT state_color, AVG(age) FROM data WHERE race_ethnicity='white'  GROUP BY state_color ORDER BY state_color\",-4.308772067100728,true],[\" SELECT state_color, AVG(age) FROM data WHERE race_ethnicity='white'  GROUP BY state_color ORDER BY state_color\",-4.299828586137416,true],[\" SELECT state_color, AVG(age) FROM data WHERE race_ethnicity='white'  GROUP BY state_color ORDER BY state_color\",-4.299828586137416,true],[\" SELECT state_color, AVG(age) FROM data WHERE race_ethnicity='white'  GROUP BY state_color ORDER BY state_color\",-4.299828586137416,true],[\" SELECT state_color, AVG(age) FROM data WHERE race_ethnicity='white'  GROUP BY state_color ORDER BY state_color\",-4.299828586137416,true],[\" SELECT state_color, AVG(age) FROM data WHERE race_ethnicity='white'  GROUP BY state_color ORDER BY state_color\",-4.299828586137416,true],[\" SELECT state_color, AVG(age) FROM data WHERE race_ethnicity='white'  GROUP BY state_color ORDER BY state_color\",-4.299828586137416,true],[\" SELECT state_color, AVG(age) FROM data WHERE race_ethnicity='white'  GROUP BY state_color ORDER BY state_color\",-4.299828586137416,true],[\" SELECT state_color, AVG(age) FROM data WHERE race_ethnicity='white'  GROUP BY state_color  ORDER BY state_\",-3.6648022073449864,true],[\" SELECT state_color, AVG(age) FROM data WHERE race_ethnicity='white'  GROUP BY state_color ORDER BY state_color\",-4.299828586137416,true],[\" SELECT state_color, AVG(age) FROM data WHERE race_ethnicity='white'  GROUP BY state_color ORDER BY state_color\",-2.262658203851893,true],[\" SELECT state_color, AVG(age) FROM data WHERE race_ethnicity='white'  GROUP BY state_color  ORDER BY state_\",-3.6648022073449864,true],[\" SELECT state_color, AVG(age) FROM data WHERE race_ethnicity='white'  GROUP BY state_color ORDER BY state_color ASC\",-5.230966956346258,false],[\" SELECT state_color, AVG(age) FROM data WHERE race_ethnicity='white'  GROUP BY state_color ORDER BY state_color \",-7.0393763789807995,false],[\" SELECT state_color, AVG(age) FROM data WHERE race_ethnicity='white'  GROUP BY state_color ORDER BY state_color \",-7.039599359926851,false],[\" SELECT state_color, AVG(age) FROM data WHERE race_ethnicity='white'  GROUP BY state_color ORDER BY state_color ASC\",-5.230966956346258,false],[\" SELECT state_color, AVG(age) FROM data WHERE race_ethnicity='white'  GROUP BY state_color ORDER BY state_color \",-7.039599359926851,false],[\" SELECT state_color, AVG(age) FROM data WHERE race_ethnicity='white'  GROUP BY state_color ORDER BY state_color ASC\",-5.230966956346258,false],[\" SELECT state_color, AVG(age) FROM data WHERE race_ethnicity='white'  GROUP BY state_color ORDER BY state_color ASC\",-5.230966956346258,false],[\" SELECT state_color, AVG(age) FROM data WHERE race_ethnicity='white'  GROUP BY state_color ORDER BY state_color \",-7.039599359926851,false],[\" SELECT state_color, AVG(age) FROM data WHERE race_ethnicity='white'  GROUP BY state_color  ORDER BY state_color\",-4.217973006041021,false],[\" SELECT state_color, AVG(age) FROM data WHERE race_ethnicity='white'  GROUP BY state_color ORDER BY state_color,\",-5.876962839678503,false],[\" SELECT state_color, AVG(age) FROM data WHERE race_ethnicity='white'  GROUP BY state_color  ORDER BY state_color\",-4.217973006041021,false],[\" SELECT state_color, AVG(age) FROM data WHERE race_ethnicity='white'  GROUP BY state_color ORDER BY state_color \",-7.039599359926851,false],[\" SELECT state_color, AVG(age) FROM data WHERE race_ethnicity='white'  GROUP BY state_color ORDER BY state_color ASC \",-14.274379114669845,true],[\" SELECT state_color, AVG(age) FROM data WHERE race_ethnicity='white'  GROUP BY state_color ORDER BY state_color  DESC\",-8.483518041185615,true],[\" SELECT state_color, AVG(age) FROM data WHERE race_ethnicity='white'  GROUP BY state_color ORDER BY state_color  ASC\",-8.463718071801871,true],[\" SELECT state_color, AVG(age) FROM data WHERE race_ethnicity='white'  GROUP BY state_color ORDER BY state_color ASC \",-14.274379114669845,true],[\" SELECT state_color, AVG(age) FROM data WHERE race_ethnicity='white'  GROUP BY state_color ORDER BY state_color  ASC\",-8.463718071801871,true],[\" SELECT state_color, AVG(age) FROM data WHERE race_ethnicity='white'  GROUP BY state_color ORDER BY state_color ASC \",-14.274379114669845,true],[\" SELECT state_color, AVG(age) FROM data WHERE race_ethnicity='white'  GROUP BY state_color ORDER BY state_color ASC \",-14.274379114669845,true],[\" SELECT state_color, AVG(age) FROM data WHERE race_ethnicity='white'  GROUP BY state_color ORDER BY state_color  ASC\",-8.463718071801871,true],[\" SELECT state_color, AVG(age) FROM data WHERE race_ethnicity='white'  GROUP BY state_color  ORDER BY state_color \",-6.1978765554043616,true],[\" SELECT state_color, AVG(age) FROM data WHERE race_ethnicity='white'  GROUP BY state_color ORDER BY state_color, age\",-6.514202368032815,true],[\" SELECT state_color, AVG(age) FROM data WHERE race_ethnicity='white'  GROUP BY state_color  ORDER BY state_color ASC\",-5.461809888235475,true],[\" SELECT state_color, AVG(age) FROM data WHERE race_ethnicity='white'  GROUP BY state_color ORDER BY state_color  ASC\",-8.463718071801871,true],[\" SELECT state_color, AVG(age) FROM data WHERE race_ethnicity='white'  GROUP BY state_color  ORDER BY state_color  ASC\",-8.406246151697754,true],[\" SELECT state_color, AVG(age) FROM data WHERE race_ethnicity='white'  GROUP BY state_color  ORDER BY state_color ASC   \",-24.824898649432622,true],[\" SELECT state_color, AVG(age) FROM data WHERE race_ethnicity='white'  GROUP BY state_color ORDER BY state_color  ASC \",-15.968246849071624,true],[\" SELECT state_color, AVG(age) FROM data WHERE race_ethnicity='white'  GROUP BY state_color  ORDER BY state_color  ASC\",-8.406246151697754,true],[\" SELECT state_color, AVG(age) FROM data WHERE race_ethnicity='white'  GROUP BY state_color  ORDER BY state_color ASC   \",-24.824898649432622,true],[\" SELECT state_color, AVG(age) FROM data WHERE race_ethnicity='white'  GROUP BY state_color  ORDER BY state_color ASC   \",-24.824898649432622,true],[\" SELECT state_color, AVG(age) FROM data WHERE race_ethnicity='white'  GROUP BY state_color ORDER BY state_color, age ASC\",-8.48433325332628,true],[\" SELECT state_color, AVG(age) FROM data WHERE race_ethnicity='white'  GROUP BY state_color  ORDER BY state_color ASC   \",-24.824898649432622,true],[\" SELECT state_color, AVG(age) FROM data WHERE race_ethnicity='white'  GROUP BY state_color ORDER BY state_color  ASC \",-15.968246849071624,true],[\" SELECT state_color, AVG(age) FROM data WHERE race_ethnicity='white'  GROUP BY state_color  ORDER BY state_color ASC   \",-24.824898649432622,true],[\" SELECT state_color, AVG(age) FROM data WHERE race_ethnicity='white'  GROUP BY state_color  ORDER BY state_color  ASC\",-8.406246151697754,true],[\" SELECT state_color, AVG(age) FROM data WHERE race_ethnicity='white'  GROUP BY state_color ORDER BY state_color  ASC \",-15.968246849071624,true],[\" SELECT state_color, AVG(age) FROM data WHERE race_ethnicity='white'  GROUP BY state_color ORDER BY state_color, age ASC \",-18.59245300424918,false],[\" SELECT state_color, AVG(age) FROM data WHERE race_ethnicity='white'  GROUP BY state_color ORDER BY state_color, age ASC \",-18.59245300424918,false],[\" SELECT state_color, AVG(age) FROM data WHERE race_ethnicity='white'  GROUP BY state_color  ORDER BY state_color  ASC \",-18.152908783471144,false],[\" SELECT state_color, AVG(age) FROM data WHERE race_ethnicity='white'  GROUP BY state_color  ORDER BY state_color  ASC \",-18.152908783471148,false],[\" SELECT state_color, AVG(age) FROM data WHERE race_ethnicity='white'  GROUP BY state_color ORDER BY state_color, age ASC \",-18.59245300424918,false],[\" SELECT state_color, AVG(age) FROM data WHERE race_ethnicity='white'  GROUP BY state_color  ORDER BY state_color  ASC \",-18.152908783471148,false],[\" SELECT state_color, AVG(age) FROM data WHERE race_ethnicity='white'  GROUP BY state_color  ORDER BY state_color  ASC \",-18.152908783471148,false],[\" SELECT state_color, AVG(age) FROM data WHERE race_ethnicity='white'  GROUP BY state_color  ORDER BY state_color  ASC \",-18.152908783471148,false],[\" SELECT state_color, AVG(age) FROM data WHERE race_ethnicity='white'  GROUP BY state_color  ORDER BY state_color  ASC \",-18.152908783471148,false],[\" SELECT state_color, AVG(age) FROM data WHERE race_ethnicity='white'  GROUP BY state_color ORDER BY state_color, age ASC \",-18.59245300424918,false],[\" SELECT state_color, AVG(age) FROM data WHERE race_ethnicity='white'  GROUP BY state_color  ORDER BY state_color  ASC \",-18.152908783471148,false],[\" SELECT state_color, AVG(age) FROM data WHERE race_ethnicity='white'  GROUP BY state_color ORDER BY state_color, age ASC \",-18.59245300424918,false],[\" SELECT state_color, AVG(age) FROM data WHERE race_ethnicity='white'  GROUP BY state_color ORDER BY state_color, age ASC  \\u003c\",-29.11965085070506,true],[\" SELECT state_color, AVG(age) FROM data WHERE race_ethnicity='white'  GROUP BY state_color ORDER BY state_color, age ASC  \\u003c\",-29.11965085070506,true],[\" SELECT state_color, AVG(age) FROM data WHERE race_ethnicity='white'  GROUP BY state_color  ORDER BY state_color  ASC  \",-26.10803868680101,true],[\" SELECT state_color, AVG(age) FROM data WHERE race_ethnicity='white'  GROUP BY state_color  ORDER BY state_color  ASC  \\u003c\",-28.309033789013974,true],[\" SELECT state_color, AVG(age) FROM data WHERE race_ethnicity='white'  GROUP BY state_color ORDER BY state_color, age ASC  \\u003c\\u002f\",-25.46850833481728,true],[\" SELECT state_color, AVG(age) FROM data WHERE race_ethnicity='white'  GROUP BY state_color  ORDER BY state_color  ASC  \\u003c\",-28.309033789013974,true],[\" SELECT state_color, AVG(age) FROM data WHERE race_ethnicity='white'  GROUP BY state_color  ORDER BY state_color  ASC  \\u003c\",-28.309033789013974,true],[\" SELECT state_color, AVG(age) FROM data WHERE race_ethnicity='white'  GROUP BY state_color  ORDER BY state_color  ASC  \\u003c\",-28.309033789013974,true],[\" SELECT state_color, AVG(age) FROM data WHERE race_ethnicity='white'  GROUP BY state_color  ORDER BY state_color  ASC  \\u003c\",-28.309033789013974,true],[\" SELECT state_color, AVG(age) FROM data WHERE race_ethnicity='white'  GROUP BY state_color ORDER BY state_color, age ASC  \\u003c\",-29.11965085070506,true],[\" SELECT state_color, AVG(age) FROM data WHERE race_ethnicity='white'  GROUP BY state_color  ORDER BY state_color  ASC  \\u003c\",-28.309033789013974,true],[\" SELECT state_color, AVG(age) FROM data WHERE race_ethnicity='white'  GROUP BY state_color ORDER BY state_color, age ASC  \\u003c\",-29.11965085070506,true],[\" SELECT state_color, AVG(age) FROM data WHERE race_ethnicity='white'  GROUP BY state_color  ORDER BY state_color  ASC  \\u003c\\u002f\",-34.70187437828981,false],[\" SELECT state_color, AVG(age) FROM data WHERE race_ethnicity='white'  GROUP BY state_color ORDER BY state_color, age ASC  \\u003c\\u002fs\",-28.75846936168768,false],[\" SELECT state_color, AVG(age) FROM data WHERE race_ethnicity='white'  GROUP BY state_color ORDER BY state_color, age ASC  \\u003c\\u002fs\",-28.75846936168768,false],[\" SELECT state_color, AVG(age) FROM data WHERE race_ethnicity='white'  GROUP BY state_color ORDER BY state_color, age ASC  \\u003c\\u002fs\",-28.75846936168768,false],[\" SELECT state_color, AVG(age) FROM data WHERE race_ethnicity='white'  GROUP BY state_color ORDER BY state_color, age ASC  \\u003c\\u002fs\",-28.75846936168768,false],[\" SELECT state_color, AVG(age) FROM data WHERE race_ethnicity='white'  GROUP BY state_color  ORDER BY state_color  ASC   \\u003c\",-37.32984043363163,false],[\" SELECT state_color, AVG(age) FROM data WHERE race_ethnicity='white'  GROUP BY state_color ORDER BY state_color, age ASC  \\u003c\\u002fs\",-28.75846936168768,false],[\" SELECT state_color, AVG(age) FROM data WHERE race_ethnicity='white'  GROUP BY state_color ORDER BY state_color, age ASC  \\u003c\\u002fs\",-28.75846936168768,false],[\" SELECT state_color, AVG(age) FROM data WHERE race_ethnicity='white'  GROUP BY state_color ORDER BY state_color, age ASC  \\u003c\\u002fs\",-28.75846936168768,false],[\" SELECT state_color, AVG(age) FROM data WHERE race_ethnicity='white'  GROUP BY state_color ORDER BY state_color, age ASC  \\u003c\\u002fs\",-28.75846936168768,false],[\" SELECT state_color, AVG(age) FROM data WHERE race_ethnicity='white'  GROUP BY state_color ORDER BY state_color, age ASC  \\u003c\\u002fs\",-28.75846936168768,false],[\" SELECT state_color, AVG(age) FROM data WHERE race_ethnicity='white'  GROUP BY state_color ORDER BY state_color, age ASC  \\u003c\\u002f\",-34.14548711088275,false],[\" SELECT state_color, AVG(age) FROM data WHERE race_ethnicity='white'  GROUP BY state_color  ORDER BY state_color  ASC  \\u003c\\u002fs\",-35.998981628315335,false],[\" SELECT state_color, AVG(age) FROM data WHERE race_ethnicity='white'  GROUP BY state_color ORDER BY state_color, age ASC  \\u003c\\u002fs\\u003e\",-31.61072027357319,false],[\" SELECT state_color, AVG(age) FROM data WHERE race_ethnicity='white'  GROUP BY state_color ORDER BY state_color, age ASC  \\u003c\\u002fs\\u003e\",-31.61072027357319,false],[\" SELECT state_color, AVG(age) FROM data WHERE race_ethnicity='white'  GROUP BY state_color ORDER BY state_color, age ASC  \\u003c\\u002fs\\u003e\",-31.61072027357319,false],[\" SELECT state_color, AVG(age) FROM data WHERE race_ethnicity='white'  GROUP BY state_color ORDER BY state_color, age ASC  \\u003c\\u002fs\\u003e\",-31.61072027357319,false],[\" SELECT state_color, AVG(age) FROM data WHERE race_ethnicity='white'  GROUP BY state_color  ORDER BY state_color  ASC   \\u003c\\u002f\",-44.337165600537766,false],[\" SELECT state_color, AVG(age) FROM data WHERE race_ethnicity='white'  GROUP BY state_color ORDER BY state_color, age ASC  \\u003c\\u002fs\\u003e\",-31.61072027357319,false],[\" SELECT state_color, AVG(age) FROM data WHERE race_ethnicity='white'  GROUP BY state_color ORDER BY state_color, age ASC  \\u003c\\u002fs\\u003e\",-30.547486139966292,false],[\" SELECT state_color, AVG(age) FROM data WHERE race_ethnicity='white'  GROUP BY state_color ORDER BY state_color, age ASC  \\u003c\\u002fs\\u003e\",-30.547486139966292,false],[\" SELECT state_color, AVG(age) FROM data WHERE race_ethnicity='white'  GROUP BY state_color ORDER BY state_color, age ASC  \\u003c\\u002fs\\u003e\",-30.547486139966292,false],[\" SELECT state_color, AVG(age) FROM data WHERE race_ethnicity='white'  GROUP BY state_color ORDER BY state_color, age ASC  \\u003c\\u002fs\\u003e\",-30.547486139966292,false],[\" SELECT state_color, AVG(age) FROM data WHERE race_ethnicity='white'  GROUP BY state_color ORDER BY state_color, age ASC  \\u003c\\u002fs\",-35.63452469225578,false],[\" SELECT state_color, AVG(age) FROM data WHERE race_ethnicity='white'  GROUP BY state_color  ORDER BY state_color  ASC  \\u003c\\u002fs\\u003e\",-50.4904838581423,true],[\" SELECT state_color, AVG(age) FROM data WHERE race_ethnicity='white'  GROUP BY state_color ORDER BY state_color, age ASC  \\u003c\\u002fs\\u003e \",-36.97420653994669,true],[\" SELECT state_color, AVG(age) FROM data WHERE race_ethnicity='white'  GROUP BY state_color ORDER BY state_color, age ASC  \\u003c\\u002fs\\u003e \",-36.97420653994669,true],[\" SELECT state_color, AVG(age) FROM data WHERE race_ethnicity='white'  GROUP BY state_color ORDER BY state_color, age ASC  \\u003c\\u002fs\\u003e \",-36.97420653994669,true],[\" SELECT state_color, AVG(age) FROM data WHERE race_ethnicity='white'  GROUP BY state_color ORDER BY state_color, age ASC  \\u003c\\u002fs\\u003e \",-36.97420653994669,true],[\" SELECT state_color, AVG(age) FROM data WHERE race_ethnicity='white'  GROUP BY state_color  ORDER BY state_color  ASC   \\u003c\\u002fs\",-45.635035314595896,true],[\" SELECT state_color, AVG(age) FROM data WHERE race_ethnicity='white'  GROUP BY state_color ORDER BY state_color, age ASC  \\u003c\\u002fs\\u003e \",-36.97420653994669,true],[\" SELECT state_color, AVG(age) FROM data WHERE race_ethnicity='white'  GROUP BY state_color ORDER BY state_color, age ASC  \\u003c\\u002fs\\u003e\",-30.547486139966292,true],[\" SELECT state_color, AVG(age) FROM data WHERE race_ethnicity='white'  GROUP BY state_color ORDER BY state_color, age ASC  \\u003c\\u002fs\\u003e\",-30.547486139966292,true],[\" SELECT state_color, AVG(age) FROM data WHERE race_ethnicity='white'  GROUP BY state_color ORDER BY state_color, age ASC  \\u003c\\u002fs\\u003e\",-30.547486139966292,true],[\" SELECT state_color, AVG(age) FROM data WHERE race_ethnicity='white'  GROUP BY state_color ORDER BY state_color, age ASC  \\u003c\\u002fs\\u003e\",-30.547486139966292,true],[\" SELECT state_color, AVG(age) FROM data WHERE race_ethnicity='white'  GROUP BY state_color ORDER BY state_color, age ASC  \\u003c\\u002fs\\u003e\",-38.486775604141286,true]],\"hovertemplate\":\"\\u003cb\\u003e%{hovertext}\\u003c\\u002fb\\u003e\\u003cbr\\u003e\\u003cbr\\u003estep=%{x}\\u003cbr\\u003eparticle=%{y}\\u003cbr\\u003eprop_exp_weight=%{marker.size}\\u003cbr\\u003econtext_string=%{customdata[0]}\\u003cbr\\u003eweight=%{customdata[1]}\\u003cbr\\u003eresample?=%{customdata[2]}\\u003cbr\\u003efloat parent=%{marker.color}\\u003cextra\\u003e\\u003c\\u002fextra\\u003e\",\"hovertext\":[[],[],[],[],[],[],[],[],[],[],[],[],\" SELECT\",\" SELECT\",\" SELECT\",\" SELECT\",\" SELECT\",\" \",\" SELECT\",\" SELECT\",\" SELECT\",\" SELECT\",\" SELECT\",\" SELECT\",\" state\",\" state\",\" state\",\" state\",\" state\",\" SELECT\",\" state\",\" \",\" state\",\" state\",\" state\",\" state\",\"_\",\"_\",\"_\",\"_\",\"_\",\" state\",\"_\",\" state\",\"_\",\"_\",\"_\",\"_\",\"color\",\"color\",\"color\",\"color\",\"color\",\"_\",\"color\",\"_\",\"color\",\"color\",\"color\",\"color\",\",\",\",\",\",\",\",\",\",\",\"color\",\",\",\"color\",\",\",\",\",\",\",\",\",\" AV\",\" AV\",\" vote\",\" AV\",\" AV\",\",\",\" AV\",\",\",\" AV\",\" AV\",\" vote\",\" AV\",\"G\",\"G\",\",\",\"G\",\"G\",\" AV\",\"G\",\" AV\",\"G\",\"G\",\",\",\"G\",\"(\",\"(\",\" AV\",\"(\",\"(\",\"G\",\"(\",\"G\",\"(\",\"(\",\" AV\",\"(\",\"age\",\"age\",\"G\",\"vote\",\" age\",\"(\",\"age\",\"(\",\"age\",\"age\",\"G\",\"age\",\")\",\")\",\"(\",\")\",\" )\",\"age\",\")\",\" age\",\")\",\")\",\"(\",\")\",\" FROM\",\" FROM\",\"age\",\" FROM\",\" FROM\",\")\",\" FROM\",\" )\",\" FROM\",\" FROM\",\"age\",\" FROM\",\" data\",\" data\",\")\",\" data\",\" data\",\" FROM\",\" data\",\" FROM\",\" data\",\" data\",\")\",\" data\",\" WHERE\",\" WHERE\",\" FROM\",\" GROUP\",\" WHERE\",\" data\",\" WHERE\",\" data\",\" WHERE\",\" WHERE\",\" FROM\",\" WHERE\",\" race\",\" race\",\" data\",\" BY\",\" race\",\" WHERE\",\" race\",\" WHERE\",\" race\",\" race\",\" data\",\" vote\",\"_\",\"_\",\" GROUP\",\" state\",\"_\",\" race\",\"_\",\" race\",\"_\",\"_\",\" GROUP\",\" =\",\"eth\",\"eth\",\" BY\",\"_\",\"eth\",\"_\",\"eth\",\"_\",\"eth\",\"eth\",\" BY\",\" '\",\"nic\",\"nic\",\" state\",\"color\",\"nic\",\"eth\",\"nic\",\"eth\",\"nic\",\"nic\",\" state\",\"dem\",\"ity\",\"ity\",\"_\",\" \",\"ity\",\"nic\",\"ity\",\"nic\",\"ity\",\"ity\",\"_\",\"ocrat\",\" =\",\" =\",\"color\",\" ORDER\",\" =\",\"ity\",\" =\",\"ity\",\"='\",\"='\",\"color\",\"'\",\" '\",\" '\",\",\",\" BY\",\" '\",\" =\",\" '\",\" =\",\"white\",\"white\",\",\",\" GROUP\",\"white\",\"white\",\" vote\",\" state\",\"white\",\" '\",\"white\",\" '\",\"'\",\"'\",\" vote\",\" BY\",\"'\",\"'\",\" \",\"_\",\"'\",\"white\",\"'\",\"white\",\" \",\" GROUP\",\" \",\" state\",\" GROUP\",\" GROUP\",\" GROUP\",\" GROUP\",\" GROUP\",\" GROUP\",\" GROUP\",\" GROUP\",\" GROUP\",\" GROUP\",\" GROUP\",\" GROUP\",\" BY\",\" BY\",\" BY\",\" BY\",\" BY\",\" BY\",\" BY\",\" BY\",\" BY\",\" BY\",\" BY\",\" BY\",\" state\",\" state\",\" state\",\" state\",\" state\",\" state\",\" state\",\" state\",\" state\",\" state\",\" state\",\" state\",\"_\",\"_\",\"_\",\"_\",\"_\",\"_\",\"_\",\"_\",\"_\",\"_\",\"_\",\"_\",\"color\",\"color\",\"color\",\"color\",\"color\",\"color\",\"color\",\"color\",\"color\",\"color\",\"color\",\"color\",\" \",\" \",\"  \",\" \",\" \",\" \",\" \",\" ORDER\",\" \",\" ORDER\",\" ORDER\",\" \",\" ORDER\",\" ORDER\",\" ORDER\",\" ORDER\",\" ORDER\",\" ORDER\",\" ORDER\",\" BY\",\" ORDER\",\" BY\",\" BY\",\" ORDER\",\" state\",\" state\",\" state\",\" state\",\" state\",\" state\",\" state\",\" state\",\" BY\",\" state\",\" state\",\" BY\",\"_\",\"_\",\"_\",\"_\",\"_\",\"_\",\"_\",\"_\",\" state\",\"_\",\"_\",\" state\",\"color\",\"color\",\"color\",\"color\",\"color\",\"color\",\"color\",\"color\",\"_\",\"color\",\"color\",\"_\",\",\",\" ASC\",\" \",\" ASC\",\" ASC\",\" ASC\",\" \",\" ASC\",\"color\",\" ASC\",\" \",\"color\",\" \",\" DESC\",\" ASC\",\" \",\" ASC\",\" \",\" \",\" ASC\",\" \",\" age\",\" ASC\",\" ASC\",\" \\u003c\",\" \",\" \",\" \\u003c\",\" \",\" \\u003c\",\" \\u003c\",\" \",\" ASC\",\" ASC\",\"   \",\" \",\" \",\"\\u003c\\u002f\",\" \\u003c\",\" \",\"\\u003c\\u002f\",\"\\u003c\\u002f\",\" \",\"\\u003c\",\" \\u003c\",\"\\u003c\\u002f\",\" \",\" \\u003c\",\" \\u003c\",\" \\u003c\",\" \",\" \\u003c\",\" \\u003c\\u002f\",\" \\u003c\",\" \\u003c\",\" \\u003c\",\" \\u003c\",\" \\u003c\",\" \\u003c\",\" \\u003c\",\"\\u002f\",\"\\u002f\",\" \\u003c\",\"\\u002f\",\"s\",\"\\u002f\",\"\\u002f\",\"\\u002f\",\"\\u002f\",\"\\u002f\",\"\\u002f\",\"\\u002f\",\"s\",\"\\u003e\",\"\\u003e\",\"\\u003e\",\"\\u003e\",\"\\u002f\",\"\\u003e\",\"\\u003e\",\"\\u003e\",\"\\u003e\",\"\\u003e\",\"s\",\"\\u003e\",\" \",\" \",\" \",\" \",\"s\",\" \",\"\\u25aa\",\"\\u25aa\",\"\\u25aa\",\"\\u25aa\",\"\\u003e\",\" \",\"\\u25aa\",\"\\u25aa\",\"\\u25aa\",\"\\u25aa\",\"\\u003e\",\"\\u25aa\",\"\\u25aa\",\"\\u25aa\",\"\\u25aa\",\"\\u25aa\",\" \"],\"legendgroup\":\"\",\"marker\":{\"color\":[0.0,1.0,2.0,3.0,4.0,5.0,6.0,7.0,8.0,9.0,10.0,11.0,0.0,1.0,2.0,3.0,4.0,5.0,6.0,7.0,8.0,9.0,10.0,11.0,0.0,1.0,2.0,3.0,4.0,5.0,6.0,7.0,8.0,9.0,10.0,11.0,0.0,1.0,2.0,3.0,4.0,5.0,6.0,7.0,8.0,9.0,10.0,11.0,0.0,1.0,2.0,3.0,4.0,5.0,6.0,7.0,8.0,9.0,10.0,11.0,0.0,1.0,2.0,3.0,4.0,5.0,6.0,7.0,8.0,9.0,10.0,11.0,0.0,1.0,2.0,3.0,4.0,5.0,6.0,7.0,8.0,9.0,10.0,11.0,0.0,1.0,2.0,3.0,4.0,5.0,6.0,7.0,8.0,9.0,10.0,11.0,0.0,1.0,2.0,3.0,4.0,5.0,6.0,7.0,8.0,9.0,10.0,11.0,0.0,1.0,2.0,3.0,4.0,5.0,6.0,7.0,8.0,9.0,10.0,11.0,0.0,1.0,2.0,3.0,4.0,5.0,6.0,7.0,8.0,9.0,10.0,11.0,0.0,1.0,2.0,3.0,4.0,5.0,6.0,7.0,8.0,9.0,10.0,11.0,0.0,1.0,2.0,3.0,4.0,5.0,6.0,7.0,8.0,9.0,10.0,11.0,0.0,1.0,2.0,3.0,4.0,5.0,6.0,7.0,8.0,9.0,10.0,11.0,0.0,1.0,2.0,3.0,4.0,5.0,6.0,7.0,8.0,9.0,10.0,11.0,0.0,1.0,2.0,3.0,4.0,5.0,6.0,7.0,8.0,9.0,10.0,11.0,0.0,1.0,2.0,3.0,4.0,5.0,6.0,7.0,8.0,9.0,10.0,11.0,0.0,1.0,2.0,3.0,4.0,5.0,6.0,7.0,8.0,9.0,10.0,11.0,0.0,1.0,2.0,3.0,4.0,5.0,6.0,7.0,8.0,9.0,10.0,11.0,0.0,1.0,2.0,3.0,4.0,5.0,6.0,7.0,8.0,9.0,10.0,11.0,0.0,1.0,2.0,3.0,4.0,5.0,6.0,7.0,8.0,9.0,10.0,11.0,0.0,1.0,2.0,3.0,4.0,5.0,6.0,7.0,8.0,9.0,10.0,11.0,8.0,4.0,8.0,8.0,8.0,8.0,8.0,8.0,8.0,8.0,8.0,8.0,0.0,1.0,2.0,3.0,4.0,5.0,6.0,7.0,8.0,9.0,10.0,11.0,0.0,1.0,2.0,3.0,4.0,5.0,6.0,7.0,8.0,9.0,10.0,11.0,0.0,1.0,2.0,3.0,4.0,5.0,6.0,7.0,8.0,9.0,10.0,11.0,0.0,1.0,2.0,3.0,4.0,5.0,6.0,7.0,8.0,9.0,10.0,11.0,0.0,1.0,2.0,3.0,4.0,5.0,6.0,7.0,8.0,9.0,10.0,11.0,0.0,1.0,2.0,3.0,4.0,5.0,6.0,7.0,8.0,9.0,10.0,11.0,10.0,10.0,10.0,9.0,9.0,10.0,10.0,10.0,6.0,7.0,7.0,3.0,0.0,1.0,2.0,3.0,4.0,5.0,6.0,7.0,8.0,9.0,10.0,11.0,0.0,1.0,2.0,3.0,4.0,5.0,6.0,7.0,8.0,9.0,10.0,11.0,0.0,1.0,2.0,3.0,4.0,5.0,6.0,7.0,8.0,9.0,10.0,11.0,3.0,10.0,10.0,5.0,10.0,4.0,1.0,10.0,11.0,0.0,11.0,10.0,0.0,1.0,2.0,3.0,4.0,5.0,6.0,7.0,8.0,9.0,10.0,11.0,8.0,10.0,11.0,8.0,10.0,10.0,9.0,10.0,7.0,10.0,8.0,7.0,6.0,6.0,3.0,0.0,6.0,3.0,3.0,10.0,3.0,6.0,10.0,6.0,0.0,1.0,2.0,3.0,4.0,5.0,6.0,7.0,8.0,9.0,10.0,11.0,8.0,4.0,4.0,4.0,4.0,2.0,4.0,4.0,4.0,4.0,4.0,1.0,0.0,1.0,2.0,3.0,4.0,5.0,6.0,7.0,8.0,9.0,10.0,11.0,0.0,1.0,2.0,3.0,4.0,5.0,6.0,7.0,8.0,9.0,10.0,11.0,10.0,7.0,10.0,7.0,7.0,10.0,7.0,9.0,10.0,8.0,8.0,10.0],\"coloraxis\":\"coloraxis\",\"size\":[1.0,1.0,1.0,1.0,1.0,1.0,1.0,1.0,1.0,1.0,1.0,1.0,0.9999999999999997,0.9999999999999997,0.9999999999999997,0.9999999999999997,0.9999999999999997,1.0,0.9999999999999997,0.9999999999999997,0.9999999999999997,0.9999999999999997,0.9999999999999997,0.9999999999999997,1.1373074088216055,1.1373074088216055,1.1373074088216055,1.1373074088216055,1.1373074088216055,0.11115162759229698,1.1373074088216055,0.5157742841916514,1.1373074088216055,1.1373074088216055,1.1373074088216055,1.1373074088216055,1.1669378707610234,1.1669378707610234,1.1669378707610234,1.1669378707610234,1.1669378707610234,0.10787609127960342,1.1669378707610234,0.22274520111016324,1.1669378707610234,1.1669378707610234,1.1669378707610234,1.1669378707610234,1.1678076014187195,1.1678076014187195,1.1678076014187195,1.1678076014187195,1.1678076014187195,0.10542450624033929,1.1678076014187195,0.21649947957246535,1.1678076014187195,1.1678076014187195,1.1678076014187195,1.1678076014187195,1.1678384645192958,1.1678384645192958,1.1678384645192958,1.1678384645192958,1.1678384645192958,0.10539435963905144,1.1678384645192958,0.2162209951679904,1.1678384645192958,1.1678384645192958,1.1678384645192958,1.1678384645192958,1.1118843718147122,1.1118843718147122,1.390116717071457,1.1118843718147122,1.1118843718147122,0.10663727773065801,1.1118843718147122,0.21805431360873115,1.1118843718147122,1.1118843718147122,1.390116717071457,1.1118843718147122,1.116444252174472,1.116444252174472,1.3873974516779375,1.116444252174472,1.116444252174472,0.0983565788405305,1.116444252174472,0.19529450040781773,1.116444252174472,1.116444252174472,1.3873974516779375,1.116444252174472,1.1192112275480106,1.1192112275480106,1.3736490724922743,1.1192112275480106,1.1192112275480106,0.10017647881691559,1.1192112275480106,0.19883555581445161,1.1192112275480106,1.1192112275480106,1.3736490724922743,1.1192112275480106,1.129509479953803,1.129509479953803,1.4283532638997618,1.12845340470538,0.9394628667952635,0.10145435985882591,1.129509479953803,0.1968659611181893,1.129509479953803,1.129509479953803,1.4283532638997618,1.129509479953803,1.146060643989327,1.146060643989327,1.4378587614309233,1.0345847917279674,0.9484850394875518,0.10022883387227771,1.146060643989327,0.164619948114397,1.146060643989327,1.146060643989327,1.4378587614309233,1.146060643989327,1.0317847457855478,1.0317847457855478,1.9854819487428312,0.7940277119511544,0.6783400540188078,0.1388298394141202,1.0317847457855478,0.22713002241696906,1.0317847457855478,1.0317847457855478,1.9854819487428312,1.0317847457855478,1.0417445581930465,1.0417445581930465,2.0425044116644915,0.8026620793433048,0.6764047409621687,0.08475038201028844,1.0417445581930465,0.10070662519697683,1.0417445581930465,1.0417445581930465,2.0425044116644915,1.0417445581930465,1.1745475994565142,1.1745475994565142,1.519512039835826,0.9414363096246577,0.7633192632827059,0.09523077571330554,1.1745475994565142,0.11370397496859126,1.1745475994565142,1.1745475994565142,1.519512039835826,1.1745475994565142,1.1677399271242652,1.1677399271242652,1.5326302711791289,0.9536644265915876,0.7623964682204778,0.09041617337475395,1.1677399271242652,0.10526049714672928,1.1677399271242652,1.1677399271242652,1.5326302711791289,1.184302256686868,1.1731386723136707,1.1731386723136707,1.5971739436496957,0.9694574705184443,0.7675957124265114,0.08975010189729421,1.1731386723136707,0.10653690619294136,1.1731386723136707,1.1731386723136707,1.5971739436496957,1.006618560097067,1.2047399560115213,1.2047399560115213,1.6413573546244022,0.9989638980953771,0.7874626681400728,0.09084726528057914,1.2047399560115213,0.10780036771972723,1.2047399560115213,1.2047399560115213,1.6413573546244022,0.708511311457834,1.2000048586240573,1.2000048586240573,1.6577899241259966,1.0116096792727587,0.7862377600201391,0.09156630285347014,1.2000048586240573,0.10832232465683467,1.2000048586240573,1.2000048586240573,1.6577899241259966,0.6866597918245203,1.2128798713300666,1.2128798713300666,1.678015102128961,0.8915275900828774,0.7936921180125635,0.09119482457420516,1.2128798713300666,0.10805358871571899,1.2128798713300666,1.2128798713300666,1.678015102128961,0.6951023177063816,1.2127395348029355,1.2127395348029355,1.9875782777721964,0.00288337477248311,0.8601594949934942,0.10741933595208182,1.2127395348029355,0.12752057312914825,1.2360965036166054,1.2360965036166054,1.9875782777721964,0.8164490539663842,1.0033052118595032,1.0033052118595032,2.4017132618720054,0.0036243699809609623,0.7686909741791308,0.11538873576298149,1.0033052118595032,0.14634805636266904,1.5361238961541126,1.5361238961541126,2.4017132618720054,0.08035791208351449,1.0119112005750366,1.0119112005750366,2.3920264385479735,0.0017926520049660448,0.768399806773875,0.08014655265806474,1.0119112005750366,0.10738307418701573,1.570087572502077,1.570087572502077,2.3920264385479735,0.08231629055086974,0.19074600706025097,0.19074600706025097,0.13148335375875655,0.00033996827676968075,0.14493184440055182,0.01488144632741833,0.19074600706025097,0.01961394379695444,10.69683659080187,0.27261090696294177,0.13148335375875655,0.015580570735230802,0.8219282843764104,2.9587888718594884,0.8219282843764104,0.8219282843764104,0.8219282843764104,0.8219282843764104,0.8219282843764104,0.8219282843764104,0.8219282843764104,0.8219282843764104,0.8219282843764104,0.8219282843764104,0.8213198158804613,2.96548202531493,0.8213198158804613,0.8213198158804613,0.8213198158804613,0.8213198158804613,0.8213198158804613,0.8213198158804613,0.8213198158804613,0.8213198158804613,0.8213198158804613,0.8213198158804613,0.8211529743113759,2.9673172825748657,0.8211529743113759,0.8211529743113759,0.8211529743113759,0.8211529743113759,0.8211529743113759,0.8211529743113759,0.8211529743113759,0.8211529743113759,0.8211529743113759,0.8211529743113759,0.8210204958556236,2.9687745455881416,0.8210204958556236,0.8210204958556236,0.8210204958556236,0.8210204958556236,0.8210204958556236,0.8210204958556236,0.8210204958556236,0.8210204958556236,0.8210204958556236,0.8210204958556236,0.8210004480204011,2.9689950717755864,0.8210004480204011,0.8210004480204011,0.8210004480204011,0.8210004480204011,0.8210004480204011,0.8210004480204011,0.8210004480204011,0.8210004480204011,0.8210004480204011,0.8210004480204011,0.7336361827115567,2.807458036366173,0.7336361827115567,0.7336361827115567,0.9207268416793403,0.9207268416793403,0.7336361827115567,0.92072684167934,0.7336361827115567,0.92072684167934,0.92072684167934,0.9207268416793403,0.11243688974878095,0.1124373103473517,0.028956900123704065,0.11243688974878095,0.14111035527720908,0.14111035527720908,0.11243688974878095,3.661842388234064,0.11243688974878095,3.661842388234064,3.661842388234064,0.14111035527720908,0.9034839417378024,0.9034839417378024,0.9034839417378024,0.9034839417378024,0.9034839417378024,0.9034839417378024,0.9034839417378024,0.9034839417378024,1.4825802913109893,0.9034839417378024,0.9034839417378024,1.4825802913109893,0.9963564663963983,0.9963564663963983,0.9963564663963983,0.9963564663963983,0.9963564663963983,0.9963564663963983,0.9963564663963983,0.9963564663963983,1.0182176680180077,0.9963564663963983,0.9963564663963983,1.0182176680180077,0.996539448952437,0.996539448952437,0.996539448952437,0.996539448952437,0.996539448952437,0.996539448952437,0.996539448952437,0.996539448952437,1.0173027552378173,0.996539448952437,0.996539448952437,1.0173027552378173,0.5820244507274028,0.5872531217308615,0.5872531217308615,0.5872531217308615,0.5872531217308615,0.5872531217308615,0.5872531217308615,0.5872531217308615,1.1081888756456642,0.5872531217308615,4.503572824134378,1.1081888756456642,1.1058649685538822,0.18126746760404533,0.18122705291865046,1.1058649685538822,0.18122705291865046,1.1058649685538822,1.1058649685538822,0.18122705291865046,3.0453680253322184,0.5796283958413803,3.0453680253322184,0.18122705291865046,0.0008603328942548854,0.2815824205170136,0.2872133055385228,0.0008603328942548854,0.2872133055385228,0.0008603328942548854,0.0008603328942548854,0.2872133055385228,2.7685159042813443,2.0177551657336648,5.779851955736862,0.2872133055385228,3.0562006752673767,2.2628287465122557e-07,0.0015887175472938336,3.0562006752673767,2.2628287465122557e-07,2.2628287465122557e-07,2.8266306901416116,2.2628287465122557e-07,0.0015887175472938336,2.2628287465122557e-07,3.0562006752673767,0.0015887175472938336,0.7564297561553531,0.7564297561553531,1.1739787456033242,1.17397874560332,0.7564297561553531,1.17397874560332,1.17397874560332,1.17397874560332,1.17397874560332,0.7564297561553531,1.17397874560332,0.7564297561553531,0.15720272407898997,0.15720272407898997,3.194380248276915,0.3535953818441889,6.055236564342006,0.3535953818441889,0.3535953818441889,0.3535953818441889,0.3535953818441889,0.15720272407898997,0.3535953818441889,0.15720272407898997,0.003494575006282781,1.3322396927223579,1.3322396927223579,1.3322396927223579,1.3322396927223579,0.00025239643128452524,1.3322396927223579,1.3322396927223579,1.3322396927223579,1.3322396927223579,1.3322396927223579,0.0060957940612329665,0.008972850151027069,0.7223174494445898,0.7223174494445898,0.7223174494445898,0.7223174494445898,2.146362770630807e-06,0.7223174494445898,2.091629814350969,2.091629814350969,2.091629814350969,2.091629814350969,0.012918498859386411,6.532379441681466e-09,0.004843017724902661,0.004843017724902661,0.004843017724902661,0.004843017724902661,8.390076350720811e-07,0.004843017724902661,2.9936792349840347,2.9936792349840347,2.9936792349840347,2.9936792349840347,0.001067125899344415],\"sizemode\":\"area\",\"sizeref\":0.026742091477004678,\"symbol\":\"circle\"},\"mode\":\"markers\",\"name\":\"\",\"orientation\":\"v\",\"showlegend\":false,\"x\":[0,0,0,0,0,0,0,0,0,0,0,0,1,1,1,1,1,1,1,1,1,1,1,1,2,2,2,2,2,2,2,2,2,2,2,2,3,3,3,3,3,3,3,3,3,3,3,3,4,4,4,4,4,4,4,4,4,4,4,4,5,5,5,5,5,5,5,5,5,5,5,5,6,6,6,6,6,6,6,6,6,6,6,6,7,7,7,7,7,7,7,7,7,7,7,7,8,8,8,8,8,8,8,8,8,8,8,8,9,9,9,9,9,9,9,9,9,9,9,9,10,10,10,10,10,10,10,10,10,10,10,10,11,11,11,11,11,11,11,11,11,11,11,11,12,12,12,12,12,12,12,12,12,12,12,12,13,13,13,13,13,13,13,13,13,13,13,13,14,14,14,14,14,14,14,14,14,14,14,14,15,15,15,15,15,15,15,15,15,15,15,15,16,16,16,16,16,16,16,16,16,16,16,16,17,17,17,17,17,17,17,17,17,17,17,17,18,18,18,18,18,18,18,18,18,18,18,18,19,19,19,19,19,19,19,19,19,19,19,19,20,20,20,20,20,20,20,20,20,20,20,20,21,21,21,21,21,21,21,21,21,21,21,21,22,22,22,22,22,22,22,22,22,22,22,22,23,23,23,23,23,23,23,23,23,23,23,23,24,24,24,24,24,24,24,24,24,24,24,24,25,25,25,25,25,25,25,25,25,25,25,25,26,26,26,26,26,26,26,26,26,26,26,26,27,27,27,27,27,27,27,27,27,27,27,27,28,28,28,28,28,28,28,28,28,28,28,28,29,29,29,29,29,29,29,29,29,29,29,29,30,30,30,30,30,30,30,30,30,30,30,30,31,31,31,31,31,31,31,31,31,31,31,31,32,32,32,32,32,32,32,32,32,32,32,32,33,33,33,33,33,33,33,33,33,33,33,33,34,34,34,34,34,34,34,34,34,34,34,34,35,35,35,35,35,35,35,35,35,35,35,35,36,36,36,36,36,36,36,36,36,36,36,36,37,37,37,37,37,37,37,37,37,37,37,37,38,38,38,38,38,38,38,38,38,38,38,38,39,39,39,39,39,39,39,39,39,39,39,39,40,40,40,40,40,40,40,40,40,40,40,40,41,41,41,41,41,41,41,41,41,41,41,41],\"xaxis\":\"x\",\"y\":[0,1,2,3,4,5,6,7,8,9,10,11,0,1,2,3,4,5,6,7,8,9,10,11,0,1,2,3,4,5,6,7,8,9,10,11,0,1,2,3,4,5,6,7,8,9,10,11,0,1,2,3,4,5,6,7,8,9,10,11,0,1,2,3,4,5,6,7,8,9,10,11,0,1,2,3,4,5,6,7,8,9,10,11,0,1,2,3,4,5,6,7,8,9,10,11,0,1,2,3,4,5,6,7,8,9,10,11,0,1,2,3,4,5,6,7,8,9,10,11,0,1,2,3,4,5,6,7,8,9,10,11,0,1,2,3,4,5,6,7,8,9,10,11,0,1,2,3,4,5,6,7,8,9,10,11,0,1,2,3,4,5,6,7,8,9,10,11,0,1,2,3,4,5,6,7,8,9,10,11,0,1,2,3,4,5,6,7,8,9,10,11,0,1,2,3,4,5,6,7,8,9,10,11,0,1,2,3,4,5,6,7,8,9,10,11,0,1,2,3,4,5,6,7,8,9,10,11,0,1,2,3,4,5,6,7,8,9,10,11,0,1,2,3,4,5,6,7,8,9,10,11,0,1,2,3,4,5,6,7,8,9,10,11,0,1,2,3,4,5,6,7,8,9,10,11,0,1,2,3,4,5,6,7,8,9,10,11,0,1,2,3,4,5,6,7,8,9,10,11,0,1,2,3,4,5,6,7,8,9,10,11,0,1,2,3,4,5,6,7,8,9,10,11,0,1,2,3,4,5,6,7,8,9,10,11,0,1,2,3,4,5,6,7,8,9,10,11,0,1,2,3,4,5,6,7,8,9,10,11,0,1,2,3,4,5,6,7,8,9,10,11,0,1,2,3,4,5,6,7,8,9,10,11,0,1,2,3,4,5,6,7,8,9,10,11,0,1,2,3,4,5,6,7,8,9,10,11,0,1,2,3,4,5,6,7,8,9,10,11,0,1,2,3,4,5,6,7,8,9,10,11,0,1,2,3,4,5,6,7,8,9,10,11,0,1,2,3,4,5,6,7,8,9,10,11,0,1,2,3,4,5,6,7,8,9,10,11,0,1,2,3,4,5,6,7,8,9,10,11,0,1,2,3,4,5,6,7,8,9,10,11,0,1,2,3,4,5,6,7,8,9,10,11],\"yaxis\":\"y\",\"type\":\"scatter\"},{\"line\":{\"color\":\"#636EFA\"},\"mode\":\"lines\",\"name\":\"parent_0\",\"showlegend\":false,\"x\":[33,32],\"y\":[9,0],\"type\":\"scatter\"},{\"line\":{\"color\":\"#EF553B\"},\"mode\":\"lines\",\"name\":\"parent_1\",\"showlegend\":false,\"x\":[33,32],\"y\":[6,1],\"type\":\"scatter\"},{\"line\":{\"color\":\"#EF553B\"},\"mode\":\"lines\",\"name\":\"parent_1\",\"showlegend\":false,\"x\":[38,37],\"y\":[11,1],\"type\":\"scatter\"},{\"line\":{\"color\":\"#00CC96\"},\"mode\":\"lines\",\"name\":\"parent_2\",\"showlegend\":false,\"x\":[38,37],\"y\":[5,2],\"type\":\"scatter\"},{\"line\":{\"color\":\"#AB63FA\"},\"mode\":\"lines\",\"name\":\"parent_3\",\"showlegend\":false,\"x\":[29,28],\"y\":[11,3],\"type\":\"scatter\"},{\"line\":{\"color\":\"#AB63FA\"},\"mode\":\"lines\",\"name\":\"parent_3\",\"showlegend\":false,\"x\":[33,32],\"y\":[0,3],\"type\":\"scatter\"},{\"line\":{\"color\":\"#FFA15A\"},\"mode\":\"lines\",\"name\":\"parent_4\",\"showlegend\":false,\"x\":[22,21],\"y\":[1,4],\"type\":\"scatter\"},{\"line\":{\"color\":\"#FFA15A\"},\"mode\":\"lines\",\"name\":\"parent_4\",\"showlegend\":false,\"x\":[33,32],\"y\":[5,4],\"type\":\"scatter\"},{\"line\":{\"color\":\"#FFA15A\"},\"mode\":\"lines\",\"name\":\"parent_4\",\"showlegend\":false,\"x\":[38,37],\"y\":[1,4],\"type\":\"scatter\"},{\"line\":{\"color\":\"#FFA15A\"},\"mode\":\"lines\",\"name\":\"parent_4\",\"showlegend\":false,\"x\":[38,37],\"y\":[2,4],\"type\":\"scatter\"},{\"line\":{\"color\":\"#FFA15A\"},\"mode\":\"lines\",\"name\":\"parent_4\",\"showlegend\":false,\"x\":[38,37],\"y\":[3,4],\"type\":\"scatter\"},{\"line\":{\"color\":\"#FFA15A\"},\"mode\":\"lines\",\"name\":\"parent_4\",\"showlegend\":false,\"x\":[38,37],\"y\":[4,4],\"type\":\"scatter\"},{\"line\":{\"color\":\"#FFA15A\"},\"mode\":\"lines\",\"name\":\"parent_4\",\"showlegend\":false,\"x\":[38,37],\"y\":[6,4],\"type\":\"scatter\"},{\"line\":{\"color\":\"#FFA15A\"},\"mode\":\"lines\",\"name\":\"parent_4\",\"showlegend\":false,\"x\":[38,37],\"y\":[7,4],\"type\":\"scatter\"},{\"line\":{\"color\":\"#FFA15A\"},\"mode\":\"lines\",\"name\":\"parent_4\",\"showlegend\":false,\"x\":[38,37],\"y\":[8,4],\"type\":\"scatter\"},{\"line\":{\"color\":\"#FFA15A\"},\"mode\":\"lines\",\"name\":\"parent_4\",\"showlegend\":false,\"x\":[38,37],\"y\":[9,4],\"type\":\"scatter\"},{\"line\":{\"color\":\"#FFA15A\"},\"mode\":\"lines\",\"name\":\"parent_4\",\"showlegend\":false,\"x\":[38,37],\"y\":[10,4],\"type\":\"scatter\"},{\"line\":{\"color\":\"#19D3F3\"},\"mode\":\"lines\",\"name\":\"parent_5\",\"showlegend\":false,\"x\":[33,32],\"y\":[3,5],\"type\":\"scatter\"},{\"line\":{\"color\":\"#FF6692\"},\"mode\":\"lines\",\"name\":\"parent_6\",\"showlegend\":false,\"x\":[29,28],\"y\":[8,6],\"type\":\"scatter\"},{\"line\":{\"color\":\"#B6E880\"},\"mode\":\"lines\",\"name\":\"parent_7\",\"showlegend\":false,\"x\":[29,28],\"y\":[9,7],\"type\":\"scatter\"},{\"line\":{\"color\":\"#B6E880\"},\"mode\":\"lines\",\"name\":\"parent_7\",\"showlegend\":false,\"x\":[29,28],\"y\":[10,7],\"type\":\"scatter\"},{\"line\":{\"color\":\"#B6E880\"},\"mode\":\"lines\",\"name\":\"parent_7\",\"showlegend\":false,\"x\":[35,34],\"y\":[8,7],\"type\":\"scatter\"},{\"line\":{\"color\":\"#B6E880\"},\"mode\":\"lines\",\"name\":\"parent_7\",\"showlegend\":false,\"x\":[35,34],\"y\":[11,7],\"type\":\"scatter\"},{\"line\":{\"color\":\"#B6E880\"},\"mode\":\"lines\",\"name\":\"parent_7\",\"showlegend\":false,\"x\":[41,40],\"y\":[1,7],\"type\":\"scatter\"},{\"line\":{\"color\":\"#B6E880\"},\"mode\":\"lines\",\"name\":\"parent_7\",\"showlegend\":false,\"x\":[41,40],\"y\":[3,7],\"type\":\"scatter\"},{\"line\":{\"color\":\"#B6E880\"},\"mode\":\"lines\",\"name\":\"parent_7\",\"showlegend\":false,\"x\":[41,40],\"y\":[4,7],\"type\":\"scatter\"},{\"line\":{\"color\":\"#B6E880\"},\"mode\":\"lines\",\"name\":\"parent_7\",\"showlegend\":false,\"x\":[41,40],\"y\":[6,7],\"type\":\"scatter\"},{\"line\":{\"color\":\"#FF97FF\"},\"mode\":\"lines\",\"name\":\"parent_8\",\"showlegend\":false,\"x\":[22,21],\"y\":[0,8],\"type\":\"scatter\"},{\"line\":{\"color\":\"#FF97FF\"},\"mode\":\"lines\",\"name\":\"parent_8\",\"showlegend\":false,\"x\":[22,21],\"y\":[2,8],\"type\":\"scatter\"},{\"line\":{\"color\":\"#FF97FF\"},\"mode\":\"lines\",\"name\":\"parent_8\",\"showlegend\":false,\"x\":[22,21],\"y\":[3,8],\"type\":\"scatter\"},{\"line\":{\"color\":\"#FF97FF\"},\"mode\":\"lines\",\"name\":\"parent_8\",\"showlegend\":false,\"x\":[22,21],\"y\":[4,8],\"type\":\"scatter\"},{\"line\":{\"color\":\"#FF97FF\"},\"mode\":\"lines\",\"name\":\"parent_8\",\"showlegend\":false,\"x\":[22,21],\"y\":[5,8],\"type\":\"scatter\"},{\"line\":{\"color\":\"#FF97FF\"},\"mode\":\"lines\",\"name\":\"parent_8\",\"showlegend\":false,\"x\":[22,21],\"y\":[6,8],\"type\":\"scatter\"},{\"line\":{\"color\":\"#FF97FF\"},\"mode\":\"lines\",\"name\":\"parent_8\",\"showlegend\":false,\"x\":[22,21],\"y\":[7,8],\"type\":\"scatter\"},{\"line\":{\"color\":\"#FF97FF\"},\"mode\":\"lines\",\"name\":\"parent_8\",\"showlegend\":false,\"x\":[22,21],\"y\":[8,8],\"type\":\"scatter\"},{\"line\":{\"color\":\"#FF97FF\"},\"mode\":\"lines\",\"name\":\"parent_8\",\"showlegend\":false,\"x\":[22,21],\"y\":[9,8],\"type\":\"scatter\"},{\"line\":{\"color\":\"#FF97FF\"},\"mode\":\"lines\",\"name\":\"parent_8\",\"showlegend\":false,\"x\":[22,21],\"y\":[10,8],\"type\":\"scatter\"},{\"line\":{\"color\":\"#FF97FF\"},\"mode\":\"lines\",\"name\":\"parent_8\",\"showlegend\":false,\"x\":[22,21],\"y\":[11,8],\"type\":\"scatter\"},{\"line\":{\"color\":\"#FF97FF\"},\"mode\":\"lines\",\"name\":\"parent_8\",\"showlegend\":false,\"x\":[35,34],\"y\":[0,8],\"type\":\"scatter\"},{\"line\":{\"color\":\"#FF97FF\"},\"mode\":\"lines\",\"name\":\"parent_8\",\"showlegend\":false,\"x\":[35,34],\"y\":[3,8],\"type\":\"scatter\"},{\"line\":{\"color\":\"#FF97FF\"},\"mode\":\"lines\",\"name\":\"parent_8\",\"showlegend\":false,\"x\":[35,34],\"y\":[10,8],\"type\":\"scatter\"},{\"line\":{\"color\":\"#FF97FF\"},\"mode\":\"lines\",\"name\":\"parent_8\",\"showlegend\":false,\"x\":[38,37],\"y\":[0,8],\"type\":\"scatter\"},{\"line\":{\"color\":\"#FF97FF\"},\"mode\":\"lines\",\"name\":\"parent_8\",\"showlegend\":false,\"x\":[41,40],\"y\":[9,8],\"type\":\"scatter\"},{\"line\":{\"color\":\"#FF97FF\"},\"mode\":\"lines\",\"name\":\"parent_8\",\"showlegend\":false,\"x\":[41,40],\"y\":[10,8],\"type\":\"scatter\"},{\"line\":{\"color\":\"#FECB52\"},\"mode\":\"lines\",\"name\":\"parent_9\",\"showlegend\":false,\"x\":[29,28],\"y\":[3,9],\"type\":\"scatter\"},{\"line\":{\"color\":\"#FECB52\"},\"mode\":\"lines\",\"name\":\"parent_9\",\"showlegend\":false,\"x\":[29,28],\"y\":[4,9],\"type\":\"scatter\"},{\"line\":{\"color\":\"#FECB52\"},\"mode\":\"lines\",\"name\":\"parent_9\",\"showlegend\":false,\"x\":[35,34],\"y\":[6,9],\"type\":\"scatter\"},{\"line\":{\"color\":\"#FECB52\"},\"mode\":\"lines\",\"name\":\"parent_9\",\"showlegend\":false,\"x\":[41,40],\"y\":[7,9],\"type\":\"scatter\"},{\"line\":{\"color\":\"#636EFA\"},\"mode\":\"lines\",\"name\":\"parent_10\",\"showlegend\":false,\"x\":[29,28],\"y\":[0,10],\"type\":\"scatter\"},{\"line\":{\"color\":\"#636EFA\"},\"mode\":\"lines\",\"name\":\"parent_10\",\"showlegend\":false,\"x\":[29,28],\"y\":[1,10],\"type\":\"scatter\"},{\"line\":{\"color\":\"#636EFA\"},\"mode\":\"lines\",\"name\":\"parent_10\",\"showlegend\":false,\"x\":[29,28],\"y\":[2,10],\"type\":\"scatter\"},{\"line\":{\"color\":\"#636EFA\"},\"mode\":\"lines\",\"name\":\"parent_10\",\"showlegend\":false,\"x\":[29,28],\"y\":[5,10],\"type\":\"scatter\"},{\"line\":{\"color\":\"#636EFA\"},\"mode\":\"lines\",\"name\":\"parent_10\",\"showlegend\":false,\"x\":[29,28],\"y\":[6,10],\"type\":\"scatter\"},{\"line\":{\"color\":\"#636EFA\"},\"mode\":\"lines\",\"name\":\"parent_10\",\"showlegend\":false,\"x\":[29,28],\"y\":[7,10],\"type\":\"scatter\"},{\"line\":{\"color\":\"#636EFA\"},\"mode\":\"lines\",\"name\":\"parent_10\",\"showlegend\":false,\"x\":[33,32],\"y\":[1,10],\"type\":\"scatter\"},{\"line\":{\"color\":\"#636EFA\"},\"mode\":\"lines\",\"name\":\"parent_10\",\"showlegend\":false,\"x\":[33,32],\"y\":[2,10],\"type\":\"scatter\"},{\"line\":{\"color\":\"#636EFA\"},\"mode\":\"lines\",\"name\":\"parent_10\",\"showlegend\":false,\"x\":[33,32],\"y\":[4,10],\"type\":\"scatter\"},{\"line\":{\"color\":\"#636EFA\"},\"mode\":\"lines\",\"name\":\"parent_10\",\"showlegend\":false,\"x\":[33,32],\"y\":[7,10],\"type\":\"scatter\"},{\"line\":{\"color\":\"#636EFA\"},\"mode\":\"lines\",\"name\":\"parent_10\",\"showlegend\":false,\"x\":[33,32],\"y\":[11,10],\"type\":\"scatter\"},{\"line\":{\"color\":\"#636EFA\"},\"mode\":\"lines\",\"name\":\"parent_10\",\"showlegend\":false,\"x\":[35,34],\"y\":[1,10],\"type\":\"scatter\"},{\"line\":{\"color\":\"#636EFA\"},\"mode\":\"lines\",\"name\":\"parent_10\",\"showlegend\":false,\"x\":[35,34],\"y\":[4,10],\"type\":\"scatter\"},{\"line\":{\"color\":\"#636EFA\"},\"mode\":\"lines\",\"name\":\"parent_10\",\"showlegend\":false,\"x\":[35,34],\"y\":[5,10],\"type\":\"scatter\"},{\"line\":{\"color\":\"#636EFA\"},\"mode\":\"lines\",\"name\":\"parent_10\",\"showlegend\":false,\"x\":[35,34],\"y\":[7,10],\"type\":\"scatter\"},{\"line\":{\"color\":\"#636EFA\"},\"mode\":\"lines\",\"name\":\"parent_10\",\"showlegend\":false,\"x\":[35,34],\"y\":[9,10],\"type\":\"scatter\"},{\"line\":{\"color\":\"#636EFA\"},\"mode\":\"lines\",\"name\":\"parent_10\",\"showlegend\":false,\"x\":[36,35],\"y\":[7,1],\"type\":\"scatter\"},{\"line\":{\"color\":\"#636EFA\"},\"mode\":\"lines\",\"name\":\"parent_10\",\"showlegend\":false,\"x\":[36,35],\"y\":[7,4],\"type\":\"scatter\"},{\"line\":{\"color\":\"#636EFA\"},\"mode\":\"lines\",\"name\":\"parent_10\",\"showlegend\":false,\"x\":[36,35],\"y\":[7,5],\"type\":\"scatter\"},{\"line\":{\"color\":\"#636EFA\"},\"mode\":\"lines\",\"name\":\"parent_10\",\"showlegend\":false,\"x\":[36,35],\"y\":[7,7],\"type\":\"scatter\"},{\"line\":{\"color\":\"#636EFA\"},\"mode\":\"lines\",\"name\":\"parent_10\",\"showlegend\":false,\"x\":[36,35],\"y\":[7,9],\"type\":\"scatter\"},{\"line\":{\"color\":\"#636EFA\"},\"mode\":\"lines\",\"name\":\"parent_10\",\"showlegend\":false,\"x\":[36,35],\"y\":[10,1],\"type\":\"scatter\"},{\"line\":{\"color\":\"#636EFA\"},\"mode\":\"lines\",\"name\":\"parent_10\",\"showlegend\":false,\"x\":[36,35],\"y\":[10,4],\"type\":\"scatter\"},{\"line\":{\"color\":\"#636EFA\"},\"mode\":\"lines\",\"name\":\"parent_10\",\"showlegend\":false,\"x\":[36,35],\"y\":[10,5],\"type\":\"scatter\"},{\"line\":{\"color\":\"#636EFA\"},\"mode\":\"lines\",\"name\":\"parent_10\",\"showlegend\":false,\"x\":[36,35],\"y\":[10,7],\"type\":\"scatter\"},{\"line\":{\"color\":\"#636EFA\"},\"mode\":\"lines\",\"name\":\"parent_10\",\"showlegend\":false,\"x\":[36,35],\"y\":[10,9],\"type\":\"scatter\"},{\"line\":{\"color\":\"#636EFA\"},\"mode\":\"lines\",\"name\":\"parent_10\",\"showlegend\":false,\"x\":[41,40],\"y\":[0,10],\"type\":\"scatter\"},{\"line\":{\"color\":\"#636EFA\"},\"mode\":\"lines\",\"name\":\"parent_10\",\"showlegend\":false,\"x\":[41,40],\"y\":[2,10],\"type\":\"scatter\"},{\"line\":{\"color\":\"#636EFA\"},\"mode\":\"lines\",\"name\":\"parent_10\",\"showlegend\":false,\"x\":[41,40],\"y\":[5,10],\"type\":\"scatter\"},{\"line\":{\"color\":\"#636EFA\"},\"mode\":\"lines\",\"name\":\"parent_10\",\"showlegend\":false,\"x\":[41,40],\"y\":[8,10],\"type\":\"scatter\"},{\"line\":{\"color\":\"#636EFA\"},\"mode\":\"lines\",\"name\":\"parent_10\",\"showlegend\":false,\"x\":[41,40],\"y\":[11,10],\"type\":\"scatter\"},{\"line\":{\"color\":\"#EF553B\"},\"mode\":\"lines\",\"name\":\"parent_11\",\"showlegend\":false,\"x\":[33,32],\"y\":[8,11],\"type\":\"scatter\"},{\"line\":{\"color\":\"#EF553B\"},\"mode\":\"lines\",\"name\":\"parent_11\",\"showlegend\":false,\"x\":[33,32],\"y\":[10,11],\"type\":\"scatter\"},{\"line\":{\"color\":\"#EF553B\"},\"mode\":\"lines\",\"name\":\"parent_11\",\"showlegend\":false,\"x\":[35,34],\"y\":[2,11],\"type\":\"scatter\"}],                        {\"template\":{\"data\":{\"histogram2dcontour\":[{\"type\":\"histogram2dcontour\",\"colorbar\":{\"outlinewidth\":0,\"ticks\":\"\"},\"colorscale\":[[0.0,\"#0d0887\"],[0.1111111111111111,\"#46039f\"],[0.2222222222222222,\"#7201a8\"],[0.3333333333333333,\"#9c179e\"],[0.4444444444444444,\"#bd3786\"],[0.5555555555555556,\"#d8576b\"],[0.6666666666666666,\"#ed7953\"],[0.7777777777777778,\"#fb9f3a\"],[0.8888888888888888,\"#fdca26\"],[1.0,\"#f0f921\"]]}],\"choropleth\":[{\"type\":\"choropleth\",\"colorbar\":{\"outlinewidth\":0,\"ticks\":\"\"}}],\"histogram2d\":[{\"type\":\"histogram2d\",\"colorbar\":{\"outlinewidth\":0,\"ticks\":\"\"},\"colorscale\":[[0.0,\"#0d0887\"],[0.1111111111111111,\"#46039f\"],[0.2222222222222222,\"#7201a8\"],[0.3333333333333333,\"#9c179e\"],[0.4444444444444444,\"#bd3786\"],[0.5555555555555556,\"#d8576b\"],[0.6666666666666666,\"#ed7953\"],[0.7777777777777778,\"#fb9f3a\"],[0.8888888888888888,\"#fdca26\"],[1.0,\"#f0f921\"]]}],\"heatmap\":[{\"type\":\"heatmap\",\"colorbar\":{\"outlinewidth\":0,\"ticks\":\"\"},\"colorscale\":[[0.0,\"#0d0887\"],[0.1111111111111111,\"#46039f\"],[0.2222222222222222,\"#7201a8\"],[0.3333333333333333,\"#9c179e\"],[0.4444444444444444,\"#bd3786\"],[0.5555555555555556,\"#d8576b\"],[0.6666666666666666,\"#ed7953\"],[0.7777777777777778,\"#fb9f3a\"],[0.8888888888888888,\"#fdca26\"],[1.0,\"#f0f921\"]]}],\"heatmapgl\":[{\"type\":\"heatmapgl\",\"colorbar\":{\"outlinewidth\":0,\"ticks\":\"\"},\"colorscale\":[[0.0,\"#0d0887\"],[0.1111111111111111,\"#46039f\"],[0.2222222222222222,\"#7201a8\"],[0.3333333333333333,\"#9c179e\"],[0.4444444444444444,\"#bd3786\"],[0.5555555555555556,\"#d8576b\"],[0.6666666666666666,\"#ed7953\"],[0.7777777777777778,\"#fb9f3a\"],[0.8888888888888888,\"#fdca26\"],[1.0,\"#f0f921\"]]}],\"contourcarpet\":[{\"type\":\"contourcarpet\",\"colorbar\":{\"outlinewidth\":0,\"ticks\":\"\"}}],\"contour\":[{\"type\":\"contour\",\"colorbar\":{\"outlinewidth\":0,\"ticks\":\"\"},\"colorscale\":[[0.0,\"#0d0887\"],[0.1111111111111111,\"#46039f\"],[0.2222222222222222,\"#7201a8\"],[0.3333333333333333,\"#9c179e\"],[0.4444444444444444,\"#bd3786\"],[0.5555555555555556,\"#d8576b\"],[0.6666666666666666,\"#ed7953\"],[0.7777777777777778,\"#fb9f3a\"],[0.8888888888888888,\"#fdca26\"],[1.0,\"#f0f921\"]]}],\"surface\":[{\"type\":\"surface\",\"colorbar\":{\"outlinewidth\":0,\"ticks\":\"\"},\"colorscale\":[[0.0,\"#0d0887\"],[0.1111111111111111,\"#46039f\"],[0.2222222222222222,\"#7201a8\"],[0.3333333333333333,\"#9c179e\"],[0.4444444444444444,\"#bd3786\"],[0.5555555555555556,\"#d8576b\"],[0.6666666666666666,\"#ed7953\"],[0.7777777777777778,\"#fb9f3a\"],[0.8888888888888888,\"#fdca26\"],[1.0,\"#f0f921\"]]}],\"mesh3d\":[{\"type\":\"mesh3d\",\"colorbar\":{\"outlinewidth\":0,\"ticks\":\"\"}}],\"scatter\":[{\"fillpattern\":{\"fillmode\":\"overlay\",\"size\":10,\"solidity\":0.2},\"type\":\"scatter\"}],\"parcoords\":[{\"type\":\"parcoords\",\"line\":{\"colorbar\":{\"outlinewidth\":0,\"ticks\":\"\"}}}],\"scatterpolargl\":[{\"type\":\"scatterpolargl\",\"marker\":{\"colorbar\":{\"outlinewidth\":0,\"ticks\":\"\"}}}],\"bar\":[{\"error_x\":{\"color\":\"#2a3f5f\"},\"error_y\":{\"color\":\"#2a3f5f\"},\"marker\":{\"line\":{\"color\":\"#E5ECF6\",\"width\":0.5},\"pattern\":{\"fillmode\":\"overlay\",\"size\":10,\"solidity\":0.2}},\"type\":\"bar\"}],\"scattergeo\":[{\"type\":\"scattergeo\",\"marker\":{\"colorbar\":{\"outlinewidth\":0,\"ticks\":\"\"}}}],\"scatterpolar\":[{\"type\":\"scatterpolar\",\"marker\":{\"colorbar\":{\"outlinewidth\":0,\"ticks\":\"\"}}}],\"histogram\":[{\"marker\":{\"pattern\":{\"fillmode\":\"overlay\",\"size\":10,\"solidity\":0.2}},\"type\":\"histogram\"}],\"scattergl\":[{\"type\":\"scattergl\",\"marker\":{\"colorbar\":{\"outlinewidth\":0,\"ticks\":\"\"}}}],\"scatter3d\":[{\"type\":\"scatter3d\",\"line\":{\"colorbar\":{\"outlinewidth\":0,\"ticks\":\"\"}},\"marker\":{\"colorbar\":{\"outlinewidth\":0,\"ticks\":\"\"}}}],\"scattermapbox\":[{\"type\":\"scattermapbox\",\"marker\":{\"colorbar\":{\"outlinewidth\":0,\"ticks\":\"\"}}}],\"scatterternary\":[{\"type\":\"scatterternary\",\"marker\":{\"colorbar\":{\"outlinewidth\":0,\"ticks\":\"\"}}}],\"scattercarpet\":[{\"type\":\"scattercarpet\",\"marker\":{\"colorbar\":{\"outlinewidth\":0,\"ticks\":\"\"}}}],\"carpet\":[{\"aaxis\":{\"endlinecolor\":\"#2a3f5f\",\"gridcolor\":\"white\",\"linecolor\":\"white\",\"minorgridcolor\":\"white\",\"startlinecolor\":\"#2a3f5f\"},\"baxis\":{\"endlinecolor\":\"#2a3f5f\",\"gridcolor\":\"white\",\"linecolor\":\"white\",\"minorgridcolor\":\"white\",\"startlinecolor\":\"#2a3f5f\"},\"type\":\"carpet\"}],\"table\":[{\"cells\":{\"fill\":{\"color\":\"#EBF0F8\"},\"line\":{\"color\":\"white\"}},\"header\":{\"fill\":{\"color\":\"#C8D4E3\"},\"line\":{\"color\":\"white\"}},\"type\":\"table\"}],\"barpolar\":[{\"marker\":{\"line\":{\"color\":\"#E5ECF6\",\"width\":0.5},\"pattern\":{\"fillmode\":\"overlay\",\"size\":10,\"solidity\":0.2}},\"type\":\"barpolar\"}],\"pie\":[{\"automargin\":true,\"type\":\"pie\"}]},\"layout\":{\"autotypenumbers\":\"strict\",\"colorway\":[\"#636efa\",\"#EF553B\",\"#00cc96\",\"#ab63fa\",\"#FFA15A\",\"#19d3f3\",\"#FF6692\",\"#B6E880\",\"#FF97FF\",\"#FECB52\"],\"font\":{\"color\":\"#2a3f5f\"},\"hovermode\":\"closest\",\"hoverlabel\":{\"align\":\"left\"},\"paper_bgcolor\":\"white\",\"plot_bgcolor\":\"#E5ECF6\",\"polar\":{\"bgcolor\":\"#E5ECF6\",\"angularaxis\":{\"gridcolor\":\"white\",\"linecolor\":\"white\",\"ticks\":\"\"},\"radialaxis\":{\"gridcolor\":\"white\",\"linecolor\":\"white\",\"ticks\":\"\"}},\"ternary\":{\"bgcolor\":\"#E5ECF6\",\"aaxis\":{\"gridcolor\":\"white\",\"linecolor\":\"white\",\"ticks\":\"\"},\"baxis\":{\"gridcolor\":\"white\",\"linecolor\":\"white\",\"ticks\":\"\"},\"caxis\":{\"gridcolor\":\"white\",\"linecolor\":\"white\",\"ticks\":\"\"}},\"coloraxis\":{\"colorbar\":{\"outlinewidth\":0,\"ticks\":\"\"}},\"colorscale\":{\"sequential\":[[0.0,\"#0d0887\"],[0.1111111111111111,\"#46039f\"],[0.2222222222222222,\"#7201a8\"],[0.3333333333333333,\"#9c179e\"],[0.4444444444444444,\"#bd3786\"],[0.5555555555555556,\"#d8576b\"],[0.6666666666666666,\"#ed7953\"],[0.7777777777777778,\"#fb9f3a\"],[0.8888888888888888,\"#fdca26\"],[1.0,\"#f0f921\"]],\"sequentialminus\":[[0.0,\"#0d0887\"],[0.1111111111111111,\"#46039f\"],[0.2222222222222222,\"#7201a8\"],[0.3333333333333333,\"#9c179e\"],[0.4444444444444444,\"#bd3786\"],[0.5555555555555556,\"#d8576b\"],[0.6666666666666666,\"#ed7953\"],[0.7777777777777778,\"#fb9f3a\"],[0.8888888888888888,\"#fdca26\"],[1.0,\"#f0f921\"]],\"diverging\":[[0,\"#8e0152\"],[0.1,\"#c51b7d\"],[0.2,\"#de77ae\"],[0.3,\"#f1b6da\"],[0.4,\"#fde0ef\"],[0.5,\"#f7f7f7\"],[0.6,\"#e6f5d0\"],[0.7,\"#b8e186\"],[0.8,\"#7fbc41\"],[0.9,\"#4d9221\"],[1,\"#276419\"]]},\"xaxis\":{\"gridcolor\":\"white\",\"linecolor\":\"white\",\"ticks\":\"\",\"title\":{\"standoff\":15},\"zerolinecolor\":\"white\",\"automargin\":true,\"zerolinewidth\":2},\"yaxis\":{\"gridcolor\":\"white\",\"linecolor\":\"white\",\"ticks\":\"\",\"title\":{\"standoff\":15},\"zerolinecolor\":\"white\",\"automargin\":true,\"zerolinewidth\":2},\"scene\":{\"xaxis\":{\"backgroundcolor\":\"#E5ECF6\",\"gridcolor\":\"white\",\"linecolor\":\"white\",\"showbackground\":true,\"ticks\":\"\",\"zerolinecolor\":\"white\",\"gridwidth\":2},\"yaxis\":{\"backgroundcolor\":\"#E5ECF6\",\"gridcolor\":\"white\",\"linecolor\":\"white\",\"showbackground\":true,\"ticks\":\"\",\"zerolinecolor\":\"white\",\"gridwidth\":2},\"zaxis\":{\"backgroundcolor\":\"#E5ECF6\",\"gridcolor\":\"white\",\"linecolor\":\"white\",\"showbackground\":true,\"ticks\":\"\",\"zerolinecolor\":\"white\",\"gridwidth\":2}},\"shapedefaults\":{\"line\":{\"color\":\"#2a3f5f\"}},\"annotationdefaults\":{\"arrowcolor\":\"#2a3f5f\",\"arrowhead\":0,\"arrowwidth\":1},\"geo\":{\"bgcolor\":\"white\",\"landcolor\":\"#E5ECF6\",\"subunitcolor\":\"white\",\"showland\":true,\"showlakes\":true,\"lakecolor\":\"white\"},\"title\":{\"x\":0.05},\"mapbox\":{\"style\":\"light\"}}},\"xaxis\":{\"anchor\":\"y\",\"domain\":[0.0,1.0],\"title\":{\"text\":\"step\"},\"range\":[20,41]},\"yaxis\":{\"anchor\":\"x\",\"domain\":[0.0,1.0],\"title\":{\"text\":\"particle\"}},\"coloraxis\":{\"colorbar\":{\"title\":{\"text\":\"float parent\"}},\"colorscale\":[[0.0,\"#0d0887\"],[0.1111111111111111,\"#46039f\"],[0.2222222222222222,\"#7201a8\"],[0.3333333333333333,\"#9c179e\"],[0.4444444444444444,\"#bd3786\"],[0.5555555555555556,\"#d8576b\"],[0.6666666666666666,\"#ed7953\"],[0.7777777777777778,\"#fb9f3a\"],[0.8888888888888888,\"#fdca26\"],[1.0,\"#f0f921\"]]},\"legend\":{\"tracegroupgap\":0,\"itemsizing\":\"constant\"},\"margin\":{\"t\":60},\"shapes\":[{\"line\":{\"color\":\"gray\",\"width\":4},\"opacity\":0.15,\"type\":\"line\",\"x0\":22,\"x1\":22,\"xref\":\"x\",\"y0\":0,\"y1\":1,\"yref\":\"y domain\"},{\"line\":{\"color\":\"gray\",\"width\":4},\"opacity\":0.15,\"type\":\"line\",\"x0\":29,\"x1\":29,\"xref\":\"x\",\"y0\":0,\"y1\":1,\"yref\":\"y domain\"},{\"line\":{\"color\":\"gray\",\"width\":4},\"opacity\":0.15,\"type\":\"line\",\"x0\":33,\"x1\":33,\"xref\":\"x\",\"y0\":0,\"y1\":1,\"yref\":\"y domain\"},{\"line\":{\"color\":\"gray\",\"width\":4},\"opacity\":0.15,\"type\":\"line\",\"x0\":35,\"x1\":35,\"xref\":\"x\",\"y0\":0,\"y1\":1,\"yref\":\"y domain\"},{\"line\":{\"color\":\"gray\",\"width\":4},\"opacity\":0.15,\"type\":\"line\",\"x0\":36,\"x1\":36,\"xref\":\"x\",\"y0\":0,\"y1\":1,\"yref\":\"y domain\"},{\"line\":{\"color\":\"gray\",\"width\":4},\"opacity\":0.15,\"type\":\"line\",\"x0\":38,\"x1\":38,\"xref\":\"x\",\"y0\":0,\"y1\":1,\"yref\":\"y domain\"},{\"line\":{\"color\":\"gray\",\"width\":4},\"opacity\":0.15,\"type\":\"line\",\"x0\":41,\"x1\":41,\"xref\":\"x\",\"y0\":0,\"y1\":1,\"yref\":\"y domain\"}]},                        {\"responsive\": true}                    ).then(function(){\n",
       "                            \n",
       "var gd = document.getElementById('2c714dbe-87c0-47b5-bbb9-18d1193ac0a2');\n",
       "var x = new MutationObserver(function (mutations, observer) {{\n",
       "        var display = window.getComputedStyle(gd).display;\n",
       "        if (!display || display === 'none') {{\n",
       "            console.log([gd, 'removed!']);\n",
       "            Plotly.purge(gd);\n",
       "            observer.disconnect();\n",
       "        }}\n",
       "}});\n",
       "\n",
       "// Listen for the removal of the full notebook cells\n",
       "var notebookContainer = gd.closest('#notebook-container');\n",
       "if (notebookContainer) {{\n",
       "    x.observe(notebookContainer, {childList: true});\n",
       "}}\n",
       "\n",
       "// Listen for the clearing of the current output cell\n",
       "var outputEl = gd.closest('.output');\n",
       "if (outputEl) {{\n",
       "    x.observe(outputEl, {childList: true});\n",
       "}}\n",
       "\n",
       "                        })                };                });            </script>        </div>"
      ]
     },
     "metadata": {},
     "output_type": "display_data"
    }
   ],
   "source": [
    "fig = px.scatter(\n",
    "    recs, x=\"step\", y=\"particle\", size='prop_exp_weight', color=\"float parent\", hover_name=\"token\", \n",
    "    hover_data=[\"context_string\",\"weight\", \"resample?\"], \n",
    "    # animation_frame=\"step\", animation_group=\"parent\", \n",
    "    range_x=[20,41]\n",
    ")\n",
    "resample_steps = recs[recs['resample?'] == True]['step'].unique()\n",
    "for step in resample_steps:\n",
    "    fig.add_vline(x=step, line_width=4, opacity=0.15, line_color=\"gray\")\n",
    "\n",
    "\n",
    "# Add lines connecting dots with the same parent in consecutive steps\n",
    "parents = recs['parent'].unique()\n",
    "steps = sorted(recs['step'].unique())\n",
    "\n",
    "# Ensure color consistency by creating a color map\n",
    "available_colors = px.colors.qualitative.Plotly\n",
    "parents = recs['parent'].unique()\n",
    "color_map = {parent: available_colors[i % len(available_colors)] for i, parent in enumerate(parents)}\n",
    "\n",
    "# Filter data for steps where resample? is True\n",
    "resample_data = recs[recs['resample?'] == True]\n",
    "\n",
    "# Add lines connecting dots with the same parent at resample steps\n",
    "for parent in parents:\n",
    "    parent_data = recs[recs['parent'] == parent]\n",
    "    \n",
    "    for step in resample_steps:\n",
    "        data_step_n = parent_data[parent_data['step'] == step]\n",
    "        data_step_n1 = parent_data[parent_data['step'] == step - 1]\n",
    "        \n",
    "        for _, row_n in data_step_n.iterrows():\n",
    "            for _, row_n1 in data_step_n1.iterrows():\n",
    "                fig.add_trace(go.Scatter(\n",
    "                    x=[row_n['step'], row_n1['step']],\n",
    "                    y=[row_n['particle'], row_n1['particle']],\n",
    "                    mode='lines',\n",
    "                    line=dict(color=color_map[parent]),\n",
    "                    name=f'parent_{parent}',\n",
    "                    showlegend=False\n",
    "                ))\n",
    "\n",
    "# Show the plot\n",
    "fig.show()"
   ]
  }
 ],
 "metadata": {
  "kernelspec": {
   "display_name": "Python conda genparse",
   "language": "python",
   "name": "genparse"
  },
  "language_info": {
   "codemirror_mode": {
    "name": "ipython",
    "version": 3
   },
   "file_extension": ".py",
   "mimetype": "text/x-python",
   "name": "python",
   "nbconvert_exporter": "python",
   "pygments_lexer": "ipython3",
   "version": "3.10.14"
  }
 },
 "nbformat": 4,
 "nbformat_minor": 2
}
