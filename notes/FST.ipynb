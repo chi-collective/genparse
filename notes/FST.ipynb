{
 "cells": [
  {
   "cell_type": "markdown",
   "id": "d2d8769c-975b-4ca8-a4ba-5d7ca9dec447",
   "metadata": {},
   "source": [
    "# Token Alignment"
   ]
  },
  {
   "cell_type": "code",
   "execution_count": 1,
   "id": "ac172e17-65d6-4359-9aea-a0444b1020c8",
   "metadata": {},
   "outputs": [],
   "source": [
    "%load_ext autoreload\n",
    "%autoreload 2"
   ]
  },
  {
   "cell_type": "code",
   "execution_count": 2,
   "id": "c989a28a-3ac9-4777-a56c-6d020f61eee7",
   "metadata": {},
   "outputs": [],
   "source": [
    "from genparse import CFG, FST, EPSILON, Float, CFGLM, add_EOS, prefix_transducer\n",
    "from genparse.cfglm import locally_normalize\n",
    "from genparse.util import LarkStuff, hf_tokenizer\n",
    "from arsenal import iterview, timeit\n",
    "from collections import Counter\n",
    "#from mockup import about, bpe2term_approx, show_grammar\n",
    "#from original_prefix_grammar import PrefixGrammar\n",
    "from genparse.inference import TraceSWOR"
   ]
  },
  {
   "cell_type": "code",
   "execution_count": 3,
   "id": "5e2008d7-9869-4cb1-a491-cab8d139651a",
   "metadata": {},
   "outputs": [],
   "source": [
    "def pcfg_check(cfg):\n",
    "    chart = cfg.agenda()\n",
    "    if all((0 <= v <= 1.000001) for v in chart.values()):\n",
    "        print(colors.mark(True), 'PCFG')\n",
    "    else:\n",
    "        print(colors.mark(False), 'PCFG', chart.__str__(style_value=lambda k, v: (colors.light.red % v) if v > 1.000001 or v < 0 else v))"
   ]
  },
  {
   "cell_type": "code",
   "execution_count": 4,
   "id": "c84e285f-399d-48d1-bc66-2739a1398289",
   "metadata": {},
   "outputs": [],
   "source": [
    "lark_stuff = LarkStuff(r\"\"\"\n",
    "\n",
    "start: NAME\n",
    "\n",
    "NAME: /(a|b)*c/\n",
    "\n",
    "\"\"\")\n",
    "\n",
    "cfg = lark_stuff.convert().renumber()\n",
    "c2t = lark_stuff.transducer(ignore='', decay=.1).renumber.trim\n",
    "cfg_t = (c2t @ cfg).trim()"
   ]
  },
  {
   "cell_type": "code",
   "execution_count": 5,
   "id": "93a7d737-1158-44c5-b850-599ea300a9db",
   "metadata": {},
   "outputs": [
    {
     "data": {
      "text/html": [
       "<pre style=\"width: fit-content; text-align: left; border: thin solid black; padding: 0.5em;\">Grammar {\n",
       "  1.0: 0 → NAME\n",
       "}</pre>"
      ],
      "text/plain": [
       "Grammar {\n",
       "  1.0: 0 → NAME\n",
       "}"
      ]
     },
     "execution_count": 5,
     "metadata": {},
     "output_type": "execute_result"
    }
   ],
   "source": [
    "cfg"
   ]
  },
  {
   "cell_type": "code",
   "execution_count": 6,
   "id": "44087811-cf40-4e57-8e2a-47806976c5a9",
   "metadata": {},
   "outputs": [],
   "source": [
    "#locally_normalize(cfg_t).trim()"
   ]
  },
  {
   "cell_type": "code",
   "execution_count": 7,
   "id": "e4644c51-093e-4cdd-aaac-4b4da2d8a7a9",
   "metadata": {},
   "outputs": [],
   "source": [
    "#locally_normalize(cfg_t).prefix_grammar.cnf"
   ]
  },
  {
   "cell_type": "code",
   "execution_count": 8,
   "id": "fdf353e6-37fd-4f85-8456-59d020100663",
   "metadata": {},
   "outputs": [],
   "source": [
    "#c2t"
   ]
  },
  {
   "cell_type": "code",
   "execution_count": 9,
   "id": "54563053-ad7d-4bfe-81d1-f045164f8ded",
   "metadata": {},
   "outputs": [],
   "source": [
    "foo = lark_stuff.char_cfg(decay=.1)"
   ]
  },
  {
   "cell_type": "code",
   "execution_count": 10,
   "id": "bb1b890e-af73-4986-8a7c-505834886378",
   "metadata": {},
   "outputs": [
    {
     "data": {
      "text/html": [
       "<pre style=\"width: fit-content; text-align: left; border: thin solid black; padding: 0.5em;\">Grammar {\n",
       "  1.0: 0 → NAME\n",
       "  1: NAME → ('NAME', 0)\n",
       "  0.1: ('NAME', 1) → \n",
       "  0.03333333333333333: ('NAME', 0) → a ('NAME', 0)\n",
       "  0.03333333333333333: ('NAME', 0) → b ('NAME', 0)\n",
       "  0.03333333333333333: ('NAME', 0) → c ('NAME', 1)\n",
       "}</pre>"
      ],
      "text/plain": [
       "Grammar {\n",
       "  1.0: 0 → NAME\n",
       "  1: NAME → ('NAME', 0)\n",
       "  0.1: ('NAME', 1) → \n",
       "  0.03333333333333333: ('NAME', 0) → a ('NAME', 0)\n",
       "  0.03333333333333333: ('NAME', 0) → b ('NAME', 0)\n",
       "  0.03333333333333333: ('NAME', 0) → c ('NAME', 1)\n",
       "}"
      ]
     },
     "execution_count": 10,
     "metadata": {},
     "output_type": "execute_result"
    }
   ],
   "source": [
    "foo"
   ]
  },
  {
   "cell_type": "code",
   "execution_count": 11,
   "id": "0c6210c0-59f6-452b-99c7-a0cb33b7df9a",
   "metadata": {},
   "outputs": [
    {
     "data": {
      "text/html": [
       "<div style=\"font-family: Monospace;\"><table><tr style=\"font-weight: bold;\"><td>key</td><td>value</td></tr><tr><td>('c',)</td><td>0.0033333333333333335</td> </tr><tr><td>('b', 'c')</td><td>0.00011111111111111112</td> </tr><tr><td>('b', 'b', 'c')</td><td>3.7037037037037037e-06</td> </tr><tr><td>('b', 'a', 'c')</td><td>3.7037037037037037e-06</td> </tr><tr><td>('a', 'c')</td><td>0.00011111111111111112</td> </tr><tr><td>('a', 'b', 'c')</td><td>3.7037037037037037e-06</td> </tr><tr><td>('a', 'a', 'c')</td><td>3.7037037037037037e-06</td> </tr></table></div>"
      ],
      "text/plain": [
       "{('c',): 0.0033333333333333335, ('b', 'c'): 0.00011111111111111112, ('b', 'b', 'c'): 3.7037037037037037e-06, ('b', 'a', 'c'): 3.7037037037037037e-06, ('a', 'c'): 0.00011111111111111112, ('a', 'b', 'c'): 3.7037037037037037e-06, ('a', 'a', 'c'): 3.7037037037037037e-06}"
      ]
     },
     "execution_count": 11,
     "metadata": {},
     "output_type": "execute_result"
    }
   ],
   "source": [
    "foo.cnf.language(3)"
   ]
  },
  {
   "cell_type": "code",
   "execution_count": 12,
   "id": "96c0c7e0-ab11-4f2a-8fd7-aef3bcb9003f",
   "metadata": {},
   "outputs": [
    {
     "name": "stdout",
     "output_type": "stream",
     "text": [
      "\u001b[0;32m✔\u001b[0m PCFG\n"
     ]
    }
   ],
   "source": [
    "foo = locally_normalize(foo)\n",
    "assert len(foo.trim()) > 0\n",
    "pcfg_check(foo)"
   ]
  },
  {
   "cell_type": "code",
   "execution_count": 13,
   "id": "2a198bd4-ab33-429b-a5c8-46487410a4f6",
   "metadata": {},
   "outputs": [],
   "source": [
    "lm = CFGLM(add_EOS(foo))"
   ]
  },
  {
   "cell_type": "code",
   "execution_count": 14,
   "id": "b7ae3d3c-02d9-47f7-a025-0c934c42c35c",
   "metadata": {},
   "outputs": [
    {
     "name": "stdout",
     "output_type": "stream",
     "text": [
      "0 ['c']\n",
      "1 ['a', 'c']\n",
      "2 ['b', 'c']\n",
      "3 ['b', 'b', 'c']\n",
      "4 ['b', 'a', 'c']\n",
      "5 ['a', 'a', 'c']\n",
      "6 ['a', 'b', 'c']\n",
      "7 ['b', 'a', 'b', 'c']\n",
      "8 ['b', 'b', 'a', 'c']\n",
      "9 ['a', 'b', 'b', 'c']\n",
      "10 ['a', 'b', 'a', 'c']\n",
      "11 ['b', 'b', 'b', 'c']\n",
      "12 ['b', 'a', 'a', 'c']\n",
      "13 ['a', 'a', 'b', 'b', 'c']\n",
      "14 ['a', 'a', 'a', 'c']\n"
     ]
    }
   ],
   "source": [
    "trace = TraceSWOR()\n",
    "for t in range(15):\n",
    "    with trace:\n",
    "        print(t, lm.sample(draw=trace))"
   ]
  },
  {
   "cell_type": "code",
   "execution_count": null,
   "id": "4e46c45e-00c4-4d81-93a4-875c042bc092",
   "metadata": {},
   "outputs": [],
   "source": []
  },
  {
   "cell_type": "code",
   "execution_count": 15,
   "id": "21c4baaf-8a5e-4380-81c8-9fe5f5d85bb6",
   "metadata": {},
   "outputs": [],
   "source": [
    "#for q in c2t.states:      \n",
    "#    for (a,b), r, w in c2t.arcs(q):\n",
    "#        print(f'--{a or \"ε\"}:{b or \"ε\"}/{w}-->', r)"
   ]
  },
  {
   "cell_type": "code",
   "execution_count": null,
   "id": "1c356ba5-a9b8-4eff-807c-1800629498be",
   "metadata": {},
   "outputs": [],
   "source": []
  },
  {
   "cell_type": "markdown",
   "id": "4dea8e0f-8c79-4545-9b35-99df1e172a94",
   "metadata": {},
   "source": [
    "https://aclanthology.org/P14-2102.pdf\n",
    "\n",
    "We want to ensure that $p(x \\mid y)$ is a valid probability distribution over $x$ for each $y$."
   ]
  },
  {
   "attachments": {
    "9518dd3a-b0df-4402-b03a-db7b71a6ea51.png": {
     "image/png": "[encoded data removed]"
    }
   },
   "cell_type": "markdown",
   "id": "4465e167-936f-49f5-a2aa-3d02f39e159e",
   "metadata": {},
   "source": [
    "![image.png](attachment:9518dd3a-b0df-4402-b03a-db7b71a6ea51.png)"
   ]
  },
  {
   "attachments": {
    "a3f1970c-52e4-4c31-a0eb-00af62809dc1.png": {
     "image/png": "[encoded data removed]"
    }
   },
   "cell_type": "markdown",
   "id": "e44c8f60-a29b-41ac-a435-702fce7db0db",
   "metadata": {},
   "source": [
    "![image.png](attachment:a3f1970c-52e4-4c31-a0eb-00af62809dc1.png)"
   ]
  },
  {
   "attachments": {
    "ab872fce-c6fb-4aac-9fdd-13d44a8cd13d.png": {
     "image/png": "[encoded data removed]"
    }
   },
   "cell_type": "markdown",
   "id": "545135bc-7a28-4064-a123-7ecab7c69a61",
   "metadata": {},
   "source": [
    "![image.png](attachment:ab872fce-c6fb-4aac-9fdd-13d44a8cd13d.png)"
   ]
  },
  {
   "cell_type": "code",
   "execution_count": null,
   "id": "03ce5328-a9c7-4736-9312-6ca1b463edfb",
   "metadata": {},
   "outputs": [],
   "source": []
  },
  {
   "cell_type": "code",
   "execution_count": null,
   "id": "2a035044-4c12-495a-8b70-1a6bda2cbb40",
   "metadata": {},
   "outputs": [],
   "source": []
  },
  {
   "cell_type": "code",
   "execution_count": 16,
   "id": "2f75719e-28ec-4029-9373-fb8cd17f5543",
   "metadata": {},
   "outputs": [],
   "source": [
    "# (FST.from_string('aaacbbbc', Float) @ c2t).project(1).epsremove.trim"
   ]
  },
  {
   "cell_type": "code",
   "execution_count": 17,
   "id": "8d50fc3f-398f-479c-911e-3523d6c472ff",
   "metadata": {},
   "outputs": [],
   "source": [
    "# for x, w in cfg.cnf.language(5).items():\n",
    "#     print(w, x)\n",
    "#     xx = (c2t @ FST.from_string(x, Float)).project(0).epsremove.trim\n",
    "#     print(xx.total_weight())\n",
    "#     display(xx)"
   ]
  },
  {
   "cell_type": "code",
   "execution_count": null,
   "id": "3dacdd7c-821f-45f8-be65-6b647d6eb751",
   "metadata": {},
   "outputs": [],
   "source": []
  },
  {
   "cell_type": "code",
   "execution_count": null,
   "id": "cccd6a22-816e-41b4-8d42-9db7988bc0b7",
   "metadata": {},
   "outputs": [],
   "source": []
  },
  {
   "cell_type": "code",
   "execution_count": 18,
   "id": "53a2607a-29a9-4ba3-a8d6-f55e086797ae",
   "metadata": {},
   "outputs": [],
   "source": [
    "#cfg_t.cnf.language(5)"
   ]
  },
  {
   "cell_type": "code",
   "execution_count": 19,
   "id": "d2b5b40f-e9ea-4b83-8b96-d067e4c842d9",
   "metadata": {},
   "outputs": [],
   "source": [
    "#print(cfg_t.agenda().__str__(style_value=lambda k, v: (colors.light.red % v) if v > 1 or v < 0 else v))"
   ]
  },
  {
   "cell_type": "code",
   "execution_count": null,
   "id": "31890af4-95bb-4c20-b897-cf7ec4738b6c",
   "metadata": {},
   "outputs": [],
   "source": []
  },
  {
   "cell_type": "code",
   "execution_count": 20,
   "id": "aab018d2-341c-41b3-868d-35e85b5eaa63",
   "metadata": {},
   "outputs": [],
   "source": [
    "#cfg.cnf.language(5)"
   ]
  },
  {
   "cell_type": "code",
   "execution_count": 21,
   "id": "33536045-b132-4b37-8168-e073a6f6d5d3",
   "metadata": {},
   "outputs": [],
   "source": [
    "#cfg_t.cnf.language(3)"
   ]
  },
  {
   "cell_type": "code",
   "execution_count": 22,
   "id": "a69cbbed-4846-4578-bd33-0003b37c8184",
   "metadata": {},
   "outputs": [],
   "source": [
    "#cfg_t.prefix_grammar.trim().cnf"
   ]
  },
  {
   "cell_type": "code",
   "execution_count": 23,
   "id": "154d19a8-788f-410f-8ad9-e1423bc144ce",
   "metadata": {},
   "outputs": [],
   "source": [
    "#show_grammar(cfg_t.prefix_grammar.trim())"
   ]
  },
  {
   "cell_type": "code",
   "execution_count": null,
   "id": "319b66e7-8dd0-43d1-bb38-1c1e981e2945",
   "metadata": {},
   "outputs": [],
   "source": []
  },
  {
   "cell_type": "code",
   "execution_count": 24,
   "id": "f9d8ad9c-b38a-4944-b929-281f9c362588",
   "metadata": {},
   "outputs": [],
   "source": [
    "x = 'SELECT * FROM data'"
   ]
  },
  {
   "cell_type": "code",
   "execution_count": null,
   "id": "b0c204c8-4b16-4f0d-94a4-5a955c32a0f5",
   "metadata": {},
   "outputs": [],
   "source": []
  },
  {
   "cell_type": "code",
   "execution_count": 25,
   "id": "b7fa87e3-bcc0-4bdb-9761-451afbf71de2",
   "metadata": {},
   "outputs": [],
   "source": [
    "# g = CFG.from_string(\"\"\"\n",
    "\n",
    "# 1: S -> a\n",
    "\n",
    "# \"\"\", Float)\n",
    "\n",
    "# t = FST(Float)\n",
    "# t.add_I(0, 1)\n",
    "# t.add_arc(0, ('a', ''), 1, 1)\n",
    "# t.add_arc(1, ('', 'b'), 1, 0.5)\n",
    "# t.add_F(1, 1)\n",
    "\n",
    "# (g @ t).language(10)"
   ]
  },
  {
   "cell_type": "code",
   "execution_count": null,
   "id": "43372387-deca-46f3-b9b1-e3026ef41e50",
   "metadata": {},
   "outputs": [],
   "source": []
  },
  {
   "cell_type": "code",
   "execution_count": 30,
   "id": "b2d33444-08fd-453b-bbf7-a53adedd98be",
   "metadata": {},
   "outputs": [
    {
     "data": {
      "text/plain": [
       "0.8862938119641267"
      ]
     },
     "execution_count": 30,
     "metadata": {},
     "output_type": "execute_result"
    }
   ],
   "source": [
    "lark_stuff = LarkStuff(r\"\"\"\n",
    "\n",
    "start: \"SELECT\" \" \" NAME \"X\"\n",
    "\n",
    "NAME: /b+/\n",
    "\n",
    "\"\"\")\n",
    "\n",
    "cfg = lark_stuff.convert().renumber()\n",
    "c2t = lark_stuff.transducer(ignore='', decay=.9).renumber\n",
    "cfg_t = (c2t @ cfg).trim()\n",
    "\n",
    "#display(cfg_t)\n",
    "\n",
    "#display(cfg_t.language(25))\n",
    "\n",
    "#pg = locally_normalize(cfg_t.cnf).prefix_grammar.trim()\n",
    "#pg = pg.cnf\n",
    "#display(pg)\n",
    "\n",
    "#print(cfg_t.V)\n",
    "#pg = PrefixGrammar(cfg_t)\n",
    "pg = cfg_t.prefix_grammar\n",
    "\n",
    "pg('SELECT bbb')   # should be nonzero..."
   ]
  },
  {
   "cell_type": "code",
   "execution_count": 32,
   "id": "2a94d6d2-4acf-4bdf-9425-72431e9b8c1c",
   "metadata": {},
   "outputs": [],
   "source": [
    "#c2t"
   ]
  },
  {
   "cell_type": "code",
   "execution_count": 34,
   "id": "d9d14541-2722-4986-a4bc-03dddcbad0c9",
   "metadata": {},
   "outputs": [],
   "source": [
    "#c2t(None, ('NAME',)).epsremove.trim.total_weight()"
   ]
  },
  {
   "cell_type": "code",
   "execution_count": 36,
   "id": "e0d7e90b-702f-4079-b7e8-6f17b13e5151",
   "metadata": {},
   "outputs": [],
   "source": [
    "#cfg_t.language(19)"
   ]
  },
  {
   "cell_type": "code",
   "execution_count": 37,
   "id": "23527faf-b78f-4d94-ab5d-43cd684187fb",
   "metadata": {},
   "outputs": [],
   "source": [
    "#cfg_t.cnf.trim()"
   ]
  },
  {
   "cell_type": "code",
   "execution_count": 38,
   "id": "9a6bd7b3-7ae5-48a5-8d93-882f241293cc",
   "metadata": {},
   "outputs": [],
   "source": [
    "#locally_normalize(cfg_t.cnf).treesum()"
   ]
  },
  {
   "cell_type": "code",
   "execution_count": 39,
   "id": "307c0737-3215-4123-812e-3ce6a3660f6b",
   "metadata": {},
   "outputs": [],
   "source": [
    "#locally_normalize(cfg_t.cnf).trim()"
   ]
  },
  {
   "cell_type": "code",
   "execution_count": 40,
   "id": "39d02564-dedd-4e9a-a7b8-9eb0c825ef89",
   "metadata": {},
   "outputs": [],
   "source": [
    "#locally_normalize(cfg_t.cnf).prefix_grammar.trim()"
   ]
  },
  {
   "cell_type": "markdown",
   "id": "d3e142ef-2966-4614-aa72-5a998059dc50",
   "metadata": {},
   "source": [
    "## Lexing"
   ]
  },
  {
   "cell_type": "code",
   "execution_count": 41,
   "id": "db2f8551-e3aa-474b-92d5-3219ad81b36c",
   "metadata": {},
   "outputs": [],
   "source": [
    "lark_stuff = LarkStuff(r\"\"\"\n",
    "\n",
    "start: \"SELECT\" WS STAR WS \"FROM\" WS NAME WS EOS\n",
    "\n",
    "EOS: \"</s>\"\n",
    "NAME: /[a-z]+/\n",
    "STAR: \"*\"\n",
    "WS: /[ ]/\n",
    "\n",
    "\"\"\")"
   ]
  },
  {
   "cell_type": "code",
   "execution_count": 42,
   "id": "16b1d527-d27a-46e9-8e8e-e2a3da812351",
   "metadata": {},
   "outputs": [],
   "source": [
    "foo = lark_stuff.char_cfg(.5)"
   ]
  },
  {
   "cell_type": "code",
   "execution_count": 43,
   "id": "77d438bc-5767-444a-a449-571f511575f0",
   "metadata": {},
   "outputs": [],
   "source": [
    "#foo['NAME'].trim().agenda()"
   ]
  },
  {
   "cell_type": "code",
   "execution_count": 44,
   "id": "6114f525-ff3b-4736-bc3a-d48ebcff71c1",
   "metadata": {},
   "outputs": [],
   "source": [
    "#foo.agenda()"
   ]
  },
  {
   "cell_type": "code",
   "execution_count": 45,
   "id": "c8a2e4dd-81f3-433f-83a0-651f27ca63de",
   "metadata": {},
   "outputs": [],
   "source": [
    "foo = locally_normalize(foo).trim()\n",
    "assert len(foo) > 0"
   ]
  },
  {
   "cell_type": "code",
   "execution_count": 46,
   "id": "d3fffee2-0852-4aef-a92c-0e6b100be3b5",
   "metadata": {},
   "outputs": [],
   "source": [
    "#foo"
   ]
  },
  {
   "cell_type": "code",
   "execution_count": 47,
   "id": "79508f80-8c4a-4cc9-8487-10920b285dd2",
   "metadata": {},
   "outputs": [],
   "source": [
    "lm = CFGLM(add_EOS(foo))"
   ]
  },
  {
   "cell_type": "code",
   "execution_count": 48,
   "id": "86cde92c-91ea-410a-b002-88b6f383916c",
   "metadata": {},
   "outputs": [
    {
     "name": "stdout",
     "output_type": "stream",
     "text": [
      "mass= 1.0\n",
      "['S', 'E', 'L', 'E', 'C', 'T', ' ', '*', ' ', 'F', 'R', 'O', 'M', ' ', 'k', 'f', 'i', ' ', '<', '/', 's', '>']\n",
      "mass= 0.9629903768294437\n",
      "['S', 'E', 'L', 'E', 'C', 'T', ' ', '*', ' ', 'F', 'R', 'O', 'M', ' ', 'f', 'w', 'a', 'y', ' ', '<', '/', 's', '>']\n",
      "mass= 0.9259807531832742\n",
      "['S', 'E', 'L', 'E', 'C', 'T', ' ', '*', ' ', 'F', 'R', 'O', 'M', ' ', 't', 'k', ' ', '<', '/', 's', '>']\n",
      "mass= 0.88897111978131\n",
      "['S', 'E', 'L', 'E', 'C', 'T', ' ', '*', ' ', 'F', 'R', 'O', 'M', ' ', 'm', 'x', ' ', '<', '/', 's', '>']\n",
      "mass= 0.8519614863793461\n",
      "['S', 'E', 'L', 'E', 'C', 'T', ' ', '*', ' ', 'F', 'R', 'O', 'M', ' ', 'r', 'y', ' ', '<', '/', 's', '>']\n",
      "mass= 0.814951852977382\n",
      "['S', 'E', 'L', 'E', 'C', 'T', ' ', '*', ' ', 'F', 'R', 'O', 'M', ' ', 'c', ' ', '<', '/', 's', '>']\n",
      "mass= 0.7772025652101627\n",
      "['S', 'E', 'L', 'E', 'C', 'T', ' ', '*', ' ', 'F', 'R', 'O', 'M', ' ', 'p', ' ', '<', '/', 's', '>']\n",
      "mass= 0.7394532774429434\n",
      "['S', 'E', 'L', 'E', 'C', 'T', ' ', '*', ' ', 'F', 'R', 'O', 'M', ' ', 'w', ' ', '<', '/', 's', '>']\n",
      "mass= 0.7017039896757241\n",
      "['S', 'E', 'L', 'E', 'C', 'T', ' ', '*', ' ', 'F', 'R', 'O', 'M', ' ', 'b', 'b', 'b', 'p', 'p', ' ', '<', '/', 's', '>']\n",
      "mass= 0.6646943660295547\n",
      "['S', 'E', 'L', 'E', 'C', 'T', ' ', '*', ' ', 'F', 'R', 'O', 'M', ' ', 'v', 'g', 'a', ' ', '<', '/', 's', '>']\n",
      "mass= 0.6276847423833829\n",
      "['S', 'E', 'L', 'E', 'C', 'T', ' ', '*', ' ', 'F', 'R', 'O', 'M', ' ', 'e', 'w', 'p', 'y', 'j', 'o', 'm', ' ', '<', '/', 's', '>']\n",
      "mass= 0.5906751187372133\n",
      "['S', 'E', 'L', 'E', 'C', 'T', ' ', '*', ' ', 'F', 'R', 'O', 'M', ' ', 'j', ' ', '<', '/', 's', '>']\n",
      "mass= 0.552925830969994\n",
      "['S', 'E', 'L', 'E', 'C', 'T', ' ', '*', ' ', 'F', 'R', 'O', 'M', ' ', 's', 'e', 'y', ' ', '<', '/', 's', '>']\n",
      "mass= 0.5159162073238222\n",
      "['S', 'E', 'L', 'E', 'C', 'T', ' ', '*', ' ', 'F', 'R', 'O', 'M', ' ', 'i', 'j', ' ', '<', '/', 's', '>']\n",
      "mass= 0.4789065739218581\n",
      "['S', 'E', 'L', 'E', 'C', 'T', ' ', '*', ' ', 'F', 'R', 'O', 'M', ' ', 'q', ' ', '<', '/', 's', '>']\n"
     ]
    }
   ],
   "source": [
    "trace = TraceSWOR()\n",
    "for _ in range(15):\n",
    "   print('mass=', trace.root.mass)\n",
    "   with trace:\n",
    "       print(lm.sample(draw=trace))"
   ]
  },
  {
   "cell_type": "code",
   "execution_count": null,
   "id": "e36e6deb-900c-4dbd-bad4-c51ce910a641",
   "metadata": {},
   "outputs": [],
   "source": []
  },
  {
   "cell_type": "code",
   "execution_count": 49,
   "id": "78a60e9d-e85b-4759-8653-bcccd72c02dd",
   "metadata": {},
   "outputs": [],
   "source": [
    "cfg = lark_stuff.convert().renumber()"
   ]
  },
  {
   "cell_type": "code",
   "execution_count": 50,
   "id": "db081114-ac49-4e6d-9c8f-b078966f965e",
   "metadata": {},
   "outputs": [
    {
     "data": {
      "text/plain": [
       "25"
      ]
     },
     "execution_count": 50,
     "metadata": {},
     "output_type": "execute_result"
    }
   ],
   "source": [
    "c2t = lark_stuff.transducer(ignore='', decay=.7); len(c2t.states)"
   ]
  },
  {
   "cell_type": "code",
   "execution_count": 51,
   "id": "1e5502ab-f3be-450b-9f8a-c44614be1cb2",
   "metadata": {},
   "outputs": [],
   "source": [
    "#c2t"
   ]
  },
  {
   "cell_type": "code",
   "execution_count": null,
   "id": "de777ca2-dbb6-4864-a3fb-14d95b231ffd",
   "metadata": {},
   "outputs": [],
   "source": []
  },
  {
   "cell_type": "markdown",
   "id": "4b8fd795-8971-41aa-8347-883ec12f0623",
   "metadata": {},
   "source": [
    "The `lark` library will only lex it one way because it has a deterministic semantics for prioritized lexing:"
   ]
  },
  {
   "cell_type": "code",
   "execution_count": null,
   "id": "3b469dfa-1951-419e-918d-2753befef16c",
   "metadata": {},
   "outputs": [],
   "source": [
    "list(lark_stuff.lex(x))"
   ]
  },
  {
   "cell_type": "markdown",
   "id": "890c4399-43c6-44f3-ba0a-9d4c720591ed",
   "metadata": {},
   "source": [
    "However, this string can lex many different ways:"
   ]
  },
  {
   "cell_type": "code",
   "execution_count": null,
   "id": "e4b13795-6d91-4604-847f-76a1cbec7576",
   "metadata": {},
   "outputs": [],
   "source": [
    "ambig = (FST.from_string(x, Float) @ c2t).trim.project(1).epsremove.trim.to_cfg().cnf.language(15)"
   ]
  },
  {
   "cell_type": "code",
   "execution_count": null,
   "id": "6d725b7f-f4c0-4cd5-8f0f-61bda50afe36",
   "metadata": {},
   "outputs": [],
   "source": [
    "#ambig"
   ]
  },
  {
   "cell_type": "markdown",
   "id": "1113c156-60a3-48c9-846f-cf9487dc5125",
   "metadata": {},
   "source": [
    "It might be fine to allow ambiguous lexing because very few of the possibly lexing options will survive the parser."
   ]
  },
  {
   "cell_type": "code",
   "execution_count": null,
   "id": "a7cb2cbf-8561-4b15-9713-5942a0568883",
   "metadata": {},
   "outputs": [],
   "source": [
    "for y in ambig:\n",
    "    v = cfg.prefix_weight(y)   # show all options with a nonzero prefix weight\n",
    "    if v == 0: continue\n",
    "    print(v, y)"
   ]
  },
  {
   "cell_type": "code",
   "execution_count": null,
   "id": "1f483463-8e3f-4e50-ab23-55fc4cf313cd",
   "metadata": {},
   "outputs": [],
   "source": []
  },
  {
   "cell_type": "code",
   "execution_count": null,
   "id": "5ddeacb6-c2d1-4338-ac43-08f6dfe4dfea",
   "metadata": {},
   "outputs": [],
   "source": [
    "#((FST.from_string('SELECT', Float) @ c2t) @ P.T @ cfg).trim().cnf.language(15)"
   ]
  },
  {
   "cell_type": "code",
   "execution_count": null,
   "id": "e0efbe84-53c3-4d07-8a32-956036803019",
   "metadata": {},
   "outputs": [],
   "source": [
    "#(P.T @ cfg).trim().cnf.language(100)"
   ]
  },
  {
   "cell_type": "code",
   "execution_count": null,
   "id": "dfc2e37c-55cc-485b-b755-3281ad9aaa0a",
   "metadata": {},
   "outputs": [],
   "source": [
    "cfg_t = (c2t.renumber @ cfg).trim()"
   ]
  },
  {
   "cell_type": "code",
   "execution_count": null,
   "id": "61895c06-fce8-4fb2-945b-2521c31ce11c",
   "metadata": {},
   "outputs": [],
   "source": [
    "#cfg_t.cnf.trim().language(13)"
   ]
  },
  {
   "cell_type": "code",
   "execution_count": null,
   "id": "ef90bc7f-7427-4702-a096-4cbbe9a40df9",
   "metadata": {},
   "outputs": [],
   "source": [
    "#cfg_t.V"
   ]
  },
  {
   "cell_type": "code",
   "execution_count": null,
   "id": "0bf52e0a-d21e-4aa7-8426-63eff4c3dd0c",
   "metadata": {},
   "outputs": [],
   "source": [
    "#cfg_t.agenda(maxiter=100)"
   ]
  },
  {
   "cell_type": "code",
   "execution_count": null,
   "id": "c28c2c09-fc6b-4d5e-aec1-96ba2cb56049",
   "metadata": {},
   "outputs": [],
   "source": [
    "#cfg_t.prefix_grammar('SEL')   # XXX: we what to run this, but the composition with c2t results in divergence!"
   ]
  },
  {
   "cell_type": "code",
   "execution_count": null,
   "id": "ac0aaff7-d82f-4834-89f6-54995723832a",
   "metadata": {},
   "outputs": [],
   "source": [
    "#chart = cfg_t.agenda()\n",
    "#chart"
   ]
  },
  {
   "cell_type": "code",
   "execution_count": null,
   "id": "6207fccb-5a42-466f-bf5f-4a0a3e542457",
   "metadata": {},
   "outputs": [],
   "source": [
    "#chart = cfg_t.agenda(maxiter=100)"
   ]
  },
  {
   "cell_type": "code",
   "execution_count": null,
   "id": "439c4ce7-d3f5-430f-9b4d-ebe026ae7672",
   "metadata": {},
   "outputs": [],
   "source": [
    "#for block in cfg_t.dependency_graph().blocks():\n",
    "#    if any( chart[y] > 1.001 for y in  block ):\n",
    "#        print(block, [chart[y] for y in block])"
   ]
  },
  {
   "cell_type": "code",
   "execution_count": null,
   "id": "0bbc4e17-e19b-48e4-b663-274a57411742",
   "metadata": {},
   "outputs": [],
   "source": [
    "#show_grammar(cfg_t)"
   ]
  },
  {
   "cell_type": "code",
   "execution_count": null,
   "id": "86719368-a8cb-48f3-b297-173b044a2333",
   "metadata": {},
   "outputs": [],
   "source": [
    "#cfg_t.agenda()"
   ]
  },
  {
   "cell_type": "code",
   "execution_count": null,
   "id": "ba25a101-6798-4a11-9ecc-d2db2e353022",
   "metadata": {},
   "outputs": [],
   "source": [
    "#cfg_t.cnf.trim().prefix_grammar.cnf('SELECT * FR')"
   ]
  },
  {
   "cell_type": "code",
   "execution_count": null,
   "id": "405b0d8c-fd5e-4746-a959-c847a3a7bb25",
   "metadata": {},
   "outputs": [],
   "source": [
    "cfg_t.trim().cnf('SELECT * FROM data </s>')"
   ]
  },
  {
   "cell_type": "code",
   "execution_count": null,
   "id": "83c86df1-8d2c-4db0-b08c-c16fa5e9e905",
   "metadata": {},
   "outputs": [],
   "source": [
    "pg = locally_normalize(cfg_t.cnf.trim()).prefix_grammar.trim()\n",
    "pg = pg.cnf"
   ]
  },
  {
   "cell_type": "code",
   "execution_count": null,
   "id": "6f8aebfe-8613-4a6c-a624-428ffc772d12",
   "metadata": {},
   "outputs": [],
   "source": [
    "pg('SEL')"
   ]
  },
  {
   "cell_type": "code",
   "execution_count": null,
   "id": "eb0847a4-2880-44f6-928e-18a6a74d5141",
   "metadata": {},
   "outputs": [],
   "source": [
    "pg('SELECT *')"
   ]
  },
  {
   "cell_type": "code",
   "execution_count": null,
   "id": "857feb25-f028-43cc-810b-09b905e550df",
   "metadata": {},
   "outputs": [],
   "source": [
    "lm = CFGLM(add_EOS(locally_normalize(cfg_t.cnf.trim())))"
   ]
  },
  {
   "cell_type": "code",
   "execution_count": null,
   "id": "8658feb1-73eb-4610-8ea7-f5292b698a66",
   "metadata": {},
   "outputs": [],
   "source": [
    "for _ in range(10):\n",
    "    print(''.join(lm.sample()))"
   ]
  },
  {
   "cell_type": "code",
   "execution_count": null,
   "id": "e74937eb-de5b-480b-997b-97ebd348bd23",
   "metadata": {},
   "outputs": [],
   "source": []
  },
  {
   "cell_type": "code",
   "execution_count": null,
   "id": "a6be40a1-cc63-454a-a3d5-2ac66baba86a",
   "metadata": {},
   "outputs": [],
   "source": [
    "lm.p_next('SELECT * FROM ')"
   ]
  },
  {
   "cell_type": "code",
   "execution_count": null,
   "id": "5cb1a591-6822-43d3-98b0-d66c61010a1f",
   "metadata": {},
   "outputs": [],
   "source": [
    "#cfg_t.cnf.language(13)"
   ]
  },
  {
   "cell_type": "code",
   "execution_count": null,
   "id": "e8894d33-e296-40cc-a244-b5e42d2387ff",
   "metadata": {},
   "outputs": [],
   "source": [
    "cfg_t('SELECT * FROM data </s>')"
   ]
  },
  {
   "cell_type": "code",
   "execution_count": null,
   "id": "a0b2bac3-2d67-4b1a-81ab-39fd0c5ac223",
   "metadata": {},
   "outputs": [],
   "source": []
  },
  {
   "cell_type": "code",
   "execution_count": null,
   "id": "8c275849-4b75-4da7-9b1d-428dc2dba3e3",
   "metadata": {},
   "outputs": [],
   "source": [
    "#lm = CFGLM(cfg_t)"
   ]
  },
  {
   "cell_type": "markdown",
   "id": "0f0582ac-3451-4b7f-bcb0-1fc2cdc8efbe",
   "metadata": {
    "jp-MarkdownHeadingCollapsed": true
   },
   "source": [
    "## BPE Basics"
   ]
  },
  {
   "cell_type": "code",
   "execution_count": null,
   "id": "66dddc70-9ccd-4e03-9135-8461fb0c831b",
   "metadata": {},
   "outputs": [],
   "source": [
    "hf_tk = hf_tokenizer()\n",
    "tokenizer = hf_tk.tokenizer"
   ]
  },
  {
   "cell_type": "code",
   "execution_count": null,
   "id": "3113a7ae-ea16-4b18-9612-70b4fdcee7b2",
   "metadata": {},
   "outputs": [],
   "source": [
    "b2c = hf_tk.fst\n",
    "len(b2c.states)"
   ]
  },
  {
   "cell_type": "code",
   "execution_count": null,
   "id": "822277b4-4f0f-43a2-8783-e6a5831109a2",
   "metadata": {},
   "outputs": [],
   "source": [
    "x = 'SELECT * FROM data'\n",
    "b = tokenizer.encode(x)\n",
    "b"
   ]
  },
  {
   "cell_type": "code",
   "execution_count": null,
   "id": "5a439aee-06e4-4e3c-b244-892f29ddc63b",
   "metadata": {},
   "outputs": [],
   "source": [
    "[tokenizer.decode([bb]) for bb in b]"
   ]
  },
  {
   "cell_type": "code",
   "execution_count": null,
   "id": "c76fb131-441b-4a32-b882-96fac76c0a9a",
   "metadata": {},
   "outputs": [],
   "source": [
    "#FST.from_pairs(hf_tk.pairs[1000:1020], Float).star().epsremove.trim"
   ]
  },
  {
   "cell_type": "code",
   "execution_count": null,
   "id": "54a5ff04-03bb-4965-9f05-8085c90dce5e",
   "metadata": {},
   "outputs": [],
   "source": [
    "with timeit('composition'):\n",
    "    c = FST.from_string(tuple(b), Float) @ b2c\n",
    "about(c)"
   ]
  },
  {
   "cell_type": "code",
   "execution_count": null,
   "id": "3f35ab22-cc99-4b61-836d-5109ae8934fd",
   "metadata": {},
   "outputs": [],
   "source": [
    "c.trim"
   ]
  },
  {
   "cell_type": "markdown",
   "id": "5e537195-c06c-4642-8a15-557de5a90f98",
   "metadata": {},
   "source": [
    "We can build this \"transducer\" more efficiently"
   ]
  },
  {
   "cell_type": "code",
   "execution_count": null,
   "id": "3cd29a5c-4b4a-4d65-b3e5-f4375b607fdb",
   "metadata": {},
   "outputs": [],
   "source": [
    "t = bpe2term_approx(tokenizer, tokenizer.encode(x)).epsremove.trim\n",
    "t"
   ]
  },
  {
   "cell_type": "markdown",
   "id": "d2df7b26-8065-4ae0-a83d-19d7b5cc436f",
   "metadata": {
    "jp-MarkdownHeadingCollapsed": true
   },
   "source": [
    "## BPE Ambiguity"
   ]
  },
  {
   "cell_type": "code",
   "execution_count": null,
   "id": "ac49282e-6174-4ab2-9c52-7be7663ecdae",
   "metadata": {},
   "outputs": [],
   "source": [
    "with timeit('composition'):\n",
    "    bs = b2c @ FST.from_string(x, Float)\n",
    "with timeit('trim'):\n",
    "    bs.trim\n",
    "about(bs)"
   ]
  },
  {
   "cell_type": "code",
   "execution_count": null,
   "id": "ccf89bc2-a985-44bc-b099-676221f34b05",
   "metadata": {},
   "outputs": [],
   "source": [
    "#bs.trim"
   ]
  },
  {
   "cell_type": "markdown",
   "id": "1f9e46e7-f348-4790-9f2e-ab3812c61f41",
   "metadata": {},
   "source": [
    "The automaton below describes all the BPE sequences that generate the string `x`:"
   ]
  },
  {
   "cell_type": "code",
   "execution_count": null,
   "id": "072cb3c3-6828-4a2d-88d5-d5d5fee491d1",
   "metadata": {},
   "outputs": [],
   "source": [
    "bs.trim.project(0).epsremove.trim"
   ]
  },
  {
   "cell_type": "markdown",
   "id": "c1a488f7-91ff-4d0a-a825-c2da8bbccc29",
   "metadata": {},
   "source": [
    "To see all the BPE sequences that generate `x` run the cell below:"
   ]
  },
  {
   "cell_type": "code",
   "execution_count": null,
   "id": "5ca21894-4a66-4d57-b631-f64f4fc2b575",
   "metadata": {},
   "outputs": [],
   "source": [
    "#for y in bs.trim.project(0).epsremove.trim.to_cfg().language(10):\n",
    "#    print(tokenizer.decode(y), y)"
   ]
  },
  {
   "cell_type": "code",
   "execution_count": null,
   "id": "e079fab7-8d78-4f00-b77f-cfc4615c861f",
   "metadata": {},
   "outputs": [],
   "source": [
    "#show_grammar(cfg_t, chart)"
   ]
  },
  {
   "cell_type": "code",
   "execution_count": null,
   "id": "fe16da90-e20c-4ff5-87c2-728b637cffd4",
   "metadata": {},
   "outputs": [],
   "source": [
    "#cfg_t"
   ]
  },
  {
   "cell_type": "markdown",
   "id": "d316859a-4e11-4f86-8998-65c0e424bb52",
   "metadata": {},
   "source": [
    "## BPE-to-Terminal"
   ]
  },
  {
   "cell_type": "code",
   "execution_count": null,
   "id": "819e6f5a-ed40-4400-8e88-9bfabc6b62d4",
   "metadata": {},
   "outputs": [],
   "source": [
    "#FST.from_string(tuple(b), Float) @ b2c"
   ]
  },
  {
   "cell_type": "code",
   "execution_count": null,
   "id": "0d4ea59e-84a5-4e8a-bb2d-c84c0ef19c30",
   "metadata": {},
   "outputs": [],
   "source": [
    "#t.to_cfg().cnf.language(50)"
   ]
  },
  {
   "cell_type": "code",
   "execution_count": null,
   "id": "c3f4e86d-dac3-4566-ac5f-540def8230de",
   "metadata": {},
   "outputs": [],
   "source": [
    "#e.trim.renumber.to_cfg().trim().cnf.language(55)"
   ]
  },
  {
   "cell_type": "code",
   "execution_count": null,
   "id": "11d3a0c5-be50-4133-875f-82267899df66",
   "metadata": {},
   "outputs": [],
   "source": [
    "#e.trim.renumber.project(0).epsremove.trim"
   ]
  },
  {
   "cell_type": "code",
   "execution_count": null,
   "id": "ce1eb8f3-fe00-4d64-8111-5f982175c02d",
   "metadata": {},
   "outputs": [],
   "source": [
    "#e.trim.renumber.project(0).epsremove.trim.to_cfg().trim().cnf.language(6)"
   ]
  },
  {
   "cell_type": "code",
   "execution_count": null,
   "id": "d074be39-6a08-4b66-a325-8b458256afad",
   "metadata": {},
   "outputs": [],
   "source": []
  },
  {
   "cell_type": "code",
   "execution_count": null,
   "id": "3b3042f1-4934-4140-ab1c-0c55a38d239d",
   "metadata": {},
   "outputs": [],
   "source": [
    "#tmp = c2t('SELECT', None).trim.epsremove.trim\n",
    "#tmp"
   ]
  },
  {
   "cell_type": "code",
   "execution_count": null,
   "id": "4d0ac67c-2d56-482a-920a-cf464ae4c190",
   "metadata": {},
   "outputs": [],
   "source": [
    "#tmp = c2t('SELECT\\n\\t\\r FROM 1 2', None).trim.epsremove.trim#.min\n",
    "#tmp"
   ]
  },
  {
   "cell_type": "code",
   "execution_count": null,
   "id": "d9242d89-80a9-4281-b11e-9479caa2b84f",
   "metadata": {},
   "outputs": [],
   "source": [
    "#tmp = c2t('SELECT\\nFROM', ('KEYWORD', 'KEYWORD'))\n",
    "#tmp"
   ]
  },
  {
   "cell_type": "code",
   "execution_count": null,
   "id": "f55d515f-705f-4139-8a78-9f81c3274ecc",
   "metadata": {},
   "outputs": [],
   "source": []
  },
  {
   "cell_type": "code",
   "execution_count": null,
   "id": "3a475d2c-152d-4bd3-92f7-be272f293916",
   "metadata": {},
   "outputs": [],
   "source": [
    "# random.seed(8675309)\n",
    "# bpe_small = random.sample(T, 10)\n",
    "# b2c_small = bpe_wfst(bpe_small).renumber\n",
    "# len(b2c_small.states)"
   ]
  },
  {
   "cell_type": "code",
   "execution_count": null,
   "id": "2e144e57-6ea4-4620-a50b-072142c8da81",
   "metadata": {},
   "outputs": [],
   "source": [
    "#bpe_small"
   ]
  },
  {
   "cell_type": "code",
   "execution_count": null,
   "id": "4f7e96cd-e314-446d-836e-cfee1a277cd5",
   "metadata": {},
   "outputs": [],
   "source": [
    "#b2c_small"
   ]
  },
  {
   "cell_type": "code",
   "execution_count": null,
   "id": "2ffa159a-5073-43db-af62-8700cac2c452",
   "metadata": {},
   "outputs": [],
   "source": []
  },
  {
   "cell_type": "code",
   "execution_count": null,
   "id": "a9eb4171-ff0c-482f-b781-517486e1f2f8",
   "metadata": {},
   "outputs": [],
   "source": [
    "#c = FST.from_string('zon ankles Turtles purple', Float).renumber"
   ]
  },
  {
   "cell_type": "code",
   "execution_count": null,
   "id": "f8348fba-c2ce-428e-a1af-b66e8745763d",
   "metadata": {},
   "outputs": [],
   "source": [
    "#len((b2c_small @ c).states), len((b2c_small @ c).trim.states)"
   ]
  },
  {
   "cell_type": "code",
   "execution_count": null,
   "id": "6135607e-a15c-4713-ae25-3d9567c7e9dd",
   "metadata": {},
   "outputs": [],
   "source": [
    "#(b2c_small @ c).trim"
   ]
  },
  {
   "cell_type": "code",
   "execution_count": null,
   "id": "19d7330a-1198-4df9-b8dc-83337525a727",
   "metadata": {},
   "outputs": [],
   "source": [
    "# N = lambda x: abs(hash(x)) % 3\n",
    "# A = lambda x: abs(hash(x)) % 2\n",
    "# B = lambda x: abs(hash(x)) % 7\n",
    "\n",
    "# bbb = b2c_small.coarsen(N, A, B)\n",
    "# ccc = c.coarsen(N = lambda x: abs(hash(x)) % 5, A = B, B = B)"
   ]
  },
  {
   "cell_type": "code",
   "execution_count": null,
   "id": "e7ef98e1-35eb-49f5-a2fd-fe7adbe831a4",
   "metadata": {},
   "outputs": [],
   "source": [
    "#bbb"
   ]
  },
  {
   "cell_type": "code",
   "execution_count": null,
   "id": "88788ce8-8a80-41af-8fe0-a7ed7c6784d1",
   "metadata": {},
   "outputs": [],
   "source": [
    "#ccc"
   ]
  },
  {
   "cell_type": "code",
   "execution_count": null,
   "id": "c9659ac2-ca1c-42a7-ab62-adb6a9d17df0",
   "metadata": {},
   "outputs": [],
   "source": []
  },
  {
   "cell_type": "code",
   "execution_count": null,
   "id": "e8d277dc-cfa4-4b60-ae20-2033fdf9d567",
   "metadata": {},
   "outputs": [],
   "source": [
    "#monster = b2c @ c2t"
   ]
  },
  {
   "cell_type": "code",
   "execution_count": null,
   "id": "5777a0a1-0f5a-4d5b-b923-c9e6245d6a45",
   "metadata": {},
   "outputs": [],
   "source": [
    "#len(monster.states), len(monster.trim.states)"
   ]
  },
  {
   "cell_type": "code",
   "execution_count": null,
   "id": "0a09b1f4-9e43-4899-a29e-ac9d24cfe1fb",
   "metadata": {},
   "outputs": [],
   "source": [
    "#monster_baby = FST.from_string((5188,), Float).renumber @ monster "
   ]
  },
  {
   "cell_type": "code",
   "execution_count": null,
   "id": "cdf203fe-05f2-499f-b4f9-e571fdd2f197",
   "metadata": {},
   "outputs": [],
   "source": [
    "#len(monster_baby.states), len(monster_baby.trim.states)"
   ]
  },
  {
   "cell_type": "code",
   "execution_count": null,
   "id": "c685613b-0392-44ac-8d9b-b3a8a47df7e8",
   "metadata": {},
   "outputs": [],
   "source": []
  },
  {
   "cell_type": "code",
   "execution_count": null,
   "id": "c6980512-92f9-4b62-8761-5e00838e89ac",
   "metadata": {},
   "outputs": [],
   "source": [
    "#c = FST.from_string(x, Float).renumber\n",
    "#c"
   ]
  },
  {
   "cell_type": "code",
   "execution_count": null,
   "id": "c792a242-3346-4e27-ae4a-81bb4a9cde52",
   "metadata": {},
   "outputs": [],
   "source": [
    "#query = b2c @ c"
   ]
  },
  {
   "cell_type": "code",
   "execution_count": null,
   "id": "0b9aa4aa-3a87-4d10-86a5-74c5a02cf6d7",
   "metadata": {},
   "outputs": [],
   "source": [
    "#query.trim"
   ]
  },
  {
   "cell_type": "code",
   "execution_count": null,
   "id": "142d3e48-d945-45f9-8a7a-cb739d93494a",
   "metadata": {},
   "outputs": [],
   "source": [
    "#len(query.states), len(query.trim.states)"
   ]
  },
  {
   "cell_type": "code",
   "execution_count": null,
   "id": "12c7b308-c0b4-411c-8bec-a2617a6a0f32",
   "metadata": {},
   "outputs": [],
   "source": [
    "#terminals = (c @ lark_stuff.transducer()).trim\n",
    "#terminals"
   ]
  },
  {
   "cell_type": "code",
   "execution_count": null,
   "id": "35827add-dec0-48d5-be71-5bbd61480887",
   "metadata": {},
   "outputs": [],
   "source": [
    "#list(lark_stuff.lex(x))"
   ]
  },
  {
   "cell_type": "code",
   "execution_count": null,
   "id": "34d69307-7ec8-4d45-a5b8-a88f307d8b8e",
   "metadata": {},
   "outputs": [],
   "source": [
    "#bpe2terminal = query.trim @ terminals"
   ]
  },
  {
   "cell_type": "code",
   "execution_count": null,
   "id": "58406814-5d91-49ad-9eea-c7e3d629cd30",
   "metadata": {},
   "outputs": [],
   "source": [
    "#len(bpe2terminal.states), len(bpe2terminal.trim.states)"
   ]
  },
  {
   "cell_type": "code",
   "execution_count": null,
   "id": "fca7577e-0ea6-455d-b788-82dbde0eac77",
   "metadata": {},
   "outputs": [],
   "source": [
    "#bpe2terminal.trim"
   ]
  },
  {
   "cell_type": "code",
   "execution_count": null,
   "id": "45add727-d4d9-418b-bf92-b7e782f23703",
   "metadata": {},
   "outputs": [],
   "source": []
  }
 ],
 "metadata": {
  "kernelspec": {
   "display_name": "Python 3 (ipykernel)",
   "language": "python",
   "name": "python3"
  },
  "language_info": {
   "codemirror_mode": {
    "name": "ipython",
    "version": 3
   },
   "file_extension": ".py",
   "mimetype": "text/x-python",
   "name": "python",
   "nbconvert_exporter": "python",
   "pygments_lexer": "ipython3",
   "version": "3.10.12"
  }
 },
 "nbformat": 4,
 "nbformat_minor": 5
}
