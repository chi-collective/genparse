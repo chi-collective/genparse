{
 "cells": [
  {
   "cell_type": "markdown",
   "id": "d2d8769c-975b-4ca8-a4ba-5d7ca9dec447",
   "metadata": {},
   "source": [
    "# Token Alignment"
   ]
  },
  {
   "cell_type": "code",
   "execution_count": 1,
   "id": "3d9fb828-28ae-4f5f-8fb7-214f325dfa49",
   "metadata": {},
   "outputs": [],
   "source": [
    "%load_ext autoreload\n",
    "%autoreload 2"
   ]
  },
  {
   "cell_type": "code",
   "execution_count": 2,
   "id": "988df6c8-bbb1-4a56-96c0-50ed95639b28",
   "metadata": {},
   "outputs": [],
   "source": [
    "from arsenal import iterview, timeit\n",
    "from collections import Counter\n",
    "from IPython.display import HTML"
   ]
  },
  {
   "cell_type": "code",
   "execution_count": 3,
   "id": "c989a28a-3ac9-4777-a56c-6d020f61eee7",
   "metadata": {},
   "outputs": [],
   "source": [
    "from genparse import CFG, FST, EPSILON, Float, CFGLM, add_EOS, prefix_transducer\n",
    "from genparse.cfglm import locally_normalize, EOS\n",
    "from genparse.util import LarkStuff, hf_tokenizer, about, show_grammar, normalize, bpe2term_approx\n",
    "from genparse.inference import TraceSWOR"
   ]
  },
  {
   "cell_type": "code",
   "execution_count": 4,
   "id": "5e2008d7-9869-4cb1-a491-cab8d139651a",
   "metadata": {},
   "outputs": [],
   "source": [
    "def pcfg_check(cfg):\n",
    "    chart = cfg.agenda()\n",
    "    if all((0 <= v <= 1.000001) for v in chart.values()):\n",
    "        print(colors.mark(True), 'PCFG')\n",
    "    else:\n",
    "        print(colors.mark(False), 'PCFG', chart.__str__(style_value=lambda k, v: v if abs(1 - v) <= 1e-5 else (colors.light.red % v)))"
   ]
  },
  {
   "cell_type": "code",
   "execution_count": 5,
   "id": "ae1fac00-d4c9-4cd5-a2b2-362fd80caba9",
   "metadata": {},
   "outputs": [],
   "source": [
    "def cfg_check_bounded(cfg, ub=1.000001, lb=0):\n",
    "    chart = cfg.agenda()\n",
    "    if all((0 <= v <= 1.000001) for v in chart.values()):\n",
    "        print(colors.mark(True), 'PCFG')\n",
    "    else:\n",
    "        print(colors.mark(False), 'PCFG', chart.__str__(style_value=lambda k, v: v if lb <= v <= ub else (colors.light.red % v)))"
   ]
  },
  {
   "cell_type": "markdown",
   "id": "9896cdb0-2de9-4437-bb3e-e1ea804ee184",
   "metadata": {},
   "source": [
    "## Accounting for BPE's Tokenization Ambiguity with Transduction "
   ]
  },
  {
   "cell_type": "code",
   "execution_count": 6,
   "id": "c84e285f-399d-48d1-bc66-2739a1398289",
   "metadata": {},
   "outputs": [
    {
     "name": "stdout",
     "output_type": "stream",
     "text": [
      "\u001b[0;32m✔\u001b[0m PCFG\n"
     ]
    }
   ],
   "source": [
    "lark_stuff = LarkStuff(r\"\"\"\n",
    "\n",
    "start: NAME\n",
    "\n",
    "NAME: /(a|b)*c/\n",
    "\n",
    "\"\"\")\n",
    "foo = lark_stuff.char_cfg(decay=.1)\n",
    "foo = locally_normalize(foo)\n",
    "assert len(foo.trim()) > 0\n",
    "pcfg_check(foo)"
   ]
  },
  {
   "cell_type": "code",
   "execution_count": 8,
   "id": "bb1b890e-af73-4986-8a7c-505834886378",
   "metadata": {},
   "outputs": [
    {
     "data": {
      "text/html": [
       "<pre style=\"width: fit-content; text-align: left; border: thin solid black; padding: 0.5em;\">Grammar {\n",
       "  1.0: 0 → NAME\n",
       "  1.0: NAME → ('NAME', 0)\n",
       "  1.0: ('NAME', 1) → \n",
       "  0.03333333333333333: ('NAME', 0) → a ('NAME', 0)\n",
       "  0.03333333333333333: ('NAME', 0) → b ('NAME', 0)\n",
       "  0.9333333333576115: ('NAME', 0) → c ('NAME', 1)\n",
       "}</pre>"
      ],
      "text/plain": [
       "Grammar {\n",
       "  1.0: 0 → NAME\n",
       "  1.0: NAME → ('NAME', 0)\n",
       "  1.0: ('NAME', 1) → \n",
       "  0.03333333333333333: ('NAME', 0) → a ('NAME', 0)\n",
       "  0.03333333333333333: ('NAME', 0) → b ('NAME', 0)\n",
       "  0.9333333333576115: ('NAME', 0) → c ('NAME', 1)\n",
       "}"
      ]
     },
     "execution_count": 8,
     "metadata": {},
     "output_type": "execute_result"
    }
   ],
   "source": [
    "foo"
   ]
  },
  {
   "cell_type": "code",
   "execution_count": 9,
   "id": "0c6210c0-59f6-452b-99c7-a0cb33b7df9a",
   "metadata": {},
   "outputs": [
    {
     "data": {
      "text/html": [
       "<div style=\"font-family: Monospace;\"><table><tr style=\"font-weight: bold;\"><td>key</td><td>value</td></tr><tr><td>('c',)</td><td>0.9333333333576115</td> </tr><tr><td>('b', 'c')</td><td>0.031111111111920383</td> </tr><tr><td>('b', 'b', 'c')</td><td>0.0010370370370640127</td> </tr><tr><td>('b', 'a', 'c')</td><td>0.0010370370370640127</td> </tr><tr><td>('a', 'c')</td><td>0.031111111111920383</td> </tr><tr><td>('a', 'b', 'c')</td><td>0.0010370370370640127</td> </tr><tr><td>('a', 'a', 'c')</td><td>0.0010370370370640127</td> </tr></table></div>"
      ],
      "text/plain": [
       "{('c',): 0.9333333333576115, ('b', 'c'): 0.031111111111920383, ('b', 'b', 'c'): 0.0010370370370640127, ('b', 'a', 'c'): 0.0010370370370640127, ('a', 'c'): 0.031111111111920383, ('a', 'b', 'c'): 0.0010370370370640127, ('a', 'a', 'c'): 0.0010370370370640127}"
      ]
     },
     "execution_count": 9,
     "metadata": {},
     "output_type": "execute_result"
    }
   ],
   "source": [
    "foo.cnf.language(3)"
   ]
  },
  {
   "cell_type": "code",
   "execution_count": 10,
   "id": "2a198bd4-ab33-429b-a5c8-46487410a4f6",
   "metadata": {},
   "outputs": [],
   "source": [
    "lm = CFGLM(add_EOS(foo))"
   ]
  },
  {
   "cell_type": "code",
   "execution_count": 11,
   "id": "b7ae3d3c-02d9-47f7-a025-0c934c42c35c",
   "metadata": {},
   "outputs": [
    {
     "name": "stdout",
     "output_type": "stream",
     "text": [
      "0 ['b', 'c']\n",
      "1 ['c']\n",
      "2 ['a', 'c']\n",
      "3 ['a', 'b', 'c']\n",
      "4 ['b', 'b', 'c']\n",
      "5 ['a', 'a', 'c']\n",
      "6 ['b', 'a', 'c']\n",
      "7 ['b', 'b', 'a', 'c']\n",
      "8 ['b', 'b', 'b', 'c']\n",
      "9 ['b', 'a', 'b', 'c']\n",
      "10 ['a', 'b', 'b', 'c']\n",
      "11 ['a', 'a', 'b', 'c']\n",
      "12 ['a', 'a', 'a', 'c']\n",
      "13 ['a', 'b', 'a', 'c']\n",
      "14 ['b', 'a', 'a', 'c']\n"
     ]
    }
   ],
   "source": [
    "trace = TraceSWOR()\n",
    "for t in range(15):\n",
    "    with trace:\n",
    "        print(t, lm.sample(draw=trace))"
   ]
  },
  {
   "cell_type": "code",
   "execution_count": 12,
   "id": "4e46c45e-00c4-4d81-93a4-875c042bc092",
   "metadata": {},
   "outputs": [],
   "source": [
    "H = hf_tokenizer()\n",
    "about(H.fst)"
   ]
  },
  {
   "cell_type": "markdown",
   "id": "9cb7dea7-788c-4002-bac9-7f7249852acb",
   "metadata": {},
   "source": [
    "Let's shrink the BPE transducer down to something managable by limiting it alphabet "
   ]
  },
  {
   "cell_type": "code",
   "execution_count": 14,
   "id": "ec6f862e-9096-4ede-ba35-c632bdf2a1e5",
   "metadata": {},
   "outputs": [],
   "source": [
    "b2c = H.fst.prune_to_alphabet(None, foo.V | {''}).renumber\n",
    "about(b2c)"
   ]
  },
  {
   "cell_type": "code",
   "execution_count": 16,
   "id": "e1007c22-7c76-448d-a5ba-e121a2efc8ed",
   "metadata": {},
   "outputs": [],
   "source": [
    "#b2c"
   ]
  },
  {
   "cell_type": "markdown",
   "id": "9b03ac6d-e5bd-4b66-8516-5b01eb56e7b5",
   "metadata": {},
   "source": [
    "We can look at our little language's strings thru the lense of their possible BPE sequences.  Notice that these strings are ambiguously mapped to BPE --- meaning that there are many BPE sequences that would give rise to the same string!"
   ]
  },
  {
   "cell_type": "code",
   "execution_count": 17,
   "id": "63583038-d333-48a6-8e53-4403df9b9194",
   "metadata": {},
   "outputs": [
    {
     "name": "stdout",
     "output_type": "stream",
     "text": [
      "('c',)\n",
      "total weight of BPE sequences: 1.0\n"
     ]
    },
    {
     "data": {
      "image/svg+xml": [
       "<?xml version=\"1.0\" encoding=\"UTF-8\" standalone=\"no\"?>\n",
       "<!DOCTYPE svg PUBLIC \"-//W3C//DTD SVG 1.1//EN\"\n",
       " \"http://www.w3.org/Graphics/SVG/1.1/DTD/svg11.dtd\">\n",
       "<!-- Generated by graphviz version 2.43.0 (0)\n",
       " -->\n",
       "<!-- Title: %3 Pages: 1 -->\n",
       "<svg width=\"181pt\" height=\"26pt\"\n",
       " viewBox=\"0.00 0.00 181.11 25.78\" xmlns=\"http://www.w3.org/2000/svg\" xmlns:xlink=\"http://www.w3.org/1999/xlink\">\n",
       "<g id=\"graph0\" class=\"graph\" transform=\"scale(1 1) rotate(0) translate(4 21.78)\">\n",
       "<title>%3</title>\n",
       "<polygon fill=\"white\" stroke=\"transparent\" points=\"-4,4 -4,-21.78 177.11,-21.78 177.11,4 -4,4\"/>\n",
       "<!-- start_(0, (0, ())) -->\n",
       "<g id=\"node1\" class=\"node\">\n",
       "<title>start_(0, (0, ()))</title>\n",
       "<ellipse fill=\"black\" stroke=\"black\" cx=\"0\" cy=\"-7.78\" rx=\"0\" ry=\"0\"/>\n",
       "</g>\n",
       "<!-- 0 -->\n",
       "<g id=\"node2\" class=\"node\">\n",
       "<title>0</title>\n",
       "<ellipse fill=\"none\" stroke=\"black\" cx=\"49.78\" cy=\"-7.78\" rx=\"7.56\" ry=\"7.56\"/>\n",
       "<text text-anchor=\"middle\" x=\"49.78\" y=\"-5.28\" font-family=\"Monospace\" font-size=\"10.00\"> </text>\n",
       "</g>\n",
       "<!-- start_(0, (0, ()))&#45;&gt;0 -->\n",
       "<g id=\"edge1\" class=\"edge\">\n",
       "<title>start_(0, (0, ()))&#45;&gt;0</title>\n",
       "<path fill=\"none\" stroke=\"black\" d=\"M1.14,-7.78C3.07,-7.78 25.11,-7.78 38.52,-7.78\"/>\n",
       "<polygon fill=\"black\" stroke=\"black\" points=\"38.73,-8.83 41.73,-7.78 38.73,-6.73 38.73,-8.83\"/>\n",
       "<text text-anchor=\"middle\" x=\"21\" y=\"-10.58\" font-family=\"Monospace\" font-size=\"9.00\">1</text>\n",
       "</g>\n",
       "<!-- 1 -->\n",
       "<g id=\"node3\" class=\"node\">\n",
       "<title>1</title>\n",
       "<ellipse fill=\"none\" stroke=\"black\" cx=\"123.33\" cy=\"-7.78\" rx=\"7.56\" ry=\"7.56\"/>\n",
       "<text text-anchor=\"middle\" x=\"123.33\" y=\"-5.28\" font-family=\"Monospace\" font-size=\"10.00\"> </text>\n",
       "</g>\n",
       "<!-- 0&#45;&gt;1 -->\n",
       "<g id=\"edge3\" class=\"edge\">\n",
       "<title>0&#45;&gt;1</title>\n",
       "<path fill=\"none\" stroke=\"black\" d=\"M57.64,-7.78C70.26,-7.78 97.21,-7.78 112.03,-7.78\"/>\n",
       "<polygon fill=\"black\" stroke=\"black\" points=\"112.18,-8.83 115.18,-7.78 112.18,-6.73 112.18,-8.83\"/>\n",
       "<text text-anchor=\"middle\" x=\"86.56\" y=\"-10.58\" font-family=\"Monospace\" font-size=\"9.00\">66/1</text>\n",
       "</g>\n",
       "<!-- stop_(1, (2, (&#39;c&#39;,))) -->\n",
       "<g id=\"node4\" class=\"node\">\n",
       "<title>stop_(1, (2, (&#39;c&#39;,)))</title>\n",
       "<ellipse fill=\"black\" stroke=\"black\" cx=\"173.11\" cy=\"-7.78\" rx=\"0\" ry=\"0\"/>\n",
       "</g>\n",
       "<!-- 1&#45;&gt;stop_(1, (2, (&#39;c&#39;,))) -->\n",
       "<g id=\"edge2\" class=\"edge\">\n",
       "<title>1&#45;&gt;stop_(1, (2, (&#39;c&#39;,)))</title>\n",
       "<path fill=\"none\" stroke=\"black\" d=\"M131.38,-7.78C141.85,-7.78 161.07,-7.78 168.78,-7.78\"/>\n",
       "<polygon fill=\"black\" stroke=\"black\" points=\"169.03,-8.83 172.03,-7.78 169.03,-6.73 169.03,-8.83\"/>\n",
       "<text text-anchor=\"middle\" x=\"152.11\" y=\"-10.58\" font-family=\"Monospace\" font-size=\"9.00\">1</text>\n",
       "</g>\n",
       "</g>\n",
       "</svg>\n"
      ],
      "text/plain": [
       "WFSA(2 states)"
      ]
     },
     "metadata": {},
     "output_type": "display_data"
    },
    {
     "name": "stdout",
     "output_type": "stream",
     "text": [
      "\n",
      "('b', 'c')\n",
      "total weight of BPE sequences: 2.0\n"
     ]
    },
    {
     "data": {
      "image/svg+xml": [
       "<?xml version=\"1.0\" encoding=\"UTF-8\" standalone=\"no\"?>\n",
       "<!DOCTYPE svg PUBLIC \"-//W3C//DTD SVG 1.1//EN\"\n",
       " \"http://www.w3.org/Graphics/SVG/1.1/DTD/svg11.dtd\">\n",
       "<!-- Generated by graphviz version 2.43.0 (0)\n",
       " -->\n",
       "<!-- Title: %3 Pages: 1 -->\n",
       "<svg width=\"276pt\" height=\"44pt\"\n",
       " viewBox=\"0.00 0.00 276.11 43.66\" xmlns=\"http://www.w3.org/2000/svg\" xmlns:xlink=\"http://www.w3.org/1999/xlink\">\n",
       "<g id=\"graph0\" class=\"graph\" transform=\"scale(1 1) rotate(0) translate(4 39.66)\">\n",
       "<title>%3</title>\n",
       "<polygon fill=\"white\" stroke=\"transparent\" points=\"-4,4 -4,-39.66 272.11,-39.66 272.11,4 -4,4\"/>\n",
       "<!-- start_(0, (0, ())) -->\n",
       "<g id=\"node1\" class=\"node\">\n",
       "<title>start_(0, (0, ()))</title>\n",
       "<ellipse fill=\"black\" stroke=\"black\" cx=\"0\" cy=\"-7.88\" rx=\"0\" ry=\"0\"/>\n",
       "</g>\n",
       "<!-- 0 -->\n",
       "<g id=\"node2\" class=\"node\">\n",
       "<title>0</title>\n",
       "<ellipse fill=\"none\" stroke=\"black\" cx=\"49.78\" cy=\"-7.88\" rx=\"7.56\" ry=\"7.56\"/>\n",
       "<text text-anchor=\"middle\" x=\"49.78\" y=\"-5.38\" font-family=\"Monospace\" font-size=\"10.00\"> </text>\n",
       "</g>\n",
       "<!-- start_(0, (0, ()))&#45;&gt;0 -->\n",
       "<g id=\"edge1\" class=\"edge\">\n",
       "<title>start_(0, (0, ()))&#45;&gt;0</title>\n",
       "<path fill=\"none\" stroke=\"black\" d=\"M1.14,-7.88C3.07,-7.88 25.11,-7.88 38.52,-7.88\"/>\n",
       "<polygon fill=\"black\" stroke=\"black\" points=\"38.73,-8.93 41.73,-7.88 38.73,-6.83 38.73,-8.93\"/>\n",
       "<text text-anchor=\"middle\" x=\"21\" y=\"-10.68\" font-family=\"Monospace\" font-size=\"9.00\">1</text>\n",
       "</g>\n",
       "<!-- 1 -->\n",
       "<g id=\"node3\" class=\"node\">\n",
       "<title>1</title>\n",
       "<ellipse fill=\"none\" stroke=\"black\" cx=\"134.06\" cy=\"-27.88\" rx=\"7.56\" ry=\"7.56\"/>\n",
       "<text text-anchor=\"middle\" x=\"134.06\" y=\"-25.38\" font-family=\"Monospace\" font-size=\"10.00\"> </text>\n",
       "</g>\n",
       "<!-- 0&#45;&gt;1 -->\n",
       "<g id=\"edge3\" class=\"edge\">\n",
       "<title>0&#45;&gt;1</title>\n",
       "<path fill=\"none\" stroke=\"black\" d=\"M57.51,-9.52C71.9,-13.02 105.74,-21.24 122.82,-25.4\"/>\n",
       "<polygon fill=\"black\" stroke=\"black\" points=\"122.83,-26.48 126,-26.17 123.33,-24.44 122.83,-26.48\"/>\n",
       "<text text-anchor=\"middle\" x=\"86.56\" y=\"-22.68\" font-family=\"Monospace\" font-size=\"9.00\">65/1</text>\n",
       "</g>\n",
       "<!-- 2 -->\n",
       "<g id=\"node4\" class=\"node\">\n",
       "<title>2</title>\n",
       "<ellipse fill=\"none\" stroke=\"black\" cx=\"218.33\" cy=\"-7.88\" rx=\"7.56\" ry=\"7.56\"/>\n",
       "<text text-anchor=\"middle\" x=\"218.33\" y=\"-5.38\" font-family=\"Monospace\" font-size=\"10.00\"> </text>\n",
       "</g>\n",
       "<!-- 0&#45;&gt;2 -->\n",
       "<g id=\"edge4\" class=\"edge\">\n",
       "<title>0&#45;&gt;2</title>\n",
       "<path fill=\"none\" stroke=\"black\" d=\"M57.57,-6.91C69.34,-5.27 94.32,-2.03 115.56,-0.88 131.98,0 136.14,0 152.56,-0.88 172.13,-1.94 194.89,-4.77 207.55,-6.5\"/>\n",
       "<polygon fill=\"black\" stroke=\"black\" points=\"207.43,-7.54 210.55,-6.91 207.72,-5.46 207.43,-7.54\"/>\n",
       "<text text-anchor=\"middle\" x=\"134.06\" y=\"-3.68\" font-family=\"Monospace\" font-size=\"9.00\">15630/1</text>\n",
       "</g>\n",
       "<!-- 1&#45;&gt;2 -->\n",
       "<g id=\"edge5\" class=\"edge\">\n",
       "<title>1&#45;&gt;2</title>\n",
       "<path fill=\"none\" stroke=\"black\" d=\"M141.79,-26.25C156.18,-22.75 190.02,-14.52 207.09,-10.37\"/>\n",
       "<polygon fill=\"black\" stroke=\"black\" points=\"207.61,-11.33 210.28,-9.6 207.11,-9.29 207.61,-11.33\"/>\n",
       "<text text-anchor=\"middle\" x=\"181.56\" y=\"-22.68\" font-family=\"Monospace\" font-size=\"9.00\">66/1</text>\n",
       "</g>\n",
       "<!-- stop_(1, (2, (&#39;b&#39;, &#39;c&#39;))) -->\n",
       "<g id=\"node5\" class=\"node\">\n",
       "<title>stop_(1, (2, (&#39;b&#39;, &#39;c&#39;)))</title>\n",
       "<ellipse fill=\"black\" stroke=\"black\" cx=\"268.11\" cy=\"-7.88\" rx=\"0\" ry=\"0\"/>\n",
       "</g>\n",
       "<!-- 2&#45;&gt;stop_(1, (2, (&#39;b&#39;, &#39;c&#39;))) -->\n",
       "<g id=\"edge2\" class=\"edge\">\n",
       "<title>2&#45;&gt;stop_(1, (2, (&#39;b&#39;, &#39;c&#39;)))</title>\n",
       "<path fill=\"none\" stroke=\"black\" d=\"M226.38,-7.88C236.85,-7.88 256.07,-7.88 263.78,-7.88\"/>\n",
       "<polygon fill=\"black\" stroke=\"black\" points=\"264.03,-8.93 267.03,-7.88 264.03,-6.83 264.03,-8.93\"/>\n",
       "<text text-anchor=\"middle\" x=\"247.11\" y=\"-10.68\" font-family=\"Monospace\" font-size=\"9.00\">1</text>\n",
       "</g>\n",
       "</g>\n",
       "</svg>\n"
      ],
      "text/plain": [
       "WFSA(3 states)"
      ]
     },
     "metadata": {},
     "output_type": "display_data"
    },
    {
     "name": "stdout",
     "output_type": "stream",
     "text": [
      "\n",
      "('b', 'b', 'c')\n",
      "total weight of BPE sequences: 3.0\n"
     ]
    },
    {
     "data": {
      "image/svg+xml": [
       "<?xml version=\"1.0\" encoding=\"UTF-8\" standalone=\"no\"?>\n",
       "<!DOCTYPE svg PUBLIC \"-//W3C//DTD SVG 1.1//EN\"\n",
       " \"http://www.w3.org/Graphics/SVG/1.1/DTD/svg11.dtd\">\n",
       "<!-- Generated by graphviz version 2.43.0 (0)\n",
       " -->\n",
       "<!-- Title: %3 Pages: 1 -->\n",
       "<svg width=\"371pt\" height=\"58pt\"\n",
       " viewBox=\"0.00 0.00 371.11 57.78\" xmlns=\"http://www.w3.org/2000/svg\" xmlns:xlink=\"http://www.w3.org/1999/xlink\">\n",
       "<g id=\"graph0\" class=\"graph\" transform=\"scale(1 1) rotate(0) translate(4 53.78)\">\n",
       "<title>%3</title>\n",
       "<polygon fill=\"white\" stroke=\"transparent\" points=\"-4,4 -4,-53.78 367.11,-53.78 367.11,4 -4,4\"/>\n",
       "<!-- start_(0, (0, ())) -->\n",
       "<g id=\"node1\" class=\"node\">\n",
       "<title>start_(0, (0, ()))</title>\n",
       "<ellipse fill=\"black\" stroke=\"black\" cx=\"0\" cy=\"-29.78\" rx=\"0\" ry=\"0\"/>\n",
       "</g>\n",
       "<!-- 0 -->\n",
       "<g id=\"node2\" class=\"node\">\n",
       "<title>0</title>\n",
       "<ellipse fill=\"none\" stroke=\"black\" cx=\"49.78\" cy=\"-29.78\" rx=\"7.56\" ry=\"7.56\"/>\n",
       "<text text-anchor=\"middle\" x=\"49.78\" y=\"-27.28\" font-family=\"Monospace\" font-size=\"10.00\"> </text>\n",
       "</g>\n",
       "<!-- start_(0, (0, ()))&#45;&gt;0 -->\n",
       "<g id=\"edge1\" class=\"edge\">\n",
       "<title>start_(0, (0, ()))&#45;&gt;0</title>\n",
       "<path fill=\"none\" stroke=\"black\" d=\"M1.14,-29.78C3.07,-29.78 25.11,-29.78 38.52,-29.78\"/>\n",
       "<polygon fill=\"black\" stroke=\"black\" points=\"38.73,-30.83 41.73,-29.78 38.73,-28.73 38.73,-30.83\"/>\n",
       "<text text-anchor=\"middle\" x=\"21\" y=\"-32.58\" font-family=\"Monospace\" font-size=\"9.00\">1</text>\n",
       "</g>\n",
       "<!-- 1 -->\n",
       "<g id=\"node3\" class=\"node\">\n",
       "<title>1</title>\n",
       "<ellipse fill=\"none\" stroke=\"black\" cx=\"229.06\" cy=\"-29.78\" rx=\"7.56\" ry=\"7.56\"/>\n",
       "<text text-anchor=\"middle\" x=\"229.06\" y=\"-27.28\" font-family=\"Monospace\" font-size=\"10.00\"> </text>\n",
       "</g>\n",
       "<!-- 0&#45;&gt;1 -->\n",
       "<g id=\"edge4\" class=\"edge\">\n",
       "<title>0&#45;&gt;1</title>\n",
       "<path fill=\"none\" stroke=\"black\" d=\"M57.61,-32.26C62.53,-33.91 69.36,-35.92 75.56,-36.78 93.3,-39.24 96.54,-42.52 192.56,-34.78 201.19,-34.08 210.94,-32.66 218.03,-31.52\"/>\n",
       "<polygon fill=\"black\" stroke=\"black\" points=\"218.49,-32.5 221.28,-30.98 218.15,-30.43 218.49,-32.5\"/>\n",
       "<text text-anchor=\"middle\" x=\"134.06\" y=\"-42.58\" font-family=\"Monospace\" font-size=\"9.00\">11848/1</text>\n",
       "</g>\n",
       "<!-- 2 -->\n",
       "<g id=\"node4\" class=\"node\">\n",
       "<title>2</title>\n",
       "<ellipse fill=\"none\" stroke=\"black\" cx=\"134.06\" cy=\"-7.78\" rx=\"7.56\" ry=\"7.56\"/>\n",
       "<text text-anchor=\"middle\" x=\"134.06\" y=\"-5.28\" font-family=\"Monospace\" font-size=\"10.00\"> </text>\n",
       "</g>\n",
       "<!-- 0&#45;&gt;2 -->\n",
       "<g id=\"edge3\" class=\"edge\">\n",
       "<title>0&#45;&gt;2</title>\n",
       "<path fill=\"none\" stroke=\"black\" d=\"M57.51,-27.98C72.05,-24.09 106.42,-14.9 123.32,-10.38\"/>\n",
       "<polygon fill=\"black\" stroke=\"black\" points=\"123.83,-11.33 126.46,-9.54 123.29,-9.3 123.83,-11.33\"/>\n",
       "<text text-anchor=\"middle\" x=\"86.56\" y=\"-25.58\" font-family=\"Monospace\" font-size=\"9.00\">65/1</text>\n",
       "</g>\n",
       "<!-- 3 -->\n",
       "<g id=\"node5\" class=\"node\">\n",
       "<title>3</title>\n",
       "<ellipse fill=\"none\" stroke=\"black\" cx=\"313.33\" cy=\"-9.78\" rx=\"7.56\" ry=\"7.56\"/>\n",
       "<text text-anchor=\"middle\" x=\"313.33\" y=\"-7.28\" font-family=\"Monospace\" font-size=\"10.00\"> </text>\n",
       "</g>\n",
       "<!-- 1&#45;&gt;3 -->\n",
       "<g id=\"edge7\" class=\"edge\">\n",
       "<title>1&#45;&gt;3</title>\n",
       "<path fill=\"none\" stroke=\"black\" d=\"M236.79,-28.14C251.18,-24.64 285.02,-16.42 302.09,-12.27\"/>\n",
       "<polygon fill=\"black\" stroke=\"black\" points=\"302.61,-13.22 305.28,-11.49 302.11,-11.18 302.61,-13.22\"/>\n",
       "<text text-anchor=\"middle\" x=\"276.56\" y=\"-24.58\" font-family=\"Monospace\" font-size=\"9.00\">66/1</text>\n",
       "</g>\n",
       "<!-- 2&#45;&gt;1 -->\n",
       "<g id=\"edge5\" class=\"edge\">\n",
       "<title>2&#45;&gt;1</title>\n",
       "<path fill=\"none\" stroke=\"black\" d=\"M141.74,-9.36C157.97,-13.2 199.45,-23.01 218.38,-27.49\"/>\n",
       "<polygon fill=\"black\" stroke=\"black\" points=\"218.27,-28.54 221.43,-28.21 218.75,-26.5 218.27,-28.54\"/>\n",
       "<text text-anchor=\"middle\" x=\"181.56\" y=\"-23.58\" font-family=\"Monospace\" font-size=\"9.00\">65/1</text>\n",
       "</g>\n",
       "<!-- 2&#45;&gt;3 -->\n",
       "<g id=\"edge6\" class=\"edge\">\n",
       "<title>2&#45;&gt;3</title>\n",
       "<path fill=\"none\" stroke=\"black\" d=\"M141.91,-7.01C159.47,-5.13 207.54,-0.62 247.56,-2.78 267.13,-3.83 289.89,-6.67 302.55,-8.39\"/>\n",
       "<polygon fill=\"black\" stroke=\"black\" points=\"302.43,-9.43 305.55,-8.8 302.72,-7.35 302.43,-9.43\"/>\n",
       "<text text-anchor=\"middle\" x=\"229.06\" y=\"-5.58\" font-family=\"Monospace\" font-size=\"9.00\">15630/1</text>\n",
       "</g>\n",
       "<!-- stop_(1, (2, (&#39;b&#39;, &#39;b&#39;, &#39;c&#39;))) -->\n",
       "<g id=\"node6\" class=\"node\">\n",
       "<title>stop_(1, (2, (&#39;b&#39;, &#39;b&#39;, &#39;c&#39;)))</title>\n",
       "<ellipse fill=\"black\" stroke=\"black\" cx=\"363.11\" cy=\"-9.78\" rx=\"0\" ry=\"0\"/>\n",
       "</g>\n",
       "<!-- 3&#45;&gt;stop_(1, (2, (&#39;b&#39;, &#39;b&#39;, &#39;c&#39;))) -->\n",
       "<g id=\"edge2\" class=\"edge\">\n",
       "<title>3&#45;&gt;stop_(1, (2, (&#39;b&#39;, &#39;b&#39;, &#39;c&#39;)))</title>\n",
       "<path fill=\"none\" stroke=\"black\" d=\"M321.38,-9.78C331.85,-9.78 351.07,-9.78 358.78,-9.78\"/>\n",
       "<polygon fill=\"black\" stroke=\"black\" points=\"359.03,-10.83 362.03,-9.78 359.03,-8.73 359.03,-10.83\"/>\n",
       "<text text-anchor=\"middle\" x=\"342.11\" y=\"-12.58\" font-family=\"Monospace\" font-size=\"9.00\">1</text>\n",
       "</g>\n",
       "</g>\n",
       "</svg>\n"
      ],
      "text/plain": [
       "WFSA(4 states)"
      ]
     },
     "metadata": {},
     "output_type": "display_data"
    },
    {
     "name": "stdout",
     "output_type": "stream",
     "text": [
      "\n",
      "('b', 'a', 'c')\n",
      "total weight of BPE sequences: 3.0\n"
     ]
    },
    {
     "data": {
      "image/svg+xml": [
       "<?xml version=\"1.0\" encoding=\"UTF-8\" standalone=\"no\"?>\n",
       "<!DOCTYPE svg PUBLIC \"-//W3C//DTD SVG 1.1//EN\"\n",
       " \"http://www.w3.org/Graphics/SVG/1.1/DTD/svg11.dtd\">\n",
       "<!-- Generated by graphviz version 2.43.0 (0)\n",
       " -->\n",
       "<!-- Title: %3 Pages: 1 -->\n",
       "<svg width=\"356pt\" height=\"58pt\"\n",
       " viewBox=\"0.00 0.00 356.11 57.78\" xmlns=\"http://www.w3.org/2000/svg\" xmlns:xlink=\"http://www.w3.org/1999/xlink\">\n",
       "<g id=\"graph0\" class=\"graph\" transform=\"scale(1 1) rotate(0) translate(4 53.78)\">\n",
       "<title>%3</title>\n",
       "<polygon fill=\"white\" stroke=\"transparent\" points=\"-4,4 -4,-53.78 352.11,-53.78 352.11,4 -4,4\"/>\n",
       "<!-- start_(0, (0, ())) -->\n",
       "<g id=\"node1\" class=\"node\">\n",
       "<title>start_(0, (0, ()))</title>\n",
       "<ellipse fill=\"black\" stroke=\"black\" cx=\"0\" cy=\"-9.78\" rx=\"0\" ry=\"0\"/>\n",
       "</g>\n",
       "<!-- 0 -->\n",
       "<g id=\"node2\" class=\"node\">\n",
       "<title>0</title>\n",
       "<ellipse fill=\"none\" stroke=\"black\" cx=\"49.78\" cy=\"-9.78\" rx=\"7.56\" ry=\"7.56\"/>\n",
       "<text text-anchor=\"middle\" x=\"49.78\" y=\"-7.28\" font-family=\"Monospace\" font-size=\"10.00\"> </text>\n",
       "</g>\n",
       "<!-- start_(0, (0, ()))&#45;&gt;0 -->\n",
       "<g id=\"edge1\" class=\"edge\">\n",
       "<title>start_(0, (0, ()))&#45;&gt;0</title>\n",
       "<path fill=\"none\" stroke=\"black\" d=\"M1.14,-9.78C3.07,-9.78 25.11,-9.78 38.52,-9.78\"/>\n",
       "<polygon fill=\"black\" stroke=\"black\" points=\"38.73,-10.83 41.73,-9.78 38.73,-8.73 38.73,-10.83\"/>\n",
       "<text text-anchor=\"middle\" x=\"21\" y=\"-12.58\" font-family=\"Monospace\" font-size=\"9.00\">1</text>\n",
       "</g>\n",
       "<!-- 2 -->\n",
       "<g id=\"node4\" class=\"node\">\n",
       "<title>2</title>\n",
       "<ellipse fill=\"none\" stroke=\"black\" cx=\"131.56\" cy=\"-29.78\" rx=\"7.56\" ry=\"7.56\"/>\n",
       "<text text-anchor=\"middle\" x=\"131.56\" y=\"-27.28\" font-family=\"Monospace\" font-size=\"10.00\"> </text>\n",
       "</g>\n",
       "<!-- 0&#45;&gt;2 -->\n",
       "<g id=\"edge3\" class=\"edge\">\n",
       "<title>0&#45;&gt;2</title>\n",
       "<path fill=\"none\" stroke=\"black\" d=\"M57.58,-11.48C71.71,-15.03 104.29,-23.19 120.71,-27.31\"/>\n",
       "<polygon fill=\"black\" stroke=\"black\" points=\"120.61,-28.37 123.77,-28.08 121.12,-26.33 120.61,-28.37\"/>\n",
       "<text text-anchor=\"middle\" x=\"86.56\" y=\"-24.58\" font-family=\"Monospace\" font-size=\"9.00\">65/1</text>\n",
       "</g>\n",
       "<!-- 3 -->\n",
       "<g id=\"node5\" class=\"node\">\n",
       "<title>3</title>\n",
       "<ellipse fill=\"none\" stroke=\"black\" cx=\"219.06\" cy=\"-7.78\" rx=\"7.56\" ry=\"7.56\"/>\n",
       "<text text-anchor=\"middle\" x=\"219.06\" y=\"-5.28\" font-family=\"Monospace\" font-size=\"10.00\"> </text>\n",
       "</g>\n",
       "<!-- 0&#45;&gt;3 -->\n",
       "<g id=\"edge4\" class=\"edge\">\n",
       "<title>0&#45;&gt;3</title>\n",
       "<path fill=\"none\" stroke=\"black\" d=\"M57.57,-8.8C69.34,-7.16 94.32,-3.92 115.56,-2.78 149.25,-0.96 189.18,-4.57 207.69,-6.57\"/>\n",
       "<polygon fill=\"black\" stroke=\"black\" points=\"208,-7.66 211.1,-6.95 208.23,-5.57 208,-7.66\"/>\n",
       "<text text-anchor=\"middle\" x=\"131.56\" y=\"-5.58\" font-family=\"Monospace\" font-size=\"9.00\">7012/1</text>\n",
       "</g>\n",
       "<!-- 1 -->\n",
       "<g id=\"node3\" class=\"node\">\n",
       "<title>1</title>\n",
       "<ellipse fill=\"none\" stroke=\"black\" cx=\"298.33\" cy=\"-29.78\" rx=\"7.56\" ry=\"7.56\"/>\n",
       "<text text-anchor=\"middle\" x=\"298.33\" y=\"-27.28\" font-family=\"Monospace\" font-size=\"10.00\"> </text>\n",
       "</g>\n",
       "<!-- stop_(1, (2, (&#39;b&#39;, &#39;a&#39;, &#39;c&#39;))) -->\n",
       "<g id=\"node6\" class=\"node\">\n",
       "<title>stop_(1, (2, (&#39;b&#39;, &#39;a&#39;, &#39;c&#39;)))</title>\n",
       "<ellipse fill=\"black\" stroke=\"black\" cx=\"348.11\" cy=\"-29.78\" rx=\"0\" ry=\"0\"/>\n",
       "</g>\n",
       "<!-- 1&#45;&gt;stop_(1, (2, (&#39;b&#39;, &#39;a&#39;, &#39;c&#39;))) -->\n",
       "<g id=\"edge2\" class=\"edge\">\n",
       "<title>1&#45;&gt;stop_(1, (2, (&#39;b&#39;, &#39;a&#39;, &#39;c&#39;)))</title>\n",
       "<path fill=\"none\" stroke=\"black\" d=\"M306.38,-29.78C316.85,-29.78 336.07,-29.78 343.78,-29.78\"/>\n",
       "<polygon fill=\"black\" stroke=\"black\" points=\"344.03,-30.83 347.03,-29.78 344.03,-28.73 344.03,-30.83\"/>\n",
       "<text text-anchor=\"middle\" x=\"327.11\" y=\"-32.58\" font-family=\"Monospace\" font-size=\"9.00\">1</text>\n",
       "</g>\n",
       "<!-- 2&#45;&gt;1 -->\n",
       "<g id=\"edge6\" class=\"edge\">\n",
       "<title>2&#45;&gt;1</title>\n",
       "<path fill=\"none\" stroke=\"black\" d=\"M139.35,-31.07C146,-32.26 156.44,-33.98 165.56,-34.78 212.94,-38.91 225.44,-43.31 272.56,-36.78 277.59,-36.08 283.05,-34.62 287.55,-33.21\"/>\n",
       "<polygon fill=\"black\" stroke=\"black\" points=\"287.97,-34.18 290.5,-32.26 287.32,-32.18 287.97,-34.18\"/>\n",
       "<text text-anchor=\"middle\" x=\"219.06\" y=\"-42.58\" font-family=\"Monospace\" font-size=\"9.00\">330/1</text>\n",
       "</g>\n",
       "<!-- 2&#45;&gt;3 -->\n",
       "<g id=\"edge5\" class=\"edge\">\n",
       "<title>2&#45;&gt;3</title>\n",
       "<path fill=\"none\" stroke=\"black\" d=\"M139.27,-28.05C154.18,-24.22 190.14,-14.96 207.85,-10.4\"/>\n",
       "<polygon fill=\"black\" stroke=\"black\" points=\"208.5,-11.32 211.14,-9.56 207.97,-9.29 208.5,-11.32\"/>\n",
       "<text text-anchor=\"middle\" x=\"176.56\" y=\"-23.58\" font-family=\"Monospace\" font-size=\"9.00\">64/1</text>\n",
       "</g>\n",
       "<!-- 3&#45;&gt;1 -->\n",
       "<g id=\"edge7\" class=\"edge\">\n",
       "<title>3&#45;&gt;1</title>\n",
       "<path fill=\"none\" stroke=\"black\" d=\"M226.65,-9.65C240.33,-13.55 271.89,-22.53 287.8,-27.06\"/>\n",
       "<polygon fill=\"black\" stroke=\"black\" points=\"287.59,-28.1 290.76,-27.91 288.16,-26.08 287.59,-28.1\"/>\n",
       "<text text-anchor=\"middle\" x=\"261.56\" y=\"-25.58\" font-family=\"Monospace\" font-size=\"9.00\">66/1</text>\n",
       "</g>\n",
       "</g>\n",
       "</svg>\n"
      ],
      "text/plain": [
       "WFSA(4 states)"
      ]
     },
     "metadata": {},
     "output_type": "display_data"
    },
    {
     "name": "stdout",
     "output_type": "stream",
     "text": [
      "\n",
      "('a', 'c')\n",
      "total weight of BPE sequences: 2.0\n"
     ]
    },
    {
     "data": {
      "image/svg+xml": [
       "<?xml version=\"1.0\" encoding=\"UTF-8\" standalone=\"no\"?>\n",
       "<!DOCTYPE svg PUBLIC \"-//W3C//DTD SVG 1.1//EN\"\n",
       " \"http://www.w3.org/Graphics/SVG/1.1/DTD/svg11.dtd\">\n",
       "<!-- Generated by graphviz version 2.43.0 (0)\n",
       " -->\n",
       "<!-- Title: %3 Pages: 1 -->\n",
       "<svg width=\"266pt\" height=\"44pt\"\n",
       " viewBox=\"0.00 0.00 266.11 43.63\" xmlns=\"http://www.w3.org/2000/svg\" xmlns:xlink=\"http://www.w3.org/1999/xlink\">\n",
       "<g id=\"graph0\" class=\"graph\" transform=\"scale(1 1) rotate(0) translate(4 39.63)\">\n",
       "<title>%3</title>\n",
       "<polygon fill=\"white\" stroke=\"transparent\" points=\"-4,4 -4,-39.63 262.11,-39.63 262.11,4 -4,4\"/>\n",
       "<!-- start_(0, (0, ())) -->\n",
       "<g id=\"node1\" class=\"node\">\n",
       "<title>start_(0, (0, ()))</title>\n",
       "<ellipse fill=\"black\" stroke=\"black\" cx=\"0\" cy=\"-7.85\" rx=\"0\" ry=\"0\"/>\n",
       "</g>\n",
       "<!-- 0 -->\n",
       "<g id=\"node2\" class=\"node\">\n",
       "<title>0</title>\n",
       "<ellipse fill=\"none\" stroke=\"black\" cx=\"49.78\" cy=\"-7.85\" rx=\"7.56\" ry=\"7.56\"/>\n",
       "<text text-anchor=\"middle\" x=\"49.78\" y=\"-5.35\" font-family=\"Monospace\" font-size=\"10.00\"> </text>\n",
       "</g>\n",
       "<!-- start_(0, (0, ()))&#45;&gt;0 -->\n",
       "<g id=\"edge1\" class=\"edge\">\n",
       "<title>start_(0, (0, ()))&#45;&gt;0</title>\n",
       "<path fill=\"none\" stroke=\"black\" d=\"M1.14,-7.85C3.07,-7.85 25.11,-7.85 38.52,-7.85\"/>\n",
       "<polygon fill=\"black\" stroke=\"black\" points=\"38.73,-8.9 41.73,-7.85 38.73,-6.8 38.73,-8.9\"/>\n",
       "<text text-anchor=\"middle\" x=\"21\" y=\"-10.65\" font-family=\"Monospace\" font-size=\"9.00\">1</text>\n",
       "</g>\n",
       "<!-- 1 -->\n",
       "<g id=\"node3\" class=\"node\">\n",
       "<title>1</title>\n",
       "<ellipse fill=\"none\" stroke=\"black\" cx=\"129.06\" cy=\"-27.85\" rx=\"7.56\" ry=\"7.56\"/>\n",
       "<text text-anchor=\"middle\" x=\"129.06\" y=\"-25.35\" font-family=\"Monospace\" font-size=\"10.00\"> </text>\n",
       "</g>\n",
       "<!-- 0&#45;&gt;1 -->\n",
       "<g id=\"edge3\" class=\"edge\">\n",
       "<title>0&#45;&gt;1</title>\n",
       "<path fill=\"none\" stroke=\"black\" d=\"M57.64,-9.63C71.35,-13.18 102.2,-21.16 118.13,-25.28\"/>\n",
       "<polygon fill=\"black\" stroke=\"black\" points=\"117.94,-26.32 121.1,-26.05 118.46,-24.28 117.94,-26.32\"/>\n",
       "<text text-anchor=\"middle\" x=\"86.56\" y=\"-22.65\" font-family=\"Monospace\" font-size=\"9.00\">64/1</text>\n",
       "</g>\n",
       "<!-- 2 -->\n",
       "<g id=\"node4\" class=\"node\">\n",
       "<title>2</title>\n",
       "<ellipse fill=\"none\" stroke=\"black\" cx=\"208.33\" cy=\"-7.85\" rx=\"7.56\" ry=\"7.56\"/>\n",
       "<text text-anchor=\"middle\" x=\"208.33\" y=\"-5.35\" font-family=\"Monospace\" font-size=\"10.00\"> </text>\n",
       "</g>\n",
       "<!-- 0&#45;&gt;2 -->\n",
       "<g id=\"edge4\" class=\"edge\">\n",
       "<title>0&#45;&gt;2</title>\n",
       "<path fill=\"none\" stroke=\"black\" d=\"M57.91,-6.67C73.34,-4.27 110.96,0.85 142.56,-0.85 162.13,-1.91 184.89,-4.74 197.55,-6.46\"/>\n",
       "<polygon fill=\"black\" stroke=\"black\" points=\"197.43,-7.51 200.55,-6.87 197.72,-5.42 197.43,-7.51\"/>\n",
       "<text text-anchor=\"middle\" x=\"129.06\" y=\"-3.65\" font-family=\"Monospace\" font-size=\"9.00\">330/1</text>\n",
       "</g>\n",
       "<!-- 1&#45;&gt;2 -->\n",
       "<g id=\"edge5\" class=\"edge\">\n",
       "<title>1&#45;&gt;2</title>\n",
       "<path fill=\"none\" stroke=\"black\" d=\"M136.91,-26.08C150.63,-22.53 181.48,-14.54 197.4,-10.42\"/>\n",
       "<polygon fill=\"black\" stroke=\"black\" points=\"197.74,-11.42 200.38,-9.65 197.21,-9.39 197.74,-11.42\"/>\n",
       "<text text-anchor=\"middle\" x=\"171.56\" y=\"-22.65\" font-family=\"Monospace\" font-size=\"9.00\">66/1</text>\n",
       "</g>\n",
       "<!-- stop_(1, (2, (&#39;a&#39;, &#39;c&#39;))) -->\n",
       "<g id=\"node5\" class=\"node\">\n",
       "<title>stop_(1, (2, (&#39;a&#39;, &#39;c&#39;)))</title>\n",
       "<ellipse fill=\"black\" stroke=\"black\" cx=\"258.11\" cy=\"-7.85\" rx=\"0\" ry=\"0\"/>\n",
       "</g>\n",
       "<!-- 2&#45;&gt;stop_(1, (2, (&#39;a&#39;, &#39;c&#39;))) -->\n",
       "<g id=\"edge2\" class=\"edge\">\n",
       "<title>2&#45;&gt;stop_(1, (2, (&#39;a&#39;, &#39;c&#39;)))</title>\n",
       "<path fill=\"none\" stroke=\"black\" d=\"M216.38,-7.85C226.85,-7.85 246.07,-7.85 253.78,-7.85\"/>\n",
       "<polygon fill=\"black\" stroke=\"black\" points=\"254.03,-8.9 257.03,-7.85 254.03,-6.8 254.03,-8.9\"/>\n",
       "<text text-anchor=\"middle\" x=\"237.11\" y=\"-10.65\" font-family=\"Monospace\" font-size=\"9.00\">1</text>\n",
       "</g>\n",
       "</g>\n",
       "</svg>\n"
      ],
      "text/plain": [
       "WFSA(3 states)"
      ]
     },
     "metadata": {},
     "output_type": "display_data"
    },
    {
     "name": "stdout",
     "output_type": "stream",
     "text": [
      "\n",
      "('a', 'b', 'c')\n",
      "total weight of BPE sequences: 4.0\n"
     ]
    },
    {
     "data": {
      "image/svg+xml": [
       "<?xml version=\"1.0\" encoding=\"UTF-8\" standalone=\"no\"?>\n",
       "<!DOCTYPE svg PUBLIC \"-//W3C//DTD SVG 1.1//EN\"\n",
       " \"http://www.w3.org/Graphics/SVG/1.1/DTD/svg11.dtd\">\n",
       "<!-- Generated by graphviz version 2.43.0 (0)\n",
       " -->\n",
       "<!-- Title: %3 Pages: 1 -->\n",
       "<svg width=\"376pt\" height=\"69pt\"\n",
       " viewBox=\"0.00 0.00 376.11 69.40\" xmlns=\"http://www.w3.org/2000/svg\" xmlns:xlink=\"http://www.w3.org/1999/xlink\">\n",
       "<g id=\"graph0\" class=\"graph\" transform=\"scale(1 1) rotate(0) translate(4 65.4)\">\n",
       "<title>%3</title>\n",
       "<polygon fill=\"white\" stroke=\"transparent\" points=\"-4,4 -4,-65.4 372.11,-65.4 372.11,4 -4,4\"/>\n",
       "<!-- start_(0, (0, ())) -->\n",
       "<g id=\"node1\" class=\"node\">\n",
       "<title>start_(0, (0, ()))</title>\n",
       "<ellipse fill=\"black\" stroke=\"black\" cx=\"0\" cy=\"-13.4\" rx=\"0\" ry=\"0\"/>\n",
       "</g>\n",
       "<!-- 0 -->\n",
       "<g id=\"node2\" class=\"node\">\n",
       "<title>0</title>\n",
       "<ellipse fill=\"none\" stroke=\"black\" cx=\"49.78\" cy=\"-13.4\" rx=\"7.56\" ry=\"7.56\"/>\n",
       "<text text-anchor=\"middle\" x=\"49.78\" y=\"-10.9\" font-family=\"Monospace\" font-size=\"10.00\"> </text>\n",
       "</g>\n",
       "<!-- start_(0, (0, ()))&#45;&gt;0 -->\n",
       "<g id=\"edge1\" class=\"edge\">\n",
       "<title>start_(0, (0, ()))&#45;&gt;0</title>\n",
       "<path fill=\"none\" stroke=\"black\" d=\"M1.14,-13.4C3.07,-13.4 25.11,-13.4 38.52,-13.4\"/>\n",
       "<polygon fill=\"black\" stroke=\"black\" points=\"38.73,-14.45 41.73,-13.4 38.73,-12.35 38.73,-14.45\"/>\n",
       "<text text-anchor=\"middle\" x=\"21\" y=\"-16.2\" font-family=\"Monospace\" font-size=\"9.00\">1</text>\n",
       "</g>\n",
       "<!-- 1 -->\n",
       "<g id=\"node3\" class=\"node\">\n",
       "<title>1</title>\n",
       "<ellipse fill=\"none\" stroke=\"black\" cx=\"129.06\" cy=\"-49.4\" rx=\"7.56\" ry=\"7.56\"/>\n",
       "<text text-anchor=\"middle\" x=\"129.06\" y=\"-46.9\" font-family=\"Monospace\" font-size=\"10.00\"> </text>\n",
       "</g>\n",
       "<!-- 0&#45;&gt;1 -->\n",
       "<g id=\"edge3\" class=\"edge\">\n",
       "<title>0&#45;&gt;1</title>\n",
       "<path fill=\"none\" stroke=\"black\" d=\"M57.28,-16.6C62.27,-19.04 69.33,-22.47 75.56,-25.4 90.64,-32.5 108.29,-40.5 118.8,-45.24\"/>\n",
       "<polygon fill=\"black\" stroke=\"black\" points=\"118.4,-46.21 121.57,-46.49 119.26,-44.3 118.4,-46.21\"/>\n",
       "<text text-anchor=\"middle\" x=\"86.56\" y=\"-38.2\" font-family=\"Monospace\" font-size=\"9.00\">64/1</text>\n",
       "</g>\n",
       "<!-- 2 -->\n",
       "<g id=\"node4\" class=\"node\">\n",
       "<title>2</title>\n",
       "<ellipse fill=\"none\" stroke=\"black\" cx=\"234.06\" cy=\"-20.4\" rx=\"7.56\" ry=\"7.56\"/>\n",
       "<text text-anchor=\"middle\" x=\"234.06\" y=\"-17.9\" font-family=\"Monospace\" font-size=\"10.00\"> </text>\n",
       "</g>\n",
       "<!-- 0&#45;&gt;2 -->\n",
       "<g id=\"edge4\" class=\"edge\">\n",
       "<title>0&#45;&gt;2</title>\n",
       "<path fill=\"none\" stroke=\"black\" d=\"M57.7,-13.66C85.56,-14.73 189.56,-18.73 222.78,-20\"/>\n",
       "<polygon fill=\"black\" stroke=\"black\" points=\"223.09,-21.07 226.13,-20.13 223.17,-18.97 223.09,-21.07\"/>\n",
       "<text text-anchor=\"middle\" x=\"129.06\" y=\"-19.2\" font-family=\"Monospace\" font-size=\"9.00\">397/1</text>\n",
       "</g>\n",
       "<!-- 3 -->\n",
       "<g id=\"node5\" class=\"node\">\n",
       "<title>3</title>\n",
       "<ellipse fill=\"none\" stroke=\"black\" cx=\"318.33\" cy=\"-20.4\" rx=\"7.56\" ry=\"7.56\"/>\n",
       "<text text-anchor=\"middle\" x=\"318.33\" y=\"-17.9\" font-family=\"Monospace\" font-size=\"10.00\"> </text>\n",
       "</g>\n",
       "<!-- 0&#45;&gt;3 -->\n",
       "<g id=\"edge5\" class=\"edge\">\n",
       "<title>0&#45;&gt;3</title>\n",
       "<path fill=\"none\" stroke=\"black\" d=\"M57.78,-12.16C83.72,-7.74 176.72,6.39 252.56,-3.4 272.54,-5.98 295.16,-12.86 307.68,-17.03\"/>\n",
       "<polygon fill=\"black\" stroke=\"black\" points=\"307.46,-18.06 310.64,-18.03 308.13,-16.07 307.46,-18.06\"/>\n",
       "<text text-anchor=\"middle\" x=\"179.06\" y=\"-4.2\" font-family=\"Monospace\" font-size=\"9.00\">39305/1</text>\n",
       "</g>\n",
       "<!-- 1&#45;&gt;2 -->\n",
       "<g id=\"edge6\" class=\"edge\">\n",
       "<title>1&#45;&gt;2</title>\n",
       "<path fill=\"none\" stroke=\"black\" d=\"M136.81,-47.49C154.57,-42.5 202.6,-28.97 223.33,-23.14\"/>\n",
       "<polygon fill=\"black\" stroke=\"black\" points=\"223.8,-24.09 226.41,-22.27 223.23,-22.07 223.8,-24.09\"/>\n",
       "<text text-anchor=\"middle\" x=\"179.06\" y=\"-42.2\" font-family=\"Monospace\" font-size=\"9.00\">65/1</text>\n",
       "</g>\n",
       "<!-- 1&#45;&gt;3 -->\n",
       "<g id=\"edge7\" class=\"edge\">\n",
       "<title>1&#45;&gt;3</title>\n",
       "<path fill=\"none\" stroke=\"black\" d=\"M137.06,-50.58C143.22,-51.56 152.46,-52.87 160.56,-53.4 176.97,-54.47 181.19,-55.02 197.56,-53.4 240.41,-49.15 252.2,-49.4 292.56,-34.4 298.23,-32.29 304.15,-28.99 308.78,-26.12\"/>\n",
       "<polygon fill=\"black\" stroke=\"black\" points=\"309.51,-26.9 311.49,-24.41 308.39,-25.13 309.51,-26.9\"/>\n",
       "<text text-anchor=\"middle\" x=\"234.06\" y=\"-54.2\" font-family=\"Monospace\" font-size=\"9.00\">15630/1</text>\n",
       "</g>\n",
       "<!-- 2&#45;&gt;3 -->\n",
       "<g id=\"edge8\" class=\"edge\">\n",
       "<title>2&#45;&gt;3</title>\n",
       "<path fill=\"none\" stroke=\"black\" d=\"M242.07,-20.4C256.64,-20.4 290.24,-20.4 307.18,-20.4\"/>\n",
       "<polygon fill=\"black\" stroke=\"black\" points=\"307.34,-21.45 310.34,-20.4 307.34,-19.35 307.34,-21.45\"/>\n",
       "<text text-anchor=\"middle\" x=\"281.56\" y=\"-23.2\" font-family=\"Monospace\" font-size=\"9.00\">66/1</text>\n",
       "</g>\n",
       "<!-- stop_(1, (2, (&#39;a&#39;, &#39;b&#39;, &#39;c&#39;))) -->\n",
       "<g id=\"node6\" class=\"node\">\n",
       "<title>stop_(1, (2, (&#39;a&#39;, &#39;b&#39;, &#39;c&#39;)))</title>\n",
       "<ellipse fill=\"black\" stroke=\"black\" cx=\"368.11\" cy=\"-20.4\" rx=\"0\" ry=\"0\"/>\n",
       "</g>\n",
       "<!-- 3&#45;&gt;stop_(1, (2, (&#39;a&#39;, &#39;b&#39;, &#39;c&#39;))) -->\n",
       "<g id=\"edge2\" class=\"edge\">\n",
       "<title>3&#45;&gt;stop_(1, (2, (&#39;a&#39;, &#39;b&#39;, &#39;c&#39;)))</title>\n",
       "<path fill=\"none\" stroke=\"black\" d=\"M326.38,-20.4C336.85,-20.4 356.07,-20.4 363.78,-20.4\"/>\n",
       "<polygon fill=\"black\" stroke=\"black\" points=\"364.03,-21.45 367.03,-20.4 364.03,-19.35 364.03,-21.45\"/>\n",
       "<text text-anchor=\"middle\" x=\"347.11\" y=\"-23.2\" font-family=\"Monospace\" font-size=\"9.00\">1</text>\n",
       "</g>\n",
       "</g>\n",
       "</svg>\n"
      ],
      "text/plain": [
       "WFSA(4 states)"
      ]
     },
     "metadata": {},
     "output_type": "display_data"
    },
    {
     "name": "stdout",
     "output_type": "stream",
     "text": [
      "\n",
      "('a', 'a', 'c')\n",
      "total weight of BPE sequences: 3.0\n"
     ]
    },
    {
     "data": {
      "image/svg+xml": [
       "<?xml version=\"1.0\" encoding=\"UTF-8\" standalone=\"no\"?>\n",
       "<!DOCTYPE svg PUBLIC \"-//W3C//DTD SVG 1.1//EN\"\n",
       " \"http://www.w3.org/Graphics/SVG/1.1/DTD/svg11.dtd\">\n",
       "<!-- Generated by graphviz version 2.43.0 (0)\n",
       " -->\n",
       "<!-- Title: %3 Pages: 1 -->\n",
       "<svg width=\"356pt\" height=\"58pt\"\n",
       " viewBox=\"0.00 0.00 356.11 57.78\" xmlns=\"http://www.w3.org/2000/svg\" xmlns:xlink=\"http://www.w3.org/1999/xlink\">\n",
       "<g id=\"graph0\" class=\"graph\" transform=\"scale(1 1) rotate(0) translate(4 53.78)\">\n",
       "<title>%3</title>\n",
       "<polygon fill=\"white\" stroke=\"transparent\" points=\"-4,4 -4,-53.78 352.11,-53.78 352.11,4 -4,4\"/>\n",
       "<!-- start_(0, (0, ())) -->\n",
       "<g id=\"node1\" class=\"node\">\n",
       "<title>start_(0, (0, ()))</title>\n",
       "<ellipse fill=\"black\" stroke=\"black\" cx=\"0\" cy=\"-9.78\" rx=\"0\" ry=\"0\"/>\n",
       "</g>\n",
       "<!-- 0 -->\n",
       "<g id=\"node2\" class=\"node\">\n",
       "<title>0</title>\n",
       "<ellipse fill=\"none\" stroke=\"black\" cx=\"49.78\" cy=\"-9.78\" rx=\"7.56\" ry=\"7.56\"/>\n",
       "<text text-anchor=\"middle\" x=\"49.78\" y=\"-7.28\" font-family=\"Monospace\" font-size=\"10.00\"> </text>\n",
       "</g>\n",
       "<!-- start_(0, (0, ()))&#45;&gt;0 -->\n",
       "<g id=\"edge1\" class=\"edge\">\n",
       "<title>start_(0, (0, ()))&#45;&gt;0</title>\n",
       "<path fill=\"none\" stroke=\"black\" d=\"M1.14,-9.78C3.07,-9.78 25.11,-9.78 38.52,-9.78\"/>\n",
       "<polygon fill=\"black\" stroke=\"black\" points=\"38.73,-10.83 41.73,-9.78 38.73,-8.73 38.73,-10.83\"/>\n",
       "<text text-anchor=\"middle\" x=\"21\" y=\"-12.58\" font-family=\"Monospace\" font-size=\"9.00\">1</text>\n",
       "</g>\n",
       "<!-- 2 -->\n",
       "<g id=\"node4\" class=\"node\">\n",
       "<title>2</title>\n",
       "<ellipse fill=\"none\" stroke=\"black\" cx=\"131.56\" cy=\"-29.78\" rx=\"7.56\" ry=\"7.56\"/>\n",
       "<text text-anchor=\"middle\" x=\"131.56\" y=\"-27.28\" font-family=\"Monospace\" font-size=\"10.00\"> </text>\n",
       "</g>\n",
       "<!-- 0&#45;&gt;2 -->\n",
       "<g id=\"edge6\" class=\"edge\">\n",
       "<title>0&#45;&gt;2</title>\n",
       "<path fill=\"none\" stroke=\"black\" d=\"M57.58,-11.48C71.71,-15.03 104.29,-23.19 120.71,-27.31\"/>\n",
       "<polygon fill=\"black\" stroke=\"black\" points=\"120.61,-28.37 123.77,-28.08 121.12,-26.33 120.61,-28.37\"/>\n",
       "<text text-anchor=\"middle\" x=\"86.56\" y=\"-24.58\" font-family=\"Monospace\" font-size=\"9.00\">64/1</text>\n",
       "</g>\n",
       "<!-- 3 -->\n",
       "<g id=\"node5\" class=\"node\">\n",
       "<title>3</title>\n",
       "<ellipse fill=\"none\" stroke=\"black\" cx=\"219.06\" cy=\"-7.78\" rx=\"7.56\" ry=\"7.56\"/>\n",
       "<text text-anchor=\"middle\" x=\"219.06\" y=\"-5.28\" font-family=\"Monospace\" font-size=\"10.00\"> </text>\n",
       "</g>\n",
       "<!-- 0&#45;&gt;3 -->\n",
       "<g id=\"edge7\" class=\"edge\">\n",
       "<title>0&#45;&gt;3</title>\n",
       "<path fill=\"none\" stroke=\"black\" d=\"M57.57,-8.8C69.34,-7.16 94.32,-3.92 115.56,-2.78 149.25,-0.96 189.18,-4.57 207.69,-6.57\"/>\n",
       "<polygon fill=\"black\" stroke=\"black\" points=\"208,-7.66 211.1,-6.95 208.23,-5.57 208,-7.66\"/>\n",
       "<text text-anchor=\"middle\" x=\"131.56\" y=\"-5.58\" font-family=\"Monospace\" font-size=\"9.00\">7252/1</text>\n",
       "</g>\n",
       "<!-- 1 -->\n",
       "<g id=\"node3\" class=\"node\">\n",
       "<title>1</title>\n",
       "<ellipse fill=\"none\" stroke=\"black\" cx=\"298.33\" cy=\"-29.78\" rx=\"7.56\" ry=\"7.56\"/>\n",
       "<text text-anchor=\"middle\" x=\"298.33\" y=\"-27.28\" font-family=\"Monospace\" font-size=\"10.00\"> </text>\n",
       "</g>\n",
       "<!-- stop_(1, (2, (&#39;a&#39;, &#39;a&#39;, &#39;c&#39;))) -->\n",
       "<g id=\"node6\" class=\"node\">\n",
       "<title>stop_(1, (2, (&#39;a&#39;, &#39;a&#39;, &#39;c&#39;)))</title>\n",
       "<ellipse fill=\"black\" stroke=\"black\" cx=\"348.11\" cy=\"-29.78\" rx=\"0\" ry=\"0\"/>\n",
       "</g>\n",
       "<!-- 1&#45;&gt;stop_(1, (2, (&#39;a&#39;, &#39;a&#39;, &#39;c&#39;))) -->\n",
       "<g id=\"edge2\" class=\"edge\">\n",
       "<title>1&#45;&gt;stop_(1, (2, (&#39;a&#39;, &#39;a&#39;, &#39;c&#39;)))</title>\n",
       "<path fill=\"none\" stroke=\"black\" d=\"M306.38,-29.78C316.85,-29.78 336.07,-29.78 343.78,-29.78\"/>\n",
       "<polygon fill=\"black\" stroke=\"black\" points=\"344.03,-30.83 347.03,-29.78 344.03,-28.73 344.03,-30.83\"/>\n",
       "<text text-anchor=\"middle\" x=\"327.11\" y=\"-32.58\" font-family=\"Monospace\" font-size=\"9.00\">1</text>\n",
       "</g>\n",
       "<!-- 2&#45;&gt;1 -->\n",
       "<g id=\"edge4\" class=\"edge\">\n",
       "<title>2&#45;&gt;1</title>\n",
       "<path fill=\"none\" stroke=\"black\" d=\"M139.35,-31.07C146,-32.26 156.44,-33.98 165.56,-34.78 212.94,-38.91 225.44,-43.31 272.56,-36.78 277.59,-36.08 283.05,-34.62 287.55,-33.21\"/>\n",
       "<polygon fill=\"black\" stroke=\"black\" points=\"287.97,-34.18 290.5,-32.26 287.32,-32.18 287.97,-34.18\"/>\n",
       "<text text-anchor=\"middle\" x=\"219.06\" y=\"-42.58\" font-family=\"Monospace\" font-size=\"9.00\">330/1</text>\n",
       "</g>\n",
       "<!-- 2&#45;&gt;3 -->\n",
       "<g id=\"edge3\" class=\"edge\">\n",
       "<title>2&#45;&gt;3</title>\n",
       "<path fill=\"none\" stroke=\"black\" d=\"M139.27,-28.05C154.18,-24.22 190.14,-14.96 207.85,-10.4\"/>\n",
       "<polygon fill=\"black\" stroke=\"black\" points=\"208.5,-11.32 211.14,-9.56 207.97,-9.29 208.5,-11.32\"/>\n",
       "<text text-anchor=\"middle\" x=\"176.56\" y=\"-23.58\" font-family=\"Monospace\" font-size=\"9.00\">64/1</text>\n",
       "</g>\n",
       "<!-- 3&#45;&gt;1 -->\n",
       "<g id=\"edge5\" class=\"edge\">\n",
       "<title>3&#45;&gt;1</title>\n",
       "<path fill=\"none\" stroke=\"black\" d=\"M226.65,-9.65C240.33,-13.55 271.89,-22.53 287.8,-27.06\"/>\n",
       "<polygon fill=\"black\" stroke=\"black\" points=\"287.59,-28.1 290.76,-27.91 288.16,-26.08 287.59,-28.1\"/>\n",
       "<text text-anchor=\"middle\" x=\"261.56\" y=\"-25.58\" font-family=\"Monospace\" font-size=\"9.00\">66/1</text>\n",
       "</g>\n",
       "</g>\n",
       "</svg>\n"
      ],
      "text/plain": [
       "WFSA(4 states)"
      ]
     },
     "metadata": {},
     "output_type": "display_data"
    },
    {
     "name": "stdout",
     "output_type": "stream",
     "text": [
      "\n"
     ]
    }
   ],
   "source": [
    "for x in foo.cnf.language(3):\n",
    "    print(x)\n",
    "    bpe_x = (b2c @ FST.from_string(x, Float)).trim.project(0).epsremove.trim\n",
    "    print('total weight of BPE sequences:', bpe_x.total_weight())\n",
    "    display(bpe_x)\n",
    "    print()"
   ]
  },
  {
   "cell_type": "code",
   "execution_count": 18,
   "id": "1a01e546-c37e-46f8-900e-de303dce77b3",
   "metadata": {},
   "outputs": [],
   "source": [
    "tmp = (b2c @ foo)\n",
    "assert len(tmp.trim()) > 0"
   ]
  },
  {
   "cell_type": "code",
   "execution_count": 19,
   "id": "8c5432b0-1bf6-48fe-8623-b5d9f91acc3a",
   "metadata": {},
   "outputs": [],
   "source": [
    "#tmp.trim().cnf.language(3)"
   ]
  },
  {
   "cell_type": "code",
   "execution_count": 20,
   "id": "e93a5278-6578-4813-901b-0ded48eb20f4",
   "metadata": {},
   "outputs": [],
   "source": [
    "L = 5\n",
    "c = Float.chart()\n",
    "for x, w, in tmp.trim().cnf.language(5).items():\n",
    "    y =  H.tokenizer.decode(x)\n",
    "    if len(y) > L: continue    \n",
    "    c[y] += w"
   ]
  },
  {
   "cell_type": "code",
   "execution_count": 21,
   "id": "7f1e4505-684b-4244-aa9e-6e380ee7fec0",
   "metadata": {},
   "outputs": [],
   "source": [
    "ambig = Float.chart({x: (b2c @ FST.from_string(x, Float)).trim.project(0).epsremove.trim.total_weight() for x in c})"
   ]
  },
  {
   "cell_type": "code",
   "execution_count": 22,
   "id": "9bec20d2-9545-4a1e-92d6-a504a212d0f3",
   "metadata": {},
   "outputs": [],
   "source": [
    "ccc = Float.chart()\n",
    "for x in c:\n",
    "    ccc[x] = c[x] / ambig[x]"
   ]
  },
  {
   "cell_type": "code",
   "execution_count": 23,
   "id": "d1c58131-7ac7-40f7-9af8-fe6b40b05c35",
   "metadata": {},
   "outputs": [
    {
     "data": {
      "text/html": [
       "<div style=\"font-family: Monospace;\"><table><tr style=\"font-weight: bold;\"><td>key</td><td>value</td></tr><tr><td>c</td><td>0.9333333333576115</td> </tr><tr><td>bc</td><td>0.031111111111920383</td> </tr><tr><td>bbc</td><td>0.0010370370370640127</td> </tr><tr><td>bbbc</td><td>3.456790123546709e-05</td> </tr><tr><td>bbbbc</td><td>1.1522633745155696e-06</td> </tr><tr><td>bbbac</td><td>1.1522633745155696e-06</td> </tr><tr><td>bbac</td><td>3.456790123546709e-05</td> </tr><tr><td>bbabc</td><td>1.1522633745155696e-06</td> </tr><tr><td>bbaac</td><td>1.1522633745155696e-06</td> </tr><tr><td>bac</td><td>0.0010370370370640127</td> </tr><tr><td>babc</td><td>3.456790123546709e-05</td> </tr><tr><td>babbc</td><td>1.1522633745155696e-06</td> </tr><tr><td>babac</td><td>1.1522633745155696e-06</td> </tr><tr><td>baac</td><td>3.456790123546709e-05</td> </tr><tr><td>baabc</td><td>1.1522633745155696e-06</td> </tr><tr><td>baaac</td><td>1.1522633745155696e-06</td> </tr><tr><td>ac</td><td>0.031111111111920383</td> </tr><tr><td>abc</td><td>0.0010370370370640127</td> </tr><tr><td>abbc</td><td>3.456790123546709e-05</td> </tr><tr><td>abbbc</td><td>1.1522633745155696e-06</td> </tr><tr><td>abbac</td><td>1.1522633745155696e-06</td> </tr><tr><td>abac</td><td>3.456790123546709e-05</td> </tr><tr><td>ababc</td><td>1.1522633745155696e-06</td> </tr><tr><td>abaac</td><td>1.1522633745155696e-06</td> </tr><tr><td>aac</td><td>0.0010370370370640127</td> </tr><tr><td>aabc</td><td>3.456790123546709e-05</td> </tr><tr><td>aabbc</td><td>1.1522633745155696e-06</td> </tr><tr><td>aabac</td><td>1.1522633745155696e-06</td> </tr><tr><td>aaac</td><td>3.456790123546709e-05</td> </tr><tr><td>aaabc</td><td>1.1522633745155696e-06</td> </tr><tr><td>aaaac</td><td>1.1522633745155696e-06</td> </tr></table></div>"
      ],
      "text/plain": [
       "{'c': 0.9333333333576115, 'bc': 0.031111111111920383, 'bbc': 0.0010370370370640127, 'bbbc': 3.456790123546709e-05, 'bbbbc': 1.1522633745155696e-06, 'bbbac': 1.1522633745155696e-06, 'bbac': 3.456790123546709e-05, 'bbabc': 1.1522633745155696e-06, 'bbaac': 1.1522633745155696e-06, 'bac': 0.0010370370370640127, 'babc': 3.456790123546709e-05, 'babbc': 1.1522633745155696e-06, 'babac': 1.1522633745155696e-06, 'baac': 3.456790123546709e-05, 'baabc': 1.1522633745155696e-06, 'baaac': 1.1522633745155696e-06, 'ac': 0.031111111111920383, 'abc': 0.0010370370370640127, 'abbc': 3.456790123546709e-05, 'abbbc': 1.1522633745155696e-06, 'abbac': 1.1522633745155696e-06, 'abac': 3.456790123546709e-05, 'ababc': 1.1522633745155696e-06, 'abaac': 1.1522633745155696e-06, 'aac': 0.0010370370370640127, 'aabc': 3.456790123546709e-05, 'aabbc': 1.1522633745155696e-06, 'aabac': 1.1522633745155696e-06, 'aaac': 3.456790123546709e-05, 'aaabc': 1.1522633745155696e-06, 'aaaac': 1.1522633745155696e-06}"
      ]
     },
     "execution_count": 23,
     "metadata": {},
     "output_type": "execute_result"
    }
   ],
   "source": [
    "cc = Float.chart()\n",
    "for x, w in foo.cnf.language(L+2).items():\n",
    "    if len(x) > L: continue\n",
    "    cc[''.join(x)] += w\n",
    "cc"
   ]
  },
  {
   "cell_type": "code",
   "execution_count": 24,
   "id": "4248cb64-5bdb-4f86-a70f-a1d4383e0458",
   "metadata": {},
   "outputs": [],
   "source": [
    "ccc.assert_equal(cc, tol=1e-20)"
   ]
  },
  {
   "cell_type": "code",
   "execution_count": 25,
   "id": "fbf30359-1852-4cef-a86f-048dc62dd968",
   "metadata": {},
   "outputs": [],
   "source": [
    "#cc.metric(c)"
   ]
  },
  {
   "cell_type": "code",
   "execution_count": 26,
   "id": "0af56e1c-e4fa-4166-9ba2-ce1f1d82e16e",
   "metadata": {},
   "outputs": [],
   "source": [
    "#tmp.trim(bottomup_only=True)"
   ]
  },
  {
   "cell_type": "code",
   "execution_count": 27,
   "id": "7b732ed0-520b-45ba-810b-d0266a7d1d88",
   "metadata": {},
   "outputs": [],
   "source": [
    "#show_grammar(tmp, showzero=True)"
   ]
  },
  {
   "cell_type": "code",
   "execution_count": 28,
   "id": "337e2d86-6dfe-45be-87ba-0b6fbfc50c35",
   "metadata": {},
   "outputs": [],
   "source": [
    "#print(tmp.agenda().__str__(style_value=lambda k, v: (colors.light.red % v) if v > 1.000001 or v < 0 else v))"
   ]
  },
  {
   "cell_type": "code",
   "execution_count": 29,
   "id": "21c4baaf-8a5e-4380-81c8-9fe5f5d85bb6",
   "metadata": {},
   "outputs": [],
   "source": [
    "#for q in c2t.states:      \n",
    "#    for (a,b), r, w in c2t.arcs(q):\n",
    "#        print(f'--{a or \"ε\"}:{b or \"ε\"}/{w}-->', r)"
   ]
  },
  {
   "cell_type": "code",
   "execution_count": 30,
   "id": "297d9420-6e63-4607-b5a9-439238b02140",
   "metadata": {},
   "outputs": [],
   "source": [
    "#{x: v for x,v in tmp.agenda().items() if v > 1.001 or v < 0}"
   ]
  },
  {
   "cell_type": "code",
   "execution_count": 31,
   "id": "9ea76dfa-cbc6-4cdd-a413-dda5dd7e9c89",
   "metadata": {},
   "outputs": [],
   "source": [
    "#len(tmp.N - tmp.agenda(tol=1e-40, maxiter=np.inf).trim().keys()), len(tmp.N), len(tmp.agenda(tol=1e-40).trim())"
   ]
  },
  {
   "cell_type": "code",
   "execution_count": 32,
   "id": "1f25c7ed-b778-4a0c-819f-0219156e6c5a",
   "metadata": {},
   "outputs": [],
   "source": [
    "#tmp.cnf.language(4)"
   ]
  },
  {
   "cell_type": "code",
   "execution_count": 33,
   "id": "f18614c6-5c17-4467-ae97-f06790f22af4",
   "metadata": {},
   "outputs": [],
   "source": [
    "#show_grammar(tmp)"
   ]
  },
  {
   "cell_type": "code",
   "execution_count": 34,
   "id": "3d61730b-d679-4404-b062-d3d5bbaa20ac",
   "metadata": {},
   "outputs": [
    {
     "name": "stdout",
     "output_type": "stream",
     "text": [
      "\u001b[0;32m✔\u001b[0m PCFG\n"
     ]
    }
   ],
   "source": [
    "p = locally_normalize(tmp, tol=1e-40, maxiter=np.inf).trim()\n",
    "pcfg_check(p)"
   ]
  },
  {
   "cell_type": "code",
   "execution_count": 35,
   "id": "9a777fe2-77a9-40ff-af4d-d1f02f6ed3e6",
   "metadata": {},
   "outputs": [],
   "source": [
    "lm2 = CFGLM(add_EOS(p))"
   ]
  },
  {
   "cell_type": "code",
   "execution_count": 36,
   "id": "fd2ff4b0-5e43-455f-8be8-b42c7d059aad",
   "metadata": {},
   "outputs": [],
   "source": [
    "#lm2.sample(verbose=1)"
   ]
  },
  {
   "cell_type": "code",
   "execution_count": 37,
   "id": "f3d26457-e3bf-4f79-8ec0-7d811110982e",
   "metadata": {},
   "outputs": [],
   "source": [
    "#context = (64,65,6485,39305)\n",
    "context = (64,65,6485,)"
   ]
  },
  {
   "cell_type": "code",
   "execution_count": 38,
   "id": "0040787f-6bc0-4ec4-915a-a12aedaaedcd",
   "metadata": {},
   "outputs": [
    {
     "data": {
      "text/plain": [
       "'ababb'"
      ]
     },
     "execution_count": 38,
     "metadata": {},
     "output_type": "execute_result"
    }
   ],
   "source": [
    "char_context = H.tokenizer.decode(context)\n",
    "char_context"
   ]
  },
  {
   "cell_type": "code",
   "execution_count": 39,
   "id": "7085cad5-62ac-4385-afba-a848c6583d3f",
   "metadata": {},
   "outputs": [
    {
     "data": {
      "text/html": [
       "<div>\n",
       "<style scoped>\n",
       "    .dataframe tbody tr th:only-of-type {\n",
       "        vertical-align: middle;\n",
       "    }\n",
       "\n",
       "    .dataframe tbody tr th {\n",
       "        vertical-align: top;\n",
       "    }\n",
       "\n",
       "    .dataframe thead th {\n",
       "        text-align: right;\n",
       "    }\n",
       "</style>\n",
       "<table border=\"1\" class=\"dataframe\">\n",
       "  <thead>\n",
       "    <tr style=\"text-align: right;\">\n",
       "      <th></th>\n",
       "      <th>chars</th>\n",
       "      <th>prob</th>\n",
       "    </tr>\n",
       "    <tr>\n",
       "      <th>token_id</th>\n",
       "      <th></th>\n",
       "      <th></th>\n",
       "    </tr>\n",
       "  </thead>\n",
       "  <tbody>\n",
       "    <tr>\n",
       "      <th>66</th>\n",
       "      <td>c</td>\n",
       "      <td>0.869821</td>\n",
       "    </tr>\n",
       "    <tr>\n",
       "      <th>64</th>\n",
       "      <td>a</td>\n",
       "      <td>0.033333</td>\n",
       "    </tr>\n",
       "    <tr>\n",
       "      <th>65</th>\n",
       "      <td>b</td>\n",
       "      <td>0.033333</td>\n",
       "    </tr>\n",
       "    <tr>\n",
       "      <th>15630</th>\n",
       "      <td>bc</td>\n",
       "      <td>0.028994</td>\n",
       "    </tr>\n",
       "    <tr>\n",
       "      <th>330</th>\n",
       "      <td>ac</td>\n",
       "      <td>0.028994</td>\n",
       "    </tr>\n",
       "    <tr>\n",
       "      <th>7252</th>\n",
       "      <td>aa</td>\n",
       "      <td>0.001111</td>\n",
       "    </tr>\n",
       "    <tr>\n",
       "      <th>397</th>\n",
       "      <td>ab</td>\n",
       "      <td>0.001111</td>\n",
       "    </tr>\n",
       "    <tr>\n",
       "      <th>7012</th>\n",
       "      <td>ba</td>\n",
       "      <td>0.001111</td>\n",
       "    </tr>\n",
       "    <tr>\n",
       "      <th>11848</th>\n",
       "      <td>bb</td>\n",
       "      <td>0.001111</td>\n",
       "    </tr>\n",
       "    <tr>\n",
       "      <th>39305</th>\n",
       "      <td>abc</td>\n",
       "      <td>0.000966</td>\n",
       "    </tr>\n",
       "    <tr>\n",
       "      <th>6485</th>\n",
       "      <td>abb</td>\n",
       "      <td>0.000037</td>\n",
       "    </tr>\n",
       "    <tr>\n",
       "      <th>46071</th>\n",
       "      <td>aaa</td>\n",
       "      <td>0.000037</td>\n",
       "    </tr>\n",
       "    <tr>\n",
       "      <th>15498</th>\n",
       "      <td>aba</td>\n",
       "      <td>0.000037</td>\n",
       "    </tr>\n",
       "    <tr>\n",
       "      <th>24794</th>\n",
       "      <td>aaaa</td>\n",
       "      <td>0.000001</td>\n",
       "    </tr>\n",
       "    <tr>\n",
       "      <th>48910</th>\n",
       "      <td>abba</td>\n",
       "      <td>0.000001</td>\n",
       "    </tr>\n",
       "    <tr>\n",
       "      <th>▪</th>\n",
       "      <td>▪</td>\n",
       "      <td>0.000000</td>\n",
       "    </tr>\n",
       "  </tbody>\n",
       "</table>\n",
       "</div>"
      ],
      "text/plain": [
       "         chars      prob\n",
       "token_id                \n",
       "66           c  0.869821\n",
       "64           a  0.033333\n",
       "65           b  0.033333\n",
       "15630       bc  0.028994\n",
       "330         ac  0.028994\n",
       "7252        aa  0.001111\n",
       "397         ab  0.001111\n",
       "7012        ba  0.001111\n",
       "11848       bb  0.001111\n",
       "39305      abc  0.000966\n",
       "6485       abb  0.000037\n",
       "46071      aaa  0.000037\n",
       "15498      aba  0.000037\n",
       "24794     aaaa  0.000001\n",
       "48910     abba  0.000001\n",
       "▪            ▪  0.000000"
      ]
     },
     "execution_count": 39,
     "metadata": {},
     "output_type": "execute_result"
    }
   ],
   "source": [
    "df = []\n",
    "for x, w in sorted(normalize(lm2.p_next(context)).items(), key=lambda kv: -kv[1]):\n",
    "    df.append((x, (H.tokenizer.decode([x]) if x != EOS else EOS), w))\n",
    "pd.DataFrame(df, columns=['token_id', 'chars', 'prob']).set_index('token_id')"
   ]
  },
  {
   "cell_type": "code",
   "execution_count": 40,
   "id": "956b30e0-11be-4339-b576-fdd97c9d985a",
   "metadata": {},
   "outputs": [
    {
     "data": {
      "text/html": [
       "<div style=\"font-family: Monospace;\"><table><tr style=\"font-weight: bold;\"><td>key</td><td>value</td></tr><tr><td>b</td><td>0.03333333333332973</td> </tr><tr><td>c</td><td>0.9333333333333405</td> </tr><tr><td>a</td><td>0.03333333333332973</td> </tr></table></div>"
      ],
      "text/plain": [
       "{'b': 0.03333333333332973, 'c': 0.9333333333333405, 'a': 0.03333333333332973}"
      ]
     },
     "execution_count": 40,
     "metadata": {},
     "output_type": "execute_result"
    }
   ],
   "source": [
    "Float.chart(normalize(lm.p_next(char_context)))"
   ]
  },
  {
   "cell_type": "code",
   "execution_count": null,
   "id": "2a035044-4c12-495a-8b70-1a6bda2cbb40",
   "metadata": {},
   "outputs": [],
   "source": []
  },
  {
   "cell_type": "markdown",
   "id": "d3e142ef-2966-4614-aa72-5a998059dc50",
   "metadata": {},
   "source": [
    "## Lexing"
   ]
  },
  {
   "cell_type": "code",
   "execution_count": 45,
   "id": "db2f8551-e3aa-474b-92d5-3219ad81b36c",
   "metadata": {},
   "outputs": [],
   "source": [
    "lark_stuff = LarkStuff(r\"\"\"\n",
    "\n",
    "start: \"SELECT\" WS STAR WS \"FROM\" WS NAME WS EOS\n",
    "\n",
    "EOS: \"</s>\"\n",
    "NAME: /[a-z]+/\n",
    "STAR: \"*\"\n",
    "WS: /[ ]/\n",
    "\n",
    "\"\"\")"
   ]
  },
  {
   "cell_type": "code",
   "execution_count": 46,
   "id": "16b1d527-d27a-46e9-8e8e-e2a3da812351",
   "metadata": {},
   "outputs": [],
   "source": [
    "foo = lark_stuff.char_cfg(.1)"
   ]
  },
  {
   "cell_type": "code",
   "execution_count": 47,
   "id": "77d438bc-5767-444a-a449-571f511575f0",
   "metadata": {},
   "outputs": [],
   "source": [
    "#foo['NAME'].trim().agenda()"
   ]
  },
  {
   "cell_type": "code",
   "execution_count": 48,
   "id": "6114f525-ff3b-4736-bc3a-d48ebcff71c1",
   "metadata": {},
   "outputs": [],
   "source": [
    "#foo.agenda()"
   ]
  },
  {
   "cell_type": "code",
   "execution_count": 49,
   "id": "c8a2e4dd-81f3-433f-83a0-651f27ca63de",
   "metadata": {},
   "outputs": [],
   "source": [
    "foo = locally_normalize(foo, tol=1e-100).trim()\n",
    "assert len(foo) > 0"
   ]
  },
  {
   "cell_type": "code",
   "execution_count": 50,
   "id": "d3fffee2-0852-4aef-a92c-0e6b100be3b5",
   "metadata": {},
   "outputs": [],
   "source": [
    "#foo"
   ]
  },
  {
   "cell_type": "code",
   "execution_count": 51,
   "id": "79508f80-8c4a-4cc9-8487-10920b285dd2",
   "metadata": {},
   "outputs": [],
   "source": [
    "lm = CFGLM(add_EOS(foo))"
   ]
  },
  {
   "cell_type": "code",
   "execution_count": 52,
   "id": "86cde92c-91ea-410a-b002-88b6f383916c",
   "metadata": {},
   "outputs": [
    {
     "name": "stdout",
     "output_type": "stream",
     "text": [
      "mass= 1.0\n",
      "['S', 'E', 'L', 'E', 'C', 'T', ' ', '*', ' ', 'F', 'R', 'O', 'M', ' ', 'm', ' ', '<', '/', 's', '>']\n",
      "mass= 0.9616809116716195\n",
      "['S', 'E', 'L', 'E', 'C', 'T', ' ', '*', ' ', 'F', 'R', 'O', 'M', ' ', 'a', ' ', '<', '/', 's', '>']\n",
      "mass= 0.9233618233529013\n",
      "['S', 'E', 'L', 'E', 'C', 'T', ' ', '*', ' ', 'F', 'R', 'O', 'M', ' ', 'q', ' ', '<', '/', 's', '>']\n",
      "mass= 0.8850427350341831\n",
      "['S', 'E', 'L', 'E', 'C', 'T', ' ', '*', ' ', 'F', 'R', 'O', 'M', ' ', 'i', ' ', '<', '/', 's', '>']\n",
      "mass= 0.846723646715465\n",
      "['S', 'E', 'L', 'E', 'C', 'T', ' ', '*', ' ', 'F', 'R', 'O', 'M', ' ', 'w', ' ', '<', '/', 's', '>']\n",
      "mass= 0.8084045583967467\n",
      "['S', 'E', 'L', 'E', 'C', 'T', ' ', '*', ' ', 'F', 'R', 'O', 'M', ' ', 'r', ' ', '<', '/', 's', '>']\n",
      "mass= 0.7700854700780286\n",
      "['S', 'E', 'L', 'E', 'C', 'T', ' ', '*', ' ', 'F', 'R', 'O', 'M', ' ', 'b', ' ', '<', '/', 's', '>']\n",
      "mass= 0.7317663817593104\n",
      "['S', 'E', 'L', 'E', 'C', 'T', ' ', '*', ' ', 'F', 'R', 'O', 'M', ' ', 'o', ' ', '<', '/', 's', '>']\n",
      "mass= 0.6934472934405923\n",
      "['S', 'E', 'L', 'E', 'C', 'T', ' ', '*', ' ', 'F', 'R', 'O', 'M', ' ', 'v', ' ', '<', '/', 's', '>']\n",
      "mass= 0.6551282051218741\n",
      "['S', 'E', 'L', 'E', 'C', 'T', ' ', '*', ' ', 'F', 'R', 'O', 'M', ' ', 'y', 'h', 'y', ' ', '<', '/', 's', '>']\n",
      "mass= 0.6181404785274611\n",
      "['S', 'E', 'L', 'E', 'C', 'T', ' ', '*', ' ', 'F', 'R', 'O', 'M', ' ', 'e', ' ', '<', '/', 's', '>']\n",
      "mass= 0.5798213902087429\n",
      "['S', 'E', 'L', 'E', 'C', 'T', ' ', '*', ' ', 'F', 'R', 'O', 'M', ' ', 'x', ' ', '<', '/', 's', '>']\n",
      "mass= 0.5415023018900249\n",
      "['S', 'E', 'L', 'E', 'C', 'T', ' ', '*', ' ', 'F', 'R', 'O', 'M', ' ', 't', ' ', '<', '/', 's', '>']\n",
      "mass= 0.5031832135713068\n",
      "['S', 'E', 'L', 'E', 'C', 'T', ' ', '*', ' ', 'F', 'R', 'O', 'M', ' ', 'k', ' ', '<', '/', 's', '>']\n",
      "mass= 0.4648641252525887\n",
      "['S', 'E', 'L', 'E', 'C', 'T', ' ', '*', ' ', 'F', 'R', 'O', 'M', ' ', 'c', ' ', '<', '/', 's', '>']\n"
     ]
    }
   ],
   "source": [
    "trace = TraceSWOR()\n",
    "for _ in range(15):\n",
    "   print('mass=', trace.root.mass)\n",
    "   with trace:\n",
    "       print(lm.sample(draw=trace))"
   ]
  },
  {
   "cell_type": "code",
   "execution_count": null,
   "id": "e36e6deb-900c-4dbd-bad4-c51ce910a641",
   "metadata": {},
   "outputs": [],
   "source": []
  },
  {
   "cell_type": "code",
   "execution_count": 53,
   "id": "78a60e9d-e85b-4759-8653-bcccd72c02dd",
   "metadata": {},
   "outputs": [],
   "source": [
    "cfg = lark_stuff.convert().renumber()"
   ]
  },
  {
   "cell_type": "code",
   "execution_count": 54,
   "id": "db081114-ac49-4e6d-9c8f-b078966f965e",
   "metadata": {},
   "outputs": [
    {
     "data": {
      "text/plain": [
       "25"
      ]
     },
     "execution_count": 54,
     "metadata": {},
     "output_type": "execute_result"
    }
   ],
   "source": [
    "c2t = lark_stuff.transducer(ignore='', decay=.0125); len(c2t.states)"
   ]
  },
  {
   "cell_type": "markdown",
   "id": "4b8fd795-8971-41aa-8347-883ec12f0623",
   "metadata": {},
   "source": [
    "The `lark` library will only lex it one way because it has a deterministic semantics for prioritized lexing:"
   ]
  },
  {
   "cell_type": "code",
   "execution_count": 55,
   "id": "48dee626-031a-409c-b523-57810a90b6c0",
   "metadata": {},
   "outputs": [],
   "source": [
    "x = 'SELECT * FROM data'"
   ]
  },
  {
   "cell_type": "code",
   "execution_count": 56,
   "id": "3b469dfa-1951-419e-918d-2753befef16c",
   "metadata": {},
   "outputs": [
    {
     "data": {
      "text/plain": [
       "[Token('SELECT', 'SELECT'),\n",
       " Token('WS', ' '),\n",
       " Token('STAR', '*'),\n",
       " Token('WS', ' '),\n",
       " Token('FROM', 'FROM'),\n",
       " Token('WS', ' '),\n",
       " Token('NAME', 'data')]"
      ]
     },
     "execution_count": 56,
     "metadata": {},
     "output_type": "execute_result"
    }
   ],
   "source": [
    "list(lark_stuff.lex(x))"
   ]
  },
  {
   "cell_type": "markdown",
   "id": "890c4399-43c6-44f3-ba0a-9d4c720591ed",
   "metadata": {},
   "source": [
    "However, this string can lex many different ways:"
   ]
  },
  {
   "cell_type": "code",
   "execution_count": 57,
   "id": "e4b13795-6d91-4604-847f-76a1cbec7576",
   "metadata": {},
   "outputs": [],
   "source": [
    "ambig = (FST.from_string(x, Float) @ c2t).trim.project(1).epsremove.trim.to_cfg().cnf.language(15)"
   ]
  },
  {
   "cell_type": "code",
   "execution_count": 58,
   "id": "6d725b7f-f4c0-4cd5-8f0f-61bda50afe36",
   "metadata": {},
   "outputs": [],
   "source": [
    "#ambig"
   ]
  },
  {
   "cell_type": "markdown",
   "id": "1113c156-60a3-48c9-846f-cf9487dc5125",
   "metadata": {},
   "source": [
    "It might be fine to allow ambiguous lexing because very few of the possible lexing options will survive the parser."
   ]
  },
  {
   "cell_type": "code",
   "execution_count": 59,
   "id": "a7cb2cbf-8561-4b15-9713-5942a0568883",
   "metadata": {},
   "outputs": [
    {
     "name": "stdout",
     "output_type": "stream",
     "text": [
      "1.0 ('SELECT', 'WS', 'STAR', 'WS', 'FROM', 'WS', 'NAME')\n"
     ]
    }
   ],
   "source": [
    "for y in ambig:\n",
    "    v = cfg.prefix_weight(y)   # show all options with a nonzero prefix weight\n",
    "    if v == 0: continue\n",
    "    print(v, y)"
   ]
  },
  {
   "cell_type": "code",
   "execution_count": 60,
   "id": "5ddeacb6-c2d1-4338-ac43-08f6dfe4dfea",
   "metadata": {},
   "outputs": [],
   "source": [
    "#((FST.from_string('SELECT', Float) @ c2t) @ P.T @ cfg).trim().cnf.language(15)"
   ]
  },
  {
   "cell_type": "code",
   "execution_count": 61,
   "id": "e0efbe84-53c3-4d07-8a32-956036803019",
   "metadata": {},
   "outputs": [],
   "source": [
    "#(P.T @ cfg).trim().cnf.language(100)"
   ]
  },
  {
   "cell_type": "code",
   "execution_count": 62,
   "id": "dfc2e37c-55cc-485b-b755-3281ad9aaa0a",
   "metadata": {},
   "outputs": [],
   "source": [
    "cfg_t = (c2t.renumber @ cfg).trim()\n",
    "pcfg_t = locally_normalize(cfg_t, tol=1e-100, maxiter=10_000_000)"
   ]
  },
  {
   "cell_type": "code",
   "execution_count": 63,
   "id": "6e65a6fd-e69a-4836-8404-044aa18d85ca",
   "metadata": {},
   "outputs": [
    {
     "name": "stdout",
     "output_type": "stream",
     "text": [
      "\u001b[0;32m✔\u001b[0m PCFG\n"
     ]
    }
   ],
   "source": [
    "pcfg_check(pcfg_t)"
   ]
  },
  {
   "cell_type": "code",
   "execution_count": 74,
   "id": "405b0d8c-fd5e-4746-a959-c847a3a7bb25",
   "metadata": {},
   "outputs": [
    {
     "data": {
      "text/plain": [
       "2.117582368135754e-46"
      ]
     },
     "execution_count": 74,
     "metadata": {},
     "output_type": "execute_result"
    }
   ],
   "source": [
    "cfg_t('SELECT * FROM data </s>')"
   ]
  },
  {
   "cell_type": "code",
   "execution_count": 75,
   "id": "6a341822-10fa-4dec-9d48-097e676634a3",
   "metadata": {},
   "outputs": [
    {
     "data": {
      "text/plain": [
       "2.117582368135754e-46"
      ]
     },
     "execution_count": 75,
     "metadata": {},
     "output_type": "execute_result"
    }
   ],
   "source": [
    "cfg_t('SELECT * FROM data </s>')"
   ]
  },
  {
   "cell_type": "code",
   "execution_count": 76,
   "id": "857feb25-f028-43cc-810b-09b905e550df",
   "metadata": {},
   "outputs": [],
   "source": [
    "lm = CFGLM(add_EOS(pcfg_t.cnf))"
   ]
  },
  {
   "cell_type": "code",
   "execution_count": 77,
   "id": "8658feb1-73eb-4610-8ea7-f5292b698a66",
   "metadata": {},
   "outputs": [
    {
     "name": "stdout",
     "output_type": "stream",
     "text": [
      "SELECT * FROM gqcz </s>\n",
      "SELECT * FROM ilq </s>\n",
      "SELECT * FROM v </s>\n",
      "SELECT * FROM c </s>\n",
      "SELECT * FROM l </s>\n",
      "SELECT * FROM e </s>\n",
      "SELECT * FROM x </s>\n",
      "SELECT * FROM ju </s>\n",
      "SELECT * FROM q </s>\n",
      "SELECT * FROM z </s>\n"
     ]
    }
   ],
   "source": [
    "for _ in range(10):\n",
    "    print(''.join(lm.sample()))"
   ]
  },
  {
   "cell_type": "code",
   "execution_count": 78,
   "id": "a6be40a1-cc63-454a-a3d5-2ac66baba86a",
   "metadata": {},
   "outputs": [
    {
     "data": {
      "text/html": [
       "<div style=\"font-family: Monospace;\"><table><tr style=\"font-weight: bold;\"><td>key</td><td>value</td></tr><tr><td>l</td><td>0.03846153846151434</td> </tr><tr><td>b</td><td>0.03846153846151434</td> </tr><tr><td>i</td><td>0.03846153846151434</td> </tr><tr><td>g</td><td>0.03846153846151434</td> </tr><tr><td>r</td><td>0.03846153846151434</td> </tr><tr><td>o</td><td>0.03846153846151434</td> </tr><tr><td>w</td><td>0.03846153846151434</td> </tr><tr><td>h</td><td>0.03846153846151434</td> </tr><tr><td>t</td><td>0.03846153846151434</td> </tr><tr><td>f</td><td>0.03846153846151434</td> </tr><tr><td>p</td><td>0.03846153846151434</td> </tr><tr><td>z</td><td>0.03846153846151434</td> </tr><tr><td>y</td><td>0.03846153846151434</td> </tr><tr><td>x</td><td>0.03846153846151434</td> </tr><tr><td>k</td><td>0.03846153846151434</td> </tr><tr><td>n</td><td>0.03846153846151434</td> </tr><tr><td>q</td><td>0.03846153846151434</td> </tr><tr><td>a</td><td>0.03846153846151434</td> </tr><tr><td>u</td><td>0.03846153846151434</td> </tr><tr><td>v</td><td>0.03846153846151434</td> </tr><tr><td>d</td><td>0.03846153846151434</td> </tr><tr><td>s</td><td>0.03846153846151434</td> </tr><tr><td>m</td><td>0.03846153846151434</td> </tr><tr><td>e</td><td>0.03846153846151434</td> </tr><tr><td>c</td><td>0.03846153846151434</td> </tr><tr><td>j</td><td>0.03846153846151434</td> </tr></table></div>"
      ],
      "text/plain": [
       "{'l': 0.03846153846151434, 'b': 0.03846153846151434, 'i': 0.03846153846151434, 'g': 0.03846153846151434, 'r': 0.03846153846151434, 'o': 0.03846153846151434, 'w': 0.03846153846151434, 'h': 0.03846153846151434, 't': 0.03846153846151434, 'f': 0.03846153846151434, 'p': 0.03846153846151434, 'z': 0.03846153846151434, 'y': 0.03846153846151434, 'x': 0.03846153846151434, 'k': 0.03846153846151434, 'n': 0.03846153846151434, 'q': 0.03846153846151434, 'a': 0.03846153846151434, 'u': 0.03846153846151434, 'v': 0.03846153846151434, 'd': 0.03846153846151434, 's': 0.03846153846151434, 'm': 0.03846153846151434, 'e': 0.03846153846151434, 'c': 0.03846153846151434, 'j': 0.03846153846151434}"
      ]
     },
     "execution_count": 78,
     "metadata": {},
     "output_type": "execute_result"
    }
   ],
   "source": [
    "lm.p_next('SELECT * FROM ')"
   ]
  },
  {
   "cell_type": "code",
   "execution_count": null,
   "id": "ed95fbfe-24fe-42b9-8daa-e07159bd5856",
   "metadata": {},
   "outputs": [],
   "source": []
  },
  {
   "cell_type": "code",
   "execution_count": null,
   "id": "8ac1d457-4cb3-4fae-bb05-06d26a173fc0",
   "metadata": {},
   "outputs": [],
   "source": []
  },
  {
   "cell_type": "markdown",
   "id": "0f0582ac-3451-4b7f-bcb0-1fc2cdc8efbe",
   "metadata": {
    "jp-MarkdownHeadingCollapsed": true
   },
   "source": [
    "## BPE Basics"
   ]
  },
  {
   "cell_type": "code",
   "execution_count": 79,
   "id": "66dddc70-9ccd-4e03-9135-8461fb0c831b",
   "metadata": {},
   "outputs": [],
   "source": [
    "hf_tk = hf_tokenizer()\n",
    "tokenizer = hf_tk.tokenizer"
   ]
  },
  {
   "cell_type": "code",
   "execution_count": 80,
   "id": "3113a7ae-ea16-4b18-9612-70b4fdcee7b2",
   "metadata": {},
   "outputs": [
    {
     "data": {
      "text/plain": [
       "369588"
      ]
     },
     "execution_count": 80,
     "metadata": {},
     "output_type": "execute_result"
    }
   ],
   "source": [
    "b2c = hf_tk.fst\n",
    "len(b2c.states)"
   ]
  },
  {
   "cell_type": "code",
   "execution_count": 81,
   "id": "822277b4-4f0f-43a2-8783-e6a5831109a2",
   "metadata": {},
   "outputs": [
    {
     "data": {
      "text/plain": [
       "[46506, 1635, 16034, 1366]"
      ]
     },
     "execution_count": 81,
     "metadata": {},
     "output_type": "execute_result"
    }
   ],
   "source": [
    "x = 'SELECT * FROM data'\n",
    "b = tokenizer.encode(x)\n",
    "b"
   ]
  },
  {
   "cell_type": "code",
   "execution_count": 82,
   "id": "5a439aee-06e4-4e3c-b244-892f29ddc63b",
   "metadata": {},
   "outputs": [
    {
     "data": {
      "text/plain": [
       "['SELECT', ' *', ' FROM', ' data']"
      ]
     },
     "execution_count": 82,
     "metadata": {},
     "output_type": "execute_result"
    }
   ],
   "source": [
    "[tokenizer.decode([bb]) for bb in b]"
   ]
  },
  {
   "cell_type": "code",
   "execution_count": 84,
   "id": "54a5ff04-03bb-4965-9f05-8085c90dce5e",
   "metadata": {},
   "outputs": [
    {
     "name": "stdout",
     "output_type": "stream",
     "text": [
      "states: 31, trim: 30\n"
     ]
    },
    {
     "name": "stderr",
     "output_type": "stream",
     "text": [
      "composition (3.8080 sec)\n"
     ]
    }
   ],
   "source": [
    "with timeit('composition'):\n",
    "    c = FST.from_string(tuple(b), Float) @ b2c\n",
    "about(c)"
   ]
  },
  {
   "cell_type": "code",
   "execution_count": 86,
   "id": "3f35ab22-cc99-4b61-836d-5109ae8934fd",
   "metadata": {},
   "outputs": [
    {
     "data": {
      "image/svg+xml": [
       "<?xml version=\"1.0\" encoding=\"UTF-8\" standalone=\"no\"?>\n",
       "<!DOCTYPE svg PUBLIC \"-//W3C//DTD SVG 1.1//EN\"\n",
       " \"http://www.w3.org/Graphics/SVG/1.1/DTD/svg11.dtd\">\n",
       "<!-- Generated by graphviz version 2.43.0 (0)\n",
       " -->\n",
       "<!-- Title: %3 Pages: 1 -->\n",
       "<svg width=\"3284pt\" height=\"26pt\"\n",
       " viewBox=\"0.00 0.00 3283.69 25.78\" xmlns=\"http://www.w3.org/2000/svg\" xmlns:xlink=\"http://www.w3.org/1999/xlink\">\n",
       "<g id=\"graph0\" class=\"graph\" transform=\"scale(1 1) rotate(0) translate(4 21.78)\">\n",
       "<title>%3</title>\n",
       "<polygon fill=\"white\" stroke=\"transparent\" points=\"-4,4 -4,-21.78 3279.69,-21.78 3279.69,4 -4,4\"/>\n",
       "<!-- start_(((), 0), 0) -->\n",
       "<g id=\"node1\" class=\"node\">\n",
       "<title>start_(((), 0), 0)</title>\n",
       "<ellipse fill=\"black\" stroke=\"black\" cx=\"0\" cy=\"-7.78\" rx=\"0\" ry=\"0\"/>\n",
       "</g>\n",
       "<!-- 0 -->\n",
       "<g id=\"node2\" class=\"node\">\n",
       "<title>0</title>\n",
       "<ellipse fill=\"none\" stroke=\"black\" cx=\"49.78\" cy=\"-7.78\" rx=\"7.56\" ry=\"7.56\"/>\n",
       "<text text-anchor=\"middle\" x=\"49.78\" y=\"-5.28\" font-family=\"Monospace\" font-size=\"10.00\"> </text>\n",
       "</g>\n",
       "<!-- start_(((), 0), 0)&#45;&gt;0 -->\n",
       "<g id=\"edge1\" class=\"edge\">\n",
       "<title>start_(((), 0), 0)&#45;&gt;0</title>\n",
       "<path fill=\"none\" stroke=\"black\" d=\"M1.14,-7.78C3.07,-7.78 25.11,-7.78 38.52,-7.78\"/>\n",
       "<polygon fill=\"black\" stroke=\"black\" points=\"38.73,-8.83 41.73,-7.78 38.73,-6.73 38.73,-8.83\"/>\n",
       "<text text-anchor=\"middle\" x=\"21\" y=\"-10.58\" font-family=\"Monospace\" font-size=\"9.00\">1</text>\n",
       "</g>\n",
       "<!-- 16 -->\n",
       "<g id=\"node18\" class=\"node\">\n",
       "<title>16</title>\n",
       "<ellipse fill=\"none\" stroke=\"black\" cx=\"170.33\" cy=\"-7.78\" rx=\"7.56\" ry=\"7.56\"/>\n",
       "<text text-anchor=\"middle\" x=\"170.33\" y=\"-5.28\" font-family=\"Monospace\" font-size=\"10.00\"> </text>\n",
       "</g>\n",
       "<!-- 0&#45;&gt;16 -->\n",
       "<g id=\"edge25\" class=\"edge\">\n",
       "<title>0&#45;&gt;16</title>\n",
       "<path fill=\"none\" stroke=\"black\" d=\"M57.84,-7.78C77.98,-7.78 135.79,-7.78 159.25,-7.78\"/>\n",
       "<polygon fill=\"black\" stroke=\"black\" points=\"159.46,-8.83 162.46,-7.78 159.46,-6.73 159.46,-8.83\"/>\n",
       "<text text-anchor=\"middle\" x=\"110.06\" y=\"-10.58\" font-family=\"Monospace\" font-size=\"9.00\">(46506, &#39;&#39;)/1</text>\n",
       "</g>\n",
       "<!-- 1 -->\n",
       "<g id=\"node3\" class=\"node\">\n",
       "<title>1</title>\n",
       "<ellipse fill=\"none\" stroke=\"black\" cx=\"2683.13\" cy=\"-7.78\" rx=\"7.56\" ry=\"7.56\"/>\n",
       "<text text-anchor=\"middle\" x=\"2683.13\" y=\"-5.28\" font-family=\"Monospace\" font-size=\"10.00\"> </text>\n",
       "</g>\n",
       "<!-- 20 -->\n",
       "<g id=\"node22\" class=\"node\">\n",
       "<title>20</title>\n",
       "<ellipse fill=\"none\" stroke=\"black\" cx=\"2792.69\" cy=\"-7.78\" rx=\"7.56\" ry=\"7.56\"/>\n",
       "<text text-anchor=\"middle\" x=\"2792.69\" y=\"-5.28\" font-family=\"Monospace\" font-size=\"10.00\"> </text>\n",
       "</g>\n",
       "<!-- 1&#45;&gt;20 -->\n",
       "<g id=\"edge3\" class=\"edge\">\n",
       "<title>1&#45;&gt;20</title>\n",
       "<path fill=\"none\" stroke=\"black\" d=\"M2691.19,-7.78C2709.73,-7.78 2759.89,-7.78 2781.53,-7.78\"/>\n",
       "<polygon fill=\"black\" stroke=\"black\" points=\"2781.74,-8.83 2784.74,-7.78 2781.74,-6.73 2781.74,-8.83\"/>\n",
       "<text text-anchor=\"middle\" x=\"2737.91\" y=\"-10.58\" font-family=\"Monospace\" font-size=\"9.00\">(&#39;&#39;, &#39;d&#39;)/1</text>\n",
       "</g>\n",
       "<!-- 2 -->\n",
       "<g id=\"node4\" class=\"node\">\n",
       "<title>2</title>\n",
       "<ellipse fill=\"none\" stroke=\"black\" cx=\"608.56\" cy=\"-7.78\" rx=\"7.56\" ry=\"7.56\"/>\n",
       "<text text-anchor=\"middle\" x=\"608.56\" y=\"-5.28\" font-family=\"Monospace\" font-size=\"10.00\"> </text>\n",
       "</g>\n",
       "<!-- 24 -->\n",
       "<g id=\"node26\" class=\"node\">\n",
       "<title>24</title>\n",
       "<ellipse fill=\"none\" stroke=\"black\" cx=\"718.12\" cy=\"-7.78\" rx=\"7.56\" ry=\"7.56\"/>\n",
       "<text text-anchor=\"middle\" x=\"718.12\" y=\"-5.28\" font-family=\"Monospace\" font-size=\"10.00\"> </text>\n",
       "</g>\n",
       "<!-- 2&#45;&gt;24 -->\n",
       "<g id=\"edge4\" class=\"edge\">\n",
       "<title>2&#45;&gt;24</title>\n",
       "<path fill=\"none\" stroke=\"black\" d=\"M616.62,-7.78C635.16,-7.78 685.32,-7.78 706.95,-7.78\"/>\n",
       "<polygon fill=\"black\" stroke=\"black\" points=\"707.17,-8.83 710.17,-7.78 707.17,-6.73 707.17,-8.83\"/>\n",
       "<text text-anchor=\"middle\" x=\"663.34\" y=\"-10.58\" font-family=\"Monospace\" font-size=\"9.00\">(&#39;&#39;, &#39;C&#39;)/1</text>\n",
       "</g>\n",
       "<!-- 3 -->\n",
       "<g id=\"node5\" class=\"node\">\n",
       "<title>3</title>\n",
       "<ellipse fill=\"none\" stroke=\"black\" cx=\"3011.8\" cy=\"-7.78\" rx=\"7.56\" ry=\"7.56\"/>\n",
       "<text text-anchor=\"middle\" x=\"3011.8\" y=\"-5.28\" font-family=\"Monospace\" font-size=\"10.00\"> </text>\n",
       "</g>\n",
       "<!-- 21 -->\n",
       "<g id=\"node23\" class=\"node\">\n",
       "<title>21</title>\n",
       "<ellipse fill=\"none\" stroke=\"black\" cx=\"3121.36\" cy=\"-7.78\" rx=\"7.56\" ry=\"7.56\"/>\n",
       "<text text-anchor=\"middle\" x=\"3121.36\" y=\"-5.28\" font-family=\"Monospace\" font-size=\"10.00\"> </text>\n",
       "</g>\n",
       "<!-- 3&#45;&gt;21 -->\n",
       "<g id=\"edge5\" class=\"edge\">\n",
       "<title>3&#45;&gt;21</title>\n",
       "<path fill=\"none\" stroke=\"black\" d=\"M3019.86,-7.78C3038.4,-7.78 3088.56,-7.78 3110.19,-7.78\"/>\n",
       "<polygon fill=\"black\" stroke=\"black\" points=\"3110.41,-8.83 3113.41,-7.78 3110.41,-6.73 3110.41,-8.83\"/>\n",
       "<text text-anchor=\"middle\" x=\"3066.58\" y=\"-10.58\" font-family=\"Monospace\" font-size=\"9.00\">(&#39;&#39;, &#39;a&#39;)/1</text>\n",
       "</g>\n",
       "<!-- 4 -->\n",
       "<g id=\"node6\" class=\"node\">\n",
       "<title>4</title>\n",
       "<ellipse fill=\"none\" stroke=\"black\" cx=\"279.89\" cy=\"-7.78\" rx=\"7.56\" ry=\"7.56\"/>\n",
       "<text text-anchor=\"middle\" x=\"279.89\" y=\"-5.28\" font-family=\"Monospace\" font-size=\"10.00\"> </text>\n",
       "</g>\n",
       "<!-- 23 -->\n",
       "<g id=\"node25\" class=\"node\">\n",
       "<title>23</title>\n",
       "<ellipse fill=\"none\" stroke=\"black\" cx=\"389.45\" cy=\"-7.78\" rx=\"7.56\" ry=\"7.56\"/>\n",
       "<text text-anchor=\"middle\" x=\"389.45\" y=\"-5.28\" font-family=\"Monospace\" font-size=\"10.00\"> </text>\n",
       "</g>\n",
       "<!-- 4&#45;&gt;23 -->\n",
       "<g id=\"edge6\" class=\"edge\">\n",
       "<title>4&#45;&gt;23</title>\n",
       "<path fill=\"none\" stroke=\"black\" d=\"M287.95,-7.78C306.49,-7.78 356.65,-7.78 378.29,-7.78\"/>\n",
       "<polygon fill=\"black\" stroke=\"black\" points=\"378.5,-8.83 381.5,-7.78 378.5,-6.73 378.5,-8.83\"/>\n",
       "<text text-anchor=\"middle\" x=\"334.67\" y=\"-10.58\" font-family=\"Monospace\" font-size=\"9.00\">(&#39;&#39;, &#39;E&#39;)/1</text>\n",
       "</g>\n",
       "<!-- 5 -->\n",
       "<g id=\"node7\" class=\"node\">\n",
       "<title>5</title>\n",
       "<ellipse fill=\"none\" stroke=\"black\" cx=\"1701.12\" cy=\"-7.78\" rx=\"7.56\" ry=\"7.56\"/>\n",
       "<text text-anchor=\"middle\" x=\"1701.12\" y=\"-5.28\" font-family=\"Monospace\" font-size=\"10.00\"> </text>\n",
       "</g>\n",
       "<!-- 8 -->\n",
       "<g id=\"node10\" class=\"node\">\n",
       "<title>8</title>\n",
       "<ellipse fill=\"none\" stroke=\"black\" cx=\"1810.68\" cy=\"-7.78\" rx=\"7.56\" ry=\"7.56\"/>\n",
       "<text text-anchor=\"middle\" x=\"1810.68\" y=\"-5.28\" font-family=\"Monospace\" font-size=\"10.00\"> </text>\n",
       "</g>\n",
       "<!-- 5&#45;&gt;8 -->\n",
       "<g id=\"edge7\" class=\"edge\">\n",
       "<title>5&#45;&gt;8</title>\n",
       "<path fill=\"none\" stroke=\"black\" d=\"M1709.18,-7.78C1727.72,-7.78 1777.88,-7.78 1799.52,-7.78\"/>\n",
       "<polygon fill=\"black\" stroke=\"black\" points=\"1799.74,-8.83 1802.74,-7.78 1799.74,-6.73 1799.74,-8.83\"/>\n",
       "<text text-anchor=\"middle\" x=\"1755.9\" y=\"-10.58\" font-family=\"Monospace\" font-size=\"9.00\">(&#39;&#39;, &#39; &#39;)/1</text>\n",
       "</g>\n",
       "<!-- 6 -->\n",
       "<g id=\"node8\" class=\"node\">\n",
       "<title>6</title>\n",
       "<ellipse fill=\"none\" stroke=\"black\" cx=\"2139.35\" cy=\"-7.78\" rx=\"7.56\" ry=\"7.56\"/>\n",
       "<text text-anchor=\"middle\" x=\"2139.35\" y=\"-5.28\" font-family=\"Monospace\" font-size=\"10.00\"> </text>\n",
       "</g>\n",
       "<!-- 27 -->\n",
       "<g id=\"node29\" class=\"node\">\n",
       "<title>27</title>\n",
       "<ellipse fill=\"none\" stroke=\"black\" cx=\"2248.91\" cy=\"-7.78\" rx=\"7.56\" ry=\"7.56\"/>\n",
       "<text text-anchor=\"middle\" x=\"2248.91\" y=\"-5.28\" font-family=\"Monospace\" font-size=\"10.00\"> </text>\n",
       "</g>\n",
       "<!-- 6&#45;&gt;27 -->\n",
       "<g id=\"edge8\" class=\"edge\">\n",
       "<title>6&#45;&gt;27</title>\n",
       "<path fill=\"none\" stroke=\"black\" d=\"M2147.41,-7.78C2165.95,-7.78 2216.11,-7.78 2237.74,-7.78\"/>\n",
       "<polygon fill=\"black\" stroke=\"black\" points=\"2237.96,-8.83 2240.96,-7.78 2237.96,-6.73 2237.96,-8.83\"/>\n",
       "<text text-anchor=\"middle\" x=\"2194.13\" y=\"-10.58\" font-family=\"Monospace\" font-size=\"9.00\">(&#39;&#39;, &#39;M&#39;)/1</text>\n",
       "</g>\n",
       "<!-- 7 -->\n",
       "<g id=\"node9\" class=\"node\">\n",
       "<title>7</title>\n",
       "<ellipse fill=\"none\" stroke=\"black\" cx=\"1580.57\" cy=\"-7.78\" rx=\"7.56\" ry=\"7.56\"/>\n",
       "<text text-anchor=\"middle\" x=\"1580.57\" y=\"-5.28\" font-family=\"Monospace\" font-size=\"10.00\"> </text>\n",
       "</g>\n",
       "<!-- 7&#45;&gt;5 -->\n",
       "<g id=\"edge9\" class=\"edge\">\n",
       "<title>7&#45;&gt;5</title>\n",
       "<path fill=\"none\" stroke=\"black\" d=\"M1588.63,-7.78C1608.77,-7.78 1666.58,-7.78 1690.04,-7.78\"/>\n",
       "<polygon fill=\"black\" stroke=\"black\" points=\"1690.25,-8.83 1693.25,-7.78 1690.25,-6.73 1690.25,-8.83\"/>\n",
       "<text text-anchor=\"middle\" x=\"1640.85\" y=\"-10.58\" font-family=\"Monospace\" font-size=\"9.00\">(16034, &#39;&#39;)/1</text>\n",
       "</g>\n",
       "<!-- 26 -->\n",
       "<g id=\"node28\" class=\"node\">\n",
       "<title>26</title>\n",
       "<ellipse fill=\"none\" stroke=\"black\" cx=\"1920.24\" cy=\"-7.78\" rx=\"7.56\" ry=\"7.56\"/>\n",
       "<text text-anchor=\"middle\" x=\"1920.24\" y=\"-5.28\" font-family=\"Monospace\" font-size=\"10.00\"> </text>\n",
       "</g>\n",
       "<!-- 8&#45;&gt;26 -->\n",
       "<g id=\"edge10\" class=\"edge\">\n",
       "<title>8&#45;&gt;26</title>\n",
       "<path fill=\"none\" stroke=\"black\" d=\"M1818.74,-7.78C1837.28,-7.78 1887.44,-7.78 1909.07,-7.78\"/>\n",
       "<polygon fill=\"black\" stroke=\"black\" points=\"1909.29,-8.83 1912.29,-7.78 1909.29,-6.73 1909.29,-8.83\"/>\n",
       "<text text-anchor=\"middle\" x=\"1865.46\" y=\"-10.58\" font-family=\"Monospace\" font-size=\"9.00\">(&#39;&#39;, &#39;F&#39;)/1</text>\n",
       "</g>\n",
       "<!-- 9 -->\n",
       "<g id=\"node11\" class=\"node\">\n",
       "<title>9</title>\n",
       "<ellipse fill=\"none\" stroke=\"black\" cx=\"1036.79\" cy=\"-7.78\" rx=\"7.56\" ry=\"7.56\"/>\n",
       "<text text-anchor=\"middle\" x=\"1036.79\" y=\"-5.28\" font-family=\"Monospace\" font-size=\"10.00\"> </text>\n",
       "</g>\n",
       "<!-- 22 -->\n",
       "<g id=\"node24\" class=\"node\">\n",
       "<title>22</title>\n",
       "<ellipse fill=\"none\" stroke=\"black\" cx=\"1152.34\" cy=\"-7.78\" rx=\"7.56\" ry=\"7.56\"/>\n",
       "<text text-anchor=\"middle\" x=\"1152.34\" y=\"-5.28\" font-family=\"Monospace\" font-size=\"10.00\"> </text>\n",
       "</g>\n",
       "<!-- 9&#45;&gt;22 -->\n",
       "<g id=\"edge11\" class=\"edge\">\n",
       "<title>9&#45;&gt;22</title>\n",
       "<path fill=\"none\" stroke=\"black\" d=\"M1044.89,-7.78C1064.42,-7.78 1118.96,-7.78 1141.45,-7.78\"/>\n",
       "<polygon fill=\"black\" stroke=\"black\" points=\"1141.53,-8.83 1144.53,-7.78 1141.53,-6.73 1141.53,-8.83\"/>\n",
       "<text text-anchor=\"middle\" x=\"1094.56\" y=\"-10.58\" font-family=\"Monospace\" font-size=\"9.00\">(1635, &#39;&#39;)/1</text>\n",
       "</g>\n",
       "<!-- 10 -->\n",
       "<g id=\"node12\" class=\"node\">\n",
       "<title>10</title>\n",
       "<ellipse fill=\"none\" stroke=\"black\" cx=\"2353.46\" cy=\"-7.78\" rx=\"7.56\" ry=\"7.56\"/>\n",
       "<text text-anchor=\"middle\" x=\"2353.46\" y=\"-5.28\" font-family=\"Monospace\" font-size=\"10.00\"> </text>\n",
       "</g>\n",
       "<!-- 19 -->\n",
       "<g id=\"node21\" class=\"node\">\n",
       "<title>19</title>\n",
       "<ellipse fill=\"none\" stroke=\"black\" cx=\"2458.02\" cy=\"-7.78\" rx=\"7.56\" ry=\"7.56\"/>\n",
       "<text text-anchor=\"middle\" x=\"2458.02\" y=\"-5.28\" font-family=\"Monospace\" font-size=\"10.00\"> </text>\n",
       "</g>\n",
       "<!-- 10&#45;&gt;19 -->\n",
       "<g id=\"edge12\" class=\"edge\">\n",
       "<title>10&#45;&gt;19</title>\n",
       "<path fill=\"none\" stroke=\"black\" d=\"M2361.51,-7.78C2379.38,-7.78 2426.5,-7.78 2447.12,-7.78\"/>\n",
       "<polygon fill=\"black\" stroke=\"black\" points=\"2447.19,-8.83 2450.19,-7.78 2447.19,-6.73 2447.19,-8.83\"/>\n",
       "<text text-anchor=\"middle\" x=\"2405.74\" y=\"-10.58\" font-family=\"Monospace\" font-size=\"9.00\">(&#39;&#39;, &#39;&#39;)/1</text>\n",
       "</g>\n",
       "<!-- 11 -->\n",
       "<g id=\"node13\" class=\"node\">\n",
       "<title>11</title>\n",
       "<ellipse fill=\"none\" stroke=\"black\" cx=\"2573.57\" cy=\"-7.78\" rx=\"7.56\" ry=\"7.56\"/>\n",
       "<text text-anchor=\"middle\" x=\"2573.57\" y=\"-5.28\" font-family=\"Monospace\" font-size=\"10.00\"> </text>\n",
       "</g>\n",
       "<!-- 11&#45;&gt;1 -->\n",
       "<g id=\"edge13\" class=\"edge\">\n",
       "<title>11&#45;&gt;1</title>\n",
       "<path fill=\"none\" stroke=\"black\" d=\"M2581.63,-7.78C2600.17,-7.78 2650.33,-7.78 2671.97,-7.78\"/>\n",
       "<polygon fill=\"black\" stroke=\"black\" points=\"2672.19,-8.83 2675.19,-7.78 2672.19,-6.73 2672.19,-8.83\"/>\n",
       "<text text-anchor=\"middle\" x=\"2628.35\" y=\"-10.58\" font-family=\"Monospace\" font-size=\"9.00\">(&#39;&#39;, &#39; &#39;)/1</text>\n",
       "</g>\n",
       "<!-- 12 -->\n",
       "<g id=\"node14\" class=\"node\">\n",
       "<title>12</title>\n",
       "<ellipse fill=\"none\" stroke=\"black\" cx=\"2902.24\" cy=\"-7.78\" rx=\"7.56\" ry=\"7.56\"/>\n",
       "<text text-anchor=\"middle\" x=\"2902.24\" y=\"-5.28\" font-family=\"Monospace\" font-size=\"10.00\"> </text>\n",
       "</g>\n",
       "<!-- 12&#45;&gt;3 -->\n",
       "<g id=\"edge14\" class=\"edge\">\n",
       "<title>12&#45;&gt;3</title>\n",
       "<path fill=\"none\" stroke=\"black\" d=\"M2910.3,-7.78C2928.84,-7.78 2979,-7.78 3000.64,-7.78\"/>\n",
       "<polygon fill=\"black\" stroke=\"black\" points=\"3000.86,-8.83 3003.86,-7.78 3000.86,-6.73 3000.86,-8.83\"/>\n",
       "<text text-anchor=\"middle\" x=\"2957.02\" y=\"-10.58\" font-family=\"Monospace\" font-size=\"9.00\">(&#39;&#39;, &#39;t&#39;)/1</text>\n",
       "</g>\n",
       "<!-- 13 -->\n",
       "<g id=\"node15\" class=\"node\">\n",
       "<title>13</title>\n",
       "<ellipse fill=\"none\" stroke=\"black\" cx=\"827.67\" cy=\"-7.78\" rx=\"7.56\" ry=\"7.56\"/>\n",
       "<text text-anchor=\"middle\" x=\"827.67\" y=\"-5.28\" font-family=\"Monospace\" font-size=\"10.00\"> </text>\n",
       "</g>\n",
       "<!-- 29 -->\n",
       "<g id=\"node31\" class=\"node\">\n",
       "<title>29</title>\n",
       "<ellipse fill=\"none\" stroke=\"black\" cx=\"932.23\" cy=\"-7.78\" rx=\"7.56\" ry=\"7.56\"/>\n",
       "<text text-anchor=\"middle\" x=\"932.23\" y=\"-5.28\" font-family=\"Monospace\" font-size=\"10.00\"> </text>\n",
       "</g>\n",
       "<!-- 13&#45;&gt;29 -->\n",
       "<g id=\"edge15\" class=\"edge\">\n",
       "<title>13&#45;&gt;29</title>\n",
       "<path fill=\"none\" stroke=\"black\" d=\"M835.72,-7.78C853.59,-7.78 900.71,-7.78 921.33,-7.78\"/>\n",
       "<polygon fill=\"black\" stroke=\"black\" points=\"921.4,-8.83 924.4,-7.78 921.4,-6.73 921.4,-8.83\"/>\n",
       "<text text-anchor=\"middle\" x=\"879.95\" y=\"-10.58\" font-family=\"Monospace\" font-size=\"9.00\">(&#39;&#39;, &#39;&#39;)/1</text>\n",
       "</g>\n",
       "<!-- 14 -->\n",
       "<g id=\"node16\" class=\"node\">\n",
       "<title>14</title>\n",
       "<ellipse fill=\"none\" stroke=\"black\" cx=\"1371.45\" cy=\"-7.78\" rx=\"7.56\" ry=\"7.56\"/>\n",
       "<text text-anchor=\"middle\" x=\"1371.45\" y=\"-5.28\" font-family=\"Monospace\" font-size=\"10.00\"> </text>\n",
       "</g>\n",
       "<!-- 28 -->\n",
       "<g id=\"node30\" class=\"node\">\n",
       "<title>28</title>\n",
       "<ellipse fill=\"none\" stroke=\"black\" cx=\"1476.01\" cy=\"-7.78\" rx=\"7.56\" ry=\"7.56\"/>\n",
       "<text text-anchor=\"middle\" x=\"1476.01\" y=\"-5.28\" font-family=\"Monospace\" font-size=\"10.00\"> </text>\n",
       "</g>\n",
       "<!-- 14&#45;&gt;28 -->\n",
       "<g id=\"edge16\" class=\"edge\">\n",
       "<title>14&#45;&gt;28</title>\n",
       "<path fill=\"none\" stroke=\"black\" d=\"M1379.5,-7.78C1397.37,-7.78 1444.49,-7.78 1465.11,-7.78\"/>\n",
       "<polygon fill=\"black\" stroke=\"black\" points=\"1465.18,-8.83 1468.18,-7.78 1465.18,-6.73 1465.18,-8.83\"/>\n",
       "<text text-anchor=\"middle\" x=\"1423.73\" y=\"-10.58\" font-family=\"Monospace\" font-size=\"9.00\">(&#39;&#39;, &#39;&#39;)/1</text>\n",
       "</g>\n",
       "<!-- 15 -->\n",
       "<g id=\"node17\" class=\"node\">\n",
       "<title>15</title>\n",
       "<ellipse fill=\"none\" stroke=\"black\" cx=\"499\" cy=\"-7.78\" rx=\"7.56\" ry=\"7.56\"/>\n",
       "<text text-anchor=\"middle\" x=\"499\" y=\"-5.28\" font-family=\"Monospace\" font-size=\"10.00\"> </text>\n",
       "</g>\n",
       "<!-- 15&#45;&gt;2 -->\n",
       "<g id=\"edge17\" class=\"edge\">\n",
       "<title>15&#45;&gt;2</title>\n",
       "<path fill=\"none\" stroke=\"black\" d=\"M507.06,-7.78C525.6,-7.78 575.76,-7.78 597.4,-7.78\"/>\n",
       "<polygon fill=\"black\" stroke=\"black\" points=\"597.62,-8.83 600.62,-7.78 597.62,-6.73 597.62,-8.83\"/>\n",
       "<text text-anchor=\"middle\" x=\"553.78\" y=\"-10.58\" font-family=\"Monospace\" font-size=\"9.00\">(&#39;&#39;, &#39;E&#39;)/1</text>\n",
       "</g>\n",
       "<!-- 16&#45;&gt;4 -->\n",
       "<g id=\"edge18\" class=\"edge\">\n",
       "<title>16&#45;&gt;4</title>\n",
       "<path fill=\"none\" stroke=\"black\" d=\"M178.39,-7.78C196.93,-7.78 247.09,-7.78 268.73,-7.78\"/>\n",
       "<polygon fill=\"black\" stroke=\"black\" points=\"268.95,-8.83 271.95,-7.78 268.95,-6.73 268.95,-8.83\"/>\n",
       "<text text-anchor=\"middle\" x=\"225.11\" y=\"-10.58\" font-family=\"Monospace\" font-size=\"9.00\">(&#39;&#39;, &#39;S&#39;)/1</text>\n",
       "</g>\n",
       "<!-- 17 -->\n",
       "<g id=\"node19\" class=\"node\">\n",
       "<title>17</title>\n",
       "<ellipse fill=\"none\" stroke=\"black\" cx=\"3225.91\" cy=\"-7.78\" rx=\"7.56\" ry=\"7.56\"/>\n",
       "<text text-anchor=\"middle\" x=\"3225.91\" y=\"-5.28\" font-family=\"Monospace\" font-size=\"10.00\"> </text>\n",
       "</g>\n",
       "<!-- stop_(((46506, 1635, 16034, 1366), 1), 1) -->\n",
       "<g id=\"node32\" class=\"node\">\n",
       "<title>stop_(((46506, 1635, 16034, 1366), 1), 1)</title>\n",
       "<ellipse fill=\"black\" stroke=\"black\" cx=\"3275.69\" cy=\"-7.78\" rx=\"0\" ry=\"0\"/>\n",
       "</g>\n",
       "<!-- 17&#45;&gt;stop_(((46506, 1635, 16034, 1366), 1), 1) -->\n",
       "<g id=\"edge2\" class=\"edge\">\n",
       "<title>17&#45;&gt;stop_(((46506, 1635, 16034, 1366), 1), 1)</title>\n",
       "<path fill=\"none\" stroke=\"black\" d=\"M3233.96,-7.78C3244.42,-7.78 3263.65,-7.78 3271.36,-7.78\"/>\n",
       "<polygon fill=\"black\" stroke=\"black\" points=\"3271.61,-8.83 3274.61,-7.78 3271.61,-6.73 3271.61,-8.83\"/>\n",
       "<text text-anchor=\"middle\" x=\"3254.69\" y=\"-10.58\" font-family=\"Monospace\" font-size=\"9.00\">1</text>\n",
       "</g>\n",
       "<!-- 18 -->\n",
       "<g id=\"node20\" class=\"node\">\n",
       "<title>18</title>\n",
       "<ellipse fill=\"none\" stroke=\"black\" cx=\"2029.79\" cy=\"-7.78\" rx=\"7.56\" ry=\"7.56\"/>\n",
       "<text text-anchor=\"middle\" x=\"2029.79\" y=\"-5.28\" font-family=\"Monospace\" font-size=\"10.00\"> </text>\n",
       "</g>\n",
       "<!-- 18&#45;&gt;6 -->\n",
       "<g id=\"edge19\" class=\"edge\">\n",
       "<title>18&#45;&gt;6</title>\n",
       "<path fill=\"none\" stroke=\"black\" d=\"M2037.85,-7.78C2056.39,-7.78 2106.55,-7.78 2128.19,-7.78\"/>\n",
       "<polygon fill=\"black\" stroke=\"black\" points=\"2128.41,-8.83 2131.41,-7.78 2128.41,-6.73 2128.41,-8.83\"/>\n",
       "<text text-anchor=\"middle\" x=\"2084.57\" y=\"-10.58\" font-family=\"Monospace\" font-size=\"9.00\">(&#39;&#39;, &#39;O&#39;)/1</text>\n",
       "</g>\n",
       "<!-- 19&#45;&gt;11 -->\n",
       "<g id=\"edge20\" class=\"edge\">\n",
       "<title>19&#45;&gt;11</title>\n",
       "<path fill=\"none\" stroke=\"black\" d=\"M2466.12,-7.78C2485.65,-7.78 2540.19,-7.78 2562.68,-7.78\"/>\n",
       "<polygon fill=\"black\" stroke=\"black\" points=\"2562.76,-8.83 2565.76,-7.78 2562.76,-6.73 2562.76,-8.83\"/>\n",
       "<text text-anchor=\"middle\" x=\"2515.8\" y=\"-10.58\" font-family=\"Monospace\" font-size=\"9.00\">(1366, &#39;&#39;)/1</text>\n",
       "</g>\n",
       "<!-- 20&#45;&gt;12 -->\n",
       "<g id=\"edge21\" class=\"edge\">\n",
       "<title>20&#45;&gt;12</title>\n",
       "<path fill=\"none\" stroke=\"black\" d=\"M2800.74,-7.78C2819.29,-7.78 2869.44,-7.78 2891.08,-7.78\"/>\n",
       "<polygon fill=\"black\" stroke=\"black\" points=\"2891.3,-8.83 2894.3,-7.78 2891.3,-6.73 2891.3,-8.83\"/>\n",
       "<text text-anchor=\"middle\" x=\"2847.47\" y=\"-10.58\" font-family=\"Monospace\" font-size=\"9.00\">(&#39;&#39;, &#39;a&#39;)/1</text>\n",
       "</g>\n",
       "<!-- 21&#45;&gt;17 -->\n",
       "<g id=\"edge22\" class=\"edge\">\n",
       "<title>21&#45;&gt;17</title>\n",
       "<path fill=\"none\" stroke=\"black\" d=\"M3129.41,-7.78C3147.28,-7.78 3194.39,-7.78 3215.01,-7.78\"/>\n",
       "<polygon fill=\"black\" stroke=\"black\" points=\"3215.08,-8.83 3218.08,-7.78 3215.08,-6.73 3215.08,-8.83\"/>\n",
       "<text text-anchor=\"middle\" x=\"3173.63\" y=\"-10.58\" font-family=\"Monospace\" font-size=\"9.00\">(&#39;&#39;, &#39;&#39;)/1</text>\n",
       "</g>\n",
       "<!-- 25 -->\n",
       "<g id=\"node27\" class=\"node\">\n",
       "<title>25</title>\n",
       "<ellipse fill=\"none\" stroke=\"black\" cx=\"1261.9\" cy=\"-7.78\" rx=\"7.56\" ry=\"7.56\"/>\n",
       "<text text-anchor=\"middle\" x=\"1261.9\" y=\"-5.28\" font-family=\"Monospace\" font-size=\"10.00\"> </text>\n",
       "</g>\n",
       "<!-- 22&#45;&gt;25 -->\n",
       "<g id=\"edge23\" class=\"edge\">\n",
       "<title>22&#45;&gt;25</title>\n",
       "<path fill=\"none\" stroke=\"black\" d=\"M1160.4,-7.78C1178.94,-7.78 1229.1,-7.78 1250.74,-7.78\"/>\n",
       "<polygon fill=\"black\" stroke=\"black\" points=\"1250.95,-8.83 1253.95,-7.78 1250.95,-6.73 1250.95,-8.83\"/>\n",
       "<text text-anchor=\"middle\" x=\"1207.12\" y=\"-10.58\" font-family=\"Monospace\" font-size=\"9.00\">(&#39;&#39;, &#39; &#39;)/1</text>\n",
       "</g>\n",
       "<!-- 23&#45;&gt;15 -->\n",
       "<g id=\"edge24\" class=\"edge\">\n",
       "<title>23&#45;&gt;15</title>\n",
       "<path fill=\"none\" stroke=\"black\" d=\"M397.5,-7.78C416.05,-7.78 466.2,-7.78 487.84,-7.78\"/>\n",
       "<polygon fill=\"black\" stroke=\"black\" points=\"488.06,-8.83 491.06,-7.78 488.06,-6.73 488.06,-8.83\"/>\n",
       "<text text-anchor=\"middle\" x=\"444.23\" y=\"-10.58\" font-family=\"Monospace\" font-size=\"9.00\">(&#39;&#39;, &#39;L&#39;)/1</text>\n",
       "</g>\n",
       "<!-- 24&#45;&gt;13 -->\n",
       "<g id=\"edge26\" class=\"edge\">\n",
       "<title>24&#45;&gt;13</title>\n",
       "<path fill=\"none\" stroke=\"black\" d=\"M726.17,-7.78C744.72,-7.78 794.87,-7.78 816.51,-7.78\"/>\n",
       "<polygon fill=\"black\" stroke=\"black\" points=\"816.73,-8.83 819.73,-7.78 816.73,-6.73 816.73,-8.83\"/>\n",
       "<text text-anchor=\"middle\" x=\"772.89\" y=\"-10.58\" font-family=\"Monospace\" font-size=\"9.00\">(&#39;&#39;, &#39;T&#39;)/1</text>\n",
       "</g>\n",
       "<!-- 25&#45;&gt;14 -->\n",
       "<g id=\"edge27\" class=\"edge\">\n",
       "<title>25&#45;&gt;14</title>\n",
       "<path fill=\"none\" stroke=\"black\" d=\"M1269.96,-7.78C1288.5,-7.78 1338.66,-7.78 1360.29,-7.78\"/>\n",
       "<polygon fill=\"black\" stroke=\"black\" points=\"1360.51,-8.83 1363.51,-7.78 1360.51,-6.73 1360.51,-8.83\"/>\n",
       "<text text-anchor=\"middle\" x=\"1316.68\" y=\"-10.58\" font-family=\"Monospace\" font-size=\"9.00\">(&#39;&#39;, &#39;*&#39;)/1</text>\n",
       "</g>\n",
       "<!-- 26&#45;&gt;18 -->\n",
       "<g id=\"edge28\" class=\"edge\">\n",
       "<title>26&#45;&gt;18</title>\n",
       "<path fill=\"none\" stroke=\"black\" d=\"M1928.29,-7.78C1946.84,-7.78 1996.99,-7.78 2018.63,-7.78\"/>\n",
       "<polygon fill=\"black\" stroke=\"black\" points=\"2018.85,-8.83 2021.85,-7.78 2018.85,-6.73 2018.85,-8.83\"/>\n",
       "<text text-anchor=\"middle\" x=\"1975.01\" y=\"-10.58\" font-family=\"Monospace\" font-size=\"9.00\">(&#39;&#39;, &#39;R&#39;)/1</text>\n",
       "</g>\n",
       "<!-- 27&#45;&gt;10 -->\n",
       "<g id=\"edge29\" class=\"edge\">\n",
       "<title>27&#45;&gt;10</title>\n",
       "<path fill=\"none\" stroke=\"black\" d=\"M2256.95,-7.78C2274.82,-7.78 2321.94,-7.78 2342.56,-7.78\"/>\n",
       "<polygon fill=\"black\" stroke=\"black\" points=\"2342.63,-8.83 2345.63,-7.78 2342.63,-6.73 2342.63,-8.83\"/>\n",
       "<text text-anchor=\"middle\" x=\"2301.18\" y=\"-10.58\" font-family=\"Monospace\" font-size=\"9.00\">(&#39;&#39;, &#39;&#39;)/1</text>\n",
       "</g>\n",
       "<!-- 28&#45;&gt;7 -->\n",
       "<g id=\"edge30\" class=\"edge\">\n",
       "<title>28&#45;&gt;7</title>\n",
       "<path fill=\"none\" stroke=\"black\" d=\"M1484.06,-7.78C1501.93,-7.78 1549.04,-7.78 1569.67,-7.78\"/>\n",
       "<polygon fill=\"black\" stroke=\"black\" points=\"1569.74,-8.83 1572.74,-7.78 1569.74,-6.73 1569.74,-8.83\"/>\n",
       "<text text-anchor=\"middle\" x=\"1528.29\" y=\"-10.58\" font-family=\"Monospace\" font-size=\"9.00\">(&#39;&#39;, &#39;&#39;)/1</text>\n",
       "</g>\n",
       "<!-- 29&#45;&gt;9 -->\n",
       "<g id=\"edge31\" class=\"edge\">\n",
       "<title>29&#45;&gt;9</title>\n",
       "<path fill=\"none\" stroke=\"black\" d=\"M940.28,-7.78C958.15,-7.78 1005.26,-7.78 1025.88,-7.78\"/>\n",
       "<polygon fill=\"black\" stroke=\"black\" points=\"1025.96,-8.83 1028.96,-7.78 1025.96,-6.73 1025.96,-8.83\"/>\n",
       "<text text-anchor=\"middle\" x=\"984.51\" y=\"-10.58\" font-family=\"Monospace\" font-size=\"9.00\">(&#39;&#39;, &#39;&#39;)/1</text>\n",
       "</g>\n",
       "</g>\n",
       "</svg>\n"
      ],
      "text/plain": [
       "WFSA(30 states)"
      ]
     },
     "execution_count": 86,
     "metadata": {},
     "output_type": "execute_result"
    }
   ],
   "source": [
    "c.trim"
   ]
  },
  {
   "cell_type": "markdown",
   "id": "5e537195-c06c-4642-8a15-557de5a90f98",
   "metadata": {},
   "source": [
    "We can build this \"transducer\" more efficiently"
   ]
  },
  {
   "cell_type": "code",
   "execution_count": 87,
   "id": "3cd29a5c-4b4a-4d65-b3e5-f4375b607fdb",
   "metadata": {},
   "outputs": [
    {
     "data": {
      "image/svg+xml": [
       "<?xml version=\"1.0\" encoding=\"UTF-8\" standalone=\"no\"?>\n",
       "<!DOCTYPE svg PUBLIC \"-//W3C//DTD SVG 1.1//EN\"\n",
       " \"http://www.w3.org/Graphics/SVG/1.1/DTD/svg11.dtd\">\n",
       "<!-- Generated by graphviz version 2.43.0 (0)\n",
       " -->\n",
       "<!-- Title: %3 Pages: 1 -->\n",
       "<svg width=\"2134pt\" height=\"26pt\"\n",
       " viewBox=\"0.00 0.00 2133.57 25.78\" xmlns=\"http://www.w3.org/2000/svg\" xmlns:xlink=\"http://www.w3.org/1999/xlink\">\n",
       "<g id=\"graph0\" class=\"graph\" transform=\"scale(1 1) rotate(0) translate(4 21.78)\">\n",
       "<title>%3</title>\n",
       "<polygon fill=\"white\" stroke=\"transparent\" points=\"-4,4 -4,-21.78 2129.57,-21.78 2129.57,4 -4,4\"/>\n",
       "<!-- start_5 -->\n",
       "<g id=\"node1\" class=\"node\">\n",
       "<title>start_5</title>\n",
       "<ellipse fill=\"black\" stroke=\"black\" cx=\"0\" cy=\"-7.78\" rx=\"0\" ry=\"0\"/>\n",
       "</g>\n",
       "<!-- 0 -->\n",
       "<g id=\"node2\" class=\"node\">\n",
       "<title>0</title>\n",
       "<ellipse fill=\"none\" stroke=\"black\" cx=\"49.78\" cy=\"-7.78\" rx=\"7.56\" ry=\"7.56\"/>\n",
       "<text text-anchor=\"middle\" x=\"49.78\" y=\"-5.28\" font-family=\"Monospace\" font-size=\"10.00\"> </text>\n",
       "</g>\n",
       "<!-- start_5&#45;&gt;0 -->\n",
       "<g id=\"edge1\" class=\"edge\">\n",
       "<title>start_5&#45;&gt;0</title>\n",
       "<path fill=\"none\" stroke=\"black\" d=\"M1.14,-7.78C3.07,-7.78 25.11,-7.78 38.52,-7.78\"/>\n",
       "<polygon fill=\"black\" stroke=\"black\" points=\"38.73,-8.83 41.73,-7.78 38.73,-6.73 38.73,-8.83\"/>\n",
       "<text text-anchor=\"middle\" x=\"21\" y=\"-10.58\" font-family=\"Monospace\" font-size=\"9.00\">1</text>\n",
       "</g>\n",
       "<!-- 1 -->\n",
       "<g id=\"node3\" class=\"node\">\n",
       "<title>1</title>\n",
       "<ellipse fill=\"none\" stroke=\"black\" cx=\"175.33\" cy=\"-7.78\" rx=\"7.56\" ry=\"7.56\"/>\n",
       "<text text-anchor=\"middle\" x=\"175.33\" y=\"-5.28\" font-family=\"Monospace\" font-size=\"10.00\"> </text>\n",
       "</g>\n",
       "<!-- 0&#45;&gt;1 -->\n",
       "<g id=\"edge3\" class=\"edge\">\n",
       "<title>0&#45;&gt;1</title>\n",
       "<path fill=\"none\" stroke=\"black\" d=\"M57.78,-7.78C78.59,-7.78 140.16,-7.78 164.38,-7.78\"/>\n",
       "<polygon fill=\"black\" stroke=\"black\" points=\"164.41,-8.83 167.41,-7.78 164.41,-6.73 164.41,-8.83\"/>\n",
       "<text text-anchor=\"middle\" x=\"112.56\" y=\"-10.58\" font-family=\"Monospace\" font-size=\"9.00\">(46506, &#39;S&#39;)/1</text>\n",
       "</g>\n",
       "<!-- 2 -->\n",
       "<g id=\"node4\" class=\"node\">\n",
       "<title>2</title>\n",
       "<ellipse fill=\"none\" stroke=\"black\" cx=\"284.89\" cy=\"-7.78\" rx=\"7.56\" ry=\"7.56\"/>\n",
       "<text text-anchor=\"middle\" x=\"284.89\" y=\"-5.28\" font-family=\"Monospace\" font-size=\"10.00\"> </text>\n",
       "</g>\n",
       "<!-- 1&#45;&gt;2 -->\n",
       "<g id=\"edge4\" class=\"edge\">\n",
       "<title>1&#45;&gt;2</title>\n",
       "<path fill=\"none\" stroke=\"black\" d=\"M183.39,-7.78C201.93,-7.78 252.09,-7.78 273.73,-7.78\"/>\n",
       "<polygon fill=\"black\" stroke=\"black\" points=\"273.95,-8.83 276.95,-7.78 273.95,-6.73 273.95,-8.83\"/>\n",
       "<text text-anchor=\"middle\" x=\"230.11\" y=\"-10.58\" font-family=\"Monospace\" font-size=\"9.00\">(&#39;&#39;, &#39;E&#39;)/1</text>\n",
       "</g>\n",
       "<!-- 3 -->\n",
       "<g id=\"node5\" class=\"node\">\n",
       "<title>3</title>\n",
       "<ellipse fill=\"none\" stroke=\"black\" cx=\"394.45\" cy=\"-7.78\" rx=\"7.56\" ry=\"7.56\"/>\n",
       "<text text-anchor=\"middle\" x=\"394.45\" y=\"-5.28\" font-family=\"Monospace\" font-size=\"10.00\"> </text>\n",
       "</g>\n",
       "<!-- 2&#45;&gt;3 -->\n",
       "<g id=\"edge5\" class=\"edge\">\n",
       "<title>2&#45;&gt;3</title>\n",
       "<path fill=\"none\" stroke=\"black\" d=\"M292.95,-7.78C311.49,-7.78 361.65,-7.78 383.29,-7.78\"/>\n",
       "<polygon fill=\"black\" stroke=\"black\" points=\"383.5,-8.83 386.5,-7.78 383.5,-6.73 383.5,-8.83\"/>\n",
       "<text text-anchor=\"middle\" x=\"339.67\" y=\"-10.58\" font-family=\"Monospace\" font-size=\"9.00\">(&#39;&#39;, &#39;L&#39;)/1</text>\n",
       "</g>\n",
       "<!-- 4 -->\n",
       "<g id=\"node6\" class=\"node\">\n",
       "<title>4</title>\n",
       "<ellipse fill=\"none\" stroke=\"black\" cx=\"504\" cy=\"-7.78\" rx=\"7.56\" ry=\"7.56\"/>\n",
       "<text text-anchor=\"middle\" x=\"504\" y=\"-5.28\" font-family=\"Monospace\" font-size=\"10.00\"> </text>\n",
       "</g>\n",
       "<!-- 3&#45;&gt;4 -->\n",
       "<g id=\"edge6\" class=\"edge\">\n",
       "<title>3&#45;&gt;4</title>\n",
       "<path fill=\"none\" stroke=\"black\" d=\"M402.5,-7.78C421.05,-7.78 471.2,-7.78 492.84,-7.78\"/>\n",
       "<polygon fill=\"black\" stroke=\"black\" points=\"493.06,-8.83 496.06,-7.78 493.06,-6.73 493.06,-8.83\"/>\n",
       "<text text-anchor=\"middle\" x=\"449.23\" y=\"-10.58\" font-family=\"Monospace\" font-size=\"9.00\">(&#39;&#39;, &#39;E&#39;)/1</text>\n",
       "</g>\n",
       "<!-- 5 -->\n",
       "<g id=\"node7\" class=\"node\">\n",
       "<title>5</title>\n",
       "<ellipse fill=\"none\" stroke=\"black\" cx=\"613.56\" cy=\"-7.78\" rx=\"7.56\" ry=\"7.56\"/>\n",
       "<text text-anchor=\"middle\" x=\"613.56\" y=\"-5.28\" font-family=\"Monospace\" font-size=\"10.00\"> </text>\n",
       "</g>\n",
       "<!-- 4&#45;&gt;5 -->\n",
       "<g id=\"edge7\" class=\"edge\">\n",
       "<title>4&#45;&gt;5</title>\n",
       "<path fill=\"none\" stroke=\"black\" d=\"M512.06,-7.78C530.6,-7.78 580.76,-7.78 602.4,-7.78\"/>\n",
       "<polygon fill=\"black\" stroke=\"black\" points=\"602.62,-8.83 605.62,-7.78 602.62,-6.73 602.62,-8.83\"/>\n",
       "<text text-anchor=\"middle\" x=\"558.78\" y=\"-10.58\" font-family=\"Monospace\" font-size=\"9.00\">(&#39;&#39;, &#39;C&#39;)/1</text>\n",
       "</g>\n",
       "<!-- 6 -->\n",
       "<g id=\"node8\" class=\"node\">\n",
       "<title>6</title>\n",
       "<ellipse fill=\"none\" stroke=\"black\" cx=\"723.12\" cy=\"-7.78\" rx=\"7.56\" ry=\"7.56\"/>\n",
       "<text text-anchor=\"middle\" x=\"723.12\" y=\"-5.28\" font-family=\"Monospace\" font-size=\"10.00\"> </text>\n",
       "</g>\n",
       "<!-- 5&#45;&gt;6 -->\n",
       "<g id=\"edge8\" class=\"edge\">\n",
       "<title>5&#45;&gt;6</title>\n",
       "<path fill=\"none\" stroke=\"black\" d=\"M621.62,-7.78C640.16,-7.78 690.32,-7.78 711.95,-7.78\"/>\n",
       "<polygon fill=\"black\" stroke=\"black\" points=\"712.17,-8.83 715.17,-7.78 712.17,-6.73 712.17,-8.83\"/>\n",
       "<text text-anchor=\"middle\" x=\"668.34\" y=\"-10.58\" font-family=\"Monospace\" font-size=\"9.00\">(&#39;&#39;, &#39;T&#39;)/1</text>\n",
       "</g>\n",
       "<!-- 7 -->\n",
       "<g id=\"node9\" class=\"node\">\n",
       "<title>7</title>\n",
       "<ellipse fill=\"none\" stroke=\"black\" cx=\"843.67\" cy=\"-7.78\" rx=\"7.56\" ry=\"7.56\"/>\n",
       "<text text-anchor=\"middle\" x=\"843.67\" y=\"-5.28\" font-family=\"Monospace\" font-size=\"10.00\"> </text>\n",
       "</g>\n",
       "<!-- 6&#45;&gt;7 -->\n",
       "<g id=\"edge9\" class=\"edge\">\n",
       "<title>6&#45;&gt;7</title>\n",
       "<path fill=\"none\" stroke=\"black\" d=\"M731.18,-7.78C751.32,-7.78 809.13,-7.78 832.59,-7.78\"/>\n",
       "<polygon fill=\"black\" stroke=\"black\" points=\"832.8,-8.83 835.8,-7.78 832.8,-6.73 832.8,-8.83\"/>\n",
       "<text text-anchor=\"middle\" x=\"783.39\" y=\"-10.58\" font-family=\"Monospace\" font-size=\"9.00\">(1635, &#39; &#39;)/1</text>\n",
       "</g>\n",
       "<!-- 8 -->\n",
       "<g id=\"node10\" class=\"node\">\n",
       "<title>8</title>\n",
       "<ellipse fill=\"none\" stroke=\"black\" cx=\"953.23\" cy=\"-7.78\" rx=\"7.56\" ry=\"7.56\"/>\n",
       "<text text-anchor=\"middle\" x=\"953.23\" y=\"-5.28\" font-family=\"Monospace\" font-size=\"10.00\"> </text>\n",
       "</g>\n",
       "<!-- 7&#45;&gt;8 -->\n",
       "<g id=\"edge10\" class=\"edge\">\n",
       "<title>7&#45;&gt;8</title>\n",
       "<path fill=\"none\" stroke=\"black\" d=\"M851.73,-7.78C870.27,-7.78 920.43,-7.78 942.07,-7.78\"/>\n",
       "<polygon fill=\"black\" stroke=\"black\" points=\"942.29,-8.83 945.29,-7.78 942.29,-6.73 942.29,-8.83\"/>\n",
       "<text text-anchor=\"middle\" x=\"898.45\" y=\"-10.58\" font-family=\"Monospace\" font-size=\"9.00\">(&#39;&#39;, &#39;*&#39;)/1</text>\n",
       "</g>\n",
       "<!-- 9 -->\n",
       "<g id=\"node11\" class=\"node\">\n",
       "<title>9</title>\n",
       "<ellipse fill=\"none\" stroke=\"black\" cx=\"1078.79\" cy=\"-7.78\" rx=\"7.56\" ry=\"7.56\"/>\n",
       "<text text-anchor=\"middle\" x=\"1078.79\" y=\"-5.28\" font-family=\"Monospace\" font-size=\"10.00\"> </text>\n",
       "</g>\n",
       "<!-- 8&#45;&gt;9 -->\n",
       "<g id=\"edge11\" class=\"edge\">\n",
       "<title>8&#45;&gt;9</title>\n",
       "<path fill=\"none\" stroke=\"black\" d=\"M961.23,-7.78C982.04,-7.78 1043.61,-7.78 1067.84,-7.78\"/>\n",
       "<polygon fill=\"black\" stroke=\"black\" points=\"1067.87,-8.83 1070.87,-7.78 1067.87,-6.73 1067.87,-8.83\"/>\n",
       "<text text-anchor=\"middle\" x=\"1016.01\" y=\"-10.58\" font-family=\"Monospace\" font-size=\"9.00\">(16034, &#39; &#39;)/1</text>\n",
       "</g>\n",
       "<!-- 10 -->\n",
       "<g id=\"node12\" class=\"node\">\n",
       "<title>10</title>\n",
       "<ellipse fill=\"none\" stroke=\"black\" cx=\"1188.34\" cy=\"-7.78\" rx=\"7.56\" ry=\"7.56\"/>\n",
       "<text text-anchor=\"middle\" x=\"1188.34\" y=\"-5.28\" font-family=\"Monospace\" font-size=\"10.00\"> </text>\n",
       "</g>\n",
       "<!-- 9&#45;&gt;10 -->\n",
       "<g id=\"edge12\" class=\"edge\">\n",
       "<title>9&#45;&gt;10</title>\n",
       "<path fill=\"none\" stroke=\"black\" d=\"M1086.84,-7.78C1105.39,-7.78 1155.54,-7.78 1177.18,-7.78\"/>\n",
       "<polygon fill=\"black\" stroke=\"black\" points=\"1177.4,-8.83 1180.4,-7.78 1177.4,-6.73 1177.4,-8.83\"/>\n",
       "<text text-anchor=\"middle\" x=\"1133.56\" y=\"-10.58\" font-family=\"Monospace\" font-size=\"9.00\">(&#39;&#39;, &#39;F&#39;)/1</text>\n",
       "</g>\n",
       "<!-- 11 -->\n",
       "<g id=\"node13\" class=\"node\">\n",
       "<title>11</title>\n",
       "<ellipse fill=\"none\" stroke=\"black\" cx=\"1297.9\" cy=\"-7.78\" rx=\"7.56\" ry=\"7.56\"/>\n",
       "<text text-anchor=\"middle\" x=\"1297.9\" y=\"-5.28\" font-family=\"Monospace\" font-size=\"10.00\"> </text>\n",
       "</g>\n",
       "<!-- 10&#45;&gt;11 -->\n",
       "<g id=\"edge13\" class=\"edge\">\n",
       "<title>10&#45;&gt;11</title>\n",
       "<path fill=\"none\" stroke=\"black\" d=\"M1196.4,-7.78C1214.94,-7.78 1265.1,-7.78 1286.74,-7.78\"/>\n",
       "<polygon fill=\"black\" stroke=\"black\" points=\"1286.95,-8.83 1289.95,-7.78 1286.95,-6.73 1286.95,-8.83\"/>\n",
       "<text text-anchor=\"middle\" x=\"1243.12\" y=\"-10.58\" font-family=\"Monospace\" font-size=\"9.00\">(&#39;&#39;, &#39;R&#39;)/1</text>\n",
       "</g>\n",
       "<!-- 12 -->\n",
       "<g id=\"node14\" class=\"node\">\n",
       "<title>12</title>\n",
       "<ellipse fill=\"none\" stroke=\"black\" cx=\"1407.45\" cy=\"-7.78\" rx=\"7.56\" ry=\"7.56\"/>\n",
       "<text text-anchor=\"middle\" x=\"1407.45\" y=\"-5.28\" font-family=\"Monospace\" font-size=\"10.00\"> </text>\n",
       "</g>\n",
       "<!-- 11&#45;&gt;12 -->\n",
       "<g id=\"edge14\" class=\"edge\">\n",
       "<title>11&#45;&gt;12</title>\n",
       "<path fill=\"none\" stroke=\"black\" d=\"M1305.96,-7.78C1324.5,-7.78 1374.66,-7.78 1396.29,-7.78\"/>\n",
       "<polygon fill=\"black\" stroke=\"black\" points=\"1396.51,-8.83 1399.51,-7.78 1396.51,-6.73 1396.51,-8.83\"/>\n",
       "<text text-anchor=\"middle\" x=\"1352.68\" y=\"-10.58\" font-family=\"Monospace\" font-size=\"9.00\">(&#39;&#39;, &#39;O&#39;)/1</text>\n",
       "</g>\n",
       "<!-- 14 -->\n",
       "<g id=\"node16\" class=\"node\">\n",
       "<title>14</title>\n",
       "<ellipse fill=\"none\" stroke=\"black\" cx=\"1517.01\" cy=\"-7.78\" rx=\"7.56\" ry=\"7.56\"/>\n",
       "<text text-anchor=\"middle\" x=\"1517.01\" y=\"-5.28\" font-family=\"Monospace\" font-size=\"10.00\"> </text>\n",
       "</g>\n",
       "<!-- 12&#45;&gt;14 -->\n",
       "<g id=\"edge15\" class=\"edge\">\n",
       "<title>12&#45;&gt;14</title>\n",
       "<path fill=\"none\" stroke=\"black\" d=\"M1415.51,-7.78C1434.05,-7.78 1484.21,-7.78 1505.85,-7.78\"/>\n",
       "<polygon fill=\"black\" stroke=\"black\" points=\"1506.07,-8.83 1509.07,-7.78 1506.07,-6.73 1506.07,-8.83\"/>\n",
       "<text text-anchor=\"middle\" x=\"1462.23\" y=\"-10.58\" font-family=\"Monospace\" font-size=\"9.00\">(&#39;&#39;, &#39;M&#39;)/1</text>\n",
       "</g>\n",
       "<!-- 13 -->\n",
       "<g id=\"node15\" class=\"node\">\n",
       "<title>13</title>\n",
       "<ellipse fill=\"none\" stroke=\"black\" cx=\"2075.79\" cy=\"-7.78\" rx=\"7.56\" ry=\"7.56\"/>\n",
       "<text text-anchor=\"middle\" x=\"2075.79\" y=\"-5.28\" font-family=\"Monospace\" font-size=\"10.00\"> </text>\n",
       "</g>\n",
       "<!-- stop_26 -->\n",
       "<g id=\"node21\" class=\"node\">\n",
       "<title>stop_26</title>\n",
       "<ellipse fill=\"black\" stroke=\"black\" cx=\"2125.57\" cy=\"-7.78\" rx=\"0\" ry=\"0\"/>\n",
       "</g>\n",
       "<!-- 13&#45;&gt;stop_26 -->\n",
       "<g id=\"edge2\" class=\"edge\">\n",
       "<title>13&#45;&gt;stop_26</title>\n",
       "<path fill=\"none\" stroke=\"black\" d=\"M2083.84,-7.78C2094.3,-7.78 2113.53,-7.78 2121.24,-7.78\"/>\n",
       "<polygon fill=\"black\" stroke=\"black\" points=\"2121.49,-8.83 2124.49,-7.78 2121.49,-6.73 2121.49,-8.83\"/>\n",
       "<text text-anchor=\"middle\" x=\"2104.57\" y=\"-10.58\" font-family=\"Monospace\" font-size=\"9.00\">1</text>\n",
       "</g>\n",
       "<!-- 15 -->\n",
       "<g id=\"node17\" class=\"node\">\n",
       "<title>15</title>\n",
       "<ellipse fill=\"none\" stroke=\"black\" cx=\"1637.57\" cy=\"-7.78\" rx=\"7.56\" ry=\"7.56\"/>\n",
       "<text text-anchor=\"middle\" x=\"1637.57\" y=\"-5.28\" font-family=\"Monospace\" font-size=\"10.00\"> </text>\n",
       "</g>\n",
       "<!-- 14&#45;&gt;15 -->\n",
       "<g id=\"edge16\" class=\"edge\">\n",
       "<title>14&#45;&gt;15</title>\n",
       "<path fill=\"none\" stroke=\"black\" d=\"M1525.07,-7.78C1545.22,-7.78 1603.02,-7.78 1626.49,-7.78\"/>\n",
       "<polygon fill=\"black\" stroke=\"black\" points=\"1626.69,-8.83 1629.69,-7.78 1626.69,-6.73 1626.69,-8.83\"/>\n",
       "<text text-anchor=\"middle\" x=\"1577.29\" y=\"-10.58\" font-family=\"Monospace\" font-size=\"9.00\">(1366, &#39; &#39;)/1</text>\n",
       "</g>\n",
       "<!-- 16 -->\n",
       "<g id=\"node18\" class=\"node\">\n",
       "<title>16</title>\n",
       "<ellipse fill=\"none\" stroke=\"black\" cx=\"1747.12\" cy=\"-7.78\" rx=\"7.56\" ry=\"7.56\"/>\n",
       "<text text-anchor=\"middle\" x=\"1747.12\" y=\"-5.28\" font-family=\"Monospace\" font-size=\"10.00\"> </text>\n",
       "</g>\n",
       "<!-- 15&#45;&gt;16 -->\n",
       "<g id=\"edge17\" class=\"edge\">\n",
       "<title>15&#45;&gt;16</title>\n",
       "<path fill=\"none\" stroke=\"black\" d=\"M1645.62,-7.78C1664.17,-7.78 1714.32,-7.78 1735.96,-7.78\"/>\n",
       "<polygon fill=\"black\" stroke=\"black\" points=\"1736.18,-8.83 1739.18,-7.78 1736.18,-6.73 1736.18,-8.83\"/>\n",
       "<text text-anchor=\"middle\" x=\"1692.35\" y=\"-10.58\" font-family=\"Monospace\" font-size=\"9.00\">(&#39;&#39;, &#39;d&#39;)/1</text>\n",
       "</g>\n",
       "<!-- 17 -->\n",
       "<g id=\"node19\" class=\"node\">\n",
       "<title>17</title>\n",
       "<ellipse fill=\"none\" stroke=\"black\" cx=\"1856.68\" cy=\"-7.78\" rx=\"7.56\" ry=\"7.56\"/>\n",
       "<text text-anchor=\"middle\" x=\"1856.68\" y=\"-5.28\" font-family=\"Monospace\" font-size=\"10.00\"> </text>\n",
       "</g>\n",
       "<!-- 16&#45;&gt;17 -->\n",
       "<g id=\"edge18\" class=\"edge\">\n",
       "<title>16&#45;&gt;17</title>\n",
       "<path fill=\"none\" stroke=\"black\" d=\"M1755.18,-7.78C1773.72,-7.78 1823.88,-7.78 1845.52,-7.78\"/>\n",
       "<polygon fill=\"black\" stroke=\"black\" points=\"1845.74,-8.83 1848.74,-7.78 1845.74,-6.73 1845.74,-8.83\"/>\n",
       "<text text-anchor=\"middle\" x=\"1801.9\" y=\"-10.58\" font-family=\"Monospace\" font-size=\"9.00\">(&#39;&#39;, &#39;a&#39;)/1</text>\n",
       "</g>\n",
       "<!-- 18 -->\n",
       "<g id=\"node20\" class=\"node\">\n",
       "<title>18</title>\n",
       "<ellipse fill=\"none\" stroke=\"black\" cx=\"1966.24\" cy=\"-7.78\" rx=\"7.56\" ry=\"7.56\"/>\n",
       "<text text-anchor=\"middle\" x=\"1966.24\" y=\"-5.28\" font-family=\"Monospace\" font-size=\"10.00\"> </text>\n",
       "</g>\n",
       "<!-- 17&#45;&gt;18 -->\n",
       "<g id=\"edge19\" class=\"edge\">\n",
       "<title>17&#45;&gt;18</title>\n",
       "<path fill=\"none\" stroke=\"black\" d=\"M1864.74,-7.78C1883.28,-7.78 1933.44,-7.78 1955.07,-7.78\"/>\n",
       "<polygon fill=\"black\" stroke=\"black\" points=\"1955.29,-8.83 1958.29,-7.78 1955.29,-6.73 1955.29,-8.83\"/>\n",
       "<text text-anchor=\"middle\" x=\"1911.46\" y=\"-10.58\" font-family=\"Monospace\" font-size=\"9.00\">(&#39;&#39;, &#39;t&#39;)/1</text>\n",
       "</g>\n",
       "<!-- 18&#45;&gt;13 -->\n",
       "<g id=\"edge20\" class=\"edge\">\n",
       "<title>18&#45;&gt;13</title>\n",
       "<path fill=\"none\" stroke=\"black\" d=\"M1974.29,-7.78C1992.84,-7.78 2042.99,-7.78 2064.63,-7.78\"/>\n",
       "<polygon fill=\"black\" stroke=\"black\" points=\"2064.85,-8.83 2067.85,-7.78 2064.85,-6.73 2064.85,-8.83\"/>\n",
       "<text text-anchor=\"middle\" x=\"2021.01\" y=\"-10.58\" font-family=\"Monospace\" font-size=\"9.00\">(&#39;&#39;, &#39;a&#39;)/1</text>\n",
       "</g>\n",
       "</g>\n",
       "</svg>\n"
      ],
      "text/plain": [
       "WFSA(19 states)"
      ]
     },
     "execution_count": 87,
     "metadata": {},
     "output_type": "execute_result"
    }
   ],
   "source": [
    "t = bpe2term_approx(tokenizer, tokenizer.encode(x)).epsremove.trim\n",
    "t"
   ]
  },
  {
   "cell_type": "code",
   "execution_count": null,
   "id": "42741260-329d-4a9f-aeee-b2655c260144",
   "metadata": {},
   "outputs": [],
   "source": []
  },
  {
   "cell_type": "markdown",
   "id": "d2df7b26-8065-4ae0-a83d-19d7b5cc436f",
   "metadata": {
    "jp-MarkdownHeadingCollapsed": true
   },
   "source": [
    "## BPE Ambiguity"
   ]
  },
  {
   "cell_type": "code",
   "execution_count": 88,
   "id": "ac49282e-6174-4ab2-9c52-7be7663ecdae",
   "metadata": {},
   "outputs": [
    {
     "name": "stderr",
     "output_type": "stream",
     "text": [
      "composition (11.1021 sec)\n"
     ]
    },
    {
     "name": "stdout",
     "output_type": "stream",
     "text": [
      "states: 1062324, trim: 172\n"
     ]
    },
    {
     "name": "stderr",
     "output_type": "stream",
     "text": [
      "trim (7.9925 sec)\n"
     ]
    }
   ],
   "source": [
    "with timeit('composition'):\n",
    "    bs = b2c @ FST.from_string(x, Float)\n",
    "with timeit('trim'):\n",
    "    bs.trim\n",
    "about(bs)"
   ]
  },
  {
   "cell_type": "code",
   "execution_count": 89,
   "id": "ccf89bc2-a985-44bc-b099-676221f34b05",
   "metadata": {},
   "outputs": [],
   "source": [
    "#bs.trim"
   ]
  },
  {
   "cell_type": "markdown",
   "id": "1f9e46e7-f348-4790-9f2e-ab3812c61f41",
   "metadata": {},
   "source": [
    "The automaton below describes all the BPE sequences that generate the string `x`:"
   ]
  },
  {
   "cell_type": "code",
   "execution_count": 90,
   "id": "072cb3c3-6828-4a2d-88d5-d5d5fee491d1",
   "metadata": {},
   "outputs": [
    {
     "data": {
      "image/svg+xml": [
       "<?xml version=\"1.0\" encoding=\"UTF-8\" standalone=\"no\"?>\n",
       "<!DOCTYPE svg PUBLIC \"-//W3C//DTD SVG 1.1//EN\"\n",
       " \"http://www.w3.org/Graphics/SVG/1.1/DTD/svg11.dtd\">\n",
       "<!-- Generated by graphviz version 2.43.0 (0)\n",
       " -->\n",
       "<!-- Title: %3 Pages: 1 -->\n",
       "<svg width=\"1771pt\" height=\"298pt\"\n",
       " viewBox=\"0.00 0.00 1770.78 298.00\" xmlns=\"http://www.w3.org/2000/svg\" xmlns:xlink=\"http://www.w3.org/1999/xlink\">\n",
       "<g id=\"graph0\" class=\"graph\" transform=\"scale(1 1) rotate(0) translate(4 294)\">\n",
       "<title>%3</title>\n",
       "<polygon fill=\"white\" stroke=\"transparent\" points=\"-4,4 -4,-294 1766.78,-294 1766.78,4 -4,4\"/>\n",
       "<!-- start_(0, (0, &#39;&#39;)) -->\n",
       "<g id=\"node1\" class=\"node\">\n",
       "<title>start_(0, (0, &#39;&#39;))</title>\n",
       "<ellipse fill=\"black\" stroke=\"black\" cx=\"0\" cy=\"-145\" rx=\"0\" ry=\"0\"/>\n",
       "</g>\n",
       "<!-- 0 -->\n",
       "<g id=\"node2\" class=\"node\">\n",
       "<title>0</title>\n",
       "<ellipse fill=\"none\" stroke=\"black\" cx=\"49.78\" cy=\"-145\" rx=\"7.56\" ry=\"7.56\"/>\n",
       "<text text-anchor=\"middle\" x=\"49.78\" y=\"-142.5\" font-family=\"Monospace\" font-size=\"10.00\"> </text>\n",
       "</g>\n",
       "<!-- start_(0, (0, &#39;&#39;))&#45;&gt;0 -->\n",
       "<g id=\"edge1\" class=\"edge\">\n",
       "<title>start_(0, (0, &#39;&#39;))&#45;&gt;0</title>\n",
       "<path fill=\"none\" stroke=\"black\" d=\"M1.14,-145C3.07,-145 25.11,-145 38.52,-145\"/>\n",
       "<polygon fill=\"black\" stroke=\"black\" points=\"38.73,-146.05 41.73,-145 38.73,-143.95 38.73,-146.05\"/>\n",
       "<text text-anchor=\"middle\" x=\"21\" y=\"-147.8\" font-family=\"Monospace\" font-size=\"9.00\">1</text>\n",
       "</g>\n",
       "<!-- 12 -->\n",
       "<g id=\"node14\" class=\"node\">\n",
       "<title>12</title>\n",
       "<ellipse fill=\"none\" stroke=\"black\" cx=\"593.33\" cy=\"-130\" rx=\"7.56\" ry=\"7.56\"/>\n",
       "<text text-anchor=\"middle\" x=\"593.33\" y=\"-127.5\" font-family=\"Monospace\" font-size=\"10.00\"> </text>\n",
       "</g>\n",
       "<!-- 0&#45;&gt;12 -->\n",
       "<g id=\"edge21\" class=\"edge\">\n",
       "<title>0&#45;&gt;12</title>\n",
       "<path fill=\"none\" stroke=\"black\" d=\"M53.54,-151.99C61.88,-171.82 88.85,-227 130.56,-227 130.56,-227 130.56,-227 512.56,-227 557,-227 581.25,-165.5 589.28,-140.44\"/>\n",
       "<polygon fill=\"black\" stroke=\"black\" points=\"590.38,-140.47 590.27,-137.29 588.37,-139.84 590.38,-140.47\"/>\n",
       "<text text-anchor=\"middle\" x=\"314.06\" y=\"-229.8\" font-family=\"Monospace\" font-size=\"9.00\">46506/1</text>\n",
       "</g>\n",
       "<!-- 17 -->\n",
       "<g id=\"node19\" class=\"node\">\n",
       "<title>17</title>\n",
       "<ellipse fill=\"none\" stroke=\"black\" cx=\"221.56\" cy=\"-112\" rx=\"7.56\" ry=\"7.56\"/>\n",
       "<text text-anchor=\"middle\" x=\"221.56\" y=\"-109.5\" font-family=\"Monospace\" font-size=\"10.00\"> </text>\n",
       "</g>\n",
       "<!-- 0&#45;&gt;17 -->\n",
       "<g id=\"edge20\" class=\"edge\">\n",
       "<title>0&#45;&gt;17</title>\n",
       "<path fill=\"none\" stroke=\"black\" d=\"M56.98,-141.58C68.24,-135.55 93,-123.19 115.56,-118 149.7,-110.15 191.66,-110.7 210.53,-111.46\"/>\n",
       "<polygon fill=\"black\" stroke=\"black\" points=\"210.52,-112.51 213.56,-111.6 210.61,-110.42 210.52,-112.51\"/>\n",
       "<text text-anchor=\"middle\" x=\"131.56\" y=\"-120.8\" font-family=\"Monospace\" font-size=\"9.00\">5188/1</text>\n",
       "</g>\n",
       "<!-- 18 -->\n",
       "<g id=\"node20\" class=\"node\">\n",
       "<title>18</title>\n",
       "<ellipse fill=\"none\" stroke=\"black\" cx=\"131.56\" cy=\"-145\" rx=\"7.56\" ry=\"7.56\"/>\n",
       "<text text-anchor=\"middle\" x=\"131.56\" y=\"-142.5\" font-family=\"Monospace\" font-size=\"10.00\"> </text>\n",
       "</g>\n",
       "<!-- 0&#45;&gt;18 -->\n",
       "<g id=\"edge19\" class=\"edge\">\n",
       "<title>0&#45;&gt;18</title>\n",
       "<path fill=\"none\" stroke=\"black\" d=\"M57.58,-145C71.71,-145 104.29,-145 120.71,-145\"/>\n",
       "<polygon fill=\"black\" stroke=\"black\" points=\"120.77,-146.05 123.77,-145 120.77,-143.95 120.77,-146.05\"/>\n",
       "<text text-anchor=\"middle\" x=\"86.56\" y=\"-147.8\" font-family=\"Monospace\" font-size=\"9.00\">50/1</text>\n",
       "</g>\n",
       "<!-- 1 -->\n",
       "<g id=\"node3\" class=\"node\">\n",
       "<title>1</title>\n",
       "<ellipse fill=\"none\" stroke=\"black\" cx=\"1426.23\" cy=\"-115\" rx=\"7.56\" ry=\"7.56\"/>\n",
       "<text text-anchor=\"middle\" x=\"1426.23\" y=\"-112.5\" font-family=\"Monospace\" font-size=\"10.00\"> </text>\n",
       "</g>\n",
       "<!-- 4 -->\n",
       "<g id=\"node6\" class=\"node\">\n",
       "<title>4</title>\n",
       "<ellipse fill=\"none\" stroke=\"black\" cx=\"1531.23\" cy=\"-173\" rx=\"7.56\" ry=\"7.56\"/>\n",
       "<text text-anchor=\"middle\" x=\"1531.23\" y=\"-170.5\" font-family=\"Monospace\" font-size=\"10.00\"> </text>\n",
       "</g>\n",
       "<!-- 1&#45;&gt;4 -->\n",
       "<g id=\"edge3\" class=\"edge\">\n",
       "<title>1&#45;&gt;4</title>\n",
       "<path fill=\"none\" stroke=\"black\" d=\"M1433.6,-117.64C1446.14,-122.94 1474.75,-135.51 1497.23,-149 1505.94,-154.23 1515.26,-161.14 1521.76,-166.2\"/>\n",
       "<polygon fill=\"black\" stroke=\"black\" points=\"1521.35,-167.22 1524.36,-168.25 1522.65,-165.57 1521.35,-167.22\"/>\n",
       "<text text-anchor=\"middle\" x=\"1478.73\" y=\"-151.8\" font-family=\"Monospace\" font-size=\"9.00\">64/1</text>\n",
       "</g>\n",
       "<!-- 7 -->\n",
       "<g id=\"node9\" class=\"node\">\n",
       "<title>7</title>\n",
       "<ellipse fill=\"none\" stroke=\"black\" cx=\"1631.23\" cy=\"-149\" rx=\"7.56\" ry=\"7.56\"/>\n",
       "<text text-anchor=\"middle\" x=\"1631.23\" y=\"-146.5\" font-family=\"Monospace\" font-size=\"10.00\"> </text>\n",
       "</g>\n",
       "<!-- 1&#45;&gt;7 -->\n",
       "<g id=\"edge4\" class=\"edge\">\n",
       "<title>1&#45;&gt;7</title>\n",
       "<path fill=\"none\" stroke=\"black\" d=\"M1433.98,-116.13C1463.84,-121.13 1584.08,-141.27 1620.03,-147.29\"/>\n",
       "<polygon fill=\"black\" stroke=\"black\" points=\"1620.11,-148.37 1623.24,-147.83 1620.45,-146.3 1620.11,-148.37\"/>\n",
       "<text text-anchor=\"middle\" x=\"1531.23\" y=\"-137.8\" font-family=\"Monospace\" font-size=\"9.00\">265/1</text>\n",
       "</g>\n",
       "<!-- 8 -->\n",
       "<g id=\"node10\" class=\"node\">\n",
       "<title>8</title>\n",
       "<ellipse fill=\"none\" stroke=\"black\" cx=\"1713\" cy=\"-149\" rx=\"7.56\" ry=\"7.56\"/>\n",
       "<text text-anchor=\"middle\" x=\"1713\" y=\"-146.5\" font-family=\"Monospace\" font-size=\"10.00\"> </text>\n",
       "</g>\n",
       "<!-- 1&#45;&gt;8 -->\n",
       "<g id=\"edge5\" class=\"edge\">\n",
       "<title>1&#45;&gt;8</title>\n",
       "<path fill=\"none\" stroke=\"black\" d=\"M1434.15,-114.93C1461.51,-114.79 1564.59,-115.43 1647.23,-132 1666.98,-135.96 1689.68,-142.35 1702.28,-146.06\"/>\n",
       "<polygon fill=\"black\" stroke=\"black\" points=\"1702.08,-147.1 1705.26,-146.95 1702.68,-145.09 1702.08,-147.1\"/>\n",
       "<text text-anchor=\"middle\" x=\"1581.23\" y=\"-126.8\" font-family=\"Monospace\" font-size=\"9.00\">1045/1</text>\n",
       "</g>\n",
       "<!-- 2 -->\n",
       "<g id=\"node4\" class=\"node\">\n",
       "<title>2</title>\n",
       "<ellipse fill=\"none\" stroke=\"black\" cx=\"1157.67\" cy=\"-61\" rx=\"7.56\" ry=\"7.56\"/>\n",
       "<text text-anchor=\"middle\" x=\"1157.67\" y=\"-58.5\" font-family=\"Monospace\" font-size=\"10.00\"> </text>\n",
       "</g>\n",
       "<!-- 6 -->\n",
       "<g id=\"node8\" class=\"node\">\n",
       "<title>6</title>\n",
       "<ellipse fill=\"none\" stroke=\"black\" cx=\"1239.45\" cy=\"-92\" rx=\"7.56\" ry=\"7.56\"/>\n",
       "<text text-anchor=\"middle\" x=\"1239.45\" y=\"-89.5\" font-family=\"Monospace\" font-size=\"10.00\"> </text>\n",
       "</g>\n",
       "<!-- 2&#45;&gt;6 -->\n",
       "<g id=\"edge6\" class=\"edge\">\n",
       "<title>2&#45;&gt;6</title>\n",
       "<path fill=\"none\" stroke=\"black\" d=\"M1165.16,-63.2C1175.5,-66.74 1196.33,-74.01 1213.67,-81 1218.87,-83.1 1224.61,-85.63 1229.25,-87.73\"/>\n",
       "<polygon fill=\"black\" stroke=\"black\" points=\"1228.81,-88.69 1231.98,-88.98 1229.69,-86.78 1228.81,-88.69\"/>\n",
       "<text text-anchor=\"middle\" x=\"1202.67\" y=\"-83.8\" font-family=\"Monospace\" font-size=\"9.00\">44/1</text>\n",
       "</g>\n",
       "<!-- 3 -->\n",
       "<g id=\"node5\" class=\"node\">\n",
       "<title>3</title>\n",
       "<ellipse fill=\"none\" stroke=\"black\" cx=\"409.06\" cy=\"-170\" rx=\"7.56\" ry=\"7.56\"/>\n",
       "<text text-anchor=\"middle\" x=\"409.06\" y=\"-167.5\" font-family=\"Monospace\" font-size=\"10.00\"> </text>\n",
       "</g>\n",
       "<!-- 9 -->\n",
       "<g id=\"node11\" class=\"node\">\n",
       "<title>9</title>\n",
       "<ellipse fill=\"none\" stroke=\"black\" cx=\"511.56\" cy=\"-130\" rx=\"7.56\" ry=\"7.56\"/>\n",
       "<text text-anchor=\"middle\" x=\"511.56\" y=\"-127.5\" font-family=\"Monospace\" font-size=\"10.00\"> </text>\n",
       "</g>\n",
       "<!-- 3&#45;&gt;9 -->\n",
       "<g id=\"edge7\" class=\"edge\">\n",
       "<title>3&#45;&gt;9</title>\n",
       "<path fill=\"none\" stroke=\"black\" d=\"M416.65,-167.38C433.91,-160.51 480.46,-141.98 500.81,-133.88\"/>\n",
       "<polygon fill=\"black\" stroke=\"black\" points=\"501.67,-134.67 504.07,-132.58 500.89,-132.72 501.67,-134.67\"/>\n",
       "<text text-anchor=\"middle\" x=\"461.56\" y=\"-156.8\" font-family=\"Monospace\" font-size=\"9.00\">34/1</text>\n",
       "</g>\n",
       "<!-- 3&#45;&gt;12 -->\n",
       "<g id=\"edge8\" class=\"edge\">\n",
       "<title>3&#45;&gt;12</title>\n",
       "<path fill=\"none\" stroke=\"black\" d=\"M417.2,-170.16C429.56,-170.34 455.74,-170.24 477.56,-167 518.39,-160.94 529.25,-159.4 567.56,-144 573.18,-141.74 579.09,-138.44 583.74,-135.6\"/>\n",
       "<polygon fill=\"black\" stroke=\"black\" points=\"584.46,-136.39 586.45,-133.92 583.35,-134.61 584.46,-136.39\"/>\n",
       "<text text-anchor=\"middle\" x=\"511.56\" y=\"-166.8\" font-family=\"Monospace\" font-size=\"9.00\">4177/1</text>\n",
       "</g>\n",
       "<!-- 4&#45;&gt;7 -->\n",
       "<g id=\"edge9\" class=\"edge\">\n",
       "<title>4&#45;&gt;7</title>\n",
       "<path fill=\"none\" stroke=\"black\" d=\"M1538.96,-171.35C1555.89,-167.21 1600.26,-156.34 1620.23,-151.45\"/>\n",
       "<polygon fill=\"black\" stroke=\"black\" points=\"1620.78,-152.39 1623.44,-150.66 1620.28,-150.35 1620.78,-152.39\"/>\n",
       "<text text-anchor=\"middle\" x=\"1581.23\" y=\"-166.8\" font-family=\"Monospace\" font-size=\"9.00\">83/1</text>\n",
       "</g>\n",
       "<!-- 4&#45;&gt;8 -->\n",
       "<g id=\"edge10\" class=\"edge\">\n",
       "<title>4&#45;&gt;8</title>\n",
       "<path fill=\"none\" stroke=\"black\" d=\"M1539.02,-174.33C1545.67,-175.57 1556.1,-177.31 1565.23,-178 1619.7,-182.1 1635.72,-181.2 1687.23,-163 1692.94,-160.98 1698.86,-157.69 1703.48,-154.8\"/>\n",
       "<polygon fill=\"black\" stroke=\"black\" points=\"1704.22,-155.58 1706.18,-153.07 1703.08,-153.81 1704.22,-155.58\"/>\n",
       "<text text-anchor=\"middle\" x=\"1631.23\" y=\"-181.8\" font-family=\"Monospace\" font-size=\"9.00\">8326/1</text>\n",
       "</g>\n",
       "<!-- 5 -->\n",
       "<g id=\"node7\" class=\"node\">\n",
       "<title>5</title>\n",
       "<ellipse fill=\"none\" stroke=\"black\" cx=\"840.17\" cy=\"-105\" rx=\"7.56\" ry=\"7.56\"/>\n",
       "<text text-anchor=\"middle\" x=\"840.17\" y=\"-102.5\" font-family=\"Monospace\" font-size=\"10.00\"> </text>\n",
       "</g>\n",
       "<!-- 11 -->\n",
       "<g id=\"node13\" class=\"node\">\n",
       "<title>11</title>\n",
       "<ellipse fill=\"none\" stroke=\"black\" cx=\"940.17\" cy=\"-47\" rx=\"7.56\" ry=\"7.56\"/>\n",
       "<text text-anchor=\"middle\" x=\"940.17\" y=\"-44.5\" font-family=\"Monospace\" font-size=\"10.00\"> </text>\n",
       "</g>\n",
       "<!-- 5&#45;&gt;11 -->\n",
       "<g id=\"edge11\" class=\"edge\">\n",
       "<title>5&#45;&gt;11</title>\n",
       "<path fill=\"none\" stroke=\"black\" d=\"M846.54,-100.23C852.45,-95.11 862.35,-86.93 871.67,-81 891.43,-68.43 916.45,-56.86 929.79,-51\"/>\n",
       "<polygon fill=\"black\" stroke=\"black\" points=\"930.28,-51.94 932.61,-49.78 929.44,-50.01 930.28,-51.94\"/>\n",
       "<text text-anchor=\"middle\" x=\"887.67\" y=\"-83.8\" font-family=\"Monospace\" font-size=\"9.00\">37/1</text>\n",
       "</g>\n",
       "<!-- 15 -->\n",
       "<g id=\"node17\" class=\"node\">\n",
       "<title>15</title>\n",
       "<ellipse fill=\"none\" stroke=\"black\" cx=\"1050.17\" cy=\"-105\" rx=\"7.56\" ry=\"7.56\"/>\n",
       "<text text-anchor=\"middle\" x=\"1050.17\" y=\"-102.5\" font-family=\"Monospace\" font-size=\"10.00\"> </text>\n",
       "</g>\n",
       "<!-- 5&#45;&gt;15 -->\n",
       "<g id=\"edge12\" class=\"edge\">\n",
       "<title>5&#45;&gt;15</title>\n",
       "<path fill=\"none\" stroke=\"black\" d=\"M848.09,-105C878.68,-105 1001.89,-105 1038.72,-105\"/>\n",
       "<polygon fill=\"black\" stroke=\"black\" points=\"1039.01,-106.05 1042.01,-105 1039.01,-103.95 1039.01,-106.05\"/>\n",
       "<text text-anchor=\"middle\" x=\"940.17\" y=\"-107.8\" font-family=\"Monospace\" font-size=\"9.00\">10913/1</text>\n",
       "</g>\n",
       "<!-- 6&#45;&gt;1 -->\n",
       "<g id=\"edge14\" class=\"edge\">\n",
       "<title>6&#45;&gt;1</title>\n",
       "<path fill=\"none\" stroke=\"black\" d=\"M1247.42,-92.75C1268.97,-95.07 1336.48,-102.47 1392.23,-110 1400.02,-111.05 1408.83,-112.4 1415.39,-113.42\"/>\n",
       "<polygon fill=\"black\" stroke=\"black\" points=\"1415.28,-114.47 1418.41,-113.9 1415.61,-112.4 1415.28,-114.47\"/>\n",
       "<text text-anchor=\"middle\" x=\"1323.73\" y=\"-105.8\" font-family=\"Monospace\" font-size=\"9.00\">288/1</text>\n",
       "</g>\n",
       "<!-- 6&#45;&gt;4 -->\n",
       "<g id=\"edge17\" class=\"edge\">\n",
       "<title>6&#45;&gt;4</title>\n",
       "<path fill=\"none\" stroke=\"black\" d=\"M1245.74,-97.04C1250.5,-101.31 1257.85,-107.32 1265.23,-111 1345.1,-150.83 1372.87,-140.7 1460.23,-159 1481.47,-163.45 1506.41,-168.37 1520.05,-171.03\"/>\n",
       "<polygon fill=\"black\" stroke=\"black\" points=\"1520.12,-172.11 1523.26,-171.65 1520.52,-170.05 1520.12,-172.11\"/>\n",
       "<text text-anchor=\"middle\" x=\"1373.73\" y=\"-149.8\" font-family=\"Monospace\" font-size=\"9.00\">12379/1</text>\n",
       "</g>\n",
       "<!-- 6&#45;&gt;7 -->\n",
       "<g id=\"edge16\" class=\"edge\">\n",
       "<title>6&#45;&gt;7</title>\n",
       "<path fill=\"none\" stroke=\"black\" d=\"M1245.47,-86.72C1257.55,-74.64 1289.67,-46 1322.73,-46 1322.73,-46 1322.73,-46 1479.73,-46 1513.77,-46 1596.83,-118.69 1622.52,-141.94\"/>\n",
       "<polygon fill=\"black\" stroke=\"black\" points=\"1621.9,-142.79 1624.83,-144.03 1623.31,-141.24 1621.9,-142.79\"/>\n",
       "<text text-anchor=\"middle\" x=\"1426.23\" y=\"-48.8\" font-family=\"Monospace\" font-size=\"9.00\">4818/1</text>\n",
       "</g>\n",
       "<!-- 6&#45;&gt;8 -->\n",
       "<g id=\"edge15\" class=\"edge\">\n",
       "<title>6&#45;&gt;8</title>\n",
       "<path fill=\"none\" stroke=\"black\" d=\"M1242.88,-84.78C1250.68,-63.09 1277.3,0 1322.73,0 1322.73,0 1322.73,0 1632.23,0 1694.76,0 1708.47,-103.27 1711.3,-137.86\"/>\n",
       "<polygon fill=\"black\" stroke=\"black\" points=\"1710.27,-138.08 1711.54,-140.99 1712.36,-137.92 1710.27,-138.08\"/>\n",
       "<text text-anchor=\"middle\" x=\"1478.73\" y=\"-2.8\" font-family=\"Monospace\" font-size=\"9.00\">1366/1</text>\n",
       "</g>\n",
       "<!-- 14 -->\n",
       "<g id=\"node16\" class=\"node\">\n",
       "<title>14</title>\n",
       "<ellipse fill=\"none\" stroke=\"black\" cx=\"1323.73\" cy=\"-204\" rx=\"7.56\" ry=\"7.56\"/>\n",
       "<text text-anchor=\"middle\" x=\"1323.73\" y=\"-201.5\" font-family=\"Monospace\" font-size=\"10.00\"> </text>\n",
       "</g>\n",
       "<!-- 6&#45;&gt;14 -->\n",
       "<g id=\"edge13\" class=\"edge\">\n",
       "<title>6&#45;&gt;14</title>\n",
       "<path fill=\"none\" stroke=\"black\" d=\"M1240.98,-99.95C1242.39,-115.45 1247.45,-150.1 1265.23,-172 1277.83,-187.54 1300.11,-196.79 1312.92,-201.09\"/>\n",
       "<polygon fill=\"black\" stroke=\"black\" points=\"1312.78,-202.15 1315.96,-202.08 1313.43,-200.15 1312.78,-202.15\"/>\n",
       "<text text-anchor=\"middle\" x=\"1278.73\" y=\"-194.8\" font-family=\"Monospace\" font-size=\"9.00\">220/1</text>\n",
       "</g>\n",
       "<!-- 7&#45;&gt;8 -->\n",
       "<g id=\"edge18\" class=\"edge\">\n",
       "<title>7&#45;&gt;8</title>\n",
       "<path fill=\"none\" stroke=\"black\" d=\"M1639.03,-149C1653.16,-149 1685.74,-149 1702.16,-149\"/>\n",
       "<polygon fill=\"black\" stroke=\"black\" points=\"1702.22,-150.05 1705.22,-149 1702.22,-147.95 1702.22,-150.05\"/>\n",
       "<text text-anchor=\"middle\" x=\"1676.23\" y=\"-151.8\" font-family=\"Monospace\" font-size=\"9.00\">64/1</text>\n",
       "</g>\n",
       "<!-- stop_(1, (2, &#39;SELECT * FROM data&#39;)) -->\n",
       "<g id=\"node21\" class=\"node\">\n",
       "<title>stop_(1, (2, &#39;SELECT * FROM data&#39;))</title>\n",
       "<ellipse fill=\"black\" stroke=\"black\" cx=\"1762.78\" cy=\"-149\" rx=\"0\" ry=\"0\"/>\n",
       "</g>\n",
       "<!-- 8&#45;&gt;stop_(1, (2, &#39;SELECT * FROM data&#39;)) -->\n",
       "<g id=\"edge2\" class=\"edge\">\n",
       "<title>8&#45;&gt;stop_(1, (2, &#39;SELECT * FROM data&#39;))</title>\n",
       "<path fill=\"none\" stroke=\"black\" d=\"M1721.05,-149C1731.51,-149 1750.74,-149 1758.45,-149\"/>\n",
       "<polygon fill=\"black\" stroke=\"black\" points=\"1758.7,-150.05 1761.7,-149 1758.7,-147.95 1758.7,-150.05\"/>\n",
       "<text text-anchor=\"middle\" x=\"1741.78\" y=\"-151.8\" font-family=\"Monospace\" font-size=\"9.00\">1</text>\n",
       "</g>\n",
       "<!-- 9&#45;&gt;12 -->\n",
       "<g id=\"edge22\" class=\"edge\">\n",
       "<title>9&#45;&gt;12</title>\n",
       "<path fill=\"none\" stroke=\"black\" d=\"M519.36,-130C533.49,-130 566.07,-130 582.49,-130\"/>\n",
       "<polygon fill=\"black\" stroke=\"black\" points=\"582.55,-131.05 585.55,-130 582.55,-128.95 582.55,-131.05\"/>\n",
       "<text text-anchor=\"middle\" x=\"556.56\" y=\"-132.8\" font-family=\"Monospace\" font-size=\"9.00\">51/1</text>\n",
       "</g>\n",
       "<!-- 10 -->\n",
       "<g id=\"node12\" class=\"node\">\n",
       "<title>10</title>\n",
       "<ellipse fill=\"none\" stroke=\"black\" cx=\"314.06\" cy=\"-123\" rx=\"7.56\" ry=\"7.56\"/>\n",
       "<text text-anchor=\"middle\" x=\"314.06\" y=\"-120.5\" font-family=\"Monospace\" font-size=\"10.00\"> </text>\n",
       "</g>\n",
       "<!-- 10&#45;&gt;3 -->\n",
       "<g id=\"edge23\" class=\"edge\">\n",
       "<title>10&#45;&gt;3</title>\n",
       "<path fill=\"none\" stroke=\"black\" d=\"M321.45,-126.23C337.59,-134.39 380.03,-155.83 398.85,-165.34\"/>\n",
       "<polygon fill=\"black\" stroke=\"black\" points=\"398.71,-166.45 401.86,-166.87 399.66,-164.58 398.71,-166.45\"/>\n",
       "<text text-anchor=\"middle\" x=\"361.56\" y=\"-152.8\" font-family=\"Monospace\" font-size=\"9.00\">36/1</text>\n",
       "</g>\n",
       "<!-- 10&#45;&gt;9 -->\n",
       "<g id=\"edge24\" class=\"edge\">\n",
       "<title>10&#45;&gt;9</title>\n",
       "<path fill=\"none\" stroke=\"black\" d=\"M322.01,-123.25C351.4,-124.3 465.46,-128.39 500.35,-129.63\"/>\n",
       "<polygon fill=\"black\" stroke=\"black\" points=\"500.44,-130.69 503.48,-129.75 500.52,-128.59 500.44,-130.69\"/>\n",
       "<text text-anchor=\"middle\" x=\"409.06\" y=\"-129.8\" font-family=\"Monospace\" font-size=\"9.00\">2943/1</text>\n",
       "</g>\n",
       "<!-- 10&#45;&gt;12 -->\n",
       "<g id=\"edge25\" class=\"edge\">\n",
       "<title>10&#45;&gt;12</title>\n",
       "<path fill=\"none\" stroke=\"black\" d=\"M322.06,-121.79C348.85,-117.33 447.34,-102.65 527.56,-113 547.54,-115.58 570.16,-122.46 582.68,-126.63\"/>\n",
       "<polygon fill=\"black\" stroke=\"black\" points=\"582.46,-127.67 585.64,-127.63 583.13,-125.68 582.46,-127.67\"/>\n",
       "<text text-anchor=\"middle\" x=\"461.56\" y=\"-112.8\" font-family=\"Monospace\" font-size=\"9.00\">9782/1</text>\n",
       "</g>\n",
       "<!-- 11&#45;&gt;2 -->\n",
       "<g id=\"edge27\" class=\"edge\">\n",
       "<title>11&#45;&gt;2</title>\n",
       "<path fill=\"none\" stroke=\"black\" d=\"M948.34,-47.47C980.18,-49.53 1108.83,-57.89 1146.35,-60.33\"/>\n",
       "<polygon fill=\"black\" stroke=\"black\" points=\"1146.63,-61.4 1149.69,-60.55 1146.76,-59.3 1146.63,-61.4\"/>\n",
       "<text text-anchor=\"middle\" x=\"1050.17\" y=\"-58.8\" font-family=\"Monospace\" font-size=\"9.00\">13252/1</text>\n",
       "</g>\n",
       "<!-- 11&#45;&gt;6 -->\n",
       "<g id=\"edge28\" class=\"edge\">\n",
       "<title>11&#45;&gt;6</title>\n",
       "<path fill=\"none\" stroke=\"black\" d=\"M947.84,-45.5C976.01,-39.47 1087.78,-18.43 1173.67,-44 1198.11,-51.28 1220.58,-72.51 1231.5,-84.15\"/>\n",
       "<polygon fill=\"black\" stroke=\"black\" points=\"1230.97,-85.12 1233.77,-86.62 1232.51,-83.7 1230.97,-85.12\"/>\n",
       "<text text-anchor=\"middle\" x=\"1105.17\" y=\"-36.8\" font-family=\"Monospace\" font-size=\"9.00\">33676/1</text>\n",
       "</g>\n",
       "<!-- 11&#45;&gt;15 -->\n",
       "<g id=\"edge26\" class=\"edge\">\n",
       "<title>11&#45;&gt;15</title>\n",
       "<path fill=\"none\" stroke=\"black\" d=\"M947.74,-49.67C960.67,-55.02 990.22,-67.68 1013.67,-81 1023.35,-86.5 1033.84,-93.77 1040.89,-98.86\"/>\n",
       "<polygon fill=\"black\" stroke=\"black\" points=\"1040.28,-99.71 1043.32,-100.63 1041.51,-98.02 1040.28,-99.71\"/>\n",
       "<text text-anchor=\"middle\" x=\"995.17\" y=\"-83.8\" font-family=\"Monospace\" font-size=\"9.00\">49/1</text>\n",
       "</g>\n",
       "<!-- 13 -->\n",
       "<g id=\"node15\" class=\"node\">\n",
       "<title>13</title>\n",
       "<ellipse fill=\"none\" stroke=\"black\" cx=\"755.89\" cy=\"-130\" rx=\"7.56\" ry=\"7.56\"/>\n",
       "<text text-anchor=\"middle\" x=\"755.89\" y=\"-127.5\" font-family=\"Monospace\" font-size=\"10.00\"> </text>\n",
       "</g>\n",
       "<!-- 12&#45;&gt;13 -->\n",
       "<g id=\"edge30\" class=\"edge\">\n",
       "<title>12&#45;&gt;13</title>\n",
       "<path fill=\"none\" stroke=\"black\" d=\"M600.72,-132.67C605.65,-134.58 612.68,-136.99 619.11,-138 636.71,-140.77 680.7,-144.15 730.11,-137 735.15,-136.27 740.6,-134.81 745.1,-133.41\"/>\n",
       "<polygon fill=\"black\" stroke=\"black\" points=\"745.52,-134.38 748.05,-132.46 744.88,-132.38 745.52,-134.38\"/>\n",
       "<text text-anchor=\"middle\" x=\"680.11\" y=\"-144.8\" font-family=\"Monospace\" font-size=\"9.00\">1635/1</text>\n",
       "</g>\n",
       "<!-- 16 -->\n",
       "<g id=\"node18\" class=\"node\">\n",
       "<title>16</title>\n",
       "<ellipse fill=\"none\" stroke=\"black\" cx=\"680.11\" cy=\"-108\" rx=\"7.56\" ry=\"7.56\"/>\n",
       "<text text-anchor=\"middle\" x=\"680.11\" y=\"-105.5\" font-family=\"Monospace\" font-size=\"10.00\"> </text>\n",
       "</g>\n",
       "<!-- 12&#45;&gt;16 -->\n",
       "<g id=\"edge29\" class=\"edge\">\n",
       "<title>12&#45;&gt;16</title>\n",
       "<path fill=\"none\" stroke=\"black\" d=\"M600.99,-128.27C615.77,-124.44 651.43,-115.18 669,-110.63\"/>\n",
       "<polygon fill=\"black\" stroke=\"black\" points=\"669.62,-111.55 672.26,-109.78 669.09,-109.52 669.62,-111.55\"/>\n",
       "<text text-anchor=\"middle\" x=\"632.61\" y=\"-126.8\" font-family=\"Monospace\" font-size=\"9.00\">220/1</text>\n",
       "</g>\n",
       "<!-- 13&#45;&gt;5 -->\n",
       "<g id=\"edge31\" class=\"edge\">\n",
       "<title>13&#45;&gt;5</title>\n",
       "<path fill=\"none\" stroke=\"black\" d=\"M763.29,-126.78C768.22,-124.39 775.25,-121.19 781.67,-119 798.03,-113.43 817.71,-109.13 829.29,-106.84\"/>\n",
       "<polygon fill=\"black\" stroke=\"black\" points=\"829.58,-107.86 832.33,-106.25 829.18,-105.8 829.58,-107.86\"/>\n",
       "<text text-anchor=\"middle\" x=\"795.17\" y=\"-121.8\" font-family=\"Monospace\" font-size=\"9.00\">220/1</text>\n",
       "</g>\n",
       "<!-- 13&#45;&gt;6 -->\n",
       "<g id=\"edge34\" class=\"edge\">\n",
       "<title>13&#45;&gt;6</title>\n",
       "<path fill=\"none\" stroke=\"black\" d=\"M761.45,-135.46C772.99,-148.61 804.88,-181 839.17,-181 839.17,-181 839.17,-181 1158.67,-181 1200.57,-181 1226.01,-125.62 1234.88,-102.23\"/>\n",
       "<polygon fill=\"black\" stroke=\"black\" points=\"1235.92,-102.46 1235.98,-99.28 1233.95,-101.73 1235.92,-102.46\"/>\n",
       "<text text-anchor=\"middle\" x=\"995.17\" y=\"-183.8\" font-family=\"Monospace\" font-size=\"9.00\">16034/1</text>\n",
       "</g>\n",
       "<!-- 13&#45;&gt;11 -->\n",
       "<g id=\"edge32\" class=\"edge\">\n",
       "<title>13&#45;&gt;11</title>\n",
       "<path fill=\"none\" stroke=\"black\" d=\"M762.03,-125.06C766.92,-120.45 774.56,-113.48 781.67,-108 817.4,-80.44 828.34,-73.59 871.67,-61 891.8,-55.15 915.98,-50.75 929.25,-48.56\"/>\n",
       "<polygon fill=\"black\" stroke=\"black\" points=\"929.58,-49.57 932.38,-48.05 929.25,-47.49 929.58,-49.57\"/>\n",
       "<text text-anchor=\"middle\" x=\"840.17\" y=\"-80.8\" font-family=\"Monospace\" font-size=\"9.00\">376/1</text>\n",
       "</g>\n",
       "<!-- 13&#45;&gt;15 -->\n",
       "<g id=\"edge33\" class=\"edge\">\n",
       "<title>13&#45;&gt;15</title>\n",
       "<path fill=\"none\" stroke=\"black\" d=\"M763.93,-129.93C773.89,-129.82 792.67,-129.54 808.67,-129 899.84,-125.9 924.5,-138.21 1013.67,-119 1022.96,-117 1032.99,-112.84 1040.01,-109.57\"/>\n",
       "<polygon fill=\"black\" stroke=\"black\" points=\"1040.57,-110.47 1042.83,-108.24 1039.66,-108.58 1040.57,-110.47\"/>\n",
       "<text text-anchor=\"middle\" x=\"887.67\" y=\"-132.8\" font-family=\"Monospace\" font-size=\"9.00\">8782/1</text>\n",
       "</g>\n",
       "<!-- 14&#45;&gt;1 -->\n",
       "<g id=\"edge35\" class=\"edge\">\n",
       "<title>14&#45;&gt;1</title>\n",
       "<path fill=\"none\" stroke=\"black\" d=\"M1325.31,-196.1C1326.93,-180.09 1333.01,-143.85 1355.23,-126 1372.52,-112.1 1400.19,-112.33 1415.03,-113.67\"/>\n",
       "<polygon fill=\"black\" stroke=\"black\" points=\"1415.08,-114.73 1418.17,-113.99 1415.29,-112.64 1415.08,-114.73\"/>\n",
       "<text text-anchor=\"middle\" x=\"1373.73\" y=\"-128.8\" font-family=\"Monospace\" font-size=\"9.00\">67/1</text>\n",
       "</g>\n",
       "<!-- 14&#45;&gt;4 -->\n",
       "<g id=\"edge36\" class=\"edge\">\n",
       "<title>14&#45;&gt;4</title>\n",
       "<path fill=\"none\" stroke=\"black\" d=\"M1331.76,-204.06C1355.47,-204.11 1434.53,-202.99 1497.23,-187 1505.52,-184.89 1514.42,-181 1520.89,-177.86\"/>\n",
       "<polygon fill=\"black\" stroke=\"black\" points=\"1521.63,-178.67 1523.85,-176.39 1520.7,-176.78 1521.63,-178.67\"/>\n",
       "<text text-anchor=\"middle\" x=\"1426.23\" y=\"-202.8\" font-family=\"Monospace\" font-size=\"9.00\">6814/1</text>\n",
       "</g>\n",
       "<!-- 14&#45;&gt;7 -->\n",
       "<g id=\"edge38\" class=\"edge\">\n",
       "<title>14&#45;&gt;7</title>\n",
       "<path fill=\"none\" stroke=\"black\" d=\"M1331.06,-207.31C1337.09,-210.25 1346.5,-214.35 1355.23,-216 1371.38,-219.06 1375.78,-216.33 1392.23,-216 1484.87,-214.15 1515.36,-221.42 1597.23,-178 1607.31,-172.65 1616.88,-163.65 1623.09,-157.09\"/>\n",
       "<polygon fill=\"black\" stroke=\"black\" points=\"1623.95,-157.71 1625.22,-154.8 1622.41,-156.28 1623.95,-157.71\"/>\n",
       "<text text-anchor=\"middle\" x=\"1478.73\" y=\"-217.8\" font-family=\"Monospace\" font-size=\"9.00\">19608/1</text>\n",
       "</g>\n",
       "<!-- 14&#45;&gt;8 -->\n",
       "<g id=\"edge37\" class=\"edge\">\n",
       "<title>14&#45;&gt;8</title>\n",
       "<path fill=\"none\" stroke=\"black\" d=\"M1328.67,-210.22C1340.73,-228.37 1379.07,-280 1425.23,-280 1425.23,-280 1425.23,-280 1632.23,-280 1688.23,-280 1706.06,-191.57 1710.64,-160.02\"/>\n",
       "<polygon fill=\"black\" stroke=\"black\" points=\"1711.71,-159.92 1711.09,-156.8 1709.63,-159.63 1711.71,-159.92\"/>\n",
       "<text text-anchor=\"middle\" x=\"1531.23\" y=\"-282.8\" font-family=\"Monospace\" font-size=\"9.00\">7890/1</text>\n",
       "</g>\n",
       "<!-- 15&#45;&gt;2 -->\n",
       "<g id=\"edge39\" class=\"edge\">\n",
       "<title>15&#45;&gt;2</title>\n",
       "<path fill=\"none\" stroke=\"black\" d=\"M1056.85,-100.31C1063.59,-94.97 1075.34,-86.28 1086.67,-81 1106.94,-71.54 1132.65,-65.6 1146.58,-62.84\"/>\n",
       "<polygon fill=\"black\" stroke=\"black\" points=\"1147.11,-63.8 1149.86,-62.2 1146.71,-61.74 1147.11,-63.8\"/>\n",
       "<text text-anchor=\"middle\" x=\"1105.17\" y=\"-83.8\" font-family=\"Monospace\" font-size=\"9.00\">46/1</text>\n",
       "</g>\n",
       "<!-- 15&#45;&gt;6 -->\n",
       "<g id=\"edge40\" class=\"edge\">\n",
       "<title>15&#45;&gt;6</title>\n",
       "<path fill=\"none\" stroke=\"black\" d=\"M1058.28,-104.51C1087.02,-102.51 1194.62,-95.04 1228.3,-92.7\"/>\n",
       "<polygon fill=\"black\" stroke=\"black\" points=\"1228.41,-93.75 1231.33,-92.49 1228.26,-91.65 1228.41,-93.75\"/>\n",
       "<text text-anchor=\"middle\" x=\"1157.67\" y=\"-101.8\" font-family=\"Monospace\" font-size=\"9.00\">2662/1</text>\n",
       "</g>\n",
       "<!-- 16&#45;&gt;13 -->\n",
       "<g id=\"edge41\" class=\"edge\">\n",
       "<title>16&#45;&gt;13</title>\n",
       "<path fill=\"none\" stroke=\"black\" d=\"M687.66,-109.95C700.64,-113.82 729.72,-122.49 745.03,-127.06\"/>\n",
       "<polygon fill=\"black\" stroke=\"black\" points=\"745.08,-128.17 748.25,-128.02 745.68,-126.16 745.08,-128.17\"/>\n",
       "<text text-anchor=\"middle\" x=\"722.11\" y=\"-125.8\" font-family=\"Monospace\" font-size=\"9.00\">9/1</text>\n",
       "</g>\n",
       "<!-- 17&#45;&gt;3 -->\n",
       "<g id=\"edge43\" class=\"edge\">\n",
       "<title>17&#45;&gt;3</title>\n",
       "<path fill=\"none\" stroke=\"black\" d=\"M228.38,-116.34C234.77,-120.96 245.49,-128.25 255.56,-133 295.72,-151.96 307.12,-154.75 350.56,-164 367.07,-167.51 386.7,-169 398.23,-169.61\"/>\n",
       "<polygon fill=\"black\" stroke=\"black\" points=\"398.21,-170.66 401.26,-169.76 398.31,-168.56 398.21,-170.66\"/>\n",
       "<text text-anchor=\"middle\" x=\"314.06\" y=\"-162.8\" font-family=\"Monospace\" font-size=\"9.00\">2538/1</text>\n",
       "</g>\n",
       "<!-- 17&#45;&gt;10 -->\n",
       "<g id=\"edge42\" class=\"edge\">\n",
       "<title>17&#45;&gt;10</title>\n",
       "<path fill=\"none\" stroke=\"black\" d=\"M229.36,-112.83C245.21,-114.75 284.68,-119.55 303.18,-121.8\"/>\n",
       "<polygon fill=\"black\" stroke=\"black\" points=\"303.07,-122.84 306.18,-122.16 303.32,-120.76 303.07,-122.84\"/>\n",
       "<text text-anchor=\"middle\" x=\"266.56\" y=\"-121.8\" font-family=\"Monospace\" font-size=\"9.00\">43/1</text>\n",
       "</g>\n",
       "<!-- 17&#45;&gt;12 -->\n",
       "<g id=\"edge44\" class=\"edge\">\n",
       "<title>17&#45;&gt;12</title>\n",
       "<path fill=\"none\" stroke=\"black\" d=\"M226.48,-105.26C237.57,-87.19 271.07,-39 313.06,-39 313.06,-39 313.06,-39 512.56,-39 555.18,-39 580.35,-96.16 588.96,-119.88\"/>\n",
       "<polygon fill=\"black\" stroke=\"black\" points=\"588.03,-120.38 590.02,-122.86 590.01,-119.68 588.03,-120.38\"/>\n",
       "<text text-anchor=\"middle\" x=\"409.06\" y=\"-41.8\" font-family=\"Monospace\" font-size=\"9.00\">16779/1</text>\n",
       "</g>\n",
       "<!-- 18&#45;&gt;10 -->\n",
       "<g id=\"edge46\" class=\"edge\">\n",
       "<title>18&#45;&gt;10</title>\n",
       "<path fill=\"none\" stroke=\"black\" d=\"M139.57,-144.94C160.64,-144.64 225.19,-142.92 277.56,-133 286.31,-131.34 296.05,-128.53 303.1,-126.31\"/>\n",
       "<polygon fill=\"black\" stroke=\"black\" points=\"303.8,-127.19 306.33,-125.27 303.16,-125.19 303.8,-127.19\"/>\n",
       "<text text-anchor=\"middle\" x=\"221.56\" y=\"-144.8\" font-family=\"Monospace\" font-size=\"9.00\">3698/1</text>\n",
       "</g>\n",
       "<!-- 18&#45;&gt;17 -->\n",
       "<g id=\"edge45\" class=\"edge\">\n",
       "<title>18&#45;&gt;17</title>\n",
       "<path fill=\"none\" stroke=\"black\" d=\"M139.11,-142.36C145.76,-139.7 156.34,-135.49 165.56,-132 181.54,-125.95 200.26,-119.22 211.22,-115.31\"/>\n",
       "<polygon fill=\"black\" stroke=\"black\" points=\"211.63,-116.28 214.1,-114.28 210.92,-114.3 211.63,-116.28\"/>\n",
       "<text text-anchor=\"middle\" x=\"176.56\" y=\"-134.8\" font-family=\"Monospace\" font-size=\"9.00\">36/1</text>\n",
       "</g>\n",
       "</g>\n",
       "</svg>\n"
      ],
      "text/plain": [
       "WFSA(19 states)"
      ]
     },
     "execution_count": 90,
     "metadata": {},
     "output_type": "execute_result"
    }
   ],
   "source": [
    "bs.trim.project(0).epsremove.trim"
   ]
  },
  {
   "cell_type": "markdown",
   "id": "c1a488f7-91ff-4d0a-a825-c2da8bbccc29",
   "metadata": {},
   "source": [
    "To see all the BPE sequences that generate `x` run the cell below:"
   ]
  },
  {
   "cell_type": "code",
   "execution_count": 91,
   "id": "5ca21894-4a66-4d57-b631-f64f4fc2b575",
   "metadata": {},
   "outputs": [],
   "source": [
    "#for y in bs.trim.project(0).epsremove.trim.to_cfg().language(10):\n",
    "#    print(tokenizer.decode(y), y)"
   ]
  },
  {
   "cell_type": "code",
   "execution_count": null,
   "id": "9632097d-a97a-4d59-8683-7dd637e3e0f8",
   "metadata": {},
   "outputs": [],
   "source": []
  },
  {
   "cell_type": "code",
   "execution_count": null,
   "id": "5b29e1dc-bfd3-47a3-be89-fcd79ac1217a",
   "metadata": {},
   "outputs": [],
   "source": []
  },
  {
   "cell_type": "markdown",
   "id": "60280fdd-8a22-4764-9e76-97814619a4cb",
   "metadata": {},
   "source": [
    "# A Basic Alignment Algorithm - Finally!"
   ]
  },
  {
   "cell_type": "code",
   "execution_count": null,
   "id": "e9fd96d5-83eb-4296-b271-97f10632e86c",
   "metadata": {},
   "outputs": [],
   "source": [
    "from genparse.cfglm import CharAlignedCFGLM"
   ]
  },
  {
   "cell_type": "code",
   "execution_count": 104,
   "id": "45add727-d4d9-418b-bf92-b7e782f23703",
   "metadata": {},
   "outputs": [],
   "source": [
    "lark_stuff = LarkStuff(r\"\"\"\n",
    "start: \"SELECT\" WS select_expr WS \"FROM\" WS from_expr [WS \"WHERE\" WS bool_condition] [WS \"GROUP BY\" WS var_list] [WS \"ORDER BY\" WS orderby_expr] WS EOS\n",
    "EOS: \"</s>\"\n",
    "select_expr: STAR | select_list\n",
    "bool_condition: bool_expr | \"(\" bool_condition WS \"AND\" WS bool_condition \")\" | \"(\" bool_condition WS \"OR\" WS bool_condition \")\"\n",
    "bool_expr: var \"=\" value | var \">\" value | var \"<\" value\n",
    "from_expr: \"data\"\n",
    "orderby_expr: var_list WS \"ASC\" | var_list WS \"DESC\"\n",
    "select_list: select_var (\",\" WS select_var)*\n",
    "var_list: var (\",\" WS var)*\n",
    "select_var: var | \"AVG(\" var \")\" | \"MEDIAN(\" var \")\" | \"COUNT(\" var \")\"\n",
    "var: \"age\" | \"gender\" | \"year\" | \"state_color\" | \"zipcode\" | \"vote\" | \"race_ethnicity\"\n",
    "value: NUMBER | \"red\" | \"blue\" | \"white\" | \"black\" | \"latino\" | \"republican\" | \"democrat\" | \"male\" | \"female\"\n",
    "STAR: \"*\"\n",
    "NUMBER: /\\d+/\n",
    "WS: \" \"\n",
    "\"\"\")\n",
    "\n",
    "foo = lark_stuff.char_cfg(.1)\n",
    "foo = locally_normalize(foo, tol=1e-100).trim()\n",
    "assert len(foo) > 0\n",
    "lm = CFGLM(add_EOS(foo))"
   ]
  },
  {
   "cell_type": "code",
   "execution_count": 106,
   "id": "82ea9156-8c57-4cba-b448-094a29fd05b4",
   "metadata": {},
   "outputs": [],
   "source": []
  },
  {
   "cell_type": "code",
   "execution_count": 107,
   "id": "94820485-f8eb-48e0-86db-cc0faa3b5271",
   "metadata": {},
   "outputs": [
    {
     "name": "stdout",
     "output_type": "stream",
     "text": [
      "[]\n",
      "['S']\n",
      "['S', 'E']\n",
      "['S', 'E', 'L']\n",
      "['S', 'E', 'L', 'E']\n",
      "['S', 'E', 'L', 'E', 'C']\n",
      "['S', 'E', 'L', 'E', 'C', 'T']\n",
      "['S', 'E', 'L', 'E', 'C', 'T', ' ']\n",
      "['S', 'E', 'L', 'E', 'C', 'T', ' ', '*']\n",
      "['S', 'E', 'L', 'E', 'C', 'T', ' ', '*', ' ']\n",
      "['S', 'E', 'L', 'E', 'C', 'T', ' ', '*', ' ', 'F']\n",
      "['S', 'E', 'L', 'E', 'C', 'T', ' ', '*', ' ', 'F', 'R']\n",
      "['S', 'E', 'L', 'E', 'C', 'T', ' ', '*', ' ', 'F', 'R', 'O']\n",
      "['S', 'E', 'L', 'E', 'C', 'T', ' ', '*', ' ', 'F', 'R', 'O', 'M']\n",
      "['S', 'E', 'L', 'E', 'C', 'T', ' ', '*', ' ', 'F', 'R', 'O', 'M', ' ']\n",
      "['S', 'E', 'L', 'E', 'C', 'T', ' ', '*', ' ', 'F', 'R', 'O', 'M', ' ', 'd']\n",
      "['S', 'E', 'L', 'E', 'C', 'T', ' ', '*', ' ', 'F', 'R', 'O', 'M', ' ', 'd', 'a']\n",
      "['S', 'E', 'L', 'E', 'C', 'T', ' ', '*', ' ', 'F', 'R', 'O', 'M', ' ', 'd', 'a', 't']\n",
      "['S', 'E', 'L', 'E', 'C', 'T', ' ', '*', ' ', 'F', 'R', 'O', 'M', ' ', 'd', 'a', 't', 'a']\n",
      "['S', 'E', 'L', 'E', 'C', 'T', ' ', '*', ' ', 'F', 'R', 'O', 'M', ' ', 'd', 'a', 't', 'a', ' ']\n",
      "['S', 'E', 'L', 'E', 'C', 'T', ' ', '*', ' ', 'F', 'R', 'O', 'M', ' ', 'd', 'a', 't', 'a', ' ', '<']\n",
      "['S', 'E', 'L', 'E', 'C', 'T', ' ', '*', ' ', 'F', 'R', 'O', 'M', ' ', 'd', 'a', 't', 'a', ' ', '<', '/']\n",
      "['S', 'E', 'L', 'E', 'C', 'T', ' ', '*', ' ', 'F', 'R', 'O', 'M', ' ', 'd', 'a', 't', 'a', ' ', '<', '/', 's']\n",
      "['S', 'E', 'L', 'E', 'C', 'T', ' ', '*', ' ', 'F', 'R', 'O', 'M', ' ', 'd', 'a', 't', 'a', ' ', '<', '/', 's', '>']\n"
     ]
    },
    {
     "data": {
      "text/plain": [
       "['S',\n",
       " 'E',\n",
       " 'L',\n",
       " 'E',\n",
       " 'C',\n",
       " 'T',\n",
       " ' ',\n",
       " '*',\n",
       " ' ',\n",
       " 'F',\n",
       " 'R',\n",
       " 'O',\n",
       " 'M',\n",
       " ' ',\n",
       " 'd',\n",
       " 'a',\n",
       " 't',\n",
       " 'a',\n",
       " ' ',\n",
       " '<',\n",
       " '/',\n",
       " 's',\n",
       " '>']"
      ]
     },
     "execution_count": 107,
     "metadata": {},
     "output_type": "execute_result"
    }
   ],
   "source": [
    "lm.sample(verbose=1)"
   ]
  },
  {
   "cell_type": "code",
   "execution_count": null,
   "id": "df6e826a-ea10-4730-9a16-d2556d12f2f9",
   "metadata": {},
   "outputs": [],
   "source": []
  },
  {
   "cell_type": "code",
   "execution_count": 108,
   "id": "eea67856-e347-4ba0-970c-25bf92b122df",
   "metadata": {},
   "outputs": [],
   "source": []
  },
  {
   "cell_type": "code",
   "execution_count": 109,
   "id": "c2158a77-e14c-4e93-b533-4184aae7d4a5",
   "metadata": {},
   "outputs": [],
   "source": [
    "H = hf_tokenizer()"
   ]
  },
  {
   "cell_type": "code",
   "execution_count": 110,
   "id": "3d792b5f-c322-47d7-8190-7937b5967fe6",
   "metadata": {},
   "outputs": [],
   "source": [
    "bpe_lm = CharAlignedCFGLM(lm=lm, words={x for _, x in H.pairs}, eos=H.tokenizer.eos_token)"
   ]
  },
  {
   "cell_type": "code",
   "execution_count": 111,
   "id": "66625dff-8369-4304-b968-c8f4c940f556",
   "metadata": {},
   "outputs": [],
   "source": [
    "#Float.chart((repr(k), v) for k,v in traverse_trie(lm, '', trie, 1))"
   ]
  },
  {
   "cell_type": "code",
   "execution_count": 112,
   "id": "64fcecc6-3ea2-4aeb-8ebc-de15472ca0e2",
   "metadata": {},
   "outputs": [
    {
     "data": {
      "text/html": [
       "<div style=\"font-family: Monospace;\"><table><tr style=\"font-weight: bold;\"><td>key</td><td>value</td></tr><tr><td>SE</td><td>1.0000000000000004</td> </tr><tr><td>SELECT</td><td>1.0000000000000013</td> </tr><tr><td>S</td><td>1.0000000000000002</td> </tr></table></div>"
      ],
      "text/plain": [
       "{'SE': 1.0000000000000004, 'SELECT': 1.0000000000000013, 'S': 1.0000000000000002}"
      ]
     },
     "execution_count": 112,
     "metadata": {},
     "output_type": "execute_result"
    }
   ],
   "source": [
    "bpe_lm.p_next('')"
   ]
  },
  {
   "cell_type": "code",
   "execution_count": 113,
   "id": "0aa025a6-d83a-4ce2-9fa7-9adf08f5621e",
   "metadata": {},
   "outputs": [
    {
     "data": {
      "text/html": [
       "<div style=\"font-family: Monospace;\"><table><tr style=\"font-weight: bold;\"><td>key</td><td>value</td></tr><tr><td> GR</td><td>2.1748167427213924e-36</td> </tr><tr><td> GROUP</td><td>7.101245369997828e-90</td> </tr><tr><td> G</td><td>1.4659485129313635e-18</td> </tr><tr><td> WHERE</td><td>1.9160365169729775e-105</td> </tr><tr><td> WH</td><td>1.2878057884480931e-42</td> </tr><tr><td> W</td><td>1.1280609611091302e-21</td> </tr><tr><td> ORDER</td><td>3.5739458377610178e-121</td> </tr><tr><td> OR</td><td>6.578820646732225e-49</td> </tr><tr><td> O</td><td>8.062716821122507e-25</td> </tr><tr><td> </</td><td>0.9648155633932916</td> </tr><tr><td> <</td><td>0.9764039633898518</td> </tr><tr><td> </td><td>0.9881315516619494</td> </tr></table></div>"
      ],
      "text/plain": [
       "{' GR': 2.1748167427213924e-36, ' GROUP': 7.101245369997828e-90, ' G': 1.4659485129313635e-18, ' WHERE': 1.9160365169729775e-105, ' WH': 1.2878057884480931e-42, ' W': 1.1280609611091302e-21, ' ORDER': 3.5739458377610178e-121, ' OR': 6.578820646732225e-49, ' O': 8.062716821122507e-25, ' </': 0.9648155633932916, ' <': 0.9764039633898518, ' ': 0.9881315516619494}"
      ]
     },
     "execution_count": 113,
     "metadata": {},
     "output_type": "execute_result"
    }
   ],
   "source": [
    "bpe_lm.p_next('SELECT * FROM data')"
   ]
  },
  {
   "cell_type": "code",
   "execution_count": null,
   "id": "089694fa-3c42-41b3-9038-8fa72b79d80d",
   "metadata": {},
   "outputs": [],
   "source": []
  },
  {
   "cell_type": "code",
   "execution_count": 126,
   "id": "b4720986-8690-49b4-ac18-20539b6a622f",
   "metadata": {},
   "outputs": [
    {
     "name": "stdout",
     "output_type": "stream",
     "text": [
      "''\n",
      "'SE'\n",
      "'SELECT'\n",
      "'SELECT *'\n",
      "'SELECT * FROM'\n",
      "'SELECT * FROM data'\n",
      "'SELECT * FROM data <'\n",
      "'SELECT * FROM data </'\n",
      "'SELECT * FROM data </s'\n",
      "'SELECT * FROM data </s>'\n"
     ]
    }
   ],
   "source": [
    "ys = bpe_lm.sample(verbose=1)"
   ]
  },
  {
   "cell_type": "code",
   "execution_count": null,
   "id": "9cee1996-f246-4e5b-9e6e-b6eaef1385ac",
   "metadata": {},
   "outputs": [],
   "source": []
  }
 ],
 "metadata": {
  "kernelspec": {
   "display_name": "Python 3 (ipykernel)",
   "language": "python",
   "name": "python3"
  },
  "language_info": {
   "codemirror_mode": {
    "name": "ipython",
    "version": 3
   },
   "file_extension": ".py",
   "mimetype": "text/x-python",
   "name": "python",
   "nbconvert_exporter": "python",
   "pygments_lexer": "ipython3",
   "version": "3.10.12"
  }
 },
 "nbformat": 4,
 "nbformat_minor": 5
}
