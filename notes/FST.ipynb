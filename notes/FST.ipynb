{
 "cells": [
  {
   "cell_type": "markdown",
   "id": "d2d8769c-975b-4ca8-a4ba-5d7ca9dec447",
   "metadata": {},
   "source": [
    "# Token Alignment"
   ]
  },
  {
   "cell_type": "code",
   "execution_count": 6,
   "id": "3d9fb828-28ae-4f5f-8fb7-214f325dfa49",
   "metadata": {},
   "outputs": [
    {
     "name": "stdout",
     "output_type": "stream",
     "text": [
      "The autoreload extension is already loaded. To reload it, use:\n",
      "  %reload_ext autoreload\n"
     ]
    }
   ],
   "source": [
    "%load_ext autoreload\n",
    "%autoreload 2"
   ]
  },
  {
   "cell_type": "code",
   "execution_count": 7,
   "id": "988df6c8-bbb1-4a56-96c0-50ed95639b28",
   "metadata": {},
   "outputs": [],
   "source": [
    "from arsenal import iterview, timeit\n",
    "from collections import Counter\n",
    "from IPython.display import HTML"
   ]
  },
  {
   "cell_type": "code",
   "execution_count": 8,
   "id": "c989a28a-3ac9-4777-a56c-6d020f61eee7",
   "metadata": {},
   "outputs": [],
   "source": [
    "from genparse import CFG, FST, EPSILON, Float, CFGLM, add_EOS, prefix_transducer\n",
    "from genparse.cfglm import locally_normalize, EOS, pcfg_check\n",
    "from genparse.util import LarkStuff, hf_tokenizer, about, show_grammar, normalize, bpe2term_approx\n",
    "from genparse.inference import TraceSWOR"
   ]
  },
  {
   "cell_type": "code",
   "execution_count": null,
   "id": "ae1fac00-d4c9-4cd5-a2b2-362fd80caba9",
   "metadata": {},
   "outputs": [],
   "source": []
  },
  {
   "cell_type": "markdown",
   "id": "9896cdb0-2de9-4437-bb3e-e1ea804ee184",
   "metadata": {
    "jp-MarkdownHeadingCollapsed": true
   },
   "source": [
    "## Accounting for BPE's Tokenization Ambiguity with Transduction "
   ]
  },
  {
   "cell_type": "code",
   "execution_count": 9,
   "id": "c84e285f-399d-48d1-bc66-2739a1398289",
   "metadata": {},
   "outputs": [
    {
     "name": "stdout",
     "output_type": "stream",
     "text": [
      "\u001b[0;32m✔\u001b[0m PCFG\n"
     ]
    }
   ],
   "source": [
    "lark_stuff = LarkStuff(r\"\"\"\n",
    "\n",
    "start: NAME\n",
    "\n",
    "NAME: /(a|b)*c/\n",
    "\n",
    "\"\"\")\n",
    "foo = lark_stuff.char_cfg(decay=.1)\n",
    "foo = locally_normalize(foo)\n",
    "assert len(foo.trim()) > 0\n",
    "pcfg_check(foo)"
   ]
  },
  {
   "cell_type": "code",
   "execution_count": 10,
   "id": "bb1b890e-af73-4986-8a7c-505834886378",
   "metadata": {},
   "outputs": [
    {
     "data": {
      "text/html": [
       "<pre style=\"width: fit-content; text-align: left; border: thin solid black; padding: 0.5em;\">Grammar {\n",
       "  1.0: 0 → NAME\n",
       "  1.0: NAME → ('NAME', 0)\n",
       "  1.0: ('NAME', 1) → \n",
       "  0.03333333333333333: ('NAME', 0) → a ('NAME', 0)\n",
       "  0.03333333333333333: ('NAME', 0) → b ('NAME', 0)\n",
       "  0.9333333333576115: ('NAME', 0) → c ('NAME', 1)\n",
       "}</pre>"
      ],
      "text/plain": [
       "Grammar {\n",
       "  1.0: 0 → NAME\n",
       "  1.0: NAME → ('NAME', 0)\n",
       "  1.0: ('NAME', 1) → \n",
       "  0.03333333333333333: ('NAME', 0) → a ('NAME', 0)\n",
       "  0.03333333333333333: ('NAME', 0) → b ('NAME', 0)\n",
       "  0.9333333333576115: ('NAME', 0) → c ('NAME', 1)\n",
       "}"
      ]
     },
     "execution_count": 10,
     "metadata": {},
     "output_type": "execute_result"
    }
   ],
   "source": [
    "foo"
   ]
  },
  {
   "cell_type": "code",
   "execution_count": 11,
   "id": "0c6210c0-59f6-452b-99c7-a0cb33b7df9a",
   "metadata": {},
   "outputs": [
    {
     "data": {
      "text/html": [
       "<div style=\"font-family: Monospace;\"><table><tr style=\"font-weight: bold;\"><td>key</td><td>value</td></tr><tr><td>('c',)</td><td>0.9333333333576115</td> </tr><tr><td>('b', 'c')</td><td>0.031111111111920383</td> </tr><tr><td>('b', 'b', 'c')</td><td>0.0010370370370640127</td> </tr><tr><td>('b', 'a', 'c')</td><td>0.0010370370370640127</td> </tr><tr><td>('a', 'c')</td><td>0.031111111111920383</td> </tr><tr><td>('a', 'b', 'c')</td><td>0.0010370370370640127</td> </tr><tr><td>('a', 'a', 'c')</td><td>0.0010370370370640127</td> </tr></table></div>"
      ],
      "text/plain": [
       "{('c',): 0.9333333333576115, ('b', 'c'): 0.031111111111920383, ('b', 'b', 'c'): 0.0010370370370640127, ('b', 'a', 'c'): 0.0010370370370640127, ('a', 'c'): 0.031111111111920383, ('a', 'b', 'c'): 0.0010370370370640127, ('a', 'a', 'c'): 0.0010370370370640127}"
      ]
     },
     "execution_count": 11,
     "metadata": {},
     "output_type": "execute_result"
    }
   ],
   "source": [
    "foo.cnf.language(3)"
   ]
  },
  {
   "cell_type": "code",
   "execution_count": 12,
   "id": "2a198bd4-ab33-429b-a5c8-46487410a4f6",
   "metadata": {},
   "outputs": [],
   "source": [
    "lm = CFGLM(add_EOS(foo))"
   ]
  },
  {
   "cell_type": "code",
   "execution_count": 13,
   "id": "b7ae3d3c-02d9-47f7-a025-0c934c42c35c",
   "metadata": {},
   "outputs": [
    {
     "name": "stdout",
     "output_type": "stream",
     "text": [
      "0 ['c']\n",
      "1 ['a', 'c']\n",
      "2 ['b', 'c']\n",
      "3 ['a', 'a', 'c']\n",
      "4 ['b', 'b', 'c']\n",
      "5 ['b', 'a', 'c']\n",
      "6 ['a', 'b', 'c']\n",
      "7 ['a', 'b', 'b', 'c']\n",
      "8 ['a', 'a', 'a', 'c']\n",
      "9 ['a', 'a', 'b', 'c']\n",
      "10 ['b', 'a', 'a', 'c']\n",
      "11 ['a', 'b', 'a', 'c']\n",
      "12 ['b', 'b', 'a', 'c']\n",
      "13 ['b', 'a', 'b', 'c']\n",
      "14 ['b', 'b', 'b', 'c']\n"
     ]
    }
   ],
   "source": [
    "trace = TraceSWOR()\n",
    "for t in range(15):\n",
    "    with trace:\n",
    "        print(t, lm.sample(draw=trace))"
   ]
  },
  {
   "cell_type": "code",
   "execution_count": 14,
   "id": "4e46c45e-00c4-4d81-93a4-875c042bc092",
   "metadata": {},
   "outputs": [
    {
     "name": "stdout",
     "output_type": "stream",
     "text": [
      "states: 369588, trim: 369588\n"
     ]
    }
   ],
   "source": [
    "H = hf_tokenizer()\n",
    "about(H.fst)"
   ]
  },
  {
   "cell_type": "markdown",
   "id": "9cb7dea7-788c-4002-bac9-7f7249852acb",
   "metadata": {},
   "source": [
    "Let's shrink the BPE transducer down to something managable by limiting it alphabet "
   ]
  },
  {
   "cell_type": "code",
   "execution_count": 15,
   "id": "ec6f862e-9096-4ede-ba35-c632bdf2a1e5",
   "metadata": {},
   "outputs": [
    {
     "name": "stdout",
     "output_type": "stream",
     "text": [
      "states: 78, trim: 78\n"
     ]
    }
   ],
   "source": [
    "b2c = H.fst.prune_to_alphabet(None, foo.V | {''}).renumber\n",
    "about(b2c)"
   ]
  },
  {
   "cell_type": "code",
   "execution_count": 16,
   "id": "e1007c22-7c76-448d-a5ba-e121a2efc8ed",
   "metadata": {},
   "outputs": [],
   "source": [
    "#b2c"
   ]
  },
  {
   "cell_type": "markdown",
   "id": "9b03ac6d-e5bd-4b66-8516-5b01eb56e7b5",
   "metadata": {},
   "source": [
    "We can look at our little language's strings thru the lense of their possible BPE sequences.  Notice that these strings are ambiguously mapped to BPE --- meaning that there are many BPE sequences that would give rise to the same string!"
   ]
  },
  {
   "cell_type": "code",
   "execution_count": 17,
   "id": "63583038-d333-48a6-8e53-4403df9b9194",
   "metadata": {},
   "outputs": [
    {
     "name": "stdout",
     "output_type": "stream",
     "text": [
      "('c',)\n",
      "total weight of BPE sequences: 1.0\n"
     ]
    },
    {
     "data": {
      "image/svg+xml": [
       "<?xml version=\"1.0\" encoding=\"UTF-8\" standalone=\"no\"?>\n",
       "<!DOCTYPE svg PUBLIC \"-//W3C//DTD SVG 1.1//EN\"\n",
       " \"http://www.w3.org/Graphics/SVG/1.1/DTD/svg11.dtd\">\n",
       "<!-- Generated by graphviz version 2.43.0 (0)\n",
       " -->\n",
       "<!-- Title: %3 Pages: 1 -->\n",
       "<svg width=\"181pt\" height=\"26pt\"\n",
       " viewBox=\"0.00 0.00 181.11 25.78\" xmlns=\"http://www.w3.org/2000/svg\" xmlns:xlink=\"http://www.w3.org/1999/xlink\">\n",
       "<g id=\"graph0\" class=\"graph\" transform=\"scale(1 1) rotate(0) translate(4 21.78)\">\n",
       "<title>%3</title>\n",
       "<polygon fill=\"white\" stroke=\"transparent\" points=\"-4,4 -4,-21.78 177.11,-21.78 177.11,4 -4,4\"/>\n",
       "<!-- start_(0, (0, ())) -->\n",
       "<g id=\"node1\" class=\"node\">\n",
       "<title>start_(0, (0, ()))</title>\n",
       "<ellipse fill=\"black\" stroke=\"black\" cx=\"0\" cy=\"-7.78\" rx=\"0\" ry=\"0\"/>\n",
       "</g>\n",
       "<!-- 0 -->\n",
       "<g id=\"node2\" class=\"node\">\n",
       "<title>0</title>\n",
       "<ellipse fill=\"none\" stroke=\"black\" cx=\"49.78\" cy=\"-7.78\" rx=\"7.56\" ry=\"7.56\"/>\n",
       "<text text-anchor=\"middle\" x=\"49.78\" y=\"-5.28\" font-family=\"Monospace\" font-size=\"10.00\"> </text>\n",
       "</g>\n",
       "<!-- start_(0, (0, ()))&#45;&gt;0 -->\n",
       "<g id=\"edge1\" class=\"edge\">\n",
       "<title>start_(0, (0, ()))&#45;&gt;0</title>\n",
       "<path fill=\"none\" stroke=\"black\" d=\"M1.14,-7.78C3.07,-7.78 25.11,-7.78 38.52,-7.78\"/>\n",
       "<polygon fill=\"black\" stroke=\"black\" points=\"38.73,-8.83 41.73,-7.78 38.73,-6.73 38.73,-8.83\"/>\n",
       "<text text-anchor=\"middle\" x=\"21\" y=\"-10.58\" font-family=\"Monospace\" font-size=\"9.00\">1</text>\n",
       "</g>\n",
       "<!-- 1 -->\n",
       "<g id=\"node3\" class=\"node\">\n",
       "<title>1</title>\n",
       "<ellipse fill=\"none\" stroke=\"black\" cx=\"123.33\" cy=\"-7.78\" rx=\"7.56\" ry=\"7.56\"/>\n",
       "<text text-anchor=\"middle\" x=\"123.33\" y=\"-5.28\" font-family=\"Monospace\" font-size=\"10.00\"> </text>\n",
       "</g>\n",
       "<!-- 0&#45;&gt;1 -->\n",
       "<g id=\"edge3\" class=\"edge\">\n",
       "<title>0&#45;&gt;1</title>\n",
       "<path fill=\"none\" stroke=\"black\" d=\"M57.64,-7.78C70.26,-7.78 97.21,-7.78 112.03,-7.78\"/>\n",
       "<polygon fill=\"black\" stroke=\"black\" points=\"112.18,-8.83 115.18,-7.78 112.18,-6.73 112.18,-8.83\"/>\n",
       "<text text-anchor=\"middle\" x=\"86.56\" y=\"-10.58\" font-family=\"Monospace\" font-size=\"9.00\">66/1</text>\n",
       "</g>\n",
       "<!-- stop_(1, (2, (&#39;c&#39;,))) -->\n",
       "<g id=\"node4\" class=\"node\">\n",
       "<title>stop_(1, (2, (&#39;c&#39;,)))</title>\n",
       "<ellipse fill=\"black\" stroke=\"black\" cx=\"173.11\" cy=\"-7.78\" rx=\"0\" ry=\"0\"/>\n",
       "</g>\n",
       "<!-- 1&#45;&gt;stop_(1, (2, (&#39;c&#39;,))) -->\n",
       "<g id=\"edge2\" class=\"edge\">\n",
       "<title>1&#45;&gt;stop_(1, (2, (&#39;c&#39;,)))</title>\n",
       "<path fill=\"none\" stroke=\"black\" d=\"M131.38,-7.78C141.85,-7.78 161.07,-7.78 168.78,-7.78\"/>\n",
       "<polygon fill=\"black\" stroke=\"black\" points=\"169.03,-8.83 172.03,-7.78 169.03,-6.73 169.03,-8.83\"/>\n",
       "<text text-anchor=\"middle\" x=\"152.11\" y=\"-10.58\" font-family=\"Monospace\" font-size=\"9.00\">1</text>\n",
       "</g>\n",
       "</g>\n",
       "</svg>\n"
      ],
      "text/plain": [
       "WFSA(2 states)"
      ]
     },
     "metadata": {},
     "output_type": "display_data"
    },
    {
     "name": "stdout",
     "output_type": "stream",
     "text": [
      "\n",
      "('b', 'c')\n",
      "total weight of BPE sequences: 2.0\n"
     ]
    },
    {
     "data": {
      "image/svg+xml": [
       "<?xml version=\"1.0\" encoding=\"UTF-8\" standalone=\"no\"?>\n",
       "<!DOCTYPE svg PUBLIC \"-//W3C//DTD SVG 1.1//EN\"\n",
       " \"http://www.w3.org/Graphics/SVG/1.1/DTD/svg11.dtd\">\n",
       "<!-- Generated by graphviz version 2.43.0 (0)\n",
       " -->\n",
       "<!-- Title: %3 Pages: 1 -->\n",
       "<svg width=\"276pt\" height=\"44pt\"\n",
       " viewBox=\"0.00 0.00 276.11 43.66\" xmlns=\"http://www.w3.org/2000/svg\" xmlns:xlink=\"http://www.w3.org/1999/xlink\">\n",
       "<g id=\"graph0\" class=\"graph\" transform=\"scale(1 1) rotate(0) translate(4 39.66)\">\n",
       "<title>%3</title>\n",
       "<polygon fill=\"white\" stroke=\"transparent\" points=\"-4,4 -4,-39.66 272.11,-39.66 272.11,4 -4,4\"/>\n",
       "<!-- start_(0, (0, ())) -->\n",
       "<g id=\"node1\" class=\"node\">\n",
       "<title>start_(0, (0, ()))</title>\n",
       "<ellipse fill=\"black\" stroke=\"black\" cx=\"0\" cy=\"-7.88\" rx=\"0\" ry=\"0\"/>\n",
       "</g>\n",
       "<!-- 0 -->\n",
       "<g id=\"node2\" class=\"node\">\n",
       "<title>0</title>\n",
       "<ellipse fill=\"none\" stroke=\"black\" cx=\"49.78\" cy=\"-7.88\" rx=\"7.56\" ry=\"7.56\"/>\n",
       "<text text-anchor=\"middle\" x=\"49.78\" y=\"-5.38\" font-family=\"Monospace\" font-size=\"10.00\"> </text>\n",
       "</g>\n",
       "<!-- start_(0, (0, ()))&#45;&gt;0 -->\n",
       "<g id=\"edge1\" class=\"edge\">\n",
       "<title>start_(0, (0, ()))&#45;&gt;0</title>\n",
       "<path fill=\"none\" stroke=\"black\" d=\"M1.14,-7.88C3.07,-7.88 25.11,-7.88 38.52,-7.88\"/>\n",
       "<polygon fill=\"black\" stroke=\"black\" points=\"38.73,-8.93 41.73,-7.88 38.73,-6.83 38.73,-8.93\"/>\n",
       "<text text-anchor=\"middle\" x=\"21\" y=\"-10.68\" font-family=\"Monospace\" font-size=\"9.00\">1</text>\n",
       "</g>\n",
       "<!-- 1 -->\n",
       "<g id=\"node3\" class=\"node\">\n",
       "<title>1</title>\n",
       "<ellipse fill=\"none\" stroke=\"black\" cx=\"134.06\" cy=\"-27.88\" rx=\"7.56\" ry=\"7.56\"/>\n",
       "<text text-anchor=\"middle\" x=\"134.06\" y=\"-25.38\" font-family=\"Monospace\" font-size=\"10.00\"> </text>\n",
       "</g>\n",
       "<!-- 0&#45;&gt;1 -->\n",
       "<g id=\"edge3\" class=\"edge\">\n",
       "<title>0&#45;&gt;1</title>\n",
       "<path fill=\"none\" stroke=\"black\" d=\"M57.51,-9.52C71.9,-13.02 105.74,-21.24 122.82,-25.4\"/>\n",
       "<polygon fill=\"black\" stroke=\"black\" points=\"122.83,-26.48 126,-26.17 123.33,-24.44 122.83,-26.48\"/>\n",
       "<text text-anchor=\"middle\" x=\"86.56\" y=\"-22.68\" font-family=\"Monospace\" font-size=\"9.00\">65/1</text>\n",
       "</g>\n",
       "<!-- 2 -->\n",
       "<g id=\"node4\" class=\"node\">\n",
       "<title>2</title>\n",
       "<ellipse fill=\"none\" stroke=\"black\" cx=\"218.33\" cy=\"-7.88\" rx=\"7.56\" ry=\"7.56\"/>\n",
       "<text text-anchor=\"middle\" x=\"218.33\" y=\"-5.38\" font-family=\"Monospace\" font-size=\"10.00\"> </text>\n",
       "</g>\n",
       "<!-- 0&#45;&gt;2 -->\n",
       "<g id=\"edge4\" class=\"edge\">\n",
       "<title>0&#45;&gt;2</title>\n",
       "<path fill=\"none\" stroke=\"black\" d=\"M57.57,-6.91C69.34,-5.27 94.32,-2.03 115.56,-0.88 131.98,0 136.14,0 152.56,-0.88 172.13,-1.94 194.89,-4.77 207.55,-6.5\"/>\n",
       "<polygon fill=\"black\" stroke=\"black\" points=\"207.43,-7.54 210.55,-6.91 207.72,-5.46 207.43,-7.54\"/>\n",
       "<text text-anchor=\"middle\" x=\"134.06\" y=\"-3.68\" font-family=\"Monospace\" font-size=\"9.00\">15630/1</text>\n",
       "</g>\n",
       "<!-- 1&#45;&gt;2 -->\n",
       "<g id=\"edge5\" class=\"edge\">\n",
       "<title>1&#45;&gt;2</title>\n",
       "<path fill=\"none\" stroke=\"black\" d=\"M141.79,-26.25C156.18,-22.75 190.02,-14.52 207.09,-10.37\"/>\n",
       "<polygon fill=\"black\" stroke=\"black\" points=\"207.61,-11.33 210.28,-9.6 207.11,-9.29 207.61,-11.33\"/>\n",
       "<text text-anchor=\"middle\" x=\"181.56\" y=\"-22.68\" font-family=\"Monospace\" font-size=\"9.00\">66/1</text>\n",
       "</g>\n",
       "<!-- stop_(1, (2, (&#39;b&#39;, &#39;c&#39;))) -->\n",
       "<g id=\"node5\" class=\"node\">\n",
       "<title>stop_(1, (2, (&#39;b&#39;, &#39;c&#39;)))</title>\n",
       "<ellipse fill=\"black\" stroke=\"black\" cx=\"268.11\" cy=\"-7.88\" rx=\"0\" ry=\"0\"/>\n",
       "</g>\n",
       "<!-- 2&#45;&gt;stop_(1, (2, (&#39;b&#39;, &#39;c&#39;))) -->\n",
       "<g id=\"edge2\" class=\"edge\">\n",
       "<title>2&#45;&gt;stop_(1, (2, (&#39;b&#39;, &#39;c&#39;)))</title>\n",
       "<path fill=\"none\" stroke=\"black\" d=\"M226.38,-7.88C236.85,-7.88 256.07,-7.88 263.78,-7.88\"/>\n",
       "<polygon fill=\"black\" stroke=\"black\" points=\"264.03,-8.93 267.03,-7.88 264.03,-6.83 264.03,-8.93\"/>\n",
       "<text text-anchor=\"middle\" x=\"247.11\" y=\"-10.68\" font-family=\"Monospace\" font-size=\"9.00\">1</text>\n",
       "</g>\n",
       "</g>\n",
       "</svg>\n"
      ],
      "text/plain": [
       "WFSA(3 states)"
      ]
     },
     "metadata": {},
     "output_type": "display_data"
    },
    {
     "name": "stdout",
     "output_type": "stream",
     "text": [
      "\n",
      "('b', 'b', 'c')\n",
      "total weight of BPE sequences: 3.0\n"
     ]
    },
    {
     "data": {
      "image/svg+xml": [
       "<?xml version=\"1.0\" encoding=\"UTF-8\" standalone=\"no\"?>\n",
       "<!DOCTYPE svg PUBLIC \"-//W3C//DTD SVG 1.1//EN\"\n",
       " \"http://www.w3.org/Graphics/SVG/1.1/DTD/svg11.dtd\">\n",
       "<!-- Generated by graphviz version 2.43.0 (0)\n",
       " -->\n",
       "<!-- Title: %3 Pages: 1 -->\n",
       "<svg width=\"371pt\" height=\"58pt\"\n",
       " viewBox=\"0.00 0.00 371.11 57.78\" xmlns=\"http://www.w3.org/2000/svg\" xmlns:xlink=\"http://www.w3.org/1999/xlink\">\n",
       "<g id=\"graph0\" class=\"graph\" transform=\"scale(1 1) rotate(0) translate(4 53.78)\">\n",
       "<title>%3</title>\n",
       "<polygon fill=\"white\" stroke=\"transparent\" points=\"-4,4 -4,-53.78 367.11,-53.78 367.11,4 -4,4\"/>\n",
       "<!-- start_(0, (0, ())) -->\n",
       "<g id=\"node1\" class=\"node\">\n",
       "<title>start_(0, (0, ()))</title>\n",
       "<ellipse fill=\"black\" stroke=\"black\" cx=\"0\" cy=\"-9.78\" rx=\"0\" ry=\"0\"/>\n",
       "</g>\n",
       "<!-- 0 -->\n",
       "<g id=\"node2\" class=\"node\">\n",
       "<title>0</title>\n",
       "<ellipse fill=\"none\" stroke=\"black\" cx=\"49.78\" cy=\"-9.78\" rx=\"7.56\" ry=\"7.56\"/>\n",
       "<text text-anchor=\"middle\" x=\"49.78\" y=\"-7.28\" font-family=\"Monospace\" font-size=\"10.00\"> </text>\n",
       "</g>\n",
       "<!-- start_(0, (0, ()))&#45;&gt;0 -->\n",
       "<g id=\"edge1\" class=\"edge\">\n",
       "<title>start_(0, (0, ()))&#45;&gt;0</title>\n",
       "<path fill=\"none\" stroke=\"black\" d=\"M1.14,-9.78C3.07,-9.78 25.11,-9.78 38.52,-9.78\"/>\n",
       "<polygon fill=\"black\" stroke=\"black\" points=\"38.73,-10.83 41.73,-9.78 38.73,-8.73 38.73,-10.83\"/>\n",
       "<text text-anchor=\"middle\" x=\"21\" y=\"-12.58\" font-family=\"Monospace\" font-size=\"9.00\">1</text>\n",
       "</g>\n",
       "<!-- 2 -->\n",
       "<g id=\"node4\" class=\"node\">\n",
       "<title>2</title>\n",
       "<ellipse fill=\"none\" stroke=\"black\" cx=\"134.06\" cy=\"-29.78\" rx=\"7.56\" ry=\"7.56\"/>\n",
       "<text text-anchor=\"middle\" x=\"134.06\" y=\"-27.28\" font-family=\"Monospace\" font-size=\"10.00\"> </text>\n",
       "</g>\n",
       "<!-- 0&#45;&gt;2 -->\n",
       "<g id=\"edge3\" class=\"edge\">\n",
       "<title>0&#45;&gt;2</title>\n",
       "<path fill=\"none\" stroke=\"black\" d=\"M57.51,-11.41C71.9,-14.91 105.74,-23.14 122.82,-27.29\"/>\n",
       "<polygon fill=\"black\" stroke=\"black\" points=\"122.83,-28.37 126,-28.06 123.33,-26.33 122.83,-28.37\"/>\n",
       "<text text-anchor=\"middle\" x=\"86.56\" y=\"-24.58\" font-family=\"Monospace\" font-size=\"9.00\">65/1</text>\n",
       "</g>\n",
       "<!-- 3 -->\n",
       "<g id=\"node5\" class=\"node\">\n",
       "<title>3</title>\n",
       "<ellipse fill=\"none\" stroke=\"black\" cx=\"229.06\" cy=\"-7.78\" rx=\"7.56\" ry=\"7.56\"/>\n",
       "<text text-anchor=\"middle\" x=\"229.06\" y=\"-5.28\" font-family=\"Monospace\" font-size=\"10.00\"> </text>\n",
       "</g>\n",
       "<!-- 0&#45;&gt;3 -->\n",
       "<g id=\"edge4\" class=\"edge\">\n",
       "<title>0&#45;&gt;3</title>\n",
       "<path fill=\"none\" stroke=\"black\" d=\"M57.57,-8.8C69.34,-7.16 94.32,-3.92 115.56,-2.78 153.39,-0.74 198.41,-4.65 218.06,-6.67\"/>\n",
       "<polygon fill=\"black\" stroke=\"black\" points=\"218.11,-7.74 221.21,-7.01 218.33,-5.65 218.11,-7.74\"/>\n",
       "<text text-anchor=\"middle\" x=\"134.06\" y=\"-5.58\" font-family=\"Monospace\" font-size=\"9.00\">11848/1</text>\n",
       "</g>\n",
       "<!-- 1 -->\n",
       "<g id=\"node3\" class=\"node\">\n",
       "<title>1</title>\n",
       "<ellipse fill=\"none\" stroke=\"black\" cx=\"313.33\" cy=\"-29.78\" rx=\"7.56\" ry=\"7.56\"/>\n",
       "<text text-anchor=\"middle\" x=\"313.33\" y=\"-27.28\" font-family=\"Monospace\" font-size=\"10.00\"> </text>\n",
       "</g>\n",
       "<!-- stop_(1, (2, (&#39;b&#39;, &#39;b&#39;, &#39;c&#39;))) -->\n",
       "<g id=\"node6\" class=\"node\">\n",
       "<title>stop_(1, (2, (&#39;b&#39;, &#39;b&#39;, &#39;c&#39;)))</title>\n",
       "<ellipse fill=\"black\" stroke=\"black\" cx=\"363.11\" cy=\"-29.78\" rx=\"0\" ry=\"0\"/>\n",
       "</g>\n",
       "<!-- 1&#45;&gt;stop_(1, (2, (&#39;b&#39;, &#39;b&#39;, &#39;c&#39;))) -->\n",
       "<g id=\"edge2\" class=\"edge\">\n",
       "<title>1&#45;&gt;stop_(1, (2, (&#39;b&#39;, &#39;b&#39;, &#39;c&#39;)))</title>\n",
       "<path fill=\"none\" stroke=\"black\" d=\"M321.38,-29.78C331.85,-29.78 351.07,-29.78 358.78,-29.78\"/>\n",
       "<polygon fill=\"black\" stroke=\"black\" points=\"359.03,-30.83 362.03,-29.78 359.03,-28.73 359.03,-30.83\"/>\n",
       "<text text-anchor=\"middle\" x=\"342.11\" y=\"-32.58\" font-family=\"Monospace\" font-size=\"9.00\">1</text>\n",
       "</g>\n",
       "<!-- 2&#45;&gt;1 -->\n",
       "<g id=\"edge6\" class=\"edge\">\n",
       "<title>2&#45;&gt;1</title>\n",
       "<path fill=\"none\" stroke=\"black\" d=\"M141.84,-30.98C148.96,-32.18 160.51,-33.97 170.56,-34.78 222.4,-38.96 236.04,-43.92 287.56,-36.78 292.59,-36.08 298.05,-34.62 302.55,-33.21\"/>\n",
       "<polygon fill=\"black\" stroke=\"black\" points=\"302.97,-34.18 305.5,-32.26 302.32,-32.18 302.97,-34.18\"/>\n",
       "<text text-anchor=\"middle\" x=\"229.06\" y=\"-42.58\" font-family=\"Monospace\" font-size=\"9.00\">15630/1</text>\n",
       "</g>\n",
       "<!-- 2&#45;&gt;3 -->\n",
       "<g id=\"edge5\" class=\"edge\">\n",
       "<title>2&#45;&gt;3</title>\n",
       "<path fill=\"none\" stroke=\"black\" d=\"M141.74,-28.2C157.97,-24.36 199.45,-14.54 218.38,-10.07\"/>\n",
       "<polygon fill=\"black\" stroke=\"black\" points=\"218.75,-11.06 221.43,-9.35 218.27,-9.01 218.75,-11.06\"/>\n",
       "<text text-anchor=\"middle\" x=\"181.56\" y=\"-23.58\" font-family=\"Monospace\" font-size=\"9.00\">65/1</text>\n",
       "</g>\n",
       "<!-- 3&#45;&gt;1 -->\n",
       "<g id=\"edge7\" class=\"edge\">\n",
       "<title>3&#45;&gt;1</title>\n",
       "<path fill=\"none\" stroke=\"black\" d=\"M236.79,-9.58C251.33,-13.47 285.7,-22.66 302.6,-27.18\"/>\n",
       "<polygon fill=\"black\" stroke=\"black\" points=\"302.57,-28.25 305.74,-28.01 303.11,-26.23 302.57,-28.25\"/>\n",
       "<text text-anchor=\"middle\" x=\"276.56\" y=\"-25.58\" font-family=\"Monospace\" font-size=\"9.00\">66/1</text>\n",
       "</g>\n",
       "</g>\n",
       "</svg>\n"
      ],
      "text/plain": [
       "WFSA(4 states)"
      ]
     },
     "metadata": {},
     "output_type": "display_data"
    },
    {
     "name": "stdout",
     "output_type": "stream",
     "text": [
      "\n",
      "('b', 'a', 'c')\n",
      "total weight of BPE sequences: 3.0\n"
     ]
    },
    {
     "data": {
      "image/svg+xml": [
       "<?xml version=\"1.0\" encoding=\"UTF-8\" standalone=\"no\"?>\n",
       "<!DOCTYPE svg PUBLIC \"-//W3C//DTD SVG 1.1//EN\"\n",
       " \"http://www.w3.org/Graphics/SVG/1.1/DTD/svg11.dtd\">\n",
       "<!-- Generated by graphviz version 2.43.0 (0)\n",
       " -->\n",
       "<!-- Title: %3 Pages: 1 -->\n",
       "<svg width=\"356pt\" height=\"58pt\"\n",
       " viewBox=\"0.00 0.00 356.11 57.78\" xmlns=\"http://www.w3.org/2000/svg\" xmlns:xlink=\"http://www.w3.org/1999/xlink\">\n",
       "<g id=\"graph0\" class=\"graph\" transform=\"scale(1 1) rotate(0) translate(4 53.78)\">\n",
       "<title>%3</title>\n",
       "<polygon fill=\"white\" stroke=\"transparent\" points=\"-4,4 -4,-53.78 352.11,-53.78 352.11,4 -4,4\"/>\n",
       "<!-- start_(0, (0, ())) -->\n",
       "<g id=\"node1\" class=\"node\">\n",
       "<title>start_(0, (0, ()))</title>\n",
       "<ellipse fill=\"black\" stroke=\"black\" cx=\"0\" cy=\"-9.78\" rx=\"0\" ry=\"0\"/>\n",
       "</g>\n",
       "<!-- 0 -->\n",
       "<g id=\"node2\" class=\"node\">\n",
       "<title>0</title>\n",
       "<ellipse fill=\"none\" stroke=\"black\" cx=\"49.78\" cy=\"-9.78\" rx=\"7.56\" ry=\"7.56\"/>\n",
       "<text text-anchor=\"middle\" x=\"49.78\" y=\"-7.28\" font-family=\"Monospace\" font-size=\"10.00\"> </text>\n",
       "</g>\n",
       "<!-- start_(0, (0, ()))&#45;&gt;0 -->\n",
       "<g id=\"edge1\" class=\"edge\">\n",
       "<title>start_(0, (0, ()))&#45;&gt;0</title>\n",
       "<path fill=\"none\" stroke=\"black\" d=\"M1.14,-9.78C3.07,-9.78 25.11,-9.78 38.52,-9.78\"/>\n",
       "<polygon fill=\"black\" stroke=\"black\" points=\"38.73,-10.83 41.73,-9.78 38.73,-8.73 38.73,-10.83\"/>\n",
       "<text text-anchor=\"middle\" x=\"21\" y=\"-12.58\" font-family=\"Monospace\" font-size=\"9.00\">1</text>\n",
       "</g>\n",
       "<!-- 1 -->\n",
       "<g id=\"node3\" class=\"node\">\n",
       "<title>1</title>\n",
       "<ellipse fill=\"none\" stroke=\"black\" cx=\"131.56\" cy=\"-29.78\" rx=\"7.56\" ry=\"7.56\"/>\n",
       "<text text-anchor=\"middle\" x=\"131.56\" y=\"-27.28\" font-family=\"Monospace\" font-size=\"10.00\"> </text>\n",
       "</g>\n",
       "<!-- 0&#45;&gt;1 -->\n",
       "<g id=\"edge3\" class=\"edge\">\n",
       "<title>0&#45;&gt;1</title>\n",
       "<path fill=\"none\" stroke=\"black\" d=\"M57.58,-11.48C71.71,-15.03 104.29,-23.19 120.71,-27.31\"/>\n",
       "<polygon fill=\"black\" stroke=\"black\" points=\"120.61,-28.37 123.77,-28.08 121.12,-26.33 120.61,-28.37\"/>\n",
       "<text text-anchor=\"middle\" x=\"86.56\" y=\"-24.58\" font-family=\"Monospace\" font-size=\"9.00\">65/1</text>\n",
       "</g>\n",
       "<!-- 2 -->\n",
       "<g id=\"node4\" class=\"node\">\n",
       "<title>2</title>\n",
       "<ellipse fill=\"none\" stroke=\"black\" cx=\"219.06\" cy=\"-7.78\" rx=\"7.56\" ry=\"7.56\"/>\n",
       "<text text-anchor=\"middle\" x=\"219.06\" y=\"-5.28\" font-family=\"Monospace\" font-size=\"10.00\"> </text>\n",
       "</g>\n",
       "<!-- 0&#45;&gt;2 -->\n",
       "<g id=\"edge4\" class=\"edge\">\n",
       "<title>0&#45;&gt;2</title>\n",
       "<path fill=\"none\" stroke=\"black\" d=\"M57.57,-8.8C69.34,-7.16 94.32,-3.92 115.56,-2.78 149.25,-0.96 189.18,-4.57 207.69,-6.57\"/>\n",
       "<polygon fill=\"black\" stroke=\"black\" points=\"208,-7.66 211.1,-6.95 208.23,-5.57 208,-7.66\"/>\n",
       "<text text-anchor=\"middle\" x=\"131.56\" y=\"-5.58\" font-family=\"Monospace\" font-size=\"9.00\">7012/1</text>\n",
       "</g>\n",
       "<!-- 1&#45;&gt;2 -->\n",
       "<g id=\"edge5\" class=\"edge\">\n",
       "<title>1&#45;&gt;2</title>\n",
       "<path fill=\"none\" stroke=\"black\" d=\"M139.27,-28.05C154.18,-24.22 190.14,-14.96 207.85,-10.4\"/>\n",
       "<polygon fill=\"black\" stroke=\"black\" points=\"208.5,-11.32 211.14,-9.56 207.97,-9.29 208.5,-11.32\"/>\n",
       "<text text-anchor=\"middle\" x=\"176.56\" y=\"-23.58\" font-family=\"Monospace\" font-size=\"9.00\">64/1</text>\n",
       "</g>\n",
       "<!-- 3 -->\n",
       "<g id=\"node5\" class=\"node\">\n",
       "<title>3</title>\n",
       "<ellipse fill=\"none\" stroke=\"black\" cx=\"298.33\" cy=\"-29.78\" rx=\"7.56\" ry=\"7.56\"/>\n",
       "<text text-anchor=\"middle\" x=\"298.33\" y=\"-27.28\" font-family=\"Monospace\" font-size=\"10.00\"> </text>\n",
       "</g>\n",
       "<!-- 1&#45;&gt;3 -->\n",
       "<g id=\"edge6\" class=\"edge\">\n",
       "<title>1&#45;&gt;3</title>\n",
       "<path fill=\"none\" stroke=\"black\" d=\"M139.35,-31.07C146,-32.26 156.44,-33.98 165.56,-34.78 212.94,-38.91 225.44,-43.31 272.56,-36.78 277.59,-36.08 283.05,-34.62 287.55,-33.21\"/>\n",
       "<polygon fill=\"black\" stroke=\"black\" points=\"287.97,-34.18 290.5,-32.26 287.32,-32.18 287.97,-34.18\"/>\n",
       "<text text-anchor=\"middle\" x=\"219.06\" y=\"-42.58\" font-family=\"Monospace\" font-size=\"9.00\">330/1</text>\n",
       "</g>\n",
       "<!-- 2&#45;&gt;3 -->\n",
       "<g id=\"edge7\" class=\"edge\">\n",
       "<title>2&#45;&gt;3</title>\n",
       "<path fill=\"none\" stroke=\"black\" d=\"M226.65,-9.65C240.33,-13.55 271.89,-22.53 287.8,-27.06\"/>\n",
       "<polygon fill=\"black\" stroke=\"black\" points=\"287.59,-28.1 290.76,-27.91 288.16,-26.08 287.59,-28.1\"/>\n",
       "<text text-anchor=\"middle\" x=\"261.56\" y=\"-25.58\" font-family=\"Monospace\" font-size=\"9.00\">66/1</text>\n",
       "</g>\n",
       "<!-- stop_(1, (2, (&#39;b&#39;, &#39;a&#39;, &#39;c&#39;))) -->\n",
       "<g id=\"node6\" class=\"node\">\n",
       "<title>stop_(1, (2, (&#39;b&#39;, &#39;a&#39;, &#39;c&#39;)))</title>\n",
       "<ellipse fill=\"black\" stroke=\"black\" cx=\"348.11\" cy=\"-29.78\" rx=\"0\" ry=\"0\"/>\n",
       "</g>\n",
       "<!-- 3&#45;&gt;stop_(1, (2, (&#39;b&#39;, &#39;a&#39;, &#39;c&#39;))) -->\n",
       "<g id=\"edge2\" class=\"edge\">\n",
       "<title>3&#45;&gt;stop_(1, (2, (&#39;b&#39;, &#39;a&#39;, &#39;c&#39;)))</title>\n",
       "<path fill=\"none\" stroke=\"black\" d=\"M306.38,-29.78C316.85,-29.78 336.07,-29.78 343.78,-29.78\"/>\n",
       "<polygon fill=\"black\" stroke=\"black\" points=\"344.03,-30.83 347.03,-29.78 344.03,-28.73 344.03,-30.83\"/>\n",
       "<text text-anchor=\"middle\" x=\"327.11\" y=\"-32.58\" font-family=\"Monospace\" font-size=\"9.00\">1</text>\n",
       "</g>\n",
       "</g>\n",
       "</svg>\n"
      ],
      "text/plain": [
       "WFSA(4 states)"
      ]
     },
     "metadata": {},
     "output_type": "display_data"
    },
    {
     "name": "stdout",
     "output_type": "stream",
     "text": [
      "\n",
      "('a', 'c')\n",
      "total weight of BPE sequences: 2.0\n"
     ]
    },
    {
     "data": {
      "image/svg+xml": [
       "<?xml version=\"1.0\" encoding=\"UTF-8\" standalone=\"no\"?>\n",
       "<!DOCTYPE svg PUBLIC \"-//W3C//DTD SVG 1.1//EN\"\n",
       " \"http://www.w3.org/Graphics/SVG/1.1/DTD/svg11.dtd\">\n",
       "<!-- Generated by graphviz version 2.43.0 (0)\n",
       " -->\n",
       "<!-- Title: %3 Pages: 1 -->\n",
       "<svg width=\"266pt\" height=\"44pt\"\n",
       " viewBox=\"0.00 0.00 266.11 43.63\" xmlns=\"http://www.w3.org/2000/svg\" xmlns:xlink=\"http://www.w3.org/1999/xlink\">\n",
       "<g id=\"graph0\" class=\"graph\" transform=\"scale(1 1) rotate(0) translate(4 39.63)\">\n",
       "<title>%3</title>\n",
       "<polygon fill=\"white\" stroke=\"transparent\" points=\"-4,4 -4,-39.63 262.11,-39.63 262.11,4 -4,4\"/>\n",
       "<!-- start_(0, (0, ())) -->\n",
       "<g id=\"node1\" class=\"node\">\n",
       "<title>start_(0, (0, ()))</title>\n",
       "<ellipse fill=\"black\" stroke=\"black\" cx=\"0\" cy=\"-7.85\" rx=\"0\" ry=\"0\"/>\n",
       "</g>\n",
       "<!-- 0 -->\n",
       "<g id=\"node2\" class=\"node\">\n",
       "<title>0</title>\n",
       "<ellipse fill=\"none\" stroke=\"black\" cx=\"49.78\" cy=\"-7.85\" rx=\"7.56\" ry=\"7.56\"/>\n",
       "<text text-anchor=\"middle\" x=\"49.78\" y=\"-5.35\" font-family=\"Monospace\" font-size=\"10.00\"> </text>\n",
       "</g>\n",
       "<!-- start_(0, (0, ()))&#45;&gt;0 -->\n",
       "<g id=\"edge1\" class=\"edge\">\n",
       "<title>start_(0, (0, ()))&#45;&gt;0</title>\n",
       "<path fill=\"none\" stroke=\"black\" d=\"M1.14,-7.85C3.07,-7.85 25.11,-7.85 38.52,-7.85\"/>\n",
       "<polygon fill=\"black\" stroke=\"black\" points=\"38.73,-8.9 41.73,-7.85 38.73,-6.8 38.73,-8.9\"/>\n",
       "<text text-anchor=\"middle\" x=\"21\" y=\"-10.65\" font-family=\"Monospace\" font-size=\"9.00\">1</text>\n",
       "</g>\n",
       "<!-- 1 -->\n",
       "<g id=\"node3\" class=\"node\">\n",
       "<title>1</title>\n",
       "<ellipse fill=\"none\" stroke=\"black\" cx=\"129.06\" cy=\"-27.85\" rx=\"7.56\" ry=\"7.56\"/>\n",
       "<text text-anchor=\"middle\" x=\"129.06\" y=\"-25.35\" font-family=\"Monospace\" font-size=\"10.00\"> </text>\n",
       "</g>\n",
       "<!-- 0&#45;&gt;1 -->\n",
       "<g id=\"edge4\" class=\"edge\">\n",
       "<title>0&#45;&gt;1</title>\n",
       "<path fill=\"none\" stroke=\"black\" d=\"M57.64,-9.63C71.35,-13.18 102.2,-21.16 118.13,-25.28\"/>\n",
       "<polygon fill=\"black\" stroke=\"black\" points=\"117.94,-26.32 121.1,-26.05 118.46,-24.28 117.94,-26.32\"/>\n",
       "<text text-anchor=\"middle\" x=\"86.56\" y=\"-22.65\" font-family=\"Monospace\" font-size=\"9.00\">64/1</text>\n",
       "</g>\n",
       "<!-- 2 -->\n",
       "<g id=\"node4\" class=\"node\">\n",
       "<title>2</title>\n",
       "<ellipse fill=\"none\" stroke=\"black\" cx=\"208.33\" cy=\"-7.85\" rx=\"7.56\" ry=\"7.56\"/>\n",
       "<text text-anchor=\"middle\" x=\"208.33\" y=\"-5.35\" font-family=\"Monospace\" font-size=\"10.00\"> </text>\n",
       "</g>\n",
       "<!-- 0&#45;&gt;2 -->\n",
       "<g id=\"edge5\" class=\"edge\">\n",
       "<title>0&#45;&gt;2</title>\n",
       "<path fill=\"none\" stroke=\"black\" d=\"M57.91,-6.67C73.34,-4.27 110.96,0.85 142.56,-0.85 162.13,-1.91 184.89,-4.74 197.55,-6.46\"/>\n",
       "<polygon fill=\"black\" stroke=\"black\" points=\"197.43,-7.51 200.55,-6.87 197.72,-5.42 197.43,-7.51\"/>\n",
       "<text text-anchor=\"middle\" x=\"129.06\" y=\"-3.65\" font-family=\"Monospace\" font-size=\"9.00\">330/1</text>\n",
       "</g>\n",
       "<!-- 1&#45;&gt;2 -->\n",
       "<g id=\"edge3\" class=\"edge\">\n",
       "<title>1&#45;&gt;2</title>\n",
       "<path fill=\"none\" stroke=\"black\" d=\"M136.91,-26.08C150.63,-22.53 181.48,-14.54 197.4,-10.42\"/>\n",
       "<polygon fill=\"black\" stroke=\"black\" points=\"197.74,-11.42 200.38,-9.65 197.21,-9.39 197.74,-11.42\"/>\n",
       "<text text-anchor=\"middle\" x=\"171.56\" y=\"-22.65\" font-family=\"Monospace\" font-size=\"9.00\">66/1</text>\n",
       "</g>\n",
       "<!-- stop_(1, (2, (&#39;a&#39;, &#39;c&#39;))) -->\n",
       "<g id=\"node5\" class=\"node\">\n",
       "<title>stop_(1, (2, (&#39;a&#39;, &#39;c&#39;)))</title>\n",
       "<ellipse fill=\"black\" stroke=\"black\" cx=\"258.11\" cy=\"-7.85\" rx=\"0\" ry=\"0\"/>\n",
       "</g>\n",
       "<!-- 2&#45;&gt;stop_(1, (2, (&#39;a&#39;, &#39;c&#39;))) -->\n",
       "<g id=\"edge2\" class=\"edge\">\n",
       "<title>2&#45;&gt;stop_(1, (2, (&#39;a&#39;, &#39;c&#39;)))</title>\n",
       "<path fill=\"none\" stroke=\"black\" d=\"M216.38,-7.85C226.85,-7.85 246.07,-7.85 253.78,-7.85\"/>\n",
       "<polygon fill=\"black\" stroke=\"black\" points=\"254.03,-8.9 257.03,-7.85 254.03,-6.8 254.03,-8.9\"/>\n",
       "<text text-anchor=\"middle\" x=\"237.11\" y=\"-10.65\" font-family=\"Monospace\" font-size=\"9.00\">1</text>\n",
       "</g>\n",
       "</g>\n",
       "</svg>\n"
      ],
      "text/plain": [
       "WFSA(3 states)"
      ]
     },
     "metadata": {},
     "output_type": "display_data"
    },
    {
     "name": "stdout",
     "output_type": "stream",
     "text": [
      "\n",
      "('a', 'b', 'c')\n",
      "total weight of BPE sequences: 4.0\n"
     ]
    },
    {
     "data": {
      "image/svg+xml": [
       "<?xml version=\"1.0\" encoding=\"UTF-8\" standalone=\"no\"?>\n",
       "<!DOCTYPE svg PUBLIC \"-//W3C//DTD SVG 1.1//EN\"\n",
       " \"http://www.w3.org/Graphics/SVG/1.1/DTD/svg11.dtd\">\n",
       "<!-- Generated by graphviz version 2.43.0 (0)\n",
       " -->\n",
       "<!-- Title: %3 Pages: 1 -->\n",
       "<svg width=\"376pt\" height=\"79pt\"\n",
       " viewBox=\"0.00 0.00 376.11 78.78\" xmlns=\"http://www.w3.org/2000/svg\" xmlns:xlink=\"http://www.w3.org/1999/xlink\">\n",
       "<g id=\"graph0\" class=\"graph\" transform=\"scale(1 1) rotate(0) translate(4 74.78)\">\n",
       "<title>%3</title>\n",
       "<polygon fill=\"white\" stroke=\"transparent\" points=\"-4,4 -4,-74.78 372.11,-74.78 372.11,4 -4,4\"/>\n",
       "<!-- start_(0, (0, ())) -->\n",
       "<g id=\"node1\" class=\"node\">\n",
       "<title>start_(0, (0, ()))</title>\n",
       "<ellipse fill=\"black\" stroke=\"black\" cx=\"0\" cy=\"-40.78\" rx=\"0\" ry=\"0\"/>\n",
       "</g>\n",
       "<!-- 0 -->\n",
       "<g id=\"node2\" class=\"node\">\n",
       "<title>0</title>\n",
       "<ellipse fill=\"none\" stroke=\"black\" cx=\"49.78\" cy=\"-40.78\" rx=\"7.56\" ry=\"7.56\"/>\n",
       "<text text-anchor=\"middle\" x=\"49.78\" y=\"-38.28\" font-family=\"Monospace\" font-size=\"10.00\"> </text>\n",
       "</g>\n",
       "<!-- start_(0, (0, ()))&#45;&gt;0 -->\n",
       "<g id=\"edge1\" class=\"edge\">\n",
       "<title>start_(0, (0, ()))&#45;&gt;0</title>\n",
       "<path fill=\"none\" stroke=\"black\" d=\"M1.14,-40.78C3.07,-40.78 25.11,-40.78 38.52,-40.78\"/>\n",
       "<polygon fill=\"black\" stroke=\"black\" points=\"38.73,-41.83 41.73,-40.78 38.73,-39.73 38.73,-41.83\"/>\n",
       "<text text-anchor=\"middle\" x=\"21\" y=\"-43.58\" font-family=\"Monospace\" font-size=\"9.00\">1</text>\n",
       "</g>\n",
       "<!-- 1 -->\n",
       "<g id=\"node3\" class=\"node\">\n",
       "<title>1</title>\n",
       "<ellipse fill=\"none\" stroke=\"black\" cx=\"318.33\" cy=\"-51.78\" rx=\"7.56\" ry=\"7.56\"/>\n",
       "<text text-anchor=\"middle\" x=\"318.33\" y=\"-49.28\" font-family=\"Monospace\" font-size=\"10.00\"> </text>\n",
       "</g>\n",
       "<!-- 0&#45;&gt;1 -->\n",
       "<g id=\"edge5\" class=\"edge\">\n",
       "<title>0&#45;&gt;1</title>\n",
       "<path fill=\"none\" stroke=\"black\" d=\"M56.55,-45.02C61.37,-48.31 68.56,-52.66 75.56,-54.78 92.62,-59.95 97.76,-56.76 115.56,-57.78 184.37,-61.73 201.63,-62.15 270.56,-62.78 280.33,-62.87 282.99,-64.81 292.56,-62.78 298.05,-61.61 303.8,-59.15 308.38,-56.84\"/>\n",
       "<polygon fill=\"black\" stroke=\"black\" points=\"308.89,-57.76 311.06,-55.45 307.92,-55.9 308.89,-57.76\"/>\n",
       "<text text-anchor=\"middle\" x=\"179.06\" y=\"-63.58\" font-family=\"Monospace\" font-size=\"9.00\">39305/1</text>\n",
       "</g>\n",
       "<!-- 2 -->\n",
       "<g id=\"node4\" class=\"node\">\n",
       "<title>2</title>\n",
       "<ellipse fill=\"none\" stroke=\"black\" cx=\"129.06\" cy=\"-40.78\" rx=\"7.56\" ry=\"7.56\"/>\n",
       "<text text-anchor=\"middle\" x=\"129.06\" y=\"-38.28\" font-family=\"Monospace\" font-size=\"10.00\"> </text>\n",
       "</g>\n",
       "<!-- 0&#45;&gt;2 -->\n",
       "<g id=\"edge3\" class=\"edge\">\n",
       "<title>0&#45;&gt;2</title>\n",
       "<path fill=\"none\" stroke=\"black\" d=\"M57.64,-40.78C71.24,-40.78 101.69,-40.78 117.72,-40.78\"/>\n",
       "<polygon fill=\"black\" stroke=\"black\" points=\"118.1,-41.83 121.1,-40.78 118.1,-39.73 118.1,-41.83\"/>\n",
       "<text text-anchor=\"middle\" x=\"86.56\" y=\"-43.58\" font-family=\"Monospace\" font-size=\"9.00\">64/1</text>\n",
       "</g>\n",
       "<!-- 3 -->\n",
       "<g id=\"node5\" class=\"node\">\n",
       "<title>3</title>\n",
       "<ellipse fill=\"none\" stroke=\"black\" cx=\"234.06\" cy=\"-7.78\" rx=\"7.56\" ry=\"7.56\"/>\n",
       "<text text-anchor=\"middle\" x=\"234.06\" y=\"-5.28\" font-family=\"Monospace\" font-size=\"10.00\"> </text>\n",
       "</g>\n",
       "<!-- 0&#45;&gt;3 -->\n",
       "<g id=\"edge4\" class=\"edge\">\n",
       "<title>0&#45;&gt;3</title>\n",
       "<path fill=\"none\" stroke=\"black\" d=\"M56.97,-37.34C68.23,-31.29 92.98,-18.9 115.56,-13.78 154.51,-4.95 202.51,-6.11 223.01,-7.15\"/>\n",
       "<polygon fill=\"black\" stroke=\"black\" points=\"223,-8.2 226.06,-7.31 223.12,-6.1 223,-8.2\"/>\n",
       "<text text-anchor=\"middle\" x=\"129.06\" y=\"-16.58\" font-family=\"Monospace\" font-size=\"9.00\">397/1</text>\n",
       "</g>\n",
       "<!-- stop_(1, (2, (&#39;a&#39;, &#39;b&#39;, &#39;c&#39;))) -->\n",
       "<g id=\"node6\" class=\"node\">\n",
       "<title>stop_(1, (2, (&#39;a&#39;, &#39;b&#39;, &#39;c&#39;)))</title>\n",
       "<ellipse fill=\"black\" stroke=\"black\" cx=\"368.11\" cy=\"-51.78\" rx=\"0\" ry=\"0\"/>\n",
       "</g>\n",
       "<!-- 1&#45;&gt;stop_(1, (2, (&#39;a&#39;, &#39;b&#39;, &#39;c&#39;))) -->\n",
       "<g id=\"edge2\" class=\"edge\">\n",
       "<title>1&#45;&gt;stop_(1, (2, (&#39;a&#39;, &#39;b&#39;, &#39;c&#39;)))</title>\n",
       "<path fill=\"none\" stroke=\"black\" d=\"M326.38,-51.78C336.85,-51.78 356.07,-51.78 363.78,-51.78\"/>\n",
       "<polygon fill=\"black\" stroke=\"black\" points=\"364.03,-52.83 367.03,-51.78 364.03,-50.73 364.03,-52.83\"/>\n",
       "<text text-anchor=\"middle\" x=\"347.11\" y=\"-54.58\" font-family=\"Monospace\" font-size=\"9.00\">1</text>\n",
       "</g>\n",
       "<!-- 2&#45;&gt;1 -->\n",
       "<g id=\"edge7\" class=\"edge\">\n",
       "<title>2&#45;&gt;1</title>\n",
       "<path fill=\"none\" stroke=\"black\" d=\"M137.17,-41.2C165.91,-42.88 273.51,-49.2 307.19,-51.18\"/>\n",
       "<polygon fill=\"black\" stroke=\"black\" points=\"307.16,-52.23 310.21,-51.36 307.28,-50.14 307.16,-52.23\"/>\n",
       "<text text-anchor=\"middle\" x=\"234.06\" y=\"-50.58\" font-family=\"Monospace\" font-size=\"9.00\">15630/1</text>\n",
       "</g>\n",
       "<!-- 2&#45;&gt;3 -->\n",
       "<g id=\"edge6\" class=\"edge\">\n",
       "<title>2&#45;&gt;3</title>\n",
       "<path fill=\"none\" stroke=\"black\" d=\"M136.5,-37.73C142.61,-34.92 152.08,-30.74 160.56,-27.78 182.56,-20.09 209.13,-13.4 223.2,-10.05\"/>\n",
       "<polygon fill=\"black\" stroke=\"black\" points=\"223.49,-11.06 226.17,-9.35 223,-9.02 223.49,-11.06\"/>\n",
       "<text text-anchor=\"middle\" x=\"179.06\" y=\"-30.58\" font-family=\"Monospace\" font-size=\"9.00\">65/1</text>\n",
       "</g>\n",
       "<!-- 3&#45;&gt;1 -->\n",
       "<g id=\"edge8\" class=\"edge\">\n",
       "<title>3&#45;&gt;1</title>\n",
       "<path fill=\"none\" stroke=\"black\" d=\"M241.85,-9.13C253.05,-11.58 275.82,-17.47 292.56,-27.78 299.39,-31.99 305.86,-38.37 310.48,-43.5\"/>\n",
       "<polygon fill=\"black\" stroke=\"black\" points=\"309.82,-44.34 312.59,-45.9 311.4,-42.95 309.82,-44.34\"/>\n",
       "<text text-anchor=\"middle\" x=\"281.56\" y=\"-30.58\" font-family=\"Monospace\" font-size=\"9.00\">66/1</text>\n",
       "</g>\n",
       "</g>\n",
       "</svg>\n"
      ],
      "text/plain": [
       "WFSA(4 states)"
      ]
     },
     "metadata": {},
     "output_type": "display_data"
    },
    {
     "name": "stdout",
     "output_type": "stream",
     "text": [
      "\n",
      "('a', 'a', 'c')\n",
      "total weight of BPE sequences: 3.0\n"
     ]
    },
    {
     "data": {
      "image/svg+xml": [
       "<?xml version=\"1.0\" encoding=\"UTF-8\" standalone=\"no\"?>\n",
       "<!DOCTYPE svg PUBLIC \"-//W3C//DTD SVG 1.1//EN\"\n",
       " \"http://www.w3.org/Graphics/SVG/1.1/DTD/svg11.dtd\">\n",
       "<!-- Generated by graphviz version 2.43.0 (0)\n",
       " -->\n",
       "<!-- Title: %3 Pages: 1 -->\n",
       "<svg width=\"356pt\" height=\"58pt\"\n",
       " viewBox=\"0.00 0.00 356.11 57.78\" xmlns=\"http://www.w3.org/2000/svg\" xmlns:xlink=\"http://www.w3.org/1999/xlink\">\n",
       "<g id=\"graph0\" class=\"graph\" transform=\"scale(1 1) rotate(0) translate(4 53.78)\">\n",
       "<title>%3</title>\n",
       "<polygon fill=\"white\" stroke=\"transparent\" points=\"-4,4 -4,-53.78 352.11,-53.78 352.11,4 -4,4\"/>\n",
       "<!-- start_(0, (0, ())) -->\n",
       "<g id=\"node1\" class=\"node\">\n",
       "<title>start_(0, (0, ()))</title>\n",
       "<ellipse fill=\"black\" stroke=\"black\" cx=\"0\" cy=\"-9.78\" rx=\"0\" ry=\"0\"/>\n",
       "</g>\n",
       "<!-- 0 -->\n",
       "<g id=\"node2\" class=\"node\">\n",
       "<title>0</title>\n",
       "<ellipse fill=\"none\" stroke=\"black\" cx=\"49.78\" cy=\"-9.78\" rx=\"7.56\" ry=\"7.56\"/>\n",
       "<text text-anchor=\"middle\" x=\"49.78\" y=\"-7.28\" font-family=\"Monospace\" font-size=\"10.00\"> </text>\n",
       "</g>\n",
       "<!-- start_(0, (0, ()))&#45;&gt;0 -->\n",
       "<g id=\"edge1\" class=\"edge\">\n",
       "<title>start_(0, (0, ()))&#45;&gt;0</title>\n",
       "<path fill=\"none\" stroke=\"black\" d=\"M1.14,-9.78C3.07,-9.78 25.11,-9.78 38.52,-9.78\"/>\n",
       "<polygon fill=\"black\" stroke=\"black\" points=\"38.73,-10.83 41.73,-9.78 38.73,-8.73 38.73,-10.83\"/>\n",
       "<text text-anchor=\"middle\" x=\"21\" y=\"-12.58\" font-family=\"Monospace\" font-size=\"9.00\">1</text>\n",
       "</g>\n",
       "<!-- 1 -->\n",
       "<g id=\"node3\" class=\"node\">\n",
       "<title>1</title>\n",
       "<ellipse fill=\"none\" stroke=\"black\" cx=\"131.56\" cy=\"-29.78\" rx=\"7.56\" ry=\"7.56\"/>\n",
       "<text text-anchor=\"middle\" x=\"131.56\" y=\"-27.28\" font-family=\"Monospace\" font-size=\"10.00\"> </text>\n",
       "</g>\n",
       "<!-- 0&#45;&gt;1 -->\n",
       "<g id=\"edge6\" class=\"edge\">\n",
       "<title>0&#45;&gt;1</title>\n",
       "<path fill=\"none\" stroke=\"black\" d=\"M57.58,-11.48C71.71,-15.03 104.29,-23.19 120.71,-27.31\"/>\n",
       "<polygon fill=\"black\" stroke=\"black\" points=\"120.61,-28.37 123.77,-28.08 121.12,-26.33 120.61,-28.37\"/>\n",
       "<text text-anchor=\"middle\" x=\"86.56\" y=\"-24.58\" font-family=\"Monospace\" font-size=\"9.00\">64/1</text>\n",
       "</g>\n",
       "<!-- 3 -->\n",
       "<g id=\"node5\" class=\"node\">\n",
       "<title>3</title>\n",
       "<ellipse fill=\"none\" stroke=\"black\" cx=\"219.06\" cy=\"-7.78\" rx=\"7.56\" ry=\"7.56\"/>\n",
       "<text text-anchor=\"middle\" x=\"219.06\" y=\"-5.28\" font-family=\"Monospace\" font-size=\"10.00\"> </text>\n",
       "</g>\n",
       "<!-- 0&#45;&gt;3 -->\n",
       "<g id=\"edge7\" class=\"edge\">\n",
       "<title>0&#45;&gt;3</title>\n",
       "<path fill=\"none\" stroke=\"black\" d=\"M57.57,-8.8C69.34,-7.16 94.32,-3.92 115.56,-2.78 149.25,-0.96 189.18,-4.57 207.69,-6.57\"/>\n",
       "<polygon fill=\"black\" stroke=\"black\" points=\"208,-7.66 211.1,-6.95 208.23,-5.57 208,-7.66\"/>\n",
       "<text text-anchor=\"middle\" x=\"131.56\" y=\"-5.58\" font-family=\"Monospace\" font-size=\"9.00\">7252/1</text>\n",
       "</g>\n",
       "<!-- 2 -->\n",
       "<g id=\"node4\" class=\"node\">\n",
       "<title>2</title>\n",
       "<ellipse fill=\"none\" stroke=\"black\" cx=\"298.33\" cy=\"-29.78\" rx=\"7.56\" ry=\"7.56\"/>\n",
       "<text text-anchor=\"middle\" x=\"298.33\" y=\"-27.28\" font-family=\"Monospace\" font-size=\"10.00\"> </text>\n",
       "</g>\n",
       "<!-- 1&#45;&gt;2 -->\n",
       "<g id=\"edge4\" class=\"edge\">\n",
       "<title>1&#45;&gt;2</title>\n",
       "<path fill=\"none\" stroke=\"black\" d=\"M139.35,-31.07C146,-32.26 156.44,-33.98 165.56,-34.78 212.94,-38.91 225.44,-43.31 272.56,-36.78 277.59,-36.08 283.05,-34.62 287.55,-33.21\"/>\n",
       "<polygon fill=\"black\" stroke=\"black\" points=\"287.97,-34.18 290.5,-32.26 287.32,-32.18 287.97,-34.18\"/>\n",
       "<text text-anchor=\"middle\" x=\"219.06\" y=\"-42.58\" font-family=\"Monospace\" font-size=\"9.00\">330/1</text>\n",
       "</g>\n",
       "<!-- 1&#45;&gt;3 -->\n",
       "<g id=\"edge3\" class=\"edge\">\n",
       "<title>1&#45;&gt;3</title>\n",
       "<path fill=\"none\" stroke=\"black\" d=\"M139.27,-28.05C154.18,-24.22 190.14,-14.96 207.85,-10.4\"/>\n",
       "<polygon fill=\"black\" stroke=\"black\" points=\"208.5,-11.32 211.14,-9.56 207.97,-9.29 208.5,-11.32\"/>\n",
       "<text text-anchor=\"middle\" x=\"176.56\" y=\"-23.58\" font-family=\"Monospace\" font-size=\"9.00\">64/1</text>\n",
       "</g>\n",
       "<!-- stop_(1, (2, (&#39;a&#39;, &#39;a&#39;, &#39;c&#39;))) -->\n",
       "<g id=\"node6\" class=\"node\">\n",
       "<title>stop_(1, (2, (&#39;a&#39;, &#39;a&#39;, &#39;c&#39;)))</title>\n",
       "<ellipse fill=\"black\" stroke=\"black\" cx=\"348.11\" cy=\"-29.78\" rx=\"0\" ry=\"0\"/>\n",
       "</g>\n",
       "<!-- 2&#45;&gt;stop_(1, (2, (&#39;a&#39;, &#39;a&#39;, &#39;c&#39;))) -->\n",
       "<g id=\"edge2\" class=\"edge\">\n",
       "<title>2&#45;&gt;stop_(1, (2, (&#39;a&#39;, &#39;a&#39;, &#39;c&#39;)))</title>\n",
       "<path fill=\"none\" stroke=\"black\" d=\"M306.38,-29.78C316.85,-29.78 336.07,-29.78 343.78,-29.78\"/>\n",
       "<polygon fill=\"black\" stroke=\"black\" points=\"344.03,-30.83 347.03,-29.78 344.03,-28.73 344.03,-30.83\"/>\n",
       "<text text-anchor=\"middle\" x=\"327.11\" y=\"-32.58\" font-family=\"Monospace\" font-size=\"9.00\">1</text>\n",
       "</g>\n",
       "<!-- 3&#45;&gt;2 -->\n",
       "<g id=\"edge5\" class=\"edge\">\n",
       "<title>3&#45;&gt;2</title>\n",
       "<path fill=\"none\" stroke=\"black\" d=\"M226.65,-9.65C240.33,-13.55 271.89,-22.53 287.8,-27.06\"/>\n",
       "<polygon fill=\"black\" stroke=\"black\" points=\"287.59,-28.1 290.76,-27.91 288.16,-26.08 287.59,-28.1\"/>\n",
       "<text text-anchor=\"middle\" x=\"261.56\" y=\"-25.58\" font-family=\"Monospace\" font-size=\"9.00\">66/1</text>\n",
       "</g>\n",
       "</g>\n",
       "</svg>\n"
      ],
      "text/plain": [
       "WFSA(4 states)"
      ]
     },
     "metadata": {},
     "output_type": "display_data"
    },
    {
     "name": "stdout",
     "output_type": "stream",
     "text": [
      "\n"
     ]
    }
   ],
   "source": [
    "for x in foo.cnf.language(3):\n",
    "    print(x)\n",
    "    bpe_x = (b2c @ FST.from_string(x, Float)).trim.project(0).epsremove.trim\n",
    "    print('total weight of BPE sequences:', bpe_x.total_weight())\n",
    "    display(bpe_x)\n",
    "    print()"
   ]
  },
  {
   "cell_type": "code",
   "execution_count": 18,
   "id": "1a01e546-c37e-46f8-900e-de303dce77b3",
   "metadata": {},
   "outputs": [],
   "source": [
    "tmp = (b2c @ foo)\n",
    "assert len(tmp.trim()) > 0"
   ]
  },
  {
   "cell_type": "code",
   "execution_count": 19,
   "id": "8c5432b0-1bf6-48fe-8623-b5d9f91acc3a",
   "metadata": {},
   "outputs": [],
   "source": [
    "#tmp.trim().cnf.language(3)"
   ]
  },
  {
   "cell_type": "code",
   "execution_count": 20,
   "id": "e93a5278-6578-4813-901b-0ded48eb20f4",
   "metadata": {},
   "outputs": [],
   "source": [
    "L = 5\n",
    "c = Float.chart()\n",
    "for x, w, in tmp.trim().cnf.language(5).items():\n",
    "    y =  H.tokenizer.decode(x)\n",
    "    if len(y) > L: continue    \n",
    "    c[y] += w"
   ]
  },
  {
   "cell_type": "code",
   "execution_count": 21,
   "id": "7f1e4505-684b-4244-aa9e-6e380ee7fec0",
   "metadata": {},
   "outputs": [],
   "source": [
    "ambig = Float.chart({x: (b2c @ FST.from_string(x, Float)).trim.project(0).epsremove.trim.total_weight() for x in c})"
   ]
  },
  {
   "cell_type": "code",
   "execution_count": 22,
   "id": "9bec20d2-9545-4a1e-92d6-a504a212d0f3",
   "metadata": {},
   "outputs": [],
   "source": [
    "ccc = Float.chart()\n",
    "for x in c:\n",
    "    ccc[x] = c[x] / ambig[x]"
   ]
  },
  {
   "cell_type": "code",
   "execution_count": 23,
   "id": "d1c58131-7ac7-40f7-9af8-fe6b40b05c35",
   "metadata": {},
   "outputs": [
    {
     "data": {
      "text/html": [
       "<div style=\"font-family: Monospace;\"><table><tr style=\"font-weight: bold;\"><td>key</td><td>value</td></tr><tr><td>c</td><td>0.9333333333576115</td> </tr><tr><td>bc</td><td>0.031111111111920383</td> </tr><tr><td>bbc</td><td>0.0010370370370640127</td> </tr><tr><td>bbbc</td><td>3.456790123546709e-05</td> </tr><tr><td>bbbbc</td><td>1.1522633745155696e-06</td> </tr><tr><td>bbbac</td><td>1.1522633745155696e-06</td> </tr><tr><td>bbac</td><td>3.456790123546709e-05</td> </tr><tr><td>bbabc</td><td>1.1522633745155696e-06</td> </tr><tr><td>bbaac</td><td>1.1522633745155696e-06</td> </tr><tr><td>bac</td><td>0.0010370370370640127</td> </tr><tr><td>babc</td><td>3.456790123546709e-05</td> </tr><tr><td>babbc</td><td>1.1522633745155696e-06</td> </tr><tr><td>babac</td><td>1.1522633745155696e-06</td> </tr><tr><td>baac</td><td>3.456790123546709e-05</td> </tr><tr><td>baabc</td><td>1.1522633745155696e-06</td> </tr><tr><td>baaac</td><td>1.1522633745155696e-06</td> </tr><tr><td>ac</td><td>0.031111111111920383</td> </tr><tr><td>abc</td><td>0.0010370370370640127</td> </tr><tr><td>abbc</td><td>3.456790123546709e-05</td> </tr><tr><td>abbbc</td><td>1.1522633745155696e-06</td> </tr><tr><td>abbac</td><td>1.1522633745155696e-06</td> </tr><tr><td>abac</td><td>3.456790123546709e-05</td> </tr><tr><td>ababc</td><td>1.1522633745155696e-06</td> </tr><tr><td>abaac</td><td>1.1522633745155696e-06</td> </tr><tr><td>aac</td><td>0.0010370370370640127</td> </tr><tr><td>aabc</td><td>3.456790123546709e-05</td> </tr><tr><td>aabbc</td><td>1.1522633745155696e-06</td> </tr><tr><td>aabac</td><td>1.1522633745155696e-06</td> </tr><tr><td>aaac</td><td>3.456790123546709e-05</td> </tr><tr><td>aaabc</td><td>1.1522633745155696e-06</td> </tr><tr><td>aaaac</td><td>1.1522633745155696e-06</td> </tr></table></div>"
      ],
      "text/plain": [
       "{'c': 0.9333333333576115, 'bc': 0.031111111111920383, 'bbc': 0.0010370370370640127, 'bbbc': 3.456790123546709e-05, 'bbbbc': 1.1522633745155696e-06, 'bbbac': 1.1522633745155696e-06, 'bbac': 3.456790123546709e-05, 'bbabc': 1.1522633745155696e-06, 'bbaac': 1.1522633745155696e-06, 'bac': 0.0010370370370640127, 'babc': 3.456790123546709e-05, 'babbc': 1.1522633745155696e-06, 'babac': 1.1522633745155696e-06, 'baac': 3.456790123546709e-05, 'baabc': 1.1522633745155696e-06, 'baaac': 1.1522633745155696e-06, 'ac': 0.031111111111920383, 'abc': 0.0010370370370640127, 'abbc': 3.456790123546709e-05, 'abbbc': 1.1522633745155696e-06, 'abbac': 1.1522633745155696e-06, 'abac': 3.456790123546709e-05, 'ababc': 1.1522633745155696e-06, 'abaac': 1.1522633745155696e-06, 'aac': 0.0010370370370640127, 'aabc': 3.456790123546709e-05, 'aabbc': 1.1522633745155696e-06, 'aabac': 1.1522633745155696e-06, 'aaac': 3.456790123546709e-05, 'aaabc': 1.1522633745155696e-06, 'aaaac': 1.1522633745155696e-06}"
      ]
     },
     "execution_count": 23,
     "metadata": {},
     "output_type": "execute_result"
    }
   ],
   "source": [
    "cc = Float.chart()\n",
    "for x, w in foo.cnf.language(L+2).items():\n",
    "    if len(x) > L: continue\n",
    "    cc[''.join(x)] += w\n",
    "cc"
   ]
  },
  {
   "cell_type": "code",
   "execution_count": 24,
   "id": "4248cb64-5bdb-4f86-a70f-a1d4383e0458",
   "metadata": {},
   "outputs": [],
   "source": [
    "ccc.assert_equal(cc, tol=1e-20)"
   ]
  },
  {
   "cell_type": "code",
   "execution_count": 25,
   "id": "fbf30359-1852-4cef-a86f-048dc62dd968",
   "metadata": {},
   "outputs": [],
   "source": [
    "#cc.metric(c)"
   ]
  },
  {
   "cell_type": "code",
   "execution_count": 26,
   "id": "0af56e1c-e4fa-4166-9ba2-ce1f1d82e16e",
   "metadata": {},
   "outputs": [],
   "source": [
    "#tmp.trim(bottomup_only=True)"
   ]
  },
  {
   "cell_type": "code",
   "execution_count": 27,
   "id": "7b732ed0-520b-45ba-810b-d0266a7d1d88",
   "metadata": {},
   "outputs": [],
   "source": [
    "#show_grammar(tmp, showzero=True)"
   ]
  },
  {
   "cell_type": "code",
   "execution_count": 28,
   "id": "337e2d86-6dfe-45be-87ba-0b6fbfc50c35",
   "metadata": {},
   "outputs": [],
   "source": [
    "#print(tmp.agenda().__str__(style_value=lambda k, v: (colors.light.red % v) if v > 1.000001 or v < 0 else v))"
   ]
  },
  {
   "cell_type": "code",
   "execution_count": 29,
   "id": "21c4baaf-8a5e-4380-81c8-9fe5f5d85bb6",
   "metadata": {},
   "outputs": [],
   "source": [
    "#for q in c2t.states:      \n",
    "#    for (a,b), r, w in c2t.arcs(q):\n",
    "#        print(f'--{a or \"ε\"}:{b or \"ε\"}/{w}-->', r)"
   ]
  },
  {
   "cell_type": "code",
   "execution_count": 30,
   "id": "297d9420-6e63-4607-b5a9-439238b02140",
   "metadata": {},
   "outputs": [],
   "source": [
    "#{x: v for x,v in tmp.agenda().items() if v > 1.001 or v < 0}"
   ]
  },
  {
   "cell_type": "code",
   "execution_count": 31,
   "id": "9ea76dfa-cbc6-4cdd-a413-dda5dd7e9c89",
   "metadata": {},
   "outputs": [],
   "source": [
    "#len(tmp.N - tmp.agenda(tol=1e-40, maxiter=np.inf).trim().keys()), len(tmp.N), len(tmp.agenda(tol=1e-40).trim())"
   ]
  },
  {
   "cell_type": "code",
   "execution_count": 32,
   "id": "1f25c7ed-b778-4a0c-819f-0219156e6c5a",
   "metadata": {},
   "outputs": [],
   "source": [
    "#tmp.cnf.language(4)"
   ]
  },
  {
   "cell_type": "code",
   "execution_count": 33,
   "id": "f18614c6-5c17-4467-ae97-f06790f22af4",
   "metadata": {},
   "outputs": [],
   "source": [
    "#show_grammar(tmp)"
   ]
  },
  {
   "cell_type": "code",
   "execution_count": 34,
   "id": "3d61730b-d679-4404-b062-d3d5bbaa20ac",
   "metadata": {},
   "outputs": [
    {
     "name": "stdout",
     "output_type": "stream",
     "text": [
      "\u001b[0;32m✔\u001b[0m PCFG\n"
     ]
    }
   ],
   "source": [
    "p = locally_normalize(tmp, tol=1e-40, maxiter=np.inf).trim()\n",
    "pcfg_check(p)"
   ]
  },
  {
   "cell_type": "code",
   "execution_count": 35,
   "id": "9a777fe2-77a9-40ff-af4d-d1f02f6ed3e6",
   "metadata": {},
   "outputs": [],
   "source": [
    "lm2 = CFGLM(add_EOS(p))"
   ]
  },
  {
   "cell_type": "code",
   "execution_count": 36,
   "id": "fd2ff4b0-5e43-455f-8be8-b42c7d059aad",
   "metadata": {},
   "outputs": [],
   "source": [
    "#lm2.sample(verbose=1)"
   ]
  },
  {
   "cell_type": "code",
   "execution_count": 37,
   "id": "f3d26457-e3bf-4f79-8ec0-7d811110982e",
   "metadata": {},
   "outputs": [],
   "source": [
    "#context = (64,65,6485,39305)\n",
    "context = (64,65,6485,)"
   ]
  },
  {
   "cell_type": "code",
   "execution_count": 38,
   "id": "0040787f-6bc0-4ec4-915a-a12aedaaedcd",
   "metadata": {},
   "outputs": [
    {
     "data": {
      "text/plain": [
       "'ababb'"
      ]
     },
     "execution_count": 38,
     "metadata": {},
     "output_type": "execute_result"
    }
   ],
   "source": [
    "char_context = H.tokenizer.decode(context)\n",
    "char_context"
   ]
  },
  {
   "cell_type": "code",
   "execution_count": 39,
   "id": "7085cad5-62ac-4385-afba-a848c6583d3f",
   "metadata": {},
   "outputs": [
    {
     "data": {
      "text/html": [
       "<div>\n",
       "<style scoped>\n",
       "    .dataframe tbody tr th:only-of-type {\n",
       "        vertical-align: middle;\n",
       "    }\n",
       "\n",
       "    .dataframe tbody tr th {\n",
       "        vertical-align: top;\n",
       "    }\n",
       "\n",
       "    .dataframe thead th {\n",
       "        text-align: right;\n",
       "    }\n",
       "</style>\n",
       "<table border=\"1\" class=\"dataframe\">\n",
       "  <thead>\n",
       "    <tr style=\"text-align: right;\">\n",
       "      <th></th>\n",
       "      <th>chars</th>\n",
       "      <th>prob</th>\n",
       "    </tr>\n",
       "    <tr>\n",
       "      <th>token_id</th>\n",
       "      <th></th>\n",
       "      <th></th>\n",
       "    </tr>\n",
       "  </thead>\n",
       "  <tbody>\n",
       "    <tr>\n",
       "      <th>66</th>\n",
       "      <td>c</td>\n",
       "      <td>0.869821</td>\n",
       "    </tr>\n",
       "    <tr>\n",
       "      <th>64</th>\n",
       "      <td>a</td>\n",
       "      <td>0.033333</td>\n",
       "    </tr>\n",
       "    <tr>\n",
       "      <th>65</th>\n",
       "      <td>b</td>\n",
       "      <td>0.033333</td>\n",
       "    </tr>\n",
       "    <tr>\n",
       "      <th>15630</th>\n",
       "      <td>bc</td>\n",
       "      <td>0.028994</td>\n",
       "    </tr>\n",
       "    <tr>\n",
       "      <th>330</th>\n",
       "      <td>ac</td>\n",
       "      <td>0.028994</td>\n",
       "    </tr>\n",
       "    <tr>\n",
       "      <th>7252</th>\n",
       "      <td>aa</td>\n",
       "      <td>0.001111</td>\n",
       "    </tr>\n",
       "    <tr>\n",
       "      <th>397</th>\n",
       "      <td>ab</td>\n",
       "      <td>0.001111</td>\n",
       "    </tr>\n",
       "    <tr>\n",
       "      <th>7012</th>\n",
       "      <td>ba</td>\n",
       "      <td>0.001111</td>\n",
       "    </tr>\n",
       "    <tr>\n",
       "      <th>11848</th>\n",
       "      <td>bb</td>\n",
       "      <td>0.001111</td>\n",
       "    </tr>\n",
       "    <tr>\n",
       "      <th>39305</th>\n",
       "      <td>abc</td>\n",
       "      <td>0.000966</td>\n",
       "    </tr>\n",
       "    <tr>\n",
       "      <th>6485</th>\n",
       "      <td>abb</td>\n",
       "      <td>0.000037</td>\n",
       "    </tr>\n",
       "    <tr>\n",
       "      <th>15498</th>\n",
       "      <td>aba</td>\n",
       "      <td>0.000037</td>\n",
       "    </tr>\n",
       "    <tr>\n",
       "      <th>46071</th>\n",
       "      <td>aaa</td>\n",
       "      <td>0.000037</td>\n",
       "    </tr>\n",
       "    <tr>\n",
       "      <th>24794</th>\n",
       "      <td>aaaa</td>\n",
       "      <td>0.000001</td>\n",
       "    </tr>\n",
       "    <tr>\n",
       "      <th>48910</th>\n",
       "      <td>abba</td>\n",
       "      <td>0.000001</td>\n",
       "    </tr>\n",
       "    <tr>\n",
       "      <th>▪</th>\n",
       "      <td>▪</td>\n",
       "      <td>0.000000</td>\n",
       "    </tr>\n",
       "  </tbody>\n",
       "</table>\n",
       "</div>"
      ],
      "text/plain": [
       "         chars      prob\n",
       "token_id                \n",
       "66           c  0.869821\n",
       "64           a  0.033333\n",
       "65           b  0.033333\n",
       "15630       bc  0.028994\n",
       "330         ac  0.028994\n",
       "7252        aa  0.001111\n",
       "397         ab  0.001111\n",
       "7012        ba  0.001111\n",
       "11848       bb  0.001111\n",
       "39305      abc  0.000966\n",
       "6485       abb  0.000037\n",
       "15498      aba  0.000037\n",
       "46071      aaa  0.000037\n",
       "24794     aaaa  0.000001\n",
       "48910     abba  0.000001\n",
       "▪            ▪  0.000000"
      ]
     },
     "execution_count": 39,
     "metadata": {},
     "output_type": "execute_result"
    }
   ],
   "source": [
    "df = []\n",
    "for x, w in sorted(normalize(lm2.p_next(context)).items(), key=lambda kv: -kv[1]):\n",
    "    df.append((x, (H.tokenizer.decode([x]) if x != EOS else EOS), w))\n",
    "pd.DataFrame(df, columns=['token_id', 'chars', 'prob']).set_index('token_id')"
   ]
  },
  {
   "cell_type": "code",
   "execution_count": 40,
   "id": "956b30e0-11be-4339-b576-fdd97c9d985a",
   "metadata": {},
   "outputs": [
    {
     "data": {
      "text/html": [
       "<div style=\"font-family: Monospace;\"><table><tr style=\"font-weight: bold;\"><td>key</td><td>value</td></tr><tr><td>b</td><td>0.03333333333332973</td> </tr><tr><td>a</td><td>0.03333333333332973</td> </tr><tr><td>c</td><td>0.9333333333333406</td> </tr></table></div>"
      ],
      "text/plain": [
       "{'b': 0.03333333333332973, 'a': 0.03333333333332973, 'c': 0.9333333333333406}"
      ]
     },
     "execution_count": 40,
     "metadata": {},
     "output_type": "execute_result"
    }
   ],
   "source": [
    "Float.chart(normalize(lm.p_next(char_context)))"
   ]
  },
  {
   "cell_type": "code",
   "execution_count": null,
   "id": "2a035044-4c12-495a-8b70-1a6bda2cbb40",
   "metadata": {},
   "outputs": [],
   "source": []
  },
  {
   "cell_type": "markdown",
   "id": "d3e142ef-2966-4614-aa72-5a998059dc50",
   "metadata": {
    "jp-MarkdownHeadingCollapsed": true
   },
   "source": [
    "## Lexing"
   ]
  },
  {
   "cell_type": "code",
   "execution_count": 41,
   "id": "db2f8551-e3aa-474b-92d5-3219ad81b36c",
   "metadata": {},
   "outputs": [],
   "source": [
    "lark_stuff = LarkStuff(r\"\"\"\n",
    "\n",
    "start: \"SELECT\" WS STAR WS \"FROM\" WS NAME WS EOS\n",
    "\n",
    "EOS: \"</s>\"\n",
    "NAME: /[a-z]+/\n",
    "STAR: \"*\"\n",
    "WS: /[ ]/\n",
    "\n",
    "\"\"\")"
   ]
  },
  {
   "cell_type": "code",
   "execution_count": 42,
   "id": "16b1d527-d27a-46e9-8e8e-e2a3da812351",
   "metadata": {},
   "outputs": [],
   "source": [
    "foo = lark_stuff.char_cfg(.1)"
   ]
  },
  {
   "cell_type": "code",
   "execution_count": 43,
   "id": "77d438bc-5767-444a-a449-571f511575f0",
   "metadata": {},
   "outputs": [],
   "source": [
    "#foo['NAME'].trim().agenda()"
   ]
  },
  {
   "cell_type": "code",
   "execution_count": 44,
   "id": "6114f525-ff3b-4736-bc3a-d48ebcff71c1",
   "metadata": {},
   "outputs": [],
   "source": [
    "#foo.agenda()"
   ]
  },
  {
   "cell_type": "code",
   "execution_count": 45,
   "id": "c8a2e4dd-81f3-433f-83a0-651f27ca63de",
   "metadata": {},
   "outputs": [],
   "source": [
    "foo = locally_normalize(foo, tol=1e-100).trim()\n",
    "assert len(foo) > 0"
   ]
  },
  {
   "cell_type": "code",
   "execution_count": 46,
   "id": "d3fffee2-0852-4aef-a92c-0e6b100be3b5",
   "metadata": {},
   "outputs": [],
   "source": [
    "#foo"
   ]
  },
  {
   "cell_type": "code",
   "execution_count": 47,
   "id": "79508f80-8c4a-4cc9-8487-10920b285dd2",
   "metadata": {},
   "outputs": [],
   "source": [
    "lm = CFGLM(add_EOS(foo))"
   ]
  },
  {
   "cell_type": "code",
   "execution_count": 51,
   "id": "86cde92c-91ea-410a-b002-88b6f383916c",
   "metadata": {},
   "outputs": [
    {
     "name": "stdout",
     "output_type": "stream",
     "text": [
      "mass= 1.0\n",
      "SELECT * FROM d </s>\n",
      "mass= 0.9616809116716195\n",
      "SELECT * FROM im </s>\n",
      "mass= 0.9246931843747898\n",
      "SELECT * FROM m </s>\n",
      "mass= 0.8863740960560715\n",
      "SELECT * FROM s </s>\n",
      "mass= 0.8480550077373533\n",
      "SELECT * FROM o </s>\n",
      "mass= 0.8097359194186351\n",
      "SELECT * FROM x </s>\n",
      "mass= 0.771416831099917\n",
      "SELECT * FROM k </s>\n",
      "mass= 0.7330977427811988\n",
      "SELECT * FROM t </s>\n",
      "mass= 0.6947786544624805\n",
      "SELECT * FROM l </s>\n",
      "mass= 0.6564595661437623\n",
      "SELECT * FROM g </s>\n",
      "mass= 0.6181404778250442\n",
      "SELECT * FROM n </s>\n",
      "mass= 0.579821389506326\n",
      "SELECT * FROM z </s>\n",
      "mass= 0.5415023011876078\n",
      "SELECT * FROM j </s>\n",
      "mass= 0.5031832128688898\n",
      "SELECT * FROM a </s>\n",
      "mass= 0.46486412455017184\n",
      "SELECT * FROM y </s>\n"
     ]
    }
   ],
   "source": [
    "trace = TraceSWOR()\n",
    "for _ in range(15):\n",
    "   print('mass=', trace.root.mass)\n",
    "   with trace:\n",
    "       print(''.join(lm.sample(draw=trace)))"
   ]
  },
  {
   "cell_type": "code",
   "execution_count": null,
   "id": "e36e6deb-900c-4dbd-bad4-c51ce910a641",
   "metadata": {},
   "outputs": [],
   "source": []
  },
  {
   "cell_type": "code",
   "execution_count": 52,
   "id": "78a60e9d-e85b-4759-8653-bcccd72c02dd",
   "metadata": {},
   "outputs": [],
   "source": [
    "cfg = lark_stuff.convert().renumber()"
   ]
  },
  {
   "cell_type": "code",
   "execution_count": 53,
   "id": "db081114-ac49-4e6d-9c8f-b078966f965e",
   "metadata": {},
   "outputs": [
    {
     "data": {
      "text/plain": [
       "25"
      ]
     },
     "execution_count": 53,
     "metadata": {},
     "output_type": "execute_result"
    }
   ],
   "source": [
    "c2t = lark_stuff.transducer(ignore='', decay=.0125); len(c2t.states)"
   ]
  },
  {
   "cell_type": "markdown",
   "id": "4b8fd795-8971-41aa-8347-883ec12f0623",
   "metadata": {},
   "source": [
    "The `lark` library will only lex it one way because it has a deterministic semantics for prioritized lexing:"
   ]
  },
  {
   "cell_type": "code",
   "execution_count": 54,
   "id": "48dee626-031a-409c-b523-57810a90b6c0",
   "metadata": {},
   "outputs": [],
   "source": [
    "x = 'SELECT * FROM data'"
   ]
  },
  {
   "cell_type": "code",
   "execution_count": 55,
   "id": "3b469dfa-1951-419e-918d-2753befef16c",
   "metadata": {},
   "outputs": [
    {
     "data": {
      "text/plain": [
       "[Token('SELECT', 'SELECT'),\n",
       " Token('WS', ' '),\n",
       " Token('STAR', '*'),\n",
       " Token('WS', ' '),\n",
       " Token('FROM', 'FROM'),\n",
       " Token('WS', ' '),\n",
       " Token('NAME', 'data')]"
      ]
     },
     "execution_count": 55,
     "metadata": {},
     "output_type": "execute_result"
    }
   ],
   "source": [
    "list(lark_stuff.lex(x))"
   ]
  },
  {
   "cell_type": "markdown",
   "id": "890c4399-43c6-44f3-ba0a-9d4c720591ed",
   "metadata": {},
   "source": [
    "However, this string can lex many different ways:"
   ]
  },
  {
   "cell_type": "code",
   "execution_count": 56,
   "id": "e4b13795-6d91-4604-847f-76a1cbec7576",
   "metadata": {},
   "outputs": [],
   "source": [
    "ambig = (FST.from_string(x, Float) @ c2t).trim.project(1).epsremove.trim.to_cfg().cnf.language(15)"
   ]
  },
  {
   "cell_type": "code",
   "execution_count": 57,
   "id": "6d725b7f-f4c0-4cd5-8f0f-61bda50afe36",
   "metadata": {},
   "outputs": [],
   "source": [
    "#ambig"
   ]
  },
  {
   "cell_type": "markdown",
   "id": "1113c156-60a3-48c9-846f-cf9487dc5125",
   "metadata": {},
   "source": [
    "It might be fine to allow ambiguous lexing because very few of the possible lexing options will survive the parser."
   ]
  },
  {
   "cell_type": "code",
   "execution_count": 58,
   "id": "a7cb2cbf-8561-4b15-9713-5942a0568883",
   "metadata": {},
   "outputs": [
    {
     "name": "stdout",
     "output_type": "stream",
     "text": [
      "1.0 ('SELECT', 'WS', 'STAR', 'WS', 'FROM', 'WS', 'NAME')\n"
     ]
    }
   ],
   "source": [
    "for y in ambig:\n",
    "    v = cfg.prefix_weight(y)   # show all options with a nonzero prefix weight\n",
    "    if v == 0: continue\n",
    "    print(v, y)"
   ]
  },
  {
   "cell_type": "code",
   "execution_count": 59,
   "id": "5ddeacb6-c2d1-4338-ac43-08f6dfe4dfea",
   "metadata": {},
   "outputs": [],
   "source": [
    "#((FST.from_string('SELECT', Float) @ c2t) @ P.T @ cfg).trim().cnf.language(15)"
   ]
  },
  {
   "cell_type": "code",
   "execution_count": 60,
   "id": "e0efbe84-53c3-4d07-8a32-956036803019",
   "metadata": {},
   "outputs": [],
   "source": [
    "#(P.T @ cfg).trim().cnf.language(100)"
   ]
  },
  {
   "cell_type": "code",
   "execution_count": 61,
   "id": "dfc2e37c-55cc-485b-b755-3281ad9aaa0a",
   "metadata": {},
   "outputs": [],
   "source": [
    "cfg_t = (c2t.renumber @ cfg).trim()\n",
    "pcfg_t = locally_normalize(cfg_t, tol=1e-100, maxiter=10_000_000)"
   ]
  },
  {
   "cell_type": "code",
   "execution_count": 62,
   "id": "6e65a6fd-e69a-4836-8404-044aa18d85ca",
   "metadata": {},
   "outputs": [
    {
     "name": "stdout",
     "output_type": "stream",
     "text": [
      "\u001b[0;32m✔\u001b[0m PCFG\n"
     ]
    }
   ],
   "source": [
    "pcfg_check(pcfg_t)"
   ]
  },
  {
   "cell_type": "code",
   "execution_count": 63,
   "id": "405b0d8c-fd5e-4746-a959-c847a3a7bb25",
   "metadata": {},
   "outputs": [
    {
     "data": {
      "text/plain": [
       "2.117582368135754e-46"
      ]
     },
     "execution_count": 63,
     "metadata": {},
     "output_type": "execute_result"
    }
   ],
   "source": [
    "cfg_t('SELECT * FROM data </s>')"
   ]
  },
  {
   "cell_type": "code",
   "execution_count": 64,
   "id": "6a341822-10fa-4dec-9d48-097e676634a3",
   "metadata": {},
   "outputs": [
    {
     "data": {
      "text/plain": [
       "2.117582368135754e-46"
      ]
     },
     "execution_count": 64,
     "metadata": {},
     "output_type": "execute_result"
    }
   ],
   "source": [
    "cfg_t('SELECT * FROM data </s>')"
   ]
  },
  {
   "cell_type": "code",
   "execution_count": 65,
   "id": "857feb25-f028-43cc-810b-09b905e550df",
   "metadata": {},
   "outputs": [],
   "source": [
    "lm = CFGLM(add_EOS(pcfg_t.cnf))"
   ]
  },
  {
   "cell_type": "code",
   "execution_count": 66,
   "id": "8658feb1-73eb-4610-8ea7-f5292b698a66",
   "metadata": {},
   "outputs": [
    {
     "name": "stdout",
     "output_type": "stream",
     "text": [
      "SELECT * FROM xmh </s>\n",
      "SELECT * FROM o </s>\n",
      "SELECT * FROM c </s>\n",
      "SELECT * FROM q </s>\n",
      "SELECT * FROM e </s>\n",
      "SELECT * FROM a </s>\n",
      "SELECT * FROM g </s>\n",
      "SELECT * FROM l </s>\n",
      "SELECT * FROM e </s>\n",
      "SELECT * FROM x </s>\n"
     ]
    }
   ],
   "source": [
    "for _ in range(10):\n",
    "    print(''.join(lm.sample()))"
   ]
  },
  {
   "cell_type": "code",
   "execution_count": 67,
   "id": "a6be40a1-cc63-454a-a3d5-2ac66baba86a",
   "metadata": {},
   "outputs": [
    {
     "data": {
      "text/html": [
       "<div style=\"font-family: Monospace;\"><table><tr style=\"font-weight: bold;\"><td>key</td><td>value</td></tr><tr><td>r</td><td>0.03846153846151434</td> </tr><tr><td>q</td><td>0.03846153846151434</td> </tr><tr><td>v</td><td>0.03846153846151434</td> </tr><tr><td>b</td><td>0.03846153846151434</td> </tr><tr><td>x</td><td>0.03846153846151434</td> </tr><tr><td>l</td><td>0.03846153846151434</td> </tr><tr><td>w</td><td>0.03846153846151434</td> </tr><tr><td>a</td><td>0.03846153846151434</td> </tr><tr><td>g</td><td>0.03846153846151434</td> </tr><tr><td>u</td><td>0.03846153846151434</td> </tr><tr><td>s</td><td>0.03846153846151434</td> </tr><tr><td>e</td><td>0.03846153846151434</td> </tr><tr><td>f</td><td>0.03846153846151434</td> </tr><tr><td>o</td><td>0.03846153846151434</td> </tr><tr><td>y</td><td>0.03846153846151434</td> </tr><tr><td>m</td><td>0.03846153846151434</td> </tr><tr><td>j</td><td>0.03846153846151434</td> </tr><tr><td>p</td><td>0.03846153846151434</td> </tr><tr><td>c</td><td>0.03846153846151434</td> </tr><tr><td>n</td><td>0.03846153846151434</td> </tr><tr><td>d</td><td>0.03846153846151434</td> </tr><tr><td>h</td><td>0.03846153846151434</td> </tr><tr><td>k</td><td>0.03846153846151434</td> </tr><tr><td>i</td><td>0.03846153846151434</td> </tr><tr><td>z</td><td>0.03846153846151434</td> </tr><tr><td>t</td><td>0.03846153846151434</td> </tr></table></div>"
      ],
      "text/plain": [
       "{'r': 0.03846153846151434, 'q': 0.03846153846151434, 'v': 0.03846153846151434, 'b': 0.03846153846151434, 'x': 0.03846153846151434, 'l': 0.03846153846151434, 'w': 0.03846153846151434, 'a': 0.03846153846151434, 'g': 0.03846153846151434, 'u': 0.03846153846151434, 's': 0.03846153846151434, 'e': 0.03846153846151434, 'f': 0.03846153846151434, 'o': 0.03846153846151434, 'y': 0.03846153846151434, 'm': 0.03846153846151434, 'j': 0.03846153846151434, 'p': 0.03846153846151434, 'c': 0.03846153846151434, 'n': 0.03846153846151434, 'd': 0.03846153846151434, 'h': 0.03846153846151434, 'k': 0.03846153846151434, 'i': 0.03846153846151434, 'z': 0.03846153846151434, 't': 0.03846153846151434}"
      ]
     },
     "execution_count": 67,
     "metadata": {},
     "output_type": "execute_result"
    }
   ],
   "source": [
    "lm.p_next('SELECT * FROM ')"
   ]
  },
  {
   "cell_type": "code",
   "execution_count": null,
   "id": "ed95fbfe-24fe-42b9-8daa-e07159bd5856",
   "metadata": {},
   "outputs": [],
   "source": []
  },
  {
   "cell_type": "code",
   "execution_count": null,
   "id": "8ac1d457-4cb3-4fae-bb05-06d26a173fc0",
   "metadata": {},
   "outputs": [],
   "source": []
  },
  {
   "cell_type": "markdown",
   "id": "0f0582ac-3451-4b7f-bcb0-1fc2cdc8efbe",
   "metadata": {
    "jp-MarkdownHeadingCollapsed": true
   },
   "source": [
    "## BPE Basics"
   ]
  },
  {
   "cell_type": "code",
   "execution_count": 68,
   "id": "66dddc70-9ccd-4e03-9135-8461fb0c831b",
   "metadata": {},
   "outputs": [],
   "source": [
    "hf_tk = hf_tokenizer()\n",
    "tokenizer = hf_tk.tokenizer"
   ]
  },
  {
   "cell_type": "code",
   "execution_count": 69,
   "id": "3113a7ae-ea16-4b18-9612-70b4fdcee7b2",
   "metadata": {},
   "outputs": [
    {
     "data": {
      "text/plain": [
       "369588"
      ]
     },
     "execution_count": 69,
     "metadata": {},
     "output_type": "execute_result"
    }
   ],
   "source": [
    "b2c = hf_tk.fst\n",
    "len(b2c.states)"
   ]
  },
  {
   "cell_type": "code",
   "execution_count": 70,
   "id": "822277b4-4f0f-43a2-8783-e6a5831109a2",
   "metadata": {},
   "outputs": [
    {
     "data": {
      "text/plain": [
       "[46506, 1635, 16034, 1366]"
      ]
     },
     "execution_count": 70,
     "metadata": {},
     "output_type": "execute_result"
    }
   ],
   "source": [
    "x = 'SELECT * FROM data'\n",
    "b = tokenizer.encode(x)\n",
    "b"
   ]
  },
  {
   "cell_type": "code",
   "execution_count": 71,
   "id": "5a439aee-06e4-4e3c-b244-892f29ddc63b",
   "metadata": {},
   "outputs": [
    {
     "data": {
      "text/plain": [
       "['SELECT', ' *', ' FROM', ' data']"
      ]
     },
     "execution_count": 71,
     "metadata": {},
     "output_type": "execute_result"
    }
   ],
   "source": [
    "[tokenizer.decode([bb]) for bb in b]"
   ]
  },
  {
   "cell_type": "code",
   "execution_count": 72,
   "id": "54a5ff04-03bb-4965-9f05-8085c90dce5e",
   "metadata": {},
   "outputs": [
    {
     "name": "stdout",
     "output_type": "stream",
     "text": [
      "states: 31, trim: 30\n"
     ]
    },
    {
     "name": "stderr",
     "output_type": "stream",
     "text": [
      "composition (3.7021 sec)\n"
     ]
    }
   ],
   "source": [
    "with timeit('composition'):\n",
    "    c = FST.from_string(tuple(b), Float) @ b2c\n",
    "about(c)"
   ]
  },
  {
   "cell_type": "code",
   "execution_count": 73,
   "id": "3f35ab22-cc99-4b61-836d-5109ae8934fd",
   "metadata": {},
   "outputs": [
    {
     "data": {
      "image/svg+xml": [
       "<?xml version=\"1.0\" encoding=\"UTF-8\" standalone=\"no\"?>\n",
       "<!DOCTYPE svg PUBLIC \"-//W3C//DTD SVG 1.1//EN\"\n",
       " \"http://www.w3.org/Graphics/SVG/1.1/DTD/svg11.dtd\">\n",
       "<!-- Generated by graphviz version 2.43.0 (0)\n",
       " -->\n",
       "<!-- Title: %3 Pages: 1 -->\n",
       "<svg width=\"3284pt\" height=\"26pt\"\n",
       " viewBox=\"0.00 0.00 3283.69 25.78\" xmlns=\"http://www.w3.org/2000/svg\" xmlns:xlink=\"http://www.w3.org/1999/xlink\">\n",
       "<g id=\"graph0\" class=\"graph\" transform=\"scale(1 1) rotate(0) translate(4 21.78)\">\n",
       "<title>%3</title>\n",
       "<polygon fill=\"white\" stroke=\"transparent\" points=\"-4,4 -4,-21.78 3279.69,-21.78 3279.69,4 -4,4\"/>\n",
       "<!-- start_(((), 0), 0) -->\n",
       "<g id=\"node1\" class=\"node\">\n",
       "<title>start_(((), 0), 0)</title>\n",
       "<ellipse fill=\"black\" stroke=\"black\" cx=\"0\" cy=\"-7.78\" rx=\"0\" ry=\"0\"/>\n",
       "</g>\n",
       "<!-- 0 -->\n",
       "<g id=\"node2\" class=\"node\">\n",
       "<title>0</title>\n",
       "<ellipse fill=\"none\" stroke=\"black\" cx=\"49.78\" cy=\"-7.78\" rx=\"7.56\" ry=\"7.56\"/>\n",
       "<text text-anchor=\"middle\" x=\"49.78\" y=\"-5.28\" font-family=\"Monospace\" font-size=\"10.00\"> </text>\n",
       "</g>\n",
       "<!-- start_(((), 0), 0)&#45;&gt;0 -->\n",
       "<g id=\"edge1\" class=\"edge\">\n",
       "<title>start_(((), 0), 0)&#45;&gt;0</title>\n",
       "<path fill=\"none\" stroke=\"black\" d=\"M1.14,-7.78C3.07,-7.78 25.11,-7.78 38.52,-7.78\"/>\n",
       "<polygon fill=\"black\" stroke=\"black\" points=\"38.73,-8.83 41.73,-7.78 38.73,-6.73 38.73,-8.83\"/>\n",
       "<text text-anchor=\"middle\" x=\"21\" y=\"-10.58\" font-family=\"Monospace\" font-size=\"9.00\">1</text>\n",
       "</g>\n",
       "<!-- 16 -->\n",
       "<g id=\"node18\" class=\"node\">\n",
       "<title>16</title>\n",
       "<ellipse fill=\"none\" stroke=\"black\" cx=\"170.33\" cy=\"-7.78\" rx=\"7.56\" ry=\"7.56\"/>\n",
       "<text text-anchor=\"middle\" x=\"170.33\" y=\"-5.28\" font-family=\"Monospace\" font-size=\"10.00\"> </text>\n",
       "</g>\n",
       "<!-- 0&#45;&gt;16 -->\n",
       "<g id=\"edge25\" class=\"edge\">\n",
       "<title>0&#45;&gt;16</title>\n",
       "<path fill=\"none\" stroke=\"black\" d=\"M57.84,-7.78C77.98,-7.78 135.79,-7.78 159.25,-7.78\"/>\n",
       "<polygon fill=\"black\" stroke=\"black\" points=\"159.46,-8.83 162.46,-7.78 159.46,-6.73 159.46,-8.83\"/>\n",
       "<text text-anchor=\"middle\" x=\"110.06\" y=\"-10.58\" font-family=\"Monospace\" font-size=\"9.00\">(46506, &#39;&#39;)/1</text>\n",
       "</g>\n",
       "<!-- 1 -->\n",
       "<g id=\"node3\" class=\"node\">\n",
       "<title>1</title>\n",
       "<ellipse fill=\"none\" stroke=\"black\" cx=\"2683.13\" cy=\"-7.78\" rx=\"7.56\" ry=\"7.56\"/>\n",
       "<text text-anchor=\"middle\" x=\"2683.13\" y=\"-5.28\" font-family=\"Monospace\" font-size=\"10.00\"> </text>\n",
       "</g>\n",
       "<!-- 20 -->\n",
       "<g id=\"node22\" class=\"node\">\n",
       "<title>20</title>\n",
       "<ellipse fill=\"none\" stroke=\"black\" cx=\"2792.69\" cy=\"-7.78\" rx=\"7.56\" ry=\"7.56\"/>\n",
       "<text text-anchor=\"middle\" x=\"2792.69\" y=\"-5.28\" font-family=\"Monospace\" font-size=\"10.00\"> </text>\n",
       "</g>\n",
       "<!-- 1&#45;&gt;20 -->\n",
       "<g id=\"edge3\" class=\"edge\">\n",
       "<title>1&#45;&gt;20</title>\n",
       "<path fill=\"none\" stroke=\"black\" d=\"M2691.19,-7.78C2709.73,-7.78 2759.89,-7.78 2781.53,-7.78\"/>\n",
       "<polygon fill=\"black\" stroke=\"black\" points=\"2781.74,-8.83 2784.74,-7.78 2781.74,-6.73 2781.74,-8.83\"/>\n",
       "<text text-anchor=\"middle\" x=\"2737.91\" y=\"-10.58\" font-family=\"Monospace\" font-size=\"9.00\">(&#39;&#39;, &#39;d&#39;)/1</text>\n",
       "</g>\n",
       "<!-- 2 -->\n",
       "<g id=\"node4\" class=\"node\">\n",
       "<title>2</title>\n",
       "<ellipse fill=\"none\" stroke=\"black\" cx=\"608.56\" cy=\"-7.78\" rx=\"7.56\" ry=\"7.56\"/>\n",
       "<text text-anchor=\"middle\" x=\"608.56\" y=\"-5.28\" font-family=\"Monospace\" font-size=\"10.00\"> </text>\n",
       "</g>\n",
       "<!-- 24 -->\n",
       "<g id=\"node26\" class=\"node\">\n",
       "<title>24</title>\n",
       "<ellipse fill=\"none\" stroke=\"black\" cx=\"718.12\" cy=\"-7.78\" rx=\"7.56\" ry=\"7.56\"/>\n",
       "<text text-anchor=\"middle\" x=\"718.12\" y=\"-5.28\" font-family=\"Monospace\" font-size=\"10.00\"> </text>\n",
       "</g>\n",
       "<!-- 2&#45;&gt;24 -->\n",
       "<g id=\"edge4\" class=\"edge\">\n",
       "<title>2&#45;&gt;24</title>\n",
       "<path fill=\"none\" stroke=\"black\" d=\"M616.62,-7.78C635.16,-7.78 685.32,-7.78 706.95,-7.78\"/>\n",
       "<polygon fill=\"black\" stroke=\"black\" points=\"707.17,-8.83 710.17,-7.78 707.17,-6.73 707.17,-8.83\"/>\n",
       "<text text-anchor=\"middle\" x=\"663.34\" y=\"-10.58\" font-family=\"Monospace\" font-size=\"9.00\">(&#39;&#39;, &#39;C&#39;)/1</text>\n",
       "</g>\n",
       "<!-- 3 -->\n",
       "<g id=\"node5\" class=\"node\">\n",
       "<title>3</title>\n",
       "<ellipse fill=\"none\" stroke=\"black\" cx=\"3011.8\" cy=\"-7.78\" rx=\"7.56\" ry=\"7.56\"/>\n",
       "<text text-anchor=\"middle\" x=\"3011.8\" y=\"-5.28\" font-family=\"Monospace\" font-size=\"10.00\"> </text>\n",
       "</g>\n",
       "<!-- 21 -->\n",
       "<g id=\"node23\" class=\"node\">\n",
       "<title>21</title>\n",
       "<ellipse fill=\"none\" stroke=\"black\" cx=\"3121.36\" cy=\"-7.78\" rx=\"7.56\" ry=\"7.56\"/>\n",
       "<text text-anchor=\"middle\" x=\"3121.36\" y=\"-5.28\" font-family=\"Monospace\" font-size=\"10.00\"> </text>\n",
       "</g>\n",
       "<!-- 3&#45;&gt;21 -->\n",
       "<g id=\"edge5\" class=\"edge\">\n",
       "<title>3&#45;&gt;21</title>\n",
       "<path fill=\"none\" stroke=\"black\" d=\"M3019.86,-7.78C3038.4,-7.78 3088.56,-7.78 3110.19,-7.78\"/>\n",
       "<polygon fill=\"black\" stroke=\"black\" points=\"3110.41,-8.83 3113.41,-7.78 3110.41,-6.73 3110.41,-8.83\"/>\n",
       "<text text-anchor=\"middle\" x=\"3066.58\" y=\"-10.58\" font-family=\"Monospace\" font-size=\"9.00\">(&#39;&#39;, &#39;a&#39;)/1</text>\n",
       "</g>\n",
       "<!-- 4 -->\n",
       "<g id=\"node6\" class=\"node\">\n",
       "<title>4</title>\n",
       "<ellipse fill=\"none\" stroke=\"black\" cx=\"279.89\" cy=\"-7.78\" rx=\"7.56\" ry=\"7.56\"/>\n",
       "<text text-anchor=\"middle\" x=\"279.89\" y=\"-5.28\" font-family=\"Monospace\" font-size=\"10.00\"> </text>\n",
       "</g>\n",
       "<!-- 23 -->\n",
       "<g id=\"node25\" class=\"node\">\n",
       "<title>23</title>\n",
       "<ellipse fill=\"none\" stroke=\"black\" cx=\"389.45\" cy=\"-7.78\" rx=\"7.56\" ry=\"7.56\"/>\n",
       "<text text-anchor=\"middle\" x=\"389.45\" y=\"-5.28\" font-family=\"Monospace\" font-size=\"10.00\"> </text>\n",
       "</g>\n",
       "<!-- 4&#45;&gt;23 -->\n",
       "<g id=\"edge6\" class=\"edge\">\n",
       "<title>4&#45;&gt;23</title>\n",
       "<path fill=\"none\" stroke=\"black\" d=\"M287.95,-7.78C306.49,-7.78 356.65,-7.78 378.29,-7.78\"/>\n",
       "<polygon fill=\"black\" stroke=\"black\" points=\"378.5,-8.83 381.5,-7.78 378.5,-6.73 378.5,-8.83\"/>\n",
       "<text text-anchor=\"middle\" x=\"334.67\" y=\"-10.58\" font-family=\"Monospace\" font-size=\"9.00\">(&#39;&#39;, &#39;E&#39;)/1</text>\n",
       "</g>\n",
       "<!-- 5 -->\n",
       "<g id=\"node7\" class=\"node\">\n",
       "<title>5</title>\n",
       "<ellipse fill=\"none\" stroke=\"black\" cx=\"1701.12\" cy=\"-7.78\" rx=\"7.56\" ry=\"7.56\"/>\n",
       "<text text-anchor=\"middle\" x=\"1701.12\" y=\"-5.28\" font-family=\"Monospace\" font-size=\"10.00\"> </text>\n",
       "</g>\n",
       "<!-- 8 -->\n",
       "<g id=\"node10\" class=\"node\">\n",
       "<title>8</title>\n",
       "<ellipse fill=\"none\" stroke=\"black\" cx=\"1810.68\" cy=\"-7.78\" rx=\"7.56\" ry=\"7.56\"/>\n",
       "<text text-anchor=\"middle\" x=\"1810.68\" y=\"-5.28\" font-family=\"Monospace\" font-size=\"10.00\"> </text>\n",
       "</g>\n",
       "<!-- 5&#45;&gt;8 -->\n",
       "<g id=\"edge7\" class=\"edge\">\n",
       "<title>5&#45;&gt;8</title>\n",
       "<path fill=\"none\" stroke=\"black\" d=\"M1709.18,-7.78C1727.72,-7.78 1777.88,-7.78 1799.52,-7.78\"/>\n",
       "<polygon fill=\"black\" stroke=\"black\" points=\"1799.74,-8.83 1802.74,-7.78 1799.74,-6.73 1799.74,-8.83\"/>\n",
       "<text text-anchor=\"middle\" x=\"1755.9\" y=\"-10.58\" font-family=\"Monospace\" font-size=\"9.00\">(&#39;&#39;, &#39; &#39;)/1</text>\n",
       "</g>\n",
       "<!-- 6 -->\n",
       "<g id=\"node8\" class=\"node\">\n",
       "<title>6</title>\n",
       "<ellipse fill=\"none\" stroke=\"black\" cx=\"2139.35\" cy=\"-7.78\" rx=\"7.56\" ry=\"7.56\"/>\n",
       "<text text-anchor=\"middle\" x=\"2139.35\" y=\"-5.28\" font-family=\"Monospace\" font-size=\"10.00\"> </text>\n",
       "</g>\n",
       "<!-- 27 -->\n",
       "<g id=\"node29\" class=\"node\">\n",
       "<title>27</title>\n",
       "<ellipse fill=\"none\" stroke=\"black\" cx=\"2248.91\" cy=\"-7.78\" rx=\"7.56\" ry=\"7.56\"/>\n",
       "<text text-anchor=\"middle\" x=\"2248.91\" y=\"-5.28\" font-family=\"Monospace\" font-size=\"10.00\"> </text>\n",
       "</g>\n",
       "<!-- 6&#45;&gt;27 -->\n",
       "<g id=\"edge8\" class=\"edge\">\n",
       "<title>6&#45;&gt;27</title>\n",
       "<path fill=\"none\" stroke=\"black\" d=\"M2147.41,-7.78C2165.95,-7.78 2216.11,-7.78 2237.74,-7.78\"/>\n",
       "<polygon fill=\"black\" stroke=\"black\" points=\"2237.96,-8.83 2240.96,-7.78 2237.96,-6.73 2237.96,-8.83\"/>\n",
       "<text text-anchor=\"middle\" x=\"2194.13\" y=\"-10.58\" font-family=\"Monospace\" font-size=\"9.00\">(&#39;&#39;, &#39;M&#39;)/1</text>\n",
       "</g>\n",
       "<!-- 7 -->\n",
       "<g id=\"node9\" class=\"node\">\n",
       "<title>7</title>\n",
       "<ellipse fill=\"none\" stroke=\"black\" cx=\"1580.57\" cy=\"-7.78\" rx=\"7.56\" ry=\"7.56\"/>\n",
       "<text text-anchor=\"middle\" x=\"1580.57\" y=\"-5.28\" font-family=\"Monospace\" font-size=\"10.00\"> </text>\n",
       "</g>\n",
       "<!-- 7&#45;&gt;5 -->\n",
       "<g id=\"edge9\" class=\"edge\">\n",
       "<title>7&#45;&gt;5</title>\n",
       "<path fill=\"none\" stroke=\"black\" d=\"M1588.63,-7.78C1608.77,-7.78 1666.58,-7.78 1690.04,-7.78\"/>\n",
       "<polygon fill=\"black\" stroke=\"black\" points=\"1690.25,-8.83 1693.25,-7.78 1690.25,-6.73 1690.25,-8.83\"/>\n",
       "<text text-anchor=\"middle\" x=\"1640.85\" y=\"-10.58\" font-family=\"Monospace\" font-size=\"9.00\">(16034, &#39;&#39;)/1</text>\n",
       "</g>\n",
       "<!-- 26 -->\n",
       "<g id=\"node28\" class=\"node\">\n",
       "<title>26</title>\n",
       "<ellipse fill=\"none\" stroke=\"black\" cx=\"1920.24\" cy=\"-7.78\" rx=\"7.56\" ry=\"7.56\"/>\n",
       "<text text-anchor=\"middle\" x=\"1920.24\" y=\"-5.28\" font-family=\"Monospace\" font-size=\"10.00\"> </text>\n",
       "</g>\n",
       "<!-- 8&#45;&gt;26 -->\n",
       "<g id=\"edge10\" class=\"edge\">\n",
       "<title>8&#45;&gt;26</title>\n",
       "<path fill=\"none\" stroke=\"black\" d=\"M1818.74,-7.78C1837.28,-7.78 1887.44,-7.78 1909.07,-7.78\"/>\n",
       "<polygon fill=\"black\" stroke=\"black\" points=\"1909.29,-8.83 1912.29,-7.78 1909.29,-6.73 1909.29,-8.83\"/>\n",
       "<text text-anchor=\"middle\" x=\"1865.46\" y=\"-10.58\" font-family=\"Monospace\" font-size=\"9.00\">(&#39;&#39;, &#39;F&#39;)/1</text>\n",
       "</g>\n",
       "<!-- 9 -->\n",
       "<g id=\"node11\" class=\"node\">\n",
       "<title>9</title>\n",
       "<ellipse fill=\"none\" stroke=\"black\" cx=\"1036.79\" cy=\"-7.78\" rx=\"7.56\" ry=\"7.56\"/>\n",
       "<text text-anchor=\"middle\" x=\"1036.79\" y=\"-5.28\" font-family=\"Monospace\" font-size=\"10.00\"> </text>\n",
       "</g>\n",
       "<!-- 22 -->\n",
       "<g id=\"node24\" class=\"node\">\n",
       "<title>22</title>\n",
       "<ellipse fill=\"none\" stroke=\"black\" cx=\"1152.34\" cy=\"-7.78\" rx=\"7.56\" ry=\"7.56\"/>\n",
       "<text text-anchor=\"middle\" x=\"1152.34\" y=\"-5.28\" font-family=\"Monospace\" font-size=\"10.00\"> </text>\n",
       "</g>\n",
       "<!-- 9&#45;&gt;22 -->\n",
       "<g id=\"edge11\" class=\"edge\">\n",
       "<title>9&#45;&gt;22</title>\n",
       "<path fill=\"none\" stroke=\"black\" d=\"M1044.89,-7.78C1064.42,-7.78 1118.96,-7.78 1141.45,-7.78\"/>\n",
       "<polygon fill=\"black\" stroke=\"black\" points=\"1141.53,-8.83 1144.53,-7.78 1141.53,-6.73 1141.53,-8.83\"/>\n",
       "<text text-anchor=\"middle\" x=\"1094.56\" y=\"-10.58\" font-family=\"Monospace\" font-size=\"9.00\">(1635, &#39;&#39;)/1</text>\n",
       "</g>\n",
       "<!-- 10 -->\n",
       "<g id=\"node12\" class=\"node\">\n",
       "<title>10</title>\n",
       "<ellipse fill=\"none\" stroke=\"black\" cx=\"2353.46\" cy=\"-7.78\" rx=\"7.56\" ry=\"7.56\"/>\n",
       "<text text-anchor=\"middle\" x=\"2353.46\" y=\"-5.28\" font-family=\"Monospace\" font-size=\"10.00\"> </text>\n",
       "</g>\n",
       "<!-- 19 -->\n",
       "<g id=\"node21\" class=\"node\">\n",
       "<title>19</title>\n",
       "<ellipse fill=\"none\" stroke=\"black\" cx=\"2458.02\" cy=\"-7.78\" rx=\"7.56\" ry=\"7.56\"/>\n",
       "<text text-anchor=\"middle\" x=\"2458.02\" y=\"-5.28\" font-family=\"Monospace\" font-size=\"10.00\"> </text>\n",
       "</g>\n",
       "<!-- 10&#45;&gt;19 -->\n",
       "<g id=\"edge12\" class=\"edge\">\n",
       "<title>10&#45;&gt;19</title>\n",
       "<path fill=\"none\" stroke=\"black\" d=\"M2361.51,-7.78C2379.38,-7.78 2426.5,-7.78 2447.12,-7.78\"/>\n",
       "<polygon fill=\"black\" stroke=\"black\" points=\"2447.19,-8.83 2450.19,-7.78 2447.19,-6.73 2447.19,-8.83\"/>\n",
       "<text text-anchor=\"middle\" x=\"2405.74\" y=\"-10.58\" font-family=\"Monospace\" font-size=\"9.00\">(&#39;&#39;, &#39;&#39;)/1</text>\n",
       "</g>\n",
       "<!-- 11 -->\n",
       "<g id=\"node13\" class=\"node\">\n",
       "<title>11</title>\n",
       "<ellipse fill=\"none\" stroke=\"black\" cx=\"2573.57\" cy=\"-7.78\" rx=\"7.56\" ry=\"7.56\"/>\n",
       "<text text-anchor=\"middle\" x=\"2573.57\" y=\"-5.28\" font-family=\"Monospace\" font-size=\"10.00\"> </text>\n",
       "</g>\n",
       "<!-- 11&#45;&gt;1 -->\n",
       "<g id=\"edge13\" class=\"edge\">\n",
       "<title>11&#45;&gt;1</title>\n",
       "<path fill=\"none\" stroke=\"black\" d=\"M2581.63,-7.78C2600.17,-7.78 2650.33,-7.78 2671.97,-7.78\"/>\n",
       "<polygon fill=\"black\" stroke=\"black\" points=\"2672.19,-8.83 2675.19,-7.78 2672.19,-6.73 2672.19,-8.83\"/>\n",
       "<text text-anchor=\"middle\" x=\"2628.35\" y=\"-10.58\" font-family=\"Monospace\" font-size=\"9.00\">(&#39;&#39;, &#39; &#39;)/1</text>\n",
       "</g>\n",
       "<!-- 12 -->\n",
       "<g id=\"node14\" class=\"node\">\n",
       "<title>12</title>\n",
       "<ellipse fill=\"none\" stroke=\"black\" cx=\"2902.24\" cy=\"-7.78\" rx=\"7.56\" ry=\"7.56\"/>\n",
       "<text text-anchor=\"middle\" x=\"2902.24\" y=\"-5.28\" font-family=\"Monospace\" font-size=\"10.00\"> </text>\n",
       "</g>\n",
       "<!-- 12&#45;&gt;3 -->\n",
       "<g id=\"edge14\" class=\"edge\">\n",
       "<title>12&#45;&gt;3</title>\n",
       "<path fill=\"none\" stroke=\"black\" d=\"M2910.3,-7.78C2928.84,-7.78 2979,-7.78 3000.64,-7.78\"/>\n",
       "<polygon fill=\"black\" stroke=\"black\" points=\"3000.86,-8.83 3003.86,-7.78 3000.86,-6.73 3000.86,-8.83\"/>\n",
       "<text text-anchor=\"middle\" x=\"2957.02\" y=\"-10.58\" font-family=\"Monospace\" font-size=\"9.00\">(&#39;&#39;, &#39;t&#39;)/1</text>\n",
       "</g>\n",
       "<!-- 13 -->\n",
       "<g id=\"node15\" class=\"node\">\n",
       "<title>13</title>\n",
       "<ellipse fill=\"none\" stroke=\"black\" cx=\"827.67\" cy=\"-7.78\" rx=\"7.56\" ry=\"7.56\"/>\n",
       "<text text-anchor=\"middle\" x=\"827.67\" y=\"-5.28\" font-family=\"Monospace\" font-size=\"10.00\"> </text>\n",
       "</g>\n",
       "<!-- 29 -->\n",
       "<g id=\"node31\" class=\"node\">\n",
       "<title>29</title>\n",
       "<ellipse fill=\"none\" stroke=\"black\" cx=\"932.23\" cy=\"-7.78\" rx=\"7.56\" ry=\"7.56\"/>\n",
       "<text text-anchor=\"middle\" x=\"932.23\" y=\"-5.28\" font-family=\"Monospace\" font-size=\"10.00\"> </text>\n",
       "</g>\n",
       "<!-- 13&#45;&gt;29 -->\n",
       "<g id=\"edge15\" class=\"edge\">\n",
       "<title>13&#45;&gt;29</title>\n",
       "<path fill=\"none\" stroke=\"black\" d=\"M835.72,-7.78C853.59,-7.78 900.71,-7.78 921.33,-7.78\"/>\n",
       "<polygon fill=\"black\" stroke=\"black\" points=\"921.4,-8.83 924.4,-7.78 921.4,-6.73 921.4,-8.83\"/>\n",
       "<text text-anchor=\"middle\" x=\"879.95\" y=\"-10.58\" font-family=\"Monospace\" font-size=\"9.00\">(&#39;&#39;, &#39;&#39;)/1</text>\n",
       "</g>\n",
       "<!-- 14 -->\n",
       "<g id=\"node16\" class=\"node\">\n",
       "<title>14</title>\n",
       "<ellipse fill=\"none\" stroke=\"black\" cx=\"1371.45\" cy=\"-7.78\" rx=\"7.56\" ry=\"7.56\"/>\n",
       "<text text-anchor=\"middle\" x=\"1371.45\" y=\"-5.28\" font-family=\"Monospace\" font-size=\"10.00\"> </text>\n",
       "</g>\n",
       "<!-- 28 -->\n",
       "<g id=\"node30\" class=\"node\">\n",
       "<title>28</title>\n",
       "<ellipse fill=\"none\" stroke=\"black\" cx=\"1476.01\" cy=\"-7.78\" rx=\"7.56\" ry=\"7.56\"/>\n",
       "<text text-anchor=\"middle\" x=\"1476.01\" y=\"-5.28\" font-family=\"Monospace\" font-size=\"10.00\"> </text>\n",
       "</g>\n",
       "<!-- 14&#45;&gt;28 -->\n",
       "<g id=\"edge16\" class=\"edge\">\n",
       "<title>14&#45;&gt;28</title>\n",
       "<path fill=\"none\" stroke=\"black\" d=\"M1379.5,-7.78C1397.37,-7.78 1444.49,-7.78 1465.11,-7.78\"/>\n",
       "<polygon fill=\"black\" stroke=\"black\" points=\"1465.18,-8.83 1468.18,-7.78 1465.18,-6.73 1465.18,-8.83\"/>\n",
       "<text text-anchor=\"middle\" x=\"1423.73\" y=\"-10.58\" font-family=\"Monospace\" font-size=\"9.00\">(&#39;&#39;, &#39;&#39;)/1</text>\n",
       "</g>\n",
       "<!-- 15 -->\n",
       "<g id=\"node17\" class=\"node\">\n",
       "<title>15</title>\n",
       "<ellipse fill=\"none\" stroke=\"black\" cx=\"499\" cy=\"-7.78\" rx=\"7.56\" ry=\"7.56\"/>\n",
       "<text text-anchor=\"middle\" x=\"499\" y=\"-5.28\" font-family=\"Monospace\" font-size=\"10.00\"> </text>\n",
       "</g>\n",
       "<!-- 15&#45;&gt;2 -->\n",
       "<g id=\"edge17\" class=\"edge\">\n",
       "<title>15&#45;&gt;2</title>\n",
       "<path fill=\"none\" stroke=\"black\" d=\"M507.06,-7.78C525.6,-7.78 575.76,-7.78 597.4,-7.78\"/>\n",
       "<polygon fill=\"black\" stroke=\"black\" points=\"597.62,-8.83 600.62,-7.78 597.62,-6.73 597.62,-8.83\"/>\n",
       "<text text-anchor=\"middle\" x=\"553.78\" y=\"-10.58\" font-family=\"Monospace\" font-size=\"9.00\">(&#39;&#39;, &#39;E&#39;)/1</text>\n",
       "</g>\n",
       "<!-- 16&#45;&gt;4 -->\n",
       "<g id=\"edge18\" class=\"edge\">\n",
       "<title>16&#45;&gt;4</title>\n",
       "<path fill=\"none\" stroke=\"black\" d=\"M178.39,-7.78C196.93,-7.78 247.09,-7.78 268.73,-7.78\"/>\n",
       "<polygon fill=\"black\" stroke=\"black\" points=\"268.95,-8.83 271.95,-7.78 268.95,-6.73 268.95,-8.83\"/>\n",
       "<text text-anchor=\"middle\" x=\"225.11\" y=\"-10.58\" font-family=\"Monospace\" font-size=\"9.00\">(&#39;&#39;, &#39;S&#39;)/1</text>\n",
       "</g>\n",
       "<!-- 17 -->\n",
       "<g id=\"node19\" class=\"node\">\n",
       "<title>17</title>\n",
       "<ellipse fill=\"none\" stroke=\"black\" cx=\"3225.91\" cy=\"-7.78\" rx=\"7.56\" ry=\"7.56\"/>\n",
       "<text text-anchor=\"middle\" x=\"3225.91\" y=\"-5.28\" font-family=\"Monospace\" font-size=\"10.00\"> </text>\n",
       "</g>\n",
       "<!-- stop_(((46506, 1635, 16034, 1366), 1), 1) -->\n",
       "<g id=\"node32\" class=\"node\">\n",
       "<title>stop_(((46506, 1635, 16034, 1366), 1), 1)</title>\n",
       "<ellipse fill=\"black\" stroke=\"black\" cx=\"3275.69\" cy=\"-7.78\" rx=\"0\" ry=\"0\"/>\n",
       "</g>\n",
       "<!-- 17&#45;&gt;stop_(((46506, 1635, 16034, 1366), 1), 1) -->\n",
       "<g id=\"edge2\" class=\"edge\">\n",
       "<title>17&#45;&gt;stop_(((46506, 1635, 16034, 1366), 1), 1)</title>\n",
       "<path fill=\"none\" stroke=\"black\" d=\"M3233.96,-7.78C3244.42,-7.78 3263.65,-7.78 3271.36,-7.78\"/>\n",
       "<polygon fill=\"black\" stroke=\"black\" points=\"3271.61,-8.83 3274.61,-7.78 3271.61,-6.73 3271.61,-8.83\"/>\n",
       "<text text-anchor=\"middle\" x=\"3254.69\" y=\"-10.58\" font-family=\"Monospace\" font-size=\"9.00\">1</text>\n",
       "</g>\n",
       "<!-- 18 -->\n",
       "<g id=\"node20\" class=\"node\">\n",
       "<title>18</title>\n",
       "<ellipse fill=\"none\" stroke=\"black\" cx=\"2029.79\" cy=\"-7.78\" rx=\"7.56\" ry=\"7.56\"/>\n",
       "<text text-anchor=\"middle\" x=\"2029.79\" y=\"-5.28\" font-family=\"Monospace\" font-size=\"10.00\"> </text>\n",
       "</g>\n",
       "<!-- 18&#45;&gt;6 -->\n",
       "<g id=\"edge19\" class=\"edge\">\n",
       "<title>18&#45;&gt;6</title>\n",
       "<path fill=\"none\" stroke=\"black\" d=\"M2037.85,-7.78C2056.39,-7.78 2106.55,-7.78 2128.19,-7.78\"/>\n",
       "<polygon fill=\"black\" stroke=\"black\" points=\"2128.41,-8.83 2131.41,-7.78 2128.41,-6.73 2128.41,-8.83\"/>\n",
       "<text text-anchor=\"middle\" x=\"2084.57\" y=\"-10.58\" font-family=\"Monospace\" font-size=\"9.00\">(&#39;&#39;, &#39;O&#39;)/1</text>\n",
       "</g>\n",
       "<!-- 19&#45;&gt;11 -->\n",
       "<g id=\"edge20\" class=\"edge\">\n",
       "<title>19&#45;&gt;11</title>\n",
       "<path fill=\"none\" stroke=\"black\" d=\"M2466.12,-7.78C2485.65,-7.78 2540.19,-7.78 2562.68,-7.78\"/>\n",
       "<polygon fill=\"black\" stroke=\"black\" points=\"2562.76,-8.83 2565.76,-7.78 2562.76,-6.73 2562.76,-8.83\"/>\n",
       "<text text-anchor=\"middle\" x=\"2515.8\" y=\"-10.58\" font-family=\"Monospace\" font-size=\"9.00\">(1366, &#39;&#39;)/1</text>\n",
       "</g>\n",
       "<!-- 20&#45;&gt;12 -->\n",
       "<g id=\"edge21\" class=\"edge\">\n",
       "<title>20&#45;&gt;12</title>\n",
       "<path fill=\"none\" stroke=\"black\" d=\"M2800.74,-7.78C2819.29,-7.78 2869.44,-7.78 2891.08,-7.78\"/>\n",
       "<polygon fill=\"black\" stroke=\"black\" points=\"2891.3,-8.83 2894.3,-7.78 2891.3,-6.73 2891.3,-8.83\"/>\n",
       "<text text-anchor=\"middle\" x=\"2847.47\" y=\"-10.58\" font-family=\"Monospace\" font-size=\"9.00\">(&#39;&#39;, &#39;a&#39;)/1</text>\n",
       "</g>\n",
       "<!-- 21&#45;&gt;17 -->\n",
       "<g id=\"edge22\" class=\"edge\">\n",
       "<title>21&#45;&gt;17</title>\n",
       "<path fill=\"none\" stroke=\"black\" d=\"M3129.41,-7.78C3147.28,-7.78 3194.39,-7.78 3215.01,-7.78\"/>\n",
       "<polygon fill=\"black\" stroke=\"black\" points=\"3215.08,-8.83 3218.08,-7.78 3215.08,-6.73 3215.08,-8.83\"/>\n",
       "<text text-anchor=\"middle\" x=\"3173.63\" y=\"-10.58\" font-family=\"Monospace\" font-size=\"9.00\">(&#39;&#39;, &#39;&#39;)/1</text>\n",
       "</g>\n",
       "<!-- 25 -->\n",
       "<g id=\"node27\" class=\"node\">\n",
       "<title>25</title>\n",
       "<ellipse fill=\"none\" stroke=\"black\" cx=\"1261.9\" cy=\"-7.78\" rx=\"7.56\" ry=\"7.56\"/>\n",
       "<text text-anchor=\"middle\" x=\"1261.9\" y=\"-5.28\" font-family=\"Monospace\" font-size=\"10.00\"> </text>\n",
       "</g>\n",
       "<!-- 22&#45;&gt;25 -->\n",
       "<g id=\"edge23\" class=\"edge\">\n",
       "<title>22&#45;&gt;25</title>\n",
       "<path fill=\"none\" stroke=\"black\" d=\"M1160.4,-7.78C1178.94,-7.78 1229.1,-7.78 1250.74,-7.78\"/>\n",
       "<polygon fill=\"black\" stroke=\"black\" points=\"1250.95,-8.83 1253.95,-7.78 1250.95,-6.73 1250.95,-8.83\"/>\n",
       "<text text-anchor=\"middle\" x=\"1207.12\" y=\"-10.58\" font-family=\"Monospace\" font-size=\"9.00\">(&#39;&#39;, &#39; &#39;)/1</text>\n",
       "</g>\n",
       "<!-- 23&#45;&gt;15 -->\n",
       "<g id=\"edge24\" class=\"edge\">\n",
       "<title>23&#45;&gt;15</title>\n",
       "<path fill=\"none\" stroke=\"black\" d=\"M397.5,-7.78C416.05,-7.78 466.2,-7.78 487.84,-7.78\"/>\n",
       "<polygon fill=\"black\" stroke=\"black\" points=\"488.06,-8.83 491.06,-7.78 488.06,-6.73 488.06,-8.83\"/>\n",
       "<text text-anchor=\"middle\" x=\"444.23\" y=\"-10.58\" font-family=\"Monospace\" font-size=\"9.00\">(&#39;&#39;, &#39;L&#39;)/1</text>\n",
       "</g>\n",
       "<!-- 24&#45;&gt;13 -->\n",
       "<g id=\"edge26\" class=\"edge\">\n",
       "<title>24&#45;&gt;13</title>\n",
       "<path fill=\"none\" stroke=\"black\" d=\"M726.17,-7.78C744.72,-7.78 794.87,-7.78 816.51,-7.78\"/>\n",
       "<polygon fill=\"black\" stroke=\"black\" points=\"816.73,-8.83 819.73,-7.78 816.73,-6.73 816.73,-8.83\"/>\n",
       "<text text-anchor=\"middle\" x=\"772.89\" y=\"-10.58\" font-family=\"Monospace\" font-size=\"9.00\">(&#39;&#39;, &#39;T&#39;)/1</text>\n",
       "</g>\n",
       "<!-- 25&#45;&gt;14 -->\n",
       "<g id=\"edge27\" class=\"edge\">\n",
       "<title>25&#45;&gt;14</title>\n",
       "<path fill=\"none\" stroke=\"black\" d=\"M1269.96,-7.78C1288.5,-7.78 1338.66,-7.78 1360.29,-7.78\"/>\n",
       "<polygon fill=\"black\" stroke=\"black\" points=\"1360.51,-8.83 1363.51,-7.78 1360.51,-6.73 1360.51,-8.83\"/>\n",
       "<text text-anchor=\"middle\" x=\"1316.68\" y=\"-10.58\" font-family=\"Monospace\" font-size=\"9.00\">(&#39;&#39;, &#39;*&#39;)/1</text>\n",
       "</g>\n",
       "<!-- 26&#45;&gt;18 -->\n",
       "<g id=\"edge28\" class=\"edge\">\n",
       "<title>26&#45;&gt;18</title>\n",
       "<path fill=\"none\" stroke=\"black\" d=\"M1928.29,-7.78C1946.84,-7.78 1996.99,-7.78 2018.63,-7.78\"/>\n",
       "<polygon fill=\"black\" stroke=\"black\" points=\"2018.85,-8.83 2021.85,-7.78 2018.85,-6.73 2018.85,-8.83\"/>\n",
       "<text text-anchor=\"middle\" x=\"1975.01\" y=\"-10.58\" font-family=\"Monospace\" font-size=\"9.00\">(&#39;&#39;, &#39;R&#39;)/1</text>\n",
       "</g>\n",
       "<!-- 27&#45;&gt;10 -->\n",
       "<g id=\"edge29\" class=\"edge\">\n",
       "<title>27&#45;&gt;10</title>\n",
       "<path fill=\"none\" stroke=\"black\" d=\"M2256.95,-7.78C2274.82,-7.78 2321.94,-7.78 2342.56,-7.78\"/>\n",
       "<polygon fill=\"black\" stroke=\"black\" points=\"2342.63,-8.83 2345.63,-7.78 2342.63,-6.73 2342.63,-8.83\"/>\n",
       "<text text-anchor=\"middle\" x=\"2301.18\" y=\"-10.58\" font-family=\"Monospace\" font-size=\"9.00\">(&#39;&#39;, &#39;&#39;)/1</text>\n",
       "</g>\n",
       "<!-- 28&#45;&gt;7 -->\n",
       "<g id=\"edge30\" class=\"edge\">\n",
       "<title>28&#45;&gt;7</title>\n",
       "<path fill=\"none\" stroke=\"black\" d=\"M1484.06,-7.78C1501.93,-7.78 1549.04,-7.78 1569.67,-7.78\"/>\n",
       "<polygon fill=\"black\" stroke=\"black\" points=\"1569.74,-8.83 1572.74,-7.78 1569.74,-6.73 1569.74,-8.83\"/>\n",
       "<text text-anchor=\"middle\" x=\"1528.29\" y=\"-10.58\" font-family=\"Monospace\" font-size=\"9.00\">(&#39;&#39;, &#39;&#39;)/1</text>\n",
       "</g>\n",
       "<!-- 29&#45;&gt;9 -->\n",
       "<g id=\"edge31\" class=\"edge\">\n",
       "<title>29&#45;&gt;9</title>\n",
       "<path fill=\"none\" stroke=\"black\" d=\"M940.28,-7.78C958.15,-7.78 1005.26,-7.78 1025.88,-7.78\"/>\n",
       "<polygon fill=\"black\" stroke=\"black\" points=\"1025.96,-8.83 1028.96,-7.78 1025.96,-6.73 1025.96,-8.83\"/>\n",
       "<text text-anchor=\"middle\" x=\"984.51\" y=\"-10.58\" font-family=\"Monospace\" font-size=\"9.00\">(&#39;&#39;, &#39;&#39;)/1</text>\n",
       "</g>\n",
       "</g>\n",
       "</svg>\n"
      ],
      "text/plain": [
       "WFSA(30 states)"
      ]
     },
     "execution_count": 73,
     "metadata": {},
     "output_type": "execute_result"
    }
   ],
   "source": [
    "c.trim"
   ]
  },
  {
   "cell_type": "markdown",
   "id": "5e537195-c06c-4642-8a15-557de5a90f98",
   "metadata": {},
   "source": [
    "We can build this \"transducer\" more efficiently"
   ]
  },
  {
   "cell_type": "code",
   "execution_count": 74,
   "id": "3cd29a5c-4b4a-4d65-b3e5-f4375b607fdb",
   "metadata": {},
   "outputs": [
    {
     "data": {
      "image/svg+xml": [
       "<?xml version=\"1.0\" encoding=\"UTF-8\" standalone=\"no\"?>\n",
       "<!DOCTYPE svg PUBLIC \"-//W3C//DTD SVG 1.1//EN\"\n",
       " \"http://www.w3.org/Graphics/SVG/1.1/DTD/svg11.dtd\">\n",
       "<!-- Generated by graphviz version 2.43.0 (0)\n",
       " -->\n",
       "<!-- Title: %3 Pages: 1 -->\n",
       "<svg width=\"2134pt\" height=\"26pt\"\n",
       " viewBox=\"0.00 0.00 2133.57 25.78\" xmlns=\"http://www.w3.org/2000/svg\" xmlns:xlink=\"http://www.w3.org/1999/xlink\">\n",
       "<g id=\"graph0\" class=\"graph\" transform=\"scale(1 1) rotate(0) translate(4 21.78)\">\n",
       "<title>%3</title>\n",
       "<polygon fill=\"white\" stroke=\"transparent\" points=\"-4,4 -4,-21.78 2129.57,-21.78 2129.57,4 -4,4\"/>\n",
       "<!-- start_5 -->\n",
       "<g id=\"node1\" class=\"node\">\n",
       "<title>start_5</title>\n",
       "<ellipse fill=\"black\" stroke=\"black\" cx=\"0\" cy=\"-7.78\" rx=\"0\" ry=\"0\"/>\n",
       "</g>\n",
       "<!-- 0 -->\n",
       "<g id=\"node2\" class=\"node\">\n",
       "<title>0</title>\n",
       "<ellipse fill=\"none\" stroke=\"black\" cx=\"49.78\" cy=\"-7.78\" rx=\"7.56\" ry=\"7.56\"/>\n",
       "<text text-anchor=\"middle\" x=\"49.78\" y=\"-5.28\" font-family=\"Monospace\" font-size=\"10.00\"> </text>\n",
       "</g>\n",
       "<!-- start_5&#45;&gt;0 -->\n",
       "<g id=\"edge1\" class=\"edge\">\n",
       "<title>start_5&#45;&gt;0</title>\n",
       "<path fill=\"none\" stroke=\"black\" d=\"M1.14,-7.78C3.07,-7.78 25.11,-7.78 38.52,-7.78\"/>\n",
       "<polygon fill=\"black\" stroke=\"black\" points=\"38.73,-8.83 41.73,-7.78 38.73,-6.73 38.73,-8.83\"/>\n",
       "<text text-anchor=\"middle\" x=\"21\" y=\"-10.58\" font-family=\"Monospace\" font-size=\"9.00\">1</text>\n",
       "</g>\n",
       "<!-- 1 -->\n",
       "<g id=\"node3\" class=\"node\">\n",
       "<title>1</title>\n",
       "<ellipse fill=\"none\" stroke=\"black\" cx=\"175.33\" cy=\"-7.78\" rx=\"7.56\" ry=\"7.56\"/>\n",
       "<text text-anchor=\"middle\" x=\"175.33\" y=\"-5.28\" font-family=\"Monospace\" font-size=\"10.00\"> </text>\n",
       "</g>\n",
       "<!-- 0&#45;&gt;1 -->\n",
       "<g id=\"edge3\" class=\"edge\">\n",
       "<title>0&#45;&gt;1</title>\n",
       "<path fill=\"none\" stroke=\"black\" d=\"M57.78,-7.78C78.59,-7.78 140.16,-7.78 164.38,-7.78\"/>\n",
       "<polygon fill=\"black\" stroke=\"black\" points=\"164.41,-8.83 167.41,-7.78 164.41,-6.73 164.41,-8.83\"/>\n",
       "<text text-anchor=\"middle\" x=\"112.56\" y=\"-10.58\" font-family=\"Monospace\" font-size=\"9.00\">(46506, &#39;S&#39;)/1</text>\n",
       "</g>\n",
       "<!-- 2 -->\n",
       "<g id=\"node4\" class=\"node\">\n",
       "<title>2</title>\n",
       "<ellipse fill=\"none\" stroke=\"black\" cx=\"284.89\" cy=\"-7.78\" rx=\"7.56\" ry=\"7.56\"/>\n",
       "<text text-anchor=\"middle\" x=\"284.89\" y=\"-5.28\" font-family=\"Monospace\" font-size=\"10.00\"> </text>\n",
       "</g>\n",
       "<!-- 1&#45;&gt;2 -->\n",
       "<g id=\"edge4\" class=\"edge\">\n",
       "<title>1&#45;&gt;2</title>\n",
       "<path fill=\"none\" stroke=\"black\" d=\"M183.39,-7.78C201.93,-7.78 252.09,-7.78 273.73,-7.78\"/>\n",
       "<polygon fill=\"black\" stroke=\"black\" points=\"273.95,-8.83 276.95,-7.78 273.95,-6.73 273.95,-8.83\"/>\n",
       "<text text-anchor=\"middle\" x=\"230.11\" y=\"-10.58\" font-family=\"Monospace\" font-size=\"9.00\">(&#39;&#39;, &#39;E&#39;)/1</text>\n",
       "</g>\n",
       "<!-- 3 -->\n",
       "<g id=\"node5\" class=\"node\">\n",
       "<title>3</title>\n",
       "<ellipse fill=\"none\" stroke=\"black\" cx=\"394.45\" cy=\"-7.78\" rx=\"7.56\" ry=\"7.56\"/>\n",
       "<text text-anchor=\"middle\" x=\"394.45\" y=\"-5.28\" font-family=\"Monospace\" font-size=\"10.00\"> </text>\n",
       "</g>\n",
       "<!-- 2&#45;&gt;3 -->\n",
       "<g id=\"edge5\" class=\"edge\">\n",
       "<title>2&#45;&gt;3</title>\n",
       "<path fill=\"none\" stroke=\"black\" d=\"M292.95,-7.78C311.49,-7.78 361.65,-7.78 383.29,-7.78\"/>\n",
       "<polygon fill=\"black\" stroke=\"black\" points=\"383.5,-8.83 386.5,-7.78 383.5,-6.73 383.5,-8.83\"/>\n",
       "<text text-anchor=\"middle\" x=\"339.67\" y=\"-10.58\" font-family=\"Monospace\" font-size=\"9.00\">(&#39;&#39;, &#39;L&#39;)/1</text>\n",
       "</g>\n",
       "<!-- 4 -->\n",
       "<g id=\"node6\" class=\"node\">\n",
       "<title>4</title>\n",
       "<ellipse fill=\"none\" stroke=\"black\" cx=\"504\" cy=\"-7.78\" rx=\"7.56\" ry=\"7.56\"/>\n",
       "<text text-anchor=\"middle\" x=\"504\" y=\"-5.28\" font-family=\"Monospace\" font-size=\"10.00\"> </text>\n",
       "</g>\n",
       "<!-- 3&#45;&gt;4 -->\n",
       "<g id=\"edge6\" class=\"edge\">\n",
       "<title>3&#45;&gt;4</title>\n",
       "<path fill=\"none\" stroke=\"black\" d=\"M402.5,-7.78C421.05,-7.78 471.2,-7.78 492.84,-7.78\"/>\n",
       "<polygon fill=\"black\" stroke=\"black\" points=\"493.06,-8.83 496.06,-7.78 493.06,-6.73 493.06,-8.83\"/>\n",
       "<text text-anchor=\"middle\" x=\"449.23\" y=\"-10.58\" font-family=\"Monospace\" font-size=\"9.00\">(&#39;&#39;, &#39;E&#39;)/1</text>\n",
       "</g>\n",
       "<!-- 5 -->\n",
       "<g id=\"node7\" class=\"node\">\n",
       "<title>5</title>\n",
       "<ellipse fill=\"none\" stroke=\"black\" cx=\"613.56\" cy=\"-7.78\" rx=\"7.56\" ry=\"7.56\"/>\n",
       "<text text-anchor=\"middle\" x=\"613.56\" y=\"-5.28\" font-family=\"Monospace\" font-size=\"10.00\"> </text>\n",
       "</g>\n",
       "<!-- 4&#45;&gt;5 -->\n",
       "<g id=\"edge7\" class=\"edge\">\n",
       "<title>4&#45;&gt;5</title>\n",
       "<path fill=\"none\" stroke=\"black\" d=\"M512.06,-7.78C530.6,-7.78 580.76,-7.78 602.4,-7.78\"/>\n",
       "<polygon fill=\"black\" stroke=\"black\" points=\"602.62,-8.83 605.62,-7.78 602.62,-6.73 602.62,-8.83\"/>\n",
       "<text text-anchor=\"middle\" x=\"558.78\" y=\"-10.58\" font-family=\"Monospace\" font-size=\"9.00\">(&#39;&#39;, &#39;C&#39;)/1</text>\n",
       "</g>\n",
       "<!-- 6 -->\n",
       "<g id=\"node8\" class=\"node\">\n",
       "<title>6</title>\n",
       "<ellipse fill=\"none\" stroke=\"black\" cx=\"723.12\" cy=\"-7.78\" rx=\"7.56\" ry=\"7.56\"/>\n",
       "<text text-anchor=\"middle\" x=\"723.12\" y=\"-5.28\" font-family=\"Monospace\" font-size=\"10.00\"> </text>\n",
       "</g>\n",
       "<!-- 5&#45;&gt;6 -->\n",
       "<g id=\"edge8\" class=\"edge\">\n",
       "<title>5&#45;&gt;6</title>\n",
       "<path fill=\"none\" stroke=\"black\" d=\"M621.62,-7.78C640.16,-7.78 690.32,-7.78 711.95,-7.78\"/>\n",
       "<polygon fill=\"black\" stroke=\"black\" points=\"712.17,-8.83 715.17,-7.78 712.17,-6.73 712.17,-8.83\"/>\n",
       "<text text-anchor=\"middle\" x=\"668.34\" y=\"-10.58\" font-family=\"Monospace\" font-size=\"9.00\">(&#39;&#39;, &#39;T&#39;)/1</text>\n",
       "</g>\n",
       "<!-- 7 -->\n",
       "<g id=\"node9\" class=\"node\">\n",
       "<title>7</title>\n",
       "<ellipse fill=\"none\" stroke=\"black\" cx=\"843.67\" cy=\"-7.78\" rx=\"7.56\" ry=\"7.56\"/>\n",
       "<text text-anchor=\"middle\" x=\"843.67\" y=\"-5.28\" font-family=\"Monospace\" font-size=\"10.00\"> </text>\n",
       "</g>\n",
       "<!-- 6&#45;&gt;7 -->\n",
       "<g id=\"edge9\" class=\"edge\">\n",
       "<title>6&#45;&gt;7</title>\n",
       "<path fill=\"none\" stroke=\"black\" d=\"M731.18,-7.78C751.32,-7.78 809.13,-7.78 832.59,-7.78\"/>\n",
       "<polygon fill=\"black\" stroke=\"black\" points=\"832.8,-8.83 835.8,-7.78 832.8,-6.73 832.8,-8.83\"/>\n",
       "<text text-anchor=\"middle\" x=\"783.39\" y=\"-10.58\" font-family=\"Monospace\" font-size=\"9.00\">(1635, &#39; &#39;)/1</text>\n",
       "</g>\n",
       "<!-- 8 -->\n",
       "<g id=\"node10\" class=\"node\">\n",
       "<title>8</title>\n",
       "<ellipse fill=\"none\" stroke=\"black\" cx=\"953.23\" cy=\"-7.78\" rx=\"7.56\" ry=\"7.56\"/>\n",
       "<text text-anchor=\"middle\" x=\"953.23\" y=\"-5.28\" font-family=\"Monospace\" font-size=\"10.00\"> </text>\n",
       "</g>\n",
       "<!-- 7&#45;&gt;8 -->\n",
       "<g id=\"edge10\" class=\"edge\">\n",
       "<title>7&#45;&gt;8</title>\n",
       "<path fill=\"none\" stroke=\"black\" d=\"M851.73,-7.78C870.27,-7.78 920.43,-7.78 942.07,-7.78\"/>\n",
       "<polygon fill=\"black\" stroke=\"black\" points=\"942.29,-8.83 945.29,-7.78 942.29,-6.73 942.29,-8.83\"/>\n",
       "<text text-anchor=\"middle\" x=\"898.45\" y=\"-10.58\" font-family=\"Monospace\" font-size=\"9.00\">(&#39;&#39;, &#39;*&#39;)/1</text>\n",
       "</g>\n",
       "<!-- 9 -->\n",
       "<g id=\"node11\" class=\"node\">\n",
       "<title>9</title>\n",
       "<ellipse fill=\"none\" stroke=\"black\" cx=\"1078.79\" cy=\"-7.78\" rx=\"7.56\" ry=\"7.56\"/>\n",
       "<text text-anchor=\"middle\" x=\"1078.79\" y=\"-5.28\" font-family=\"Monospace\" font-size=\"10.00\"> </text>\n",
       "</g>\n",
       "<!-- 8&#45;&gt;9 -->\n",
       "<g id=\"edge11\" class=\"edge\">\n",
       "<title>8&#45;&gt;9</title>\n",
       "<path fill=\"none\" stroke=\"black\" d=\"M961.23,-7.78C982.04,-7.78 1043.61,-7.78 1067.84,-7.78\"/>\n",
       "<polygon fill=\"black\" stroke=\"black\" points=\"1067.87,-8.83 1070.87,-7.78 1067.87,-6.73 1067.87,-8.83\"/>\n",
       "<text text-anchor=\"middle\" x=\"1016.01\" y=\"-10.58\" font-family=\"Monospace\" font-size=\"9.00\">(16034, &#39; &#39;)/1</text>\n",
       "</g>\n",
       "<!-- 10 -->\n",
       "<g id=\"node12\" class=\"node\">\n",
       "<title>10</title>\n",
       "<ellipse fill=\"none\" stroke=\"black\" cx=\"1188.34\" cy=\"-7.78\" rx=\"7.56\" ry=\"7.56\"/>\n",
       "<text text-anchor=\"middle\" x=\"1188.34\" y=\"-5.28\" font-family=\"Monospace\" font-size=\"10.00\"> </text>\n",
       "</g>\n",
       "<!-- 9&#45;&gt;10 -->\n",
       "<g id=\"edge12\" class=\"edge\">\n",
       "<title>9&#45;&gt;10</title>\n",
       "<path fill=\"none\" stroke=\"black\" d=\"M1086.84,-7.78C1105.39,-7.78 1155.54,-7.78 1177.18,-7.78\"/>\n",
       "<polygon fill=\"black\" stroke=\"black\" points=\"1177.4,-8.83 1180.4,-7.78 1177.4,-6.73 1177.4,-8.83\"/>\n",
       "<text text-anchor=\"middle\" x=\"1133.56\" y=\"-10.58\" font-family=\"Monospace\" font-size=\"9.00\">(&#39;&#39;, &#39;F&#39;)/1</text>\n",
       "</g>\n",
       "<!-- 11 -->\n",
       "<g id=\"node13\" class=\"node\">\n",
       "<title>11</title>\n",
       "<ellipse fill=\"none\" stroke=\"black\" cx=\"1297.9\" cy=\"-7.78\" rx=\"7.56\" ry=\"7.56\"/>\n",
       "<text text-anchor=\"middle\" x=\"1297.9\" y=\"-5.28\" font-family=\"Monospace\" font-size=\"10.00\"> </text>\n",
       "</g>\n",
       "<!-- 10&#45;&gt;11 -->\n",
       "<g id=\"edge13\" class=\"edge\">\n",
       "<title>10&#45;&gt;11</title>\n",
       "<path fill=\"none\" stroke=\"black\" d=\"M1196.4,-7.78C1214.94,-7.78 1265.1,-7.78 1286.74,-7.78\"/>\n",
       "<polygon fill=\"black\" stroke=\"black\" points=\"1286.95,-8.83 1289.95,-7.78 1286.95,-6.73 1286.95,-8.83\"/>\n",
       "<text text-anchor=\"middle\" x=\"1243.12\" y=\"-10.58\" font-family=\"Monospace\" font-size=\"9.00\">(&#39;&#39;, &#39;R&#39;)/1</text>\n",
       "</g>\n",
       "<!-- 12 -->\n",
       "<g id=\"node14\" class=\"node\">\n",
       "<title>12</title>\n",
       "<ellipse fill=\"none\" stroke=\"black\" cx=\"1407.45\" cy=\"-7.78\" rx=\"7.56\" ry=\"7.56\"/>\n",
       "<text text-anchor=\"middle\" x=\"1407.45\" y=\"-5.28\" font-family=\"Monospace\" font-size=\"10.00\"> </text>\n",
       "</g>\n",
       "<!-- 11&#45;&gt;12 -->\n",
       "<g id=\"edge14\" class=\"edge\">\n",
       "<title>11&#45;&gt;12</title>\n",
       "<path fill=\"none\" stroke=\"black\" d=\"M1305.96,-7.78C1324.5,-7.78 1374.66,-7.78 1396.29,-7.78\"/>\n",
       "<polygon fill=\"black\" stroke=\"black\" points=\"1396.51,-8.83 1399.51,-7.78 1396.51,-6.73 1396.51,-8.83\"/>\n",
       "<text text-anchor=\"middle\" x=\"1352.68\" y=\"-10.58\" font-family=\"Monospace\" font-size=\"9.00\">(&#39;&#39;, &#39;O&#39;)/1</text>\n",
       "</g>\n",
       "<!-- 14 -->\n",
       "<g id=\"node16\" class=\"node\">\n",
       "<title>14</title>\n",
       "<ellipse fill=\"none\" stroke=\"black\" cx=\"1517.01\" cy=\"-7.78\" rx=\"7.56\" ry=\"7.56\"/>\n",
       "<text text-anchor=\"middle\" x=\"1517.01\" y=\"-5.28\" font-family=\"Monospace\" font-size=\"10.00\"> </text>\n",
       "</g>\n",
       "<!-- 12&#45;&gt;14 -->\n",
       "<g id=\"edge15\" class=\"edge\">\n",
       "<title>12&#45;&gt;14</title>\n",
       "<path fill=\"none\" stroke=\"black\" d=\"M1415.51,-7.78C1434.05,-7.78 1484.21,-7.78 1505.85,-7.78\"/>\n",
       "<polygon fill=\"black\" stroke=\"black\" points=\"1506.07,-8.83 1509.07,-7.78 1506.07,-6.73 1506.07,-8.83\"/>\n",
       "<text text-anchor=\"middle\" x=\"1462.23\" y=\"-10.58\" font-family=\"Monospace\" font-size=\"9.00\">(&#39;&#39;, &#39;M&#39;)/1</text>\n",
       "</g>\n",
       "<!-- 13 -->\n",
       "<g id=\"node15\" class=\"node\">\n",
       "<title>13</title>\n",
       "<ellipse fill=\"none\" stroke=\"black\" cx=\"2075.79\" cy=\"-7.78\" rx=\"7.56\" ry=\"7.56\"/>\n",
       "<text text-anchor=\"middle\" x=\"2075.79\" y=\"-5.28\" font-family=\"Monospace\" font-size=\"10.00\"> </text>\n",
       "</g>\n",
       "<!-- stop_26 -->\n",
       "<g id=\"node21\" class=\"node\">\n",
       "<title>stop_26</title>\n",
       "<ellipse fill=\"black\" stroke=\"black\" cx=\"2125.57\" cy=\"-7.78\" rx=\"0\" ry=\"0\"/>\n",
       "</g>\n",
       "<!-- 13&#45;&gt;stop_26 -->\n",
       "<g id=\"edge2\" class=\"edge\">\n",
       "<title>13&#45;&gt;stop_26</title>\n",
       "<path fill=\"none\" stroke=\"black\" d=\"M2083.84,-7.78C2094.3,-7.78 2113.53,-7.78 2121.24,-7.78\"/>\n",
       "<polygon fill=\"black\" stroke=\"black\" points=\"2121.49,-8.83 2124.49,-7.78 2121.49,-6.73 2121.49,-8.83\"/>\n",
       "<text text-anchor=\"middle\" x=\"2104.57\" y=\"-10.58\" font-family=\"Monospace\" font-size=\"9.00\">1</text>\n",
       "</g>\n",
       "<!-- 15 -->\n",
       "<g id=\"node17\" class=\"node\">\n",
       "<title>15</title>\n",
       "<ellipse fill=\"none\" stroke=\"black\" cx=\"1637.57\" cy=\"-7.78\" rx=\"7.56\" ry=\"7.56\"/>\n",
       "<text text-anchor=\"middle\" x=\"1637.57\" y=\"-5.28\" font-family=\"Monospace\" font-size=\"10.00\"> </text>\n",
       "</g>\n",
       "<!-- 14&#45;&gt;15 -->\n",
       "<g id=\"edge16\" class=\"edge\">\n",
       "<title>14&#45;&gt;15</title>\n",
       "<path fill=\"none\" stroke=\"black\" d=\"M1525.07,-7.78C1545.22,-7.78 1603.02,-7.78 1626.49,-7.78\"/>\n",
       "<polygon fill=\"black\" stroke=\"black\" points=\"1626.69,-8.83 1629.69,-7.78 1626.69,-6.73 1626.69,-8.83\"/>\n",
       "<text text-anchor=\"middle\" x=\"1577.29\" y=\"-10.58\" font-family=\"Monospace\" font-size=\"9.00\">(1366, &#39; &#39;)/1</text>\n",
       "</g>\n",
       "<!-- 16 -->\n",
       "<g id=\"node18\" class=\"node\">\n",
       "<title>16</title>\n",
       "<ellipse fill=\"none\" stroke=\"black\" cx=\"1747.12\" cy=\"-7.78\" rx=\"7.56\" ry=\"7.56\"/>\n",
       "<text text-anchor=\"middle\" x=\"1747.12\" y=\"-5.28\" font-family=\"Monospace\" font-size=\"10.00\"> </text>\n",
       "</g>\n",
       "<!-- 15&#45;&gt;16 -->\n",
       "<g id=\"edge17\" class=\"edge\">\n",
       "<title>15&#45;&gt;16</title>\n",
       "<path fill=\"none\" stroke=\"black\" d=\"M1645.62,-7.78C1664.17,-7.78 1714.32,-7.78 1735.96,-7.78\"/>\n",
       "<polygon fill=\"black\" stroke=\"black\" points=\"1736.18,-8.83 1739.18,-7.78 1736.18,-6.73 1736.18,-8.83\"/>\n",
       "<text text-anchor=\"middle\" x=\"1692.35\" y=\"-10.58\" font-family=\"Monospace\" font-size=\"9.00\">(&#39;&#39;, &#39;d&#39;)/1</text>\n",
       "</g>\n",
       "<!-- 17 -->\n",
       "<g id=\"node19\" class=\"node\">\n",
       "<title>17</title>\n",
       "<ellipse fill=\"none\" stroke=\"black\" cx=\"1856.68\" cy=\"-7.78\" rx=\"7.56\" ry=\"7.56\"/>\n",
       "<text text-anchor=\"middle\" x=\"1856.68\" y=\"-5.28\" font-family=\"Monospace\" font-size=\"10.00\"> </text>\n",
       "</g>\n",
       "<!-- 16&#45;&gt;17 -->\n",
       "<g id=\"edge18\" class=\"edge\">\n",
       "<title>16&#45;&gt;17</title>\n",
       "<path fill=\"none\" stroke=\"black\" d=\"M1755.18,-7.78C1773.72,-7.78 1823.88,-7.78 1845.52,-7.78\"/>\n",
       "<polygon fill=\"black\" stroke=\"black\" points=\"1845.74,-8.83 1848.74,-7.78 1845.74,-6.73 1845.74,-8.83\"/>\n",
       "<text text-anchor=\"middle\" x=\"1801.9\" y=\"-10.58\" font-family=\"Monospace\" font-size=\"9.00\">(&#39;&#39;, &#39;a&#39;)/1</text>\n",
       "</g>\n",
       "<!-- 18 -->\n",
       "<g id=\"node20\" class=\"node\">\n",
       "<title>18</title>\n",
       "<ellipse fill=\"none\" stroke=\"black\" cx=\"1966.24\" cy=\"-7.78\" rx=\"7.56\" ry=\"7.56\"/>\n",
       "<text text-anchor=\"middle\" x=\"1966.24\" y=\"-5.28\" font-family=\"Monospace\" font-size=\"10.00\"> </text>\n",
       "</g>\n",
       "<!-- 17&#45;&gt;18 -->\n",
       "<g id=\"edge19\" class=\"edge\">\n",
       "<title>17&#45;&gt;18</title>\n",
       "<path fill=\"none\" stroke=\"black\" d=\"M1864.74,-7.78C1883.28,-7.78 1933.44,-7.78 1955.07,-7.78\"/>\n",
       "<polygon fill=\"black\" stroke=\"black\" points=\"1955.29,-8.83 1958.29,-7.78 1955.29,-6.73 1955.29,-8.83\"/>\n",
       "<text text-anchor=\"middle\" x=\"1911.46\" y=\"-10.58\" font-family=\"Monospace\" font-size=\"9.00\">(&#39;&#39;, &#39;t&#39;)/1</text>\n",
       "</g>\n",
       "<!-- 18&#45;&gt;13 -->\n",
       "<g id=\"edge20\" class=\"edge\">\n",
       "<title>18&#45;&gt;13</title>\n",
       "<path fill=\"none\" stroke=\"black\" d=\"M1974.29,-7.78C1992.84,-7.78 2042.99,-7.78 2064.63,-7.78\"/>\n",
       "<polygon fill=\"black\" stroke=\"black\" points=\"2064.85,-8.83 2067.85,-7.78 2064.85,-6.73 2064.85,-8.83\"/>\n",
       "<text text-anchor=\"middle\" x=\"2021.01\" y=\"-10.58\" font-family=\"Monospace\" font-size=\"9.00\">(&#39;&#39;, &#39;a&#39;)/1</text>\n",
       "</g>\n",
       "</g>\n",
       "</svg>\n"
      ],
      "text/plain": [
       "WFSA(19 states)"
      ]
     },
     "execution_count": 74,
     "metadata": {},
     "output_type": "execute_result"
    }
   ],
   "source": [
    "t = bpe2term_approx(tokenizer, tokenizer.encode(x)).epsremove.trim\n",
    "t"
   ]
  },
  {
   "cell_type": "code",
   "execution_count": null,
   "id": "42741260-329d-4a9f-aeee-b2655c260144",
   "metadata": {},
   "outputs": [],
   "source": []
  },
  {
   "cell_type": "markdown",
   "id": "d2df7b26-8065-4ae0-a83d-19d7b5cc436f",
   "metadata": {
    "jp-MarkdownHeadingCollapsed": true
   },
   "source": [
    "## BPE Ambiguity"
   ]
  },
  {
   "cell_type": "code",
   "execution_count": 75,
   "id": "ac49282e-6174-4ab2-9c52-7be7663ecdae",
   "metadata": {},
   "outputs": [
    {
     "name": "stderr",
     "output_type": "stream",
     "text": [
      "composition (10.0991 sec)\n"
     ]
    },
    {
     "name": "stdout",
     "output_type": "stream",
     "text": [
      "states: 1062324, trim: 172\n"
     ]
    },
    {
     "name": "stderr",
     "output_type": "stream",
     "text": [
      "trim (7.8209 sec)\n"
     ]
    }
   ],
   "source": [
    "with timeit('composition'):\n",
    "    bs = b2c @ FST.from_string(x, Float)\n",
    "with timeit('trim'):\n",
    "    bs.trim\n",
    "about(bs)"
   ]
  },
  {
   "cell_type": "code",
   "execution_count": 76,
   "id": "ccf89bc2-a985-44bc-b099-676221f34b05",
   "metadata": {},
   "outputs": [],
   "source": [
    "#bs.trim"
   ]
  },
  {
   "cell_type": "markdown",
   "id": "1f9e46e7-f348-4790-9f2e-ab3812c61f41",
   "metadata": {},
   "source": [
    "The automaton below describes all the BPE sequences that generate the string `x`:"
   ]
  },
  {
   "cell_type": "code",
   "execution_count": 77,
   "id": "072cb3c3-6828-4a2d-88d5-d5d5fee491d1",
   "metadata": {},
   "outputs": [
    {
     "data": {
      "image/svg+xml": [
       "<?xml version=\"1.0\" encoding=\"UTF-8\" standalone=\"no\"?>\n",
       "<!DOCTYPE svg PUBLIC \"-//W3C//DTD SVG 1.1//EN\"\n",
       " \"http://www.w3.org/Graphics/SVG/1.1/DTD/svg11.dtd\">\n",
       "<!-- Generated by graphviz version 2.43.0 (0)\n",
       " -->\n",
       "<!-- Title: %3 Pages: 1 -->\n",
       "<svg width=\"1771pt\" height=\"332pt\"\n",
       " viewBox=\"0.00 0.00 1770.78 332.00\" xmlns=\"http://www.w3.org/2000/svg\" xmlns:xlink=\"http://www.w3.org/1999/xlink\">\n",
       "<g id=\"graph0\" class=\"graph\" transform=\"scale(1 1) rotate(0) translate(4 328)\">\n",
       "<title>%3</title>\n",
       "<polygon fill=\"white\" stroke=\"transparent\" points=\"-4,4 -4,-328 1766.78,-328 1766.78,4 -4,4\"/>\n",
       "<!-- start_(0, (0, &#39;&#39;)) -->\n",
       "<g id=\"node1\" class=\"node\">\n",
       "<title>start_(0, (0, &#39;&#39;))</title>\n",
       "<ellipse fill=\"black\" stroke=\"black\" cx=\"0\" cy=\"-265\" rx=\"0\" ry=\"0\"/>\n",
       "</g>\n",
       "<!-- 0 -->\n",
       "<g id=\"node2\" class=\"node\">\n",
       "<title>0</title>\n",
       "<ellipse fill=\"none\" stroke=\"black\" cx=\"49.78\" cy=\"-265\" rx=\"7.56\" ry=\"7.56\"/>\n",
       "<text text-anchor=\"middle\" x=\"49.78\" y=\"-262.5\" font-family=\"Monospace\" font-size=\"10.00\"> </text>\n",
       "</g>\n",
       "<!-- start_(0, (0, &#39;&#39;))&#45;&gt;0 -->\n",
       "<g id=\"edge1\" class=\"edge\">\n",
       "<title>start_(0, (0, &#39;&#39;))&#45;&gt;0</title>\n",
       "<path fill=\"none\" stroke=\"black\" d=\"M1.14,-265C3.07,-265 25.11,-265 38.52,-265\"/>\n",
       "<polygon fill=\"black\" stroke=\"black\" points=\"38.73,-266.05 41.73,-265 38.73,-263.95 38.73,-266.05\"/>\n",
       "<text text-anchor=\"middle\" x=\"21\" y=\"-267.8\" font-family=\"Monospace\" font-size=\"9.00\">1</text>\n",
       "</g>\n",
       "<!-- 7 -->\n",
       "<g id=\"node9\" class=\"node\">\n",
       "<title>7</title>\n",
       "<ellipse fill=\"none\" stroke=\"black\" cx=\"131.56\" cy=\"-265\" rx=\"7.56\" ry=\"7.56\"/>\n",
       "<text text-anchor=\"middle\" x=\"131.56\" y=\"-262.5\" font-family=\"Monospace\" font-size=\"10.00\"> </text>\n",
       "</g>\n",
       "<!-- 0&#45;&gt;7 -->\n",
       "<g id=\"edge34\" class=\"edge\">\n",
       "<title>0&#45;&gt;7</title>\n",
       "<path fill=\"none\" stroke=\"black\" d=\"M57.58,-265C71.71,-265 104.29,-265 120.71,-265\"/>\n",
       "<polygon fill=\"black\" stroke=\"black\" points=\"120.77,-266.05 123.77,-265 120.77,-263.95 120.77,-266.05\"/>\n",
       "<text text-anchor=\"middle\" x=\"86.56\" y=\"-267.8\" font-family=\"Monospace\" font-size=\"9.00\">50/1</text>\n",
       "</g>\n",
       "<!-- 15 -->\n",
       "<g id=\"node17\" class=\"node\">\n",
       "<title>15</title>\n",
       "<ellipse fill=\"none\" stroke=\"black\" cx=\"593.33\" cy=\"-203\" rx=\"7.56\" ry=\"7.56\"/>\n",
       "<text text-anchor=\"middle\" x=\"593.33\" y=\"-200.5\" font-family=\"Monospace\" font-size=\"10.00\"> </text>\n",
       "</g>\n",
       "<!-- 0&#45;&gt;15 -->\n",
       "<g id=\"edge36\" class=\"edge\">\n",
       "<title>0&#45;&gt;15</title>\n",
       "<path fill=\"none\" stroke=\"black\" d=\"M55.55,-270.62C67.03,-283.49 97.72,-314 130.56,-314 130.56,-314 130.56,-314 512.56,-314 561.59,-314 583.44,-241.7 590.05,-213.8\"/>\n",
       "<polygon fill=\"black\" stroke=\"black\" points=\"591.13,-213.79 590.78,-210.63 589.08,-213.32 591.13,-213.79\"/>\n",
       "<text text-anchor=\"middle\" x=\"314.06\" y=\"-316.8\" font-family=\"Monospace\" font-size=\"9.00\">46506/1</text>\n",
       "</g>\n",
       "<!-- 16 -->\n",
       "<g id=\"node18\" class=\"node\">\n",
       "<title>16</title>\n",
       "<ellipse fill=\"none\" stroke=\"black\" cx=\"221.56\" cy=\"-218\" rx=\"7.56\" ry=\"7.56\"/>\n",
       "<text text-anchor=\"middle\" x=\"221.56\" y=\"-215.5\" font-family=\"Monospace\" font-size=\"10.00\"> </text>\n",
       "</g>\n",
       "<!-- 0&#45;&gt;16 -->\n",
       "<g id=\"edge35\" class=\"edge\">\n",
       "<title>0&#45;&gt;16</title>\n",
       "<path fill=\"none\" stroke=\"black\" d=\"M57.05,-261.87C68.44,-256.3 93.38,-244.65 115.56,-238 149.83,-227.71 192.05,-221.58 210.8,-219.17\"/>\n",
       "<polygon fill=\"black\" stroke=\"black\" points=\"210.96,-220.21 213.81,-218.79 210.7,-218.13 210.96,-220.21\"/>\n",
       "<text text-anchor=\"middle\" x=\"131.56\" y=\"-240.8\" font-family=\"Monospace\" font-size=\"9.00\">5188/1</text>\n",
       "</g>\n",
       "<!-- 1 -->\n",
       "<g id=\"node3\" class=\"node\">\n",
       "<title>1</title>\n",
       "<ellipse fill=\"none\" stroke=\"black\" cx=\"1531.23\" cy=\"-122\" rx=\"7.56\" ry=\"7.56\"/>\n",
       "<text text-anchor=\"middle\" x=\"1531.23\" y=\"-119.5\" font-family=\"Monospace\" font-size=\"10.00\"> </text>\n",
       "</g>\n",
       "<!-- 5 -->\n",
       "<g id=\"node7\" class=\"node\">\n",
       "<title>5</title>\n",
       "<ellipse fill=\"none\" stroke=\"black\" cx=\"1713\" cy=\"-122\" rx=\"7.56\" ry=\"7.56\"/>\n",
       "<text text-anchor=\"middle\" x=\"1713\" y=\"-119.5\" font-family=\"Monospace\" font-size=\"10.00\"> </text>\n",
       "</g>\n",
       "<!-- 1&#45;&gt;5 -->\n",
       "<g id=\"edge4\" class=\"edge\">\n",
       "<title>1&#45;&gt;5</title>\n",
       "<path fill=\"none\" stroke=\"black\" d=\"M1539.05,-122C1566.53,-122 1669.1,-122 1701.87,-122\"/>\n",
       "<polygon fill=\"black\" stroke=\"black\" points=\"1702.17,-123.05 1705.17,-122 1702.17,-120.95 1702.17,-123.05\"/>\n",
       "<text text-anchor=\"middle\" x=\"1631.23\" y=\"-124.8\" font-family=\"Monospace\" font-size=\"9.00\">8326/1</text>\n",
       "</g>\n",
       "<!-- 17 -->\n",
       "<g id=\"node19\" class=\"node\">\n",
       "<title>17</title>\n",
       "<ellipse fill=\"none\" stroke=\"black\" cx=\"1631.23\" cy=\"-180\" rx=\"7.56\" ry=\"7.56\"/>\n",
       "<text text-anchor=\"middle\" x=\"1631.23\" y=\"-177.5\" font-family=\"Monospace\" font-size=\"10.00\"> </text>\n",
       "</g>\n",
       "<!-- 1&#45;&gt;17 -->\n",
       "<g id=\"edge3\" class=\"edge\">\n",
       "<title>1&#45;&gt;17</title>\n",
       "<path fill=\"none\" stroke=\"black\" d=\"M1538.49,-124.9C1550.27,-130.43 1576.45,-143.11 1597.23,-156 1605.86,-161.36 1615.19,-168.25 1621.71,-173.27\"/>\n",
       "<polygon fill=\"black\" stroke=\"black\" points=\"1621.31,-174.29 1624.33,-175.3 1622.6,-172.63 1621.31,-174.29\"/>\n",
       "<text text-anchor=\"middle\" x=\"1581.23\" y=\"-158.8\" font-family=\"Monospace\" font-size=\"9.00\">83/1</text>\n",
       "</g>\n",
       "<!-- 2 -->\n",
       "<g id=\"node4\" class=\"node\">\n",
       "<title>2</title>\n",
       "<ellipse fill=\"none\" stroke=\"black\" cx=\"314.06\" cy=\"-210\" rx=\"7.56\" ry=\"7.56\"/>\n",
       "<text text-anchor=\"middle\" x=\"314.06\" y=\"-207.5\" font-family=\"Monospace\" font-size=\"10.00\"> </text>\n",
       "</g>\n",
       "<!-- 3 -->\n",
       "<g id=\"node5\" class=\"node\">\n",
       "<title>3</title>\n",
       "<ellipse fill=\"none\" stroke=\"black\" cx=\"409.06\" cy=\"-243\" rx=\"7.56\" ry=\"7.56\"/>\n",
       "<text text-anchor=\"middle\" x=\"409.06\" y=\"-240.5\" font-family=\"Monospace\" font-size=\"10.00\"> </text>\n",
       "</g>\n",
       "<!-- 2&#45;&gt;3 -->\n",
       "<g id=\"edge5\" class=\"edge\">\n",
       "<title>2&#45;&gt;3</title>\n",
       "<path fill=\"none\" stroke=\"black\" d=\"M321.8,-212.3C332.55,-215.99 354.24,-223.46 372.56,-230 381.43,-233.17 391.51,-236.87 398.65,-239.51\"/>\n",
       "<polygon fill=\"black\" stroke=\"black\" points=\"398.35,-240.52 401.52,-240.57 399.08,-238.55 398.35,-240.52\"/>\n",
       "<text text-anchor=\"middle\" x=\"361.56\" y=\"-232.8\" font-family=\"Monospace\" font-size=\"9.00\">36/1</text>\n",
       "</g>\n",
       "<!-- 13 -->\n",
       "<g id=\"node15\" class=\"node\">\n",
       "<title>13</title>\n",
       "<ellipse fill=\"none\" stroke=\"black\" cx=\"511.56\" cy=\"-203\" rx=\"7.56\" ry=\"7.56\"/>\n",
       "<text text-anchor=\"middle\" x=\"511.56\" y=\"-200.5\" font-family=\"Monospace\" font-size=\"10.00\"> </text>\n",
       "</g>\n",
       "<!-- 2&#45;&gt;13 -->\n",
       "<g id=\"edge6\" class=\"edge\">\n",
       "<title>2&#45;&gt;13</title>\n",
       "<path fill=\"none\" stroke=\"black\" d=\"M322.01,-209.75C351.4,-208.7 465.46,-204.61 500.35,-203.37\"/>\n",
       "<polygon fill=\"black\" stroke=\"black\" points=\"500.52,-204.41 503.48,-203.25 500.44,-202.31 500.52,-204.41\"/>\n",
       "<text text-anchor=\"middle\" x=\"409.06\" y=\"-209.8\" font-family=\"Monospace\" font-size=\"9.00\">2943/1</text>\n",
       "</g>\n",
       "<!-- 2&#45;&gt;15 -->\n",
       "<g id=\"edge7\" class=\"edge\">\n",
       "<title>2&#45;&gt;15</title>\n",
       "<path fill=\"none\" stroke=\"black\" d=\"M321.68,-208.09C347.84,-200.78 446.55,-175.55 527.56,-186 547.54,-188.58 570.16,-195.46 582.68,-199.63\"/>\n",
       "<polygon fill=\"black\" stroke=\"black\" points=\"582.46,-200.67 585.64,-200.63 583.13,-198.68 582.46,-200.67\"/>\n",
       "<text text-anchor=\"middle\" x=\"461.56\" y=\"-188.8\" font-family=\"Monospace\" font-size=\"9.00\">9782/1</text>\n",
       "</g>\n",
       "<!-- 3&#45;&gt;13 -->\n",
       "<g id=\"edge8\" class=\"edge\">\n",
       "<title>3&#45;&gt;13</title>\n",
       "<path fill=\"none\" stroke=\"black\" d=\"M416.65,-240.38C433.91,-233.51 480.46,-214.98 500.81,-206.88\"/>\n",
       "<polygon fill=\"black\" stroke=\"black\" points=\"501.67,-207.67 504.07,-205.58 500.89,-205.72 501.67,-207.67\"/>\n",
       "<text text-anchor=\"middle\" x=\"461.56\" y=\"-229.8\" font-family=\"Monospace\" font-size=\"9.00\">34/1</text>\n",
       "</g>\n",
       "<!-- 3&#45;&gt;15 -->\n",
       "<g id=\"edge9\" class=\"edge\">\n",
       "<title>3&#45;&gt;15</title>\n",
       "<path fill=\"none\" stroke=\"black\" d=\"M417.2,-243.16C429.56,-243.34 455.74,-243.24 477.56,-240 518.39,-233.94 529.25,-232.4 567.56,-217 573.18,-214.74 579.09,-211.44 583.74,-208.6\"/>\n",
       "<polygon fill=\"black\" stroke=\"black\" points=\"584.46,-209.39 586.45,-206.92 583.35,-207.61 584.46,-209.39\"/>\n",
       "<text text-anchor=\"middle\" x=\"511.56\" y=\"-239.8\" font-family=\"Monospace\" font-size=\"9.00\">4177/1</text>\n",
       "</g>\n",
       "<!-- 4 -->\n",
       "<g id=\"node6\" class=\"node\">\n",
       "<title>4</title>\n",
       "<ellipse fill=\"none\" stroke=\"black\" cx=\"1239.45\" cy=\"-141\" rx=\"7.56\" ry=\"7.56\"/>\n",
       "<text text-anchor=\"middle\" x=\"1239.45\" y=\"-138.5\" font-family=\"Monospace\" font-size=\"10.00\"> </text>\n",
       "</g>\n",
       "<!-- 4&#45;&gt;1 -->\n",
       "<g id=\"edge14\" class=\"edge\">\n",
       "<title>4&#45;&gt;1</title>\n",
       "<path fill=\"none\" stroke=\"black\" d=\"M1245.38,-135.07C1259.99,-118.05 1305.13,-69.15 1355.23,-52 1421.24,-29.4 1498.69,-93.01 1522.73,-114.9\"/>\n",
       "<polygon fill=\"black\" stroke=\"black\" points=\"1522.22,-115.86 1525.14,-117.12 1523.65,-114.31 1522.22,-115.86\"/>\n",
       "<text text-anchor=\"middle\" x=\"1373.73\" y=\"-54.8\" font-family=\"Monospace\" font-size=\"9.00\">12379/1</text>\n",
       "</g>\n",
       "<!-- 4&#45;&gt;5 -->\n",
       "<g id=\"edge12\" class=\"edge\">\n",
       "<title>4&#45;&gt;5</title>\n",
       "<path fill=\"none\" stroke=\"black\" d=\"M1241.22,-133.02C1244.57,-103.19 1260.66,0 1322.73,0 1322.73,0 1322.73,0 1632.23,0 1685.21,0 1704.89,-81.6 1710.3,-111.33\"/>\n",
       "<polygon fill=\"black\" stroke=\"black\" points=\"1709.28,-111.6 1710.84,-114.37 1711.35,-111.23 1709.28,-111.6\"/>\n",
       "<text text-anchor=\"middle\" x=\"1478.73\" y=\"-2.8\" font-family=\"Monospace\" font-size=\"9.00\">1366/1</text>\n",
       "</g>\n",
       "<!-- 11 -->\n",
       "<g id=\"node13\" class=\"node\">\n",
       "<title>11</title>\n",
       "<ellipse fill=\"none\" stroke=\"black\" cx=\"1323.73\" cy=\"-141\" rx=\"7.56\" ry=\"7.56\"/>\n",
       "<text text-anchor=\"middle\" x=\"1323.73\" y=\"-138.5\" font-family=\"Monospace\" font-size=\"10.00\"> </text>\n",
       "</g>\n",
       "<!-- 4&#45;&gt;11 -->\n",
       "<g id=\"edge10\" class=\"edge\">\n",
       "<title>4&#45;&gt;11</title>\n",
       "<path fill=\"none\" stroke=\"black\" d=\"M1247.46,-141C1262.04,-141 1295.64,-141 1312.57,-141\"/>\n",
       "<polygon fill=\"black\" stroke=\"black\" points=\"1312.73,-142.05 1315.73,-141 1312.73,-139.95 1312.73,-142.05\"/>\n",
       "<text text-anchor=\"middle\" x=\"1278.73\" y=\"-143.8\" font-family=\"Monospace\" font-size=\"9.00\">220/1</text>\n",
       "</g>\n",
       "<!-- 4&#45;&gt;17 -->\n",
       "<g id=\"edge13\" class=\"edge\">\n",
       "<title>4&#45;&gt;17</title>\n",
       "<path fill=\"none\" stroke=\"black\" d=\"M1241.22,-148.98C1244.57,-178.81 1260.66,-282 1322.73,-282 1322.73,-282 1322.73,-282 1532.23,-282 1582.96,-282 1615.63,-215.57 1626.35,-189.93\"/>\n",
       "<polygon fill=\"black\" stroke=\"black\" points=\"1627.38,-190.18 1627.55,-187.01 1625.44,-189.39 1627.38,-190.18\"/>\n",
       "<text text-anchor=\"middle\" x=\"1426.23\" y=\"-284.8\" font-family=\"Monospace\" font-size=\"9.00\">4818/1</text>\n",
       "</g>\n",
       "<!-- 18 -->\n",
       "<g id=\"node20\" class=\"node\">\n",
       "<title>18</title>\n",
       "<ellipse fill=\"none\" stroke=\"black\" cx=\"1426.23\" cy=\"-218\" rx=\"7.56\" ry=\"7.56\"/>\n",
       "<text text-anchor=\"middle\" x=\"1426.23\" y=\"-215.5\" font-family=\"Monospace\" font-size=\"10.00\"> </text>\n",
       "</g>\n",
       "<!-- 4&#45;&gt;18 -->\n",
       "<g id=\"edge11\" class=\"edge\">\n",
       "<title>4&#45;&gt;18</title>\n",
       "<path fill=\"none\" stroke=\"black\" d=\"M1246.35,-145.11C1262.79,-156.36 1310.78,-187.88 1355.23,-204 1375.63,-211.4 1400.88,-215.23 1414.8,-216.91\"/>\n",
       "<polygon fill=\"black\" stroke=\"black\" points=\"1414.98,-217.99 1418.08,-217.29 1415.22,-215.9 1414.98,-217.99\"/>\n",
       "<text text-anchor=\"middle\" x=\"1323.73\" y=\"-199.8\" font-family=\"Monospace\" font-size=\"9.00\">288/1</text>\n",
       "</g>\n",
       "<!-- stop_(1, (2, &#39;SELECT * FROM data&#39;)) -->\n",
       "<g id=\"node21\" class=\"node\">\n",
       "<title>stop_(1, (2, &#39;SELECT * FROM data&#39;))</title>\n",
       "<ellipse fill=\"black\" stroke=\"black\" cx=\"1762.78\" cy=\"-122\" rx=\"0\" ry=\"0\"/>\n",
       "</g>\n",
       "<!-- 5&#45;&gt;stop_(1, (2, &#39;SELECT * FROM data&#39;)) -->\n",
       "<g id=\"edge2\" class=\"edge\">\n",
       "<title>5&#45;&gt;stop_(1, (2, &#39;SELECT * FROM data&#39;))</title>\n",
       "<path fill=\"none\" stroke=\"black\" d=\"M1721.05,-122C1731.51,-122 1750.74,-122 1758.45,-122\"/>\n",
       "<polygon fill=\"black\" stroke=\"black\" points=\"1758.7,-123.05 1761.7,-122 1758.7,-120.95 1758.7,-123.05\"/>\n",
       "<text text-anchor=\"middle\" x=\"1741.78\" y=\"-124.8\" font-family=\"Monospace\" font-size=\"9.00\">1</text>\n",
       "</g>\n",
       "<!-- 6 -->\n",
       "<g id=\"node8\" class=\"node\">\n",
       "<title>6</title>\n",
       "<ellipse fill=\"none\" stroke=\"black\" cx=\"840.17\" cy=\"-258\" rx=\"7.56\" ry=\"7.56\"/>\n",
       "<text text-anchor=\"middle\" x=\"840.17\" y=\"-255.5\" font-family=\"Monospace\" font-size=\"10.00\"> </text>\n",
       "</g>\n",
       "<!-- 8 -->\n",
       "<g id=\"node10\" class=\"node\">\n",
       "<title>8</title>\n",
       "<ellipse fill=\"none\" stroke=\"black\" cx=\"1050.17\" cy=\"-222\" rx=\"7.56\" ry=\"7.56\"/>\n",
       "<text text-anchor=\"middle\" x=\"1050.17\" y=\"-219.5\" font-family=\"Monospace\" font-size=\"10.00\"> </text>\n",
       "</g>\n",
       "<!-- 6&#45;&gt;8 -->\n",
       "<g id=\"edge16\" class=\"edge\">\n",
       "<title>6&#45;&gt;8</title>\n",
       "<path fill=\"none\" stroke=\"black\" d=\"M848.16,-259.48C854.31,-260.7 863.54,-262.34 871.67,-263 885.84,-264.15 889.55,-264.71 903.67,-263 953.65,-256.96 965.7,-251.27 1013.67,-236 1022.73,-233.12 1032.79,-229.07 1039.88,-226.06\"/>\n",
       "<polygon fill=\"black\" stroke=\"black\" points=\"1040.38,-226.99 1042.72,-224.85 1039.55,-225.06 1040.38,-226.99\"/>\n",
       "<text text-anchor=\"middle\" x=\"940.17\" y=\"-262.8\" font-family=\"Monospace\" font-size=\"9.00\">10913/1</text>\n",
       "</g>\n",
       "<!-- 12 -->\n",
       "<g id=\"node14\" class=\"node\">\n",
       "<title>12</title>\n",
       "<ellipse fill=\"none\" stroke=\"black\" cx=\"940.17\" cy=\"-184\" rx=\"7.56\" ry=\"7.56\"/>\n",
       "<text text-anchor=\"middle\" x=\"940.17\" y=\"-181.5\" font-family=\"Monospace\" font-size=\"10.00\"> </text>\n",
       "</g>\n",
       "<!-- 6&#45;&gt;12 -->\n",
       "<g id=\"edge15\" class=\"edge\">\n",
       "<title>6&#45;&gt;12</title>\n",
       "<path fill=\"none\" stroke=\"black\" d=\"M848,-256.59C860.21,-253.81 886.16,-246.65 903.67,-233 917.6,-222.14 928.55,-204.4 934.42,-193.51\"/>\n",
       "<polygon fill=\"black\" stroke=\"black\" points=\"935.47,-193.77 935.94,-190.63 933.61,-192.79 935.47,-193.77\"/>\n",
       "<text text-anchor=\"middle\" x=\"887.67\" y=\"-251.8\" font-family=\"Monospace\" font-size=\"9.00\">37/1</text>\n",
       "</g>\n",
       "<!-- 7&#45;&gt;2 -->\n",
       "<g id=\"edge18\" class=\"edge\">\n",
       "<title>7&#45;&gt;2</title>\n",
       "<path fill=\"none\" stroke=\"black\" d=\"M139.42,-265.11C149.91,-265.14 170.52,-264.67 187.56,-261 233.14,-251.19 283.39,-225.99 303.74,-215.12\"/>\n",
       "<polygon fill=\"black\" stroke=\"black\" points=\"304.37,-215.97 306.52,-213.62 303.38,-214.12 304.37,-215.97\"/>\n",
       "<text text-anchor=\"middle\" x=\"221.56\" y=\"-257.8\" font-family=\"Monospace\" font-size=\"9.00\">3698/1</text>\n",
       "</g>\n",
       "<!-- 7&#45;&gt;16 -->\n",
       "<g id=\"edge17\" class=\"edge\">\n",
       "<title>7&#45;&gt;16</title>\n",
       "<path fill=\"none\" stroke=\"black\" d=\"M138.89,-261.62C154.23,-253.42 193.49,-232.46 211.4,-222.89\"/>\n",
       "<polygon fill=\"black\" stroke=\"black\" points=\"212.13,-223.69 214.28,-221.35 211.14,-221.84 212.13,-223.69\"/>\n",
       "<text text-anchor=\"middle\" x=\"176.56\" y=\"-249.8\" font-family=\"Monospace\" font-size=\"9.00\">36/1</text>\n",
       "</g>\n",
       "<!-- 8&#45;&gt;4 -->\n",
       "<g id=\"edge20\" class=\"edge\">\n",
       "<title>8&#45;&gt;4</title>\n",
       "<path fill=\"none\" stroke=\"black\" d=\"M1058.09,-221.2C1071.15,-219.56 1100.19,-215.38 1123.67,-208 1165.43,-194.88 1178.13,-193.55 1213.67,-168 1220.9,-162.8 1227.63,-155.21 1232.25,-149.4\"/>\n",
       "<polygon fill=\"black\" stroke=\"black\" points=\"1233.08,-150.05 1234.09,-147.04 1231.42,-148.76 1233.08,-150.05\"/>\n",
       "<text text-anchor=\"middle\" x=\"1157.67\" y=\"-205.8\" font-family=\"Monospace\" font-size=\"9.00\">2662/1</text>\n",
       "</g>\n",
       "<!-- 14 -->\n",
       "<g id=\"node16\" class=\"node\">\n",
       "<title>14</title>\n",
       "<ellipse fill=\"none\" stroke=\"black\" cx=\"1157.67\" cy=\"-164\" rx=\"7.56\" ry=\"7.56\"/>\n",
       "<text text-anchor=\"middle\" x=\"1157.67\" y=\"-161.5\" font-family=\"Monospace\" font-size=\"10.00\"> </text>\n",
       "</g>\n",
       "<!-- 8&#45;&gt;14 -->\n",
       "<g id=\"edge19\" class=\"edge\">\n",
       "<title>8&#45;&gt;14</title>\n",
       "<path fill=\"none\" stroke=\"black\" d=\"M1057.03,-217.66C1063.94,-212.63 1075.84,-204.25 1086.67,-198 1107.78,-185.82 1133.89,-173.93 1147.47,-167.96\"/>\n",
       "<polygon fill=\"black\" stroke=\"black\" points=\"1148.01,-168.88 1150.34,-166.71 1147.17,-166.95 1148.01,-168.88\"/>\n",
       "<text text-anchor=\"middle\" x=\"1105.17\" y=\"-200.8\" font-family=\"Monospace\" font-size=\"9.00\">46/1</text>\n",
       "</g>\n",
       "<!-- 9 -->\n",
       "<g id=\"node11\" class=\"node\">\n",
       "<title>9</title>\n",
       "<ellipse fill=\"none\" stroke=\"black\" cx=\"680.11\" cy=\"-223\" rx=\"7.56\" ry=\"7.56\"/>\n",
       "<text text-anchor=\"middle\" x=\"680.11\" y=\"-220.5\" font-family=\"Monospace\" font-size=\"10.00\"> </text>\n",
       "</g>\n",
       "<!-- 10 -->\n",
       "<g id=\"node12\" class=\"node\">\n",
       "<title>10</title>\n",
       "<ellipse fill=\"none\" stroke=\"black\" cx=\"755.89\" cy=\"-203\" rx=\"7.56\" ry=\"7.56\"/>\n",
       "<text text-anchor=\"middle\" x=\"755.89\" y=\"-200.5\" font-family=\"Monospace\" font-size=\"10.00\"> </text>\n",
       "</g>\n",
       "<!-- 9&#45;&gt;10 -->\n",
       "<g id=\"edge21\" class=\"edge\">\n",
       "<title>9&#45;&gt;10</title>\n",
       "<path fill=\"none\" stroke=\"black\" d=\"M687.92,-221.15C701.05,-217.59 729.93,-209.77 745.11,-205.65\"/>\n",
       "<polygon fill=\"black\" stroke=\"black\" points=\"745.69,-206.58 748.31,-204.78 745.14,-204.56 745.69,-206.58\"/>\n",
       "<text text-anchor=\"middle\" x=\"722.11\" y=\"-215.8\" font-family=\"Monospace\" font-size=\"9.00\">9/1</text>\n",
       "</g>\n",
       "<!-- 10&#45;&gt;4 -->\n",
       "<g id=\"edge25\" class=\"edge\">\n",
       "<title>10&#45;&gt;4</title>\n",
       "<path fill=\"none\" stroke=\"black\" d=\"M758.16,-195.31C763.06,-168.38 783.42,-80 839.17,-80 839.17,-80 839.17,-80 1158.67,-80 1192.29,-80 1220.53,-114.61 1232.42,-131.69\"/>\n",
       "<polygon fill=\"black\" stroke=\"black\" points=\"1231.75,-132.59 1234.31,-134.47 1233.49,-131.4 1231.75,-132.59\"/>\n",
       "<text text-anchor=\"middle\" x=\"995.17\" y=\"-82.8\" font-family=\"Monospace\" font-size=\"9.00\">16034/1</text>\n",
       "</g>\n",
       "<!-- 10&#45;&gt;6 -->\n",
       "<g id=\"edge22\" class=\"edge\">\n",
       "<title>10&#45;&gt;6</title>\n",
       "<path fill=\"none\" stroke=\"black\" d=\"M760.7,-209.5C765.01,-216.39 772.65,-227.2 781.67,-234 796.35,-245.07 816.9,-252.02 829.04,-255.44\"/>\n",
       "<polygon fill=\"black\" stroke=\"black\" points=\"829.06,-256.54 832.23,-256.31 829.61,-254.51 829.06,-256.54\"/>\n",
       "<text text-anchor=\"middle\" x=\"795.17\" y=\"-250.8\" font-family=\"Monospace\" font-size=\"9.00\">220/1</text>\n",
       "</g>\n",
       "<!-- 10&#45;&gt;8 -->\n",
       "<g id=\"edge24\" class=\"edge\">\n",
       "<title>10&#45;&gt;8</title>\n",
       "<path fill=\"none\" stroke=\"black\" d=\"M763.79,-204.68C768.73,-205.81 775.57,-207.23 781.67,-208 881.34,-220.6 1003.28,-221.9 1038.93,-222\"/>\n",
       "<polygon fill=\"black\" stroke=\"black\" points=\"1039.11,-223.05 1042.11,-222.01 1039.11,-220.95 1039.11,-223.05\"/>\n",
       "<text text-anchor=\"middle\" x=\"887.67\" y=\"-220.8\" font-family=\"Monospace\" font-size=\"9.00\">8782/1</text>\n",
       "</g>\n",
       "<!-- 10&#45;&gt;12 -->\n",
       "<g id=\"edge23\" class=\"edge\">\n",
       "<title>10&#45;&gt;12</title>\n",
       "<path fill=\"none\" stroke=\"black\" d=\"M763.81,-202.28C791.67,-199.37 895.67,-188.53 928.9,-185.07\"/>\n",
       "<polygon fill=\"black\" stroke=\"black\" points=\"929.36,-186.08 932.24,-184.72 929.15,-183.99 929.36,-186.08\"/>\n",
       "<text text-anchor=\"middle\" x=\"840.17\" y=\"-198.8\" font-family=\"Monospace\" font-size=\"9.00\">376/1</text>\n",
       "</g>\n",
       "<!-- 11&#45;&gt;1 -->\n",
       "<g id=\"edge27\" class=\"edge\">\n",
       "<title>11&#45;&gt;1</title>\n",
       "<path fill=\"none\" stroke=\"black\" d=\"M1331.56,-140.37C1361.79,-137.57 1483.52,-126.32 1519.9,-122.95\"/>\n",
       "<polygon fill=\"black\" stroke=\"black\" points=\"1520.26,-123.98 1523.15,-122.65 1520.07,-121.88 1520.26,-123.98\"/>\n",
       "<text text-anchor=\"middle\" x=\"1426.23\" y=\"-136.8\" font-family=\"Monospace\" font-size=\"9.00\">6814/1</text>\n",
       "</g>\n",
       "<!-- 11&#45;&gt;5 -->\n",
       "<g id=\"edge28\" class=\"edge\">\n",
       "<title>11&#45;&gt;5</title>\n",
       "<path fill=\"none\" stroke=\"black\" d=\"M1329.44,-135C1342.67,-118.91 1382,-76 1425.23,-76 1425.23,-76 1425.23,-76 1632.23,-76 1662.5,-76 1691.64,-101.17 1704.76,-114.27\"/>\n",
       "<polygon fill=\"black\" stroke=\"black\" points=\"1704.31,-115.32 1707.16,-116.72 1705.81,-113.85 1704.31,-115.32\"/>\n",
       "<text text-anchor=\"middle\" x=\"1531.23\" y=\"-78.8\" font-family=\"Monospace\" font-size=\"9.00\">7890/1</text>\n",
       "</g>\n",
       "<!-- 11&#45;&gt;17 -->\n",
       "<g id=\"edge29\" class=\"edge\">\n",
       "<title>11&#45;&gt;17</title>\n",
       "<path fill=\"none\" stroke=\"black\" d=\"M1331.73,-142.28C1337.9,-143.38 1347.14,-144.94 1355.23,-146 1418.1,-154.25 1434.29,-152.17 1497.23,-160 1543.38,-165.74 1598.24,-174.66 1620.31,-178.33\"/>\n",
       "<polygon fill=\"black\" stroke=\"black\" points=\"1620.19,-179.38 1623.32,-178.83 1620.53,-177.3 1620.19,-179.38\"/>\n",
       "<text text-anchor=\"middle\" x=\"1478.73\" y=\"-162.8\" font-family=\"Monospace\" font-size=\"9.00\">19608/1</text>\n",
       "</g>\n",
       "<!-- 11&#45;&gt;18 -->\n",
       "<g id=\"edge26\" class=\"edge\">\n",
       "<title>11&#45;&gt;18</title>\n",
       "<path fill=\"none\" stroke=\"black\" d=\"M1329.58,-146.46C1335.35,-152.78 1345.42,-163.28 1355.23,-171 1370.44,-182.97 1376.16,-183.19 1392.23,-194 1400.66,-199.68 1410.01,-206.53 1416.59,-211.46\"/>\n",
       "<polygon fill=\"black\" stroke=\"black\" points=\"1416.21,-212.48 1419.24,-213.44 1417.47,-210.8 1416.21,-212.48\"/>\n",
       "<text text-anchor=\"middle\" x=\"1373.73\" y=\"-196.8\" font-family=\"Monospace\" font-size=\"9.00\">67/1</text>\n",
       "</g>\n",
       "<!-- 12&#45;&gt;4 -->\n",
       "<g id=\"edge32\" class=\"edge\">\n",
       "<title>12&#45;&gt;4</title>\n",
       "<path fill=\"none\" stroke=\"black\" d=\"M947.93,-181.89C955.03,-179.72 966.56,-176.34 976.67,-174 1049.07,-157.26 1067.69,-153.99 1141.67,-147 1173.09,-144.03 1210.4,-142.19 1228.12,-141.42\"/>\n",
       "<polygon fill=\"black\" stroke=\"black\" points=\"1228.44,-142.46 1231.39,-141.28 1228.35,-140.36 1228.44,-142.46\"/>\n",
       "<text text-anchor=\"middle\" x=\"1105.17\" y=\"-155.8\" font-family=\"Monospace\" font-size=\"9.00\">33676/1</text>\n",
       "</g>\n",
       "<!-- 12&#45;&gt;8 -->\n",
       "<g id=\"edge30\" class=\"edge\">\n",
       "<title>12&#45;&gt;8</title>\n",
       "<path fill=\"none\" stroke=\"black\" d=\"M948.23,-184.42C961.52,-185.42 990.93,-188.58 1013.67,-198 1023.95,-202.26 1034.34,-209.74 1041.2,-215.22\"/>\n",
       "<polygon fill=\"black\" stroke=\"black\" points=\"1040.57,-216.06 1043.56,-217.14 1041.9,-214.43 1040.57,-216.06\"/>\n",
       "<text text-anchor=\"middle\" x=\"995.17\" y=\"-200.8\" font-family=\"Monospace\" font-size=\"9.00\">49/1</text>\n",
       "</g>\n",
       "<!-- 12&#45;&gt;14 -->\n",
       "<g id=\"edge31\" class=\"edge\">\n",
       "<title>12&#45;&gt;14</title>\n",
       "<path fill=\"none\" stroke=\"black\" d=\"M948.34,-183.33C980.18,-180.38 1108.83,-168.44 1146.35,-164.96\"/>\n",
       "<polygon fill=\"black\" stroke=\"black\" points=\"1146.8,-165.97 1149.69,-164.65 1146.61,-163.88 1146.8,-165.97\"/>\n",
       "<text text-anchor=\"middle\" x=\"1050.17\" y=\"-178.8\" font-family=\"Monospace\" font-size=\"9.00\">13252/1</text>\n",
       "</g>\n",
       "<!-- 13&#45;&gt;15 -->\n",
       "<g id=\"edge33\" class=\"edge\">\n",
       "<title>13&#45;&gt;15</title>\n",
       "<path fill=\"none\" stroke=\"black\" d=\"M519.36,-203C533.49,-203 566.07,-203 582.49,-203\"/>\n",
       "<polygon fill=\"black\" stroke=\"black\" points=\"582.55,-204.05 585.55,-203 582.55,-201.95 582.55,-204.05\"/>\n",
       "<text text-anchor=\"middle\" x=\"556.56\" y=\"-205.8\" font-family=\"Monospace\" font-size=\"9.00\">51/1</text>\n",
       "</g>\n",
       "<!-- 14&#45;&gt;4 -->\n",
       "<g id=\"edge37\" class=\"edge\">\n",
       "<title>14&#45;&gt;4</title>\n",
       "<path fill=\"none\" stroke=\"black\" d=\"M1165.47,-162.04C1179.6,-157.97 1212.18,-148.57 1228.6,-143.84\"/>\n",
       "<polygon fill=\"black\" stroke=\"black\" points=\"1229.07,-144.8 1231.66,-142.96 1228.49,-142.78 1229.07,-144.8\"/>\n",
       "<text text-anchor=\"middle\" x=\"1202.67\" y=\"-156.8\" font-family=\"Monospace\" font-size=\"9.00\">44/1</text>\n",
       "</g>\n",
       "<!-- 15&#45;&gt;9 -->\n",
       "<g id=\"edge38\" class=\"edge\">\n",
       "<title>15&#45;&gt;9</title>\n",
       "<path fill=\"none\" stroke=\"black\" d=\"M600.99,-204.57C615.77,-208.06 651.43,-216.47 669,-220.61\"/>\n",
       "<polygon fill=\"black\" stroke=\"black\" points=\"669.09,-221.72 672.26,-221.38 669.58,-219.67 669.09,-221.72\"/>\n",
       "<text text-anchor=\"middle\" x=\"632.61\" y=\"-216.8\" font-family=\"Monospace\" font-size=\"9.00\">220/1</text>\n",
       "</g>\n",
       "<!-- 15&#45;&gt;10 -->\n",
       "<g id=\"edge39\" class=\"edge\">\n",
       "<title>15&#45;&gt;10</title>\n",
       "<path fill=\"none\" stroke=\"black\" d=\"M601.24,-201.91C617.68,-199.46 660.4,-193.88 696.11,-196 713.37,-197.02 733.32,-199.72 744.98,-201.46\"/>\n",
       "<polygon fill=\"black\" stroke=\"black\" points=\"744.91,-202.51 748.04,-201.92 745.23,-200.43 744.91,-202.51\"/>\n",
       "<text text-anchor=\"middle\" x=\"680.11\" y=\"-198.8\" font-family=\"Monospace\" font-size=\"9.00\">1635/1</text>\n",
       "</g>\n",
       "<!-- 16&#45;&gt;2 -->\n",
       "<g id=\"edge40\" class=\"edge\">\n",
       "<title>16&#45;&gt;2</title>\n",
       "<path fill=\"none\" stroke=\"black\" d=\"M229.36,-217.4C245.21,-216 284.68,-212.51 303.18,-210.87\"/>\n",
       "<polygon fill=\"black\" stroke=\"black\" points=\"303.28,-211.92 306.18,-210.61 303.09,-209.83 303.28,-211.92\"/>\n",
       "<text text-anchor=\"middle\" x=\"266.56\" y=\"-216.8\" font-family=\"Monospace\" font-size=\"9.00\">43/1</text>\n",
       "</g>\n",
       "<!-- 16&#45;&gt;3 -->\n",
       "<g id=\"edge41\" class=\"edge\">\n",
       "<title>16&#45;&gt;3</title>\n",
       "<path fill=\"none\" stroke=\"black\" d=\"M229.05,-220.32C235.64,-222.6 246.19,-226 255.56,-228 308.35,-239.25 373.25,-242.09 397.91,-242.78\"/>\n",
       "<polygon fill=\"black\" stroke=\"black\" points=\"397.95,-243.84 400.98,-242.86 398.01,-241.74 397.95,-243.84\"/>\n",
       "<text text-anchor=\"middle\" x=\"314.06\" y=\"-240.8\" font-family=\"Monospace\" font-size=\"9.00\">2538/1</text>\n",
       "</g>\n",
       "<!-- 16&#45;&gt;15 -->\n",
       "<g id=\"edge42\" class=\"edge\">\n",
       "<title>16&#45;&gt;15</title>\n",
       "<path fill=\"none\" stroke=\"black\" d=\"M224.77,-210.71C232.56,-186.77 261.03,-112 313.06,-112 313.06,-112 313.06,-112 512.56,-112 555.18,-112 580.35,-169.16 588.96,-192.88\"/>\n",
       "<polygon fill=\"black\" stroke=\"black\" points=\"588.03,-193.38 590.02,-195.86 590.01,-192.68 588.03,-193.38\"/>\n",
       "<text text-anchor=\"middle\" x=\"409.06\" y=\"-114.8\" font-family=\"Monospace\" font-size=\"9.00\">16779/1</text>\n",
       "</g>\n",
       "<!-- 17&#45;&gt;5 -->\n",
       "<g id=\"edge43\" class=\"edge\">\n",
       "<title>17&#45;&gt;5</title>\n",
       "<path fill=\"none\" stroke=\"black\" d=\"M1637.96,-175.83C1651.88,-165.71 1687.47,-139.84 1703.7,-128.04\"/>\n",
       "<polygon fill=\"black\" stroke=\"black\" points=\"1704.51,-128.75 1706.32,-126.13 1703.27,-127.05 1704.51,-128.75\"/>\n",
       "<text text-anchor=\"middle\" x=\"1676.23\" y=\"-157.8\" font-family=\"Monospace\" font-size=\"9.00\">64/1</text>\n",
       "</g>\n",
       "<!-- 18&#45;&gt;1 -->\n",
       "<g id=\"edge44\" class=\"edge\">\n",
       "<title>18&#45;&gt;1</title>\n",
       "<path fill=\"none\" stroke=\"black\" d=\"M1433.21,-213.44C1439.76,-208.51 1450.59,-200.49 1460.23,-194 1476.29,-183.19 1483.29,-184.44 1497.23,-171 1509.51,-159.16 1519.76,-142.01 1525.44,-131.46\"/>\n",
       "<polygon fill=\"black\" stroke=\"black\" points=\"1526.44,-131.81 1526.92,-128.67 1524.58,-130.83 1526.44,-131.81\"/>\n",
       "<text text-anchor=\"middle\" x=\"1478.73\" y=\"-196.8\" font-family=\"Monospace\" font-size=\"9.00\">64/1</text>\n",
       "</g>\n",
       "<!-- 18&#45;&gt;5 -->\n",
       "<g id=\"edge46\" class=\"edge\">\n",
       "<title>18&#45;&gt;5</title>\n",
       "<path fill=\"none\" stroke=\"black\" d=\"M1433.96,-220.13C1440.57,-222.11 1450.98,-224.89 1460.23,-226 1476.55,-227.95 1480.8,-226.82 1497.23,-226 1565.04,-222.62 1585.58,-225.46 1647.23,-197 1666.93,-187.9 1672.87,-185.28 1687.23,-169 1697.07,-157.84 1704.34,-142.08 1708.38,-131.95\"/>\n",
       "<polygon fill=\"black\" stroke=\"black\" points=\"1709.42,-132.18 1709.53,-129 1707.46,-131.42 1709.42,-132.18\"/>\n",
       "<text text-anchor=\"middle\" x=\"1581.23\" y=\"-224.8\" font-family=\"Monospace\" font-size=\"9.00\">1045/1</text>\n",
       "</g>\n",
       "<!-- 18&#45;&gt;17 -->\n",
       "<g id=\"edge45\" class=\"edge\">\n",
       "<title>18&#45;&gt;17</title>\n",
       "<path fill=\"none\" stroke=\"black\" d=\"M1434.12,-217.44C1457.4,-215.43 1535.03,-207.9 1597.23,-192 1605.35,-189.92 1614.26,-186.62 1620.78,-184\"/>\n",
       "<polygon fill=\"black\" stroke=\"black\" points=\"1621.39,-184.88 1623.77,-182.78 1620.6,-182.94 1621.39,-184.88\"/>\n",
       "<text text-anchor=\"middle\" x=\"1531.23\" y=\"-209.8\" font-family=\"Monospace\" font-size=\"9.00\">265/1</text>\n",
       "</g>\n",
       "</g>\n",
       "</svg>\n"
      ],
      "text/plain": [
       "WFSA(19 states)"
      ]
     },
     "execution_count": 77,
     "metadata": {},
     "output_type": "execute_result"
    }
   ],
   "source": [
    "bs.trim.project(0).epsremove.trim"
   ]
  },
  {
   "cell_type": "markdown",
   "id": "c1a488f7-91ff-4d0a-a825-c2da8bbccc29",
   "metadata": {},
   "source": [
    "To see all the BPE sequences that generate `x` run the cell below:"
   ]
  },
  {
   "cell_type": "code",
   "execution_count": 78,
   "id": "5ca21894-4a66-4d57-b631-f64f4fc2b575",
   "metadata": {},
   "outputs": [],
   "source": [
    "#for y in bs.trim.project(0).epsremove.trim.to_cfg().language(10):\n",
    "#    print(tokenizer.decode(y), y)"
   ]
  },
  {
   "cell_type": "code",
   "execution_count": null,
   "id": "9632097d-a97a-4d59-8683-7dd637e3e0f8",
   "metadata": {},
   "outputs": [],
   "source": []
  },
  {
   "cell_type": "code",
   "execution_count": null,
   "id": "5b29e1dc-bfd3-47a3-be89-fcd79ac1217a",
   "metadata": {},
   "outputs": [],
   "source": []
  },
  {
   "cell_type": "markdown",
   "id": "60280fdd-8a22-4764-9e76-97814619a4cb",
   "metadata": {},
   "source": [
    "## A Basic Alignment Algorithm"
   ]
  },
  {
   "cell_type": "code",
   "execution_count": 79,
   "id": "e9fd96d5-83eb-4296-b271-97f10632e86c",
   "metadata": {},
   "outputs": [],
   "source": [
    "from genparse.cfglm import CharAlignedCFGLM"
   ]
  },
  {
   "cell_type": "code",
   "execution_count": 80,
   "id": "45add727-d4d9-418b-bf92-b7e782f23703",
   "metadata": {},
   "outputs": [],
   "source": [
    "lark_stuff = LarkStuff(r\"\"\"\n",
    "start: \"SELECT\" WS select_expr WS \"FROM\" WS from_expr [WS \"WHERE\" WS bool_condition] [WS \"GROUP BY\" WS var_list] [WS \"ORDER BY\" WS orderby_expr] WS EOS\n",
    "EOS: \"</s>\"\n",
    "select_expr: STAR | select_list\n",
    "bool_condition: bool_expr | \"(\" bool_condition WS \"AND\" WS bool_condition \")\" | \"(\" bool_condition WS \"OR\" WS bool_condition \")\"\n",
    "bool_expr: var \"=\" value | var \">\" value | var \"<\" value\n",
    "from_expr: \"data\"\n",
    "orderby_expr: var_list WS \"ASC\" | var_list WS \"DESC\"\n",
    "select_list: select_var (\",\" WS select_var)*\n",
    "var_list: var (\",\" WS var)*\n",
    "select_var: var | \"AVG(\" var \")\" | \"MEDIAN(\" var \")\" | \"COUNT(\" var \")\"\n",
    "var: \"age\" | \"gender\" | \"year\" | \"state_color\" | \"zipcode\" | \"vote\" | \"race_ethnicity\"\n",
    "value: NUMBER | \"red\" | \"blue\" | \"white\" | \"black\" | \"latino\" | \"republican\" | \"democrat\" | \"male\" | \"female\"\n",
    "STAR: \"*\"\n",
    "NUMBER: /\\d+/\n",
    "WS: \" \"\n",
    "\"\"\")\n",
    "\n",
    "foo = lark_stuff.char_cfg(.7)\n",
    "foo = locally_normalize(foo, tol=1e-100).trim()\n",
    "assert len(foo) > 0\n",
    "lm = CFGLM(add_EOS(foo))"
   ]
  },
  {
   "cell_type": "code",
   "execution_count": null,
   "id": "82ea9156-8c57-4cba-b448-094a29fd05b4",
   "metadata": {},
   "outputs": [],
   "source": []
  },
  {
   "cell_type": "code",
   "execution_count": 81,
   "id": "94820485-f8eb-48e0-86db-cc0faa3b5271",
   "metadata": {},
   "outputs": [
    {
     "name": "stdout",
     "output_type": "stream",
     "text": [
      "SELECT age FROM data </s>\n"
     ]
    }
   ],
   "source": [
    "print(''.join(lm.sample()))"
   ]
  },
  {
   "cell_type": "code",
   "execution_count": null,
   "id": "eea67856-e347-4ba0-970c-25bf92b122df",
   "metadata": {},
   "outputs": [],
   "source": []
  },
  {
   "cell_type": "code",
   "execution_count": 82,
   "id": "c2158a77-e14c-4e93-b533-4184aae7d4a5",
   "metadata": {},
   "outputs": [],
   "source": [
    "H = hf_tokenizer()"
   ]
  },
  {
   "cell_type": "code",
   "execution_count": 83,
   "id": "3d792b5f-c322-47d7-8190-7937b5967fe6",
   "metadata": {},
   "outputs": [],
   "source": [
    "bpe_lm = CharAlignedCFGLM(lm=lm, words={x for _, x in H.pairs}, eos=H.tokenizer.eos_token)"
   ]
  },
  {
   "cell_type": "code",
   "execution_count": 84,
   "id": "64fcecc6-3ea2-4aeb-8ebc-de15472ca0e2",
   "metadata": {},
   "outputs": [
    {
     "data": {
      "text/html": [
       "<div style=\"font-family: Monospace;\"><table><tr style=\"font-weight: bold;\"><td>key</td><td>value</td></tr><tr><td>SE</td><td>0.3333333333333336</td> </tr><tr><td>SELECT</td><td>0.3333333333333326</td> </tr><tr><td>S</td><td>0.33333333333333387</td> </tr></table></div>"
      ],
      "text/plain": [
       "{'SE': 0.3333333333333336, 'SELECT': 0.3333333333333326, 'S': 0.33333333333333387}"
      ]
     },
     "execution_count": 84,
     "metadata": {},
     "output_type": "execute_result"
    }
   ],
   "source": [
    "bpe_lm.p_next('')"
   ]
  },
  {
   "cell_type": "code",
   "execution_count": 85,
   "id": "0aa025a6-d83a-4ce2-9fa7-9adf08f5621e",
   "metadata": {},
   "outputs": [
    {
     "data": {
      "text/html": [
       "<div style=\"font-family: Monospace;\"><table><tr style=\"font-weight: bold;\"><td>key</td><td>value</td></tr><tr><td>year</td><td>0.0003095979591655761</td> </tr><tr><td>ye</td><td>0.01685869702636845</td> </tr><tr><td>y</td><td>0.12440475039430289</td> </tr><tr><td>age</td><td>0.006660654820202691</td> </tr><tr><td>ag</td><td>0.03440550413544584</td> </tr><tr><td>a</td><td>0.17772107199186135</td> </tr><tr><td>rac</td><td>5.1493480584126015e-08</td> </tr><tr><td>race</td><td>1.971150069981064e-10</td> </tr><tr><td>ra</td><td>1.34519364255875e-05</td> </tr><tr><td>r</td><td>0.0035141262844413557</td> </tr><tr><td>ME</td><td>5.247874642978776e-06</td> </tr><tr><td>MED</td><td>1.2547298135338467e-08</td> </tr><tr><td>M</td><td>0.002194909850022202</td> </tr><tr><td>gender</td><td>7.869527415767987e-08</td> </tr><tr><td>gen</td><td>0.0002687814469771145</td> </tr><tr><td>ge</td><td>0.004047773156031062</td> </tr><tr><td>g</td><td>0.06095832769320841</td> </tr><tr><td>*</td><td>0.36236653495655496</td> </tr><tr><td>AV</td><td>4.460619846304499e-05</td> </tr><tr><td>A</td><td>0.006399154081697385</td> </tr><tr><td>state</td><td>1.5893389667220087e-10</td> </tr><tr><td>stat</td><td>1.4241089295789297e-08</td> </tr><tr><td>sta</td><td>1.2760564522553344e-06</td> </tr><tr><td>st</td><td>0.00011433957301453903</td> </tr><tr><td>s</td><td>0.010245266135397536</td> </tr><tr><td>CO</td><td>1.07099482509771e-05</td> </tr><tr><td>C</td><td>0.0031355855000317185</td> </tr><tr><td>vo</td><td>0.01685869702636845</td> </tr><tr><td>vote</td><td>0.0003095979591655761</td> </tr><tr><td>v</td><td>0.12440475039430289</td> </tr><tr><td>zi</td><td>0.0019834088464552218</td> </tr><tr><td>zip</td><td>9.219203631315036e-05</td> </tr><tr><td>z</td><td>0.04267082938524589</td> </tr></table></div>"
      ],
      "text/plain": [
       "{'year': 0.0003095979591655761, 'ye': 0.01685869702636845, 'y': 0.12440475039430289, 'age': 0.006660654820202691, 'ag': 0.03440550413544584, 'a': 0.17772107199186135, 'rac': 5.1493480584126015e-08, 'race': 1.971150069981064e-10, 'ra': 1.34519364255875e-05, 'r': 0.0035141262844413557, 'ME': 5.247874642978776e-06, 'MED': 1.2547298135338467e-08, 'M': 0.002194909850022202, 'gender': 7.869527415767987e-08, 'gen': 0.0002687814469771145, 'ge': 0.004047773156031062, 'g': 0.06095832769320841, '*': 0.36236653495655496, 'AV': 4.460619846304499e-05, 'A': 0.006399154081697385, 'state': 1.5893389667220087e-10, 'stat': 1.4241089295789297e-08, 'sta': 1.2760564522553344e-06, 'st': 0.00011433957301453903, 's': 0.010245266135397536, 'CO': 1.07099482509771e-05, 'C': 0.0031355855000317185, 'vo': 0.01685869702636845, 'vote': 0.0003095979591655761, 'v': 0.12440475039430289, 'zi': 0.0019834088464552218, 'zip': 9.219203631315036e-05, 'z': 0.04267082938524589}"
      ]
     },
     "execution_count": 85,
     "metadata": {},
     "output_type": "execute_result"
    }
   ],
   "source": [
    "bpe_lm.p_next('SELECT ')"
   ]
  },
  {
   "cell_type": "code",
   "execution_count": 86,
   "id": "b4720986-8690-49b4-ac18-20539b6a622f",
   "metadata": {},
   "outputs": [
    {
     "data": {
      "text/plain": [
       "'SELECT * FROM data </s>'"
      ]
     },
     "execution_count": 86,
     "metadata": {},
     "output_type": "execute_result"
    }
   ],
   "source": [
    "ys = bpe_lm.sample(verbose=0)\n",
    "ys"
   ]
  },
  {
   "cell_type": "code",
   "execution_count": null,
   "id": "9cee1996-f246-4e5b-9e6e-b6eaef1385ac",
   "metadata": {},
   "outputs": [],
   "source": []
  }
 ],
 "metadata": {
  "kernelspec": {
   "display_name": "Python 3 (ipykernel)",
   "language": "python",
   "name": "python3"
  },
  "language_info": {
   "codemirror_mode": {
    "name": "ipython",
    "version": 3
   },
   "file_extension": ".py",
   "mimetype": "text/x-python",
   "name": "python",
   "nbconvert_exporter": "python",
   "pygments_lexer": "ipython3",
   "version": "3.10.12"
  }
 },
 "nbformat": 4,
 "nbformat_minor": 5
}
