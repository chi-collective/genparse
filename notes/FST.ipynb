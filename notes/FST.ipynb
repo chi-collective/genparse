{
 "cells": [
  {
   "cell_type": "markdown",
   "id": "d2d8769c-975b-4ca8-a4ba-5d7ca9dec447",
   "metadata": {},
   "source": [
    "# Token Alignment"
   ]
  },
  {
   "cell_type": "code",
   "execution_count": 1,
   "id": "3d9fb828-28ae-4f5f-8fb7-214f325dfa49",
   "metadata": {},
   "outputs": [],
   "source": [
    "%load_ext autoreload\n",
    "%autoreload 2"
   ]
  },
  {
   "cell_type": "code",
   "execution_count": 2,
   "id": "988df6c8-bbb1-4a56-96c0-50ed95639b28",
   "metadata": {},
   "outputs": [],
   "source": [
    "from arsenal import iterview, timeit\n",
    "from collections import Counter\n",
    "from IPython.display import HTML\n",
    "from genparse import CFG, FST, EPSILON, Float, CFGLM, add_EOS, prefix_transducer\n",
    "from genparse.cfglm import locally_normalize, EOS, pcfg_check, explode, add_EOS, CharAlignedCFGLM\n",
    "from genparse.util import LarkStuff, hf_tokenizer, about, show_grammar, normalize, bpe_wfst, display_table, bpe2term_approx, char2bpe_wfst\n",
    "from genparse.inference import TraceSWOR\n",
    "from genparse.steer import generation_tree"
   ]
  },
  {
   "cell_type": "markdown",
   "id": "9896cdb0-2de9-4437-bb3e-e1ea804ee184",
   "metadata": {
    "jp-MarkdownHeadingCollapsed": true
   },
   "source": [
    "## Accounting for BPE's Tokenization Ambiguity with Transduction "
   ]
  },
  {
   "cell_type": "code",
   "execution_count": null,
   "id": "c84e285f-399d-48d1-bc66-2739a1398289",
   "metadata": {},
   "outputs": [],
   "source": [
    "lark_stuff = LarkStuff(r\"\"\"\n",
    "\n",
    "start: NAME\n",
    "\n",
    "NAME: /(a|b)*c/\n",
    "\n",
    "\"\"\")\n",
    "foo = lark_stuff.char_cfg(decay=.1)\n",
    "foo = locally_normalize(foo)\n",
    "assert len(foo.trim()) > 0\n",
    "pcfg_check(foo)"
   ]
  },
  {
   "cell_type": "code",
   "execution_count": null,
   "id": "bb1b890e-af73-4986-8a7c-505834886378",
   "metadata": {},
   "outputs": [],
   "source": [
    "foo"
   ]
  },
  {
   "cell_type": "code",
   "execution_count": null,
   "id": "0c6210c0-59f6-452b-99c7-a0cb33b7df9a",
   "metadata": {},
   "outputs": [],
   "source": [
    "foo.cnf.language(3)"
   ]
  },
  {
   "cell_type": "code",
   "execution_count": null,
   "id": "2a198bd4-ab33-429b-a5c8-46487410a4f6",
   "metadata": {},
   "outputs": [],
   "source": [
    "lm = CFGLM(add_EOS(foo))"
   ]
  },
  {
   "cell_type": "code",
   "execution_count": null,
   "id": "b7ae3d3c-02d9-47f7-a025-0c934c42c35c",
   "metadata": {},
   "outputs": [],
   "source": [
    "trace = TraceSWOR()\n",
    "for t in range(15):\n",
    "    with trace:\n",
    "        print(t, lm.sample(draw=trace))"
   ]
  },
  {
   "cell_type": "code",
   "execution_count": null,
   "id": "4e46c45e-00c4-4d81-93a4-875c042bc092",
   "metadata": {},
   "outputs": [],
   "source": [
    "H = hf_tokenizer()\n",
    "about(H.fst)"
   ]
  },
  {
   "cell_type": "markdown",
   "id": "9cb7dea7-788c-4002-bac9-7f7249852acb",
   "metadata": {},
   "source": [
    "Let's shrink the BPE transducer down to something managable by limiting it alphabet "
   ]
  },
  {
   "cell_type": "code",
   "execution_count": null,
   "id": "ec6f862e-9096-4ede-ba35-c632bdf2a1e5",
   "metadata": {},
   "outputs": [],
   "source": [
    "#b2c = H.fst.prune_to_alphabet(None, foo.V | {''}).renumber\n",
    "#about(b2c)"
   ]
  },
  {
   "cell_type": "code",
   "execution_count": null,
   "id": "c5ba0052-1e7c-479a-9ff7-d0b3b3d20921",
   "metadata": {},
   "outputs": [],
   "source": [
    "b2c = H.fst.prune_to_alphabet(None, foo.V | {''}).renumber"
   ]
  },
  {
   "cell_type": "markdown",
   "id": "9b03ac6d-e5bd-4b66-8516-5b01eb56e7b5",
   "metadata": {},
   "source": [
    "We can look at our little language's strings thru the lense of their possible BPE sequences.  Notice that these strings are ambiguously mapped to BPE --- meaning that there are many BPE sequences that would give rise to the same string!"
   ]
  },
  {
   "cell_type": "code",
   "execution_count": null,
   "id": "63583038-d333-48a6-8e53-4403df9b9194",
   "metadata": {},
   "outputs": [],
   "source": [
    "for x in foo.cnf.language(3):\n",
    "    display(HTML('<hr/>'))\n",
    "    print(x)\n",
    "    bpe_x = b2c(None, x).epsremove.trim\n",
    "    print('total weight of BPE sequences (i.e., ambiguity):', bpe_x.total_weight())\n",
    "    display(bpe_x)\n",
    "    print()"
   ]
  },
  {
   "cell_type": "code",
   "execution_count": null,
   "id": "1a01e546-c37e-46f8-900e-de303dce77b3",
   "metadata": {},
   "outputs": [],
   "source": [
    "tmp = (b2c @ foo).trim()"
   ]
  },
  {
   "cell_type": "code",
   "execution_count": null,
   "id": "4749db69-bb67-471c-9af3-db09a4b2e9b1",
   "metadata": {},
   "outputs": [],
   "source": [
    "L = 5"
   ]
  },
  {
   "cell_type": "code",
   "execution_count": null,
   "id": "9ebec9fe-55b0-4b08-9c5d-20e123115fd6",
   "metadata": {},
   "outputs": [],
   "source": [
    "c = Float.chart()\n",
    "for x, w, in tmp.cnf.language(5).items():\n",
    "    y =  H.tokenizer.decode(x)\n",
    "    if len(y) > L: continue    \n",
    "    c[y] += w"
   ]
  },
  {
   "cell_type": "code",
   "execution_count": null,
   "id": "7f1e4505-684b-4244-aa9e-6e380ee7fec0",
   "metadata": {},
   "outputs": [],
   "source": [
    "ambig = Float.chart({x: b2c(None, x).total_weight() for x in c})"
   ]
  },
  {
   "cell_type": "code",
   "execution_count": null,
   "id": "9bec20d2-9545-4a1e-92d6-a504a212d0f3",
   "metadata": {},
   "outputs": [],
   "source": [
    "ccc = Float.chart()\n",
    "for x in c:\n",
    "    ccc[x] = c[x] / ambig[x]"
   ]
  },
  {
   "cell_type": "code",
   "execution_count": null,
   "id": "d1c58131-7ac7-40f7-9af8-fe6b40b05c35",
   "metadata": {},
   "outputs": [],
   "source": [
    "cc = Float.chart()\n",
    "for x, w in foo.cnf.language(L+2).items():\n",
    "    if len(x) > L: continue\n",
    "    cc[''.join(x)] += w\n",
    "#cc"
   ]
  },
  {
   "cell_type": "code",
   "execution_count": null,
   "id": "4248cb64-5bdb-4f86-a70f-a1d4383e0458",
   "metadata": {},
   "outputs": [],
   "source": [
    "ccc.assert_equal(cc, tol=1e-20)"
   ]
  },
  {
   "cell_type": "code",
   "execution_count": null,
   "id": "fbf30359-1852-4cef-a86f-048dc62dd968",
   "metadata": {},
   "outputs": [],
   "source": [
    "#cc.metric(c)"
   ]
  },
  {
   "cell_type": "code",
   "execution_count": null,
   "id": "0af56e1c-e4fa-4166-9ba2-ce1f1d82e16e",
   "metadata": {},
   "outputs": [],
   "source": [
    "#tmp.trim(bottomup_only=True)"
   ]
  },
  {
   "cell_type": "code",
   "execution_count": null,
   "id": "7b732ed0-520b-45ba-810b-d0266a7d1d88",
   "metadata": {},
   "outputs": [],
   "source": [
    "#show_grammar(tmp, showzero=True)"
   ]
  },
  {
   "cell_type": "code",
   "execution_count": null,
   "id": "337e2d86-6dfe-45be-87ba-0b6fbfc50c35",
   "metadata": {},
   "outputs": [],
   "source": [
    "#print(tmp.agenda().__str__(style_value=lambda k, v: (colors.light.red % v) if v > 1.000001 or v < 0 else v))"
   ]
  },
  {
   "cell_type": "code",
   "execution_count": null,
   "id": "21c4baaf-8a5e-4380-81c8-9fe5f5d85bb6",
   "metadata": {},
   "outputs": [],
   "source": [
    "#for q in c2t.states:      \n",
    "#    for (a,b), r, w in c2t.arcs(q):\n",
    "#        print(f'--{a or \"ε\"}:{b or \"ε\"}/{w}-->', r)"
   ]
  },
  {
   "cell_type": "code",
   "execution_count": null,
   "id": "297d9420-6e63-4607-b5a9-439238b02140",
   "metadata": {},
   "outputs": [],
   "source": [
    "#{x: v for x,v in tmp.agenda().items() if v > 1.001 or v < 0}"
   ]
  },
  {
   "cell_type": "code",
   "execution_count": null,
   "id": "9ea76dfa-cbc6-4cdd-a413-dda5dd7e9c89",
   "metadata": {},
   "outputs": [],
   "source": [
    "#len(tmp.N - tmp.agenda(tol=1e-40, maxiter=np.inf).trim().keys()), len(tmp.N), len(tmp.agenda(tol=1e-40).trim())"
   ]
  },
  {
   "cell_type": "code",
   "execution_count": null,
   "id": "1f25c7ed-b778-4a0c-819f-0219156e6c5a",
   "metadata": {},
   "outputs": [],
   "source": [
    "#tmp.cnf.language(4)"
   ]
  },
  {
   "cell_type": "code",
   "execution_count": null,
   "id": "f18614c6-5c17-4467-ae97-f06790f22af4",
   "metadata": {},
   "outputs": [],
   "source": [
    "#show_grammar(tmp)"
   ]
  },
  {
   "cell_type": "code",
   "execution_count": null,
   "id": "3d61730b-d679-4404-b062-d3d5bbaa20ac",
   "metadata": {},
   "outputs": [],
   "source": [
    "p = locally_normalize(tmp, tol=1e-40, maxiter=np.inf).trim()\n",
    "pcfg_check(p)"
   ]
  },
  {
   "cell_type": "code",
   "execution_count": null,
   "id": "9a777fe2-77a9-40ff-af4d-d1f02f6ed3e6",
   "metadata": {},
   "outputs": [],
   "source": [
    "lm2 = CFGLM(add_EOS(p))"
   ]
  },
  {
   "cell_type": "code",
   "execution_count": null,
   "id": "fd2ff4b0-5e43-455f-8be8-b42c7d059aad",
   "metadata": {},
   "outputs": [],
   "source": [
    "#lm2.sample(verbose=1)"
   ]
  },
  {
   "cell_type": "code",
   "execution_count": null,
   "id": "f3d26457-e3bf-4f79-8ec0-7d811110982e",
   "metadata": {},
   "outputs": [],
   "source": [
    "#context = (64,65,6485,39305)\n",
    "context = (64,65,6485,)"
   ]
  },
  {
   "cell_type": "code",
   "execution_count": null,
   "id": "0040787f-6bc0-4ec4-915a-a12aedaaedcd",
   "metadata": {},
   "outputs": [],
   "source": [
    "char_context = H.tokenizer.decode(context)\n",
    "char_context"
   ]
  },
  {
   "cell_type": "code",
   "execution_count": null,
   "id": "7085cad5-62ac-4385-afba-a848c6583d3f",
   "metadata": {},
   "outputs": [],
   "source": [
    "df = []\n",
    "for x, w in sorted(normalize(lm2.p_next(context)).items(), key=lambda kv: -kv[1]):\n",
    "    df.append((x, (H.tokenizer.decode([x]) if x != EOS else EOS), w))\n",
    "pd.DataFrame(df, columns=['token_id', 'chars', 'prob']).set_index('token_id')"
   ]
  },
  {
   "cell_type": "code",
   "execution_count": null,
   "id": "956b30e0-11be-4339-b576-fdd97c9d985a",
   "metadata": {},
   "outputs": [],
   "source": [
    "Float.chart(normalize(lm.p_next(char_context)))"
   ]
  },
  {
   "cell_type": "code",
   "execution_count": null,
   "id": "2a035044-4c12-495a-8b70-1a6bda2cbb40",
   "metadata": {},
   "outputs": [],
   "source": []
  },
  {
   "cell_type": "markdown",
   "id": "d3e142ef-2966-4614-aa72-5a998059dc50",
   "metadata": {
    "jp-MarkdownHeadingCollapsed": true
   },
   "source": [
    "## Lexing"
   ]
  },
  {
   "cell_type": "code",
   "execution_count": null,
   "id": "db2f8551-e3aa-474b-92d5-3219ad81b36c",
   "metadata": {},
   "outputs": [],
   "source": [
    "lark_stuff = LarkStuff(r\"\"\"\n",
    "\n",
    "start: \"SELECT\" WS STAR WS \"FROM\" WS NAME WS EOS\n",
    "\n",
    "EOS: \"</s>\"\n",
    "NAME: /[a-z]+/\n",
    "STAR: \"*\"\n",
    "WS: /[ ]/\n",
    "\n",
    "\"\"\")"
   ]
  },
  {
   "cell_type": "code",
   "execution_count": null,
   "id": "16b1d527-d27a-46e9-8e8e-e2a3da812351",
   "metadata": {},
   "outputs": [],
   "source": [
    "foo = lark_stuff.char_cfg(.1)"
   ]
  },
  {
   "cell_type": "code",
   "execution_count": null,
   "id": "77d438bc-5767-444a-a449-571f511575f0",
   "metadata": {},
   "outputs": [],
   "source": [
    "#foo['NAME'].trim().agenda()"
   ]
  },
  {
   "cell_type": "code",
   "execution_count": null,
   "id": "6114f525-ff3b-4736-bc3a-d48ebcff71c1",
   "metadata": {},
   "outputs": [],
   "source": [
    "#foo.agenda()"
   ]
  },
  {
   "cell_type": "code",
   "execution_count": null,
   "id": "c8a2e4dd-81f3-433f-83a0-651f27ca63de",
   "metadata": {},
   "outputs": [],
   "source": [
    "foo = locally_normalize(foo, tol=1e-100).trim()\n",
    "assert len(foo) > 0"
   ]
  },
  {
   "cell_type": "code",
   "execution_count": null,
   "id": "d3fffee2-0852-4aef-a92c-0e6b100be3b5",
   "metadata": {},
   "outputs": [],
   "source": [
    "#foo"
   ]
  },
  {
   "cell_type": "code",
   "execution_count": null,
   "id": "79508f80-8c4a-4cc9-8487-10920b285dd2",
   "metadata": {},
   "outputs": [],
   "source": [
    "lm = CFGLM(add_EOS(foo))"
   ]
  },
  {
   "cell_type": "code",
   "execution_count": null,
   "id": "86cde92c-91ea-410a-b002-88b6f383916c",
   "metadata": {},
   "outputs": [],
   "source": [
    "trace = TraceSWOR()\n",
    "for _ in range(15):\n",
    "   print('mass=', trace.root.mass)\n",
    "   with trace:\n",
    "       print(''.join(lm.sample(draw=trace)))"
   ]
  },
  {
   "cell_type": "code",
   "execution_count": null,
   "id": "e36e6deb-900c-4dbd-bad4-c51ce910a641",
   "metadata": {},
   "outputs": [],
   "source": []
  },
  {
   "cell_type": "code",
   "execution_count": null,
   "id": "78a60e9d-e85b-4759-8653-bcccd72c02dd",
   "metadata": {},
   "outputs": [],
   "source": [
    "cfg = lark_stuff.convert().renumber()"
   ]
  },
  {
   "cell_type": "code",
   "execution_count": null,
   "id": "db081114-ac49-4e6d-9c8f-b078966f965e",
   "metadata": {},
   "outputs": [],
   "source": [
    "c2t = lark_stuff.transducer(ignore='', decay=.0125); len(c2t.states)"
   ]
  },
  {
   "cell_type": "markdown",
   "id": "4b8fd795-8971-41aa-8347-883ec12f0623",
   "metadata": {},
   "source": [
    "The `lark` library will only lex it one way because it has a deterministic semantics for prioritized lexing:"
   ]
  },
  {
   "cell_type": "code",
   "execution_count": null,
   "id": "48dee626-031a-409c-b523-57810a90b6c0",
   "metadata": {},
   "outputs": [],
   "source": [
    "x = 'SELECT * FROM data'"
   ]
  },
  {
   "cell_type": "code",
   "execution_count": null,
   "id": "3b469dfa-1951-419e-918d-2753befef16c",
   "metadata": {},
   "outputs": [],
   "source": [
    "list(lark_stuff.lex(x))"
   ]
  },
  {
   "cell_type": "markdown",
   "id": "890c4399-43c6-44f3-ba0a-9d4c720591ed",
   "metadata": {},
   "source": [
    "However, this string can lex many different ways:"
   ]
  },
  {
   "cell_type": "code",
   "execution_count": null,
   "id": "e4b13795-6d91-4604-847f-76a1cbec7576",
   "metadata": {},
   "outputs": [],
   "source": [
    "ambig = (FST.from_string(x, Float) @ c2t).trim.project(1).epsremove.trim.to_cfg().cnf.language(15)"
   ]
  },
  {
   "cell_type": "code",
   "execution_count": null,
   "id": "6d725b7f-f4c0-4cd5-8f0f-61bda50afe36",
   "metadata": {},
   "outputs": [],
   "source": [
    "#ambig"
   ]
  },
  {
   "cell_type": "markdown",
   "id": "1113c156-60a3-48c9-846f-cf9487dc5125",
   "metadata": {},
   "source": [
    "It might be fine to allow ambiguous lexing because very few of the possible lexing options will survive the parser."
   ]
  },
  {
   "cell_type": "code",
   "execution_count": null,
   "id": "a7cb2cbf-8561-4b15-9713-5942a0568883",
   "metadata": {},
   "outputs": [],
   "source": [
    "for y in ambig:\n",
    "    v = cfg.prefix_weight(y)   # show all options with a nonzero prefix weight\n",
    "    if v == 0: continue\n",
    "    print(v, y)"
   ]
  },
  {
   "cell_type": "code",
   "execution_count": null,
   "id": "5ddeacb6-c2d1-4338-ac43-08f6dfe4dfea",
   "metadata": {},
   "outputs": [],
   "source": [
    "#((FST.from_string('SELECT', Float) @ c2t) @ P.T @ cfg).trim().cnf.language(15)"
   ]
  },
  {
   "cell_type": "code",
   "execution_count": null,
   "id": "e0efbe84-53c3-4d07-8a32-956036803019",
   "metadata": {},
   "outputs": [],
   "source": [
    "#(P.T @ cfg).trim().cnf.language(100)"
   ]
  },
  {
   "cell_type": "code",
   "execution_count": null,
   "id": "dfc2e37c-55cc-485b-b755-3281ad9aaa0a",
   "metadata": {},
   "outputs": [],
   "source": [
    "cfg_t = (c2t.renumber @ cfg).trim()\n",
    "pcfg_t = locally_normalize(cfg_t, tol=1e-100, maxiter=10_000_000)"
   ]
  },
  {
   "cell_type": "code",
   "execution_count": null,
   "id": "6e65a6fd-e69a-4836-8404-044aa18d85ca",
   "metadata": {},
   "outputs": [],
   "source": [
    "pcfg_check(pcfg_t)"
   ]
  },
  {
   "cell_type": "code",
   "execution_count": null,
   "id": "405b0d8c-fd5e-4746-a959-c847a3a7bb25",
   "metadata": {},
   "outputs": [],
   "source": [
    "cfg_t('SELECT * FROM data </s>')"
   ]
  },
  {
   "cell_type": "code",
   "execution_count": null,
   "id": "6a341822-10fa-4dec-9d48-097e676634a3",
   "metadata": {},
   "outputs": [],
   "source": [
    "cfg_t('SELECT * FROM data </s>')"
   ]
  },
  {
   "cell_type": "code",
   "execution_count": null,
   "id": "857feb25-f028-43cc-810b-09b905e550df",
   "metadata": {},
   "outputs": [],
   "source": [
    "lm = CFGLM(add_EOS(pcfg_t.cnf))"
   ]
  },
  {
   "cell_type": "code",
   "execution_count": null,
   "id": "8658feb1-73eb-4610-8ea7-f5292b698a66",
   "metadata": {},
   "outputs": [],
   "source": [
    "for _ in range(10):\n",
    "    print(''.join(lm.sample()))"
   ]
  },
  {
   "cell_type": "code",
   "execution_count": null,
   "id": "a6be40a1-cc63-454a-a3d5-2ac66baba86a",
   "metadata": {},
   "outputs": [],
   "source": [
    "lm.p_next('SELECT * FROM ')"
   ]
  },
  {
   "cell_type": "code",
   "execution_count": null,
   "id": "ed95fbfe-24fe-42b9-8daa-e07159bd5856",
   "metadata": {},
   "outputs": [],
   "source": []
  },
  {
   "cell_type": "markdown",
   "id": "0f0582ac-3451-4b7f-bcb0-1fc2cdc8efbe",
   "metadata": {
    "jp-MarkdownHeadingCollapsed": true
   },
   "source": [
    "## BPE Basics"
   ]
  },
  {
   "cell_type": "code",
   "execution_count": null,
   "id": "66dddc70-9ccd-4e03-9135-8461fb0c831b",
   "metadata": {},
   "outputs": [],
   "source": [
    "hf_tk = hf_tokenizer()\n",
    "tokenizer = hf_tk.tokenizer"
   ]
  },
  {
   "cell_type": "code",
   "execution_count": null,
   "id": "3113a7ae-ea16-4b18-9612-70b4fdcee7b2",
   "metadata": {},
   "outputs": [],
   "source": [
    "b2c = hf_tk.fst\n",
    "len(b2c.states)"
   ]
  },
  {
   "cell_type": "code",
   "execution_count": null,
   "id": "822277b4-4f0f-43a2-8783-e6a5831109a2",
   "metadata": {},
   "outputs": [],
   "source": [
    "x = 'SELECT * FROM data'\n",
    "b = tokenizer.encode(x)\n",
    "b"
   ]
  },
  {
   "cell_type": "code",
   "execution_count": null,
   "id": "5a439aee-06e4-4e3c-b244-892f29ddc63b",
   "metadata": {},
   "outputs": [],
   "source": [
    "[tokenizer.decode([bb]) for bb in b]"
   ]
  },
  {
   "cell_type": "code",
   "execution_count": null,
   "id": "54a5ff04-03bb-4965-9f05-8085c90dce5e",
   "metadata": {},
   "outputs": [],
   "source": [
    "with timeit('composition'):\n",
    "    c = FST.from_string(tuple(b), Float) @ b2c\n",
    "about(c)"
   ]
  },
  {
   "cell_type": "code",
   "execution_count": null,
   "id": "3f35ab22-cc99-4b61-836d-5109ae8934fd",
   "metadata": {},
   "outputs": [],
   "source": [
    "c.trim"
   ]
  },
  {
   "cell_type": "markdown",
   "id": "5e537195-c06c-4642-8a15-557de5a90f98",
   "metadata": {},
   "source": [
    "We can build this \"transducer\" more efficiently"
   ]
  },
  {
   "cell_type": "code",
   "execution_count": null,
   "id": "3cd29a5c-4b4a-4d65-b3e5-f4375b607fdb",
   "metadata": {},
   "outputs": [],
   "source": [
    "t = bpe2term_approx(tokenizer, tokenizer.encode(x)).epsremove.trim\n",
    "t"
   ]
  },
  {
   "cell_type": "code",
   "execution_count": null,
   "id": "42741260-329d-4a9f-aeee-b2655c260144",
   "metadata": {},
   "outputs": [],
   "source": []
  },
  {
   "cell_type": "markdown",
   "id": "d2df7b26-8065-4ae0-a83d-19d7b5cc436f",
   "metadata": {
    "jp-MarkdownHeadingCollapsed": true
   },
   "source": [
    "## BPE Ambiguity"
   ]
  },
  {
   "cell_type": "code",
   "execution_count": null,
   "id": "5c9e5189-75d8-4d2a-aea7-733608e27baf",
   "metadata": {},
   "outputs": [],
   "source": [
    "x = x = 'SELECT * FROM data'"
   ]
  },
  {
   "cell_type": "code",
   "execution_count": null,
   "id": "ac49282e-6174-4ab2-9c52-7be7663ecdae",
   "metadata": {},
   "outputs": [],
   "source": [
    "with timeit('composition'):\n",
    "    bs = b2c @ FST.from_string(x, Float)\n",
    "with timeit('trim'):\n",
    "    bs.trim\n",
    "about(bs)"
   ]
  },
  {
   "cell_type": "code",
   "execution_count": null,
   "id": "ccf89bc2-a985-44bc-b099-676221f34b05",
   "metadata": {},
   "outputs": [],
   "source": [
    "#bs.trim"
   ]
  },
  {
   "cell_type": "markdown",
   "id": "1f9e46e7-f348-4790-9f2e-ab3812c61f41",
   "metadata": {},
   "source": [
    "The automaton below describes all the BPE sequences that generate the string `x` and the number below is the total weight of these paths (in the count semiring these are the number of distinct paths):"
   ]
  },
  {
   "cell_type": "code",
   "execution_count": null,
   "id": "0ff2c313-c134-488b-9d50-eadd15246f42",
   "metadata": {},
   "outputs": [],
   "source": [
    "bs.trim.project(0).epsremove.trim.total_weight()"
   ]
  },
  {
   "cell_type": "code",
   "execution_count": null,
   "id": "072cb3c3-6828-4a2d-88d5-d5d5fee491d1",
   "metadata": {},
   "outputs": [],
   "source": [
    "bs.trim.project(0).epsremove.trim"
   ]
  },
  {
   "cell_type": "markdown",
   "id": "c1a488f7-91ff-4d0a-a825-c2da8bbccc29",
   "metadata": {},
   "source": [
    "To see all the BPE sequences that generate `x` run the cell below:"
   ]
  },
  {
   "cell_type": "code",
   "execution_count": null,
   "id": "5ca21894-4a66-4d57-b631-f64f4fc2b575",
   "metadata": {},
   "outputs": [],
   "source": [
    "#for y in bs.trim.project(0).epsremove.trim.to_cfg().language(10):\n",
    "#    print(tokenizer.decode(y), y)"
   ]
  },
  {
   "cell_type": "code",
   "execution_count": null,
   "id": "9632097d-a97a-4d59-8683-7dd637e3e0f8",
   "metadata": {},
   "outputs": [],
   "source": []
  },
  {
   "cell_type": "code",
   "execution_count": null,
   "id": "5b29e1dc-bfd3-47a3-be89-fcd79ac1217a",
   "metadata": {},
   "outputs": [],
   "source": []
  },
  {
   "cell_type": "markdown",
   "id": "60280fdd-8a22-4764-9e76-97814619a4cb",
   "metadata": {
    "jp-MarkdownHeadingCollapsed": true
   },
   "source": [
    "## A Basic Alignment Algorithm"
   ]
  },
  {
   "cell_type": "code",
   "execution_count": null,
   "id": "45add727-d4d9-418b-bf92-b7e782f23703",
   "metadata": {},
   "outputs": [],
   "source": [
    "lark_stuff = LarkStuff(r\"\"\"\n",
    "start: \"SELECT\" WS select_expr WS \"FROM\" WS from_expr [WS \"WHERE\" WS bool_condition] [WS \"GROUP BY\" WS var_list] [WS \"ORDER BY\" WS orderby_expr] WS EOS\n",
    "EOS: \"</s>\"\n",
    "select_expr: STAR | select_list\n",
    "bool_condition: bool_expr | \"(\" bool_condition WS \"AND\" WS bool_condition \")\" | \"(\" bool_condition WS \"OR\" WS bool_condition \")\"\n",
    "bool_expr: var \"=\" value | var \">\" value | var \"<\" value\n",
    "from_expr: \"data\"\n",
    "orderby_expr: var_list WS \"ASC\" | var_list WS \"DESC\"\n",
    "select_list: select_var (\",\" WS select_var)*\n",
    "var_list: var (\",\" WS var)*\n",
    "select_var: var | \"AVG(\" var \")\" | \"MEDIAN(\" var \")\" | \"COUNT(\" var \")\"\n",
    "var: \"age\" | \"gender\" | \"year\" | \"state_color\" | \"zipcode\" | \"vote\" | \"race_ethnicity\"\n",
    "value: NUMBER | \"red\" | \"blue\" | \"white\" | \"black\" | \"latino\" | \"republican\" | \"democrat\" | \"male\" | \"female\"\n",
    "STAR: \"*\"\n",
    "NUMBER: /\\d+/\n",
    "WS: \" \"\n",
    "\"\"\")\n",
    "\n",
    "foo = lark_stuff.char_cfg(.7)\n",
    "foo = locally_normalize(foo, tol=1e-100).trim()\n",
    "assert len(foo) > 0\n",
    "lm = CFGLM(foo)"
   ]
  },
  {
   "cell_type": "code",
   "execution_count": null,
   "id": "82ea9156-8c57-4cba-b448-094a29fd05b4",
   "metadata": {},
   "outputs": [],
   "source": []
  },
  {
   "cell_type": "code",
   "execution_count": null,
   "id": "94820485-f8eb-48e0-86db-cc0faa3b5271",
   "metadata": {},
   "outputs": [],
   "source": [
    "print(''.join(lm.sample()))"
   ]
  },
  {
   "cell_type": "code",
   "execution_count": null,
   "id": "eea67856-e347-4ba0-970c-25bf92b122df",
   "metadata": {},
   "outputs": [],
   "source": []
  },
  {
   "cell_type": "code",
   "execution_count": null,
   "id": "c2158a77-e14c-4e93-b533-4184aae7d4a5",
   "metadata": {},
   "outputs": [],
   "source": [
    "H = hf_tokenizer()"
   ]
  },
  {
   "cell_type": "code",
   "execution_count": null,
   "id": "3d792b5f-c322-47d7-8190-7937b5967fe6",
   "metadata": {},
   "outputs": [],
   "source": [
    "bpe_lm = CharAlignedCFGLM(lm=lm, words={x for _, x in H.pairs}, eos=H.tokenizer.eos_token)"
   ]
  },
  {
   "cell_type": "code",
   "execution_count": null,
   "id": "6aa7e87e-cf79-4319-9ecd-5a5f828adee1",
   "metadata": {},
   "outputs": [],
   "source": [
    "lm.p_next('')"
   ]
  },
  {
   "cell_type": "code",
   "execution_count": null,
   "id": "cc70e82c-138c-4a59-a261-049bcfd5bdd5",
   "metadata": {},
   "outputs": [],
   "source": []
  },
  {
   "cell_type": "code",
   "execution_count": null,
   "id": "64fcecc6-3ea2-4aeb-8ebc-de15472ca0e2",
   "metadata": {},
   "outputs": [],
   "source": [
    "bpe_lm.p_next('')"
   ]
  },
  {
   "cell_type": "code",
   "execution_count": null,
   "id": "f0584af6-04a2-46c6-9a85-7c94dfe2e3b0",
   "metadata": {},
   "outputs": [],
   "source": [
    "lm.p_next('SELECT ')"
   ]
  },
  {
   "cell_type": "code",
   "execution_count": null,
   "id": "0aa025a6-d83a-4ce2-9fa7-9adf08f5621e",
   "metadata": {},
   "outputs": [],
   "source": [
    "bpe_lm.p_next('SELECT ')"
   ]
  },
  {
   "cell_type": "code",
   "execution_count": null,
   "id": "b4720986-8690-49b4-ac18-20539b6a622f",
   "metadata": {},
   "outputs": [],
   "source": [
    "ys = bpe_lm.sample(verbose=0)\n",
    "ys"
   ]
  },
  {
   "cell_type": "code",
   "execution_count": null,
   "id": "33a084d8-151d-46d7-8fe8-bdea49485ac1",
   "metadata": {},
   "outputs": [],
   "source": []
  },
  {
   "cell_type": "markdown",
   "id": "ca7ee095-f67f-4dc1-b010-b11b0ad002ec",
   "metadata": {},
   "source": [
    "## Avoiding Distortion in Tokenization Alignment. "
   ]
  },
  {
   "cell_type": "markdown",
   "id": "d6485bd0-b543-44da-8b4b-ee6ff13c628b",
   "metadata": {},
   "source": [
    "\n",
    "Let $p$ be some original CFG-LM over character strings $a \\in \\mathcal{A}^*$.\n",
    "\n",
    "Let $p'$ be the \"BPE transform\" of $p$; $p'$ is a distribution over BPE strings $b \\in \\mathcal{B}^*$.\n",
    "\n",
    "The sets $\\mathcal{A}^*$ and $\\mathcal{B}^*$ are related through the functions $\\mathrm{encode}$ and $\\mathrm{decode}$.\n",
    "\n",
    "We want \n",
    "\n",
    "$$\n",
    "\\forall a\\colon\\quad   p(a) = \\sum_{b\\colon\\ \\mathrm{decode}(b) = a} p'(b)\n",
    "$$\n",
    "\n",
    "We would like to define $p'$ such that this property holds because it ensures that the process:\n",
    "\n",
    "1. $b \\sim p'$\n",
    "2. $a = \\mathrm{decode}(b)$\n",
    "\n",
    "generates $a$ that is distributed $p$.  We call the process **distortion-free** if these conditions are satisfied.\n",
    "\n",
    "**Open question**: For any distribution $p$ and (segmentation-based) tokenization scheme, does a computationally efficient, incremental, distortion-free generative process exist?"
   ]
  },
  {
   "cell_type": "markdown",
   "id": "15e61ce9-dedf-4087-9e6d-44ed42aaa21e",
   "metadata": {},
   "source": [
    "It may be possible to satisfy the anti-distortion property in some ways that are \"bad\" because they would adversely affect the downstream components.  Consider the following **unwanted workaround** for BPE tokenization (which is a *segmentation* model).  In that case, we have, by construction, individual characters included in the token vocabulary.  This means that we can define a trivial segmentation that only takes unit-length segments.  This will not be the preferred prediction scheme of the LLM model -- it will prefer the segments that are more representative of those that would appear in this context in the training data."
   ]
  },
  {
   "cell_type": "markdown",
   "id": "ab5cb426-3a4e-4ef2-8a12-c40b2aeae23a",
   "metadata": {},
   "source": [
    "This suggests that either the LM should be as unopinionated about the tokenization/segmentation as possible.  Or, it should attempt to match the canonical tokenization (in so far as one exists).  (Could the latter case lead to unwanted amplification?)"
   ]
  },
  {
   "cell_type": "markdown",
   "id": "816edf33-55cd-4d22-9fce-5adc2ff5cb86",
   "metadata": {},
   "source": [
    "The below we explore some preliminary attempts to understand the distortion in the char-alignment adaptor (I might refer to this a \"grafting\" as well as a more global transduction-based approach)."
   ]
  },
  {
   "cell_type": "markdown",
   "id": "d115e74c-fbb9-4b73-9cd1-37a995f5c503",
   "metadata": {},
   "source": [
    "$$\\newcommand{\\BtoA}[0]{\\underset{\\mathcal{B} \\to \\mathcal{A}}{\\phi}}$$"
   ]
  },
  {
   "cell_type": "markdown",
   "id": "d837c2bf-6b1e-47c8-9731-4e5412de2071",
   "metadata": {},
   "source": [
    "The class `CharAlignedCFGLM` implements an LM $q$ over tokens based on the following conditional factorization:\n",
    "\n",
    "$$\n",
    "q(b_{N+1} \\mid b_1, \\ldots, b_N) \\propto p( a_{N+1} \\mid a_1 \\cdots a_N )\n",
    "$$\n",
    "\n",
    "where $b_1, \\ldots, b_N$ are a sequence of tokens ids, and $a_1, \\ldots, a_N$ are their respective strings in $\\mathcal{A}^*$ (i.e., $\\left( b_k \\BtoA \\right) = B_k$ for each $k = 1, \\ldots, N$)."
   ]
  },
  {
   "cell_type": "markdown",
   "id": "d8cb0c79-96eb-4cf8-87d3-2b02e903d807",
   "metadata": {},
   "source": [
    "The transduction model $\\widehat{G} \\overset{\\mathrm{def}}{=} \\BtoA \\, G$"
   ]
  },
  {
   "cell_type": "code",
   "execution_count": 4,
   "id": "0256b966-380f-49fa-89e0-e3deb9e6f10e",
   "metadata": {},
   "outputs": [],
   "source": [
    "_cfg = CFG.from_string(\"\"\"\n",
    "\n",
    "1: S -> a\n",
    "1: S -> a a\n",
    "2: S -> a a a\n",
    "\n",
    "\"\"\", Float)\n",
    "\n",
    "alphabet = _cfg.V\n",
    "tokens = {'a','aa','aaa', EOS}\n",
    "\n",
    "c_lm = CFGLM(locally_normalize(_cfg, tol=1e-100).trim())"
   ]
  },
  {
   "cell_type": "code",
   "execution_count": 5,
   "id": "010735fd-b455-45bd-ac9d-17db4393bc95",
   "metadata": {},
   "outputs": [
    {
     "data": {
      "text/html": [
       "<pre style=\"width: fit-content; text-align: left; border: thin solid black; padding: 0.5em;\">Grammar {\n",
       "  1: 0 → 1 ▪\n",
       "  0.25: 1 → a\n",
       "  0.25: 1 → a a\n",
       "  0.5: 1 → a a a\n",
       "}</pre>"
      ],
      "text/plain": [
       "Grammar {\n",
       "  1: 0 → 1 ▪\n",
       "  0.25: 1 → a\n",
       "  0.25: 1 → a a\n",
       "  0.5: 1 → a a a\n",
       "}"
      ]
     },
     "execution_count": 5,
     "metadata": {},
     "output_type": "execute_result"
    }
   ],
   "source": [
    "c_lm.cfg"
   ]
  },
  {
   "cell_type": "code",
   "execution_count": 6,
   "id": "e8659235-6e35-47f7-bc2e-082e7dab9665",
   "metadata": {},
   "outputs": [],
   "source": [
    "a_lm = CharAlignedCFGLM(c_lm, tokens, EOS)"
   ]
  },
  {
   "cell_type": "code",
   "execution_count": 7,
   "id": "d1d5c923-ef64-49f1-9201-5ee2c1ea2890",
   "metadata": {},
   "outputs": [
    {
     "data": {
      "text/html": [
       "<table><tr><td><div style=\"font-family: Monospace;\"><table><tr style=\"font-weight: bold;\"><td>key</td><td>value</td></tr><tr><td><pre>(&#x27;a&#x27;,)</pre></td><td><pre>0.25</pre></td> </tr><tr><td><pre>(&#x27;a&#x27;, &#x27;a&#x27;)</pre></td><td><pre>0.25</pre></td> </tr><tr><td><pre>(&#x27;a&#x27;, &#x27;a&#x27;, &#x27;a&#x27;)</pre></td><td><pre>0.5</pre></td> </tr></table></div></td><td><?xml version=\"1.0\" encoding=\"UTF-8\" standalone=\"no\"?>\n",
       "<!DOCTYPE svg PUBLIC \"-//W3C//DTD SVG 1.1//EN\"\n",
       " \"http://www.w3.org/Graphics/SVG/1.1/DTD/svg11.dtd\">\n",
       "<!-- Generated by graphviz version 2.43.0 (0)\n",
       " -->\n",
       "<!-- Title: %3 Pages: 1 -->\n",
       "<svg width=\"371pt\" height=\"77pt\"\n",
       " viewBox=\"0.00 0.00 371.00 77.00\" xmlns=\"http://www.w3.org/2000/svg\" xmlns:xlink=\"http://www.w3.org/1999/xlink\">\n",
       "<g id=\"graph0\" class=\"graph\" transform=\"scale(1 1) rotate(0) translate(4 73)\">\n",
       "<title>%3</title>\n",
       "<polygon fill=\"white\" stroke=\"transparent\" points=\"-4,4 -4,-73 367,-73 367,4 -4,4\"/>\n",
       "<!-- 0 -->\n",
       "<g id=\"node1\" class=\"node\">\n",
       "<title>0</title>\n",
       "<polygon fill=\"none\" stroke=\"black\" points=\"15,-51 0,-51 0,-34 15,-34 15,-51\"/>\n",
       "<text text-anchor=\"middle\" x=\"7.5\" y=\"-40\" font-family=\"Monospace\" font-size=\"10.00\">1</text>\n",
       "</g>\n",
       "<!-- 1 -->\n",
       "<g id=\"node2\" class=\"node\">\n",
       "<title>1</title>\n",
       "<polygon fill=\"none\" stroke=\"black\" points=\"82,-51 67,-51 67,-34 82,-34 82,-51\"/>\n",
       "<text text-anchor=\"middle\" x=\"74.5\" y=\"-40\" font-family=\"Monospace\" font-size=\"10.00\">1</text>\n",
       "</g>\n",
       "<!-- 0&#45;&gt;1 -->\n",
       "<g id=\"edge1\" class=\"edge\">\n",
       "<title>0&#45;&gt;1</title>\n",
       "<path fill=\"none\" stroke=\"black\" d=\"M15.46,-42.5C27.05,-42.5 50.36,-42.5 63.64,-42.5\"/>\n",
       "<polygon fill=\"black\" stroke=\"black\" points=\"63.79,-43.55 66.79,-42.5 63.79,-41.45 63.79,-43.55\"/>\n",
       "<text text-anchor=\"middle\" x=\"41\" y=\"-45.3\" font-family=\"Monospace\" font-size=\"9.00\">a/1</text>\n",
       "</g>\n",
       "<!-- 2 -->\n",
       "<g id=\"node3\" class=\"node\">\n",
       "<title>2</title>\n",
       "<polygon fill=\"none\" stroke=\"black\" points=\"183,-69 150,-69 150,-52 183,-52 183,-69\"/>\n",
       "<text text-anchor=\"middle\" x=\"166.5\" y=\"-58\" font-family=\"Monospace\" font-size=\"10.00\">0.25</text>\n",
       "</g>\n",
       "<!-- 1&#45;&gt;2 -->\n",
       "<g id=\"edge2\" class=\"edge\">\n",
       "<title>1&#45;&gt;2</title>\n",
       "<path fill=\"none\" stroke=\"black\" d=\"M82.26,-43.85C95.71,-46.54 126.24,-52.65 146.35,-56.67\"/>\n",
       "<polygon fill=\"black\" stroke=\"black\" points=\"146.58,-57.79 149.73,-57.35 146.99,-55.73 146.58,-57.79\"/>\n",
       "<text text-anchor=\"middle\" x=\"116\" y=\"-56.3\" font-family=\"Monospace\" font-size=\"9.00\">▪/0.25</text>\n",
       "</g>\n",
       "<!-- 3 -->\n",
       "<g id=\"node4\" class=\"node\">\n",
       "<title>3</title>\n",
       "<polygon fill=\"none\" stroke=\"black\" points=\"183,-34 150,-34 150,-17 183,-17 183,-34\"/>\n",
       "<text text-anchor=\"middle\" x=\"166.5\" y=\"-23\" font-family=\"Monospace\" font-size=\"10.00\">0.75</text>\n",
       "</g>\n",
       "<!-- 1&#45;&gt;3 -->\n",
       "<g id=\"edge3\" class=\"edge\">\n",
       "<title>1&#45;&gt;3</title>\n",
       "<path fill=\"none\" stroke=\"black\" d=\"M82.39,-37.38C87.09,-34.19 93.6,-30.36 100,-28.5 115.22,-24.08 133.25,-23.58 146.54,-24.05\"/>\n",
       "<polygon fill=\"black\" stroke=\"black\" points=\"146.77,-25.11 149.81,-24.18 146.86,-23.01 146.77,-25.11\"/>\n",
       "<text text-anchor=\"middle\" x=\"116\" y=\"-31.3\" font-family=\"Monospace\" font-size=\"9.00\">a/0.75</text>\n",
       "</g>\n",
       "<!-- 4 -->\n",
       "<g id=\"node5\" class=\"node\">\n",
       "<title>4</title>\n",
       "<polygon fill=\"none\" stroke=\"black\" points=\"284,-52 251,-52 251,-35 284,-35 284,-52\"/>\n",
       "<text text-anchor=\"middle\" x=\"267.5\" y=\"-41\" font-family=\"Monospace\" font-size=\"10.00\">0.25</text>\n",
       "</g>\n",
       "<!-- 3&#45;&gt;4 -->\n",
       "<g id=\"edge4\" class=\"edge\">\n",
       "<title>3&#45;&gt;4</title>\n",
       "<path fill=\"none\" stroke=\"black\" d=\"M183.41,-28.39C200.97,-31.59 229.23,-36.72 247.83,-40.11\"/>\n",
       "<polygon fill=\"black\" stroke=\"black\" points=\"247.82,-41.17 250.96,-40.67 248.2,-39.1 247.82,-41.17\"/>\n",
       "<text text-anchor=\"middle\" x=\"217\" y=\"-39.3\" font-family=\"Monospace\" font-size=\"9.00\">▪/0.33</text>\n",
       "</g>\n",
       "<!-- 5 -->\n",
       "<g id=\"node6\" class=\"node\">\n",
       "<title>5</title>\n",
       "<polygon fill=\"none\" stroke=\"black\" points=\"281,-17 254,-17 254,0 281,0 281,-17\"/>\n",
       "<text text-anchor=\"middle\" x=\"267.5\" y=\"-6\" font-family=\"Monospace\" font-size=\"10.00\">0.5</text>\n",
       "</g>\n",
       "<!-- 3&#45;&gt;5 -->\n",
       "<g id=\"edge5\" class=\"edge\">\n",
       "<title>3&#45;&gt;5</title>\n",
       "<path fill=\"none\" stroke=\"black\" d=\"M183.14,-17.63C188.65,-15.22 194.97,-12.85 201,-11.5 217.59,-7.78 237.11,-7.38 250.5,-7.69\"/>\n",
       "<polygon fill=\"black\" stroke=\"black\" points=\"250.74,-8.75 253.77,-7.78 250.8,-6.65 250.74,-8.75\"/>\n",
       "<text text-anchor=\"middle\" x=\"217\" y=\"-14.3\" font-family=\"Monospace\" font-size=\"9.00\">a/0.67</text>\n",
       "</g>\n",
       "<!-- 6 -->\n",
       "<g id=\"node7\" class=\"node\">\n",
       "<title>6</title>\n",
       "<polygon fill=\"none\" stroke=\"black\" points=\"363,-17 336,-17 336,0 363,0 363,-17\"/>\n",
       "<text text-anchor=\"middle\" x=\"349.5\" y=\"-6\" font-family=\"Monospace\" font-size=\"10.00\">0.5</text>\n",
       "</g>\n",
       "<!-- 5&#45;&gt;6 -->\n",
       "<g id=\"edge6\" class=\"edge\">\n",
       "<title>5&#45;&gt;6</title>\n",
       "<path fill=\"none\" stroke=\"black\" d=\"M281.35,-8.5C295.31,-8.5 317.63,-8.5 332.66,-8.5\"/>\n",
       "<polygon fill=\"black\" stroke=\"black\" points=\"332.94,-9.55 335.94,-8.5 332.94,-7.45 332.94,-9.55\"/>\n",
       "<text text-anchor=\"middle\" x=\"310\" y=\"-11.3\" font-family=\"Monospace\" font-size=\"9.00\">▪/1</text>\n",
       "</g>\n",
       "</g>\n",
       "</svg>\n",
       "</td> </tr></table>"
      ],
      "text/plain": [
       "<IPython.core.display.HTML object>"
      ]
     },
     "metadata": {},
     "output_type": "display_data"
    }
   ],
   "source": [
    "C, tracer_char = generation_tree(c_lm)\n",
    "display_table([[C, tracer_char]])"
   ]
  },
  {
   "cell_type": "code",
   "execution_count": 8,
   "id": "a2a3feb0-a61c-4b37-983b-2027c63aad0a",
   "metadata": {},
   "outputs": [
    {
     "data": {
      "text/html": [
       "<table><tr><td><div style=\"font-family: Monospace;\"><table><tr style=\"font-weight: bold;\"><td>key</td><td>value</td></tr><tr><td><pre>a</pre></td><td><pre>0.0855614973262032</pre></td> </tr><tr><td><pre>aa</pre></td><td><pre>0.2032085561497326</pre></td> </tr><tr><td><pre>aaa</pre></td><td><pre>0.7112299465240641</pre></td> </tr></table></div></td><td><?xml version=\"1.0\" encoding=\"UTF-8\" standalone=\"no\"?>\n",
       "<!DOCTYPE svg PUBLIC \"-//W3C//DTD SVG 1.1//EN\"\n",
       " \"http://www.w3.org/Graphics/SVG/1.1/DTD/svg11.dtd\">\n",
       "<!-- Generated by graphviz version 2.43.0 (0)\n",
       " -->\n",
       "<!-- Title: %3 Pages: 1 -->\n",
       "<svg width=\"439pt\" height=\"202pt\"\n",
       " viewBox=\"0.00 0.00 439.00 201.50\" xmlns=\"http://www.w3.org/2000/svg\" xmlns:xlink=\"http://www.w3.org/1999/xlink\">\n",
       "<g id=\"graph0\" class=\"graph\" transform=\"scale(1 1) rotate(0) translate(4 197.5)\">\n",
       "<title>%3</title>\n",
       "<polygon fill=\"white\" stroke=\"transparent\" points=\"-4,4 -4,-197.5 435,-197.5 435,4 -4,4\"/>\n",
       "<!-- 0 -->\n",
       "<g id=\"node1\" class=\"node\">\n",
       "<title>0</title>\n",
       "<polygon fill=\"none\" stroke=\"black\" points=\"15,-122 0,-122 0,-105 15,-105 15,-122\"/>\n",
       "<text text-anchor=\"middle\" x=\"7.5\" y=\"-111\" font-family=\"Monospace\" font-size=\"10.00\">1</text>\n",
       "</g>\n",
       "<!-- 1 -->\n",
       "<g id=\"node2\" class=\"node\">\n",
       "<title>1</title>\n",
       "<polygon fill=\"none\" stroke=\"black\" points=\"127,-157 94,-157 94,-140 127,-140 127,-157\"/>\n",
       "<text text-anchor=\"middle\" x=\"110.5\" y=\"-146\" font-family=\"Monospace\" font-size=\"10.00\">0.35</text>\n",
       "</g>\n",
       "<!-- 0&#45;&gt;1 -->\n",
       "<g id=\"edge1\" class=\"edge\">\n",
       "<title>0&#45;&gt;1</title>\n",
       "<path fill=\"none\" stroke=\"black\" d=\"M15.23,-117.17C20.08,-119.72 26.83,-123.08 33,-125.5 52.25,-133.05 75.02,-139.6 90.68,-143.76\"/>\n",
       "<polygon fill=\"black\" stroke=\"black\" points=\"90.55,-144.81 93.72,-144.56 91.08,-142.78 90.55,-144.81\"/>\n",
       "<text text-anchor=\"middle\" x=\"54.5\" y=\"-141.3\" font-family=\"Monospace\" font-size=\"9.00\">aa/0.35</text>\n",
       "</g>\n",
       "<!-- 2 -->\n",
       "<g id=\"node3\" class=\"node\">\n",
       "<title>2</title>\n",
       "<polygon fill=\"none\" stroke=\"black\" points=\"127,-122 94,-122 94,-105 127,-105 127,-122\"/>\n",
       "<text text-anchor=\"middle\" x=\"110.5\" y=\"-111\" font-family=\"Monospace\" font-size=\"10.00\">0.18</text>\n",
       "</g>\n",
       "<!-- 0&#45;&gt;2 -->\n",
       "<g id=\"edge2\" class=\"edge\">\n",
       "<title>0&#45;&gt;2</title>\n",
       "<path fill=\"none\" stroke=\"black\" d=\"M15.13,-113.5C30.19,-113.5 67.45,-113.5 90.39,-113.5\"/>\n",
       "<polygon fill=\"black\" stroke=\"black\" points=\"90.66,-114.55 93.66,-113.5 90.66,-112.45 90.66,-114.55\"/>\n",
       "<text text-anchor=\"middle\" x=\"54.5\" y=\"-116.3\" font-family=\"Monospace\" font-size=\"9.00\">aaa/0.18</text>\n",
       "</g>\n",
       "<!-- 3 -->\n",
       "<g id=\"node4\" class=\"node\">\n",
       "<title>3</title>\n",
       "<polygon fill=\"none\" stroke=\"black\" points=\"127,-71 94,-71 94,-54 127,-54 127,-71\"/>\n",
       "<text text-anchor=\"middle\" x=\"110.5\" y=\"-60\" font-family=\"Monospace\" font-size=\"10.00\">0.47</text>\n",
       "</g>\n",
       "<!-- 0&#45;&gt;3 -->\n",
       "<g id=\"edge3\" class=\"edge\">\n",
       "<title>0&#45;&gt;3</title>\n",
       "<path fill=\"none\" stroke=\"black\" d=\"M15.29,-109.45C20.17,-106.58 26.93,-102.7 33,-99.5 52.46,-89.25 75.19,-78.39 90.79,-71.11\"/>\n",
       "<polygon fill=\"black\" stroke=\"black\" points=\"91.54,-71.92 93.81,-69.7 90.65,-70.02 91.54,-71.92\"/>\n",
       "<text text-anchor=\"middle\" x=\"54.5\" y=\"-102.3\" font-family=\"Monospace\" font-size=\"9.00\">a/0.47</text>\n",
       "</g>\n",
       "<!-- 12 -->\n",
       "<g id=\"node13\" class=\"node\">\n",
       "<title>12</title>\n",
       "<polygon fill=\"none\" stroke=\"black\" points=\"236,-192 203,-192 203,-175 236,-175 236,-192\"/>\n",
       "<text text-anchor=\"middle\" x=\"219.5\" y=\"-181\" font-family=\"Monospace\" font-size=\"10.00\">0.24</text>\n",
       "</g>\n",
       "<!-- 1&#45;&gt;12 -->\n",
       "<g id=\"edge12\" class=\"edge\">\n",
       "<title>1&#45;&gt;12</title>\n",
       "<path fill=\"none\" stroke=\"black\" d=\"M127.13,-154.25C132.75,-156.27 139.14,-158.54 145,-160.5 163.66,-166.76 185.16,-173.42 200.06,-177.96\"/>\n",
       "<polygon fill=\"black\" stroke=\"black\" points=\"199.78,-178.97 202.95,-178.84 200.39,-176.96 199.78,-178.97\"/>\n",
       "<text text-anchor=\"middle\" x=\"163.5\" y=\"-174.3\" font-family=\"Monospace\" font-size=\"9.00\">a/0.67</text>\n",
       "</g>\n",
       "<!-- 13 -->\n",
       "<g id=\"node14\" class=\"node\">\n",
       "<title>13</title>\n",
       "<polygon fill=\"none\" stroke=\"black\" points=\"236,-157 203,-157 203,-140 236,-140 236,-157\"/>\n",
       "<text text-anchor=\"middle\" x=\"219.5\" y=\"-146\" font-family=\"Monospace\" font-size=\"10.00\">0.12</text>\n",
       "</g>\n",
       "<!-- 1&#45;&gt;13 -->\n",
       "<g id=\"edge13\" class=\"edge\">\n",
       "<title>1&#45;&gt;13</title>\n",
       "<path fill=\"none\" stroke=\"black\" d=\"M127.29,-148.5C146.6,-148.5 179.25,-148.5 199.8,-148.5\"/>\n",
       "<polygon fill=\"black\" stroke=\"black\" points=\"199.99,-149.55 202.99,-148.5 199.99,-147.45 199.99,-149.55\"/>\n",
       "<text text-anchor=\"middle\" x=\"163.5\" y=\"-151.3\" font-family=\"Monospace\" font-size=\"9.00\">▪/0.33</text>\n",
       "</g>\n",
       "<!-- 11 -->\n",
       "<g id=\"node12\" class=\"node\">\n",
       "<title>11</title>\n",
       "<polygon fill=\"none\" stroke=\"black\" points=\"236,-122 203,-122 203,-105 236,-105 236,-122\"/>\n",
       "<text text-anchor=\"middle\" x=\"219.5\" y=\"-111\" font-family=\"Monospace\" font-size=\"10.00\">0.18</text>\n",
       "</g>\n",
       "<!-- 2&#45;&gt;11 -->\n",
       "<g id=\"edge11\" class=\"edge\">\n",
       "<title>2&#45;&gt;11</title>\n",
       "<path fill=\"none\" stroke=\"black\" d=\"M127.29,-113.5C146.6,-113.5 179.25,-113.5 199.8,-113.5\"/>\n",
       "<polygon fill=\"black\" stroke=\"black\" points=\"199.99,-114.55 202.99,-113.5 199.99,-112.45 199.99,-114.55\"/>\n",
       "<text text-anchor=\"middle\" x=\"163.5\" y=\"-116.3\" font-family=\"Monospace\" font-size=\"9.00\">▪/1</text>\n",
       "</g>\n",
       "<!-- 4 -->\n",
       "<g id=\"node5\" class=\"node\">\n",
       "<title>4</title>\n",
       "<polygon fill=\"none\" stroke=\"black\" points=\"236,-87 203,-87 203,-70 236,-70 236,-87\"/>\n",
       "<text text-anchor=\"middle\" x=\"219.5\" y=\"-76\" font-family=\"Monospace\" font-size=\"10.00\">0.13</text>\n",
       "</g>\n",
       "<!-- 3&#45;&gt;4 -->\n",
       "<g id=\"edge4\" class=\"edge\">\n",
       "<title>3&#45;&gt;4</title>\n",
       "<path fill=\"none\" stroke=\"black\" d=\"M127.29,-64.86C146.6,-67.75 179.25,-72.63 199.8,-75.7\"/>\n",
       "<polygon fill=\"black\" stroke=\"black\" points=\"199.87,-76.78 202.99,-76.18 200.18,-74.7 199.87,-76.78\"/>\n",
       "<text text-anchor=\"middle\" x=\"163.5\" y=\"-75.3\" font-family=\"Monospace\" font-size=\"9.00\">aa/0.27</text>\n",
       "</g>\n",
       "<!-- 5 -->\n",
       "<g id=\"node6\" class=\"node\">\n",
       "<title>5</title>\n",
       "<polygon fill=\"none\" stroke=\"black\" points=\"236,-52 203,-52 203,-35 236,-35 236,-52\"/>\n",
       "<text text-anchor=\"middle\" x=\"219.5\" y=\"-41\" font-family=\"Monospace\" font-size=\"10.00\">0.26</text>\n",
       "</g>\n",
       "<!-- 3&#45;&gt;5 -->\n",
       "<g id=\"edge5\" class=\"edge\">\n",
       "<title>3&#45;&gt;5</title>\n",
       "<path fill=\"none\" stroke=\"black\" d=\"M127.08,-57.87C132.69,-56.32 139.1,-54.69 145,-53.5 163.43,-49.79 184.73,-47.06 199.65,-45.4\"/>\n",
       "<polygon fill=\"black\" stroke=\"black\" points=\"200.05,-46.41 202.92,-45.04 199.82,-44.32 200.05,-46.41\"/>\n",
       "<text text-anchor=\"middle\" x=\"163.5\" y=\"-56.3\" font-family=\"Monospace\" font-size=\"9.00\">a/0.55</text>\n",
       "</g>\n",
       "<!-- 6 -->\n",
       "<g id=\"node7\" class=\"node\">\n",
       "<title>6</title>\n",
       "<polygon fill=\"none\" stroke=\"black\" points=\"239,-17 200,-17 200,0 239,0 239,-17\"/>\n",
       "<text text-anchor=\"middle\" x=\"219.5\" y=\"-6\" font-family=\"Monospace\" font-size=\"10.00\">0.086</text>\n",
       "</g>\n",
       "<!-- 3&#45;&gt;6 -->\n",
       "<g id=\"edge6\" class=\"edge\">\n",
       "<title>3&#45;&gt;6</title>\n",
       "<path fill=\"none\" stroke=\"black\" d=\"M119.61,-53.87C125.99,-47.5 135.39,-39.01 145,-33.5 161.33,-24.13 181.72,-17.55 196.88,-13.49\"/>\n",
       "<polygon fill=\"black\" stroke=\"black\" points=\"197.21,-14.49 199.84,-12.72 196.67,-12.46 197.21,-14.49\"/>\n",
       "<text text-anchor=\"middle\" x=\"163.5\" y=\"-36.3\" font-family=\"Monospace\" font-size=\"9.00\">▪/0.18</text>\n",
       "</g>\n",
       "<!-- 10 -->\n",
       "<g id=\"node11\" class=\"node\">\n",
       "<title>10</title>\n",
       "<polygon fill=\"none\" stroke=\"black\" points=\"343,-87 310,-87 310,-70 343,-70 343,-87\"/>\n",
       "<text text-anchor=\"middle\" x=\"326.5\" y=\"-76\" font-family=\"Monospace\" font-size=\"10.00\">0.13</text>\n",
       "</g>\n",
       "<!-- 4&#45;&gt;10 -->\n",
       "<g id=\"edge10\" class=\"edge\">\n",
       "<title>4&#45;&gt;10</title>\n",
       "<path fill=\"none\" stroke=\"black\" d=\"M236.45,-78.5C255.21,-78.5 286.34,-78.5 306.38,-78.5\"/>\n",
       "<polygon fill=\"black\" stroke=\"black\" points=\"306.75,-79.55 309.75,-78.5 306.75,-77.45 306.75,-79.55\"/>\n",
       "<text text-anchor=\"middle\" x=\"273\" y=\"-81.3\" font-family=\"Monospace\" font-size=\"9.00\">▪/1</text>\n",
       "</g>\n",
       "<!-- 7 -->\n",
       "<g id=\"node8\" class=\"node\">\n",
       "<title>7</title>\n",
       "<polygon fill=\"none\" stroke=\"black\" points=\"343,-52 310,-52 310,-35 343,-35 343,-52\"/>\n",
       "<text text-anchor=\"middle\" x=\"326.5\" y=\"-41\" font-family=\"Monospace\" font-size=\"10.00\">0.17</text>\n",
       "</g>\n",
       "<!-- 5&#45;&gt;7 -->\n",
       "<g id=\"edge7\" class=\"edge\">\n",
       "<title>5&#45;&gt;7</title>\n",
       "<path fill=\"none\" stroke=\"black\" d=\"M236.45,-43.5C255.21,-43.5 286.34,-43.5 306.38,-43.5\"/>\n",
       "<polygon fill=\"black\" stroke=\"black\" points=\"306.75,-44.55 309.75,-43.5 306.75,-42.45 306.75,-44.55\"/>\n",
       "<text text-anchor=\"middle\" x=\"273\" y=\"-46.3\" font-family=\"Monospace\" font-size=\"9.00\">a/0.67</text>\n",
       "</g>\n",
       "<!-- 8 -->\n",
       "<g id=\"node9\" class=\"node\">\n",
       "<title>8</title>\n",
       "<polygon fill=\"none\" stroke=\"black\" points=\"346,-17 307,-17 307,0 346,0 346,-17\"/>\n",
       "<text text-anchor=\"middle\" x=\"326.5\" y=\"-6\" font-family=\"Monospace\" font-size=\"10.00\">0.086</text>\n",
       "</g>\n",
       "<!-- 5&#45;&gt;8 -->\n",
       "<g id=\"edge8\" class=\"edge\">\n",
       "<title>5&#45;&gt;8</title>\n",
       "<path fill=\"none\" stroke=\"black\" d=\"M236.04,-37.27C242.49,-34.75 250.07,-31.89 257,-29.5 272.52,-24.15 290.25,-18.73 303.79,-14.74\"/>\n",
       "<polygon fill=\"black\" stroke=\"black\" points=\"304.2,-15.71 306.78,-13.86 303.61,-13.7 304.2,-15.71\"/>\n",
       "<text text-anchor=\"middle\" x=\"273\" y=\"-32.3\" font-family=\"Monospace\" font-size=\"9.00\">▪/0.33</text>\n",
       "</g>\n",
       "<!-- 9 -->\n",
       "<g id=\"node10\" class=\"node\">\n",
       "<title>9</title>\n",
       "<polygon fill=\"none\" stroke=\"black\" points=\"431,-52 398,-52 398,-35 431,-35 431,-52\"/>\n",
       "<text text-anchor=\"middle\" x=\"414.5\" y=\"-41\" font-family=\"Monospace\" font-size=\"10.00\">0.17</text>\n",
       "</g>\n",
       "<!-- 7&#45;&gt;9 -->\n",
       "<g id=\"edge9\" class=\"edge\">\n",
       "<title>7&#45;&gt;9</title>\n",
       "<path fill=\"none\" stroke=\"black\" d=\"M343.27,-43.5C357.7,-43.5 379.07,-43.5 394.45,-43.5\"/>\n",
       "<polygon fill=\"black\" stroke=\"black\" points=\"394.83,-44.55 397.83,-43.5 394.83,-42.45 394.83,-44.55\"/>\n",
       "<text text-anchor=\"middle\" x=\"372\" y=\"-46.3\" font-family=\"Monospace\" font-size=\"9.00\">▪/1</text>\n",
       "</g>\n",
       "<!-- 14 -->\n",
       "<g id=\"node15\" class=\"node\">\n",
       "<title>14</title>\n",
       "<polygon fill=\"none\" stroke=\"black\" points=\"343,-192 310,-192 310,-175 343,-175 343,-192\"/>\n",
       "<text text-anchor=\"middle\" x=\"326.5\" y=\"-181\" font-family=\"Monospace\" font-size=\"10.00\">0.24</text>\n",
       "</g>\n",
       "<!-- 12&#45;&gt;14 -->\n",
       "<g id=\"edge14\" class=\"edge\">\n",
       "<title>12&#45;&gt;14</title>\n",
       "<path fill=\"none\" stroke=\"black\" d=\"M236.45,-183.5C255.21,-183.5 286.34,-183.5 306.38,-183.5\"/>\n",
       "<polygon fill=\"black\" stroke=\"black\" points=\"306.75,-184.55 309.75,-183.5 306.75,-182.45 306.75,-184.55\"/>\n",
       "<text text-anchor=\"middle\" x=\"273\" y=\"-186.3\" font-family=\"Monospace\" font-size=\"9.00\">▪/1</text>\n",
       "</g>\n",
       "</g>\n",
       "</svg>\n",
       "</td> </tr></table>"
      ],
      "text/plain": [
       "<IPython.core.display.HTML object>"
      ]
     },
     "metadata": {},
     "output_type": "display_data"
    }
   ],
   "source": [
    "A, tracer_aligned = generation_tree(a_lm)\n",
    "display_table([[A, tracer_aligned]])"
   ]
  },
  {
   "cell_type": "code",
   "execution_count": 9,
   "id": "52ac6fe7-45f6-436f-b66a-d7eee974e0ac",
   "metadata": {},
   "outputs": [
    {
     "data": {
      "text/html": [
       "<table><tr><td><div style=\"font-family: Monospace;\"><table><tr style=\"font-weight: bold;\"><td>key</td><td>value</td></tr><tr><td><pre>(&#x27;a&#x27;,)</pre></td><td><pre>0.0855614973262032</pre></td> </tr><tr><td><pre>(&#x27;a&#x27;, &#x27;a&#x27;)</pre></td><td><pre>0.08556149732620319</pre></td> </tr><tr><td><pre>(&#x27;a&#x27;, &#x27;a&#x27;, &#x27;a&#x27;)</pre></td><td><pre>0.17112299465240638</pre></td> </tr><tr><td><pre>(&#x27;a&#x27;, &#x27;aa&#x27;)</pre></td><td><pre>0.1283422459893048</pre></td> </tr><tr><td><pre>(&#x27;aa&#x27;,)</pre></td><td><pre>0.11764705882352941</pre></td> </tr><tr><td><pre>(&#x27;aa&#x27;, &#x27;a&#x27;)</pre></td><td><pre>0.23529411764705882</pre></td> </tr><tr><td><pre>(&#x27;aaa&#x27;,)</pre></td><td><pre>0.17647058823529413</pre></td> </tr></table></div></td><td><?xml version=\"1.0\" encoding=\"UTF-8\" standalone=\"no\"?>\n",
       "<!DOCTYPE svg PUBLIC \"-//W3C//DTD SVG 1.1//EN\"\n",
       " \"http://www.w3.org/Graphics/SVG/1.1/DTD/svg11.dtd\">\n",
       "<!-- Generated by graphviz version 2.43.0 (0)\n",
       " -->\n",
       "<!-- Title: %3 Pages: 1 -->\n",
       "<svg width=\"439pt\" height=\"202pt\"\n",
       " viewBox=\"0.00 0.00 439.00 201.50\" xmlns=\"http://www.w3.org/2000/svg\" xmlns:xlink=\"http://www.w3.org/1999/xlink\">\n",
       "<g id=\"graph0\" class=\"graph\" transform=\"scale(1 1) rotate(0) translate(4 197.5)\">\n",
       "<title>%3</title>\n",
       "<polygon fill=\"white\" stroke=\"transparent\" points=\"-4,4 -4,-197.5 435,-197.5 435,4 -4,4\"/>\n",
       "<!-- 0 -->\n",
       "<g id=\"node1\" class=\"node\">\n",
       "<title>0</title>\n",
       "<polygon fill=\"none\" stroke=\"black\" points=\"15,-122 0,-122 0,-105 15,-105 15,-122\"/>\n",
       "<text text-anchor=\"middle\" x=\"7.5\" y=\"-111\" font-family=\"Monospace\" font-size=\"10.00\">1</text>\n",
       "</g>\n",
       "<!-- 1 -->\n",
       "<g id=\"node2\" class=\"node\">\n",
       "<title>1</title>\n",
       "<polygon fill=\"none\" stroke=\"black\" points=\"127,-157 94,-157 94,-140 127,-140 127,-157\"/>\n",
       "<text text-anchor=\"middle\" x=\"110.5\" y=\"-146\" font-family=\"Monospace\" font-size=\"10.00\">0.35</text>\n",
       "</g>\n",
       "<!-- 0&#45;&gt;1 -->\n",
       "<g id=\"edge1\" class=\"edge\">\n",
       "<title>0&#45;&gt;1</title>\n",
       "<path fill=\"none\" stroke=\"black\" d=\"M15.23,-117.17C20.08,-119.72 26.83,-123.08 33,-125.5 52.25,-133.05 75.02,-139.6 90.68,-143.76\"/>\n",
       "<polygon fill=\"black\" stroke=\"black\" points=\"90.55,-144.81 93.72,-144.56 91.08,-142.78 90.55,-144.81\"/>\n",
       "<text text-anchor=\"middle\" x=\"54.5\" y=\"-141.3\" font-family=\"Monospace\" font-size=\"9.00\">aa/0.35</text>\n",
       "</g>\n",
       "<!-- 2 -->\n",
       "<g id=\"node3\" class=\"node\">\n",
       "<title>2</title>\n",
       "<polygon fill=\"none\" stroke=\"black\" points=\"127,-122 94,-122 94,-105 127,-105 127,-122\"/>\n",
       "<text text-anchor=\"middle\" x=\"110.5\" y=\"-111\" font-family=\"Monospace\" font-size=\"10.00\">0.18</text>\n",
       "</g>\n",
       "<!-- 0&#45;&gt;2 -->\n",
       "<g id=\"edge2\" class=\"edge\">\n",
       "<title>0&#45;&gt;2</title>\n",
       "<path fill=\"none\" stroke=\"black\" d=\"M15.13,-113.5C30.19,-113.5 67.45,-113.5 90.39,-113.5\"/>\n",
       "<polygon fill=\"black\" stroke=\"black\" points=\"90.66,-114.55 93.66,-113.5 90.66,-112.45 90.66,-114.55\"/>\n",
       "<text text-anchor=\"middle\" x=\"54.5\" y=\"-116.3\" font-family=\"Monospace\" font-size=\"9.00\">aaa/0.18</text>\n",
       "</g>\n",
       "<!-- 3 -->\n",
       "<g id=\"node4\" class=\"node\">\n",
       "<title>3</title>\n",
       "<polygon fill=\"none\" stroke=\"black\" points=\"127,-71 94,-71 94,-54 127,-54 127,-71\"/>\n",
       "<text text-anchor=\"middle\" x=\"110.5\" y=\"-60\" font-family=\"Monospace\" font-size=\"10.00\">0.47</text>\n",
       "</g>\n",
       "<!-- 0&#45;&gt;3 -->\n",
       "<g id=\"edge3\" class=\"edge\">\n",
       "<title>0&#45;&gt;3</title>\n",
       "<path fill=\"none\" stroke=\"black\" d=\"M15.29,-109.45C20.17,-106.58 26.93,-102.7 33,-99.5 52.46,-89.25 75.19,-78.39 90.79,-71.11\"/>\n",
       "<polygon fill=\"black\" stroke=\"black\" points=\"91.54,-71.92 93.81,-69.7 90.65,-70.02 91.54,-71.92\"/>\n",
       "<text text-anchor=\"middle\" x=\"54.5\" y=\"-102.3\" font-family=\"Monospace\" font-size=\"9.00\">a/0.47</text>\n",
       "</g>\n",
       "<!-- 12 -->\n",
       "<g id=\"node13\" class=\"node\">\n",
       "<title>12</title>\n",
       "<polygon fill=\"none\" stroke=\"black\" points=\"236,-192 203,-192 203,-175 236,-175 236,-192\"/>\n",
       "<text text-anchor=\"middle\" x=\"219.5\" y=\"-181\" font-family=\"Monospace\" font-size=\"10.00\">0.24</text>\n",
       "</g>\n",
       "<!-- 1&#45;&gt;12 -->\n",
       "<g id=\"edge12\" class=\"edge\">\n",
       "<title>1&#45;&gt;12</title>\n",
       "<path fill=\"none\" stroke=\"black\" d=\"M127.13,-154.25C132.75,-156.27 139.14,-158.54 145,-160.5 163.66,-166.76 185.16,-173.42 200.06,-177.96\"/>\n",
       "<polygon fill=\"black\" stroke=\"black\" points=\"199.78,-178.97 202.95,-178.84 200.39,-176.96 199.78,-178.97\"/>\n",
       "<text text-anchor=\"middle\" x=\"163.5\" y=\"-174.3\" font-family=\"Monospace\" font-size=\"9.00\">a/0.67</text>\n",
       "</g>\n",
       "<!-- 13 -->\n",
       "<g id=\"node14\" class=\"node\">\n",
       "<title>13</title>\n",
       "<polygon fill=\"none\" stroke=\"black\" points=\"236,-157 203,-157 203,-140 236,-140 236,-157\"/>\n",
       "<text text-anchor=\"middle\" x=\"219.5\" y=\"-146\" font-family=\"Monospace\" font-size=\"10.00\">0.12</text>\n",
       "</g>\n",
       "<!-- 1&#45;&gt;13 -->\n",
       "<g id=\"edge13\" class=\"edge\">\n",
       "<title>1&#45;&gt;13</title>\n",
       "<path fill=\"none\" stroke=\"black\" d=\"M127.29,-148.5C146.6,-148.5 179.25,-148.5 199.8,-148.5\"/>\n",
       "<polygon fill=\"black\" stroke=\"black\" points=\"199.99,-149.55 202.99,-148.5 199.99,-147.45 199.99,-149.55\"/>\n",
       "<text text-anchor=\"middle\" x=\"163.5\" y=\"-151.3\" font-family=\"Monospace\" font-size=\"9.00\">▪/0.33</text>\n",
       "</g>\n",
       "<!-- 11 -->\n",
       "<g id=\"node12\" class=\"node\">\n",
       "<title>11</title>\n",
       "<polygon fill=\"none\" stroke=\"black\" points=\"236,-122 203,-122 203,-105 236,-105 236,-122\"/>\n",
       "<text text-anchor=\"middle\" x=\"219.5\" y=\"-111\" font-family=\"Monospace\" font-size=\"10.00\">0.18</text>\n",
       "</g>\n",
       "<!-- 2&#45;&gt;11 -->\n",
       "<g id=\"edge11\" class=\"edge\">\n",
       "<title>2&#45;&gt;11</title>\n",
       "<path fill=\"none\" stroke=\"black\" d=\"M127.29,-113.5C146.6,-113.5 179.25,-113.5 199.8,-113.5\"/>\n",
       "<polygon fill=\"black\" stroke=\"black\" points=\"199.99,-114.55 202.99,-113.5 199.99,-112.45 199.99,-114.55\"/>\n",
       "<text text-anchor=\"middle\" x=\"163.5\" y=\"-116.3\" font-family=\"Monospace\" font-size=\"9.00\">▪/1</text>\n",
       "</g>\n",
       "<!-- 4 -->\n",
       "<g id=\"node5\" class=\"node\">\n",
       "<title>4</title>\n",
       "<polygon fill=\"none\" stroke=\"black\" points=\"236,-87 203,-87 203,-70 236,-70 236,-87\"/>\n",
       "<text text-anchor=\"middle\" x=\"219.5\" y=\"-76\" font-family=\"Monospace\" font-size=\"10.00\">0.13</text>\n",
       "</g>\n",
       "<!-- 3&#45;&gt;4 -->\n",
       "<g id=\"edge4\" class=\"edge\">\n",
       "<title>3&#45;&gt;4</title>\n",
       "<path fill=\"none\" stroke=\"black\" d=\"M127.29,-64.86C146.6,-67.75 179.25,-72.63 199.8,-75.7\"/>\n",
       "<polygon fill=\"black\" stroke=\"black\" points=\"199.87,-76.78 202.99,-76.18 200.18,-74.7 199.87,-76.78\"/>\n",
       "<text text-anchor=\"middle\" x=\"163.5\" y=\"-75.3\" font-family=\"Monospace\" font-size=\"9.00\">aa/0.27</text>\n",
       "</g>\n",
       "<!-- 5 -->\n",
       "<g id=\"node6\" class=\"node\">\n",
       "<title>5</title>\n",
       "<polygon fill=\"none\" stroke=\"black\" points=\"236,-52 203,-52 203,-35 236,-35 236,-52\"/>\n",
       "<text text-anchor=\"middle\" x=\"219.5\" y=\"-41\" font-family=\"Monospace\" font-size=\"10.00\">0.26</text>\n",
       "</g>\n",
       "<!-- 3&#45;&gt;5 -->\n",
       "<g id=\"edge5\" class=\"edge\">\n",
       "<title>3&#45;&gt;5</title>\n",
       "<path fill=\"none\" stroke=\"black\" d=\"M127.08,-57.87C132.69,-56.32 139.1,-54.69 145,-53.5 163.43,-49.79 184.73,-47.06 199.65,-45.4\"/>\n",
       "<polygon fill=\"black\" stroke=\"black\" points=\"200.05,-46.41 202.92,-45.04 199.82,-44.32 200.05,-46.41\"/>\n",
       "<text text-anchor=\"middle\" x=\"163.5\" y=\"-56.3\" font-family=\"Monospace\" font-size=\"9.00\">a/0.55</text>\n",
       "</g>\n",
       "<!-- 6 -->\n",
       "<g id=\"node7\" class=\"node\">\n",
       "<title>6</title>\n",
       "<polygon fill=\"none\" stroke=\"black\" points=\"239,-17 200,-17 200,0 239,0 239,-17\"/>\n",
       "<text text-anchor=\"middle\" x=\"219.5\" y=\"-6\" font-family=\"Monospace\" font-size=\"10.00\">0.086</text>\n",
       "</g>\n",
       "<!-- 3&#45;&gt;6 -->\n",
       "<g id=\"edge6\" class=\"edge\">\n",
       "<title>3&#45;&gt;6</title>\n",
       "<path fill=\"none\" stroke=\"black\" d=\"M119.61,-53.87C125.99,-47.5 135.39,-39.01 145,-33.5 161.33,-24.13 181.72,-17.55 196.88,-13.49\"/>\n",
       "<polygon fill=\"black\" stroke=\"black\" points=\"197.21,-14.49 199.84,-12.72 196.67,-12.46 197.21,-14.49\"/>\n",
       "<text text-anchor=\"middle\" x=\"163.5\" y=\"-36.3\" font-family=\"Monospace\" font-size=\"9.00\">▪/0.18</text>\n",
       "</g>\n",
       "<!-- 10 -->\n",
       "<g id=\"node11\" class=\"node\">\n",
       "<title>10</title>\n",
       "<polygon fill=\"none\" stroke=\"black\" points=\"343,-87 310,-87 310,-70 343,-70 343,-87\"/>\n",
       "<text text-anchor=\"middle\" x=\"326.5\" y=\"-76\" font-family=\"Monospace\" font-size=\"10.00\">0.13</text>\n",
       "</g>\n",
       "<!-- 4&#45;&gt;10 -->\n",
       "<g id=\"edge10\" class=\"edge\">\n",
       "<title>4&#45;&gt;10</title>\n",
       "<path fill=\"none\" stroke=\"black\" d=\"M236.45,-78.5C255.21,-78.5 286.34,-78.5 306.38,-78.5\"/>\n",
       "<polygon fill=\"black\" stroke=\"black\" points=\"306.75,-79.55 309.75,-78.5 306.75,-77.45 306.75,-79.55\"/>\n",
       "<text text-anchor=\"middle\" x=\"273\" y=\"-81.3\" font-family=\"Monospace\" font-size=\"9.00\">▪/1</text>\n",
       "</g>\n",
       "<!-- 7 -->\n",
       "<g id=\"node8\" class=\"node\">\n",
       "<title>7</title>\n",
       "<polygon fill=\"none\" stroke=\"black\" points=\"343,-52 310,-52 310,-35 343,-35 343,-52\"/>\n",
       "<text text-anchor=\"middle\" x=\"326.5\" y=\"-41\" font-family=\"Monospace\" font-size=\"10.00\">0.17</text>\n",
       "</g>\n",
       "<!-- 5&#45;&gt;7 -->\n",
       "<g id=\"edge7\" class=\"edge\">\n",
       "<title>5&#45;&gt;7</title>\n",
       "<path fill=\"none\" stroke=\"black\" d=\"M236.45,-43.5C255.21,-43.5 286.34,-43.5 306.38,-43.5\"/>\n",
       "<polygon fill=\"black\" stroke=\"black\" points=\"306.75,-44.55 309.75,-43.5 306.75,-42.45 306.75,-44.55\"/>\n",
       "<text text-anchor=\"middle\" x=\"273\" y=\"-46.3\" font-family=\"Monospace\" font-size=\"9.00\">a/0.67</text>\n",
       "</g>\n",
       "<!-- 8 -->\n",
       "<g id=\"node9\" class=\"node\">\n",
       "<title>8</title>\n",
       "<polygon fill=\"none\" stroke=\"black\" points=\"346,-17 307,-17 307,0 346,0 346,-17\"/>\n",
       "<text text-anchor=\"middle\" x=\"326.5\" y=\"-6\" font-family=\"Monospace\" font-size=\"10.00\">0.086</text>\n",
       "</g>\n",
       "<!-- 5&#45;&gt;8 -->\n",
       "<g id=\"edge8\" class=\"edge\">\n",
       "<title>5&#45;&gt;8</title>\n",
       "<path fill=\"none\" stroke=\"black\" d=\"M236.04,-37.27C242.49,-34.75 250.07,-31.89 257,-29.5 272.52,-24.15 290.25,-18.73 303.79,-14.74\"/>\n",
       "<polygon fill=\"black\" stroke=\"black\" points=\"304.2,-15.71 306.78,-13.86 303.61,-13.7 304.2,-15.71\"/>\n",
       "<text text-anchor=\"middle\" x=\"273\" y=\"-32.3\" font-family=\"Monospace\" font-size=\"9.00\">▪/0.33</text>\n",
       "</g>\n",
       "<!-- 9 -->\n",
       "<g id=\"node10\" class=\"node\">\n",
       "<title>9</title>\n",
       "<polygon fill=\"none\" stroke=\"black\" points=\"431,-52 398,-52 398,-35 431,-35 431,-52\"/>\n",
       "<text text-anchor=\"middle\" x=\"414.5\" y=\"-41\" font-family=\"Monospace\" font-size=\"10.00\">0.17</text>\n",
       "</g>\n",
       "<!-- 7&#45;&gt;9 -->\n",
       "<g id=\"edge9\" class=\"edge\">\n",
       "<title>7&#45;&gt;9</title>\n",
       "<path fill=\"none\" stroke=\"black\" d=\"M343.27,-43.5C357.7,-43.5 379.07,-43.5 394.45,-43.5\"/>\n",
       "<polygon fill=\"black\" stroke=\"black\" points=\"394.83,-44.55 397.83,-43.5 394.83,-42.45 394.83,-44.55\"/>\n",
       "<text text-anchor=\"middle\" x=\"372\" y=\"-46.3\" font-family=\"Monospace\" font-size=\"9.00\">▪/1</text>\n",
       "</g>\n",
       "<!-- 14 -->\n",
       "<g id=\"node15\" class=\"node\">\n",
       "<title>14</title>\n",
       "<polygon fill=\"none\" stroke=\"black\" points=\"343,-192 310,-192 310,-175 343,-175 343,-192\"/>\n",
       "<text text-anchor=\"middle\" x=\"326.5\" y=\"-181\" font-family=\"Monospace\" font-size=\"10.00\">0.24</text>\n",
       "</g>\n",
       "<!-- 12&#45;&gt;14 -->\n",
       "<g id=\"edge14\" class=\"edge\">\n",
       "<title>12&#45;&gt;14</title>\n",
       "<path fill=\"none\" stroke=\"black\" d=\"M236.45,-183.5C255.21,-183.5 286.34,-183.5 306.38,-183.5\"/>\n",
       "<polygon fill=\"black\" stroke=\"black\" points=\"306.75,-184.55 309.75,-183.5 306.75,-182.45 306.75,-184.55\"/>\n",
       "<text text-anchor=\"middle\" x=\"273\" y=\"-186.3\" font-family=\"Monospace\" font-size=\"9.00\">▪/1</text>\n",
       "</g>\n",
       "</g>\n",
       "</svg>\n",
       "</td> </tr></table>"
      ],
      "text/plain": [
       "<IPython.core.display.HTML object>"
      ]
     },
     "metadata": {},
     "output_type": "display_data"
    }
   ],
   "source": [
    "D_chunks, tracer_aligned_chunks = generation_tree(a_lm, chunked=True)\n",
    "display_table([[D_chunks, tracer_aligned_chunks]])"
   ]
  },
  {
   "cell_type": "markdown",
   "id": "3963cbc2-4f8d-4ce1-99de-2afddf25361b",
   "metadata": {},
   "source": [
    "The following WFST simulates the BPE's desire to create chunk from character sequences. (For correctness, we will require `tokens` to be both prefix closed and closed under last character substitution, as it ensures that no string is lost.)"
   ]
  },
  {
   "cell_type": "code",
   "execution_count": 10,
   "id": "26923635-68fe-4390-8f87-690ca184a791",
   "metadata": {},
   "outputs": [
    {
     "data": {
      "image/svg+xml": [
       "<?xml version=\"1.0\" encoding=\"UTF-8\" standalone=\"no\"?>\n",
       "<!DOCTYPE svg PUBLIC \"-//W3C//DTD SVG 1.1//EN\"\n",
       " \"http://www.w3.org/Graphics/SVG/1.1/DTD/svg11.dtd\">\n",
       "<!-- Generated by graphviz version 2.43.0 (0)\n",
       " -->\n",
       "<!-- Title: %3 Pages: 1 -->\n",
       "<svg width=\"328pt\" height=\"204pt\"\n",
       " viewBox=\"0.00 0.00 327.67 203.78\" xmlns=\"http://www.w3.org/2000/svg\" xmlns:xlink=\"http://www.w3.org/1999/xlink\">\n",
       "<g id=\"graph0\" class=\"graph\" transform=\"scale(1 1) rotate(0) translate(4 199.78)\">\n",
       "<title>%3</title>\n",
       "<polygon fill=\"white\" stroke=\"transparent\" points=\"-4,4 -4,-199.78 323.67,-199.78 323.67,4 -4,4\"/>\n",
       "<!-- start_0 -->\n",
       "<g id=\"node1\" class=\"node\">\n",
       "<title>start_0</title>\n",
       "<ellipse fill=\"black\" stroke=\"black\" cx=\"0\" cy=\"-103.78\" rx=\"0\" ry=\"0\"/>\n",
       "</g>\n",
       "<!-- 0 -->\n",
       "<g id=\"node2\" class=\"node\">\n",
       "<title>0</title>\n",
       "<ellipse fill=\"none\" stroke=\"black\" cx=\"49.78\" cy=\"-103.78\" rx=\"7.56\" ry=\"7.56\"/>\n",
       "<text text-anchor=\"middle\" x=\"49.78\" y=\"-101.28\" font-family=\"Monospace\" font-size=\"10.00\"> </text>\n",
       "</g>\n",
       "<!-- start_0&#45;&gt;0 -->\n",
       "<g id=\"edge1\" class=\"edge\">\n",
       "<title>start_0&#45;&gt;0</title>\n",
       "<path fill=\"none\" stroke=\"black\" d=\"M1.14,-103.78C3.07,-103.78 25.11,-103.78 38.52,-103.78\"/>\n",
       "<polygon fill=\"black\" stroke=\"black\" points=\"38.73,-104.83 41.73,-103.78 38.73,-102.73 38.73,-104.83\"/>\n",
       "<text text-anchor=\"middle\" x=\"21\" y=\"-106.58\" font-family=\"Monospace\" font-size=\"9.00\">1</text>\n",
       "</g>\n",
       "<!-- 1 -->\n",
       "<g id=\"node3\" class=\"node\">\n",
       "<title>1</title>\n",
       "<ellipse fill=\"none\" stroke=\"black\" cx=\"136.56\" cy=\"-169.78\" rx=\"7.56\" ry=\"7.56\"/>\n",
       "<text text-anchor=\"middle\" x=\"136.56\" y=\"-167.28\" font-family=\"Monospace\" font-size=\"10.00\"> </text>\n",
       "</g>\n",
       "<!-- 0&#45;&gt;1 -->\n",
       "<g id=\"edge3\" class=\"edge\">\n",
       "<title>0&#45;&gt;1</title>\n",
       "<path fill=\"none\" stroke=\"black\" d=\"M50.56,-111.81C50.6,-128.04 53.31,-164.57 75.56,-180.78 90.99,-192.03 114.46,-181.97 126.98,-175.04\"/>\n",
       "<polygon fill=\"black\" stroke=\"black\" points=\"127.54,-175.93 129.62,-173.53 126.5,-174.1 127.54,-175.93\"/>\n",
       "<text text-anchor=\"middle\" x=\"89.06\" y=\"-188.58\" font-family=\"Monospace\" font-size=\"9.00\">ε:a/1</text>\n",
       "</g>\n",
       "<!-- 2 -->\n",
       "<g id=\"node4\" class=\"node\">\n",
       "<title>2</title>\n",
       "<ellipse fill=\"none\" stroke=\"black\" cx=\"136.56\" cy=\"-119.78\" rx=\"7.56\" ry=\"7.56\"/>\n",
       "<text text-anchor=\"middle\" x=\"136.56\" y=\"-117.28\" font-family=\"Monospace\" font-size=\"10.00\"> </text>\n",
       "</g>\n",
       "<!-- 0&#45;&gt;2 -->\n",
       "<g id=\"edge4\" class=\"edge\">\n",
       "<title>0&#45;&gt;2</title>\n",
       "<path fill=\"none\" stroke=\"black\" d=\"M57.09,-107.29C61.97,-109.83 68.99,-113.1 75.56,-114.78 92.77,-119.18 113.59,-119.94 125.62,-119.96\"/>\n",
       "<polygon fill=\"black\" stroke=\"black\" points=\"125.78,-121.01 128.78,-119.94 125.77,-118.91 125.78,-121.01\"/>\n",
       "<text text-anchor=\"middle\" x=\"89.06\" y=\"-121.58\" font-family=\"Monospace\" font-size=\"9.00\">ε:▪/1</text>\n",
       "</g>\n",
       "<!-- stop_0 -->\n",
       "<g id=\"node7\" class=\"node\">\n",
       "<title>stop_0</title>\n",
       "<ellipse fill=\"black\" stroke=\"black\" cx=\"136.56\" cy=\"-70.78\" rx=\"0\" ry=\"0\"/>\n",
       "</g>\n",
       "<!-- 0&#45;&gt;stop_0 -->\n",
       "<g id=\"edge2\" class=\"edge\">\n",
       "<title>0&#45;&gt;stop_0</title>\n",
       "<path fill=\"none\" stroke=\"black\" d=\"M56.6,-99.31C61.45,-95.76 68.65,-90.9 75.56,-87.78 96.2,-78.44 123.18,-73.01 132.35,-71.34\"/>\n",
       "<polygon fill=\"black\" stroke=\"black\" points=\"132.68,-72.35 135.46,-70.79 132.32,-70.28 132.68,-72.35\"/>\n",
       "<text text-anchor=\"middle\" x=\"89.06\" y=\"-90.58\" font-family=\"Monospace\" font-size=\"9.00\">1</text>\n",
       "</g>\n",
       "<!-- 1&#45;&gt;0 -->\n",
       "<g id=\"edge6\" class=\"edge\">\n",
       "<title>1&#45;&gt;0</title>\n",
       "<path fill=\"none\" stroke=\"black\" d=\"M129.17,-166.68C117.71,-160.96 93.22,-147.9 75.56,-132.78 68.51,-126.75 61.76,-118.64 57.09,-112.53\"/>\n",
       "<polygon fill=\"black\" stroke=\"black\" points=\"57.87,-111.81 55.22,-110.05 56.19,-113.07 57.87,-111.81\"/>\n",
       "<text text-anchor=\"middle\" x=\"89.06\" y=\"-153.58\" font-family=\"Monospace\" font-size=\"9.00\">a:ε/1</text>\n",
       "</g>\n",
       "<!-- 3 -->\n",
       "<g id=\"node5\" class=\"node\">\n",
       "<title>3</title>\n",
       "<ellipse fill=\"none\" stroke=\"black\" cx=\"233.33\" cy=\"-37.78\" rx=\"7.56\" ry=\"7.56\"/>\n",
       "<text text-anchor=\"middle\" x=\"233.33\" y=\"-35.28\" font-family=\"Monospace\" font-size=\"10.00\"> </text>\n",
       "</g>\n",
       "<!-- 1&#45;&gt;3 -->\n",
       "<g id=\"edge5\" class=\"edge\">\n",
       "<title>1&#45;&gt;3</title>\n",
       "<path fill=\"none\" stroke=\"black\" d=\"M141.88,-163.76C157.11,-142.55 208.38,-71.15 226.18,-46.35\"/>\n",
       "<polygon fill=\"black\" stroke=\"black\" points=\"227.09,-46.88 227.99,-43.83 225.39,-45.65 227.09,-46.88\"/>\n",
       "<text text-anchor=\"middle\" x=\"189.06\" y=\"-125.58\" font-family=\"Monospace\" font-size=\"9.00\">ε:a/1</text>\n",
       "</g>\n",
       "<!-- 2&#45;&gt;0 -->\n",
       "<g id=\"edge9\" class=\"edge\">\n",
       "<title>2&#45;&gt;0</title>\n",
       "<path fill=\"none\" stroke=\"black\" d=\"M129.3,-115.68C122.89,-111.74 112.49,-106.06 102.56,-103.78 88.26,-100.5 71.16,-101.4 60.64,-102.48\"/>\n",
       "<polygon fill=\"black\" stroke=\"black\" points=\"60.45,-101.45 57.59,-102.82 60.69,-103.53 60.45,-101.45\"/>\n",
       "<text text-anchor=\"middle\" x=\"89.06\" y=\"-106.58\" font-family=\"Monospace\" font-size=\"9.00\">▪:ε/1</text>\n",
       "</g>\n",
       "<!-- 3&#45;&gt;0 -->\n",
       "<g id=\"edge7\" class=\"edge\">\n",
       "<title>3&#45;&gt;0</title>\n",
       "<path fill=\"none\" stroke=\"black\" d=\"M225.36,-37.82C207.5,-38.1 158.88,-39.99 120.56,-51.78 99.09,-58.38 93.19,-60.86 75.56,-74.78 68.28,-80.52 61.55,-88.66 56.95,-94.85\"/>\n",
       "<polygon fill=\"black\" stroke=\"black\" points=\"56.03,-94.33 55.11,-97.37 57.72,-95.57 56.03,-94.33\"/>\n",
       "<text text-anchor=\"middle\" x=\"136.56\" y=\"-54.58\" font-family=\"Monospace\" font-size=\"9.00\">aa:ε/1</text>\n",
       "</g>\n",
       "<!-- 4 -->\n",
       "<g id=\"node6\" class=\"node\">\n",
       "<title>4</title>\n",
       "<ellipse fill=\"none\" stroke=\"black\" cx=\"311.89\" cy=\"-7.78\" rx=\"7.56\" ry=\"7.56\"/>\n",
       "<text text-anchor=\"middle\" x=\"311.89\" y=\"-5.28\" font-family=\"Monospace\" font-size=\"10.00\"> </text>\n",
       "</g>\n",
       "<!-- 3&#45;&gt;4 -->\n",
       "<g id=\"edge8\" class=\"edge\">\n",
       "<title>3&#45;&gt;4</title>\n",
       "<path fill=\"none\" stroke=\"black\" d=\"M240.86,-35.22C254.42,-29.91 285.68,-17.66 301.44,-11.48\"/>\n",
       "<polygon fill=\"black\" stroke=\"black\" points=\"301.97,-12.4 304.38,-10.33 301.2,-10.45 301.97,-12.4\"/>\n",
       "<text text-anchor=\"middle\" x=\"272.61\" y=\"-30.58\" font-family=\"Monospace\" font-size=\"9.00\">ε:a/1</text>\n",
       "</g>\n",
       "<!-- 4&#45;&gt;0 -->\n",
       "<g id=\"edge10\" class=\"edge\">\n",
       "<title>4&#45;&gt;0</title>\n",
       "<path fill=\"none\" stroke=\"black\" d=\"M304.11,-6.97C273.52,-3.69 146.68,5.65 75.56,-54.78 63.6,-64.93 56.78,-82.28 53.43,-93.37\"/>\n",
       "<polygon fill=\"black\" stroke=\"black\" points=\"52.4,-93.15 52.58,-96.32 54.42,-93.73 52.4,-93.15\"/>\n",
       "<text text-anchor=\"middle\" x=\"189.06\" y=\"-15.58\" font-family=\"Monospace\" font-size=\"9.00\">aaa:ε/1</text>\n",
       "</g>\n",
       "</g>\n",
       "</svg>\n"
      ],
      "text/plain": [
       "WFSA(5 states)"
      ]
     },
     "execution_count": 10,
     "metadata": {},
     "output_type": "execute_result"
    }
   ],
   "source": [
    "B = bpe_wfst((w, tuple(w)) for w in tokens)\n",
    "B"
   ]
  },
  {
   "cell_type": "markdown",
   "id": "f56323c4-8648-493e-801c-016e42198618",
   "metadata": {},
   "source": [
    "We can push some specific character strings throught the transducer to see all of the ways that can be chunked."
   ]
  },
  {
   "cell_type": "code",
   "execution_count": 11,
   "id": "6231ba0e-162e-44b7-ae18-22104a176b8a",
   "metadata": {},
   "outputs": [
    {
     "data": {
      "image/svg+xml": [
       "<?xml version=\"1.0\" encoding=\"UTF-8\" standalone=\"no\"?>\n",
       "<!DOCTYPE svg PUBLIC \"-//W3C//DTD SVG 1.1//EN\"\n",
       " \"http://www.w3.org/Graphics/SVG/1.1/DTD/svg11.dtd\">\n",
       "<!-- Generated by graphviz version 2.43.0 (0)\n",
       " -->\n",
       "<!-- Title: %3 Pages: 1 -->\n",
       "<svg width=\"375pt\" height=\"114pt\"\n",
       " viewBox=\"0.00 0.00 374.67 113.56\" xmlns=\"http://www.w3.org/2000/svg\" xmlns:xlink=\"http://www.w3.org/1999/xlink\">\n",
       "<g id=\"graph0\" class=\"graph\" transform=\"scale(1 1) rotate(0) translate(4 109.56)\">\n",
       "<title>%3</title>\n",
       "<polygon fill=\"white\" stroke=\"transparent\" points=\"-4,4 -4,-109.56 370.67,-109.56 370.67,4 -4,4\"/>\n",
       "<!-- start_(1, (0, &#39;a&#39;)) -->\n",
       "<g id=\"node1\" class=\"node\">\n",
       "<title>start_(1, (0, &#39;a&#39;))</title>\n",
       "<ellipse fill=\"black\" stroke=\"black\" cx=\"0\" cy=\"-86.78\" rx=\"0\" ry=\"0\"/>\n",
       "</g>\n",
       "<!-- 0 -->\n",
       "<g id=\"node2\" class=\"node\">\n",
       "<title>0</title>\n",
       "<ellipse fill=\"none\" stroke=\"black\" cx=\"49.78\" cy=\"-86.78\" rx=\"7.56\" ry=\"7.56\"/>\n",
       "<text text-anchor=\"middle\" x=\"49.78\" y=\"-84.28\" font-family=\"Monospace\" font-size=\"10.00\"> </text>\n",
       "</g>\n",
       "<!-- start_(1, (0, &#39;a&#39;))&#45;&gt;0 -->\n",
       "<g id=\"edge1\" class=\"edge\">\n",
       "<title>start_(1, (0, &#39;a&#39;))&#45;&gt;0</title>\n",
       "<path fill=\"none\" stroke=\"black\" d=\"M1.14,-86.78C3.07,-86.78 25.11,-86.78 38.52,-86.78\"/>\n",
       "<polygon fill=\"black\" stroke=\"black\" points=\"38.73,-87.83 41.73,-86.78 38.73,-85.73 38.73,-87.83\"/>\n",
       "<text text-anchor=\"middle\" x=\"21\" y=\"-89.58\" font-family=\"Monospace\" font-size=\"9.00\">1</text>\n",
       "</g>\n",
       "<!-- 3 -->\n",
       "<g id=\"node7\" class=\"node\">\n",
       "<title>3</title>\n",
       "<ellipse fill=\"none\" stroke=\"black\" cx=\"170.11\" cy=\"-97.78\" rx=\"7.56\" ry=\"7.56\"/>\n",
       "<text text-anchor=\"middle\" x=\"170.11\" y=\"-95.28\" font-family=\"Monospace\" font-size=\"10.00\"> </text>\n",
       "</g>\n",
       "<!-- 0&#45;&gt;3 -->\n",
       "<g id=\"edge6\" class=\"edge\">\n",
       "<title>0&#45;&gt;3</title>\n",
       "<path fill=\"none\" stroke=\"black\" d=\"M57.83,-87.43C77.93,-89.3 135.63,-94.67 159.05,-96.84\"/>\n",
       "<polygon fill=\"black\" stroke=\"black\" points=\"159.17,-97.91 162.25,-97.14 159.36,-95.82 159.17,-97.91\"/>\n",
       "<text text-anchor=\"middle\" x=\"89.06\" y=\"-93.58\" font-family=\"Monospace\" font-size=\"9.00\">a/1.0</text>\n",
       "</g>\n",
       "<!-- 6 -->\n",
       "<g id=\"node10\" class=\"node\">\n",
       "<title>6</title>\n",
       "<ellipse fill=\"none\" stroke=\"black\" cx=\"128.33\" cy=\"-68.78\" rx=\"7.56\" ry=\"7.56\"/>\n",
       "<text text-anchor=\"middle\" x=\"128.33\" y=\"-66.28\" font-family=\"Monospace\" font-size=\"10.00\"> </text>\n",
       "</g>\n",
       "<!-- 0&#45;&gt;6 -->\n",
       "<g id=\"edge7\" class=\"edge\">\n",
       "<title>0&#45;&gt;6</title>\n",
       "<path fill=\"none\" stroke=\"black\" d=\"M56.55,-82.54C61.37,-79.26 68.56,-74.91 75.56,-72.78 89.63,-68.49 106.79,-68.04 117.39,-68.28\"/>\n",
       "<polygon fill=\"black\" stroke=\"black\" points=\"117.43,-69.33 120.46,-68.38 117.49,-67.24 117.43,-69.33\"/>\n",
       "<text text-anchor=\"middle\" x=\"89.06\" y=\"-75.58\" font-family=\"Monospace\" font-size=\"9.00\">a/1.0</text>\n",
       "</g>\n",
       "<!-- start_(4, (0, &#39;aaa&#39;)) -->\n",
       "<g id=\"node3\" class=\"node\">\n",
       "<title>start_(4, (0, &#39;aaa&#39;))</title>\n",
       "<ellipse fill=\"black\" stroke=\"black\" cx=\"128.33\" cy=\"-2.78\" rx=\"0\" ry=\"0\"/>\n",
       "</g>\n",
       "<!-- 1 -->\n",
       "<g id=\"node4\" class=\"node\">\n",
       "<title>1</title>\n",
       "<ellipse fill=\"none\" stroke=\"black\" cx=\"220.11\" cy=\"-7.78\" rx=\"7.56\" ry=\"7.56\"/>\n",
       "<text text-anchor=\"middle\" x=\"220.11\" y=\"-5.28\" font-family=\"Monospace\" font-size=\"10.00\"> </text>\n",
       "</g>\n",
       "<!-- start_(4, (0, &#39;aaa&#39;))&#45;&gt;1 -->\n",
       "<g id=\"edge2\" class=\"edge\">\n",
       "<title>start_(4, (0, &#39;aaa&#39;))&#45;&gt;1</title>\n",
       "<path fill=\"none\" stroke=\"black\" d=\"M129.43,-2.78C131.3,-2.73 161.72,-2.09 186.11,-3.78 193.93,-4.32 202.74,-5.41 209.29,-6.32\"/>\n",
       "<polygon fill=\"black\" stroke=\"black\" points=\"209.19,-7.36 212.31,-6.75 209.48,-5.29 209.19,-7.36\"/>\n",
       "<text text-anchor=\"middle\" x=\"170.11\" y=\"-6.58\" font-family=\"Monospace\" font-size=\"9.00\">1</text>\n",
       "</g>\n",
       "<!-- 5 -->\n",
       "<g id=\"node9\" class=\"node\">\n",
       "<title>5</title>\n",
       "<ellipse fill=\"none\" stroke=\"black\" cx=\"316.89\" cy=\"-47.78\" rx=\"7.56\" ry=\"7.56\"/>\n",
       "<text text-anchor=\"middle\" x=\"316.89\" y=\"-45.28\" font-family=\"Monospace\" font-size=\"10.00\"> </text>\n",
       "</g>\n",
       "<!-- 1&#45;&gt;5 -->\n",
       "<g id=\"edge9\" class=\"edge\">\n",
       "<title>1&#45;&gt;5</title>\n",
       "<path fill=\"none\" stroke=\"black\" d=\"M227.82,-9.87C240.45,-13.91 268.54,-23.29 291.11,-33.78 296.6,-36.33 302.52,-39.65 307.19,-42.41\"/>\n",
       "<polygon fill=\"black\" stroke=\"black\" points=\"306.81,-43.41 309.92,-44.05 307.89,-41.61 306.81,-43.41\"/>\n",
       "<text text-anchor=\"middle\" x=\"272.61\" y=\"-36.58\" font-family=\"Monospace\" font-size=\"9.00\">aaa/1.0</text>\n",
       "</g>\n",
       "<!-- start_(3, (0, &#39;aa&#39;)) -->\n",
       "<g id=\"node5\" class=\"node\">\n",
       "<title>start_(3, (0, &#39;aa&#39;))</title>\n",
       "<ellipse fill=\"black\" stroke=\"black\" cx=\"49.78\" cy=\"-34.78\" rx=\"0\" ry=\"0\"/>\n",
       "</g>\n",
       "<!-- 2 -->\n",
       "<g id=\"node6\" class=\"node\">\n",
       "<title>2</title>\n",
       "<ellipse fill=\"none\" stroke=\"black\" cx=\"128.33\" cy=\"-34.78\" rx=\"7.56\" ry=\"7.56\"/>\n",
       "<text text-anchor=\"middle\" x=\"128.33\" y=\"-32.28\" font-family=\"Monospace\" font-size=\"10.00\"> </text>\n",
       "</g>\n",
       "<!-- start_(3, (0, &#39;aa&#39;))&#45;&gt;2 -->\n",
       "<g id=\"edge3\" class=\"edge\">\n",
       "<title>start_(3, (0, &#39;aa&#39;))&#45;&gt;2</title>\n",
       "<path fill=\"none\" stroke=\"black\" d=\"M50.83,-34.78C52.62,-34.78 97.16,-34.78 117.44,-34.78\"/>\n",
       "<polygon fill=\"black\" stroke=\"black\" points=\"117.47,-35.83 120.47,-34.78 117.47,-33.73 117.47,-35.83\"/>\n",
       "<text text-anchor=\"middle\" x=\"89.06\" y=\"-37.58\" font-family=\"Monospace\" font-size=\"9.00\">1</text>\n",
       "</g>\n",
       "<!-- 4 -->\n",
       "<g id=\"node8\" class=\"node\">\n",
       "<title>4</title>\n",
       "<ellipse fill=\"none\" stroke=\"black\" cx=\"220.11\" cy=\"-47.78\" rx=\"7.56\" ry=\"7.56\"/>\n",
       "<text text-anchor=\"middle\" x=\"220.11\" y=\"-45.28\" font-family=\"Monospace\" font-size=\"10.00\"> </text>\n",
       "</g>\n",
       "<!-- 2&#45;&gt;4 -->\n",
       "<g id=\"edge10\" class=\"edge\">\n",
       "<title>2&#45;&gt;4</title>\n",
       "<path fill=\"none\" stroke=\"black\" d=\"M136.4,-34.38C147.2,-33.92 168.45,-33.59 186.11,-36.78 194.28,-38.25 203.2,-41.32 209.7,-43.84\"/>\n",
       "<polygon fill=\"black\" stroke=\"black\" points=\"209.51,-44.89 212.68,-45.02 210.28,-42.94 209.51,-44.89\"/>\n",
       "<text text-anchor=\"middle\" x=\"170.11\" y=\"-39.58\" font-family=\"Monospace\" font-size=\"9.00\">aa/1.0</text>\n",
       "</g>\n",
       "<!-- 3&#45;&gt;5 -->\n",
       "<g id=\"edge5\" class=\"edge\">\n",
       "<title>3&#45;&gt;5</title>\n",
       "<path fill=\"none\" stroke=\"black\" d=\"M177.8,-96.33C196.29,-92.2 249.49,-79.52 291.11,-61.78 296.68,-59.4 302.6,-56.09 307.25,-53.29\"/>\n",
       "<polygon fill=\"black\" stroke=\"black\" points=\"307.97,-54.08 309.97,-51.62 306.87,-52.29 307.97,-54.08\"/>\n",
       "<text text-anchor=\"middle\" x=\"220.11\" y=\"-91.58\" font-family=\"Monospace\" font-size=\"9.00\">aa/1.0</text>\n",
       "</g>\n",
       "<!-- 4&#45;&gt;5 -->\n",
       "<g id=\"edge8\" class=\"edge\">\n",
       "<title>4&#45;&gt;5</title>\n",
       "<path fill=\"none\" stroke=\"black\" d=\"M227.93,-47.78C244.38,-47.78 286.33,-47.78 305.75,-47.78\"/>\n",
       "<polygon fill=\"black\" stroke=\"black\" points=\"305.88,-48.83 308.88,-47.78 305.88,-46.73 305.88,-48.83\"/>\n",
       "<text text-anchor=\"middle\" x=\"272.61\" y=\"-50.58\" font-family=\"Monospace\" font-size=\"9.00\">a/1.0</text>\n",
       "</g>\n",
       "<!-- stop_(0, (2, &#39;aaa&#39;)) -->\n",
       "<g id=\"node11\" class=\"node\">\n",
       "<title>stop_(0, (2, &#39;aaa&#39;))</title>\n",
       "<ellipse fill=\"black\" stroke=\"black\" cx=\"366.67\" cy=\"-47.78\" rx=\"0\" ry=\"0\"/>\n",
       "</g>\n",
       "<!-- 5&#45;&gt;stop_(0, (2, &#39;aaa&#39;)) -->\n",
       "<g id=\"edge4\" class=\"edge\">\n",
       "<title>5&#45;&gt;stop_(0, (2, &#39;aaa&#39;))</title>\n",
       "<path fill=\"none\" stroke=\"black\" d=\"M324.94,-47.78C335.4,-47.78 354.63,-47.78 362.34,-47.78\"/>\n",
       "<polygon fill=\"black\" stroke=\"black\" points=\"362.59,-48.83 365.59,-47.78 362.59,-46.73 362.59,-48.83\"/>\n",
       "<text text-anchor=\"middle\" x=\"345.67\" y=\"-50.58\" font-family=\"Monospace\" font-size=\"9.00\">1</text>\n",
       "</g>\n",
       "<!-- 6&#45;&gt;4 -->\n",
       "<g id=\"edge11\" class=\"edge\">\n",
       "<title>6&#45;&gt;4</title>\n",
       "<path fill=\"none\" stroke=\"black\" d=\"M136.08,-67.2C151.81,-63.52 190.96,-54.36 209.32,-50.07\"/>\n",
       "<polygon fill=\"black\" stroke=\"black\" points=\"209.6,-51.08 212.29,-49.37 209.13,-49.04 209.6,-51.08\"/>\n",
       "<text text-anchor=\"middle\" x=\"170.11\" y=\"-65.58\" font-family=\"Monospace\" font-size=\"9.00\">a/1.0</text>\n",
       "</g>\n",
       "</g>\n",
       "</svg>\n"
      ],
      "text/plain": [
       "WFSA(7 states)"
      ]
     },
     "execution_count": 11,
     "metadata": {},
     "output_type": "execute_result"
    }
   ],
   "source": [
    "(B @ FST.from_string('aaa', Float)).trim.project(0).epsremove.trim"
   ]
  },
  {
   "cell_type": "code",
   "execution_count": 12,
   "id": "910c1f6b-ecee-465c-893b-facf6f72fe4b",
   "metadata": {},
   "outputs": [
    {
     "data": {
      "text/plain": [
       "4.0"
      ]
     },
     "execution_count": 12,
     "metadata": {},
     "output_type": "execute_result"
    }
   ],
   "source": [
    "(B @ FST.from_string('aaa', Float)).trim.project(0).epsremove.trim.total_weight()"
   ]
  },
  {
   "cell_type": "code",
   "execution_count": null,
   "id": "2ba45118-21aa-4b82-bc56-552d19bdd234",
   "metadata": {},
   "outputs": [],
   "source": [
    "b_lm = CFGLM(locally_normalize((B @ c_lm.cfg).trim(), tol=1e-100).trim())"
   ]
  },
  {
   "cell_type": "code",
   "execution_count": null,
   "id": "441e9331-76e1-414e-943b-f59a1452bc44",
   "metadata": {},
   "outputs": [],
   "source": [
    "L = b_lm.cfg.language(10)"
   ]
  },
  {
   "cell_type": "code",
   "execution_count": null,
   "id": "ba60fba6-01a0-49e7-b1fa-2802482f8afe",
   "metadata": {},
   "outputs": [],
   "source": [
    "BB, tracer_bpe_chunks = generation_tree(b_lm)\n",
    "display_table([[BB, tracer_bpe_chunks]])"
   ]
  },
  {
   "cell_type": "code",
   "execution_count": null,
   "id": "58c7eee2-4785-4000-b3de-53a592661d05",
   "metadata": {},
   "outputs": [],
   "source": [
    "PL = L.project(lambda y: ''.join(y).strip(EOS))\n",
    "PL"
   ]
  },
  {
   "cell_type": "markdown",
   "id": "c830313c-af1c-4cc4-a472-ea306ea138f1",
   "metadata": {},
   "source": [
    "One way to resolve the double-counting issues with the tranduction approach is to canonicalize the tokenization.  We can make this up post-hoc using a filter for whether or not the tokenization is greedy (aka a maximum-munch tokenization)."
   ]
  },
  {
   "cell_type": "code",
   "execution_count": null,
   "id": "cb9b49c2-2073-4285-a8c7-2f07c06c3a5a",
   "metadata": {},
   "outputs": [],
   "source": [
    "def max_munch(tokens):\n",
    "    \"Maximum-munch tokenizer for the finite set `tokens`.\"\n",
    "    def t(a):\n",
    "        if len(a) == 0: return ()\n",
    "        for b in sorted(tokens, key=len, reverse=True):\n",
    "            if a.startswith(b):\n",
    "                return (b,) + t(a[len(b):])\n",
    "        raise ValueError('bad token set')\n",
    "    return t\n",
    "def min_munch(tokens):\n",
    "    \"Minimum-munch tokenizer for the finite set `tokens`.\"\n",
    "    def t(a):\n",
    "        if len(a) == 0: return ()\n",
    "        for b in sorted(tokens, key=len):\n",
    "            if a.startswith(b):\n",
    "                return (b,) + t(a[len(b):])\n",
    "        raise ValueError('bad token set')\n",
    "    return t"
   ]
  },
  {
   "cell_type": "code",
   "execution_count": null,
   "id": "c7b99038-03fa-4ec9-801d-29029d53ff92",
   "metadata": {},
   "outputs": [],
   "source": [
    "assert max_munch(tokens)('aaaaaa') == ('aaa','aaa')\n",
    "assert max_munch(tokens)('aaaaa') == ('aaa','aa')\n",
    "assert max_munch(tokens)('aaaa') == ('aaa','a')\n",
    "assert max_munch(tokens)('aaa' 'aaa' 'aa') == ('aaa','aaa', 'aa')\n",
    "assert min_munch(tokens)('aaaaaa') == ('a','a','a','a','a','a')"
   ]
  },
  {
   "cell_type": "code",
   "execution_count": null,
   "id": "3915e89a-b71c-4c97-9b18-dec3d48599e6",
   "metadata": {},
   "outputs": [],
   "source": [
    "BB.filter(lambda b: max_munch(tokens)(''.join(b)) == tuple(b)).normalize()"
   ]
  },
  {
   "cell_type": "code",
   "execution_count": null,
   "id": "2e3a47c0-ad28-4155-887f-f96309ffc9a4",
   "metadata": {},
   "outputs": [],
   "source": [
    "BB.filter(lambda b: min_munch(tokens)(''.join(b)) == tuple(b)).normalize()"
   ]
  },
  {
   "cell_type": "code",
   "execution_count": null,
   "id": "9a111f6c-39db-4131-b321-b2e4044e8839",
   "metadata": {},
   "outputs": [],
   "source": []
  },
  {
   "cell_type": "code",
   "execution_count": null,
   "id": "25465c7e-124f-4fbd-a33a-6da3db9ee1d9",
   "metadata": {},
   "outputs": [],
   "source": [
    "display_table([[C.project(''.join), A, PL]], headings=['target', 'grafting-approximation', 'composition'])"
   ]
  },
  {
   "cell_type": "code",
   "execution_count": null,
   "id": "e43e0810-b33e-4cd1-ace9-abbca5296cb1",
   "metadata": {},
   "outputs": [],
   "source": []
  },
  {
   "cell_type": "code",
   "execution_count": null,
   "id": "7ee8f22e-ab4e-4600-96ac-36bda4c27f6d",
   "metadata": {},
   "outputs": [],
   "source": [
    "#from genparse.util import char2bpe_single"
   ]
  },
  {
   "cell_type": "code",
   "execution_count": null,
   "id": "6ac1b5e1-84af-4bba-b73c-ffbd5a59499b",
   "metadata": {},
   "outputs": [],
   "source": [
    "#T_copy = FST.from_pairs([(w,w) for w in alphabet], Float).star().epsremove.trim\n",
    "#T_copy"
   ]
  },
  {
   "cell_type": "code",
   "execution_count": null,
   "id": "3e6501ac-ad5a-40e3-bd55-340a4d079718",
   "metadata": {},
   "outputs": [],
   "source": [
    "#G = (char2bpe_single((w,w) for w in tokens) * T_copy).trim\n",
    "#G"
   ]
  },
  {
   "cell_type": "code",
   "execution_count": null,
   "id": "04b84e73-a409-4b6d-9e54-b432a012fa92",
   "metadata": {},
   "outputs": [],
   "source": [
    "#G.epsremove"
   ]
  },
  {
   "cell_type": "code",
   "execution_count": null,
   "id": "fd8f5222-fc97-451e-a23d-6edc86997459",
   "metadata": {},
   "outputs": [],
   "source": []
  }
 ],
 "metadata": {
  "kernelspec": {
   "display_name": "Python 3 (ipykernel)",
   "language": "python",
   "name": "python3"
  },
  "language_info": {
   "codemirror_mode": {
    "name": "ipython",
    "version": 3
   },
   "file_extension": ".py",
   "mimetype": "text/x-python",
   "name": "python",
   "nbconvert_exporter": "python",
   "pygments_lexer": "ipython3",
   "version": "3.10.12"
  }
 },
 "nbformat": 4,
 "nbformat_minor": 5
}
