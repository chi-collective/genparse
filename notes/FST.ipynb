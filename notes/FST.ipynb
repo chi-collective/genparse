{
 "cells": [
  {
   "cell_type": "markdown",
   "id": "d2d8769c-975b-4ca8-a4ba-5d7ca9dec447",
   "metadata": {},
   "source": [
    "# Token Alignment"
   ]
  },
  {
   "cell_type": "code",
   "execution_count": 12,
   "id": "3d9fb828-28ae-4f5f-8fb7-214f325dfa49",
   "metadata": {},
   "outputs": [
    {
     "name": "stdout",
     "output_type": "stream",
     "text": [
      "The autoreload extension is already loaded. To reload it, use:\n",
      "  %reload_ext autoreload\n"
     ]
    }
   ],
   "source": [
    "%load_ext autoreload\n",
    "%autoreload 2"
   ]
  },
  {
   "cell_type": "code",
   "execution_count": 15,
   "id": "988df6c8-bbb1-4a56-96c0-50ed95639b28",
   "metadata": {},
   "outputs": [],
   "source": [
    "from arsenal import iterview, timeit\n",
    "from collections import Counter\n",
    "from IPython.display import HTML\n",
    "from genparse import CFG, FST, EPSILON, Float, CFGLM, add_EOS, prefix_transducer\n",
    "from genparse.cfglm import locally_normalize, EOS, pcfg_check, explode, add_EOS, CharAlignedCFGLM\n",
    "from genparse.util import LarkStuff, hf_tokenizer, about, show_grammar, normalize, bpe_wfst, display_table, bpe2term_approx\n",
    "from genparse.inference import TraceSWOR\n",
    "from genparse.steer import generation_tree"
   ]
  },
  {
   "cell_type": "markdown",
   "id": "9896cdb0-2de9-4437-bb3e-e1ea804ee184",
   "metadata": {
    "jp-MarkdownHeadingCollapsed": true
   },
   "source": [
    "## Accounting for BPE's Tokenization Ambiguity with Transduction "
   ]
  },
  {
   "cell_type": "code",
   "execution_count": null,
   "id": "c84e285f-399d-48d1-bc66-2739a1398289",
   "metadata": {},
   "outputs": [],
   "source": [
    "lark_stuff = LarkStuff(r\"\"\"\n",
    "\n",
    "start: NAME\n",
    "\n",
    "NAME: /(a|b)*c/\n",
    "\n",
    "\"\"\")\n",
    "foo = lark_stuff.char_cfg(decay=.1)\n",
    "foo = locally_normalize(foo)\n",
    "assert len(foo.trim()) > 0\n",
    "pcfg_check(foo)"
   ]
  },
  {
   "cell_type": "code",
   "execution_count": null,
   "id": "bb1b890e-af73-4986-8a7c-505834886378",
   "metadata": {},
   "outputs": [],
   "source": [
    "foo"
   ]
  },
  {
   "cell_type": "code",
   "execution_count": null,
   "id": "0c6210c0-59f6-452b-99c7-a0cb33b7df9a",
   "metadata": {},
   "outputs": [],
   "source": [
    "foo.cnf.language(3)"
   ]
  },
  {
   "cell_type": "code",
   "execution_count": null,
   "id": "2a198bd4-ab33-429b-a5c8-46487410a4f6",
   "metadata": {},
   "outputs": [],
   "source": [
    "lm = CFGLM(add_EOS(foo))"
   ]
  },
  {
   "cell_type": "code",
   "execution_count": null,
   "id": "b7ae3d3c-02d9-47f7-a025-0c934c42c35c",
   "metadata": {},
   "outputs": [],
   "source": [
    "trace = TraceSWOR()\n",
    "for t in range(15):\n",
    "    with trace:\n",
    "        print(t, lm.sample(draw=trace))"
   ]
  },
  {
   "cell_type": "code",
   "execution_count": null,
   "id": "4e46c45e-00c4-4d81-93a4-875c042bc092",
   "metadata": {},
   "outputs": [],
   "source": [
    "H = hf_tokenizer()\n",
    "about(H.fst)"
   ]
  },
  {
   "cell_type": "markdown",
   "id": "9cb7dea7-788c-4002-bac9-7f7249852acb",
   "metadata": {},
   "source": [
    "Let's shrink the BPE transducer down to something managable by limiting it alphabet "
   ]
  },
  {
   "cell_type": "code",
   "execution_count": null,
   "id": "ec6f862e-9096-4ede-ba35-c632bdf2a1e5",
   "metadata": {},
   "outputs": [],
   "source": [
    "b2c = H.fst.prune_to_alphabet(None, foo.V | {''}).renumber\n",
    "about(b2c)"
   ]
  },
  {
   "cell_type": "code",
   "execution_count": null,
   "id": "e1007c22-7c76-448d-a5ba-e121a2efc8ed",
   "metadata": {},
   "outputs": [],
   "source": [
    "#b2c"
   ]
  },
  {
   "cell_type": "markdown",
   "id": "9b03ac6d-e5bd-4b66-8516-5b01eb56e7b5",
   "metadata": {},
   "source": [
    "We can look at our little language's strings thru the lense of their possible BPE sequences.  Notice that these strings are ambiguously mapped to BPE --- meaning that there are many BPE sequences that would give rise to the same string!"
   ]
  },
  {
   "cell_type": "code",
   "execution_count": null,
   "id": "63583038-d333-48a6-8e53-4403df9b9194",
   "metadata": {},
   "outputs": [],
   "source": [
    "for x in foo.cnf.language(3):\n",
    "    print(x)\n",
    "    bpe_x = (b2c @ FST.from_string(x, Float)).trim.project(0).epsremove.trim\n",
    "    print('total weight of BPE sequences:', bpe_x.total_weight())\n",
    "    display(bpe_x)\n",
    "    print()"
   ]
  },
  {
   "cell_type": "code",
   "execution_count": null,
   "id": "1a01e546-c37e-46f8-900e-de303dce77b3",
   "metadata": {},
   "outputs": [],
   "source": [
    "tmp = (b2c @ foo)\n",
    "assert len(tmp.trim()) > 0"
   ]
  },
  {
   "cell_type": "code",
   "execution_count": null,
   "id": "8c5432b0-1bf6-48fe-8623-b5d9f91acc3a",
   "metadata": {},
   "outputs": [],
   "source": [
    "#tmp.trim().cnf.language(3)"
   ]
  },
  {
   "cell_type": "code",
   "execution_count": null,
   "id": "e93a5278-6578-4813-901b-0ded48eb20f4",
   "metadata": {},
   "outputs": [],
   "source": [
    "L = 5\n",
    "c = Float.chart()\n",
    "for x, w, in tmp.trim().cnf.language(5).items():\n",
    "    y =  H.tokenizer.decode(x)\n",
    "    if len(y) > L: continue    \n",
    "    c[y] += w"
   ]
  },
  {
   "cell_type": "code",
   "execution_count": null,
   "id": "7f1e4505-684b-4244-aa9e-6e380ee7fec0",
   "metadata": {},
   "outputs": [],
   "source": [
    "ambig = Float.chart({x: (b2c @ FST.from_string(x, Float)).trim.project(0).epsremove.trim.total_weight() for x in c})"
   ]
  },
  {
   "cell_type": "code",
   "execution_count": null,
   "id": "9bec20d2-9545-4a1e-92d6-a504a212d0f3",
   "metadata": {},
   "outputs": [],
   "source": [
    "ccc = Float.chart()\n",
    "for x in c:\n",
    "    ccc[x] = c[x] / ambig[x]"
   ]
  },
  {
   "cell_type": "code",
   "execution_count": null,
   "id": "d1c58131-7ac7-40f7-9af8-fe6b40b05c35",
   "metadata": {},
   "outputs": [],
   "source": [
    "cc = Float.chart()\n",
    "for x, w in foo.cnf.language(L+2).items():\n",
    "    if len(x) > L: continue\n",
    "    cc[''.join(x)] += w\n",
    "cc"
   ]
  },
  {
   "cell_type": "code",
   "execution_count": null,
   "id": "4248cb64-5bdb-4f86-a70f-a1d4383e0458",
   "metadata": {},
   "outputs": [],
   "source": [
    "ccc.assert_equal(cc, tol=1e-20)"
   ]
  },
  {
   "cell_type": "code",
   "execution_count": null,
   "id": "fbf30359-1852-4cef-a86f-048dc62dd968",
   "metadata": {},
   "outputs": [],
   "source": [
    "#cc.metric(c)"
   ]
  },
  {
   "cell_type": "code",
   "execution_count": null,
   "id": "0af56e1c-e4fa-4166-9ba2-ce1f1d82e16e",
   "metadata": {},
   "outputs": [],
   "source": [
    "#tmp.trim(bottomup_only=True)"
   ]
  },
  {
   "cell_type": "code",
   "execution_count": null,
   "id": "7b732ed0-520b-45ba-810b-d0266a7d1d88",
   "metadata": {},
   "outputs": [],
   "source": [
    "#show_grammar(tmp, showzero=True)"
   ]
  },
  {
   "cell_type": "code",
   "execution_count": null,
   "id": "337e2d86-6dfe-45be-87ba-0b6fbfc50c35",
   "metadata": {},
   "outputs": [],
   "source": [
    "#print(tmp.agenda().__str__(style_value=lambda k, v: (colors.light.red % v) if v > 1.000001 or v < 0 else v))"
   ]
  },
  {
   "cell_type": "code",
   "execution_count": null,
   "id": "21c4baaf-8a5e-4380-81c8-9fe5f5d85bb6",
   "metadata": {},
   "outputs": [],
   "source": [
    "#for q in c2t.states:      \n",
    "#    for (a,b), r, w in c2t.arcs(q):\n",
    "#        print(f'--{a or \"ε\"}:{b or \"ε\"}/{w}-->', r)"
   ]
  },
  {
   "cell_type": "code",
   "execution_count": null,
   "id": "297d9420-6e63-4607-b5a9-439238b02140",
   "metadata": {},
   "outputs": [],
   "source": [
    "#{x: v for x,v in tmp.agenda().items() if v > 1.001 or v < 0}"
   ]
  },
  {
   "cell_type": "code",
   "execution_count": null,
   "id": "9ea76dfa-cbc6-4cdd-a413-dda5dd7e9c89",
   "metadata": {},
   "outputs": [],
   "source": [
    "#len(tmp.N - tmp.agenda(tol=1e-40, maxiter=np.inf).trim().keys()), len(tmp.N), len(tmp.agenda(tol=1e-40).trim())"
   ]
  },
  {
   "cell_type": "code",
   "execution_count": null,
   "id": "1f25c7ed-b778-4a0c-819f-0219156e6c5a",
   "metadata": {},
   "outputs": [],
   "source": [
    "#tmp.cnf.language(4)"
   ]
  },
  {
   "cell_type": "code",
   "execution_count": null,
   "id": "f18614c6-5c17-4467-ae97-f06790f22af4",
   "metadata": {},
   "outputs": [],
   "source": [
    "#show_grammar(tmp)"
   ]
  },
  {
   "cell_type": "code",
   "execution_count": null,
   "id": "3d61730b-d679-4404-b062-d3d5bbaa20ac",
   "metadata": {},
   "outputs": [],
   "source": [
    "p = locally_normalize(tmp, tol=1e-40, maxiter=np.inf).trim()\n",
    "pcfg_check(p)"
   ]
  },
  {
   "cell_type": "code",
   "execution_count": null,
   "id": "9a777fe2-77a9-40ff-af4d-d1f02f6ed3e6",
   "metadata": {},
   "outputs": [],
   "source": [
    "lm2 = CFGLM(add_EOS(p))"
   ]
  },
  {
   "cell_type": "code",
   "execution_count": null,
   "id": "fd2ff4b0-5e43-455f-8be8-b42c7d059aad",
   "metadata": {},
   "outputs": [],
   "source": [
    "#lm2.sample(verbose=1)"
   ]
  },
  {
   "cell_type": "code",
   "execution_count": null,
   "id": "f3d26457-e3bf-4f79-8ec0-7d811110982e",
   "metadata": {},
   "outputs": [],
   "source": [
    "#context = (64,65,6485,39305)\n",
    "context = (64,65,6485,)"
   ]
  },
  {
   "cell_type": "code",
   "execution_count": null,
   "id": "0040787f-6bc0-4ec4-915a-a12aedaaedcd",
   "metadata": {},
   "outputs": [],
   "source": [
    "char_context = H.tokenizer.decode(context)\n",
    "char_context"
   ]
  },
  {
   "cell_type": "code",
   "execution_count": null,
   "id": "7085cad5-62ac-4385-afba-a848c6583d3f",
   "metadata": {},
   "outputs": [],
   "source": [
    "df = []\n",
    "for x, w in sorted(normalize(lm2.p_next(context)).items(), key=lambda kv: -kv[1]):\n",
    "    df.append((x, (H.tokenizer.decode([x]) if x != EOS else EOS), w))\n",
    "pd.DataFrame(df, columns=['token_id', 'chars', 'prob']).set_index('token_id')"
   ]
  },
  {
   "cell_type": "code",
   "execution_count": null,
   "id": "956b30e0-11be-4339-b576-fdd97c9d985a",
   "metadata": {},
   "outputs": [],
   "source": [
    "Float.chart(normalize(lm.p_next(char_context)))"
   ]
  },
  {
   "cell_type": "code",
   "execution_count": null,
   "id": "2a035044-4c12-495a-8b70-1a6bda2cbb40",
   "metadata": {},
   "outputs": [],
   "source": []
  },
  {
   "cell_type": "markdown",
   "id": "d3e142ef-2966-4614-aa72-5a998059dc50",
   "metadata": {
    "jp-MarkdownHeadingCollapsed": true
   },
   "source": [
    "## Lexing"
   ]
  },
  {
   "cell_type": "code",
   "execution_count": null,
   "id": "db2f8551-e3aa-474b-92d5-3219ad81b36c",
   "metadata": {},
   "outputs": [],
   "source": [
    "lark_stuff = LarkStuff(r\"\"\"\n",
    "\n",
    "start: \"SELECT\" WS STAR WS \"FROM\" WS NAME WS EOS\n",
    "\n",
    "EOS: \"</s>\"\n",
    "NAME: /[a-z]+/\n",
    "STAR: \"*\"\n",
    "WS: /[ ]/\n",
    "\n",
    "\"\"\")"
   ]
  },
  {
   "cell_type": "code",
   "execution_count": null,
   "id": "16b1d527-d27a-46e9-8e8e-e2a3da812351",
   "metadata": {},
   "outputs": [],
   "source": [
    "foo = lark_stuff.char_cfg(.1)"
   ]
  },
  {
   "cell_type": "code",
   "execution_count": null,
   "id": "77d438bc-5767-444a-a449-571f511575f0",
   "metadata": {},
   "outputs": [],
   "source": [
    "#foo['NAME'].trim().agenda()"
   ]
  },
  {
   "cell_type": "code",
   "execution_count": null,
   "id": "6114f525-ff3b-4736-bc3a-d48ebcff71c1",
   "metadata": {},
   "outputs": [],
   "source": [
    "#foo.agenda()"
   ]
  },
  {
   "cell_type": "code",
   "execution_count": null,
   "id": "c8a2e4dd-81f3-433f-83a0-651f27ca63de",
   "metadata": {},
   "outputs": [],
   "source": [
    "foo = locally_normalize(foo, tol=1e-100).trim()\n",
    "assert len(foo) > 0"
   ]
  },
  {
   "cell_type": "code",
   "execution_count": null,
   "id": "d3fffee2-0852-4aef-a92c-0e6b100be3b5",
   "metadata": {},
   "outputs": [],
   "source": [
    "#foo"
   ]
  },
  {
   "cell_type": "code",
   "execution_count": null,
   "id": "79508f80-8c4a-4cc9-8487-10920b285dd2",
   "metadata": {},
   "outputs": [],
   "source": [
    "lm = CFGLM(add_EOS(foo))"
   ]
  },
  {
   "cell_type": "code",
   "execution_count": null,
   "id": "86cde92c-91ea-410a-b002-88b6f383916c",
   "metadata": {},
   "outputs": [],
   "source": [
    "trace = TraceSWOR()\n",
    "for _ in range(15):\n",
    "   print('mass=', trace.root.mass)\n",
    "   with trace:\n",
    "       print(''.join(lm.sample(draw=trace)))"
   ]
  },
  {
   "cell_type": "code",
   "execution_count": null,
   "id": "e36e6deb-900c-4dbd-bad4-c51ce910a641",
   "metadata": {},
   "outputs": [],
   "source": []
  },
  {
   "cell_type": "code",
   "execution_count": null,
   "id": "78a60e9d-e85b-4759-8653-bcccd72c02dd",
   "metadata": {},
   "outputs": [],
   "source": [
    "cfg = lark_stuff.convert().renumber()"
   ]
  },
  {
   "cell_type": "code",
   "execution_count": null,
   "id": "db081114-ac49-4e6d-9c8f-b078966f965e",
   "metadata": {},
   "outputs": [],
   "source": [
    "c2t = lark_stuff.transducer(ignore='', decay=.0125); len(c2t.states)"
   ]
  },
  {
   "cell_type": "markdown",
   "id": "4b8fd795-8971-41aa-8347-883ec12f0623",
   "metadata": {},
   "source": [
    "The `lark` library will only lex it one way because it has a deterministic semantics for prioritized lexing:"
   ]
  },
  {
   "cell_type": "code",
   "execution_count": null,
   "id": "48dee626-031a-409c-b523-57810a90b6c0",
   "metadata": {},
   "outputs": [],
   "source": [
    "x = 'SELECT * FROM data'"
   ]
  },
  {
   "cell_type": "code",
   "execution_count": null,
   "id": "3b469dfa-1951-419e-918d-2753befef16c",
   "metadata": {},
   "outputs": [],
   "source": [
    "list(lark_stuff.lex(x))"
   ]
  },
  {
   "cell_type": "markdown",
   "id": "890c4399-43c6-44f3-ba0a-9d4c720591ed",
   "metadata": {},
   "source": [
    "However, this string can lex many different ways:"
   ]
  },
  {
   "cell_type": "code",
   "execution_count": null,
   "id": "e4b13795-6d91-4604-847f-76a1cbec7576",
   "metadata": {},
   "outputs": [],
   "source": [
    "ambig = (FST.from_string(x, Float) @ c2t).trim.project(1).epsremove.trim.to_cfg().cnf.language(15)"
   ]
  },
  {
   "cell_type": "code",
   "execution_count": null,
   "id": "6d725b7f-f4c0-4cd5-8f0f-61bda50afe36",
   "metadata": {},
   "outputs": [],
   "source": [
    "#ambig"
   ]
  },
  {
   "cell_type": "markdown",
   "id": "1113c156-60a3-48c9-846f-cf9487dc5125",
   "metadata": {},
   "source": [
    "It might be fine to allow ambiguous lexing because very few of the possible lexing options will survive the parser."
   ]
  },
  {
   "cell_type": "code",
   "execution_count": null,
   "id": "a7cb2cbf-8561-4b15-9713-5942a0568883",
   "metadata": {},
   "outputs": [],
   "source": [
    "for y in ambig:\n",
    "    v = cfg.prefix_weight(y)   # show all options with a nonzero prefix weight\n",
    "    if v == 0: continue\n",
    "    print(v, y)"
   ]
  },
  {
   "cell_type": "code",
   "execution_count": null,
   "id": "5ddeacb6-c2d1-4338-ac43-08f6dfe4dfea",
   "metadata": {},
   "outputs": [],
   "source": [
    "#((FST.from_string('SELECT', Float) @ c2t) @ P.T @ cfg).trim().cnf.language(15)"
   ]
  },
  {
   "cell_type": "code",
   "execution_count": null,
   "id": "e0efbe84-53c3-4d07-8a32-956036803019",
   "metadata": {},
   "outputs": [],
   "source": [
    "#(P.T @ cfg).trim().cnf.language(100)"
   ]
  },
  {
   "cell_type": "code",
   "execution_count": null,
   "id": "dfc2e37c-55cc-485b-b755-3281ad9aaa0a",
   "metadata": {},
   "outputs": [],
   "source": [
    "cfg_t = (c2t.renumber @ cfg).trim()\n",
    "pcfg_t = locally_normalize(cfg_t, tol=1e-100, maxiter=10_000_000)"
   ]
  },
  {
   "cell_type": "code",
   "execution_count": null,
   "id": "6e65a6fd-e69a-4836-8404-044aa18d85ca",
   "metadata": {},
   "outputs": [],
   "source": [
    "pcfg_check(pcfg_t)"
   ]
  },
  {
   "cell_type": "code",
   "execution_count": null,
   "id": "405b0d8c-fd5e-4746-a959-c847a3a7bb25",
   "metadata": {},
   "outputs": [],
   "source": [
    "cfg_t('SELECT * FROM data </s>')"
   ]
  },
  {
   "cell_type": "code",
   "execution_count": null,
   "id": "6a341822-10fa-4dec-9d48-097e676634a3",
   "metadata": {},
   "outputs": [],
   "source": [
    "cfg_t('SELECT * FROM data </s>')"
   ]
  },
  {
   "cell_type": "code",
   "execution_count": null,
   "id": "857feb25-f028-43cc-810b-09b905e550df",
   "metadata": {},
   "outputs": [],
   "source": [
    "lm = CFGLM(add_EOS(pcfg_t.cnf))"
   ]
  },
  {
   "cell_type": "code",
   "execution_count": null,
   "id": "8658feb1-73eb-4610-8ea7-f5292b698a66",
   "metadata": {},
   "outputs": [],
   "source": [
    "for _ in range(10):\n",
    "    print(''.join(lm.sample()))"
   ]
  },
  {
   "cell_type": "code",
   "execution_count": null,
   "id": "a6be40a1-cc63-454a-a3d5-2ac66baba86a",
   "metadata": {},
   "outputs": [],
   "source": [
    "lm.p_next('SELECT * FROM ')"
   ]
  },
  {
   "cell_type": "code",
   "execution_count": null,
   "id": "ed95fbfe-24fe-42b9-8daa-e07159bd5856",
   "metadata": {},
   "outputs": [],
   "source": []
  },
  {
   "cell_type": "code",
   "execution_count": null,
   "id": "8ac1d457-4cb3-4fae-bb05-06d26a173fc0",
   "metadata": {},
   "outputs": [],
   "source": []
  },
  {
   "cell_type": "markdown",
   "id": "0f0582ac-3451-4b7f-bcb0-1fc2cdc8efbe",
   "metadata": {
    "jp-MarkdownHeadingCollapsed": true
   },
   "source": [
    "## BPE Basics"
   ]
  },
  {
   "cell_type": "code",
   "execution_count": null,
   "id": "66dddc70-9ccd-4e03-9135-8461fb0c831b",
   "metadata": {},
   "outputs": [],
   "source": [
    "hf_tk = hf_tokenizer()\n",
    "tokenizer = hf_tk.tokenizer"
   ]
  },
  {
   "cell_type": "code",
   "execution_count": null,
   "id": "3113a7ae-ea16-4b18-9612-70b4fdcee7b2",
   "metadata": {},
   "outputs": [],
   "source": [
    "b2c = hf_tk.fst\n",
    "len(b2c.states)"
   ]
  },
  {
   "cell_type": "code",
   "execution_count": null,
   "id": "822277b4-4f0f-43a2-8783-e6a5831109a2",
   "metadata": {},
   "outputs": [],
   "source": [
    "x = 'SELECT * FROM data'\n",
    "b = tokenizer.encode(x)\n",
    "b"
   ]
  },
  {
   "cell_type": "code",
   "execution_count": null,
   "id": "5a439aee-06e4-4e3c-b244-892f29ddc63b",
   "metadata": {},
   "outputs": [],
   "source": [
    "[tokenizer.decode([bb]) for bb in b]"
   ]
  },
  {
   "cell_type": "code",
   "execution_count": null,
   "id": "54a5ff04-03bb-4965-9f05-8085c90dce5e",
   "metadata": {},
   "outputs": [],
   "source": [
    "with timeit('composition'):\n",
    "    c = FST.from_string(tuple(b), Float) @ b2c\n",
    "about(c)"
   ]
  },
  {
   "cell_type": "code",
   "execution_count": null,
   "id": "3f35ab22-cc99-4b61-836d-5109ae8934fd",
   "metadata": {},
   "outputs": [],
   "source": [
    "c.trim"
   ]
  },
  {
   "cell_type": "markdown",
   "id": "5e537195-c06c-4642-8a15-557de5a90f98",
   "metadata": {},
   "source": [
    "We can build this \"transducer\" more efficiently"
   ]
  },
  {
   "cell_type": "code",
   "execution_count": null,
   "id": "3cd29a5c-4b4a-4d65-b3e5-f4375b607fdb",
   "metadata": {},
   "outputs": [],
   "source": [
    "t = bpe2term_approx(tokenizer, tokenizer.encode(x)).epsremove.trim\n",
    "t"
   ]
  },
  {
   "cell_type": "code",
   "execution_count": null,
   "id": "42741260-329d-4a9f-aeee-b2655c260144",
   "metadata": {},
   "outputs": [],
   "source": []
  },
  {
   "cell_type": "markdown",
   "id": "d2df7b26-8065-4ae0-a83d-19d7b5cc436f",
   "metadata": {
    "jp-MarkdownHeadingCollapsed": true
   },
   "source": [
    "## BPE Ambiguity"
   ]
  },
  {
   "cell_type": "code",
   "execution_count": null,
   "id": "ac49282e-6174-4ab2-9c52-7be7663ecdae",
   "metadata": {},
   "outputs": [],
   "source": [
    "with timeit('composition'):\n",
    "    bs = b2c @ FST.from_string(x, Float)\n",
    "with timeit('trim'):\n",
    "    bs.trim\n",
    "about(bs)"
   ]
  },
  {
   "cell_type": "code",
   "execution_count": null,
   "id": "ccf89bc2-a985-44bc-b099-676221f34b05",
   "metadata": {},
   "outputs": [],
   "source": [
    "#bs.trim"
   ]
  },
  {
   "cell_type": "markdown",
   "id": "1f9e46e7-f348-4790-9f2e-ab3812c61f41",
   "metadata": {},
   "source": [
    "The automaton below describes all the BPE sequences that generate the string `x`:"
   ]
  },
  {
   "cell_type": "code",
   "execution_count": null,
   "id": "072cb3c3-6828-4a2d-88d5-d5d5fee491d1",
   "metadata": {},
   "outputs": [],
   "source": [
    "bs.trim.project(0).epsremove.trim"
   ]
  },
  {
   "cell_type": "markdown",
   "id": "c1a488f7-91ff-4d0a-a825-c2da8bbccc29",
   "metadata": {},
   "source": [
    "To see all the BPE sequences that generate `x` run the cell below:"
   ]
  },
  {
   "cell_type": "code",
   "execution_count": null,
   "id": "5ca21894-4a66-4d57-b631-f64f4fc2b575",
   "metadata": {},
   "outputs": [],
   "source": [
    "#for y in bs.trim.project(0).epsremove.trim.to_cfg().language(10):\n",
    "#    print(tokenizer.decode(y), y)"
   ]
  },
  {
   "cell_type": "code",
   "execution_count": null,
   "id": "9632097d-a97a-4d59-8683-7dd637e3e0f8",
   "metadata": {},
   "outputs": [],
   "source": []
  },
  {
   "cell_type": "code",
   "execution_count": null,
   "id": "5b29e1dc-bfd3-47a3-be89-fcd79ac1217a",
   "metadata": {},
   "outputs": [],
   "source": []
  },
  {
   "cell_type": "markdown",
   "id": "60280fdd-8a22-4764-9e76-97814619a4cb",
   "metadata": {
    "jp-MarkdownHeadingCollapsed": true
   },
   "source": [
    "## A Basic Alignment Algorithm"
   ]
  },
  {
   "cell_type": "code",
   "execution_count": null,
   "id": "45add727-d4d9-418b-bf92-b7e782f23703",
   "metadata": {},
   "outputs": [],
   "source": [
    "lark_stuff = LarkStuff(r\"\"\"\n",
    "start: \"SELECT\" WS select_expr WS \"FROM\" WS from_expr [WS \"WHERE\" WS bool_condition] [WS \"GROUP BY\" WS var_list] [WS \"ORDER BY\" WS orderby_expr] WS EOS\n",
    "EOS: \"</s>\"\n",
    "select_expr: STAR | select_list\n",
    "bool_condition: bool_expr | \"(\" bool_condition WS \"AND\" WS bool_condition \")\" | \"(\" bool_condition WS \"OR\" WS bool_condition \")\"\n",
    "bool_expr: var \"=\" value | var \">\" value | var \"<\" value\n",
    "from_expr: \"data\"\n",
    "orderby_expr: var_list WS \"ASC\" | var_list WS \"DESC\"\n",
    "select_list: select_var (\",\" WS select_var)*\n",
    "var_list: var (\",\" WS var)*\n",
    "select_var: var | \"AVG(\" var \")\" | \"MEDIAN(\" var \")\" | \"COUNT(\" var \")\"\n",
    "var: \"age\" | \"gender\" | \"year\" | \"state_color\" | \"zipcode\" | \"vote\" | \"race_ethnicity\"\n",
    "value: NUMBER | \"red\" | \"blue\" | \"white\" | \"black\" | \"latino\" | \"republican\" | \"democrat\" | \"male\" | \"female\"\n",
    "STAR: \"*\"\n",
    "NUMBER: /\\d+/\n",
    "WS: \" \"\n",
    "\"\"\")\n",
    "\n",
    "foo = lark_stuff.char_cfg(.7)\n",
    "foo = locally_normalize(foo, tol=1e-100).trim()\n",
    "assert len(foo) > 0\n",
    "lm = CFGLM(foo)"
   ]
  },
  {
   "cell_type": "code",
   "execution_count": null,
   "id": "82ea9156-8c57-4cba-b448-094a29fd05b4",
   "metadata": {},
   "outputs": [],
   "source": []
  },
  {
   "cell_type": "code",
   "execution_count": null,
   "id": "94820485-f8eb-48e0-86db-cc0faa3b5271",
   "metadata": {},
   "outputs": [],
   "source": [
    "print(''.join(lm.sample()))"
   ]
  },
  {
   "cell_type": "code",
   "execution_count": null,
   "id": "eea67856-e347-4ba0-970c-25bf92b122df",
   "metadata": {},
   "outputs": [],
   "source": []
  },
  {
   "cell_type": "code",
   "execution_count": null,
   "id": "c2158a77-e14c-4e93-b533-4184aae7d4a5",
   "metadata": {},
   "outputs": [],
   "source": [
    "H = hf_tokenizer()"
   ]
  },
  {
   "cell_type": "code",
   "execution_count": null,
   "id": "3d792b5f-c322-47d7-8190-7937b5967fe6",
   "metadata": {},
   "outputs": [],
   "source": [
    "bpe_lm = CharAlignedCFGLM(lm=lm, words={x for _, x in H.pairs}, eos=H.tokenizer.eos_token)"
   ]
  },
  {
   "cell_type": "code",
   "execution_count": null,
   "id": "6aa7e87e-cf79-4319-9ecd-5a5f828adee1",
   "metadata": {},
   "outputs": [],
   "source": [
    "lm.p_next('')"
   ]
  },
  {
   "cell_type": "code",
   "execution_count": null,
   "id": "cc70e82c-138c-4a59-a261-049bcfd5bdd5",
   "metadata": {},
   "outputs": [],
   "source": []
  },
  {
   "cell_type": "code",
   "execution_count": null,
   "id": "64fcecc6-3ea2-4aeb-8ebc-de15472ca0e2",
   "metadata": {},
   "outputs": [],
   "source": [
    "bpe_lm.p_next('')"
   ]
  },
  {
   "cell_type": "code",
   "execution_count": null,
   "id": "f0584af6-04a2-46c6-9a85-7c94dfe2e3b0",
   "metadata": {},
   "outputs": [],
   "source": [
    "lm.p_next('SELECT ')"
   ]
  },
  {
   "cell_type": "code",
   "execution_count": null,
   "id": "0aa025a6-d83a-4ce2-9fa7-9adf08f5621e",
   "metadata": {},
   "outputs": [],
   "source": [
    "bpe_lm.p_next('SELECT ')"
   ]
  },
  {
   "cell_type": "code",
   "execution_count": null,
   "id": "b4720986-8690-49b4-ac18-20539b6a622f",
   "metadata": {},
   "outputs": [],
   "source": [
    "ys = bpe_lm.sample(verbose=0)\n",
    "ys"
   ]
  },
  {
   "cell_type": "markdown",
   "id": "ca7ee095-f67f-4dc1-b010-b11b0ad002ec",
   "metadata": {},
   "source": [
    "## Avoiding Distortion in Tokenization Alignment. "
   ]
  },
  {
   "cell_type": "markdown",
   "id": "d6485bd0-b543-44da-8b4b-ee6ff13c628b",
   "metadata": {},
   "source": [
    "\n",
    "Let $p$ be some original CFG-LM over character strings $a \\in A^*$.\n",
    "\n",
    "Let $p'$ be the \"BPE transform\" of $p$; $p'$ is a distribution over BPE strings $b \\in B^*$.\n",
    "\n",
    "The sets $A^*$ and $B^*$ are related through the functions $\\mathrm{encode}$ and $\\mathrm{decode}$.\n",
    "\n",
    "We want \n",
    "\n",
    "$$\n",
    "\\forall a\\colon\\quad   p(a) = \\sum_{b\\colon\\ \\mathrm{decode}(b) = a} p'(b)\n",
    "$$\n",
    "\n",
    "We would like to define $p'$ such that this property holds because it ensures that the process\n",
    "\n",
    "1. $b \\sim p'$\n",
    "2. $a = \\mathrm{decode}(b)$\n",
    "\n",
    "generates $a$ that is distributed $p$.\n",
    "\n",
    "Open question: does there exist an efficient incremental generative process $p'$ that ensures $p = p'$."
   ]
  },
  {
   "cell_type": "markdown",
   "id": "816edf33-55cd-4d22-9fce-5adc2ff5cb86",
   "metadata": {},
   "source": [
    "The code below is an attempt to understand the distortion in the char-alignment adaptor (I might refer to this a \"grafting\")."
   ]
  },
  {
   "cell_type": "code",
   "execution_count": 54,
   "id": "0256b966-380f-49fa-89e0-e3deb9e6f10e",
   "metadata": {},
   "outputs": [],
   "source": [
    "_cfg = CFG.from_string(\"\"\"\n",
    "\n",
    "1: S -> a\n",
    "1: S -> aa\n",
    "#1: S -> aaa\n",
    "\n",
    "\"\"\", Float)\n",
    "c_lm = CFGLM(locally_normalize(explode(add_EOS(_cfg)), tol=1e-100).trim())"
   ]
  },
  {
   "cell_type": "code",
   "execution_count": 55,
   "id": "010735fd-b455-45bd-ac9d-17db4393bc95",
   "metadata": {},
   "outputs": [
    {
     "data": {
      "text/html": [
       "<pre style=\"width: fit-content; text-align: left; border: thin solid black; padding: 0.5em;\">Grammar {\n",
       "  1.0: 0 → 1 ▪\n",
       "  0.5: 1 → a #\n",
       "  0.5: 1 → a a #\n",
       "}</pre>"
      ],
      "text/plain": [
       "Grammar {\n",
       "  1.0: 0 → 1 ▪\n",
       "  0.5: 1 → a #\n",
       "  0.5: 1 → a a #\n",
       "}"
      ]
     },
     "execution_count": 55,
     "metadata": {},
     "output_type": "execute_result"
    }
   ],
   "source": [
    "c_lm.cfg"
   ]
  },
  {
   "cell_type": "code",
   "execution_count": 56,
   "id": "7de4c198-85c6-4927-8c62-857185d522a1",
   "metadata": {},
   "outputs": [
    {
     "data": {
      "text/plain": [
       "{'#', 'a', 'aa', '▪'}"
      ]
     },
     "execution_count": 56,
     "metadata": {},
     "output_type": "execute_result"
    }
   ],
   "source": [
    "tokens = _cfg.V | {'#', EOS}\n",
    "tokens"
   ]
  },
  {
   "cell_type": "code",
   "execution_count": 57,
   "id": "e8659235-6e35-47f7-bc2e-082e7dab9665",
   "metadata": {},
   "outputs": [],
   "source": [
    "a_lm = CharAlignedCFGLM(c_lm, tokens, EOS)"
   ]
  },
  {
   "cell_type": "code",
   "execution_count": 69,
   "id": "d1d5c923-ef64-49f1-9201-5ee2c1ea2890",
   "metadata": {},
   "outputs": [
    {
     "data": {
      "text/html": [
       "<table><tr><td><div style=\"font-family: Monospace;\"><table><tr style=\"font-weight: bold;\"><td>key</td><td>value</td></tr><tr><td><pre>(&#x27;a&#x27;, &#x27;#&#x27;)</pre></td><td><pre>0.5</pre></td> </tr><tr><td><pre>(&#x27;a&#x27;, &#x27;a&#x27;, &#x27;#&#x27;)</pre></td><td><pre>0.5</pre></td> </tr></table></div></td><td><?xml version=\"1.0\" encoding=\"UTF-8\" standalone=\"no\"?>\n",
       "<!DOCTYPE svg PUBLIC \"-//W3C//DTD SVG 1.1//EN\"\n",
       " \"http://www.w3.org/Graphics/SVG/1.1/DTD/svg11.dtd\">\n",
       "<!-- Generated by graphviz version 2.43.0 (0)\n",
       " -->\n",
       "<!-- Title: %3 Pages: 1 -->\n",
       "<svg width=\"347pt\" height=\"62pt\"\n",
       " viewBox=\"0.00 0.00 347.00 61.50\" xmlns=\"http://www.w3.org/2000/svg\" xmlns:xlink=\"http://www.w3.org/1999/xlink\">\n",
       "<g id=\"graph0\" class=\"graph\" transform=\"scale(1 1) rotate(0) translate(4 57.5)\">\n",
       "<title>%3</title>\n",
       "<polygon fill=\"white\" stroke=\"transparent\" points=\"-4,4 -4,-57.5 343,-57.5 343,4 -4,4\"/>\n",
       "<!-- 0 -->\n",
       "<g id=\"node1\" class=\"node\">\n",
       "<title>0</title>\n",
       "<polygon fill=\"none\" stroke=\"black\" points=\"27,-34 0,-34 0,-17 27,-17 27,-34\"/>\n",
       "<text text-anchor=\"middle\" x=\"13.5\" y=\"-23\" font-family=\"Monospace\" font-size=\"10.00\">0/1</text>\n",
       "</g>\n",
       "<!-- 1 -->\n",
       "<g id=\"node2\" class=\"node\">\n",
       "<title>1</title>\n",
       "<polygon fill=\"none\" stroke=\"black\" points=\"96,-34 69,-34 69,-17 96,-17 96,-34\"/>\n",
       "<text text-anchor=\"middle\" x=\"82.5\" y=\"-23\" font-family=\"Monospace\" font-size=\"10.00\">0/1</text>\n",
       "</g>\n",
       "<!-- 0&#45;&gt;1 -->\n",
       "<g id=\"edge1\" class=\"edge\">\n",
       "<title>0&#45;&gt;1</title>\n",
       "<path fill=\"none\" stroke=\"black\" d=\"M27.1,-25.5C38.05,-25.5 53.96,-25.5 65.75,-25.5\"/>\n",
       "<polygon fill=\"black\" stroke=\"black\" points=\"65.95,-26.55 68.95,-25.5 65.95,-24.45 65.95,-26.55\"/>\n",
       "<text text-anchor=\"middle\" x=\"48\" y=\"-28.3\" font-family=\"Monospace\" font-size=\"9.00\">a</text>\n",
       "</g>\n",
       "<!-- 2 -->\n",
       "<g id=\"node3\" class=\"node\">\n",
       "<title>2</title>\n",
       "<polygon fill=\"none\" stroke=\"black\" points=\"177,-52 138,-52 138,-35 177,-35 177,-52\"/>\n",
       "<text text-anchor=\"middle\" x=\"157.5\" y=\"-41\" font-family=\"Monospace\" font-size=\"10.00\">0/0.5</text>\n",
       "</g>\n",
       "<!-- 1&#45;&gt;2 -->\n",
       "<g id=\"edge2\" class=\"edge\">\n",
       "<title>1&#45;&gt;2</title>\n",
       "<path fill=\"none\" stroke=\"black\" d=\"M96.22,-28.64C106.84,-31.25 122.21,-35.05 134.78,-38.14\"/>\n",
       "<polygon fill=\"black\" stroke=\"black\" points=\"134.74,-39.22 137.91,-38.92 135.25,-37.18 134.74,-39.22\"/>\n",
       "<text text-anchor=\"middle\" x=\"117\" y=\"-37.3\" font-family=\"Monospace\" font-size=\"9.00\">a</text>\n",
       "</g>\n",
       "<!-- 3 -->\n",
       "<g id=\"node4\" class=\"node\">\n",
       "<title>3</title>\n",
       "<polygon fill=\"none\" stroke=\"black\" points=\"177,-17 138,-17 138,0 177,0 177,-17\"/>\n",
       "<text text-anchor=\"middle\" x=\"157.5\" y=\"-6\" font-family=\"Monospace\" font-size=\"10.00\">0/0.5</text>\n",
       "</g>\n",
       "<!-- 1&#45;&gt;3 -->\n",
       "<g id=\"edge3\" class=\"edge\">\n",
       "<title>1&#45;&gt;3</title>\n",
       "<path fill=\"none\" stroke=\"black\" d=\"M96.11,-17.85C101.44,-15.01 107.83,-12.09 114,-10.5 120.52,-8.82 127.78,-8.08 134.43,-7.83\"/>\n",
       "<polygon fill=\"black\" stroke=\"black\" points=\"134.66,-8.88 137.64,-7.74 134.61,-6.78 134.66,-8.88\"/>\n",
       "<text text-anchor=\"middle\" x=\"117\" y=\"-13.3\" font-family=\"Monospace\" font-size=\"9.00\">#</text>\n",
       "</g>\n",
       "<!-- 5 -->\n",
       "<g id=\"node6\" class=\"node\">\n",
       "<title>5</title>\n",
       "<polygon fill=\"none\" stroke=\"black\" points=\"258,-52 219,-52 219,-35 258,-35 258,-52\"/>\n",
       "<text text-anchor=\"middle\" x=\"238.5\" y=\"-41\" font-family=\"Monospace\" font-size=\"10.00\">0/0.5</text>\n",
       "</g>\n",
       "<!-- 2&#45;&gt;5 -->\n",
       "<g id=\"edge5\" class=\"edge\">\n",
       "<title>2&#45;&gt;5</title>\n",
       "<path fill=\"none\" stroke=\"black\" d=\"M177.22,-43.5C188.83,-43.5 203.79,-43.5 215.9,-43.5\"/>\n",
       "<polygon fill=\"black\" stroke=\"black\" points=\"215.91,-44.55 218.91,-43.5 215.91,-42.45 215.91,-44.55\"/>\n",
       "<text text-anchor=\"middle\" x=\"198\" y=\"-46.3\" font-family=\"Monospace\" font-size=\"9.00\">#</text>\n",
       "</g>\n",
       "<!-- 4 -->\n",
       "<g id=\"node5\" class=\"node\">\n",
       "<title>4</title>\n",
       "<polygon fill=\"none\" stroke=\"black\" points=\"258,-17 219,-17 219,0 258,0 258,-17\"/>\n",
       "<text text-anchor=\"middle\" x=\"238.5\" y=\"-6\" font-family=\"Monospace\" font-size=\"10.00\">0/0.5</text>\n",
       "</g>\n",
       "<!-- 3&#45;&gt;4 -->\n",
       "<g id=\"edge4\" class=\"edge\">\n",
       "<title>3&#45;&gt;4</title>\n",
       "<path fill=\"none\" stroke=\"black\" d=\"M177.22,-8.5C188.83,-8.5 203.79,-8.5 215.9,-8.5\"/>\n",
       "<polygon fill=\"black\" stroke=\"black\" points=\"215.91,-9.55 218.91,-8.5 215.91,-7.45 215.91,-9.55\"/>\n",
       "<text text-anchor=\"middle\" x=\"198\" y=\"-11.3\" font-family=\"Monospace\" font-size=\"9.00\">▪</text>\n",
       "</g>\n",
       "<!-- 6 -->\n",
       "<g id=\"node7\" class=\"node\">\n",
       "<title>6</title>\n",
       "<polygon fill=\"none\" stroke=\"black\" points=\"339,-52 300,-52 300,-35 339,-35 339,-52\"/>\n",
       "<text text-anchor=\"middle\" x=\"319.5\" y=\"-41\" font-family=\"Monospace\" font-size=\"10.00\">0/0.5</text>\n",
       "</g>\n",
       "<!-- 5&#45;&gt;6 -->\n",
       "<g id=\"edge6\" class=\"edge\">\n",
       "<title>5&#45;&gt;6</title>\n",
       "<path fill=\"none\" stroke=\"black\" d=\"M258.22,-43.5C269.83,-43.5 284.79,-43.5 296.9,-43.5\"/>\n",
       "<polygon fill=\"black\" stroke=\"black\" points=\"296.91,-44.55 299.91,-43.5 296.91,-42.45 296.91,-44.55\"/>\n",
       "<text text-anchor=\"middle\" x=\"279\" y=\"-46.3\" font-family=\"Monospace\" font-size=\"9.00\">▪</text>\n",
       "</g>\n",
       "</g>\n",
       "</svg>\n",
       "</td> </tr></table>"
      ],
      "text/plain": [
       "<IPython.core.display.HTML object>"
      ]
     },
     "metadata": {},
     "output_type": "display_data"
    }
   ],
   "source": [
    "C, tracer_char = generation_tree(c_lm)\n",
    "display_table([[C, tracer_char]])"
   ]
  },
  {
   "cell_type": "code",
   "execution_count": 70,
   "id": "a2a3feb0-a61c-4b37-983b-2027c63aad0a",
   "metadata": {},
   "outputs": [
    {
     "data": {
      "text/html": [
       "<table><tr><td><div style=\"font-family: Monospace;\"><table><tr style=\"font-weight: bold;\"><td>key</td><td>value</td></tr><tr><td><pre>a#</pre></td><td><pre>0.3333333333333333</pre></td> </tr><tr><td><pre>aa#</pre></td><td><pre>0.6666666666666666</pre></td> </tr></table></div></td><td><?xml version=\"1.0\" encoding=\"UTF-8\" standalone=\"no\"?>\n",
       "<!DOCTYPE svg PUBLIC \"-//W3C//DTD SVG 1.1//EN\"\n",
       " \"http://www.w3.org/Graphics/SVG/1.1/DTD/svg11.dtd\">\n",
       "<!-- Generated by graphviz version 2.43.0 (0)\n",
       " -->\n",
       "<!-- Title: %3 Pages: 1 -->\n",
       "<svg width=\"388pt\" height=\"97pt\"\n",
       " viewBox=\"0.00 0.00 388.00 96.50\" xmlns=\"http://www.w3.org/2000/svg\" xmlns:xlink=\"http://www.w3.org/1999/xlink\">\n",
       "<g id=\"graph0\" class=\"graph\" transform=\"scale(1 1) rotate(0) translate(4 92.5)\">\n",
       "<title>%3</title>\n",
       "<polygon fill=\"white\" stroke=\"transparent\" points=\"-4,4 -4,-92.5 384,-92.5 384,4 -4,4\"/>\n",
       "<!-- 0 -->\n",
       "<g id=\"node1\" class=\"node\">\n",
       "<title>0</title>\n",
       "<polygon fill=\"none\" stroke=\"black\" points=\"27,-34 0,-34 0,-17 27,-17 27,-34\"/>\n",
       "<text text-anchor=\"middle\" x=\"13.5\" y=\"-23\" font-family=\"Monospace\" font-size=\"10.00\">0/1</text>\n",
       "</g>\n",
       "<!-- 1 -->\n",
       "<g id=\"node2\" class=\"node\">\n",
       "<title>1</title>\n",
       "<polygon fill=\"none\" stroke=\"black\" points=\"119,-52 74,-52 74,-35 119,-35 119,-52\"/>\n",
       "<text text-anchor=\"middle\" x=\"96.5\" y=\"-41\" font-family=\"Monospace\" font-size=\"10.00\">0/0.67</text>\n",
       "</g>\n",
       "<!-- 0&#45;&gt;1 -->\n",
       "<g id=\"edge1\" class=\"edge\">\n",
       "<title>0&#45;&gt;1</title>\n",
       "<path fill=\"none\" stroke=\"black\" d=\"M27.16,-28.31C38.74,-30.89 56.21,-34.77 70.59,-37.96\"/>\n",
       "<polygon fill=\"black\" stroke=\"black\" points=\"70.64,-39.05 73.79,-38.68 71.09,-37 70.64,-39.05\"/>\n",
       "<text text-anchor=\"middle\" x=\"50.5\" y=\"-37.3\" font-family=\"Monospace\" font-size=\"9.00\">a</text>\n",
       "</g>\n",
       "<!-- 2 -->\n",
       "<g id=\"node3\" class=\"node\">\n",
       "<title>2</title>\n",
       "<polygon fill=\"none\" stroke=\"black\" points=\"119,-17 74,-17 74,0 119,0 119,-17\"/>\n",
       "<text text-anchor=\"middle\" x=\"96.5\" y=\"-6\" font-family=\"Monospace\" font-size=\"10.00\">0/0.33</text>\n",
       "</g>\n",
       "<!-- 0&#45;&gt;2 -->\n",
       "<g id=\"edge2\" class=\"edge\">\n",
       "<title>0&#45;&gt;2</title>\n",
       "<path fill=\"none\" stroke=\"black\" d=\"M27.1,-17.83C32.43,-14.98 38.82,-12.07 45,-10.5 53.04,-8.46 62.02,-7.66 70.16,-7.45\"/>\n",
       "<polygon fill=\"black\" stroke=\"black\" points=\"70.61,-8.49 73.59,-7.4 70.57,-6.39 70.61,-8.49\"/>\n",
       "<text text-anchor=\"middle\" x=\"50.5\" y=\"-13.3\" font-family=\"Monospace\" font-size=\"9.00\">aa</text>\n",
       "</g>\n",
       "<!-- 5 -->\n",
       "<g id=\"node6\" class=\"node\">\n",
       "<title>5</title>\n",
       "<polygon fill=\"none\" stroke=\"black\" points=\"206,-87 161,-87 161,-70 206,-70 206,-87\"/>\n",
       "<text text-anchor=\"middle\" x=\"183.5\" y=\"-76\" font-family=\"Monospace\" font-size=\"10.00\">0/0.33</text>\n",
       "</g>\n",
       "<!-- 1&#45;&gt;5 -->\n",
       "<g id=\"edge5\" class=\"edge\">\n",
       "<title>1&#45;&gt;5</title>\n",
       "<path fill=\"none\" stroke=\"black\" d=\"M118.51,-52.15C130.76,-57.2 146.24,-63.57 158.91,-68.79\"/>\n",
       "<polygon fill=\"black\" stroke=\"black\" points=\"158.56,-69.78 161.73,-69.95 159.36,-67.83 158.56,-69.78\"/>\n",
       "<text text-anchor=\"middle\" x=\"140\" y=\"-65.3\" font-family=\"Monospace\" font-size=\"9.00\">a</text>\n",
       "</g>\n",
       "<!-- 6 -->\n",
       "<g id=\"node7\" class=\"node\">\n",
       "<title>6</title>\n",
       "<polygon fill=\"none\" stroke=\"black\" points=\"206,-52 161,-52 161,-35 206,-35 206,-52\"/>\n",
       "<text text-anchor=\"middle\" x=\"183.5\" y=\"-41\" font-family=\"Monospace\" font-size=\"10.00\">0/0.33</text>\n",
       "</g>\n",
       "<!-- 1&#45;&gt;6 -->\n",
       "<g id=\"edge6\" class=\"edge\">\n",
       "<title>1&#45;&gt;6</title>\n",
       "<path fill=\"none\" stroke=\"black\" d=\"M119.39,-43.5C131.18,-43.5 145.76,-43.5 157.94,-43.5\"/>\n",
       "<polygon fill=\"black\" stroke=\"black\" points=\"157.98,-44.55 160.98,-43.5 157.98,-42.45 157.98,-44.55\"/>\n",
       "<text text-anchor=\"middle\" x=\"140\" y=\"-46.3\" font-family=\"Monospace\" font-size=\"9.00\">#</text>\n",
       "</g>\n",
       "<!-- 3 -->\n",
       "<g id=\"node4\" class=\"node\">\n",
       "<title>3</title>\n",
       "<polygon fill=\"none\" stroke=\"black\" points=\"206,-17 161,-17 161,0 206,0 206,-17\"/>\n",
       "<text text-anchor=\"middle\" x=\"183.5\" y=\"-6\" font-family=\"Monospace\" font-size=\"10.00\">0/0.33</text>\n",
       "</g>\n",
       "<!-- 2&#45;&gt;3 -->\n",
       "<g id=\"edge3\" class=\"edge\">\n",
       "<title>2&#45;&gt;3</title>\n",
       "<path fill=\"none\" stroke=\"black\" d=\"M119.39,-8.5C131.18,-8.5 145.76,-8.5 157.94,-8.5\"/>\n",
       "<polygon fill=\"black\" stroke=\"black\" points=\"157.98,-9.55 160.98,-8.5 157.98,-7.45 157.98,-9.55\"/>\n",
       "<text text-anchor=\"middle\" x=\"140\" y=\"-11.3\" font-family=\"Monospace\" font-size=\"9.00\">#</text>\n",
       "</g>\n",
       "<!-- 4 -->\n",
       "<g id=\"node5\" class=\"node\">\n",
       "<title>4</title>\n",
       "<polygon fill=\"none\" stroke=\"black\" points=\"293,-17 248,-17 248,0 293,0 293,-17\"/>\n",
       "<text text-anchor=\"middle\" x=\"270.5\" y=\"-6\" font-family=\"Monospace\" font-size=\"10.00\">0/0.33</text>\n",
       "</g>\n",
       "<!-- 3&#45;&gt;4 -->\n",
       "<g id=\"edge4\" class=\"edge\">\n",
       "<title>3&#45;&gt;4</title>\n",
       "<path fill=\"none\" stroke=\"black\" d=\"M206.39,-8.5C218.18,-8.5 232.76,-8.5 244.94,-8.5\"/>\n",
       "<polygon fill=\"black\" stroke=\"black\" points=\"244.98,-9.55 247.98,-8.5 244.98,-7.45 244.98,-9.55\"/>\n",
       "<text text-anchor=\"middle\" x=\"227\" y=\"-11.3\" font-family=\"Monospace\" font-size=\"9.00\">▪</text>\n",
       "</g>\n",
       "<!-- 8 -->\n",
       "<g id=\"node9\" class=\"node\">\n",
       "<title>8</title>\n",
       "<polygon fill=\"none\" stroke=\"black\" points=\"293,-87 248,-87 248,-70 293,-70 293,-87\"/>\n",
       "<text text-anchor=\"middle\" x=\"270.5\" y=\"-76\" font-family=\"Monospace\" font-size=\"10.00\">0/0.33</text>\n",
       "</g>\n",
       "<!-- 5&#45;&gt;8 -->\n",
       "<g id=\"edge8\" class=\"edge\">\n",
       "<title>5&#45;&gt;8</title>\n",
       "<path fill=\"none\" stroke=\"black\" d=\"M206.39,-78.5C218.18,-78.5 232.76,-78.5 244.94,-78.5\"/>\n",
       "<polygon fill=\"black\" stroke=\"black\" points=\"244.98,-79.55 247.98,-78.5 244.98,-77.45 244.98,-79.55\"/>\n",
       "<text text-anchor=\"middle\" x=\"227\" y=\"-81.3\" font-family=\"Monospace\" font-size=\"9.00\">#</text>\n",
       "</g>\n",
       "<!-- 7 -->\n",
       "<g id=\"node8\" class=\"node\">\n",
       "<title>7</title>\n",
       "<polygon fill=\"none\" stroke=\"black\" points=\"293,-52 248,-52 248,-35 293,-35 293,-52\"/>\n",
       "<text text-anchor=\"middle\" x=\"270.5\" y=\"-41\" font-family=\"Monospace\" font-size=\"10.00\">0/0.33</text>\n",
       "</g>\n",
       "<!-- 6&#45;&gt;7 -->\n",
       "<g id=\"edge7\" class=\"edge\">\n",
       "<title>6&#45;&gt;7</title>\n",
       "<path fill=\"none\" stroke=\"black\" d=\"M206.39,-43.5C218.18,-43.5 232.76,-43.5 244.94,-43.5\"/>\n",
       "<polygon fill=\"black\" stroke=\"black\" points=\"244.98,-44.55 247.98,-43.5 244.98,-42.45 244.98,-44.55\"/>\n",
       "<text text-anchor=\"middle\" x=\"227\" y=\"-46.3\" font-family=\"Monospace\" font-size=\"9.00\">▪</text>\n",
       "</g>\n",
       "<!-- 9 -->\n",
       "<g id=\"node10\" class=\"node\">\n",
       "<title>9</title>\n",
       "<polygon fill=\"none\" stroke=\"black\" points=\"380,-87 335,-87 335,-70 380,-70 380,-87\"/>\n",
       "<text text-anchor=\"middle\" x=\"357.5\" y=\"-76\" font-family=\"Monospace\" font-size=\"10.00\">0/0.33</text>\n",
       "</g>\n",
       "<!-- 8&#45;&gt;9 -->\n",
       "<g id=\"edge9\" class=\"edge\">\n",
       "<title>8&#45;&gt;9</title>\n",
       "<path fill=\"none\" stroke=\"black\" d=\"M293.39,-78.5C305.18,-78.5 319.76,-78.5 331.94,-78.5\"/>\n",
       "<polygon fill=\"black\" stroke=\"black\" points=\"331.98,-79.55 334.98,-78.5 331.98,-77.45 331.98,-79.55\"/>\n",
       "<text text-anchor=\"middle\" x=\"314\" y=\"-81.3\" font-family=\"Monospace\" font-size=\"9.00\">▪</text>\n",
       "</g>\n",
       "</g>\n",
       "</svg>\n",
       "</td> </tr></table>"
      ],
      "text/plain": [
       "<IPython.core.display.HTML object>"
      ]
     },
     "metadata": {},
     "output_type": "display_data"
    }
   ],
   "source": [
    "A, tracer_aligned = generation_tree(a_lm)\n",
    "display_table([[A, tracer_aligned]])"
   ]
  },
  {
   "cell_type": "code",
   "execution_count": 60,
   "id": "52ac6fe7-45f6-436f-b66a-d7eee974e0ac",
   "metadata": {},
   "outputs": [
    {
     "data": {
      "text/html": [
       "<table><tr><td><div style=\"font-family: Monospace;\"><table><tr style=\"font-weight: bold;\"><td>key</td><td>value</td></tr><tr><td><pre>(&#x27;a&#x27;, &#x27;#&#x27;, &#x27;▪&#x27;)</pre></td><td><pre>0.3333333333333333</pre></td> </tr><tr><td><pre>(&#x27;a&#x27;, &#x27;a&#x27;, &#x27;#&#x27;, &#x27;▪&#x27;)</pre></td><td><pre>0.3333333333333333</pre></td> </tr><tr><td><pre>(&#x27;aa&#x27;, &#x27;#&#x27;, &#x27;▪&#x27;)</pre></td><td><pre>0.3333333333333333</pre></td> </tr></table></div></td><td><?xml version=\"1.0\" encoding=\"UTF-8\" standalone=\"no\"?>\n",
       "<!DOCTYPE svg PUBLIC \"-//W3C//DTD SVG 1.1//EN\"\n",
       " \"http://www.w3.org/Graphics/SVG/1.1/DTD/svg11.dtd\">\n",
       "<!-- Generated by graphviz version 2.43.0 (0)\n",
       " -->\n",
       "<!-- Title: %3 Pages: 1 -->\n",
       "<svg width=\"388pt\" height=\"97pt\"\n",
       " viewBox=\"0.00 0.00 388.00 96.50\" xmlns=\"http://www.w3.org/2000/svg\" xmlns:xlink=\"http://www.w3.org/1999/xlink\">\n",
       "<g id=\"graph0\" class=\"graph\" transform=\"scale(1 1) rotate(0) translate(4 92.5)\">\n",
       "<title>%3</title>\n",
       "<polygon fill=\"white\" stroke=\"transparent\" points=\"-4,4 -4,-92.5 384,-92.5 384,4 -4,4\"/>\n",
       "<!-- 0 -->\n",
       "<g id=\"node1\" class=\"node\">\n",
       "<title>0</title>\n",
       "<polygon fill=\"none\" stroke=\"black\" points=\"27,-34 0,-34 0,-17 27,-17 27,-34\"/>\n",
       "<text text-anchor=\"middle\" x=\"13.5\" y=\"-23\" font-family=\"Monospace\" font-size=\"10.00\">0/1</text>\n",
       "</g>\n",
       "<!-- 1 -->\n",
       "<g id=\"node2\" class=\"node\">\n",
       "<title>1</title>\n",
       "<polygon fill=\"none\" stroke=\"black\" points=\"119,-52 74,-52 74,-35 119,-35 119,-52\"/>\n",
       "<text text-anchor=\"middle\" x=\"96.5\" y=\"-41\" font-family=\"Monospace\" font-size=\"10.00\">0/0.67</text>\n",
       "</g>\n",
       "<!-- 0&#45;&gt;1 -->\n",
       "<g id=\"edge1\" class=\"edge\">\n",
       "<title>0&#45;&gt;1</title>\n",
       "<path fill=\"none\" stroke=\"black\" d=\"M27.16,-28.31C38.74,-30.89 56.21,-34.77 70.59,-37.96\"/>\n",
       "<polygon fill=\"black\" stroke=\"black\" points=\"70.64,-39.05 73.79,-38.68 71.09,-37 70.64,-39.05\"/>\n",
       "<text text-anchor=\"middle\" x=\"50.5\" y=\"-37.3\" font-family=\"Monospace\" font-size=\"9.00\">a</text>\n",
       "</g>\n",
       "<!-- 2 -->\n",
       "<g id=\"node3\" class=\"node\">\n",
       "<title>2</title>\n",
       "<polygon fill=\"none\" stroke=\"black\" points=\"119,-17 74,-17 74,0 119,0 119,-17\"/>\n",
       "<text text-anchor=\"middle\" x=\"96.5\" y=\"-6\" font-family=\"Monospace\" font-size=\"10.00\">0/0.33</text>\n",
       "</g>\n",
       "<!-- 0&#45;&gt;2 -->\n",
       "<g id=\"edge2\" class=\"edge\">\n",
       "<title>0&#45;&gt;2</title>\n",
       "<path fill=\"none\" stroke=\"black\" d=\"M27.1,-17.83C32.43,-14.98 38.82,-12.07 45,-10.5 53.04,-8.46 62.02,-7.66 70.16,-7.45\"/>\n",
       "<polygon fill=\"black\" stroke=\"black\" points=\"70.61,-8.49 73.59,-7.4 70.57,-6.39 70.61,-8.49\"/>\n",
       "<text text-anchor=\"middle\" x=\"50.5\" y=\"-13.3\" font-family=\"Monospace\" font-size=\"9.00\">aa</text>\n",
       "</g>\n",
       "<!-- 5 -->\n",
       "<g id=\"node6\" class=\"node\">\n",
       "<title>5</title>\n",
       "<polygon fill=\"none\" stroke=\"black\" points=\"206,-87 161,-87 161,-70 206,-70 206,-87\"/>\n",
       "<text text-anchor=\"middle\" x=\"183.5\" y=\"-76\" font-family=\"Monospace\" font-size=\"10.00\">0/0.33</text>\n",
       "</g>\n",
       "<!-- 1&#45;&gt;5 -->\n",
       "<g id=\"edge5\" class=\"edge\">\n",
       "<title>1&#45;&gt;5</title>\n",
       "<path fill=\"none\" stroke=\"black\" d=\"M118.51,-52.15C130.76,-57.2 146.24,-63.57 158.91,-68.79\"/>\n",
       "<polygon fill=\"black\" stroke=\"black\" points=\"158.56,-69.78 161.73,-69.95 159.36,-67.83 158.56,-69.78\"/>\n",
       "<text text-anchor=\"middle\" x=\"140\" y=\"-65.3\" font-family=\"Monospace\" font-size=\"9.00\">a</text>\n",
       "</g>\n",
       "<!-- 6 -->\n",
       "<g id=\"node7\" class=\"node\">\n",
       "<title>6</title>\n",
       "<polygon fill=\"none\" stroke=\"black\" points=\"206,-52 161,-52 161,-35 206,-35 206,-52\"/>\n",
       "<text text-anchor=\"middle\" x=\"183.5\" y=\"-41\" font-family=\"Monospace\" font-size=\"10.00\">0/0.33</text>\n",
       "</g>\n",
       "<!-- 1&#45;&gt;6 -->\n",
       "<g id=\"edge6\" class=\"edge\">\n",
       "<title>1&#45;&gt;6</title>\n",
       "<path fill=\"none\" stroke=\"black\" d=\"M119.39,-43.5C131.18,-43.5 145.76,-43.5 157.94,-43.5\"/>\n",
       "<polygon fill=\"black\" stroke=\"black\" points=\"157.98,-44.55 160.98,-43.5 157.98,-42.45 157.98,-44.55\"/>\n",
       "<text text-anchor=\"middle\" x=\"140\" y=\"-46.3\" font-family=\"Monospace\" font-size=\"9.00\">#</text>\n",
       "</g>\n",
       "<!-- 3 -->\n",
       "<g id=\"node4\" class=\"node\">\n",
       "<title>3</title>\n",
       "<polygon fill=\"none\" stroke=\"black\" points=\"206,-17 161,-17 161,0 206,0 206,-17\"/>\n",
       "<text text-anchor=\"middle\" x=\"183.5\" y=\"-6\" font-family=\"Monospace\" font-size=\"10.00\">0/0.33</text>\n",
       "</g>\n",
       "<!-- 2&#45;&gt;3 -->\n",
       "<g id=\"edge3\" class=\"edge\">\n",
       "<title>2&#45;&gt;3</title>\n",
       "<path fill=\"none\" stroke=\"black\" d=\"M119.39,-8.5C131.18,-8.5 145.76,-8.5 157.94,-8.5\"/>\n",
       "<polygon fill=\"black\" stroke=\"black\" points=\"157.98,-9.55 160.98,-8.5 157.98,-7.45 157.98,-9.55\"/>\n",
       "<text text-anchor=\"middle\" x=\"140\" y=\"-11.3\" font-family=\"Monospace\" font-size=\"9.00\">#</text>\n",
       "</g>\n",
       "<!-- 4 -->\n",
       "<g id=\"node5\" class=\"node\">\n",
       "<title>4</title>\n",
       "<polygon fill=\"none\" stroke=\"black\" points=\"293,-17 248,-17 248,0 293,0 293,-17\"/>\n",
       "<text text-anchor=\"middle\" x=\"270.5\" y=\"-6\" font-family=\"Monospace\" font-size=\"10.00\">0/0.33</text>\n",
       "</g>\n",
       "<!-- 3&#45;&gt;4 -->\n",
       "<g id=\"edge4\" class=\"edge\">\n",
       "<title>3&#45;&gt;4</title>\n",
       "<path fill=\"none\" stroke=\"black\" d=\"M206.39,-8.5C218.18,-8.5 232.76,-8.5 244.94,-8.5\"/>\n",
       "<polygon fill=\"black\" stroke=\"black\" points=\"244.98,-9.55 247.98,-8.5 244.98,-7.45 244.98,-9.55\"/>\n",
       "<text text-anchor=\"middle\" x=\"227\" y=\"-11.3\" font-family=\"Monospace\" font-size=\"9.00\">▪</text>\n",
       "</g>\n",
       "<!-- 8 -->\n",
       "<g id=\"node9\" class=\"node\">\n",
       "<title>8</title>\n",
       "<polygon fill=\"none\" stroke=\"black\" points=\"293,-87 248,-87 248,-70 293,-70 293,-87\"/>\n",
       "<text text-anchor=\"middle\" x=\"270.5\" y=\"-76\" font-family=\"Monospace\" font-size=\"10.00\">0/0.33</text>\n",
       "</g>\n",
       "<!-- 5&#45;&gt;8 -->\n",
       "<g id=\"edge8\" class=\"edge\">\n",
       "<title>5&#45;&gt;8</title>\n",
       "<path fill=\"none\" stroke=\"black\" d=\"M206.39,-78.5C218.18,-78.5 232.76,-78.5 244.94,-78.5\"/>\n",
       "<polygon fill=\"black\" stroke=\"black\" points=\"244.98,-79.55 247.98,-78.5 244.98,-77.45 244.98,-79.55\"/>\n",
       "<text text-anchor=\"middle\" x=\"227\" y=\"-81.3\" font-family=\"Monospace\" font-size=\"9.00\">#</text>\n",
       "</g>\n",
       "<!-- 7 -->\n",
       "<g id=\"node8\" class=\"node\">\n",
       "<title>7</title>\n",
       "<polygon fill=\"none\" stroke=\"black\" points=\"293,-52 248,-52 248,-35 293,-35 293,-52\"/>\n",
       "<text text-anchor=\"middle\" x=\"270.5\" y=\"-41\" font-family=\"Monospace\" font-size=\"10.00\">0/0.33</text>\n",
       "</g>\n",
       "<!-- 6&#45;&gt;7 -->\n",
       "<g id=\"edge7\" class=\"edge\">\n",
       "<title>6&#45;&gt;7</title>\n",
       "<path fill=\"none\" stroke=\"black\" d=\"M206.39,-43.5C218.18,-43.5 232.76,-43.5 244.94,-43.5\"/>\n",
       "<polygon fill=\"black\" stroke=\"black\" points=\"244.98,-44.55 247.98,-43.5 244.98,-42.45 244.98,-44.55\"/>\n",
       "<text text-anchor=\"middle\" x=\"227\" y=\"-46.3\" font-family=\"Monospace\" font-size=\"9.00\">▪</text>\n",
       "</g>\n",
       "<!-- 9 -->\n",
       "<g id=\"node10\" class=\"node\">\n",
       "<title>9</title>\n",
       "<polygon fill=\"none\" stroke=\"black\" points=\"380,-87 335,-87 335,-70 380,-70 380,-87\"/>\n",
       "<text text-anchor=\"middle\" x=\"357.5\" y=\"-76\" font-family=\"Monospace\" font-size=\"10.00\">0/0.33</text>\n",
       "</g>\n",
       "<!-- 8&#45;&gt;9 -->\n",
       "<g id=\"edge9\" class=\"edge\">\n",
       "<title>8&#45;&gt;9</title>\n",
       "<path fill=\"none\" stroke=\"black\" d=\"M293.39,-78.5C305.18,-78.5 319.76,-78.5 331.94,-78.5\"/>\n",
       "<polygon fill=\"black\" stroke=\"black\" points=\"331.98,-79.55 334.98,-78.5 331.98,-77.45 331.98,-79.55\"/>\n",
       "<text text-anchor=\"middle\" x=\"314\" y=\"-81.3\" font-family=\"Monospace\" font-size=\"9.00\">▪</text>\n",
       "</g>\n",
       "</g>\n",
       "</svg>\n",
       "</td> </tr></table>"
      ],
      "text/plain": [
       "<IPython.core.display.HTML object>"
      ]
     },
     "metadata": {},
     "output_type": "display_data"
    }
   ],
   "source": [
    "D_chunks, tracer_aligned_chunks = generation_tree(a_lm, chunked=True)\n",
    "display_table([[D_chunks, tracer_aligned_chunks]])"
   ]
  },
  {
   "cell_type": "markdown",
   "id": "3963cbc2-4f8d-4ce1-99de-2afddf25361b",
   "metadata": {},
   "source": [
    "The following WFST simulates the BPE's desire to create chunk from character sequences. (For correctness, we will require `tokens` to be both prefix closed and closed under last character substitution, as it ensures that no string is lost.)"
   ]
  },
  {
   "cell_type": "code",
   "execution_count": 61,
   "id": "26923635-68fe-4390-8f87-690ca184a791",
   "metadata": {},
   "outputs": [
    {
     "data": {
      "image/svg+xml": [
       "<?xml version=\"1.0\" encoding=\"UTF-8\" standalone=\"no\"?>\n",
       "<!DOCTYPE svg PUBLIC \"-//W3C//DTD SVG 1.1//EN\"\n",
       " \"http://www.w3.org/Graphics/SVG/1.1/DTD/svg11.dtd\">\n",
       "<!-- Generated by graphviz version 2.43.0 (0)\n",
       " -->\n",
       "<!-- Title: %3 Pages: 1 -->\n",
       "<svg width=\"627pt\" height=\"175pt\"\n",
       " viewBox=\"0.00 0.00 626.67 174.78\" xmlns=\"http://www.w3.org/2000/svg\" xmlns:xlink=\"http://www.w3.org/1999/xlink\">\n",
       "<g id=\"graph0\" class=\"graph\" transform=\"scale(1 1) rotate(0) translate(4 170.78)\">\n",
       "<title>%3</title>\n",
       "<polygon fill=\"white\" stroke=\"transparent\" points=\"-4,4 -4,-170.78 622.67,-170.78 622.67,4 -4,4\"/>\n",
       "<!-- start_0 -->\n",
       "<g id=\"node1\" class=\"node\">\n",
       "<title>start_0</title>\n",
       "<ellipse fill=\"black\" stroke=\"black\" cx=\"0\" cy=\"-80\" rx=\"0\" ry=\"0\"/>\n",
       "</g>\n",
       "<!-- 0 -->\n",
       "<g id=\"node2\" class=\"node\">\n",
       "<title>0</title>\n",
       "<ellipse fill=\"none\" stroke=\"black\" cx=\"49.78\" cy=\"-80\" rx=\"7.56\" ry=\"7.56\"/>\n",
       "<text text-anchor=\"middle\" x=\"49.78\" y=\"-77.5\" font-family=\"Monospace\" font-size=\"10.00\"> </text>\n",
       "</g>\n",
       "<!-- start_0&#45;&gt;0 -->\n",
       "<g id=\"edge1\" class=\"edge\">\n",
       "<title>start_0&#45;&gt;0</title>\n",
       "<path fill=\"none\" stroke=\"black\" d=\"M1.14,-80C3.07,-80 25.11,-80 38.52,-80\"/>\n",
       "<polygon fill=\"black\" stroke=\"black\" points=\"38.73,-81.05 41.73,-80 38.73,-78.95 38.73,-81.05\"/>\n",
       "<text text-anchor=\"middle\" x=\"21\" y=\"-82.8\" font-family=\"Monospace\" font-size=\"9.00\">1</text>\n",
       "</g>\n",
       "<!-- 2 -->\n",
       "<g id=\"node4\" class=\"node\">\n",
       "<title>2</title>\n",
       "<ellipse fill=\"none\" stroke=\"black\" cx=\"165.33\" cy=\"-155\" rx=\"7.56\" ry=\"7.56\"/>\n",
       "<text text-anchor=\"middle\" x=\"165.33\" y=\"-152.5\" font-family=\"Monospace\" font-size=\"10.00\"> </text>\n",
       "</g>\n",
       "<!-- 0&#45;&gt;2 -->\n",
       "<g id=\"edge3\" class=\"edge\">\n",
       "<title>0&#45;&gt;2</title>\n",
       "<path fill=\"none\" stroke=\"black\" d=\"M52.89,-87.15C56.16,-97.04 63.38,-114.81 75.56,-125 99.19,-144.77 136.44,-151.71 154.23,-153.98\"/>\n",
       "<polygon fill=\"black\" stroke=\"black\" points=\"154.41,-155.06 157.52,-154.37 154.66,-152.97 154.41,-155.06\"/>\n",
       "<text text-anchor=\"middle\" x=\"107.56\" y=\"-153.8\" font-family=\"Monospace\" font-size=\"9.00\">(&#39;a&#39;, &#39;&#39;)/1</text>\n",
       "</g>\n",
       "<!-- 3 -->\n",
       "<g id=\"node5\" class=\"node\">\n",
       "<title>3</title>\n",
       "<ellipse fill=\"none\" stroke=\"black\" cx=\"165.33\" cy=\"-117\" rx=\"7.56\" ry=\"7.56\"/>\n",
       "<text text-anchor=\"middle\" x=\"165.33\" y=\"-114.5\" font-family=\"Monospace\" font-size=\"10.00\"> </text>\n",
       "</g>\n",
       "<!-- 0&#45;&gt;3 -->\n",
       "<g id=\"edge4\" class=\"edge\">\n",
       "<title>0&#45;&gt;3</title>\n",
       "<path fill=\"none\" stroke=\"black\" d=\"M56.71,-83.59C61.63,-86.44 68.86,-90.38 75.56,-93 103.15,-103.82 137.4,-111.57 154.15,-115.01\"/>\n",
       "<polygon fill=\"black\" stroke=\"black\" points=\"154.11,-116.07 157.26,-115.64 154.53,-114.01 154.11,-116.07\"/>\n",
       "<text text-anchor=\"middle\" x=\"107.56\" y=\"-113.8\" font-family=\"Monospace\" font-size=\"9.00\">(&#39;#&#39;, &#39;&#39;)/1</text>\n",
       "</g>\n",
       "<!-- 4 -->\n",
       "<g id=\"node6\" class=\"node\">\n",
       "<title>4</title>\n",
       "<ellipse fill=\"none\" stroke=\"black\" cx=\"165.33\" cy=\"-80\" rx=\"7.56\" ry=\"7.56\"/>\n",
       "<text text-anchor=\"middle\" x=\"165.33\" y=\"-77.5\" font-family=\"Monospace\" font-size=\"10.00\"> </text>\n",
       "</g>\n",
       "<!-- 0&#45;&gt;4 -->\n",
       "<g id=\"edge5\" class=\"edge\">\n",
       "<title>0&#45;&gt;4</title>\n",
       "<path fill=\"none\" stroke=\"black\" d=\"M57.88,-80C77.41,-80 131.95,-80 154.44,-80\"/>\n",
       "<polygon fill=\"black\" stroke=\"black\" points=\"154.52,-81.05 157.52,-80 154.52,-78.95 154.52,-81.05\"/>\n",
       "<text text-anchor=\"middle\" x=\"107.56\" y=\"-82.8\" font-family=\"Monospace\" font-size=\"9.00\">(&#39;▪&#39;, &#39;&#39;)/1</text>\n",
       "</g>\n",
       "<!-- 5 -->\n",
       "<g id=\"node7\" class=\"node\">\n",
       "<title>5</title>\n",
       "<ellipse fill=\"none\" stroke=\"black\" cx=\"165.33\" cy=\"-41\" rx=\"7.56\" ry=\"7.56\"/>\n",
       "<text text-anchor=\"middle\" x=\"165.33\" y=\"-38.5\" font-family=\"Monospace\" font-size=\"10.00\"> </text>\n",
       "</g>\n",
       "<!-- 0&#45;&gt;5 -->\n",
       "<g id=\"edge6\" class=\"edge\">\n",
       "<title>0&#45;&gt;5</title>\n",
       "<path fill=\"none\" stroke=\"black\" d=\"M56.68,-76.13C61.58,-73.05 68.81,-68.81 75.56,-66 103,-54.58 137.32,-46.58 154.12,-43.04\"/>\n",
       "<polygon fill=\"black\" stroke=\"black\" points=\"154.51,-44.03 157.24,-42.39 154.08,-41.97 154.51,-44.03\"/>\n",
       "<text text-anchor=\"middle\" x=\"107.56\" y=\"-68.8\" font-family=\"Monospace\" font-size=\"9.00\">(&#39;aa&#39;, &#39;&#39;)/1</text>\n",
       "</g>\n",
       "<!-- 1 -->\n",
       "<g id=\"node3\" class=\"node\">\n",
       "<title>1</title>\n",
       "<ellipse fill=\"none\" stroke=\"black\" cx=\"568.89\" cy=\"-70\" rx=\"7.56\" ry=\"7.56\"/>\n",
       "<text text-anchor=\"middle\" x=\"568.89\" y=\"-67.5\" font-family=\"Monospace\" font-size=\"10.00\"> </text>\n",
       "</g>\n",
       "<!-- 1&#45;&gt;0 -->\n",
       "<g id=\"edge16\" class=\"edge\">\n",
       "<title>1&#45;&gt;0</title>\n",
       "<path fill=\"none\" stroke=\"black\" d=\"M564.32,-63.51C560.09,-56.38 552.44,-45 543.11,-38 506.24,-10.34 492.71,0 446.61,0 164.33,0 164.33,0 164.33,0 120.68,0 108.45,-13.3 75.56,-42 66.47,-49.93 59.38,-61.98 55.16,-70.37\"/>\n",
       "<polygon fill=\"black\" stroke=\"black\" points=\"54.11,-70.13 53.73,-73.29 56,-71.05 54.11,-70.13\"/>\n",
       "<text text-anchor=\"middle\" x=\"296.11\" y=\"-2.8\" font-family=\"Monospace\" font-size=\"9.00\">(&#39;&#39;, &#39;&#39;)/1</text>\n",
       "</g>\n",
       "<!-- stop_1 -->\n",
       "<g id=\"node13\" class=\"node\">\n",
       "<title>stop_1</title>\n",
       "<ellipse fill=\"black\" stroke=\"black\" cx=\"618.67\" cy=\"-70\" rx=\"0\" ry=\"0\"/>\n",
       "</g>\n",
       "<!-- 1&#45;&gt;stop_1 -->\n",
       "<g id=\"edge2\" class=\"edge\">\n",
       "<title>1&#45;&gt;stop_1</title>\n",
       "<path fill=\"none\" stroke=\"black\" d=\"M576.94,-70C587.4,-70 606.63,-70 614.34,-70\"/>\n",
       "<polygon fill=\"black\" stroke=\"black\" points=\"614.59,-71.05 617.59,-70 614.59,-68.95 614.59,-71.05\"/>\n",
       "<text text-anchor=\"middle\" x=\"597.67\" y=\"-72.8\" font-family=\"Monospace\" font-size=\"9.00\">1</text>\n",
       "</g>\n",
       "<!-- 6 -->\n",
       "<g id=\"node8\" class=\"node\">\n",
       "<title>6</title>\n",
       "<ellipse fill=\"none\" stroke=\"black\" cx=\"372.11\" cy=\"-159\" rx=\"7.56\" ry=\"7.56\"/>\n",
       "<text text-anchor=\"middle\" x=\"372.11\" y=\"-156.5\" font-family=\"Monospace\" font-size=\"10.00\"> </text>\n",
       "</g>\n",
       "<!-- 2&#45;&gt;6 -->\n",
       "<g id=\"edge7\" class=\"edge\">\n",
       "<title>2&#45;&gt;6</title>\n",
       "<path fill=\"none\" stroke=\"black\" d=\"M173.15,-155.13C203.27,-155.72 324.57,-158.09 360.83,-158.8\"/>\n",
       "<polygon fill=\"black\" stroke=\"black\" points=\"361.04,-159.85 364.06,-158.86 361.08,-157.75 361.04,-159.85\"/>\n",
       "<text text-anchor=\"middle\" x=\"220.11\" y=\"-158.8\" font-family=\"Monospace\" font-size=\"9.00\">(&#39;&#39;, &#39;a&#39;)/1</text>\n",
       "</g>\n",
       "<!-- 7 -->\n",
       "<g id=\"node9\" class=\"node\">\n",
       "<title>7</title>\n",
       "<ellipse fill=\"none\" stroke=\"black\" cx=\"372.11\" cy=\"-116\" rx=\"7.56\" ry=\"7.56\"/>\n",
       "<text text-anchor=\"middle\" x=\"372.11\" y=\"-113.5\" font-family=\"Monospace\" font-size=\"10.00\"> </text>\n",
       "</g>\n",
       "<!-- 3&#45;&gt;7 -->\n",
       "<g id=\"edge9\" class=\"edge\">\n",
       "<title>3&#45;&gt;7</title>\n",
       "<path fill=\"none\" stroke=\"black\" d=\"M173.15,-116.97C203.27,-116.82 324.57,-116.23 360.83,-116.05\"/>\n",
       "<polygon fill=\"black\" stroke=\"black\" points=\"361.07,-117.1 364.06,-116.03 361.06,-115 361.07,-117.1\"/>\n",
       "<text text-anchor=\"middle\" x=\"220.11\" y=\"-118.8\" font-family=\"Monospace\" font-size=\"9.00\">(&#39;&#39;, &#39;#&#39;)/1</text>\n",
       "</g>\n",
       "<!-- 8 -->\n",
       "<g id=\"node10\" class=\"node\">\n",
       "<title>8</title>\n",
       "<ellipse fill=\"none\" stroke=\"black\" cx=\"445.61\" cy=\"-70\" rx=\"7.56\" ry=\"7.56\"/>\n",
       "<text text-anchor=\"middle\" x=\"445.61\" y=\"-67.5\" font-family=\"Monospace\" font-size=\"10.00\"> </text>\n",
       "</g>\n",
       "<!-- 4&#45;&gt;8 -->\n",
       "<g id=\"edge11\" class=\"edge\">\n",
       "<title>4&#45;&gt;8</title>\n",
       "<path fill=\"none\" stroke=\"black\" d=\"M173.21,-79.75C210.65,-78.41 389.85,-71.97 434.51,-70.36\"/>\n",
       "<polygon fill=\"black\" stroke=\"black\" points=\"434.76,-71.4 437.73,-70.25 434.69,-69.31 434.76,-71.4\"/>\n",
       "<text text-anchor=\"middle\" x=\"296.11\" y=\"-78.8\" font-family=\"Monospace\" font-size=\"9.00\">(&#39;&#39;, &#39;▪&#39;)/1</text>\n",
       "</g>\n",
       "<!-- 9 -->\n",
       "<g id=\"node11\" class=\"node\">\n",
       "<title>9</title>\n",
       "<ellipse fill=\"none\" stroke=\"black\" cx=\"296.11\" cy=\"-36\" rx=\"7.56\" ry=\"7.56\"/>\n",
       "<text text-anchor=\"middle\" x=\"296.11\" y=\"-33.5\" font-family=\"Monospace\" font-size=\"10.00\"> </text>\n",
       "</g>\n",
       "<!-- 5&#45;&gt;9 -->\n",
       "<g id=\"edge13\" class=\"edge\">\n",
       "<title>5&#45;&gt;9</title>\n",
       "<path fill=\"none\" stroke=\"black\" d=\"M173.26,-40.73C194.66,-39.9 259.81,-37.37 285.01,-36.39\"/>\n",
       "<polygon fill=\"black\" stroke=\"black\" points=\"285.2,-37.44 288.15,-36.27 285.12,-35.34 285.2,-37.44\"/>\n",
       "<text text-anchor=\"middle\" x=\"220.11\" y=\"-42.8\" font-family=\"Monospace\" font-size=\"9.00\">(&#39;&#39;, &#39;a&#39;)/1</text>\n",
       "</g>\n",
       "<!-- 6&#45;&gt;1 -->\n",
       "<g id=\"edge8\" class=\"edge\">\n",
       "<title>6&#45;&gt;1</title>\n",
       "<path fill=\"none\" stroke=\"black\" d=\"M379.97,-158.38C404.43,-155.88 488.86,-144.65 543.11,-105 552.21,-98.35 559.22,-87.32 563.42,-79.42\"/>\n",
       "<polygon fill=\"black\" stroke=\"black\" points=\"564.4,-79.81 564.84,-76.67 562.53,-78.85 564.4,-79.81\"/>\n",
       "<text text-anchor=\"middle\" x=\"445.61\" y=\"-154.8\" font-family=\"Monospace\" font-size=\"9.00\">(&#39;&#39;, &#39;&#39;)/1</text>\n",
       "</g>\n",
       "<!-- 7&#45;&gt;1 -->\n",
       "<g id=\"edge10\" class=\"edge\">\n",
       "<title>7&#45;&gt;1</title>\n",
       "<path fill=\"none\" stroke=\"black\" d=\"M380.13,-115.51C403.78,-113.67 482.46,-106.15 543.11,-84 548.8,-81.92 554.72,-78.63 559.35,-75.75\"/>\n",
       "<polygon fill=\"black\" stroke=\"black\" points=\"560.08,-76.53 562.05,-74.03 558.95,-74.76 560.08,-76.53\"/>\n",
       "<text text-anchor=\"middle\" x=\"445.61\" y=\"-113.8\" font-family=\"Monospace\" font-size=\"9.00\">(&#39;&#39;, &#39;&#39;)/1</text>\n",
       "</g>\n",
       "<!-- 8&#45;&gt;1 -->\n",
       "<g id=\"edge12\" class=\"edge\">\n",
       "<title>8&#45;&gt;1</title>\n",
       "<path fill=\"none\" stroke=\"black\" d=\"M453.48,-70C473.83,-70 533.85,-70 557.83,-70\"/>\n",
       "<polygon fill=\"black\" stroke=\"black\" points=\"558.1,-71.05 561.1,-70 558.1,-68.95 558.1,-71.05\"/>\n",
       "<text text-anchor=\"middle\" x=\"516.61\" y=\"-72.8\" font-family=\"Monospace\" font-size=\"9.00\">(&#39;&#39;, &#39;&#39;)/1</text>\n",
       "</g>\n",
       "<!-- 10 -->\n",
       "<g id=\"node12\" class=\"node\">\n",
       "<title>10</title>\n",
       "<ellipse fill=\"none\" stroke=\"black\" cx=\"445.61\" cy=\"-36\" rx=\"7.56\" ry=\"7.56\"/>\n",
       "<text text-anchor=\"middle\" x=\"445.61\" y=\"-33.5\" font-family=\"Monospace\" font-size=\"10.00\"> </text>\n",
       "</g>\n",
       "<!-- 9&#45;&gt;10 -->\n",
       "<g id=\"edge14\" class=\"edge\">\n",
       "<title>9&#45;&gt;10</title>\n",
       "<path fill=\"none\" stroke=\"black\" d=\"M304.23,-36C328.23,-36 406.27,-36 434.39,-36\"/>\n",
       "<polygon fill=\"black\" stroke=\"black\" points=\"434.57,-37.05 437.57,-36 434.57,-34.95 434.57,-37.05\"/>\n",
       "<text text-anchor=\"middle\" x=\"372.11\" y=\"-38.8\" font-family=\"Monospace\" font-size=\"9.00\">(&#39;&#39;, &#39;a&#39;)/1</text>\n",
       "</g>\n",
       "<!-- 10&#45;&gt;1 -->\n",
       "<g id=\"edge15\" class=\"edge\">\n",
       "<title>10&#45;&gt;1</title>\n",
       "<path fill=\"none\" stroke=\"black\" d=\"M453.36,-36.67C469.38,-38.42 510.76,-43.85 543.11,-56 548.78,-58.13 554.7,-61.43 559.33,-64.29\"/>\n",
       "<polygon fill=\"black\" stroke=\"black\" points=\"558.94,-65.28 562.04,-66 560.06,-63.51 558.94,-65.28\"/>\n",
       "<text text-anchor=\"middle\" x=\"516.61\" y=\"-58.8\" font-family=\"Monospace\" font-size=\"9.00\">(&#39;&#39;, &#39;&#39;)/1</text>\n",
       "</g>\n",
       "</g>\n",
       "</svg>\n"
      ],
      "text/plain": [
       "WFSA(11 states)"
      ]
     },
     "execution_count": 61,
     "metadata": {},
     "output_type": "execute_result"
    }
   ],
   "source": [
    "B = bpe_wfst((w, list(w)) for w in tokens)\n",
    "B"
   ]
  },
  {
   "cell_type": "markdown",
   "id": "f56323c4-8648-493e-801c-016e42198618",
   "metadata": {},
   "source": [
    "We can push some specific character strings throught the transducer to see all of the ways that can be chunked."
   ]
  },
  {
   "cell_type": "code",
   "execution_count": 62,
   "id": "6231ba0e-162e-44b7-ae18-22104a176b8a",
   "metadata": {},
   "outputs": [
    {
     "data": {
      "image/svg+xml": [
       "<?xml version=\"1.0\" encoding=\"UTF-8\" standalone=\"no\"?>\n",
       "<!DOCTYPE svg PUBLIC \"-//W3C//DTD SVG 1.1//EN\"\n",
       " \"http://www.w3.org/Graphics/SVG/1.1/DTD/svg11.dtd\">\n",
       "<!-- Generated by graphviz version 2.43.0 (0)\n",
       " -->\n",
       "<!-- Title: %3 Pages: 1 -->\n",
       "<svg width=\"323pt\" height=\"57pt\"\n",
       " viewBox=\"0.00 0.00 323.11 56.78\" xmlns=\"http://www.w3.org/2000/svg\" xmlns:xlink=\"http://www.w3.org/1999/xlink\">\n",
       "<g id=\"graph0\" class=\"graph\" transform=\"scale(1 1) rotate(0) translate(4 52.78)\">\n",
       "<title>%3</title>\n",
       "<polygon fill=\"white\" stroke=\"transparent\" points=\"-4,4 -4,-52.78 319.11,-52.78 319.11,4 -4,4\"/>\n",
       "<!-- start_(0, (0, &#39;&#39;)) -->\n",
       "<g id=\"node1\" class=\"node\">\n",
       "<title>start_(0, (0, &#39;&#39;))</title>\n",
       "<ellipse fill=\"black\" stroke=\"black\" cx=\"0\" cy=\"-29.78\" rx=\"0\" ry=\"0\"/>\n",
       "</g>\n",
       "<!-- 0 -->\n",
       "<g id=\"node2\" class=\"node\">\n",
       "<title>0</title>\n",
       "<ellipse fill=\"none\" stroke=\"black\" cx=\"49.78\" cy=\"-29.78\" rx=\"7.56\" ry=\"7.56\"/>\n",
       "<text text-anchor=\"middle\" x=\"49.78\" y=\"-27.28\" font-family=\"Monospace\" font-size=\"10.00\"> </text>\n",
       "</g>\n",
       "<!-- start_(0, (0, &#39;&#39;))&#45;&gt;0 -->\n",
       "<g id=\"edge1\" class=\"edge\">\n",
       "<title>start_(0, (0, &#39;&#39;))&#45;&gt;0</title>\n",
       "<path fill=\"none\" stroke=\"black\" d=\"M1.14,-29.78C3.07,-29.78 25.11,-29.78 38.52,-29.78\"/>\n",
       "<polygon fill=\"black\" stroke=\"black\" points=\"38.73,-30.83 41.73,-29.78 38.73,-28.73 38.73,-30.83\"/>\n",
       "<text text-anchor=\"middle\" x=\"21\" y=\"-32.58\" font-family=\"Monospace\" font-size=\"9.00\">1</text>\n",
       "</g>\n",
       "<!-- 1 -->\n",
       "<g id=\"node3\" class=\"node\">\n",
       "<title>1</title>\n",
       "<ellipse fill=\"none\" stroke=\"black\" cx=\"194.56\" cy=\"-29.78\" rx=\"7.56\" ry=\"7.56\"/>\n",
       "<text text-anchor=\"middle\" x=\"194.56\" y=\"-27.28\" font-family=\"Monospace\" font-size=\"10.00\"> </text>\n",
       "</g>\n",
       "<!-- 0&#45;&gt;1 -->\n",
       "<g id=\"edge7\" class=\"edge\">\n",
       "<title>0&#45;&gt;1</title>\n",
       "<path fill=\"none\" stroke=\"black\" d=\"M57.64,-31.91C62.57,-33.32 69.4,-35.04 75.56,-35.78 90.93,-37.61 91.61,-41.83 165.56,-34.78 171.58,-34.2 178.25,-33.03 183.58,-31.97\"/>\n",
       "<polygon fill=\"black\" stroke=\"black\" points=\"183.97,-32.96 186.7,-31.33 183.55,-30.9 183.97,-32.96\"/>\n",
       "<text text-anchor=\"middle\" x=\"120.56\" y=\"-41.58\" font-family=\"Monospace\" font-size=\"9.00\">aa/1</text>\n",
       "</g>\n",
       "<!-- 2 -->\n",
       "<g id=\"node4\" class=\"node\">\n",
       "<title>2</title>\n",
       "<ellipse fill=\"none\" stroke=\"black\" cx=\"120.56\" cy=\"-7.78\" rx=\"7.56\" ry=\"7.56\"/>\n",
       "<text text-anchor=\"middle\" x=\"120.56\" y=\"-5.28\" font-family=\"Monospace\" font-size=\"10.00\"> </text>\n",
       "</g>\n",
       "<!-- 0&#45;&gt;2 -->\n",
       "<g id=\"edge6\" class=\"edge\">\n",
       "<title>0&#45;&gt;2</title>\n",
       "<path fill=\"none\" stroke=\"black\" d=\"M57.37,-27.67C69.5,-23.79 95.41,-15.5 109.65,-10.95\"/>\n",
       "<polygon fill=\"black\" stroke=\"black\" points=\"110.14,-11.89 112.68,-9.98 109.5,-9.89 110.14,-11.89\"/>\n",
       "<text text-anchor=\"middle\" x=\"83.56\" y=\"-24.58\" font-family=\"Monospace\" font-size=\"9.00\">a/1</text>\n",
       "</g>\n",
       "<!-- 3 -->\n",
       "<g id=\"node5\" class=\"node\">\n",
       "<title>3</title>\n",
       "<ellipse fill=\"none\" stroke=\"black\" cx=\"265.33\" cy=\"-9.78\" rx=\"7.56\" ry=\"7.56\"/>\n",
       "<text text-anchor=\"middle\" x=\"265.33\" y=\"-7.28\" font-family=\"Monospace\" font-size=\"10.00\"> </text>\n",
       "</g>\n",
       "<!-- 1&#45;&gt;3 -->\n",
       "<g id=\"edge3\" class=\"edge\">\n",
       "<title>1&#45;&gt;3</title>\n",
       "<path fill=\"none\" stroke=\"black\" d=\"M202.15,-27.86C214.28,-24.33 240.18,-16.8 254.43,-12.66\"/>\n",
       "<polygon fill=\"black\" stroke=\"black\" points=\"254.87,-13.62 257.45,-11.78 254.28,-11.61 254.87,-13.62\"/>\n",
       "<text text-anchor=\"middle\" x=\"231.56\" y=\"-24.58\" font-family=\"Monospace\" font-size=\"9.00\">a/1</text>\n",
       "</g>\n",
       "<!-- 2&#45;&gt;1 -->\n",
       "<g id=\"edge4\" class=\"edge\">\n",
       "<title>2&#45;&gt;1</title>\n",
       "<path fill=\"none\" stroke=\"black\" d=\"M128.2,-9.81C140.89,-13.69 168.63,-22.16 183.56,-26.72\"/>\n",
       "<polygon fill=\"black\" stroke=\"black\" points=\"183.54,-27.82 186.72,-27.69 184.16,-25.81 183.54,-27.82\"/>\n",
       "<text text-anchor=\"middle\" x=\"157.56\" y=\"-23.58\" font-family=\"Monospace\" font-size=\"9.00\">a/1</text>\n",
       "</g>\n",
       "<!-- 2&#45;&gt;3 -->\n",
       "<g id=\"edge5\" class=\"edge\">\n",
       "<title>2&#45;&gt;3</title>\n",
       "<path fill=\"none\" stroke=\"black\" d=\"M128.53,-6.8C142.92,-4.91 176.97,-1.08 205.56,-2.78 222.81,-3.8 242.76,-6.5 254.42,-8.23\"/>\n",
       "<polygon fill=\"black\" stroke=\"black\" points=\"254.36,-9.29 257.48,-8.69 254.67,-7.21 254.36,-9.29\"/>\n",
       "<text text-anchor=\"middle\" x=\"194.56\" y=\"-5.58\" font-family=\"Monospace\" font-size=\"9.00\">aa/1</text>\n",
       "</g>\n",
       "<!-- stop_(1, (2, &#39;aaa&#39;)) -->\n",
       "<g id=\"node6\" class=\"node\">\n",
       "<title>stop_(1, (2, &#39;aaa&#39;))</title>\n",
       "<ellipse fill=\"black\" stroke=\"black\" cx=\"315.11\" cy=\"-9.78\" rx=\"0\" ry=\"0\"/>\n",
       "</g>\n",
       "<!-- 3&#45;&gt;stop_(1, (2, &#39;aaa&#39;)) -->\n",
       "<g id=\"edge2\" class=\"edge\">\n",
       "<title>3&#45;&gt;stop_(1, (2, &#39;aaa&#39;))</title>\n",
       "<path fill=\"none\" stroke=\"black\" d=\"M273.38,-9.78C283.85,-9.78 303.07,-9.78 310.78,-9.78\"/>\n",
       "<polygon fill=\"black\" stroke=\"black\" points=\"311.03,-10.83 314.03,-9.78 311.03,-8.73 311.03,-10.83\"/>\n",
       "<text text-anchor=\"middle\" x=\"294.11\" y=\"-12.58\" font-family=\"Monospace\" font-size=\"9.00\">1</text>\n",
       "</g>\n",
       "</g>\n",
       "</svg>\n"
      ],
      "text/plain": [
       "WFSA(4 states)"
      ]
     },
     "execution_count": 62,
     "metadata": {},
     "output_type": "execute_result"
    }
   ],
   "source": [
    "(B @ FST.from_string('aaa', Float)).trim.project(0).epsremove.trim"
   ]
  },
  {
   "cell_type": "code",
   "execution_count": 63,
   "id": "910c1f6b-ecee-465c-893b-facf6f72fe4b",
   "metadata": {},
   "outputs": [
    {
     "data": {
      "text/plain": [
       "3.0"
      ]
     },
     "execution_count": 63,
     "metadata": {},
     "output_type": "execute_result"
    }
   ],
   "source": [
    "(B @ FST.from_string('aaa', Float)).trim.project(0).epsremove.trim.total_weight()"
   ]
  },
  {
   "cell_type": "code",
   "execution_count": 64,
   "id": "2ba45118-21aa-4b82-bc56-552d19bdd234",
   "metadata": {},
   "outputs": [],
   "source": [
    "b_lm = CFGLM(locally_normalize((B @ c_lm.cfg).trim(), tol=1e-100).trim())"
   ]
  },
  {
   "cell_type": "code",
   "execution_count": 65,
   "id": "441e9331-76e1-414e-943b-f59a1452bc44",
   "metadata": {},
   "outputs": [],
   "source": [
    "L = b_lm.cfg.language(10)"
   ]
  },
  {
   "cell_type": "code",
   "execution_count": 66,
   "id": "ba60fba6-01a0-49e7-b1fa-2802482f8afe",
   "metadata": {},
   "outputs": [
    {
     "data": {
      "text/html": [
       "<table><tr><td><div style=\"font-family: Monospace;\"><table><tr style=\"font-weight: bold;\"><td>key</td><td>value</td></tr><tr><td><pre>(&#x27;a&#x27;, &#x27;#&#x27;)</pre></td><td><pre>0.3333333333333333</pre></td> </tr><tr><td><pre>(&#x27;a&#x27;, &#x27;a&#x27;, &#x27;#&#x27;)</pre></td><td><pre>0.3333333333333333</pre></td> </tr><tr><td><pre>(&#x27;aa&#x27;, &#x27;#&#x27;)</pre></td><td><pre>0.3333333333333333</pre></td> </tr></table></div></td><td><?xml version=\"1.0\" encoding=\"UTF-8\" standalone=\"no\"?>\n",
       "<!DOCTYPE svg PUBLIC \"-//W3C//DTD SVG 1.1//EN\"\n",
       " \"http://www.w3.org/Graphics/SVG/1.1/DTD/svg11.dtd\">\n",
       "<!-- Generated by graphviz version 2.43.0 (0)\n",
       " -->\n",
       "<!-- Title: %3 Pages: 1 -->\n",
       "<svg width=\"388pt\" height=\"97pt\"\n",
       " viewBox=\"0.00 0.00 388.00 96.50\" xmlns=\"http://www.w3.org/2000/svg\" xmlns:xlink=\"http://www.w3.org/1999/xlink\">\n",
       "<g id=\"graph0\" class=\"graph\" transform=\"scale(1 1) rotate(0) translate(4 92.5)\">\n",
       "<title>%3</title>\n",
       "<polygon fill=\"white\" stroke=\"transparent\" points=\"-4,4 -4,-92.5 384,-92.5 384,4 -4,4\"/>\n",
       "<!-- 0 -->\n",
       "<g id=\"node1\" class=\"node\">\n",
       "<title>0</title>\n",
       "<polygon fill=\"none\" stroke=\"black\" points=\"27,-34 0,-34 0,-17 27,-17 27,-34\"/>\n",
       "<text text-anchor=\"middle\" x=\"13.5\" y=\"-23\" font-family=\"Monospace\" font-size=\"10.00\">0/1</text>\n",
       "</g>\n",
       "<!-- 1 -->\n",
       "<g id=\"node2\" class=\"node\">\n",
       "<title>1</title>\n",
       "<polygon fill=\"none\" stroke=\"black\" points=\"119,-52 74,-52 74,-35 119,-35 119,-52\"/>\n",
       "<text text-anchor=\"middle\" x=\"96.5\" y=\"-41\" font-family=\"Monospace\" font-size=\"10.00\">0/0.67</text>\n",
       "</g>\n",
       "<!-- 0&#45;&gt;1 -->\n",
       "<g id=\"edge1\" class=\"edge\">\n",
       "<title>0&#45;&gt;1</title>\n",
       "<path fill=\"none\" stroke=\"black\" d=\"M27.16,-28.31C38.74,-30.89 56.21,-34.77 70.59,-37.96\"/>\n",
       "<polygon fill=\"black\" stroke=\"black\" points=\"70.64,-39.05 73.79,-38.68 71.09,-37 70.64,-39.05\"/>\n",
       "<text text-anchor=\"middle\" x=\"50.5\" y=\"-37.3\" font-family=\"Monospace\" font-size=\"9.00\">a</text>\n",
       "</g>\n",
       "<!-- 2 -->\n",
       "<g id=\"node3\" class=\"node\">\n",
       "<title>2</title>\n",
       "<polygon fill=\"none\" stroke=\"black\" points=\"119,-17 74,-17 74,0 119,0 119,-17\"/>\n",
       "<text text-anchor=\"middle\" x=\"96.5\" y=\"-6\" font-family=\"Monospace\" font-size=\"10.00\">0/0.33</text>\n",
       "</g>\n",
       "<!-- 0&#45;&gt;2 -->\n",
       "<g id=\"edge2\" class=\"edge\">\n",
       "<title>0&#45;&gt;2</title>\n",
       "<path fill=\"none\" stroke=\"black\" d=\"M27.1,-17.83C32.43,-14.98 38.82,-12.07 45,-10.5 53.04,-8.46 62.02,-7.66 70.16,-7.45\"/>\n",
       "<polygon fill=\"black\" stroke=\"black\" points=\"70.61,-8.49 73.59,-7.4 70.57,-6.39 70.61,-8.49\"/>\n",
       "<text text-anchor=\"middle\" x=\"50.5\" y=\"-13.3\" font-family=\"Monospace\" font-size=\"9.00\">aa</text>\n",
       "</g>\n",
       "<!-- 5 -->\n",
       "<g id=\"node6\" class=\"node\">\n",
       "<title>5</title>\n",
       "<polygon fill=\"none\" stroke=\"black\" points=\"206,-87 161,-87 161,-70 206,-70 206,-87\"/>\n",
       "<text text-anchor=\"middle\" x=\"183.5\" y=\"-76\" font-family=\"Monospace\" font-size=\"10.00\">0/0.33</text>\n",
       "</g>\n",
       "<!-- 1&#45;&gt;5 -->\n",
       "<g id=\"edge5\" class=\"edge\">\n",
       "<title>1&#45;&gt;5</title>\n",
       "<path fill=\"none\" stroke=\"black\" d=\"M118.51,-52.15C130.76,-57.2 146.24,-63.57 158.91,-68.79\"/>\n",
       "<polygon fill=\"black\" stroke=\"black\" points=\"158.56,-69.78 161.73,-69.95 159.36,-67.83 158.56,-69.78\"/>\n",
       "<text text-anchor=\"middle\" x=\"140\" y=\"-65.3\" font-family=\"Monospace\" font-size=\"9.00\">a</text>\n",
       "</g>\n",
       "<!-- 6 -->\n",
       "<g id=\"node7\" class=\"node\">\n",
       "<title>6</title>\n",
       "<polygon fill=\"none\" stroke=\"black\" points=\"206,-52 161,-52 161,-35 206,-35 206,-52\"/>\n",
       "<text text-anchor=\"middle\" x=\"183.5\" y=\"-41\" font-family=\"Monospace\" font-size=\"10.00\">0/0.33</text>\n",
       "</g>\n",
       "<!-- 1&#45;&gt;6 -->\n",
       "<g id=\"edge6\" class=\"edge\">\n",
       "<title>1&#45;&gt;6</title>\n",
       "<path fill=\"none\" stroke=\"black\" d=\"M119.39,-43.5C131.18,-43.5 145.76,-43.5 157.94,-43.5\"/>\n",
       "<polygon fill=\"black\" stroke=\"black\" points=\"157.98,-44.55 160.98,-43.5 157.98,-42.45 157.98,-44.55\"/>\n",
       "<text text-anchor=\"middle\" x=\"140\" y=\"-46.3\" font-family=\"Monospace\" font-size=\"9.00\">#</text>\n",
       "</g>\n",
       "<!-- 3 -->\n",
       "<g id=\"node4\" class=\"node\">\n",
       "<title>3</title>\n",
       "<polygon fill=\"none\" stroke=\"black\" points=\"206,-17 161,-17 161,0 206,0 206,-17\"/>\n",
       "<text text-anchor=\"middle\" x=\"183.5\" y=\"-6\" font-family=\"Monospace\" font-size=\"10.00\">0/0.33</text>\n",
       "</g>\n",
       "<!-- 2&#45;&gt;3 -->\n",
       "<g id=\"edge3\" class=\"edge\">\n",
       "<title>2&#45;&gt;3</title>\n",
       "<path fill=\"none\" stroke=\"black\" d=\"M119.39,-8.5C131.18,-8.5 145.76,-8.5 157.94,-8.5\"/>\n",
       "<polygon fill=\"black\" stroke=\"black\" points=\"157.98,-9.55 160.98,-8.5 157.98,-7.45 157.98,-9.55\"/>\n",
       "<text text-anchor=\"middle\" x=\"140\" y=\"-11.3\" font-family=\"Monospace\" font-size=\"9.00\">#</text>\n",
       "</g>\n",
       "<!-- 4 -->\n",
       "<g id=\"node5\" class=\"node\">\n",
       "<title>4</title>\n",
       "<polygon fill=\"none\" stroke=\"black\" points=\"293,-17 248,-17 248,0 293,0 293,-17\"/>\n",
       "<text text-anchor=\"middle\" x=\"270.5\" y=\"-6\" font-family=\"Monospace\" font-size=\"10.00\">0/0.33</text>\n",
       "</g>\n",
       "<!-- 3&#45;&gt;4 -->\n",
       "<g id=\"edge4\" class=\"edge\">\n",
       "<title>3&#45;&gt;4</title>\n",
       "<path fill=\"none\" stroke=\"black\" d=\"M206.39,-8.5C218.18,-8.5 232.76,-8.5 244.94,-8.5\"/>\n",
       "<polygon fill=\"black\" stroke=\"black\" points=\"244.98,-9.55 247.98,-8.5 244.98,-7.45 244.98,-9.55\"/>\n",
       "<text text-anchor=\"middle\" x=\"227\" y=\"-11.3\" font-family=\"Monospace\" font-size=\"9.00\">▪</text>\n",
       "</g>\n",
       "<!-- 8 -->\n",
       "<g id=\"node9\" class=\"node\">\n",
       "<title>8</title>\n",
       "<polygon fill=\"none\" stroke=\"black\" points=\"293,-87 248,-87 248,-70 293,-70 293,-87\"/>\n",
       "<text text-anchor=\"middle\" x=\"270.5\" y=\"-76\" font-family=\"Monospace\" font-size=\"10.00\">0/0.33</text>\n",
       "</g>\n",
       "<!-- 5&#45;&gt;8 -->\n",
       "<g id=\"edge8\" class=\"edge\">\n",
       "<title>5&#45;&gt;8</title>\n",
       "<path fill=\"none\" stroke=\"black\" d=\"M206.39,-78.5C218.18,-78.5 232.76,-78.5 244.94,-78.5\"/>\n",
       "<polygon fill=\"black\" stroke=\"black\" points=\"244.98,-79.55 247.98,-78.5 244.98,-77.45 244.98,-79.55\"/>\n",
       "<text text-anchor=\"middle\" x=\"227\" y=\"-81.3\" font-family=\"Monospace\" font-size=\"9.00\">#</text>\n",
       "</g>\n",
       "<!-- 7 -->\n",
       "<g id=\"node8\" class=\"node\">\n",
       "<title>7</title>\n",
       "<polygon fill=\"none\" stroke=\"black\" points=\"293,-52 248,-52 248,-35 293,-35 293,-52\"/>\n",
       "<text text-anchor=\"middle\" x=\"270.5\" y=\"-41\" font-family=\"Monospace\" font-size=\"10.00\">0/0.33</text>\n",
       "</g>\n",
       "<!-- 6&#45;&gt;7 -->\n",
       "<g id=\"edge7\" class=\"edge\">\n",
       "<title>6&#45;&gt;7</title>\n",
       "<path fill=\"none\" stroke=\"black\" d=\"M206.39,-43.5C218.18,-43.5 232.76,-43.5 244.94,-43.5\"/>\n",
       "<polygon fill=\"black\" stroke=\"black\" points=\"244.98,-44.55 247.98,-43.5 244.98,-42.45 244.98,-44.55\"/>\n",
       "<text text-anchor=\"middle\" x=\"227\" y=\"-46.3\" font-family=\"Monospace\" font-size=\"9.00\">▪</text>\n",
       "</g>\n",
       "<!-- 9 -->\n",
       "<g id=\"node10\" class=\"node\">\n",
       "<title>9</title>\n",
       "<polygon fill=\"none\" stroke=\"black\" points=\"380,-87 335,-87 335,-70 380,-70 380,-87\"/>\n",
       "<text text-anchor=\"middle\" x=\"357.5\" y=\"-76\" font-family=\"Monospace\" font-size=\"10.00\">0/0.33</text>\n",
       "</g>\n",
       "<!-- 8&#45;&gt;9 -->\n",
       "<g id=\"edge9\" class=\"edge\">\n",
       "<title>8&#45;&gt;9</title>\n",
       "<path fill=\"none\" stroke=\"black\" d=\"M293.39,-78.5C305.18,-78.5 319.76,-78.5 331.94,-78.5\"/>\n",
       "<polygon fill=\"black\" stroke=\"black\" points=\"331.98,-79.55 334.98,-78.5 331.98,-77.45 331.98,-79.55\"/>\n",
       "<text text-anchor=\"middle\" x=\"314\" y=\"-81.3\" font-family=\"Monospace\" font-size=\"9.00\">▪</text>\n",
       "</g>\n",
       "</g>\n",
       "</svg>\n",
       "</td> </tr></table>"
      ],
      "text/plain": [
       "<IPython.core.display.HTML object>"
      ]
     },
     "metadata": {},
     "output_type": "display_data"
    }
   ],
   "source": [
    "display_table([generation_tree(b_lm)])"
   ]
  },
  {
   "cell_type": "code",
   "execution_count": 67,
   "id": "58c7eee2-4785-4000-b3de-53a592661d05",
   "metadata": {},
   "outputs": [],
   "source": [
    "PL = L.project(lambda y: ''.join(y).strip(EOS))"
   ]
  },
  {
   "cell_type": "code",
   "execution_count": 68,
   "id": "25465c7e-124f-4fbd-a33a-6da3db9ee1d9",
   "metadata": {},
   "outputs": [
    {
     "data": {
      "text/html": [
       "<table><tr style=\"font-weight: bold;\"><td>target</td><td>composition</td><td>grafting-approximation</td></tr><tr><td><div style=\"font-family: Monospace;\"><table><tr style=\"font-weight: bold;\"><td>key</td><td>value</td></tr><tr><td><pre>a#</pre></td><td><pre>0.5</pre></td> </tr><tr><td><pre>aa#</pre></td><td><pre>0.5</pre></td> </tr></table></div></td><td><div style=\"font-family: Monospace;\"><table><tr style=\"font-weight: bold;\"><td>key</td><td>value</td></tr><tr><td><pre>a#</pre></td><td><pre>0.3333333333333333</pre></td> </tr><tr><td><pre>aa#</pre></td><td><pre>0.6666666666666666</pre></td> </tr></table></div></td><td><div style=\"font-family: Monospace;\"><table><tr style=\"font-weight: bold;\"><td>key</td><td>value</td></tr><tr><td><pre>a#</pre></td><td><pre>0.3333333333333333</pre></td> </tr><tr><td><pre>aa#</pre></td><td><pre>0.6666666666666666</pre></td> </tr></table></div></td> </tr></table>"
      ],
      "text/plain": [
       "<IPython.core.display.HTML object>"
      ]
     },
     "metadata": {},
     "output_type": "display_data"
    }
   ],
   "source": [
    "display_table([[C.project(''.join), A, PL]], headings=['target', 'composition', 'grafting-approximation'])"
   ]
  },
  {
   "cell_type": "code",
   "execution_count": null,
   "id": "3e6501ac-ad5a-40e3-bd55-340a4d079718",
   "metadata": {},
   "outputs": [],
   "source": []
  }
 ],
 "metadata": {
  "kernelspec": {
   "display_name": "Python 3 (ipykernel)",
   "language": "python",
   "name": "python3"
  },
  "language_info": {
   "codemirror_mode": {
    "name": "ipython",
    "version": 3
   },
   "file_extension": ".py",
   "mimetype": "text/x-python",
   "name": "python",
   "nbconvert_exporter": "python",
   "pygments_lexer": "ipython3",
   "version": "3.10.12"
  }
 },
 "nbformat": 4,
 "nbformat_minor": 5
}
