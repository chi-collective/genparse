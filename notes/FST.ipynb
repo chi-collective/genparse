{
 "cells": [
  {
   "cell_type": "markdown",
   "id": "d2d8769c-975b-4ca8-a4ba-5d7ca9dec447",
   "metadata": {},
   "source": [
    "# Token Alignment"
   ]
  },
  {
   "cell_type": "code",
   "execution_count": 1,
   "id": "3d9fb828-28ae-4f5f-8fb7-214f325dfa49",
   "metadata": {},
   "outputs": [],
   "source": [
    "%load_ext autoreload\n",
    "%autoreload 2"
   ]
  },
  {
   "cell_type": "code",
   "execution_count": 2,
   "id": "988df6c8-bbb1-4a56-96c0-50ed95639b28",
   "metadata": {},
   "outputs": [],
   "source": [
    "from arsenal import iterview, timeit\n",
    "from collections import Counter\n",
    "from IPython.display import HTML\n",
    "from genparse import CFG, FST, EPSILON, Float, CFGLM, add_EOS, prefix_transducer\n",
    "from genparse.cfglm import locally_normalize, EOS, pcfg_check, explode, add_EOS, CharAlignedCFGLM\n",
    "from genparse.util import LarkStuff, hf_tokenizer, about, show_grammar, normalize, bpe_wfst, display_table, bpe2term_approx, char2bpe_wfst\n",
    "from genparse.inference import TraceSWOR\n",
    "from genparse.steer import generation_tree"
   ]
  },
  {
   "cell_type": "markdown",
   "id": "9896cdb0-2de9-4437-bb3e-e1ea804ee184",
   "metadata": {},
   "source": [
    "## Accounting for BPE's Tokenization Ambiguity with Transduction "
   ]
  },
  {
   "cell_type": "code",
   "execution_count": 46,
   "id": "c84e285f-399d-48d1-bc66-2739a1398289",
   "metadata": {},
   "outputs": [
    {
     "name": "stdout",
     "output_type": "stream",
     "text": [
      "\u001b[0;32m✔\u001b[0m PCFG\n"
     ]
    }
   ],
   "source": [
    "lark_stuff = LarkStuff(r\"\"\"\n",
    "\n",
    "start: NAME\n",
    "\n",
    "NAME: /(a|b)*c/\n",
    "\n",
    "\"\"\")\n",
    "foo = lark_stuff.char_cfg(decay=.1)\n",
    "foo = locally_normalize(foo)\n",
    "assert len(foo.trim()) > 0\n",
    "pcfg_check(foo)"
   ]
  },
  {
   "cell_type": "code",
   "execution_count": 47,
   "id": "bb1b890e-af73-4986-8a7c-505834886378",
   "metadata": {},
   "outputs": [
    {
     "data": {
      "text/html": [
       "<pre style=\"width: fit-content; text-align: left; border: thin solid black; padding: 0.5em;\">Grammar {\n",
       "  1.0: 0 → NAME\n",
       "  1.0: NAME → ('NAME', 0)\n",
       "  1.0: ('NAME', 1) → \n",
       "  0.03333333333333333: ('NAME', 0) → a ('NAME', 0)\n",
       "  0.03333333333333333: ('NAME', 0) → b ('NAME', 0)\n",
       "  0.9333333333576115: ('NAME', 0) → c ('NAME', 1)\n",
       "}</pre>"
      ],
      "text/plain": [
       "Grammar {\n",
       "  1.0: 0 → NAME\n",
       "  1.0: NAME → ('NAME', 0)\n",
       "  1.0: ('NAME', 1) → \n",
       "  0.03333333333333333: ('NAME', 0) → a ('NAME', 0)\n",
       "  0.03333333333333333: ('NAME', 0) → b ('NAME', 0)\n",
       "  0.9333333333576115: ('NAME', 0) → c ('NAME', 1)\n",
       "}"
      ]
     },
     "execution_count": 47,
     "metadata": {},
     "output_type": "execute_result"
    }
   ],
   "source": [
    "foo"
   ]
  },
  {
   "cell_type": "code",
   "execution_count": 48,
   "id": "0c6210c0-59f6-452b-99c7-a0cb33b7df9a",
   "metadata": {},
   "outputs": [
    {
     "data": {
      "text/html": [
       "<div style=\"font-family: Monospace;\"><table><tr style=\"font-weight: bold;\"><td>key</td><td>value</td></tr><tr><td><pre>(&#x27;c&#x27;,)</pre></td><td><pre>0.9333333333576115</pre></td> </tr><tr><td><pre>(&#x27;b&#x27;, &#x27;c&#x27;)</pre></td><td><pre>0.031111111111920383</pre></td> </tr><tr><td><pre>(&#x27;b&#x27;, &#x27;b&#x27;, &#x27;c&#x27;)</pre></td><td><pre>0.0010370370370640127</pre></td> </tr><tr><td><pre>(&#x27;b&#x27;, &#x27;a&#x27;, &#x27;c&#x27;)</pre></td><td><pre>0.0010370370370640127</pre></td> </tr><tr><td><pre>(&#x27;a&#x27;, &#x27;c&#x27;)</pre></td><td><pre>0.031111111111920383</pre></td> </tr><tr><td><pre>(&#x27;a&#x27;, &#x27;b&#x27;, &#x27;c&#x27;)</pre></td><td><pre>0.0010370370370640127</pre></td> </tr><tr><td><pre>(&#x27;a&#x27;, &#x27;a&#x27;, &#x27;c&#x27;)</pre></td><td><pre>0.0010370370370640127</pre></td> </tr></table></div>"
      ],
      "text/plain": [
       "{('c',): 0.9333333333576115, ('b', 'c'): 0.031111111111920383, ('b', 'b', 'c'): 0.0010370370370640127, ('b', 'a', 'c'): 0.0010370370370640127, ('a', 'c'): 0.031111111111920383, ('a', 'b', 'c'): 0.0010370370370640127, ('a', 'a', 'c'): 0.0010370370370640127}"
      ]
     },
     "execution_count": 48,
     "metadata": {},
     "output_type": "execute_result"
    }
   ],
   "source": [
    "foo.cnf.language(3)"
   ]
  },
  {
   "cell_type": "code",
   "execution_count": 49,
   "id": "2a198bd4-ab33-429b-a5c8-46487410a4f6",
   "metadata": {},
   "outputs": [],
   "source": [
    "lm = CFGLM(add_EOS(foo))"
   ]
  },
  {
   "cell_type": "code",
   "execution_count": 50,
   "id": "b7ae3d3c-02d9-47f7-a025-0c934c42c35c",
   "metadata": {},
   "outputs": [
    {
     "name": "stdout",
     "output_type": "stream",
     "text": [
      "0 (('c',), 0.9333333333333406)\n",
      "1 (('b', 'c'), 0.03111111111110799)\n",
      "2 (('b', 'a', 'c'), 0.001037037037036821)\n",
      "3 (('a', 'c'), 0.03111111111110799)\n",
      "4 (('a', 'b', 'c'), 0.001037037037036821)\n",
      "5 (('a', 'a', 'c'), 0.001037037037036821)\n",
      "6 (('b', 'b', 'c'), 0.001037037037036821)\n",
      "7 (('b', 'b', 'b', 'c'), 3.456790123455696e-05)\n",
      "8 (('b', 'a', 'a', 'c'), 3.456790123455696e-05)\n",
      "9 (('a', 'a', 'a', 'c'), 3.456790123455696e-05)\n",
      "10 (('b', 'a', 'b', 'c'), 3.456790123455696e-05)\n",
      "11 (('b', 'b', 'a', 'c'), 3.456790123455696e-05)\n",
      "12 (('a', 'a', 'b', 'b', 'c'), 1.1522633744851077e-06)\n",
      "13 (('a', 'b', 'a', 'a', 'b', 'c'), 3.840877914949944e-08)\n",
      "14 (('a', 'b', 'b', 'c'), 3.456790123455696e-05)\n"
     ]
    }
   ],
   "source": [
    "trace = TraceSWOR()\n",
    "for t in range(15):\n",
    "    with trace:\n",
    "        print(t, lm.sample(draw=trace))"
   ]
  },
  {
   "cell_type": "code",
   "execution_count": 82,
   "id": "4e46c45e-00c4-4d81-93a4-875c042bc092",
   "metadata": {},
   "outputs": [
    {
     "name": "stdout",
     "output_type": "stream",
     "text": [
      "states: 97312, trim: 97312\n"
     ]
    }
   ],
   "source": [
    "H = hf_tokenizer()\n",
    "about(H.fst)"
   ]
  },
  {
   "cell_type": "markdown",
   "id": "9cb7dea7-788c-4002-bac9-7f7249852acb",
   "metadata": {},
   "source": [
    "Let's shrink the BPE transducer down to something managable by limiting it alphabet "
   ]
  },
  {
   "cell_type": "code",
   "execution_count": 83,
   "id": "ec6f862e-9096-4ede-ba35-c632bdf2a1e5",
   "metadata": {},
   "outputs": [],
   "source": [
    "#b2c = H.fst.prune_to_alphabet(None, foo.V | {''}).renumber\n",
    "#about(b2c)"
   ]
  },
  {
   "cell_type": "code",
   "execution_count": 84,
   "id": "c5ba0052-1e7c-479a-9ff7-d0b3b3d20921",
   "metadata": {},
   "outputs": [],
   "source": [
    "b2c = H.fst.prune_to_alphabet(None, foo.V | {''}).renumber"
   ]
  },
  {
   "cell_type": "markdown",
   "id": "9b03ac6d-e5bd-4b66-8516-5b01eb56e7b5",
   "metadata": {},
   "source": [
    "We can look at our little language's strings thru the lense of their possible BPE sequences.  Notice that these strings are ambiguously mapped to BPE --- meaning that there are many BPE sequences that would give rise to the same string!"
   ]
  },
  {
   "cell_type": "code",
   "execution_count": 85,
   "id": "63583038-d333-48a6-8e53-4403df9b9194",
   "metadata": {},
   "outputs": [
    {
     "data": {
      "text/html": [
       "<hr/>"
      ],
      "text/plain": [
       "<IPython.core.display.HTML object>"
      ]
     },
     "metadata": {},
     "output_type": "display_data"
    },
    {
     "name": "stdout",
     "output_type": "stream",
     "text": [
      "('c',)\n",
      "total weight of BPE sequences (i.e., ambiguity): 1.0\n"
     ]
    },
    {
     "data": {
      "image/svg+xml": [
       "<?xml version=\"1.0\" encoding=\"UTF-8\" standalone=\"no\"?>\n",
       "<!DOCTYPE svg PUBLIC \"-//W3C//DTD SVG 1.1//EN\"\n",
       " \"http://www.w3.org/Graphics/SVG/1.1/DTD/svg11.dtd\">\n",
       "<!-- Generated by graphviz version 2.43.0 (0)\n",
       " -->\n",
       "<!-- Title: %3 Pages: 1 -->\n",
       "<svg width=\"181pt\" height=\"26pt\"\n",
       " viewBox=\"0.00 0.00 181.11 25.78\" xmlns=\"http://www.w3.org/2000/svg\" xmlns:xlink=\"http://www.w3.org/1999/xlink\">\n",
       "<g id=\"graph0\" class=\"graph\" transform=\"scale(1 1) rotate(0) translate(4 21.78)\">\n",
       "<title>%3</title>\n",
       "<polygon fill=\"white\" stroke=\"transparent\" points=\"-4,4 -4,-21.78 177.11,-21.78 177.11,4 -4,4\"/>\n",
       "<!-- start_(4, (0, (&#39;c&#39;,))) -->\n",
       "<g id=\"node1\" class=\"node\">\n",
       "<title>start_(4, (0, (&#39;c&#39;,)))</title>\n",
       "<ellipse fill=\"black\" stroke=\"black\" cx=\"0\" cy=\"-7.78\" rx=\"0\" ry=\"0\"/>\n",
       "</g>\n",
       "<!-- 0 -->\n",
       "<g id=\"node2\" class=\"node\">\n",
       "<title>0</title>\n",
       "<ellipse fill=\"none\" stroke=\"black\" cx=\"49.78\" cy=\"-7.78\" rx=\"7.56\" ry=\"7.56\"/>\n",
       "<text text-anchor=\"middle\" x=\"49.78\" y=\"-5.28\" font-family=\"Monospace\" font-size=\"10.00\"> </text>\n",
       "</g>\n",
       "<!-- start_(4, (0, (&#39;c&#39;,)))&#45;&gt;0 -->\n",
       "<g id=\"edge1\" class=\"edge\">\n",
       "<title>start_(4, (0, (&#39;c&#39;,)))&#45;&gt;0</title>\n",
       "<path fill=\"none\" stroke=\"black\" d=\"M1.14,-7.78C3.07,-7.78 25.11,-7.78 38.52,-7.78\"/>\n",
       "<polygon fill=\"black\" stroke=\"black\" points=\"38.73,-8.83 41.73,-7.78 38.73,-6.73 38.73,-8.83\"/>\n",
       "<text text-anchor=\"middle\" x=\"21\" y=\"-10.58\" font-family=\"Monospace\" font-size=\"9.00\">1</text>\n",
       "</g>\n",
       "<!-- 1 -->\n",
       "<g id=\"node3\" class=\"node\">\n",
       "<title>1</title>\n",
       "<ellipse fill=\"none\" stroke=\"black\" cx=\"123.33\" cy=\"-7.78\" rx=\"7.56\" ry=\"7.56\"/>\n",
       "<text text-anchor=\"middle\" x=\"123.33\" y=\"-5.28\" font-family=\"Monospace\" font-size=\"10.00\"> </text>\n",
       "</g>\n",
       "<!-- 0&#45;&gt;1 -->\n",
       "<g id=\"edge3\" class=\"edge\">\n",
       "<title>0&#45;&gt;1</title>\n",
       "<path fill=\"none\" stroke=\"black\" d=\"M57.64,-7.78C70.26,-7.78 97.21,-7.78 112.03,-7.78\"/>\n",
       "<polygon fill=\"black\" stroke=\"black\" points=\"112.18,-8.83 115.18,-7.78 112.18,-6.73 112.18,-8.83\"/>\n",
       "<text text-anchor=\"middle\" x=\"86.56\" y=\"-10.58\" font-family=\"Monospace\" font-size=\"9.00\">66/1</text>\n",
       "</g>\n",
       "<!-- stop_(1, (2, (&#39;c&#39;,))) -->\n",
       "<g id=\"node4\" class=\"node\">\n",
       "<title>stop_(1, (2, (&#39;c&#39;,)))</title>\n",
       "<ellipse fill=\"black\" stroke=\"black\" cx=\"173.11\" cy=\"-7.78\" rx=\"0\" ry=\"0\"/>\n",
       "</g>\n",
       "<!-- 1&#45;&gt;stop_(1, (2, (&#39;c&#39;,))) -->\n",
       "<g id=\"edge2\" class=\"edge\">\n",
       "<title>1&#45;&gt;stop_(1, (2, (&#39;c&#39;,)))</title>\n",
       "<path fill=\"none\" stroke=\"black\" d=\"M131.38,-7.78C141.85,-7.78 161.07,-7.78 168.78,-7.78\"/>\n",
       "<polygon fill=\"black\" stroke=\"black\" points=\"169.03,-8.83 172.03,-7.78 169.03,-6.73 169.03,-8.83\"/>\n",
       "<text text-anchor=\"middle\" x=\"152.11\" y=\"-10.58\" font-family=\"Monospace\" font-size=\"9.00\">1</text>\n",
       "</g>\n",
       "</g>\n",
       "</svg>\n"
      ],
      "text/plain": [
       "WFSA(2 states)"
      ]
     },
     "metadata": {},
     "output_type": "display_data"
    },
    {
     "name": "stdout",
     "output_type": "stream",
     "text": [
      "\n"
     ]
    },
    {
     "data": {
      "text/html": [
       "<hr/>"
      ],
      "text/plain": [
       "<IPython.core.display.HTML object>"
      ]
     },
     "metadata": {},
     "output_type": "display_data"
    },
    {
     "name": "stdout",
     "output_type": "stream",
     "text": [
      "('b', 'c')\n",
      "total weight of BPE sequences (i.e., ambiguity): 2.0\n"
     ]
    },
    {
     "data": {
      "image/svg+xml": [
       "<?xml version=\"1.0\" encoding=\"UTF-8\" standalone=\"no\"?>\n",
       "<!DOCTYPE svg PUBLIC \"-//W3C//DTD SVG 1.1//EN\"\n",
       " \"http://www.w3.org/Graphics/SVG/1.1/DTD/svg11.dtd\">\n",
       "<!-- Generated by graphviz version 2.43.0 (0)\n",
       " -->\n",
       "<!-- Title: %3 Pages: 1 -->\n",
       "<svg width=\"270pt\" height=\"60pt\"\n",
       " viewBox=\"0.00 0.00 269.67 59.78\" xmlns=\"http://www.w3.org/2000/svg\" xmlns:xlink=\"http://www.w3.org/1999/xlink\">\n",
       "<g id=\"graph0\" class=\"graph\" transform=\"scale(1 1) rotate(0) translate(4 55.78)\">\n",
       "<title>%3</title>\n",
       "<polygon fill=\"white\" stroke=\"transparent\" points=\"-4,4 -4,-55.78 265.67,-55.78 265.67,4 -4,4\"/>\n",
       "<!-- start_(10, (0, (&#39;b&#39;, &#39;c&#39;))) -->\n",
       "<g id=\"node1\" class=\"node\">\n",
       "<title>start_(10, (0, (&#39;b&#39;, &#39;c&#39;)))</title>\n",
       "<ellipse fill=\"black\" stroke=\"black\" cx=\"49.78\" cy=\"-41.78\" rx=\"0\" ry=\"0\"/>\n",
       "</g>\n",
       "<!-- 0 -->\n",
       "<g id=\"node2\" class=\"node\">\n",
       "<title>0</title>\n",
       "<ellipse fill=\"none\" stroke=\"black\" cx=\"123.33\" cy=\"-41.78\" rx=\"7.56\" ry=\"7.56\"/>\n",
       "<text text-anchor=\"middle\" x=\"123.33\" y=\"-39.28\" font-family=\"Monospace\" font-size=\"10.00\"> </text>\n",
       "</g>\n",
       "<!-- start_(10, (0, (&#39;b&#39;, &#39;c&#39;)))&#45;&gt;0 -->\n",
       "<g id=\"edge1\" class=\"edge\">\n",
       "<title>start_(10, (0, (&#39;b&#39;, &#39;c&#39;)))&#45;&gt;0</title>\n",
       "<path fill=\"none\" stroke=\"black\" d=\"M50.83,-41.78C52.48,-41.78 92.99,-41.78 112.29,-41.78\"/>\n",
       "<polygon fill=\"black\" stroke=\"black\" points=\"112.42,-42.83 115.42,-41.78 112.42,-40.73 112.42,-42.83\"/>\n",
       "<text text-anchor=\"middle\" x=\"86.56\" y=\"-44.58\" font-family=\"Monospace\" font-size=\"9.00\">1</text>\n",
       "</g>\n",
       "<!-- 2 -->\n",
       "<g id=\"node5\" class=\"node\">\n",
       "<title>2</title>\n",
       "<ellipse fill=\"none\" stroke=\"black\" cx=\"211.89\" cy=\"-23.78\" rx=\"7.56\" ry=\"7.56\"/>\n",
       "<text text-anchor=\"middle\" x=\"211.89\" y=\"-21.28\" font-family=\"Monospace\" font-size=\"10.00\"> </text>\n",
       "</g>\n",
       "<!-- 0&#45;&gt;2 -->\n",
       "<g id=\"edge4\" class=\"edge\">\n",
       "<title>0&#45;&gt;2</title>\n",
       "<path fill=\"none\" stroke=\"black\" d=\"M131.13,-40.37C146.22,-37.23 182.63,-29.65 200.56,-25.93\"/>\n",
       "<polygon fill=\"black\" stroke=\"black\" points=\"201.17,-26.87 203.89,-25.23 200.74,-24.82 201.17,-26.87\"/>\n",
       "<text text-anchor=\"middle\" x=\"167.61\" y=\"-39.58\" font-family=\"Monospace\" font-size=\"9.00\">15630/1</text>\n",
       "</g>\n",
       "<!-- start_(3, (0, (&#39;b&#39;,))) -->\n",
       "<g id=\"node3\" class=\"node\">\n",
       "<title>start_(3, (0, (&#39;b&#39;,)))</title>\n",
       "<ellipse fill=\"black\" stroke=\"black\" cx=\"0\" cy=\"-7.78\" rx=\"0\" ry=\"0\"/>\n",
       "</g>\n",
       "<!-- 1 -->\n",
       "<g id=\"node4\" class=\"node\">\n",
       "<title>1</title>\n",
       "<ellipse fill=\"none\" stroke=\"black\" cx=\"49.78\" cy=\"-7.78\" rx=\"7.56\" ry=\"7.56\"/>\n",
       "<text text-anchor=\"middle\" x=\"49.78\" y=\"-5.28\" font-family=\"Monospace\" font-size=\"10.00\"> </text>\n",
       "</g>\n",
       "<!-- start_(3, (0, (&#39;b&#39;,)))&#45;&gt;1 -->\n",
       "<g id=\"edge2\" class=\"edge\">\n",
       "<title>start_(3, (0, (&#39;b&#39;,)))&#45;&gt;1</title>\n",
       "<path fill=\"none\" stroke=\"black\" d=\"M1.14,-7.78C3.07,-7.78 25.11,-7.78 38.52,-7.78\"/>\n",
       "<polygon fill=\"black\" stroke=\"black\" points=\"38.73,-8.83 41.73,-7.78 38.73,-6.73 38.73,-8.83\"/>\n",
       "<text text-anchor=\"middle\" x=\"21\" y=\"-10.58\" font-family=\"Monospace\" font-size=\"9.00\">1</text>\n",
       "</g>\n",
       "<!-- 3 -->\n",
       "<g id=\"node6\" class=\"node\">\n",
       "<title>3</title>\n",
       "<ellipse fill=\"none\" stroke=\"black\" cx=\"123.33\" cy=\"-7.78\" rx=\"7.56\" ry=\"7.56\"/>\n",
       "<text text-anchor=\"middle\" x=\"123.33\" y=\"-5.28\" font-family=\"Monospace\" font-size=\"10.00\"> </text>\n",
       "</g>\n",
       "<!-- 1&#45;&gt;3 -->\n",
       "<g id=\"edge5\" class=\"edge\">\n",
       "<title>1&#45;&gt;3</title>\n",
       "<path fill=\"none\" stroke=\"black\" d=\"M57.64,-7.78C70.26,-7.78 97.21,-7.78 112.03,-7.78\"/>\n",
       "<polygon fill=\"black\" stroke=\"black\" points=\"112.18,-8.83 115.18,-7.78 112.18,-6.73 112.18,-8.83\"/>\n",
       "<text text-anchor=\"middle\" x=\"86.56\" y=\"-10.58\" font-family=\"Monospace\" font-size=\"9.00\">65/1</text>\n",
       "</g>\n",
       "<!-- stop_(1, (2, (&#39;b&#39;, &#39;c&#39;))) -->\n",
       "<g id=\"node7\" class=\"node\">\n",
       "<title>stop_(1, (2, (&#39;b&#39;, &#39;c&#39;)))</title>\n",
       "<ellipse fill=\"black\" stroke=\"black\" cx=\"261.67\" cy=\"-23.78\" rx=\"0\" ry=\"0\"/>\n",
       "</g>\n",
       "<!-- 2&#45;&gt;stop_(1, (2, (&#39;b&#39;, &#39;c&#39;))) -->\n",
       "<g id=\"edge3\" class=\"edge\">\n",
       "<title>2&#45;&gt;stop_(1, (2, (&#39;b&#39;, &#39;c&#39;)))</title>\n",
       "<path fill=\"none\" stroke=\"black\" d=\"M219.94,-23.78C230.4,-23.78 249.63,-23.78 257.34,-23.78\"/>\n",
       "<polygon fill=\"black\" stroke=\"black\" points=\"257.59,-24.83 260.59,-23.78 257.59,-22.73 257.59,-24.83\"/>\n",
       "<text text-anchor=\"middle\" x=\"240.67\" y=\"-26.58\" font-family=\"Monospace\" font-size=\"9.00\">1</text>\n",
       "</g>\n",
       "<!-- 3&#45;&gt;2 -->\n",
       "<g id=\"edge6\" class=\"edge\">\n",
       "<title>3&#45;&gt;2</title>\n",
       "<path fill=\"none\" stroke=\"black\" d=\"M131.36,-6.72C143.02,-5.23 166.94,-3.26 186.11,-8.78 192.04,-10.48 197.97,-13.99 202.54,-17.19\"/>\n",
       "<polygon fill=\"black\" stroke=\"black\" points=\"202.16,-18.21 205.2,-19.12 203.39,-16.51 202.16,-18.21\"/>\n",
       "<text text-anchor=\"middle\" x=\"167.61\" y=\"-11.58\" font-family=\"Monospace\" font-size=\"9.00\">66/1</text>\n",
       "</g>\n",
       "</g>\n",
       "</svg>\n"
      ],
      "text/plain": [
       "WFSA(4 states)"
      ]
     },
     "metadata": {},
     "output_type": "display_data"
    },
    {
     "name": "stdout",
     "output_type": "stream",
     "text": [
      "\n"
     ]
    },
    {
     "data": {
      "text/html": [
       "<hr/>"
      ],
      "text/plain": [
       "<IPython.core.display.HTML object>"
      ]
     },
     "metadata": {},
     "output_type": "display_data"
    },
    {
     "name": "stdout",
     "output_type": "stream",
     "text": [
      "('b', 'b', 'c')\n",
      "total weight of BPE sequences (i.e., ambiguity): 3.0\n"
     ]
    },
    {
     "data": {
      "image/svg+xml": [
       "<?xml version=\"1.0\" encoding=\"UTF-8\" standalone=\"no\"?>\n",
       "<!DOCTYPE svg PUBLIC \"-//W3C//DTD SVG 1.1//EN\"\n",
       " \"http://www.w3.org/Graphics/SVG/1.1/DTD/svg11.dtd\">\n",
       "<!-- Generated by graphviz version 2.43.0 (0)\n",
       " -->\n",
       "<!-- Title: %3 Pages: 1 -->\n",
       "<svg width=\"365pt\" height=\"96pt\"\n",
       " viewBox=\"0.00 0.00 364.67 95.78\" xmlns=\"http://www.w3.org/2000/svg\" xmlns:xlink=\"http://www.w3.org/1999/xlink\">\n",
       "<g id=\"graph0\" class=\"graph\" transform=\"scale(1 1) rotate(0) translate(4 91.78)\">\n",
       "<title>%3</title>\n",
       "<polygon fill=\"white\" stroke=\"transparent\" points=\"-4,4 -4,-91.78 360.67,-91.78 360.67,4 -4,4\"/>\n",
       "<!-- start_(9, (0, (&#39;b&#39;, &#39;b&#39;))) -->\n",
       "<g id=\"node1\" class=\"node\">\n",
       "<title>start_(9, (0, (&#39;b&#39;, &#39;b&#39;)))</title>\n",
       "<ellipse fill=\"black\" stroke=\"black\" cx=\"49.78\" cy=\"-77.78\" rx=\"0\" ry=\"0\"/>\n",
       "</g>\n",
       "<!-- 0 -->\n",
       "<g id=\"node2\" class=\"node\">\n",
       "<title>0</title>\n",
       "<ellipse fill=\"none\" stroke=\"black\" cx=\"123.33\" cy=\"-77.78\" rx=\"7.56\" ry=\"7.56\"/>\n",
       "<text text-anchor=\"middle\" x=\"123.33\" y=\"-75.28\" font-family=\"Monospace\" font-size=\"10.00\"> </text>\n",
       "</g>\n",
       "<!-- start_(9, (0, (&#39;b&#39;, &#39;b&#39;)))&#45;&gt;0 -->\n",
       "<g id=\"edge1\" class=\"edge\">\n",
       "<title>start_(9, (0, (&#39;b&#39;, &#39;b&#39;)))&#45;&gt;0</title>\n",
       "<path fill=\"none\" stroke=\"black\" d=\"M50.83,-77.78C52.48,-77.78 92.99,-77.78 112.29,-77.78\"/>\n",
       "<polygon fill=\"black\" stroke=\"black\" points=\"112.42,-78.83 115.42,-77.78 112.42,-76.73 112.42,-78.83\"/>\n",
       "<text text-anchor=\"middle\" x=\"86.56\" y=\"-80.58\" font-family=\"Monospace\" font-size=\"9.00\">1</text>\n",
       "</g>\n",
       "<!-- 2 -->\n",
       "<g id=\"node5\" class=\"node\">\n",
       "<title>2</title>\n",
       "<ellipse fill=\"none\" stroke=\"black\" cx=\"222.61\" cy=\"-43.78\" rx=\"7.56\" ry=\"7.56\"/>\n",
       "<text text-anchor=\"middle\" x=\"222.61\" y=\"-41.28\" font-family=\"Monospace\" font-size=\"10.00\"> </text>\n",
       "</g>\n",
       "<!-- 0&#45;&gt;2 -->\n",
       "<g id=\"edge4\" class=\"edge\">\n",
       "<title>0&#45;&gt;2</title>\n",
       "<path fill=\"none\" stroke=\"black\" d=\"M131.02,-75.44C147.9,-69.54 192.29,-54.03 211.98,-47.15\"/>\n",
       "<polygon fill=\"black\" stroke=\"black\" points=\"212.65,-48.02 215.14,-46.04 211.96,-46.04 212.65,-48.02\"/>\n",
       "<text text-anchor=\"middle\" x=\"167.61\" y=\"-70.58\" font-family=\"Monospace\" font-size=\"9.00\">11848/1</text>\n",
       "</g>\n",
       "<!-- start_(3, (0, (&#39;b&#39;,))) -->\n",
       "<g id=\"node3\" class=\"node\">\n",
       "<title>start_(3, (0, (&#39;b&#39;,)))</title>\n",
       "<ellipse fill=\"black\" stroke=\"black\" cx=\"0\" cy=\"-24.78\" rx=\"0\" ry=\"0\"/>\n",
       "</g>\n",
       "<!-- 1 -->\n",
       "<g id=\"node4\" class=\"node\">\n",
       "<title>1</title>\n",
       "<ellipse fill=\"none\" stroke=\"black\" cx=\"49.78\" cy=\"-24.78\" rx=\"7.56\" ry=\"7.56\"/>\n",
       "<text text-anchor=\"middle\" x=\"49.78\" y=\"-22.28\" font-family=\"Monospace\" font-size=\"10.00\"> </text>\n",
       "</g>\n",
       "<!-- start_(3, (0, (&#39;b&#39;,)))&#45;&gt;1 -->\n",
       "<g id=\"edge2\" class=\"edge\">\n",
       "<title>start_(3, (0, (&#39;b&#39;,)))&#45;&gt;1</title>\n",
       "<path fill=\"none\" stroke=\"black\" d=\"M1.14,-24.78C3.07,-24.78 25.11,-24.78 38.52,-24.78\"/>\n",
       "<polygon fill=\"black\" stroke=\"black\" points=\"38.73,-25.83 41.73,-24.78 38.73,-23.73 38.73,-25.83\"/>\n",
       "<text text-anchor=\"middle\" x=\"21\" y=\"-27.58\" font-family=\"Monospace\" font-size=\"9.00\">1</text>\n",
       "</g>\n",
       "<!-- 3 -->\n",
       "<g id=\"node6\" class=\"node\">\n",
       "<title>3</title>\n",
       "<ellipse fill=\"none\" stroke=\"black\" cx=\"123.33\" cy=\"-43.78\" rx=\"7.56\" ry=\"7.56\"/>\n",
       "<text text-anchor=\"middle\" x=\"123.33\" y=\"-41.28\" font-family=\"Monospace\" font-size=\"10.00\"> </text>\n",
       "</g>\n",
       "<!-- 1&#45;&gt;3 -->\n",
       "<g id=\"edge7\" class=\"edge\">\n",
       "<title>1&#45;&gt;3</title>\n",
       "<path fill=\"none\" stroke=\"black\" d=\"M57.38,-26.53C69.99,-29.88 97.56,-37.2 112.4,-41.14\"/>\n",
       "<polygon fill=\"black\" stroke=\"black\" points=\"112.37,-42.22 115.54,-41.97 112.91,-40.19 112.37,-42.22\"/>\n",
       "<text text-anchor=\"middle\" x=\"86.56\" y=\"-40.58\" font-family=\"Monospace\" font-size=\"9.00\">65/1</text>\n",
       "</g>\n",
       "<!-- 5 -->\n",
       "<g id=\"node8\" class=\"node\">\n",
       "<title>5</title>\n",
       "<ellipse fill=\"none\" stroke=\"black\" cx=\"167.61\" cy=\"-7.78\" rx=\"7.56\" ry=\"7.56\"/>\n",
       "<text text-anchor=\"middle\" x=\"167.61\" y=\"-5.28\" font-family=\"Monospace\" font-size=\"10.00\"> </text>\n",
       "</g>\n",
       "<!-- 1&#45;&gt;5 -->\n",
       "<g id=\"edge6\" class=\"edge\">\n",
       "<title>1&#45;&gt;5</title>\n",
       "<path fill=\"none\" stroke=\"black\" d=\"M57.65,-22.51C62.58,-20.96 69.41,-18.97 75.56,-17.78 104.53,-12.13 139.36,-9.42 156.32,-8.35\"/>\n",
       "<polygon fill=\"black\" stroke=\"black\" points=\"156.54,-9.39 159.47,-8.16 156.41,-7.29 156.54,-9.39\"/>\n",
       "<text text-anchor=\"middle\" x=\"86.56\" y=\"-20.58\" font-family=\"Monospace\" font-size=\"9.00\">65/1</text>\n",
       "</g>\n",
       "<!-- 4 -->\n",
       "<g id=\"node7\" class=\"node\">\n",
       "<title>4</title>\n",
       "<ellipse fill=\"none\" stroke=\"black\" cx=\"306.89\" cy=\"-23.78\" rx=\"7.56\" ry=\"7.56\"/>\n",
       "<text text-anchor=\"middle\" x=\"306.89\" y=\"-21.28\" font-family=\"Monospace\" font-size=\"10.00\"> </text>\n",
       "</g>\n",
       "<!-- 2&#45;&gt;4 -->\n",
       "<g id=\"edge5\" class=\"edge\">\n",
       "<title>2&#45;&gt;4</title>\n",
       "<path fill=\"none\" stroke=\"black\" d=\"M230.35,-42.14C244.74,-38.64 278.57,-30.42 295.65,-26.27\"/>\n",
       "<polygon fill=\"black\" stroke=\"black\" points=\"296.16,-27.22 298.83,-25.49 295.67,-25.18 296.16,-27.22\"/>\n",
       "<text text-anchor=\"middle\" x=\"270.11\" y=\"-38.58\" font-family=\"Monospace\" font-size=\"9.00\">66/1</text>\n",
       "</g>\n",
       "<!-- 3&#45;&gt;2 -->\n",
       "<g id=\"edge8\" class=\"edge\">\n",
       "<title>3&#45;&gt;2</title>\n",
       "<path fill=\"none\" stroke=\"black\" d=\"M131.33,-43.78C148.3,-43.78 191.69,-43.78 211.49,-43.78\"/>\n",
       "<polygon fill=\"black\" stroke=\"black\" points=\"211.68,-44.83 214.68,-43.78 211.68,-42.73 211.68,-44.83\"/>\n",
       "<text text-anchor=\"middle\" x=\"167.61\" y=\"-46.58\" font-family=\"Monospace\" font-size=\"9.00\">65/1</text>\n",
       "</g>\n",
       "<!-- stop_(1, (2, (&#39;b&#39;, &#39;b&#39;, &#39;c&#39;))) -->\n",
       "<g id=\"node9\" class=\"node\">\n",
       "<title>stop_(1, (2, (&#39;b&#39;, &#39;b&#39;, &#39;c&#39;)))</title>\n",
       "<ellipse fill=\"black\" stroke=\"black\" cx=\"356.67\" cy=\"-23.78\" rx=\"0\" ry=\"0\"/>\n",
       "</g>\n",
       "<!-- 4&#45;&gt;stop_(1, (2, (&#39;b&#39;, &#39;b&#39;, &#39;c&#39;))) -->\n",
       "<g id=\"edge3\" class=\"edge\">\n",
       "<title>4&#45;&gt;stop_(1, (2, (&#39;b&#39;, &#39;b&#39;, &#39;c&#39;)))</title>\n",
       "<path fill=\"none\" stroke=\"black\" d=\"M314.94,-23.78C325.4,-23.78 344.63,-23.78 352.34,-23.78\"/>\n",
       "<polygon fill=\"black\" stroke=\"black\" points=\"352.59,-24.83 355.59,-23.78 352.59,-22.73 352.59,-24.83\"/>\n",
       "<text text-anchor=\"middle\" x=\"335.67\" y=\"-26.58\" font-family=\"Monospace\" font-size=\"9.00\">1</text>\n",
       "</g>\n",
       "<!-- 5&#45;&gt;4 -->\n",
       "<g id=\"edge9\" class=\"edge\">\n",
       "<title>5&#45;&gt;4</title>\n",
       "<path fill=\"none\" stroke=\"black\" d=\"M175.61,-8.59C198.2,-11.23 269.26,-19.51 295.78,-22.6\"/>\n",
       "<polygon fill=\"black\" stroke=\"black\" points=\"295.97,-23.68 299.07,-22.98 296.21,-21.59 295.97,-23.68\"/>\n",
       "<text text-anchor=\"middle\" x=\"222.61\" y=\"-19.58\" font-family=\"Monospace\" font-size=\"9.00\">15630/1</text>\n",
       "</g>\n",
       "</g>\n",
       "</svg>\n"
      ],
      "text/plain": [
       "WFSA(6 states)"
      ]
     },
     "metadata": {},
     "output_type": "display_data"
    },
    {
     "name": "stdout",
     "output_type": "stream",
     "text": [
      "\n"
     ]
    },
    {
     "data": {
      "text/html": [
       "<hr/>"
      ],
      "text/plain": [
       "<IPython.core.display.HTML object>"
      ]
     },
     "metadata": {},
     "output_type": "display_data"
    },
    {
     "name": "stdout",
     "output_type": "stream",
     "text": [
      "('b', 'a', 'c')\n",
      "total weight of BPE sequences (i.e., ambiguity): 3.0\n"
     ]
    },
    {
     "data": {
      "image/svg+xml": [
       "<?xml version=\"1.0\" encoding=\"UTF-8\" standalone=\"no\"?>\n",
       "<!DOCTYPE svg PUBLIC \"-//W3C//DTD SVG 1.1//EN\"\n",
       " \"http://www.w3.org/Graphics/SVG/1.1/DTD/svg11.dtd\">\n",
       "<!-- Generated by graphviz version 2.43.0 (0)\n",
       " -->\n",
       "<!-- Title: %3 Pages: 1 -->\n",
       "<svg width=\"350pt\" height=\"96pt\"\n",
       " viewBox=\"0.00 0.00 349.67 95.78\" xmlns=\"http://www.w3.org/2000/svg\" xmlns:xlink=\"http://www.w3.org/1999/xlink\">\n",
       "<g id=\"graph0\" class=\"graph\" transform=\"scale(1 1) rotate(0) translate(4 91.78)\">\n",
       "<title>%3</title>\n",
       "<polygon fill=\"white\" stroke=\"transparent\" points=\"-4,4 -4,-91.78 345.67,-91.78 345.67,4 -4,4\"/>\n",
       "<!-- start_(8, (0, (&#39;b&#39;, &#39;a&#39;))) -->\n",
       "<g id=\"node1\" class=\"node\">\n",
       "<title>start_(8, (0, (&#39;b&#39;, &#39;a&#39;)))</title>\n",
       "<ellipse fill=\"black\" stroke=\"black\" cx=\"49.78\" cy=\"-77.78\" rx=\"0\" ry=\"0\"/>\n",
       "</g>\n",
       "<!-- 0 -->\n",
       "<g id=\"node2\" class=\"node\">\n",
       "<title>0</title>\n",
       "<ellipse fill=\"none\" stroke=\"black\" cx=\"123.33\" cy=\"-77.78\" rx=\"7.56\" ry=\"7.56\"/>\n",
       "<text text-anchor=\"middle\" x=\"123.33\" y=\"-75.28\" font-family=\"Monospace\" font-size=\"10.00\"> </text>\n",
       "</g>\n",
       "<!-- start_(8, (0, (&#39;b&#39;, &#39;a&#39;)))&#45;&gt;0 -->\n",
       "<g id=\"edge1\" class=\"edge\">\n",
       "<title>start_(8, (0, (&#39;b&#39;, &#39;a&#39;)))&#45;&gt;0</title>\n",
       "<path fill=\"none\" stroke=\"black\" d=\"M50.83,-77.78C52.48,-77.78 92.99,-77.78 112.29,-77.78\"/>\n",
       "<polygon fill=\"black\" stroke=\"black\" points=\"112.42,-78.83 115.42,-77.78 112.42,-76.73 112.42,-78.83\"/>\n",
       "<text text-anchor=\"middle\" x=\"86.56\" y=\"-80.58\" font-family=\"Monospace\" font-size=\"9.00\">1</text>\n",
       "</g>\n",
       "<!-- 5 -->\n",
       "<g id=\"node8\" class=\"node\">\n",
       "<title>5</title>\n",
       "<ellipse fill=\"none\" stroke=\"black\" cx=\"212.61\" cy=\"-43.78\" rx=\"7.56\" ry=\"7.56\"/>\n",
       "<text text-anchor=\"middle\" x=\"212.61\" y=\"-41.28\" font-family=\"Monospace\" font-size=\"10.00\"> </text>\n",
       "</g>\n",
       "<!-- 0&#45;&gt;5 -->\n",
       "<g id=\"edge6\" class=\"edge\">\n",
       "<title>0&#45;&gt;5</title>\n",
       "<path fill=\"none\" stroke=\"black\" d=\"M130.89,-75.22C146.18,-69.27 184.24,-54.44 202.09,-47.49\"/>\n",
       "<polygon fill=\"black\" stroke=\"black\" points=\"202.56,-48.43 204.98,-46.36 201.8,-46.47 202.56,-48.43\"/>\n",
       "<text text-anchor=\"middle\" x=\"165.11\" y=\"-69.58\" font-family=\"Monospace\" font-size=\"9.00\">7012/1</text>\n",
       "</g>\n",
       "<!-- start_(3, (0, (&#39;b&#39;,))) -->\n",
       "<g id=\"node3\" class=\"node\">\n",
       "<title>start_(3, (0, (&#39;b&#39;,)))</title>\n",
       "<ellipse fill=\"black\" stroke=\"black\" cx=\"0\" cy=\"-24.78\" rx=\"0\" ry=\"0\"/>\n",
       "</g>\n",
       "<!-- 1 -->\n",
       "<g id=\"node4\" class=\"node\">\n",
       "<title>1</title>\n",
       "<ellipse fill=\"none\" stroke=\"black\" cx=\"49.78\" cy=\"-24.78\" rx=\"7.56\" ry=\"7.56\"/>\n",
       "<text text-anchor=\"middle\" x=\"49.78\" y=\"-22.28\" font-family=\"Monospace\" font-size=\"10.00\"> </text>\n",
       "</g>\n",
       "<!-- start_(3, (0, (&#39;b&#39;,)))&#45;&gt;1 -->\n",
       "<g id=\"edge2\" class=\"edge\">\n",
       "<title>start_(3, (0, (&#39;b&#39;,)))&#45;&gt;1</title>\n",
       "<path fill=\"none\" stroke=\"black\" d=\"M1.14,-24.78C3.07,-24.78 25.11,-24.78 38.52,-24.78\"/>\n",
       "<polygon fill=\"black\" stroke=\"black\" points=\"38.73,-25.83 41.73,-24.78 38.73,-23.73 38.73,-25.83\"/>\n",
       "<text text-anchor=\"middle\" x=\"21\" y=\"-27.58\" font-family=\"Monospace\" font-size=\"9.00\">1</text>\n",
       "</g>\n",
       "<!-- 2 -->\n",
       "<g id=\"node5\" class=\"node\">\n",
       "<title>2</title>\n",
       "<ellipse fill=\"none\" stroke=\"black\" cx=\"123.33\" cy=\"-43.78\" rx=\"7.56\" ry=\"7.56\"/>\n",
       "<text text-anchor=\"middle\" x=\"123.33\" y=\"-41.28\" font-family=\"Monospace\" font-size=\"10.00\"> </text>\n",
       "</g>\n",
       "<!-- 1&#45;&gt;2 -->\n",
       "<g id=\"edge7\" class=\"edge\">\n",
       "<title>1&#45;&gt;2</title>\n",
       "<path fill=\"none\" stroke=\"black\" d=\"M57.38,-26.53C69.99,-29.88 97.56,-37.2 112.4,-41.14\"/>\n",
       "<polygon fill=\"black\" stroke=\"black\" points=\"112.37,-42.22 115.54,-41.97 112.91,-40.19 112.37,-42.22\"/>\n",
       "<text text-anchor=\"middle\" x=\"86.56\" y=\"-40.58\" font-family=\"Monospace\" font-size=\"9.00\">65/1</text>\n",
       "</g>\n",
       "<!-- 3 -->\n",
       "<g id=\"node6\" class=\"node\">\n",
       "<title>3</title>\n",
       "<ellipse fill=\"none\" stroke=\"black\" cx=\"165.11\" cy=\"-7.78\" rx=\"7.56\" ry=\"7.56\"/>\n",
       "<text text-anchor=\"middle\" x=\"165.11\" y=\"-5.28\" font-family=\"Monospace\" font-size=\"10.00\"> </text>\n",
       "</g>\n",
       "<!-- 1&#45;&gt;3 -->\n",
       "<g id=\"edge8\" class=\"edge\">\n",
       "<title>1&#45;&gt;3</title>\n",
       "<path fill=\"none\" stroke=\"black\" d=\"M57.65,-22.51C62.58,-20.96 69.42,-18.98 75.56,-17.78 103.74,-12.24 137.61,-9.48 154.1,-8.38\"/>\n",
       "<polygon fill=\"black\" stroke=\"black\" points=\"154.24,-9.42 157.16,-8.18 154.1,-7.32 154.24,-9.42\"/>\n",
       "<text text-anchor=\"middle\" x=\"86.56\" y=\"-20.58\" font-family=\"Monospace\" font-size=\"9.00\">65/1</text>\n",
       "</g>\n",
       "<!-- 2&#45;&gt;5 -->\n",
       "<g id=\"edge4\" class=\"edge\">\n",
       "<title>2&#45;&gt;5</title>\n",
       "<path fill=\"none\" stroke=\"black\" d=\"M131.18,-43.78C146.4,-43.78 183.12,-43.78 201.2,-43.78\"/>\n",
       "<polygon fill=\"black\" stroke=\"black\" points=\"201.55,-44.83 204.55,-43.78 201.55,-42.73 201.55,-44.83\"/>\n",
       "<text text-anchor=\"middle\" x=\"165.11\" y=\"-46.58\" font-family=\"Monospace\" font-size=\"9.00\">64/1</text>\n",
       "</g>\n",
       "<!-- 4 -->\n",
       "<g id=\"node7\" class=\"node\">\n",
       "<title>4</title>\n",
       "<ellipse fill=\"none\" stroke=\"black\" cx=\"291.89\" cy=\"-23.78\" rx=\"7.56\" ry=\"7.56\"/>\n",
       "<text text-anchor=\"middle\" x=\"291.89\" y=\"-21.28\" font-family=\"Monospace\" font-size=\"10.00\"> </text>\n",
       "</g>\n",
       "<!-- 3&#45;&gt;4 -->\n",
       "<g id=\"edge5\" class=\"edge\">\n",
       "<title>3&#45;&gt;4</title>\n",
       "<path fill=\"none\" stroke=\"black\" d=\"M173.18,-8.68C194.2,-11.38 256.38,-19.35 280.84,-22.49\"/>\n",
       "<polygon fill=\"black\" stroke=\"black\" points=\"280.79,-23.54 283.9,-22.88 281.06,-21.46 280.79,-23.54\"/>\n",
       "<text text-anchor=\"middle\" x=\"212.61\" y=\"-18.58\" font-family=\"Monospace\" font-size=\"9.00\">330/1</text>\n",
       "</g>\n",
       "<!-- stop_(1, (2, (&#39;b&#39;, &#39;a&#39;, &#39;c&#39;))) -->\n",
       "<g id=\"node9\" class=\"node\">\n",
       "<title>stop_(1, (2, (&#39;b&#39;, &#39;a&#39;, &#39;c&#39;)))</title>\n",
       "<ellipse fill=\"black\" stroke=\"black\" cx=\"341.67\" cy=\"-23.78\" rx=\"0\" ry=\"0\"/>\n",
       "</g>\n",
       "<!-- 4&#45;&gt;stop_(1, (2, (&#39;b&#39;, &#39;a&#39;, &#39;c&#39;))) -->\n",
       "<g id=\"edge3\" class=\"edge\">\n",
       "<title>4&#45;&gt;stop_(1, (2, (&#39;b&#39;, &#39;a&#39;, &#39;c&#39;)))</title>\n",
       "<path fill=\"none\" stroke=\"black\" d=\"M299.94,-23.78C310.4,-23.78 329.63,-23.78 337.34,-23.78\"/>\n",
       "<polygon fill=\"black\" stroke=\"black\" points=\"337.59,-24.83 340.59,-23.78 337.59,-22.73 337.59,-24.83\"/>\n",
       "<text text-anchor=\"middle\" x=\"320.67\" y=\"-26.58\" font-family=\"Monospace\" font-size=\"9.00\">1</text>\n",
       "</g>\n",
       "<!-- 5&#45;&gt;4 -->\n",
       "<g id=\"edge9\" class=\"edge\">\n",
       "<title>5&#45;&gt;4</title>\n",
       "<path fill=\"none\" stroke=\"black\" d=\"M220.47,-42C234.18,-38.45 265.04,-30.47 280.96,-26.35\"/>\n",
       "<polygon fill=\"black\" stroke=\"black\" points=\"281.3,-27.35 283.94,-25.58 280.77,-25.31 281.3,-27.35\"/>\n",
       "<text text-anchor=\"middle\" x=\"255.11\" y=\"-38.58\" font-family=\"Monospace\" font-size=\"9.00\">66/1</text>\n",
       "</g>\n",
       "</g>\n",
       "</svg>\n"
      ],
      "text/plain": [
       "WFSA(6 states)"
      ]
     },
     "metadata": {},
     "output_type": "display_data"
    },
    {
     "name": "stdout",
     "output_type": "stream",
     "text": [
      "\n"
     ]
    },
    {
     "data": {
      "text/html": [
       "<hr/>"
      ],
      "text/plain": [
       "<IPython.core.display.HTML object>"
      ]
     },
     "metadata": {},
     "output_type": "display_data"
    },
    {
     "name": "stdout",
     "output_type": "stream",
     "text": [
      "('a', 'c')\n",
      "total weight of BPE sequences (i.e., ambiguity): 2.0\n"
     ]
    },
    {
     "data": {
      "image/svg+xml": [
       "<?xml version=\"1.0\" encoding=\"UTF-8\" standalone=\"no\"?>\n",
       "<!DOCTYPE svg PUBLIC \"-//W3C//DTD SVG 1.1//EN\"\n",
       " \"http://www.w3.org/Graphics/SVG/1.1/DTD/svg11.dtd\">\n",
       "<!-- Generated by graphviz version 2.43.0 (0)\n",
       " -->\n",
       "<!-- Title: %3 Pages: 1 -->\n",
       "<svg width=\"260pt\" height=\"60pt\"\n",
       " viewBox=\"0.00 0.00 259.67 59.78\" xmlns=\"http://www.w3.org/2000/svg\" xmlns:xlink=\"http://www.w3.org/1999/xlink\">\n",
       "<g id=\"graph0\" class=\"graph\" transform=\"scale(1 1) rotate(0) translate(4 55.78)\">\n",
       "<title>%3</title>\n",
       "<polygon fill=\"white\" stroke=\"transparent\" points=\"-4,4 -4,-55.78 255.67,-55.78 255.67,4 -4,4\"/>\n",
       "<!-- start_(2, (0, (&#39;a&#39;,))) -->\n",
       "<g id=\"node1\" class=\"node\">\n",
       "<title>start_(2, (0, (&#39;a&#39;,)))</title>\n",
       "<ellipse fill=\"black\" stroke=\"black\" cx=\"0\" cy=\"-41.78\" rx=\"0\" ry=\"0\"/>\n",
       "</g>\n",
       "<!-- 0 -->\n",
       "<g id=\"node2\" class=\"node\">\n",
       "<title>0</title>\n",
       "<ellipse fill=\"none\" stroke=\"black\" cx=\"49.78\" cy=\"-41.78\" rx=\"7.56\" ry=\"7.56\"/>\n",
       "<text text-anchor=\"middle\" x=\"49.78\" y=\"-39.28\" font-family=\"Monospace\" font-size=\"10.00\"> </text>\n",
       "</g>\n",
       "<!-- start_(2, (0, (&#39;a&#39;,)))&#45;&gt;0 -->\n",
       "<g id=\"edge1\" class=\"edge\">\n",
       "<title>start_(2, (0, (&#39;a&#39;,)))&#45;&gt;0</title>\n",
       "<path fill=\"none\" stroke=\"black\" d=\"M1.14,-41.78C3.07,-41.78 25.11,-41.78 38.52,-41.78\"/>\n",
       "<polygon fill=\"black\" stroke=\"black\" points=\"38.73,-42.83 41.73,-41.78 38.73,-40.73 38.73,-42.83\"/>\n",
       "<text text-anchor=\"middle\" x=\"21\" y=\"-44.58\" font-family=\"Monospace\" font-size=\"9.00\">1</text>\n",
       "</g>\n",
       "<!-- 2 -->\n",
       "<g id=\"node5\" class=\"node\">\n",
       "<title>2</title>\n",
       "<ellipse fill=\"none\" stroke=\"black\" cx=\"123.33\" cy=\"-41.78\" rx=\"7.56\" ry=\"7.56\"/>\n",
       "<text text-anchor=\"middle\" x=\"123.33\" y=\"-39.28\" font-family=\"Monospace\" font-size=\"10.00\"> </text>\n",
       "</g>\n",
       "<!-- 0&#45;&gt;2 -->\n",
       "<g id=\"edge4\" class=\"edge\">\n",
       "<title>0&#45;&gt;2</title>\n",
       "<path fill=\"none\" stroke=\"black\" d=\"M57.64,-41.78C70.26,-41.78 97.21,-41.78 112.03,-41.78\"/>\n",
       "<polygon fill=\"black\" stroke=\"black\" points=\"112.18,-42.83 115.18,-41.78 112.18,-40.73 112.18,-42.83\"/>\n",
       "<text text-anchor=\"middle\" x=\"86.56\" y=\"-44.58\" font-family=\"Monospace\" font-size=\"9.00\">64/1</text>\n",
       "</g>\n",
       "<!-- start_(16, (0, (&#39;a&#39;, &#39;c&#39;))) -->\n",
       "<g id=\"node3\" class=\"node\">\n",
       "<title>start_(16, (0, (&#39;a&#39;, &#39;c&#39;)))</title>\n",
       "<ellipse fill=\"black\" stroke=\"black\" cx=\"49.78\" cy=\"-7.78\" rx=\"0\" ry=\"0\"/>\n",
       "</g>\n",
       "<!-- 1 -->\n",
       "<g id=\"node4\" class=\"node\">\n",
       "<title>1</title>\n",
       "<ellipse fill=\"none\" stroke=\"black\" cx=\"123.33\" cy=\"-7.78\" rx=\"7.56\" ry=\"7.56\"/>\n",
       "<text text-anchor=\"middle\" x=\"123.33\" y=\"-5.28\" font-family=\"Monospace\" font-size=\"10.00\"> </text>\n",
       "</g>\n",
       "<!-- start_(16, (0, (&#39;a&#39;, &#39;c&#39;)))&#45;&gt;1 -->\n",
       "<g id=\"edge2\" class=\"edge\">\n",
       "<title>start_(16, (0, (&#39;a&#39;, &#39;c&#39;)))&#45;&gt;1</title>\n",
       "<path fill=\"none\" stroke=\"black\" d=\"M50.83,-7.78C52.48,-7.78 92.99,-7.78 112.29,-7.78\"/>\n",
       "<polygon fill=\"black\" stroke=\"black\" points=\"112.42,-8.83 115.42,-7.78 112.42,-6.73 112.42,-8.83\"/>\n",
       "<text text-anchor=\"middle\" x=\"86.56\" y=\"-10.58\" font-family=\"Monospace\" font-size=\"9.00\">1</text>\n",
       "</g>\n",
       "<!-- 3 -->\n",
       "<g id=\"node6\" class=\"node\">\n",
       "<title>3</title>\n",
       "<ellipse fill=\"none\" stroke=\"black\" cx=\"201.89\" cy=\"-23.78\" rx=\"7.56\" ry=\"7.56\"/>\n",
       "<text text-anchor=\"middle\" x=\"201.89\" y=\"-21.28\" font-family=\"Monospace\" font-size=\"10.00\"> </text>\n",
       "</g>\n",
       "<!-- 1&#45;&gt;3 -->\n",
       "<g id=\"edge6\" class=\"edge\">\n",
       "<title>1&#45;&gt;3</title>\n",
       "<path fill=\"none\" stroke=\"black\" d=\"M131.21,-6.8C141.28,-5.61 160.57,-4.28 176.11,-8.78 182.03,-10.49 187.96,-14 192.54,-17.2\"/>\n",
       "<polygon fill=\"black\" stroke=\"black\" points=\"192.15,-18.22 195.2,-19.13 193.39,-16.52 192.15,-18.22\"/>\n",
       "<text text-anchor=\"middle\" x=\"162.61\" y=\"-11.58\" font-family=\"Monospace\" font-size=\"9.00\">330/1</text>\n",
       "</g>\n",
       "<!-- 2&#45;&gt;3 -->\n",
       "<g id=\"edge5\" class=\"edge\">\n",
       "<title>2&#45;&gt;3</title>\n",
       "<path fill=\"none\" stroke=\"black\" d=\"M131.13,-40.18C144.71,-36.99 175.28,-29.8 191.05,-26.09\"/>\n",
       "<polygon fill=\"black\" stroke=\"black\" points=\"191.32,-27.11 194,-25.4 190.84,-25.06 191.32,-27.11\"/>\n",
       "<text text-anchor=\"middle\" x=\"162.61\" y=\"-38.58\" font-family=\"Monospace\" font-size=\"9.00\">66/1</text>\n",
       "</g>\n",
       "<!-- stop_(1, (2, (&#39;a&#39;, &#39;c&#39;))) -->\n",
       "<g id=\"node7\" class=\"node\">\n",
       "<title>stop_(1, (2, (&#39;a&#39;, &#39;c&#39;)))</title>\n",
       "<ellipse fill=\"black\" stroke=\"black\" cx=\"251.67\" cy=\"-23.78\" rx=\"0\" ry=\"0\"/>\n",
       "</g>\n",
       "<!-- 3&#45;&gt;stop_(1, (2, (&#39;a&#39;, &#39;c&#39;))) -->\n",
       "<g id=\"edge3\" class=\"edge\">\n",
       "<title>3&#45;&gt;stop_(1, (2, (&#39;a&#39;, &#39;c&#39;)))</title>\n",
       "<path fill=\"none\" stroke=\"black\" d=\"M209.94,-23.78C220.4,-23.78 239.63,-23.78 247.34,-23.78\"/>\n",
       "<polygon fill=\"black\" stroke=\"black\" points=\"247.59,-24.83 250.59,-23.78 247.59,-22.73 247.59,-24.83\"/>\n",
       "<text text-anchor=\"middle\" x=\"230.67\" y=\"-26.58\" font-family=\"Monospace\" font-size=\"9.00\">1</text>\n",
       "</g>\n",
       "</g>\n",
       "</svg>\n"
      ],
      "text/plain": [
       "WFSA(4 states)"
      ]
     },
     "metadata": {},
     "output_type": "display_data"
    },
    {
     "name": "stdout",
     "output_type": "stream",
     "text": [
      "\n"
     ]
    },
    {
     "data": {
      "text/html": [
       "<hr/>"
      ],
      "text/plain": [
       "<IPython.core.display.HTML object>"
      ]
     },
     "metadata": {},
     "output_type": "display_data"
    },
    {
     "name": "stdout",
     "output_type": "stream",
     "text": [
      "('a', 'b', 'c')\n",
      "total weight of BPE sequences (i.e., ambiguity): 4.0\n"
     ]
    },
    {
     "data": {
      "image/svg+xml": [
       "<?xml version=\"1.0\" encoding=\"UTF-8\" standalone=\"no\"?>\n",
       "<!DOCTYPE svg PUBLIC \"-//W3C//DTD SVG 1.1//EN\"\n",
       " \"http://www.w3.org/Graphics/SVG/1.1/DTD/svg11.dtd\">\n",
       "<!-- Generated by graphviz version 2.43.0 (0)\n",
       " -->\n",
       "<!-- Title: %3 Pages: 1 -->\n",
       "<svg width=\"370pt\" height=\"123pt\"\n",
       " viewBox=\"0.00 0.00 369.67 122.78\" xmlns=\"http://www.w3.org/2000/svg\" xmlns:xlink=\"http://www.w3.org/1999/xlink\">\n",
       "<g id=\"graph0\" class=\"graph\" transform=\"scale(1 1) rotate(0) translate(4 118.78)\">\n",
       "<title>%3</title>\n",
       "<polygon fill=\"white\" stroke=\"transparent\" points=\"-4,4 -4,-118.78 365.67,-118.78 365.67,4 -4,4\"/>\n",
       "<!-- start_(17, (0, (&#39;a&#39;, &#39;b&#39;))) -->\n",
       "<g id=\"node1\" class=\"node\">\n",
       "<title>start_(17, (0, (&#39;a&#39;, &#39;b&#39;)))</title>\n",
       "<ellipse fill=\"black\" stroke=\"black\" cx=\"49.78\" cy=\"-74.78\" rx=\"0\" ry=\"0\"/>\n",
       "</g>\n",
       "<!-- 0 -->\n",
       "<g id=\"node2\" class=\"node\">\n",
       "<title>0</title>\n",
       "<ellipse fill=\"none\" stroke=\"black\" cx=\"123.33\" cy=\"-74.78\" rx=\"7.56\" ry=\"7.56\"/>\n",
       "<text text-anchor=\"middle\" x=\"123.33\" y=\"-72.28\" font-family=\"Monospace\" font-size=\"10.00\"> </text>\n",
       "</g>\n",
       "<!-- start_(17, (0, (&#39;a&#39;, &#39;b&#39;)))&#45;&gt;0 -->\n",
       "<g id=\"edge1\" class=\"edge\">\n",
       "<title>start_(17, (0, (&#39;a&#39;, &#39;b&#39;)))&#45;&gt;0</title>\n",
       "<path fill=\"none\" stroke=\"black\" d=\"M50.83,-74.78C52.48,-74.78 92.99,-74.78 112.29,-74.78\"/>\n",
       "<polygon fill=\"black\" stroke=\"black\" points=\"112.42,-75.83 115.42,-74.78 112.42,-73.73 112.42,-75.83\"/>\n",
       "<text text-anchor=\"middle\" x=\"86.56\" y=\"-77.58\" font-family=\"Monospace\" font-size=\"9.00\">1</text>\n",
       "</g>\n",
       "<!-- 6 -->\n",
       "<g id=\"node10\" class=\"node\">\n",
       "<title>6</title>\n",
       "<ellipse fill=\"none\" stroke=\"black\" cx=\"212.61\" cy=\"-63.78\" rx=\"7.56\" ry=\"7.56\"/>\n",
       "<text text-anchor=\"middle\" x=\"212.61\" y=\"-61.28\" font-family=\"Monospace\" font-size=\"10.00\"> </text>\n",
       "</g>\n",
       "<!-- 0&#45;&gt;6 -->\n",
       "<g id=\"edge7\" class=\"edge\">\n",
       "<title>0&#45;&gt;6</title>\n",
       "<path fill=\"none\" stroke=\"black\" d=\"M131.18,-73.92C146.4,-72 183.12,-67.37 201.2,-65.09\"/>\n",
       "<polygon fill=\"black\" stroke=\"black\" points=\"201.71,-66.08 204.55,-64.67 201.45,-64 201.71,-66.08\"/>\n",
       "<text text-anchor=\"middle\" x=\"162.61\" y=\"-73.58\" font-family=\"Monospace\" font-size=\"9.00\">397/1</text>\n",
       "</g>\n",
       "<!-- start_(2, (0, (&#39;a&#39;,))) -->\n",
       "<g id=\"node3\" class=\"node\">\n",
       "<title>start_(2, (0, (&#39;a&#39;,)))</title>\n",
       "<ellipse fill=\"black\" stroke=\"black\" cx=\"0\" cy=\"-21.78\" rx=\"0\" ry=\"0\"/>\n",
       "</g>\n",
       "<!-- 1 -->\n",
       "<g id=\"node4\" class=\"node\">\n",
       "<title>1</title>\n",
       "<ellipse fill=\"none\" stroke=\"black\" cx=\"49.78\" cy=\"-21.78\" rx=\"7.56\" ry=\"7.56\"/>\n",
       "<text text-anchor=\"middle\" x=\"49.78\" y=\"-19.28\" font-family=\"Monospace\" font-size=\"10.00\"> </text>\n",
       "</g>\n",
       "<!-- start_(2, (0, (&#39;a&#39;,)))&#45;&gt;1 -->\n",
       "<g id=\"edge2\" class=\"edge\">\n",
       "<title>start_(2, (0, (&#39;a&#39;,)))&#45;&gt;1</title>\n",
       "<path fill=\"none\" stroke=\"black\" d=\"M1.14,-21.78C3.07,-21.78 25.11,-21.78 38.52,-21.78\"/>\n",
       "<polygon fill=\"black\" stroke=\"black\" points=\"38.73,-22.83 41.73,-21.78 38.73,-20.73 38.73,-22.83\"/>\n",
       "<text text-anchor=\"middle\" x=\"21\" y=\"-24.58\" font-family=\"Monospace\" font-size=\"9.00\">1</text>\n",
       "</g>\n",
       "<!-- 3 -->\n",
       "<g id=\"node7\" class=\"node\">\n",
       "<title>3</title>\n",
       "<ellipse fill=\"none\" stroke=\"black\" cx=\"162.61\" cy=\"-7.78\" rx=\"7.56\" ry=\"7.56\"/>\n",
       "<text text-anchor=\"middle\" x=\"162.61\" y=\"-5.28\" font-family=\"Monospace\" font-size=\"10.00\"> </text>\n",
       "</g>\n",
       "<!-- 1&#45;&gt;3 -->\n",
       "<g id=\"edge8\" class=\"edge\">\n",
       "<title>1&#45;&gt;3</title>\n",
       "<path fill=\"none\" stroke=\"black\" d=\"M57.64,-19.45C62.56,-17.88 69.4,-15.89 75.56,-14.78 102.66,-9.89 135.19,-8.42 151.4,-7.97\"/>\n",
       "<polygon fill=\"black\" stroke=\"black\" points=\"151.44,-9.02 154.41,-7.89 151.39,-6.92 151.44,-9.02\"/>\n",
       "<text text-anchor=\"middle\" x=\"86.56\" y=\"-17.58\" font-family=\"Monospace\" font-size=\"9.00\">64/1</text>\n",
       "</g>\n",
       "<!-- 4 -->\n",
       "<g id=\"node8\" class=\"node\">\n",
       "<title>4</title>\n",
       "<ellipse fill=\"none\" stroke=\"black\" cx=\"123.33\" cy=\"-40.78\" rx=\"7.56\" ry=\"7.56\"/>\n",
       "<text text-anchor=\"middle\" x=\"123.33\" y=\"-38.28\" font-family=\"Monospace\" font-size=\"10.00\"> </text>\n",
       "</g>\n",
       "<!-- 1&#45;&gt;4 -->\n",
       "<g id=\"edge9\" class=\"edge\">\n",
       "<title>1&#45;&gt;4</title>\n",
       "<path fill=\"none\" stroke=\"black\" d=\"M57.38,-23.53C69.99,-26.88 97.56,-34.2 112.4,-38.14\"/>\n",
       "<polygon fill=\"black\" stroke=\"black\" points=\"112.37,-39.22 115.54,-38.97 112.91,-37.19 112.37,-39.22\"/>\n",
       "<text text-anchor=\"middle\" x=\"86.56\" y=\"-37.58\" font-family=\"Monospace\" font-size=\"9.00\">64/1</text>\n",
       "</g>\n",
       "<!-- start_(23, (0, (&#39;a&#39;, &#39;b&#39;, &#39;c&#39;))) -->\n",
       "<g id=\"node5\" class=\"node\">\n",
       "<title>start_(23, (0, (&#39;a&#39;, &#39;b&#39;, &#39;c&#39;)))</title>\n",
       "<ellipse fill=\"black\" stroke=\"black\" cx=\"123.33\" cy=\"-106.78\" rx=\"0\" ry=\"0\"/>\n",
       "</g>\n",
       "<!-- 2 -->\n",
       "<g id=\"node6\" class=\"node\">\n",
       "<title>2</title>\n",
       "<ellipse fill=\"none\" stroke=\"black\" cx=\"212.61\" cy=\"-100.78\" rx=\"7.56\" ry=\"7.56\"/>\n",
       "<text text-anchor=\"middle\" x=\"212.61\" y=\"-98.28\" font-family=\"Monospace\" font-size=\"10.00\"> </text>\n",
       "</g>\n",
       "<!-- start_(23, (0, (&#39;a&#39;, &#39;b&#39;, &#39;c&#39;)))&#45;&gt;2 -->\n",
       "<g id=\"edge3\" class=\"edge\">\n",
       "<title>start_(23, (0, (&#39;a&#39;, &#39;b&#39;, &#39;c&#39;)))&#45;&gt;2</title>\n",
       "<path fill=\"none\" stroke=\"black\" d=\"M124.4,-106.77C126.47,-106.63 179.11,-103.01 201.59,-101.47\"/>\n",
       "<polygon fill=\"black\" stroke=\"black\" points=\"201.76,-102.51 204.68,-101.25 201.61,-100.41 201.76,-102.51\"/>\n",
       "<text text-anchor=\"middle\" x=\"162.61\" y=\"-107.58\" font-family=\"Monospace\" font-size=\"9.00\">1</text>\n",
       "</g>\n",
       "<!-- 5 -->\n",
       "<g id=\"node9\" class=\"node\">\n",
       "<title>5</title>\n",
       "<ellipse fill=\"none\" stroke=\"black\" cx=\"311.89\" cy=\"-63.78\" rx=\"7.56\" ry=\"7.56\"/>\n",
       "<text text-anchor=\"middle\" x=\"311.89\" y=\"-61.28\" font-family=\"Monospace\" font-size=\"10.00\"> </text>\n",
       "</g>\n",
       "<!-- 2&#45;&gt;5 -->\n",
       "<g id=\"edge11\" class=\"edge\">\n",
       "<title>2&#45;&gt;5</title>\n",
       "<path fill=\"none\" stroke=\"black\" d=\"M220.47,-98.51C233.42,-94.18 262.28,-84.33 286.11,-74.78 291.32,-72.69 297.06,-70.16 301.69,-68.05\"/>\n",
       "<polygon fill=\"black\" stroke=\"black\" points=\"302.13,-69.01 304.43,-66.8 301.26,-67.1 302.13,-69.01\"/>\n",
       "<text text-anchor=\"middle\" x=\"267.61\" y=\"-90.58\" font-family=\"Monospace\" font-size=\"9.00\">39305/1</text>\n",
       "</g>\n",
       "<!-- 3&#45;&gt;5 -->\n",
       "<g id=\"edge5\" class=\"edge\">\n",
       "<title>3&#45;&gt;5</title>\n",
       "<path fill=\"none\" stroke=\"black\" d=\"M170.32,-10.33C194.01,-19.34 273.74,-49.65 301.37,-60.16\"/>\n",
       "<polygon fill=\"black\" stroke=\"black\" points=\"301.3,-61.25 304.48,-61.34 302.04,-59.29 301.3,-61.25\"/>\n",
       "<text text-anchor=\"middle\" x=\"212.61\" y=\"-36.58\" font-family=\"Monospace\" font-size=\"9.00\">15630/1</text>\n",
       "</g>\n",
       "<!-- 4&#45;&gt;6 -->\n",
       "<g id=\"edge6\" class=\"edge\">\n",
       "<title>4&#45;&gt;6</title>\n",
       "<path fill=\"none\" stroke=\"black\" d=\"M131.05,-42.4C140.94,-44.8 159.99,-49.48 176.11,-53.78 184.73,-56.07 194.47,-58.83 201.57,-60.87\"/>\n",
       "<polygon fill=\"black\" stroke=\"black\" points=\"201.65,-61.98 204.82,-61.8 202.23,-59.96 201.65,-61.98\"/>\n",
       "<text text-anchor=\"middle\" x=\"162.61\" y=\"-56.58\" font-family=\"Monospace\" font-size=\"9.00\">65/1</text>\n",
       "</g>\n",
       "<!-- stop_(1, (2, (&#39;a&#39;, &#39;b&#39;, &#39;c&#39;))) -->\n",
       "<g id=\"node11\" class=\"node\">\n",
       "<title>stop_(1, (2, (&#39;a&#39;, &#39;b&#39;, &#39;c&#39;)))</title>\n",
       "<ellipse fill=\"black\" stroke=\"black\" cx=\"361.67\" cy=\"-63.78\" rx=\"0\" ry=\"0\"/>\n",
       "</g>\n",
       "<!-- 5&#45;&gt;stop_(1, (2, (&#39;a&#39;, &#39;b&#39;, &#39;c&#39;))) -->\n",
       "<g id=\"edge4\" class=\"edge\">\n",
       "<title>5&#45;&gt;stop_(1, (2, (&#39;a&#39;, &#39;b&#39;, &#39;c&#39;)))</title>\n",
       "<path fill=\"none\" stroke=\"black\" d=\"M319.94,-63.78C330.4,-63.78 349.63,-63.78 357.34,-63.78\"/>\n",
       "<polygon fill=\"black\" stroke=\"black\" points=\"357.59,-64.83 360.59,-63.78 357.59,-62.73 357.59,-64.83\"/>\n",
       "<text text-anchor=\"middle\" x=\"340.67\" y=\"-66.58\" font-family=\"Monospace\" font-size=\"9.00\">1</text>\n",
       "</g>\n",
       "<!-- 6&#45;&gt;5 -->\n",
       "<g id=\"edge10\" class=\"edge\">\n",
       "<title>6&#45;&gt;5</title>\n",
       "<path fill=\"none\" stroke=\"black\" d=\"M220.61,-63.78C237.58,-63.78 280.97,-63.78 300.77,-63.78\"/>\n",
       "<polygon fill=\"black\" stroke=\"black\" points=\"300.96,-64.83 303.96,-63.78 300.96,-62.73 300.96,-64.83\"/>\n",
       "<text text-anchor=\"middle\" x=\"267.61\" y=\"-66.58\" font-family=\"Monospace\" font-size=\"9.00\">66/1</text>\n",
       "</g>\n",
       "</g>\n",
       "</svg>\n"
      ],
      "text/plain": [
       "WFSA(7 states)"
      ]
     },
     "metadata": {},
     "output_type": "display_data"
    },
    {
     "name": "stdout",
     "output_type": "stream",
     "text": [
      "\n"
     ]
    },
    {
     "data": {
      "text/html": [
       "<hr/>"
      ],
      "text/plain": [
       "<IPython.core.display.HTML object>"
      ]
     },
     "metadata": {},
     "output_type": "display_data"
    },
    {
     "name": "stdout",
     "output_type": "stream",
     "text": [
      "('a', 'a', 'c')\n",
      "total weight of BPE sequences (i.e., ambiguity): 3.0\n"
     ]
    },
    {
     "data": {
      "image/svg+xml": [
       "<?xml version=\"1.0\" encoding=\"UTF-8\" standalone=\"no\"?>\n",
       "<!DOCTYPE svg PUBLIC \"-//W3C//DTD SVG 1.1//EN\"\n",
       " \"http://www.w3.org/Graphics/SVG/1.1/DTD/svg11.dtd\">\n",
       "<!-- Generated by graphviz version 2.43.0 (0)\n",
       " -->\n",
       "<!-- Title: %3 Pages: 1 -->\n",
       "<svg width=\"350pt\" height=\"96pt\"\n",
       " viewBox=\"0.00 0.00 349.67 95.78\" xmlns=\"http://www.w3.org/2000/svg\" xmlns:xlink=\"http://www.w3.org/1999/xlink\">\n",
       "<g id=\"graph0\" class=\"graph\" transform=\"scale(1 1) rotate(0) translate(4 91.78)\">\n",
       "<title>%3</title>\n",
       "<polygon fill=\"white\" stroke=\"transparent\" points=\"-4,4 -4,-91.78 345.67,-91.78 345.67,4 -4,4\"/>\n",
       "<!-- start_(6, (0, (&#39;a&#39;, &#39;a&#39;))) -->\n",
       "<g id=\"node1\" class=\"node\">\n",
       "<title>start_(6, (0, (&#39;a&#39;, &#39;a&#39;)))</title>\n",
       "<ellipse fill=\"black\" stroke=\"black\" cx=\"49.78\" cy=\"-77.78\" rx=\"0\" ry=\"0\"/>\n",
       "</g>\n",
       "<!-- 0 -->\n",
       "<g id=\"node2\" class=\"node\">\n",
       "<title>0</title>\n",
       "<ellipse fill=\"none\" stroke=\"black\" cx=\"123.33\" cy=\"-77.78\" rx=\"7.56\" ry=\"7.56\"/>\n",
       "<text text-anchor=\"middle\" x=\"123.33\" y=\"-75.28\" font-family=\"Monospace\" font-size=\"10.00\"> </text>\n",
       "</g>\n",
       "<!-- start_(6, (0, (&#39;a&#39;, &#39;a&#39;)))&#45;&gt;0 -->\n",
       "<g id=\"edge1\" class=\"edge\">\n",
       "<title>start_(6, (0, (&#39;a&#39;, &#39;a&#39;)))&#45;&gt;0</title>\n",
       "<path fill=\"none\" stroke=\"black\" d=\"M50.83,-77.78C52.48,-77.78 92.99,-77.78 112.29,-77.78\"/>\n",
       "<polygon fill=\"black\" stroke=\"black\" points=\"112.42,-78.83 115.42,-77.78 112.42,-76.73 112.42,-78.83\"/>\n",
       "<text text-anchor=\"middle\" x=\"86.56\" y=\"-80.58\" font-family=\"Monospace\" font-size=\"9.00\">1</text>\n",
       "</g>\n",
       "<!-- 2 -->\n",
       "<g id=\"node5\" class=\"node\">\n",
       "<title>2</title>\n",
       "<ellipse fill=\"none\" stroke=\"black\" cx=\"212.61\" cy=\"-43.78\" rx=\"7.56\" ry=\"7.56\"/>\n",
       "<text text-anchor=\"middle\" x=\"212.61\" y=\"-41.28\" font-family=\"Monospace\" font-size=\"10.00\"> </text>\n",
       "</g>\n",
       "<!-- 0&#45;&gt;2 -->\n",
       "<g id=\"edge7\" class=\"edge\">\n",
       "<title>0&#45;&gt;2</title>\n",
       "<path fill=\"none\" stroke=\"black\" d=\"M130.89,-75.22C146.18,-69.27 184.24,-54.44 202.09,-47.49\"/>\n",
       "<polygon fill=\"black\" stroke=\"black\" points=\"202.56,-48.43 204.98,-46.36 201.8,-46.47 202.56,-48.43\"/>\n",
       "<text text-anchor=\"middle\" x=\"165.11\" y=\"-69.58\" font-family=\"Monospace\" font-size=\"9.00\">7252/1</text>\n",
       "</g>\n",
       "<!-- start_(2, (0, (&#39;a&#39;,))) -->\n",
       "<g id=\"node3\" class=\"node\">\n",
       "<title>start_(2, (0, (&#39;a&#39;,)))</title>\n",
       "<ellipse fill=\"black\" stroke=\"black\" cx=\"0\" cy=\"-24.78\" rx=\"0\" ry=\"0\"/>\n",
       "</g>\n",
       "<!-- 1 -->\n",
       "<g id=\"node4\" class=\"node\">\n",
       "<title>1</title>\n",
       "<ellipse fill=\"none\" stroke=\"black\" cx=\"49.78\" cy=\"-24.78\" rx=\"7.56\" ry=\"7.56\"/>\n",
       "<text text-anchor=\"middle\" x=\"49.78\" y=\"-22.28\" font-family=\"Monospace\" font-size=\"10.00\"> </text>\n",
       "</g>\n",
       "<!-- start_(2, (0, (&#39;a&#39;,)))&#45;&gt;1 -->\n",
       "<g id=\"edge2\" class=\"edge\">\n",
       "<title>start_(2, (0, (&#39;a&#39;,)))&#45;&gt;1</title>\n",
       "<path fill=\"none\" stroke=\"black\" d=\"M1.14,-24.78C3.07,-24.78 25.11,-24.78 38.52,-24.78\"/>\n",
       "<polygon fill=\"black\" stroke=\"black\" points=\"38.73,-25.83 41.73,-24.78 38.73,-23.73 38.73,-25.83\"/>\n",
       "<text text-anchor=\"middle\" x=\"21\" y=\"-27.58\" font-family=\"Monospace\" font-size=\"9.00\">1</text>\n",
       "</g>\n",
       "<!-- 3 -->\n",
       "<g id=\"node6\" class=\"node\">\n",
       "<title>3</title>\n",
       "<ellipse fill=\"none\" stroke=\"black\" cx=\"165.11\" cy=\"-7.78\" rx=\"7.56\" ry=\"7.56\"/>\n",
       "<text text-anchor=\"middle\" x=\"165.11\" y=\"-5.28\" font-family=\"Monospace\" font-size=\"10.00\"> </text>\n",
       "</g>\n",
       "<!-- 1&#45;&gt;3 -->\n",
       "<g id=\"edge9\" class=\"edge\">\n",
       "<title>1&#45;&gt;3</title>\n",
       "<path fill=\"none\" stroke=\"black\" d=\"M57.65,-22.51C62.58,-20.96 69.42,-18.98 75.56,-17.78 103.74,-12.24 137.61,-9.48 154.1,-8.38\"/>\n",
       "<polygon fill=\"black\" stroke=\"black\" points=\"154.24,-9.42 157.16,-8.18 154.1,-7.32 154.24,-9.42\"/>\n",
       "<text text-anchor=\"middle\" x=\"86.56\" y=\"-20.58\" font-family=\"Monospace\" font-size=\"9.00\">64/1</text>\n",
       "</g>\n",
       "<!-- 5 -->\n",
       "<g id=\"node8\" class=\"node\">\n",
       "<title>5</title>\n",
       "<ellipse fill=\"none\" stroke=\"black\" cx=\"123.33\" cy=\"-43.78\" rx=\"7.56\" ry=\"7.56\"/>\n",
       "<text text-anchor=\"middle\" x=\"123.33\" y=\"-41.28\" font-family=\"Monospace\" font-size=\"10.00\"> </text>\n",
       "</g>\n",
       "<!-- 1&#45;&gt;5 -->\n",
       "<g id=\"edge8\" class=\"edge\">\n",
       "<title>1&#45;&gt;5</title>\n",
       "<path fill=\"none\" stroke=\"black\" d=\"M57.38,-26.53C69.99,-29.88 97.56,-37.2 112.4,-41.14\"/>\n",
       "<polygon fill=\"black\" stroke=\"black\" points=\"112.37,-42.22 115.54,-41.97 112.91,-40.19 112.37,-42.22\"/>\n",
       "<text text-anchor=\"middle\" x=\"86.56\" y=\"-40.58\" font-family=\"Monospace\" font-size=\"9.00\">64/1</text>\n",
       "</g>\n",
       "<!-- 4 -->\n",
       "<g id=\"node7\" class=\"node\">\n",
       "<title>4</title>\n",
       "<ellipse fill=\"none\" stroke=\"black\" cx=\"291.89\" cy=\"-23.78\" rx=\"7.56\" ry=\"7.56\"/>\n",
       "<text text-anchor=\"middle\" x=\"291.89\" y=\"-21.28\" font-family=\"Monospace\" font-size=\"10.00\"> </text>\n",
       "</g>\n",
       "<!-- 2&#45;&gt;4 -->\n",
       "<g id=\"edge4\" class=\"edge\">\n",
       "<title>2&#45;&gt;4</title>\n",
       "<path fill=\"none\" stroke=\"black\" d=\"M220.47,-42C234.18,-38.45 265.04,-30.47 280.96,-26.35\"/>\n",
       "<polygon fill=\"black\" stroke=\"black\" points=\"281.3,-27.35 283.94,-25.58 280.77,-25.31 281.3,-27.35\"/>\n",
       "<text text-anchor=\"middle\" x=\"255.11\" y=\"-38.58\" font-family=\"Monospace\" font-size=\"9.00\">66/1</text>\n",
       "</g>\n",
       "<!-- 3&#45;&gt;4 -->\n",
       "<g id=\"edge5\" class=\"edge\">\n",
       "<title>3&#45;&gt;4</title>\n",
       "<path fill=\"none\" stroke=\"black\" d=\"M173.18,-8.68C194.2,-11.38 256.38,-19.35 280.84,-22.49\"/>\n",
       "<polygon fill=\"black\" stroke=\"black\" points=\"280.79,-23.54 283.9,-22.88 281.06,-21.46 280.79,-23.54\"/>\n",
       "<text text-anchor=\"middle\" x=\"212.61\" y=\"-18.58\" font-family=\"Monospace\" font-size=\"9.00\">330/1</text>\n",
       "</g>\n",
       "<!-- stop_(1, (2, (&#39;a&#39;, &#39;a&#39;, &#39;c&#39;))) -->\n",
       "<g id=\"node9\" class=\"node\">\n",
       "<title>stop_(1, (2, (&#39;a&#39;, &#39;a&#39;, &#39;c&#39;)))</title>\n",
       "<ellipse fill=\"black\" stroke=\"black\" cx=\"341.67\" cy=\"-23.78\" rx=\"0\" ry=\"0\"/>\n",
       "</g>\n",
       "<!-- 4&#45;&gt;stop_(1, (2, (&#39;a&#39;, &#39;a&#39;, &#39;c&#39;))) -->\n",
       "<g id=\"edge3\" class=\"edge\">\n",
       "<title>4&#45;&gt;stop_(1, (2, (&#39;a&#39;, &#39;a&#39;, &#39;c&#39;)))</title>\n",
       "<path fill=\"none\" stroke=\"black\" d=\"M299.94,-23.78C310.4,-23.78 329.63,-23.78 337.34,-23.78\"/>\n",
       "<polygon fill=\"black\" stroke=\"black\" points=\"337.59,-24.83 340.59,-23.78 337.59,-22.73 337.59,-24.83\"/>\n",
       "<text text-anchor=\"middle\" x=\"320.67\" y=\"-26.58\" font-family=\"Monospace\" font-size=\"9.00\">1</text>\n",
       "</g>\n",
       "<!-- 5&#45;&gt;2 -->\n",
       "<g id=\"edge6\" class=\"edge\">\n",
       "<title>5&#45;&gt;2</title>\n",
       "<path fill=\"none\" stroke=\"black\" d=\"M131.18,-43.78C146.4,-43.78 183.12,-43.78 201.2,-43.78\"/>\n",
       "<polygon fill=\"black\" stroke=\"black\" points=\"201.55,-44.83 204.55,-43.78 201.55,-42.73 201.55,-44.83\"/>\n",
       "<text text-anchor=\"middle\" x=\"165.11\" y=\"-46.58\" font-family=\"Monospace\" font-size=\"9.00\">64/1</text>\n",
       "</g>\n",
       "</g>\n",
       "</svg>\n"
      ],
      "text/plain": [
       "WFSA(6 states)"
      ]
     },
     "metadata": {},
     "output_type": "display_data"
    },
    {
     "name": "stdout",
     "output_type": "stream",
     "text": [
      "\n"
     ]
    }
   ],
   "source": [
    "for x in foo.cnf.language(3):\n",
    "    display(HTML('<hr/>'))\n",
    "    print(x)\n",
    "    bpe_x = b2c(None, x).epsremove.trim\n",
    "    print('total weight of BPE sequences (i.e., ambiguity):', bpe_x.total_weight())\n",
    "    display(bpe_x)\n",
    "    print()"
   ]
  },
  {
   "cell_type": "code",
   "execution_count": 86,
   "id": "1a01e546-c37e-46f8-900e-de303dce77b3",
   "metadata": {},
   "outputs": [],
   "source": [
    "tmp = (b2c @ foo).trim()"
   ]
  },
  {
   "cell_type": "code",
   "execution_count": 87,
   "id": "4749db69-bb67-471c-9af3-db09a4b2e9b1",
   "metadata": {},
   "outputs": [],
   "source": [
    "L = 5"
   ]
  },
  {
   "cell_type": "code",
   "execution_count": 61,
   "id": "9ebec9fe-55b0-4b08-9c5d-20e123115fd6",
   "metadata": {},
   "outputs": [],
   "source": [
    "c = Float.chart()\n",
    "for x, w, in tmp.cnf.language(5).items():\n",
    "    y =  H.tokenizer.decode(x)\n",
    "    if len(y) > L: continue    \n",
    "    c[y] += w"
   ]
  },
  {
   "cell_type": "code",
   "execution_count": 62,
   "id": "7f1e4505-684b-4244-aa9e-6e380ee7fec0",
   "metadata": {},
   "outputs": [],
   "source": [
    "ambig = Float.chart({x: b2c(None, x).total_weight() for x in c})"
   ]
  },
  {
   "cell_type": "code",
   "execution_count": 63,
   "id": "9bec20d2-9545-4a1e-92d6-a504a212d0f3",
   "metadata": {},
   "outputs": [],
   "source": [
    "ccc = Float.chart()\n",
    "for x in c:\n",
    "    ccc[x] = c[x] / ambig[x]"
   ]
  },
  {
   "cell_type": "code",
   "execution_count": 64,
   "id": "d1c58131-7ac7-40f7-9af8-fe6b40b05c35",
   "metadata": {},
   "outputs": [],
   "source": [
    "cc = Float.chart()\n",
    "for x, w in foo.cnf.language(L+2).items():\n",
    "    if len(x) > L: continue\n",
    "    cc[''.join(x)] += w\n",
    "#cc"
   ]
  },
  {
   "cell_type": "code",
   "execution_count": 65,
   "id": "4248cb64-5bdb-4f86-a70f-a1d4383e0458",
   "metadata": {},
   "outputs": [],
   "source": [
    "ccc.assert_equal(cc, tol=1e-20)"
   ]
  },
  {
   "cell_type": "code",
   "execution_count": 66,
   "id": "fbf30359-1852-4cef-a86f-048dc62dd968",
   "metadata": {},
   "outputs": [],
   "source": [
    "#cc.metric(c)"
   ]
  },
  {
   "cell_type": "code",
   "execution_count": 67,
   "id": "0af56e1c-e4fa-4166-9ba2-ce1f1d82e16e",
   "metadata": {},
   "outputs": [],
   "source": [
    "#tmp.trim(bottomup_only=True)"
   ]
  },
  {
   "cell_type": "code",
   "execution_count": 68,
   "id": "7b732ed0-520b-45ba-810b-d0266a7d1d88",
   "metadata": {},
   "outputs": [],
   "source": [
    "#show_grammar(tmp, showzero=True)"
   ]
  },
  {
   "cell_type": "code",
   "execution_count": 69,
   "id": "337e2d86-6dfe-45be-87ba-0b6fbfc50c35",
   "metadata": {},
   "outputs": [],
   "source": [
    "#print(tmp.agenda().__str__(style_value=lambda k, v: (colors.light.red % v) if v > 1.000001 or v < 0 else v))"
   ]
  },
  {
   "cell_type": "code",
   "execution_count": 70,
   "id": "21c4baaf-8a5e-4380-81c8-9fe5f5d85bb6",
   "metadata": {},
   "outputs": [],
   "source": [
    "#for q in c2t.states:      \n",
    "#    for (a,b), r, w in c2t.arcs(q):\n",
    "#        print(f'--{a or \"ε\"}:{b or \"ε\"}/{w}-->', r)"
   ]
  },
  {
   "cell_type": "code",
   "execution_count": 71,
   "id": "297d9420-6e63-4607-b5a9-439238b02140",
   "metadata": {},
   "outputs": [],
   "source": [
    "#{x: v for x,v in tmp.agenda().items() if v > 1.001 or v < 0}"
   ]
  },
  {
   "cell_type": "code",
   "execution_count": 72,
   "id": "9ea76dfa-cbc6-4cdd-a413-dda5dd7e9c89",
   "metadata": {},
   "outputs": [],
   "source": [
    "#len(tmp.N - tmp.agenda(tol=1e-40, maxiter=np.inf).trim().keys()), len(tmp.N), len(tmp.agenda(tol=1e-40).trim())"
   ]
  },
  {
   "cell_type": "code",
   "execution_count": 73,
   "id": "1f25c7ed-b778-4a0c-819f-0219156e6c5a",
   "metadata": {},
   "outputs": [],
   "source": [
    "#tmp.cnf.language(4)"
   ]
  },
  {
   "cell_type": "code",
   "execution_count": 74,
   "id": "f18614c6-5c17-4467-ae97-f06790f22af4",
   "metadata": {},
   "outputs": [],
   "source": [
    "#show_grammar(tmp)"
   ]
  },
  {
   "cell_type": "code",
   "execution_count": 75,
   "id": "3d61730b-d679-4404-b062-d3d5bbaa20ac",
   "metadata": {},
   "outputs": [
    {
     "name": "stdout",
     "output_type": "stream",
     "text": [
      "\u001b[0;32m✔\u001b[0m PCFG\n"
     ]
    }
   ],
   "source": [
    "p = locally_normalize(tmp, tol=1e-40, maxiter=np.inf).trim()\n",
    "pcfg_check(p)"
   ]
  },
  {
   "cell_type": "code",
   "execution_count": 76,
   "id": "9a777fe2-77a9-40ff-af4d-d1f02f6ed3e6",
   "metadata": {},
   "outputs": [],
   "source": [
    "lm2 = CFGLM(add_EOS(p))"
   ]
  },
  {
   "cell_type": "code",
   "execution_count": 77,
   "id": "fd2ff4b0-5e43-455f-8be8-b42c7d059aad",
   "metadata": {},
   "outputs": [],
   "source": [
    "#lm2.sample(verbose=1)"
   ]
  },
  {
   "cell_type": "code",
   "execution_count": 78,
   "id": "f3d26457-e3bf-4f79-8ec0-7d811110982e",
   "metadata": {},
   "outputs": [],
   "source": [
    "#context = (64,65,6485,39305)\n",
    "context = (64,65,6485,)"
   ]
  },
  {
   "cell_type": "code",
   "execution_count": 79,
   "id": "0040787f-6bc0-4ec4-915a-a12aedaaedcd",
   "metadata": {},
   "outputs": [
    {
     "data": {
      "text/plain": [
       "'ababb'"
      ]
     },
     "execution_count": 79,
     "metadata": {},
     "output_type": "execute_result"
    }
   ],
   "source": [
    "char_context = H.tokenizer.decode(context)\n",
    "char_context"
   ]
  },
  {
   "cell_type": "code",
   "execution_count": 80,
   "id": "7085cad5-62ac-4385-afba-a848c6583d3f",
   "metadata": {},
   "outputs": [
    {
     "data": {
      "text/html": [
       "<div>\n",
       "<style scoped>\n",
       "    .dataframe tbody tr th:only-of-type {\n",
       "        vertical-align: middle;\n",
       "    }\n",
       "\n",
       "    .dataframe tbody tr th {\n",
       "        vertical-align: top;\n",
       "    }\n",
       "\n",
       "    .dataframe thead th {\n",
       "        text-align: right;\n",
       "    }\n",
       "</style>\n",
       "<table border=\"1\" class=\"dataframe\">\n",
       "  <thead>\n",
       "    <tr style=\"text-align: right;\">\n",
       "      <th></th>\n",
       "      <th>chars</th>\n",
       "      <th>prob</th>\n",
       "    </tr>\n",
       "    <tr>\n",
       "      <th>token_id</th>\n",
       "      <th></th>\n",
       "      <th></th>\n",
       "    </tr>\n",
       "  </thead>\n",
       "  <tbody>\n",
       "    <tr>\n",
       "      <th>66</th>\n",
       "      <td>c</td>\n",
       "      <td>0.869821</td>\n",
       "    </tr>\n",
       "    <tr>\n",
       "      <th>64</th>\n",
       "      <td>a</td>\n",
       "      <td>0.033333</td>\n",
       "    </tr>\n",
       "    <tr>\n",
       "      <th>65</th>\n",
       "      <td>b</td>\n",
       "      <td>0.033333</td>\n",
       "    </tr>\n",
       "    <tr>\n",
       "      <th>15630</th>\n",
       "      <td>bc</td>\n",
       "      <td>0.028994</td>\n",
       "    </tr>\n",
       "    <tr>\n",
       "      <th>330</th>\n",
       "      <td>ac</td>\n",
       "      <td>0.028994</td>\n",
       "    </tr>\n",
       "    <tr>\n",
       "      <th>11848</th>\n",
       "      <td>bb</td>\n",
       "      <td>0.001111</td>\n",
       "    </tr>\n",
       "    <tr>\n",
       "      <th>397</th>\n",
       "      <td>ab</td>\n",
       "      <td>0.001111</td>\n",
       "    </tr>\n",
       "    <tr>\n",
       "      <th>7012</th>\n",
       "      <td>ba</td>\n",
       "      <td>0.001111</td>\n",
       "    </tr>\n",
       "    <tr>\n",
       "      <th>7252</th>\n",
       "      <td>aa</td>\n",
       "      <td>0.001111</td>\n",
       "    </tr>\n",
       "    <tr>\n",
       "      <th>39305</th>\n",
       "      <td>abc</td>\n",
       "      <td>0.000966</td>\n",
       "    </tr>\n",
       "    <tr>\n",
       "      <th>15498</th>\n",
       "      <td>aba</td>\n",
       "      <td>0.000037</td>\n",
       "    </tr>\n",
       "    <tr>\n",
       "      <th>6485</th>\n",
       "      <td>abb</td>\n",
       "      <td>0.000037</td>\n",
       "    </tr>\n",
       "    <tr>\n",
       "      <th>46071</th>\n",
       "      <td>aaa</td>\n",
       "      <td>0.000037</td>\n",
       "    </tr>\n",
       "    <tr>\n",
       "      <th>48910</th>\n",
       "      <td>abba</td>\n",
       "      <td>0.000001</td>\n",
       "    </tr>\n",
       "    <tr>\n",
       "      <th>24794</th>\n",
       "      <td>aaaa</td>\n",
       "      <td>0.000001</td>\n",
       "    </tr>\n",
       "    <tr>\n",
       "      <th>▪</th>\n",
       "      <td>▪</td>\n",
       "      <td>0.000000</td>\n",
       "    </tr>\n",
       "  </tbody>\n",
       "</table>\n",
       "</div>"
      ],
      "text/plain": [
       "         chars      prob\n",
       "token_id                \n",
       "66           c  0.869821\n",
       "64           a  0.033333\n",
       "65           b  0.033333\n",
       "15630       bc  0.028994\n",
       "330         ac  0.028994\n",
       "11848       bb  0.001111\n",
       "397         ab  0.001111\n",
       "7012        ba  0.001111\n",
       "7252        aa  0.001111\n",
       "39305      abc  0.000966\n",
       "15498      aba  0.000037\n",
       "6485       abb  0.000037\n",
       "46071      aaa  0.000037\n",
       "48910     abba  0.000001\n",
       "24794     aaaa  0.000001\n",
       "▪            ▪  0.000000"
      ]
     },
     "execution_count": 80,
     "metadata": {},
     "output_type": "execute_result"
    }
   ],
   "source": [
    "df = []\n",
    "for x, w in sorted(normalize(lm2.p_next(context)).items(), key=lambda kv: -kv[1]):\n",
    "    df.append((x, (H.tokenizer.decode([x]) if x != EOS else EOS), w))\n",
    "pd.DataFrame(df, columns=['token_id', 'chars', 'prob']).set_index('token_id')"
   ]
  },
  {
   "cell_type": "code",
   "execution_count": 81,
   "id": "956b30e0-11be-4339-b576-fdd97c9d985a",
   "metadata": {},
   "outputs": [
    {
     "data": {
      "text/html": [
       "<div style=\"font-family: Monospace;\"><table><tr style=\"font-weight: bold;\"><td>key</td><td>value</td></tr><tr><td><pre>c</pre></td><td><pre>0.9333333333333405</pre></td> </tr><tr><td><pre>a</pre></td><td><pre>0.03333333333332973</pre></td> </tr><tr><td><pre>b</pre></td><td><pre>0.03333333333332973</pre></td> </tr></table></div>"
      ],
      "text/plain": [
       "{'c': 0.9333333333333405, 'a': 0.03333333333332973, 'b': 0.03333333333332973}"
      ]
     },
     "execution_count": 81,
     "metadata": {},
     "output_type": "execute_result"
    }
   ],
   "source": [
    "Float.chart(normalize(lm.p_next(char_context)))"
   ]
  },
  {
   "cell_type": "code",
   "execution_count": null,
   "id": "2a035044-4c12-495a-8b70-1a6bda2cbb40",
   "metadata": {},
   "outputs": [],
   "source": []
  },
  {
   "cell_type": "markdown",
   "id": "d3e142ef-2966-4614-aa72-5a998059dc50",
   "metadata": {
    "jp-MarkdownHeadingCollapsed": true
   },
   "source": [
    "## Lexing"
   ]
  },
  {
   "cell_type": "code",
   "execution_count": null,
   "id": "db2f8551-e3aa-474b-92d5-3219ad81b36c",
   "metadata": {},
   "outputs": [],
   "source": [
    "lark_stuff = LarkStuff(r\"\"\"\n",
    "\n",
    "start: \"SELECT\" WS STAR WS \"FROM\" WS NAME WS EOS\n",
    "\n",
    "EOS: \"</s>\"\n",
    "NAME: /[a-z]+/\n",
    "STAR: \"*\"\n",
    "WS: /[ ]/\n",
    "\n",
    "\"\"\")"
   ]
  },
  {
   "cell_type": "code",
   "execution_count": null,
   "id": "16b1d527-d27a-46e9-8e8e-e2a3da812351",
   "metadata": {},
   "outputs": [],
   "source": [
    "foo = lark_stuff.char_cfg(.1)"
   ]
  },
  {
   "cell_type": "code",
   "execution_count": null,
   "id": "77d438bc-5767-444a-a449-571f511575f0",
   "metadata": {},
   "outputs": [],
   "source": [
    "#foo['NAME'].trim().agenda()"
   ]
  },
  {
   "cell_type": "code",
   "execution_count": null,
   "id": "6114f525-ff3b-4736-bc3a-d48ebcff71c1",
   "metadata": {},
   "outputs": [],
   "source": [
    "#foo.agenda()"
   ]
  },
  {
   "cell_type": "code",
   "execution_count": null,
   "id": "c8a2e4dd-81f3-433f-83a0-651f27ca63de",
   "metadata": {},
   "outputs": [],
   "source": [
    "foo = locally_normalize(foo, tol=1e-100).trim()\n",
    "assert len(foo) > 0"
   ]
  },
  {
   "cell_type": "code",
   "execution_count": null,
   "id": "d3fffee2-0852-4aef-a92c-0e6b100be3b5",
   "metadata": {},
   "outputs": [],
   "source": [
    "#foo"
   ]
  },
  {
   "cell_type": "code",
   "execution_count": null,
   "id": "79508f80-8c4a-4cc9-8487-10920b285dd2",
   "metadata": {},
   "outputs": [],
   "source": [
    "lm = CFGLM(add_EOS(foo))"
   ]
  },
  {
   "cell_type": "code",
   "execution_count": null,
   "id": "86cde92c-91ea-410a-b002-88b6f383916c",
   "metadata": {},
   "outputs": [],
   "source": [
    "trace = TraceSWOR()\n",
    "for _ in range(15):\n",
    "   print('mass=', trace.root.mass)\n",
    "   with trace:\n",
    "       print(''.join(lm.sample(draw=trace)))"
   ]
  },
  {
   "cell_type": "code",
   "execution_count": null,
   "id": "e36e6deb-900c-4dbd-bad4-c51ce910a641",
   "metadata": {},
   "outputs": [],
   "source": []
  },
  {
   "cell_type": "code",
   "execution_count": null,
   "id": "78a60e9d-e85b-4759-8653-bcccd72c02dd",
   "metadata": {},
   "outputs": [],
   "source": [
    "cfg = lark_stuff.convert().renumber()"
   ]
  },
  {
   "cell_type": "code",
   "execution_count": null,
   "id": "db081114-ac49-4e6d-9c8f-b078966f965e",
   "metadata": {},
   "outputs": [],
   "source": [
    "c2t = lark_stuff.transducer(ignore='', decay=.0125); len(c2t.states)"
   ]
  },
  {
   "cell_type": "markdown",
   "id": "4b8fd795-8971-41aa-8347-883ec12f0623",
   "metadata": {},
   "source": [
    "The `lark` library will only lex it one way because it has a deterministic semantics for prioritized lexing:"
   ]
  },
  {
   "cell_type": "code",
   "execution_count": null,
   "id": "48dee626-031a-409c-b523-57810a90b6c0",
   "metadata": {},
   "outputs": [],
   "source": [
    "x = 'SELECT * FROM data'"
   ]
  },
  {
   "cell_type": "code",
   "execution_count": null,
   "id": "3b469dfa-1951-419e-918d-2753befef16c",
   "metadata": {},
   "outputs": [],
   "source": [
    "list(lark_stuff.lex(x))"
   ]
  },
  {
   "cell_type": "markdown",
   "id": "890c4399-43c6-44f3-ba0a-9d4c720591ed",
   "metadata": {},
   "source": [
    "However, this string can lex many different ways:"
   ]
  },
  {
   "cell_type": "code",
   "execution_count": null,
   "id": "e4b13795-6d91-4604-847f-76a1cbec7576",
   "metadata": {},
   "outputs": [],
   "source": [
    "ambig = (FST.from_string(x, Float) @ c2t).trim.project(1).epsremove.trim.to_cfg().cnf.language(15)"
   ]
  },
  {
   "cell_type": "code",
   "execution_count": null,
   "id": "6d725b7f-f4c0-4cd5-8f0f-61bda50afe36",
   "metadata": {},
   "outputs": [],
   "source": [
    "#ambig"
   ]
  },
  {
   "cell_type": "markdown",
   "id": "1113c156-60a3-48c9-846f-cf9487dc5125",
   "metadata": {},
   "source": [
    "It might be fine to allow ambiguous lexing because very few of the possible lexing options will survive the parser."
   ]
  },
  {
   "cell_type": "code",
   "execution_count": null,
   "id": "a7cb2cbf-8561-4b15-9713-5942a0568883",
   "metadata": {},
   "outputs": [],
   "source": [
    "for y in ambig:\n",
    "    v = cfg.prefix_weight(y)   # show all options with a nonzero prefix weight\n",
    "    if v == 0: continue\n",
    "    print(v, y)"
   ]
  },
  {
   "cell_type": "code",
   "execution_count": null,
   "id": "5ddeacb6-c2d1-4338-ac43-08f6dfe4dfea",
   "metadata": {},
   "outputs": [],
   "source": [
    "#((FST.from_string('SELECT', Float) @ c2t) @ P.T @ cfg).trim().cnf.language(15)"
   ]
  },
  {
   "cell_type": "code",
   "execution_count": null,
   "id": "e0efbe84-53c3-4d07-8a32-956036803019",
   "metadata": {},
   "outputs": [],
   "source": [
    "#(P.T @ cfg).trim().cnf.language(100)"
   ]
  },
  {
   "cell_type": "code",
   "execution_count": null,
   "id": "dfc2e37c-55cc-485b-b755-3281ad9aaa0a",
   "metadata": {},
   "outputs": [],
   "source": [
    "cfg_t = (c2t.renumber @ cfg).trim()\n",
    "pcfg_t = locally_normalize(cfg_t, tol=1e-100, maxiter=10_000_000)"
   ]
  },
  {
   "cell_type": "code",
   "execution_count": null,
   "id": "6e65a6fd-e69a-4836-8404-044aa18d85ca",
   "metadata": {},
   "outputs": [],
   "source": [
    "pcfg_check(pcfg_t)"
   ]
  },
  {
   "cell_type": "code",
   "execution_count": null,
   "id": "405b0d8c-fd5e-4746-a959-c847a3a7bb25",
   "metadata": {},
   "outputs": [],
   "source": [
    "cfg_t('SELECT * FROM data </s>')"
   ]
  },
  {
   "cell_type": "code",
   "execution_count": null,
   "id": "6a341822-10fa-4dec-9d48-097e676634a3",
   "metadata": {},
   "outputs": [],
   "source": [
    "cfg_t('SELECT * FROM data </s>')"
   ]
  },
  {
   "cell_type": "code",
   "execution_count": null,
   "id": "857feb25-f028-43cc-810b-09b905e550df",
   "metadata": {},
   "outputs": [],
   "source": [
    "lm = CFGLM(add_EOS(pcfg_t.cnf))"
   ]
  },
  {
   "cell_type": "code",
   "execution_count": null,
   "id": "8658feb1-73eb-4610-8ea7-f5292b698a66",
   "metadata": {},
   "outputs": [],
   "source": [
    "for _ in range(10):\n",
    "    print(''.join(lm.sample()))"
   ]
  },
  {
   "cell_type": "code",
   "execution_count": null,
   "id": "a6be40a1-cc63-454a-a3d5-2ac66baba86a",
   "metadata": {},
   "outputs": [],
   "source": [
    "lm.p_next('SELECT * FROM ')"
   ]
  },
  {
   "cell_type": "code",
   "execution_count": null,
   "id": "ed95fbfe-24fe-42b9-8daa-e07159bd5856",
   "metadata": {},
   "outputs": [],
   "source": []
  },
  {
   "cell_type": "code",
   "execution_count": null,
   "id": "8ac1d457-4cb3-4fae-bb05-06d26a173fc0",
   "metadata": {},
   "outputs": [],
   "source": []
  },
  {
   "cell_type": "markdown",
   "id": "0f0582ac-3451-4b7f-bcb0-1fc2cdc8efbe",
   "metadata": {
    "jp-MarkdownHeadingCollapsed": true
   },
   "source": [
    "## BPE Basics"
   ]
  },
  {
   "cell_type": "code",
   "execution_count": null,
   "id": "66dddc70-9ccd-4e03-9135-8461fb0c831b",
   "metadata": {},
   "outputs": [],
   "source": [
    "hf_tk = hf_tokenizer()\n",
    "tokenizer = hf_tk.tokenizer"
   ]
  },
  {
   "cell_type": "code",
   "execution_count": null,
   "id": "3113a7ae-ea16-4b18-9612-70b4fdcee7b2",
   "metadata": {},
   "outputs": [],
   "source": [
    "b2c = hf_tk.fst\n",
    "len(b2c.states)"
   ]
  },
  {
   "cell_type": "code",
   "execution_count": null,
   "id": "822277b4-4f0f-43a2-8783-e6a5831109a2",
   "metadata": {},
   "outputs": [],
   "source": [
    "x = 'SELECT * FROM data'\n",
    "b = tokenizer.encode(x)\n",
    "b"
   ]
  },
  {
   "cell_type": "code",
   "execution_count": null,
   "id": "5a439aee-06e4-4e3c-b244-892f29ddc63b",
   "metadata": {},
   "outputs": [],
   "source": [
    "[tokenizer.decode([bb]) for bb in b]"
   ]
  },
  {
   "cell_type": "code",
   "execution_count": null,
   "id": "54a5ff04-03bb-4965-9f05-8085c90dce5e",
   "metadata": {},
   "outputs": [],
   "source": [
    "with timeit('composition'):\n",
    "    c = FST.from_string(tuple(b), Float) @ b2c\n",
    "about(c)"
   ]
  },
  {
   "cell_type": "code",
   "execution_count": null,
   "id": "3f35ab22-cc99-4b61-836d-5109ae8934fd",
   "metadata": {},
   "outputs": [],
   "source": [
    "c.trim"
   ]
  },
  {
   "cell_type": "markdown",
   "id": "5e537195-c06c-4642-8a15-557de5a90f98",
   "metadata": {},
   "source": [
    "We can build this \"transducer\" more efficiently"
   ]
  },
  {
   "cell_type": "code",
   "execution_count": null,
   "id": "3cd29a5c-4b4a-4d65-b3e5-f4375b607fdb",
   "metadata": {},
   "outputs": [],
   "source": [
    "t = bpe2term_approx(tokenizer, tokenizer.encode(x)).epsremove.trim\n",
    "t"
   ]
  },
  {
   "cell_type": "code",
   "execution_count": null,
   "id": "42741260-329d-4a9f-aeee-b2655c260144",
   "metadata": {},
   "outputs": [],
   "source": []
  },
  {
   "cell_type": "markdown",
   "id": "d2df7b26-8065-4ae0-a83d-19d7b5cc436f",
   "metadata": {
    "jp-MarkdownHeadingCollapsed": true
   },
   "source": [
    "## BPE Ambiguity"
   ]
  },
  {
   "cell_type": "code",
   "execution_count": null,
   "id": "ac49282e-6174-4ab2-9c52-7be7663ecdae",
   "metadata": {},
   "outputs": [],
   "source": [
    "with timeit('composition'):\n",
    "    bs = b2c @ FST.from_string(x, Float)\n",
    "with timeit('trim'):\n",
    "    bs.trim\n",
    "about(bs)"
   ]
  },
  {
   "cell_type": "code",
   "execution_count": null,
   "id": "ccf89bc2-a985-44bc-b099-676221f34b05",
   "metadata": {},
   "outputs": [],
   "source": [
    "#bs.trim"
   ]
  },
  {
   "cell_type": "markdown",
   "id": "1f9e46e7-f348-4790-9f2e-ab3812c61f41",
   "metadata": {},
   "source": [
    "The automaton below describes all the BPE sequences that generate the string `x`:"
   ]
  },
  {
   "cell_type": "code",
   "execution_count": null,
   "id": "072cb3c3-6828-4a2d-88d5-d5d5fee491d1",
   "metadata": {},
   "outputs": [],
   "source": [
    "bs.trim.project(0).epsremove.trim"
   ]
  },
  {
   "cell_type": "markdown",
   "id": "c1a488f7-91ff-4d0a-a825-c2da8bbccc29",
   "metadata": {},
   "source": [
    "To see all the BPE sequences that generate `x` run the cell below:"
   ]
  },
  {
   "cell_type": "code",
   "execution_count": null,
   "id": "5ca21894-4a66-4d57-b631-f64f4fc2b575",
   "metadata": {},
   "outputs": [],
   "source": [
    "#for y in bs.trim.project(0).epsremove.trim.to_cfg().language(10):\n",
    "#    print(tokenizer.decode(y), y)"
   ]
  },
  {
   "cell_type": "code",
   "execution_count": null,
   "id": "9632097d-a97a-4d59-8683-7dd637e3e0f8",
   "metadata": {},
   "outputs": [],
   "source": []
  },
  {
   "cell_type": "code",
   "execution_count": null,
   "id": "5b29e1dc-bfd3-47a3-be89-fcd79ac1217a",
   "metadata": {},
   "outputs": [],
   "source": []
  },
  {
   "cell_type": "markdown",
   "id": "60280fdd-8a22-4764-9e76-97814619a4cb",
   "metadata": {
    "jp-MarkdownHeadingCollapsed": true
   },
   "source": [
    "## A Basic Alignment Algorithm"
   ]
  },
  {
   "cell_type": "code",
   "execution_count": null,
   "id": "45add727-d4d9-418b-bf92-b7e782f23703",
   "metadata": {},
   "outputs": [],
   "source": [
    "lark_stuff = LarkStuff(r\"\"\"\n",
    "start: \"SELECT\" WS select_expr WS \"FROM\" WS from_expr [WS \"WHERE\" WS bool_condition] [WS \"GROUP BY\" WS var_list] [WS \"ORDER BY\" WS orderby_expr] WS EOS\n",
    "EOS: \"</s>\"\n",
    "select_expr: STAR | select_list\n",
    "bool_condition: bool_expr | \"(\" bool_condition WS \"AND\" WS bool_condition \")\" | \"(\" bool_condition WS \"OR\" WS bool_condition \")\"\n",
    "bool_expr: var \"=\" value | var \">\" value | var \"<\" value\n",
    "from_expr: \"data\"\n",
    "orderby_expr: var_list WS \"ASC\" | var_list WS \"DESC\"\n",
    "select_list: select_var (\",\" WS select_var)*\n",
    "var_list: var (\",\" WS var)*\n",
    "select_var: var | \"AVG(\" var \")\" | \"MEDIAN(\" var \")\" | \"COUNT(\" var \")\"\n",
    "var: \"age\" | \"gender\" | \"year\" | \"state_color\" | \"zipcode\" | \"vote\" | \"race_ethnicity\"\n",
    "value: NUMBER | \"red\" | \"blue\" | \"white\" | \"black\" | \"latino\" | \"republican\" | \"democrat\" | \"male\" | \"female\"\n",
    "STAR: \"*\"\n",
    "NUMBER: /\\d+/\n",
    "WS: \" \"\n",
    "\"\"\")\n",
    "\n",
    "foo = lark_stuff.char_cfg(.7)\n",
    "foo = locally_normalize(foo, tol=1e-100).trim()\n",
    "assert len(foo) > 0\n",
    "lm = CFGLM(foo)"
   ]
  },
  {
   "cell_type": "code",
   "execution_count": null,
   "id": "82ea9156-8c57-4cba-b448-094a29fd05b4",
   "metadata": {},
   "outputs": [],
   "source": []
  },
  {
   "cell_type": "code",
   "execution_count": null,
   "id": "94820485-f8eb-48e0-86db-cc0faa3b5271",
   "metadata": {},
   "outputs": [],
   "source": [
    "print(''.join(lm.sample()))"
   ]
  },
  {
   "cell_type": "code",
   "execution_count": null,
   "id": "eea67856-e347-4ba0-970c-25bf92b122df",
   "metadata": {},
   "outputs": [],
   "source": []
  },
  {
   "cell_type": "code",
   "execution_count": null,
   "id": "c2158a77-e14c-4e93-b533-4184aae7d4a5",
   "metadata": {},
   "outputs": [],
   "source": [
    "H = hf_tokenizer()"
   ]
  },
  {
   "cell_type": "code",
   "execution_count": null,
   "id": "3d792b5f-c322-47d7-8190-7937b5967fe6",
   "metadata": {},
   "outputs": [],
   "source": [
    "bpe_lm = CharAlignedCFGLM(lm=lm, words={x for _, x in H.pairs}, eos=H.tokenizer.eos_token)"
   ]
  },
  {
   "cell_type": "code",
   "execution_count": null,
   "id": "6aa7e87e-cf79-4319-9ecd-5a5f828adee1",
   "metadata": {},
   "outputs": [],
   "source": [
    "lm.p_next('')"
   ]
  },
  {
   "cell_type": "code",
   "execution_count": null,
   "id": "cc70e82c-138c-4a59-a261-049bcfd5bdd5",
   "metadata": {},
   "outputs": [],
   "source": []
  },
  {
   "cell_type": "code",
   "execution_count": null,
   "id": "64fcecc6-3ea2-4aeb-8ebc-de15472ca0e2",
   "metadata": {},
   "outputs": [],
   "source": [
    "bpe_lm.p_next('')"
   ]
  },
  {
   "cell_type": "code",
   "execution_count": null,
   "id": "f0584af6-04a2-46c6-9a85-7c94dfe2e3b0",
   "metadata": {},
   "outputs": [],
   "source": [
    "lm.p_next('SELECT ')"
   ]
  },
  {
   "cell_type": "code",
   "execution_count": null,
   "id": "0aa025a6-d83a-4ce2-9fa7-9adf08f5621e",
   "metadata": {},
   "outputs": [],
   "source": [
    "bpe_lm.p_next('SELECT ')"
   ]
  },
  {
   "cell_type": "code",
   "execution_count": null,
   "id": "b4720986-8690-49b4-ac18-20539b6a622f",
   "metadata": {},
   "outputs": [],
   "source": [
    "ys = bpe_lm.sample(verbose=0)\n",
    "ys"
   ]
  },
  {
   "cell_type": "markdown",
   "id": "ca7ee095-f67f-4dc1-b010-b11b0ad002ec",
   "metadata": {},
   "source": [
    "## Avoiding Distortion in Tokenization Alignment. "
   ]
  },
  {
   "cell_type": "markdown",
   "id": "d6485bd0-b543-44da-8b4b-ee6ff13c628b",
   "metadata": {},
   "source": [
    "\n",
    "Let $p$ be some original CFG-LM over character strings $a \\in \\mathcal{A}^*$.\n",
    "\n",
    "Let $p'$ be the \"BPE transform\" of $p$; $p'$ is a distribution over BPE strings $b \\in \\mathcal{B}^*$.\n",
    "\n",
    "The sets $\\mathcal{A}^*$ and $\\mathcal{B}^*$ are related through the functions $\\mathrm{encode}$ and $\\mathrm{decode}$.\n",
    "\n",
    "We want \n",
    "\n",
    "$$\n",
    "\\forall a\\colon\\quad   p(a) = \\sum_{b\\colon\\ \\mathrm{decode}(b) = a} p'(b)\n",
    "$$\n",
    "\n",
    "We would like to define $p'$ such that this property holds because it ensures that the process:\n",
    "\n",
    "1. $b \\sim p'$\n",
    "2. $a = \\mathrm{decode}(b)$\n",
    "\n",
    "generates $a$ that is distributed $p$.  We call the process **distortion-free** if these conditions are satisfied.\n",
    "\n",
    "**Open question**: For any distribution $p$ and (segmentation-based) tokenization scheme, does a computationally efficient, incremental, distortion-free generative process exist?"
   ]
  },
  {
   "cell_type": "markdown",
   "id": "15e61ce9-dedf-4087-9e6d-44ed42aaa21e",
   "metadata": {},
   "source": [
    "It may be possible to satisfy the anti-distortion property in some ways that are \"bad\" because they would adversely affect the downstream components.  Consider the following **unwanted workaround** for BPE tokenization (which is a *segmentation* model).  In that case, we have, by construction, individual characters included in the token vocabulary.  This means that we can define a trivial segmentation that only takes unit-length segments.  This will not be the preferred prediction scheme of the LLM model -- it will prefer the segments that are more representative of those that would appear in this context in the training data."
   ]
  },
  {
   "cell_type": "markdown",
   "id": "ab5cb426-3a4e-4ef2-8a12-c40b2aeae23a",
   "metadata": {},
   "source": [
    "This suggests that either the LM should be as unopinionated about the tokenization/segmentation as possible.  Or, it should attempt to match the canonical tokenization (in so far as one exists).  (Could the latter case lead to unwanted amplification?)"
   ]
  },
  {
   "cell_type": "markdown",
   "id": "816edf33-55cd-4d22-9fce-5adc2ff5cb86",
   "metadata": {},
   "source": [
    "The below we explore some preliminary attempts to understand the distortion in the char-alignment adaptor (I might refer to this a \"grafting\" as well as a more global transduction-based approach)."
   ]
  },
  {
   "cell_type": "markdown",
   "id": "d115e74c-fbb9-4b73-9cd1-37a995f5c503",
   "metadata": {},
   "source": [
    "$$\\newcommand{\\BtoA}[0]{\\underset{\\mathcal{B} \\to \\mathcal{A}}{\\phi}}$$"
   ]
  },
  {
   "cell_type": "markdown",
   "id": "d837c2bf-6b1e-47c8-9731-4e5412de2071",
   "metadata": {},
   "source": [
    "The class `CharAlignedCFGLM` implements an LM $q$ over tokens based on the following conditional factorization:\n",
    "\n",
    "$$\n",
    "q(b_{N+1} \\mid b_1, \\ldots, b_N) \\propto p( a_{N+1} \\mid a_1 \\cdots a_N )\n",
    "$$\n",
    "\n",
    "where $b_1, \\ldots, b_N$ are a sequence of tokens ids, and $a_1, \\ldots, a_N$ are their respective strings in $\\mathcal{A}^*$ (i.e., $\\left( b_k \\BtoA \\right) = B_k$ for each $k = 1, \\ldots, N$)."
   ]
  },
  {
   "cell_type": "markdown",
   "id": "d8cb0c79-96eb-4cf8-87d3-2b02e903d807",
   "metadata": {},
   "source": [
    "The transduction model $\\widehat{G} \\overset{\\mathrm{def}}{=} \\BtoA \\, G$"
   ]
  },
  {
   "cell_type": "code",
   "execution_count": 270,
   "id": "0256b966-380f-49fa-89e0-e3deb9e6f10e",
   "metadata": {},
   "outputs": [],
   "source": [
    "_cfg = CFG.from_string(\"\"\"\n",
    "\n",
    "1: S -> a\n",
    "1: S -> a a\n",
    "2: S -> a a a\n",
    "\n",
    "\"\"\", Float)\n",
    "\n",
    "alphabet = _cfg.V\n",
    "tokens = {'a','aa','aaa', EOS}\n",
    "\n",
    "c_lm = CFGLM(locally_normalize(_cfg, tol=1e-100).trim())"
   ]
  },
  {
   "cell_type": "code",
   "execution_count": 271,
   "id": "010735fd-b455-45bd-ac9d-17db4393bc95",
   "metadata": {},
   "outputs": [
    {
     "data": {
      "text/html": [
       "<pre style=\"width: fit-content; text-align: left; border: thin solid black; padding: 0.5em;\">Grammar {\n",
       "  1: 0 → 1 ▪\n",
       "  0.25: 1 → a\n",
       "  0.25: 1 → a a\n",
       "  0.5: 1 → a a a\n",
       "}</pre>"
      ],
      "text/plain": [
       "Grammar {\n",
       "  1: 0 → 1 ▪\n",
       "  0.25: 1 → a\n",
       "  0.25: 1 → a a\n",
       "  0.5: 1 → a a a\n",
       "}"
      ]
     },
     "execution_count": 271,
     "metadata": {},
     "output_type": "execute_result"
    }
   ],
   "source": [
    "c_lm.cfg"
   ]
  },
  {
   "cell_type": "code",
   "execution_count": 272,
   "id": "e8659235-6e35-47f7-bc2e-082e7dab9665",
   "metadata": {},
   "outputs": [],
   "source": [
    "a_lm = CharAlignedCFGLM(c_lm, tokens, EOS)"
   ]
  },
  {
   "cell_type": "code",
   "execution_count": 273,
   "id": "d1d5c923-ef64-49f1-9201-5ee2c1ea2890",
   "metadata": {},
   "outputs": [
    {
     "data": {
      "text/html": [
       "<table><tr><td><div style=\"font-family: Monospace;\"><table><tr style=\"font-weight: bold;\"><td>key</td><td>value</td></tr><tr><td><pre>(&#x27;a&#x27;,)</pre></td><td><pre>0.25</pre></td> </tr><tr><td><pre>(&#x27;a&#x27;, &#x27;a&#x27;)</pre></td><td><pre>0.25</pre></td> </tr><tr><td><pre>(&#x27;a&#x27;, &#x27;a&#x27;, &#x27;a&#x27;)</pre></td><td><pre>0.5</pre></td> </tr></table></div></td><td><?xml version=\"1.0\" encoding=\"UTF-8\" standalone=\"no\"?>\n",
       "<!DOCTYPE svg PUBLIC \"-//W3C//DTD SVG 1.1//EN\"\n",
       " \"http://www.w3.org/Graphics/SVG/1.1/DTD/svg11.dtd\">\n",
       "<!-- Generated by graphviz version 2.43.0 (0)\n",
       " -->\n",
       "<!-- Title: %3 Pages: 1 -->\n",
       "<svg width=\"371pt\" height=\"80pt\"\n",
       " viewBox=\"0.00 0.00 371.00 79.50\" xmlns=\"http://www.w3.org/2000/svg\" xmlns:xlink=\"http://www.w3.org/1999/xlink\">\n",
       "<g id=\"graph0\" class=\"graph\" transform=\"scale(1 1) rotate(0) translate(4 75.5)\">\n",
       "<title>%3</title>\n",
       "<polygon fill=\"white\" stroke=\"transparent\" points=\"-4,4 -4,-75.5 367,-75.5 367,4 -4,4\"/>\n",
       "<!-- 0 -->\n",
       "<g id=\"node1\" class=\"node\">\n",
       "<title>0</title>\n",
       "<polygon fill=\"none\" stroke=\"black\" points=\"15,-33 0,-33 0,-16 15,-16 15,-33\"/>\n",
       "<text text-anchor=\"middle\" x=\"7.5\" y=\"-22\" font-family=\"Monospace\" font-size=\"10.00\">1</text>\n",
       "</g>\n",
       "<!-- 1 -->\n",
       "<g id=\"node2\" class=\"node\">\n",
       "<title>1</title>\n",
       "<polygon fill=\"none\" stroke=\"black\" points=\"82,-33 67,-33 67,-16 82,-16 82,-33\"/>\n",
       "<text text-anchor=\"middle\" x=\"74.5\" y=\"-22\" font-family=\"Monospace\" font-size=\"10.00\">1</text>\n",
       "</g>\n",
       "<!-- 0&#45;&gt;1 -->\n",
       "<g id=\"edge1\" class=\"edge\">\n",
       "<title>0&#45;&gt;1</title>\n",
       "<path fill=\"none\" stroke=\"black\" d=\"M15.46,-24.5C27.05,-24.5 50.36,-24.5 63.64,-24.5\"/>\n",
       "<polygon fill=\"black\" stroke=\"black\" points=\"63.79,-25.55 66.79,-24.5 63.79,-23.45 63.79,-25.55\"/>\n",
       "<text text-anchor=\"middle\" x=\"41\" y=\"-27.3\" font-family=\"Monospace\" font-size=\"9.00\">a/1</text>\n",
       "</g>\n",
       "<!-- 2 -->\n",
       "<g id=\"node3\" class=\"node\">\n",
       "<title>2</title>\n",
       "<polygon fill=\"none\" stroke=\"black\" points=\"183,-52 150,-52 150,-35 183,-35 183,-52\"/>\n",
       "<text text-anchor=\"middle\" x=\"166.5\" y=\"-41\" font-family=\"Monospace\" font-size=\"10.00\">0.75</text>\n",
       "</g>\n",
       "<!-- 1&#45;&gt;2 -->\n",
       "<g id=\"edge2\" class=\"edge\">\n",
       "<title>1&#45;&gt;2</title>\n",
       "<path fill=\"none\" stroke=\"black\" d=\"M82.26,-25.93C95.71,-28.77 126.24,-35.21 146.35,-39.46\"/>\n",
       "<polygon fill=\"black\" stroke=\"black\" points=\"146.58,-40.58 149.73,-40.17 147.01,-38.52 146.58,-40.58\"/>\n",
       "<text text-anchor=\"middle\" x=\"116\" y=\"-38.3\" font-family=\"Monospace\" font-size=\"9.00\">a/0.75</text>\n",
       "</g>\n",
       "<!-- 3 -->\n",
       "<g id=\"node4\" class=\"node\">\n",
       "<title>3</title>\n",
       "<polygon fill=\"none\" stroke=\"black\" points=\"183,-17 150,-17 150,0 183,0 183,-17\"/>\n",
       "<text text-anchor=\"middle\" x=\"166.5\" y=\"-6\" font-family=\"Monospace\" font-size=\"10.00\">0.25</text>\n",
       "</g>\n",
       "<!-- 1&#45;&gt;3 -->\n",
       "<g id=\"edge3\" class=\"edge\">\n",
       "<title>1&#45;&gt;3</title>\n",
       "<path fill=\"none\" stroke=\"black\" d=\"M82.38,-19.35C87.07,-16.15 93.59,-12.31 100,-10.5 115.24,-6.2 133.28,-5.99 146.56,-6.69\"/>\n",
       "<polygon fill=\"black\" stroke=\"black\" points=\"146.77,-7.75 149.83,-6.88 146.89,-5.65 146.77,-7.75\"/>\n",
       "<text text-anchor=\"middle\" x=\"116\" y=\"-13.3\" font-family=\"Monospace\" font-size=\"9.00\">▪/0.25</text>\n",
       "</g>\n",
       "<!-- 4 -->\n",
       "<g id=\"node5\" class=\"node\">\n",
       "<title>4</title>\n",
       "<polygon fill=\"none\" stroke=\"black\" points=\"281,-70 254,-70 254,-53 281,-53 281,-70\"/>\n",
       "<text text-anchor=\"middle\" x=\"267.5\" y=\"-59\" font-family=\"Monospace\" font-size=\"10.00\">0.5</text>\n",
       "</g>\n",
       "<!-- 2&#45;&gt;4 -->\n",
       "<g id=\"edge4\" class=\"edge\">\n",
       "<title>2&#45;&gt;4</title>\n",
       "<path fill=\"none\" stroke=\"black\" d=\"M183.41,-46.39C201.9,-49.76 232.25,-55.27 250.7,-58.63\"/>\n",
       "<polygon fill=\"black\" stroke=\"black\" points=\"250.64,-59.68 253.78,-59.19 251.02,-57.62 250.64,-59.68\"/>\n",
       "<text text-anchor=\"middle\" x=\"217\" y=\"-57.3\" font-family=\"Monospace\" font-size=\"9.00\">a/0.67</text>\n",
       "</g>\n",
       "<!-- 5 -->\n",
       "<g id=\"node6\" class=\"node\">\n",
       "<title>5</title>\n",
       "<polygon fill=\"none\" stroke=\"black\" points=\"284,-35 251,-35 251,-18 284,-18 284,-35\"/>\n",
       "<text text-anchor=\"middle\" x=\"267.5\" y=\"-24\" font-family=\"Monospace\" font-size=\"10.00\">0.25</text>\n",
       "</g>\n",
       "<!-- 2&#45;&gt;5 -->\n",
       "<g id=\"edge5\" class=\"edge\">\n",
       "<title>2&#45;&gt;5</title>\n",
       "<path fill=\"none\" stroke=\"black\" d=\"M183.08,-35.01C188.58,-32.42 194.91,-29.9 201,-28.5 216.44,-24.95 234.45,-24.67 247.68,-25.16\"/>\n",
       "<polygon fill=\"black\" stroke=\"black\" points=\"247.89,-26.22 250.93,-25.29 247.98,-24.12 247.89,-26.22\"/>\n",
       "<text text-anchor=\"middle\" x=\"217\" y=\"-31.3\" font-family=\"Monospace\" font-size=\"9.00\">▪/0.33</text>\n",
       "</g>\n",
       "<!-- 6 -->\n",
       "<g id=\"node7\" class=\"node\">\n",
       "<title>6</title>\n",
       "<polygon fill=\"none\" stroke=\"black\" points=\"363,-70 336,-70 336,-53 363,-53 363,-70\"/>\n",
       "<text text-anchor=\"middle\" x=\"349.5\" y=\"-59\" font-family=\"Monospace\" font-size=\"10.00\">0.5</text>\n",
       "</g>\n",
       "<!-- 4&#45;&gt;6 -->\n",
       "<g id=\"edge6\" class=\"edge\">\n",
       "<title>4&#45;&gt;6</title>\n",
       "<path fill=\"none\" stroke=\"black\" d=\"M281.35,-61.5C295.31,-61.5 317.63,-61.5 332.66,-61.5\"/>\n",
       "<polygon fill=\"black\" stroke=\"black\" points=\"332.94,-62.55 335.94,-61.5 332.94,-60.45 332.94,-62.55\"/>\n",
       "<text text-anchor=\"middle\" x=\"310\" y=\"-64.3\" font-family=\"Monospace\" font-size=\"9.00\">▪/1</text>\n",
       "</g>\n",
       "</g>\n",
       "</svg>\n",
       "</td> </tr></table>"
      ],
      "text/plain": [
       "<IPython.core.display.HTML object>"
      ]
     },
     "metadata": {},
     "output_type": "display_data"
    }
   ],
   "source": [
    "C, tracer_char = generation_tree(c_lm)\n",
    "display_table([[C, tracer_char]])"
   ]
  },
  {
   "cell_type": "code",
   "execution_count": 274,
   "id": "a2a3feb0-a61c-4b37-983b-2027c63aad0a",
   "metadata": {},
   "outputs": [
    {
     "data": {
      "text/html": [
       "<table><tr><td><div style=\"font-family: Monospace;\"><table><tr style=\"font-weight: bold;\"><td>key</td><td>value</td></tr><tr><td><pre>a</pre></td><td><pre>0.0855614973262032</pre></td> </tr><tr><td><pre>aa</pre></td><td><pre>0.2032085561497326</pre></td> </tr><tr><td><pre>aaa</pre></td><td><pre>0.7112299465240641</pre></td> </tr></table></div></td><td><?xml version=\"1.0\" encoding=\"UTF-8\" standalone=\"no\"?>\n",
       "<!DOCTYPE svg PUBLIC \"-//W3C//DTD SVG 1.1//EN\"\n",
       " \"http://www.w3.org/Graphics/SVG/1.1/DTD/svg11.dtd\">\n",
       "<!-- Generated by graphviz version 2.43.0 (0)\n",
       " -->\n",
       "<!-- Title: %3 Pages: 1 -->\n",
       "<svg width=\"439pt\" height=\"200pt\"\n",
       " viewBox=\"0.00 0.00 439.00 200.00\" xmlns=\"http://www.w3.org/2000/svg\" xmlns:xlink=\"http://www.w3.org/1999/xlink\">\n",
       "<g id=\"graph0\" class=\"graph\" transform=\"scale(1 1) rotate(0) translate(4 196)\">\n",
       "<title>%3</title>\n",
       "<polygon fill=\"white\" stroke=\"transparent\" points=\"-4,4 -4,-196 435,-196 435,4 -4,4\"/>\n",
       "<!-- 0 -->\n",
       "<g id=\"node1\" class=\"node\">\n",
       "<title>0</title>\n",
       "<polygon fill=\"none\" stroke=\"black\" points=\"15,-130 0,-130 0,-113 15,-113 15,-130\"/>\n",
       "<text text-anchor=\"middle\" x=\"7.5\" y=\"-119\" font-family=\"Monospace\" font-size=\"10.00\">1</text>\n",
       "</g>\n",
       "<!-- 1 -->\n",
       "<g id=\"node2\" class=\"node\">\n",
       "<title>1</title>\n",
       "<polygon fill=\"none\" stroke=\"black\" points=\"127,-178 94,-178 94,-161 127,-161 127,-178\"/>\n",
       "<text text-anchor=\"middle\" x=\"110.5\" y=\"-167\" font-family=\"Monospace\" font-size=\"10.00\">0.18</text>\n",
       "</g>\n",
       "<!-- 0&#45;&gt;1 -->\n",
       "<g id=\"edge1\" class=\"edge\">\n",
       "<title>0&#45;&gt;1</title>\n",
       "<path fill=\"none\" stroke=\"black\" d=\"M15.35,-124.89C20.26,-127.31 27.02,-130.63 33,-133.5 52.72,-142.97 75.42,-153.62 90.93,-160.86\"/>\n",
       "<polygon fill=\"black\" stroke=\"black\" points=\"90.77,-161.95 93.94,-162.26 91.66,-160.04 90.77,-161.95\"/>\n",
       "<text text-anchor=\"middle\" x=\"54.5\" y=\"-155.3\" font-family=\"Monospace\" font-size=\"9.00\">aaa/0.18</text>\n",
       "</g>\n",
       "<!-- 2 -->\n",
       "<g id=\"node3\" class=\"node\">\n",
       "<title>2</title>\n",
       "<polygon fill=\"none\" stroke=\"black\" points=\"127,-130 94,-130 94,-113 127,-113 127,-130\"/>\n",
       "<text text-anchor=\"middle\" x=\"110.5\" y=\"-119\" font-family=\"Monospace\" font-size=\"10.00\">0.35</text>\n",
       "</g>\n",
       "<!-- 0&#45;&gt;2 -->\n",
       "<g id=\"edge2\" class=\"edge\">\n",
       "<title>0&#45;&gt;2</title>\n",
       "<path fill=\"none\" stroke=\"black\" d=\"M15.13,-121.5C30.19,-121.5 67.45,-121.5 90.39,-121.5\"/>\n",
       "<polygon fill=\"black\" stroke=\"black\" points=\"90.66,-122.55 93.66,-121.5 90.66,-120.45 90.66,-122.55\"/>\n",
       "<text text-anchor=\"middle\" x=\"54.5\" y=\"-124.3\" font-family=\"Monospace\" font-size=\"9.00\">aa/0.35</text>\n",
       "</g>\n",
       "<!-- 3 -->\n",
       "<g id=\"node4\" class=\"node\">\n",
       "<title>3</title>\n",
       "<polygon fill=\"none\" stroke=\"black\" points=\"127,-79 94,-79 94,-62 127,-62 127,-79\"/>\n",
       "<text text-anchor=\"middle\" x=\"110.5\" y=\"-68\" font-family=\"Monospace\" font-size=\"10.00\">0.47</text>\n",
       "</g>\n",
       "<!-- 0&#45;&gt;3 -->\n",
       "<g id=\"edge3\" class=\"edge\">\n",
       "<title>0&#45;&gt;3</title>\n",
       "<path fill=\"none\" stroke=\"black\" d=\"M15.29,-117.45C20.17,-114.58 26.93,-110.7 33,-107.5 52.46,-97.25 75.19,-86.39 90.79,-79.11\"/>\n",
       "<polygon fill=\"black\" stroke=\"black\" points=\"91.54,-79.92 93.81,-77.7 90.65,-78.02 91.54,-79.92\"/>\n",
       "<text text-anchor=\"middle\" x=\"54.5\" y=\"-110.3\" font-family=\"Monospace\" font-size=\"9.00\">a/0.47</text>\n",
       "</g>\n",
       "<!-- 14 -->\n",
       "<g id=\"node15\" class=\"node\">\n",
       "<title>14</title>\n",
       "<polygon fill=\"none\" stroke=\"black\" points=\"236,-192 203,-192 203,-175 236,-175 236,-192\"/>\n",
       "<text text-anchor=\"middle\" x=\"219.5\" y=\"-181\" font-family=\"Monospace\" font-size=\"10.00\">0.18</text>\n",
       "</g>\n",
       "<!-- 1&#45;&gt;14 -->\n",
       "<g id=\"edge14\" class=\"edge\">\n",
       "<title>1&#45;&gt;14</title>\n",
       "<path fill=\"none\" stroke=\"black\" d=\"M127.29,-171.57C146.6,-174.09 179.25,-178.37 199.8,-181.05\"/>\n",
       "<polygon fill=\"black\" stroke=\"black\" points=\"199.88,-182.12 202.99,-181.47 200.16,-180.04 199.88,-182.12\"/>\n",
       "<text text-anchor=\"middle\" x=\"163.5\" y=\"-181.3\" font-family=\"Monospace\" font-size=\"9.00\">▪/1</text>\n",
       "</g>\n",
       "<!-- 11 -->\n",
       "<g id=\"node12\" class=\"node\">\n",
       "<title>11</title>\n",
       "<polygon fill=\"none\" stroke=\"black\" points=\"236,-157 203,-157 203,-140 236,-140 236,-157\"/>\n",
       "<text text-anchor=\"middle\" x=\"219.5\" y=\"-146\" font-family=\"Monospace\" font-size=\"10.00\">0.24</text>\n",
       "</g>\n",
       "<!-- 2&#45;&gt;11 -->\n",
       "<g id=\"edge11\" class=\"edge\">\n",
       "<title>2&#45;&gt;11</title>\n",
       "<path fill=\"none\" stroke=\"black\" d=\"M127.29,-125.48C146.68,-130.38 179.52,-138.66 200.06,-143.85\"/>\n",
       "<polygon fill=\"black\" stroke=\"black\" points=\"199.83,-144.87 202.99,-144.59 200.34,-142.84 199.83,-144.87\"/>\n",
       "<text text-anchor=\"middle\" x=\"163.5\" y=\"-141.3\" font-family=\"Monospace\" font-size=\"9.00\">a/0.67</text>\n",
       "</g>\n",
       "<!-- 12 -->\n",
       "<g id=\"node13\" class=\"node\">\n",
       "<title>12</title>\n",
       "<polygon fill=\"none\" stroke=\"black\" points=\"236,-122 203,-122 203,-105 236,-105 236,-122\"/>\n",
       "<text text-anchor=\"middle\" x=\"219.5\" y=\"-111\" font-family=\"Monospace\" font-size=\"10.00\">0.12</text>\n",
       "</g>\n",
       "<!-- 2&#45;&gt;12 -->\n",
       "<g id=\"edge12\" class=\"edge\">\n",
       "<title>2&#45;&gt;12</title>\n",
       "<path fill=\"none\" stroke=\"black\" d=\"M127.11,-118.2C132.72,-117.15 139.12,-116.1 145,-115.5 163.53,-113.6 184.83,-113.22 199.71,-113.24\"/>\n",
       "<polygon fill=\"black\" stroke=\"black\" points=\"199.97,-114.29 202.97,-113.25 199.97,-112.19 199.97,-114.29\"/>\n",
       "<text text-anchor=\"middle\" x=\"163.5\" y=\"-118.3\" font-family=\"Monospace\" font-size=\"9.00\">▪/0.33</text>\n",
       "</g>\n",
       "<!-- 4 -->\n",
       "<g id=\"node5\" class=\"node\">\n",
       "<title>4</title>\n",
       "<polygon fill=\"none\" stroke=\"black\" points=\"236,-87 203,-87 203,-70 236,-70 236,-87\"/>\n",
       "<text text-anchor=\"middle\" x=\"219.5\" y=\"-76\" font-family=\"Monospace\" font-size=\"10.00\">0.13</text>\n",
       "</g>\n",
       "<!-- 3&#45;&gt;4 -->\n",
       "<g id=\"edge4\" class=\"edge\">\n",
       "<title>3&#45;&gt;4</title>\n",
       "<path fill=\"none\" stroke=\"black\" d=\"M127.29,-71.68C146.6,-73.12 179.25,-75.57 199.8,-77.1\"/>\n",
       "<polygon fill=\"black\" stroke=\"black\" points=\"199.92,-78.16 202.99,-77.34 200.08,-76.07 199.92,-78.16\"/>\n",
       "<text text-anchor=\"middle\" x=\"163.5\" y=\"-78.3\" font-family=\"Monospace\" font-size=\"9.00\">aa/0.27</text>\n",
       "</g>\n",
       "<!-- 5 -->\n",
       "<g id=\"node6\" class=\"node\">\n",
       "<title>5</title>\n",
       "<polygon fill=\"none\" stroke=\"black\" points=\"236,-52 203,-52 203,-35 236,-35 236,-52\"/>\n",
       "<text text-anchor=\"middle\" x=\"219.5\" y=\"-41\" font-family=\"Monospace\" font-size=\"10.00\">0.26</text>\n",
       "</g>\n",
       "<!-- 3&#45;&gt;5 -->\n",
       "<g id=\"edge5\" class=\"edge\">\n",
       "<title>3&#45;&gt;5</title>\n",
       "<path fill=\"none\" stroke=\"black\" d=\"M127.03,-64.42C132.64,-62.36 139.05,-60.16 145,-58.5 163.31,-53.38 184.63,-49.22 199.58,-46.59\"/>\n",
       "<polygon fill=\"black\" stroke=\"black\" points=\"200.08,-47.57 202.86,-46.02 199.72,-45.5 200.08,-47.57\"/>\n",
       "<text text-anchor=\"middle\" x=\"163.5\" y=\"-61.3\" font-family=\"Monospace\" font-size=\"9.00\">a/0.55</text>\n",
       "</g>\n",
       "<!-- 6 -->\n",
       "<g id=\"node7\" class=\"node\">\n",
       "<title>6</title>\n",
       "<polygon fill=\"none\" stroke=\"black\" points=\"239,-17 200,-17 200,0 239,0 239,-17\"/>\n",
       "<text text-anchor=\"middle\" x=\"219.5\" y=\"-6\" font-family=\"Monospace\" font-size=\"10.00\">0.086</text>\n",
       "</g>\n",
       "<!-- 3&#45;&gt;6 -->\n",
       "<g id=\"edge6\" class=\"edge\">\n",
       "<title>3&#45;&gt;6</title>\n",
       "<path fill=\"none\" stroke=\"black\" d=\"M117.82,-61.94C123.98,-54.11 134.02,-42.69 145,-35.5 160.99,-25.03 181.59,-17.91 196.92,-13.63\"/>\n",
       "<polygon fill=\"black\" stroke=\"black\" points=\"197.29,-14.61 199.91,-12.81 196.74,-12.59 197.29,-14.61\"/>\n",
       "<text text-anchor=\"middle\" x=\"163.5\" y=\"-38.3\" font-family=\"Monospace\" font-size=\"9.00\">▪/0.18</text>\n",
       "</g>\n",
       "<!-- 10 -->\n",
       "<g id=\"node11\" class=\"node\">\n",
       "<title>10</title>\n",
       "<polygon fill=\"none\" stroke=\"black\" points=\"343,-87 310,-87 310,-70 343,-70 343,-87\"/>\n",
       "<text text-anchor=\"middle\" x=\"326.5\" y=\"-76\" font-family=\"Monospace\" font-size=\"10.00\">0.13</text>\n",
       "</g>\n",
       "<!-- 4&#45;&gt;10 -->\n",
       "<g id=\"edge10\" class=\"edge\">\n",
       "<title>4&#45;&gt;10</title>\n",
       "<path fill=\"none\" stroke=\"black\" d=\"M236.45,-78.5C255.21,-78.5 286.34,-78.5 306.38,-78.5\"/>\n",
       "<polygon fill=\"black\" stroke=\"black\" points=\"306.75,-79.55 309.75,-78.5 306.75,-77.45 306.75,-79.55\"/>\n",
       "<text text-anchor=\"middle\" x=\"273\" y=\"-81.3\" font-family=\"Monospace\" font-size=\"9.00\">▪/1</text>\n",
       "</g>\n",
       "<!-- 7 -->\n",
       "<g id=\"node8\" class=\"node\">\n",
       "<title>7</title>\n",
       "<polygon fill=\"none\" stroke=\"black\" points=\"343,-52 310,-52 310,-35 343,-35 343,-52\"/>\n",
       "<text text-anchor=\"middle\" x=\"326.5\" y=\"-41\" font-family=\"Monospace\" font-size=\"10.00\">0.17</text>\n",
       "</g>\n",
       "<!-- 5&#45;&gt;7 -->\n",
       "<g id=\"edge7\" class=\"edge\">\n",
       "<title>5&#45;&gt;7</title>\n",
       "<path fill=\"none\" stroke=\"black\" d=\"M236.45,-43.5C255.21,-43.5 286.34,-43.5 306.38,-43.5\"/>\n",
       "<polygon fill=\"black\" stroke=\"black\" points=\"306.75,-44.55 309.75,-43.5 306.75,-42.45 306.75,-44.55\"/>\n",
       "<text text-anchor=\"middle\" x=\"273\" y=\"-46.3\" font-family=\"Monospace\" font-size=\"9.00\">a/0.67</text>\n",
       "</g>\n",
       "<!-- 8 -->\n",
       "<g id=\"node9\" class=\"node\">\n",
       "<title>8</title>\n",
       "<polygon fill=\"none\" stroke=\"black\" points=\"346,-17 307,-17 307,0 346,0 346,-17\"/>\n",
       "<text text-anchor=\"middle\" x=\"326.5\" y=\"-6\" font-family=\"Monospace\" font-size=\"10.00\">0.086</text>\n",
       "</g>\n",
       "<!-- 5&#45;&gt;8 -->\n",
       "<g id=\"edge8\" class=\"edge\">\n",
       "<title>5&#45;&gt;8</title>\n",
       "<path fill=\"none\" stroke=\"black\" d=\"M236.04,-37.27C242.49,-34.75 250.07,-31.89 257,-29.5 272.52,-24.15 290.25,-18.73 303.79,-14.74\"/>\n",
       "<polygon fill=\"black\" stroke=\"black\" points=\"304.2,-15.71 306.78,-13.86 303.61,-13.7 304.2,-15.71\"/>\n",
       "<text text-anchor=\"middle\" x=\"273\" y=\"-32.3\" font-family=\"Monospace\" font-size=\"9.00\">▪/0.33</text>\n",
       "</g>\n",
       "<!-- 9 -->\n",
       "<g id=\"node10\" class=\"node\">\n",
       "<title>9</title>\n",
       "<polygon fill=\"none\" stroke=\"black\" points=\"431,-52 398,-52 398,-35 431,-35 431,-52\"/>\n",
       "<text text-anchor=\"middle\" x=\"414.5\" y=\"-41\" font-family=\"Monospace\" font-size=\"10.00\">0.17</text>\n",
       "</g>\n",
       "<!-- 7&#45;&gt;9 -->\n",
       "<g id=\"edge9\" class=\"edge\">\n",
       "<title>7&#45;&gt;9</title>\n",
       "<path fill=\"none\" stroke=\"black\" d=\"M343.27,-43.5C357.7,-43.5 379.07,-43.5 394.45,-43.5\"/>\n",
       "<polygon fill=\"black\" stroke=\"black\" points=\"394.83,-44.55 397.83,-43.5 394.83,-42.45 394.83,-44.55\"/>\n",
       "<text text-anchor=\"middle\" x=\"372\" y=\"-46.3\" font-family=\"Monospace\" font-size=\"9.00\">▪/1</text>\n",
       "</g>\n",
       "<!-- 13 -->\n",
       "<g id=\"node14\" class=\"node\">\n",
       "<title>13</title>\n",
       "<polygon fill=\"none\" stroke=\"black\" points=\"343,-157 310,-157 310,-140 343,-140 343,-157\"/>\n",
       "<text text-anchor=\"middle\" x=\"326.5\" y=\"-146\" font-family=\"Monospace\" font-size=\"10.00\">0.24</text>\n",
       "</g>\n",
       "<!-- 11&#45;&gt;13 -->\n",
       "<g id=\"edge13\" class=\"edge\">\n",
       "<title>11&#45;&gt;13</title>\n",
       "<path fill=\"none\" stroke=\"black\" d=\"M236.45,-148.5C255.21,-148.5 286.34,-148.5 306.38,-148.5\"/>\n",
       "<polygon fill=\"black\" stroke=\"black\" points=\"306.75,-149.55 309.75,-148.5 306.75,-147.45 306.75,-149.55\"/>\n",
       "<text text-anchor=\"middle\" x=\"273\" y=\"-151.3\" font-family=\"Monospace\" font-size=\"9.00\">▪/1</text>\n",
       "</g>\n",
       "</g>\n",
       "</svg>\n",
       "</td> </tr></table>"
      ],
      "text/plain": [
       "<IPython.core.display.HTML object>"
      ]
     },
     "metadata": {},
     "output_type": "display_data"
    }
   ],
   "source": [
    "A, tracer_aligned = generation_tree(a_lm)\n",
    "display_table([[A, tracer_aligned]])"
   ]
  },
  {
   "cell_type": "code",
   "execution_count": 275,
   "id": "52ac6fe7-45f6-436f-b66a-d7eee974e0ac",
   "metadata": {},
   "outputs": [
    {
     "data": {
      "text/html": [
       "<table><tr><td><div style=\"font-family: Monospace;\"><table><tr style=\"font-weight: bold;\"><td>key</td><td>value</td></tr><tr><td><pre>(&#x27;a&#x27;,)</pre></td><td><pre>0.0855614973262032</pre></td> </tr><tr><td><pre>(&#x27;a&#x27;, &#x27;a&#x27;)</pre></td><td><pre>0.08556149732620319</pre></td> </tr><tr><td><pre>(&#x27;a&#x27;, &#x27;a&#x27;, &#x27;a&#x27;)</pre></td><td><pre>0.17112299465240638</pre></td> </tr><tr><td><pre>(&#x27;a&#x27;, &#x27;aa&#x27;)</pre></td><td><pre>0.1283422459893048</pre></td> </tr><tr><td><pre>(&#x27;aa&#x27;,)</pre></td><td><pre>0.11764705882352941</pre></td> </tr><tr><td><pre>(&#x27;aa&#x27;, &#x27;a&#x27;)</pre></td><td><pre>0.23529411764705882</pre></td> </tr><tr><td><pre>(&#x27;aaa&#x27;,)</pre></td><td><pre>0.17647058823529413</pre></td> </tr></table></div></td><td><?xml version=\"1.0\" encoding=\"UTF-8\" standalone=\"no\"?>\n",
       "<!DOCTYPE svg PUBLIC \"-//W3C//DTD SVG 1.1//EN\"\n",
       " \"http://www.w3.org/Graphics/SVG/1.1/DTD/svg11.dtd\">\n",
       "<!-- Generated by graphviz version 2.43.0 (0)\n",
       " -->\n",
       "<!-- Title: %3 Pages: 1 -->\n",
       "<svg width=\"439pt\" height=\"200pt\"\n",
       " viewBox=\"0.00 0.00 439.00 200.00\" xmlns=\"http://www.w3.org/2000/svg\" xmlns:xlink=\"http://www.w3.org/1999/xlink\">\n",
       "<g id=\"graph0\" class=\"graph\" transform=\"scale(1 1) rotate(0) translate(4 196)\">\n",
       "<title>%3</title>\n",
       "<polygon fill=\"white\" stroke=\"transparent\" points=\"-4,4 -4,-196 435,-196 435,4 -4,4\"/>\n",
       "<!-- 0 -->\n",
       "<g id=\"node1\" class=\"node\">\n",
       "<title>0</title>\n",
       "<polygon fill=\"none\" stroke=\"black\" points=\"15,-130 0,-130 0,-113 15,-113 15,-130\"/>\n",
       "<text text-anchor=\"middle\" x=\"7.5\" y=\"-119\" font-family=\"Monospace\" font-size=\"10.00\">1</text>\n",
       "</g>\n",
       "<!-- 1 -->\n",
       "<g id=\"node2\" class=\"node\">\n",
       "<title>1</title>\n",
       "<polygon fill=\"none\" stroke=\"black\" points=\"127,-178 94,-178 94,-161 127,-161 127,-178\"/>\n",
       "<text text-anchor=\"middle\" x=\"110.5\" y=\"-167\" font-family=\"Monospace\" font-size=\"10.00\">0.18</text>\n",
       "</g>\n",
       "<!-- 0&#45;&gt;1 -->\n",
       "<g id=\"edge1\" class=\"edge\">\n",
       "<title>0&#45;&gt;1</title>\n",
       "<path fill=\"none\" stroke=\"black\" d=\"M15.35,-124.89C20.26,-127.31 27.02,-130.63 33,-133.5 52.72,-142.97 75.42,-153.62 90.93,-160.86\"/>\n",
       "<polygon fill=\"black\" stroke=\"black\" points=\"90.77,-161.95 93.94,-162.26 91.66,-160.04 90.77,-161.95\"/>\n",
       "<text text-anchor=\"middle\" x=\"54.5\" y=\"-155.3\" font-family=\"Monospace\" font-size=\"9.00\">aaa/0.18</text>\n",
       "</g>\n",
       "<!-- 2 -->\n",
       "<g id=\"node3\" class=\"node\">\n",
       "<title>2</title>\n",
       "<polygon fill=\"none\" stroke=\"black\" points=\"127,-130 94,-130 94,-113 127,-113 127,-130\"/>\n",
       "<text text-anchor=\"middle\" x=\"110.5\" y=\"-119\" font-family=\"Monospace\" font-size=\"10.00\">0.35</text>\n",
       "</g>\n",
       "<!-- 0&#45;&gt;2 -->\n",
       "<g id=\"edge2\" class=\"edge\">\n",
       "<title>0&#45;&gt;2</title>\n",
       "<path fill=\"none\" stroke=\"black\" d=\"M15.13,-121.5C30.19,-121.5 67.45,-121.5 90.39,-121.5\"/>\n",
       "<polygon fill=\"black\" stroke=\"black\" points=\"90.66,-122.55 93.66,-121.5 90.66,-120.45 90.66,-122.55\"/>\n",
       "<text text-anchor=\"middle\" x=\"54.5\" y=\"-124.3\" font-family=\"Monospace\" font-size=\"9.00\">aa/0.35</text>\n",
       "</g>\n",
       "<!-- 3 -->\n",
       "<g id=\"node4\" class=\"node\">\n",
       "<title>3</title>\n",
       "<polygon fill=\"none\" stroke=\"black\" points=\"127,-79 94,-79 94,-62 127,-62 127,-79\"/>\n",
       "<text text-anchor=\"middle\" x=\"110.5\" y=\"-68\" font-family=\"Monospace\" font-size=\"10.00\">0.47</text>\n",
       "</g>\n",
       "<!-- 0&#45;&gt;3 -->\n",
       "<g id=\"edge3\" class=\"edge\">\n",
       "<title>0&#45;&gt;3</title>\n",
       "<path fill=\"none\" stroke=\"black\" d=\"M15.29,-117.45C20.17,-114.58 26.93,-110.7 33,-107.5 52.46,-97.25 75.19,-86.39 90.79,-79.11\"/>\n",
       "<polygon fill=\"black\" stroke=\"black\" points=\"91.54,-79.92 93.81,-77.7 90.65,-78.02 91.54,-79.92\"/>\n",
       "<text text-anchor=\"middle\" x=\"54.5\" y=\"-110.3\" font-family=\"Monospace\" font-size=\"9.00\">a/0.47</text>\n",
       "</g>\n",
       "<!-- 14 -->\n",
       "<g id=\"node15\" class=\"node\">\n",
       "<title>14</title>\n",
       "<polygon fill=\"none\" stroke=\"black\" points=\"236,-192 203,-192 203,-175 236,-175 236,-192\"/>\n",
       "<text text-anchor=\"middle\" x=\"219.5\" y=\"-181\" font-family=\"Monospace\" font-size=\"10.00\">0.18</text>\n",
       "</g>\n",
       "<!-- 1&#45;&gt;14 -->\n",
       "<g id=\"edge14\" class=\"edge\">\n",
       "<title>1&#45;&gt;14</title>\n",
       "<path fill=\"none\" stroke=\"black\" d=\"M127.29,-171.57C146.6,-174.09 179.25,-178.37 199.8,-181.05\"/>\n",
       "<polygon fill=\"black\" stroke=\"black\" points=\"199.88,-182.12 202.99,-181.47 200.16,-180.04 199.88,-182.12\"/>\n",
       "<text text-anchor=\"middle\" x=\"163.5\" y=\"-181.3\" font-family=\"Monospace\" font-size=\"9.00\">▪/1</text>\n",
       "</g>\n",
       "<!-- 11 -->\n",
       "<g id=\"node12\" class=\"node\">\n",
       "<title>11</title>\n",
       "<polygon fill=\"none\" stroke=\"black\" points=\"236,-157 203,-157 203,-140 236,-140 236,-157\"/>\n",
       "<text text-anchor=\"middle\" x=\"219.5\" y=\"-146\" font-family=\"Monospace\" font-size=\"10.00\">0.24</text>\n",
       "</g>\n",
       "<!-- 2&#45;&gt;11 -->\n",
       "<g id=\"edge11\" class=\"edge\">\n",
       "<title>2&#45;&gt;11</title>\n",
       "<path fill=\"none\" stroke=\"black\" d=\"M127.29,-125.48C146.68,-130.38 179.52,-138.66 200.06,-143.85\"/>\n",
       "<polygon fill=\"black\" stroke=\"black\" points=\"199.83,-144.87 202.99,-144.59 200.34,-142.84 199.83,-144.87\"/>\n",
       "<text text-anchor=\"middle\" x=\"163.5\" y=\"-141.3\" font-family=\"Monospace\" font-size=\"9.00\">a/0.67</text>\n",
       "</g>\n",
       "<!-- 12 -->\n",
       "<g id=\"node13\" class=\"node\">\n",
       "<title>12</title>\n",
       "<polygon fill=\"none\" stroke=\"black\" points=\"236,-122 203,-122 203,-105 236,-105 236,-122\"/>\n",
       "<text text-anchor=\"middle\" x=\"219.5\" y=\"-111\" font-family=\"Monospace\" font-size=\"10.00\">0.12</text>\n",
       "</g>\n",
       "<!-- 2&#45;&gt;12 -->\n",
       "<g id=\"edge12\" class=\"edge\">\n",
       "<title>2&#45;&gt;12</title>\n",
       "<path fill=\"none\" stroke=\"black\" d=\"M127.11,-118.2C132.72,-117.15 139.12,-116.1 145,-115.5 163.53,-113.6 184.83,-113.22 199.71,-113.24\"/>\n",
       "<polygon fill=\"black\" stroke=\"black\" points=\"199.97,-114.29 202.97,-113.25 199.97,-112.19 199.97,-114.29\"/>\n",
       "<text text-anchor=\"middle\" x=\"163.5\" y=\"-118.3\" font-family=\"Monospace\" font-size=\"9.00\">▪/0.33</text>\n",
       "</g>\n",
       "<!-- 4 -->\n",
       "<g id=\"node5\" class=\"node\">\n",
       "<title>4</title>\n",
       "<polygon fill=\"none\" stroke=\"black\" points=\"236,-87 203,-87 203,-70 236,-70 236,-87\"/>\n",
       "<text text-anchor=\"middle\" x=\"219.5\" y=\"-76\" font-family=\"Monospace\" font-size=\"10.00\">0.13</text>\n",
       "</g>\n",
       "<!-- 3&#45;&gt;4 -->\n",
       "<g id=\"edge4\" class=\"edge\">\n",
       "<title>3&#45;&gt;4</title>\n",
       "<path fill=\"none\" stroke=\"black\" d=\"M127.29,-71.68C146.6,-73.12 179.25,-75.57 199.8,-77.1\"/>\n",
       "<polygon fill=\"black\" stroke=\"black\" points=\"199.92,-78.16 202.99,-77.34 200.08,-76.07 199.92,-78.16\"/>\n",
       "<text text-anchor=\"middle\" x=\"163.5\" y=\"-78.3\" font-family=\"Monospace\" font-size=\"9.00\">aa/0.27</text>\n",
       "</g>\n",
       "<!-- 5 -->\n",
       "<g id=\"node6\" class=\"node\">\n",
       "<title>5</title>\n",
       "<polygon fill=\"none\" stroke=\"black\" points=\"236,-52 203,-52 203,-35 236,-35 236,-52\"/>\n",
       "<text text-anchor=\"middle\" x=\"219.5\" y=\"-41\" font-family=\"Monospace\" font-size=\"10.00\">0.26</text>\n",
       "</g>\n",
       "<!-- 3&#45;&gt;5 -->\n",
       "<g id=\"edge5\" class=\"edge\">\n",
       "<title>3&#45;&gt;5</title>\n",
       "<path fill=\"none\" stroke=\"black\" d=\"M127.03,-64.42C132.64,-62.36 139.05,-60.16 145,-58.5 163.31,-53.38 184.63,-49.22 199.58,-46.59\"/>\n",
       "<polygon fill=\"black\" stroke=\"black\" points=\"200.08,-47.57 202.86,-46.02 199.72,-45.5 200.08,-47.57\"/>\n",
       "<text text-anchor=\"middle\" x=\"163.5\" y=\"-61.3\" font-family=\"Monospace\" font-size=\"9.00\">a/0.55</text>\n",
       "</g>\n",
       "<!-- 6 -->\n",
       "<g id=\"node7\" class=\"node\">\n",
       "<title>6</title>\n",
       "<polygon fill=\"none\" stroke=\"black\" points=\"239,-17 200,-17 200,0 239,0 239,-17\"/>\n",
       "<text text-anchor=\"middle\" x=\"219.5\" y=\"-6\" font-family=\"Monospace\" font-size=\"10.00\">0.086</text>\n",
       "</g>\n",
       "<!-- 3&#45;&gt;6 -->\n",
       "<g id=\"edge6\" class=\"edge\">\n",
       "<title>3&#45;&gt;6</title>\n",
       "<path fill=\"none\" stroke=\"black\" d=\"M117.82,-61.94C123.98,-54.11 134.02,-42.69 145,-35.5 160.99,-25.03 181.59,-17.91 196.92,-13.63\"/>\n",
       "<polygon fill=\"black\" stroke=\"black\" points=\"197.29,-14.61 199.91,-12.81 196.74,-12.59 197.29,-14.61\"/>\n",
       "<text text-anchor=\"middle\" x=\"163.5\" y=\"-38.3\" font-family=\"Monospace\" font-size=\"9.00\">▪/0.18</text>\n",
       "</g>\n",
       "<!-- 10 -->\n",
       "<g id=\"node11\" class=\"node\">\n",
       "<title>10</title>\n",
       "<polygon fill=\"none\" stroke=\"black\" points=\"343,-87 310,-87 310,-70 343,-70 343,-87\"/>\n",
       "<text text-anchor=\"middle\" x=\"326.5\" y=\"-76\" font-family=\"Monospace\" font-size=\"10.00\">0.13</text>\n",
       "</g>\n",
       "<!-- 4&#45;&gt;10 -->\n",
       "<g id=\"edge10\" class=\"edge\">\n",
       "<title>4&#45;&gt;10</title>\n",
       "<path fill=\"none\" stroke=\"black\" d=\"M236.45,-78.5C255.21,-78.5 286.34,-78.5 306.38,-78.5\"/>\n",
       "<polygon fill=\"black\" stroke=\"black\" points=\"306.75,-79.55 309.75,-78.5 306.75,-77.45 306.75,-79.55\"/>\n",
       "<text text-anchor=\"middle\" x=\"273\" y=\"-81.3\" font-family=\"Monospace\" font-size=\"9.00\">▪/1</text>\n",
       "</g>\n",
       "<!-- 7 -->\n",
       "<g id=\"node8\" class=\"node\">\n",
       "<title>7</title>\n",
       "<polygon fill=\"none\" stroke=\"black\" points=\"343,-52 310,-52 310,-35 343,-35 343,-52\"/>\n",
       "<text text-anchor=\"middle\" x=\"326.5\" y=\"-41\" font-family=\"Monospace\" font-size=\"10.00\">0.17</text>\n",
       "</g>\n",
       "<!-- 5&#45;&gt;7 -->\n",
       "<g id=\"edge7\" class=\"edge\">\n",
       "<title>5&#45;&gt;7</title>\n",
       "<path fill=\"none\" stroke=\"black\" d=\"M236.45,-43.5C255.21,-43.5 286.34,-43.5 306.38,-43.5\"/>\n",
       "<polygon fill=\"black\" stroke=\"black\" points=\"306.75,-44.55 309.75,-43.5 306.75,-42.45 306.75,-44.55\"/>\n",
       "<text text-anchor=\"middle\" x=\"273\" y=\"-46.3\" font-family=\"Monospace\" font-size=\"9.00\">a/0.67</text>\n",
       "</g>\n",
       "<!-- 8 -->\n",
       "<g id=\"node9\" class=\"node\">\n",
       "<title>8</title>\n",
       "<polygon fill=\"none\" stroke=\"black\" points=\"346,-17 307,-17 307,0 346,0 346,-17\"/>\n",
       "<text text-anchor=\"middle\" x=\"326.5\" y=\"-6\" font-family=\"Monospace\" font-size=\"10.00\">0.086</text>\n",
       "</g>\n",
       "<!-- 5&#45;&gt;8 -->\n",
       "<g id=\"edge8\" class=\"edge\">\n",
       "<title>5&#45;&gt;8</title>\n",
       "<path fill=\"none\" stroke=\"black\" d=\"M236.04,-37.27C242.49,-34.75 250.07,-31.89 257,-29.5 272.52,-24.15 290.25,-18.73 303.79,-14.74\"/>\n",
       "<polygon fill=\"black\" stroke=\"black\" points=\"304.2,-15.71 306.78,-13.86 303.61,-13.7 304.2,-15.71\"/>\n",
       "<text text-anchor=\"middle\" x=\"273\" y=\"-32.3\" font-family=\"Monospace\" font-size=\"9.00\">▪/0.33</text>\n",
       "</g>\n",
       "<!-- 9 -->\n",
       "<g id=\"node10\" class=\"node\">\n",
       "<title>9</title>\n",
       "<polygon fill=\"none\" stroke=\"black\" points=\"431,-52 398,-52 398,-35 431,-35 431,-52\"/>\n",
       "<text text-anchor=\"middle\" x=\"414.5\" y=\"-41\" font-family=\"Monospace\" font-size=\"10.00\">0.17</text>\n",
       "</g>\n",
       "<!-- 7&#45;&gt;9 -->\n",
       "<g id=\"edge9\" class=\"edge\">\n",
       "<title>7&#45;&gt;9</title>\n",
       "<path fill=\"none\" stroke=\"black\" d=\"M343.27,-43.5C357.7,-43.5 379.07,-43.5 394.45,-43.5\"/>\n",
       "<polygon fill=\"black\" stroke=\"black\" points=\"394.83,-44.55 397.83,-43.5 394.83,-42.45 394.83,-44.55\"/>\n",
       "<text text-anchor=\"middle\" x=\"372\" y=\"-46.3\" font-family=\"Monospace\" font-size=\"9.00\">▪/1</text>\n",
       "</g>\n",
       "<!-- 13 -->\n",
       "<g id=\"node14\" class=\"node\">\n",
       "<title>13</title>\n",
       "<polygon fill=\"none\" stroke=\"black\" points=\"343,-157 310,-157 310,-140 343,-140 343,-157\"/>\n",
       "<text text-anchor=\"middle\" x=\"326.5\" y=\"-146\" font-family=\"Monospace\" font-size=\"10.00\">0.24</text>\n",
       "</g>\n",
       "<!-- 11&#45;&gt;13 -->\n",
       "<g id=\"edge13\" class=\"edge\">\n",
       "<title>11&#45;&gt;13</title>\n",
       "<path fill=\"none\" stroke=\"black\" d=\"M236.45,-148.5C255.21,-148.5 286.34,-148.5 306.38,-148.5\"/>\n",
       "<polygon fill=\"black\" stroke=\"black\" points=\"306.75,-149.55 309.75,-148.5 306.75,-147.45 306.75,-149.55\"/>\n",
       "<text text-anchor=\"middle\" x=\"273\" y=\"-151.3\" font-family=\"Monospace\" font-size=\"9.00\">▪/1</text>\n",
       "</g>\n",
       "</g>\n",
       "</svg>\n",
       "</td> </tr></table>"
      ],
      "text/plain": [
       "<IPython.core.display.HTML object>"
      ]
     },
     "metadata": {},
     "output_type": "display_data"
    }
   ],
   "source": [
    "D_chunks, tracer_aligned_chunks = generation_tree(a_lm, chunked=True)\n",
    "display_table([[D_chunks, tracer_aligned_chunks]])"
   ]
  },
  {
   "cell_type": "markdown",
   "id": "3963cbc2-4f8d-4ce1-99de-2afddf25361b",
   "metadata": {},
   "source": [
    "The following WFST simulates the BPE's desire to create chunk from character sequences. (For correctness, we will require `tokens` to be both prefix closed and closed under last character substitution, as it ensures that no string is lost.)"
   ]
  },
  {
   "cell_type": "code",
   "execution_count": 276,
   "id": "26923635-68fe-4390-8f87-690ca184a791",
   "metadata": {},
   "outputs": [
    {
     "data": {
      "image/svg+xml": [
       "<?xml version=\"1.0\" encoding=\"UTF-8\" standalone=\"no\"?>\n",
       "<!DOCTYPE svg PUBLIC \"-//W3C//DTD SVG 1.1//EN\"\n",
       " \"http://www.w3.org/Graphics/SVG/1.1/DTD/svg11.dtd\">\n",
       "<!-- Generated by graphviz version 2.43.0 (0)\n",
       " -->\n",
       "<!-- Title: %3 Pages: 1 -->\n",
       "<svg width=\"643pt\" height=\"151pt\"\n",
       " viewBox=\"0.00 0.00 642.67 151.00\" xmlns=\"http://www.w3.org/2000/svg\" xmlns:xlink=\"http://www.w3.org/1999/xlink\">\n",
       "<g id=\"graph0\" class=\"graph\" transform=\"scale(1 1) rotate(0) translate(4 147)\">\n",
       "<title>%3</title>\n",
       "<polygon fill=\"white\" stroke=\"transparent\" points=\"-4,4 -4,-147 638.67,-147 638.67,4 -4,4\"/>\n",
       "<!-- start_0 -->\n",
       "<g id=\"node1\" class=\"node\">\n",
       "<title>start_0</title>\n",
       "<ellipse fill=\"black\" stroke=\"black\" cx=\"0\" cy=\"-38\" rx=\"0\" ry=\"0\"/>\n",
       "</g>\n",
       "<!-- 0 -->\n",
       "<g id=\"node2\" class=\"node\">\n",
       "<title>0</title>\n",
       "<ellipse fill=\"none\" stroke=\"black\" cx=\"49.78\" cy=\"-38\" rx=\"7.56\" ry=\"7.56\"/>\n",
       "<text text-anchor=\"middle\" x=\"49.78\" y=\"-35.5\" font-family=\"Monospace\" font-size=\"10.00\"> </text>\n",
       "</g>\n",
       "<!-- start_0&#45;&gt;0 -->\n",
       "<g id=\"edge1\" class=\"edge\">\n",
       "<title>start_0&#45;&gt;0</title>\n",
       "<path fill=\"none\" stroke=\"black\" d=\"M1.14,-38C3.07,-38 25.11,-38 38.52,-38\"/>\n",
       "<polygon fill=\"black\" stroke=\"black\" points=\"38.73,-39.05 41.73,-38 38.73,-36.95 38.73,-39.05\"/>\n",
       "<text text-anchor=\"middle\" x=\"21\" y=\"-40.8\" font-family=\"Monospace\" font-size=\"9.00\">1</text>\n",
       "</g>\n",
       "<!-- 2 -->\n",
       "<g id=\"node4\" class=\"node\">\n",
       "<title>2</title>\n",
       "<ellipse fill=\"none\" stroke=\"black\" cx=\"159.33\" cy=\"-96\" rx=\"7.56\" ry=\"7.56\"/>\n",
       "<text text-anchor=\"middle\" x=\"159.33\" y=\"-93.5\" font-family=\"Monospace\" font-size=\"10.00\"> </text>\n",
       "</g>\n",
       "<!-- 0&#45;&gt;2 -->\n",
       "<g id=\"edge3\" class=\"edge\">\n",
       "<title>0&#45;&gt;2</title>\n",
       "<path fill=\"none\" stroke=\"black\" d=\"M56.86,-41.5C61.86,-44.36 69.14,-48.48 75.56,-52 102.05,-66.52 133.64,-83.12 149.01,-91.15\"/>\n",
       "<polygon fill=\"black\" stroke=\"black\" points=\"148.72,-92.18 151.86,-92.63 149.69,-90.31 148.72,-92.18\"/>\n",
       "<text text-anchor=\"middle\" x=\"104.56\" y=\"-84.8\" font-family=\"Monospace\" font-size=\"9.00\">(&#39;&#39;, &#39;a&#39;)/1</text>\n",
       "</g>\n",
       "<!-- 3 -->\n",
       "<g id=\"node5\" class=\"node\">\n",
       "<title>3</title>\n",
       "<ellipse fill=\"none\" stroke=\"black\" cx=\"214.11\" cy=\"-38\" rx=\"7.56\" ry=\"7.56\"/>\n",
       "<text text-anchor=\"middle\" x=\"214.11\" y=\"-35.5\" font-family=\"Monospace\" font-size=\"10.00\"> </text>\n",
       "</g>\n",
       "<!-- 0&#45;&gt;3 -->\n",
       "<g id=\"edge4\" class=\"edge\">\n",
       "<title>0&#45;&gt;3</title>\n",
       "<path fill=\"none\" stroke=\"black\" d=\"M57.75,-38C83.4,-38 172.55,-38 202.9,-38\"/>\n",
       "<polygon fill=\"black\" stroke=\"black\" points=\"202.98,-39.05 205.98,-38 202.98,-36.95 202.98,-39.05\"/>\n",
       "<text text-anchor=\"middle\" x=\"104.56\" y=\"-40.8\" font-family=\"Monospace\" font-size=\"9.00\">(&#39;&#39;, &#39;▪&#39;)/1</text>\n",
       "</g>\n",
       "<!-- 1 -->\n",
       "<g id=\"node3\" class=\"node\">\n",
       "<title>1</title>\n",
       "<ellipse fill=\"none\" stroke=\"black\" cx=\"584.89\" cy=\"-74\" rx=\"7.56\" ry=\"7.56\"/>\n",
       "<text text-anchor=\"middle\" x=\"584.89\" y=\"-71.5\" font-family=\"Monospace\" font-size=\"10.00\"> </text>\n",
       "</g>\n",
       "<!-- 1&#45;&gt;0 -->\n",
       "<g id=\"edge10\" class=\"edge\">\n",
       "<title>1&#45;&gt;0</title>\n",
       "<path fill=\"none\" stroke=\"black\" d=\"M578.7,-68.91C561.05,-52.19 501.14,0 441.11,0 158.33,0 158.33,0 158.33,0 119.77,0 77.64,-21.99 59.68,-32.51\"/>\n",
       "<polygon fill=\"black\" stroke=\"black\" points=\"58.86,-31.78 56.82,-34.22 59.93,-33.59 58.86,-31.78\"/>\n",
       "<text text-anchor=\"middle\" x=\"287.61\" y=\"-2.8\" font-family=\"Monospace\" font-size=\"9.00\">(&#39;&#39;, &#39;&#39;)/1</text>\n",
       "</g>\n",
       "<!-- stop_1 -->\n",
       "<g id=\"node8\" class=\"node\">\n",
       "<title>stop_1</title>\n",
       "<ellipse fill=\"black\" stroke=\"black\" cx=\"634.67\" cy=\"-74\" rx=\"0\" ry=\"0\"/>\n",
       "</g>\n",
       "<!-- 1&#45;&gt;stop_1 -->\n",
       "<g id=\"edge2\" class=\"edge\">\n",
       "<title>1&#45;&gt;stop_1</title>\n",
       "<path fill=\"none\" stroke=\"black\" d=\"M592.94,-74C603.4,-74 622.63,-74 630.34,-74\"/>\n",
       "<polygon fill=\"black\" stroke=\"black\" points=\"630.59,-75.05 633.59,-74 630.59,-72.95 630.59,-75.05\"/>\n",
       "<text text-anchor=\"middle\" x=\"613.67\" y=\"-76.8\" font-family=\"Monospace\" font-size=\"9.00\">1</text>\n",
       "</g>\n",
       "<!-- 2&#45;&gt;1 -->\n",
       "<g id=\"edge6\" class=\"edge\">\n",
       "<title>2&#45;&gt;1</title>\n",
       "<path fill=\"none\" stroke=\"black\" d=\"M166.1,-100.26C170.91,-103.57 178.1,-107.92 185.11,-110 307.55,-146.23 344.78,-132.46 472.11,-123 511.1,-120.1 525.95,-130.71 559.11,-110 568.86,-103.92 575.74,-92.44 579.74,-84.07\"/>\n",
       "<polygon fill=\"black\" stroke=\"black\" points=\"580.79,-84.31 581.08,-81.15 578.88,-83.43 580.79,-84.31\"/>\n",
       "<text text-anchor=\"middle\" x=\"361.11\" y=\"-135.8\" font-family=\"Monospace\" font-size=\"9.00\">(&#39;a&#39;, &#39;&#39;)/1</text>\n",
       "</g>\n",
       "<!-- 4 -->\n",
       "<g id=\"node6\" class=\"node\">\n",
       "<title>4</title>\n",
       "<ellipse fill=\"none\" stroke=\"black\" cx=\"287.61\" cy=\"-96\" rx=\"7.56\" ry=\"7.56\"/>\n",
       "<text text-anchor=\"middle\" x=\"287.61\" y=\"-93.5\" font-family=\"Monospace\" font-size=\"10.00\"> </text>\n",
       "</g>\n",
       "<!-- 2&#45;&gt;4 -->\n",
       "<g id=\"edge5\" class=\"edge\">\n",
       "<title>2&#45;&gt;4</title>\n",
       "<path fill=\"none\" stroke=\"black\" d=\"M167.12,-96C188.11,-96 251.99,-96 276.71,-96\"/>\n",
       "<polygon fill=\"black\" stroke=\"black\" points=\"276.79,-97.05 279.79,-96 276.79,-94.95 276.79,-97.05\"/>\n",
       "<text text-anchor=\"middle\" x=\"214.11\" y=\"-98.8\" font-family=\"Monospace\" font-size=\"9.00\">(&#39;&#39;, &#39;a&#39;)/1</text>\n",
       "</g>\n",
       "<!-- 3&#45;&gt;1 -->\n",
       "<g id=\"edge11\" class=\"edge\">\n",
       "<title>3&#45;&gt;1</title>\n",
       "<path fill=\"none\" stroke=\"black\" d=\"M222.28,-38.33C252.63,-39.79 373.4,-45.99 472.11,-57 509.92,-61.22 554.54,-68.79 573.99,-72.22\"/>\n",
       "<polygon fill=\"black\" stroke=\"black\" points=\"573.97,-73.29 577.11,-72.78 574.34,-71.22 573.97,-73.29\"/>\n",
       "<text text-anchor=\"middle\" x=\"361.11\" y=\"-51.8\" font-family=\"Monospace\" font-size=\"9.00\">(&#39;▪&#39;, &#39;&#39;)/1</text>\n",
       "</g>\n",
       "<!-- 4&#45;&gt;1 -->\n",
       "<g id=\"edge8\" class=\"edge\">\n",
       "<title>4&#45;&gt;1</title>\n",
       "<path fill=\"none\" stroke=\"black\" d=\"M295.35,-97.43C303.87,-99.15 319,-101.95 332.11,-103 432.9,-111.06 462.56,-118.02 559.11,-88 564.9,-86.2 570.82,-82.92 575.43,-79.98\"/>\n",
       "<polygon fill=\"black\" stroke=\"black\" points=\"576.18,-80.74 578.11,-78.21 575.03,-78.99 576.18,-80.74\"/>\n",
       "<text text-anchor=\"middle\" x=\"440.11\" y=\"-111.8\" font-family=\"Monospace\" font-size=\"9.00\">(&#39;aa&#39;, &#39;&#39;)/1</text>\n",
       "</g>\n",
       "<!-- 5 -->\n",
       "<g id=\"node7\" class=\"node\">\n",
       "<title>5</title>\n",
       "<ellipse fill=\"none\" stroke=\"black\" cx=\"440.11\" cy=\"-74\" rx=\"7.56\" ry=\"7.56\"/>\n",
       "<text text-anchor=\"middle\" x=\"440.11\" y=\"-71.5\" font-family=\"Monospace\" font-size=\"10.00\"> </text>\n",
       "</g>\n",
       "<!-- 4&#45;&gt;5 -->\n",
       "<g id=\"edge7\" class=\"edge\">\n",
       "<title>4&#45;&gt;5</title>\n",
       "<path fill=\"none\" stroke=\"black\" d=\"M295.47,-95C319.56,-91.48 400.41,-79.66 429,-75.48\"/>\n",
       "<polygon fill=\"black\" stroke=\"black\" points=\"429.4,-76.48 432.21,-75.01 429.09,-74.4 429.4,-76.48\"/>\n",
       "<text text-anchor=\"middle\" x=\"361.11\" y=\"-91.8\" font-family=\"Monospace\" font-size=\"9.00\">(&#39;&#39;, &#39;a&#39;)/1</text>\n",
       "</g>\n",
       "<!-- 5&#45;&gt;1 -->\n",
       "<g id=\"edge9\" class=\"edge\">\n",
       "<title>5&#45;&gt;1</title>\n",
       "<path fill=\"none\" stroke=\"black\" d=\"M448,-74C471.23,-74 546.78,-74 574,-74\"/>\n",
       "<polygon fill=\"black\" stroke=\"black\" points=\"574.07,-75.05 577.07,-74 574.07,-72.95 574.07,-75.05\"/>\n",
       "<text text-anchor=\"middle\" x=\"524.61\" y=\"-76.8\" font-family=\"Monospace\" font-size=\"9.00\">(&#39;aaa&#39;, &#39;&#39;)/1</text>\n",
       "</g>\n",
       "</g>\n",
       "</svg>\n"
      ],
      "text/plain": [
       "WFSA(6 states)"
      ]
     },
     "execution_count": 276,
     "metadata": {},
     "output_type": "execute_result"
    }
   ],
   "source": [
    "B = bpe_wfst((w, tuple(w)) for w in tokens)\n",
    "B"
   ]
  },
  {
   "cell_type": "markdown",
   "id": "f56323c4-8648-493e-801c-016e42198618",
   "metadata": {},
   "source": [
    "We can push some specific character strings throught the transducer to see all of the ways that can be chunked."
   ]
  },
  {
   "cell_type": "code",
   "execution_count": 277,
   "id": "6231ba0e-162e-44b7-ae18-22104a176b8a",
   "metadata": {},
   "outputs": [
    {
     "data": {
      "image/svg+xml": [
       "<?xml version=\"1.0\" encoding=\"UTF-8\" standalone=\"no\"?>\n",
       "<!DOCTYPE svg PUBLIC \"-//W3C//DTD SVG 1.1//EN\"\n",
       " \"http://www.w3.org/Graphics/SVG/1.1/DTD/svg11.dtd\">\n",
       "<!-- Generated by graphviz version 2.43.0 (0)\n",
       " -->\n",
       "<!-- Title: %3 Pages: 1 -->\n",
       "<svg width=\"334pt\" height=\"122pt\"\n",
       " viewBox=\"0.00 0.00 333.67 121.78\" xmlns=\"http://www.w3.org/2000/svg\" xmlns:xlink=\"http://www.w3.org/1999/xlink\">\n",
       "<g id=\"graph0\" class=\"graph\" transform=\"scale(1 1) rotate(0) translate(4 117.78)\">\n",
       "<title>%3</title>\n",
       "<polygon fill=\"white\" stroke=\"transparent\" points=\"-4,4 -4,-117.78 329.67,-117.78 329.67,4 -4,4\"/>\n",
       "<!-- start_(4, (0, &#39;aa&#39;)) -->\n",
       "<g id=\"node1\" class=\"node\">\n",
       "<title>start_(4, (0, &#39;aa&#39;))</title>\n",
       "<ellipse fill=\"black\" stroke=\"black\" cx=\"49.78\" cy=\"-74.78\" rx=\"0\" ry=\"0\"/>\n",
       "</g>\n",
       "<!-- 0 -->\n",
       "<g id=\"node2\" class=\"node\">\n",
       "<title>0</title>\n",
       "<ellipse fill=\"none\" stroke=\"black\" cx=\"117.33\" cy=\"-74.78\" rx=\"7.56\" ry=\"7.56\"/>\n",
       "<text text-anchor=\"middle\" x=\"117.33\" y=\"-72.28\" font-family=\"Monospace\" font-size=\"10.00\"> </text>\n",
       "</g>\n",
       "<!-- start_(4, (0, &#39;aa&#39;))&#45;&gt;0 -->\n",
       "<g id=\"edge1\" class=\"edge\">\n",
       "<title>start_(4, (0, &#39;aa&#39;))&#45;&gt;0</title>\n",
       "<path fill=\"none\" stroke=\"black\" d=\"M50.83,-74.78C52.31,-74.78 88.14,-74.78 106.17,-74.78\"/>\n",
       "<polygon fill=\"black\" stroke=\"black\" points=\"106.52,-75.83 109.52,-74.78 106.52,-73.73 106.52,-75.83\"/>\n",
       "<text text-anchor=\"middle\" x=\"83.56\" y=\"-77.58\" font-family=\"Monospace\" font-size=\"9.00\">1</text>\n",
       "</g>\n",
       "<!-- 4 -->\n",
       "<g id=\"node8\" class=\"node\">\n",
       "<title>4</title>\n",
       "<ellipse fill=\"none\" stroke=\"black\" cx=\"194.11\" cy=\"-63.78\" rx=\"7.56\" ry=\"7.56\"/>\n",
       "<text text-anchor=\"middle\" x=\"194.11\" y=\"-61.28\" font-family=\"Monospace\" font-size=\"10.00\"> </text>\n",
       "</g>\n",
       "<!-- 0&#45;&gt;4 -->\n",
       "<g id=\"edge7\" class=\"edge\">\n",
       "<title>0&#45;&gt;4</title>\n",
       "<path fill=\"none\" stroke=\"black\" d=\"M125.24,-73.76C138.41,-71.82 167.22,-67.59 182.73,-65.31\"/>\n",
       "<polygon fill=\"black\" stroke=\"black\" points=\"183.2,-66.3 186.01,-64.82 182.89,-64.22 183.2,-66.3\"/>\n",
       "<text text-anchor=\"middle\" x=\"154.11\" y=\"-73.58\" font-family=\"Monospace\" font-size=\"9.00\">aa/1</text>\n",
       "</g>\n",
       "<!-- start_(5, (0, &#39;aaa&#39;)) -->\n",
       "<g id=\"node3\" class=\"node\">\n",
       "<title>start_(5, (0, &#39;aaa&#39;))</title>\n",
       "<ellipse fill=\"black\" stroke=\"black\" cx=\"117.33\" cy=\"-106.78\" rx=\"0\" ry=\"0\"/>\n",
       "</g>\n",
       "<!-- 1 -->\n",
       "<g id=\"node4\" class=\"node\">\n",
       "<title>1</title>\n",
       "<ellipse fill=\"none\" stroke=\"black\" cx=\"194.11\" cy=\"-100.78\" rx=\"7.56\" ry=\"7.56\"/>\n",
       "<text text-anchor=\"middle\" x=\"194.11\" y=\"-98.28\" font-family=\"Monospace\" font-size=\"10.00\"> </text>\n",
       "</g>\n",
       "<!-- start_(5, (0, &#39;aaa&#39;))&#45;&gt;1 -->\n",
       "<g id=\"edge2\" class=\"edge\">\n",
       "<title>start_(5, (0, &#39;aaa&#39;))&#45;&gt;1</title>\n",
       "<path fill=\"none\" stroke=\"black\" d=\"M118.39,-106.77C120.12,-106.63 162.86,-103.21 182.91,-101.6\"/>\n",
       "<polygon fill=\"black\" stroke=\"black\" points=\"183.24,-102.62 186.15,-101.34 183.07,-100.53 183.24,-102.62\"/>\n",
       "<text text-anchor=\"middle\" x=\"154.11\" y=\"-106.58\" font-family=\"Monospace\" font-size=\"9.00\">1</text>\n",
       "</g>\n",
       "<!-- 5 -->\n",
       "<g id=\"node9\" class=\"node\">\n",
       "<title>5</title>\n",
       "<ellipse fill=\"none\" stroke=\"black\" cx=\"275.89\" cy=\"-63.78\" rx=\"7.56\" ry=\"7.56\"/>\n",
       "<text text-anchor=\"middle\" x=\"275.89\" y=\"-61.28\" font-family=\"Monospace\" font-size=\"10.00\"> </text>\n",
       "</g>\n",
       "<!-- 1&#45;&gt;5 -->\n",
       "<g id=\"edge9\" class=\"edge\">\n",
       "<title>1&#45;&gt;5</title>\n",
       "<path fill=\"none\" stroke=\"black\" d=\"M201.37,-97.87C215.29,-91.42 248.85,-75.86 265.37,-68.19\"/>\n",
       "<polygon fill=\"black\" stroke=\"black\" points=\"266.16,-68.99 268.44,-66.77 265.27,-67.08 266.16,-68.99\"/>\n",
       "<text text-anchor=\"middle\" x=\"236.61\" y=\"-89.58\" font-family=\"Monospace\" font-size=\"9.00\">aaa/1</text>\n",
       "</g>\n",
       "<!-- start_(2, (0, &#39;a&#39;)) -->\n",
       "<g id=\"node5\" class=\"node\">\n",
       "<title>start_(2, (0, &#39;a&#39;))</title>\n",
       "<ellipse fill=\"black\" stroke=\"black\" cx=\"0\" cy=\"-21.78\" rx=\"0\" ry=\"0\"/>\n",
       "</g>\n",
       "<!-- 2 -->\n",
       "<g id=\"node6\" class=\"node\">\n",
       "<title>2</title>\n",
       "<ellipse fill=\"none\" stroke=\"black\" cx=\"49.78\" cy=\"-21.78\" rx=\"7.56\" ry=\"7.56\"/>\n",
       "<text text-anchor=\"middle\" x=\"49.78\" y=\"-19.28\" font-family=\"Monospace\" font-size=\"10.00\"> </text>\n",
       "</g>\n",
       "<!-- start_(2, (0, &#39;a&#39;))&#45;&gt;2 -->\n",
       "<g id=\"edge3\" class=\"edge\">\n",
       "<title>start_(2, (0, &#39;a&#39;))&#45;&gt;2</title>\n",
       "<path fill=\"none\" stroke=\"black\" d=\"M1.14,-21.78C3.07,-21.78 25.11,-21.78 38.52,-21.78\"/>\n",
       "<polygon fill=\"black\" stroke=\"black\" points=\"38.73,-22.83 41.73,-21.78 38.73,-20.73 38.73,-22.83\"/>\n",
       "<text text-anchor=\"middle\" x=\"21\" y=\"-24.58\" font-family=\"Monospace\" font-size=\"9.00\">1</text>\n",
       "</g>\n",
       "<!-- 3 -->\n",
       "<g id=\"node7\" class=\"node\">\n",
       "<title>3</title>\n",
       "<ellipse fill=\"none\" stroke=\"black\" cx=\"154.11\" cy=\"-7.78\" rx=\"7.56\" ry=\"7.56\"/>\n",
       "<text text-anchor=\"middle\" x=\"154.11\" y=\"-5.28\" font-family=\"Monospace\" font-size=\"10.00\"> </text>\n",
       "</g>\n",
       "<!-- 2&#45;&gt;3 -->\n",
       "<g id=\"edge11\" class=\"edge\">\n",
       "<title>2&#45;&gt;3</title>\n",
       "<path fill=\"none\" stroke=\"black\" d=\"M57.67,-19.85C62.61,-18.52 69.45,-16.83 75.56,-15.78 99.62,-11.64 128.27,-9.36 143.1,-8.38\"/>\n",
       "<polygon fill=\"black\" stroke=\"black\" points=\"143.3,-9.42 146.22,-8.18 143.16,-7.32 143.3,-9.42\"/>\n",
       "<text text-anchor=\"middle\" x=\"83.56\" y=\"-18.58\" font-family=\"Monospace\" font-size=\"9.00\">a/1</text>\n",
       "</g>\n",
       "<!-- 6 -->\n",
       "<g id=\"node10\" class=\"node\">\n",
       "<title>6</title>\n",
       "<ellipse fill=\"none\" stroke=\"black\" cx=\"117.33\" cy=\"-40.78\" rx=\"7.56\" ry=\"7.56\"/>\n",
       "<text text-anchor=\"middle\" x=\"117.33\" y=\"-38.28\" font-family=\"Monospace\" font-size=\"10.00\"> </text>\n",
       "</g>\n",
       "<!-- 2&#45;&gt;6 -->\n",
       "<g id=\"edge10\" class=\"edge\">\n",
       "<title>2&#45;&gt;6</title>\n",
       "<path fill=\"none\" stroke=\"black\" d=\"M57.79,-23.81C69.49,-27.2 93,-34.01 106.39,-37.9\"/>\n",
       "<polygon fill=\"black\" stroke=\"black\" points=\"106.39,-38.99 109.57,-38.82 106.98,-36.97 106.39,-38.99\"/>\n",
       "<text text-anchor=\"middle\" x=\"83.56\" y=\"-36.58\" font-family=\"Monospace\" font-size=\"9.00\">a/1</text>\n",
       "</g>\n",
       "<!-- 3&#45;&gt;5 -->\n",
       "<g id=\"edge5\" class=\"edge\">\n",
       "<title>3&#45;&gt;5</title>\n",
       "<path fill=\"none\" stroke=\"black\" d=\"M161.55,-10.79C181.46,-20.09 242.05,-48.43 265.49,-59.38\"/>\n",
       "<polygon fill=\"black\" stroke=\"black\" points=\"265.26,-60.43 268.42,-60.75 266.15,-58.53 265.26,-60.43\"/>\n",
       "<text text-anchor=\"middle\" x=\"194.11\" y=\"-34.58\" font-family=\"Monospace\" font-size=\"9.00\">aa/1</text>\n",
       "</g>\n",
       "<!-- 4&#45;&gt;5 -->\n",
       "<g id=\"edge6\" class=\"edge\">\n",
       "<title>4&#45;&gt;5</title>\n",
       "<path fill=\"none\" stroke=\"black\" d=\"M201.91,-63.78C216.04,-63.78 248.62,-63.78 265.05,-63.78\"/>\n",
       "<polygon fill=\"black\" stroke=\"black\" points=\"265.11,-64.83 268.11,-63.78 265.11,-62.73 265.11,-64.83\"/>\n",
       "<text text-anchor=\"middle\" x=\"236.61\" y=\"-66.58\" font-family=\"Monospace\" font-size=\"9.00\">a/1</text>\n",
       "</g>\n",
       "<!-- stop_(1, (2, &#39;aaa&#39;)) -->\n",
       "<g id=\"node11\" class=\"node\">\n",
       "<title>stop_(1, (2, &#39;aaa&#39;))</title>\n",
       "<ellipse fill=\"black\" stroke=\"black\" cx=\"325.67\" cy=\"-63.78\" rx=\"0\" ry=\"0\"/>\n",
       "</g>\n",
       "<!-- 5&#45;&gt;stop_(1, (2, &#39;aaa&#39;)) -->\n",
       "<g id=\"edge4\" class=\"edge\">\n",
       "<title>5&#45;&gt;stop_(1, (2, &#39;aaa&#39;))</title>\n",
       "<path fill=\"none\" stroke=\"black\" d=\"M283.94,-63.78C294.4,-63.78 313.63,-63.78 321.34,-63.78\"/>\n",
       "<polygon fill=\"black\" stroke=\"black\" points=\"321.59,-64.83 324.59,-63.78 321.59,-62.73 321.59,-64.83\"/>\n",
       "<text text-anchor=\"middle\" x=\"304.67\" y=\"-66.58\" font-family=\"Monospace\" font-size=\"9.00\">1</text>\n",
       "</g>\n",
       "<!-- 6&#45;&gt;4 -->\n",
       "<g id=\"edge8\" class=\"edge\">\n",
       "<title>6&#45;&gt;4</title>\n",
       "<path fill=\"none\" stroke=\"black\" d=\"M125.04,-42.48C134.16,-44.83 150.97,-49.29 165.11,-53.78 171.42,-55.78 178.44,-58.28 183.87,-60.29\"/>\n",
       "<polygon fill=\"black\" stroke=\"black\" points=\"183.53,-61.28 186.71,-61.34 184.26,-59.31 183.53,-61.28\"/>\n",
       "<text text-anchor=\"middle\" x=\"154.11\" y=\"-56.58\" font-family=\"Monospace\" font-size=\"9.00\">a/1</text>\n",
       "</g>\n",
       "</g>\n",
       "</svg>\n"
      ],
      "text/plain": [
       "WFSA(7 states)"
      ]
     },
     "execution_count": 277,
     "metadata": {},
     "output_type": "execute_result"
    }
   ],
   "source": [
    "(B @ FST.from_string('aaa', Float)).trim.project(0).epsremove.trim"
   ]
  },
  {
   "cell_type": "code",
   "execution_count": 278,
   "id": "910c1f6b-ecee-465c-893b-facf6f72fe4b",
   "metadata": {},
   "outputs": [
    {
     "data": {
      "text/plain": [
       "4.0"
      ]
     },
     "execution_count": 278,
     "metadata": {},
     "output_type": "execute_result"
    }
   ],
   "source": [
    "(B @ FST.from_string('aaa', Float)).trim.project(0).epsremove.trim.total_weight()"
   ]
  },
  {
   "cell_type": "code",
   "execution_count": 279,
   "id": "2ba45118-21aa-4b82-bc56-552d19bdd234",
   "metadata": {},
   "outputs": [],
   "source": [
    "b_lm = CFGLM(locally_normalize((B @ c_lm.cfg).trim(), tol=1e-100).trim())"
   ]
  },
  {
   "cell_type": "code",
   "execution_count": 280,
   "id": "441e9331-76e1-414e-943b-f59a1452bc44",
   "metadata": {},
   "outputs": [],
   "source": [
    "L = b_lm.cfg.language(10)"
   ]
  },
  {
   "cell_type": "code",
   "execution_count": 281,
   "id": "ba60fba6-01a0-49e7-b1fa-2802482f8afe",
   "metadata": {},
   "outputs": [
    {
     "data": {
      "text/html": [
       "<table><tr><td><div style=\"font-family: Monospace;\"><table><tr style=\"font-weight: bold;\"><td>key</td><td>value</td></tr><tr><td><pre>(&#x27;a&#x27;,)</pre></td><td><pre>0.0909090909090909</pre></td> </tr><tr><td><pre>(&#x27;a&#x27;, &#x27;a&#x27;)</pre></td><td><pre>0.0909090909090909</pre></td> </tr><tr><td><pre>(&#x27;a&#x27;, &#x27;a&#x27;, &#x27;a&#x27;)</pre></td><td><pre>0.1818181818181818</pre></td> </tr><tr><td><pre>(&#x27;a&#x27;, &#x27;aa&#x27;)</pre></td><td><pre>0.1818181818181818</pre></td> </tr><tr><td><pre>(&#x27;aa&#x27;,)</pre></td><td><pre>0.0909090909090909</pre></td> </tr><tr><td><pre>(&#x27;aa&#x27;, &#x27;a&#x27;)</pre></td><td><pre>0.1818181818181818</pre></td> </tr><tr><td><pre>(&#x27;aaa&#x27;,)</pre></td><td><pre>0.18181818181818182</pre></td> </tr></table></div></td><td><?xml version=\"1.0\" encoding=\"UTF-8\" standalone=\"no\"?>\n",
       "<!DOCTYPE svg PUBLIC \"-//W3C//DTD SVG 1.1//EN\"\n",
       " \"http://www.w3.org/Graphics/SVG/1.1/DTD/svg11.dtd\">\n",
       "<!-- Generated by graphviz version 2.43.0 (0)\n",
       " -->\n",
       "<!-- Title: %3 Pages: 1 -->\n",
       "<svg width=\"439pt\" height=\"200pt\"\n",
       " viewBox=\"0.00 0.00 439.00 200.00\" xmlns=\"http://www.w3.org/2000/svg\" xmlns:xlink=\"http://www.w3.org/1999/xlink\">\n",
       "<g id=\"graph0\" class=\"graph\" transform=\"scale(1 1) rotate(0) translate(4 196)\">\n",
       "<title>%3</title>\n",
       "<polygon fill=\"white\" stroke=\"transparent\" points=\"-4,4 -4,-196 435,-196 435,4 -4,4\"/>\n",
       "<!-- 0 -->\n",
       "<g id=\"node1\" class=\"node\">\n",
       "<title>0</title>\n",
       "<polygon fill=\"none\" stroke=\"black\" points=\"15,-130 0,-130 0,-113 15,-113 15,-130\"/>\n",
       "<text text-anchor=\"middle\" x=\"7.5\" y=\"-119\" font-family=\"Monospace\" font-size=\"10.00\">1</text>\n",
       "</g>\n",
       "<!-- 1 -->\n",
       "<g id=\"node2\" class=\"node\">\n",
       "<title>1</title>\n",
       "<polygon fill=\"none\" stroke=\"black\" points=\"127,-178 94,-178 94,-161 127,-161 127,-178\"/>\n",
       "<text text-anchor=\"middle\" x=\"110.5\" y=\"-167\" font-family=\"Monospace\" font-size=\"10.00\">0.18</text>\n",
       "</g>\n",
       "<!-- 0&#45;&gt;1 -->\n",
       "<g id=\"edge1\" class=\"edge\">\n",
       "<title>0&#45;&gt;1</title>\n",
       "<path fill=\"none\" stroke=\"black\" d=\"M15.35,-124.89C20.26,-127.31 27.02,-130.63 33,-133.5 52.72,-142.97 75.42,-153.62 90.93,-160.86\"/>\n",
       "<polygon fill=\"black\" stroke=\"black\" points=\"90.77,-161.95 93.94,-162.26 91.66,-160.04 90.77,-161.95\"/>\n",
       "<text text-anchor=\"middle\" x=\"54.5\" y=\"-155.3\" font-family=\"Monospace\" font-size=\"9.00\">aaa/0.18</text>\n",
       "</g>\n",
       "<!-- 2 -->\n",
       "<g id=\"node3\" class=\"node\">\n",
       "<title>2</title>\n",
       "<polygon fill=\"none\" stroke=\"black\" points=\"127,-130 94,-130 94,-113 127,-113 127,-130\"/>\n",
       "<text text-anchor=\"middle\" x=\"110.5\" y=\"-119\" font-family=\"Monospace\" font-size=\"10.00\">0.27</text>\n",
       "</g>\n",
       "<!-- 0&#45;&gt;2 -->\n",
       "<g id=\"edge2\" class=\"edge\">\n",
       "<title>0&#45;&gt;2</title>\n",
       "<path fill=\"none\" stroke=\"black\" d=\"M15.13,-121.5C30.19,-121.5 67.45,-121.5 90.39,-121.5\"/>\n",
       "<polygon fill=\"black\" stroke=\"black\" points=\"90.66,-122.55 93.66,-121.5 90.66,-120.45 90.66,-122.55\"/>\n",
       "<text text-anchor=\"middle\" x=\"54.5\" y=\"-124.3\" font-family=\"Monospace\" font-size=\"9.00\">aa/0.27</text>\n",
       "</g>\n",
       "<!-- 3 -->\n",
       "<g id=\"node4\" class=\"node\">\n",
       "<title>3</title>\n",
       "<polygon fill=\"none\" stroke=\"black\" points=\"127,-79 94,-79 94,-62 127,-62 127,-79\"/>\n",
       "<text text-anchor=\"middle\" x=\"110.5\" y=\"-68\" font-family=\"Monospace\" font-size=\"10.00\">0.55</text>\n",
       "</g>\n",
       "<!-- 0&#45;&gt;3 -->\n",
       "<g id=\"edge3\" class=\"edge\">\n",
       "<title>0&#45;&gt;3</title>\n",
       "<path fill=\"none\" stroke=\"black\" d=\"M15.29,-117.45C20.17,-114.58 26.93,-110.7 33,-107.5 52.46,-97.25 75.19,-86.39 90.79,-79.11\"/>\n",
       "<polygon fill=\"black\" stroke=\"black\" points=\"91.54,-79.92 93.81,-77.7 90.65,-78.02 91.54,-79.92\"/>\n",
       "<text text-anchor=\"middle\" x=\"54.5\" y=\"-110.3\" font-family=\"Monospace\" font-size=\"9.00\">a/0.55</text>\n",
       "</g>\n",
       "<!-- 14 -->\n",
       "<g id=\"node15\" class=\"node\">\n",
       "<title>14</title>\n",
       "<polygon fill=\"none\" stroke=\"black\" points=\"236,-192 203,-192 203,-175 236,-175 236,-192\"/>\n",
       "<text text-anchor=\"middle\" x=\"219.5\" y=\"-181\" font-family=\"Monospace\" font-size=\"10.00\">0.18</text>\n",
       "</g>\n",
       "<!-- 1&#45;&gt;14 -->\n",
       "<g id=\"edge14\" class=\"edge\">\n",
       "<title>1&#45;&gt;14</title>\n",
       "<path fill=\"none\" stroke=\"black\" d=\"M127.29,-171.57C146.6,-174.09 179.25,-178.37 199.8,-181.05\"/>\n",
       "<polygon fill=\"black\" stroke=\"black\" points=\"199.88,-182.12 202.99,-181.47 200.16,-180.04 199.88,-182.12\"/>\n",
       "<text text-anchor=\"middle\" x=\"163.5\" y=\"-181.3\" font-family=\"Monospace\" font-size=\"9.00\">▪/1</text>\n",
       "</g>\n",
       "<!-- 11 -->\n",
       "<g id=\"node12\" class=\"node\">\n",
       "<title>11</title>\n",
       "<polygon fill=\"none\" stroke=\"black\" points=\"236,-157 203,-157 203,-140 236,-140 236,-157\"/>\n",
       "<text text-anchor=\"middle\" x=\"219.5\" y=\"-146\" font-family=\"Monospace\" font-size=\"10.00\">0.18</text>\n",
       "</g>\n",
       "<!-- 2&#45;&gt;11 -->\n",
       "<g id=\"edge11\" class=\"edge\">\n",
       "<title>2&#45;&gt;11</title>\n",
       "<path fill=\"none\" stroke=\"black\" d=\"M127.29,-125.48C146.68,-130.38 179.52,-138.66 200.06,-143.85\"/>\n",
       "<polygon fill=\"black\" stroke=\"black\" points=\"199.83,-144.87 202.99,-144.59 200.34,-142.84 199.83,-144.87\"/>\n",
       "<text text-anchor=\"middle\" x=\"163.5\" y=\"-141.3\" font-family=\"Monospace\" font-size=\"9.00\">a/0.67</text>\n",
       "</g>\n",
       "<!-- 12 -->\n",
       "<g id=\"node13\" class=\"node\">\n",
       "<title>12</title>\n",
       "<polygon fill=\"none\" stroke=\"black\" points=\"239,-122 200,-122 200,-105 239,-105 239,-122\"/>\n",
       "<text text-anchor=\"middle\" x=\"219.5\" y=\"-111\" font-family=\"Monospace\" font-size=\"10.00\">0.091</text>\n",
       "</g>\n",
       "<!-- 2&#45;&gt;12 -->\n",
       "<g id=\"edge12\" class=\"edge\">\n",
       "<title>2&#45;&gt;12</title>\n",
       "<path fill=\"none\" stroke=\"black\" d=\"M127.11,-118.2C132.72,-117.15 139.12,-116.1 145,-115.5 162.24,-113.73 181.86,-113.28 196.49,-113.24\"/>\n",
       "<polygon fill=\"black\" stroke=\"black\" points=\"196.72,-114.29 199.72,-113.24 196.72,-112.19 196.72,-114.29\"/>\n",
       "<text text-anchor=\"middle\" x=\"163.5\" y=\"-118.3\" font-family=\"Monospace\" font-size=\"9.00\">▪/0.33</text>\n",
       "</g>\n",
       "<!-- 4 -->\n",
       "<g id=\"node5\" class=\"node\">\n",
       "<title>4</title>\n",
       "<polygon fill=\"none\" stroke=\"black\" points=\"236,-87 203,-87 203,-70 236,-70 236,-87\"/>\n",
       "<text text-anchor=\"middle\" x=\"219.5\" y=\"-76\" font-family=\"Monospace\" font-size=\"10.00\">0.18</text>\n",
       "</g>\n",
       "<!-- 3&#45;&gt;4 -->\n",
       "<g id=\"edge4\" class=\"edge\">\n",
       "<title>3&#45;&gt;4</title>\n",
       "<path fill=\"none\" stroke=\"black\" d=\"M127.29,-71.68C146.6,-73.12 179.25,-75.57 199.8,-77.1\"/>\n",
       "<polygon fill=\"black\" stroke=\"black\" points=\"199.92,-78.16 202.99,-77.34 200.08,-76.07 199.92,-78.16\"/>\n",
       "<text text-anchor=\"middle\" x=\"163.5\" y=\"-78.3\" font-family=\"Monospace\" font-size=\"9.00\">aa/0.33</text>\n",
       "</g>\n",
       "<!-- 5 -->\n",
       "<g id=\"node6\" class=\"node\">\n",
       "<title>5</title>\n",
       "<polygon fill=\"none\" stroke=\"black\" points=\"236,-52 203,-52 203,-35 236,-35 236,-52\"/>\n",
       "<text text-anchor=\"middle\" x=\"219.5\" y=\"-41\" font-family=\"Monospace\" font-size=\"10.00\">0.27</text>\n",
       "</g>\n",
       "<!-- 3&#45;&gt;5 -->\n",
       "<g id=\"edge5\" class=\"edge\">\n",
       "<title>3&#45;&gt;5</title>\n",
       "<path fill=\"none\" stroke=\"black\" d=\"M127.03,-64.42C132.64,-62.36 139.05,-60.16 145,-58.5 163.31,-53.38 184.63,-49.22 199.58,-46.59\"/>\n",
       "<polygon fill=\"black\" stroke=\"black\" points=\"200.08,-47.57 202.86,-46.02 199.72,-45.5 200.08,-47.57\"/>\n",
       "<text text-anchor=\"middle\" x=\"163.5\" y=\"-61.3\" font-family=\"Monospace\" font-size=\"9.00\">a/0.5</text>\n",
       "</g>\n",
       "<!-- 6 -->\n",
       "<g id=\"node7\" class=\"node\">\n",
       "<title>6</title>\n",
       "<polygon fill=\"none\" stroke=\"black\" points=\"239,-17 200,-17 200,0 239,0 239,-17\"/>\n",
       "<text text-anchor=\"middle\" x=\"219.5\" y=\"-6\" font-family=\"Monospace\" font-size=\"10.00\">0.091</text>\n",
       "</g>\n",
       "<!-- 3&#45;&gt;6 -->\n",
       "<g id=\"edge6\" class=\"edge\">\n",
       "<title>3&#45;&gt;6</title>\n",
       "<path fill=\"none\" stroke=\"black\" d=\"M117.82,-61.94C123.98,-54.11 134.02,-42.69 145,-35.5 160.99,-25.03 181.59,-17.91 196.92,-13.63\"/>\n",
       "<polygon fill=\"black\" stroke=\"black\" points=\"197.29,-14.61 199.91,-12.81 196.74,-12.59 197.29,-14.61\"/>\n",
       "<text text-anchor=\"middle\" x=\"163.5\" y=\"-38.3\" font-family=\"Monospace\" font-size=\"9.00\">▪/0.17</text>\n",
       "</g>\n",
       "<!-- 10 -->\n",
       "<g id=\"node11\" class=\"node\">\n",
       "<title>10</title>\n",
       "<polygon fill=\"none\" stroke=\"black\" points=\"343,-87 310,-87 310,-70 343,-70 343,-87\"/>\n",
       "<text text-anchor=\"middle\" x=\"326.5\" y=\"-76\" font-family=\"Monospace\" font-size=\"10.00\">0.18</text>\n",
       "</g>\n",
       "<!-- 4&#45;&gt;10 -->\n",
       "<g id=\"edge10\" class=\"edge\">\n",
       "<title>4&#45;&gt;10</title>\n",
       "<path fill=\"none\" stroke=\"black\" d=\"M236.45,-78.5C255.21,-78.5 286.34,-78.5 306.38,-78.5\"/>\n",
       "<polygon fill=\"black\" stroke=\"black\" points=\"306.75,-79.55 309.75,-78.5 306.75,-77.45 306.75,-79.55\"/>\n",
       "<text text-anchor=\"middle\" x=\"273\" y=\"-81.3\" font-family=\"Monospace\" font-size=\"9.00\">▪/1</text>\n",
       "</g>\n",
       "<!-- 7 -->\n",
       "<g id=\"node8\" class=\"node\">\n",
       "<title>7</title>\n",
       "<polygon fill=\"none\" stroke=\"black\" points=\"343,-52 310,-52 310,-35 343,-35 343,-52\"/>\n",
       "<text text-anchor=\"middle\" x=\"326.5\" y=\"-41\" font-family=\"Monospace\" font-size=\"10.00\">0.18</text>\n",
       "</g>\n",
       "<!-- 5&#45;&gt;7 -->\n",
       "<g id=\"edge7\" class=\"edge\">\n",
       "<title>5&#45;&gt;7</title>\n",
       "<path fill=\"none\" stroke=\"black\" d=\"M236.45,-43.5C255.21,-43.5 286.34,-43.5 306.38,-43.5\"/>\n",
       "<polygon fill=\"black\" stroke=\"black\" points=\"306.75,-44.55 309.75,-43.5 306.75,-42.45 306.75,-44.55\"/>\n",
       "<text text-anchor=\"middle\" x=\"273\" y=\"-46.3\" font-family=\"Monospace\" font-size=\"9.00\">a/0.67</text>\n",
       "</g>\n",
       "<!-- 8 -->\n",
       "<g id=\"node9\" class=\"node\">\n",
       "<title>8</title>\n",
       "<polygon fill=\"none\" stroke=\"black\" points=\"346,-17 307,-17 307,0 346,0 346,-17\"/>\n",
       "<text text-anchor=\"middle\" x=\"326.5\" y=\"-6\" font-family=\"Monospace\" font-size=\"10.00\">0.091</text>\n",
       "</g>\n",
       "<!-- 5&#45;&gt;8 -->\n",
       "<g id=\"edge8\" class=\"edge\">\n",
       "<title>5&#45;&gt;8</title>\n",
       "<path fill=\"none\" stroke=\"black\" d=\"M236.04,-37.27C242.49,-34.75 250.07,-31.89 257,-29.5 272.52,-24.15 290.25,-18.73 303.79,-14.74\"/>\n",
       "<polygon fill=\"black\" stroke=\"black\" points=\"304.2,-15.71 306.78,-13.86 303.61,-13.7 304.2,-15.71\"/>\n",
       "<text text-anchor=\"middle\" x=\"273\" y=\"-32.3\" font-family=\"Monospace\" font-size=\"9.00\">▪/0.33</text>\n",
       "</g>\n",
       "<!-- 9 -->\n",
       "<g id=\"node10\" class=\"node\">\n",
       "<title>9</title>\n",
       "<polygon fill=\"none\" stroke=\"black\" points=\"431,-52 398,-52 398,-35 431,-35 431,-52\"/>\n",
       "<text text-anchor=\"middle\" x=\"414.5\" y=\"-41\" font-family=\"Monospace\" font-size=\"10.00\">0.18</text>\n",
       "</g>\n",
       "<!-- 7&#45;&gt;9 -->\n",
       "<g id=\"edge9\" class=\"edge\">\n",
       "<title>7&#45;&gt;9</title>\n",
       "<path fill=\"none\" stroke=\"black\" d=\"M343.27,-43.5C357.7,-43.5 379.07,-43.5 394.45,-43.5\"/>\n",
       "<polygon fill=\"black\" stroke=\"black\" points=\"394.83,-44.55 397.83,-43.5 394.83,-42.45 394.83,-44.55\"/>\n",
       "<text text-anchor=\"middle\" x=\"372\" y=\"-46.3\" font-family=\"Monospace\" font-size=\"9.00\">▪/1</text>\n",
       "</g>\n",
       "<!-- 13 -->\n",
       "<g id=\"node14\" class=\"node\">\n",
       "<title>13</title>\n",
       "<polygon fill=\"none\" stroke=\"black\" points=\"343,-157 310,-157 310,-140 343,-140 343,-157\"/>\n",
       "<text text-anchor=\"middle\" x=\"326.5\" y=\"-146\" font-family=\"Monospace\" font-size=\"10.00\">0.18</text>\n",
       "</g>\n",
       "<!-- 11&#45;&gt;13 -->\n",
       "<g id=\"edge13\" class=\"edge\">\n",
       "<title>11&#45;&gt;13</title>\n",
       "<path fill=\"none\" stroke=\"black\" d=\"M236.45,-148.5C255.21,-148.5 286.34,-148.5 306.38,-148.5\"/>\n",
       "<polygon fill=\"black\" stroke=\"black\" points=\"306.75,-149.55 309.75,-148.5 306.75,-147.45 306.75,-149.55\"/>\n",
       "<text text-anchor=\"middle\" x=\"273\" y=\"-151.3\" font-family=\"Monospace\" font-size=\"9.00\">▪/1</text>\n",
       "</g>\n",
       "</g>\n",
       "</svg>\n",
       "</td> </tr></table>"
      ],
      "text/plain": [
       "<IPython.core.display.HTML object>"
      ]
     },
     "metadata": {},
     "output_type": "display_data"
    }
   ],
   "source": [
    "BB, tracer_bpe_chunks = generation_tree(b_lm)\n",
    "display_table([[BB, tracer_bpe_chunks]])"
   ]
  },
  {
   "cell_type": "code",
   "execution_count": 282,
   "id": "58c7eee2-4785-4000-b3de-53a592661d05",
   "metadata": {},
   "outputs": [
    {
     "data": {
      "text/html": [
       "<div style=\"font-family: Monospace;\"><table><tr style=\"font-weight: bold;\"><td>key</td><td>value</td></tr><tr><td><pre>a</pre></td><td><pre>0.0909090909090909</pre></td> </tr><tr><td><pre>aa</pre></td><td><pre>0.1818181818181818</pre></td> </tr><tr><td><pre>aaa</pre></td><td><pre>0.7272727272727273</pre></td> </tr></table></div>"
      ],
      "text/plain": [
       "{'a': 0.0909090909090909, 'aa': 0.1818181818181818, 'aaa': 0.7272727272727273}"
      ]
     },
     "execution_count": 282,
     "metadata": {},
     "output_type": "execute_result"
    }
   ],
   "source": [
    "PL = L.project(lambda y: ''.join(y).strip(EOS))\n",
    "PL"
   ]
  },
  {
   "cell_type": "markdown",
   "id": "c830313c-af1c-4cc4-a472-ea306ea138f1",
   "metadata": {},
   "source": [
    "One way to resolve the double-counting issues with the tranduction approach is to canonicalize the tokenization.  We can make this up post-hoc using a filter for whether or not the tokenization is greedy (aka a maximum-munch tokenization)."
   ]
  },
  {
   "cell_type": "code",
   "execution_count": 298,
   "id": "cb9b49c2-2073-4285-a8c7-2f07c06c3a5a",
   "metadata": {},
   "outputs": [],
   "source": [
    "def max_munch(tokens):\n",
    "    \"Maximum-munch tokenizer for the finite set `tokens`.\"\n",
    "    def t(a):\n",
    "        if len(a) == 0: return ()\n",
    "        for b in sorted(tokens, key=len, reverse=True):\n",
    "            if a.startswith(b):\n",
    "                return (b,) + t(a[len(b):])\n",
    "        raise ValueError('bad token set')\n",
    "    return t\n",
    "def min_munch(tokens):\n",
    "    \"Minimum-munch tokenizer for the finite set `tokens`.\"\n",
    "    def t(a):\n",
    "        if len(a) == 0: return ()\n",
    "        for b in sorted(tokens, key=len):\n",
    "            if a.startswith(b):\n",
    "                return (b,) + t(a[len(b):])\n",
    "        raise ValueError('bad token set')\n",
    "    return t"
   ]
  },
  {
   "cell_type": "code",
   "execution_count": 299,
   "id": "c7b99038-03fa-4ec9-801d-29029d53ff92",
   "metadata": {},
   "outputs": [],
   "source": [
    "assert max_munch(tokens)('aaaaaa') == ('aaa','aaa')\n",
    "assert max_munch(tokens)('aaaaa') == ('aaa','aa')\n",
    "assert max_munch(tokens)('aaaa') == ('aaa','a')\n",
    "assert max_munch(tokens)('aaa' 'aaa' 'aa') == ('aaa','aaa', 'aa')\n",
    "assert min_munch(tokens)('aaaaaa') == ('a','a','a','a','a','a')"
   ]
  },
  {
   "cell_type": "code",
   "execution_count": 300,
   "id": "3915e89a-b71c-4c97-9b18-dec3d48599e6",
   "metadata": {},
   "outputs": [
    {
     "data": {
      "text/html": [
       "<div style=\"font-family: Monospace;\"><table><tr style=\"font-weight: bold;\"><td>key</td><td>value</td></tr><tr><td><pre>(&#x27;a&#x27;,)</pre></td><td><pre>0.24999999999999997</pre></td> </tr><tr><td><pre>(&#x27;aa&#x27;,)</pre></td><td><pre>0.24999999999999997</pre></td> </tr><tr><td><pre>(&#x27;aaa&#x27;,)</pre></td><td><pre>0.5</pre></td> </tr></table></div>"
      ],
      "text/plain": [
       "{('a',): 0.24999999999999997, ('aa',): 0.24999999999999997, ('aaa',): 0.5}"
      ]
     },
     "execution_count": 300,
     "metadata": {},
     "output_type": "execute_result"
    }
   ],
   "source": [
    "BB.filter(lambda b: max_munch(tokens)(''.join(b)) == tuple(b)).normalize()"
   ]
  },
  {
   "cell_type": "code",
   "execution_count": 301,
   "id": "2e3a47c0-ad28-4155-887f-f96309ffc9a4",
   "metadata": {},
   "outputs": [
    {
     "data": {
      "text/html": [
       "<div style=\"font-family: Monospace;\"><table><tr style=\"font-weight: bold;\"><td>key</td><td>value</td></tr><tr><td><pre>(&#x27;a&#x27;,)</pre></td><td><pre>0.25</pre></td> </tr><tr><td><pre>(&#x27;a&#x27;, &#x27;a&#x27;)</pre></td><td><pre>0.25</pre></td> </tr><tr><td><pre>(&#x27;a&#x27;, &#x27;a&#x27;, &#x27;a&#x27;)</pre></td><td><pre>0.5</pre></td> </tr></table></div>"
      ],
      "text/plain": [
       "{('a',): 0.25, ('a', 'a'): 0.25, ('a', 'a', 'a'): 0.5}"
      ]
     },
     "execution_count": 301,
     "metadata": {},
     "output_type": "execute_result"
    }
   ],
   "source": [
    "BB.filter(lambda b: min_munch(tokens)(''.join(b)) == tuple(b)).normalize()"
   ]
  },
  {
   "cell_type": "code",
   "execution_count": null,
   "id": "9a111f6c-39db-4131-b321-b2e4044e8839",
   "metadata": {},
   "outputs": [],
   "source": []
  },
  {
   "cell_type": "code",
   "execution_count": 290,
   "id": "25465c7e-124f-4fbd-a33a-6da3db9ee1d9",
   "metadata": {},
   "outputs": [
    {
     "data": {
      "text/html": [
       "<table><tr style=\"font-weight: bold;\"><td>target</td><td>grafting-approximation</td><td>composition</td></tr><tr><td><div style=\"font-family: Monospace;\"><table><tr style=\"font-weight: bold;\"><td>key</td><td>value</td></tr><tr><td><pre>a</pre></td><td><pre>0.25</pre></td> </tr><tr><td><pre>aa</pre></td><td><pre>0.25</pre></td> </tr><tr><td><pre>aaa</pre></td><td><pre>0.5</pre></td> </tr></table></div></td><td><div style=\"font-family: Monospace;\"><table><tr style=\"font-weight: bold;\"><td>key</td><td>value</td></tr><tr><td><pre>a</pre></td><td><pre>0.0855614973262032</pre></td> </tr><tr><td><pre>aa</pre></td><td><pre>0.2032085561497326</pre></td> </tr><tr><td><pre>aaa</pre></td><td><pre>0.7112299465240641</pre></td> </tr></table></div></td><td><div style=\"font-family: Monospace;\"><table><tr style=\"font-weight: bold;\"><td>key</td><td>value</td></tr><tr><td><pre>a</pre></td><td><pre>0.0909090909090909</pre></td> </tr><tr><td><pre>aa</pre></td><td><pre>0.1818181818181818</pre></td> </tr><tr><td><pre>aaa</pre></td><td><pre>0.7272727272727273</pre></td> </tr></table></div></td> </tr></table>"
      ],
      "text/plain": [
       "<IPython.core.display.HTML object>"
      ]
     },
     "metadata": {},
     "output_type": "display_data"
    }
   ],
   "source": [
    "display_table([[C.project(''.join), A, PL]], headings=['target', 'grafting-approximation', 'composition'])"
   ]
  },
  {
   "cell_type": "code",
   "execution_count": null,
   "id": "e43e0810-b33e-4cd1-ace9-abbca5296cb1",
   "metadata": {},
   "outputs": [],
   "source": []
  },
  {
   "cell_type": "code",
   "execution_count": 160,
   "id": "7ee8f22e-ab4e-4600-96ac-36bda4c27f6d",
   "metadata": {},
   "outputs": [],
   "source": [
    "#from genparse.util import char2bpe_single"
   ]
  },
  {
   "cell_type": "code",
   "execution_count": 159,
   "id": "6ac1b5e1-84af-4bba-b73c-ffbd5a59499b",
   "metadata": {},
   "outputs": [],
   "source": [
    "#T_copy = FST.from_pairs([(w,w) for w in alphabet], Float).star().epsremove.trim\n",
    "#T_copy"
   ]
  },
  {
   "cell_type": "code",
   "execution_count": 157,
   "id": "3e6501ac-ad5a-40e3-bd55-340a4d079718",
   "metadata": {},
   "outputs": [],
   "source": [
    "#G = (char2bpe_single((w,w) for w in tokens) * T_copy).trim\n",
    "#G"
   ]
  },
  {
   "cell_type": "code",
   "execution_count": 158,
   "id": "04b84e73-a409-4b6d-9e54-b432a012fa92",
   "metadata": {},
   "outputs": [],
   "source": [
    "#G.epsremove"
   ]
  },
  {
   "cell_type": "code",
   "execution_count": null,
   "id": "fd8f5222-fc97-451e-a23d-6edc86997459",
   "metadata": {},
   "outputs": [],
   "source": []
  }
 ],
 "metadata": {
  "kernelspec": {
   "display_name": "Python 3 (ipykernel)",
   "language": "python",
   "name": "python3"
  },
  "language_info": {
   "codemirror_mode": {
    "name": "ipython",
    "version": 3
   },
   "file_extension": ".py",
   "mimetype": "text/x-python",
   "name": "python",
   "nbconvert_exporter": "python",
   "pygments_lexer": "ipython3",
   "version": "3.10.12"
  }
 },
 "nbformat": 4,
 "nbformat_minor": 5
}
