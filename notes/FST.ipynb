{
 "cells": [
  {
   "cell_type": "markdown",
   "id": "d2d8769c-975b-4ca8-a4ba-5d7ca9dec447",
   "metadata": {},
   "source": [
    "# Token Alignment"
   ]
  },
  {
   "cell_type": "code",
   "execution_count": 2,
   "id": "3d9fb828-28ae-4f5f-8fb7-214f325dfa49",
   "metadata": {},
   "outputs": [],
   "source": [
    "%load_ext autoreload\n",
    "%autoreload 2"
   ]
  },
  {
   "cell_type": "code",
   "execution_count": 3,
   "id": "988df6c8-bbb1-4a56-96c0-50ed95639b28",
   "metadata": {},
   "outputs": [],
   "source": [
    "from arsenal import iterview, timeit\n",
    "from collections import Counter\n",
    "from IPython.display import HTML\n",
    "from genparse import CFG, FST, EPSILON, Float, CFGLM, add_EOS, prefix_transducer\n",
    "from genparse.cfglm import locally_normalize, EOS, pcfg_check, explode, add_EOS, CharAlignedCFGLM\n",
    "from genparse.util import LarkStuff, hf_tokenizer, about, show_grammar, normalize, bpe_wfst, display_table, bpe2term_approx\n",
    "from genparse.inference import TraceSWOR"
   ]
  },
  {
   "cell_type": "markdown",
   "id": "9896cdb0-2de9-4437-bb3e-e1ea804ee184",
   "metadata": {
    "jp-MarkdownHeadingCollapsed": true
   },
   "source": [
    "## Accounting for BPE's Tokenization Ambiguity with Transduction "
   ]
  },
  {
   "cell_type": "code",
   "execution_count": null,
   "id": "c84e285f-399d-48d1-bc66-2739a1398289",
   "metadata": {},
   "outputs": [],
   "source": [
    "lark_stuff = LarkStuff(r\"\"\"\n",
    "\n",
    "start: NAME\n",
    "\n",
    "NAME: /(a|b)*c/\n",
    "\n",
    "\"\"\")\n",
    "foo = lark_stuff.char_cfg(decay=.1)\n",
    "foo = locally_normalize(foo)\n",
    "assert len(foo.trim()) > 0\n",
    "pcfg_check(foo)"
   ]
  },
  {
   "cell_type": "code",
   "execution_count": null,
   "id": "bb1b890e-af73-4986-8a7c-505834886378",
   "metadata": {},
   "outputs": [],
   "source": [
    "foo"
   ]
  },
  {
   "cell_type": "code",
   "execution_count": null,
   "id": "0c6210c0-59f6-452b-99c7-a0cb33b7df9a",
   "metadata": {},
   "outputs": [],
   "source": [
    "foo.cnf.language(3)"
   ]
  },
  {
   "cell_type": "code",
   "execution_count": null,
   "id": "2a198bd4-ab33-429b-a5c8-46487410a4f6",
   "metadata": {},
   "outputs": [],
   "source": [
    "lm = CFGLM(add_EOS(foo))"
   ]
  },
  {
   "cell_type": "code",
   "execution_count": null,
   "id": "b7ae3d3c-02d9-47f7-a025-0c934c42c35c",
   "metadata": {},
   "outputs": [],
   "source": [
    "trace = TraceSWOR()\n",
    "for t in range(15):\n",
    "    with trace:\n",
    "        print(t, lm.sample(draw=trace))"
   ]
  },
  {
   "cell_type": "code",
   "execution_count": null,
   "id": "4e46c45e-00c4-4d81-93a4-875c042bc092",
   "metadata": {},
   "outputs": [],
   "source": [
    "H = hf_tokenizer()\n",
    "about(H.fst)"
   ]
  },
  {
   "cell_type": "markdown",
   "id": "9cb7dea7-788c-4002-bac9-7f7249852acb",
   "metadata": {},
   "source": [
    "Let's shrink the BPE transducer down to something managable by limiting it alphabet "
   ]
  },
  {
   "cell_type": "code",
   "execution_count": null,
   "id": "ec6f862e-9096-4ede-ba35-c632bdf2a1e5",
   "metadata": {},
   "outputs": [],
   "source": [
    "b2c = H.fst.prune_to_alphabet(None, foo.V | {''}).renumber\n",
    "about(b2c)"
   ]
  },
  {
   "cell_type": "code",
   "execution_count": null,
   "id": "e1007c22-7c76-448d-a5ba-e121a2efc8ed",
   "metadata": {},
   "outputs": [],
   "source": [
    "#b2c"
   ]
  },
  {
   "cell_type": "markdown",
   "id": "9b03ac6d-e5bd-4b66-8516-5b01eb56e7b5",
   "metadata": {},
   "source": [
    "We can look at our little language's strings thru the lense of their possible BPE sequences.  Notice that these strings are ambiguously mapped to BPE --- meaning that there are many BPE sequences that would give rise to the same string!"
   ]
  },
  {
   "cell_type": "code",
   "execution_count": null,
   "id": "63583038-d333-48a6-8e53-4403df9b9194",
   "metadata": {},
   "outputs": [],
   "source": [
    "for x in foo.cnf.language(3):\n",
    "    print(x)\n",
    "    bpe_x = (b2c @ FST.from_string(x, Float)).trim.project(0).epsremove.trim\n",
    "    print('total weight of BPE sequences:', bpe_x.total_weight())\n",
    "    display(bpe_x)\n",
    "    print()"
   ]
  },
  {
   "cell_type": "code",
   "execution_count": null,
   "id": "1a01e546-c37e-46f8-900e-de303dce77b3",
   "metadata": {},
   "outputs": [],
   "source": [
    "tmp = (b2c @ foo)\n",
    "assert len(tmp.trim()) > 0"
   ]
  },
  {
   "cell_type": "code",
   "execution_count": null,
   "id": "8c5432b0-1bf6-48fe-8623-b5d9f91acc3a",
   "metadata": {},
   "outputs": [],
   "source": [
    "#tmp.trim().cnf.language(3)"
   ]
  },
  {
   "cell_type": "code",
   "execution_count": null,
   "id": "e93a5278-6578-4813-901b-0ded48eb20f4",
   "metadata": {},
   "outputs": [],
   "source": [
    "L = 5\n",
    "c = Float.chart()\n",
    "for x, w, in tmp.trim().cnf.language(5).items():\n",
    "    y =  H.tokenizer.decode(x)\n",
    "    if len(y) > L: continue    \n",
    "    c[y] += w"
   ]
  },
  {
   "cell_type": "code",
   "execution_count": null,
   "id": "7f1e4505-684b-4244-aa9e-6e380ee7fec0",
   "metadata": {},
   "outputs": [],
   "source": [
    "ambig = Float.chart({x: (b2c @ FST.from_string(x, Float)).trim.project(0).epsremove.trim.total_weight() for x in c})"
   ]
  },
  {
   "cell_type": "code",
   "execution_count": null,
   "id": "9bec20d2-9545-4a1e-92d6-a504a212d0f3",
   "metadata": {},
   "outputs": [],
   "source": [
    "ccc = Float.chart()\n",
    "for x in c:\n",
    "    ccc[x] = c[x] / ambig[x]"
   ]
  },
  {
   "cell_type": "code",
   "execution_count": null,
   "id": "d1c58131-7ac7-40f7-9af8-fe6b40b05c35",
   "metadata": {},
   "outputs": [],
   "source": [
    "cc = Float.chart()\n",
    "for x, w in foo.cnf.language(L+2).items():\n",
    "    if len(x) > L: continue\n",
    "    cc[''.join(x)] += w\n",
    "cc"
   ]
  },
  {
   "cell_type": "code",
   "execution_count": null,
   "id": "4248cb64-5bdb-4f86-a70f-a1d4383e0458",
   "metadata": {},
   "outputs": [],
   "source": [
    "ccc.assert_equal(cc, tol=1e-20)"
   ]
  },
  {
   "cell_type": "code",
   "execution_count": null,
   "id": "fbf30359-1852-4cef-a86f-048dc62dd968",
   "metadata": {},
   "outputs": [],
   "source": [
    "#cc.metric(c)"
   ]
  },
  {
   "cell_type": "code",
   "execution_count": null,
   "id": "0af56e1c-e4fa-4166-9ba2-ce1f1d82e16e",
   "metadata": {},
   "outputs": [],
   "source": [
    "#tmp.trim(bottomup_only=True)"
   ]
  },
  {
   "cell_type": "code",
   "execution_count": null,
   "id": "7b732ed0-520b-45ba-810b-d0266a7d1d88",
   "metadata": {},
   "outputs": [],
   "source": [
    "#show_grammar(tmp, showzero=True)"
   ]
  },
  {
   "cell_type": "code",
   "execution_count": null,
   "id": "337e2d86-6dfe-45be-87ba-0b6fbfc50c35",
   "metadata": {},
   "outputs": [],
   "source": [
    "#print(tmp.agenda().__str__(style_value=lambda k, v: (colors.light.red % v) if v > 1.000001 or v < 0 else v))"
   ]
  },
  {
   "cell_type": "code",
   "execution_count": null,
   "id": "21c4baaf-8a5e-4380-81c8-9fe5f5d85bb6",
   "metadata": {},
   "outputs": [],
   "source": [
    "#for q in c2t.states:      \n",
    "#    for (a,b), r, w in c2t.arcs(q):\n",
    "#        print(f'--{a or \"ε\"}:{b or \"ε\"}/{w}-->', r)"
   ]
  },
  {
   "cell_type": "code",
   "execution_count": null,
   "id": "297d9420-6e63-4607-b5a9-439238b02140",
   "metadata": {},
   "outputs": [],
   "source": [
    "#{x: v for x,v in tmp.agenda().items() if v > 1.001 or v < 0}"
   ]
  },
  {
   "cell_type": "code",
   "execution_count": null,
   "id": "9ea76dfa-cbc6-4cdd-a413-dda5dd7e9c89",
   "metadata": {},
   "outputs": [],
   "source": [
    "#len(tmp.N - tmp.agenda(tol=1e-40, maxiter=np.inf).trim().keys()), len(tmp.N), len(tmp.agenda(tol=1e-40).trim())"
   ]
  },
  {
   "cell_type": "code",
   "execution_count": null,
   "id": "1f25c7ed-b778-4a0c-819f-0219156e6c5a",
   "metadata": {},
   "outputs": [],
   "source": [
    "#tmp.cnf.language(4)"
   ]
  },
  {
   "cell_type": "code",
   "execution_count": null,
   "id": "f18614c6-5c17-4467-ae97-f06790f22af4",
   "metadata": {},
   "outputs": [],
   "source": [
    "#show_grammar(tmp)"
   ]
  },
  {
   "cell_type": "code",
   "execution_count": null,
   "id": "3d61730b-d679-4404-b062-d3d5bbaa20ac",
   "metadata": {},
   "outputs": [],
   "source": [
    "p = locally_normalize(tmp, tol=1e-40, maxiter=np.inf).trim()\n",
    "pcfg_check(p)"
   ]
  },
  {
   "cell_type": "code",
   "execution_count": null,
   "id": "9a777fe2-77a9-40ff-af4d-d1f02f6ed3e6",
   "metadata": {},
   "outputs": [],
   "source": [
    "lm2 = CFGLM(add_EOS(p))"
   ]
  },
  {
   "cell_type": "code",
   "execution_count": null,
   "id": "fd2ff4b0-5e43-455f-8be8-b42c7d059aad",
   "metadata": {},
   "outputs": [],
   "source": [
    "#lm2.sample(verbose=1)"
   ]
  },
  {
   "cell_type": "code",
   "execution_count": null,
   "id": "f3d26457-e3bf-4f79-8ec0-7d811110982e",
   "metadata": {},
   "outputs": [],
   "source": [
    "#context = (64,65,6485,39305)\n",
    "context = (64,65,6485,)"
   ]
  },
  {
   "cell_type": "code",
   "execution_count": null,
   "id": "0040787f-6bc0-4ec4-915a-a12aedaaedcd",
   "metadata": {},
   "outputs": [],
   "source": [
    "char_context = H.tokenizer.decode(context)\n",
    "char_context"
   ]
  },
  {
   "cell_type": "code",
   "execution_count": null,
   "id": "7085cad5-62ac-4385-afba-a848c6583d3f",
   "metadata": {},
   "outputs": [],
   "source": [
    "df = []\n",
    "for x, w in sorted(normalize(lm2.p_next(context)).items(), key=lambda kv: -kv[1]):\n",
    "    df.append((x, (H.tokenizer.decode([x]) if x != EOS else EOS), w))\n",
    "pd.DataFrame(df, columns=['token_id', 'chars', 'prob']).set_index('token_id')"
   ]
  },
  {
   "cell_type": "code",
   "execution_count": null,
   "id": "956b30e0-11be-4339-b576-fdd97c9d985a",
   "metadata": {},
   "outputs": [],
   "source": [
    "Float.chart(normalize(lm.p_next(char_context)))"
   ]
  },
  {
   "cell_type": "code",
   "execution_count": null,
   "id": "2a035044-4c12-495a-8b70-1a6bda2cbb40",
   "metadata": {},
   "outputs": [],
   "source": []
  },
  {
   "cell_type": "markdown",
   "id": "d3e142ef-2966-4614-aa72-5a998059dc50",
   "metadata": {
    "jp-MarkdownHeadingCollapsed": true
   },
   "source": [
    "## Lexing"
   ]
  },
  {
   "cell_type": "code",
   "execution_count": null,
   "id": "db2f8551-e3aa-474b-92d5-3219ad81b36c",
   "metadata": {},
   "outputs": [],
   "source": [
    "lark_stuff = LarkStuff(r\"\"\"\n",
    "\n",
    "start: \"SELECT\" WS STAR WS \"FROM\" WS NAME WS EOS\n",
    "\n",
    "EOS: \"</s>\"\n",
    "NAME: /[a-z]+/\n",
    "STAR: \"*\"\n",
    "WS: /[ ]/\n",
    "\n",
    "\"\"\")"
   ]
  },
  {
   "cell_type": "code",
   "execution_count": null,
   "id": "16b1d527-d27a-46e9-8e8e-e2a3da812351",
   "metadata": {},
   "outputs": [],
   "source": [
    "foo = lark_stuff.char_cfg(.1)"
   ]
  },
  {
   "cell_type": "code",
   "execution_count": null,
   "id": "77d438bc-5767-444a-a449-571f511575f0",
   "metadata": {},
   "outputs": [],
   "source": [
    "#foo['NAME'].trim().agenda()"
   ]
  },
  {
   "cell_type": "code",
   "execution_count": null,
   "id": "6114f525-ff3b-4736-bc3a-d48ebcff71c1",
   "metadata": {},
   "outputs": [],
   "source": [
    "#foo.agenda()"
   ]
  },
  {
   "cell_type": "code",
   "execution_count": null,
   "id": "c8a2e4dd-81f3-433f-83a0-651f27ca63de",
   "metadata": {},
   "outputs": [],
   "source": [
    "foo = locally_normalize(foo, tol=1e-100).trim()\n",
    "assert len(foo) > 0"
   ]
  },
  {
   "cell_type": "code",
   "execution_count": null,
   "id": "d3fffee2-0852-4aef-a92c-0e6b100be3b5",
   "metadata": {},
   "outputs": [],
   "source": [
    "#foo"
   ]
  },
  {
   "cell_type": "code",
   "execution_count": null,
   "id": "79508f80-8c4a-4cc9-8487-10920b285dd2",
   "metadata": {},
   "outputs": [],
   "source": [
    "lm = CFGLM(add_EOS(foo))"
   ]
  },
  {
   "cell_type": "code",
   "execution_count": null,
   "id": "86cde92c-91ea-410a-b002-88b6f383916c",
   "metadata": {},
   "outputs": [],
   "source": [
    "trace = TraceSWOR()\n",
    "for _ in range(15):\n",
    "   print('mass=', trace.root.mass)\n",
    "   with trace:\n",
    "       print(''.join(lm.sample(draw=trace)))"
   ]
  },
  {
   "cell_type": "code",
   "execution_count": null,
   "id": "e36e6deb-900c-4dbd-bad4-c51ce910a641",
   "metadata": {},
   "outputs": [],
   "source": []
  },
  {
   "cell_type": "code",
   "execution_count": null,
   "id": "78a60e9d-e85b-4759-8653-bcccd72c02dd",
   "metadata": {},
   "outputs": [],
   "source": [
    "cfg = lark_stuff.convert().renumber()"
   ]
  },
  {
   "cell_type": "code",
   "execution_count": null,
   "id": "db081114-ac49-4e6d-9c8f-b078966f965e",
   "metadata": {},
   "outputs": [],
   "source": [
    "c2t = lark_stuff.transducer(ignore='', decay=.0125); len(c2t.states)"
   ]
  },
  {
   "cell_type": "markdown",
   "id": "4b8fd795-8971-41aa-8347-883ec12f0623",
   "metadata": {},
   "source": [
    "The `lark` library will only lex it one way because it has a deterministic semantics for prioritized lexing:"
   ]
  },
  {
   "cell_type": "code",
   "execution_count": null,
   "id": "48dee626-031a-409c-b523-57810a90b6c0",
   "metadata": {},
   "outputs": [],
   "source": [
    "x = 'SELECT * FROM data'"
   ]
  },
  {
   "cell_type": "code",
   "execution_count": null,
   "id": "3b469dfa-1951-419e-918d-2753befef16c",
   "metadata": {},
   "outputs": [],
   "source": [
    "list(lark_stuff.lex(x))"
   ]
  },
  {
   "cell_type": "markdown",
   "id": "890c4399-43c6-44f3-ba0a-9d4c720591ed",
   "metadata": {},
   "source": [
    "However, this string can lex many different ways:"
   ]
  },
  {
   "cell_type": "code",
   "execution_count": null,
   "id": "e4b13795-6d91-4604-847f-76a1cbec7576",
   "metadata": {},
   "outputs": [],
   "source": [
    "ambig = (FST.from_string(x, Float) @ c2t).trim.project(1).epsremove.trim.to_cfg().cnf.language(15)"
   ]
  },
  {
   "cell_type": "code",
   "execution_count": null,
   "id": "6d725b7f-f4c0-4cd5-8f0f-61bda50afe36",
   "metadata": {},
   "outputs": [],
   "source": [
    "#ambig"
   ]
  },
  {
   "cell_type": "markdown",
   "id": "1113c156-60a3-48c9-846f-cf9487dc5125",
   "metadata": {},
   "source": [
    "It might be fine to allow ambiguous lexing because very few of the possible lexing options will survive the parser."
   ]
  },
  {
   "cell_type": "code",
   "execution_count": null,
   "id": "a7cb2cbf-8561-4b15-9713-5942a0568883",
   "metadata": {},
   "outputs": [],
   "source": [
    "for y in ambig:\n",
    "    v = cfg.prefix_weight(y)   # show all options with a nonzero prefix weight\n",
    "    if v == 0: continue\n",
    "    print(v, y)"
   ]
  },
  {
   "cell_type": "code",
   "execution_count": null,
   "id": "5ddeacb6-c2d1-4338-ac43-08f6dfe4dfea",
   "metadata": {},
   "outputs": [],
   "source": [
    "#((FST.from_string('SELECT', Float) @ c2t) @ P.T @ cfg).trim().cnf.language(15)"
   ]
  },
  {
   "cell_type": "code",
   "execution_count": null,
   "id": "e0efbe84-53c3-4d07-8a32-956036803019",
   "metadata": {},
   "outputs": [],
   "source": [
    "#(P.T @ cfg).trim().cnf.language(100)"
   ]
  },
  {
   "cell_type": "code",
   "execution_count": null,
   "id": "dfc2e37c-55cc-485b-b755-3281ad9aaa0a",
   "metadata": {},
   "outputs": [],
   "source": [
    "cfg_t = (c2t.renumber @ cfg).trim()\n",
    "pcfg_t = locally_normalize(cfg_t, tol=1e-100, maxiter=10_000_000)"
   ]
  },
  {
   "cell_type": "code",
   "execution_count": null,
   "id": "6e65a6fd-e69a-4836-8404-044aa18d85ca",
   "metadata": {},
   "outputs": [],
   "source": [
    "pcfg_check(pcfg_t)"
   ]
  },
  {
   "cell_type": "code",
   "execution_count": null,
   "id": "405b0d8c-fd5e-4746-a959-c847a3a7bb25",
   "metadata": {},
   "outputs": [],
   "source": [
    "cfg_t('SELECT * FROM data </s>')"
   ]
  },
  {
   "cell_type": "code",
   "execution_count": null,
   "id": "6a341822-10fa-4dec-9d48-097e676634a3",
   "metadata": {},
   "outputs": [],
   "source": [
    "cfg_t('SELECT * FROM data </s>')"
   ]
  },
  {
   "cell_type": "code",
   "execution_count": null,
   "id": "857feb25-f028-43cc-810b-09b905e550df",
   "metadata": {},
   "outputs": [],
   "source": [
    "lm = CFGLM(add_EOS(pcfg_t.cnf))"
   ]
  },
  {
   "cell_type": "code",
   "execution_count": null,
   "id": "8658feb1-73eb-4610-8ea7-f5292b698a66",
   "metadata": {},
   "outputs": [],
   "source": [
    "for _ in range(10):\n",
    "    print(''.join(lm.sample()))"
   ]
  },
  {
   "cell_type": "code",
   "execution_count": null,
   "id": "a6be40a1-cc63-454a-a3d5-2ac66baba86a",
   "metadata": {},
   "outputs": [],
   "source": [
    "lm.p_next('SELECT * FROM ')"
   ]
  },
  {
   "cell_type": "code",
   "execution_count": null,
   "id": "ed95fbfe-24fe-42b9-8daa-e07159bd5856",
   "metadata": {},
   "outputs": [],
   "source": []
  },
  {
   "cell_type": "code",
   "execution_count": null,
   "id": "8ac1d457-4cb3-4fae-bb05-06d26a173fc0",
   "metadata": {},
   "outputs": [],
   "source": []
  },
  {
   "cell_type": "markdown",
   "id": "0f0582ac-3451-4b7f-bcb0-1fc2cdc8efbe",
   "metadata": {
    "jp-MarkdownHeadingCollapsed": true
   },
   "source": [
    "## BPE Basics"
   ]
  },
  {
   "cell_type": "code",
   "execution_count": null,
   "id": "66dddc70-9ccd-4e03-9135-8461fb0c831b",
   "metadata": {},
   "outputs": [],
   "source": [
    "hf_tk = hf_tokenizer()\n",
    "tokenizer = hf_tk.tokenizer"
   ]
  },
  {
   "cell_type": "code",
   "execution_count": null,
   "id": "3113a7ae-ea16-4b18-9612-70b4fdcee7b2",
   "metadata": {},
   "outputs": [],
   "source": [
    "b2c = hf_tk.fst\n",
    "len(b2c.states)"
   ]
  },
  {
   "cell_type": "code",
   "execution_count": null,
   "id": "822277b4-4f0f-43a2-8783-e6a5831109a2",
   "metadata": {},
   "outputs": [],
   "source": [
    "x = 'SELECT * FROM data'\n",
    "b = tokenizer.encode(x)\n",
    "b"
   ]
  },
  {
   "cell_type": "code",
   "execution_count": null,
   "id": "5a439aee-06e4-4e3c-b244-892f29ddc63b",
   "metadata": {},
   "outputs": [],
   "source": [
    "[tokenizer.decode([bb]) for bb in b]"
   ]
  },
  {
   "cell_type": "code",
   "execution_count": null,
   "id": "54a5ff04-03bb-4965-9f05-8085c90dce5e",
   "metadata": {},
   "outputs": [],
   "source": [
    "with timeit('composition'):\n",
    "    c = FST.from_string(tuple(b), Float) @ b2c\n",
    "about(c)"
   ]
  },
  {
   "cell_type": "code",
   "execution_count": null,
   "id": "3f35ab22-cc99-4b61-836d-5109ae8934fd",
   "metadata": {},
   "outputs": [],
   "source": [
    "c.trim"
   ]
  },
  {
   "cell_type": "markdown",
   "id": "5e537195-c06c-4642-8a15-557de5a90f98",
   "metadata": {},
   "source": [
    "We can build this \"transducer\" more efficiently"
   ]
  },
  {
   "cell_type": "code",
   "execution_count": null,
   "id": "3cd29a5c-4b4a-4d65-b3e5-f4375b607fdb",
   "metadata": {},
   "outputs": [],
   "source": [
    "t = bpe2term_approx(tokenizer, tokenizer.encode(x)).epsremove.trim\n",
    "t"
   ]
  },
  {
   "cell_type": "code",
   "execution_count": null,
   "id": "42741260-329d-4a9f-aeee-b2655c260144",
   "metadata": {},
   "outputs": [],
   "source": []
  },
  {
   "cell_type": "markdown",
   "id": "d2df7b26-8065-4ae0-a83d-19d7b5cc436f",
   "metadata": {
    "jp-MarkdownHeadingCollapsed": true
   },
   "source": [
    "## BPE Ambiguity"
   ]
  },
  {
   "cell_type": "code",
   "execution_count": null,
   "id": "ac49282e-6174-4ab2-9c52-7be7663ecdae",
   "metadata": {},
   "outputs": [],
   "source": [
    "with timeit('composition'):\n",
    "    bs = b2c @ FST.from_string(x, Float)\n",
    "with timeit('trim'):\n",
    "    bs.trim\n",
    "about(bs)"
   ]
  },
  {
   "cell_type": "code",
   "execution_count": null,
   "id": "ccf89bc2-a985-44bc-b099-676221f34b05",
   "metadata": {},
   "outputs": [],
   "source": [
    "#bs.trim"
   ]
  },
  {
   "cell_type": "markdown",
   "id": "1f9e46e7-f348-4790-9f2e-ab3812c61f41",
   "metadata": {},
   "source": [
    "The automaton below describes all the BPE sequences that generate the string `x`:"
   ]
  },
  {
   "cell_type": "code",
   "execution_count": null,
   "id": "072cb3c3-6828-4a2d-88d5-d5d5fee491d1",
   "metadata": {},
   "outputs": [],
   "source": [
    "bs.trim.project(0).epsremove.trim"
   ]
  },
  {
   "cell_type": "markdown",
   "id": "c1a488f7-91ff-4d0a-a825-c2da8bbccc29",
   "metadata": {},
   "source": [
    "To see all the BPE sequences that generate `x` run the cell below:"
   ]
  },
  {
   "cell_type": "code",
   "execution_count": null,
   "id": "5ca21894-4a66-4d57-b631-f64f4fc2b575",
   "metadata": {},
   "outputs": [],
   "source": [
    "#for y in bs.trim.project(0).epsremove.trim.to_cfg().language(10):\n",
    "#    print(tokenizer.decode(y), y)"
   ]
  },
  {
   "cell_type": "code",
   "execution_count": null,
   "id": "9632097d-a97a-4d59-8683-7dd637e3e0f8",
   "metadata": {},
   "outputs": [],
   "source": []
  },
  {
   "cell_type": "code",
   "execution_count": null,
   "id": "5b29e1dc-bfd3-47a3-be89-fcd79ac1217a",
   "metadata": {},
   "outputs": [],
   "source": []
  },
  {
   "cell_type": "markdown",
   "id": "60280fdd-8a22-4764-9e76-97814619a4cb",
   "metadata": {
    "jp-MarkdownHeadingCollapsed": true
   },
   "source": [
    "## A Basic Alignment Algorithm"
   ]
  },
  {
   "cell_type": "code",
   "execution_count": null,
   "id": "45add727-d4d9-418b-bf92-b7e782f23703",
   "metadata": {},
   "outputs": [],
   "source": [
    "lark_stuff = LarkStuff(r\"\"\"\n",
    "start: \"SELECT\" WS select_expr WS \"FROM\" WS from_expr [WS \"WHERE\" WS bool_condition] [WS \"GROUP BY\" WS var_list] [WS \"ORDER BY\" WS orderby_expr] WS EOS\n",
    "EOS: \"</s>\"\n",
    "select_expr: STAR | select_list\n",
    "bool_condition: bool_expr | \"(\" bool_condition WS \"AND\" WS bool_condition \")\" | \"(\" bool_condition WS \"OR\" WS bool_condition \")\"\n",
    "bool_expr: var \"=\" value | var \">\" value | var \"<\" value\n",
    "from_expr: \"data\"\n",
    "orderby_expr: var_list WS \"ASC\" | var_list WS \"DESC\"\n",
    "select_list: select_var (\",\" WS select_var)*\n",
    "var_list: var (\",\" WS var)*\n",
    "select_var: var | \"AVG(\" var \")\" | \"MEDIAN(\" var \")\" | \"COUNT(\" var \")\"\n",
    "var: \"age\" | \"gender\" | \"year\" | \"state_color\" | \"zipcode\" | \"vote\" | \"race_ethnicity\"\n",
    "value: NUMBER | \"red\" | \"blue\" | \"white\" | \"black\" | \"latino\" | \"republican\" | \"democrat\" | \"male\" | \"female\"\n",
    "STAR: \"*\"\n",
    "NUMBER: /\\d+/\n",
    "WS: \" \"\n",
    "\"\"\")\n",
    "\n",
    "foo = lark_stuff.char_cfg(.7)\n",
    "foo = locally_normalize(foo, tol=1e-100).trim()\n",
    "assert len(foo) > 0\n",
    "lm = CFGLM(foo)"
   ]
  },
  {
   "cell_type": "code",
   "execution_count": null,
   "id": "82ea9156-8c57-4cba-b448-094a29fd05b4",
   "metadata": {},
   "outputs": [],
   "source": []
  },
  {
   "cell_type": "code",
   "execution_count": null,
   "id": "94820485-f8eb-48e0-86db-cc0faa3b5271",
   "metadata": {},
   "outputs": [],
   "source": [
    "print(''.join(lm.sample()))"
   ]
  },
  {
   "cell_type": "code",
   "execution_count": null,
   "id": "eea67856-e347-4ba0-970c-25bf92b122df",
   "metadata": {},
   "outputs": [],
   "source": []
  },
  {
   "cell_type": "code",
   "execution_count": null,
   "id": "c2158a77-e14c-4e93-b533-4184aae7d4a5",
   "metadata": {},
   "outputs": [],
   "source": [
    "H = hf_tokenizer()"
   ]
  },
  {
   "cell_type": "code",
   "execution_count": null,
   "id": "3d792b5f-c322-47d7-8190-7937b5967fe6",
   "metadata": {},
   "outputs": [],
   "source": [
    "bpe_lm = CharAlignedCFGLM(lm=lm, words={x for _, x in H.pairs}, eos=H.tokenizer.eos_token)"
   ]
  },
  {
   "cell_type": "code",
   "execution_count": null,
   "id": "6aa7e87e-cf79-4319-9ecd-5a5f828adee1",
   "metadata": {},
   "outputs": [],
   "source": [
    "lm.p_next('')"
   ]
  },
  {
   "cell_type": "code",
   "execution_count": null,
   "id": "cc70e82c-138c-4a59-a261-049bcfd5bdd5",
   "metadata": {},
   "outputs": [],
   "source": []
  },
  {
   "cell_type": "code",
   "execution_count": null,
   "id": "64fcecc6-3ea2-4aeb-8ebc-de15472ca0e2",
   "metadata": {},
   "outputs": [],
   "source": [
    "bpe_lm.p_next('')"
   ]
  },
  {
   "cell_type": "code",
   "execution_count": null,
   "id": "f0584af6-04a2-46c6-9a85-7c94dfe2e3b0",
   "metadata": {},
   "outputs": [],
   "source": [
    "lm.p_next('SELECT ')"
   ]
  },
  {
   "cell_type": "code",
   "execution_count": null,
   "id": "0aa025a6-d83a-4ce2-9fa7-9adf08f5621e",
   "metadata": {},
   "outputs": [],
   "source": [
    "bpe_lm.p_next('SELECT ')"
   ]
  },
  {
   "cell_type": "code",
   "execution_count": null,
   "id": "b4720986-8690-49b4-ac18-20539b6a622f",
   "metadata": {},
   "outputs": [],
   "source": [
    "ys = bpe_lm.sample(verbose=0)\n",
    "ys"
   ]
  },
  {
   "cell_type": "markdown",
   "id": "ca7ee095-f67f-4dc1-b010-b11b0ad002ec",
   "metadata": {},
   "source": [
    "## Avoiding Distortion in Tokenization Alignment. "
   ]
  },
  {
   "cell_type": "markdown",
   "id": "d6485bd0-b543-44da-8b4b-ee6ff13c628b",
   "metadata": {},
   "source": [
    "\n",
    "Let $p$ be some original CFG-LM over character strings $a \\in A^*$.\n",
    "\n",
    "Let $p'$ be the \"BPE transform\" of $p$; $p'$ is a distribution over BPE strings $b \\in B^*$.\n",
    "\n",
    "The sets $A^*$ and $B^*$ are related through the functions $\\mathrm{encode}$ and $\\mathrm{decode}$.\n",
    "\n",
    "We want \n",
    "\n",
    "$$\n",
    "\\forall a\\colon\\quad   p(a) = \\sum_{b\\colon\\ \\mathrm{decode}(b) = a} p'(b)\n",
    "$$\n",
    "\n",
    "We would like to define $p'$ such that this property holds because it ensures that the process\n",
    "\n",
    "1. $b \\sim p'$\n",
    "2. $a = \\mathrm{decode}(b)$\n",
    "\n",
    "generates $a$ that is distributed $p$.\n",
    "\n",
    "Open question: does there exist an efficient incremental generative process $p'$ that ensures $p = p'$."
   ]
  },
  {
   "cell_type": "markdown",
   "id": "816edf33-55cd-4d22-9fce-5adc2ff5cb86",
   "metadata": {},
   "source": [
    "The code below is an attempt to understand the distortion in the char-alignment adaptor."
   ]
  },
  {
   "cell_type": "code",
   "execution_count": 6,
   "id": "0256b966-380f-49fa-89e0-e3deb9e6f10e",
   "metadata": {},
   "outputs": [],
   "source": [
    "_cfg = CFG.from_string(\"\"\"\n",
    "\n",
    "1: S -> a\n",
    "1: S -> aa\n",
    "1: S -> aaa\n",
    "\n",
    "\"\"\", Float)\n",
    "c_lm = CFGLM(locally_normalize(explode(add_EOS(_cfg)), tol=1e-100).trim())"
   ]
  },
  {
   "cell_type": "code",
   "execution_count": 24,
   "id": "010735fd-b455-45bd-ac9d-17db4393bc95",
   "metadata": {},
   "outputs": [
    {
     "data": {
      "text/html": [
       "<pre style=\"width: fit-content; text-align: left; border: thin solid black; padding: 0.5em;\">Grammar {\n",
       "  1.0: 0 → 1 ▪\n",
       "  0.3333333333333333: 1 → a #\n",
       "  0.3333333333333333: 1 → a a #\n",
       "  0.3333333333333333: 1 → a a a #\n",
       "}</pre>"
      ],
      "text/plain": [
       "Grammar {\n",
       "  1.0: 0 → 1 ▪\n",
       "  0.3333333333333333: 1 → a #\n",
       "  0.3333333333333333: 1 → a a #\n",
       "  0.3333333333333333: 1 → a a a #\n",
       "}"
      ]
     },
     "execution_count": 24,
     "metadata": {},
     "output_type": "execute_result"
    }
   ],
   "source": [
    "c_lm.cfg"
   ]
  },
  {
   "cell_type": "code",
   "execution_count": 7,
   "id": "7de4c198-85c6-4927-8c62-857185d522a1",
   "metadata": {},
   "outputs": [],
   "source": [
    "tokens = _cfg.V | {'#', EOS}"
   ]
  },
  {
   "cell_type": "code",
   "execution_count": 9,
   "id": "4b2128b1-fd71-462b-a877-9516d057fa7d",
   "metadata": {},
   "outputs": [
    {
     "data": {
      "text/plain": [
       "{'#', 'a', 'aa', 'aaa', '▪'}"
      ]
     },
     "execution_count": 9,
     "metadata": {},
     "output_type": "execute_result"
    }
   ],
   "source": [
    "tokens"
   ]
  },
  {
   "cell_type": "code",
   "execution_count": 10,
   "id": "e8659235-6e35-47f7-bc2e-082e7dab9665",
   "metadata": {},
   "outputs": [],
   "source": [
    "a_lm = CharAlignedCFGLM(c_lm, tokens, EOS)"
   ]
  },
  {
   "cell_type": "code",
   "execution_count": 11,
   "id": "96ce6a19-26f0-4a65-b5c8-93002da6d60f",
   "metadata": {},
   "outputs": [],
   "source": [
    "def generation_tree(lm, **opts):\n",
    "    tracer = TraceSWOR()\n",
    "    D = Float.chart()\n",
    "    while tracer.root.mass > 0:\n",
    "        with tracer:\n",
    "            s, p = lm.sample(draw=tracer, prob=True, **opts)\n",
    "            D[s] += p\n",
    "    D = Float.chart((k, D[k]) for k in sorted(D))\n",
    "    return D, tracer"
   ]
  },
  {
   "cell_type": "code",
   "execution_count": 12,
   "id": "d1d5c923-ef64-49f1-9201-5ee2c1ea2890",
   "metadata": {},
   "outputs": [
    {
     "data": {
      "text/html": [
       "<table><tr><td><div style=\"font-family: Monospace;\"><table><tr style=\"font-weight: bold;\"><td>key</td><td>value</td></tr><tr><td><pre>(&#x27;a&#x27;, &#x27;#&#x27;)</pre></td><td><pre>0.3333333333333333</pre></td> </tr><tr><td><pre>(&#x27;a&#x27;, &#x27;a&#x27;, &#x27;#&#x27;)</pre></td><td><pre>0.3333333333333333</pre></td> </tr><tr><td><pre>(&#x27;a&#x27;, &#x27;a&#x27;, &#x27;a&#x27;, &#x27;#&#x27;)</pre></td><td><pre>0.3333333333333333</pre></td> </tr></table></div></td><td><?xml version=\"1.0\" encoding=\"UTF-8\" standalone=\"no\"?>\n",
       "<!DOCTYPE svg PUBLIC \"-//W3C//DTD SVG 1.1//EN\"\n",
       " \"http://www.w3.org/Graphics/SVG/1.1/DTD/svg11.dtd\">\n",
       "<!-- Generated by graphviz version 2.43.0 (0)\n",
       " -->\n",
       "<!-- Title: %3 Pages: 1 -->\n",
       "<svg width=\"452pt\" height=\"97pt\"\n",
       " viewBox=\"0.00 0.00 452.00 96.50\" xmlns=\"http://www.w3.org/2000/svg\" xmlns:xlink=\"http://www.w3.org/1999/xlink\">\n",
       "<g id=\"graph0\" class=\"graph\" transform=\"scale(1 1) rotate(0) translate(4 92.5)\">\n",
       "<title>%3</title>\n",
       "<polygon fill=\"white\" stroke=\"transparent\" points=\"-4,4 -4,-92.5 448,-92.5 448,4 -4,4\"/>\n",
       "<!-- 0 -->\n",
       "<g id=\"node1\" class=\"node\">\n",
       "<title>0</title>\n",
       "<polygon fill=\"none\" stroke=\"black\" points=\"27,-69 0,-69 0,-52 27,-52 27,-69\"/>\n",
       "<text text-anchor=\"middle\" x=\"13.5\" y=\"-58\" font-family=\"Monospace\" font-size=\"10.00\">0/1</text>\n",
       "</g>\n",
       "<!-- 1 -->\n",
       "<g id=\"node2\" class=\"node\">\n",
       "<title>1</title>\n",
       "<polygon fill=\"none\" stroke=\"black\" points=\"96,-69 69,-69 69,-52 96,-52 96,-69\"/>\n",
       "<text text-anchor=\"middle\" x=\"82.5\" y=\"-58\" font-family=\"Monospace\" font-size=\"10.00\">0/1</text>\n",
       "</g>\n",
       "<!-- 0&#45;&gt;1 -->\n",
       "<g id=\"edge1\" class=\"edge\">\n",
       "<title>0&#45;&gt;1</title>\n",
       "<path fill=\"none\" stroke=\"black\" d=\"M27.1,-60.5C38.05,-60.5 53.96,-60.5 65.75,-60.5\"/>\n",
       "<polygon fill=\"black\" stroke=\"black\" points=\"65.95,-61.55 68.95,-60.5 65.95,-59.45 65.95,-61.55\"/>\n",
       "<text text-anchor=\"middle\" x=\"48\" y=\"-63.3\" font-family=\"Monospace\" font-size=\"9.00\">a</text>\n",
       "</g>\n",
       "<!-- 2 -->\n",
       "<g id=\"node3\" class=\"node\">\n",
       "<title>2</title>\n",
       "<polygon fill=\"none\" stroke=\"black\" points=\"183,-87 138,-87 138,-70 183,-70 183,-87\"/>\n",
       "<text text-anchor=\"middle\" x=\"160.5\" y=\"-76\" font-family=\"Monospace\" font-size=\"10.00\">0/0.33</text>\n",
       "</g>\n",
       "<!-- 1&#45;&gt;2 -->\n",
       "<g id=\"edge2\" class=\"edge\">\n",
       "<title>1&#45;&gt;2</title>\n",
       "<path fill=\"none\" stroke=\"black\" d=\"M96.05,-63.47C106.47,-65.94 121.6,-69.52 134.48,-72.57\"/>\n",
       "<polygon fill=\"black\" stroke=\"black\" points=\"134.54,-73.67 137.7,-73.34 135.03,-71.62 134.54,-73.67\"/>\n",
       "<text text-anchor=\"middle\" x=\"117\" y=\"-71.3\" font-family=\"Monospace\" font-size=\"9.00\">#</text>\n",
       "</g>\n",
       "<!-- 3 -->\n",
       "<g id=\"node4\" class=\"node\">\n",
       "<title>3</title>\n",
       "<polygon fill=\"none\" stroke=\"black\" points=\"183,-52 138,-52 138,-35 183,-35 183,-52\"/>\n",
       "<text text-anchor=\"middle\" x=\"160.5\" y=\"-41\" font-family=\"Monospace\" font-size=\"10.00\">0/0.67</text>\n",
       "</g>\n",
       "<!-- 1&#45;&gt;3 -->\n",
       "<g id=\"edge3\" class=\"edge\">\n",
       "<title>1&#45;&gt;3</title>\n",
       "<path fill=\"none\" stroke=\"black\" d=\"M96.1,-52.84C101.43,-50 107.83,-47.08 114,-45.5 120.58,-43.82 127.87,-43.04 134.65,-42.75\"/>\n",
       "<polygon fill=\"black\" stroke=\"black\" points=\"134.97,-43.79 137.94,-42.64 134.91,-41.69 134.97,-43.79\"/>\n",
       "<text text-anchor=\"middle\" x=\"117\" y=\"-48.3\" font-family=\"Monospace\" font-size=\"9.00\">a</text>\n",
       "</g>\n",
       "<!-- 9 -->\n",
       "<g id=\"node10\" class=\"node\">\n",
       "<title>9</title>\n",
       "<polygon fill=\"none\" stroke=\"black\" points=\"270,-87 225,-87 225,-70 270,-70 270,-87\"/>\n",
       "<text text-anchor=\"middle\" x=\"247.5\" y=\"-76\" font-family=\"Monospace\" font-size=\"10.00\">0/0.33</text>\n",
       "</g>\n",
       "<!-- 2&#45;&gt;9 -->\n",
       "<g id=\"edge9\" class=\"edge\">\n",
       "<title>2&#45;&gt;9</title>\n",
       "<path fill=\"none\" stroke=\"black\" d=\"M183.39,-78.5C195.18,-78.5 209.76,-78.5 221.94,-78.5\"/>\n",
       "<polygon fill=\"black\" stroke=\"black\" points=\"221.98,-79.55 224.98,-78.5 221.98,-77.45 221.98,-79.55\"/>\n",
       "<text text-anchor=\"middle\" x=\"204\" y=\"-81.3\" font-family=\"Monospace\" font-size=\"9.00\">▪</text>\n",
       "</g>\n",
       "<!-- 4 -->\n",
       "<g id=\"node5\" class=\"node\">\n",
       "<title>4</title>\n",
       "<polygon fill=\"none\" stroke=\"black\" points=\"270,-52 225,-52 225,-35 270,-35 270,-52\"/>\n",
       "<text text-anchor=\"middle\" x=\"247.5\" y=\"-41\" font-family=\"Monospace\" font-size=\"10.00\">0/0.33</text>\n",
       "</g>\n",
       "<!-- 3&#45;&gt;4 -->\n",
       "<g id=\"edge4\" class=\"edge\">\n",
       "<title>3&#45;&gt;4</title>\n",
       "<path fill=\"none\" stroke=\"black\" d=\"M183.39,-43.5C195.18,-43.5 209.76,-43.5 221.94,-43.5\"/>\n",
       "<polygon fill=\"black\" stroke=\"black\" points=\"221.98,-44.55 224.98,-43.5 221.98,-42.45 221.98,-44.55\"/>\n",
       "<text text-anchor=\"middle\" x=\"204\" y=\"-46.3\" font-family=\"Monospace\" font-size=\"9.00\">#</text>\n",
       "</g>\n",
       "<!-- 5 -->\n",
       "<g id=\"node6\" class=\"node\">\n",
       "<title>5</title>\n",
       "<polygon fill=\"none\" stroke=\"black\" points=\"270,-17 225,-17 225,0 270,0 270,-17\"/>\n",
       "<text text-anchor=\"middle\" x=\"247.5\" y=\"-6\" font-family=\"Monospace\" font-size=\"10.00\">0/0.33</text>\n",
       "</g>\n",
       "<!-- 3&#45;&gt;5 -->\n",
       "<g id=\"edge5\" class=\"edge\">\n",
       "<title>3&#45;&gt;5</title>\n",
       "<path fill=\"none\" stroke=\"black\" d=\"M182.51,-34.85C194.76,-29.8 210.24,-23.43 222.91,-18.21\"/>\n",
       "<polygon fill=\"black\" stroke=\"black\" points=\"223.36,-19.17 225.73,-17.05 222.56,-17.22 223.36,-19.17\"/>\n",
       "<text text-anchor=\"middle\" x=\"204\" y=\"-29.3\" font-family=\"Monospace\" font-size=\"9.00\">a</text>\n",
       "</g>\n",
       "<!-- 8 -->\n",
       "<g id=\"node9\" class=\"node\">\n",
       "<title>8</title>\n",
       "<polygon fill=\"none\" stroke=\"black\" points=\"357,-52 312,-52 312,-35 357,-35 357,-52\"/>\n",
       "<text text-anchor=\"middle\" x=\"334.5\" y=\"-41\" font-family=\"Monospace\" font-size=\"10.00\">0/0.33</text>\n",
       "</g>\n",
       "<!-- 4&#45;&gt;8 -->\n",
       "<g id=\"edge8\" class=\"edge\">\n",
       "<title>4&#45;&gt;8</title>\n",
       "<path fill=\"none\" stroke=\"black\" d=\"M270.39,-43.5C282.18,-43.5 296.76,-43.5 308.94,-43.5\"/>\n",
       "<polygon fill=\"black\" stroke=\"black\" points=\"308.98,-44.55 311.98,-43.5 308.98,-42.45 308.98,-44.55\"/>\n",
       "<text text-anchor=\"middle\" x=\"291\" y=\"-46.3\" font-family=\"Monospace\" font-size=\"9.00\">▪</text>\n",
       "</g>\n",
       "<!-- 6 -->\n",
       "<g id=\"node7\" class=\"node\">\n",
       "<title>6</title>\n",
       "<polygon fill=\"none\" stroke=\"black\" points=\"357,-17 312,-17 312,0 357,0 357,-17\"/>\n",
       "<text text-anchor=\"middle\" x=\"334.5\" y=\"-6\" font-family=\"Monospace\" font-size=\"10.00\">0/0.33</text>\n",
       "</g>\n",
       "<!-- 5&#45;&gt;6 -->\n",
       "<g id=\"edge6\" class=\"edge\">\n",
       "<title>5&#45;&gt;6</title>\n",
       "<path fill=\"none\" stroke=\"black\" d=\"M270.39,-8.5C282.18,-8.5 296.76,-8.5 308.94,-8.5\"/>\n",
       "<polygon fill=\"black\" stroke=\"black\" points=\"308.98,-9.55 311.98,-8.5 308.98,-7.45 308.98,-9.55\"/>\n",
       "<text text-anchor=\"middle\" x=\"291\" y=\"-11.3\" font-family=\"Monospace\" font-size=\"9.00\">#</text>\n",
       "</g>\n",
       "<!-- 7 -->\n",
       "<g id=\"node8\" class=\"node\">\n",
       "<title>7</title>\n",
       "<polygon fill=\"none\" stroke=\"black\" points=\"444,-17 399,-17 399,0 444,0 444,-17\"/>\n",
       "<text text-anchor=\"middle\" x=\"421.5\" y=\"-6\" font-family=\"Monospace\" font-size=\"10.00\">0/0.33</text>\n",
       "</g>\n",
       "<!-- 6&#45;&gt;7 -->\n",
       "<g id=\"edge7\" class=\"edge\">\n",
       "<title>6&#45;&gt;7</title>\n",
       "<path fill=\"none\" stroke=\"black\" d=\"M357.39,-8.5C369.18,-8.5 383.76,-8.5 395.94,-8.5\"/>\n",
       "<polygon fill=\"black\" stroke=\"black\" points=\"395.98,-9.55 398.98,-8.5 395.98,-7.45 395.98,-9.55\"/>\n",
       "<text text-anchor=\"middle\" x=\"378\" y=\"-11.3\" font-family=\"Monospace\" font-size=\"9.00\">▪</text>\n",
       "</g>\n",
       "</g>\n",
       "</svg>\n",
       "</td> </tr></table>"
      ],
      "text/plain": [
       "<IPython.core.display.HTML object>"
      ]
     },
     "metadata": {},
     "output_type": "display_data"
    }
   ],
   "source": [
    "C, tracer_char = generation_tree(c_lm)\n",
    "display_table([[C, tracer_char.root.graphviz()]])"
   ]
  },
  {
   "cell_type": "code",
   "execution_count": 13,
   "id": "a2a3feb0-a61c-4b37-983b-2027c63aad0a",
   "metadata": {},
   "outputs": [
    {
     "data": {
      "text/html": [
       "<table><tr><td><div style=\"font-family: Monospace;\"><table><tr style=\"font-weight: bold;\"><td>key</td><td>value</td></tr><tr><td><pre>a#</pre></td><td><pre>0.14438502673796794</pre></td> </tr><tr><td><pre>aa#</pre></td><td><pre>0.32085561497326204</pre></td> </tr><tr><td><pre>aaa#</pre></td><td><pre>0.53475935828877</pre></td> </tr></table></div></td><td><?xml version=\"1.0\" encoding=\"UTF-8\" standalone=\"no\"?>\n",
       "<!DOCTYPE svg PUBLIC \"-//W3C//DTD SVG 1.1//EN\"\n",
       " \"http://www.w3.org/Graphics/SVG/1.1/DTD/svg11.dtd\">\n",
       "<!-- Generated by graphviz version 2.43.0 (0)\n",
       " -->\n",
       "<!-- Title: %3 Pages: 1 -->\n",
       "<svg width=\"503pt\" height=\"237pt\"\n",
       " viewBox=\"0.00 0.00 503.00 236.50\" xmlns=\"http://www.w3.org/2000/svg\" xmlns:xlink=\"http://www.w3.org/1999/xlink\">\n",
       "<g id=\"graph0\" class=\"graph\" transform=\"scale(1 1) rotate(0) translate(4 232.5)\">\n",
       "<title>%3</title>\n",
       "<polygon fill=\"white\" stroke=\"transparent\" points=\"-4,4 -4,-232.5 499,-232.5 499,4 -4,4\"/>\n",
       "<!-- 0 -->\n",
       "<g id=\"node1\" class=\"node\">\n",
       "<title>0</title>\n",
       "<polygon fill=\"none\" stroke=\"black\" points=\"27,-157 0,-157 0,-140 27,-140 27,-157\"/>\n",
       "<text text-anchor=\"middle\" x=\"13.5\" y=\"-146\" font-family=\"Monospace\" font-size=\"10.00\">0/1</text>\n",
       "</g>\n",
       "<!-- 1 -->\n",
       "<g id=\"node2\" class=\"node\">\n",
       "<title>1</title>\n",
       "<polygon fill=\"none\" stroke=\"black\" points=\"124,-192 79,-192 79,-175 124,-175 124,-192\"/>\n",
       "<text text-anchor=\"middle\" x=\"101.5\" y=\"-181\" font-family=\"Monospace\" font-size=\"10.00\">0/0.35</text>\n",
       "</g>\n",
       "<!-- 0&#45;&gt;1 -->\n",
       "<g id=\"edge1\" class=\"edge\">\n",
       "<title>0&#45;&gt;1</title>\n",
       "<path fill=\"none\" stroke=\"black\" d=\"M27.19,-153.66C40.07,-158.91 60.33,-167.15 76.29,-173.65\"/>\n",
       "<polygon fill=\"black\" stroke=\"black\" points=\"76.24,-174.76 79.42,-174.92 77.03,-172.82 76.24,-174.76\"/>\n",
       "<text text-anchor=\"middle\" x=\"53\" y=\"-169.3\" font-family=\"Monospace\" font-size=\"9.00\">aa</text>\n",
       "</g>\n",
       "<!-- 2 -->\n",
       "<g id=\"node3\" class=\"node\">\n",
       "<title>2</title>\n",
       "<polygon fill=\"none\" stroke=\"black\" points=\"124,-157 79,-157 79,-140 124,-140 124,-157\"/>\n",
       "<text text-anchor=\"middle\" x=\"101.5\" y=\"-146\" font-family=\"Monospace\" font-size=\"10.00\">0/0.12</text>\n",
       "</g>\n",
       "<!-- 0&#45;&gt;2 -->\n",
       "<g id=\"edge2\" class=\"edge\">\n",
       "<title>0&#45;&gt;2</title>\n",
       "<path fill=\"none\" stroke=\"black\" d=\"M27.19,-148.5C39.89,-148.5 59.78,-148.5 75.63,-148.5\"/>\n",
       "<polygon fill=\"black\" stroke=\"black\" points=\"75.75,-149.55 78.75,-148.5 75.75,-147.45 75.75,-149.55\"/>\n",
       "<text text-anchor=\"middle\" x=\"53\" y=\"-151.3\" font-family=\"Monospace\" font-size=\"9.00\">aaa</text>\n",
       "</g>\n",
       "<!-- 3 -->\n",
       "<g id=\"node4\" class=\"node\">\n",
       "<title>3</title>\n",
       "<polygon fill=\"none\" stroke=\"black\" points=\"124,-106 79,-106 79,-89 124,-89 124,-106\"/>\n",
       "<text text-anchor=\"middle\" x=\"101.5\" y=\"-95\" font-family=\"Monospace\" font-size=\"10.00\">0/0.53</text>\n",
       "</g>\n",
       "<!-- 0&#45;&gt;3 -->\n",
       "<g id=\"edge3\" class=\"edge\">\n",
       "<title>0&#45;&gt;3</title>\n",
       "<path fill=\"none\" stroke=\"black\" d=\"M27.19,-140.97C42.03,-132.17 66.67,-117.56 83.24,-107.73\"/>\n",
       "<polygon fill=\"black\" stroke=\"black\" points=\"83.99,-108.51 86.03,-106.08 82.92,-106.71 83.99,-108.51\"/>\n",
       "<text text-anchor=\"middle\" x=\"53\" y=\"-131.3\" font-family=\"Monospace\" font-size=\"9.00\">a</text>\n",
       "</g>\n",
       "<!-- 17 -->\n",
       "<g id=\"node18\" class=\"node\">\n",
       "<title>17</title>\n",
       "<polygon fill=\"none\" stroke=\"black\" points=\"219,-227 174,-227 174,-210 219,-210 219,-227\"/>\n",
       "<text text-anchor=\"middle\" x=\"196.5\" y=\"-216\" font-family=\"Monospace\" font-size=\"10.00\">0/0.18</text>\n",
       "</g>\n",
       "<!-- 1&#45;&gt;17 -->\n",
       "<g id=\"edge17\" class=\"edge\">\n",
       "<title>1&#45;&gt;17</title>\n",
       "<path fill=\"none\" stroke=\"black\" d=\"M124.07,-191.62C138.05,-196.88 156.31,-203.75 170.87,-209.23\"/>\n",
       "<polygon fill=\"black\" stroke=\"black\" points=\"170.55,-210.23 173.72,-210.31 171.29,-208.27 170.55,-210.23\"/>\n",
       "<text text-anchor=\"middle\" x=\"147.5\" y=\"-204.3\" font-family=\"Monospace\" font-size=\"9.00\">#</text>\n",
       "</g>\n",
       "<!-- 18 -->\n",
       "<g id=\"node19\" class=\"node\">\n",
       "<title>18</title>\n",
       "<polygon fill=\"none\" stroke=\"black\" points=\"219,-192 174,-192 174,-175 219,-175 219,-192\"/>\n",
       "<text text-anchor=\"middle\" x=\"196.5\" y=\"-181\" font-family=\"Monospace\" font-size=\"10.00\">0/0.18</text>\n",
       "</g>\n",
       "<!-- 1&#45;&gt;18 -->\n",
       "<g id=\"edge18\" class=\"edge\">\n",
       "<title>1&#45;&gt;18</title>\n",
       "<path fill=\"none\" stroke=\"black\" d=\"M124.07,-183.5C137.94,-183.5 156.01,-183.5 170.5,-183.5\"/>\n",
       "<polygon fill=\"black\" stroke=\"black\" points=\"170.73,-184.55 173.72,-183.5 170.72,-182.45 170.73,-184.55\"/>\n",
       "<text text-anchor=\"middle\" x=\"147.5\" y=\"-186.3\" font-family=\"Monospace\" font-size=\"9.00\">a</text>\n",
       "</g>\n",
       "<!-- 15 -->\n",
       "<g id=\"node16\" class=\"node\">\n",
       "<title>15</title>\n",
       "<polygon fill=\"none\" stroke=\"black\" points=\"219,-157 174,-157 174,-140 219,-140 219,-157\"/>\n",
       "<text text-anchor=\"middle\" x=\"196.5\" y=\"-146\" font-family=\"Monospace\" font-size=\"10.00\">0/0.12</text>\n",
       "</g>\n",
       "<!-- 2&#45;&gt;15 -->\n",
       "<g id=\"edge15\" class=\"edge\">\n",
       "<title>2&#45;&gt;15</title>\n",
       "<path fill=\"none\" stroke=\"black\" d=\"M124.07,-148.5C137.94,-148.5 156.01,-148.5 170.5,-148.5\"/>\n",
       "<polygon fill=\"black\" stroke=\"black\" points=\"170.73,-149.55 173.72,-148.5 170.72,-147.45 170.73,-149.55\"/>\n",
       "<text text-anchor=\"middle\" x=\"147.5\" y=\"-151.3\" font-family=\"Monospace\" font-size=\"9.00\">#</text>\n",
       "</g>\n",
       "<!-- 4 -->\n",
       "<g id=\"node5\" class=\"node\">\n",
       "<title>4</title>\n",
       "<polygon fill=\"none\" stroke=\"black\" points=\"219,-122 174,-122 174,-105 219,-105 219,-122\"/>\n",
       "<text text-anchor=\"middle\" x=\"196.5\" y=\"-111\" font-family=\"Monospace\" font-size=\"10.00\">0/0.14</text>\n",
       "</g>\n",
       "<!-- 3&#45;&gt;4 -->\n",
       "<g id=\"edge4\" class=\"edge\">\n",
       "<title>3&#45;&gt;4</title>\n",
       "<path fill=\"none\" stroke=\"black\" d=\"M124.07,-101.21C137.94,-103.6 156.01,-106.71 170.5,-109.2\"/>\n",
       "<polygon fill=\"black\" stroke=\"black\" points=\"170.59,-110.28 173.72,-109.75 170.95,-108.21 170.59,-110.28\"/>\n",
       "<text text-anchor=\"middle\" x=\"147.5\" y=\"-108.3\" font-family=\"Monospace\" font-size=\"9.00\">#</text>\n",
       "</g>\n",
       "<!-- 5 -->\n",
       "<g id=\"node6\" class=\"node\">\n",
       "<title>5</title>\n",
       "<polygon fill=\"none\" stroke=\"black\" points=\"222,-87 171,-87 171,-70 222,-70 222,-87\"/>\n",
       "<text text-anchor=\"middle\" x=\"196.5\" y=\"-76\" font-family=\"Monospace\" font-size=\"10.00\">0/0.096</text>\n",
       "</g>\n",
       "<!-- 3&#45;&gt;5 -->\n",
       "<g id=\"edge5\" class=\"edge\">\n",
       "<title>3&#45;&gt;5</title>\n",
       "<path fill=\"none\" stroke=\"black\" d=\"M124.07,-93.09C137.04,-90.44 153.68,-87.04 167.64,-84.19\"/>\n",
       "<polygon fill=\"black\" stroke=\"black\" points=\"168.03,-85.18 170.76,-83.55 167.61,-83.13 168.03,-85.18\"/>\n",
       "<text text-anchor=\"middle\" x=\"147.5\" y=\"-91.3\" font-family=\"Monospace\" font-size=\"9.00\">aa</text>\n",
       "</g>\n",
       "<!-- 6 -->\n",
       "<g id=\"node7\" class=\"node\">\n",
       "<title>6</title>\n",
       "<polygon fill=\"none\" stroke=\"black\" points=\"219,-52 174,-52 174,-35 219,-35 219,-52\"/>\n",
       "<text text-anchor=\"middle\" x=\"196.5\" y=\"-41\" font-family=\"Monospace\" font-size=\"10.00\">0/0.29</text>\n",
       "</g>\n",
       "<!-- 3&#45;&gt;6 -->\n",
       "<g id=\"edge6\" class=\"edge\">\n",
       "<title>3&#45;&gt;6</title>\n",
       "<path fill=\"none\" stroke=\"black\" d=\"M115.53,-88.94C123.16,-84.01 133.04,-77.76 142,-72.5 153.16,-65.95 165.89,-59.03 176.13,-53.59\"/>\n",
       "<polygon fill=\"black\" stroke=\"black\" points=\"176.79,-54.43 178.95,-52.1 175.81,-52.58 176.79,-54.43\"/>\n",
       "<text text-anchor=\"middle\" x=\"147.5\" y=\"-75.3\" font-family=\"Monospace\" font-size=\"9.00\">a</text>\n",
       "</g>\n",
       "<!-- 14 -->\n",
       "<g id=\"node15\" class=\"node\">\n",
       "<title>14</title>\n",
       "<polygon fill=\"none\" stroke=\"black\" points=\"312,-122 267,-122 267,-105 312,-105 312,-122\"/>\n",
       "<text text-anchor=\"middle\" x=\"289.5\" y=\"-111\" font-family=\"Monospace\" font-size=\"10.00\">0/0.14</text>\n",
       "</g>\n",
       "<!-- 4&#45;&gt;14 -->\n",
       "<g id=\"edge14\" class=\"edge\">\n",
       "<title>4&#45;&gt;14</title>\n",
       "<path fill=\"none\" stroke=\"black\" d=\"M219.07,-113.5C232.45,-113.5 249.71,-113.5 263.67,-113.5\"/>\n",
       "<polygon fill=\"black\" stroke=\"black\" points=\"263.77,-114.55 266.77,-113.5 263.77,-112.45 263.77,-114.55\"/>\n",
       "<text text-anchor=\"middle\" x=\"243\" y=\"-116.3\" font-family=\"Monospace\" font-size=\"9.00\">▪</text>\n",
       "</g>\n",
       "<!-- 12 -->\n",
       "<g id=\"node13\" class=\"node\">\n",
       "<title>12</title>\n",
       "<polygon fill=\"none\" stroke=\"black\" points=\"315,-87 264,-87 264,-70 315,-70 315,-87\"/>\n",
       "<text text-anchor=\"middle\" x=\"289.5\" y=\"-76\" font-family=\"Monospace\" font-size=\"10.00\">0/0.096</text>\n",
       "</g>\n",
       "<!-- 5&#45;&gt;12 -->\n",
       "<g id=\"edge12\" class=\"edge\">\n",
       "<title>5&#45;&gt;12</title>\n",
       "<path fill=\"none\" stroke=\"black\" d=\"M222.37,-78.5C234.3,-78.5 248.64,-78.5 260.91,-78.5\"/>\n",
       "<polygon fill=\"black\" stroke=\"black\" points=\"260.98,-79.55 263.98,-78.5 260.98,-77.45 260.98,-79.55\"/>\n",
       "<text text-anchor=\"middle\" x=\"243\" y=\"-81.3\" font-family=\"Monospace\" font-size=\"9.00\">#</text>\n",
       "</g>\n",
       "<!-- 7 -->\n",
       "<g id=\"node8\" class=\"node\">\n",
       "<title>7</title>\n",
       "<polygon fill=\"none\" stroke=\"black\" points=\"312,-52 267,-52 267,-35 312,-35 312,-52\"/>\n",
       "<text text-anchor=\"middle\" x=\"289.5\" y=\"-41\" font-family=\"Monospace\" font-size=\"10.00\">0/0.14</text>\n",
       "</g>\n",
       "<!-- 6&#45;&gt;7 -->\n",
       "<g id=\"edge7\" class=\"edge\">\n",
       "<title>6&#45;&gt;7</title>\n",
       "<path fill=\"none\" stroke=\"black\" d=\"M219.07,-43.5C232.45,-43.5 249.71,-43.5 263.67,-43.5\"/>\n",
       "<polygon fill=\"black\" stroke=\"black\" points=\"263.77,-44.55 266.77,-43.5 263.77,-42.45 263.77,-44.55\"/>\n",
       "<text text-anchor=\"middle\" x=\"243\" y=\"-46.3\" font-family=\"Monospace\" font-size=\"9.00\">#</text>\n",
       "</g>\n",
       "<!-- 8 -->\n",
       "<g id=\"node9\" class=\"node\">\n",
       "<title>8</title>\n",
       "<polygon fill=\"none\" stroke=\"black\" points=\"312,-17 267,-17 267,0 312,0 312,-17\"/>\n",
       "<text text-anchor=\"middle\" x=\"289.5\" y=\"-6\" font-family=\"Monospace\" font-size=\"10.00\">0/0.14</text>\n",
       "</g>\n",
       "<!-- 6&#45;&gt;8 -->\n",
       "<g id=\"edge8\" class=\"edge\">\n",
       "<title>6&#45;&gt;8</title>\n",
       "<path fill=\"none\" stroke=\"black\" d=\"M219.07,-35.21C232.45,-30.06 249.71,-23.42 263.67,-18.05\"/>\n",
       "<polygon fill=\"black\" stroke=\"black\" points=\"264.35,-18.91 266.77,-16.86 263.6,-16.95 264.35,-18.91\"/>\n",
       "<text text-anchor=\"middle\" x=\"243\" y=\"-29.3\" font-family=\"Monospace\" font-size=\"9.00\">a</text>\n",
       "</g>\n",
       "<!-- 11 -->\n",
       "<g id=\"node12\" class=\"node\">\n",
       "<title>11</title>\n",
       "<polygon fill=\"none\" stroke=\"black\" points=\"405,-52 360,-52 360,-35 405,-35 405,-52\"/>\n",
       "<text text-anchor=\"middle\" x=\"382.5\" y=\"-41\" font-family=\"Monospace\" font-size=\"10.00\">0/0.14</text>\n",
       "</g>\n",
       "<!-- 7&#45;&gt;11 -->\n",
       "<g id=\"edge11\" class=\"edge\">\n",
       "<title>7&#45;&gt;11</title>\n",
       "<path fill=\"none\" stroke=\"black\" d=\"M312.07,-43.5C325.45,-43.5 342.71,-43.5 356.67,-43.5\"/>\n",
       "<polygon fill=\"black\" stroke=\"black\" points=\"356.77,-44.55 359.77,-43.5 356.77,-42.45 356.77,-44.55\"/>\n",
       "<text text-anchor=\"middle\" x=\"336\" y=\"-46.3\" font-family=\"Monospace\" font-size=\"9.00\">▪</text>\n",
       "</g>\n",
       "<!-- 9 -->\n",
       "<g id=\"node10\" class=\"node\">\n",
       "<title>9</title>\n",
       "<polygon fill=\"none\" stroke=\"black\" points=\"405,-17 360,-17 360,0 405,0 405,-17\"/>\n",
       "<text text-anchor=\"middle\" x=\"382.5\" y=\"-6\" font-family=\"Monospace\" font-size=\"10.00\">0/0.14</text>\n",
       "</g>\n",
       "<!-- 8&#45;&gt;9 -->\n",
       "<g id=\"edge9\" class=\"edge\">\n",
       "<title>8&#45;&gt;9</title>\n",
       "<path fill=\"none\" stroke=\"black\" d=\"M312.07,-8.5C325.45,-8.5 342.71,-8.5 356.67,-8.5\"/>\n",
       "<polygon fill=\"black\" stroke=\"black\" points=\"356.77,-9.55 359.77,-8.5 356.77,-7.45 356.77,-9.55\"/>\n",
       "<text text-anchor=\"middle\" x=\"336\" y=\"-11.3\" font-family=\"Monospace\" font-size=\"9.00\">#</text>\n",
       "</g>\n",
       "<!-- 10 -->\n",
       "<g id=\"node11\" class=\"node\">\n",
       "<title>10</title>\n",
       "<polygon fill=\"none\" stroke=\"black\" points=\"495,-17 450,-17 450,0 495,0 495,-17\"/>\n",
       "<text text-anchor=\"middle\" x=\"472.5\" y=\"-6\" font-family=\"Monospace\" font-size=\"10.00\">0/0.14</text>\n",
       "</g>\n",
       "<!-- 9&#45;&gt;10 -->\n",
       "<g id=\"edge10\" class=\"edge\">\n",
       "<title>9&#45;&gt;10</title>\n",
       "<path fill=\"none\" stroke=\"black\" d=\"M405.25,-8.5C417.83,-8.5 433.69,-8.5 446.74,-8.5\"/>\n",
       "<polygon fill=\"black\" stroke=\"black\" points=\"447,-9.55 450,-8.5 447,-7.45 447,-9.55\"/>\n",
       "<text text-anchor=\"middle\" x=\"429\" y=\"-11.3\" font-family=\"Monospace\" font-size=\"9.00\">▪</text>\n",
       "</g>\n",
       "<!-- 13 -->\n",
       "<g id=\"node14\" class=\"node\">\n",
       "<title>13</title>\n",
       "<polygon fill=\"none\" stroke=\"black\" points=\"408,-87 357,-87 357,-70 408,-70 408,-87\"/>\n",
       "<text text-anchor=\"middle\" x=\"382.5\" y=\"-76\" font-family=\"Monospace\" font-size=\"10.00\">0/0.096</text>\n",
       "</g>\n",
       "<!-- 12&#45;&gt;13 -->\n",
       "<g id=\"edge13\" class=\"edge\">\n",
       "<title>12&#45;&gt;13</title>\n",
       "<path fill=\"none\" stroke=\"black\" d=\"M315.37,-78.5C327.3,-78.5 341.64,-78.5 353.91,-78.5\"/>\n",
       "<polygon fill=\"black\" stroke=\"black\" points=\"353.98,-79.55 356.98,-78.5 353.98,-77.45 353.98,-79.55\"/>\n",
       "<text text-anchor=\"middle\" x=\"336\" y=\"-81.3\" font-family=\"Monospace\" font-size=\"9.00\">▪</text>\n",
       "</g>\n",
       "<!-- 16 -->\n",
       "<g id=\"node17\" class=\"node\">\n",
       "<title>16</title>\n",
       "<polygon fill=\"none\" stroke=\"black\" points=\"312,-157 267,-157 267,-140 312,-140 312,-157\"/>\n",
       "<text text-anchor=\"middle\" x=\"289.5\" y=\"-146\" font-family=\"Monospace\" font-size=\"10.00\">0/0.12</text>\n",
       "</g>\n",
       "<!-- 15&#45;&gt;16 -->\n",
       "<g id=\"edge16\" class=\"edge\">\n",
       "<title>15&#45;&gt;16</title>\n",
       "<path fill=\"none\" stroke=\"black\" d=\"M219.07,-148.5C232.45,-148.5 249.71,-148.5 263.67,-148.5\"/>\n",
       "<polygon fill=\"black\" stroke=\"black\" points=\"263.77,-149.55 266.77,-148.5 263.77,-147.45 263.77,-149.55\"/>\n",
       "<text text-anchor=\"middle\" x=\"243\" y=\"-151.3\" font-family=\"Monospace\" font-size=\"9.00\">▪</text>\n",
       "</g>\n",
       "<!-- 21 -->\n",
       "<g id=\"node22\" class=\"node\">\n",
       "<title>21</title>\n",
       "<polygon fill=\"none\" stroke=\"black\" points=\"312,-227 267,-227 267,-210 312,-210 312,-227\"/>\n",
       "<text text-anchor=\"middle\" x=\"289.5\" y=\"-216\" font-family=\"Monospace\" font-size=\"10.00\">0/0.18</text>\n",
       "</g>\n",
       "<!-- 17&#45;&gt;21 -->\n",
       "<g id=\"edge21\" class=\"edge\">\n",
       "<title>17&#45;&gt;21</title>\n",
       "<path fill=\"none\" stroke=\"black\" d=\"M219.07,-218.5C232.45,-218.5 249.71,-218.5 263.67,-218.5\"/>\n",
       "<polygon fill=\"black\" stroke=\"black\" points=\"263.77,-219.55 266.77,-218.5 263.77,-217.45 263.77,-219.55\"/>\n",
       "<text text-anchor=\"middle\" x=\"243\" y=\"-221.3\" font-family=\"Monospace\" font-size=\"9.00\">▪</text>\n",
       "</g>\n",
       "<!-- 19 -->\n",
       "<g id=\"node20\" class=\"node\">\n",
       "<title>19</title>\n",
       "<polygon fill=\"none\" stroke=\"black\" points=\"312,-192 267,-192 267,-175 312,-175 312,-192\"/>\n",
       "<text text-anchor=\"middle\" x=\"289.5\" y=\"-181\" font-family=\"Monospace\" font-size=\"10.00\">0/0.18</text>\n",
       "</g>\n",
       "<!-- 18&#45;&gt;19 -->\n",
       "<g id=\"edge19\" class=\"edge\">\n",
       "<title>18&#45;&gt;19</title>\n",
       "<path fill=\"none\" stroke=\"black\" d=\"M219.07,-183.5C232.45,-183.5 249.71,-183.5 263.67,-183.5\"/>\n",
       "<polygon fill=\"black\" stroke=\"black\" points=\"263.77,-184.55 266.77,-183.5 263.77,-182.45 263.77,-184.55\"/>\n",
       "<text text-anchor=\"middle\" x=\"243\" y=\"-186.3\" font-family=\"Monospace\" font-size=\"9.00\">#</text>\n",
       "</g>\n",
       "<!-- 20 -->\n",
       "<g id=\"node21\" class=\"node\">\n",
       "<title>20</title>\n",
       "<polygon fill=\"none\" stroke=\"black\" points=\"405,-192 360,-192 360,-175 405,-175 405,-192\"/>\n",
       "<text text-anchor=\"middle\" x=\"382.5\" y=\"-181\" font-family=\"Monospace\" font-size=\"10.00\">0/0.18</text>\n",
       "</g>\n",
       "<!-- 19&#45;&gt;20 -->\n",
       "<g id=\"edge20\" class=\"edge\">\n",
       "<title>19&#45;&gt;20</title>\n",
       "<path fill=\"none\" stroke=\"black\" d=\"M312.07,-183.5C325.45,-183.5 342.71,-183.5 356.67,-183.5\"/>\n",
       "<polygon fill=\"black\" stroke=\"black\" points=\"356.77,-184.55 359.77,-183.5 356.77,-182.45 356.77,-184.55\"/>\n",
       "<text text-anchor=\"middle\" x=\"336\" y=\"-186.3\" font-family=\"Monospace\" font-size=\"9.00\">▪</text>\n",
       "</g>\n",
       "</g>\n",
       "</svg>\n",
       "</td> </tr></table>"
      ],
      "text/plain": [
       "<IPython.core.display.HTML object>"
      ]
     },
     "metadata": {},
     "output_type": "display_data"
    }
   ],
   "source": [
    "A, tracer_aligned = generation_tree(a_lm)\n",
    "display_table([[A, tracer_aligned]])"
   ]
  },
  {
   "cell_type": "code",
   "execution_count": 52,
   "id": "52ac6fe7-45f6-436f-b66a-d7eee974e0ac",
   "metadata": {},
   "outputs": [
    {
     "data": {
      "text/html": [
       "<table><tr><td><div style=\"font-family: Monospace;\"><table><tr style=\"font-weight: bold;\"><td>key</td><td>value</td></tr><tr><td><pre>(&#x27;a&#x27;, &#x27;#&#x27;, &#x27;▪&#x27;)</pre></td><td><pre>0.14438502673796794</pre></td> </tr><tr><td><pre>(&#x27;a&#x27;, &#x27;a&#x27;, &#x27;#&#x27;, &#x27;▪&#x27;)</pre></td><td><pre>0.14438502673796794</pre></td> </tr><tr><td><pre>(&#x27;a&#x27;, &#x27;a&#x27;, &#x27;a&#x27;, &#x27;#&#x27;, &#x27;▪&#x27;)</pre></td><td><pre>0.14438502673796794</pre></td> </tr><tr><td><pre>(&#x27;a&#x27;, &#x27;aa&#x27;, &#x27;#&#x27;, &#x27;▪&#x27;)</pre></td><td><pre>0.09625668449197862</pre></td> </tr><tr><td><pre>(&#x27;aa&#x27;, &#x27;#&#x27;, &#x27;▪&#x27;)</pre></td><td><pre>0.1764705882352941</pre></td> </tr><tr><td><pre>(&#x27;aa&#x27;, &#x27;a&#x27;, &#x27;#&#x27;, &#x27;▪&#x27;)</pre></td><td><pre>0.1764705882352941</pre></td> </tr><tr><td><pre>(&#x27;aaa&#x27;, &#x27;#&#x27;, &#x27;▪&#x27;)</pre></td><td><pre>0.11764705882352941</pre></td> </tr></table></div></td><td><?xml version=\"1.0\" encoding=\"UTF-8\" standalone=\"no\"?>\n",
       "<!DOCTYPE svg PUBLIC \"-//W3C//DTD SVG 1.1//EN\"\n",
       " \"http://www.w3.org/Graphics/SVG/1.1/DTD/svg11.dtd\">\n",
       "<!-- Generated by graphviz version 2.43.0 (0)\n",
       " -->\n",
       "<!-- Title: %3 Pages: 1 -->\n",
       "<svg width=\"503pt\" height=\"237pt\"\n",
       " viewBox=\"0.00 0.00 503.00 236.50\" xmlns=\"http://www.w3.org/2000/svg\" xmlns:xlink=\"http://www.w3.org/1999/xlink\">\n",
       "<g id=\"graph0\" class=\"graph\" transform=\"scale(1 1) rotate(0) translate(4 232.5)\">\n",
       "<title>%3</title>\n",
       "<polygon fill=\"white\" stroke=\"transparent\" points=\"-4,4 -4,-232.5 499,-232.5 499,4 -4,4\"/>\n",
       "<!-- 0 -->\n",
       "<g id=\"node1\" class=\"node\">\n",
       "<title>0</title>\n",
       "<polygon fill=\"none\" stroke=\"black\" points=\"27,-166 0,-166 0,-149 27,-149 27,-166\"/>\n",
       "<text text-anchor=\"middle\" x=\"13.5\" y=\"-155\" font-family=\"Monospace\" font-size=\"10.00\">0/1</text>\n",
       "</g>\n",
       "<!-- 1 -->\n",
       "<g id=\"node2\" class=\"node\">\n",
       "<title>1</title>\n",
       "<polygon fill=\"none\" stroke=\"black\" points=\"124,-212 79,-212 79,-195 124,-195 124,-212\"/>\n",
       "<text text-anchor=\"middle\" x=\"101.5\" y=\"-201\" font-family=\"Monospace\" font-size=\"10.00\">0/0.12</text>\n",
       "</g>\n",
       "<!-- 0&#45;&gt;1 -->\n",
       "<g id=\"edge1\" class=\"edge\">\n",
       "<title>0&#45;&gt;1</title>\n",
       "<path fill=\"none\" stroke=\"black\" d=\"M27.19,-164.29C41.59,-171.99 65.21,-184.63 81.74,-193.47\"/>\n",
       "<polygon fill=\"black\" stroke=\"black\" points=\"81.39,-194.47 84.54,-194.96 82.38,-192.62 81.39,-194.47\"/>\n",
       "<text text-anchor=\"middle\" x=\"53\" y=\"-184.3\" font-family=\"Monospace\" font-size=\"9.00\">aaa</text>\n",
       "</g>\n",
       "<!-- 2 -->\n",
       "<g id=\"node3\" class=\"node\">\n",
       "<title>2</title>\n",
       "<polygon fill=\"none\" stroke=\"black\" points=\"124,-166 79,-166 79,-149 124,-149 124,-166\"/>\n",
       "<text text-anchor=\"middle\" x=\"101.5\" y=\"-155\" font-family=\"Monospace\" font-size=\"10.00\">0/0.35</text>\n",
       "</g>\n",
       "<!-- 0&#45;&gt;2 -->\n",
       "<g id=\"edge2\" class=\"edge\">\n",
       "<title>0&#45;&gt;2</title>\n",
       "<path fill=\"none\" stroke=\"black\" d=\"M27.19,-157.5C39.89,-157.5 59.78,-157.5 75.63,-157.5\"/>\n",
       "<polygon fill=\"black\" stroke=\"black\" points=\"75.75,-158.55 78.75,-157.5 75.75,-156.45 75.75,-158.55\"/>\n",
       "<text text-anchor=\"middle\" x=\"53\" y=\"-160.3\" font-family=\"Monospace\" font-size=\"9.00\">aa</text>\n",
       "</g>\n",
       "<!-- 3 -->\n",
       "<g id=\"node4\" class=\"node\">\n",
       "<title>3</title>\n",
       "<polygon fill=\"none\" stroke=\"black\" points=\"124,-115 79,-115 79,-98 124,-98 124,-115\"/>\n",
       "<text text-anchor=\"middle\" x=\"101.5\" y=\"-104\" font-family=\"Monospace\" font-size=\"10.00\">0/0.53</text>\n",
       "</g>\n",
       "<!-- 0&#45;&gt;3 -->\n",
       "<g id=\"edge3\" class=\"edge\">\n",
       "<title>0&#45;&gt;3</title>\n",
       "<path fill=\"none\" stroke=\"black\" d=\"M27.19,-149.97C42.03,-141.17 66.67,-126.56 83.24,-116.73\"/>\n",
       "<polygon fill=\"black\" stroke=\"black\" points=\"83.99,-117.51 86.03,-115.08 82.92,-115.71 83.99,-117.51\"/>\n",
       "<text text-anchor=\"middle\" x=\"53\" y=\"-140.3\" font-family=\"Monospace\" font-size=\"9.00\">a</text>\n",
       "</g>\n",
       "<!-- 20 -->\n",
       "<g id=\"node21\" class=\"node\">\n",
       "<title>20</title>\n",
       "<polygon fill=\"none\" stroke=\"black\" points=\"219,-227 174,-227 174,-210 219,-210 219,-227\"/>\n",
       "<text text-anchor=\"middle\" x=\"196.5\" y=\"-216\" font-family=\"Monospace\" font-size=\"10.00\">0/0.12</text>\n",
       "</g>\n",
       "<!-- 1&#45;&gt;20 -->\n",
       "<g id=\"edge20\" class=\"edge\">\n",
       "<title>1&#45;&gt;20</title>\n",
       "<path fill=\"none\" stroke=\"black\" d=\"M124.07,-206.98C137.94,-209.22 156.01,-212.13 170.5,-214.47\"/>\n",
       "<polygon fill=\"black\" stroke=\"black\" points=\"170.6,-215.55 173.72,-214.99 170.93,-213.47 170.6,-215.55\"/>\n",
       "<text text-anchor=\"middle\" x=\"147.5\" y=\"-213.3\" font-family=\"Monospace\" font-size=\"9.00\">#</text>\n",
       "</g>\n",
       "<!-- 15 -->\n",
       "<g id=\"node16\" class=\"node\">\n",
       "<title>15</title>\n",
       "<polygon fill=\"none\" stroke=\"black\" points=\"219,-192 174,-192 174,-175 219,-175 219,-192\"/>\n",
       "<text text-anchor=\"middle\" x=\"196.5\" y=\"-181\" font-family=\"Monospace\" font-size=\"10.00\">0/0.18</text>\n",
       "</g>\n",
       "<!-- 2&#45;&gt;15 -->\n",
       "<g id=\"edge15\" class=\"edge\">\n",
       "<title>2&#45;&gt;15</title>\n",
       "<path fill=\"none\" stroke=\"black\" d=\"M124.07,-163.53C137.94,-167.41 156.01,-172.46 170.5,-176.51\"/>\n",
       "<polygon fill=\"black\" stroke=\"black\" points=\"170.55,-177.62 173.72,-177.41 171.12,-175.59 170.55,-177.62\"/>\n",
       "<text text-anchor=\"middle\" x=\"147.5\" y=\"-173.3\" font-family=\"Monospace\" font-size=\"9.00\">a</text>\n",
       "</g>\n",
       "<!-- 16 -->\n",
       "<g id=\"node17\" class=\"node\">\n",
       "<title>16</title>\n",
       "<polygon fill=\"none\" stroke=\"black\" points=\"219,-157 174,-157 174,-140 219,-140 219,-157\"/>\n",
       "<text text-anchor=\"middle\" x=\"196.5\" y=\"-146\" font-family=\"Monospace\" font-size=\"10.00\">0/0.18</text>\n",
       "</g>\n",
       "<!-- 2&#45;&gt;16 -->\n",
       "<g id=\"edge16\" class=\"edge\">\n",
       "<title>2&#45;&gt;16</title>\n",
       "<path fill=\"none\" stroke=\"black\" d=\"M124.15,-153.11C129.93,-152.09 136.18,-151.12 142,-150.5 151.3,-149.51 161.56,-148.99 170.58,-148.72\"/>\n",
       "<polygon fill=\"black\" stroke=\"black\" points=\"170.87,-149.76 173.85,-148.63 170.82,-147.66 170.87,-149.76\"/>\n",
       "<text text-anchor=\"middle\" x=\"147.5\" y=\"-153.3\" font-family=\"Monospace\" font-size=\"9.00\">#</text>\n",
       "</g>\n",
       "<!-- 4 -->\n",
       "<g id=\"node5\" class=\"node\">\n",
       "<title>4</title>\n",
       "<polygon fill=\"none\" stroke=\"black\" points=\"222,-122 171,-122 171,-105 222,-105 222,-122\"/>\n",
       "<text text-anchor=\"middle\" x=\"196.5\" y=\"-111\" font-family=\"Monospace\" font-size=\"10.00\">0/0.096</text>\n",
       "</g>\n",
       "<!-- 3&#45;&gt;4 -->\n",
       "<g id=\"edge4\" class=\"edge\">\n",
       "<title>3&#45;&gt;4</title>\n",
       "<path fill=\"none\" stroke=\"black\" d=\"M124.07,-108.12C137.04,-109.1 153.68,-110.35 167.64,-111.4\"/>\n",
       "<polygon fill=\"black\" stroke=\"black\" points=\"167.69,-112.46 170.76,-111.64 167.85,-110.37 167.69,-112.46\"/>\n",
       "<text text-anchor=\"middle\" x=\"147.5\" y=\"-112.3\" font-family=\"Monospace\" font-size=\"9.00\">aa</text>\n",
       "</g>\n",
       "<!-- 5 -->\n",
       "<g id=\"node6\" class=\"node\">\n",
       "<title>5</title>\n",
       "<polygon fill=\"none\" stroke=\"black\" points=\"219,-87 174,-87 174,-70 219,-70 219,-87\"/>\n",
       "<text text-anchor=\"middle\" x=\"196.5\" y=\"-76\" font-family=\"Monospace\" font-size=\"10.00\">0/0.29</text>\n",
       "</g>\n",
       "<!-- 3&#45;&gt;5 -->\n",
       "<g id=\"edge5\" class=\"edge\">\n",
       "<title>3&#45;&gt;5</title>\n",
       "<path fill=\"none\" stroke=\"black\" d=\"M124.07,-100.01C137.94,-95.83 156.01,-90.39 170.5,-86.03\"/>\n",
       "<polygon fill=\"black\" stroke=\"black\" points=\"171.16,-86.93 173.72,-85.06 170.55,-84.92 171.16,-86.93\"/>\n",
       "<text text-anchor=\"middle\" x=\"147.5\" y=\"-96.3\" font-family=\"Monospace\" font-size=\"9.00\">a</text>\n",
       "</g>\n",
       "<!-- 6 -->\n",
       "<g id=\"node7\" class=\"node\">\n",
       "<title>6</title>\n",
       "<polygon fill=\"none\" stroke=\"black\" points=\"219,-35 174,-35 174,-18 219,-18 219,-35\"/>\n",
       "<text text-anchor=\"middle\" x=\"196.5\" y=\"-24\" font-family=\"Monospace\" font-size=\"10.00\">0/0.14</text>\n",
       "</g>\n",
       "<!-- 3&#45;&gt;6 -->\n",
       "<g id=\"edge6\" class=\"edge\">\n",
       "<title>3&#45;&gt;6</title>\n",
       "<path fill=\"none\" stroke=\"black\" d=\"M112.45,-97.94C129.42,-83.34 163.94,-53.65 182.69,-37.52\"/>\n",
       "<polygon fill=\"black\" stroke=\"black\" points=\"183.75,-37.99 185.34,-35.24 182.38,-36.4 183.75,-37.99\"/>\n",
       "<text text-anchor=\"middle\" x=\"147.5\" y=\"-73.3\" font-family=\"Monospace\" font-size=\"9.00\">#</text>\n",
       "</g>\n",
       "<!-- 13 -->\n",
       "<g id=\"node14\" class=\"node\">\n",
       "<title>13</title>\n",
       "<polygon fill=\"none\" stroke=\"black\" points=\"315,-122 264,-122 264,-105 315,-105 315,-122\"/>\n",
       "<text text-anchor=\"middle\" x=\"289.5\" y=\"-111\" font-family=\"Monospace\" font-size=\"10.00\">0/0.096</text>\n",
       "</g>\n",
       "<!-- 4&#45;&gt;13 -->\n",
       "<g id=\"edge13\" class=\"edge\">\n",
       "<title>4&#45;&gt;13</title>\n",
       "<path fill=\"none\" stroke=\"black\" d=\"M222.37,-113.5C234.3,-113.5 248.64,-113.5 260.91,-113.5\"/>\n",
       "<polygon fill=\"black\" stroke=\"black\" points=\"260.98,-114.55 263.98,-113.5 260.98,-112.45 260.98,-114.55\"/>\n",
       "<text text-anchor=\"middle\" x=\"243\" y=\"-116.3\" font-family=\"Monospace\" font-size=\"9.00\">#</text>\n",
       "</g>\n",
       "<!-- 8 -->\n",
       "<g id=\"node9\" class=\"node\">\n",
       "<title>8</title>\n",
       "<polygon fill=\"none\" stroke=\"black\" points=\"312,-87 267,-87 267,-70 312,-70 312,-87\"/>\n",
       "<text text-anchor=\"middle\" x=\"289.5\" y=\"-76\" font-family=\"Monospace\" font-size=\"10.00\">0/0.14</text>\n",
       "</g>\n",
       "<!-- 5&#45;&gt;8 -->\n",
       "<g id=\"edge8\" class=\"edge\">\n",
       "<title>5&#45;&gt;8</title>\n",
       "<path fill=\"none\" stroke=\"black\" d=\"M219.07,-78.5C232.45,-78.5 249.71,-78.5 263.67,-78.5\"/>\n",
       "<polygon fill=\"black\" stroke=\"black\" points=\"263.77,-79.55 266.77,-78.5 263.77,-77.45 263.77,-79.55\"/>\n",
       "<text text-anchor=\"middle\" x=\"243\" y=\"-81.3\" font-family=\"Monospace\" font-size=\"9.00\">a</text>\n",
       "</g>\n",
       "<!-- 9 -->\n",
       "<g id=\"node10\" class=\"node\">\n",
       "<title>9</title>\n",
       "<polygon fill=\"none\" stroke=\"black\" points=\"312,-52 267,-52 267,-35 312,-35 312,-52\"/>\n",
       "<text text-anchor=\"middle\" x=\"289.5\" y=\"-41\" font-family=\"Monospace\" font-size=\"10.00\">0/0.14</text>\n",
       "</g>\n",
       "<!-- 5&#45;&gt;9 -->\n",
       "<g id=\"edge9\" class=\"edge\">\n",
       "<title>5&#45;&gt;9</title>\n",
       "<path fill=\"none\" stroke=\"black\" d=\"M219.07,-70.21C232.45,-65.06 249.71,-58.42 263.67,-53.05\"/>\n",
       "<polygon fill=\"black\" stroke=\"black\" points=\"264.35,-53.91 266.77,-51.86 263.6,-51.95 264.35,-53.91\"/>\n",
       "<text text-anchor=\"middle\" x=\"243\" y=\"-64.3\" font-family=\"Monospace\" font-size=\"9.00\">#</text>\n",
       "</g>\n",
       "<!-- 7 -->\n",
       "<g id=\"node8\" class=\"node\">\n",
       "<title>7</title>\n",
       "<polygon fill=\"none\" stroke=\"black\" points=\"312,-17 267,-17 267,0 312,0 312,-17\"/>\n",
       "<text text-anchor=\"middle\" x=\"289.5\" y=\"-6\" font-family=\"Monospace\" font-size=\"10.00\">0/0.14</text>\n",
       "</g>\n",
       "<!-- 6&#45;&gt;7 -->\n",
       "<g id=\"edge7\" class=\"edge\">\n",
       "<title>6&#45;&gt;7</title>\n",
       "<path fill=\"none\" stroke=\"black\" d=\"M219.29,-18.23C225.86,-16.03 233.15,-13.89 240,-12.5 247.53,-10.97 255.84,-10.02 263.42,-9.44\"/>\n",
       "<polygon fill=\"black\" stroke=\"black\" points=\"263.7,-10.47 266.62,-9.21 263.55,-8.38 263.7,-10.47\"/>\n",
       "<text text-anchor=\"middle\" x=\"243\" y=\"-15.3\" font-family=\"Monospace\" font-size=\"9.00\">▪</text>\n",
       "</g>\n",
       "<!-- 11 -->\n",
       "<g id=\"node12\" class=\"node\">\n",
       "<title>11</title>\n",
       "<polygon fill=\"none\" stroke=\"black\" points=\"405,-87 360,-87 360,-70 405,-70 405,-87\"/>\n",
       "<text text-anchor=\"middle\" x=\"382.5\" y=\"-76\" font-family=\"Monospace\" font-size=\"10.00\">0/0.14</text>\n",
       "</g>\n",
       "<!-- 8&#45;&gt;11 -->\n",
       "<g id=\"edge11\" class=\"edge\">\n",
       "<title>8&#45;&gt;11</title>\n",
       "<path fill=\"none\" stroke=\"black\" d=\"M312.07,-78.5C325.45,-78.5 342.71,-78.5 356.67,-78.5\"/>\n",
       "<polygon fill=\"black\" stroke=\"black\" points=\"356.77,-79.55 359.77,-78.5 356.77,-77.45 356.77,-79.55\"/>\n",
       "<text text-anchor=\"middle\" x=\"336\" y=\"-81.3\" font-family=\"Monospace\" font-size=\"9.00\">#</text>\n",
       "</g>\n",
       "<!-- 10 -->\n",
       "<g id=\"node11\" class=\"node\">\n",
       "<title>10</title>\n",
       "<polygon fill=\"none\" stroke=\"black\" points=\"405,-52 360,-52 360,-35 405,-35 405,-52\"/>\n",
       "<text text-anchor=\"middle\" x=\"382.5\" y=\"-41\" font-family=\"Monospace\" font-size=\"10.00\">0/0.14</text>\n",
       "</g>\n",
       "<!-- 9&#45;&gt;10 -->\n",
       "<g id=\"edge10\" class=\"edge\">\n",
       "<title>9&#45;&gt;10</title>\n",
       "<path fill=\"none\" stroke=\"black\" d=\"M312.07,-43.5C325.45,-43.5 342.71,-43.5 356.67,-43.5\"/>\n",
       "<polygon fill=\"black\" stroke=\"black\" points=\"356.77,-44.55 359.77,-43.5 356.77,-42.45 356.77,-44.55\"/>\n",
       "<text text-anchor=\"middle\" x=\"336\" y=\"-46.3\" font-family=\"Monospace\" font-size=\"9.00\">▪</text>\n",
       "</g>\n",
       "<!-- 12 -->\n",
       "<g id=\"node13\" class=\"node\">\n",
       "<title>12</title>\n",
       "<polygon fill=\"none\" stroke=\"black\" points=\"495,-87 450,-87 450,-70 495,-70 495,-87\"/>\n",
       "<text text-anchor=\"middle\" x=\"472.5\" y=\"-76\" font-family=\"Monospace\" font-size=\"10.00\">0/0.14</text>\n",
       "</g>\n",
       "<!-- 11&#45;&gt;12 -->\n",
       "<g id=\"edge12\" class=\"edge\">\n",
       "<title>11&#45;&gt;12</title>\n",
       "<path fill=\"none\" stroke=\"black\" d=\"M405.25,-78.5C417.83,-78.5 433.69,-78.5 446.74,-78.5\"/>\n",
       "<polygon fill=\"black\" stroke=\"black\" points=\"447,-79.55 450,-78.5 447,-77.45 447,-79.55\"/>\n",
       "<text text-anchor=\"middle\" x=\"429\" y=\"-81.3\" font-family=\"Monospace\" font-size=\"9.00\">▪</text>\n",
       "</g>\n",
       "<!-- 14 -->\n",
       "<g id=\"node15\" class=\"node\">\n",
       "<title>14</title>\n",
       "<polygon fill=\"none\" stroke=\"black\" points=\"408,-122 357,-122 357,-105 408,-105 408,-122\"/>\n",
       "<text text-anchor=\"middle\" x=\"382.5\" y=\"-111\" font-family=\"Monospace\" font-size=\"10.00\">0/0.096</text>\n",
       "</g>\n",
       "<!-- 13&#45;&gt;14 -->\n",
       "<g id=\"edge14\" class=\"edge\">\n",
       "<title>13&#45;&gt;14</title>\n",
       "<path fill=\"none\" stroke=\"black\" d=\"M315.37,-113.5C327.3,-113.5 341.64,-113.5 353.91,-113.5\"/>\n",
       "<polygon fill=\"black\" stroke=\"black\" points=\"353.98,-114.55 356.98,-113.5 353.98,-112.45 353.98,-114.55\"/>\n",
       "<text text-anchor=\"middle\" x=\"336\" y=\"-116.3\" font-family=\"Monospace\" font-size=\"9.00\">▪</text>\n",
       "</g>\n",
       "<!-- 18 -->\n",
       "<g id=\"node19\" class=\"node\">\n",
       "<title>18</title>\n",
       "<polygon fill=\"none\" stroke=\"black\" points=\"312,-192 267,-192 267,-175 312,-175 312,-192\"/>\n",
       "<text text-anchor=\"middle\" x=\"289.5\" y=\"-181\" font-family=\"Monospace\" font-size=\"10.00\">0/0.18</text>\n",
       "</g>\n",
       "<!-- 15&#45;&gt;18 -->\n",
       "<g id=\"edge18\" class=\"edge\">\n",
       "<title>15&#45;&gt;18</title>\n",
       "<path fill=\"none\" stroke=\"black\" d=\"M219.07,-183.5C232.45,-183.5 249.71,-183.5 263.67,-183.5\"/>\n",
       "<polygon fill=\"black\" stroke=\"black\" points=\"263.77,-184.55 266.77,-183.5 263.77,-182.45 263.77,-184.55\"/>\n",
       "<text text-anchor=\"middle\" x=\"243\" y=\"-186.3\" font-family=\"Monospace\" font-size=\"9.00\">#</text>\n",
       "</g>\n",
       "<!-- 17 -->\n",
       "<g id=\"node18\" class=\"node\">\n",
       "<title>17</title>\n",
       "<polygon fill=\"none\" stroke=\"black\" points=\"312,-157 267,-157 267,-140 312,-140 312,-157\"/>\n",
       "<text text-anchor=\"middle\" x=\"289.5\" y=\"-146\" font-family=\"Monospace\" font-size=\"10.00\">0/0.18</text>\n",
       "</g>\n",
       "<!-- 16&#45;&gt;17 -->\n",
       "<g id=\"edge17\" class=\"edge\">\n",
       "<title>16&#45;&gt;17</title>\n",
       "<path fill=\"none\" stroke=\"black\" d=\"M219.07,-148.5C232.45,-148.5 249.71,-148.5 263.67,-148.5\"/>\n",
       "<polygon fill=\"black\" stroke=\"black\" points=\"263.77,-149.55 266.77,-148.5 263.77,-147.45 263.77,-149.55\"/>\n",
       "<text text-anchor=\"middle\" x=\"243\" y=\"-151.3\" font-family=\"Monospace\" font-size=\"9.00\">▪</text>\n",
       "</g>\n",
       "<!-- 19 -->\n",
       "<g id=\"node20\" class=\"node\">\n",
       "<title>19</title>\n",
       "<polygon fill=\"none\" stroke=\"black\" points=\"405,-192 360,-192 360,-175 405,-175 405,-192\"/>\n",
       "<text text-anchor=\"middle\" x=\"382.5\" y=\"-181\" font-family=\"Monospace\" font-size=\"10.00\">0/0.18</text>\n",
       "</g>\n",
       "<!-- 18&#45;&gt;19 -->\n",
       "<g id=\"edge19\" class=\"edge\">\n",
       "<title>18&#45;&gt;19</title>\n",
       "<path fill=\"none\" stroke=\"black\" d=\"M312.07,-183.5C325.45,-183.5 342.71,-183.5 356.67,-183.5\"/>\n",
       "<polygon fill=\"black\" stroke=\"black\" points=\"356.77,-184.55 359.77,-183.5 356.77,-182.45 356.77,-184.55\"/>\n",
       "<text text-anchor=\"middle\" x=\"336\" y=\"-186.3\" font-family=\"Monospace\" font-size=\"9.00\">▪</text>\n",
       "</g>\n",
       "<!-- 21 -->\n",
       "<g id=\"node22\" class=\"node\">\n",
       "<title>21</title>\n",
       "<polygon fill=\"none\" stroke=\"black\" points=\"312,-227 267,-227 267,-210 312,-210 312,-227\"/>\n",
       "<text text-anchor=\"middle\" x=\"289.5\" y=\"-216\" font-family=\"Monospace\" font-size=\"10.00\">0/0.12</text>\n",
       "</g>\n",
       "<!-- 20&#45;&gt;21 -->\n",
       "<g id=\"edge21\" class=\"edge\">\n",
       "<title>20&#45;&gt;21</title>\n",
       "<path fill=\"none\" stroke=\"black\" d=\"M219.07,-218.5C232.45,-218.5 249.71,-218.5 263.67,-218.5\"/>\n",
       "<polygon fill=\"black\" stroke=\"black\" points=\"263.77,-219.55 266.77,-218.5 263.77,-217.45 263.77,-219.55\"/>\n",
       "<text text-anchor=\"middle\" x=\"243\" y=\"-221.3\" font-family=\"Monospace\" font-size=\"9.00\">▪</text>\n",
       "</g>\n",
       "</g>\n",
       "</svg>\n",
       "</td> </tr></table>"
      ],
      "text/plain": [
       "<IPython.core.display.HTML object>"
      ]
     },
     "metadata": {},
     "output_type": "display_data"
    }
   ],
   "source": [
    "D_chunks, tracer_aligned_chunks = generation_tree(a_lm, chunked=True)\n",
    "display_table([[D_chunks, tracer_aligned_chunks]])"
   ]
  },
  {
   "cell_type": "code",
   "execution_count": 15,
   "id": "26923635-68fe-4390-8f87-690ca184a791",
   "metadata": {},
   "outputs": [
    {
     "data": {
      "image/svg+xml": [
       "<?xml version=\"1.0\" encoding=\"UTF-8\" standalone=\"no\"?>\n",
       "<!DOCTYPE svg PUBLIC \"-//W3C//DTD SVG 1.1//EN\"\n",
       " \"http://www.w3.org/Graphics/SVG/1.1/DTD/svg11.dtd\">\n",
       "<!-- Generated by graphviz version 2.43.0 (0)\n",
       " -->\n",
       "<!-- Title: %3 Pages: 1 -->\n",
       "<svg width=\"741pt\" height=\"217pt\"\n",
       " viewBox=\"0.00 0.00 741.23 216.78\" xmlns=\"http://www.w3.org/2000/svg\" xmlns:xlink=\"http://www.w3.org/1999/xlink\">\n",
       "<g id=\"graph0\" class=\"graph\" transform=\"scale(1 1) rotate(0) translate(4 212.78)\">\n",
       "<title>%3</title>\n",
       "<polygon fill=\"white\" stroke=\"transparent\" points=\"-4,4 -4,-212.78 737.23,-212.78 737.23,4 -4,4\"/>\n",
       "<!-- start_0 -->\n",
       "<g id=\"node1\" class=\"node\">\n",
       "<title>start_0</title>\n",
       "<ellipse fill=\"black\" stroke=\"black\" cx=\"0\" cy=\"-94\" rx=\"0\" ry=\"0\"/>\n",
       "</g>\n",
       "<!-- 0 -->\n",
       "<g id=\"node2\" class=\"node\">\n",
       "<title>0</title>\n",
       "<ellipse fill=\"none\" stroke=\"black\" cx=\"49.78\" cy=\"-94\" rx=\"7.56\" ry=\"7.56\"/>\n",
       "<text text-anchor=\"middle\" x=\"49.78\" y=\"-91.5\" font-family=\"Monospace\" font-size=\"10.00\"> </text>\n",
       "</g>\n",
       "<!-- start_0&#45;&gt;0 -->\n",
       "<g id=\"edge1\" class=\"edge\">\n",
       "<title>start_0&#45;&gt;0</title>\n",
       "<path fill=\"none\" stroke=\"black\" d=\"M1.14,-94C3.07,-94 25.11,-94 38.52,-94\"/>\n",
       "<polygon fill=\"black\" stroke=\"black\" points=\"38.73,-95.05 41.73,-94 38.73,-92.95 38.73,-95.05\"/>\n",
       "<text text-anchor=\"middle\" x=\"21\" y=\"-96.8\" font-family=\"Monospace\" font-size=\"9.00\">1</text>\n",
       "</g>\n",
       "<!-- 2 -->\n",
       "<g id=\"node4\" class=\"node\">\n",
       "<title>2</title>\n",
       "<ellipse fill=\"none\" stroke=\"black\" cx=\"170.33\" cy=\"-196\" rx=\"7.56\" ry=\"7.56\"/>\n",
       "<text text-anchor=\"middle\" x=\"170.33\" y=\"-193.5\" font-family=\"Monospace\" font-size=\"10.00\"> </text>\n",
       "</g>\n",
       "<!-- 0&#45;&gt;2 -->\n",
       "<g id=\"edge3\" class=\"edge\">\n",
       "<title>0&#45;&gt;2</title>\n",
       "<path fill=\"none\" stroke=\"black\" d=\"M51.82,-101.63C53.97,-114.64 60.08,-141.23 75.56,-157 99.37,-181.28 140.52,-191.11 159.38,-194.48\"/>\n",
       "<polygon fill=\"black\" stroke=\"black\" points=\"159.28,-195.53 162.42,-195.01 159.64,-193.46 159.28,-195.53\"/>\n",
       "<text text-anchor=\"middle\" x=\"110.06\" y=\"-193.8\" font-family=\"Monospace\" font-size=\"9.00\">(&#39;#&#39;, &#39;&#39;)/1</text>\n",
       "</g>\n",
       "<!-- 3 -->\n",
       "<g id=\"node5\" class=\"node\">\n",
       "<title>3</title>\n",
       "<ellipse fill=\"none\" stroke=\"black\" cx=\"170.33\" cy=\"-156\" rx=\"7.56\" ry=\"7.56\"/>\n",
       "<text text-anchor=\"middle\" x=\"170.33\" y=\"-153.5\" font-family=\"Monospace\" font-size=\"10.00\"> </text>\n",
       "</g>\n",
       "<!-- 0&#45;&gt;3 -->\n",
       "<g id=\"edge4\" class=\"edge\">\n",
       "<title>0&#45;&gt;3</title>\n",
       "<path fill=\"none\" stroke=\"black\" d=\"M54.6,-100.17C58.94,-106.7 66.59,-116.87 75.56,-123 102.37,-141.31 113.96,-136.12 144.56,-147 149.6,-148.79 155.21,-150.83 159.81,-152.51\"/>\n",
       "<polygon fill=\"black\" stroke=\"black\" points=\"159.64,-153.56 162.82,-153.61 160.36,-151.59 159.64,-153.56\"/>\n",
       "<text text-anchor=\"middle\" x=\"110.06\" y=\"-149.8\" font-family=\"Monospace\" font-size=\"9.00\">(&#39;▪&#39;, &#39;&#39;)/1</text>\n",
       "</g>\n",
       "<!-- 4 -->\n",
       "<g id=\"node6\" class=\"node\">\n",
       "<title>4</title>\n",
       "<ellipse fill=\"none\" stroke=\"black\" cx=\"170.33\" cy=\"-114\" rx=\"7.56\" ry=\"7.56\"/>\n",
       "<text text-anchor=\"middle\" x=\"170.33\" y=\"-111.5\" font-family=\"Monospace\" font-size=\"10.00\"> </text>\n",
       "</g>\n",
       "<!-- 0&#45;&gt;4 -->\n",
       "<g id=\"edge5\" class=\"edge\">\n",
       "<title>0&#45;&gt;4</title>\n",
       "<path fill=\"none\" stroke=\"black\" d=\"M57.49,-95.13C77.29,-98.47 135.51,-108.29 159.17,-112.28\"/>\n",
       "<polygon fill=\"black\" stroke=\"black\" points=\"159.27,-113.37 162.4,-112.83 159.62,-111.3 159.27,-113.37\"/>\n",
       "<text text-anchor=\"middle\" x=\"110.06\" y=\"-111.8\" font-family=\"Monospace\" font-size=\"9.00\">(&#39;aa&#39;, &#39;&#39;)/1</text>\n",
       "</g>\n",
       "<!-- 5 -->\n",
       "<g id=\"node7\" class=\"node\">\n",
       "<title>5</title>\n",
       "<ellipse fill=\"none\" stroke=\"black\" cx=\"170.33\" cy=\"-75\" rx=\"7.56\" ry=\"7.56\"/>\n",
       "<text text-anchor=\"middle\" x=\"170.33\" y=\"-72.5\" font-family=\"Monospace\" font-size=\"10.00\"> </text>\n",
       "</g>\n",
       "<!-- 0&#45;&gt;5 -->\n",
       "<g id=\"edge6\" class=\"edge\">\n",
       "<title>0&#45;&gt;5</title>\n",
       "<path fill=\"none\" stroke=\"black\" d=\"M56.48,-89.39C61.26,-85.83 68.43,-81.15 75.56,-79 104.8,-70.16 141.52,-72.12 159.07,-73.81\"/>\n",
       "<polygon fill=\"black\" stroke=\"black\" points=\"159.22,-74.88 162.31,-74.14 159.44,-72.79 159.22,-74.88\"/>\n",
       "<text text-anchor=\"middle\" x=\"110.06\" y=\"-81.8\" font-family=\"Monospace\" font-size=\"9.00\">(&#39;aaa&#39;, &#39;&#39;)/1</text>\n",
       "</g>\n",
       "<!-- 6 -->\n",
       "<g id=\"node8\" class=\"node\">\n",
       "<title>6</title>\n",
       "<ellipse fill=\"none\" stroke=\"black\" cx=\"170.33\" cy=\"-40\" rx=\"7.56\" ry=\"7.56\"/>\n",
       "<text text-anchor=\"middle\" x=\"170.33\" y=\"-37.5\" font-family=\"Monospace\" font-size=\"10.00\"> </text>\n",
       "</g>\n",
       "<!-- 0&#45;&gt;6 -->\n",
       "<g id=\"edge7\" class=\"edge\">\n",
       "<title>0&#45;&gt;6</title>\n",
       "<path fill=\"none\" stroke=\"black\" d=\"M53.63,-86.93C57.38,-78.62 64.76,-65.06 75.56,-58 101.84,-40.83 140.55,-39.21 158.93,-39.53\"/>\n",
       "<polygon fill=\"black\" stroke=\"black\" points=\"159.29,-40.59 162.32,-39.62 159.35,-38.49 159.29,-40.59\"/>\n",
       "<text text-anchor=\"middle\" x=\"110.06\" y=\"-60.8\" font-family=\"Monospace\" font-size=\"9.00\">(&#39;a&#39;, &#39;&#39;)/1</text>\n",
       "</g>\n",
       "<!-- 1 -->\n",
       "<g id=\"node3\" class=\"node\">\n",
       "<title>1</title>\n",
       "<ellipse fill=\"none\" stroke=\"black\" cx=\"683.45\" cy=\"-105\" rx=\"7.56\" ry=\"7.56\"/>\n",
       "<text text-anchor=\"middle\" x=\"683.45\" y=\"-102.5\" font-family=\"Monospace\" font-size=\"10.00\"> </text>\n",
       "</g>\n",
       "<!-- 1&#45;&gt;0 -->\n",
       "<g id=\"edge21\" class=\"edge\">\n",
       "<title>1&#45;&gt;0</title>\n",
       "<path fill=\"none\" stroke=\"black\" d=\"M680.36,-97.75C677.03,-87.25 669.64,-67.68 657.67,-55 623.79,-19.1 610.53,0 561.17,0 169.33,0 169.33,0 169.33,0 124.85,0 107.64,-4.18 75.56,-35 61.82,-48.2 55.37,-70.18 52.6,-83.27\"/>\n",
       "<polygon fill=\"black\" stroke=\"black\" points=\"51.54,-83.24 51.98,-86.39 53.6,-83.65 51.54,-83.24\"/>\n",
       "<text text-anchor=\"middle\" x=\"377.11\" y=\"-2.8\" font-family=\"Monospace\" font-size=\"9.00\">(&#39;&#39;, &#39;&#39;)/1</text>\n",
       "</g>\n",
       "<!-- stop_1 -->\n",
       "<g id=\"node17\" class=\"node\">\n",
       "<title>stop_1</title>\n",
       "<ellipse fill=\"black\" stroke=\"black\" cx=\"733.23\" cy=\"-105\" rx=\"0\" ry=\"0\"/>\n",
       "</g>\n",
       "<!-- 1&#45;&gt;stop_1 -->\n",
       "<g id=\"edge2\" class=\"edge\">\n",
       "<title>1&#45;&gt;stop_1</title>\n",
       "<path fill=\"none\" stroke=\"black\" d=\"M691.5,-105C701.96,-105 721.18,-105 728.9,-105\"/>\n",
       "<polygon fill=\"black\" stroke=\"black\" points=\"729.15,-106.05 732.15,-105 729.15,-103.95 729.15,-106.05\"/>\n",
       "<text text-anchor=\"middle\" x=\"712.23\" y=\"-107.8\" font-family=\"Monospace\" font-size=\"9.00\">1</text>\n",
       "</g>\n",
       "<!-- 7 -->\n",
       "<g id=\"node9\" class=\"node\">\n",
       "<title>7</title>\n",
       "<ellipse fill=\"none\" stroke=\"black\" cx=\"377.11\" cy=\"-201\" rx=\"7.56\" ry=\"7.56\"/>\n",
       "<text text-anchor=\"middle\" x=\"377.11\" y=\"-198.5\" font-family=\"Monospace\" font-size=\"10.00\"> </text>\n",
       "</g>\n",
       "<!-- 2&#45;&gt;7 -->\n",
       "<g id=\"edge8\" class=\"edge\">\n",
       "<title>2&#45;&gt;7</title>\n",
       "<path fill=\"none\" stroke=\"black\" d=\"M178.15,-196.17C208.27,-196.9 329.57,-199.86 365.83,-200.75\"/>\n",
       "<polygon fill=\"black\" stroke=\"black\" points=\"366.04,-201.8 369.06,-200.83 366.09,-199.7 366.04,-201.8\"/>\n",
       "<text text-anchor=\"middle\" x=\"225.11\" y=\"-199.8\" font-family=\"Monospace\" font-size=\"9.00\">(&#39;&#39;, &#39;#&#39;)/1</text>\n",
       "</g>\n",
       "<!-- 8 -->\n",
       "<g id=\"node10\" class=\"node\">\n",
       "<title>8</title>\n",
       "<ellipse fill=\"none\" stroke=\"black\" cx=\"486.67\" cy=\"-163\" rx=\"7.56\" ry=\"7.56\"/>\n",
       "<text text-anchor=\"middle\" x=\"486.67\" y=\"-160.5\" font-family=\"Monospace\" font-size=\"10.00\"> </text>\n",
       "</g>\n",
       "<!-- 3&#45;&gt;8 -->\n",
       "<g id=\"edge10\" class=\"edge\">\n",
       "<title>3&#45;&gt;8</title>\n",
       "<path fill=\"none\" stroke=\"black\" d=\"M178.19,-156.15C218.7,-157.05 426.57,-161.68 475.4,-162.77\"/>\n",
       "<polygon fill=\"black\" stroke=\"black\" points=\"475.61,-163.83 478.63,-162.84 475.66,-161.73 475.61,-163.83\"/>\n",
       "<text text-anchor=\"middle\" x=\"301.11\" y=\"-161.8\" font-family=\"Monospace\" font-size=\"9.00\">(&#39;&#39;, &#39;▪&#39;)/1</text>\n",
       "</g>\n",
       "<!-- 9 -->\n",
       "<g id=\"node11\" class=\"node\">\n",
       "<title>9</title>\n",
       "<ellipse fill=\"none\" stroke=\"black\" cx=\"301.11\" cy=\"-117\" rx=\"7.56\" ry=\"7.56\"/>\n",
       "<text text-anchor=\"middle\" x=\"301.11\" y=\"-114.5\" font-family=\"Monospace\" font-size=\"10.00\"> </text>\n",
       "</g>\n",
       "<!-- 4&#45;&gt;9 -->\n",
       "<g id=\"edge12\" class=\"edge\">\n",
       "<title>4&#45;&gt;9</title>\n",
       "<path fill=\"none\" stroke=\"black\" d=\"M178.26,-114.16C199.66,-114.66 264.81,-116.18 290.01,-116.76\"/>\n",
       "<polygon fill=\"black\" stroke=\"black\" points=\"290.13,-117.82 293.15,-116.84 290.18,-115.72 290.13,-117.82\"/>\n",
       "<text text-anchor=\"middle\" x=\"225.11\" y=\"-117.8\" font-family=\"Monospace\" font-size=\"9.00\">(&#39;&#39;, &#39;a&#39;)/1</text>\n",
       "</g>\n",
       "<!-- 11 -->\n",
       "<g id=\"node13\" class=\"node\">\n",
       "<title>11</title>\n",
       "<ellipse fill=\"none\" stroke=\"black\" cx=\"301.11\" cy=\"-75\" rx=\"7.56\" ry=\"7.56\"/>\n",
       "<text text-anchor=\"middle\" x=\"301.11\" y=\"-72.5\" font-family=\"Monospace\" font-size=\"10.00\"> </text>\n",
       "</g>\n",
       "<!-- 5&#45;&gt;11 -->\n",
       "<g id=\"edge15\" class=\"edge\">\n",
       "<title>5&#45;&gt;11</title>\n",
       "<path fill=\"none\" stroke=\"black\" d=\"M178.26,-75C199.66,-75 264.81,-75 290.01,-75\"/>\n",
       "<polygon fill=\"black\" stroke=\"black\" points=\"290.15,-76.05 293.15,-75 290.15,-73.95 290.15,-76.05\"/>\n",
       "<text text-anchor=\"middle\" x=\"225.11\" y=\"-77.8\" font-family=\"Monospace\" font-size=\"9.00\">(&#39;&#39;, &#39;a&#39;)/1</text>\n",
       "</g>\n",
       "<!-- 14 -->\n",
       "<g id=\"node16\" class=\"node\">\n",
       "<title>14</title>\n",
       "<ellipse fill=\"none\" stroke=\"black\" cx=\"377.11\" cy=\"-39\" rx=\"7.56\" ry=\"7.56\"/>\n",
       "<text text-anchor=\"middle\" x=\"377.11\" y=\"-36.5\" font-family=\"Monospace\" font-size=\"10.00\"> </text>\n",
       "</g>\n",
       "<!-- 6&#45;&gt;14 -->\n",
       "<g id=\"edge19\" class=\"edge\">\n",
       "<title>6&#45;&gt;14</title>\n",
       "<path fill=\"none\" stroke=\"black\" d=\"M178.15,-39.97C208.27,-39.82 329.57,-39.23 365.83,-39.05\"/>\n",
       "<polygon fill=\"black\" stroke=\"black\" points=\"366.07,-40.1 369.06,-39.03 366.06,-38 366.07,-40.1\"/>\n",
       "<text text-anchor=\"middle\" x=\"225.11\" y=\"-41.8\" font-family=\"Monospace\" font-size=\"9.00\">(&#39;&#39;, &#39;a&#39;)/1</text>\n",
       "</g>\n",
       "<!-- 7&#45;&gt;1 -->\n",
       "<g id=\"edge9\" class=\"edge\">\n",
       "<title>7&#45;&gt;1</title>\n",
       "<path fill=\"none\" stroke=\"black\" d=\"M385.05,-200.45C411.55,-198.26 508.86,-189.29 586.67,-170 619.14,-161.95 631.6,-165.97 657.67,-145 667.53,-137.07 674.53,-124.08 678.52,-115.07\"/>\n",
       "<polygon fill=\"black\" stroke=\"black\" points=\"679.65,-115.11 679.86,-111.94 677.71,-114.29 679.65,-115.11\"/>\n",
       "<text text-anchor=\"middle\" x=\"486.67\" y=\"-194.8\" font-family=\"Monospace\" font-size=\"9.00\">(&#39;&#39;, &#39;&#39;)/1</text>\n",
       "</g>\n",
       "<!-- 8&#45;&gt;1 -->\n",
       "<g id=\"edge11\" class=\"edge\">\n",
       "<title>8&#45;&gt;1</title>\n",
       "<path fill=\"none\" stroke=\"black\" d=\"M494.44,-162.26C517.92,-159.53 597.76,-148.68 657.67,-122 663.78,-119.28 669.99,-115.02 674.66,-111.44\"/>\n",
       "<polygon fill=\"black\" stroke=\"black\" points=\"675.37,-112.22 677.09,-109.54 674.08,-110.56 675.37,-112.22\"/>\n",
       "<text text-anchor=\"middle\" x=\"560.17\" y=\"-158.8\" font-family=\"Monospace\" font-size=\"9.00\">(&#39;&#39;, &#39;&#39;)/1</text>\n",
       "</g>\n",
       "<!-- 10 -->\n",
       "<g id=\"node12\" class=\"node\">\n",
       "<title>10</title>\n",
       "<ellipse fill=\"none\" stroke=\"black\" cx=\"486.67\" cy=\"-117\" rx=\"7.56\" ry=\"7.56\"/>\n",
       "<text text-anchor=\"middle\" x=\"486.67\" y=\"-114.5\" font-family=\"Monospace\" font-size=\"10.00\"> </text>\n",
       "</g>\n",
       "<!-- 9&#45;&gt;10 -->\n",
       "<g id=\"edge13\" class=\"edge\">\n",
       "<title>9&#45;&gt;10</title>\n",
       "<path fill=\"none\" stroke=\"black\" d=\"M309.08,-117C337.14,-117 441.87,-117 475.32,-117\"/>\n",
       "<polygon fill=\"black\" stroke=\"black\" points=\"475.69,-118.05 478.69,-117 475.69,-115.95 475.69,-118.05\"/>\n",
       "<text text-anchor=\"middle\" x=\"377.11\" y=\"-119.8\" font-family=\"Monospace\" font-size=\"9.00\">(&#39;&#39;, &#39;a&#39;)/1</text>\n",
       "</g>\n",
       "<!-- 10&#45;&gt;1 -->\n",
       "<g id=\"edge14\" class=\"edge\">\n",
       "<title>10&#45;&gt;1</title>\n",
       "<path fill=\"none\" stroke=\"black\" d=\"M494.6,-116.57C523.88,-114.77 637.51,-107.77 672.28,-105.63\"/>\n",
       "<polygon fill=\"black\" stroke=\"black\" points=\"672.46,-106.67 675.39,-105.43 672.34,-104.57 672.46,-106.67\"/>\n",
       "<text text-anchor=\"middle\" x=\"560.17\" y=\"-115.8\" font-family=\"Monospace\" font-size=\"9.00\">(&#39;&#39;, &#39;&#39;)/1</text>\n",
       "</g>\n",
       "<!-- 12 -->\n",
       "<g id=\"node14\" class=\"node\">\n",
       "<title>12</title>\n",
       "<ellipse fill=\"none\" stroke=\"black\" cx=\"431.89\" cy=\"-74\" rx=\"7.56\" ry=\"7.56\"/>\n",
       "<text text-anchor=\"middle\" x=\"431.89\" y=\"-71.5\" font-family=\"Monospace\" font-size=\"10.00\"> </text>\n",
       "</g>\n",
       "<!-- 11&#45;&gt;12 -->\n",
       "<g id=\"edge16\" class=\"edge\">\n",
       "<title>11&#45;&gt;12</title>\n",
       "<path fill=\"none\" stroke=\"black\" d=\"M309.04,-74.95C330.44,-74.78 395.59,-74.27 420.79,-74.08\"/>\n",
       "<polygon fill=\"black\" stroke=\"black\" points=\"420.94,-75.13 423.93,-74.05 420.92,-73.03 420.94,-75.13\"/>\n",
       "<text text-anchor=\"middle\" x=\"377.11\" y=\"-76.8\" font-family=\"Monospace\" font-size=\"9.00\">(&#39;&#39;, &#39;a&#39;)/1</text>\n",
       "</g>\n",
       "<!-- 13 -->\n",
       "<g id=\"node15\" class=\"node\">\n",
       "<title>13</title>\n",
       "<ellipse fill=\"none\" stroke=\"black\" cx=\"560.17\" cy=\"-74\" rx=\"7.56\" ry=\"7.56\"/>\n",
       "<text text-anchor=\"middle\" x=\"560.17\" y=\"-71.5\" font-family=\"Monospace\" font-size=\"10.00\"> </text>\n",
       "</g>\n",
       "<!-- 12&#45;&gt;13 -->\n",
       "<g id=\"edge17\" class=\"edge\">\n",
       "<title>12&#45;&gt;13</title>\n",
       "<path fill=\"none\" stroke=\"black\" d=\"M439.68,-74C460.66,-74 524.55,-74 549.26,-74\"/>\n",
       "<polygon fill=\"black\" stroke=\"black\" points=\"549.35,-75.05 552.35,-74 549.35,-72.95 549.35,-75.05\"/>\n",
       "<text text-anchor=\"middle\" x=\"486.67\" y=\"-76.8\" font-family=\"Monospace\" font-size=\"9.00\">(&#39;&#39;, &#39;a&#39;)/1</text>\n",
       "</g>\n",
       "<!-- 13&#45;&gt;1 -->\n",
       "<g id=\"edge18\" class=\"edge\">\n",
       "<title>13&#45;&gt;1</title>\n",
       "<path fill=\"none\" stroke=\"black\" d=\"M568.33,-74.95C584.52,-77.21 625.09,-83.53 657.67,-94 663.01,-95.72 668.75,-98.22 673.36,-100.41\"/>\n",
       "<polygon fill=\"black\" stroke=\"black\" points=\"672.92,-101.36 676.07,-101.72 673.83,-99.47 672.92,-101.36\"/>\n",
       "<text text-anchor=\"middle\" x=\"631.17\" y=\"-96.8\" font-family=\"Monospace\" font-size=\"9.00\">(&#39;&#39;, &#39;&#39;)/1</text>\n",
       "</g>\n",
       "<!-- 14&#45;&gt;1 -->\n",
       "<g id=\"edge20\" class=\"edge\">\n",
       "<title>14&#45;&gt;1</title>\n",
       "<path fill=\"none\" stroke=\"black\" d=\"M385.02,-39.12C411.41,-39.7 508.37,-42.72 586.67,-57 618.92,-62.88 629.9,-59.57 657.67,-77 665.37,-81.83 672.06,-89.75 676.54,-95.94\"/>\n",
       "<polygon fill=\"black\" stroke=\"black\" points=\"675.73,-96.62 678.32,-98.47 677.45,-95.41 675.73,-96.62\"/>\n",
       "<text text-anchor=\"middle\" x=\"486.67\" y=\"-49.8\" font-family=\"Monospace\" font-size=\"9.00\">(&#39;&#39;, &#39;&#39;)/1</text>\n",
       "</g>\n",
       "</g>\n",
       "</svg>\n"
      ],
      "text/plain": [
       "WFSA(15 states)"
      ]
     },
     "execution_count": 15,
     "metadata": {},
     "output_type": "execute_result"
    }
   ],
   "source": [
    "B = bpe_wfst([(w, list(w)) for w in tokens])\n",
    "B"
   ]
  },
  {
   "cell_type": "code",
   "execution_count": 22,
   "id": "6231ba0e-162e-44b7-ae18-22104a176b8a",
   "metadata": {},
   "outputs": [
    {
     "data": {
      "image/svg+xml": [
       "<?xml version=\"1.0\" encoding=\"UTF-8\" standalone=\"no\"?>\n",
       "<!DOCTYPE svg PUBLIC \"-//W3C//DTD SVG 1.1//EN\"\n",
       " \"http://www.w3.org/Graphics/SVG/1.1/DTD/svg11.dtd\">\n",
       "<!-- Generated by graphviz version 2.43.0 (0)\n",
       " -->\n",
       "<!-- Title: %3 Pages: 1 -->\n",
       "<svg width=\"334pt\" height=\"79pt\"\n",
       " viewBox=\"0.00 0.00 334.11 78.78\" xmlns=\"http://www.w3.org/2000/svg\" xmlns:xlink=\"http://www.w3.org/1999/xlink\">\n",
       "<g id=\"graph0\" class=\"graph\" transform=\"scale(1 1) rotate(0) translate(4 74.78)\">\n",
       "<title>%3</title>\n",
       "<polygon fill=\"white\" stroke=\"transparent\" points=\"-4,4 -4,-74.78 330.11,-74.78 330.11,4 -4,4\"/>\n",
       "<!-- start_(0, (0, &#39;&#39;)) -->\n",
       "<g id=\"node1\" class=\"node\">\n",
       "<title>start_(0, (0, &#39;&#39;))</title>\n",
       "<ellipse fill=\"black\" stroke=\"black\" cx=\"0\" cy=\"-40.78\" rx=\"0\" ry=\"0\"/>\n",
       "</g>\n",
       "<!-- 0 -->\n",
       "<g id=\"node2\" class=\"node\">\n",
       "<title>0</title>\n",
       "<ellipse fill=\"none\" stroke=\"black\" cx=\"49.78\" cy=\"-40.78\" rx=\"7.56\" ry=\"7.56\"/>\n",
       "<text text-anchor=\"middle\" x=\"49.78\" y=\"-38.28\" font-family=\"Monospace\" font-size=\"10.00\"> </text>\n",
       "</g>\n",
       "<!-- start_(0, (0, &#39;&#39;))&#45;&gt;0 -->\n",
       "<g id=\"edge1\" class=\"edge\">\n",
       "<title>start_(0, (0, &#39;&#39;))&#45;&gt;0</title>\n",
       "<path fill=\"none\" stroke=\"black\" d=\"M1.14,-40.78C3.07,-40.78 25.11,-40.78 38.52,-40.78\"/>\n",
       "<polygon fill=\"black\" stroke=\"black\" points=\"38.73,-41.83 41.73,-40.78 38.73,-39.73 38.73,-41.83\"/>\n",
       "<text text-anchor=\"middle\" x=\"21\" y=\"-43.58\" font-family=\"Monospace\" font-size=\"9.00\">1</text>\n",
       "</g>\n",
       "<!-- 1 -->\n",
       "<g id=\"node3\" class=\"node\">\n",
       "<title>1</title>\n",
       "<ellipse fill=\"none\" stroke=\"black\" cx=\"276.33\" cy=\"-51.78\" rx=\"7.56\" ry=\"7.56\"/>\n",
       "<text text-anchor=\"middle\" x=\"276.33\" y=\"-49.28\" font-family=\"Monospace\" font-size=\"10.00\"> </text>\n",
       "</g>\n",
       "<!-- 0&#45;&gt;1 -->\n",
       "<g id=\"edge4\" class=\"edge\">\n",
       "<title>0&#45;&gt;1</title>\n",
       "<path fill=\"none\" stroke=\"black\" d=\"M56.56,-44.99C61.38,-48.27 68.57,-52.61 75.56,-54.78 90.04,-59.28 94.42,-56.81 109.56,-57.78 165.04,-61.33 178.97,-61.67 234.56,-62.78 241.67,-62.92 243.6,-64.25 250.56,-62.78 256.05,-61.61 261.8,-59.15 266.38,-56.84\"/>\n",
       "<polygon fill=\"black\" stroke=\"black\" points=\"266.89,-57.76 269.06,-55.45 265.92,-55.9 266.89,-57.76\"/>\n",
       "<text text-anchor=\"middle\" x=\"163.06\" y=\"-63.58\" font-family=\"Monospace\" font-size=\"9.00\">aaa/1</text>\n",
       "</g>\n",
       "<!-- 2 -->\n",
       "<g id=\"node4\" class=\"node\">\n",
       "<title>2</title>\n",
       "<ellipse fill=\"none\" stroke=\"black\" cx=\"120.56\" cy=\"-40.78\" rx=\"7.56\" ry=\"7.56\"/>\n",
       "<text text-anchor=\"middle\" x=\"120.56\" y=\"-38.28\" font-family=\"Monospace\" font-size=\"10.00\"> </text>\n",
       "</g>\n",
       "<!-- 0&#45;&gt;2 -->\n",
       "<g id=\"edge5\" class=\"edge\">\n",
       "<title>0&#45;&gt;2</title>\n",
       "<path fill=\"none\" stroke=\"black\" d=\"M57.62,-40.78C69.78,-40.78 95.18,-40.78 109.38,-40.78\"/>\n",
       "<polygon fill=\"black\" stroke=\"black\" points=\"109.74,-41.83 112.74,-40.78 109.74,-39.73 109.74,-41.83\"/>\n",
       "<text text-anchor=\"middle\" x=\"83.56\" y=\"-43.58\" font-family=\"Monospace\" font-size=\"9.00\">a/1</text>\n",
       "</g>\n",
       "<!-- 3 -->\n",
       "<g id=\"node5\" class=\"node\">\n",
       "<title>3</title>\n",
       "<ellipse fill=\"none\" stroke=\"black\" cx=\"205.56\" cy=\"-7.78\" rx=\"7.56\" ry=\"7.56\"/>\n",
       "<text text-anchor=\"middle\" x=\"205.56\" y=\"-5.28\" font-family=\"Monospace\" font-size=\"10.00\"> </text>\n",
       "</g>\n",
       "<!-- 0&#45;&gt;3 -->\n",
       "<g id=\"edge3\" class=\"edge\">\n",
       "<title>0&#45;&gt;3</title>\n",
       "<path fill=\"none\" stroke=\"black\" d=\"M56.68,-37.17C66.98,-31.08 89.08,-18.94 109.56,-13.78 139.6,-6.21 176.6,-6.51 194.24,-7.21\"/>\n",
       "<polygon fill=\"black\" stroke=\"black\" points=\"194.47,-8.27 197.51,-7.35 194.56,-6.17 194.47,-8.27\"/>\n",
       "<text text-anchor=\"middle\" x=\"120.56\" y=\"-16.58\" font-family=\"Monospace\" font-size=\"9.00\">aa/1</text>\n",
       "</g>\n",
       "<!-- stop_(1, (2, &#39;aaa&#39;)) -->\n",
       "<g id=\"node6\" class=\"node\">\n",
       "<title>stop_(1, (2, &#39;aaa&#39;))</title>\n",
       "<ellipse fill=\"black\" stroke=\"black\" cx=\"326.11\" cy=\"-51.78\" rx=\"0\" ry=\"0\"/>\n",
       "</g>\n",
       "<!-- 1&#45;&gt;stop_(1, (2, &#39;aaa&#39;)) -->\n",
       "<g id=\"edge2\" class=\"edge\">\n",
       "<title>1&#45;&gt;stop_(1, (2, &#39;aaa&#39;))</title>\n",
       "<path fill=\"none\" stroke=\"black\" d=\"M284.38,-51.78C294.85,-51.78 314.07,-51.78 321.78,-51.78\"/>\n",
       "<polygon fill=\"black\" stroke=\"black\" points=\"322.03,-52.83 325.03,-51.78 322.03,-50.73 322.03,-52.83\"/>\n",
       "<text text-anchor=\"middle\" x=\"305.11\" y=\"-54.58\" font-family=\"Monospace\" font-size=\"9.00\">1</text>\n",
       "</g>\n",
       "<!-- 2&#45;&gt;1 -->\n",
       "<g id=\"edge6\" class=\"edge\">\n",
       "<title>2&#45;&gt;1</title>\n",
       "<path fill=\"none\" stroke=\"black\" d=\"M128.56,-41.28C153.18,-43.04 235.79,-48.95 265,-51.04\"/>\n",
       "<polygon fill=\"black\" stroke=\"black\" points=\"265.22,-52.11 268.29,-51.27 265.37,-50.01 265.22,-52.11\"/>\n",
       "<text text-anchor=\"middle\" x=\"205.56\" y=\"-49.58\" font-family=\"Monospace\" font-size=\"9.00\">aa/1</text>\n",
       "</g>\n",
       "<!-- 2&#45;&gt;3 -->\n",
       "<g id=\"edge7\" class=\"edge\">\n",
       "<title>2&#45;&gt;3</title>\n",
       "<path fill=\"none\" stroke=\"black\" d=\"M127.94,-37.62C133.57,-34.89 142.03,-30.89 149.56,-27.78 165.35,-21.25 184.13,-14.67 195.16,-10.92\"/>\n",
       "<polygon fill=\"black\" stroke=\"black\" points=\"195.55,-11.9 198.05,-9.94 194.87,-9.91 195.55,-11.9\"/>\n",
       "<text text-anchor=\"middle\" x=\"163.06\" y=\"-30.58\" font-family=\"Monospace\" font-size=\"9.00\">a/1</text>\n",
       "</g>\n",
       "<!-- 3&#45;&gt;1 -->\n",
       "<g id=\"edge8\" class=\"edge\">\n",
       "<title>3&#45;&gt;1</title>\n",
       "<path fill=\"none\" stroke=\"black\" d=\"M213.19,-9.98C222.13,-13.13 238.35,-19.46 250.56,-27.78 257.19,-32.3 263.67,-38.67 268.34,-43.71\"/>\n",
       "<polygon fill=\"black\" stroke=\"black\" points=\"267.69,-44.55 270.48,-46.06 269.24,-43.13 267.69,-44.55\"/>\n",
       "<text text-anchor=\"middle\" x=\"242.56\" y=\"-30.58\" font-family=\"Monospace\" font-size=\"9.00\">a/1</text>\n",
       "</g>\n",
       "</g>\n",
       "</svg>\n"
      ],
      "text/plain": [
       "WFSA(4 states)"
      ]
     },
     "execution_count": 22,
     "metadata": {},
     "output_type": "execute_result"
    }
   ],
   "source": [
    "(B @ FST.from_string('aaa', Float)).trim.project(0).epsremove.trim"
   ]
  },
  {
   "cell_type": "code",
   "execution_count": 25,
   "id": "910c1f6b-ecee-465c-893b-facf6f72fe4b",
   "metadata": {},
   "outputs": [
    {
     "data": {
      "text/plain": [
       "2.0"
      ]
     },
     "execution_count": 25,
     "metadata": {},
     "output_type": "execute_result"
    }
   ],
   "source": [
    "(B @ FST.from_string('aa', Float)).trim.project(0).epsremove.trim.total_weight()"
   ]
  },
  {
   "cell_type": "code",
   "execution_count": 26,
   "id": "2ba45118-21aa-4b82-bc56-552d19bdd234",
   "metadata": {},
   "outputs": [],
   "source": [
    "b_lm = CFGLM(locally_normalize((B @ c_lm.cfg).trim(), tol=1e-100).trim())"
   ]
  },
  {
   "cell_type": "code",
   "execution_count": 27,
   "id": "441e9331-76e1-414e-943b-f59a1452bc44",
   "metadata": {},
   "outputs": [],
   "source": [
    "L = b_lm.cfg.language(10)"
   ]
  },
  {
   "cell_type": "code",
   "execution_count": 28,
   "id": "ba60fba6-01a0-49e7-b1fa-2802482f8afe",
   "metadata": {},
   "outputs": [
    {
     "data": {
      "text/html": [
       "<table><tr><td><div style=\"font-family: Monospace;\"><table><tr style=\"font-weight: bold;\"><td>key</td><td>value</td></tr><tr><td><pre>(&#x27;a&#x27;, &#x27;#&#x27;)</pre></td><td><pre>0.14285714285714288</pre></td> </tr><tr><td><pre>(&#x27;a&#x27;, &#x27;a&#x27;, &#x27;#&#x27;)</pre></td><td><pre>0.14285714285714288</pre></td> </tr><tr><td><pre>(&#x27;a&#x27;, &#x27;a&#x27;, &#x27;a&#x27;, &#x27;#&#x27;)</pre></td><td><pre>0.14285714285714288</pre></td> </tr><tr><td><pre>(&#x27;a&#x27;, &#x27;aa&#x27;, &#x27;#&#x27;)</pre></td><td><pre>0.14285714285714288</pre></td> </tr><tr><td><pre>(&#x27;aa&#x27;, &#x27;#&#x27;)</pre></td><td><pre>0.14285714285714288</pre></td> </tr><tr><td><pre>(&#x27;aa&#x27;, &#x27;a&#x27;, &#x27;#&#x27;)</pre></td><td><pre>0.14285714285714288</pre></td> </tr><tr><td><pre>(&#x27;aaa&#x27;, &#x27;#&#x27;)</pre></td><td><pre>0.14285714285714288</pre></td> </tr></table></div></td><td><?xml version=\"1.0\" encoding=\"UTF-8\" standalone=\"no\"?>\n",
       "<!DOCTYPE svg PUBLIC \"-//W3C//DTD SVG 1.1//EN\"\n",
       " \"http://www.w3.org/Graphics/SVG/1.1/DTD/svg11.dtd\">\n",
       "<!-- Generated by graphviz version 2.43.0 (0)\n",
       " -->\n",
       "<!-- Title: %3 Pages: 1 -->\n",
       "<svg width=\"485pt\" height=\"237pt\"\n",
       " viewBox=\"0.00 0.00 485.00 236.50\" xmlns=\"http://www.w3.org/2000/svg\" xmlns:xlink=\"http://www.w3.org/1999/xlink\">\n",
       "<g id=\"graph0\" class=\"graph\" transform=\"scale(1 1) rotate(0) translate(4 232.5)\">\n",
       "<title>%3</title>\n",
       "<polygon fill=\"white\" stroke=\"transparent\" points=\"-4,4 -4,-232.5 481,-232.5 481,4 -4,4\"/>\n",
       "<!-- 0 -->\n",
       "<g id=\"node1\" class=\"node\">\n",
       "<title>0</title>\n",
       "<polygon fill=\"none\" stroke=\"black\" points=\"27,-157 0,-157 0,-140 27,-140 27,-157\"/>\n",
       "<text text-anchor=\"middle\" x=\"13.5\" y=\"-146\" font-family=\"Monospace\" font-size=\"10.00\">0/1</text>\n",
       "</g>\n",
       "<!-- 1 -->\n",
       "<g id=\"node2\" class=\"node\">\n",
       "<title>1</title>\n",
       "<polygon fill=\"none\" stroke=\"black\" points=\"124,-192 79,-192 79,-175 124,-175 124,-192\"/>\n",
       "<text text-anchor=\"middle\" x=\"101.5\" y=\"-181\" font-family=\"Monospace\" font-size=\"10.00\">0/0.29</text>\n",
       "</g>\n",
       "<!-- 0&#45;&gt;1 -->\n",
       "<g id=\"edge1\" class=\"edge\">\n",
       "<title>0&#45;&gt;1</title>\n",
       "<path fill=\"none\" stroke=\"black\" d=\"M27.19,-153.66C40.07,-158.91 60.33,-167.15 76.29,-173.65\"/>\n",
       "<polygon fill=\"black\" stroke=\"black\" points=\"76.24,-174.76 79.42,-174.92 77.03,-172.82 76.24,-174.76\"/>\n",
       "<text text-anchor=\"middle\" x=\"53\" y=\"-169.3\" font-family=\"Monospace\" font-size=\"9.00\">aa</text>\n",
       "</g>\n",
       "<!-- 2 -->\n",
       "<g id=\"node3\" class=\"node\">\n",
       "<title>2</title>\n",
       "<polygon fill=\"none\" stroke=\"black\" points=\"124,-157 79,-157 79,-140 124,-140 124,-157\"/>\n",
       "<text text-anchor=\"middle\" x=\"101.5\" y=\"-146\" font-family=\"Monospace\" font-size=\"10.00\">0/0.14</text>\n",
       "</g>\n",
       "<!-- 0&#45;&gt;2 -->\n",
       "<g id=\"edge2\" class=\"edge\">\n",
       "<title>0&#45;&gt;2</title>\n",
       "<path fill=\"none\" stroke=\"black\" d=\"M27.19,-148.5C39.89,-148.5 59.78,-148.5 75.63,-148.5\"/>\n",
       "<polygon fill=\"black\" stroke=\"black\" points=\"75.75,-149.55 78.75,-148.5 75.75,-147.45 75.75,-149.55\"/>\n",
       "<text text-anchor=\"middle\" x=\"53\" y=\"-151.3\" font-family=\"Monospace\" font-size=\"9.00\">aaa</text>\n",
       "</g>\n",
       "<!-- 3 -->\n",
       "<g id=\"node4\" class=\"node\">\n",
       "<title>3</title>\n",
       "<polygon fill=\"none\" stroke=\"black\" points=\"124,-106 79,-106 79,-89 124,-89 124,-106\"/>\n",
       "<text text-anchor=\"middle\" x=\"101.5\" y=\"-95\" font-family=\"Monospace\" font-size=\"10.00\">0/0.57</text>\n",
       "</g>\n",
       "<!-- 0&#45;&gt;3 -->\n",
       "<g id=\"edge3\" class=\"edge\">\n",
       "<title>0&#45;&gt;3</title>\n",
       "<path fill=\"none\" stroke=\"black\" d=\"M27.19,-140.97C42.03,-132.17 66.67,-117.56 83.24,-107.73\"/>\n",
       "<polygon fill=\"black\" stroke=\"black\" points=\"83.99,-108.51 86.03,-106.08 82.92,-106.71 83.99,-108.51\"/>\n",
       "<text text-anchor=\"middle\" x=\"53\" y=\"-131.3\" font-family=\"Monospace\" font-size=\"9.00\">a</text>\n",
       "</g>\n",
       "<!-- 17 -->\n",
       "<g id=\"node18\" class=\"node\">\n",
       "<title>17</title>\n",
       "<polygon fill=\"none\" stroke=\"black\" points=\"216,-227 171,-227 171,-210 216,-210 216,-227\"/>\n",
       "<text text-anchor=\"middle\" x=\"193.5\" y=\"-216\" font-family=\"Monospace\" font-size=\"10.00\">0/0.14</text>\n",
       "</g>\n",
       "<!-- 1&#45;&gt;17 -->\n",
       "<g id=\"edge17\" class=\"edge\">\n",
       "<title>1&#45;&gt;17</title>\n",
       "<path fill=\"none\" stroke=\"black\" d=\"M124.29,-191.97C137.44,-197.09 154.24,-203.62 167.88,-208.92\"/>\n",
       "<polygon fill=\"black\" stroke=\"black\" points=\"167.74,-210 170.91,-210.11 168.5,-208.04 167.74,-210\"/>\n",
       "<text text-anchor=\"middle\" x=\"147.5\" y=\"-205.3\" font-family=\"Monospace\" font-size=\"9.00\">#</text>\n",
       "</g>\n",
       "<!-- 18 -->\n",
       "<g id=\"node19\" class=\"node\">\n",
       "<title>18</title>\n",
       "<polygon fill=\"none\" stroke=\"black\" points=\"216,-192 171,-192 171,-175 216,-175 216,-192\"/>\n",
       "<text text-anchor=\"middle\" x=\"193.5\" y=\"-181\" font-family=\"Monospace\" font-size=\"10.00\">0/0.14</text>\n",
       "</g>\n",
       "<!-- 1&#45;&gt;18 -->\n",
       "<g id=\"edge18\" class=\"edge\">\n",
       "<title>1&#45;&gt;18</title>\n",
       "<path fill=\"none\" stroke=\"black\" d=\"M124.29,-183.5C137.44,-183.5 154.24,-183.5 167.88,-183.5\"/>\n",
       "<polygon fill=\"black\" stroke=\"black\" points=\"167.91,-184.55 170.91,-183.5 167.91,-182.45 167.91,-184.55\"/>\n",
       "<text text-anchor=\"middle\" x=\"147.5\" y=\"-186.3\" font-family=\"Monospace\" font-size=\"9.00\">a</text>\n",
       "</g>\n",
       "<!-- 15 -->\n",
       "<g id=\"node16\" class=\"node\">\n",
       "<title>15</title>\n",
       "<polygon fill=\"none\" stroke=\"black\" points=\"216,-157 171,-157 171,-140 216,-140 216,-157\"/>\n",
       "<text text-anchor=\"middle\" x=\"193.5\" y=\"-146\" font-family=\"Monospace\" font-size=\"10.00\">0/0.14</text>\n",
       "</g>\n",
       "<!-- 2&#45;&gt;15 -->\n",
       "<g id=\"edge15\" class=\"edge\">\n",
       "<title>2&#45;&gt;15</title>\n",
       "<path fill=\"none\" stroke=\"black\" d=\"M124.29,-148.5C137.44,-148.5 154.24,-148.5 167.88,-148.5\"/>\n",
       "<polygon fill=\"black\" stroke=\"black\" points=\"167.91,-149.55 170.91,-148.5 167.91,-147.45 167.91,-149.55\"/>\n",
       "<text text-anchor=\"middle\" x=\"147.5\" y=\"-151.3\" font-family=\"Monospace\" font-size=\"9.00\">#</text>\n",
       "</g>\n",
       "<!-- 4 -->\n",
       "<g id=\"node5\" class=\"node\">\n",
       "<title>4</title>\n",
       "<polygon fill=\"none\" stroke=\"black\" points=\"216,-122 171,-122 171,-105 216,-105 216,-122\"/>\n",
       "<text text-anchor=\"middle\" x=\"193.5\" y=\"-111\" font-family=\"Monospace\" font-size=\"10.00\">0/0.14</text>\n",
       "</g>\n",
       "<!-- 3&#45;&gt;4 -->\n",
       "<g id=\"edge4\" class=\"edge\">\n",
       "<title>3&#45;&gt;4</title>\n",
       "<path fill=\"none\" stroke=\"black\" d=\"M124.29,-101.37C137.44,-103.71 154.24,-106.7 167.88,-109.12\"/>\n",
       "<polygon fill=\"black\" stroke=\"black\" points=\"167.78,-110.17 170.91,-109.66 168.14,-108.1 167.78,-110.17\"/>\n",
       "<text text-anchor=\"middle\" x=\"147.5\" y=\"-108.3\" font-family=\"Monospace\" font-size=\"9.00\">#</text>\n",
       "</g>\n",
       "<!-- 5 -->\n",
       "<g id=\"node6\" class=\"node\">\n",
       "<title>5</title>\n",
       "<polygon fill=\"none\" stroke=\"black\" points=\"216,-87 171,-87 171,-70 216,-70 216,-87\"/>\n",
       "<text text-anchor=\"middle\" x=\"193.5\" y=\"-76\" font-family=\"Monospace\" font-size=\"10.00\">0/0.14</text>\n",
       "</g>\n",
       "<!-- 3&#45;&gt;5 -->\n",
       "<g id=\"edge5\" class=\"edge\">\n",
       "<title>3&#45;&gt;5</title>\n",
       "<path fill=\"none\" stroke=\"black\" d=\"M124.29,-92.9C137.44,-90.12 154.24,-86.58 167.88,-83.7\"/>\n",
       "<polygon fill=\"black\" stroke=\"black\" points=\"168.2,-84.7 170.91,-83.06 167.76,-82.65 168.2,-84.7\"/>\n",
       "<text text-anchor=\"middle\" x=\"147.5\" y=\"-91.3\" font-family=\"Monospace\" font-size=\"9.00\">aa</text>\n",
       "</g>\n",
       "<!-- 6 -->\n",
       "<g id=\"node7\" class=\"node\">\n",
       "<title>6</title>\n",
       "<polygon fill=\"none\" stroke=\"black\" points=\"216,-52 171,-52 171,-35 216,-35 216,-52\"/>\n",
       "<text text-anchor=\"middle\" x=\"193.5\" y=\"-41\" font-family=\"Monospace\" font-size=\"10.00\">0/0.29</text>\n",
       "</g>\n",
       "<!-- 3&#45;&gt;6 -->\n",
       "<g id=\"edge6\" class=\"edge\">\n",
       "<title>3&#45;&gt;6</title>\n",
       "<path fill=\"none\" stroke=\"black\" d=\"M115.94,-88.79C123.54,-83.92 133.24,-77.78 142,-72.5 152.51,-66.16 164.42,-59.31 174.02,-53.86\"/>\n",
       "<polygon fill=\"black\" stroke=\"black\" points=\"174.83,-54.61 176.93,-52.21 173.8,-52.78 174.83,-54.61\"/>\n",
       "<text text-anchor=\"middle\" x=\"147.5\" y=\"-75.3\" font-family=\"Monospace\" font-size=\"9.00\">a</text>\n",
       "</g>\n",
       "<!-- 14 -->\n",
       "<g id=\"node15\" class=\"node\">\n",
       "<title>14</title>\n",
       "<polygon fill=\"none\" stroke=\"black\" points=\"303,-122 258,-122 258,-105 303,-105 303,-122\"/>\n",
       "<text text-anchor=\"middle\" x=\"280.5\" y=\"-111\" font-family=\"Monospace\" font-size=\"10.00\">0/0.14</text>\n",
       "</g>\n",
       "<!-- 4&#45;&gt;14 -->\n",
       "<g id=\"edge14\" class=\"edge\">\n",
       "<title>4&#45;&gt;14</title>\n",
       "<path fill=\"none\" stroke=\"black\" d=\"M216.39,-113.5C228.18,-113.5 242.76,-113.5 254.94,-113.5\"/>\n",
       "<polygon fill=\"black\" stroke=\"black\" points=\"254.98,-114.55 257.98,-113.5 254.98,-112.45 254.98,-114.55\"/>\n",
       "<text text-anchor=\"middle\" x=\"237\" y=\"-116.3\" font-family=\"Monospace\" font-size=\"9.00\">▪</text>\n",
       "</g>\n",
       "<!-- 12 -->\n",
       "<g id=\"node13\" class=\"node\">\n",
       "<title>12</title>\n",
       "<polygon fill=\"none\" stroke=\"black\" points=\"303,-87 258,-87 258,-70 303,-70 303,-87\"/>\n",
       "<text text-anchor=\"middle\" x=\"280.5\" y=\"-76\" font-family=\"Monospace\" font-size=\"10.00\">0/0.14</text>\n",
       "</g>\n",
       "<!-- 5&#45;&gt;12 -->\n",
       "<g id=\"edge12\" class=\"edge\">\n",
       "<title>5&#45;&gt;12</title>\n",
       "<path fill=\"none\" stroke=\"black\" d=\"M216.39,-78.5C228.18,-78.5 242.76,-78.5 254.94,-78.5\"/>\n",
       "<polygon fill=\"black\" stroke=\"black\" points=\"254.98,-79.55 257.98,-78.5 254.98,-77.45 254.98,-79.55\"/>\n",
       "<text text-anchor=\"middle\" x=\"237\" y=\"-81.3\" font-family=\"Monospace\" font-size=\"9.00\">#</text>\n",
       "</g>\n",
       "<!-- 7 -->\n",
       "<g id=\"node8\" class=\"node\">\n",
       "<title>7</title>\n",
       "<polygon fill=\"none\" stroke=\"black\" points=\"303,-52 258,-52 258,-35 303,-35 303,-52\"/>\n",
       "<text text-anchor=\"middle\" x=\"280.5\" y=\"-41\" font-family=\"Monospace\" font-size=\"10.00\">0/0.14</text>\n",
       "</g>\n",
       "<!-- 6&#45;&gt;7 -->\n",
       "<g id=\"edge7\" class=\"edge\">\n",
       "<title>6&#45;&gt;7</title>\n",
       "<path fill=\"none\" stroke=\"black\" d=\"M216.39,-43.5C228.18,-43.5 242.76,-43.5 254.94,-43.5\"/>\n",
       "<polygon fill=\"black\" stroke=\"black\" points=\"254.98,-44.55 257.98,-43.5 254.98,-42.45 254.98,-44.55\"/>\n",
       "<text text-anchor=\"middle\" x=\"237\" y=\"-46.3\" font-family=\"Monospace\" font-size=\"9.00\">#</text>\n",
       "</g>\n",
       "<!-- 8 -->\n",
       "<g id=\"node9\" class=\"node\">\n",
       "<title>8</title>\n",
       "<polygon fill=\"none\" stroke=\"black\" points=\"303,-17 258,-17 258,0 303,0 303,-17\"/>\n",
       "<text text-anchor=\"middle\" x=\"280.5\" y=\"-6\" font-family=\"Monospace\" font-size=\"10.00\">0/0.14</text>\n",
       "</g>\n",
       "<!-- 6&#45;&gt;8 -->\n",
       "<g id=\"edge8\" class=\"edge\">\n",
       "<title>6&#45;&gt;8</title>\n",
       "<path fill=\"none\" stroke=\"black\" d=\"M215.51,-34.85C227.76,-29.8 243.24,-23.43 255.91,-18.21\"/>\n",
       "<polygon fill=\"black\" stroke=\"black\" points=\"256.36,-19.17 258.73,-17.05 255.56,-17.22 256.36,-19.17\"/>\n",
       "<text text-anchor=\"middle\" x=\"237\" y=\"-29.3\" font-family=\"Monospace\" font-size=\"9.00\">a</text>\n",
       "</g>\n",
       "<!-- 11 -->\n",
       "<g id=\"node12\" class=\"node\">\n",
       "<title>11</title>\n",
       "<polygon fill=\"none\" stroke=\"black\" points=\"390,-52 345,-52 345,-35 390,-35 390,-52\"/>\n",
       "<text text-anchor=\"middle\" x=\"367.5\" y=\"-41\" font-family=\"Monospace\" font-size=\"10.00\">0/0.14</text>\n",
       "</g>\n",
       "<!-- 7&#45;&gt;11 -->\n",
       "<g id=\"edge11\" class=\"edge\">\n",
       "<title>7&#45;&gt;11</title>\n",
       "<path fill=\"none\" stroke=\"black\" d=\"M303.39,-43.5C315.18,-43.5 329.76,-43.5 341.94,-43.5\"/>\n",
       "<polygon fill=\"black\" stroke=\"black\" points=\"341.98,-44.55 344.98,-43.5 341.98,-42.45 341.98,-44.55\"/>\n",
       "<text text-anchor=\"middle\" x=\"324\" y=\"-46.3\" font-family=\"Monospace\" font-size=\"9.00\">▪</text>\n",
       "</g>\n",
       "<!-- 9 -->\n",
       "<g id=\"node10\" class=\"node\">\n",
       "<title>9</title>\n",
       "<polygon fill=\"none\" stroke=\"black\" points=\"390,-17 345,-17 345,0 390,0 390,-17\"/>\n",
       "<text text-anchor=\"middle\" x=\"367.5\" y=\"-6\" font-family=\"Monospace\" font-size=\"10.00\">0/0.14</text>\n",
       "</g>\n",
       "<!-- 8&#45;&gt;9 -->\n",
       "<g id=\"edge9\" class=\"edge\">\n",
       "<title>8&#45;&gt;9</title>\n",
       "<path fill=\"none\" stroke=\"black\" d=\"M303.39,-8.5C315.18,-8.5 329.76,-8.5 341.94,-8.5\"/>\n",
       "<polygon fill=\"black\" stroke=\"black\" points=\"341.98,-9.55 344.98,-8.5 341.98,-7.45 341.98,-9.55\"/>\n",
       "<text text-anchor=\"middle\" x=\"324\" y=\"-11.3\" font-family=\"Monospace\" font-size=\"9.00\">#</text>\n",
       "</g>\n",
       "<!-- 10 -->\n",
       "<g id=\"node11\" class=\"node\">\n",
       "<title>10</title>\n",
       "<polygon fill=\"none\" stroke=\"black\" points=\"477,-17 432,-17 432,0 477,0 477,-17\"/>\n",
       "<text text-anchor=\"middle\" x=\"454.5\" y=\"-6\" font-family=\"Monospace\" font-size=\"10.00\">0/0.14</text>\n",
       "</g>\n",
       "<!-- 9&#45;&gt;10 -->\n",
       "<g id=\"edge10\" class=\"edge\">\n",
       "<title>9&#45;&gt;10</title>\n",
       "<path fill=\"none\" stroke=\"black\" d=\"M390.39,-8.5C402.18,-8.5 416.76,-8.5 428.94,-8.5\"/>\n",
       "<polygon fill=\"black\" stroke=\"black\" points=\"428.98,-9.55 431.98,-8.5 428.98,-7.45 428.98,-9.55\"/>\n",
       "<text text-anchor=\"middle\" x=\"411\" y=\"-11.3\" font-family=\"Monospace\" font-size=\"9.00\">▪</text>\n",
       "</g>\n",
       "<!-- 13 -->\n",
       "<g id=\"node14\" class=\"node\">\n",
       "<title>13</title>\n",
       "<polygon fill=\"none\" stroke=\"black\" points=\"390,-87 345,-87 345,-70 390,-70 390,-87\"/>\n",
       "<text text-anchor=\"middle\" x=\"367.5\" y=\"-76\" font-family=\"Monospace\" font-size=\"10.00\">0/0.14</text>\n",
       "</g>\n",
       "<!-- 12&#45;&gt;13 -->\n",
       "<g id=\"edge13\" class=\"edge\">\n",
       "<title>12&#45;&gt;13</title>\n",
       "<path fill=\"none\" stroke=\"black\" d=\"M303.39,-78.5C315.18,-78.5 329.76,-78.5 341.94,-78.5\"/>\n",
       "<polygon fill=\"black\" stroke=\"black\" points=\"341.98,-79.55 344.98,-78.5 341.98,-77.45 341.98,-79.55\"/>\n",
       "<text text-anchor=\"middle\" x=\"324\" y=\"-81.3\" font-family=\"Monospace\" font-size=\"9.00\">▪</text>\n",
       "</g>\n",
       "<!-- 16 -->\n",
       "<g id=\"node17\" class=\"node\">\n",
       "<title>16</title>\n",
       "<polygon fill=\"none\" stroke=\"black\" points=\"303,-157 258,-157 258,-140 303,-140 303,-157\"/>\n",
       "<text text-anchor=\"middle\" x=\"280.5\" y=\"-146\" font-family=\"Monospace\" font-size=\"10.00\">0/0.14</text>\n",
       "</g>\n",
       "<!-- 15&#45;&gt;16 -->\n",
       "<g id=\"edge16\" class=\"edge\">\n",
       "<title>15&#45;&gt;16</title>\n",
       "<path fill=\"none\" stroke=\"black\" d=\"M216.39,-148.5C228.18,-148.5 242.76,-148.5 254.94,-148.5\"/>\n",
       "<polygon fill=\"black\" stroke=\"black\" points=\"254.98,-149.55 257.98,-148.5 254.98,-147.45 254.98,-149.55\"/>\n",
       "<text text-anchor=\"middle\" x=\"237\" y=\"-151.3\" font-family=\"Monospace\" font-size=\"9.00\">▪</text>\n",
       "</g>\n",
       "<!-- 21 -->\n",
       "<g id=\"node22\" class=\"node\">\n",
       "<title>21</title>\n",
       "<polygon fill=\"none\" stroke=\"black\" points=\"303,-227 258,-227 258,-210 303,-210 303,-227\"/>\n",
       "<text text-anchor=\"middle\" x=\"280.5\" y=\"-216\" font-family=\"Monospace\" font-size=\"10.00\">0/0.14</text>\n",
       "</g>\n",
       "<!-- 17&#45;&gt;21 -->\n",
       "<g id=\"edge21\" class=\"edge\">\n",
       "<title>17&#45;&gt;21</title>\n",
       "<path fill=\"none\" stroke=\"black\" d=\"M216.39,-218.5C228.18,-218.5 242.76,-218.5 254.94,-218.5\"/>\n",
       "<polygon fill=\"black\" stroke=\"black\" points=\"254.98,-219.55 257.98,-218.5 254.98,-217.45 254.98,-219.55\"/>\n",
       "<text text-anchor=\"middle\" x=\"237\" y=\"-221.3\" font-family=\"Monospace\" font-size=\"9.00\">▪</text>\n",
       "</g>\n",
       "<!-- 19 -->\n",
       "<g id=\"node20\" class=\"node\">\n",
       "<title>19</title>\n",
       "<polygon fill=\"none\" stroke=\"black\" points=\"303,-192 258,-192 258,-175 303,-175 303,-192\"/>\n",
       "<text text-anchor=\"middle\" x=\"280.5\" y=\"-181\" font-family=\"Monospace\" font-size=\"10.00\">0/0.14</text>\n",
       "</g>\n",
       "<!-- 18&#45;&gt;19 -->\n",
       "<g id=\"edge19\" class=\"edge\">\n",
       "<title>18&#45;&gt;19</title>\n",
       "<path fill=\"none\" stroke=\"black\" d=\"M216.39,-183.5C228.18,-183.5 242.76,-183.5 254.94,-183.5\"/>\n",
       "<polygon fill=\"black\" stroke=\"black\" points=\"254.98,-184.55 257.98,-183.5 254.98,-182.45 254.98,-184.55\"/>\n",
       "<text text-anchor=\"middle\" x=\"237\" y=\"-186.3\" font-family=\"Monospace\" font-size=\"9.00\">#</text>\n",
       "</g>\n",
       "<!-- 20 -->\n",
       "<g id=\"node21\" class=\"node\">\n",
       "<title>20</title>\n",
       "<polygon fill=\"none\" stroke=\"black\" points=\"390,-192 345,-192 345,-175 390,-175 390,-192\"/>\n",
       "<text text-anchor=\"middle\" x=\"367.5\" y=\"-181\" font-family=\"Monospace\" font-size=\"10.00\">0/0.14</text>\n",
       "</g>\n",
       "<!-- 19&#45;&gt;20 -->\n",
       "<g id=\"edge20\" class=\"edge\">\n",
       "<title>19&#45;&gt;20</title>\n",
       "<path fill=\"none\" stroke=\"black\" d=\"M303.39,-183.5C315.18,-183.5 329.76,-183.5 341.94,-183.5\"/>\n",
       "<polygon fill=\"black\" stroke=\"black\" points=\"341.98,-184.55 344.98,-183.5 341.98,-182.45 341.98,-184.55\"/>\n",
       "<text text-anchor=\"middle\" x=\"324\" y=\"-186.3\" font-family=\"Monospace\" font-size=\"9.00\">▪</text>\n",
       "</g>\n",
       "</g>\n",
       "</svg>\n",
       "</td> </tr></table>"
      ],
      "text/plain": [
       "<IPython.core.display.HTML object>"
      ]
     },
     "metadata": {},
     "output_type": "display_data"
    }
   ],
   "source": [
    "display_table([generation_tree(b_lm)])"
   ]
  },
  {
   "cell_type": "code",
   "execution_count": 70,
   "id": "58c7eee2-4785-4000-b3de-53a592661d05",
   "metadata": {},
   "outputs": [],
   "source": [
    "PL = L.project(lambda y: ''.join(y).strip(EOS))"
   ]
  },
  {
   "cell_type": "code",
   "execution_count": 71,
   "id": "25465c7e-124f-4fbd-a33a-6da3db9ee1d9",
   "metadata": {},
   "outputs": [
    {
     "data": {
      "text/html": [
       "<table><tr style=\"font-weight: bold;\"><td>target</td><td>composition</td><td>grafting-approximation</td></tr><tr><td><div style=\"font-family: Monospace;\"><table><tr style=\"font-weight: bold;\"><td>key</td><td>value</td></tr><tr><td><pre>a#</pre></td><td><pre>0.3333333333333333</pre></td> </tr><tr><td><pre>aa#</pre></td><td><pre>0.3333333333333333</pre></td> </tr><tr><td><pre>aaa#</pre></td><td><pre>0.3333333333333333</pre></td> </tr></table></div></td><td><div style=\"font-family: Monospace;\"><table><tr style=\"font-weight: bold;\"><td>key</td><td>value</td></tr><tr><td><pre>a#</pre></td><td><pre>0.14438502673796794</pre></td> </tr><tr><td><pre>aa#</pre></td><td><pre>0.32085561497326204</pre></td> </tr><tr><td><pre>aaa#</pre></td><td><pre>0.5347593582887701</pre></td> </tr></table></div></td><td><div style=\"font-family: Monospace;\"><table><tr style=\"font-weight: bold;\"><td>key</td><td>value</td></tr><tr><td><pre>a#</pre></td><td><pre>0.14285714285714288</pre></td> </tr><tr><td><pre>aa#</pre></td><td><pre>0.28571428571428575</pre></td> </tr><tr><td><pre>aaa#</pre></td><td><pre>0.5714285714285715</pre></td> </tr></table></div></td> </tr></table>"
      ],
      "text/plain": [
       "<IPython.core.display.HTML object>"
      ]
     },
     "metadata": {},
     "output_type": "display_data"
    }
   ],
   "source": [
    "display_table([[C.project(''.join), A, PL]], headings=['target', 'composition', 'grafting-approximation'])"
   ]
  },
  {
   "cell_type": "code",
   "execution_count": null,
   "id": "3e6501ac-ad5a-40e3-bd55-340a4d079718",
   "metadata": {},
   "outputs": [],
   "source": []
  }
 ],
 "metadata": {
  "kernelspec": {
   "display_name": "Python 3 (ipykernel)",
   "language": "python",
   "name": "python3"
  },
  "language_info": {
   "codemirror_mode": {
    "name": "ipython",
    "version": 3
   },
   "file_extension": ".py",
   "mimetype": "text/x-python",
   "name": "python",
   "nbconvert_exporter": "python",
   "pygments_lexer": "ipython3",
   "version": "3.10.12"
  }
 },
 "nbformat": 4,
 "nbformat_minor": 5
}
