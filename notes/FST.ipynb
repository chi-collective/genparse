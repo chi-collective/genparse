{
 "cells": [
  {
   "cell_type": "code",
   "execution_count": null,
   "id": "c989a28a-3ac9-4777-a56c-6d020f61eee7",
   "metadata": {},
   "outputs": [],
   "source": [
    "from genparse.fst import FST, EPSILON\n",
    "from genparse import Float\n",
    "from genparse.util import LarkStuff, bpe_wfst\n",
    "from arsenal import iterview\n",
    "from collections import Counter"
   ]
  },
  {
   "cell_type": "code",
   "execution_count": null,
   "id": "66dddc70-9ccd-4e03-9135-8461fb0c831b",
   "metadata": {},
   "outputs": [],
   "source": [
    "from transformers import AutoTokenizer\n",
    "tokenizer = AutoTokenizer.from_pretrained('gpt2')\n",
    "print(f'token vocabulary size: {tokenizer.vocab_size}')\n",
    "T = [(token_id, tokenizer.decode([token_id])) for token_id in range(tokenizer.vocab_size)]"
   ]
  },
  {
   "cell_type": "code",
   "execution_count": null,
   "id": "0e9dd785-cdbe-42bf-b015-a1765b338200",
   "metadata": {},
   "outputs": [],
   "source": [
    "import random\n",
    "random.seed(8675309)\n",
    "#S = random.sample(T, 1000)\n",
    "S = T"
   ]
  },
  {
   "cell_type": "code",
   "execution_count": null,
   "id": "3113a7ae-ea16-4b18-9612-70b4fdcee7b2",
   "metadata": {},
   "outputs": [],
   "source": [
    "b2c = bpe_wfst(S).renumber\n",
    "len(b2c.states)"
   ]
  },
  {
   "cell_type": "code",
   "execution_count": null,
   "id": "822277b4-4f0f-43a2-8783-e6a5831109a2",
   "metadata": {},
   "outputs": [],
   "source": [
    "b = tokenizer.encode('SELECT * FROM data')\n",
    "b"
   ]
  },
  {
   "cell_type": "code",
   "execution_count": null,
   "id": "5216aedf-3635-4d98-8945-8b4bbcd2b89d",
   "metadata": {},
   "outputs": [],
   "source": [
    "FST.from_string(tuple(b), Float) @ b2c"
   ]
  },
  {
   "cell_type": "code",
   "execution_count": null,
   "id": "3cd29a5c-4b4a-4d65-b3e5-f4375b607fdb",
   "metadata": {},
   "outputs": [],
   "source": []
  },
  {
   "cell_type": "code",
   "execution_count": null,
   "id": "a2956b6b-619e-46bd-9982-5378b1d4867d",
   "metadata": {},
   "outputs": [],
   "source": [
    "lark_stuff = LarkStuff(r\"\"\"\n",
    "\n",
    "start: [ KEYWORD | INTEGER | STAR | NAME | BOOLEAN | WS ] EOS\n",
    "\n",
    "EOS: \"</s>\"\n",
    "NAME: /[A-Za-z]+/\n",
    "KEYWORD: \"SELECT\" | \"WHERE\" | \"FROM\"\n",
    "INTEGER: /[1-9][0-9]*/\n",
    "BOOLEAN: \"true\"  | \"false\"\n",
    "STAR: \"*\"\n",
    "WS: /\\s+/\n",
    "\n",
    "\"\"\")\n",
    "\n",
    "c2t = lark_stuff.transducer(ignore='')"
   ]
  },
  {
   "cell_type": "code",
   "execution_count": null,
   "id": "66d6c579-db6c-4af7-a936-5fb85f7080f2",
   "metadata": {},
   "outputs": [],
   "source": [
    "x = 'Thicken purple secret warehouse'\n",
    "c = FST.from_string(x, Float).renumber"
   ]
  },
  {
   "cell_type": "code",
   "execution_count": null,
   "id": "c07ded09-9b1f-40b1-a315-a3f097b1a2c5",
   "metadata": {},
   "outputs": [],
   "source": [
    "#c"
   ]
  },
  {
   "cell_type": "code",
   "execution_count": null,
   "id": "548d9f46-e7f0-4ed5-a43a-bb4601431881",
   "metadata": {},
   "outputs": [],
   "source": [
    "tokenizer.encode(x)"
   ]
  },
  {
   "cell_type": "code",
   "execution_count": null,
   "id": "fe62bd93-aaf8-44bc-8cc2-55f1c6cb3c11",
   "metadata": {},
   "outputs": [],
   "source": []
  },
  {
   "cell_type": "code",
   "execution_count": null,
   "id": "2903eea1-6fc7-4d51-9de5-4a680f90eda9",
   "metadata": {},
   "outputs": [],
   "source": [
    "FST.from_pairs([\n",
    "    ('aaaaa', 'bb'),\n",
    "    ('a', 'ccc'),\n",
    "    ('', 'empty'),\n",
    "    ('nonempty', ''),\n",
    "], Float)"
   ]
  },
  {
   "cell_type": "code",
   "execution_count": null,
   "id": "2d63588b-74f9-47b3-a2bc-4e40d7b4a9c9",
   "metadata": {},
   "outputs": [],
   "source": []
  },
  {
   "cell_type": "code",
   "execution_count": null,
   "id": "f6858467-fcee-4c78-ab6b-55aaac677588",
   "metadata": {},
   "outputs": [],
   "source": []
  },
  {
   "cell_type": "code",
   "execution_count": null,
   "id": "d2e4161d-ff90-4f1f-844d-71a1be43df0b",
   "metadata": {},
   "outputs": [],
   "source": [
    "def bpe2term_approx(bpe):\n",
    "    \n",
    "    # approximate the transducer using a single canonical path;\n",
    "    # UPDATE: the unpruned answer should match this - it's the uncertainty over bpe that's tricky\n",
    "    c = tuple(([b], tokenizer.decode([b])) for b in bpe)\n",
    "    print(c)\n",
    "    tmp = FST.from_pairs([([], '')], Float)\n",
    "    for pair in c:\n",
    "        tmp = tmp * FST.from_pairs([pair], Float)\n",
    "        \n",
    "    return tmp\n",
    "    # TODO: approximate this transducer by a canonical path\n",
    "#    return c2t(c, None).trim.epsremove.trim"
   ]
  },
  {
   "cell_type": "code",
   "execution_count": null,
   "id": "400781da-3fcd-49ac-b2b7-314188e4af95",
   "metadata": {},
   "outputs": [],
   "source": [
    "t = bpe2term_approx(tokenizer.encode('SELECT * FROM data'))\n",
    "t"
   ]
  },
  {
   "cell_type": "code",
   "execution_count": null,
   "id": "e5c7a3bd-2e09-4724-b539-cf31bd9b5fbb",
   "metadata": {},
   "outputs": [],
   "source": [
    "t.epsremove.trim"
   ]
  },
  {
   "cell_type": "code",
   "execution_count": null,
   "id": "819e6f5a-ed40-4400-8e88-9bfabc6b62d4",
   "metadata": {},
   "outputs": [],
   "source": [
    "FST.from_string(tuple(b), Float) @ b2c"
   ]
  },
  {
   "cell_type": "code",
   "execution_count": null,
   "id": "4aa4c6f1-1e35-41e6-9c03-061912378d70",
   "metadata": {},
   "outputs": [],
   "source": []
  },
  {
   "cell_type": "code",
   "execution_count": null,
   "id": "0d4ea59e-84a5-4e8a-bb2d-c84c0ef19c30",
   "metadata": {},
   "outputs": [],
   "source": [
    "#t.to_cfg().cnf.language(50)"
   ]
  },
  {
   "cell_type": "code",
   "execution_count": null,
   "id": "304ddeb3-00fa-47b4-9c61-873e1cc8f9a9",
   "metadata": {},
   "outputs": [],
   "source": []
  },
  {
   "cell_type": "code",
   "execution_count": null,
   "id": "42f5f242-7a9e-41e0-b033-291aa3d1aa12",
   "metadata": {},
   "outputs": [],
   "source": [
    "e = b2c @ c"
   ]
  },
  {
   "cell_type": "code",
   "execution_count": null,
   "id": "6b3329c4-c9aa-4e6e-b127-8e20797d9dd7",
   "metadata": {},
   "outputs": [],
   "source": [
    "def about(m):\n",
    "    print(f\"states: {len(e.states)}, trim: {len(e.trim.states)} (access: {len(e.accessible())} co-access: {len(e.co_accessible())})\")"
   ]
  },
  {
   "cell_type": "code",
   "execution_count": null,
   "id": "40db7a14-49c4-4d10-8e2a-ad82ce1a0e03",
   "metadata": {},
   "outputs": [],
   "source": [
    "about(e)"
   ]
  },
  {
   "cell_type": "code",
   "execution_count": null,
   "id": "e657666a-970e-43c7-a007-066955dc3bb5",
   "metadata": {},
   "outputs": [],
   "source": [
    "e.trim"
   ]
  },
  {
   "cell_type": "code",
   "execution_count": null,
   "id": "c3f4e86d-dac3-4566-ac5f-540def8230de",
   "metadata": {},
   "outputs": [],
   "source": [
    "#e.trim.renumber.to_cfg().trim().cnf.language(55)"
   ]
  },
  {
   "cell_type": "code",
   "execution_count": null,
   "id": "11d3a0c5-be50-4133-875f-82267899df66",
   "metadata": {},
   "outputs": [],
   "source": [
    "e.trim.renumber.project(0).epsremove.trim"
   ]
  },
  {
   "cell_type": "code",
   "execution_count": null,
   "id": "ce1eb8f3-fe00-4d64-8111-5f982175c02d",
   "metadata": {},
   "outputs": [],
   "source": [
    "e.trim.renumber.project(0).epsremove.trim.to_cfg().trim().cnf.language(6)"
   ]
  },
  {
   "cell_type": "code",
   "execution_count": null,
   "id": "75433ce2-e823-441d-a864-9157ed6cf5fa",
   "metadata": {},
   "outputs": [],
   "source": []
  },
  {
   "cell_type": "code",
   "execution_count": null,
   "id": "965e487d-8a87-42e4-a0f9-5312d45cf5a3",
   "metadata": {},
   "outputs": [],
   "source": []
  },
  {
   "cell_type": "code",
   "execution_count": null,
   "id": "8582eeee-6540-4cc1-aa77-2c6e9440a28b",
   "metadata": {},
   "outputs": [],
   "source": []
  },
  {
   "cell_type": "code",
   "execution_count": null,
   "id": "d074be39-6a08-4b66-a325-8b458256afad",
   "metadata": {},
   "outputs": [],
   "source": []
  },
  {
   "cell_type": "code",
   "execution_count": null,
   "id": "3b3042f1-4934-4140-ab1c-0c55a38d239d",
   "metadata": {},
   "outputs": [],
   "source": [
    "#tmp = c2t('SELECT', None).trim.epsremove.trim\n",
    "#tmp"
   ]
  },
  {
   "cell_type": "code",
   "execution_count": null,
   "id": "4d0ac67c-2d56-482a-920a-cf464ae4c190",
   "metadata": {},
   "outputs": [],
   "source": [
    "#tmp = c2t('SELECT\\n\\t\\r FROM 1 2', None).trim.epsremove.trim#.min\n",
    "#tmp"
   ]
  },
  {
   "cell_type": "code",
   "execution_count": null,
   "id": "d9242d89-80a9-4281-b11e-9479caa2b84f",
   "metadata": {},
   "outputs": [],
   "source": [
    "#tmp = c2t('SELECT\\nFROM', ('KEYWORD', 'KEYWORD'))\n",
    "#tmp"
   ]
  },
  {
   "cell_type": "code",
   "execution_count": null,
   "id": "f55d515f-705f-4139-8a78-9f81c3274ecc",
   "metadata": {},
   "outputs": [],
   "source": []
  },
  {
   "cell_type": "code",
   "execution_count": null,
   "id": "3a475d2c-152d-4bd3-92f7-be272f293916",
   "metadata": {},
   "outputs": [],
   "source": [
    "# random.seed(8675309)\n",
    "# bpe_small = random.sample(T, 10)\n",
    "# b2c_small = bpe_wfst(bpe_small).renumber\n",
    "# len(b2c_small.states)"
   ]
  },
  {
   "cell_type": "code",
   "execution_count": null,
   "id": "2e144e57-6ea4-4620-a50b-072142c8da81",
   "metadata": {},
   "outputs": [],
   "source": [
    "#bpe_small"
   ]
  },
  {
   "cell_type": "code",
   "execution_count": null,
   "id": "4f7e96cd-e314-446d-836e-cfee1a277cd5",
   "metadata": {},
   "outputs": [],
   "source": [
    "#b2c_small"
   ]
  },
  {
   "cell_type": "code",
   "execution_count": null,
   "id": "2ffa159a-5073-43db-af62-8700cac2c452",
   "metadata": {},
   "outputs": [],
   "source": []
  },
  {
   "cell_type": "code",
   "execution_count": null,
   "id": "a9eb4171-ff0c-482f-b781-517486e1f2f8",
   "metadata": {},
   "outputs": [],
   "source": [
    "#c = FST.from_string('zon ankles Turtles purple', Float).renumber"
   ]
  },
  {
   "cell_type": "code",
   "execution_count": null,
   "id": "f8348fba-c2ce-428e-a1af-b66e8745763d",
   "metadata": {},
   "outputs": [],
   "source": [
    "#len((b2c_small @ c).states), len((b2c_small @ c).trim.states)"
   ]
  },
  {
   "cell_type": "code",
   "execution_count": null,
   "id": "6135607e-a15c-4713-ae25-3d9567c7e9dd",
   "metadata": {},
   "outputs": [],
   "source": [
    "#(b2c_small @ c).trim"
   ]
  },
  {
   "cell_type": "code",
   "execution_count": null,
   "id": "19d7330a-1198-4df9-b8dc-83337525a727",
   "metadata": {},
   "outputs": [],
   "source": [
    "# N = lambda x: abs(hash(x)) % 3\n",
    "# A = lambda x: abs(hash(x)) % 2\n",
    "# B = lambda x: abs(hash(x)) % 7\n",
    "\n",
    "# bbb = b2c_small.coarsen(N, A, B)\n",
    "# ccc = c.coarsen(N = lambda x: abs(hash(x)) % 5, A = B, B = B)"
   ]
  },
  {
   "cell_type": "code",
   "execution_count": null,
   "id": "e7ef98e1-35eb-49f5-a2fd-fe7adbe831a4",
   "metadata": {},
   "outputs": [],
   "source": [
    "#bbb"
   ]
  },
  {
   "cell_type": "code",
   "execution_count": null,
   "id": "88788ce8-8a80-41af-8fe0-a7ed7c6784d1",
   "metadata": {},
   "outputs": [],
   "source": [
    "#ccc"
   ]
  },
  {
   "cell_type": "code",
   "execution_count": null,
   "id": "c9659ac2-ca1c-42a7-ab62-adb6a9d17df0",
   "metadata": {},
   "outputs": [],
   "source": []
  },
  {
   "cell_type": "code",
   "execution_count": null,
   "id": "e8d277dc-cfa4-4b60-ae20-2033fdf9d567",
   "metadata": {},
   "outputs": [],
   "source": [
    "#monster = b2c @ c2t"
   ]
  },
  {
   "cell_type": "code",
   "execution_count": null,
   "id": "5777a0a1-0f5a-4d5b-b923-c9e6245d6a45",
   "metadata": {},
   "outputs": [],
   "source": [
    "#len(monster.states), len(monster.trim.states)"
   ]
  },
  {
   "cell_type": "code",
   "execution_count": null,
   "id": "0a09b1f4-9e43-4899-a29e-ac9d24cfe1fb",
   "metadata": {},
   "outputs": [],
   "source": [
    "#monster_baby = FST.from_string((5188,), Float).renumber @ monster "
   ]
  },
  {
   "cell_type": "code",
   "execution_count": null,
   "id": "cdf203fe-05f2-499f-b4f9-e571fdd2f197",
   "metadata": {},
   "outputs": [],
   "source": [
    "#len(monster_baby.states), len(monster_baby.trim.states)"
   ]
  },
  {
   "cell_type": "code",
   "execution_count": null,
   "id": "c685613b-0392-44ac-8d9b-b3a8a47df7e8",
   "metadata": {},
   "outputs": [],
   "source": []
  },
  {
   "cell_type": "code",
   "execution_count": null,
   "id": "5dbd4e5c-f601-4127-afd3-ba0bc33715fa",
   "metadata": {},
   "outputs": [],
   "source": [
    "x = 'SELECT * FROM data'"
   ]
  },
  {
   "cell_type": "code",
   "execution_count": null,
   "id": "c6980512-92f9-4b62-8761-5e00838e89ac",
   "metadata": {},
   "outputs": [],
   "source": [
    "c = FST.from_string(x, Float).renumber\n",
    "c"
   ]
  },
  {
   "cell_type": "code",
   "execution_count": null,
   "id": "c792a242-3346-4e27-ae4a-81bb4a9cde52",
   "metadata": {},
   "outputs": [],
   "source": [
    "query = b2c @ c"
   ]
  },
  {
   "cell_type": "code",
   "execution_count": null,
   "id": "0b9aa4aa-3a87-4d10-86a5-74c5a02cf6d7",
   "metadata": {},
   "outputs": [],
   "source": [
    "query.trim"
   ]
  },
  {
   "cell_type": "code",
   "execution_count": null,
   "id": "142d3e48-d945-45f9-8a7a-cb739d93494a",
   "metadata": {},
   "outputs": [],
   "source": [
    "len(query.states), len(query.trim.states)"
   ]
  },
  {
   "cell_type": "code",
   "execution_count": null,
   "id": "12c7b308-c0b4-411c-8bec-a2617a6a0f32",
   "metadata": {},
   "outputs": [],
   "source": [
    "terminals = (c @ lark_stuff.transducer()).trim\n",
    "terminals"
   ]
  },
  {
   "cell_type": "code",
   "execution_count": null,
   "id": "35827add-dec0-48d5-be71-5bbd61480887",
   "metadata": {},
   "outputs": [],
   "source": [
    "list(lark_stuff.lex(x))"
   ]
  },
  {
   "cell_type": "code",
   "execution_count": null,
   "id": "34d69307-7ec8-4d45-a5b8-a88f307d8b8e",
   "metadata": {},
   "outputs": [],
   "source": [
    "bpe2terminal = query.trim @ terminals"
   ]
  },
  {
   "cell_type": "code",
   "execution_count": null,
   "id": "58406814-5d91-49ad-9eea-c7e3d629cd30",
   "metadata": {},
   "outputs": [],
   "source": [
    "len(bpe2terminal.states), len(bpe2terminal.trim.states)"
   ]
  },
  {
   "cell_type": "code",
   "execution_count": null,
   "id": "fca7577e-0ea6-455d-b788-82dbde0eac77",
   "metadata": {},
   "outputs": [],
   "source": [
    "bpe2terminal.trim"
   ]
  },
  {
   "cell_type": "code",
   "execution_count": null,
   "id": "45add727-d4d9-418b-bf92-b7e782f23703",
   "metadata": {},
   "outputs": [],
   "source": []
  }
 ],
 "metadata": {
  "kernelspec": {
   "display_name": "Python 3 (ipykernel)",
   "language": "python",
   "name": "python3"
  },
  "language_info": {
   "codemirror_mode": {
    "name": "ipython",
    "version": 3
   },
   "file_extension": ".py",
   "mimetype": "text/x-python",
   "name": "python",
   "nbconvert_exporter": "python",
   "pygments_lexer": "ipython3",
   "version": "3.10.12"
  }
 },
 "nbformat": 4,
 "nbformat_minor": 5
}
