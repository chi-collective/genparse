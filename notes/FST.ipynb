{
 "cells": [
  {
   "cell_type": "markdown",
   "id": "d2d8769c-975b-4ca8-a4ba-5d7ca9dec447",
   "metadata": {},
   "source": [
    "# Token Alignment"
   ]
  },
  {
   "cell_type": "code",
   "execution_count": 4,
   "id": "ac172e17-65d6-4359-9aea-a0444b1020c8",
   "metadata": {},
   "outputs": [],
   "source": [
    "%load_ext autoreload\n",
    "%autoreload 2"
   ]
  },
  {
   "cell_type": "code",
   "execution_count": 5,
   "id": "c989a28a-3ac9-4777-a56c-6d020f61eee7",
   "metadata": {},
   "outputs": [],
   "source": [
    "from genparse import CFG, FST, EPSILON, Float, CFGLM, add_EOS, prefix_transducer\n",
    "from genparse.cfglm import locally_normalize\n",
    "from genparse.util import LarkStuff, hf_tokenizer\n",
    "from arsenal import iterview, timeit\n",
    "from collections import Counter\n",
    "from mockup import about, bpe2term_approx, show_grammar\n",
    "from original_prefix_grammar import PrefixGrammar"
   ]
  },
  {
   "cell_type": "code",
   "execution_count": 155,
   "id": "c84e285f-399d-48d1-bc66-2739a1398289",
   "metadata": {},
   "outputs": [],
   "source": [
    "lark_stuff = LarkStuff(r\"\"\"\n",
    "\n",
    "start: NAME\n",
    "\n",
    "NAME: /(a|b)*c/\n",
    "\n",
    "\"\"\")\n",
    "\n",
    "cfg = lark_stuff.convert().renumber()\n",
    "c2t = lark_stuff.transducer(ignore='', decay=.52).renumber.trim\n",
    "cfg_t = (c2t @ cfg).trim()"
   ]
  },
  {
   "cell_type": "code",
   "execution_count": 156,
   "id": "93a7d737-1158-44c5-b850-599ea300a9db",
   "metadata": {},
   "outputs": [
    {
     "data": {
      "text/html": [
       "<pre style=\"width: fit-content; text-align: left; border: thin solid black; padding: 0.5em;\">Grammar {\n",
       "  1.0: 0 → NAME\n",
       "}</pre>"
      ],
      "text/plain": [
       "Grammar {\n",
       "  1.0: 0 → NAME\n",
       "}"
      ]
     },
     "execution_count": 156,
     "metadata": {},
     "output_type": "execute_result"
    }
   ],
   "source": [
    "cfg"
   ]
  },
  {
   "cell_type": "code",
   "execution_count": 160,
   "id": "b9276879-d0b7-48e8-8031-dacd56445e7c",
   "metadata": {},
   "outputs": [
    {
     "data": {
      "text/html": [
       "<div style=\"border-left: thick solid black; padding-left: 3px; margin-bottom: 5px;\"><div style=\"text-align: center; display: inline-block; background-color: #eee; font-family: Monospace; margin: 0px !important; padding: 0px !important;\">\n",
       "    <div style=\"display: inline-block; margin: 0px !important; padding: 0px !important;\">0</div>\n",
       "    <div style=\"display: inline-block; font-size: 8pt; color: #bbb; margin: 0px !important; padding: 0px !important;\">/0</div>\n",
       "</div>\n",
       "<div style=\"display: inline-block;\">→ <div style=\"text-align: center; display: inline-block; background-color: #eee; font-family: Monospace; margin: 0px !important; padding: 0px !important;\">\n",
       "    <div style=\"display: inline-block; margin: 0px !important; padding: 0px !important;\"></div>\n",
       "    <div style=\"display: inline-block; font-size: 8pt; color: #bbb; margin: 0px !important; padding: 0px !important;\">/1</div>\n",
       "</div>\n",
       "<div style=\"text-align: center; display: inline-block; background-color: #eee; font-family: Monospace; margin: 0px !important; padding: 0px !important;\">\n",
       "    <div style=\"display: inline-block; margin: 0px !important; padding: 0px !important;\">(0, Other(x=0), 1)</div>\n",
       "    <div style=\"display: inline-block; font-size: 8pt; color: #bbb; margin: 0px !important; padding: 0px !important;\">/0</div>\n",
       "</div>\n",
       " | <div style=\"text-align: center; display: inline-block; background-color: #eee; font-family: Monospace; margin: 0px !important; padding: 0px !important;\">\n",
       "    <div style=\"display: inline-block; margin: 0px !important; padding: 0px !important;\"></div>\n",
       "    <div style=\"display: inline-block; font-size: 8pt; color: #bbb; margin: 0px !important; padding: 0px !important;\">/1</div>\n",
       "</div>\n",
       "<div style=\"text-align: center; display: inline-block; background-color: #eee; font-family: Monospace; margin: 0px !important; padding: 0px !important;\">\n",
       "    <div style=\"display: inline-block; margin: 0px !important; padding: 0px !important;\">(1, Other(x=0), 1)</div>\n",
       "    <div style=\"display: inline-block; font-size: 8pt; color: #bbb; margin: 0px !important; padding: 0px !important;\">/0</div>\n",
       "</div>\n",
       "</div></div><div style=\"border-left: thick solid black; padding-left: 3px; margin-bottom: 5px;\"><div style=\"text-align: center; display: inline-block; background-color: #eee; font-family: Monospace; margin: 0px !important; padding: 0px !important;\">\n",
       "    <div style=\"display: inline-block; margin: 0px !important; padding: 0px !important;\">(1, Other(x=0), 1)</div>\n",
       "    <div style=\"display: inline-block; font-size: 8pt; color: #bbb; margin: 0px !important; padding: 0px !important;\">/0</div>\n",
       "</div>\n",
       "<div style=\"display: inline-block;\">→ <div style=\"text-align: center; display: inline-block; background-color: #eee; font-family: Monospace; margin: 0px !important; padding: 0px !important;\">\n",
       "    <div style=\"display: inline-block; margin: 0px !important; padding: 0px !important;\"></div>\n",
       "    <div style=\"display: inline-block; font-size: 8pt; color: #bbb; margin: 0px !important; padding: 0px !important;\">/1</div>\n",
       "</div>\n",
       "<div style=\"text-align: center; display: inline-block; background-color: #eee; font-family: Monospace; margin: 0px !important; padding: 0px !important;\">\n",
       "    <div style=\"display: inline-block; margin: 0px !important; padding: 0px !important;\">(1, 0, 1)</div>\n",
       "    <div style=\"display: inline-block; font-size: 8pt; color: #bbb; margin: 0px !important; padding: 0px !important;\">/0</div>\n",
       "</div>\n",
       "</div></div><div style=\"border-left: thick solid black; padding-left: 3px; margin-bottom: 5px;\"><div style=\"text-align: center; display: inline-block; background-color: #eee; font-family: Monospace; margin: 0px !important; padding: 0px !important;\">\n",
       "    <div style=\"display: inline-block; margin: 0px !important; padding: 0px !important;\">(1, 0, 1)</div>\n",
       "    <div style=\"display: inline-block; font-size: 8pt; color: #bbb; margin: 0px !important; padding: 0px !important;\">/0</div>\n",
       "</div>\n",
       "<div style=\"display: inline-block;\">→ <div style=\"text-align: center; display: inline-block; background-color: #eee; font-family: Monospace; margin: 0px !important; padding: 0px !important;\">\n",
       "    <div style=\"display: inline-block; margin: 0px !important; padding: 0px !important;\"></div>\n",
       "    <div style=\"display: inline-block; font-size: 8pt; color: #bbb; margin: 0px !important; padding: 0px !important;\">/0.52</div>\n",
       "</div>\n",
       "<div style=\"text-align: center; display: inline-block; background-color: #eee; font-family: Monospace; margin: 0px !important; padding: 0px !important;\">\n",
       "    <div style=\"display: inline-block; margin: 0px !important; padding: 0px !important;\">(1, (0, Other(x=0), 1), 1)</div>\n",
       "    <div style=\"display: inline-block; font-size: 8pt; color: #bbb; margin: 0px !important; padding: 0px !important;\">/0</div>\n",
       "</div>\n",
       "</div></div><div style=\"border-left: thick solid black; padding-left: 3px; margin-bottom: 5px;\"><div style=\"text-align: center; display: inline-block; background-color: #eee; font-family: Monospace; margin: 0px !important; padding: 0px !important;\">\n",
       "    <div style=\"display: inline-block; margin: 0px !important; padding: 0px !important;\">(1, (0, Other(x=0), 1), 1)</div>\n",
       "    <div style=\"display: inline-block; font-size: 8pt; color: #bbb; margin: 0px !important; padding: 0px !important;\">/0</div>\n",
       "</div>\n",
       "<div style=\"display: inline-block;\">→ <div style=\"text-align: center; display: inline-block; background-color: #eee; font-family: Monospace; margin: 0px !important; padding: 0px !important;\">\n",
       "    <div style=\"display: inline-block; margin: 0px !important; padding: 0px !important;\"></div>\n",
       "    <div style=\"display: inline-block; font-size: 8pt; color: #bbb; margin: 0px !important; padding: 0px !important;\">/1</div>\n",
       "</div>\n",
       "<div style=\"text-align: center; display: inline-block; background-color: #eee; font-family: Monospace; margin: 0px !important; padding: 0px !important;\">\n",
       "    <div style=\"display: inline-block; margin: 0px !important; padding: 0px !important;\">(1, (0, Other(x=0), 3), 1)</div>\n",
       "    <div style=\"display: inline-block; font-size: 8pt; color: #bbb; margin: 0px !important; padding: 0px !important;\">/0</div>\n",
       "</div>\n",
       "<span style=\"padding-right: 10px;\"></span><div style=\"text-align: center; display: inline-block; background-color: #eee; font-family: Monospace; margin: 0px !important; padding: 0px !important;\">\n",
       "    <div style=\"display: inline-block; margin: 0px !important; padding: 0px !important;\">(1, (3, &#x27;&#x27;, 1), 1)</div>\n",
       "    <div style=\"display: inline-block; font-size: 8pt; color: #bbb; margin: 0px !important; padding: 0px !important;\">/0</div>\n",
       "</div>\n",
       "</div></div><div style=\"border-left: thick solid black; padding-left: 3px; margin-bottom: 5px;\"><div style=\"text-align: center; display: inline-block; background-color: #eee; font-family: Monospace; margin: 0px !important; padding: 0px !important;\">\n",
       "    <div style=\"display: inline-block; margin: 0px !important; padding: 0px !important;\">(0, Other(x=0), 1)</div>\n",
       "    <div style=\"display: inline-block; font-size: 8pt; color: #bbb; margin: 0px !important; padding: 0px !important;\">/0</div>\n",
       "</div>\n",
       "<div style=\"display: inline-block;\">→ <div style=\"text-align: center; display: inline-block; background-color: #eee; font-family: Monospace; margin: 0px !important; padding: 0px !important;\">\n",
       "    <div style=\"display: inline-block; margin: 0px !important; padding: 0px !important;\"></div>\n",
       "    <div style=\"display: inline-block; font-size: 8pt; color: #bbb; margin: 0px !important; padding: 0px !important;\">/1</div>\n",
       "</div>\n",
       "<div style=\"text-align: center; display: inline-block; background-color: #eee; font-family: Monospace; margin: 0px !important; padding: 0px !important;\">\n",
       "    <div style=\"display: inline-block; margin: 0px !important; padding: 0px !important;\">(0, 0, 1)</div>\n",
       "    <div style=\"display: inline-block; font-size: 8pt; color: #bbb; margin: 0px !important; padding: 0px !important;\">/0</div>\n",
       "</div>\n",
       "</div></div><div style=\"border-left: thick solid black; padding-left: 3px; margin-bottom: 5px;\"><div style=\"text-align: center; display: inline-block; background-color: #eee; font-family: Monospace; margin: 0px !important; padding: 0px !important;\">\n",
       "    <div style=\"display: inline-block; margin: 0px !important; padding: 0px !important;\">(0, 0, 1)</div>\n",
       "    <div style=\"display: inline-block; font-size: 8pt; color: #bbb; margin: 0px !important; padding: 0px !important;\">/0</div>\n",
       "</div>\n",
       "<div style=\"display: inline-block;\">→ <div style=\"text-align: center; display: inline-block; background-color: #eee; font-family: Monospace; margin: 0px !important; padding: 0px !important;\">\n",
       "    <div style=\"display: inline-block; margin: 0px !important; padding: 0px !important;\"></div>\n",
       "    <div style=\"display: inline-block; font-size: 8pt; color: #bbb; margin: 0px !important; padding: 0px !important;\">/0.52</div>\n",
       "</div>\n",
       "<div style=\"text-align: center; display: inline-block; background-color: #eee; font-family: Monospace; margin: 0px !important; padding: 0px !important;\">\n",
       "    <div style=\"display: inline-block; margin: 0px !important; padding: 0px !important;\">(0, (0, Other(x=0), 1), 1)</div>\n",
       "    <div style=\"display: inline-block; font-size: 8pt; color: #bbb; margin: 0px !important; padding: 0px !important;\">/0</div>\n",
       "</div>\n",
       "</div></div><div style=\"border-left: thick solid black; padding-left: 3px; margin-bottom: 5px;\"><div style=\"text-align: center; display: inline-block; background-color: #eee; font-family: Monospace; margin: 0px !important; padding: 0px !important;\">\n",
       "    <div style=\"display: inline-block; margin: 0px !important; padding: 0px !important;\">(0, (0, Other(x=0), 1), 1)</div>\n",
       "    <div style=\"display: inline-block; font-size: 8pt; color: #bbb; margin: 0px !important; padding: 0px !important;\">/0</div>\n",
       "</div>\n",
       "<div style=\"display: inline-block;\">→ <div style=\"text-align: center; display: inline-block; background-color: #eee; font-family: Monospace; margin: 0px !important; padding: 0px !important;\">\n",
       "    <div style=\"display: inline-block; margin: 0px !important; padding: 0px !important;\"></div>\n",
       "    <div style=\"display: inline-block; font-size: 8pt; color: #bbb; margin: 0px !important; padding: 0px !important;\">/1</div>\n",
       "</div>\n",
       "<div style=\"text-align: center; display: inline-block; background-color: #eee; font-family: Monospace; margin: 0px !important; padding: 0px !important;\">\n",
       "    <div style=\"display: inline-block; margin: 0px !important; padding: 0px !important;\">(0, (0, Other(x=0), 3), 1)</div>\n",
       "    <div style=\"display: inline-block; font-size: 8pt; color: #bbb; margin: 0px !important; padding: 0px !important;\">/0</div>\n",
       "</div>\n",
       "<span style=\"padding-right: 10px;\"></span><div style=\"text-align: center; display: inline-block; background-color: #eee; font-family: Monospace; margin: 0px !important; padding: 0px !important;\">\n",
       "    <div style=\"display: inline-block; margin: 0px !important; padding: 0px !important;\">(1, (3, &#x27;&#x27;, 1), 1)</div>\n",
       "    <div style=\"display: inline-block; font-size: 8pt; color: #bbb; margin: 0px !important; padding: 0px !important;\">/0</div>\n",
       "</div>\n",
       "</div></div><div style=\"border-left: thick solid black; padding-left: 3px; margin-bottom: 5px;\"><div style=\"text-align: center; display: inline-block; background-color: #eee; font-family: Monospace; margin: 0px !important; padding: 0px !important;\">\n",
       "    <div style=\"display: inline-block; margin: 0px !important; padding: 0px !important;\">(1, (3, &#x27;&#x27;, 1), 1)</div>\n",
       "    <div style=\"display: inline-block; font-size: 8pt; color: #bbb; margin: 0px !important; padding: 0px !important;\">/0</div>\n",
       "</div>\n",
       "<div style=\"display: inline-block;\">→ <div style=\"text-align: center; display: inline-block; background-color: #eee; font-family: Monospace; margin: 0px !important; padding: 0px !important;\">\n",
       "    <div style=\"display: inline-block; margin: 0px !important; padding: 0px !important;\"></div>\n",
       "    <div style=\"display: inline-block; font-size: 8pt; color: #bbb; margin: 0px !important; padding: 0px !important;\">/0.52</div>\n",
       "</div>\n",
       "<div style=\"text-align: center; display: inline-block; background-color: #eee; font-family: Monospace; margin: 0px !important; padding: 0px !important;\">\n",
       "    <div style=\"display: inline-block; margin: 0px !important; padding: 0px !important;\">ε</div>\n",
       "    <div style=\"display: inline-block; font-size: 8pt; color: #bbb; margin: 0px !important; padding: 0px !important;\">/1</div>\n",
       "</div>\n",
       "</div></div><div style=\"border-left: thick solid black; padding-left: 3px; margin-bottom: 5px;\"><div style=\"text-align: center; display: inline-block; background-color: #eee; font-family: Monospace; margin: 0px !important; padding: 0px !important;\">\n",
       "    <div style=\"display: inline-block; margin: 0px !important; padding: 0px !important;\">(0, (0, Other(x=0), 3), 1)</div>\n",
       "    <div style=\"display: inline-block; font-size: 8pt; color: #bbb; margin: 0px !important; padding: 0px !important;\">/0</div>\n",
       "</div>\n",
       "<div style=\"display: inline-block;\">→ <div style=\"text-align: center; display: inline-block; background-color: #eee; font-family: Monospace; margin: 0px !important; padding: 0px !important;\">\n",
       "    <div style=\"display: inline-block; margin: 0px !important; padding: 0px !important;\"></div>\n",
       "    <div style=\"display: inline-block; font-size: 8pt; color: #bbb; margin: 0px !important; padding: 0px !important;\">/1</div>\n",
       "</div>\n",
       "<div style=\"text-align: center; display: inline-block; background-color: #eee; font-family: Monospace; margin: 0px !important; padding: 0px !important;\">\n",
       "    <div style=\"display: inline-block; margin: 0px !important; padding: 0px !important;\">(0, (0, Other(x=0), 2), 0)</div>\n",
       "    <div style=\"display: inline-block; font-size: 8pt; color: #bbb; margin: 0px !important; padding: 0px !important;\">/0</div>\n",
       "</div>\n",
       "<span style=\"padding-right: 10px;\"></span><div style=\"text-align: center; display: inline-block; background-color: #eee; font-family: Monospace; margin: 0px !important; padding: 0px !important;\">\n",
       "    <div style=\"display: inline-block; margin: 0px !important; padding: 0px !important;\">(0, (2, &#x27;&#x27;, 3), 1)</div>\n",
       "    <div style=\"display: inline-block; font-size: 8pt; color: #bbb; margin: 0px !important; padding: 0px !important;\">/0.52</div>\n",
       "</div>\n",
       " | <div style=\"text-align: center; display: inline-block; background-color: #eee; font-family: Monospace; margin: 0px !important; padding: 0px !important;\">\n",
       "    <div style=\"display: inline-block; margin: 0px !important; padding: 0px !important;\"></div>\n",
       "    <div style=\"display: inline-block; font-size: 8pt; color: #bbb; margin: 0px !important; padding: 0px !important;\">/1</div>\n",
       "</div>\n",
       "<div style=\"text-align: center; display: inline-block; background-color: #eee; font-family: Monospace; margin: 0px !important; padding: 0px !important;\">\n",
       "    <div style=\"display: inline-block; margin: 0px !important; padding: 0px !important;\">(0, (0, Other(x=0), 2), 1)</div>\n",
       "    <div style=\"display: inline-block; font-size: 8pt; color: #bbb; margin: 0px !important; padding: 0px !important;\">/0</div>\n",
       "</div>\n",
       "<span style=\"padding-right: 10px;\"></span><div style=\"text-align: center; display: inline-block; background-color: #eee; font-family: Monospace; margin: 0px !important; padding: 0px !important;\">\n",
       "    <div style=\"display: inline-block; margin: 0px !important; padding: 0px !important;\">(1, (2, &#x27;&#x27;, 3), 1)</div>\n",
       "    <div style=\"display: inline-block; font-size: 8pt; color: #bbb; margin: 0px !important; padding: 0px !important;\">/0.52</div>\n",
       "</div>\n",
       "</div></div><div style=\"border-left: thick solid black; padding-left: 3px; margin-bottom: 5px;\"><div style=\"text-align: center; display: inline-block; background-color: #eee; font-family: Monospace; margin: 0px !important; padding: 0px !important;\">\n",
       "    <div style=\"display: inline-block; margin: 0px !important; padding: 0px !important;\">(0, (0, Other(x=0), 2), 1)</div>\n",
       "    <div style=\"display: inline-block; font-size: 8pt; color: #bbb; margin: 0px !important; padding: 0px !important;\">/0</div>\n",
       "</div>\n",
       "<div style=\"display: inline-block;\">→ <div style=\"text-align: center; display: inline-block; background-color: #eee; font-family: Monospace; margin: 0px !important; padding: 0px !important;\">\n",
       "    <div style=\"display: inline-block; margin: 0px !important; padding: 0px !important;\"></div>\n",
       "    <div style=\"display: inline-block; font-size: 8pt; color: #bbb; margin: 0px !important; padding: 0px !important;\">/1</div>\n",
       "</div>\n",
       "<div style=\"text-align: center; display: inline-block; background-color: #eee; font-family: Monospace; margin: 0px !important; padding: 0px !important;\">\n",
       "    <div style=\"display: inline-block; margin: 0px !important; padding: 0px !important;\">(0, (0, Other(x=0), 2), 0)</div>\n",
       "    <div style=\"display: inline-block; font-size: 8pt; color: #bbb; margin: 0px !important; padding: 0px !important;\">/0</div>\n",
       "</div>\n",
       "<span style=\"padding-right: 10px;\"></span><div style=\"text-align: center; display: inline-block; background-color: #eee; font-family: Monospace; margin: 0px !important; padding: 0px !important;\">\n",
       "    <div style=\"display: inline-block; margin: 0px !important; padding: 0px !important;\">(0, (2, &#x27;&#x27;, 2), 1)</div>\n",
       "    <div style=\"display: inline-block; font-size: 8pt; color: #bbb; margin: 0px !important; padding: 0px !important;\">/0</div>\n",
       "</div>\n",
       " | <div style=\"text-align: center; display: inline-block; background-color: #eee; font-family: Monospace; margin: 0px !important; padding: 0px !important;\">\n",
       "    <div style=\"display: inline-block; margin: 0px !important; padding: 0px !important;\"></div>\n",
       "    <div style=\"display: inline-block; font-size: 8pt; color: #bbb; margin: 0px !important; padding: 0px !important;\">/1</div>\n",
       "</div>\n",
       "<div style=\"text-align: center; display: inline-block; background-color: #eee; font-family: Monospace; margin: 0px !important; padding: 0px !important;\">\n",
       "    <div style=\"display: inline-block; margin: 0px !important; padding: 0px !important;\">(0, (0, Other(x=0), 2), 1)</div>\n",
       "    <div style=\"display: inline-block; font-size: 8pt; color: #bbb; margin: 0px !important; padding: 0px !important;\">/0</div>\n",
       "</div>\n",
       "<span style=\"padding-right: 10px;\"></span><div style=\"text-align: center; display: inline-block; background-color: #eee; font-family: Monospace; margin: 0px !important; padding: 0px !important;\">\n",
       "    <div style=\"display: inline-block; margin: 0px !important; padding: 0px !important;\">(1, (2, &#x27;&#x27;, 2), 1)</div>\n",
       "    <div style=\"display: inline-block; font-size: 8pt; color: #bbb; margin: 0px !important; padding: 0px !important;\">/1.04</div>\n",
       "</div>\n",
       "</div></div><div style=\"border-left: thick solid black; padding-left: 3px; margin-bottom: 5px;\"><div style=\"text-align: center; display: inline-block; background-color: #eee; font-family: Monospace; margin: 0px !important; padding: 0px !important;\">\n",
       "    <div style=\"display: inline-block; margin: 0px !important; padding: 0px !important;\">(0, (0, Other(x=0), 2), 0)</div>\n",
       "    <div style=\"display: inline-block; font-size: 8pt; color: #bbb; margin: 0px !important; padding: 0px !important;\">/0</div>\n",
       "</div>\n",
       "<div style=\"display: inline-block;\">→ <div style=\"text-align: center; display: inline-block; background-color: #eee; font-family: Monospace; margin: 0px !important; padding: 0px !important;\">\n",
       "    <div style=\"display: inline-block; margin: 0px !important; padding: 0px !important;\"></div>\n",
       "    <div style=\"display: inline-block; font-size: 8pt; color: #bbb; margin: 0px !important; padding: 0px !important;\">/1</div>\n",
       "</div>\n",
       "<div style=\"text-align: center; display: inline-block; background-color: #eee; font-family: Monospace; margin: 0px !important; padding: 0px !important;\">\n",
       "    <div style=\"display: inline-block; margin: 0px !important; padding: 0px !important;\">(0, (0, 0, 2), 0)</div>\n",
       "    <div style=\"display: inline-block; font-size: 8pt; color: #bbb; margin: 0px !important; padding: 0px !important;\">/0</div>\n",
       "</div>\n",
       " | <div style=\"text-align: center; display: inline-block; background-color: #eee; font-family: Monospace; margin: 0px !important; padding: 0px !important;\">\n",
       "    <div style=\"display: inline-block; margin: 0px !important; padding: 0px !important;\"></div>\n",
       "    <div style=\"display: inline-block; font-size: 8pt; color: #bbb; margin: 0px !important; padding: 0px !important;\">/1</div>\n",
       "</div>\n",
       "<div style=\"text-align: center; display: inline-block; background-color: #eee; font-family: Monospace; margin: 0px !important; padding: 0px !important;\">\n",
       "    <div style=\"display: inline-block; margin: 0px !important; padding: 0px !important;\">(0, (0, Other(x=0), 2), 0)</div>\n",
       "    <div style=\"display: inline-block; font-size: 8pt; color: #bbb; margin: 0px !important; padding: 0px !important;\">/0</div>\n",
       "</div>\n",
       "<span style=\"padding-right: 10px;\"></span><div style=\"text-align: center; display: inline-block; background-color: #eee; font-family: Monospace; margin: 0px !important; padding: 0px !important;\">\n",
       "    <div style=\"display: inline-block; margin: 0px !important; padding: 0px !important;\">(0, (2, &#x27;&#x27;, 2), 0)</div>\n",
       "    <div style=\"display: inline-block; font-size: 8pt; color: #bbb; margin: 0px !important; padding: 0px !important;\">/0</div>\n",
       "</div>\n",
       "</div></div><div style=\"border-left: thick solid black; padding-left: 3px; margin-bottom: 5px;\"><div style=\"text-align: center; display: inline-block; background-color: #eee; font-family: Monospace; margin: 0px !important; padding: 0px !important;\">\n",
       "    <div style=\"display: inline-block; margin: 0px !important; padding: 0px !important;\">(0, (2, &#x27;&#x27;, 2), 0)</div>\n",
       "    <div style=\"display: inline-block; font-size: 8pt; color: #bbb; margin: 0px !important; padding: 0px !important;\">/0</div>\n",
       "</div>\n",
       "<div style=\"display: inline-block;\">→ <div style=\"text-align: center; display: inline-block; background-color: #eee; font-family: Monospace; margin: 0px !important; padding: 0px !important;\">\n",
       "    <div style=\"display: inline-block; margin: 0px !important; padding: 0px !important;\"></div>\n",
       "    <div style=\"display: inline-block; font-size: 8pt; color: #bbb; margin: 0px !important; padding: 0px !important;\">/0.52</div>\n",
       "</div>\n",
       "<div style=\"text-align: center; display: inline-block; background-color: #eee; font-family: Monospace; margin: 0px !important; padding: 0px !important;\">\n",
       "    <div style=\"display: inline-block; margin: 0px !important; padding: 0px !important;\">(0, &#x27;a&#x27;, 0)</div>\n",
       "    <div style=\"display: inline-block; font-size: 8pt; color: #bbb; margin: 0px !important; padding: 0px !important;\">/0</div>\n",
       "</div>\n",
       " | <div style=\"text-align: center; display: inline-block; background-color: #eee; font-family: Monospace; margin: 0px !important; padding: 0px !important;\">\n",
       "    <div style=\"display: inline-block; margin: 0px !important; padding: 0px !important;\"></div>\n",
       "    <div style=\"display: inline-block; font-size: 8pt; color: #bbb; margin: 0px !important; padding: 0px !important;\">/0.52</div>\n",
       "</div>\n",
       "<div style=\"text-align: center; display: inline-block; background-color: #eee; font-family: Monospace; margin: 0px !important; padding: 0px !important;\">\n",
       "    <div style=\"display: inline-block; margin: 0px !important; padding: 0px !important;\">(0, &#x27;b&#x27;, 0)</div>\n",
       "    <div style=\"display: inline-block; font-size: 8pt; color: #bbb; margin: 0px !important; padding: 0px !important;\">/1</div>\n",
       "</div>\n",
       "</div></div><div style=\"border-left: thick solid black; padding-left: 3px; margin-bottom: 5px;\"><div style=\"text-align: center; display: inline-block; background-color: #eee; font-family: Monospace; margin: 0px !important; padding: 0px !important;\">\n",
       "    <div style=\"display: inline-block; margin: 0px !important; padding: 0px !important;\">(0, &#x27;a&#x27;, 0)</div>\n",
       "    <div style=\"display: inline-block; font-size: 8pt; color: #bbb; margin: 0px !important; padding: 0px !important;\">/0</div>\n",
       "</div>\n",
       "<div style=\"display: inline-block;\">→ <div style=\"text-align: center; display: inline-block; background-color: #eee; font-family: Monospace; margin: 0px !important; padding: 0px !important;\">\n",
       "    <div style=\"display: inline-block; margin: 0px !important; padding: 0px !important;\"></div>\n",
       "    <div style=\"display: inline-block; font-size: 8pt; color: #bbb; margin: 0px !important; padding: 0px !important;\">/1</div>\n",
       "</div>\n",
       "<div style=\"text-align: center; display: inline-block; background-color: #eee; font-family: Monospace; margin: 0px !important; padding: 0px !important;\">\n",
       "    <div style=\"display: inline-block; margin: 0px !important; padding: 0px !important;\">a</div>\n",
       "    <div style=\"display: inline-block; font-size: 8pt; color: #bbb; margin: 0px !important; padding: 0px !important;\">/0</div>\n",
       "</div>\n",
       "</div></div><div style=\"border-left: thick solid black; padding-left: 3px; margin-bottom: 5px;\"><div style=\"text-align: center; display: inline-block; background-color: #eee; font-family: Monospace; margin: 0px !important; padding: 0px !important;\">\n",
       "    <div style=\"display: inline-block; margin: 0px !important; padding: 0px !important;\">(0, (2, &#x27;&#x27;, 2), 1)</div>\n",
       "    <div style=\"display: inline-block; font-size: 8pt; color: #bbb; margin: 0px !important; padding: 0px !important;\">/0</div>\n",
       "</div>\n",
       "<div style=\"display: inline-block;\">→ <div style=\"text-align: center; display: inline-block; background-color: #eee; font-family: Monospace; margin: 0px !important; padding: 0px !important;\">\n",
       "    <div style=\"display: inline-block; margin: 0px !important; padding: 0px !important;\"></div>\n",
       "    <div style=\"display: inline-block; font-size: 8pt; color: #bbb; margin: 0px !important; padding: 0px !important;\">/0.52</div>\n",
       "</div>\n",
       "<div style=\"text-align: center; display: inline-block; background-color: #eee; font-family: Monospace; margin: 0px !important; padding: 0px !important;\">\n",
       "    <div style=\"display: inline-block; margin: 0px !important; padding: 0px !important;\">(0, &#x27;a&#x27;, 1)</div>\n",
       "    <div style=\"display: inline-block; font-size: 8pt; color: #bbb; margin: 0px !important; padding: 0px !important;\">/0</div>\n",
       "</div>\n",
       " | <div style=\"text-align: center; display: inline-block; background-color: #eee; font-family: Monospace; margin: 0px !important; padding: 0px !important;\">\n",
       "    <div style=\"display: inline-block; margin: 0px !important; padding: 0px !important;\"></div>\n",
       "    <div style=\"display: inline-block; font-size: 8pt; color: #bbb; margin: 0px !important; padding: 0px !important;\">/0.52</div>\n",
       "</div>\n",
       "<div style=\"text-align: center; display: inline-block; background-color: #eee; font-family: Monospace; margin: 0px !important; padding: 0px !important;\">\n",
       "    <div style=\"display: inline-block; margin: 0px !important; padding: 0px !important;\">(0, &#x27;b&#x27;, 1)</div>\n",
       "    <div style=\"display: inline-block; font-size: 8pt; color: #bbb; margin: 0px !important; padding: 0px !important;\">/1</div>\n",
       "</div>\n",
       "</div></div><div style=\"border-left: thick solid black; padding-left: 3px; margin-bottom: 5px;\"><div style=\"text-align: center; display: inline-block; background-color: #eee; font-family: Monospace; margin: 0px !important; padding: 0px !important;\">\n",
       "    <div style=\"display: inline-block; margin: 0px !important; padding: 0px !important;\">(0, &#x27;a&#x27;, 1)</div>\n",
       "    <div style=\"display: inline-block; font-size: 8pt; color: #bbb; margin: 0px !important; padding: 0px !important;\">/0</div>\n",
       "</div>\n",
       "<div style=\"display: inline-block;\">→ <div style=\"text-align: center; display: inline-block; background-color: #eee; font-family: Monospace; margin: 0px !important; padding: 0px !important;\">\n",
       "    <div style=\"display: inline-block; margin: 0px !important; padding: 0px !important;\"></div>\n",
       "    <div style=\"display: inline-block; font-size: 8pt; color: #bbb; margin: 0px !important; padding: 0px !important;\">/1</div>\n",
       "</div>\n",
       "<div style=\"text-align: center; display: inline-block; background-color: #eee; font-family: Monospace; margin: 0px !important; padding: 0px !important;\">\n",
       "    <div style=\"display: inline-block; margin: 0px !important; padding: 0px !important;\">a</div>\n",
       "    <div style=\"display: inline-block; font-size: 8pt; color: #bbb; margin: 0px !important; padding: 0px !important;\">/0</div>\n",
       "</div>\n",
       "</div></div><div style=\"border-left: thick solid black; padding-left: 3px; margin-bottom: 5px;\"><div style=\"text-align: center; display: inline-block; background-color: #eee; font-family: Monospace; margin: 0px !important; padding: 0px !important;\">\n",
       "    <div style=\"display: inline-block; margin: 0px !important; padding: 0px !important;\">a</div>\n",
       "    <div style=\"display: inline-block; font-size: 8pt; color: #bbb; margin: 0px !important; padding: 0px !important;\">/0</div>\n",
       "</div>\n",
       "<div style=\"display: inline-block;\">→ </div></div><div style=\"border-left: thick solid black; padding-left: 3px; margin-bottom: 5px;\"><div style=\"text-align: center; display: inline-block; background-color: #eee; font-family: Monospace; margin: 0px !important; padding: 0px !important;\">\n",
       "    <div style=\"display: inline-block; margin: 0px !important; padding: 0px !important;\">(0, (0, 0, 2), 0)</div>\n",
       "    <div style=\"display: inline-block; font-size: 8pt; color: #bbb; margin: 0px !important; padding: 0px !important;\">/0</div>\n",
       "</div>\n",
       "<div style=\"display: inline-block;\">→ <div style=\"text-align: center; display: inline-block; background-color: #eee; font-family: Monospace; margin: 0px !important; padding: 0px !important;\">\n",
       "    <div style=\"display: inline-block; margin: 0px !important; padding: 0px !important;\"></div>\n",
       "    <div style=\"display: inline-block; font-size: 8pt; color: #bbb; margin: 0px !important; padding: 0px !important;\">/1.0</div>\n",
       "</div>\n",
       "<div style=\"text-align: center; display: inline-block; background-color: #eee; font-family: Monospace; margin: 0px !important; padding: 0px !important;\">\n",
       "    <div style=\"display: inline-block; margin: 0px !important; padding: 0px !important;\">(0, (0, &#x27;NAME&#x27;, 2), 0)</div>\n",
       "    <div style=\"display: inline-block; font-size: 8pt; color: #bbb; margin: 0px !important; padding: 0px !important;\">/0</div>\n",
       "</div>\n",
       "</div></div><div style=\"border-left: thick solid black; padding-left: 3px; margin-bottom: 5px;\"><div style=\"text-align: center; display: inline-block; background-color: #eee; font-family: Monospace; margin: 0px !important; padding: 0px !important;\">\n",
       "    <div style=\"display: inline-block; margin: 0px !important; padding: 0px !important;\">(0, (0, &#x27;NAME&#x27;, 2), 0)</div>\n",
       "    <div style=\"display: inline-block; font-size: 8pt; color: #bbb; margin: 0px !important; padding: 0px !important;\">/0</div>\n",
       "</div>\n",
       "<div style=\"display: inline-block;\">→ <div style=\"text-align: center; display: inline-block; background-color: #eee; font-family: Monospace; margin: 0px !important; padding: 0px !important;\">\n",
       "    <div style=\"display: inline-block; margin: 0px !important; padding: 0px !important;\"></div>\n",
       "    <div style=\"display: inline-block; font-size: 8pt; color: #bbb; margin: 0px !important; padding: 0px !important;\">/0.52</div>\n",
       "</div>\n",
       "<div style=\"text-align: center; display: inline-block; background-color: #eee; font-family: Monospace; margin: 0px !important; padding: 0px !important;\">\n",
       "    <div style=\"display: inline-block; margin: 0px !important; padding: 0px !important;\">ε</div>\n",
       "    <div style=\"display: inline-block; font-size: 8pt; color: #bbb; margin: 0px !important; padding: 0px !important;\">/1</div>\n",
       "</div>\n",
       "</div></div><div style=\"border-left: thick solid black; padding-left: 3px; margin-bottom: 5px;\"><div style=\"text-align: center; display: inline-block; background-color: #eee; font-family: Monospace; margin: 0px !important; padding: 0px !important;\">\n",
       "    <div style=\"display: inline-block; margin: 0px !important; padding: 0px !important;\">(1, (0, Other(x=0), 3), 1)</div>\n",
       "    <div style=\"display: inline-block; font-size: 8pt; color: #bbb; margin: 0px !important; padding: 0px !important;\">/0</div>\n",
       "</div>\n",
       "<div style=\"display: inline-block;\">→ <div style=\"text-align: center; display: inline-block; background-color: #eee; font-family: Monospace; margin: 0px !important; padding: 0px !important;\">\n",
       "    <div style=\"display: inline-block; margin: 0px !important; padding: 0px !important;\"></div>\n",
       "    <div style=\"display: inline-block; font-size: 8pt; color: #bbb; margin: 0px !important; padding: 0px !important;\">/1</div>\n",
       "</div>\n",
       "<div style=\"text-align: center; display: inline-block; background-color: #eee; font-family: Monospace; margin: 0px !important; padding: 0px !important;\">\n",
       "    <div style=\"display: inline-block; margin: 0px !important; padding: 0px !important;\">(1, (0, Other(x=0), 2), 1)</div>\n",
       "    <div style=\"display: inline-block; font-size: 8pt; color: #bbb; margin: 0px !important; padding: 0px !important;\">/1.4037269924165637e+18</div>\n",
       "</div>\n",
       "<span style=\"padding-right: 10px;\"></span><div style=\"text-align: center; display: inline-block; background-color: #eee; font-family: Monospace; margin: 0px !important; padding: 0px !important;\">\n",
       "    <div style=\"display: inline-block; margin: 0px !important; padding: 0px !important;\">(1, (2, &#x27;&#x27;, 3), 1)</div>\n",
       "    <div style=\"display: inline-block; font-size: 8pt; color: #bbb; margin: 0px !important; padding: 0px !important;\">/0.52</div>\n",
       "</div>\n",
       "</div></div><div style=\"border-left: thick solid black; padding-left: 3px; margin-bottom: 5px;\"><div style=\"text-align: center; display: inline-block; background-color: #eee; font-family: Monospace; margin: 0px !important; padding: 0px !important;\">\n",
       "    <div style=\"display: inline-block; margin: 0px !important; padding: 0px !important;\">(1, (0, Other(x=0), 2), 1)</div>\n",
       "    <div style=\"display: inline-block; font-size: 8pt; color: #bbb; margin: 0px !important; padding: 0px !important;\">/1.4037269924165637e+18</div>\n",
       "</div>\n",
       "<div style=\"display: inline-block;\">→ <div style=\"text-align: center; display: inline-block; background-color: #eee; font-family: Monospace; margin: 0px !important; padding: 0px !important;\">\n",
       "    <div style=\"display: inline-block; margin: 0px !important; padding: 0px !important;\"></div>\n",
       "    <div style=\"display: inline-block; font-size: 8pt; color: #bbb; margin: 0px !important; padding: 0px !important;\">/1</div>\n",
       "</div>\n",
       "<div style=\"text-align: center; display: inline-block; background-color: #eee; font-family: Monospace; margin: 0px !important; padding: 0px !important;\">\n",
       "    <div style=\"display: inline-block; margin: 0px !important; padding: 0px !important;\">(1, (0, 0, 2), 1)</div>\n",
       "    <div style=\"display: inline-block; font-size: 8pt; color: #bbb; margin: 0px !important; padding: 0px !important;\">/0.52</div>\n",
       "</div>\n",
       " | <div style=\"text-align: center; display: inline-block; background-color: #eee; font-family: Monospace; margin: 0px !important; padding: 0px !important;\">\n",
       "    <div style=\"display: inline-block; margin: 0px !important; padding: 0px !important;\"></div>\n",
       "    <div style=\"display: inline-block; font-size: 8pt; color: #bbb; margin: 0px !important; padding: 0px !important;\">/1</div>\n",
       "</div>\n",
       "<div style=\"text-align: center; display: inline-block; background-color: #eee; font-family: Monospace; margin: 0px !important; padding: 0px !important;\">\n",
       "    <div style=\"display: inline-block; margin: 0px !important; padding: 0px !important;\">(1, (0, Other(x=0), 2), 1)</div>\n",
       "    <div style=\"display: inline-block; font-size: 8pt; color: #bbb; margin: 0px !important; padding: 0px !important;\">/1.4037269924165637e+18</div>\n",
       "</div>\n",
       "<span style=\"padding-right: 10px;\"></span><div style=\"text-align: center; display: inline-block; background-color: #eee; font-family: Monospace; margin: 0px !important; padding: 0px !important;\">\n",
       "    <div style=\"display: inline-block; margin: 0px !important; padding: 0px !important;\">(1, (2, &#x27;&#x27;, 2), 1)</div>\n",
       "    <div style=\"display: inline-block; font-size: 8pt; color: #bbb; margin: 0px !important; padding: 0px !important;\">/1.04</div>\n",
       "</div>\n",
       "</div></div><div style=\"border-left: thick solid black; padding-left: 3px; margin-bottom: 5px;\"><div style=\"text-align: center; display: inline-block; background-color: #eee; font-family: Monospace; margin: 0px !important; padding: 0px !important;\">\n",
       "    <div style=\"display: inline-block; margin: 0px !important; padding: 0px !important;\">(1, (2, &#x27;&#x27;, 2), 1)</div>\n",
       "    <div style=\"display: inline-block; font-size: 8pt; color: #bbb; margin: 0px !important; padding: 0px !important;\">/1.04</div>\n",
       "</div>\n",
       "<div style=\"display: inline-block;\">→ <div style=\"text-align: center; display: inline-block; background-color: #eee; font-family: Monospace; margin: 0px !important; padding: 0px !important;\">\n",
       "    <div style=\"display: inline-block; margin: 0px !important; padding: 0px !important;\"></div>\n",
       "    <div style=\"display: inline-block; font-size: 8pt; color: #bbb; margin: 0px !important; padding: 0px !important;\">/0.52</div>\n",
       "</div>\n",
       "<div style=\"text-align: center; display: inline-block; background-color: #eee; font-family: Monospace; margin: 0px !important; padding: 0px !important;\">\n",
       "    <div style=\"display: inline-block; margin: 0px !important; padding: 0px !important;\">(1, &#x27;a&#x27;, 1)</div>\n",
       "    <div style=\"display: inline-block; font-size: 8pt; color: #bbb; margin: 0px !important; padding: 0px !important;\">/1</div>\n",
       "</div>\n",
       " | <div style=\"text-align: center; display: inline-block; background-color: #eee; font-family: Monospace; margin: 0px !important; padding: 0px !important;\">\n",
       "    <div style=\"display: inline-block; margin: 0px !important; padding: 0px !important;\"></div>\n",
       "    <div style=\"display: inline-block; font-size: 8pt; color: #bbb; margin: 0px !important; padding: 0px !important;\">/0.52</div>\n",
       "</div>\n",
       "<div style=\"text-align: center; display: inline-block; background-color: #eee; font-family: Monospace; margin: 0px !important; padding: 0px !important;\">\n",
       "    <div style=\"display: inline-block; margin: 0px !important; padding: 0px !important;\">(1, &#x27;b&#x27;, 1)</div>\n",
       "    <div style=\"display: inline-block; font-size: 8pt; color: #bbb; margin: 0px !important; padding: 0px !important;\">/1</div>\n",
       "</div>\n",
       "</div></div><div style=\"border-left: thick solid black; padding-left: 3px; margin-bottom: 5px;\"><div style=\"text-align: center; display: inline-block; background-color: #eee; font-family: Monospace; margin: 0px !important; padding: 0px !important;\">\n",
       "    <div style=\"display: inline-block; margin: 0px !important; padding: 0px !important;\">(1, &#x27;a&#x27;, 1)</div>\n",
       "    <div style=\"display: inline-block; font-size: 8pt; color: #bbb; margin: 0px !important; padding: 0px !important;\">/1</div>\n",
       "</div>\n",
       "<div style=\"display: inline-block;\">→ <div style=\"text-align: center; display: inline-block; background-color: #eee; font-family: Monospace; margin: 0px !important; padding: 0px !important;\">\n",
       "    <div style=\"display: inline-block; margin: 0px !important; padding: 0px !important;\"></div>\n",
       "    <div style=\"display: inline-block; font-size: 8pt; color: #bbb; margin: 0px !important; padding: 0px !important;\">/1</div>\n",
       "</div>\n",
       "<div style=\"text-align: center; display: inline-block; background-color: #eee; font-family: Monospace; margin: 0px !important; padding: 0px !important;\">\n",
       "    <div style=\"display: inline-block; margin: 0px !important; padding: 0px !important;\">ε</div>\n",
       "    <div style=\"display: inline-block; font-size: 8pt; color: #bbb; margin: 0px !important; padding: 0px !important;\">/1</div>\n",
       "</div>\n",
       "</div></div><div style=\"border-left: thick solid black; padding-left: 3px; margin-bottom: 5px;\"><div style=\"text-align: center; display: inline-block; background-color: #eee; font-family: Monospace; margin: 0px !important; padding: 0px !important;\">\n",
       "    <div style=\"display: inline-block; margin: 0px !important; padding: 0px !important;\">(0, (2, &#x27;&#x27;, 3), 1)</div>\n",
       "    <div style=\"display: inline-block; font-size: 8pt; color: #bbb; margin: 0px !important; padding: 0px !important;\">/0.52</div>\n",
       "</div>\n",
       "<div style=\"display: inline-block;\">→ <div style=\"text-align: center; display: inline-block; background-color: #eee; font-family: Monospace; margin: 0px !important; padding: 0px !important;\">\n",
       "    <div style=\"display: inline-block; margin: 0px !important; padding: 0px !important;\"></div>\n",
       "    <div style=\"display: inline-block; font-size: 8pt; color: #bbb; margin: 0px !important; padding: 0px !important;\">/0.52</div>\n",
       "</div>\n",
       "<div style=\"text-align: center; display: inline-block; background-color: #eee; font-family: Monospace; margin: 0px !important; padding: 0px !important;\">\n",
       "    <div style=\"display: inline-block; margin: 0px !important; padding: 0px !important;\">(0, &#x27;c&#x27;, 1)</div>\n",
       "    <div style=\"display: inline-block; font-size: 8pt; color: #bbb; margin: 0px !important; padding: 0px !important;\">/1</div>\n",
       "</div>\n",
       "</div></div><div style=\"border-left: thick solid black; padding-left: 3px; margin-bottom: 5px;\"><div style=\"text-align: center; display: inline-block; background-color: #eee; font-family: Monospace; margin: 0px !important; padding: 0px !important;\">\n",
       "    <div style=\"display: inline-block; margin: 0px !important; padding: 0px !important;\">(0, &#x27;c&#x27;, 1)</div>\n",
       "    <div style=\"display: inline-block; font-size: 8pt; color: #bbb; margin: 0px !important; padding: 0px !important;\">/1</div>\n",
       "</div>\n",
       "<div style=\"display: inline-block;\">→ <div style=\"text-align: center; display: inline-block; background-color: #eee; font-family: Monospace; margin: 0px !important; padding: 0px !important;\">\n",
       "    <div style=\"display: inline-block; margin: 0px !important; padding: 0px !important;\"></div>\n",
       "    <div style=\"display: inline-block; font-size: 8pt; color: #bbb; margin: 0px !important; padding: 0px !important;\">/1</div>\n",
       "</div>\n",
       "<div style=\"text-align: center; display: inline-block; background-color: #eee; font-family: Monospace; margin: 0px !important; padding: 0px !important;\">\n",
       "    <div style=\"display: inline-block; margin: 0px !important; padding: 0px !important;\">c</div>\n",
       "    <div style=\"display: inline-block; font-size: 8pt; color: #bbb; margin: 0px !important; padding: 0px !important;\">/1</div>\n",
       "</div>\n",
       "</div></div><div style=\"border-left: thick solid black; padding-left: 3px; margin-bottom: 5px;\"><div style=\"text-align: center; display: inline-block; background-color: #eee; font-family: Monospace; margin: 0px !important; padding: 0px !important;\">\n",
       "    <div style=\"display: inline-block; margin: 0px !important; padding: 0px !important;\">c</div>\n",
       "    <div style=\"display: inline-block; font-size: 8pt; color: #bbb; margin: 0px !important; padding: 0px !important;\">/1</div>\n",
       "</div>\n",
       "<div style=\"display: inline-block;\">→ </div></div><div style=\"border-left: thick solid black; padding-left: 3px; margin-bottom: 5px;\"><div style=\"text-align: center; display: inline-block; background-color: #eee; font-family: Monospace; margin: 0px !important; padding: 0px !important;\">\n",
       "    <div style=\"display: inline-block; margin: 0px !important; padding: 0px !important;\">(1, (0, 0, 2), 1)</div>\n",
       "    <div style=\"display: inline-block; font-size: 8pt; color: #bbb; margin: 0px !important; padding: 0px !important;\">/0.52</div>\n",
       "</div>\n",
       "<div style=\"display: inline-block;\">→ <div style=\"text-align: center; display: inline-block; background-color: #eee; font-family: Monospace; margin: 0px !important; padding: 0px !important;\">\n",
       "    <div style=\"display: inline-block; margin: 0px !important; padding: 0px !important;\"></div>\n",
       "    <div style=\"display: inline-block; font-size: 8pt; color: #bbb; margin: 0px !important; padding: 0px !important;\">/1.0</div>\n",
       "</div>\n",
       "<div style=\"text-align: center; display: inline-block; background-color: #eee; font-family: Monospace; margin: 0px !important; padding: 0px !important;\">\n",
       "    <div style=\"display: inline-block; margin: 0px !important; padding: 0px !important;\">(1, (0, &#x27;NAME&#x27;, 2), 1)</div>\n",
       "    <div style=\"display: inline-block; font-size: 8pt; color: #bbb; margin: 0px !important; padding: 0px !important;\">/0.52</div>\n",
       "</div>\n",
       "</div></div><div style=\"border-left: thick solid black; padding-left: 3px; margin-bottom: 5px;\"><div style=\"text-align: center; display: inline-block; background-color: #eee; font-family: Monospace; margin: 0px !important; padding: 0px !important;\">\n",
       "    <div style=\"display: inline-block; margin: 0px !important; padding: 0px !important;\">(1, (2, &#x27;&#x27;, 3), 1)</div>\n",
       "    <div style=\"display: inline-block; font-size: 8pt; color: #bbb; margin: 0px !important; padding: 0px !important;\">/0.52</div>\n",
       "</div>\n",
       "<div style=\"display: inline-block;\">→ <div style=\"text-align: center; display: inline-block; background-color: #eee; font-family: Monospace; margin: 0px !important; padding: 0px !important;\">\n",
       "    <div style=\"display: inline-block; margin: 0px !important; padding: 0px !important;\"></div>\n",
       "    <div style=\"display: inline-block; font-size: 8pt; color: #bbb; margin: 0px !important; padding: 0px !important;\">/0.52</div>\n",
       "</div>\n",
       "<div style=\"text-align: center; display: inline-block; background-color: #eee; font-family: Monospace; margin: 0px !important; padding: 0px !important;\">\n",
       "    <div style=\"display: inline-block; margin: 0px !important; padding: 0px !important;\">(1, &#x27;c&#x27;, 1)</div>\n",
       "    <div style=\"display: inline-block; font-size: 8pt; color: #bbb; margin: 0px !important; padding: 0px !important;\">/1</div>\n",
       "</div>\n",
       "</div></div><div style=\"border-left: thick solid black; padding-left: 3px; margin-bottom: 5px;\"><div style=\"text-align: center; display: inline-block; background-color: #eee; font-family: Monospace; margin: 0px !important; padding: 0px !important;\">\n",
       "    <div style=\"display: inline-block; margin: 0px !important; padding: 0px !important;\">(1, &#x27;c&#x27;, 1)</div>\n",
       "    <div style=\"display: inline-block; font-size: 8pt; color: #bbb; margin: 0px !important; padding: 0px !important;\">/1</div>\n",
       "</div>\n",
       "<div style=\"display: inline-block;\">→ <div style=\"text-align: center; display: inline-block; background-color: #eee; font-family: Monospace; margin: 0px !important; padding: 0px !important;\">\n",
       "    <div style=\"display: inline-block; margin: 0px !important; padding: 0px !important;\"></div>\n",
       "    <div style=\"display: inline-block; font-size: 8pt; color: #bbb; margin: 0px !important; padding: 0px !important;\">/1</div>\n",
       "</div>\n",
       "<div style=\"text-align: center; display: inline-block; background-color: #eee; font-family: Monospace; margin: 0px !important; padding: 0px !important;\">\n",
       "    <div style=\"display: inline-block; margin: 0px !important; padding: 0px !important;\">ε</div>\n",
       "    <div style=\"display: inline-block; font-size: 8pt; color: #bbb; margin: 0px !important; padding: 0px !important;\">/1</div>\n",
       "</div>\n",
       "</div></div><div style=\"border-left: thick solid black; padding-left: 3px; margin-bottom: 5px;\"><div style=\"text-align: center; display: inline-block; background-color: #eee; font-family: Monospace; margin: 0px !important; padding: 0px !important;\">\n",
       "    <div style=\"display: inline-block; margin: 0px !important; padding: 0px !important;\">(0, &#x27;b&#x27;, 1)</div>\n",
       "    <div style=\"display: inline-block; font-size: 8pt; color: #bbb; margin: 0px !important; padding: 0px !important;\">/1</div>\n",
       "</div>\n",
       "<div style=\"display: inline-block;\">→ <div style=\"text-align: center; display: inline-block; background-color: #eee; font-family: Monospace; margin: 0px !important; padding: 0px !important;\">\n",
       "    <div style=\"display: inline-block; margin: 0px !important; padding: 0px !important;\"></div>\n",
       "    <div style=\"display: inline-block; font-size: 8pt; color: #bbb; margin: 0px !important; padding: 0px !important;\">/1</div>\n",
       "</div>\n",
       "<div style=\"text-align: center; display: inline-block; background-color: #eee; font-family: Monospace; margin: 0px !important; padding: 0px !important;\">\n",
       "    <div style=\"display: inline-block; margin: 0px !important; padding: 0px !important;\">b</div>\n",
       "    <div style=\"display: inline-block; font-size: 8pt; color: #bbb; margin: 0px !important; padding: 0px !important;\">/1</div>\n",
       "</div>\n",
       "</div></div><div style=\"border-left: thick solid black; padding-left: 3px; margin-bottom: 5px;\"><div style=\"text-align: center; display: inline-block; background-color: #eee; font-family: Monospace; margin: 0px !important; padding: 0px !important;\">\n",
       "    <div style=\"display: inline-block; margin: 0px !important; padding: 0px !important;\">(1, &#x27;b&#x27;, 1)</div>\n",
       "    <div style=\"display: inline-block; font-size: 8pt; color: #bbb; margin: 0px !important; padding: 0px !important;\">/1</div>\n",
       "</div>\n",
       "<div style=\"display: inline-block;\">→ <div style=\"text-align: center; display: inline-block; background-color: #eee; font-family: Monospace; margin: 0px !important; padding: 0px !important;\">\n",
       "    <div style=\"display: inline-block; margin: 0px !important; padding: 0px !important;\"></div>\n",
       "    <div style=\"display: inline-block; font-size: 8pt; color: #bbb; margin: 0px !important; padding: 0px !important;\">/1</div>\n",
       "</div>\n",
       "<div style=\"text-align: center; display: inline-block; background-color: #eee; font-family: Monospace; margin: 0px !important; padding: 0px !important;\">\n",
       "    <div style=\"display: inline-block; margin: 0px !important; padding: 0px !important;\">ε</div>\n",
       "    <div style=\"display: inline-block; font-size: 8pt; color: #bbb; margin: 0px !important; padding: 0px !important;\">/1</div>\n",
       "</div>\n",
       "</div></div><div style=\"border-left: thick solid black; padding-left: 3px; margin-bottom: 5px;\"><div style=\"text-align: center; display: inline-block; background-color: #eee; font-family: Monospace; margin: 0px !important; padding: 0px !important;\">\n",
       "    <div style=\"display: inline-block; margin: 0px !important; padding: 0px !important;\">(0, &#x27;b&#x27;, 0)</div>\n",
       "    <div style=\"display: inline-block; font-size: 8pt; color: #bbb; margin: 0px !important; padding: 0px !important;\">/1</div>\n",
       "</div>\n",
       "<div style=\"display: inline-block;\">→ <div style=\"text-align: center; display: inline-block; background-color: #eee; font-family: Monospace; margin: 0px !important; padding: 0px !important;\">\n",
       "    <div style=\"display: inline-block; margin: 0px !important; padding: 0px !important;\"></div>\n",
       "    <div style=\"display: inline-block; font-size: 8pt; color: #bbb; margin: 0px !important; padding: 0px !important;\">/1</div>\n",
       "</div>\n",
       "<div style=\"text-align: center; display: inline-block; background-color: #eee; font-family: Monospace; margin: 0px !important; padding: 0px !important;\">\n",
       "    <div style=\"display: inline-block; margin: 0px !important; padding: 0px !important;\">b</div>\n",
       "    <div style=\"display: inline-block; font-size: 8pt; color: #bbb; margin: 0px !important; padding: 0px !important;\">/1</div>\n",
       "</div>\n",
       "</div></div><div style=\"border-left: thick solid black; padding-left: 3px; margin-bottom: 5px;\"><div style=\"text-align: center; display: inline-block; background-color: #eee; font-family: Monospace; margin: 0px !important; padding: 0px !important;\">\n",
       "    <div style=\"display: inline-block; margin: 0px !important; padding: 0px !important;\">b</div>\n",
       "    <div style=\"display: inline-block; font-size: 8pt; color: #bbb; margin: 0px !important; padding: 0px !important;\">/1</div>\n",
       "</div>\n",
       "<div style=\"display: inline-block;\">→ </div></div><div style=\"border-left: thick solid black; padding-left: 3px; margin-bottom: 5px;\"><div style=\"text-align: center; display: inline-block; background-color: #eee; font-family: Monospace; margin: 0px !important; padding: 0px !important;\">\n",
       "    <div style=\"display: inline-block; margin: 0px !important; padding: 0px !important;\">(1, (0, &#x27;NAME&#x27;, 2), 1)</div>\n",
       "    <div style=\"display: inline-block; font-size: 8pt; color: #bbb; margin: 0px !important; padding: 0px !important;\">/0.52</div>\n",
       "</div>\n",
       "<div style=\"display: inline-block;\">→ <div style=\"text-align: center; display: inline-block; background-color: #eee; font-family: Monospace; margin: 0px !important; padding: 0px !important;\">\n",
       "    <div style=\"display: inline-block; margin: 0px !important; padding: 0px !important;\"></div>\n",
       "    <div style=\"display: inline-block; font-size: 8pt; color: #bbb; margin: 0px !important; padding: 0px !important;\">/0.52</div>\n",
       "</div>\n",
       "<div style=\"text-align: center; display: inline-block; background-color: #eee; font-family: Monospace; margin: 0px !important; padding: 0px !important;\">\n",
       "    <div style=\"display: inline-block; margin: 0px !important; padding: 0px !important;\">ε</div>\n",
       "    <div style=\"display: inline-block; font-size: 8pt; color: #bbb; margin: 0px !important; padding: 0px !important;\">/1</div>\n",
       "</div>\n",
       "</div></div>"
      ],
      "text/plain": [
       "<IPython.core.display.HTML object>"
      ]
     },
     "execution_count": 160,
     "metadata": {},
     "output_type": "execute_result"
    }
   ],
   "source": [
    "show_grammar(cfg_t.prefix_grammar.trim(), showzero=True)#.cnf"
   ]
  },
  {
   "cell_type": "code",
   "execution_count": null,
   "id": "4328d66a-23c6-4f44-8dd0-0cc942aba2cd",
   "metadata": {},
   "outputs": [],
   "source": []
  },
  {
   "cell_type": "code",
   "execution_count": null,
   "id": "d3483c9e-6060-47e9-b412-d17464b527bb",
   "metadata": {},
   "outputs": [],
   "source": []
  },
  {
   "cell_type": "code",
   "execution_count": 142,
   "id": "a7502cd4-3931-4c62-b1bb-2f75000eacf5",
   "metadata": {},
   "outputs": [
    {
     "data": {
      "image/svg+xml": [
       "<?xml version=\"1.0\" encoding=\"UTF-8\" standalone=\"no\"?>\n",
       "<!DOCTYPE svg PUBLIC \"-//W3C//DTD SVG 1.1//EN\"\n",
       " \"http://www.w3.org/Graphics/SVG/1.1/DTD/svg11.dtd\">\n",
       "<!-- Generated by graphviz version 2.43.0 (0)\n",
       " -->\n",
       "<!-- Title: %3 Pages: 1 -->\n",
       "<svg width=\"511pt\" height=\"100pt\"\n",
       " viewBox=\"0.00 0.00 511.23 99.56\" xmlns=\"http://www.w3.org/2000/svg\" xmlns:xlink=\"http://www.w3.org/1999/xlink\">\n",
       "<g id=\"graph0\" class=\"graph\" transform=\"scale(1 1) rotate(0) translate(4 95.56)\">\n",
       "<title>%3</title>\n",
       "<polygon fill=\"white\" stroke=\"transparent\" points=\"-4,4 -4,-95.56 507.23,-95.56 507.23,4 -4,4\"/>\n",
       "<!-- start_0 -->\n",
       "<g id=\"node1\" class=\"node\">\n",
       "<title>start_0</title>\n",
       "<ellipse fill=\"black\" stroke=\"black\" cx=\"0\" cy=\"-7.78\" rx=\"0\" ry=\"0\"/>\n",
       "</g>\n",
       "<!-- 0 -->\n",
       "<g id=\"node2\" class=\"node\">\n",
       "<title>0</title>\n",
       "<ellipse fill=\"none\" stroke=\"black\" cx=\"49.78\" cy=\"-7.78\" rx=\"7.56\" ry=\"7.56\"/>\n",
       "<text text-anchor=\"middle\" x=\"49.78\" y=\"-5.28\" font-family=\"Monospace\" font-size=\"10.00\"> </text>\n",
       "</g>\n",
       "<!-- start_0&#45;&gt;0 -->\n",
       "<g id=\"edge1\" class=\"edge\">\n",
       "<title>start_0&#45;&gt;0</title>\n",
       "<path fill=\"none\" stroke=\"black\" d=\"M1.14,-7.78C3.07,-7.78 25.11,-7.78 38.52,-7.78\"/>\n",
       "<polygon fill=\"black\" stroke=\"black\" points=\"38.73,-8.83 41.73,-7.78 38.73,-6.73 38.73,-8.83\"/>\n",
       "<text text-anchor=\"middle\" x=\"21\" y=\"-10.58\" font-family=\"Monospace\" font-size=\"9.00\">1</text>\n",
       "</g>\n",
       "<!-- 2 -->\n",
       "<g id=\"node4\" class=\"node\">\n",
       "<title>2</title>\n",
       "<ellipse fill=\"none\" stroke=\"black\" cx=\"191.33\" cy=\"-27.78\" rx=\"7.56\" ry=\"7.56\"/>\n",
       "<text text-anchor=\"middle\" x=\"191.33\" y=\"-25.28\" font-family=\"Monospace\" font-size=\"10.00\"> </text>\n",
       "</g>\n",
       "<!-- 0&#45;&gt;2 -->\n",
       "<g id=\"edge3\" class=\"edge\">\n",
       "<title>0&#45;&gt;2</title>\n",
       "<path fill=\"none\" stroke=\"black\" d=\"M57.51,-8.74C80.11,-11.98 153.38,-22.48 180.3,-26.34\"/>\n",
       "<polygon fill=\"black\" stroke=\"black\" points=\"180.22,-27.39 183.34,-26.78 180.52,-25.31 180.22,-27.39\"/>\n",
       "<text text-anchor=\"middle\" x=\"120.56\" y=\"-26.58\" font-family=\"Monospace\" font-size=\"9.00\">(&#39;&#39;, &#39;NAME&#39;)/0.52</text>\n",
       "</g>\n",
       "<!-- 1 -->\n",
       "<g id=\"node3\" class=\"node\">\n",
       "<title>1</title>\n",
       "<ellipse fill=\"none\" stroke=\"black\" cx=\"437.45\" cy=\"-7.78\" rx=\"7.56\" ry=\"7.56\"/>\n",
       "<text text-anchor=\"middle\" x=\"437.45\" y=\"-5.28\" font-family=\"Monospace\" font-size=\"10.00\"> </text>\n",
       "</g>\n",
       "<!-- 1&#45;&gt;0 -->\n",
       "<g id=\"edge4\" class=\"edge\">\n",
       "<title>1&#45;&gt;0</title>\n",
       "<path fill=\"none\" stroke=\"black\" d=\"M429.6,-7.78C383.3,-7.78 116.31,-7.78 60.86,-7.78\"/>\n",
       "<polygon fill=\"black\" stroke=\"black\" points=\"60.8,-6.73 57.8,-7.78 60.8,-8.83 60.8,-6.73\"/>\n",
       "<text text-anchor=\"middle\" x=\"254.11\" y=\"-10.58\" font-family=\"Monospace\" font-size=\"9.00\">(&#39;&#39;, &#39;&#39;)/0.52</text>\n",
       "</g>\n",
       "<!-- stop_1 -->\n",
       "<g id=\"node6\" class=\"node\">\n",
       "<title>stop_1</title>\n",
       "<ellipse fill=\"black\" stroke=\"black\" cx=\"503.23\" cy=\"-7.78\" rx=\"0\" ry=\"0\"/>\n",
       "</g>\n",
       "<!-- 1&#45;&gt;stop_1 -->\n",
       "<g id=\"edge2\" class=\"edge\">\n",
       "<title>1&#45;&gt;stop_1</title>\n",
       "<path fill=\"none\" stroke=\"black\" d=\"M445.27,-7.78C458.85,-7.78 488.78,-7.78 498.85,-7.78\"/>\n",
       "<polygon fill=\"black\" stroke=\"black\" points=\"499.11,-8.83 502.11,-7.78 499.11,-6.73 499.11,-8.83\"/>\n",
       "<text text-anchor=\"middle\" x=\"474.23\" y=\"-10.58\" font-family=\"Monospace\" font-size=\"9.00\">0.52</text>\n",
       "</g>\n",
       "<!-- 2&#45;&gt;2 -->\n",
       "<g id=\"edge5\" class=\"edge\">\n",
       "<title>2&#45;&gt;2</title>\n",
       "<path fill=\"none\" stroke=\"black\" d=\"M187.26,-34.64C183.98,-43.28 185.34,-53.56 191.33,-53.56 196.67,-53.56 198.33,-45.4 196.32,-37.52\"/>\n",
       "<polygon fill=\"black\" stroke=\"black\" points=\"197.31,-37.19 195.41,-34.64 195.31,-37.82 197.31,-37.19\"/>\n",
       "<text text-anchor=\"middle\" x=\"191.33\" y=\"-56.36\" font-family=\"Monospace\" font-size=\"9.00\">(&#39;a&#39;, &#39;&#39;)/0.52</text>\n",
       "</g>\n",
       "<!-- 2&#45;&gt;2 -->\n",
       "<g id=\"edge6\" class=\"edge\">\n",
       "<title>2&#45;&gt;2</title>\n",
       "<path fill=\"none\" stroke=\"black\" d=\"M186.25,-33.85C176.08,-49.21 177.77,-71.56 191.33,-71.56 204.16,-71.56 206.37,-51.59 197.98,-36.43\"/>\n",
       "<polygon fill=\"black\" stroke=\"black\" points=\"198.87,-35.87 196.42,-33.85 197.08,-36.96 198.87,-35.87\"/>\n",
       "<text text-anchor=\"middle\" x=\"191.33\" y=\"-74.36\" font-family=\"Monospace\" font-size=\"9.00\">(&#39;b&#39;, &#39;&#39;)/0.52</text>\n",
       "</g>\n",
       "<!-- 3 -->\n",
       "<g id=\"node5\" class=\"node\">\n",
       "<title>3</title>\n",
       "<ellipse fill=\"none\" stroke=\"black\" cx=\"316.89\" cy=\"-27.78\" rx=\"7.56\" ry=\"7.56\"/>\n",
       "<text text-anchor=\"middle\" x=\"316.89\" y=\"-25.28\" font-family=\"Monospace\" font-size=\"10.00\"> </text>\n",
       "</g>\n",
       "<!-- 2&#45;&gt;3 -->\n",
       "<g id=\"edge7\" class=\"edge\">\n",
       "<title>2&#45;&gt;3</title>\n",
       "<path fill=\"none\" stroke=\"black\" d=\"M199.33,-27.78C220.14,-27.78 281.72,-27.78 305.94,-27.78\"/>\n",
       "<polygon fill=\"black\" stroke=\"black\" points=\"305.97,-28.83 308.97,-27.78 305.97,-26.73 305.97,-28.83\"/>\n",
       "<text text-anchor=\"middle\" x=\"254.11\" y=\"-30.58\" font-family=\"Monospace\" font-size=\"9.00\">(&#39;c&#39;, &#39;&#39;)/0.52</text>\n",
       "</g>\n",
       "<!-- 3&#45;&gt;1 -->\n",
       "<g id=\"edge8\" class=\"edge\">\n",
       "<title>3&#45;&gt;1</title>\n",
       "<path fill=\"none\" stroke=\"black\" d=\"M324.6,-26.65C344.4,-23.31 402.62,-13.48 426.28,-9.49\"/>\n",
       "<polygon fill=\"black\" stroke=\"black\" points=\"426.73,-10.48 429.51,-8.95 426.38,-8.41 426.73,-10.48\"/>\n",
       "<text text-anchor=\"middle\" x=\"377.17\" y=\"-26.58\" font-family=\"Monospace\" font-size=\"9.00\">(&#39;&#39;, &#39;&#39;)/0.52</text>\n",
       "</g>\n",
       "</g>\n",
       "</svg>\n"
      ],
      "text/plain": [
       "WFSA(4 states)"
      ]
     },
     "execution_count": 142,
     "metadata": {},
     "output_type": "execute_result"
    }
   ],
   "source": [
    "c2t"
   ]
  },
  {
   "cell_type": "code",
   "execution_count": 143,
   "id": "498fd077-331a-4eea-8f1e-fbd23958de70",
   "metadata": {},
   "outputs": [
    {
     "data": {
      "text/plain": [
       "-0.6463812067170596"
      ]
     },
     "execution_count": 143,
     "metadata": {},
     "output_type": "execute_result"
    }
   ],
   "source": [
    "c2t.total_weight()"
   ]
  },
  {
   "cell_type": "code",
   "execution_count": null,
   "id": "2a035044-4c12-495a-8b70-1a6bda2cbb40",
   "metadata": {},
   "outputs": [],
   "source": []
  },
  {
   "cell_type": "code",
   "execution_count": 144,
   "id": "2f75719e-28ec-4029-9373-fb8cd17f5543",
   "metadata": {},
   "outputs": [
    {
     "data": {
      "image/svg+xml": [
       "<?xml version=\"1.0\" encoding=\"UTF-8\" standalone=\"no\"?>\n",
       "<!DOCTYPE svg PUBLIC \"-//W3C//DTD SVG 1.1//EN\"\n",
       " \"http://www.w3.org/Graphics/SVG/1.1/DTD/svg11.dtd\">\n",
       "<!-- Generated by graphviz version 2.43.0 (0)\n",
       " -->\n",
       "<!-- Title: %3 Pages: 1 -->\n",
       "<svg width=\"323pt\" height=\"26pt\"\n",
       " viewBox=\"0.00 0.00 322.67 25.78\" xmlns=\"http://www.w3.org/2000/svg\" xmlns:xlink=\"http://www.w3.org/1999/xlink\">\n",
       "<g id=\"graph0\" class=\"graph\" transform=\"scale(1 1) rotate(0) translate(4 21.78)\">\n",
       "<title>%3</title>\n",
       "<polygon fill=\"white\" stroke=\"transparent\" points=\"-4,4 -4,-21.78 318.67,-21.78 318.67,4 -4,4\"/>\n",
       "<!-- start_(&#39;&#39;, (0, 0)) -->\n",
       "<g id=\"node1\" class=\"node\">\n",
       "<title>start_(&#39;&#39;, (0, 0))</title>\n",
       "<ellipse fill=\"black\" stroke=\"black\" cx=\"0\" cy=\"-7.78\" rx=\"0\" ry=\"0\"/>\n",
       "</g>\n",
       "<!-- 0 -->\n",
       "<g id=\"node2\" class=\"node\">\n",
       "<title>0</title>\n",
       "<ellipse fill=\"none\" stroke=\"black\" cx=\"49.78\" cy=\"-7.78\" rx=\"7.56\" ry=\"7.56\"/>\n",
       "<text text-anchor=\"middle\" x=\"49.78\" y=\"-5.28\" font-family=\"Monospace\" font-size=\"10.00\"> </text>\n",
       "</g>\n",
       "<!-- start_(&#39;&#39;, (0, 0))&#45;&gt;0 -->\n",
       "<g id=\"edge1\" class=\"edge\">\n",
       "<title>start_(&#39;&#39;, (0, 0))&#45;&gt;0</title>\n",
       "<path fill=\"none\" stroke=\"black\" d=\"M1.14,-7.78C3.07,-7.78 25.11,-7.78 38.52,-7.78\"/>\n",
       "<polygon fill=\"black\" stroke=\"black\" points=\"38.73,-8.83 41.73,-7.78 38.73,-6.73 38.73,-8.83\"/>\n",
       "<text text-anchor=\"middle\" x=\"21\" y=\"-10.58\" font-family=\"Monospace\" font-size=\"9.00\">1</text>\n",
       "</g>\n",
       "<!-- 1 -->\n",
       "<g id=\"node3\" class=\"node\">\n",
       "<title>1</title>\n",
       "<ellipse fill=\"none\" stroke=\"black\" cx=\"149.33\" cy=\"-7.78\" rx=\"7.56\" ry=\"7.56\"/>\n",
       "<text text-anchor=\"middle\" x=\"149.33\" y=\"-5.28\" font-family=\"Monospace\" font-size=\"10.00\"> </text>\n",
       "</g>\n",
       "<!-- 0&#45;&gt;1 -->\n",
       "<g id=\"edge4\" class=\"edge\">\n",
       "<title>0&#45;&gt;1</title>\n",
       "<path fill=\"none\" stroke=\"black\" d=\"M57.79,-7.78C74.81,-7.78 118.33,-7.78 138.18,-7.78\"/>\n",
       "<polygon fill=\"black\" stroke=\"black\" points=\"138.38,-8.83 141.38,-7.78 138.38,-6.73 138.38,-8.83\"/>\n",
       "<text text-anchor=\"middle\" x=\"99.56\" y=\"-10.58\" font-family=\"Monospace\" font-size=\"9.00\">NAME/0.01</text>\n",
       "</g>\n",
       "<!-- 2 -->\n",
       "<g id=\"node4\" class=\"node\">\n",
       "<title>2</title>\n",
       "<ellipse fill=\"none\" stroke=\"black\" cx=\"248.89\" cy=\"-7.78\" rx=\"7.56\" ry=\"7.56\"/>\n",
       "<text text-anchor=\"middle\" x=\"248.89\" y=\"-5.28\" font-family=\"Monospace\" font-size=\"10.00\"> </text>\n",
       "</g>\n",
       "<!-- 1&#45;&gt;2 -->\n",
       "<g id=\"edge3\" class=\"edge\">\n",
       "<title>1&#45;&gt;2</title>\n",
       "<path fill=\"none\" stroke=\"black\" d=\"M157.35,-7.78C174.37,-7.78 217.88,-7.78 237.74,-7.78\"/>\n",
       "<polygon fill=\"black\" stroke=\"black\" points=\"237.94,-8.83 240.94,-7.78 237.94,-6.73 237.94,-8.83\"/>\n",
       "<text text-anchor=\"middle\" x=\"199.11\" y=\"-10.58\" font-family=\"Monospace\" font-size=\"9.00\">NAME/0.02</text>\n",
       "</g>\n",
       "<!-- stop_(&#39;aaacbbbc&#39;, (1, 1)) -->\n",
       "<g id=\"node5\" class=\"node\">\n",
       "<title>stop_(&#39;aaacbbbc&#39;, (1, 1))</title>\n",
       "<ellipse fill=\"black\" stroke=\"black\" cx=\"314.67\" cy=\"-7.78\" rx=\"0\" ry=\"0\"/>\n",
       "</g>\n",
       "<!-- 2&#45;&gt;stop_(&#39;aaacbbbc&#39;, (1, 1)) -->\n",
       "<g id=\"edge2\" class=\"edge\">\n",
       "<title>2&#45;&gt;stop_(&#39;aaacbbbc&#39;, (1, 1))</title>\n",
       "<path fill=\"none\" stroke=\"black\" d=\"M256.72,-7.78C270.29,-7.78 300.23,-7.78 310.29,-7.78\"/>\n",
       "<polygon fill=\"black\" stroke=\"black\" points=\"310.55,-8.83 313.55,-7.78 310.55,-6.73 310.55,-8.83\"/>\n",
       "<text text-anchor=\"middle\" x=\"285.67\" y=\"-10.58\" font-family=\"Monospace\" font-size=\"9.00\">0.52</text>\n",
       "</g>\n",
       "</g>\n",
       "</svg>\n"
      ],
      "text/plain": [
       "WFSA(3 states)"
      ]
     },
     "execution_count": 144,
     "metadata": {},
     "output_type": "execute_result"
    }
   ],
   "source": [
    "(FST.from_string('aaacbbbc', Float) @ c2t).project(1).epsremove.trim"
   ]
  },
  {
   "cell_type": "code",
   "execution_count": 145,
   "id": "8d50fc3f-398f-479c-911e-3523d6c472ff",
   "metadata": {},
   "outputs": [
    {
     "name": "stdout",
     "output_type": "stream",
     "text": [
      "1.0 ('NAME',)\n",
      "-1.8279039999999986\n"
     ]
    },
    {
     "data": {
      "image/svg+xml": [
       "<?xml version=\"1.0\" encoding=\"UTF-8\" standalone=\"no\"?>\n",
       "<!DOCTYPE svg PUBLIC \"-//W3C//DTD SVG 1.1//EN\"\n",
       " \"http://www.w3.org/Graphics/SVG/1.1/DTD/svg11.dtd\">\n",
       "<!-- Generated by graphviz version 2.43.0 (0)\n",
       " -->\n",
       "<!-- Title: %3 Pages: 1 -->\n",
       "<svg width=\"323pt\" height=\"101pt\"\n",
       " viewBox=\"0.00 0.00 323.11 100.78\" xmlns=\"http://www.w3.org/2000/svg\" xmlns:xlink=\"http://www.w3.org/1999/xlink\">\n",
       "<g id=\"graph0\" class=\"graph\" transform=\"scale(1 1) rotate(0) translate(4 96.78)\">\n",
       "<title>%3</title>\n",
       "<polygon fill=\"white\" stroke=\"transparent\" points=\"-4,4 -4,-96.78 319.11,-96.78 319.11,4 -4,4\"/>\n",
       "<!-- start_(2, (0, (&#39;NAME&#39;,))) -->\n",
       "<g id=\"node1\" class=\"node\">\n",
       "<title>start_(2, (0, (&#39;NAME&#39;,)))</title>\n",
       "<ellipse fill=\"black\" stroke=\"black\" cx=\"0\" cy=\"-40.78\" rx=\"0\" ry=\"0\"/>\n",
       "</g>\n",
       "<!-- 0 -->\n",
       "<g id=\"node2\" class=\"node\">\n",
       "<title>0</title>\n",
       "<ellipse fill=\"none\" stroke=\"black\" cx=\"65.78\" cy=\"-40.78\" rx=\"7.56\" ry=\"7.56\"/>\n",
       "<text text-anchor=\"middle\" x=\"65.78\" y=\"-38.28\" font-family=\"Monospace\" font-size=\"10.00\"> </text>\n",
       "</g>\n",
       "<!-- start_(2, (0, (&#39;NAME&#39;,)))&#45;&gt;0 -->\n",
       "<g id=\"edge1\" class=\"edge\">\n",
       "<title>start_(2, (0, (&#39;NAME&#39;,)))&#45;&gt;0</title>\n",
       "<path fill=\"none\" stroke=\"black\" d=\"M1.05,-40.78C2.47,-40.78 36.67,-40.78 54.37,-40.78\"/>\n",
       "<polygon fill=\"black\" stroke=\"black\" points=\"54.67,-41.83 57.67,-40.78 54.67,-39.73 54.67,-41.83\"/>\n",
       "<text text-anchor=\"middle\" x=\"29\" y=\"-43.58\" font-family=\"Monospace\" font-size=\"9.00\">0.52</text>\n",
       "</g>\n",
       "<!-- 1 -->\n",
       "<g id=\"node3\" class=\"node\">\n",
       "<title>1</title>\n",
       "<ellipse fill=\"none\" stroke=\"black\" cx=\"249.33\" cy=\"-57.78\" rx=\"7.56\" ry=\"7.56\"/>\n",
       "<text text-anchor=\"middle\" x=\"249.33\" y=\"-55.28\" font-family=\"Monospace\" font-size=\"10.00\"> </text>\n",
       "</g>\n",
       "<!-- 0&#45;&gt;1 -->\n",
       "<g id=\"edge5\" class=\"edge\">\n",
       "<title>0&#45;&gt;1</title>\n",
       "<path fill=\"none\" stroke=\"black\" d=\"M72.56,-45.18C84.6,-54.04 113.57,-73.76 141.56,-80.78 177.38,-89.76 220.49,-71.77 239.07,-62.64\"/>\n",
       "<polygon fill=\"black\" stroke=\"black\" points=\"239.83,-63.44 242.04,-61.15 238.89,-61.56 239.83,-63.44\"/>\n",
       "<text text-anchor=\"middle\" x=\"157.56\" y=\"-85.58\" font-family=\"Monospace\" font-size=\"9.00\">c/0.27</text>\n",
       "</g>\n",
       "<!-- 2 -->\n",
       "<g id=\"node4\" class=\"node\">\n",
       "<title>2</title>\n",
       "<ellipse fill=\"none\" stroke=\"black\" cx=\"157.56\" cy=\"-7.78\" rx=\"7.56\" ry=\"7.56\"/>\n",
       "<text text-anchor=\"middle\" x=\"157.56\" y=\"-5.28\" font-family=\"Monospace\" font-size=\"10.00\"> </text>\n",
       "</g>\n",
       "<!-- 0&#45;&gt;2 -->\n",
       "<g id=\"edge3\" class=\"edge\">\n",
       "<title>0&#45;&gt;2</title>\n",
       "<path fill=\"none\" stroke=\"black\" d=\"M73.23,-38.4C88.74,-32.71 128.17,-18.21 146.68,-11.41\"/>\n",
       "<polygon fill=\"black\" stroke=\"black\" points=\"147.22,-12.33 149.67,-10.31 146.49,-10.36 147.22,-12.33\"/>\n",
       "<text text-anchor=\"middle\" x=\"107.56\" y=\"-34.58\" font-family=\"Monospace\" font-size=\"9.00\">a/0.52</text>\n",
       "</g>\n",
       "<!-- 0&#45;&gt;2 -->\n",
       "<g id=\"edge4\" class=\"edge\">\n",
       "<title>0&#45;&gt;2</title>\n",
       "<path fill=\"none\" stroke=\"black\" d=\"M69.6,-33.95C73.31,-25.99 80.66,-13.22 91.56,-7.78 109.24,1.06 133.15,-2.2 146.49,-5.13\"/>\n",
       "<polygon fill=\"black\" stroke=\"black\" points=\"146.49,-6.21 149.65,-5.87 146.96,-4.17 146.49,-6.21\"/>\n",
       "<text text-anchor=\"middle\" x=\"107.56\" y=\"-10.58\" font-family=\"Monospace\" font-size=\"9.00\">b/0.52</text>\n",
       "</g>\n",
       "<!-- stop_(1, (2, (&#39;NAME&#39;,))) -->\n",
       "<g id=\"node5\" class=\"node\">\n",
       "<title>stop_(1, (2, (&#39;NAME&#39;,)))</title>\n",
       "<ellipse fill=\"black\" stroke=\"black\" cx=\"315.11\" cy=\"-57.78\" rx=\"0\" ry=\"0\"/>\n",
       "</g>\n",
       "<!-- 1&#45;&gt;stop_(1, (2, (&#39;NAME&#39;,))) -->\n",
       "<g id=\"edge2\" class=\"edge\">\n",
       "<title>1&#45;&gt;stop_(1, (2, (&#39;NAME&#39;,)))</title>\n",
       "<path fill=\"none\" stroke=\"black\" d=\"M257.16,-57.78C270.73,-57.78 300.67,-57.78 310.74,-57.78\"/>\n",
       "<polygon fill=\"black\" stroke=\"black\" points=\"311,-58.83 314,-57.78 311,-56.73 311,-58.83\"/>\n",
       "<text text-anchor=\"middle\" x=\"286.11\" y=\"-60.58\" font-family=\"Monospace\" font-size=\"9.00\">0.52</text>\n",
       "</g>\n",
       "<!-- 2&#45;&gt;1 -->\n",
       "<g id=\"edge8\" class=\"edge\">\n",
       "<title>2&#45;&gt;1</title>\n",
       "<path fill=\"none\" stroke=\"black\" d=\"M164.73,-11.21C180.16,-19.81 220.49,-42.27 238.91,-52.53\"/>\n",
       "<polygon fill=\"black\" stroke=\"black\" points=\"238.75,-53.64 241.88,-54.18 239.77,-51.81 238.75,-53.64\"/>\n",
       "<text text-anchor=\"middle\" x=\"207.56\" y=\"-45.58\" font-family=\"Monospace\" font-size=\"9.00\">c/0.27</text>\n",
       "</g>\n",
       "<!-- 2&#45;&gt;2 -->\n",
       "<g id=\"edge6\" class=\"edge\">\n",
       "<title>2&#45;&gt;2</title>\n",
       "<path fill=\"none\" stroke=\"black\" d=\"M154.19,-14.9C151.65,-23.48 152.77,-33.56 157.56,-33.56 161.74,-33.56 163.13,-25.84 161.7,-18.17\"/>\n",
       "<polygon fill=\"black\" stroke=\"black\" points=\"162.64,-17.58 160.92,-14.9 160.6,-18.07 162.64,-17.58\"/>\n",
       "<text text-anchor=\"middle\" x=\"157.56\" y=\"-36.36\" font-family=\"Monospace\" font-size=\"9.00\">a/0.52</text>\n",
       "</g>\n",
       "<!-- 2&#45;&gt;2 -->\n",
       "<g id=\"edge7\" class=\"edge\">\n",
       "<title>2&#45;&gt;2</title>\n",
       "<path fill=\"none\" stroke=\"black\" d=\"M153.24,-14.26C145.28,-29.61 146.72,-51.56 157.56,-51.56 167.72,-51.56 169.62,-32.27 163.26,-17.21\"/>\n",
       "<polygon fill=\"black\" stroke=\"black\" points=\"164.1,-16.53 161.88,-14.26 162.2,-17.42 164.1,-16.53\"/>\n",
       "<text text-anchor=\"middle\" x=\"157.56\" y=\"-54.36\" font-family=\"Monospace\" font-size=\"9.00\">b/0.52</text>\n",
       "</g>\n",
       "</g>\n",
       "</svg>\n"
      ],
      "text/plain": [
       "WFSA(3 states)"
      ]
     },
     "metadata": {},
     "output_type": "display_data"
    }
   ],
   "source": [
    "for x, w in cfg.cnf.language(5).items():\n",
    "    print(w, x)\n",
    "    xx = (c2t @ FST.from_string(x, Float)).project(0).epsremove.trim\n",
    "    print(xx.total_weight())\n",
    "    display(xx)"
   ]
  },
  {
   "cell_type": "code",
   "execution_count": null,
   "id": "3dacdd7c-821f-45f8-be65-6b647d6eb751",
   "metadata": {},
   "outputs": [],
   "source": []
  },
  {
   "cell_type": "code",
   "execution_count": null,
   "id": "cccd6a22-816e-41b4-8d42-9db7988bc0b7",
   "metadata": {},
   "outputs": [],
   "source": []
  },
  {
   "cell_type": "code",
   "execution_count": 146,
   "id": "53a2607a-29a9-4ba3-a8d6-f55e086797ae",
   "metadata": {},
   "outputs": [],
   "source": [
    "#cfg_t.cnf.language(5)"
   ]
  },
  {
   "cell_type": "code",
   "execution_count": 147,
   "id": "d2b5b40f-e9ea-4b83-8b96-d067e4c842d9",
   "metadata": {},
   "outputs": [
    {
     "name": "stdout",
     "output_type": "stream",
     "text": [
      "Chart {\n",
      "  (0, Other(x=0), 2): \u001b[1;31m1.4037269924165637e+18\u001b[0m,\n",
      "  (2, '', 2): \u001b[1;31m1.04\u001b[0m,\n",
      "  b: 1,\n",
      "  c: 1,\n",
      "  a: 1,\n",
      "  (3, '', 1): 0.52,\n",
      "  (2, '', 3): 0.52,\n",
      "  (0, 'NAME', 2): 0.52,\n",
      "  (0, 0, 2): 0.52,\n",
      "}\n"
     ]
    }
   ],
   "source": [
    "print(cfg_t.agenda().__str__(style_value=lambda k, v: (colors.light.red % v) if v > 1 or v < 0 else v))"
   ]
  },
  {
   "cell_type": "code",
   "execution_count": 153,
   "id": "338b1f53-fae6-401e-a400-772d5e11aec5",
   "metadata": {},
   "outputs": [
    {
     "data": {
      "text/html": [
       "<div style=\"border-left: thick solid black; padding-left: 3px; margin-bottom: 5px;\"><div style=\"text-align: center; display: inline-block; background-color: #eee; font-family: Monospace; margin: 0px !important; padding: 0px !important;\">\n",
       "    <div style=\"display: inline-block; margin: 0px !important; padding: 0px !important;\">(0, Other(x=0), 2)</div>\n",
       "    <div style=\"display: inline-block; font-size: 8pt; color: #bbb; margin: 0px !important; padding: 0px !important;\">/1.4037269924165637e+18</div>\n",
       "</div>\n",
       "<div style=\"display: inline-block;\">→ <div style=\"text-align: center; display: inline-block; background-color: #eee; font-family: Monospace; margin: 0px !important; padding: 0px !important;\">\n",
       "    <div style=\"display: inline-block; margin: 0px !important; padding: 0px !important;\"></div>\n",
       "    <div style=\"display: inline-block; font-size: 8pt; color: #bbb; margin: 0px !important; padding: 0px !important;\">/1</div>\n",
       "</div>\n",
       "<div style=\"text-align: center; display: inline-block; background-color: #eee; font-family: Monospace; margin: 0px !important; padding: 0px !important;\">\n",
       "    <div style=\"display: inline-block; margin: 0px !important; padding: 0px !important;\">(0, 0, 2)</div>\n",
       "    <div style=\"display: inline-block; font-size: 8pt; color: #bbb; margin: 0px !important; padding: 0px !important;\">/0.52</div>\n",
       "</div>\n",
       " | <div style=\"text-align: center; display: inline-block; background-color: #eee; font-family: Monospace; margin: 0px !important; padding: 0px !important;\">\n",
       "    <div style=\"display: inline-block; margin: 0px !important; padding: 0px !important;\"></div>\n",
       "    <div style=\"display: inline-block; font-size: 8pt; color: #bbb; margin: 0px !important; padding: 0px !important;\">/1</div>\n",
       "</div>\n",
       "<div style=\"text-align: center; display: inline-block; background-color: #eee; font-family: Monospace; margin: 0px !important; padding: 0px !important;\">\n",
       "    <div style=\"display: inline-block; margin: 0px !important; padding: 0px !important;\">(0, Other(x=0), 2)</div>\n",
       "    <div style=\"display: inline-block; font-size: 8pt; color: #bbb; margin: 0px !important; padding: 0px !important;\">/1.4037269924165637e+18</div>\n",
       "</div>\n",
       "<span style=\"padding-right: 10px;\"></span><div style=\"text-align: center; display: inline-block; background-color: #eee; font-family: Monospace; margin: 0px !important; padding: 0px !important;\">\n",
       "    <div style=\"display: inline-block; margin: 0px !important; padding: 0px !important;\">(2, &#x27;&#x27;, 2)</div>\n",
       "    <div style=\"display: inline-block; font-size: 8pt; color: #bbb; margin: 0px !important; padding: 0px !important;\">/1.04</div>\n",
       "</div>\n",
       "</div></div><div style=\"border-left: thick solid black; padding-left: 3px; margin-bottom: 5px;\"><div style=\"text-align: center; display: inline-block; background-color: #eee; font-family: Monospace; margin: 0px !important; padding: 0px !important;\">\n",
       "    <div style=\"display: inline-block; margin: 0px !important; padding: 0px !important;\">(2, &#x27;&#x27;, 2)</div>\n",
       "    <div style=\"display: inline-block; font-size: 8pt; color: #bbb; margin: 0px !important; padding: 0px !important;\">/1.04</div>\n",
       "</div>\n",
       "<div style=\"display: inline-block;\">→ <div style=\"text-align: center; display: inline-block; background-color: #eee; font-family: Monospace; margin: 0px !important; padding: 0px !important;\">\n",
       "    <div style=\"display: inline-block; margin: 0px !important; padding: 0px !important;\"></div>\n",
       "    <div style=\"display: inline-block; font-size: 8pt; color: #bbb; margin: 0px !important; padding: 0px !important;\">/0.52</div>\n",
       "</div>\n",
       "<div style=\"text-align: center; display: inline-block; background-color: #eee; font-family: Monospace; margin: 0px !important; padding: 0px !important;\">\n",
       "    <div style=\"display: inline-block; margin: 0px !important; padding: 0px !important;\">a</div>\n",
       "    <div style=\"display: inline-block; font-size: 8pt; color: #bbb; margin: 0px !important; padding: 0px !important;\">/1</div>\n",
       "</div>\n",
       " | <div style=\"text-align: center; display: inline-block; background-color: #eee; font-family: Monospace; margin: 0px !important; padding: 0px !important;\">\n",
       "    <div style=\"display: inline-block; margin: 0px !important; padding: 0px !important;\"></div>\n",
       "    <div style=\"display: inline-block; font-size: 8pt; color: #bbb; margin: 0px !important; padding: 0px !important;\">/0.52</div>\n",
       "</div>\n",
       "<div style=\"text-align: center; display: inline-block; background-color: #eee; font-family: Monospace; margin: 0px !important; padding: 0px !important;\">\n",
       "    <div style=\"display: inline-block; margin: 0px !important; padding: 0px !important;\">b</div>\n",
       "    <div style=\"display: inline-block; font-size: 8pt; color: #bbb; margin: 0px !important; padding: 0px !important;\">/1</div>\n",
       "</div>\n",
       "</div></div><div style=\"border-left: thick solid black; padding-left: 3px; margin-bottom: 5px;\"><div style=\"text-align: center; display: inline-block; background-color: #eee; font-family: Monospace; margin: 0px !important; padding: 0px !important;\">\n",
       "    <div style=\"display: inline-block; margin: 0px !important; padding: 0px !important;\">(0, 0, 2)</div>\n",
       "    <div style=\"display: inline-block; font-size: 8pt; color: #bbb; margin: 0px !important; padding: 0px !important;\">/0.52</div>\n",
       "</div>\n",
       "<div style=\"display: inline-block;\">→ <div style=\"text-align: center; display: inline-block; background-color: #eee; font-family: Monospace; margin: 0px !important; padding: 0px !important;\">\n",
       "    <div style=\"display: inline-block; margin: 0px !important; padding: 0px !important;\"></div>\n",
       "    <div style=\"display: inline-block; font-size: 8pt; color: #bbb; margin: 0px !important; padding: 0px !important;\">/1.0</div>\n",
       "</div>\n",
       "<div style=\"text-align: center; display: inline-block; background-color: #eee; font-family: Monospace; margin: 0px !important; padding: 0px !important;\">\n",
       "    <div style=\"display: inline-block; margin: 0px !important; padding: 0px !important;\">(0, &#x27;NAME&#x27;, 2)</div>\n",
       "    <div style=\"display: inline-block; font-size: 8pt; color: #bbb; margin: 0px !important; padding: 0px !important;\">/0.52</div>\n",
       "</div>\n",
       "</div></div><div style=\"border-left: thick solid black; padding-left: 3px; margin-bottom: 5px;\"><div style=\"text-align: center; display: inline-block; background-color: #eee; font-family: Monospace; margin: 0px !important; padding: 0px !important;\">\n",
       "    <div style=\"display: inline-block; margin: 0px !important; padding: 0px !important;\">(0, &#x27;NAME&#x27;, 2)</div>\n",
       "    <div style=\"display: inline-block; font-size: 8pt; color: #bbb; margin: 0px !important; padding: 0px !important;\">/0.52</div>\n",
       "</div>\n",
       "<div style=\"display: inline-block;\">→ <div style=\"text-align: center; display: inline-block; background-color: #eee; font-family: Monospace; margin: 0px !important; padding: 0px !important;\">\n",
       "    <div style=\"display: inline-block; margin: 0px !important; padding: 0px !important;\"></div>\n",
       "    <div style=\"display: inline-block; font-size: 8pt; color: #bbb; margin: 0px !important; padding: 0px !important;\">/0.52</div>\n",
       "</div>\n",
       "<div style=\"text-align: center; display: inline-block; background-color: #eee; font-family: Monospace; margin: 0px !important; padding: 0px !important;\">\n",
       "    <div style=\"display: inline-block; margin: 0px !important; padding: 0px !important;\">ε</div>\n",
       "    <div style=\"display: inline-block; font-size: 8pt; color: #bbb; margin: 0px !important; padding: 0px !important;\">/1</div>\n",
       "</div>\n",
       "</div></div><div style=\"border-left: thick solid black; padding-left: 3px; margin-bottom: 5px;\"><div style=\"text-align: center; display: inline-block; background-color: #eee; font-family: Monospace; margin: 0px !important; padding: 0px !important;\">\n",
       "    <div style=\"display: inline-block; margin: 0px !important; padding: 0px !important;\">(2, &#x27;&#x27;, 3)</div>\n",
       "    <div style=\"display: inline-block; font-size: 8pt; color: #bbb; margin: 0px !important; padding: 0px !important;\">/0.52</div>\n",
       "</div>\n",
       "<div style=\"display: inline-block;\">→ <div style=\"text-align: center; display: inline-block; background-color: #eee; font-family: Monospace; margin: 0px !important; padding: 0px !important;\">\n",
       "    <div style=\"display: inline-block; margin: 0px !important; padding: 0px !important;\"></div>\n",
       "    <div style=\"display: inline-block; font-size: 8pt; color: #bbb; margin: 0px !important; padding: 0px !important;\">/0.52</div>\n",
       "</div>\n",
       "<div style=\"text-align: center; display: inline-block; background-color: #eee; font-family: Monospace; margin: 0px !important; padding: 0px !important;\">\n",
       "    <div style=\"display: inline-block; margin: 0px !important; padding: 0px !important;\">c</div>\n",
       "    <div style=\"display: inline-block; font-size: 8pt; color: #bbb; margin: 0px !important; padding: 0px !important;\">/1</div>\n",
       "</div>\n",
       "</div></div><div style=\"border-left: thick solid black; padding-left: 3px; margin-bottom: 5px;\"><div style=\"text-align: center; display: inline-block; background-color: #eee; font-family: Monospace; margin: 0px !important; padding: 0px !important;\">\n",
       "    <div style=\"display: inline-block; margin: 0px !important; padding: 0px !important;\">(3, &#x27;&#x27;, 1)</div>\n",
       "    <div style=\"display: inline-block; font-size: 8pt; color: #bbb; margin: 0px !important; padding: 0px !important;\">/0.52</div>\n",
       "</div>\n",
       "<div style=\"display: inline-block;\">→ <div style=\"text-align: center; display: inline-block; background-color: #eee; font-family: Monospace; margin: 0px !important; padding: 0px !important;\">\n",
       "    <div style=\"display: inline-block; margin: 0px !important; padding: 0px !important;\"></div>\n",
       "    <div style=\"display: inline-block; font-size: 8pt; color: #bbb; margin: 0px !important; padding: 0px !important;\">/0.52</div>\n",
       "</div>\n",
       "<div style=\"text-align: center; display: inline-block; background-color: #eee; font-family: Monospace; margin: 0px !important; padding: 0px !important;\">\n",
       "    <div style=\"display: inline-block; margin: 0px !important; padding: 0px !important;\">ε</div>\n",
       "    <div style=\"display: inline-block; font-size: 8pt; color: #bbb; margin: 0px !important; padding: 0px !important;\">/1</div>\n",
       "</div>\n",
       "</div></div>"
      ],
      "text/plain": [
       "<IPython.core.display.HTML object>"
      ]
     },
     "execution_count": 153,
     "metadata": {},
     "output_type": "execute_result"
    }
   ],
   "source": [
    "show_grammar(cfg_t)"
   ]
  },
  {
   "cell_type": "code",
   "execution_count": 148,
   "id": "a7910d6b-ef03-4e1b-9508-61527d5d1b4e",
   "metadata": {},
   "outputs": [
    {
     "data": {
      "text/html": [
       "<pre style=\"width: fit-content; text-align: left; border: thin solid black; padding: 0.5em;\">Grammar {\n",
       "  1.0: (0, 0, 2) → (0, 'NAME', 2)\n",
       "  1: (0, Other(x=0), 2) → (0, 0, 2)\n",
       "  1: (0, Other(x=0), 2) → (0, Other(x=0), 2) (2, '', 2)\n",
       "  1: (0, Other(x=0), 3) → (0, Other(x=0), 2) (2, '', 3)\n",
       "  1: (0, Other(x=0), 1) → (0, Other(x=0), 3) (3, '', 1)\n",
       "  0.52: 0 → (0, Other(x=0), 1)\n",
       "  0.52: (0, 'NAME', 2) → \n",
       "  0.52: (2, '', 2) → a\n",
       "  0.52: (2, '', 2) → b\n",
       "  0.52: (2, '', 3) → c\n",
       "  0.52: (3, '', 1) → \n",
       "}</pre>"
      ],
      "text/plain": [
       "Grammar {\n",
       "  1.0: (0, 0, 2) → (0, 'NAME', 2)\n",
       "  1: (0, Other(x=0), 2) → (0, 0, 2)\n",
       "  1: (0, Other(x=0), 2) → (0, Other(x=0), 2) (2, '', 2)\n",
       "  1: (0, Other(x=0), 3) → (0, Other(x=0), 2) (2, '', 3)\n",
       "  1: (0, Other(x=0), 1) → (0, Other(x=0), 3) (3, '', 1)\n",
       "  0.52: 0 → (0, Other(x=0), 1)\n",
       "  0.52: (0, 'NAME', 2) → \n",
       "  0.52: (2, '', 2) → a\n",
       "  0.52: (2, '', 2) → b\n",
       "  0.52: (2, '', 3) → c\n",
       "  0.52: (3, '', 1) → \n",
       "}"
      ]
     },
     "execution_count": 148,
     "metadata": {},
     "output_type": "execute_result"
    }
   ],
   "source": [
    "cfg_t"
   ]
  },
  {
   "cell_type": "code",
   "execution_count": 149,
   "id": "3e802766-1a1d-4a1a-ae5d-58baa86719a1",
   "metadata": {},
   "outputs": [],
   "source": [
    "#cfg_t.prefix_grammar.trim()"
   ]
  },
  {
   "cell_type": "code",
   "execution_count": null,
   "id": "31890af4-95bb-4c20-b897-cf7ec4738b6c",
   "metadata": {},
   "outputs": [],
   "source": []
  },
  {
   "cell_type": "code",
   "execution_count": 150,
   "id": "aab018d2-341c-41b3-868d-35e85b5eaa63",
   "metadata": {},
   "outputs": [
    {
     "data": {
      "text/html": [
       "<div style=\"font-family: Monospace;\"><table><tr style=\"font-weight: bold;\"><td>key</td><td>value</td></tr><tr><td>('NAME',)</td><td>1.0</td> </tr></table></div>"
      ],
      "text/plain": [
       "{('NAME',): 1.0}"
      ]
     },
     "execution_count": 150,
     "metadata": {},
     "output_type": "execute_result"
    }
   ],
   "source": [
    "cfg.cnf.language(5)"
   ]
  },
  {
   "cell_type": "code",
   "execution_count": 151,
   "id": "33536045-b132-4b37-8168-e073a6f6d5d3",
   "metadata": {},
   "outputs": [
    {
     "data": {
      "text/html": [
       "<div style=\"font-family: Monospace;\"><table><tr style=\"font-weight: bold;\"><td>key</td><td>value</td></tr><tr><td>('c',)</td><td>0.07311616000000001</td> </tr><tr><td>('b', 'c')</td><td>0.03802040320000001</td> </tr><tr><td>('a', 'c')</td><td>0.03802040320000001</td> </tr><tr><td>('b', 'b', 'c')</td><td>0.019770609664000002</td> </tr><tr><td>('b', 'a', 'c')</td><td>0.019770609664000002</td> </tr><tr><td>('a', 'b', 'c')</td><td>0.019770609664000002</td> </tr><tr><td>('a', 'a', 'c')</td><td>0.019770609664000002</td> </tr></table></div>"
      ],
      "text/plain": [
       "{('c',): 0.07311616000000001, ('b', 'c'): 0.03802040320000001, ('a', 'c'): 0.03802040320000001, ('b', 'b', 'c'): 0.019770609664000002, ('b', 'a', 'c'): 0.019770609664000002, ('a', 'b', 'c'): 0.019770609664000002, ('a', 'a', 'c'): 0.019770609664000002}"
      ]
     },
     "execution_count": 151,
     "metadata": {},
     "output_type": "execute_result"
    }
   ],
   "source": [
    "cfg_t.cnf.language(3)"
   ]
  },
  {
   "cell_type": "code",
   "execution_count": 152,
   "id": "a69cbbed-4846-4578-bd33-0003b37c8184",
   "metadata": {},
   "outputs": [
    {
     "data": {
      "text/html": [
       "<pre style=\"width: fit-content; text-align: left; border: thin solid black; padding: 0.5em;\">Grammar {\n",
       "\n",
       "}</pre>"
      ],
      "text/plain": [
       "Grammar {\n",
       "\n",
       "}"
      ]
     },
     "execution_count": 152,
     "metadata": {},
     "output_type": "execute_result"
    }
   ],
   "source": [
    "cfg_t.prefix_grammar.trim().cnf"
   ]
  },
  {
   "cell_type": "code",
   "execution_count": 131,
   "id": "154d19a8-788f-410f-8ad9-e1423bc144ce",
   "metadata": {},
   "outputs": [],
   "source": [
    "#show_grammar(cfg_t.prefix_grammar.trim())"
   ]
  },
  {
   "cell_type": "code",
   "execution_count": 132,
   "id": "a24794d5-d8e0-4888-b823-1294ffbc83cb",
   "metadata": {},
   "outputs": [
    {
     "data": {
      "image/svg+xml": [
       "<?xml version=\"1.0\" encoding=\"UTF-8\" standalone=\"no\"?>\n",
       "<!DOCTYPE svg PUBLIC \"-//W3C//DTD SVG 1.1//EN\"\n",
       " \"http://www.w3.org/Graphics/SVG/1.1/DTD/svg11.dtd\">\n",
       "<!-- Generated by graphviz version 2.43.0 (0)\n",
       " -->\n",
       "<!-- Title: %3 Pages: 1 -->\n",
       "<svg width=\"54pt\" height=\"146pt\"\n",
       " viewBox=\"0.00 0.00 54.00 146.00\" xmlns=\"http://www.w3.org/2000/svg\" xmlns:xlink=\"http://www.w3.org/1999/xlink\">\n",
       "<g id=\"graph0\" class=\"graph\" transform=\"scale(1 1) rotate(0) translate(4 142)\">\n",
       "<title>%3</title>\n",
       "<polygon fill=\"white\" stroke=\"transparent\" points=\"-4,4 -4,-142 50,-142 50,4 -4,4\"/>\n",
       "<!-- 0 -->\n",
       "<g id=\"node1\" class=\"node\">\n",
       "<title>0</title>\n",
       "<path fill=\"none\" stroke=\"black\" stroke-width=\"0.15\" d=\"M9.33,-138C9.33,-138 4.67,-138 4.67,-138 2.33,-138 0,-135.67 0,-133.33 0,-133.33 0,-126.67 0,-126.67 0,-124.33 2.33,-122 4.67,-122 4.67,-122 9.33,-122 9.33,-122 11.67,-122 14,-124.33 14,-126.67 14,-126.67 14,-133.33 14,-133.33 14,-135.67 11.67,-138 9.33,-138\"/>\n",
       "<text text-anchor=\"middle\" x=\"7\" y=\"-127.8\" font-family=\"Monospace\" font-size=\"9.00\">S</text>\n",
       "</g>\n",
       "<!-- 1 -->\n",
       "<g id=\"node2\" class=\"node\">\n",
       "<title>1</title>\n",
       "<path fill=\"none\" stroke=\"black\" stroke-width=\"0.15\" d=\"M9.33,-77C9.33,-77 4.67,-77 4.67,-77 2.33,-77 0,-74.67 0,-72.33 0,-72.33 0,-65.67 0,-65.67 0,-63.33 2.33,-61 4.67,-61 4.67,-61 9.33,-61 9.33,-61 11.67,-61 14,-63.33 14,-65.67 14,-65.67 14,-72.33 14,-72.33 14,-74.67 11.67,-77 9.33,-77\"/>\n",
       "<text text-anchor=\"middle\" x=\"7\" y=\"-66.8\" font-family=\"Monospace\" font-size=\"9.00\">X</text>\n",
       "</g>\n",
       "<!-- 0&#45;&gt;1 -->\n",
       "<g id=\"edge1\" class=\"edge\">\n",
       "<title>0&#45;&gt;1</title>\n",
       "<path fill=\"none\" stroke=\"black\" stroke-width=\"0.5\" d=\"M7,-121.77C7,-111.95 7,-94.26 7,-82.32\"/>\n",
       "<polygon fill=\"black\" stroke=\"black\" stroke-width=\"0.5\" points=\"7,-77.29 9.25,-82.29 7,-79.79 7,-82.29 7,-82.29 7,-82.29 7,-79.79 4.75,-82.29 7,-77.29 7,-77.29\"/>\n",
       "<text text-anchor=\"middle\" x=\"9.5\" y=\"-97.6\" font-family=\"Monospace\" font-size=\"8.00\">1</text>\n",
       "</g>\n",
       "<!-- 1&#45;&gt;1 -->\n",
       "<g id=\"edge2\" class=\"edge\">\n",
       "<title>1&#45;&gt;1</title>\n",
       "<path fill=\"none\" stroke=\"black\" stroke-width=\"0.5\" d=\"M14.17,-73.13C22.43,-76.06 32,-74.68 32,-69 32,-64.47 25.92,-62.68 19.27,-63.62\"/>\n",
       "<polygon fill=\"black\" stroke=\"black\" stroke-width=\"0.5\" points=\"14.17,-64.87 18.49,-61.49 16.59,-64.27 19.02,-63.68 19.02,-63.68 19.02,-63.68 16.59,-64.27 19.56,-65.86 14.17,-64.87 14.17,-64.87\"/>\n",
       "<text text-anchor=\"middle\" x=\"39\" y=\"-67.1\" font-family=\"Monospace\" font-size=\"8.00\">nan</text>\n",
       "</g>\n",
       "<!-- 2 -->\n",
       "<g id=\"node3\" class=\"node\">\n",
       "<title>2</title>\n",
       "<path fill=\"none\" stroke=\"black\" stroke-width=\"0.15\" d=\"M9.33,-16C9.33,-16 4.67,-16 4.67,-16 2.33,-16 0,-13.67 0,-11.33 0,-11.33 0,-4.67 0,-4.67 0,-2.33 2.33,0 4.67,0 4.67,0 9.33,0 9.33,0 11.67,0 14,-2.33 14,-4.67 14,-4.67 14,-11.33 14,-11.33 14,-13.67 11.67,-16 9.33,-16\"/>\n",
       "<text text-anchor=\"middle\" x=\"7\" y=\"-5.8\" font-family=\"Monospace\" font-size=\"9.00\">a</text>\n",
       "</g>\n",
       "<!-- 1&#45;&gt;2 -->\n",
       "<g id=\"edge3\" class=\"edge\">\n",
       "<title>1&#45;&gt;2</title>\n",
       "<path fill=\"none\" stroke=\"black\" stroke-width=\"0.5\" d=\"M7,-60.77C7,-50.95 7,-33.26 7,-21.32\"/>\n",
       "<polygon fill=\"black\" stroke=\"black\" stroke-width=\"0.5\" points=\"7,-16.29 9.25,-21.29 7,-18.79 7,-21.29 7,-21.29 7,-21.29 7,-18.79 4.75,-21.29 7,-16.29 7,-16.29\"/>\n",
       "<text text-anchor=\"middle\" x=\"9.5\" y=\"-36.6\" font-family=\"Monospace\" font-size=\"8.00\">1</text>\n",
       "</g>\n",
       "</g>\n",
       "</svg>\n"
      ],
      "text/plain": [
       "<genparse.linear.WeightedGraph at 0x7cb80baf4f70>"
      ]
     },
     "execution_count": 132,
     "metadata": {},
     "output_type": "execute_result"
    }
   ],
   "source": [
    "tmp = CFG.from_string('', Float)\n",
    "tmp.add(1, 'S', 'X')\n",
    "tmp.add(np.nan, 'X', 'X')\n",
    "tmp.add(1, 'X', 'a')\n",
    "tmp._unary_graph()"
   ]
  },
  {
   "cell_type": "code",
   "execution_count": 100,
   "id": "31eda7ae-a9a7-481e-b281-cf430f47f9b3",
   "metadata": {},
   "outputs": [
    {
     "data": {
      "text/html": [
       "<div style=\"font-family: Monospace;\"><table><tr style=\"font-weight: bold;\"><td>key</td><td>value</td></tr><tr><td>('X', 'X')</td><td>nan</td> </tr><tr><td>('X', 'a')</td><td>nan</td> </tr><tr><td>('X', 'S')</td><td>nan</td> </tr><tr><td>('a', 'X')</td><td>nan</td> </tr><tr><td>('a', 'a')</td><td>nan</td> </tr><tr><td>('a', 'S')</td><td>nan</td> </tr><tr><td>('S', 'X')</td><td>nan</td> </tr><tr><td>('S', 'a')</td><td>nan</td> </tr><tr><td>('S', 'S')</td><td>nan</td> </tr></table></div>"
      ],
      "text/plain": [
       "{('X', 'X'): nan, ('X', 'a'): nan, ('X', 'S'): nan, ('a', 'X'): nan, ('a', 'a'): nan, ('a', 'S'): nan, ('S', 'X'): nan, ('S', 'a'): nan, ('S', 'S'): nan}"
      ]
     },
     "execution_count": 100,
     "metadata": {},
     "output_type": "execute_result"
    }
   ],
   "source": [
    "tmp._unary_graph().closure_reference()"
   ]
  },
  {
   "cell_type": "code",
   "execution_count": 101,
   "id": "b21a955f-a80a-4c02-9c61-b9a791816534",
   "metadata": {},
   "outputs": [
    {
     "data": {
      "text/html": [
       "<div style=\"font-family: Monospace;\"><table><tr style=\"font-weight: bold;\"><td>key</td><td>value</td></tr><tr><td>('X', 'X')</td><td>nan</td> </tr><tr><td>('X', 'a')</td><td>nan</td> </tr><tr><td>('a', 'X')</td><td>nan</td> </tr><tr><td>('a', 'a')</td><td>nan</td> </tr><tr><td>('S', 'S')</td><td>1.0</td> </tr><tr><td>('S', 'X')</td><td>nan</td> </tr><tr><td>('S', 'a')</td><td>nan</td> </tr></table></div>"
      ],
      "text/plain": [
       "{('X', 'X'): nan, ('X', 'a'): nan, ('a', 'X'): nan, ('a', 'a'): nan, ('S', 'S'): 1.0, ('S', 'X'): nan, ('S', 'a'): nan}"
      ]
     },
     "execution_count": 101,
     "metadata": {},
     "output_type": "execute_result"
    }
   ],
   "source": [
    "tmp._unary_graph().closure_scc_based()"
   ]
  },
  {
   "cell_type": "code",
   "execution_count": 105,
   "id": "8b52a72a-fe2c-46e4-ad96-addd39db5fe3",
   "metadata": {},
   "outputs": [
    {
     "data": {
      "text/plain": [
       "(False, False, False)"
      ]
     },
     "execution_count": 105,
     "metadata": {},
     "output_type": "execute_result"
    }
   ],
   "source": [
    "np.nan > 0, np.nan < 0, np.nan == 0"
   ]
  },
  {
   "cell_type": "code",
   "execution_count": null,
   "id": "319b66e7-8dd0-43d1-bb38-1c1e981e2945",
   "metadata": {},
   "outputs": [],
   "source": []
  },
  {
   "cell_type": "code",
   "execution_count": 3,
   "id": "f9d8ad9c-b38a-4944-b929-281f9c362588",
   "metadata": {},
   "outputs": [],
   "source": [
    "x = 'SELECT * FROM data'"
   ]
  },
  {
   "cell_type": "code",
   "execution_count": null,
   "id": "b0c204c8-4b16-4f0d-94a4-5a955c32a0f5",
   "metadata": {},
   "outputs": [],
   "source": []
  },
  {
   "cell_type": "code",
   "execution_count": 4,
   "id": "b7fa87e3-bcc0-4bdb-9761-451afbf71de2",
   "metadata": {},
   "outputs": [],
   "source": [
    "# g = CFG.from_string(\"\"\"\n",
    "\n",
    "# 1: S -> a\n",
    "\n",
    "# \"\"\", Float)\n",
    "\n",
    "# t = FST(Float)\n",
    "# t.add_I(0, 1)\n",
    "# t.add_arc(0, ('a', ''), 1, 1)\n",
    "# t.add_arc(1, ('', 'b'), 1, 0.5)\n",
    "# t.add_F(1, 1)\n",
    "\n",
    "# (g @ t).language(10)"
   ]
  },
  {
   "cell_type": "code",
   "execution_count": null,
   "id": "43372387-deca-46f3-b9b1-e3026ef41e50",
   "metadata": {},
   "outputs": [],
   "source": []
  },
  {
   "cell_type": "code",
   "execution_count": 10,
   "id": "b2d33444-08fd-453b-bbf7-a53adedd98be",
   "metadata": {},
   "outputs": [
    {
     "data": {
      "text/html": [
       "<div style=\"font-family: Monospace;\"><table><tr style=\"font-weight: bold;\"><td>key</td><td>value</td></tr><tr><td>('S', 'E', 'L', 'E', 'C', 'T', ' ', 'b', 'X')</td><td>0.10941898913151245</td> </tr><tr><td>('S', 'E', 'L', 'E', 'C', 'T', ' ', 'b', 'b', 'X')</td><td>0.09847709021836122</td> </tr><tr><td>('S', 'E', 'L', 'E', 'C', 'T', ' ', 'b', 'b', 'b', 'X')</td><td>0.0886293811965251</td> </tr><tr><td>('S', 'E', 'L', 'E', 'C', 'T', ' ', 'b', 'b', 'b', 'b', 'X')</td><td>0.07976644307687258</td> </tr><tr><td>('S', 'E', 'L', 'E', 'C', 'T', ' ', 'b', 'b', 'b', 'b', 'b', 'X')</td><td>0.07178979876918533</td> </tr><tr><td>('S', 'E', 'L', 'E', 'C', 'T', ' ', 'b', 'b', 'b', 'b', 'b', 'b', 'X')</td><td>0.0646108188922668</td> </tr><tr><td>('S', 'E', 'L', 'E', 'C', 'T', ' ', 'b', 'b', 'b', 'b', 'b', 'b', 'b', 'X')</td><td>0.058149737003040124</td> </tr><tr><td>('S', 'E', 'L', 'E', 'C', 'T', ' ', 'b', 'b', 'b', 'b', 'b', 'b', 'b', 'b', 'X')</td><td>0.05233476330273613</td> </tr><tr><td>('S', 'E', 'L', 'E', 'C', 'T', ' ', 'b', 'b', 'b', 'b', 'b', 'b', 'b', 'b', 'b', 'X')</td><td>0.04710128697246251</td> </tr><tr><td>('S', 'E', 'L', 'E', 'C', 'T', ' ', 'b', 'b', 'b', 'b', 'b', 'b', 'b', 'b', 'b', 'b', 'X')</td><td>0.04239115827521626</td> </tr><tr><td>('S', 'E', 'L', 'E', 'C', 'T', ' ', 'b', 'b', 'b', 'b', 'b', 'b', 'b', 'b', 'b', 'b', 'b', 'X')</td><td>0.038152042447694635</td> </tr><tr><td>('S', 'E', 'L', 'E', 'C', 'T', ' ', 'b', 'b', 'b', 'b', 'b', 'b', 'b', 'b', 'b', 'b', 'b', 'b', 'X')</td><td>0.03433683820292517</td> </tr><tr><td>('S', 'E', 'L', 'E', 'C', 'T', ' ', 'b', 'b', 'b', 'b', 'b', 'b', 'b', 'b', 'b', 'b', 'b', 'b', 'b', 'X')</td><td>0.03090315438263265</td> </tr><tr><td>('S', 'E', 'L', 'E', 'C', 'T', ' ', 'b', 'b', 'b', 'b', 'b', 'b', 'b', 'b', 'b', 'b', 'b', 'b', 'b', 'b', 'X')</td><td>0.027812838944369384</td> </tr></table></div>"
      ],
      "text/plain": [
       "{('S', 'E', 'L', 'E', 'C', 'T', ' ', 'b', 'X'): 0.10941898913151245, ('S', 'E', 'L', 'E', 'C', 'T', ' ', 'b', 'b', 'X'): 0.09847709021836122, ('S', 'E', 'L', 'E', 'C', 'T', ' ', 'b', 'b', 'b', 'X'): 0.0886293811965251, ('S', 'E', 'L', 'E', 'C', 'T', ' ', 'b', 'b', 'b', 'b', 'X'): 0.07976644307687258, ('S', 'E', 'L', 'E', 'C', 'T', ' ', 'b', 'b', 'b', 'b', 'b', 'X'): 0.07178979876918533, ('S', 'E', 'L', 'E', 'C', 'T', ' ', 'b', 'b', 'b', 'b', 'b', 'b', 'X'): 0.0646108188922668, ('S', 'E', 'L', 'E', 'C', 'T', ' ', 'b', 'b', 'b', 'b', 'b', 'b', 'b', 'X'): 0.058149737003040124, ('S', 'E', 'L', 'E', 'C', 'T', ' ', 'b', 'b', 'b', 'b', 'b', 'b', 'b', 'b', 'X'): 0.05233476330273613, ('S', 'E', 'L', 'E', 'C', 'T', ' ', 'b', 'b', 'b', 'b', 'b', 'b', 'b', 'b', 'b', 'X'): 0.04710128697246251, ('S', 'E', 'L', 'E', 'C', 'T', ' ', 'b', 'b', 'b', 'b', 'b', 'b', 'b', 'b', 'b', 'b', 'X'): 0.04239115827521626, ('S', 'E', 'L', 'E', 'C', 'T', ' ', 'b', 'b', 'b', 'b', 'b', 'b', 'b', 'b', 'b', 'b', 'b', 'X'): 0.038152042447694635, ('S', 'E', 'L', 'E', 'C', 'T', ' ', 'b', 'b', 'b', 'b', 'b', 'b', 'b', 'b', 'b', 'b', 'b', 'b', 'X'): 0.03433683820292517, ('S', 'E', 'L', 'E', 'C', 'T', ' ', 'b', 'b', 'b', 'b', 'b', 'b', 'b', 'b', 'b', 'b', 'b', 'b', 'b', 'X'): 0.03090315438263265, ('S', 'E', 'L', 'E', 'C', 'T', ' ', 'b', 'b', 'b', 'b', 'b', 'b', 'b', 'b', 'b', 'b', 'b', 'b', 'b', 'b', 'X'): 0.027812838944369384}"
      ]
     },
     "metadata": {},
     "output_type": "display_data"
    },
    {
     "data": {
      "text/plain": [
       "0.8862702707617798"
      ]
     },
     "execution_count": 10,
     "metadata": {},
     "output_type": "execute_result"
    }
   ],
   "source": [
    "lark_stuff = LarkStuff(r\"\"\"\n",
    "\n",
    "start: \"SELECT\" \" \" NAME \"X\"\n",
    "\n",
    "NAME: /b+/\n",
    "\n",
    "\"\"\")\n",
    "\n",
    "cfg = lark_stuff.convert().renumber()\n",
    "c2t = lark_stuff.transducer(ignore='', decay=.9).renumber\n",
    "cfg_t = (c2t @ cfg).trim()\n",
    "\n",
    "#display(cfg_t)\n",
    "\n",
    "display(cfg_t.language(25))\n",
    "\n",
    "#pg = locally_normalize(cfg_t.cnf).prefix_grammar.trim()\n",
    "#pg = pg.cnf\n",
    "#display(pg)\n",
    "\n",
    "#print(cfg_t.V)\n",
    "pg = PrefixGrammar(cfg_t)\n",
    "\n",
    "pg('SELECT bbb')   # should be nonzero..."
   ]
  },
  {
   "cell_type": "code",
   "execution_count": 6,
   "id": "2a94d6d2-4acf-4bdf-9425-72431e9b8c1c",
   "metadata": {},
   "outputs": [
    {
     "data": {
      "image/svg+xml": [
       "<?xml version=\"1.0\" encoding=\"UTF-8\" standalone=\"no\"?>\n",
       "<!DOCTYPE svg PUBLIC \"-//W3C//DTD SVG 1.1//EN\"\n",
       " \"http://www.w3.org/Graphics/SVG/1.1/DTD/svg11.dtd\">\n",
       "<!-- Generated by graphviz version 2.43.0 (0)\n",
       " -->\n",
       "<!-- Title: %3 Pages: 1 -->\n",
       "<svg width=\"1302pt\" height=\"206pt\"\n",
       " viewBox=\"0.00 0.00 1301.78 205.78\" xmlns=\"http://www.w3.org/2000/svg\" xmlns:xlink=\"http://www.w3.org/1999/xlink\">\n",
       "<g id=\"graph0\" class=\"graph\" transform=\"scale(1 1) rotate(0) translate(4 201.78)\">\n",
       "<title>%3</title>\n",
       "<polygon fill=\"white\" stroke=\"transparent\" points=\"-4,4 -4,-201.78 1297.78,-201.78 1297.78,4 -4,4\"/>\n",
       "<!-- start_0 -->\n",
       "<g id=\"node1\" class=\"node\">\n",
       "<title>start_0</title>\n",
       "<ellipse fill=\"black\" stroke=\"black\" cx=\"0\" cy=\"-84\" rx=\"0\" ry=\"0\"/>\n",
       "</g>\n",
       "<!-- 0 -->\n",
       "<g id=\"node2\" class=\"node\">\n",
       "<title>0</title>\n",
       "<ellipse fill=\"none\" stroke=\"black\" cx=\"49.78\" cy=\"-84\" rx=\"7.56\" ry=\"7.56\"/>\n",
       "<text text-anchor=\"middle\" x=\"49.78\" y=\"-81.5\" font-family=\"Monospace\" font-size=\"10.00\"> </text>\n",
       "</g>\n",
       "<!-- start_0&#45;&gt;0 -->\n",
       "<g id=\"edge1\" class=\"edge\">\n",
       "<title>start_0&#45;&gt;0</title>\n",
       "<path fill=\"none\" stroke=\"black\" d=\"M1.14,-84C3.07,-84 25.11,-84 38.52,-84\"/>\n",
       "<polygon fill=\"black\" stroke=\"black\" points=\"38.73,-85.05 41.73,-84 38.73,-82.95 38.73,-85.05\"/>\n",
       "<text text-anchor=\"middle\" x=\"21\" y=\"-86.8\" font-family=\"Monospace\" font-size=\"9.00\">1</text>\n",
       "</g>\n",
       "<!-- 2 -->\n",
       "<g id=\"node4\" class=\"node\">\n",
       "<title>2</title>\n",
       "<ellipse fill=\"none\" stroke=\"black\" cx=\"196.33\" cy=\"-157\" rx=\"7.56\" ry=\"7.56\"/>\n",
       "<text text-anchor=\"middle\" x=\"196.33\" y=\"-154.5\" font-family=\"Monospace\" font-size=\"10.00\"> </text>\n",
       "</g>\n",
       "<!-- 0&#45;&gt;2 -->\n",
       "<g id=\"edge4\" class=\"edge\">\n",
       "<title>0&#45;&gt;2</title>\n",
       "<path fill=\"none\" stroke=\"black\" d=\"M52.7,-91.49C55.74,-101.81 62.69,-120.24 75.56,-130 109.38,-155.67 163.09,-157.74 185.26,-157.39\"/>\n",
       "<polygon fill=\"black\" stroke=\"black\" points=\"185.32,-158.44 188.29,-157.33 185.27,-156.34 185.32,-158.44\"/>\n",
       "<text text-anchor=\"middle\" x=\"123.06\" y=\"-159.8\" font-family=\"Monospace\" font-size=\"9.00\">(&#39;&#39;, &#39;NAME&#39;)/0.9</text>\n",
       "</g>\n",
       "<!-- 3 -->\n",
       "<g id=\"node5\" class=\"node\">\n",
       "<title>3</title>\n",
       "<ellipse fill=\"none\" stroke=\"black\" cx=\"196.33\" cy=\"-119\" rx=\"7.56\" ry=\"7.56\"/>\n",
       "<text text-anchor=\"middle\" x=\"196.33\" y=\"-116.5\" font-family=\"Monospace\" font-size=\"10.00\"> </text>\n",
       "</g>\n",
       "<!-- 0&#45;&gt;3 -->\n",
       "<g id=\"edge5\" class=\"edge\">\n",
       "<title>0&#45;&gt;3</title>\n",
       "<path fill=\"none\" stroke=\"black\" d=\"M57.11,-87.64C62,-90.31 69.02,-93.83 75.56,-96 115.05,-109.1 164.48,-115.64 185.33,-117.97\"/>\n",
       "<polygon fill=\"black\" stroke=\"black\" points=\"185.33,-119.03 188.42,-118.31 185.55,-116.94 185.33,-119.03\"/>\n",
       "<text text-anchor=\"middle\" x=\"123.06\" y=\"-118.8\" font-family=\"Monospace\" font-size=\"9.00\">(&#39;&#39;, &#39;SELECT&#39;)/0.9</text>\n",
       "</g>\n",
       "<!-- 4 -->\n",
       "<g id=\"node6\" class=\"node\">\n",
       "<title>4</title>\n",
       "<ellipse fill=\"none\" stroke=\"black\" cx=\"196.33\" cy=\"-84\" rx=\"7.56\" ry=\"7.56\"/>\n",
       "<text text-anchor=\"middle\" x=\"196.33\" y=\"-81.5\" font-family=\"Monospace\" font-size=\"10.00\"> </text>\n",
       "</g>\n",
       "<!-- 0&#45;&gt;4 -->\n",
       "<g id=\"edge6\" class=\"edge\">\n",
       "<title>0&#45;&gt;4</title>\n",
       "<path fill=\"none\" stroke=\"black\" d=\"M57.75,-84C81.27,-84 157.76,-84 185.32,-84\"/>\n",
       "<polygon fill=\"black\" stroke=\"black\" points=\"185.43,-85.05 188.43,-84 185.43,-82.95 185.43,-85.05\"/>\n",
       "<text text-anchor=\"middle\" x=\"123.06\" y=\"-86.8\" font-family=\"Monospace\" font-size=\"9.00\">(&#39;&#39;, &#39;SPACE&#39;)/0.9</text>\n",
       "</g>\n",
       "<!-- 5 -->\n",
       "<g id=\"node7\" class=\"node\">\n",
       "<title>5</title>\n",
       "<ellipse fill=\"none\" stroke=\"black\" cx=\"196.33\" cy=\"-44\" rx=\"7.56\" ry=\"7.56\"/>\n",
       "<text text-anchor=\"middle\" x=\"196.33\" y=\"-41.5\" font-family=\"Monospace\" font-size=\"10.00\"> </text>\n",
       "</g>\n",
       "<!-- 0&#45;&gt;5 -->\n",
       "<g id=\"edge7\" class=\"edge\">\n",
       "<title>0&#45;&gt;5</title>\n",
       "<path fill=\"none\" stroke=\"black\" d=\"M56.64,-80.02C61.51,-76.88 68.72,-72.6 75.56,-70 114.63,-55.11 164.28,-47.76 185.26,-45.15\"/>\n",
       "<polygon fill=\"black\" stroke=\"black\" points=\"185.52,-46.17 188.37,-44.77 185.27,-44.09 185.52,-46.17\"/>\n",
       "<text text-anchor=\"middle\" x=\"123.06\" y=\"-72.8\" font-family=\"Monospace\" font-size=\"9.00\">(&#39;&#39;, &#39;X&#39;)/0.9</text>\n",
       "</g>\n",
       "<!-- 1 -->\n",
       "<g id=\"node3\" class=\"node\">\n",
       "<title>1</title>\n",
       "<ellipse fill=\"none\" stroke=\"black\" cx=\"1234\" cy=\"-84\" rx=\"7.56\" ry=\"7.56\"/>\n",
       "<text text-anchor=\"middle\" x=\"1234\" y=\"-81.5\" font-family=\"Monospace\" font-size=\"10.00\"> </text>\n",
       "</g>\n",
       "<!-- 1&#45;&gt;0 -->\n",
       "<g id=\"edge3\" class=\"edge\">\n",
       "<title>1&#45;&gt;0</title>\n",
       "<path fill=\"none\" stroke=\"black\" d=\"M1230.3,-77.08C1226.52,-68.19 1218.92,-52.75 1208.23,-43 1175.82,-13.47 1163.29,0 1119.45,0 195.33,0 195.33,0 195.33,0 138.77,0 119.33,-7.17 75.56,-43 65.58,-51.16 58.6,-64.47 54.65,-73.7\"/>\n",
       "<polygon fill=\"black\" stroke=\"black\" points=\"53.5,-73.72 53.33,-76.9 55.44,-74.52 53.5,-73.72\"/>\n",
       "<text text-anchor=\"middle\" x=\"635.67\" y=\"-2.8\" font-family=\"Monospace\" font-size=\"9.00\">(&#39;&#39;, &#39;&#39;)/0.9</text>\n",
       "</g>\n",
       "<!-- stop_1 -->\n",
       "<g id=\"node17\" class=\"node\">\n",
       "<title>stop_1</title>\n",
       "<ellipse fill=\"black\" stroke=\"black\" cx=\"1293.78\" cy=\"-84\" rx=\"0\" ry=\"0\"/>\n",
       "</g>\n",
       "<!-- 1&#45;&gt;stop_1 -->\n",
       "<g id=\"edge2\" class=\"edge\">\n",
       "<title>1&#45;&gt;stop_1</title>\n",
       "<path fill=\"none\" stroke=\"black\" d=\"M1242.09,-84C1254.7,-84 1280.56,-84 1289.59,-84\"/>\n",
       "<polygon fill=\"black\" stroke=\"black\" points=\"1289.68,-85.05 1292.68,-84 1289.68,-82.95 1289.68,-85.05\"/>\n",
       "<text text-anchor=\"middle\" x=\"1267.78\" y=\"-86.8\" font-family=\"Monospace\" font-size=\"9.00\">0.9</text>\n",
       "</g>\n",
       "<!-- 6 -->\n",
       "<g id=\"node8\" class=\"node\">\n",
       "<title>6</title>\n",
       "<ellipse fill=\"none\" stroke=\"black\" cx=\"430.61\" cy=\"-162\" rx=\"7.56\" ry=\"7.56\"/>\n",
       "<text text-anchor=\"middle\" x=\"430.61\" y=\"-159.5\" font-family=\"Monospace\" font-size=\"10.00\"> </text>\n",
       "</g>\n",
       "<!-- 2&#45;&gt;6 -->\n",
       "<g id=\"edge10\" class=\"edge\">\n",
       "<title>2&#45;&gt;6</title>\n",
       "<path fill=\"none\" stroke=\"black\" d=\"M204.29,-157.15C237.47,-157.86 379.8,-160.93 419.37,-161.78\"/>\n",
       "<polygon fill=\"black\" stroke=\"black\" points=\"419.44,-162.83 422.46,-161.85 419.48,-160.73 419.44,-162.83\"/>\n",
       "<text text-anchor=\"middle\" x=\"256.61\" y=\"-160.8\" font-family=\"Monospace\" font-size=\"9.00\">(&#39;b&#39;, &#39;&#39;)/0.9</text>\n",
       "</g>\n",
       "<!-- 8 -->\n",
       "<g id=\"node10\" class=\"node\">\n",
       "<title>8</title>\n",
       "<ellipse fill=\"none\" stroke=\"black\" cx=\"343.61\" cy=\"-120\" rx=\"7.56\" ry=\"7.56\"/>\n",
       "<text text-anchor=\"middle\" x=\"343.61\" y=\"-117.5\" font-family=\"Monospace\" font-size=\"10.00\"> </text>\n",
       "</g>\n",
       "<!-- 3&#45;&gt;8 -->\n",
       "<g id=\"edge12\" class=\"edge\">\n",
       "<title>3&#45;&gt;8</title>\n",
       "<path fill=\"none\" stroke=\"black\" d=\"M204.34,-119.05C227.98,-119.21 304.85,-119.74 332.55,-119.93\"/>\n",
       "<polygon fill=\"black\" stroke=\"black\" points=\"332.67,-120.98 335.68,-119.95 332.68,-118.88 332.67,-120.98\"/>\n",
       "<text text-anchor=\"middle\" x=\"256.61\" y=\"-121.8\" font-family=\"Monospace\" font-size=\"9.00\">(&#39;S&#39;, &#39;&#39;)/0.9</text>\n",
       "</g>\n",
       "<!-- 13 -->\n",
       "<g id=\"node15\" class=\"node\">\n",
       "<title>13</title>\n",
       "<ellipse fill=\"none\" stroke=\"black\" cx=\"551.17\" cy=\"-84\" rx=\"7.56\" ry=\"7.56\"/>\n",
       "<text text-anchor=\"middle\" x=\"551.17\" y=\"-81.5\" font-family=\"Monospace\" font-size=\"10.00\"> </text>\n",
       "</g>\n",
       "<!-- 4&#45;&gt;13 -->\n",
       "<g id=\"edge19\" class=\"edge\">\n",
       "<title>4&#45;&gt;13</title>\n",
       "<path fill=\"none\" stroke=\"black\" d=\"M204.38,-84C248.58,-84 487.31,-84 539.91,-84\"/>\n",
       "<polygon fill=\"black\" stroke=\"black\" points=\"540.1,-85.05 543.1,-84 540.1,-82.95 540.1,-85.05\"/>\n",
       "<text text-anchor=\"middle\" x=\"343.61\" y=\"-86.8\" font-family=\"Monospace\" font-size=\"9.00\">(&#39; &#39;, &#39;&#39;)/0.9</text>\n",
       "</g>\n",
       "<!-- 14 -->\n",
       "<g id=\"node16\" class=\"node\">\n",
       "<title>14</title>\n",
       "<ellipse fill=\"none\" stroke=\"black\" cx=\"720.17\" cy=\"-42\" rx=\"7.56\" ry=\"7.56\"/>\n",
       "<text text-anchor=\"middle\" x=\"720.17\" y=\"-39.5\" font-family=\"Monospace\" font-size=\"10.00\"> </text>\n",
       "</g>\n",
       "<!-- 5&#45;&gt;14 -->\n",
       "<g id=\"edge21\" class=\"edge\">\n",
       "<title>5&#45;&gt;14</title>\n",
       "<path fill=\"none\" stroke=\"black\" d=\"M204.29,-43.51C225.19,-42.08 289.35,-38 342.61,-38 342.61,-38 342.61,-38 552.17,-38 611.57,-38 682.81,-40.56 708.93,-41.58\"/>\n",
       "<polygon fill=\"black\" stroke=\"black\" points=\"709.13,-42.64 712.17,-41.71 709.21,-40.54 709.13,-42.64\"/>\n",
       "<text text-anchor=\"middle\" x=\"430.61\" y=\"-40.8\" font-family=\"Monospace\" font-size=\"9.00\">(&#39;X&#39;, &#39;&#39;)/0.9</text>\n",
       "</g>\n",
       "<!-- 6&#45;&gt;1 -->\n",
       "<g id=\"edge8\" class=\"edge\">\n",
       "<title>6&#45;&gt;1</title>\n",
       "<path fill=\"none\" stroke=\"black\" d=\"M438.56,-162.2C456.84,-162.7 507.76,-164 550.17,-164 550.17,-164 550.17,-164 1119.45,-164 1162.02,-164 1176.26,-156.13 1208.23,-128 1218.72,-118.76 1225.76,-103.96 1229.57,-94.11\"/>\n",
       "<polygon fill=\"black\" stroke=\"black\" points=\"1230.58,-94.4 1230.65,-91.22 1228.62,-93.66 1230.58,-94.4\"/>\n",
       "<text text-anchor=\"middle\" x=\"804.67\" y=\"-166.8\" font-family=\"Monospace\" font-size=\"9.00\">(&#39;&#39;, &#39;&#39;)/0.9</text>\n",
       "</g>\n",
       "<!-- 6&#45;&gt;6 -->\n",
       "<g id=\"edge9\" class=\"edge\">\n",
       "<title>6&#45;&gt;6</title>\n",
       "<path fill=\"none\" stroke=\"black\" d=\"M424.44,-166.81C416.02,-175.77 418.07,-187.78 430.61,-187.78 441.98,-187.78 444.73,-177.92 438.88,-169.4\"/>\n",
       "<polygon fill=\"black\" stroke=\"black\" points=\"439.49,-168.48 436.78,-166.81 437.85,-169.8 439.49,-168.48\"/>\n",
       "<text text-anchor=\"middle\" x=\"430.61\" y=\"-190.58\" font-family=\"Monospace\" font-size=\"9.00\">(&#39;b&#39;, &#39;&#39;)/0.9</text>\n",
       "</g>\n",
       "<!-- 7 -->\n",
       "<g id=\"node9\" class=\"node\">\n",
       "<title>7</title>\n",
       "<ellipse fill=\"none\" stroke=\"black\" cx=\"1118.45\" cy=\"-120\" rx=\"7.56\" ry=\"7.56\"/>\n",
       "<text text-anchor=\"middle\" x=\"1118.45\" y=\"-117.5\" font-family=\"Monospace\" font-size=\"10.00\"> </text>\n",
       "</g>\n",
       "<!-- 7&#45;&gt;1 -->\n",
       "<g id=\"edge11\" class=\"edge\">\n",
       "<title>7&#45;&gt;1</title>\n",
       "<path fill=\"none\" stroke=\"black\" d=\"M1126.52,-118.74C1141.79,-115.9 1178.81,-108.35 1208.23,-97 1213.78,-94.86 1219.7,-91.79 1224.35,-89.17\"/>\n",
       "<polygon fill=\"black\" stroke=\"black\" points=\"1224.99,-90.01 1227.08,-87.61 1223.95,-88.19 1224.99,-90.01\"/>\n",
       "<text text-anchor=\"middle\" x=\"1176.23\" y=\"-116.8\" font-family=\"Monospace\" font-size=\"9.00\">(&#39;&#39;, &#39;&#39;)/0.9</text>\n",
       "</g>\n",
       "<!-- 9 -->\n",
       "<g id=\"node11\" class=\"node\">\n",
       "<title>9</title>\n",
       "<ellipse fill=\"none\" stroke=\"black\" cx=\"490.89\" cy=\"-120\" rx=\"7.56\" ry=\"7.56\"/>\n",
       "<text text-anchor=\"middle\" x=\"490.89\" y=\"-117.5\" font-family=\"Monospace\" font-size=\"10.00\"> </text>\n",
       "</g>\n",
       "<!-- 8&#45;&gt;9 -->\n",
       "<g id=\"edge13\" class=\"edge\">\n",
       "<title>8&#45;&gt;9</title>\n",
       "<path fill=\"none\" stroke=\"black\" d=\"M351.62,-120C375.26,-120 452.13,-120 479.83,-120\"/>\n",
       "<polygon fill=\"black\" stroke=\"black\" points=\"479.95,-121.05 482.95,-120 479.95,-118.95 479.95,-121.05\"/>\n",
       "<text text-anchor=\"middle\" x=\"430.61\" y=\"-122.8\" font-family=\"Monospace\" font-size=\"9.00\">(&#39;E&#39;, &#39;&#39;)/0.9</text>\n",
       "</g>\n",
       "<!-- 10 -->\n",
       "<g id=\"node12\" class=\"node\">\n",
       "<title>10</title>\n",
       "<ellipse fill=\"none\" stroke=\"black\" cx=\"635.67\" cy=\"-120\" rx=\"7.56\" ry=\"7.56\"/>\n",
       "<text text-anchor=\"middle\" x=\"635.67\" y=\"-117.5\" font-family=\"Monospace\" font-size=\"10.00\"> </text>\n",
       "</g>\n",
       "<!-- 9&#45;&gt;10 -->\n",
       "<g id=\"edge14\" class=\"edge\">\n",
       "<title>9&#45;&gt;10</title>\n",
       "<path fill=\"none\" stroke=\"black\" d=\"M498.78,-120C522.01,-120 597.56,-120 624.78,-120\"/>\n",
       "<polygon fill=\"black\" stroke=\"black\" points=\"624.85,-121.05 627.85,-120 624.85,-118.95 624.85,-121.05\"/>\n",
       "<text text-anchor=\"middle\" x=\"551.17\" y=\"-122.8\" font-family=\"Monospace\" font-size=\"9.00\">(&#39;L&#39;, &#39;&#39;)/0.9</text>\n",
       "</g>\n",
       "<!-- 11 -->\n",
       "<g id=\"node13\" class=\"node\">\n",
       "<title>11</title>\n",
       "<ellipse fill=\"none\" stroke=\"black\" cx=\"804.67\" cy=\"-120\" rx=\"7.56\" ry=\"7.56\"/>\n",
       "<text text-anchor=\"middle\" x=\"804.67\" y=\"-117.5\" font-family=\"Monospace\" font-size=\"10.00\"> </text>\n",
       "</g>\n",
       "<!-- 10&#45;&gt;11 -->\n",
       "<g id=\"edge15\" class=\"edge\">\n",
       "<title>10&#45;&gt;11</title>\n",
       "<path fill=\"none\" stroke=\"black\" d=\"M643.84,-120C670.35,-120 762.78,-120 793.59,-120\"/>\n",
       "<polygon fill=\"black\" stroke=\"black\" points=\"793.71,-121.05 796.71,-120 793.71,-118.95 793.71,-121.05\"/>\n",
       "<text text-anchor=\"middle\" x=\"720.17\" y=\"-122.8\" font-family=\"Monospace\" font-size=\"9.00\">(&#39;E&#39;, &#39;&#39;)/0.9</text>\n",
       "</g>\n",
       "<!-- 12 -->\n",
       "<g id=\"node14\" class=\"node\">\n",
       "<title>12</title>\n",
       "<ellipse fill=\"none\" stroke=\"black\" cx=\"973.67\" cy=\"-120\" rx=\"7.56\" ry=\"7.56\"/>\n",
       "<text text-anchor=\"middle\" x=\"973.67\" y=\"-117.5\" font-family=\"Monospace\" font-size=\"10.00\"> </text>\n",
       "</g>\n",
       "<!-- 11&#45;&gt;12 -->\n",
       "<g id=\"edge16\" class=\"edge\">\n",
       "<title>11&#45;&gt;12</title>\n",
       "<path fill=\"none\" stroke=\"black\" d=\"M812.84,-120C839.35,-120 931.78,-120 962.59,-120\"/>\n",
       "<polygon fill=\"black\" stroke=\"black\" points=\"962.71,-121.05 965.71,-120 962.71,-118.95 962.71,-121.05\"/>\n",
       "<text text-anchor=\"middle\" x=\"889.17\" y=\"-122.8\" font-family=\"Monospace\" font-size=\"9.00\">(&#39;C&#39;, &#39;&#39;)/0.9</text>\n",
       "</g>\n",
       "<!-- 12&#45;&gt;7 -->\n",
       "<g id=\"edge17\" class=\"edge\">\n",
       "<title>12&#45;&gt;7</title>\n",
       "<path fill=\"none\" stroke=\"black\" d=\"M981.56,-120C1004.79,-120 1080.33,-120 1107.56,-120\"/>\n",
       "<polygon fill=\"black\" stroke=\"black\" points=\"1107.63,-121.05 1110.63,-120 1107.63,-118.95 1107.63,-121.05\"/>\n",
       "<text text-anchor=\"middle\" x=\"1058.17\" y=\"-122.8\" font-family=\"Monospace\" font-size=\"9.00\">(&#39;T&#39;, &#39;&#39;)/0.9</text>\n",
       "</g>\n",
       "<!-- 13&#45;&gt;1 -->\n",
       "<g id=\"edge18\" class=\"edge\">\n",
       "<title>13&#45;&gt;1</title>\n",
       "<path fill=\"none\" stroke=\"black\" d=\"M559.17,-84C582.11,-84 657.12,-84 719.17,-84 719.17,-84 719.17,-84 1119.45,-84 1157.65,-84 1203.09,-84 1222.91,-84\"/>\n",
       "<polygon fill=\"black\" stroke=\"black\" points=\"1223.09,-85.05 1226.09,-84 1223.09,-82.95 1223.09,-85.05\"/>\n",
       "<text text-anchor=\"middle\" x=\"889.17\" y=\"-86.8\" font-family=\"Monospace\" font-size=\"9.00\">(&#39;&#39;, &#39;&#39;)/0.9</text>\n",
       "</g>\n",
       "<!-- 14&#45;&gt;1 -->\n",
       "<g id=\"edge20\" class=\"edge\">\n",
       "<title>14&#45;&gt;1</title>\n",
       "<path fill=\"none\" stroke=\"black\" d=\"M728.17,-42.29C751.11,-43.2 826.11,-46 888.17,-46 888.17,-46 888.17,-46 1119.45,-46 1160.32,-46 1170.41,-54.49 1208.23,-70 1213.83,-72.3 1219.75,-75.6 1224.39,-78.43\"/>\n",
       "<polygon fill=\"black\" stroke=\"black\" points=\"1224,-79.42 1227.11,-80.11 1225.11,-77.64 1224,-79.42\"/>\n",
       "<text text-anchor=\"middle\" x=\"973.67\" y=\"-48.8\" font-family=\"Monospace\" font-size=\"9.00\">(&#39;&#39;, &#39;&#39;)/0.9</text>\n",
       "</g>\n",
       "</g>\n",
       "</svg>\n"
      ],
      "text/plain": [
       "WFSA(15 states)"
      ]
     },
     "execution_count": 6,
     "metadata": {},
     "output_type": "execute_result"
    }
   ],
   "source": [
    "c2t"
   ]
  },
  {
   "cell_type": "code",
   "execution_count": null,
   "id": "d9d14541-2722-4986-a4bc-03dddcbad0c9",
   "metadata": {},
   "outputs": [],
   "source": [
    "c2t(None, ('NAME',)).epsremove.trim.total_weight()"
   ]
  },
  {
   "cell_type": "code",
   "execution_count": null,
   "id": "e0d7e90b-702f-4079-b7e8-6f17b13e5151",
   "metadata": {},
   "outputs": [],
   "source": [
    "cfg_t.language(19)"
   ]
  },
  {
   "cell_type": "code",
   "execution_count": null,
   "id": "23527faf-b78f-4d94-ab5d-43cd684187fb",
   "metadata": {},
   "outputs": [],
   "source": [
    "cfg_t.cnf.trim()"
   ]
  },
  {
   "cell_type": "code",
   "execution_count": null,
   "id": "9a6bd7b3-7ae5-48a5-8d93-882f241293cc",
   "metadata": {},
   "outputs": [],
   "source": [
    "locally_normalize(cfg_t.cnf).treesum()"
   ]
  },
  {
   "cell_type": "code",
   "execution_count": null,
   "id": "307c0737-3215-4123-812e-3ce6a3660f6b",
   "metadata": {},
   "outputs": [],
   "source": [
    "locally_normalize(cfg_t.cnf).trim()"
   ]
  },
  {
   "cell_type": "code",
   "execution_count": null,
   "id": "39d02564-dedd-4e9a-a7b8-9eb0c825ef89",
   "metadata": {},
   "outputs": [],
   "source": [
    "locally_normalize(cfg_t.cnf).prefix_grammar.trim()"
   ]
  },
  {
   "cell_type": "markdown",
   "id": "d3e142ef-2966-4614-aa72-5a998059dc50",
   "metadata": {},
   "source": [
    "## Lexing"
   ]
  },
  {
   "cell_type": "code",
   "execution_count": null,
   "id": "db2f8551-e3aa-474b-92d5-3219ad81b36c",
   "metadata": {},
   "outputs": [],
   "source": [
    "lark_stuff = LarkStuff(r\"\"\"\n",
    "\n",
    "start: \"SELECT\" WS STAR WS \"FROM\" WS NAME WS EOS\n",
    "\n",
    "EOS: \"</s>\"\n",
    "NAME: /[A-Za-z]+/\n",
    "STAR: \"*\"\n",
    "WS: /[ ]/\n",
    "\n",
    "\"\"\")"
   ]
  },
  {
   "cell_type": "code",
   "execution_count": null,
   "id": "78a60e9d-e85b-4759-8653-bcccd72c02dd",
   "metadata": {},
   "outputs": [],
   "source": [
    "cfg = lark_stuff.convert().renumber()"
   ]
  },
  {
   "cell_type": "code",
   "execution_count": null,
   "id": "db081114-ac49-4e6d-9c8f-b078966f965e",
   "metadata": {},
   "outputs": [],
   "source": [
    "c2t = lark_stuff.transducer(ignore='', decay=.7); len(c2t.states)"
   ]
  },
  {
   "cell_type": "code",
   "execution_count": null,
   "id": "1e5502ab-f3be-450b-9f8a-c44614be1cb2",
   "metadata": {},
   "outputs": [],
   "source": [
    "#c2t"
   ]
  },
  {
   "cell_type": "markdown",
   "id": "4b8fd795-8971-41aa-8347-883ec12f0623",
   "metadata": {},
   "source": [
    "The `lark` library will only lex it one way because it has a deterministic semantics for prioritized lexing:"
   ]
  },
  {
   "cell_type": "code",
   "execution_count": null,
   "id": "3b469dfa-1951-419e-918d-2753befef16c",
   "metadata": {},
   "outputs": [],
   "source": [
    "list(lark_stuff.lex(x))"
   ]
  },
  {
   "cell_type": "markdown",
   "id": "890c4399-43c6-44f3-ba0a-9d4c720591ed",
   "metadata": {},
   "source": [
    "However, this string can lex many different ways:"
   ]
  },
  {
   "cell_type": "code",
   "execution_count": null,
   "id": "e4b13795-6d91-4604-847f-76a1cbec7576",
   "metadata": {},
   "outputs": [],
   "source": [
    "ambig = (FST.from_string(x, Float) @ c2t).trim.project(1).epsremove.trim.to_cfg().cnf.language(15)"
   ]
  },
  {
   "cell_type": "code",
   "execution_count": null,
   "id": "6d725b7f-f4c0-4cd5-8f0f-61bda50afe36",
   "metadata": {},
   "outputs": [],
   "source": [
    "#ambig"
   ]
  },
  {
   "cell_type": "markdown",
   "id": "1113c156-60a3-48c9-846f-cf9487dc5125",
   "metadata": {},
   "source": [
    "It might be fine to allow ambiguous lexing because very few of the possibly lexing options will survive the parser."
   ]
  },
  {
   "cell_type": "code",
   "execution_count": null,
   "id": "a7cb2cbf-8561-4b15-9713-5942a0568883",
   "metadata": {},
   "outputs": [],
   "source": [
    "for y in ambig:\n",
    "    v = cfg.prefix_weight(y)   # show all options with a nonzero prefix weight\n",
    "    if v == 0: continue\n",
    "    print(v, y)"
   ]
  },
  {
   "cell_type": "code",
   "execution_count": null,
   "id": "1f483463-8e3f-4e50-ab23-55fc4cf313cd",
   "metadata": {},
   "outputs": [],
   "source": []
  },
  {
   "cell_type": "code",
   "execution_count": null,
   "id": "5ddeacb6-c2d1-4338-ac43-08f6dfe4dfea",
   "metadata": {},
   "outputs": [],
   "source": [
    "#((FST.from_string('SELECT', Float) @ c2t) @ P.T @ cfg).trim().cnf.language(15)"
   ]
  },
  {
   "cell_type": "code",
   "execution_count": null,
   "id": "e0efbe84-53c3-4d07-8a32-956036803019",
   "metadata": {},
   "outputs": [],
   "source": [
    "#(P.T @ cfg).trim().cnf.language(100)"
   ]
  },
  {
   "cell_type": "code",
   "execution_count": null,
   "id": "dfc2e37c-55cc-485b-b755-3281ad9aaa0a",
   "metadata": {},
   "outputs": [],
   "source": [
    "cfg_t = (c2t.renumber @ cfg).trim()"
   ]
  },
  {
   "cell_type": "code",
   "execution_count": null,
   "id": "61895c06-fce8-4fb2-945b-2521c31ce11c",
   "metadata": {},
   "outputs": [],
   "source": [
    "#cfg_t.cnf.trim().language(13)"
   ]
  },
  {
   "cell_type": "code",
   "execution_count": null,
   "id": "ef90bc7f-7427-4702-a096-4cbbe9a40df9",
   "metadata": {},
   "outputs": [],
   "source": [
    "#cfg_t.V"
   ]
  },
  {
   "cell_type": "code",
   "execution_count": null,
   "id": "0bf52e0a-d21e-4aa7-8426-63eff4c3dd0c",
   "metadata": {},
   "outputs": [],
   "source": [
    "#cfg_t.agenda(maxiter=100)"
   ]
  },
  {
   "cell_type": "code",
   "execution_count": null,
   "id": "c28c2c09-fc6b-4d5e-aec1-96ba2cb56049",
   "metadata": {},
   "outputs": [],
   "source": [
    "#cfg_t.prefix_grammar('SEL')   # XXX: we what to run this, but the composition with c2t results in divergence!"
   ]
  },
  {
   "cell_type": "code",
   "execution_count": null,
   "id": "ac0aaff7-d82f-4834-89f6-54995723832a",
   "metadata": {},
   "outputs": [],
   "source": [
    "#chart = cfg_t.agenda()\n",
    "#chart"
   ]
  },
  {
   "cell_type": "code",
   "execution_count": null,
   "id": "6207fccb-5a42-466f-bf5f-4a0a3e542457",
   "metadata": {},
   "outputs": [],
   "source": [
    "#chart = cfg_t.agenda(maxiter=100)"
   ]
  },
  {
   "cell_type": "code",
   "execution_count": null,
   "id": "439c4ce7-d3f5-430f-9b4d-ebe026ae7672",
   "metadata": {},
   "outputs": [],
   "source": [
    "#for block in cfg_t.dependency_graph().blocks():\n",
    "#    if any( chart[y] > 1.001 for y in  block ):\n",
    "#        print(block, [chart[y] for y in block])"
   ]
  },
  {
   "cell_type": "code",
   "execution_count": null,
   "id": "0bbc4e17-e19b-48e4-b663-274a57411742",
   "metadata": {},
   "outputs": [],
   "source": [
    "#show_grammar(cfg_t)"
   ]
  },
  {
   "cell_type": "code",
   "execution_count": null,
   "id": "86719368-a8cb-48f3-b297-173b044a2333",
   "metadata": {},
   "outputs": [],
   "source": [
    "#cfg_t.agenda()"
   ]
  },
  {
   "cell_type": "code",
   "execution_count": null,
   "id": "ba25a101-6798-4a11-9ecc-d2db2e353022",
   "metadata": {},
   "outputs": [],
   "source": [
    "#cfg_t.cnf.trim().prefix_grammar.cnf('SELECT * FR')"
   ]
  },
  {
   "cell_type": "code",
   "execution_count": null,
   "id": "405b0d8c-fd5e-4746-a959-c847a3a7bb25",
   "metadata": {},
   "outputs": [],
   "source": [
    "cfg_t.trim().cnf('SELECT * FROM data </s>')"
   ]
  },
  {
   "cell_type": "code",
   "execution_count": null,
   "id": "83c86df1-8d2c-4db0-b08c-c16fa5e9e905",
   "metadata": {},
   "outputs": [],
   "source": [
    "pg = locally_normalize(cfg_t.cnf.trim()).prefix_grammar.trim()\n",
    "pg = pg.cnf"
   ]
  },
  {
   "cell_type": "code",
   "execution_count": null,
   "id": "6f8aebfe-8613-4a6c-a624-428ffc772d12",
   "metadata": {},
   "outputs": [],
   "source": [
    "pg('SEL')"
   ]
  },
  {
   "cell_type": "code",
   "execution_count": null,
   "id": "eb0847a4-2880-44f6-928e-18a6a74d5141",
   "metadata": {},
   "outputs": [],
   "source": [
    "pg('SELECT *')"
   ]
  },
  {
   "cell_type": "code",
   "execution_count": null,
   "id": "857feb25-f028-43cc-810b-09b905e550df",
   "metadata": {},
   "outputs": [],
   "source": [
    "lm = CFGLM(add_EOS(locally_normalize(cfg_t.cnf.trim())))"
   ]
  },
  {
   "cell_type": "code",
   "execution_count": null,
   "id": "8658feb1-73eb-4610-8ea7-f5292b698a66",
   "metadata": {},
   "outputs": [],
   "source": [
    "for _ in range(10):\n",
    "    print(''.join(lm.sample()))"
   ]
  },
  {
   "cell_type": "code",
   "execution_count": null,
   "id": "e74937eb-de5b-480b-997b-97ebd348bd23",
   "metadata": {},
   "outputs": [],
   "source": []
  },
  {
   "cell_type": "code",
   "execution_count": null,
   "id": "a6be40a1-cc63-454a-a3d5-2ac66baba86a",
   "metadata": {},
   "outputs": [],
   "source": [
    "lm.p_next('SELECT * FROM ')"
   ]
  },
  {
   "cell_type": "code",
   "execution_count": null,
   "id": "5cb1a591-6822-43d3-98b0-d66c61010a1f",
   "metadata": {},
   "outputs": [],
   "source": [
    "#cfg_t.cnf.language(13)"
   ]
  },
  {
   "cell_type": "code",
   "execution_count": null,
   "id": "e8894d33-e296-40cc-a244-b5e42d2387ff",
   "metadata": {},
   "outputs": [],
   "source": [
    "cfg_t('SELECT * FROM data </s>')"
   ]
  },
  {
   "cell_type": "code",
   "execution_count": null,
   "id": "a0b2bac3-2d67-4b1a-81ab-39fd0c5ac223",
   "metadata": {},
   "outputs": [],
   "source": []
  },
  {
   "cell_type": "code",
   "execution_count": null,
   "id": "8c275849-4b75-4da7-9b1d-428dc2dba3e3",
   "metadata": {},
   "outputs": [],
   "source": [
    "#lm = CFGLM(cfg_t)"
   ]
  },
  {
   "cell_type": "markdown",
   "id": "0f0582ac-3451-4b7f-bcb0-1fc2cdc8efbe",
   "metadata": {
    "jp-MarkdownHeadingCollapsed": true
   },
   "source": [
    "## BPE Basics"
   ]
  },
  {
   "cell_type": "code",
   "execution_count": null,
   "id": "66dddc70-9ccd-4e03-9135-8461fb0c831b",
   "metadata": {},
   "outputs": [],
   "source": [
    "hf_tk = hf_tokenizer()\n",
    "tokenizer = hf_tk.tokenizer"
   ]
  },
  {
   "cell_type": "code",
   "execution_count": null,
   "id": "3113a7ae-ea16-4b18-9612-70b4fdcee7b2",
   "metadata": {},
   "outputs": [],
   "source": [
    "b2c = hf_tk.fst\n",
    "len(b2c.states)"
   ]
  },
  {
   "cell_type": "code",
   "execution_count": null,
   "id": "822277b4-4f0f-43a2-8783-e6a5831109a2",
   "metadata": {},
   "outputs": [],
   "source": [
    "x = 'SELECT * FROM data'\n",
    "b = tokenizer.encode(x)\n",
    "b"
   ]
  },
  {
   "cell_type": "code",
   "execution_count": null,
   "id": "5a439aee-06e4-4e3c-b244-892f29ddc63b",
   "metadata": {},
   "outputs": [],
   "source": [
    "[tokenizer.decode([bb]) for bb in b]"
   ]
  },
  {
   "cell_type": "code",
   "execution_count": null,
   "id": "c76fb131-441b-4a32-b882-96fac76c0a9a",
   "metadata": {},
   "outputs": [],
   "source": [
    "#FST.from_pairs(hf_tk.pairs[1000:1020], Float).star().epsremove.trim"
   ]
  },
  {
   "cell_type": "code",
   "execution_count": null,
   "id": "54a5ff04-03bb-4965-9f05-8085c90dce5e",
   "metadata": {},
   "outputs": [],
   "source": [
    "with timeit('composition'):\n",
    "    c = FST.from_string(tuple(b), Float) @ b2c\n",
    "about(c)"
   ]
  },
  {
   "cell_type": "code",
   "execution_count": null,
   "id": "3f35ab22-cc99-4b61-836d-5109ae8934fd",
   "metadata": {},
   "outputs": [],
   "source": [
    "c.trim"
   ]
  },
  {
   "cell_type": "markdown",
   "id": "5e537195-c06c-4642-8a15-557de5a90f98",
   "metadata": {},
   "source": [
    "We can build this \"transducer\" more efficiently"
   ]
  },
  {
   "cell_type": "code",
   "execution_count": null,
   "id": "3cd29a5c-4b4a-4d65-b3e5-f4375b607fdb",
   "metadata": {},
   "outputs": [],
   "source": [
    "t = bpe2term_approx(tokenizer, tokenizer.encode(x)).epsremove.trim\n",
    "t"
   ]
  },
  {
   "cell_type": "markdown",
   "id": "d2df7b26-8065-4ae0-a83d-19d7b5cc436f",
   "metadata": {
    "jp-MarkdownHeadingCollapsed": true
   },
   "source": [
    "## BPE Ambiguity"
   ]
  },
  {
   "cell_type": "code",
   "execution_count": null,
   "id": "ac49282e-6174-4ab2-9c52-7be7663ecdae",
   "metadata": {},
   "outputs": [],
   "source": [
    "with timeit('composition'):\n",
    "    bs = b2c @ FST.from_string(x, Float)\n",
    "with timeit('trim'):\n",
    "    bs.trim\n",
    "about(bs)"
   ]
  },
  {
   "cell_type": "code",
   "execution_count": null,
   "id": "ccf89bc2-a985-44bc-b099-676221f34b05",
   "metadata": {},
   "outputs": [],
   "source": [
    "#bs.trim"
   ]
  },
  {
   "cell_type": "markdown",
   "id": "1f9e46e7-f348-4790-9f2e-ab3812c61f41",
   "metadata": {},
   "source": [
    "The automaton below describes all the BPE sequences that generate the string `x`:"
   ]
  },
  {
   "cell_type": "code",
   "execution_count": null,
   "id": "072cb3c3-6828-4a2d-88d5-d5d5fee491d1",
   "metadata": {},
   "outputs": [],
   "source": [
    "bs.trim.project(0).epsremove.trim"
   ]
  },
  {
   "cell_type": "markdown",
   "id": "c1a488f7-91ff-4d0a-a825-c2da8bbccc29",
   "metadata": {},
   "source": [
    "To see all the BPE sequences that generate `x` run the cell below:"
   ]
  },
  {
   "cell_type": "code",
   "execution_count": null,
   "id": "5ca21894-4a66-4d57-b631-f64f4fc2b575",
   "metadata": {},
   "outputs": [],
   "source": [
    "#for y in bs.trim.project(0).epsremove.trim.to_cfg().language(10):\n",
    "#    print(tokenizer.decode(y), y)"
   ]
  },
  {
   "cell_type": "code",
   "execution_count": null,
   "id": "e079fab7-8d78-4f00-b77f-cfc4615c861f",
   "metadata": {},
   "outputs": [],
   "source": [
    "#show_grammar(cfg_t, chart)"
   ]
  },
  {
   "cell_type": "code",
   "execution_count": null,
   "id": "fe16da90-e20c-4ff5-87c2-728b637cffd4",
   "metadata": {},
   "outputs": [],
   "source": [
    "#cfg_t"
   ]
  },
  {
   "cell_type": "markdown",
   "id": "d316859a-4e11-4f86-8998-65c0e424bb52",
   "metadata": {},
   "source": [
    "## BPE-to-Terminal"
   ]
  },
  {
   "cell_type": "code",
   "execution_count": null,
   "id": "819e6f5a-ed40-4400-8e88-9bfabc6b62d4",
   "metadata": {},
   "outputs": [],
   "source": [
    "#FST.from_string(tuple(b), Float) @ b2c"
   ]
  },
  {
   "cell_type": "code",
   "execution_count": null,
   "id": "0d4ea59e-84a5-4e8a-bb2d-c84c0ef19c30",
   "metadata": {},
   "outputs": [],
   "source": [
    "#t.to_cfg().cnf.language(50)"
   ]
  },
  {
   "cell_type": "code",
   "execution_count": null,
   "id": "c3f4e86d-dac3-4566-ac5f-540def8230de",
   "metadata": {},
   "outputs": [],
   "source": [
    "#e.trim.renumber.to_cfg().trim().cnf.language(55)"
   ]
  },
  {
   "cell_type": "code",
   "execution_count": null,
   "id": "11d3a0c5-be50-4133-875f-82267899df66",
   "metadata": {},
   "outputs": [],
   "source": [
    "#e.trim.renumber.project(0).epsremove.trim"
   ]
  },
  {
   "cell_type": "code",
   "execution_count": null,
   "id": "ce1eb8f3-fe00-4d64-8111-5f982175c02d",
   "metadata": {},
   "outputs": [],
   "source": [
    "#e.trim.renumber.project(0).epsremove.trim.to_cfg().trim().cnf.language(6)"
   ]
  },
  {
   "cell_type": "code",
   "execution_count": null,
   "id": "d074be39-6a08-4b66-a325-8b458256afad",
   "metadata": {},
   "outputs": [],
   "source": []
  },
  {
   "cell_type": "code",
   "execution_count": null,
   "id": "3b3042f1-4934-4140-ab1c-0c55a38d239d",
   "metadata": {},
   "outputs": [],
   "source": [
    "#tmp = c2t('SELECT', None).trim.epsremove.trim\n",
    "#tmp"
   ]
  },
  {
   "cell_type": "code",
   "execution_count": null,
   "id": "4d0ac67c-2d56-482a-920a-cf464ae4c190",
   "metadata": {},
   "outputs": [],
   "source": [
    "#tmp = c2t('SELECT\\n\\t\\r FROM 1 2', None).trim.epsremove.trim#.min\n",
    "#tmp"
   ]
  },
  {
   "cell_type": "code",
   "execution_count": null,
   "id": "d9242d89-80a9-4281-b11e-9479caa2b84f",
   "metadata": {},
   "outputs": [],
   "source": [
    "#tmp = c2t('SELECT\\nFROM', ('KEYWORD', 'KEYWORD'))\n",
    "#tmp"
   ]
  },
  {
   "cell_type": "code",
   "execution_count": null,
   "id": "f55d515f-705f-4139-8a78-9f81c3274ecc",
   "metadata": {},
   "outputs": [],
   "source": []
  },
  {
   "cell_type": "code",
   "execution_count": null,
   "id": "3a475d2c-152d-4bd3-92f7-be272f293916",
   "metadata": {},
   "outputs": [],
   "source": [
    "# random.seed(8675309)\n",
    "# bpe_small = random.sample(T, 10)\n",
    "# b2c_small = bpe_wfst(bpe_small).renumber\n",
    "# len(b2c_small.states)"
   ]
  },
  {
   "cell_type": "code",
   "execution_count": null,
   "id": "2e144e57-6ea4-4620-a50b-072142c8da81",
   "metadata": {},
   "outputs": [],
   "source": [
    "#bpe_small"
   ]
  },
  {
   "cell_type": "code",
   "execution_count": null,
   "id": "4f7e96cd-e314-446d-836e-cfee1a277cd5",
   "metadata": {},
   "outputs": [],
   "source": [
    "#b2c_small"
   ]
  },
  {
   "cell_type": "code",
   "execution_count": null,
   "id": "2ffa159a-5073-43db-af62-8700cac2c452",
   "metadata": {},
   "outputs": [],
   "source": []
  },
  {
   "cell_type": "code",
   "execution_count": null,
   "id": "a9eb4171-ff0c-482f-b781-517486e1f2f8",
   "metadata": {},
   "outputs": [],
   "source": [
    "#c = FST.from_string('zon ankles Turtles purple', Float).renumber"
   ]
  },
  {
   "cell_type": "code",
   "execution_count": null,
   "id": "f8348fba-c2ce-428e-a1af-b66e8745763d",
   "metadata": {},
   "outputs": [],
   "source": [
    "#len((b2c_small @ c).states), len((b2c_small @ c).trim.states)"
   ]
  },
  {
   "cell_type": "code",
   "execution_count": null,
   "id": "6135607e-a15c-4713-ae25-3d9567c7e9dd",
   "metadata": {},
   "outputs": [],
   "source": [
    "#(b2c_small @ c).trim"
   ]
  },
  {
   "cell_type": "code",
   "execution_count": null,
   "id": "19d7330a-1198-4df9-b8dc-83337525a727",
   "metadata": {},
   "outputs": [],
   "source": [
    "# N = lambda x: abs(hash(x)) % 3\n",
    "# A = lambda x: abs(hash(x)) % 2\n",
    "# B = lambda x: abs(hash(x)) % 7\n",
    "\n",
    "# bbb = b2c_small.coarsen(N, A, B)\n",
    "# ccc = c.coarsen(N = lambda x: abs(hash(x)) % 5, A = B, B = B)"
   ]
  },
  {
   "cell_type": "code",
   "execution_count": null,
   "id": "e7ef98e1-35eb-49f5-a2fd-fe7adbe831a4",
   "metadata": {},
   "outputs": [],
   "source": [
    "#bbb"
   ]
  },
  {
   "cell_type": "code",
   "execution_count": null,
   "id": "88788ce8-8a80-41af-8fe0-a7ed7c6784d1",
   "metadata": {},
   "outputs": [],
   "source": [
    "#ccc"
   ]
  },
  {
   "cell_type": "code",
   "execution_count": null,
   "id": "c9659ac2-ca1c-42a7-ab62-adb6a9d17df0",
   "metadata": {},
   "outputs": [],
   "source": []
  },
  {
   "cell_type": "code",
   "execution_count": null,
   "id": "e8d277dc-cfa4-4b60-ae20-2033fdf9d567",
   "metadata": {},
   "outputs": [],
   "source": [
    "#monster = b2c @ c2t"
   ]
  },
  {
   "cell_type": "code",
   "execution_count": null,
   "id": "5777a0a1-0f5a-4d5b-b923-c9e6245d6a45",
   "metadata": {},
   "outputs": [],
   "source": [
    "#len(monster.states), len(monster.trim.states)"
   ]
  },
  {
   "cell_type": "code",
   "execution_count": null,
   "id": "0a09b1f4-9e43-4899-a29e-ac9d24cfe1fb",
   "metadata": {},
   "outputs": [],
   "source": [
    "#monster_baby = FST.from_string((5188,), Float).renumber @ monster "
   ]
  },
  {
   "cell_type": "code",
   "execution_count": null,
   "id": "cdf203fe-05f2-499f-b4f9-e571fdd2f197",
   "metadata": {},
   "outputs": [],
   "source": [
    "#len(monster_baby.states), len(monster_baby.trim.states)"
   ]
  },
  {
   "cell_type": "code",
   "execution_count": null,
   "id": "c685613b-0392-44ac-8d9b-b3a8a47df7e8",
   "metadata": {},
   "outputs": [],
   "source": []
  },
  {
   "cell_type": "code",
   "execution_count": null,
   "id": "c6980512-92f9-4b62-8761-5e00838e89ac",
   "metadata": {},
   "outputs": [],
   "source": [
    "#c = FST.from_string(x, Float).renumber\n",
    "#c"
   ]
  },
  {
   "cell_type": "code",
   "execution_count": null,
   "id": "c792a242-3346-4e27-ae4a-81bb4a9cde52",
   "metadata": {},
   "outputs": [],
   "source": [
    "#query = b2c @ c"
   ]
  },
  {
   "cell_type": "code",
   "execution_count": null,
   "id": "0b9aa4aa-3a87-4d10-86a5-74c5a02cf6d7",
   "metadata": {},
   "outputs": [],
   "source": [
    "#query.trim"
   ]
  },
  {
   "cell_type": "code",
   "execution_count": null,
   "id": "142d3e48-d945-45f9-8a7a-cb739d93494a",
   "metadata": {},
   "outputs": [],
   "source": [
    "#len(query.states), len(query.trim.states)"
   ]
  },
  {
   "cell_type": "code",
   "execution_count": null,
   "id": "12c7b308-c0b4-411c-8bec-a2617a6a0f32",
   "metadata": {},
   "outputs": [],
   "source": [
    "#terminals = (c @ lark_stuff.transducer()).trim\n",
    "#terminals"
   ]
  },
  {
   "cell_type": "code",
   "execution_count": null,
   "id": "35827add-dec0-48d5-be71-5bbd61480887",
   "metadata": {},
   "outputs": [],
   "source": [
    "#list(lark_stuff.lex(x))"
   ]
  },
  {
   "cell_type": "code",
   "execution_count": null,
   "id": "34d69307-7ec8-4d45-a5b8-a88f307d8b8e",
   "metadata": {},
   "outputs": [],
   "source": [
    "#bpe2terminal = query.trim @ terminals"
   ]
  },
  {
   "cell_type": "code",
   "execution_count": null,
   "id": "58406814-5d91-49ad-9eea-c7e3d629cd30",
   "metadata": {},
   "outputs": [],
   "source": [
    "#len(bpe2terminal.states), len(bpe2terminal.trim.states)"
   ]
  },
  {
   "cell_type": "code",
   "execution_count": null,
   "id": "fca7577e-0ea6-455d-b788-82dbde0eac77",
   "metadata": {},
   "outputs": [],
   "source": [
    "#bpe2terminal.trim"
   ]
  },
  {
   "cell_type": "code",
   "execution_count": null,
   "id": "45add727-d4d9-418b-bf92-b7e782f23703",
   "metadata": {},
   "outputs": [],
   "source": []
  }
 ],
 "metadata": {
  "kernelspec": {
   "display_name": "Python 3 (ipykernel)",
   "language": "python",
   "name": "python3"
  },
  "language_info": {
   "codemirror_mode": {
    "name": "ipython",
    "version": 3
   },
   "file_extension": ".py",
   "mimetype": "text/x-python",
   "name": "python",
   "nbconvert_exporter": "python",
   "pygments_lexer": "ipython3",
   "version": "3.10.12"
  }
 },
 "nbformat": 4,
 "nbformat_minor": 5
}
