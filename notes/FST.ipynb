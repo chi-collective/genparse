{
 "cells": [
  {
   "cell_type": "code",
   "execution_count": null,
   "id": "c989a28a-3ac9-4777-a56c-6d020f61eee7",
   "metadata": {},
   "outputs": [],
   "source": [
    "from genparse.fst import FST, EPSILON\n",
    "from genparse import Float\n",
    "from genparse.util import LarkStuff, bpe_wfst\n",
    "from arsenal import iterview\n",
    "from collections import Counter"
   ]
  },
  {
   "cell_type": "code",
   "execution_count": null,
   "id": "66dddc70-9ccd-4e03-9135-8461fb0c831b",
   "metadata": {},
   "outputs": [],
   "source": [
    "from transformers import AutoTokenizer\n",
    "tokenizer = AutoTokenizer.from_pretrained(\"gpt2\")\n",
    "print(f'token vocabulary size: {tokenizer.vocab_size}')\n",
    "T = [(token_id, tokenizer.decode([token_id])) for token_id in range(tokenizer.vocab_size)]"
   ]
  },
  {
   "cell_type": "code",
   "execution_count": null,
   "id": "ef541e84-bcd5-48f1-b586-a917fa524192",
   "metadata": {},
   "outputs": [],
   "source": [
    "import random\n",
    "random.seed(8675309)\n",
    "#S = random.sample(T, 2000)\n",
    "S = T\n",
    "#S"
   ]
  },
  {
   "cell_type": "code",
   "execution_count": null,
   "id": "e831a78b-2129-4f82-8f6a-d5365304b939",
   "metadata": {},
   "outputs": [],
   "source": []
  },
  {
   "cell_type": "code",
   "execution_count": null,
   "id": "2620462d-8d0d-4d9b-9c28-32873ec91e4c",
   "metadata": {},
   "outputs": [],
   "source": [
    "T_b_c = bpe_wfst(S)"
   ]
  },
  {
   "cell_type": "code",
   "execution_count": null,
   "id": "2234e55e-2f29-4bd1-91d8-08748d2db020",
   "metadata": {},
   "outputs": [],
   "source": [
    "len(T_b_c.states)"
   ]
  },
  {
   "cell_type": "code",
   "execution_count": null,
   "id": "caa2a69b-9161-4296-b088-1c5d9c29f7fa",
   "metadata": {},
   "outputs": [],
   "source": [
    "#pl.hist([len(B) for B in iterview(list(E.blocks()))])"
   ]
  },
  {
   "cell_type": "code",
   "execution_count": null,
   "id": "66d6c579-db6c-4af7-a936-5fb85f7080f2",
   "metadata": {},
   "outputs": [],
   "source": [
    "c = FST.from_string('zon purple MIDI Turtlesicken', Float)"
   ]
  },
  {
   "cell_type": "code",
   "execution_count": null,
   "id": "4334bd93-077c-4dbd-8c2b-0effdbafe8ca",
   "metadata": {},
   "outputs": [],
   "source": [
    "#r = c @ T_b_c.T"
   ]
  },
  {
   "cell_type": "code",
   "execution_count": null,
   "id": "b4a48745-02c7-4f20-ac5b-018571b058fc",
   "metadata": {},
   "outputs": [],
   "source": [
    "#len(r.states), len(r.accessible()), len(r.co_accessible())"
   ]
  },
  {
   "cell_type": "code",
   "execution_count": null,
   "id": "42f5f242-7a9e-41e0-b033-291aa3d1aa12",
   "metadata": {},
   "outputs": [],
   "source": [
    "e = T_b_c @ c"
   ]
  },
  {
   "cell_type": "code",
   "execution_count": null,
   "id": "6b3329c4-c9aa-4e6e-b127-8e20797d9dd7",
   "metadata": {},
   "outputs": [],
   "source": [
    "len(e.states)"
   ]
  },
  {
   "cell_type": "code",
   "execution_count": null,
   "id": "523a475b-2244-4890-82ce-14ecba1d8468",
   "metadata": {},
   "outputs": [],
   "source": [
    "len(e.accessible())"
   ]
  },
  {
   "cell_type": "code",
   "execution_count": null,
   "id": "3a595a6e-055a-4fe7-a696-ed49e63ec8d7",
   "metadata": {},
   "outputs": [],
   "source": [
    "len(e.co_accessible())"
   ]
  },
  {
   "cell_type": "code",
   "execution_count": null,
   "id": "a829593d-1fca-4d50-8913-e11905e7db56",
   "metadata": {},
   "outputs": [],
   "source": [
    "len(e.trim.states)"
   ]
  },
  {
   "cell_type": "code",
   "execution_count": null,
   "id": "064e767d-efa4-476a-be39-f3c6732a014d",
   "metadata": {},
   "outputs": [],
   "source": [
    "len(e.trim.trim_vals.states)"
   ]
  },
  {
   "cell_type": "code",
   "execution_count": null,
   "id": "e657666a-970e-43c7-a007-066955dc3bb5",
   "metadata": {},
   "outputs": [],
   "source": [
    "e.trim"
   ]
  },
  {
   "cell_type": "code",
   "execution_count": null,
   "id": "29e720a5-517f-4661-b5ba-decf051c8dfe",
   "metadata": {},
   "outputs": [],
   "source": [
    "#[(i,x) for i, x in T if i == 30950]"
   ]
  },
  {
   "cell_type": "code",
   "execution_count": null,
   "id": "fd857ab7-7555-4c97-86c9-8b8be7761065",
   "metadata": {},
   "outputs": [],
   "source": []
  },
  {
   "cell_type": "code",
   "execution_count": null,
   "id": "8582eeee-6540-4cc1-aa77-2c6e9440a28b",
   "metadata": {},
   "outputs": [],
   "source": [
    "lark_stuff = LarkStuff(\"\"\"\n",
    "\n",
    "start: [ KEYWORD | INTEGER | BOOLEAN ] EOS\n",
    "\n",
    "EOS: \"</s>\"\n",
    "NAME: /[A-Za-z]+/\n",
    "KEYWORD: \"SELECT\" | \"WHERE\" | \"FROM\"\n",
    "INTEGER: /[1-9][0-9]*/\n",
    "BOOLEAN: \"true\"  | \"false\"\n",
    "    \n",
    "\"\"\")"
   ]
  },
  {
   "cell_type": "code",
   "execution_count": null,
   "id": "d074be39-6a08-4b66-a325-8b458256afad",
   "metadata": {},
   "outputs": [],
   "source": [
    "m = lark_stuff.transducer()"
   ]
  },
  {
   "cell_type": "code",
   "execution_count": null,
   "id": "85dc9d1e-0c1a-4ad2-b091-3bc94369b629",
   "metadata": {},
   "outputs": [],
   "source": []
  },
  {
   "cell_type": "code",
   "execution_count": null,
   "id": "3b3042f1-4934-4140-ab1c-0c55a38d239d",
   "metadata": {},
   "outputs": [],
   "source": [
    "tmp = m('SELECT', None).trim.epsremove.trim\n",
    "tmp"
   ]
  },
  {
   "cell_type": "code",
   "execution_count": null,
   "id": "4d0ac67c-2d56-482a-920a-cf464ae4c190",
   "metadata": {},
   "outputs": [],
   "source": [
    "tmp = m('SELECT\\n\\t\\r FROM 1 2', None).trim.epsremove.trim#.min\n",
    "tmp"
   ]
  },
  {
   "cell_type": "code",
   "execution_count": null,
   "id": "d9242d89-80a9-4281-b11e-9479caa2b84f",
   "metadata": {},
   "outputs": [],
   "source": [
    "tmp = m('SELECT\\nFROM', ('KEYWORD', 'KEYWORD'))\n",
    "tmp"
   ]
  },
  {
   "cell_type": "code",
   "execution_count": null,
   "id": "f55d515f-705f-4139-8a78-9f81c3274ecc",
   "metadata": {},
   "outputs": [],
   "source": []
  },
  {
   "cell_type": "code",
   "execution_count": null,
   "id": "82204636-7627-4677-be16-aa53cbcb0cc5",
   "metadata": {},
   "outputs": [],
   "source": []
  }
 ],
 "metadata": {
  "kernelspec": {
   "display_name": "Python 3 (ipykernel)",
   "language": "python",
   "name": "python3"
  },
  "language_info": {
   "codemirror_mode": {
    "name": "ipython",
    "version": 3
   },
   "file_extension": ".py",
   "mimetype": "text/x-python",
   "name": "python",
   "nbconvert_exporter": "python",
   "pygments_lexer": "ipython3",
   "version": "3.10.12"
  }
 },
 "nbformat": 4,
 "nbformat_minor": 5
}
