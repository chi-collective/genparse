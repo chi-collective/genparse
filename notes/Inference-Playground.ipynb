{
 "cells": [
  {
   "cell_type": "markdown",
   "id": "946046e7-8edf-422a-9779-2ee30282ea9b",
   "metadata": {},
   "source": [
    "# Inference Playground"
   ]
  },
  {
   "cell_type": "markdown",
   "id": "ed774253-57ce-411d-9251-5eb26286919e",
   "metadata": {},
   "source": [
    "This notebook is a playground for exploring approximate inference algorithms from PCFG + PCFG intersection."
   ]
  },
  {
   "cell_type": "markdown",
   "id": "cb55b85a-8f1b-4a7f-a201-ef55a2a3e7f3",
   "metadata": {},
   "source": [
    "$$\n",
    "p(x) = \\frac{1}{Z}\\, p_1(x) p_2(x)  \\quad\\text{where}\\quad Z = \\sum_x p_1(x) p_2(x)\n",
    "$$"
   ]
  },
  {
   "cell_type": "markdown",
   "id": "58734114-ec99-4f98-81ff-e7426753a7b0",
   "metadata": {},
   "source": [
    "$$\n",
    "x^{(1)}, \\ldots, x^{(M)} \\overset{\\mathrm{i.i.d}}{\\sim} q\n",
    "$$"
   ]
  },
  {
   "cell_type": "code",
   "execution_count": 1,
   "id": "43a0397d-ab61-4220-81d4-eea962647cf6",
   "metadata": {},
   "outputs": [],
   "source": [
    "%load_ext autoreload\n",
    "%autoreload 2"
   ]
  },
  {
   "cell_type": "code",
   "execution_count": 2,
   "id": "aa48d89c-f727-42c9-b50a-a7b31ac2dbec",
   "metadata": {},
   "outputs": [],
   "source": [
    "import pandas as pd, numpy as np\n",
    "import nest_asyncio; nest_asyncio.apply()\n",
    "from genparse import CFGLM, Float\n",
    "from genparse.util import display_table\n",
    "from genparse.steer import run, BruteForceGlobalProductOfExperts"
   ]
  },
  {
   "cell_type": "code",
   "execution_count": 3,
   "id": "12ed7631-2e99-46ba-953e-dfe0cd5c2c02",
   "metadata": {},
   "outputs": [],
   "source": [
    "MAX_LENGTH = 15\n",
    "N_PARTICLES = 5_000"
   ]
  },
  {
   "cell_type": "code",
   "execution_count": null,
   "id": "46480e4f-51c4-4cb2-9b8a-4259368eced6",
   "metadata": {},
   "outputs": [],
   "source": []
  },
  {
   "cell_type": "code",
   "execution_count": 5,
   "id": "7fa18cb0-4ac4-42c3-b939-86c92985b9d8",
   "metadata": {},
   "outputs": [],
   "source": [
    "lm1 = CFGLM.from_string(\"\"\"\n",
    "\n",
    "0.45: S -> a S a\n",
    "0.45: S -> b S b\n",
    "0.1: S ->\n",
    "\n",
    "\"\"\")\n",
    "\n",
    "lm2 = CFGLM.from_string(\"\"\"\n",
    "\n",
    "0.5: S -> a b S\n",
    "0.5: S ->\n",
    "\n",
    "\"\"\")\n",
    "\n",
    "# strings of just a's (with a geometric decay on length)\n",
    "lm2 = CFGLM.from_string(\"\"\"\n",
    "\n",
    "20: S -> a a a a a a\n",
    "1: S -> a a\n",
    "1: S ->\n",
    "\n",
    "\"\"\")"
   ]
  },
  {
   "cell_type": "code",
   "execution_count": 6,
   "id": "613366c8-31a8-481f-a281-b0b369d226d2",
   "metadata": {},
   "outputs": [
    {
     "data": {
      "text/html": [
       "<div style=\"font-family: Monospace;\"><table><tr style=\"font-weight: bold;\"><td>key</td><td>value</td></tr><tr><td><pre>aaaaaa▪</pre></td><td><pre>0.5569136745607334</pre></td> </tr><tr><td><pre>aa▪</pre></td><td><pre>0.13750954927425513</pre></td> </tr><tr><td><pre>▪</pre></td><td><pre>0.30557677616501144</pre></td> </tr></table></div>"
      ],
      "text/plain": [
       "{'aaaaaa▪': 0.5569136745607334, 'aa▪': 0.13750954927425513, '▪': 0.30557677616501144}"
      ]
     },
     "execution_count": 6,
     "metadata": {},
     "output_type": "execute_result"
    }
   ],
   "source": [
    "ref = BruteForceGlobalProductOfExperts(lm1, lm2, MAX_LENGTH)\n",
    "ref.target.project(''.join)"
   ]
  },
  {
   "cell_type": "code",
   "execution_count": null,
   "id": "6e163698-edef-4fa6-b47c-8db18f364103",
   "metadata": {},
   "outputs": [],
   "source": []
  },
  {
   "cell_type": "code",
   "execution_count": 7,
   "id": "3bf41f73-26fd-44a5-bfaf-39431860f1cf",
   "metadata": {},
   "outputs": [],
   "source": [
    "particles = run(\n",
    "    lm1,\n",
    "    lm2,\n",
    "    MAX_LENGTH = MAX_LENGTH,\n",
    "    n_particles = N_PARTICLES,\n",
    "    METHOD = 'is',\n",
    "    #METHOD = 'smc',    \n",
    ")"
   ]
  },
  {
   "cell_type": "code",
   "execution_count": 8,
   "id": "f58e0432-a269-4dda-8012-10e74fa1d91b",
   "metadata": {},
   "outputs": [],
   "source": [
    "w = Float.chart()\n",
    "for p in particles:\n",
    "    ys = tuple(p.ys)\n",
    "    numerator = lm1(ys) * lm2(ys)\n",
    "    if numerator > 0:\n",
    "        w[ys] += numerator * np.exp(-p.Q)\n",
    "w = w.normalize()"
   ]
  },
  {
   "cell_type": "code",
   "execution_count": 9,
   "id": "606f4ac3-75fc-4d4b-8a3a-9000d257ddb4",
   "metadata": {},
   "outputs": [
    {
     "data": {
      "text/html": [
       "<div>\n",
       "<style scoped>\n",
       "    .dataframe tbody tr th:only-of-type {\n",
       "        vertical-align: middle;\n",
       "    }\n",
       "\n",
       "    .dataframe tbody tr th {\n",
       "        vertical-align: top;\n",
       "    }\n",
       "\n",
       "    .dataframe thead th {\n",
       "        text-align: right;\n",
       "    }\n",
       "</style>\n",
       "<table border=\"1\" class=\"dataframe\">\n",
       "  <thead>\n",
       "    <tr style=\"text-align: right;\">\n",
       "      <th></th>\n",
       "      <th>key</th>\n",
       "      <th>self</th>\n",
       "      <th>other</th>\n",
       "      <th>metric</th>\n",
       "    </tr>\n",
       "  </thead>\n",
       "  <tbody>\n",
       "    <tr>\n",
       "      <th>1</th>\n",
       "      <td>▪</td>\n",
       "      <td>0.346470</td>\n",
       "      <td>0.305577</td>\n",
       "      <td>0.040893</td>\n",
       "    </tr>\n",
       "    <tr>\n",
       "      <th>0</th>\n",
       "      <td>aa▪</td>\n",
       "      <td>0.110635</td>\n",
       "      <td>0.137510</td>\n",
       "      <td>0.026874</td>\n",
       "    </tr>\n",
       "    <tr>\n",
       "      <th>2</th>\n",
       "      <td>aaaaaa▪</td>\n",
       "      <td>0.542895</td>\n",
       "      <td>0.556914</td>\n",
       "      <td>0.014019</td>\n",
       "    </tr>\n",
       "  </tbody>\n",
       "</table>\n",
       "</div>"
      ],
      "text/plain": [
       "       key      self     other    metric\n",
       "1        ▪  0.346470  0.305577  0.040893\n",
       "0      aa▪  0.110635  0.137510  0.026874\n",
       "2  aaaaaa▪  0.542895  0.556914  0.014019"
      ]
     },
     "execution_count": 9,
     "metadata": {},
     "output_type": "execute_result"
    }
   ],
   "source": [
    "w.project(''.join).trim().compare(ref.target.project(''.join).trim()).sort_values('key', ascending=False)"
   ]
  },
  {
   "cell_type": "code",
   "execution_count": null,
   "id": "710e22d4-3dfe-43f1-80ee-e4e734555e36",
   "metadata": {},
   "outputs": [],
   "source": []
  },
  {
   "cell_type": "code",
   "execution_count": null,
   "id": "46971a34-7f53-430a-a6e4-34b6ccc0fdd7",
   "metadata": {},
   "outputs": [],
   "source": []
  },
  {
   "cell_type": "markdown",
   "id": "d8c8add4-e7b1-4594-8487-e3953e34b4d7",
   "metadata": {},
   "source": [
    "## Rejection Sampling"
   ]
  },
  {
   "cell_type": "code",
   "execution_count": null,
   "id": "ecfb2d06-6f3b-43c4-9bf9-a6237c223191",
   "metadata": {},
   "outputs": [],
   "source": [
    "from genparse.inference import TraceSWOR\n",
    "from arsenal import iterview"
   ]
  },
  {
   "cell_type": "code",
   "execution_count": null,
   "id": "681fc37f-9438-43a8-baa8-9379fd2364e5",
   "metadata": {},
   "outputs": [],
   "source": [
    "tracer = TraceSWOR()\n",
    "R = Float.chart()\n",
    "for _ in iterview(range(500)):\n",
    "    with tracer:\n",
    "        y1, p1 = lm1.sample(draw=tracer, prob=True)\n",
    "        y2, p2 = lm2.sample(draw=tracer, prob=True)\n",
    "        if y1 == y2:\n",
    "            print(y1)\n",
    "            R[y1] += p1 * p2\n",
    "R = R.normalize()\n",
    "R.sort()"
   ]
  },
  {
   "cell_type": "code",
   "execution_count": null,
   "id": "d6163d8b-e8f8-4ea0-8591-c2d80bedbd27",
   "metadata": {},
   "outputs": [],
   "source": [
    "# truncate the reference distribution to the support set of the sample; \n",
    "# renamed the keys to handle the minor discrepancy in the EOS symbol\n",
    "tmp = ref.target.filter(lambda k: k[:-1] in R).normalize().sort()\n",
    "tmp.project(lambda k: k[:-1]).compare(R).sort_values('key')"
   ]
  },
  {
   "cell_type": "code",
   "execution_count": null,
   "id": "d19c2cfd-f92e-4417-a09e-6bad3adfe0db",
   "metadata": {},
   "outputs": [],
   "source": []
  },
  {
   "cell_type": "code",
   "execution_count": null,
   "id": "ac850b07-5999-4e26-8e5e-fd6b0f84e918",
   "metadata": {},
   "outputs": [],
   "source": []
  }
 ],
 "metadata": {
  "kernelspec": {
   "display_name": "Python 3 (ipykernel)",
   "language": "python",
   "name": "python3"
  },
  "language_info": {
   "codemirror_mode": {
    "name": "ipython",
    "version": 3
   },
   "file_extension": ".py",
   "mimetype": "text/x-python",
   "name": "python",
   "nbconvert_exporter": "python",
   "pygments_lexer": "ipython3",
   "version": "3.10.12"
  }
 },
 "nbformat": 4,
 "nbformat_minor": 5
}
