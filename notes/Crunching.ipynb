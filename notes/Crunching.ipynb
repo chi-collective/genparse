{
 "cells": [
  {
   "cell_type": "code",
   "execution_count": 1,
   "id": "6cafae2f-5e88-408a-bbba-1189f31e2aab",
   "metadata": {},
   "outputs": [],
   "source": [
    "%load_ext autoreload\n",
    "%autoreload 2"
   ]
  },
  {
   "cell_type": "code",
   "execution_count": 2,
   "id": "55df53aa-50e2-4e6d-9f93-c3802006507e",
   "metadata": {},
   "outputs": [
    {
     "name": "stdout",
     "output_type": "stream",
     "text": [
      "WARNING 06-30 00:02:45 _custom_ops.py:14] Failed to import from vllm._C with ImportError('libcuda.so.1: cannot open shared object file: No such file or directory')\n"
     ]
    }
   ],
   "source": [
    "from arsenal import colors\n",
    "from arsenal.iterextras import take\n",
    "from genparse.lm import GreedilyTokenizedLLM\n",
    "from genparse.util import lark_guide\n",
    "from time import time\n",
    "from genparse import Float"
   ]
  },
  {
   "cell_type": "code",
   "execution_count": 3,
   "id": "617ffdb7-425a-4020-b72c-fd52b4093e16",
   "metadata": {},
   "outputs": [],
   "source": [
    "from genparse.proposal.crunch import Crunching"
   ]
  },
  {
   "cell_type": "code",
   "execution_count": 4,
   "id": "db7fcfc3-a3bc-4c6b-8532-259f8b468467",
   "metadata": {},
   "outputs": [],
   "source": [
    "llm = GreedilyTokenizedLLM('gpt2')\n",
    "guide = lark_guide(\"\"\"\n",
    "\n",
    "start: \"Sequential Monte Carlo is \" ( \"good\" | \"bad\" )\n",
    "\n",
    "\"\"\")"
   ]
  },
  {
   "cell_type": "code",
   "execution_count": 5,
   "id": "85c12111-a1b1-4757-8d06-eb36937e7290",
   "metadata": {},
   "outputs": [],
   "source": [
    "q = Crunching(llm=llm, guide=guide)"
   ]
  },
  {
   "cell_type": "code",
   "execution_count": 6,
   "id": "e32a7292-0eea-4f29-bd1e-8e63603ec772",
   "metadata": {},
   "outputs": [
    {
     "name": "stdout",
     "output_type": "stream",
     "text": [
      "....................................................................................................................................................................................................................................................................................................................................\n",
      "5.197752401069471e-20 Sequ\u001b[0;31m·\u001b[0mential\u001b[0;31m·\u001b[0m Monte\u001b[0;31m·\u001b[0m Carlo\u001b[0;31m·\u001b[0m is\u001b[0;31m·\u001b[0m good\u001b[0;31m·\u001b[0m▪\n",
      ".....................\n",
      "2.7946664370469684e-20 Sequ\u001b[0;31m·\u001b[0mential\u001b[0;31m·\u001b[0m Monte\u001b[0;31m·\u001b[0m Carlo\u001b[0;31m·\u001b[0m is\u001b[0;31m·\u001b[0m bad\u001b[0;31m·\u001b[0m▪\n",
      "...............................................................................................................................\n",
      "1.1882267441531274e-21 Se\u001b[0;31m·\u001b[0mqu\u001b[0;31m·\u001b[0mential\u001b[0;31m·\u001b[0m Monte\u001b[0;31m·\u001b[0m Carlo\u001b[0;31m·\u001b[0m is\u001b[0;31m·\u001b[0m good\u001b[0;31m·\u001b[0m▪\n",
      "....................................\n",
      "6.388717940475742e-22 Se\u001b[0;31m·\u001b[0mqu\u001b[0;31m·\u001b[0mential\u001b[0;31m·\u001b[0m Monte\u001b[0;31m·\u001b[0m Carlo\u001b[0;31m·\u001b[0m is\u001b[0;31m·\u001b[0m bad\u001b[0;31m·\u001b[0m▪\n",
      "..............................\n",
      "3.9526299456630223e-22 S\u001b[0;31m·\u001b[0mequ\u001b[0;31m·\u001b[0mential\u001b[0;31m·\u001b[0m Monte\u001b[0;31m·\u001b[0m Carlo\u001b[0;31m·\u001b[0m is\u001b[0;31m·\u001b[0m good\u001b[0;31m·\u001b[0m▪\n",
      ".........................................\n",
      "2.125203625501358e-22 S\u001b[0;31m·\u001b[0mequ\u001b[0;31m·\u001b[0mential\u001b[0;31m·\u001b[0m Monte\u001b[0;31m·\u001b[0m Carlo\u001b[0;31m·\u001b[0m is\u001b[0;31m·\u001b[0m bad\u001b[0;31m·\u001b[0m▪\n",
      ".....................................................................................................................................................................................................................................................................................................................................................\n",
      "3.177070221662756e-24 Sequ\u001b[0;31m·\u001b[0ment\u001b[0;31m·\u001b[0mial\u001b[0;31m·\u001b[0m Monte\u001b[0;31m·\u001b[0m Carlo\u001b[0;31m·\u001b[0m is\u001b[0;31m·\u001b[0m good\u001b[0;31m·\u001b[0m▪\n",
      "......................................................................................\n",
      "1.708209785982763e-24 Sequ\u001b[0;31m·\u001b[0ment\u001b[0;31m·\u001b[0mial\u001b[0;31m·\u001b[0m Monte\u001b[0;31m·\u001b[0m Carlo\u001b[0;31m·\u001b[0m is\u001b[0;31m·\u001b[0m bad\u001b[0;31m·\u001b[0m▪\n",
      "......\n",
      "1.6390993557883634e-24 Se\u001b[0;31m·\u001b[0mq\u001b[0;31m·\u001b[0mu\u001b[0;31m·\u001b[0mential\u001b[0;31m·\u001b[0m Monte\u001b[0;31m·\u001b[0m Carlo\u001b[0;31m·\u001b[0m is\u001b[0;31m·\u001b[0m good\u001b[0;31m·\u001b[0m▪\n",
      "..\n",
      "1.5369876767814937e-24 S\u001b[0;31m·\u001b[0me\u001b[0;31m·\u001b[0mqu\u001b[0;31m·\u001b[0mential\u001b[0;31m·\u001b[0m Monte\u001b[0;31m·\u001b[0m Carlo\u001b[0;31m·\u001b[0m is\u001b[0;31m·\u001b[0m good\u001b[0;31m·\u001b[0m▪\n",
      "took 17.918262720108032 sec\n"
     ]
    }
   ],
   "source": [
    "items = []\n",
    "start = time()\n",
    "for item in take(10, q.posterior_enumerate(depth=10)):\n",
    "    print()\n",
    "    print(item.ps, (colors.red % '·').join(item.ys[1:]))\n",
    "    items.append(item)\n",
    "print('took', time() - start, 'sec')"
   ]
  },
  {
   "cell_type": "code",
   "execution_count": 7,
   "id": "2927cf2e-497e-4496-96e3-8aa4e1c7e8e6",
   "metadata": {},
   "outputs": [],
   "source": [
    "want = sorted(items, key=lambda x: -x.ps)\n",
    "assert items == want, [items, want]"
   ]
  },
  {
   "cell_type": "code",
   "execution_count": 8,
   "id": "b679575f-f0f3-4857-b52b-df977e13cd1b",
   "metadata": {},
   "outputs": [
    {
     "name": "stdout",
     "output_type": "stream",
     "text": [
      "Chart {\n",
      "  'Sequential Monte Carlo is good▪': 0.6503488204312321,\n",
      "  'Sequential Monte Carlo is bad▪': 0.349651179568768,\n",
      "}\n"
     ]
    }
   ],
   "source": [
    "P = Float.chart()\n",
    "for item in items:\n",
    "    P[item.xs] += item.ps\n",
    "print(P.normalize().sort())"
   ]
  },
  {
   "cell_type": "code",
   "execution_count": null,
   "id": "592aa349-6c99-4949-9e85-63258f1d985e",
   "metadata": {},
   "outputs": [],
   "source": []
  },
  {
   "cell_type": "code",
   "execution_count": null,
   "id": "5201f35a-d1cd-43bd-a978-fd4ae8bb252f",
   "metadata": {},
   "outputs": [],
   "source": []
  }
 ],
 "metadata": {
  "kernelspec": {
   "display_name": "Python 3 (ipykernel)",
   "language": "python",
   "name": "python3"
  },
  "language_info": {
   "codemirror_mode": {
    "name": "ipython",
    "version": 3
   },
   "file_extension": ".py",
   "mimetype": "text/x-python",
   "name": "python",
   "nbconvert_exporter": "python",
   "pygments_lexer": "ipython3",
   "version": "3.10.12"
  }
 },
 "nbformat": 4,
 "nbformat_minor": 5
}
