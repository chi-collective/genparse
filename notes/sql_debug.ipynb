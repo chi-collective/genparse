{
 "cells": [
  {
   "cell_type": "code",
   "execution_count": 1,
   "id": "3dce4cbf-90c7-4b38-9e9d-048eed7edd50",
   "metadata": {},
   "outputs": [],
   "source": [
    "%load_ext autoreload\n",
    "%autoreload 2"
   ]
  },
  {
   "cell_type": "code",
   "execution_count": 2,
   "id": "9851ed1e",
   "metadata": {},
   "outputs": [],
   "source": [
    "import sys\n",
    "import getpass\n",
    "\n",
    "if getpass.getuser() == 'benjamin.lebrun':\n",
    "    sys.path.append('/home/mila/b/benjamin.lebrun/genparse')"
   ]
  },
  {
   "cell_type": "code",
   "execution_count": 3,
   "id": "fee5964d",
   "metadata": {},
   "outputs": [],
   "source": [
    "from genparse.util import LarkStuff\n",
    "from genparse.cfglm import EarleyBoolMaskCFGLM"
   ]
  },
  {
   "cell_type": "code",
   "execution_count": 5,
   "id": "eed28e8f",
   "metadata": {},
   "outputs": [],
   "source": [
    "from genparse.evaluation.dataset import Dataset\n",
    "\n",
    "dataset = Dataset('spider', 'validation')"
   ]
  },
  {
   "cell_type": "code",
   "execution_count": 33,
   "id": "8df13c56",
   "metadata": {},
   "outputs": [],
   "source": [
    "cfg = LarkStuff(open('../benchmark/grammars/sql_case_insensitive.lark').read()).char_cfg(\n",
    "    0.99, ignore='[ ]?'\n",
    ")\n",
    "guide = EarleyBoolMaskCFGLM(cfg)"
   ]
  },
  {
   "cell_type": "code",
   "execution_count": 35,
   "id": "d3b6f8bc",
   "metadata": {},
   "outputs": [
    {
     "data": {
      "text/html": [
       "<div style=\"font-family: Monospace;\"><table><tr style=\"font-weight: bold;\"><td>key</td><td>value</td></tr><tr><td><pre>$</pre></td><td><pre>1</pre></td> </tr><tr><td><pre> </pre></td><td><pre>1</pre></td> </tr><tr><td><pre>%</pre></td><td><pre>1</pre></td> </tr><tr><td><pre>&#x27;</pre></td><td><pre>1</pre></td> </tr><tr><td><pre>#</pre></td><td><pre>1</pre></td> </tr><tr><td><pre>&quot;</pre></td><td><pre>1</pre></td> </tr><tr><td><pre>!</pre></td><td><pre>1</pre></td> </tr><tr><td><pre>&amp;</pre></td><td><pre>1</pre></td> </tr></table></div>"
      ],
      "text/plain": [
       "{'$': 1, ' ': 1, '%': 1, \"'\": 1, '#': 1, '\"': 1, '!': 1, '&': 1}"
      ]
     },
     "execution_count": 35,
     "metadata": {},
     "output_type": "execute_result"
    }
   ],
   "source": [
    "guide.p_next(\n",
    "    \"select document_name , template_id from documents where document_description like '%\"\n",
    ")"
   ]
  }
 ],
 "metadata": {
  "kernelspec": {
   "display_name": "genparse",
   "language": "python",
   "name": "python3"
  },
  "language_info": {
   "codemirror_mode": {
    "name": "ipython",
    "version": 3
   },
   "file_extension": ".py",
   "mimetype": "text/x-python",
   "name": "python",
   "nbconvert_exporter": "python",
   "pygments_lexer": "ipython3",
   "version": "3.10.14"
  }
 },
 "nbformat": 4,
 "nbformat_minor": 5
}
