{
 "cells": [
  {
   "cell_type": "code",
   "execution_count": 1,
   "metadata": {},
   "outputs": [],
   "source": [
    "%load_ext autoreload\n",
    "%autoreload all"
   ]
  },
  {
   "cell_type": "code",
   "execution_count": 2,
   "metadata": {},
   "outputs": [],
   "source": [
    "import nest_asyncio\n",
    "\n",
    "nest_asyncio.apply()\n",
    "\n",
    "prompt = \"\"\"\n",
    "    You have access to a political survey data table named \"data\", which includes the following columns:\n",
    "    - \"age\" (integer)\n",
    "    - \"gender\" (\"male\" or \"female\"),\n",
    "    - \"year\" (integer)\n",
    "    - \"state_color\" (\"blue\" or \"red\")\n",
    "    - \"zipcode\" (integer)\n",
    "    - \"vote\" (\"democrat\" or \"republican\") \n",
    "    - \"race_ethnicity\" (\"white\", \"black\", or \"latino\").\n",
    "\n",
    "    Q: Write a SQL query that shows individuals' age and gender, for people over 50 years old.\n",
    "    A: SELECT age, gender FROM data WHERE age>50 </s>\n",
    "    Q: Write a SQL query that shows individuals' vote and zipcode, ordered from lowest to highest age.\n",
    "    A: SELECT vote, zipcode, age FROM data ORDER BY age ASC </s>\n",
    "    Q: Write a SQL query that returns white voters' average age for each state color. \n",
    "    A:\"\"\"\n",
    "\n",
    "# an ambiguous prompt\n",
    "prompt = \"\"\"\n",
    "    You have access to a political survey data table named \"data\", which includes the following columns:\n",
    "    - \"age\" (integer)\n",
    "    - \"gender\" (\"male\" or \"female\"),\n",
    "    - \"year\" (integer)\n",
    "    - \"state_color\" (\"blue\" or \"red\")\n",
    "    - \"zipcode\" (integer)\n",
    "    - \"vote\" (\"democrat\" or \"republican\") \n",
    "    - \"race_ethnicity\" (\"white\", \"black\", or \"latino\").\n",
    "\n",
    "    Q: Write a SQL query that shows individuals' age and gender, for people over 50 years old.\n",
    "    A: SELECT age, gender FROM data WHERE age>50 </s>\n",
    "    Q: Write a SQL query that shows individuals' vote and zipcode, ordered from lowest to highest age.\n",
    "    A: SELECT vote, zipcode, age FROM data ORDER BY age ASC </s>\n",
    "    Q: Write a SQL query that returns the average proportion of votes by party for young versus old voters. \n",
    "    A:\"\"\"\n",
    "\n",
    "very_restricted_sql = r\"\"\"\n",
    "    start: WS? \"SELECT\" WS select_expr WS \"FROM\" WS from_expr [WS \"WHERE\" WS bool_condition] [WS \"GROUP BY\" WS var_list] [WS \"ORDER BY\" WS orderby_expr] WS EOS\n",
    "    EOS: \"</s>\"\n",
    "    select_expr: STAR | select_list\n",
    "    bool_condition: bool_expr | \"(\" bool_condition WS \"AND\" WS bool_condition \")\" | \"(\" bool_condition WS \"OR\" WS bool_condition \")\"\n",
    "    bool_expr: var \"=\" value | var \">\" value | var \"<\" value\n",
    "    from_expr: \"data\"\n",
    "    orderby_expr: var_list WS \"ASC\" | var_list WS \"DESC\"\n",
    "    select_list: select_var (\",\" WS select_var)*\n",
    "    var_list: var (\",\" WS var)*\n",
    "    select_var: var | \"AVG(\" var \")\" | \"MEDIAN(\" var \")\" | \"COUNT(\" var \")\"\n",
    "    var: \"age\" | \"gender\" | \"year\" | \"state_color\" | \"zipcode\" | \"vote\" | \"race_ethnicity\"\n",
    "    value: NUMBER | \"'red'\" | \"'blue'\" | \"'white'\" | \"'black'\" | \"'latino'\" | \"'republican'\" | \"'democrat'\" | \"'male'\" | \"'female'\"\n",
    "    STAR: \"*\"\n",
    "    NUMBER: /\\d+/\n",
    "    WS: /[ ]/\n",
    "\"\"\""
   ]
  },
  {
   "cell_type": "code",
   "execution_count": 3,
   "metadata": {},
   "outputs": [],
   "source": [
    "from genparse.util import load_model_by_name, lark_guide\n",
    "from torch.cuda import is_available as is_cuda_available\n",
    "\n",
    "if is_cuda_available():\n",
    "    genparse_llm = load_model_by_name('codellama', batch_size=40)\n",
    "\n",
    "else:\n",
    "    genparse_llm = load_model_by_name('gpt2', batch_size=5)\n",
    "\n",
    "MAX_TOKENS = 100"
   ]
  },
  {
   "cell_type": "code",
   "execution_count": 4,
   "metadata": {},
   "outputs": [],
   "source": [
    "from genparse.steer import HFPPLSampler\n",
    "from genparse.proposal import CharacterProposal\n",
    "\n",
    "guide = lark_guide(very_restricted_sql, ignore='[ ]?')\n",
    "\n",
    "sampler = HFPPLSampler(llm=genparse_llm, guide=guide)\n",
    "\n",
    "proposal = CharacterProposal(llm=genparse_llm, guide=guide)"
   ]
  },
  {
   "cell_type": "code",
   "execution_count": 18,
   "metadata": {},
   "outputs": [],
   "source": [
    "particle_approx = sampler.run_inference(\n",
    "    prompt=prompt,\n",
    "    proposal=proposal,\n",
    "    method='smc-standard',\n",
    "    return_record=True,  # use version of smc that keeps a record\n",
    "    n_particles=12,\n",
    "    max_tokens=60,\n",
    "    verbosity=0,\n",
    ")\n",
    "record = particle_approx.record"
   ]
  },
  {
   "cell_type": "code",
   "execution_count": 6,
   "metadata": {},
   "outputs": [
    {
     "data": {
      "text/html": [
       "<div style=\"font-family: Monospace;\"><table><tr style=\"font-weight: bold;\"><td>key</td><td>value</td></tr><tr><td><pre> SELECT age, zipcode, age FROM data ORDER BY age ASC &lt;/s&gt;▪</pre></td><td><pre>1.0</pre></td> </tr></table></div>"
      ],
      "text/plain": [
       "{' SELECT age, zipcode, age FROM data ORDER BY age ASC </s>▪': 1.0}"
      ]
     },
     "execution_count": 6,
     "metadata": {},
     "output_type": "execute_result"
    }
   ],
   "source": [
    "particle_approx.posterior"
   ]
  },
  {
   "cell_type": "markdown",
   "metadata": {},
   "source": [
    "## Plotting the particle beam"
   ]
  },
  {
   "cell_type": "code",
   "execution_count": 9,
   "metadata": {},
   "outputs": [
    {
     "data": {
      "application/vnd.plotly.v1+json": {
       "config": {
        "plotlyServerURL": "https://plot.ly"
       },
       "data": [
        {
         "hoverinfo": "text",
         "hovertext": [
          "Token:    `<b> SELECT</b>`<br>Context:  <br>Step 1; Avg weight = -0.215236<br>Particle 0; Weight = -0.215236<br>",
          "Token:    `<b> year</b>`<br>Context:   SELECT<br>Step 2; Avg weight = -0.965942<br>Particle 0; Weight = -1.686394<br>",
          "Token:    `<b>,</b>`<br>Context:   SELECT year<br>Step 3; Avg weight = -1.075728<br>Particle 0; Weight = -1.758879<br>",
          "Token:    `<b> zip</b>`<br>Context:   SELECT year,<br>Step 4; Avg weight = -1.232865<br>Particle 0; Weight = -1.898355<br>",
          "Token:    `<b>code</b>`<br>Context:   SELECT year, zip<br>Step 5; Avg weight = -1.251884<br>Particle 0; Weight = -1.900247<br>",
          "Token:    `<b> FROM</b>`<br>Context:   SELECT year, zipcode<br>Step 6; Avg weight = -1.337824<br>Particle 0; Weight = -1.989592<br>",
          "Token:    `<b> data</b>`<br>Context:   SELECT year, zipcode FROM<br>Step 7; Avg weight = -1.492790<br>Particle 0; Weight = -2.299085<br>",
          "Token:    `<b> ORDER</b>`<br>Context:   SELECT year, zipcode FROM data<br>Step 8; Avg weight = -1.664944<br>Particle 0; Weight = -2.484067<br>",
          "Token:    `<b> BY</b>`<br>Context:   SELECT year, zipcode FROM data ORDER<br>Step 9; Avg weight = -1.810312<br>Particle 0; Weight = -2.485352<br>",
          "Token:    `<b> age</b>`<br>Context:   SELECT year, zipcode FROM data ORDER BY<br>Step 10; Avg weight = -1.916156<br>Particle 0; Weight = -2.706547<br>",
          "Token:    `<b> DES</b>`<br>Context:   SELECT year, zipcode FROM data ORDER BY age<br>Step 11; Avg weight = -2.205212<br>Particle 0; Weight = -3.460381<br>",
          "Token:    `<b> ASC</b>`<br>Context:   SELECT vote, zipcode, age FROM data ORDER BY age<br>Step 13; Avg weight = -3.157650<br>Particle 0; Weight = -3.156732<br>",
          "Token:    `<b> <</b>`<br>Context:   SELECT vote, zipcode, age FROM data ORDER BY age ASC<br>Step 14; Avg weight = -4.031457<br>Particle 0; Weight = -4.381057<br>",
          "Token:    `<b>/</b>`<br>Context:   SELECT vote, zipcode, age FROM data ORDER BY age ASC <<br>Step 15; Avg weight = -4.704308<br>Particle 0; Weight = -10.810010<br>",
          "Token:    `<b>s</b>`<br>Context:   SELECT vote, zipcode, age FROM data ORDER BY age ASC </<br>Step 16; Avg weight = -4.751885<br>Particle 0; Weight = -10.810643<br>",
          "Token:    `<b>></b>`<br>Context:   SELECT vote, zipcode, age FROM data ORDER BY age ASC </s<br>Step 17; Avg weight = -8.040587<br>Particle 0; Weight = -10.813274<br>        ↳ resampled as particle 0"
         ],
         "marker": {
          "color": "rgb(255.0, 0.0, 0.0)",
          "opacity": 0.15,
          "size": [
           14.142135623730953,
           9.864403187092243,
           10.05010432347952,
           10.139246262502981,
           10.226445243988353,
           10.209048010525965,
           9.449964672630767,
           9.389549502732413,
           10.090946706062311,
           9.525410189307857,
           7.550201076971703,
           14.148627179091157,
           11.874086774749102,
           0.6678493918590878,
           0.6837106176985738,
           3.5353591923711254
          ]
         },
         "mode": "markers+text",
         "showlegend": false,
         "text": [
          " SELECT",
          " year",
          ",",
          " zip",
          "code",
          " FROM",
          " data",
          " ORDER",
          " BY",
          " age",
          " DES",
          " ASC",
          " <",
          "/",
          "s",
          ">"
         ],
         "type": "scatter",
         "x": [
          1,
          2,
          3,
          4,
          5,
          6,
          7,
          8,
          9,
          10,
          11,
          13,
          14,
          15,
          16,
          17
         ],
         "y": [
          0,
          0,
          0,
          0,
          0,
          0,
          0,
          0,
          0,
          0,
          0,
          0,
          0,
          0,
          0,
          0
         ]
        },
        {
         "hoverinfo": "text",
         "hovertext": [
          "Token:    `<b> SELECT</b>`<br>Context:  <br>Step 1; Avg weight = -0.215236<br>Particle 1; Weight = -0.215236<br>",
          "Token:    `<b> vote</b>`<br>Context:   SELECT<br>Step 2; Avg weight = -0.965942<br>Particle 1; Weight = -0.796163<br>",
          "Token:    `<b>,</b>`<br>Context:   SELECT vote<br>Step 3; Avg weight = -1.075728<br>Particle 1; Weight = -0.851548<br>",
          "Token:    `<b> zip</b>`<br>Context:   SELECT vote,<br>Step 4; Avg weight = -1.232865<br>Particle 1; Weight = -0.941902<br>",
          "Token:    `<b>code</b>`<br>Context:   SELECT vote, zip<br>Step 5; Avg weight = -1.251884<br>Particle 1; Weight = -0.942445<br>",
          "Token:    `<b>,</b>`<br>Context:   SELECT vote, zipcode<br>Step 6; Avg weight = -1.337824<br>Particle 1; Weight = -0.949012<br>",
          "Token:    `<b> age</b>`<br>Context:   SELECT vote, zipcode,<br>Step 7; Avg weight = -1.492790<br>Particle 1; Weight = -1.070734<br>",
          "Token:    `<b> FROM</b>`<br>Context:   SELECT vote, zipcode, age<br>Step 8; Avg weight = -1.664944<br>Particle 1; Weight = -1.109006<br>",
          "Token:    `<b> data</b>`<br>Context:   SELECT vote, zipcode, age FROM<br>Step 9; Avg weight = -1.810312<br>Particle 1; Weight = -1.266943<br>",
          "Token:    `<b> ORDER</b>`<br>Context:   SELECT vote, zipcode, age FROM data<br>Step 10; Avg weight = -1.916156<br>Particle 1; Weight = -1.344688<br>",
          "Token:    `<b> BY</b>`<br>Context:   SELECT vote, zipcode, age FROM data ORDER<br>Step 11; Avg weight = -2.205212<br>Particle 1; Weight = -1.345474<br>",
          "Token:    `<b>C</b>`<br>Context:   SELECT year, zipcode FROM data ORDER BY age DES<br>Step 12; Avg weight = -2.547324<br>Particle 0; Weight = -3.463093<br>        ↳ resampled as particle 1",
          "Token:    `<b> age</b>`<br>Context:   SELECT vote, zipcode, age FROM data ORDER BY<br>Step 12; Avg weight = -2.547324<br>Particle 1; Weight = -1.442528<br>        ↳ resampled as particle 1",
          "Token:    `<b> age</b>`<br>Context:   SELECT vote, zipcode, age FROM data ORDER BY<br>Step 12; Avg weight = -2.547324<br>Particle 2; Weight = -1.442528<br>        ↳ resampled as particle 1",
          "Token:    `<b> DES</b>`<br>Context:   SELECT vote, zipcode, age FROM data ORDER BY age<br>Step 13; Avg weight = -3.157650<br>Particle 1; Weight = -3.166580<br>",
          "Token:    `<b>C</b>`<br>Context:   SELECT vote, zipcode, age FROM data ORDER BY age DES<br>Step 14; Avg weight = -4.031457<br>Particle 1; Weight = -3.169612<br>",
          "Token:    `<b> <</b>`<br>Context:   SELECT vote, zipcode, age FROM data ORDER BY age DESC<br>Step 15; Avg weight = -4.704308<br>Particle 1; Weight = -6.036100<br>",
          "Token:    `<b>/</b>`<br>Context:   SELECT vote, zipcode, age FROM data ORDER BY age DESC <<br>Step 16; Avg weight = -4.751885<br>Particle 1; Weight = -13.632063<br>"
         ],
         "marker": {
          "color": "rgb(231.8181818181818, 11.363636363636363, 23.181818181818183)",
          "opacity": 0.15,
          "size": [
           14.142135623730953,
           15.395082096578621,
           15.819583698484301,
           16.356742827697637,
           16.508543561483105,
           17.1768861837813,
           17.46478276789251,
           18.67391841682496,
           18.55693189350958,
           18.819477862161392,
           21.73724937361138,
           8.946608118762523,
           24.57075807390518,
           24.57075807390518,
           14.079136232071479,
           21.76017279725708,
           7.266411149038369,
           0.1668048710912514
          ]
         },
         "mode": "markers+text",
         "showlegend": false,
         "text": [
          " SELECT",
          " vote",
          ",",
          " zip",
          "code",
          ",",
          " age",
          " FROM",
          " data",
          " ORDER",
          " BY",
          "C",
          " age",
          " age",
          " DES",
          "C",
          " <",
          "/"
         ],
         "type": "scatter",
         "x": [
          1,
          2,
          3,
          4,
          5,
          6,
          7,
          8,
          9,
          10,
          11,
          12,
          12,
          12,
          13,
          14,
          15,
          16
         ],
         "y": [
          1,
          1,
          1,
          1,
          1,
          1,
          1,
          1,
          1,
          1,
          1,
          0,
          1,
          2,
          1,
          1,
          1,
          1
         ]
        },
        {
         "hoverinfo": "text",
         "hovertext": [
          "Token:    `<b> SELECT</b>`<br>Context:  <br>Step 1; Avg weight = -0.215236<br>Particle 2; Weight = -0.215236<br>",
          "Token:    `<b> vote</b>`<br>Context:   SELECT<br>Step 2; Avg weight = -0.965942<br>Particle 2; Weight = -0.796163<br>",
          "Token:    `<b>,</b>`<br>Context:   SELECT vote<br>Step 3; Avg weight = -1.075728<br>Particle 2; Weight = -0.851548<br>",
          "Token:    `<b> zip</b>`<br>Context:   SELECT vote,<br>Step 4; Avg weight = -1.232865<br>Particle 2; Weight = -0.941902<br>",
          "Token:    `<b>code</b>`<br>Context:   SELECT vote, zip<br>Step 5; Avg weight = -1.251884<br>Particle 2; Weight = -0.942445<br>",
          "Token:    `<b>,</b>`<br>Context:   SELECT vote, zipcode<br>Step 6; Avg weight = -1.337824<br>Particle 2; Weight = -0.949012<br>",
          "Token:    `<b> age</b>`<br>Context:   SELECT vote, zipcode,<br>Step 7; Avg weight = -1.492790<br>Particle 2; Weight = -1.070734<br>",
          "Token:    `<b> FROM</b>`<br>Context:   SELECT vote, zipcode, age<br>Step 8; Avg weight = -1.664944<br>Particle 2; Weight = -1.109006<br>",
          "Token:    `<b> data</b>`<br>Context:   SELECT vote, zipcode, age FROM<br>Step 9; Avg weight = -1.810312<br>Particle 2; Weight = -1.266943<br>",
          "Token:    `<b> ORDER</b>`<br>Context:   SELECT vote, zipcode, age FROM data<br>Step 10; Avg weight = -1.916156<br>Particle 2; Weight = -1.344688<br>",
          "Token:    `<b> BY</b>`<br>Context:   SELECT vote, zipcode, age FROM data ORDER<br>Step 11; Avg weight = -2.205212<br>Particle 2; Weight = -1.345474<br>",
          "Token:    `<b> </</b>`<br>Context:   SELECT year, zipcode FROM data ORDER BY age ASC<br>Step 12; Avg weight = -2.547324<br>Particle 3; Weight = -4.924779<br>        ↳ resampled as particle 2",
          "Token:    `<b> age</b>`<br>Context:   SELECT age, zipcode, age FROM data ORDER BY<br>Step 12; Avg weight = -2.547324<br>Particle 4; Weight = -1.731272<br>        ↳ resampled as particle 2",
          "Token:    `<b> WHERE</b>`<br>Context:   SELECT vote, age, zipcode, age FROM data<br>Step 12; Avg weight = -2.547324<br>Particle 5; Weight = -1.854334<br>        ↳ resampled as particle 2",
          "Token:    `<b> ASC</b>`<br>Context:   SELECT age, gender FROM data ORDER BY age, gender<br>Step 12; Avg weight = -2.547324<br>Particle 6; Weight = -2.795676<br>        ↳ resampled as particle 2",
          "Token:    `<b> age</b>`<br>Context:   SELECT vote, zipcode FROM data ORDER BY<br>Step 12; Avg weight = -2.547324<br>Particle 7; Weight = -12.587232<br>        ↳ resampled as particle 2",
          "Token:    `<b> DES</b>`<br>Context:   SELECT vote, zipcode, age FROM data ORDER BY age<br>Step 13; Avg weight = -3.157650<br>Particle 2; Weight = -3.166580<br>",
          "Token:    `<b>C</b>`<br>Context:   SELECT vote, zipcode, age FROM data ORDER BY age DES<br>Step 14; Avg weight = -4.031457<br>Particle 2; Weight = -3.169612<br>",
          "Token:    `<b> <</b>`<br>Context:   SELECT vote, zipcode, age FROM data ORDER BY age DESC<br>Step 15; Avg weight = -4.704308<br>Particle 2; Weight = -6.036100<br>",
          "Token:    `<b>/</b>`<br>Context:   SELECT vote, zipcode, age FROM data ORDER BY age DESC <<br>Step 16; Avg weight = -4.751885<br>Particle 2; Weight = -13.632063<br>"
         ],
         "marker": {
          "color": "rgb(208.63636363636363, 22.727272727272727, 46.36363636363637)",
          "opacity": 0.15,
          "size": [
           14.142135623730953,
           15.395082096578621,
           15.819583698484301,
           16.356742827697637,
           16.508543561483105,
           17.1768861837813,
           17.46478276789251,
           18.67391841682496,
           18.55693189350958,
           18.819477862161392,
           21.73724937361138,
           4.307816878769235,
           21.267595922618714,
           19.998427625832335,
           12.490678258980267,
           0.0934064010481447,
           14.079136232071479,
           21.76017279725708,
           7.266411149038369,
           0.1668048710912514
          ]
         },
         "mode": "markers+text",
         "showlegend": false,
         "text": [
          " SELECT",
          " vote",
          ",",
          " zip",
          "code",
          ",",
          " age",
          " FROM",
          " data",
          " ORDER",
          " BY",
          " </",
          " age",
          " WHERE",
          " ASC",
          " age",
          " DES",
          "C",
          " <",
          "/"
         ],
         "type": "scatter",
         "x": [
          1,
          2,
          3,
          4,
          5,
          6,
          7,
          8,
          9,
          10,
          11,
          12,
          12,
          12,
          12,
          12,
          13,
          14,
          15,
          16
         ],
         "y": [
          2,
          2,
          2,
          2,
          2,
          2,
          2,
          2,
          2,
          2,
          2,
          3,
          4,
          5,
          6,
          7,
          2,
          2,
          2,
          2
         ]
        },
        {
         "hoverinfo": "text",
         "hovertext": [
          "Token:    `<b> SELECT</b>`<br>Context:  <br>Step 1; Avg weight = -0.215236<br>Particle 3; Weight = -0.215236<br>",
          "Token:    `<b> year</b>`<br>Context:   SELECT<br>Step 2; Avg weight = -0.965942<br>Particle 3; Weight = -1.686394<br>",
          "Token:    `<b>,</b>`<br>Context:   SELECT year<br>Step 3; Avg weight = -1.075728<br>Particle 3; Weight = -1.758879<br>",
          "Token:    `<b> zip</b>`<br>Context:   SELECT year,<br>Step 4; Avg weight = -1.232865<br>Particle 3; Weight = -1.898355<br>",
          "Token:    `<b>code</b>`<br>Context:   SELECT year, zip<br>Step 5; Avg weight = -1.251884<br>Particle 3; Weight = -1.900247<br>",
          "Token:    `<b> FROM</b>`<br>Context:   SELECT year, zipcode<br>Step 6; Avg weight = -1.337824<br>Particle 3; Weight = -1.989592<br>",
          "Token:    `<b> data</b>`<br>Context:   SELECT year, zipcode FROM<br>Step 7; Avg weight = -1.492790<br>Particle 3; Weight = -2.299085<br>",
          "Token:    `<b> ORDER</b>`<br>Context:   SELECT year, zipcode FROM data<br>Step 8; Avg weight = -1.664944<br>Particle 3; Weight = -2.484067<br>",
          "Token:    `<b> BY</b>`<br>Context:   SELECT year, zipcode FROM data ORDER<br>Step 9; Avg weight = -1.810312<br>Particle 3; Weight = -2.485352<br>",
          "Token:    `<b> age</b>`<br>Context:   SELECT year, zipcode FROM data ORDER BY<br>Step 10; Avg weight = -1.916156<br>Particle 3; Weight = -2.706547<br>",
          "Token:    `<b> ASC</b>`<br>Context:   SELECT year, zipcode FROM data ORDER BY age<br>Step 11; Avg weight = -2.205212<br>Particle 3; Weight = -3.453775<br>",
          "Token:    `<b> ASC</b>`<br>Context:   SELECT vote, zipcode, age FROM data ORDER BY age<br>Step 13; Avg weight = -3.157650<br>Particle 3; Weight = -3.156732<br>",
          "Token:    `<b> </</b>`<br>Context:   SELECT vote, zipcode, age FROM data ORDER BY age ASC<br>Step 14; Avg weight = -4.031457<br>Particle 3; Weight = -4.381057<br>",
          "Token:    `<b>s</b>`<br>Context:   SELECT vote, zipcode, age FROM data ORDER BY age ASC </<br>Step 15; Avg weight = -4.704308<br>Particle 3; Weight = -4.381691<br>",
          "Token:    `<b>></b>`<br>Context:   SELECT vote, zipcode, age FROM data ORDER BY age ASC </s<br>Step 16; Avg weight = -4.751885<br>Particle 3; Weight = -4.384321<br>",
          "Token:    `<b>s</b>`<br>Context:   SELECT vote, zipcode, age FROM data ORDER BY age DESC </<br>Step 17; Avg weight = -8.040587<br>Particle 1; Weight = -13.633278<br>        ↳ resampled as particle 3",
          "Token:    `<b>s</b>`<br>Context:   SELECT vote, zipcode, age FROM data ORDER BY age DESC </<br>Step 17; Avg weight = -8.040587<br>Particle 2; Weight = -13.633278<br>        ↳ resampled as particle 3"
         ],
         "marker": {
          "color": "rgb(185.45454545454544, 34.09090909090909, 69.54545454545455)",
          "opacity": 0.15,
          "size": [
           14.142135623730953,
           9.864403187092243,
           10.05010432347952,
           10.139246262502981,
           10.226445243988353,
           10.209048010525965,
           9.449964672630767,
           9.389549502732413,
           10.090946706062311,
           9.525410189307857,
           7.575179067519872,
           14.148627179091157,
           11.874086774749102,
           16.61767984146253,
           16.9953606336607,
           0.863132577678088,
           0.863132577678088
          ]
         },
         "mode": "markers+text",
         "showlegend": false,
         "text": [
          " SELECT",
          " year",
          ",",
          " zip",
          "code",
          " FROM",
          " data",
          " ORDER",
          " BY",
          " age",
          " ASC",
          " ASC",
          " </",
          "s",
          ">",
          "s",
          "s"
         ],
         "type": "scatter",
         "x": [
          1,
          2,
          3,
          4,
          5,
          6,
          7,
          8,
          9,
          10,
          11,
          13,
          14,
          15,
          16,
          17,
          17
         ],
         "y": [
          3,
          3,
          3,
          3,
          3,
          3,
          3,
          3,
          3,
          3,
          3,
          3,
          3,
          3,
          3,
          1,
          2
         ]
        },
        {
         "hoverinfo": "text",
         "hovertext": [
          "Token:    `<b> SELECT</b>`<br>Context:  <br>Step 1; Avg weight = -0.215236<br>Particle 4; Weight = -0.215236<br>",
          "Token:    `<b> age</b>`<br>Context:   SELECT<br>Step 2; Avg weight = -0.965942<br>Particle 4; Weight = -0.734823<br>",
          "Token:    `<b>,</b>`<br>Context:   SELECT age<br>Step 3; Avg weight = -1.075728<br>Particle 4; Weight = -0.760894<br>",
          "Token:    `<b> zip</b>`<br>Context:   SELECT age,<br>Step 4; Avg weight = -1.232865<br>Particle 4; Weight = -0.976933<br>",
          "Token:    `<b>code</b>`<br>Context:   SELECT age, zip<br>Step 5; Avg weight = -1.251884<br>Particle 4; Weight = -0.977811<br>",
          "Token:    `<b>,</b>`<br>Context:   SELECT age, zipcode<br>Step 6; Avg weight = -1.337824<br>Particle 4; Weight = -0.984789<br>",
          "Token:    `<b> age</b>`<br>Context:   SELECT age, zipcode,<br>Step 7; Avg weight = -1.492790<br>Particle 4; Weight = -1.358199<br>",
          "Token:    `<b> FROM</b>`<br>Context:   SELECT age, zipcode, age<br>Step 8; Avg weight = -1.664944<br>Particle 4; Weight = -1.410446<br>",
          "Token:    `<b> data</b>`<br>Context:   SELECT age, zipcode, age FROM<br>Step 9; Avg weight = -1.810312<br>Particle 4; Weight = -1.570961<br>",
          "Token:    `<b> ORDER</b>`<br>Context:   SELECT age, zipcode, age FROM data<br>Step 10; Avg weight = -1.916156<br>Particle 4; Weight = -1.652424<br>",
          "Token:    `<b> BY</b>`<br>Context:   SELECT age, zipcode, age FROM data ORDER<br>Step 11; Avg weight = -2.205212<br>Particle 4; Weight = -1.653238<br>",
          "Token:    `<b>/</b>`<br>Context:   SELECT age, gender FROM data WHERE age>100 <<br>Step 12; Avg weight = -2.547324<br>Particle 8; Weight = -8.425403<br>        ↳ resampled as particle 4",
          "Token:    `<b>></b>`<br>Context:   SELECT vote FROM data WHERE age>20 </s<br>Step 12; Avg weight = -2.547324<br>Particle 9; Weight = -9.953949<br>        ↳ resampled as particle 4",
          "Token:    `<b> vote</b>`<br>Context:   SELECT MEDIAN( age) FROM data WHERE<br>Step 12; Avg weight = -2.547324<br>Particle 10; Weight = -27.770519<br>        ↳ resampled as particle 4",
          "Token:    `<b> </</b>`<br>Context:   SELECT vote, zipcode FROM data ORDER BY age ASC<br>Step 12; Avg weight = -2.547324<br>Particle 11; Weight = -3.402971<br>        ↳ resampled as particle 4",
          "Token:    `<b> ASC</b>`<br>Context:   SELECT vote, zipcode, age FROM data ORDER BY age<br>Step 13; Avg weight = -3.157650<br>Particle 4; Weight = -3.156732<br>",
          "Token:    `<b> <</b>`<br>Context:   SELECT vote, zipcode, age FROM data ORDER BY age ASC<br>Step 14; Avg weight = -4.031457<br>Particle 4; Weight = -4.381057<br>",
          "Token:    `<b>/</b>`<br>Context:   SELECT vote, zipcode, age FROM data ORDER BY age ASC <<br>Step 15; Avg weight = -4.704308<br>Particle 4; Weight = -10.810010<br>",
          "Token:    `<b>s</b>`<br>Context:   SELECT vote, zipcode, age FROM data ORDER BY age ASC </<br>Step 16; Avg weight = -4.751885<br>Particle 4; Weight = -10.810643<br>"
         ],
         "marker": {
          "color": "rgb(162.27272727272725, 45.45454545454545, 92.72727272727273)",
          "opacity": 0.15,
          "size": [
           14.142135623730953,
           15.874566923974372,
           16.553138915021396,
           16.072741703550843,
           16.219189906910035,
           16.87234448587652,
           15.126588554408874,
           16.0612212106765,
           15.940043233212625,
           16.135546313615585,
           18.6369434147983,
           0.7483528396140399,
           0.34848728724374334,
           0.000047137644184626465,
           9.21963258122677,
           14.148627179091157,
           11.874086774749102,
           0.6678493918590878,
           0.6837106176985738
          ]
         },
         "mode": "markers+text",
         "showlegend": false,
         "text": [
          " SELECT",
          " age",
          ",",
          " zip",
          "code",
          ",",
          " age",
          " FROM",
          " data",
          " ORDER",
          " BY",
          "/",
          ">",
          " vote",
          " </",
          " ASC",
          " <",
          "/",
          "s"
         ],
         "type": "scatter",
         "x": [
          1,
          2,
          3,
          4,
          5,
          6,
          7,
          8,
          9,
          10,
          11,
          12,
          12,
          12,
          12,
          13,
          14,
          15,
          16
         ],
         "y": [
          4,
          4,
          4,
          4,
          4,
          4,
          4,
          4,
          4,
          4,
          4,
          8,
          9,
          10,
          11,
          4,
          4,
          4,
          4
         ]
        },
        {
         "hoverinfo": "text",
         "hovertext": [
          "Token:    `<b> SELECT</b>`<br>Context:  <br>Step 1; Avg weight = -0.215236<br>Particle 5; Weight = -0.215236<br>",
          "Token:    `<b> vote</b>`<br>Context:   SELECT<br>Step 2; Avg weight = -0.965942<br>Particle 5; Weight = -0.796163<br>",
          "Token:    `<b>,</b>`<br>Context:   SELECT vote<br>Step 3; Avg weight = -1.075728<br>Particle 5; Weight = -0.851548<br>",
          "Token:    `<b> age</b>`<br>Context:   SELECT vote,<br>Step 4; Avg weight = -1.232865<br>Particle 5; Weight = -0.983347<br>",
          "Token:    `<b>,</b>`<br>Context:   SELECT vote, age<br>Step 5; Avg weight = -1.251884<br>Particle 5; Weight = -0.996133<br>",
          "Token:    `<b> zip</b>`<br>Context:   SELECT vote, age,<br>Step 6; Avg weight = -1.337824<br>Particle 5; Weight = -1.158931<br>",
          "Token:    `<b>code</b>`<br>Context:   SELECT vote, age, zip<br>Step 7; Avg weight = -1.492790<br>Particle 5; Weight = -1.159694<br>",
          "Token:    `<b>,</b>`<br>Context:   SELECT vote, age, zipcode<br>Step 8; Avg weight = -1.664944<br>Particle 5; Weight = -1.167354<br>",
          "Token:    `<b> age</b>`<br>Context:   SELECT vote, age, zipcode,<br>Step 9; Avg weight = -1.810312<br>Particle 5; Weight = -1.508606<br>",
          "Token:    `<b> FROM</b>`<br>Context:   SELECT vote, age, zipcode, age<br>Step 10; Avg weight = -1.916156<br>Particle 5; Weight = -1.580989<br>",
          "Token:    `<b> data</b>`<br>Context:   SELECT vote, age, zipcode, age FROM<br>Step 11; Avg weight = -2.205212<br>Particle 5; Weight = -1.758158<br>",
          "Token:    `<b> ASC</b>`<br>Context:   SELECT vote, zipcode, age FROM data ORDER BY age<br>Step 13; Avg weight = -3.157650<br>Particle 5; Weight = -3.156732<br>",
          "Token:    `<b> </</b>`<br>Context:   SELECT vote, zipcode, age FROM data ORDER BY age ASC<br>Step 14; Avg weight = -4.031457<br>Particle 5; Weight = -4.381057<br>",
          "Token:    `<b>s</b>`<br>Context:   SELECT vote, zipcode, age FROM data ORDER BY age ASC </<br>Step 15; Avg weight = -4.704308<br>Particle 5; Weight = -4.381691<br>",
          "Token:    `<b>></b>`<br>Context:   SELECT vote, zipcode, age FROM data ORDER BY age ASC </s<br>Step 16; Avg weight = -4.751885<br>Particle 5; Weight = -4.384321<br>",
          "Token:    `<b> </b>`<br>Context:   SELECT vote, zipcode, age FROM data ORDER BY age ASC </s><br>Step 17; Avg weight = -8.040587<br>Particle 3; Weight = -8.093629<br>        ↳ resampled as particle 5",
          "Token:    `<b>></b>`<br>Context:   SELECT vote, zipcode, age FROM data ORDER BY age ASC </s<br>Step 17; Avg weight = -8.040587<br>Particle 4; Weight = -10.813274<br>        ↳ resampled as particle 5"
         ],
         "marker": {
          "color": "rgb(139.09090909090907, 56.81818181818181, 115.90909090909092)",
          "opacity": 0.15,
          "size": [
           14.142135623730953,
           15.395082096578621,
           15.819583698484301,
           16.02127579819002,
           16.071286293806917,
           15.465394861897378,
           16.704972785890472,
           18.13698867434843,
           16.44483872757375,
           16.7222798016504,
           17.68444437841874,
           14.148627179091157,
           11.874086774749102,
           16.61767984146253,
           16.9953606336607,
           13.77199955531316,
           3.5353591923711254
          ]
         },
         "mode": "markers+text",
         "showlegend": false,
         "text": [
          " SELECT",
          " vote",
          ",",
          " age",
          ",",
          " zip",
          "code",
          ",",
          " age",
          " FROM",
          " data",
          " ASC",
          " </",
          "s",
          ">",
          " ",
          ">"
         ],
         "type": "scatter",
         "x": [
          1,
          2,
          3,
          4,
          5,
          6,
          7,
          8,
          9,
          10,
          11,
          13,
          14,
          15,
          16,
          17,
          17
         ],
         "y": [
          5,
          5,
          5,
          5,
          5,
          5,
          5,
          5,
          5,
          5,
          5,
          5,
          5,
          5,
          5,
          3,
          4
         ]
        },
        {
         "hoverinfo": "text",
         "hovertext": [
          "Token:    `<b> SELECT</b>`<br>Context:  <br>Step 1; Avg weight = -0.215236<br>Particle 6; Weight = -0.215236<br>",
          "Token:    `<b> age</b>`<br>Context:   SELECT<br>Step 2; Avg weight = -0.965942<br>Particle 6; Weight = -0.734823<br>",
          "Token:    `<b>,</b>`<br>Context:   SELECT age<br>Step 3; Avg weight = -1.075728<br>Particle 6; Weight = -0.760894<br>",
          "Token:    `<b> gender</b>`<br>Context:   SELECT age,<br>Step 4; Avg weight = -1.232865<br>Particle 6; Weight = -0.996671<br>",
          "Token:    `<b> FROM</b>`<br>Context:   SELECT age, gender<br>Step 5; Avg weight = -1.251884<br>Particle 6; Weight = -1.037797<br>",
          "Token:    `<b> data</b>`<br>Context:   SELECT age, gender FROM<br>Step 6; Avg weight = -1.337824<br>Particle 6; Weight = -1.199347<br>",
          "Token:    `<b> ORDER</b>`<br>Context:   SELECT age, gender FROM data<br>Step 7; Avg weight = -1.492790<br>Particle 6; Weight = -1.309608<br>",
          "Token:    `<b> BY</b>`<br>Context:   SELECT age, gender FROM data ORDER<br>Step 8; Avg weight = -1.664944<br>Particle 6; Weight = -1.310426<br>",
          "Token:    `<b> age</b>`<br>Context:   SELECT age, gender FROM data ORDER BY<br>Step 9; Avg weight = -1.810312<br>Particle 6; Weight = -1.377004<br>",
          "Token:    `<b>,</b>`<br>Context:   SELECT age, gender FROM data ORDER BY age<br>Step 10; Avg weight = -1.916156<br>Particle 6; Weight = -1.478133<br>",
          "Token:    `<b> gender</b>`<br>Context:   SELECT age, gender FROM data ORDER BY age,<br>Step 11; Avg weight = -2.205212<br>Particle 6; Weight = -1.909572<br>",
          "Token:    `<b> ASC</b>`<br>Context:   SELECT vote, zipcode, age FROM data ORDER BY age<br>Step 13; Avg weight = -3.157650<br>Particle 6; Weight = -3.156732<br>",
          "Token:    `<b> </</b>`<br>Context:   SELECT vote, zipcode, age FROM data ORDER BY age ASC<br>Step 14; Avg weight = -4.031457<br>Particle 6; Weight = -4.381057<br>",
          "Token:    `<b>s</b>`<br>Context:   SELECT vote, zipcode, age FROM data ORDER BY age ASC </<br>Step 15; Avg weight = -4.704308<br>Particle 6; Weight = -4.381691<br>",
          "Token:    `<b>></b>`<br>Context:   SELECT vote, zipcode, age FROM data ORDER BY age ASC </s<br>Step 16; Avg weight = -4.751885<br>Particle 6; Weight = -4.384321<br>",
          "Token:    `<b> </b>`<br>Context:   SELECT vote, zipcode, age FROM data ORDER BY age ASC </s><br>Step 17; Avg weight = -8.040587<br>Particle 5; Weight = -8.093629<br>        ↳ resampled as particle 6"
         ],
         "marker": {
          "color": "rgb(115.9090909090909, 68.18181818181819, 139.0909090909091)",
          "opacity": 0.15,
          "size": [
           14.142135623730953,
           15.874566923974372,
           16.553138915021396,
           15.914896197311686,
           15.73994938867623,
           15.156007262695056,
           15.498594475884413,
           16.88486876503492,
           17.563319225063626,
           17.604772304379015,
           16.395035519927323,
           14.148627179091157,
           11.874086774749102,
           16.61767984146253,
           16.9953606336607,
           13.77199955531316
          ]
         },
         "mode": "markers+text",
         "showlegend": false,
         "text": [
          " SELECT",
          " age",
          ",",
          " gender",
          " FROM",
          " data",
          " ORDER",
          " BY",
          " age",
          ",",
          " gender",
          " ASC",
          " </",
          "s",
          ">",
          " "
         ],
         "type": "scatter",
         "x": [
          1,
          2,
          3,
          4,
          5,
          6,
          7,
          8,
          9,
          10,
          11,
          13,
          14,
          15,
          16,
          17
         ],
         "y": [
          6,
          6,
          6,
          6,
          6,
          6,
          6,
          6,
          6,
          6,
          6,
          6,
          6,
          6,
          6,
          5
         ]
        },
        {
         "hoverinfo": "text",
         "hovertext": [
          "Token:    `<b> SELECT</b>`<br>Context:  <br>Step 1; Avg weight = -0.215236<br>Particle 7; Weight = -0.215236<br>",
          "Token:    `<b> vote</b>`<br>Context:   SELECT<br>Step 2; Avg weight = -0.965942<br>Particle 7; Weight = -0.796163<br>",
          "Token:    `<b>,</b>`<br>Context:   SELECT vote<br>Step 3; Avg weight = -1.075728<br>Particle 7; Weight = -0.851548<br>",
          "Token:    `<b> zip</b>`<br>Context:   SELECT vote,<br>Step 4; Avg weight = -1.232865<br>Particle 7; Weight = -0.941902<br>",
          "Token:    `<b>code</b>`<br>Context:   SELECT vote, zip<br>Step 5; Avg weight = -1.251884<br>Particle 7; Weight = -0.942445<br>",
          "Token:    `<b> FROM</b>`<br>Context:   SELECT vote, zipcode<br>Step 6; Avg weight = -1.337824<br>Particle 7; Weight = -1.031302<br>",
          "Token:    `<b> d</b>`<br>Context:   SELECT vote, zipcode FROM<br>Step 7; Avg weight = -1.492790<br>Particle 7; Weight = -1.193922<br>",
          "Token:    `<b>at</b>`<br>Context:   SELECT vote, zipcode FROM d<br>Step 8; Avg weight = -1.664944<br>Particle 7; Weight = -6.731273<br>",
          "Token:    `<b>a</b>`<br>Context:   SELECT vote, zipcode FROM dat<br>Step 9; Avg weight = -1.810312<br>Particle 7; Weight = -12.341719<br>",
          "Token:    `<b> ORDER</b>`<br>Context:   SELECT vote, zipcode FROM data<br>Step 10; Avg weight = -1.916156<br>Particle 7; Weight = -12.459751<br>",
          "Token:    `<b> BY</b>`<br>Context:   SELECT vote, zipcode FROM data ORDER<br>Step 11; Avg weight = -2.205212<br>Particle 7; Weight = -12.460543<br>",
          "Token:    `<b> ASC</b>`<br>Context:   SELECT vote, zipcode, age FROM data ORDER BY age<br>Step 13; Avg weight = -3.157650<br>Particle 7; Weight = -3.156732<br>",
          "Token:    `<b> </</b>`<br>Context:   SELECT vote, zipcode, age FROM data ORDER BY age ASC<br>Step 14; Avg weight = -4.031457<br>Particle 7; Weight = -4.381057<br>",
          "Token:    `<b>s</b>`<br>Context:   SELECT vote, zipcode, age FROM data ORDER BY age ASC </<br>Step 15; Avg weight = -4.704308<br>Particle 7; Weight = -4.381691<br>",
          "Token:    `<b>></b>`<br>Context:   SELECT vote, zipcode, age FROM data ORDER BY age ASC </s<br>Step 16; Avg weight = -4.751885<br>Particle 7; Weight = -4.384321<br>",
          "Token:    `<b> </b>`<br>Context:   SELECT vote, zipcode, age FROM data ORDER BY age ASC </s><br>Step 17; Avg weight = -8.040587<br>Particle 6; Weight = -8.093629<br>        ↳ resampled as particle 7",
          "Token:    `<b> </b>`<br>Context:   SELECT vote, zipcode, age FROM data ORDER BY age ASC </s><br>Step 18; Avg weight = -9.132696<br>Particle 0; Weight = -11.749894<br>        ↳ resampled as particle 7",
          "Token:    `<b>▪</b>`<br>Context:   SELECT vote, zipcode, age FROM data ORDER BY age ASC </s> <br>Step 18; Avg weight = -9.132696<br>Particle 1; Weight = -16.420301<br>        ↳ resampled as particle 7",
          "Token:    `<b>▪</b>`<br>Context:   SELECT vote, zipcode, age FROM data ORDER BY age ASC </s> <br>Step 18; Avg weight = -9.132696<br>Particle 2; Weight = -16.420301<br>        ↳ resampled as particle 7",
          "Token:    `<b>▪</b>`<br>Context:   SELECT vote, zipcode, age FROM data ORDER BY age ASC </s> <br>Step 18; Avg weight = -9.132696<br>Particle 3; Weight = -16.420301<br>        ↳ resampled as particle 7"
         ],
         "marker": {
          "color": "rgb(92.72727272727272, 79.54545454545455, 162.27272727272728)",
          "opacity": 0.15,
          "size": [
           14.142135623730953,
           15.395082096578621,
           15.819583698484301,
           16.356742827697637,
           16.508543561483105,
           16.484478986114738,
           16.42151805348616,
           1.1229894280205064,
           0.07305484035989648,
           0.0726109829503062,
           0.08386833835478558,
           14.148627179091157,
           11.874086774749102,
           16.61767984146253,
           16.9953606336607,
           13.77199955531316,
           3.821181558121493,
           0.36985506989636563,
           0.36985506989636563,
           0.36985506989636563
          ]
         },
         "mode": "markers+text",
         "showlegend": false,
         "text": [
          " SELECT",
          " vote",
          ",",
          " zip",
          "code",
          " FROM",
          " d",
          "at",
          "a",
          " ORDER",
          " BY",
          " ASC",
          " </",
          "s",
          ">",
          " ",
          " ",
          "▪",
          "▪",
          "▪"
         ],
         "type": "scatter",
         "x": [
          1,
          2,
          3,
          4,
          5,
          6,
          7,
          8,
          9,
          10,
          11,
          13,
          14,
          15,
          16,
          17,
          18,
          18,
          18,
          18
         ],
         "y": [
          7,
          7,
          7,
          7,
          7,
          7,
          7,
          7,
          7,
          7,
          7,
          7,
          7,
          7,
          7,
          6,
          0,
          1,
          2,
          3
         ]
        },
        {
         "hoverinfo": "text",
         "hovertext": [
          "Token:    `<b> SELECT</b>`<br>Context:  <br>Step 1; Avg weight = -0.215236<br>Particle 8; Weight = -0.215236<br>",
          "Token:    `<b> age</b>`<br>Context:   SELECT<br>Step 2; Avg weight = -0.965942<br>Particle 8; Weight = -0.734823<br>",
          "Token:    `<b>,</b>`<br>Context:   SELECT age<br>Step 3; Avg weight = -1.075728<br>Particle 8; Weight = -0.760894<br>",
          "Token:    `<b> gender</b>`<br>Context:   SELECT age,<br>Step 4; Avg weight = -1.232865<br>Particle 8; Weight = -0.996671<br>",
          "Token:    `<b> FROM</b>`<br>Context:   SELECT age, gender<br>Step 5; Avg weight = -1.251884<br>Particle 8; Weight = -1.037797<br>",
          "Token:    `<b> data</b>`<br>Context:   SELECT age, gender FROM<br>Step 6; Avg weight = -1.337824<br>Particle 8; Weight = -1.199347<br>",
          "Token:    `<b> WHERE</b>`<br>Context:   SELECT age, gender FROM data<br>Step 7; Avg weight = -1.492790<br>Particle 8; Weight = -1.308040<br>",
          "Token:    `<b> age</b>`<br>Context:   SELECT age, gender FROM data WHERE<br>Step 8; Avg weight = -1.664944<br>Particle 8; Weight = -1.359637<br>",
          "Token:    `<b>></b>`<br>Context:   SELECT age, gender FROM data WHERE age<br>Step 9; Avg weight = -1.810312<br>Particle 8; Weight = -1.378815<br>",
          "Token:    `<b>100</b>`<br>Context:   SELECT age, gender FROM data WHERE age><br>Step 10; Avg weight = -1.916156<br>Particle 8; Weight = -1.391304<br>",
          "Token:    `<b> <</b>`<br>Context:   SELECT age, gender FROM data WHERE age>100<br>Step 11; Avg weight = -2.205212<br>Particle 8; Weight = -2.296878<br>",
          "Token:    `<b> ASC</b>`<br>Context:   SELECT age, zipcode, age FROM data ORDER BY age<br>Step 13; Avg weight = -3.157650<br>Particle 8; Weight = -3.154588<br>",
          "Token:    `<b> </</b>`<br>Context:   SELECT age, zipcode, age FROM data ORDER BY age ASC<br>Step 14; Avg weight = -4.031457<br>Particle 8; Weight = -4.307497<br>",
          "Token:    `<b>s</b>`<br>Context:   SELECT age, zipcode, age FROM data ORDER BY age ASC </<br>Step 15; Avg weight = -4.704308<br>Particle 8; Weight = -4.308121<br>",
          "Token:    `<b>></b>`<br>Context:   SELECT age, zipcode, age FROM data ORDER BY age ASC </s<br>Step 16; Avg weight = -4.751885<br>Particle 8; Weight = -4.310698<br>",
          "Token:    `<b>▪</b>`<br>Context:   SELECT vote, zipcode, age FROM data ORDER BY age ASC </s> <br>Step 18; Avg weight = -9.132696<br>Particle 4; Weight = -16.420301<br>        ↳ resampled as particle 8",
          "Token:    `<b>▪</b>`<br>Context:   SELECT vote, zipcode, age FROM data ORDER BY age ASC </s> <br>Step 18; Avg weight = -9.132696<br>Particle 5; Weight = -16.420301<br>        ↳ resampled as particle 8",
          "Token:    `<b>▪</b>`<br>Context:   SELECT vote, zipcode, age FROM data ORDER BY age ASC </s> <br>Step 18; Avg weight = -9.132696<br>Particle 6; Weight = -16.420301<br>        ↳ resampled as particle 8",
          "Token:    `<b>▪</b>`<br>Context:   SELECT age, zipcode, age FROM data ORDER BY age ASC </s><br>Step 18; Avg weight = -9.132696<br>Particle 7; Weight = -8.040587<br>        ↳ resampled as particle 8"
         ],
         "marker": {
          "color": "rgb(69.54545454545453, 90.9090909090909, 185.45454545454547)",
          "opacity": 0.15,
          "size": [
           14.142135623730953,
           15.874566923974372,
           16.553138915021396,
           15.914896197311686,
           15.73994938867623,
           15.156007262695056,
           15.51075032531929,
           16.474471848245077,
           17.54742274265579,
           18.38590896146191,
           13.508585472267555,
           14.163808982756384,
           12.318950231872412,
           17.24034047773165,
           17.632642311773054,
           0.36985506989636563,
           0.36985506989636563,
           0.36985506989636563,
           24.4153837940455
          ]
         },
         "mode": "markers+text",
         "showlegend": false,
         "text": [
          " SELECT",
          " age",
          ",",
          " gender",
          " FROM",
          " data",
          " WHERE",
          " age",
          ">",
          "100",
          " <",
          " ASC",
          " </",
          "s",
          ">",
          "▪",
          "▪",
          "▪",
          "▪"
         ],
         "type": "scatter",
         "x": [
          1,
          2,
          3,
          4,
          5,
          6,
          7,
          8,
          9,
          10,
          11,
          13,
          14,
          15,
          16,
          18,
          18,
          18,
          18
         ],
         "y": [
          8,
          8,
          8,
          8,
          8,
          8,
          8,
          8,
          8,
          8,
          8,
          8,
          8,
          8,
          8,
          4,
          5,
          6,
          7
         ]
        },
        {
         "hoverinfo": "text",
         "hovertext": [
          "Token:    `<b> SELECT</b>`<br>Context:  <br>Step 1; Avg weight = -0.215236<br>Particle 9; Weight = -0.215236<br>",
          "Token:    `<b> vote</b>`<br>Context:   SELECT<br>Step 2; Avg weight = -0.965942<br>Particle 9; Weight = -0.796163<br>",
          "Token:    `<b> FROM</b>`<br>Context:   SELECT vote<br>Step 3; Avg weight = -1.075728<br>Particle 9; Weight = -1.548458<br>",
          "Token:    `<b> data</b>`<br>Context:   SELECT vote FROM<br>Step 4; Avg weight = -1.232865<br>Particle 9; Weight = -1.900072<br>",
          "Token:    `<b> WHERE</b>`<br>Context:   SELECT vote FROM data<br>Step 5; Avg weight = -1.251884<br>Particle 9; Weight = -2.120919<br>",
          "Token:    `<b> age</b>`<br>Context:   SELECT vote FROM data WHERE<br>Step 6; Avg weight = -1.337824<br>Particle 9; Weight = -2.322391<br>",
          "Token:    `<b>></b>`<br>Context:   SELECT vote FROM data WHERE age<br>Step 7; Avg weight = -1.492790<br>Particle 9; Weight = -2.367855<br>",
          "Token:    `<b>20</b>`<br>Context:   SELECT vote FROM data WHERE age><br>Step 8; Avg weight = -1.664944<br>Particle 9; Weight = -2.389606<br>",
          "Token:    `<b> <</b>`<br>Context:   SELECT vote FROM data WHERE age>20<br>Step 9; Avg weight = -1.810312<br>Particle 9; Weight = -3.476894<br>",
          "Token:    `<b>/</b>`<br>Context:   SELECT vote FROM data WHERE age>20 <<br>Step 10; Avg weight = -1.916156<br>Particle 9; Weight = -9.938522<br>",
          "Token:    `<b>s</b>`<br>Context:   SELECT vote FROM data WHERE age>20 </<br>Step 11; Avg weight = -2.205212<br>Particle 9; Weight = -9.948022<br>",
          "Token:    `<b> ASC</b>`<br>Context:   SELECT age, zipcode, age FROM data ORDER BY age<br>Step 13; Avg weight = -3.157650<br>Particle 9; Weight = -3.154588<br>",
          "Token:    `<b> </</b>`<br>Context:   SELECT age, zipcode, age FROM data ORDER BY age ASC<br>Step 14; Avg weight = -4.031457<br>Particle 9; Weight = -4.307497<br>",
          "Token:    `<b>s</b>`<br>Context:   SELECT age, zipcode, age FROM data ORDER BY age ASC </<br>Step 15; Avg weight = -4.704308<br>Particle 9; Weight = -4.308121<br>",
          "Token:    `<b>></b>`<br>Context:   SELECT age, zipcode, age FROM data ORDER BY age ASC </s<br>Step 16; Avg weight = -4.751885<br>Particle 9; Weight = -4.310698<br>",
          "Token:    `<b> </b>`<br>Context:   SELECT vote, zipcode, age FROM data ORDER BY age ASC </s><br>Step 17; Avg weight = -8.040587<br>Particle 7; Weight = -8.093629<br>        ↳ resampled as particle 9",
          "Token:    `<b> </b>`<br>Context:   SELECT age, zipcode, age FROM data ORDER BY age ASC </s><br>Step 17; Avg weight = -8.040587<br>Particle 8; Weight = -8.010266<br>        ↳ resampled as particle 9",
          "Token:    `<b>▪</b>`<br>Context:   SELECT age, zipcode, age FROM data ORDER BY age ASC </s><br>Step 17; Avg weight = -8.040587<br>Particle 9; Weight = -6.434786<br>        ↳ resampled as particle 9",
          "Token:    `<b> </b>`<br>Context:   SELECT age, zipcode, age FROM data ORDER BY age ASC </s><br>Step 17; Avg weight = -8.040587<br>Particle 10; Weight = -8.010266<br>        ↳ resampled as particle 9"
         ],
         "marker": {
          "color": "rgb(46.363636363636346, 102.27272727272727, 208.63636363636365)",
          "opacity": 0.15,
          "size": [
           14.142135623730953,
           15.395082096578621,
           11.16511039994391,
           10.13054320883774,
           9.158122872759064,
           8.644083848537026,
           9.130550218267551,
           9.84365904769188,
           6.1464060287387925,
           0.25614172006813996,
           0.29456769437200836,
           14.163808982756384,
           12.318950231872412,
           17.24034047773165,
           17.632642311773054,
           13.77199955531316,
           14.358170889012184,
           31.565319168798514,
           14.358170889012184
          ]
         },
         "mode": "markers+text",
         "showlegend": false,
         "text": [
          " SELECT",
          " vote",
          " FROM",
          " data",
          " WHERE",
          " age",
          ">",
          "20",
          " <",
          "/",
          "s",
          " ASC",
          " </",
          "s",
          ">",
          " ",
          " ",
          "▪",
          " "
         ],
         "type": "scatter",
         "x": [
          1,
          2,
          3,
          4,
          5,
          6,
          7,
          8,
          9,
          10,
          11,
          13,
          14,
          15,
          16,
          17,
          17,
          17,
          17
         ],
         "y": [
          9,
          9,
          9,
          9,
          9,
          9,
          9,
          9,
          9,
          9,
          9,
          9,
          9,
          9,
          9,
          7,
          8,
          9,
          10
         ]
        },
        {
         "hoverinfo": "text",
         "hovertext": [
          "Token:    `<b> SELECT</b>`<br>Context:  <br>Step 1; Avg weight = -0.215236<br>Particle 10; Weight = -0.215236<br>",
          "Token:    `<b> M</b>`<br>Context:   SELECT<br>Step 2; Avg weight = -0.965942<br>Particle 10; Weight = -2.956269<br>",
          "Token:    `<b>ED</b>`<br>Context:   SELECT M<br>Step 3; Avg weight = -1.075728<br>Particle 10; Weight = -10.524951<br>",
          "Token:    `<b>IA</b>`<br>Context:   SELECT MED<br>Step 4; Avg weight = -1.232865<br>Particle 10; Weight = -11.222454<br>",
          "Token:    `<b>N</b>`<br>Context:   SELECT MEDIA<br>Step 5; Avg weight = -1.251884<br>Particle 10; Weight = -20.570002<br>",
          "Token:    `<b>(</b>`<br>Context:   SELECT MEDIAN<br>Step 6; Avg weight = -1.337824<br>Particle 10; Weight = -23.440971<br>",
          "Token:    `<b> age</b>`<br>Context:   SELECT MEDIAN(<br>Step 7; Avg weight = -1.492790<br>Particle 10; Weight = -25.381537<br>",
          "Token:    `<b>)</b>`<br>Context:   SELECT MEDIAN( age<br>Step 8; Avg weight = -1.664944<br>Particle 10; Weight = -25.834289<br>",
          "Token:    `<b> FROM</b>`<br>Context:   SELECT MEDIAN( age)<br>Step 9; Avg weight = -1.810312<br>Particle 10; Weight = -26.216637<br>",
          "Token:    `<b> data</b>`<br>Context:   SELECT MEDIAN( age) FROM<br>Step 10; Avg weight = -1.916156<br>Particle 10; Weight = -26.863956<br>",
          "Token:    `<b> WHERE</b>`<br>Context:   SELECT MEDIAN( age) FROM data<br>Step 11; Avg weight = -2.205212<br>Particle 10; Weight = -27.052492<br>",
          "Token:    `<b> ASC</b>`<br>Context:   SELECT age, zipcode, age FROM data ORDER BY age<br>Step 13; Avg weight = -3.157650<br>Particle 10; Weight = -3.154588<br>",
          "Token:    `<b> </</b>`<br>Context:   SELECT age, zipcode, age FROM data ORDER BY age ASC<br>Step 14; Avg weight = -4.031457<br>Particle 10; Weight = -4.307497<br>",
          "Token:    `<b>s</b>`<br>Context:   SELECT age, zipcode, age FROM data ORDER BY age ASC </<br>Step 15; Avg weight = -4.704308<br>Particle 10; Weight = -4.308121<br>",
          "Token:    `<b>></b>`<br>Context:   SELECT age, zipcode, age FROM data ORDER BY age ASC </s<br>Step 16; Avg weight = -4.751885<br>Particle 10; Weight = -4.310698<br>",
          "Token:    `<b> </b>`<br>Context:   SELECT age, zipcode, age FROM data ORDER BY age ASC </s><br>Step 17; Avg weight = -8.040587<br>Particle 11; Weight = -8.010266<br>        ↳ resampled as particle 10",
          "Token:    `<b>▪</b>`<br>Context:   SELECT age, zipcode, age FROM data ORDER BY age ASC </s><br>Step 18; Avg weight = -9.132696<br>Particle 8; Weight = -8.040587<br>        ↳ resampled as particle 10",
          "Token:    `<b>▪</b>`<br>Context:   SELECT age, zipcode, age FROM data ORDER BY age ASC </s><br>Step 18; Avg weight = -9.132696<br>Particle 9; Weight = -8.040587<br>        ↳ resampled as particle 10",
          "Token:    `<b>▪</b>`<br>Context:   SELECT age, zipcode, age FROM data ORDER BY age ASC </s><br>Step 18; Avg weight = -9.132696<br>Particle 10; Weight = -8.040587<br>        ↳ resampled as particle 10",
          "Token:    `<b>▪</b>`<br>Context:   SELECT age, zipcode, age FROM data ORDER BY age ASC </s> <br>Step 18; Avg weight = -9.132696<br>Particle 11; Weight = -16.441290<br>        ↳ resampled as particle 10"
         ],
         "marker": {
          "color": "rgb(23.18181818181816, 113.63636363636363, 231.81818181818184)",
          "opacity": 0.15,
          "size": [
           14.142135623730953,
           5.22782535012137,
           0.1254995804088133,
           0.09578628093083529,
           0.0009028984599800866,
           0.00022432488345869363,
           0.00009186276416998811,
           0.00007983775931899076,
           0.0000709167438031909,
           0.0000540964667366862,
           0.00005688484262871536,
           14.163808982756384,
           12.318950231872412,
           17.24034047773165,
           17.632642311773054,
           14.358170889012184,
           24.4153837940455,
           24.4153837940455,
           24.4153837940455,
           0.3659940181834155
          ]
         },
         "mode": "markers+text",
         "showlegend": false,
         "text": [
          " SELECT",
          " M",
          "ED",
          "IA",
          "N",
          "(",
          " age",
          ")",
          " FROM",
          " data",
          " WHERE",
          " ASC",
          " </",
          "s",
          ">",
          " ",
          "▪",
          "▪",
          "▪",
          "▪"
         ],
         "type": "scatter",
         "x": [
          1,
          2,
          3,
          4,
          5,
          6,
          7,
          8,
          9,
          10,
          11,
          13,
          14,
          15,
          16,
          17,
          18,
          18,
          18,
          18
         ],
         "y": [
          10,
          10,
          10,
          10,
          10,
          10,
          10,
          10,
          10,
          10,
          10,
          10,
          10,
          10,
          10,
          11,
          8,
          9,
          10,
          11
         ]
        },
        {
         "hoverinfo": "text",
         "hovertext": [
          "Token:    `<b> SELECT</b>`<br>Context:  <br>Step 1; Avg weight = -0.215236<br>Particle 11; Weight = -0.215236<br>",
          "Token:    `<b> vote</b>`<br>Context:   SELECT<br>Step 2; Avg weight = -0.965942<br>Particle 11; Weight = -0.796163<br>",
          "Token:    `<b>,</b>`<br>Context:   SELECT vote<br>Step 3; Avg weight = -1.075728<br>Particle 11; Weight = -0.851548<br>",
          "Token:    `<b> zip</b>`<br>Context:   SELECT vote,<br>Step 4; Avg weight = -1.232865<br>Particle 11; Weight = -0.941902<br>",
          "Token:    `<b>code</b>`<br>Context:   SELECT vote, zip<br>Step 5; Avg weight = -1.251884<br>Particle 11; Weight = -0.942445<br>",
          "Token:    `<b> FROM</b>`<br>Context:   SELECT vote, zipcode<br>Step 6; Avg weight = -1.337824<br>Particle 11; Weight = -1.031302<br>",
          "Token:    `<b> data</b>`<br>Context:   SELECT vote, zipcode FROM<br>Step 7; Avg weight = -1.492790<br>Particle 11; Weight = -1.193922<br>",
          "Token:    `<b> ORDER</b>`<br>Context:   SELECT vote, zipcode FROM data<br>Step 8; Avg weight = -1.664944<br>Particle 11; Weight = -1.311954<br>",
          "Token:    `<b> BY</b>`<br>Context:   SELECT vote, zipcode FROM data ORDER<br>Step 9; Avg weight = -1.810312<br>Particle 11; Weight = -1.312746<br>",
          "Token:    `<b> age</b>`<br>Context:   SELECT vote, zipcode FROM data ORDER BY<br>Step 10; Avg weight = -1.916156<br>Particle 11; Weight = -1.439435<br>",
          "Token:    `<b> ASC</b>`<br>Context:   SELECT vote, zipcode FROM data ORDER BY age<br>Step 11; Avg weight = -2.205212<br>Particle 11; Weight = -2.069165<br>",
          "Token:    `<b> ASC</b>`<br>Context:   SELECT age, zipcode, age FROM data ORDER BY age<br>Step 13; Avg weight = -3.157650<br>Particle 11; Weight = -3.154588<br>",
          "Token:    `<b> </</b>`<br>Context:   SELECT age, zipcode, age FROM data ORDER BY age ASC<br>Step 14; Avg weight = -4.031457<br>Particle 11; Weight = -4.307497<br>",
          "Token:    `<b>s</b>`<br>Context:   SELECT age, zipcode, age FROM data ORDER BY age ASC </<br>Step 15; Avg weight = -4.704308<br>Particle 11; Weight = -4.308121<br>",
          "Token:    `<b>></b>`<br>Context:   SELECT age, zipcode, age FROM data ORDER BY age ASC </s<br>Step 16; Avg weight = -4.751885<br>Particle 11; Weight = -4.310698<br>"
         ],
         "marker": {
          "color": "rgb(0.0, 125.0, 255.0)",
          "opacity": 0.15,
          "size": [
           14.142135623730953,
           15.395082096578621,
           15.819583698484301,
           16.356742827697637,
           16.508543561483105,
           16.484478986114738,
           16.42151805348616,
           16.871968843119067,
           18.136774142655806,
           17.9487212266459,
           15.137602092873527,
           14.163808982756384,
           12.318950231872412,
           17.24034047773165,
           17.632642311773054
          ]
         },
         "mode": "markers+text",
         "showlegend": false,
         "text": [
          " SELECT",
          " vote",
          ",",
          " zip",
          "code",
          " FROM",
          " data",
          " ORDER",
          " BY",
          " age",
          " ASC",
          " ASC",
          " </",
          "s",
          ">"
         ],
         "type": "scatter",
         "x": [
          1,
          2,
          3,
          4,
          5,
          6,
          7,
          8,
          9,
          10,
          11,
          13,
          14,
          15,
          16
         ],
         "y": [
          11,
          11,
          11,
          11,
          11,
          11,
          11,
          11,
          11,
          11,
          11,
          11,
          11,
          11,
          11
         ]
        },
        {
         "line": {
          "color": "rgb(255.0, 0.0, 0.0)"
         },
         "mode": "lines",
         "name": "0",
         "opacity": 0.2,
         "showlegend": false,
         "type": "scatter",
         "x": [
          1,
          2
         ],
         "y": [
          0,
          0
         ]
        },
        {
         "line": {
          "color": "rgb(255.0, 0.0, 0.0)"
         },
         "mode": "lines",
         "name": "0",
         "opacity": 0.2,
         "showlegend": false,
         "type": "scatter",
         "x": [
          2,
          3
         ],
         "y": [
          0,
          0
         ]
        },
        {
         "line": {
          "color": "rgb(255.0, 0.0, 0.0)"
         },
         "mode": "lines",
         "name": "0",
         "opacity": 0.2,
         "showlegend": false,
         "type": "scatter",
         "x": [
          3,
          4
         ],
         "y": [
          0,
          0
         ]
        },
        {
         "line": {
          "color": "rgb(255.0, 0.0, 0.0)"
         },
         "mode": "lines",
         "name": "0",
         "opacity": 0.2,
         "showlegend": false,
         "type": "scatter",
         "x": [
          4,
          5
         ],
         "y": [
          0,
          0
         ]
        },
        {
         "line": {
          "color": "rgb(255.0, 0.0, 0.0)"
         },
         "mode": "lines",
         "name": "0",
         "opacity": 0.2,
         "showlegend": false,
         "type": "scatter",
         "x": [
          5,
          6
         ],
         "y": [
          0,
          0
         ]
        },
        {
         "line": {
          "color": "rgb(255.0, 0.0, 0.0)"
         },
         "mode": "lines",
         "name": "0",
         "opacity": 0.2,
         "showlegend": false,
         "type": "scatter",
         "x": [
          6,
          7
         ],
         "y": [
          0,
          0
         ]
        },
        {
         "line": {
          "color": "rgb(255.0, 0.0, 0.0)"
         },
         "mode": "lines",
         "name": "0",
         "opacity": 0.2,
         "showlegend": false,
         "type": "scatter",
         "x": [
          7,
          8
         ],
         "y": [
          0,
          0
         ]
        },
        {
         "line": {
          "color": "rgb(255.0, 0.0, 0.0)"
         },
         "mode": "lines",
         "name": "0",
         "opacity": 0.2,
         "showlegend": false,
         "type": "scatter",
         "x": [
          8,
          9
         ],
         "y": [
          0,
          0
         ]
        },
        {
         "line": {
          "color": "rgb(255.0, 0.0, 0.0)"
         },
         "mode": "lines",
         "name": "0",
         "opacity": 0.2,
         "showlegend": false,
         "type": "scatter",
         "x": [
          9,
          10
         ],
         "y": [
          0,
          0
         ]
        },
        {
         "line": {
          "color": "rgb(255.0, 0.0, 0.0)"
         },
         "mode": "lines",
         "name": "0",
         "opacity": 0.2,
         "showlegend": false,
         "type": "scatter",
         "x": [
          10,
          11
         ],
         "y": [
          0,
          0
         ]
        },
        {
         "line": {
          "color": "rgb(255.0, 0.0, 0.0)"
         },
         "mode": "lines",
         "name": "0",
         "opacity": 0.2,
         "showlegend": false,
         "type": "scatter",
         "x": [
          11,
          12
         ],
         "y": [
          0,
          0
         ]
        },
        {
         "line": {
          "color": "rgb(255.0, 0.0, 0.0)"
         },
         "mode": "lines",
         "name": "0",
         "opacity": 0.2,
         "showlegend": false,
         "type": "scatter",
         "x": [
          13,
          14
         ],
         "y": [
          0,
          0
         ]
        },
        {
         "line": {
          "color": "rgb(255.0, 0.0, 0.0)"
         },
         "mode": "lines",
         "name": "0",
         "opacity": 0.2,
         "showlegend": false,
         "type": "scatter",
         "x": [
          14,
          15
         ],
         "y": [
          0,
          0
         ]
        },
        {
         "line": {
          "color": "rgb(255.0, 0.0, 0.0)"
         },
         "mode": "lines",
         "name": "0",
         "opacity": 0.2,
         "showlegend": false,
         "type": "scatter",
         "x": [
          15,
          16
         ],
         "y": [
          0,
          0
         ]
        },
        {
         "line": {
          "color": "rgb(255.0, 0.0, 0.0)"
         },
         "mode": "lines",
         "name": "0",
         "opacity": 0.2,
         "showlegend": false,
         "type": "scatter",
         "x": [
          16,
          17
         ],
         "y": [
          0,
          0
         ]
        },
        {
         "line": {
          "color": "rgb(255.0, 0.0, 0.0)"
         },
         "mode": "lines",
         "name": "0",
         "opacity": 0.2,
         "showlegend": false,
         "type": "scatter",
         "x": [
          17,
          18
         ],
         "y": [
          0,
          0
         ]
        },
        {
         "line": {
          "color": "rgb(231.8181818181818, 11.363636363636363, 23.181818181818183)"
         },
         "mode": "lines",
         "name": "1",
         "opacity": 0.2,
         "showlegend": false,
         "type": "scatter",
         "x": [
          1,
          2
         ],
         "y": [
          1,
          1
         ]
        },
        {
         "line": {
          "color": "rgb(231.8181818181818, 11.363636363636363, 23.181818181818183)"
         },
         "mode": "lines",
         "name": "1",
         "opacity": 0.2,
         "showlegend": false,
         "type": "scatter",
         "x": [
          2,
          3
         ],
         "y": [
          1,
          1
         ]
        },
        {
         "line": {
          "color": "rgb(231.8181818181818, 11.363636363636363, 23.181818181818183)"
         },
         "mode": "lines",
         "name": "1",
         "opacity": 0.2,
         "showlegend": false,
         "type": "scatter",
         "x": [
          3,
          4
         ],
         "y": [
          1,
          1
         ]
        },
        {
         "line": {
          "color": "rgb(231.8181818181818, 11.363636363636363, 23.181818181818183)"
         },
         "mode": "lines",
         "name": "1",
         "opacity": 0.2,
         "showlegend": false,
         "type": "scatter",
         "x": [
          4,
          5
         ],
         "y": [
          1,
          1
         ]
        },
        {
         "line": {
          "color": "rgb(231.8181818181818, 11.363636363636363, 23.181818181818183)"
         },
         "mode": "lines",
         "name": "1",
         "opacity": 0.2,
         "showlegend": false,
         "type": "scatter",
         "x": [
          5,
          6
         ],
         "y": [
          1,
          1
         ]
        },
        {
         "line": {
          "color": "rgb(231.8181818181818, 11.363636363636363, 23.181818181818183)"
         },
         "mode": "lines",
         "name": "1",
         "opacity": 0.2,
         "showlegend": false,
         "type": "scatter",
         "x": [
          6,
          7
         ],
         "y": [
          1,
          1
         ]
        },
        {
         "line": {
          "color": "rgb(231.8181818181818, 11.363636363636363, 23.181818181818183)"
         },
         "mode": "lines",
         "name": "1",
         "opacity": 0.2,
         "showlegend": false,
         "type": "scatter",
         "x": [
          7,
          8
         ],
         "y": [
          1,
          1
         ]
        },
        {
         "line": {
          "color": "rgb(231.8181818181818, 11.363636363636363, 23.181818181818183)"
         },
         "mode": "lines",
         "name": "1",
         "opacity": 0.2,
         "showlegend": false,
         "type": "scatter",
         "x": [
          8,
          9
         ],
         "y": [
          1,
          1
         ]
        },
        {
         "line": {
          "color": "rgb(231.8181818181818, 11.363636363636363, 23.181818181818183)"
         },
         "mode": "lines",
         "name": "1",
         "opacity": 0.2,
         "showlegend": false,
         "type": "scatter",
         "x": [
          9,
          10
         ],
         "y": [
          1,
          1
         ]
        },
        {
         "line": {
          "color": "rgb(231.8181818181818, 11.363636363636363, 23.181818181818183)"
         },
         "mode": "lines",
         "name": "1",
         "opacity": 0.2,
         "showlegend": false,
         "type": "scatter",
         "x": [
          10,
          11
         ],
         "y": [
          1,
          1
         ]
        },
        {
         "line": {
          "color": "rgb(231.8181818181818, 11.363636363636363, 23.181818181818183)"
         },
         "mode": "lines",
         "name": "1",
         "opacity": 0.2,
         "showlegend": false,
         "type": "scatter",
         "x": [
          11,
          12
         ],
         "y": [
          1,
          1
         ]
        },
        {
         "line": {
          "color": "rgb(231.8181818181818, 11.363636363636363, 23.181818181818183)"
         },
         "mode": "lines",
         "name": "1",
         "opacity": 0.2,
         "showlegend": false,
         "type": "scatter",
         "x": [
          12,
          13
         ],
         "y": [
          1,
          0
         ]
        },
        {
         "line": {
          "color": "rgb(231.8181818181818, 11.363636363636363, 23.181818181818183)"
         },
         "mode": "lines",
         "name": "1",
         "opacity": 0.2,
         "showlegend": false,
         "type": "scatter",
         "x": [
          12,
          13
         ],
         "y": [
          1,
          1
         ]
        },
        {
         "line": {
          "color": "rgb(231.8181818181818, 11.363636363636363, 23.181818181818183)"
         },
         "mode": "lines",
         "name": "1",
         "opacity": 0.2,
         "showlegend": false,
         "type": "scatter",
         "x": [
          12,
          13
         ],
         "y": [
          1,
          2
         ]
        },
        {
         "line": {
          "color": "rgb(231.8181818181818, 11.363636363636363, 23.181818181818183)"
         },
         "mode": "lines",
         "name": "1",
         "opacity": 0.2,
         "showlegend": false,
         "type": "scatter",
         "x": [
          13,
          14
         ],
         "y": [
          1,
          1
         ]
        },
        {
         "line": {
          "color": "rgb(231.8181818181818, 11.363636363636363, 23.181818181818183)"
         },
         "mode": "lines",
         "name": "1",
         "opacity": 0.2,
         "showlegend": false,
         "type": "scatter",
         "x": [
          14,
          15
         ],
         "y": [
          1,
          1
         ]
        },
        {
         "line": {
          "color": "rgb(231.8181818181818, 11.363636363636363, 23.181818181818183)"
         },
         "mode": "lines",
         "name": "1",
         "opacity": 0.2,
         "showlegend": false,
         "type": "scatter",
         "x": [
          15,
          16
         ],
         "y": [
          1,
          1
         ]
        },
        {
         "line": {
          "color": "rgb(231.8181818181818, 11.363636363636363, 23.181818181818183)"
         },
         "mode": "lines",
         "name": "1",
         "opacity": 0.2,
         "showlegend": false,
         "type": "scatter",
         "x": [
          16,
          17
         ],
         "y": [
          1,
          1
         ]
        },
        {
         "line": {
          "color": "rgb(208.63636363636363, 22.727272727272727, 46.36363636363637)"
         },
         "mode": "lines",
         "name": "2",
         "opacity": 0.2,
         "showlegend": false,
         "type": "scatter",
         "x": [
          1,
          2
         ],
         "y": [
          2,
          2
         ]
        },
        {
         "line": {
          "color": "rgb(208.63636363636363, 22.727272727272727, 46.36363636363637)"
         },
         "mode": "lines",
         "name": "2",
         "opacity": 0.2,
         "showlegend": false,
         "type": "scatter",
         "x": [
          2,
          3
         ],
         "y": [
          2,
          2
         ]
        },
        {
         "line": {
          "color": "rgb(208.63636363636363, 22.727272727272727, 46.36363636363637)"
         },
         "mode": "lines",
         "name": "2",
         "opacity": 0.2,
         "showlegend": false,
         "type": "scatter",
         "x": [
          3,
          4
         ],
         "y": [
          2,
          2
         ]
        },
        {
         "line": {
          "color": "rgb(208.63636363636363, 22.727272727272727, 46.36363636363637)"
         },
         "mode": "lines",
         "name": "2",
         "opacity": 0.2,
         "showlegend": false,
         "type": "scatter",
         "x": [
          4,
          5
         ],
         "y": [
          2,
          2
         ]
        },
        {
         "line": {
          "color": "rgb(208.63636363636363, 22.727272727272727, 46.36363636363637)"
         },
         "mode": "lines",
         "name": "2",
         "opacity": 0.2,
         "showlegend": false,
         "type": "scatter",
         "x": [
          5,
          6
         ],
         "y": [
          2,
          2
         ]
        },
        {
         "line": {
          "color": "rgb(208.63636363636363, 22.727272727272727, 46.36363636363637)"
         },
         "mode": "lines",
         "name": "2",
         "opacity": 0.2,
         "showlegend": false,
         "type": "scatter",
         "x": [
          6,
          7
         ],
         "y": [
          2,
          2
         ]
        },
        {
         "line": {
          "color": "rgb(208.63636363636363, 22.727272727272727, 46.36363636363637)"
         },
         "mode": "lines",
         "name": "2",
         "opacity": 0.2,
         "showlegend": false,
         "type": "scatter",
         "x": [
          7,
          8
         ],
         "y": [
          2,
          2
         ]
        },
        {
         "line": {
          "color": "rgb(208.63636363636363, 22.727272727272727, 46.36363636363637)"
         },
         "mode": "lines",
         "name": "2",
         "opacity": 0.2,
         "showlegend": false,
         "type": "scatter",
         "x": [
          8,
          9
         ],
         "y": [
          2,
          2
         ]
        },
        {
         "line": {
          "color": "rgb(208.63636363636363, 22.727272727272727, 46.36363636363637)"
         },
         "mode": "lines",
         "name": "2",
         "opacity": 0.2,
         "showlegend": false,
         "type": "scatter",
         "x": [
          9,
          10
         ],
         "y": [
          2,
          2
         ]
        },
        {
         "line": {
          "color": "rgb(208.63636363636363, 22.727272727272727, 46.36363636363637)"
         },
         "mode": "lines",
         "name": "2",
         "opacity": 0.2,
         "showlegend": false,
         "type": "scatter",
         "x": [
          10,
          11
         ],
         "y": [
          2,
          2
         ]
        },
        {
         "line": {
          "color": "rgb(208.63636363636363, 22.727272727272727, 46.36363636363637)"
         },
         "mode": "lines",
         "name": "2",
         "opacity": 0.2,
         "showlegend": false,
         "type": "scatter",
         "x": [
          11,
          12
         ],
         "y": [
          2,
          2
         ]
        },
        {
         "line": {
          "color": "rgb(208.63636363636363, 22.727272727272727, 46.36363636363637)"
         },
         "mode": "lines",
         "name": "2",
         "opacity": 0.2,
         "showlegend": false,
         "type": "scatter",
         "x": [
          12,
          13
         ],
         "y": [
          2,
          3
         ]
        },
        {
         "line": {
          "color": "rgb(208.63636363636363, 22.727272727272727, 46.36363636363637)"
         },
         "mode": "lines",
         "name": "2",
         "opacity": 0.2,
         "showlegend": false,
         "type": "scatter",
         "x": [
          12,
          13
         ],
         "y": [
          2,
          4
         ]
        },
        {
         "line": {
          "color": "rgb(208.63636363636363, 22.727272727272727, 46.36363636363637)"
         },
         "mode": "lines",
         "name": "2",
         "opacity": 0.2,
         "showlegend": false,
         "type": "scatter",
         "x": [
          12,
          13
         ],
         "y": [
          2,
          5
         ]
        },
        {
         "line": {
          "color": "rgb(208.63636363636363, 22.727272727272727, 46.36363636363637)"
         },
         "mode": "lines",
         "name": "2",
         "opacity": 0.2,
         "showlegend": false,
         "type": "scatter",
         "x": [
          12,
          13
         ],
         "y": [
          2,
          6
         ]
        },
        {
         "line": {
          "color": "rgb(208.63636363636363, 22.727272727272727, 46.36363636363637)"
         },
         "mode": "lines",
         "name": "2",
         "opacity": 0.2,
         "showlegend": false,
         "type": "scatter",
         "x": [
          12,
          13
         ],
         "y": [
          2,
          7
         ]
        },
        {
         "line": {
          "color": "rgb(208.63636363636363, 22.727272727272727, 46.36363636363637)"
         },
         "mode": "lines",
         "name": "2",
         "opacity": 0.2,
         "showlegend": false,
         "type": "scatter",
         "x": [
          13,
          14
         ],
         "y": [
          2,
          2
         ]
        },
        {
         "line": {
          "color": "rgb(208.63636363636363, 22.727272727272727, 46.36363636363637)"
         },
         "mode": "lines",
         "name": "2",
         "opacity": 0.2,
         "showlegend": false,
         "type": "scatter",
         "x": [
          14,
          15
         ],
         "y": [
          2,
          2
         ]
        },
        {
         "line": {
          "color": "rgb(208.63636363636363, 22.727272727272727, 46.36363636363637)"
         },
         "mode": "lines",
         "name": "2",
         "opacity": 0.2,
         "showlegend": false,
         "type": "scatter",
         "x": [
          15,
          16
         ],
         "y": [
          2,
          2
         ]
        },
        {
         "line": {
          "color": "rgb(208.63636363636363, 22.727272727272727, 46.36363636363637)"
         },
         "mode": "lines",
         "name": "2",
         "opacity": 0.2,
         "showlegend": false,
         "type": "scatter",
         "x": [
          16,
          17
         ],
         "y": [
          2,
          2
         ]
        },
        {
         "line": {
          "color": "rgb(185.45454545454544, 34.09090909090909, 69.54545454545455)"
         },
         "mode": "lines",
         "name": "3",
         "opacity": 0.2,
         "showlegend": false,
         "type": "scatter",
         "x": [
          1,
          2
         ],
         "y": [
          3,
          3
         ]
        },
        {
         "line": {
          "color": "rgb(185.45454545454544, 34.09090909090909, 69.54545454545455)"
         },
         "mode": "lines",
         "name": "3",
         "opacity": 0.2,
         "showlegend": false,
         "type": "scatter",
         "x": [
          2,
          3
         ],
         "y": [
          3,
          3
         ]
        },
        {
         "line": {
          "color": "rgb(185.45454545454544, 34.09090909090909, 69.54545454545455)"
         },
         "mode": "lines",
         "name": "3",
         "opacity": 0.2,
         "showlegend": false,
         "type": "scatter",
         "x": [
          3,
          4
         ],
         "y": [
          3,
          3
         ]
        },
        {
         "line": {
          "color": "rgb(185.45454545454544, 34.09090909090909, 69.54545454545455)"
         },
         "mode": "lines",
         "name": "3",
         "opacity": 0.2,
         "showlegend": false,
         "type": "scatter",
         "x": [
          4,
          5
         ],
         "y": [
          3,
          3
         ]
        },
        {
         "line": {
          "color": "rgb(185.45454545454544, 34.09090909090909, 69.54545454545455)"
         },
         "mode": "lines",
         "name": "3",
         "opacity": 0.2,
         "showlegend": false,
         "type": "scatter",
         "x": [
          5,
          6
         ],
         "y": [
          3,
          3
         ]
        },
        {
         "line": {
          "color": "rgb(185.45454545454544, 34.09090909090909, 69.54545454545455)"
         },
         "mode": "lines",
         "name": "3",
         "opacity": 0.2,
         "showlegend": false,
         "type": "scatter",
         "x": [
          6,
          7
         ],
         "y": [
          3,
          3
         ]
        },
        {
         "line": {
          "color": "rgb(185.45454545454544, 34.09090909090909, 69.54545454545455)"
         },
         "mode": "lines",
         "name": "3",
         "opacity": 0.2,
         "showlegend": false,
         "type": "scatter",
         "x": [
          7,
          8
         ],
         "y": [
          3,
          3
         ]
        },
        {
         "line": {
          "color": "rgb(185.45454545454544, 34.09090909090909, 69.54545454545455)"
         },
         "mode": "lines",
         "name": "3",
         "opacity": 0.2,
         "showlegend": false,
         "type": "scatter",
         "x": [
          8,
          9
         ],
         "y": [
          3,
          3
         ]
        },
        {
         "line": {
          "color": "rgb(185.45454545454544, 34.09090909090909, 69.54545454545455)"
         },
         "mode": "lines",
         "name": "3",
         "opacity": 0.2,
         "showlegend": false,
         "type": "scatter",
         "x": [
          9,
          10
         ],
         "y": [
          3,
          3
         ]
        },
        {
         "line": {
          "color": "rgb(185.45454545454544, 34.09090909090909, 69.54545454545455)"
         },
         "mode": "lines",
         "name": "3",
         "opacity": 0.2,
         "showlegend": false,
         "type": "scatter",
         "x": [
          10,
          11
         ],
         "y": [
          3,
          3
         ]
        },
        {
         "line": {
          "color": "rgb(185.45454545454544, 34.09090909090909, 69.54545454545455)"
         },
         "mode": "lines",
         "name": "3",
         "opacity": 0.2,
         "showlegend": false,
         "type": "scatter",
         "x": [
          11,
          12
         ],
         "y": [
          3,
          3
         ]
        },
        {
         "line": {
          "color": "rgb(185.45454545454544, 34.09090909090909, 69.54545454545455)"
         },
         "mode": "lines",
         "name": "3",
         "opacity": 0.2,
         "showlegend": false,
         "type": "scatter",
         "x": [
          13,
          14
         ],
         "y": [
          3,
          3
         ]
        },
        {
         "line": {
          "color": "rgb(185.45454545454544, 34.09090909090909, 69.54545454545455)"
         },
         "mode": "lines",
         "name": "3",
         "opacity": 0.2,
         "showlegend": false,
         "type": "scatter",
         "x": [
          14,
          15
         ],
         "y": [
          3,
          3
         ]
        },
        {
         "line": {
          "color": "rgb(185.45454545454544, 34.09090909090909, 69.54545454545455)"
         },
         "mode": "lines",
         "name": "3",
         "opacity": 0.2,
         "showlegend": false,
         "type": "scatter",
         "x": [
          15,
          16
         ],
         "y": [
          3,
          3
         ]
        },
        {
         "line": {
          "color": "rgb(185.45454545454544, 34.09090909090909, 69.54545454545455)"
         },
         "mode": "lines",
         "name": "3",
         "opacity": 0.2,
         "showlegend": false,
         "type": "scatter",
         "x": [
          16,
          17
         ],
         "y": [
          3,
          3
         ]
        },
        {
         "line": {
          "color": "rgb(185.45454545454544, 34.09090909090909, 69.54545454545455)"
         },
         "mode": "lines",
         "name": "3",
         "opacity": 0.2,
         "showlegend": false,
         "type": "scatter",
         "x": [
          17,
          18
         ],
         "y": [
          3,
          1
         ]
        },
        {
         "line": {
          "color": "rgb(185.45454545454544, 34.09090909090909, 69.54545454545455)"
         },
         "mode": "lines",
         "name": "3",
         "opacity": 0.2,
         "showlegend": false,
         "type": "scatter",
         "x": [
          17,
          18
         ],
         "y": [
          3,
          2
         ]
        },
        {
         "line": {
          "color": "rgb(162.27272727272725, 45.45454545454545, 92.72727272727273)"
         },
         "mode": "lines",
         "name": "4",
         "opacity": 0.2,
         "showlegend": false,
         "type": "scatter",
         "x": [
          1,
          2
         ],
         "y": [
          4,
          4
         ]
        },
        {
         "line": {
          "color": "rgb(162.27272727272725, 45.45454545454545, 92.72727272727273)"
         },
         "mode": "lines",
         "name": "4",
         "opacity": 0.2,
         "showlegend": false,
         "type": "scatter",
         "x": [
          2,
          3
         ],
         "y": [
          4,
          4
         ]
        },
        {
         "line": {
          "color": "rgb(162.27272727272725, 45.45454545454545, 92.72727272727273)"
         },
         "mode": "lines",
         "name": "4",
         "opacity": 0.2,
         "showlegend": false,
         "type": "scatter",
         "x": [
          3,
          4
         ],
         "y": [
          4,
          4
         ]
        },
        {
         "line": {
          "color": "rgb(162.27272727272725, 45.45454545454545, 92.72727272727273)"
         },
         "mode": "lines",
         "name": "4",
         "opacity": 0.2,
         "showlegend": false,
         "type": "scatter",
         "x": [
          4,
          5
         ],
         "y": [
          4,
          4
         ]
        },
        {
         "line": {
          "color": "rgb(162.27272727272725, 45.45454545454545, 92.72727272727273)"
         },
         "mode": "lines",
         "name": "4",
         "opacity": 0.2,
         "showlegend": false,
         "type": "scatter",
         "x": [
          5,
          6
         ],
         "y": [
          4,
          4
         ]
        },
        {
         "line": {
          "color": "rgb(162.27272727272725, 45.45454545454545, 92.72727272727273)"
         },
         "mode": "lines",
         "name": "4",
         "opacity": 0.2,
         "showlegend": false,
         "type": "scatter",
         "x": [
          6,
          7
         ],
         "y": [
          4,
          4
         ]
        },
        {
         "line": {
          "color": "rgb(162.27272727272725, 45.45454545454545, 92.72727272727273)"
         },
         "mode": "lines",
         "name": "4",
         "opacity": 0.2,
         "showlegend": false,
         "type": "scatter",
         "x": [
          7,
          8
         ],
         "y": [
          4,
          4
         ]
        },
        {
         "line": {
          "color": "rgb(162.27272727272725, 45.45454545454545, 92.72727272727273)"
         },
         "mode": "lines",
         "name": "4",
         "opacity": 0.2,
         "showlegend": false,
         "type": "scatter",
         "x": [
          8,
          9
         ],
         "y": [
          4,
          4
         ]
        },
        {
         "line": {
          "color": "rgb(162.27272727272725, 45.45454545454545, 92.72727272727273)"
         },
         "mode": "lines",
         "name": "4",
         "opacity": 0.2,
         "showlegend": false,
         "type": "scatter",
         "x": [
          9,
          10
         ],
         "y": [
          4,
          4
         ]
        },
        {
         "line": {
          "color": "rgb(162.27272727272725, 45.45454545454545, 92.72727272727273)"
         },
         "mode": "lines",
         "name": "4",
         "opacity": 0.2,
         "showlegend": false,
         "type": "scatter",
         "x": [
          10,
          11
         ],
         "y": [
          4,
          4
         ]
        },
        {
         "line": {
          "color": "rgb(162.27272727272725, 45.45454545454545, 92.72727272727273)"
         },
         "mode": "lines",
         "name": "4",
         "opacity": 0.2,
         "showlegend": false,
         "type": "scatter",
         "x": [
          11,
          12
         ],
         "y": [
          4,
          4
         ]
        },
        {
         "line": {
          "color": "rgb(162.27272727272725, 45.45454545454545, 92.72727272727273)"
         },
         "mode": "lines",
         "name": "4",
         "opacity": 0.2,
         "showlegend": false,
         "type": "scatter",
         "x": [
          12,
          13
         ],
         "y": [
          4,
          8
         ]
        },
        {
         "line": {
          "color": "rgb(162.27272727272725, 45.45454545454545, 92.72727272727273)"
         },
         "mode": "lines",
         "name": "4",
         "opacity": 0.2,
         "showlegend": false,
         "type": "scatter",
         "x": [
          12,
          13
         ],
         "y": [
          4,
          9
         ]
        },
        {
         "line": {
          "color": "rgb(162.27272727272725, 45.45454545454545, 92.72727272727273)"
         },
         "mode": "lines",
         "name": "4",
         "opacity": 0.2,
         "showlegend": false,
         "type": "scatter",
         "x": [
          12,
          13
         ],
         "y": [
          4,
          10
         ]
        },
        {
         "line": {
          "color": "rgb(162.27272727272725, 45.45454545454545, 92.72727272727273)"
         },
         "mode": "lines",
         "name": "4",
         "opacity": 0.2,
         "showlegend": false,
         "type": "scatter",
         "x": [
          12,
          13
         ],
         "y": [
          4,
          11
         ]
        },
        {
         "line": {
          "color": "rgb(162.27272727272725, 45.45454545454545, 92.72727272727273)"
         },
         "mode": "lines",
         "name": "4",
         "opacity": 0.2,
         "showlegend": false,
         "type": "scatter",
         "x": [
          13,
          14
         ],
         "y": [
          4,
          4
         ]
        },
        {
         "line": {
          "color": "rgb(162.27272727272725, 45.45454545454545, 92.72727272727273)"
         },
         "mode": "lines",
         "name": "4",
         "opacity": 0.2,
         "showlegend": false,
         "type": "scatter",
         "x": [
          14,
          15
         ],
         "y": [
          4,
          4
         ]
        },
        {
         "line": {
          "color": "rgb(162.27272727272725, 45.45454545454545, 92.72727272727273)"
         },
         "mode": "lines",
         "name": "4",
         "opacity": 0.2,
         "showlegend": false,
         "type": "scatter",
         "x": [
          15,
          16
         ],
         "y": [
          4,
          4
         ]
        },
        {
         "line": {
          "color": "rgb(162.27272727272725, 45.45454545454545, 92.72727272727273)"
         },
         "mode": "lines",
         "name": "4",
         "opacity": 0.2,
         "showlegend": false,
         "type": "scatter",
         "x": [
          16,
          17
         ],
         "y": [
          4,
          4
         ]
        },
        {
         "line": {
          "color": "rgb(139.09090909090907, 56.81818181818181, 115.90909090909092)"
         },
         "mode": "lines",
         "name": "5",
         "opacity": 0.2,
         "showlegend": false,
         "type": "scatter",
         "x": [
          1,
          2
         ],
         "y": [
          5,
          5
         ]
        },
        {
         "line": {
          "color": "rgb(139.09090909090907, 56.81818181818181, 115.90909090909092)"
         },
         "mode": "lines",
         "name": "5",
         "opacity": 0.2,
         "showlegend": false,
         "type": "scatter",
         "x": [
          2,
          3
         ],
         "y": [
          5,
          5
         ]
        },
        {
         "line": {
          "color": "rgb(139.09090909090907, 56.81818181818181, 115.90909090909092)"
         },
         "mode": "lines",
         "name": "5",
         "opacity": 0.2,
         "showlegend": false,
         "type": "scatter",
         "x": [
          3,
          4
         ],
         "y": [
          5,
          5
         ]
        },
        {
         "line": {
          "color": "rgb(139.09090909090907, 56.81818181818181, 115.90909090909092)"
         },
         "mode": "lines",
         "name": "5",
         "opacity": 0.2,
         "showlegend": false,
         "type": "scatter",
         "x": [
          4,
          5
         ],
         "y": [
          5,
          5
         ]
        },
        {
         "line": {
          "color": "rgb(139.09090909090907, 56.81818181818181, 115.90909090909092)"
         },
         "mode": "lines",
         "name": "5",
         "opacity": 0.2,
         "showlegend": false,
         "type": "scatter",
         "x": [
          5,
          6
         ],
         "y": [
          5,
          5
         ]
        },
        {
         "line": {
          "color": "rgb(139.09090909090907, 56.81818181818181, 115.90909090909092)"
         },
         "mode": "lines",
         "name": "5",
         "opacity": 0.2,
         "showlegend": false,
         "type": "scatter",
         "x": [
          6,
          7
         ],
         "y": [
          5,
          5
         ]
        },
        {
         "line": {
          "color": "rgb(139.09090909090907, 56.81818181818181, 115.90909090909092)"
         },
         "mode": "lines",
         "name": "5",
         "opacity": 0.2,
         "showlegend": false,
         "type": "scatter",
         "x": [
          7,
          8
         ],
         "y": [
          5,
          5
         ]
        },
        {
         "line": {
          "color": "rgb(139.09090909090907, 56.81818181818181, 115.90909090909092)"
         },
         "mode": "lines",
         "name": "5",
         "opacity": 0.2,
         "showlegend": false,
         "type": "scatter",
         "x": [
          8,
          9
         ],
         "y": [
          5,
          5
         ]
        },
        {
         "line": {
          "color": "rgb(139.09090909090907, 56.81818181818181, 115.90909090909092)"
         },
         "mode": "lines",
         "name": "5",
         "opacity": 0.2,
         "showlegend": false,
         "type": "scatter",
         "x": [
          9,
          10
         ],
         "y": [
          5,
          5
         ]
        },
        {
         "line": {
          "color": "rgb(139.09090909090907, 56.81818181818181, 115.90909090909092)"
         },
         "mode": "lines",
         "name": "5",
         "opacity": 0.2,
         "showlegend": false,
         "type": "scatter",
         "x": [
          10,
          11
         ],
         "y": [
          5,
          5
         ]
        },
        {
         "line": {
          "color": "rgb(139.09090909090907, 56.81818181818181, 115.90909090909092)"
         },
         "mode": "lines",
         "name": "5",
         "opacity": 0.2,
         "showlegend": false,
         "type": "scatter",
         "x": [
          11,
          12
         ],
         "y": [
          5,
          5
         ]
        },
        {
         "line": {
          "color": "rgb(139.09090909090907, 56.81818181818181, 115.90909090909092)"
         },
         "mode": "lines",
         "name": "5",
         "opacity": 0.2,
         "showlegend": false,
         "type": "scatter",
         "x": [
          13,
          14
         ],
         "y": [
          5,
          5
         ]
        },
        {
         "line": {
          "color": "rgb(139.09090909090907, 56.81818181818181, 115.90909090909092)"
         },
         "mode": "lines",
         "name": "5",
         "opacity": 0.2,
         "showlegend": false,
         "type": "scatter",
         "x": [
          14,
          15
         ],
         "y": [
          5,
          5
         ]
        },
        {
         "line": {
          "color": "rgb(139.09090909090907, 56.81818181818181, 115.90909090909092)"
         },
         "mode": "lines",
         "name": "5",
         "opacity": 0.2,
         "showlegend": false,
         "type": "scatter",
         "x": [
          15,
          16
         ],
         "y": [
          5,
          5
         ]
        },
        {
         "line": {
          "color": "rgb(139.09090909090907, 56.81818181818181, 115.90909090909092)"
         },
         "mode": "lines",
         "name": "5",
         "opacity": 0.2,
         "showlegend": false,
         "type": "scatter",
         "x": [
          16,
          17
         ],
         "y": [
          5,
          5
         ]
        },
        {
         "line": {
          "color": "rgb(139.09090909090907, 56.81818181818181, 115.90909090909092)"
         },
         "mode": "lines",
         "name": "5",
         "opacity": 0.2,
         "showlegend": false,
         "type": "scatter",
         "x": [
          17,
          18
         ],
         "y": [
          5,
          3
         ]
        },
        {
         "line": {
          "color": "rgb(139.09090909090907, 56.81818181818181, 115.90909090909092)"
         },
         "mode": "lines",
         "name": "5",
         "opacity": 0.2,
         "showlegend": false,
         "type": "scatter",
         "x": [
          17,
          18
         ],
         "y": [
          5,
          4
         ]
        },
        {
         "line": {
          "color": "rgb(115.9090909090909, 68.18181818181819, 139.0909090909091)"
         },
         "mode": "lines",
         "name": "6",
         "opacity": 0.2,
         "showlegend": false,
         "type": "scatter",
         "x": [
          1,
          2
         ],
         "y": [
          6,
          6
         ]
        },
        {
         "line": {
          "color": "rgb(115.9090909090909, 68.18181818181819, 139.0909090909091)"
         },
         "mode": "lines",
         "name": "6",
         "opacity": 0.2,
         "showlegend": false,
         "type": "scatter",
         "x": [
          2,
          3
         ],
         "y": [
          6,
          6
         ]
        },
        {
         "line": {
          "color": "rgb(115.9090909090909, 68.18181818181819, 139.0909090909091)"
         },
         "mode": "lines",
         "name": "6",
         "opacity": 0.2,
         "showlegend": false,
         "type": "scatter",
         "x": [
          3,
          4
         ],
         "y": [
          6,
          6
         ]
        },
        {
         "line": {
          "color": "rgb(115.9090909090909, 68.18181818181819, 139.0909090909091)"
         },
         "mode": "lines",
         "name": "6",
         "opacity": 0.2,
         "showlegend": false,
         "type": "scatter",
         "x": [
          4,
          5
         ],
         "y": [
          6,
          6
         ]
        },
        {
         "line": {
          "color": "rgb(115.9090909090909, 68.18181818181819, 139.0909090909091)"
         },
         "mode": "lines",
         "name": "6",
         "opacity": 0.2,
         "showlegend": false,
         "type": "scatter",
         "x": [
          5,
          6
         ],
         "y": [
          6,
          6
         ]
        },
        {
         "line": {
          "color": "rgb(115.9090909090909, 68.18181818181819, 139.0909090909091)"
         },
         "mode": "lines",
         "name": "6",
         "opacity": 0.2,
         "showlegend": false,
         "type": "scatter",
         "x": [
          6,
          7
         ],
         "y": [
          6,
          6
         ]
        },
        {
         "line": {
          "color": "rgb(115.9090909090909, 68.18181818181819, 139.0909090909091)"
         },
         "mode": "lines",
         "name": "6",
         "opacity": 0.2,
         "showlegend": false,
         "type": "scatter",
         "x": [
          7,
          8
         ],
         "y": [
          6,
          6
         ]
        },
        {
         "line": {
          "color": "rgb(115.9090909090909, 68.18181818181819, 139.0909090909091)"
         },
         "mode": "lines",
         "name": "6",
         "opacity": 0.2,
         "showlegend": false,
         "type": "scatter",
         "x": [
          8,
          9
         ],
         "y": [
          6,
          6
         ]
        },
        {
         "line": {
          "color": "rgb(115.9090909090909, 68.18181818181819, 139.0909090909091)"
         },
         "mode": "lines",
         "name": "6",
         "opacity": 0.2,
         "showlegend": false,
         "type": "scatter",
         "x": [
          9,
          10
         ],
         "y": [
          6,
          6
         ]
        },
        {
         "line": {
          "color": "rgb(115.9090909090909, 68.18181818181819, 139.0909090909091)"
         },
         "mode": "lines",
         "name": "6",
         "opacity": 0.2,
         "showlegend": false,
         "type": "scatter",
         "x": [
          10,
          11
         ],
         "y": [
          6,
          6
         ]
        },
        {
         "line": {
          "color": "rgb(115.9090909090909, 68.18181818181819, 139.0909090909091)"
         },
         "mode": "lines",
         "name": "6",
         "opacity": 0.2,
         "showlegend": false,
         "type": "scatter",
         "x": [
          11,
          12
         ],
         "y": [
          6,
          6
         ]
        },
        {
         "line": {
          "color": "rgb(115.9090909090909, 68.18181818181819, 139.0909090909091)"
         },
         "mode": "lines",
         "name": "6",
         "opacity": 0.2,
         "showlegend": false,
         "type": "scatter",
         "x": [
          13,
          14
         ],
         "y": [
          6,
          6
         ]
        },
        {
         "line": {
          "color": "rgb(115.9090909090909, 68.18181818181819, 139.0909090909091)"
         },
         "mode": "lines",
         "name": "6",
         "opacity": 0.2,
         "showlegend": false,
         "type": "scatter",
         "x": [
          14,
          15
         ],
         "y": [
          6,
          6
         ]
        },
        {
         "line": {
          "color": "rgb(115.9090909090909, 68.18181818181819, 139.0909090909091)"
         },
         "mode": "lines",
         "name": "6",
         "opacity": 0.2,
         "showlegend": false,
         "type": "scatter",
         "x": [
          15,
          16
         ],
         "y": [
          6,
          6
         ]
        },
        {
         "line": {
          "color": "rgb(115.9090909090909, 68.18181818181819, 139.0909090909091)"
         },
         "mode": "lines",
         "name": "6",
         "opacity": 0.2,
         "showlegend": false,
         "type": "scatter",
         "x": [
          16,
          17
         ],
         "y": [
          6,
          6
         ]
        },
        {
         "line": {
          "color": "rgb(115.9090909090909, 68.18181818181819, 139.0909090909091)"
         },
         "mode": "lines",
         "name": "6",
         "opacity": 0.2,
         "showlegend": false,
         "type": "scatter",
         "x": [
          17,
          18
         ],
         "y": [
          6,
          5
         ]
        },
        {
         "line": {
          "color": "rgb(92.72727272727272, 79.54545454545455, 162.27272727272728)"
         },
         "mode": "lines",
         "name": "7",
         "opacity": 0.2,
         "showlegend": false,
         "type": "scatter",
         "x": [
          1,
          2
         ],
         "y": [
          7,
          7
         ]
        },
        {
         "line": {
          "color": "rgb(92.72727272727272, 79.54545454545455, 162.27272727272728)"
         },
         "mode": "lines",
         "name": "7",
         "opacity": 0.2,
         "showlegend": false,
         "type": "scatter",
         "x": [
          2,
          3
         ],
         "y": [
          7,
          7
         ]
        },
        {
         "line": {
          "color": "rgb(92.72727272727272, 79.54545454545455, 162.27272727272728)"
         },
         "mode": "lines",
         "name": "7",
         "opacity": 0.2,
         "showlegend": false,
         "type": "scatter",
         "x": [
          3,
          4
         ],
         "y": [
          7,
          7
         ]
        },
        {
         "line": {
          "color": "rgb(92.72727272727272, 79.54545454545455, 162.27272727272728)"
         },
         "mode": "lines",
         "name": "7",
         "opacity": 0.2,
         "showlegend": false,
         "type": "scatter",
         "x": [
          4,
          5
         ],
         "y": [
          7,
          7
         ]
        },
        {
         "line": {
          "color": "rgb(92.72727272727272, 79.54545454545455, 162.27272727272728)"
         },
         "mode": "lines",
         "name": "7",
         "opacity": 0.2,
         "showlegend": false,
         "type": "scatter",
         "x": [
          5,
          6
         ],
         "y": [
          7,
          7
         ]
        },
        {
         "line": {
          "color": "rgb(92.72727272727272, 79.54545454545455, 162.27272727272728)"
         },
         "mode": "lines",
         "name": "7",
         "opacity": 0.2,
         "showlegend": false,
         "type": "scatter",
         "x": [
          6,
          7
         ],
         "y": [
          7,
          7
         ]
        },
        {
         "line": {
          "color": "rgb(92.72727272727272, 79.54545454545455, 162.27272727272728)"
         },
         "mode": "lines",
         "name": "7",
         "opacity": 0.2,
         "showlegend": false,
         "type": "scatter",
         "x": [
          7,
          8
         ],
         "y": [
          7,
          7
         ]
        },
        {
         "line": {
          "color": "rgb(92.72727272727272, 79.54545454545455, 162.27272727272728)"
         },
         "mode": "lines",
         "name": "7",
         "opacity": 0.2,
         "showlegend": false,
         "type": "scatter",
         "x": [
          8,
          9
         ],
         "y": [
          7,
          7
         ]
        },
        {
         "line": {
          "color": "rgb(92.72727272727272, 79.54545454545455, 162.27272727272728)"
         },
         "mode": "lines",
         "name": "7",
         "opacity": 0.2,
         "showlegend": false,
         "type": "scatter",
         "x": [
          9,
          10
         ],
         "y": [
          7,
          7
         ]
        },
        {
         "line": {
          "color": "rgb(92.72727272727272, 79.54545454545455, 162.27272727272728)"
         },
         "mode": "lines",
         "name": "7",
         "opacity": 0.2,
         "showlegend": false,
         "type": "scatter",
         "x": [
          10,
          11
         ],
         "y": [
          7,
          7
         ]
        },
        {
         "line": {
          "color": "rgb(92.72727272727272, 79.54545454545455, 162.27272727272728)"
         },
         "mode": "lines",
         "name": "7",
         "opacity": 0.2,
         "showlegend": false,
         "type": "scatter",
         "x": [
          11,
          12
         ],
         "y": [
          7,
          7
         ]
        },
        {
         "line": {
          "color": "rgb(92.72727272727272, 79.54545454545455, 162.27272727272728)"
         },
         "mode": "lines",
         "name": "7",
         "opacity": 0.2,
         "showlegend": false,
         "type": "scatter",
         "x": [
          13,
          14
         ],
         "y": [
          7,
          7
         ]
        },
        {
         "line": {
          "color": "rgb(92.72727272727272, 79.54545454545455, 162.27272727272728)"
         },
         "mode": "lines",
         "name": "7",
         "opacity": 0.2,
         "showlegend": false,
         "type": "scatter",
         "x": [
          14,
          15
         ],
         "y": [
          7,
          7
         ]
        },
        {
         "line": {
          "color": "rgb(92.72727272727272, 79.54545454545455, 162.27272727272728)"
         },
         "mode": "lines",
         "name": "7",
         "opacity": 0.2,
         "showlegend": false,
         "type": "scatter",
         "x": [
          15,
          16
         ],
         "y": [
          7,
          7
         ]
        },
        {
         "line": {
          "color": "rgb(92.72727272727272, 79.54545454545455, 162.27272727272728)"
         },
         "mode": "lines",
         "name": "7",
         "opacity": 0.2,
         "showlegend": false,
         "type": "scatter",
         "x": [
          16,
          17
         ],
         "y": [
          7,
          7
         ]
        },
        {
         "line": {
          "color": "rgb(92.72727272727272, 79.54545454545455, 162.27272727272728)"
         },
         "mode": "lines",
         "name": "7",
         "opacity": 0.2,
         "showlegend": false,
         "type": "scatter",
         "x": [
          17,
          18
         ],
         "y": [
          7,
          6
         ]
        },
        {
         "line": {
          "color": "rgb(92.72727272727272, 79.54545454545455, 162.27272727272728)"
         },
         "mode": "lines",
         "name": "7",
         "opacity": 0.2,
         "showlegend": false,
         "type": "scatter",
         "x": [
          18,
          19
         ],
         "y": [
          7,
          0
         ]
        },
        {
         "line": {
          "color": "rgb(92.72727272727272, 79.54545454545455, 162.27272727272728)"
         },
         "mode": "lines",
         "name": "7",
         "opacity": 0.2,
         "showlegend": false,
         "type": "scatter",
         "x": [
          18,
          19
         ],
         "y": [
          7,
          1
         ]
        },
        {
         "line": {
          "color": "rgb(92.72727272727272, 79.54545454545455, 162.27272727272728)"
         },
         "mode": "lines",
         "name": "7",
         "opacity": 0.2,
         "showlegend": false,
         "type": "scatter",
         "x": [
          18,
          19
         ],
         "y": [
          7,
          2
         ]
        },
        {
         "line": {
          "color": "rgb(92.72727272727272, 79.54545454545455, 162.27272727272728)"
         },
         "mode": "lines",
         "name": "7",
         "opacity": 0.2,
         "showlegend": false,
         "type": "scatter",
         "x": [
          18,
          19
         ],
         "y": [
          7,
          3
         ]
        },
        {
         "line": {
          "color": "rgb(69.54545454545453, 90.9090909090909, 185.45454545454547)"
         },
         "mode": "lines",
         "name": "8",
         "opacity": 0.2,
         "showlegend": false,
         "type": "scatter",
         "x": [
          1,
          2
         ],
         "y": [
          8,
          8
         ]
        },
        {
         "line": {
          "color": "rgb(69.54545454545453, 90.9090909090909, 185.45454545454547)"
         },
         "mode": "lines",
         "name": "8",
         "opacity": 0.2,
         "showlegend": false,
         "type": "scatter",
         "x": [
          2,
          3
         ],
         "y": [
          8,
          8
         ]
        },
        {
         "line": {
          "color": "rgb(69.54545454545453, 90.9090909090909, 185.45454545454547)"
         },
         "mode": "lines",
         "name": "8",
         "opacity": 0.2,
         "showlegend": false,
         "type": "scatter",
         "x": [
          3,
          4
         ],
         "y": [
          8,
          8
         ]
        },
        {
         "line": {
          "color": "rgb(69.54545454545453, 90.9090909090909, 185.45454545454547)"
         },
         "mode": "lines",
         "name": "8",
         "opacity": 0.2,
         "showlegend": false,
         "type": "scatter",
         "x": [
          4,
          5
         ],
         "y": [
          8,
          8
         ]
        },
        {
         "line": {
          "color": "rgb(69.54545454545453, 90.9090909090909, 185.45454545454547)"
         },
         "mode": "lines",
         "name": "8",
         "opacity": 0.2,
         "showlegend": false,
         "type": "scatter",
         "x": [
          5,
          6
         ],
         "y": [
          8,
          8
         ]
        },
        {
         "line": {
          "color": "rgb(69.54545454545453, 90.9090909090909, 185.45454545454547)"
         },
         "mode": "lines",
         "name": "8",
         "opacity": 0.2,
         "showlegend": false,
         "type": "scatter",
         "x": [
          6,
          7
         ],
         "y": [
          8,
          8
         ]
        },
        {
         "line": {
          "color": "rgb(69.54545454545453, 90.9090909090909, 185.45454545454547)"
         },
         "mode": "lines",
         "name": "8",
         "opacity": 0.2,
         "showlegend": false,
         "type": "scatter",
         "x": [
          7,
          8
         ],
         "y": [
          8,
          8
         ]
        },
        {
         "line": {
          "color": "rgb(69.54545454545453, 90.9090909090909, 185.45454545454547)"
         },
         "mode": "lines",
         "name": "8",
         "opacity": 0.2,
         "showlegend": false,
         "type": "scatter",
         "x": [
          8,
          9
         ],
         "y": [
          8,
          8
         ]
        },
        {
         "line": {
          "color": "rgb(69.54545454545453, 90.9090909090909, 185.45454545454547)"
         },
         "mode": "lines",
         "name": "8",
         "opacity": 0.2,
         "showlegend": false,
         "type": "scatter",
         "x": [
          9,
          10
         ],
         "y": [
          8,
          8
         ]
        },
        {
         "line": {
          "color": "rgb(69.54545454545453, 90.9090909090909, 185.45454545454547)"
         },
         "mode": "lines",
         "name": "8",
         "opacity": 0.2,
         "showlegend": false,
         "type": "scatter",
         "x": [
          10,
          11
         ],
         "y": [
          8,
          8
         ]
        },
        {
         "line": {
          "color": "rgb(69.54545454545453, 90.9090909090909, 185.45454545454547)"
         },
         "mode": "lines",
         "name": "8",
         "opacity": 0.2,
         "showlegend": false,
         "type": "scatter",
         "x": [
          11,
          12
         ],
         "y": [
          8,
          8
         ]
        },
        {
         "line": {
          "color": "rgb(69.54545454545453, 90.9090909090909, 185.45454545454547)"
         },
         "mode": "lines",
         "name": "8",
         "opacity": 0.2,
         "showlegend": false,
         "type": "scatter",
         "x": [
          13,
          14
         ],
         "y": [
          8,
          8
         ]
        },
        {
         "line": {
          "color": "rgb(69.54545454545453, 90.9090909090909, 185.45454545454547)"
         },
         "mode": "lines",
         "name": "8",
         "opacity": 0.2,
         "showlegend": false,
         "type": "scatter",
         "x": [
          14,
          15
         ],
         "y": [
          8,
          8
         ]
        },
        {
         "line": {
          "color": "rgb(69.54545454545453, 90.9090909090909, 185.45454545454547)"
         },
         "mode": "lines",
         "name": "8",
         "opacity": 0.2,
         "showlegend": false,
         "type": "scatter",
         "x": [
          15,
          16
         ],
         "y": [
          8,
          8
         ]
        },
        {
         "line": {
          "color": "rgb(69.54545454545453, 90.9090909090909, 185.45454545454547)"
         },
         "mode": "lines",
         "name": "8",
         "opacity": 0.2,
         "showlegend": false,
         "type": "scatter",
         "x": [
          16,
          17
         ],
         "y": [
          8,
          8
         ]
        },
        {
         "line": {
          "color": "rgb(69.54545454545453, 90.9090909090909, 185.45454545454547)"
         },
         "mode": "lines",
         "name": "8",
         "opacity": 0.2,
         "showlegend": false,
         "type": "scatter",
         "x": [
          18,
          19
         ],
         "y": [
          8,
          4
         ]
        },
        {
         "line": {
          "color": "rgb(69.54545454545453, 90.9090909090909, 185.45454545454547)"
         },
         "mode": "lines",
         "name": "8",
         "opacity": 0.2,
         "showlegend": false,
         "type": "scatter",
         "x": [
          18,
          19
         ],
         "y": [
          8,
          5
         ]
        },
        {
         "line": {
          "color": "rgb(69.54545454545453, 90.9090909090909, 185.45454545454547)"
         },
         "mode": "lines",
         "name": "8",
         "opacity": 0.2,
         "showlegend": false,
         "type": "scatter",
         "x": [
          18,
          19
         ],
         "y": [
          8,
          6
         ]
        },
        {
         "line": {
          "color": "rgb(69.54545454545453, 90.9090909090909, 185.45454545454547)"
         },
         "mode": "lines",
         "name": "8",
         "opacity": 0.2,
         "showlegend": false,
         "type": "scatter",
         "x": [
          18,
          19
         ],
         "y": [
          8,
          7
         ]
        },
        {
         "line": {
          "color": "rgb(46.363636363636346, 102.27272727272727, 208.63636363636365)"
         },
         "mode": "lines",
         "name": "9",
         "opacity": 0.2,
         "showlegend": false,
         "type": "scatter",
         "x": [
          1,
          2
         ],
         "y": [
          9,
          9
         ]
        },
        {
         "line": {
          "color": "rgb(46.363636363636346, 102.27272727272727, 208.63636363636365)"
         },
         "mode": "lines",
         "name": "9",
         "opacity": 0.2,
         "showlegend": false,
         "type": "scatter",
         "x": [
          2,
          3
         ],
         "y": [
          9,
          9
         ]
        },
        {
         "line": {
          "color": "rgb(46.363636363636346, 102.27272727272727, 208.63636363636365)"
         },
         "mode": "lines",
         "name": "9",
         "opacity": 0.2,
         "showlegend": false,
         "type": "scatter",
         "x": [
          3,
          4
         ],
         "y": [
          9,
          9
         ]
        },
        {
         "line": {
          "color": "rgb(46.363636363636346, 102.27272727272727, 208.63636363636365)"
         },
         "mode": "lines",
         "name": "9",
         "opacity": 0.2,
         "showlegend": false,
         "type": "scatter",
         "x": [
          4,
          5
         ],
         "y": [
          9,
          9
         ]
        },
        {
         "line": {
          "color": "rgb(46.363636363636346, 102.27272727272727, 208.63636363636365)"
         },
         "mode": "lines",
         "name": "9",
         "opacity": 0.2,
         "showlegend": false,
         "type": "scatter",
         "x": [
          5,
          6
         ],
         "y": [
          9,
          9
         ]
        },
        {
         "line": {
          "color": "rgb(46.363636363636346, 102.27272727272727, 208.63636363636365)"
         },
         "mode": "lines",
         "name": "9",
         "opacity": 0.2,
         "showlegend": false,
         "type": "scatter",
         "x": [
          6,
          7
         ],
         "y": [
          9,
          9
         ]
        },
        {
         "line": {
          "color": "rgb(46.363636363636346, 102.27272727272727, 208.63636363636365)"
         },
         "mode": "lines",
         "name": "9",
         "opacity": 0.2,
         "showlegend": false,
         "type": "scatter",
         "x": [
          7,
          8
         ],
         "y": [
          9,
          9
         ]
        },
        {
         "line": {
          "color": "rgb(46.363636363636346, 102.27272727272727, 208.63636363636365)"
         },
         "mode": "lines",
         "name": "9",
         "opacity": 0.2,
         "showlegend": false,
         "type": "scatter",
         "x": [
          8,
          9
         ],
         "y": [
          9,
          9
         ]
        },
        {
         "line": {
          "color": "rgb(46.363636363636346, 102.27272727272727, 208.63636363636365)"
         },
         "mode": "lines",
         "name": "9",
         "opacity": 0.2,
         "showlegend": false,
         "type": "scatter",
         "x": [
          9,
          10
         ],
         "y": [
          9,
          9
         ]
        },
        {
         "line": {
          "color": "rgb(46.363636363636346, 102.27272727272727, 208.63636363636365)"
         },
         "mode": "lines",
         "name": "9",
         "opacity": 0.2,
         "showlegend": false,
         "type": "scatter",
         "x": [
          10,
          11
         ],
         "y": [
          9,
          9
         ]
        },
        {
         "line": {
          "color": "rgb(46.363636363636346, 102.27272727272727, 208.63636363636365)"
         },
         "mode": "lines",
         "name": "9",
         "opacity": 0.2,
         "showlegend": false,
         "type": "scatter",
         "x": [
          11,
          12
         ],
         "y": [
          9,
          9
         ]
        },
        {
         "line": {
          "color": "rgb(46.363636363636346, 102.27272727272727, 208.63636363636365)"
         },
         "mode": "lines",
         "name": "9",
         "opacity": 0.2,
         "showlegend": false,
         "type": "scatter",
         "x": [
          13,
          14
         ],
         "y": [
          9,
          9
         ]
        },
        {
         "line": {
          "color": "rgb(46.363636363636346, 102.27272727272727, 208.63636363636365)"
         },
         "mode": "lines",
         "name": "9",
         "opacity": 0.2,
         "showlegend": false,
         "type": "scatter",
         "x": [
          14,
          15
         ],
         "y": [
          9,
          9
         ]
        },
        {
         "line": {
          "color": "rgb(46.363636363636346, 102.27272727272727, 208.63636363636365)"
         },
         "mode": "lines",
         "name": "9",
         "opacity": 0.2,
         "showlegend": false,
         "type": "scatter",
         "x": [
          15,
          16
         ],
         "y": [
          9,
          9
         ]
        },
        {
         "line": {
          "color": "rgb(46.363636363636346, 102.27272727272727, 208.63636363636365)"
         },
         "mode": "lines",
         "name": "9",
         "opacity": 0.2,
         "showlegend": false,
         "type": "scatter",
         "x": [
          16,
          17
         ],
         "y": [
          9,
          9
         ]
        },
        {
         "line": {
          "color": "rgb(46.363636363636346, 102.27272727272727, 208.63636363636365)"
         },
         "mode": "lines",
         "name": "9",
         "opacity": 0.2,
         "showlegend": false,
         "type": "scatter",
         "x": [
          17,
          18
         ],
         "y": [
          9,
          7
         ]
        },
        {
         "line": {
          "color": "rgb(46.363636363636346, 102.27272727272727, 208.63636363636365)"
         },
         "mode": "lines",
         "name": "9",
         "opacity": 0.2,
         "showlegend": false,
         "type": "scatter",
         "x": [
          17,
          18
         ],
         "y": [
          9,
          8
         ]
        },
        {
         "line": {
          "color": "rgb(46.363636363636346, 102.27272727272727, 208.63636363636365)"
         },
         "mode": "lines",
         "name": "9",
         "opacity": 0.2,
         "showlegend": false,
         "type": "scatter",
         "x": [
          17,
          18
         ],
         "y": [
          9,
          9
         ]
        },
        {
         "line": {
          "color": "rgb(46.363636363636346, 102.27272727272727, 208.63636363636365)"
         },
         "mode": "lines",
         "name": "9",
         "opacity": 0.2,
         "showlegend": false,
         "type": "scatter",
         "x": [
          17,
          18
         ],
         "y": [
          9,
          10
         ]
        },
        {
         "line": {
          "color": "rgb(23.18181818181816, 113.63636363636363, 231.81818181818184)"
         },
         "mode": "lines",
         "name": "10",
         "opacity": 0.2,
         "showlegend": false,
         "type": "scatter",
         "x": [
          1,
          2
         ],
         "y": [
          10,
          10
         ]
        },
        {
         "line": {
          "color": "rgb(23.18181818181816, 113.63636363636363, 231.81818181818184)"
         },
         "mode": "lines",
         "name": "10",
         "opacity": 0.2,
         "showlegend": false,
         "type": "scatter",
         "x": [
          2,
          3
         ],
         "y": [
          10,
          10
         ]
        },
        {
         "line": {
          "color": "rgb(23.18181818181816, 113.63636363636363, 231.81818181818184)"
         },
         "mode": "lines",
         "name": "10",
         "opacity": 0.2,
         "showlegend": false,
         "type": "scatter",
         "x": [
          3,
          4
         ],
         "y": [
          10,
          10
         ]
        },
        {
         "line": {
          "color": "rgb(23.18181818181816, 113.63636363636363, 231.81818181818184)"
         },
         "mode": "lines",
         "name": "10",
         "opacity": 0.2,
         "showlegend": false,
         "type": "scatter",
         "x": [
          4,
          5
         ],
         "y": [
          10,
          10
         ]
        },
        {
         "line": {
          "color": "rgb(23.18181818181816, 113.63636363636363, 231.81818181818184)"
         },
         "mode": "lines",
         "name": "10",
         "opacity": 0.2,
         "showlegend": false,
         "type": "scatter",
         "x": [
          5,
          6
         ],
         "y": [
          10,
          10
         ]
        },
        {
         "line": {
          "color": "rgb(23.18181818181816, 113.63636363636363, 231.81818181818184)"
         },
         "mode": "lines",
         "name": "10",
         "opacity": 0.2,
         "showlegend": false,
         "type": "scatter",
         "x": [
          6,
          7
         ],
         "y": [
          10,
          10
         ]
        },
        {
         "line": {
          "color": "rgb(23.18181818181816, 113.63636363636363, 231.81818181818184)"
         },
         "mode": "lines",
         "name": "10",
         "opacity": 0.2,
         "showlegend": false,
         "type": "scatter",
         "x": [
          7,
          8
         ],
         "y": [
          10,
          10
         ]
        },
        {
         "line": {
          "color": "rgb(23.18181818181816, 113.63636363636363, 231.81818181818184)"
         },
         "mode": "lines",
         "name": "10",
         "opacity": 0.2,
         "showlegend": false,
         "type": "scatter",
         "x": [
          8,
          9
         ],
         "y": [
          10,
          10
         ]
        },
        {
         "line": {
          "color": "rgb(23.18181818181816, 113.63636363636363, 231.81818181818184)"
         },
         "mode": "lines",
         "name": "10",
         "opacity": 0.2,
         "showlegend": false,
         "type": "scatter",
         "x": [
          9,
          10
         ],
         "y": [
          10,
          10
         ]
        },
        {
         "line": {
          "color": "rgb(23.18181818181816, 113.63636363636363, 231.81818181818184)"
         },
         "mode": "lines",
         "name": "10",
         "opacity": 0.2,
         "showlegend": false,
         "type": "scatter",
         "x": [
          10,
          11
         ],
         "y": [
          10,
          10
         ]
        },
        {
         "line": {
          "color": "rgb(23.18181818181816, 113.63636363636363, 231.81818181818184)"
         },
         "mode": "lines",
         "name": "10",
         "opacity": 0.2,
         "showlegend": false,
         "type": "scatter",
         "x": [
          11,
          12
         ],
         "y": [
          10,
          10
         ]
        },
        {
         "line": {
          "color": "rgb(23.18181818181816, 113.63636363636363, 231.81818181818184)"
         },
         "mode": "lines",
         "name": "10",
         "opacity": 0.2,
         "showlegend": false,
         "type": "scatter",
         "x": [
          13,
          14
         ],
         "y": [
          10,
          10
         ]
        },
        {
         "line": {
          "color": "rgb(23.18181818181816, 113.63636363636363, 231.81818181818184)"
         },
         "mode": "lines",
         "name": "10",
         "opacity": 0.2,
         "showlegend": false,
         "type": "scatter",
         "x": [
          14,
          15
         ],
         "y": [
          10,
          10
         ]
        },
        {
         "line": {
          "color": "rgb(23.18181818181816, 113.63636363636363, 231.81818181818184)"
         },
         "mode": "lines",
         "name": "10",
         "opacity": 0.2,
         "showlegend": false,
         "type": "scatter",
         "x": [
          15,
          16
         ],
         "y": [
          10,
          10
         ]
        },
        {
         "line": {
          "color": "rgb(23.18181818181816, 113.63636363636363, 231.81818181818184)"
         },
         "mode": "lines",
         "name": "10",
         "opacity": 0.2,
         "showlegend": false,
         "type": "scatter",
         "x": [
          16,
          17
         ],
         "y": [
          10,
          10
         ]
        },
        {
         "line": {
          "color": "rgb(23.18181818181816, 113.63636363636363, 231.81818181818184)"
         },
         "mode": "lines",
         "name": "10",
         "opacity": 0.2,
         "showlegend": false,
         "type": "scatter",
         "x": [
          17,
          18
         ],
         "y": [
          10,
          11
         ]
        },
        {
         "line": {
          "color": "rgb(23.18181818181816, 113.63636363636363, 231.81818181818184)"
         },
         "mode": "lines",
         "name": "10",
         "opacity": 0.2,
         "showlegend": false,
         "type": "scatter",
         "x": [
          18,
          19
         ],
         "y": [
          10,
          8
         ]
        },
        {
         "line": {
          "color": "rgb(23.18181818181816, 113.63636363636363, 231.81818181818184)"
         },
         "mode": "lines",
         "name": "10",
         "opacity": 0.2,
         "showlegend": false,
         "type": "scatter",
         "x": [
          18,
          19
         ],
         "y": [
          10,
          9
         ]
        },
        {
         "line": {
          "color": "rgb(23.18181818181816, 113.63636363636363, 231.81818181818184)"
         },
         "mode": "lines",
         "name": "10",
         "opacity": 0.2,
         "showlegend": false,
         "type": "scatter",
         "x": [
          18,
          19
         ],
         "y": [
          10,
          10
         ]
        },
        {
         "line": {
          "color": "rgb(23.18181818181816, 113.63636363636363, 231.81818181818184)"
         },
         "mode": "lines",
         "name": "10",
         "opacity": 0.2,
         "showlegend": false,
         "type": "scatter",
         "x": [
          18,
          19
         ],
         "y": [
          10,
          11
         ]
        },
        {
         "line": {
          "color": "rgb(0.0, 125.0, 255.0)"
         },
         "mode": "lines",
         "name": "11",
         "opacity": 0.2,
         "showlegend": false,
         "type": "scatter",
         "x": [
          1,
          2
         ],
         "y": [
          11,
          11
         ]
        },
        {
         "line": {
          "color": "rgb(0.0, 125.0, 255.0)"
         },
         "mode": "lines",
         "name": "11",
         "opacity": 0.2,
         "showlegend": false,
         "type": "scatter",
         "x": [
          2,
          3
         ],
         "y": [
          11,
          11
         ]
        },
        {
         "line": {
          "color": "rgb(0.0, 125.0, 255.0)"
         },
         "mode": "lines",
         "name": "11",
         "opacity": 0.2,
         "showlegend": false,
         "type": "scatter",
         "x": [
          3,
          4
         ],
         "y": [
          11,
          11
         ]
        },
        {
         "line": {
          "color": "rgb(0.0, 125.0, 255.0)"
         },
         "mode": "lines",
         "name": "11",
         "opacity": 0.2,
         "showlegend": false,
         "type": "scatter",
         "x": [
          4,
          5
         ],
         "y": [
          11,
          11
         ]
        },
        {
         "line": {
          "color": "rgb(0.0, 125.0, 255.0)"
         },
         "mode": "lines",
         "name": "11",
         "opacity": 0.2,
         "showlegend": false,
         "type": "scatter",
         "x": [
          5,
          6
         ],
         "y": [
          11,
          11
         ]
        },
        {
         "line": {
          "color": "rgb(0.0, 125.0, 255.0)"
         },
         "mode": "lines",
         "name": "11",
         "opacity": 0.2,
         "showlegend": false,
         "type": "scatter",
         "x": [
          6,
          7
         ],
         "y": [
          11,
          11
         ]
        },
        {
         "line": {
          "color": "rgb(0.0, 125.0, 255.0)"
         },
         "mode": "lines",
         "name": "11",
         "opacity": 0.2,
         "showlegend": false,
         "type": "scatter",
         "x": [
          7,
          8
         ],
         "y": [
          11,
          11
         ]
        },
        {
         "line": {
          "color": "rgb(0.0, 125.0, 255.0)"
         },
         "mode": "lines",
         "name": "11",
         "opacity": 0.2,
         "showlegend": false,
         "type": "scatter",
         "x": [
          8,
          9
         ],
         "y": [
          11,
          11
         ]
        },
        {
         "line": {
          "color": "rgb(0.0, 125.0, 255.0)"
         },
         "mode": "lines",
         "name": "11",
         "opacity": 0.2,
         "showlegend": false,
         "type": "scatter",
         "x": [
          9,
          10
         ],
         "y": [
          11,
          11
         ]
        },
        {
         "line": {
          "color": "rgb(0.0, 125.0, 255.0)"
         },
         "mode": "lines",
         "name": "11",
         "opacity": 0.2,
         "showlegend": false,
         "type": "scatter",
         "x": [
          10,
          11
         ],
         "y": [
          11,
          11
         ]
        },
        {
         "line": {
          "color": "rgb(0.0, 125.0, 255.0)"
         },
         "mode": "lines",
         "name": "11",
         "opacity": 0.2,
         "showlegend": false,
         "type": "scatter",
         "x": [
          11,
          12
         ],
         "y": [
          11,
          11
         ]
        },
        {
         "line": {
          "color": "rgb(0.0, 125.0, 255.0)"
         },
         "mode": "lines",
         "name": "11",
         "opacity": 0.2,
         "showlegend": false,
         "type": "scatter",
         "x": [
          13,
          14
         ],
         "y": [
          11,
          11
         ]
        },
        {
         "line": {
          "color": "rgb(0.0, 125.0, 255.0)"
         },
         "mode": "lines",
         "name": "11",
         "opacity": 0.2,
         "showlegend": false,
         "type": "scatter",
         "x": [
          14,
          15
         ],
         "y": [
          11,
          11
         ]
        },
        {
         "line": {
          "color": "rgb(0.0, 125.0, 255.0)"
         },
         "mode": "lines",
         "name": "11",
         "opacity": 0.2,
         "showlegend": false,
         "type": "scatter",
         "x": [
          15,
          16
         ],
         "y": [
          11,
          11
         ]
        },
        {
         "line": {
          "color": "rgb(0.0, 125.0, 255.0)"
         },
         "mode": "lines",
         "name": "11",
         "opacity": 0.2,
         "showlegend": false,
         "type": "scatter",
         "x": [
          16,
          17
         ],
         "y": [
          11,
          11
         ]
        },
        {
         "hoverinfo": "text",
         "hovertext": [
          null,
          null,
          null,
          null,
          null,
          null,
          null,
          null,
          null,
          null,
          null,
          null,
          -0.7507061264393537,
          -0.7507061264393537,
          -0.7507061264393537,
          -0.7507061264393537,
          -0.7507061264393537,
          -0.7507061264393537,
          -0.7507061264393537,
          -0.7507061264393537,
          -0.7507061264393537,
          -0.7507061264393537,
          -0.7507061264393537,
          -0.7507061264393537,
          -0.10978597312275662,
          -0.10978597312275662,
          -0.10978597312275662,
          -0.10978597312275662,
          -0.10978597312275662,
          -0.10978597312275662,
          -0.10978597312275662,
          -0.10978597312275662,
          -0.10978597312275662,
          -0.10978597312275662,
          -0.10978597312275662,
          -0.10978597312275662,
          -0.15713656760416117,
          -0.15713656760416117,
          -0.15713656760416117,
          -0.15713656760416117,
          -0.15713656760416117,
          -0.15713656760416117,
          -0.15713656760416117,
          -0.15713656760416117,
          -0.15713656760416117,
          -0.15713656760416117,
          -0.15713656760416117,
          -0.15713656760416117,
          -0.019019163466551747,
          -0.019019163466551747,
          -0.019019163466551747,
          -0.019019163466551747,
          -0.019019163466551747,
          -0.019019163466551747,
          -0.019019163466551747,
          -0.019019163466551747,
          -0.019019163466551747,
          -0.019019163466551747,
          -0.019019163466551747,
          -0.019019163466551747,
          -0.0859396250715494,
          -0.0859396250715494,
          -0.0859396250715494,
          -0.0859396250715494,
          -0.0859396250715494,
          -0.0859396250715494,
          -0.0859396250715494,
          -0.0859396250715494,
          -0.0859396250715494,
          -0.0859396250715494,
          -0.0859396250715494,
          -0.0859396250715494,
          -0.1549662887914971,
          -0.1549662887914971,
          -0.1549662887914971,
          -0.1549662887914971,
          -0.1549662887914971,
          -0.1549662887914971,
          -0.1549662887914971,
          -0.1549662887914971,
          -0.1549662887914971,
          -0.1549662887914971,
          -0.1549662887914971,
          -0.1549662887914971,
          -0.17215413235374855,
          -0.17215413235374855,
          -0.17215413235374855,
          -0.17215413235374855,
          -0.17215413235374855,
          -0.17215413235374855,
          -0.17215413235374855,
          -0.17215413235374855,
          -0.17215413235374855,
          -0.17215413235374855,
          -0.17215413235374855,
          -0.17215413235374855,
          -0.14536814152423339,
          -0.14536814152423339,
          -0.14536814152423339,
          -0.14536814152423339,
          -0.14536814152423339,
          -0.14536814152423339,
          -0.14536814152423339,
          -0.14536814152423339,
          -0.14536814152423339,
          -0.14536814152423339,
          -0.14536814152423339,
          -0.14536814152423339,
          -0.10584362937041125,
          -0.10584362937041125,
          -0.10584362937041125,
          -0.10584362937041125,
          -0.10584362937041125,
          -0.10584362937041125,
          -0.10584362937041125,
          -0.10584362937041125,
          -0.10584362937041125,
          -0.10584362937041125,
          -0.10584362937041125,
          -0.10584362937041125,
          -0.28905609503763996,
          -0.28905609503763996,
          -0.28905609503763996,
          -0.28905609503763996,
          -0.28905609503763996,
          -0.28905609503763996,
          -0.28905609503763996,
          -0.28905609503763996,
          -0.28905609503763996,
          -0.28905609503763996,
          -0.28905609503763996,
          -0.28905609503763996,
          -0.3421124975927259,
          -0.3421124975927259,
          -0.3421124975927259,
          -0.3421124975927259,
          -0.3421124975927259,
          -0.3421124975927259,
          -0.3421124975927259,
          -0.3421124975927259,
          -0.3421124975927259,
          -0.3421124975927259,
          -0.3421124975927259,
          -0.3421124975927259,
          -0.6103260362219265,
          -0.6103260362219265,
          -0.6103260362219265,
          -0.6103260362219265,
          -0.6103260362219265,
          -0.6103260362219265,
          -0.6103260362219265,
          -0.6103260362219265,
          -0.6103260362219265,
          -0.6103260362219265,
          -0.6103260362219265,
          -0.6103260362219265,
          -0.8738066341353505,
          -0.8738066341353505,
          -0.8738066341353505,
          -0.8738066341353505,
          -0.8738066341353505,
          -0.8738066341353505,
          -0.8738066341353505,
          -0.8738066341353505,
          -0.8738066341353505,
          -0.8738066341353505,
          -0.8738066341353505,
          -0.8738066341353505,
          -0.672850613123904,
          -0.672850613123904,
          -0.672850613123904,
          -0.672850613123904,
          -0.672850613123904,
          -0.672850613123904,
          -0.672850613123904,
          -0.672850613123904,
          -0.672850613123904,
          -0.672850613123904,
          -0.672850613123904,
          -0.672850613123904,
          -0.04757727758295527,
          -0.04757727758295527,
          -0.04757727758295527,
          -0.04757727758295527,
          -0.04757727758295527,
          -0.04757727758295527,
          -0.04757727758295527,
          -0.04757727758295527,
          -0.04757727758295527,
          -0.04757727758295527,
          -0.04757727758295527,
          -0.04757727758295527,
          -3.2887016881349913,
          -3.2887016881349913,
          -3.2887016881349913,
          -3.2887016881349913,
          -3.2887016881349913,
          -3.2887016881349913,
          -3.2887016881349913,
          -3.2887016881349913,
          -3.2887016881349913,
          -3.2887016881349913,
          -3.2887016881349913,
          -3.2887016881349913,
          -1.0921094674330494,
          -1.0921094674330494,
          -1.0921094674330494,
          -1.0921094674330494,
          -1.0921094674330494,
          -1.0921094674330494,
          -1.0921094674330494,
          -1.0921094674330494,
          -1.0921094674330494,
          -1.0921094674330494,
          -1.0921094674330494,
          -1.0921094674330494
         ],
         "line": {
          "color": "green"
         },
         "mode": "lines+markers",
         "type": "scatter",
         "x": [
          1,
          1,
          1,
          1,
          1,
          1,
          1,
          1,
          1,
          1,
          1,
          1,
          2,
          2,
          2,
          2,
          2,
          2,
          2,
          2,
          2,
          2,
          2,
          2,
          3,
          3,
          3,
          3,
          3,
          3,
          3,
          3,
          3,
          3,
          3,
          3,
          4,
          4,
          4,
          4,
          4,
          4,
          4,
          4,
          4,
          4,
          4,
          4,
          5,
          5,
          5,
          5,
          5,
          5,
          5,
          5,
          5,
          5,
          5,
          5,
          6,
          6,
          6,
          6,
          6,
          6,
          6,
          6,
          6,
          6,
          6,
          6,
          7,
          7,
          7,
          7,
          7,
          7,
          7,
          7,
          7,
          7,
          7,
          7,
          8,
          8,
          8,
          8,
          8,
          8,
          8,
          8,
          8,
          8,
          8,
          8,
          9,
          9,
          9,
          9,
          9,
          9,
          9,
          9,
          9,
          9,
          9,
          9,
          10,
          10,
          10,
          10,
          10,
          10,
          10,
          10,
          10,
          10,
          10,
          10,
          11,
          11,
          11,
          11,
          11,
          11,
          11,
          11,
          11,
          11,
          11,
          11,
          12,
          12,
          12,
          12,
          12,
          12,
          12,
          12,
          12,
          12,
          12,
          12,
          13,
          13,
          13,
          13,
          13,
          13,
          13,
          13,
          13,
          13,
          13,
          13,
          14,
          14,
          14,
          14,
          14,
          14,
          14,
          14,
          14,
          14,
          14,
          14,
          15,
          15,
          15,
          15,
          15,
          15,
          15,
          15,
          15,
          15,
          15,
          15,
          16,
          16,
          16,
          16,
          16,
          16,
          16,
          16,
          16,
          16,
          16,
          16,
          17,
          17,
          17,
          17,
          17,
          17,
          17,
          17,
          17,
          17,
          17,
          17,
          18,
          18,
          18,
          18,
          18,
          18,
          18,
          18,
          18,
          18,
          18,
          18
         ],
         "xaxis": "x2",
         "y": [
          null,
          null,
          null,
          null,
          null,
          null,
          null,
          null,
          null,
          null,
          null,
          null,
          -0.7507061264393537,
          -0.7507061264393537,
          -0.7507061264393537,
          -0.7507061264393537,
          -0.7507061264393537,
          -0.7507061264393537,
          -0.7507061264393537,
          -0.7507061264393537,
          -0.7507061264393537,
          -0.7507061264393537,
          -0.7507061264393537,
          -0.7507061264393537,
          -0.10978597312275662,
          -0.10978597312275662,
          -0.10978597312275662,
          -0.10978597312275662,
          -0.10978597312275662,
          -0.10978597312275662,
          -0.10978597312275662,
          -0.10978597312275662,
          -0.10978597312275662,
          -0.10978597312275662,
          -0.10978597312275662,
          -0.10978597312275662,
          -0.15713656760416117,
          -0.15713656760416117,
          -0.15713656760416117,
          -0.15713656760416117,
          -0.15713656760416117,
          -0.15713656760416117,
          -0.15713656760416117,
          -0.15713656760416117,
          -0.15713656760416117,
          -0.15713656760416117,
          -0.15713656760416117,
          -0.15713656760416117,
          -0.019019163466551747,
          -0.019019163466551747,
          -0.019019163466551747,
          -0.019019163466551747,
          -0.019019163466551747,
          -0.019019163466551747,
          -0.019019163466551747,
          -0.019019163466551747,
          -0.019019163466551747,
          -0.019019163466551747,
          -0.019019163466551747,
          -0.019019163466551747,
          -0.0859396250715494,
          -0.0859396250715494,
          -0.0859396250715494,
          -0.0859396250715494,
          -0.0859396250715494,
          -0.0859396250715494,
          -0.0859396250715494,
          -0.0859396250715494,
          -0.0859396250715494,
          -0.0859396250715494,
          -0.0859396250715494,
          -0.0859396250715494,
          -0.1549662887914971,
          -0.1549662887914971,
          -0.1549662887914971,
          -0.1549662887914971,
          -0.1549662887914971,
          -0.1549662887914971,
          -0.1549662887914971,
          -0.1549662887914971,
          -0.1549662887914971,
          -0.1549662887914971,
          -0.1549662887914971,
          -0.1549662887914971,
          -0.17215413235374855,
          -0.17215413235374855,
          -0.17215413235374855,
          -0.17215413235374855,
          -0.17215413235374855,
          -0.17215413235374855,
          -0.17215413235374855,
          -0.17215413235374855,
          -0.17215413235374855,
          -0.17215413235374855,
          -0.17215413235374855,
          -0.17215413235374855,
          -0.14536814152423339,
          -0.14536814152423339,
          -0.14536814152423339,
          -0.14536814152423339,
          -0.14536814152423339,
          -0.14536814152423339,
          -0.14536814152423339,
          -0.14536814152423339,
          -0.14536814152423339,
          -0.14536814152423339,
          -0.14536814152423339,
          -0.14536814152423339,
          -0.10584362937041125,
          -0.10584362937041125,
          -0.10584362937041125,
          -0.10584362937041125,
          -0.10584362937041125,
          -0.10584362937041125,
          -0.10584362937041125,
          -0.10584362937041125,
          -0.10584362937041125,
          -0.10584362937041125,
          -0.10584362937041125,
          -0.10584362937041125,
          -0.28905609503763996,
          -0.28905609503763996,
          -0.28905609503763996,
          -0.28905609503763996,
          -0.28905609503763996,
          -0.28905609503763996,
          -0.28905609503763996,
          -0.28905609503763996,
          -0.28905609503763996,
          -0.28905609503763996,
          -0.28905609503763996,
          -0.28905609503763996,
          -0.3421124975927259,
          -0.3421124975927259,
          -0.3421124975927259,
          -0.3421124975927259,
          -0.3421124975927259,
          -0.3421124975927259,
          -0.3421124975927259,
          -0.3421124975927259,
          -0.3421124975927259,
          -0.3421124975927259,
          -0.3421124975927259,
          -0.3421124975927259,
          -0.6103260362219265,
          -0.6103260362219265,
          -0.6103260362219265,
          -0.6103260362219265,
          -0.6103260362219265,
          -0.6103260362219265,
          -0.6103260362219265,
          -0.6103260362219265,
          -0.6103260362219265,
          -0.6103260362219265,
          -0.6103260362219265,
          -0.6103260362219265,
          -0.8738066341353505,
          -0.8738066341353505,
          -0.8738066341353505,
          -0.8738066341353505,
          -0.8738066341353505,
          -0.8738066341353505,
          -0.8738066341353505,
          -0.8738066341353505,
          -0.8738066341353505,
          -0.8738066341353505,
          -0.8738066341353505,
          -0.8738066341353505,
          -0.672850613123904,
          -0.672850613123904,
          -0.672850613123904,
          -0.672850613123904,
          -0.672850613123904,
          -0.672850613123904,
          -0.672850613123904,
          -0.672850613123904,
          -0.672850613123904,
          -0.672850613123904,
          -0.672850613123904,
          -0.672850613123904,
          -0.04757727758295527,
          -0.04757727758295527,
          -0.04757727758295527,
          -0.04757727758295527,
          -0.04757727758295527,
          -0.04757727758295527,
          -0.04757727758295527,
          -0.04757727758295527,
          -0.04757727758295527,
          -0.04757727758295527,
          -0.04757727758295527,
          -0.04757727758295527,
          -3.2887016881349913,
          -3.2887016881349913,
          -3.2887016881349913,
          -3.2887016881349913,
          -3.2887016881349913,
          -3.2887016881349913,
          -3.2887016881349913,
          -3.2887016881349913,
          -3.2887016881349913,
          -3.2887016881349913,
          -3.2887016881349913,
          -3.2887016881349913,
          -1.0921094674330494,
          -1.0921094674330494,
          -1.0921094674330494,
          -1.0921094674330494,
          -1.0921094674330494,
          -1.0921094674330494,
          -1.0921094674330494,
          -1.0921094674330494,
          -1.0921094674330494,
          -1.0921094674330494,
          -1.0921094674330494,
          -1.0921094674330494
         ],
         "yaxis": "y2"
        }
       ],
       "layout": {
        "annotations": [
         {
          "font": {
           "size": 16
          },
          "showarrow": false,
          "text": "particles",
          "x": 0.5,
          "xanchor": "center",
          "xref": "paper",
          "y": 1,
          "yanchor": "bottom",
          "yref": "paper"
         },
         {
          "font": {
           "size": 16
          },
          "showarrow": false,
          "text": "est. logprob (change in average weight)",
          "x": 0.5,
          "xanchor": "center",
          "xref": "paper",
          "y": 0.18000000000000002,
          "yanchor": "bottom",
          "yref": "paper"
         }
        ],
        "height": 600,
        "margin": {
         "b": 10,
         "l": 10,
         "r": 10,
         "t": 40
        },
        "plot_bgcolor": "#fff",
        "shapes": [
         {
          "line": {
           "color": "gray",
           "width": 4
          },
          "opacity": 0.15,
          "type": "line",
          "x0": 12,
          "x1": 12,
          "xref": "x2",
          "y0": 0,
          "y1": 1,
          "yref": "y2 domain"
         },
         {
          "line": {
           "color": "gray",
           "width": 4
          },
          "opacity": 0.15,
          "type": "line",
          "x0": 17,
          "x1": 17,
          "xref": "x2",
          "y0": 0,
          "y1": 1,
          "yref": "y2 domain"
         },
         {
          "line": {
           "color": "gray",
           "width": 4
          },
          "opacity": 0.15,
          "type": "line",
          "x0": 18,
          "x1": 18,
          "xref": "x2",
          "y0": 0,
          "y1": 1,
          "yref": "y2 domain"
         }
        ],
        "showlegend": false,
        "template": {
         "data": {
          "bar": [
           {
            "error_x": {
             "color": "#2a3f5f"
            },
            "error_y": {
             "color": "#2a3f5f"
            },
            "marker": {
             "line": {
              "color": "#E5ECF6",
              "width": 0.5
             },
             "pattern": {
              "fillmode": "overlay",
              "size": 10,
              "solidity": 0.2
             }
            },
            "type": "bar"
           }
          ],
          "barpolar": [
           {
            "marker": {
             "line": {
              "color": "#E5ECF6",
              "width": 0.5
             },
             "pattern": {
              "fillmode": "overlay",
              "size": 10,
              "solidity": 0.2
             }
            },
            "type": "barpolar"
           }
          ],
          "carpet": [
           {
            "aaxis": {
             "endlinecolor": "#2a3f5f",
             "gridcolor": "white",
             "linecolor": "white",
             "minorgridcolor": "white",
             "startlinecolor": "#2a3f5f"
            },
            "baxis": {
             "endlinecolor": "#2a3f5f",
             "gridcolor": "white",
             "linecolor": "white",
             "minorgridcolor": "white",
             "startlinecolor": "#2a3f5f"
            },
            "type": "carpet"
           }
          ],
          "choropleth": [
           {
            "colorbar": {
             "outlinewidth": 0,
             "ticks": ""
            },
            "type": "choropleth"
           }
          ],
          "contour": [
           {
            "colorbar": {
             "outlinewidth": 0,
             "ticks": ""
            },
            "colorscale": [
             [
              0,
              "#0d0887"
             ],
             [
              0.1111111111111111,
              "#46039f"
             ],
             [
              0.2222222222222222,
              "#7201a8"
             ],
             [
              0.3333333333333333,
              "#9c179e"
             ],
             [
              0.4444444444444444,
              "#bd3786"
             ],
             [
              0.5555555555555556,
              "#d8576b"
             ],
             [
              0.6666666666666666,
              "#ed7953"
             ],
             [
              0.7777777777777778,
              "#fb9f3a"
             ],
             [
              0.8888888888888888,
              "#fdca26"
             ],
             [
              1,
              "#f0f921"
             ]
            ],
            "type": "contour"
           }
          ],
          "contourcarpet": [
           {
            "colorbar": {
             "outlinewidth": 0,
             "ticks": ""
            },
            "type": "contourcarpet"
           }
          ],
          "heatmap": [
           {
            "colorbar": {
             "outlinewidth": 0,
             "ticks": ""
            },
            "colorscale": [
             [
              0,
              "#0d0887"
             ],
             [
              0.1111111111111111,
              "#46039f"
             ],
             [
              0.2222222222222222,
              "#7201a8"
             ],
             [
              0.3333333333333333,
              "#9c179e"
             ],
             [
              0.4444444444444444,
              "#bd3786"
             ],
             [
              0.5555555555555556,
              "#d8576b"
             ],
             [
              0.6666666666666666,
              "#ed7953"
             ],
             [
              0.7777777777777778,
              "#fb9f3a"
             ],
             [
              0.8888888888888888,
              "#fdca26"
             ],
             [
              1,
              "#f0f921"
             ]
            ],
            "type": "heatmap"
           }
          ],
          "heatmapgl": [
           {
            "colorbar": {
             "outlinewidth": 0,
             "ticks": ""
            },
            "colorscale": [
             [
              0,
              "#0d0887"
             ],
             [
              0.1111111111111111,
              "#46039f"
             ],
             [
              0.2222222222222222,
              "#7201a8"
             ],
             [
              0.3333333333333333,
              "#9c179e"
             ],
             [
              0.4444444444444444,
              "#bd3786"
             ],
             [
              0.5555555555555556,
              "#d8576b"
             ],
             [
              0.6666666666666666,
              "#ed7953"
             ],
             [
              0.7777777777777778,
              "#fb9f3a"
             ],
             [
              0.8888888888888888,
              "#fdca26"
             ],
             [
              1,
              "#f0f921"
             ]
            ],
            "type": "heatmapgl"
           }
          ],
          "histogram": [
           {
            "marker": {
             "pattern": {
              "fillmode": "overlay",
              "size": 10,
              "solidity": 0.2
             }
            },
            "type": "histogram"
           }
          ],
          "histogram2d": [
           {
            "colorbar": {
             "outlinewidth": 0,
             "ticks": ""
            },
            "colorscale": [
             [
              0,
              "#0d0887"
             ],
             [
              0.1111111111111111,
              "#46039f"
             ],
             [
              0.2222222222222222,
              "#7201a8"
             ],
             [
              0.3333333333333333,
              "#9c179e"
             ],
             [
              0.4444444444444444,
              "#bd3786"
             ],
             [
              0.5555555555555556,
              "#d8576b"
             ],
             [
              0.6666666666666666,
              "#ed7953"
             ],
             [
              0.7777777777777778,
              "#fb9f3a"
             ],
             [
              0.8888888888888888,
              "#fdca26"
             ],
             [
              1,
              "#f0f921"
             ]
            ],
            "type": "histogram2d"
           }
          ],
          "histogram2dcontour": [
           {
            "colorbar": {
             "outlinewidth": 0,
             "ticks": ""
            },
            "colorscale": [
             [
              0,
              "#0d0887"
             ],
             [
              0.1111111111111111,
              "#46039f"
             ],
             [
              0.2222222222222222,
              "#7201a8"
             ],
             [
              0.3333333333333333,
              "#9c179e"
             ],
             [
              0.4444444444444444,
              "#bd3786"
             ],
             [
              0.5555555555555556,
              "#d8576b"
             ],
             [
              0.6666666666666666,
              "#ed7953"
             ],
             [
              0.7777777777777778,
              "#fb9f3a"
             ],
             [
              0.8888888888888888,
              "#fdca26"
             ],
             [
              1,
              "#f0f921"
             ]
            ],
            "type": "histogram2dcontour"
           }
          ],
          "mesh3d": [
           {
            "colorbar": {
             "outlinewidth": 0,
             "ticks": ""
            },
            "type": "mesh3d"
           }
          ],
          "parcoords": [
           {
            "line": {
             "colorbar": {
              "outlinewidth": 0,
              "ticks": ""
             }
            },
            "type": "parcoords"
           }
          ],
          "pie": [
           {
            "automargin": true,
            "type": "pie"
           }
          ],
          "scatter": [
           {
            "fillpattern": {
             "fillmode": "overlay",
             "size": 10,
             "solidity": 0.2
            },
            "type": "scatter"
           }
          ],
          "scatter3d": [
           {
            "line": {
             "colorbar": {
              "outlinewidth": 0,
              "ticks": ""
             }
            },
            "marker": {
             "colorbar": {
              "outlinewidth": 0,
              "ticks": ""
             }
            },
            "type": "scatter3d"
           }
          ],
          "scattercarpet": [
           {
            "marker": {
             "colorbar": {
              "outlinewidth": 0,
              "ticks": ""
             }
            },
            "type": "scattercarpet"
           }
          ],
          "scattergeo": [
           {
            "marker": {
             "colorbar": {
              "outlinewidth": 0,
              "ticks": ""
             }
            },
            "type": "scattergeo"
           }
          ],
          "scattergl": [
           {
            "marker": {
             "colorbar": {
              "outlinewidth": 0,
              "ticks": ""
             }
            },
            "type": "scattergl"
           }
          ],
          "scattermapbox": [
           {
            "marker": {
             "colorbar": {
              "outlinewidth": 0,
              "ticks": ""
             }
            },
            "type": "scattermapbox"
           }
          ],
          "scatterpolar": [
           {
            "marker": {
             "colorbar": {
              "outlinewidth": 0,
              "ticks": ""
             }
            },
            "type": "scatterpolar"
           }
          ],
          "scatterpolargl": [
           {
            "marker": {
             "colorbar": {
              "outlinewidth": 0,
              "ticks": ""
             }
            },
            "type": "scatterpolargl"
           }
          ],
          "scatterternary": [
           {
            "marker": {
             "colorbar": {
              "outlinewidth": 0,
              "ticks": ""
             }
            },
            "type": "scatterternary"
           }
          ],
          "surface": [
           {
            "colorbar": {
             "outlinewidth": 0,
             "ticks": ""
            },
            "colorscale": [
             [
              0,
              "#0d0887"
             ],
             [
              0.1111111111111111,
              "#46039f"
             ],
             [
              0.2222222222222222,
              "#7201a8"
             ],
             [
              0.3333333333333333,
              "#9c179e"
             ],
             [
              0.4444444444444444,
              "#bd3786"
             ],
             [
              0.5555555555555556,
              "#d8576b"
             ],
             [
              0.6666666666666666,
              "#ed7953"
             ],
             [
              0.7777777777777778,
              "#fb9f3a"
             ],
             [
              0.8888888888888888,
              "#fdca26"
             ],
             [
              1,
              "#f0f921"
             ]
            ],
            "type": "surface"
           }
          ],
          "table": [
           {
            "cells": {
             "fill": {
              "color": "#EBF0F8"
             },
             "line": {
              "color": "white"
             }
            },
            "header": {
             "fill": {
              "color": "#C8D4E3"
             },
             "line": {
              "color": "white"
             }
            },
            "type": "table"
           }
          ]
         },
         "layout": {
          "annotationdefaults": {
           "arrowcolor": "#2a3f5f",
           "arrowhead": 0,
           "arrowwidth": 1
          },
          "autotypenumbers": "strict",
          "coloraxis": {
           "colorbar": {
            "outlinewidth": 0,
            "ticks": ""
           }
          },
          "colorscale": {
           "diverging": [
            [
             0,
             "#8e0152"
            ],
            [
             0.1,
             "#c51b7d"
            ],
            [
             0.2,
             "#de77ae"
            ],
            [
             0.3,
             "#f1b6da"
            ],
            [
             0.4,
             "#fde0ef"
            ],
            [
             0.5,
             "#f7f7f7"
            ],
            [
             0.6,
             "#e6f5d0"
            ],
            [
             0.7,
             "#b8e186"
            ],
            [
             0.8,
             "#7fbc41"
            ],
            [
             0.9,
             "#4d9221"
            ],
            [
             1,
             "#276419"
            ]
           ],
           "sequential": [
            [
             0,
             "#0d0887"
            ],
            [
             0.1111111111111111,
             "#46039f"
            ],
            [
             0.2222222222222222,
             "#7201a8"
            ],
            [
             0.3333333333333333,
             "#9c179e"
            ],
            [
             0.4444444444444444,
             "#bd3786"
            ],
            [
             0.5555555555555556,
             "#d8576b"
            ],
            [
             0.6666666666666666,
             "#ed7953"
            ],
            [
             0.7777777777777778,
             "#fb9f3a"
            ],
            [
             0.8888888888888888,
             "#fdca26"
            ],
            [
             1,
             "#f0f921"
            ]
           ],
           "sequentialminus": [
            [
             0,
             "#0d0887"
            ],
            [
             0.1111111111111111,
             "#46039f"
            ],
            [
             0.2222222222222222,
             "#7201a8"
            ],
            [
             0.3333333333333333,
             "#9c179e"
            ],
            [
             0.4444444444444444,
             "#bd3786"
            ],
            [
             0.5555555555555556,
             "#d8576b"
            ],
            [
             0.6666666666666666,
             "#ed7953"
            ],
            [
             0.7777777777777778,
             "#fb9f3a"
            ],
            [
             0.8888888888888888,
             "#fdca26"
            ],
            [
             1,
             "#f0f921"
            ]
           ]
          },
          "colorway": [
           "#636efa",
           "#EF553B",
           "#00cc96",
           "#ab63fa",
           "#FFA15A",
           "#19d3f3",
           "#FF6692",
           "#B6E880",
           "#FF97FF",
           "#FECB52"
          ],
          "font": {
           "color": "#2a3f5f"
          },
          "geo": {
           "bgcolor": "white",
           "lakecolor": "white",
           "landcolor": "#E5ECF6",
           "showlakes": true,
           "showland": true,
           "subunitcolor": "white"
          },
          "hoverlabel": {
           "align": "left"
          },
          "hovermode": "closest",
          "mapbox": {
           "style": "light"
          },
          "paper_bgcolor": "white",
          "plot_bgcolor": "#E5ECF6",
          "polar": {
           "angularaxis": {
            "gridcolor": "white",
            "linecolor": "white",
            "ticks": ""
           },
           "bgcolor": "#E5ECF6",
           "radialaxis": {
            "gridcolor": "white",
            "linecolor": "white",
            "ticks": ""
           }
          },
          "scene": {
           "xaxis": {
            "backgroundcolor": "#E5ECF6",
            "gridcolor": "white",
            "gridwidth": 2,
            "linecolor": "white",
            "showbackground": true,
            "ticks": "",
            "zerolinecolor": "white"
           },
           "yaxis": {
            "backgroundcolor": "#E5ECF6",
            "gridcolor": "white",
            "gridwidth": 2,
            "linecolor": "white",
            "showbackground": true,
            "ticks": "",
            "zerolinecolor": "white"
           },
           "zaxis": {
            "backgroundcolor": "#E5ECF6",
            "gridcolor": "white",
            "gridwidth": 2,
            "linecolor": "white",
            "showbackground": true,
            "ticks": "",
            "zerolinecolor": "white"
           }
          },
          "shapedefaults": {
           "line": {
            "color": "#2a3f5f"
           }
          },
          "ternary": {
           "aaxis": {
            "gridcolor": "white",
            "linecolor": "white",
            "ticks": ""
           },
           "baxis": {
            "gridcolor": "white",
            "linecolor": "white",
            "ticks": ""
           },
           "bgcolor": "#E5ECF6",
           "caxis": {
            "gridcolor": "white",
            "linecolor": "white",
            "ticks": ""
           }
          },
          "title": {
           "x": 0.05
          },
          "xaxis": {
           "automargin": true,
           "gridcolor": "white",
           "linecolor": "white",
           "ticks": "",
           "title": {
            "standoff": 15
           },
           "zerolinecolor": "white",
           "zerolinewidth": 2
          },
          "yaxis": {
           "automargin": true,
           "gridcolor": "white",
           "linecolor": "white",
           "ticks": "",
           "title": {
            "standoff": 15
           },
           "zerolinecolor": "white",
           "zerolinewidth": 2
          }
         }
        },
        "xaxis": {
         "anchor": "y",
         "domain": [
          0,
          1
         ],
         "matches": "x2",
         "showticklabels": false
        },
        "xaxis2": {
         "anchor": "y2",
         "domain": [
          0,
          1
         ]
        },
        "yaxis": {
         "anchor": "x",
         "domain": [
          0.28,
          1
         ]
        },
        "yaxis2": {
         "anchor": "x2",
         "domain": [
          0,
          0.18000000000000002
         ]
        }
       }
      }
     },
     "metadata": {},
     "output_type": "display_data"
    }
   ],
   "source": [
    "record.plotly(\n",
    "    # xrange=[12,17], #edit x range like [0,10] to see a subset\n",
    "    show_est_logprob=True,\n",
    "    height=600,\n",
    ")"
   ]
  },
  {
   "cell_type": "code",
   "execution_count": 25,
   "metadata": {},
   "outputs": [],
   "source": [
    "# Save an example\n",
    "import json\n",
    "import numpy as np\n",
    "\n",
    "WRITE_EXAMPLE = 0\n",
    "READ_EXAMPLE = 0\n",
    "\n",
    "class NumpyEncoder(json.JSONEncoder):\n",
    "    def default(self, obj):\n",
    "        if isinstance(obj, np.integer):\n",
    "            return int(obj)\n",
    "        elif isinstance(obj, np.floating):\n",
    "            return float(obj)\n",
    "        elif isinstance(obj, np.ndarray):\n",
    "            return obj.tolist()\n",
    "        return super(NumpyEncoder, self).default(obj)\n",
    "\n",
    "if WRITE_EXAMPLE:\n",
    "    with open('smc_viz/MyExample.json', 'w') as f:\n",
    "        json.dump(particle_approx.record,f,cls=NumpyEncoder)\n",
    "if READ_EXAMPLE:\n",
    "    from genparse.record import SMCRecord\n",
    "    with open('smc_viz/MyExample.json', 'r') as f:\n",
    "        record = SMCRecord(**json.load(f))"
   ]
  },
  {
   "cell_type": "markdown",
   "metadata": {},
   "source": [
    "Write out example figures"
   ]
  },
  {
   "cell_type": "code",
   "execution_count": 21,
   "metadata": {},
   "outputs": [],
   "source": [
    "import os\n",
    "\n",
    "def write_images_scrollby(windowsize=10, outdir='figs', height=800, width=1000):\n",
    "    record.plotly(height=height, width=width).write_image(\n",
    "        os.path.join(outdir, 'EXAMPLE.png')\n",
    "    )\n",
    "    for x_ in range(len(record['step'])):\n",
    "        record.plotly(xrange=[0, x_], height=height, width=width).write_image(\n",
    "            os.path.join(outdir, f'TMP{x_:02d}.png')\n",
    "        )\n",
    "\n",
    "if 0:\n",
    "    write_images_scrollby()"
   ]
  }
 ],
 "metadata": {
  "kernelspec": {
   "display_name": "Python 3 (ipykernel)",
   "language": "python",
   "name": "python3"
  },
  "language_info": {
   "codemirror_mode": {
    "name": "ipython",
    "version": 3
   },
   "file_extension": ".py",
   "mimetype": "text/x-python",
   "name": "python",
   "nbconvert_exporter": "python",
   "pygments_lexer": "ipython3",
   "version": "3.10.14"
  }
 },
 "nbformat": 4,
 "nbformat_minor": 4
}
