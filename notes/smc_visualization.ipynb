{
 "cells": [
  {
   "cell_type": "code",
   "execution_count": 1,
   "metadata": {},
   "outputs": [],
   "source": [
    "%load_ext autoreload\n",
    "%autoreload all"
   ]
  },
  {
   "cell_type": "code",
   "execution_count": 2,
   "metadata": {},
   "outputs": [],
   "source": [
    "import nest_asyncio\n",
    "\n",
    "nest_asyncio.apply()\n",
    "\n",
    "prompt = \"\"\"\n",
    "    You have access to a political survey data table named \"data\", which includes the following columns:\n",
    "    - \"age\" (integer)\n",
    "    - \"gender\" (\"male\" or \"female\"),\n",
    "    - \"year\" (integer)\n",
    "    - \"state_color\" (\"blue\" or \"red\")\n",
    "    - \"zipcode\" (integer)\n",
    "    - \"vote\" (\"democrat\" or \"republican\") \n",
    "    - \"race_ethnicity\" (\"white\", \"black\", or \"latino\").\n",
    "\n",
    "    Q: Write a SQL query that shows individuals' age and gender, for people over 50 years old.\n",
    "    A: SELECT age, gender FROM data WHERE age>50 </s>\n",
    "    Q: Write a SQL query that shows individuals' vote and zipcode, ordered from lowest to highest age.\n",
    "    A: SELECT vote, zipcode, age FROM data ORDER BY age ASC </s>\n",
    "    Q: Write a SQL query that returns white voters' average age for each state color. \n",
    "    A:\"\"\"\n",
    "\n",
    "# an ambiguous prompt\n",
    "prompt = \"\"\"\n",
    "    You have access to a political survey data table named \"data\", which includes the following columns:\n",
    "    - \"age\" (integer)\n",
    "    - \"gender\" (\"male\" or \"female\"),\n",
    "    - \"year\" (integer)\n",
    "    - \"state_color\" (\"blue\" or \"red\")\n",
    "    - \"zipcode\" (integer)\n",
    "    - \"vote\" (\"democrat\" or \"republican\") \n",
    "    - \"race_ethnicity\" (\"white\", \"black\", or \"latino\").\n",
    "\n",
    "    Q: Write a SQL query that shows individuals' age and gender, for people over 50 years old.\n",
    "    A: SELECT age, gender FROM data WHERE age>50 </s>\n",
    "    Q: Write a SQL query that shows individuals' vote and zipcode, ordered from lowest to highest age.\n",
    "    A: SELECT vote, zipcode, age FROM data ORDER BY age ASC </s>\n",
    "    Q: Write a SQL query that returns the average proportion of votes by party for young versus old voters. \n",
    "    A:\"\"\"\n",
    "\n",
    "very_restricted_sql = r\"\"\"\n",
    "    start: WS? \"SELECT\" WS select_expr WS \"FROM\" WS from_expr [WS \"WHERE\" WS bool_condition] [WS \"GROUP BY\" WS var_list] [WS \"ORDER BY\" WS orderby_expr] WS EOS\n",
    "    EOS: \"</s>\"\n",
    "    select_expr: STAR | select_list\n",
    "    bool_condition: bool_expr | \"(\" bool_condition WS \"AND\" WS bool_condition \")\" | \"(\" bool_condition WS \"OR\" WS bool_condition \")\"\n",
    "    bool_expr: var \"=\" value | var \">\" value | var \"<\" value\n",
    "    from_expr: \"data\"\n",
    "    orderby_expr: var_list WS \"ASC\" | var_list WS \"DESC\"\n",
    "    select_list: select_var (\",\" WS select_var)*\n",
    "    var_list: var (\",\" WS var)*\n",
    "    select_var: var | \"AVG(\" var \")\" | \"MEDIAN(\" var \")\" | \"COUNT(\" var \")\"\n",
    "    var: \"age\" | \"gender\" | \"year\" | \"state_color\" | \"zipcode\" | \"vote\" | \"race_ethnicity\"\n",
    "    value: NUMBER | \"'red'\" | \"'blue'\" | \"'white'\" | \"'black'\" | \"'latino'\" | \"'republican'\" | \"'democrat'\" | \"'male'\" | \"'female'\"\n",
    "    STAR: \"*\"\n",
    "    NUMBER: /\\d+/\n",
    "    WS: /[ ]/\n",
    "\"\"\""
   ]
  },
  {
   "cell_type": "code",
   "execution_count": 3,
   "metadata": {},
   "outputs": [],
   "source": [
    "from genparse.util import load_model_by_name, lark_guide\n",
    "from torch.cuda import is_available as is_cuda_available\n",
    "\n",
    "if is_cuda_available():\n",
    "    genparse_llm = load_model_by_name('codellama', batch_size=40)\n",
    "\n",
    "else:\n",
    "    genparse_llm = load_model_by_name('gpt2', batch_size=5)\n",
    "\n",
    "MAX_TOKENS = 100"
   ]
  },
  {
   "cell_type": "code",
   "execution_count": 5,
   "metadata": {},
   "outputs": [],
   "source": [
    "from genparse.steer import HFPPLSampler\n",
    "from genparse.proposal import CharacterProposal\n",
    "\n",
    "guide = lark_guide(very_restricted_sql)\n",
    "\n",
    "sampler = HFPPLSampler(llm=genparse_llm, guide=guide)\n",
    "\n",
    "proposal = CharacterProposal(llm=genparse_llm, guide=guide)"
   ]
  },
  {
   "cell_type": "code",
   "execution_count": 6,
   "metadata": {},
   "outputs": [],
   "source": [
    "particle_approx = sampler.run_inference(\n",
    "    prompt=prompt,\n",
    "    proposal=proposal,\n",
    "    method='smc-standard',\n",
    "    return_record=True,  # use version of smc that keeps a record\n",
    "    n_particles=12,\n",
    "    max_tokens=60,\n",
    "    verbosity=0,\n",
    ")\n",
    "record = particle_approx.record"
   ]
  },
  {
   "cell_type": "code",
   "execution_count": 7,
   "metadata": {},
   "outputs": [
    {
     "data": {
      "text/html": [
       "<div style=\"font-family: Monospace;\"><table><tr style=\"font-weight: bold;\"><td>key</td><td>value</td></tr><tr><td><pre> SELECT age, age, gender FROM data WHERE age&gt;50 ORDER BY age ASC &lt;/s&gt;▪</pre></td><td><pre>0.9999486132024705</pre></td> </tr><tr><td><pre> SELECT age, age, gender FROM data WHERE age&gt;50 ORDER BY age DESC &lt;/s&gt;▪</pre></td><td><pre>5.1386797529405986e-05</pre></td> </tr></table></div>"
      ],
      "text/plain": [
       "{' SELECT age, age, gender FROM data WHERE age>50 ORDER BY age ASC </s>▪': 0.9999486132024705, ' SELECT age, age, gender FROM data WHERE age>50 ORDER BY age DESC </s>▪': 5.1386797529405986e-05}"
      ]
     },
     "execution_count": 7,
     "metadata": {},
     "output_type": "execute_result"
    }
   ],
   "source": [
    "particle_approx.posterior"
   ]
  },
  {
   "cell_type": "markdown",
   "metadata": {},
   "source": [
    "## Plotting the particle beam"
   ]
  },
  {
   "cell_type": "code",
   "execution_count": 11,
   "metadata": {},
   "outputs": [
    {
     "data": {
      "application/vnd.plotly.v1+json": {
       "config": {
        "plotlyServerURL": "https://plot.ly"
       },
       "data": [
        {
         "hoverinfo": "text",
         "hovertext": [
          "Token:    `<b> SELECT</b>`<br>Context:  <br>Step 1; Avg weight = -0.203624<br>Particle 0; Weight = -0.203624<br>",
          "Token:    `<b> v</b>`<br>Context:   SELECT<br>Step 2; Avg weight = -0.752665<br>Particle 0; Weight = -0.788482<br>        ↳ resample_indices particle 0",
          "Token:    `<b>ot</b>`<br>Context:   SELECT v<br>Step 3; Avg weight = -0.907984<br>Particle 0; Weight = -4.425744<br>        ↳ resample_indices particle 0",
          "Token:    `<b>e</b>`<br>Context:   SELECT vot<br>Step 4; Avg weight = -1.142763<br>Particle 0; Weight = -15.129938<br>        ↳ resample_indices particle 0",
          "Token:    `<b>,</b>`<br>Context:   SELECT vote<br>Step 5; Avg weight = -1.242839<br>Particle 0; Weight = -16.489927<br>        ↳ resample_indices particle 0",
          "Token:    `<b> gender</b>`<br>Context:   SELECT vote,<br>Step 6; Avg weight = -1.324834<br>Particle 0; Weight = -17.528524<br>        ↳ resample_indices particle 0",
          "Token:    `<b> FROM</b>`<br>Context:   SELECT vote, gender<br>Step 7; Avg weight = -1.460656<br>Particle 0; Weight = -17.620892<br>        ↳ resample_indices particle 0",
          "Token:    `<b> data</b>`<br>Context:   SELECT vote, gender FROM<br>Step 8; Avg weight = -1.541746<br>Particle 0; Weight = -17.984210<br>        ↳ resample_indices particle 0",
          "Token:    `<b> WHERE</b>`<br>Context:   SELECT vote, gender FROM data<br>Step 9; Avg weight = -1.819899<br>Particle 0; Weight = -18.178030<br>        ↳ resample_indices particle 0",
          "Token:    `<b> v</b>`<br>Context:   SELECT vote, gender FROM data WHERE<br>Step 10; Avg weight = -1.963044<br>Particle 0; Weight = -18.320783<br>        ↳ resample_indices particle 0",
          "Token:    `<b>ot</b>`<br>Context:   SELECT vote, gender FROM data WHERE v<br>Step 11; Avg weight = -2.140760<br>Particle 0; Weight = -18.398962<br>        ↳ resample_indices particle 0",
          "Token:    `<b> BY</b>`<br>Context:   SELECT vote, zipcode, age, gender FROM data ORDER<br>Step 13; Avg weight = -3.071397<br>Particle 0; Weight = -2.406189<br>        ↳ resample_indices particle 0",
          "Token:    `<b> age</b>`<br>Context:   SELECT age, age, gender FROM data WHERE age>50 ORDER BY<br>Step 15; Avg weight = -4.408953<br>Particle 0; Weight = -3.915171<br>        ↳ resample_indices particle 0",
          "Token:    `<b> ASC</b>`<br>Context:   SELECT age, age, gender FROM data WHERE age>50 ORDER BY age<br>Step 16; Avg weight = -4.760292<br>Particle 0; Weight = -4.433034<br>        ↳ resample_indices particle 0",
          "Token:    `<b> </</b>`<br>Context:   SELECT age, age, gender FROM data WHERE age>50 ORDER BY age ASC<br>Step 17; Avg weight = -5.551449<br>Particle 0; Weight = -5.282423<br>        ↳ resample_indices particle 0",
          "Token:    `<b>s</b>`<br>Context:   SELECT age, age, gender FROM data WHERE age>50 ORDER BY age ASC </<br>Step 18; Avg weight = -7.089041<br>Particle 0; Weight = -5.552115<br>        ↳ resample_indices particle 0",
          "Token:    `<b> <</b>`<br>Context:   SELECT age, age, gender FROM data WHERE age>50 ORDER BY age DESC<br>Step 18; Avg weight = -7.089041<br>Particle 1; Weight = -8.398576<br>        ↳ resample_indices particle 0",
          "Token:    `<b> <</b>`<br>Context:   SELECT age, age, gender FROM data WHERE age>50 ORDER BY age DESC<br>Step 18; Avg weight = -7.089041<br>Particle 2; Weight = -8.398576<br>        ↳ resample_indices particle 0",
          "Token:    `<b> <</b>`<br>Context:   SELECT age, age, gender FROM data WHERE age>50 ORDER BY age DESC<br>Step 18; Avg weight = -7.089041<br>Particle 3; Weight = -8.398576<br>        ↳ resample_indices particle 0",
          "Token:    `<b>s</b>`<br>Context:   SELECT age, age, gender FROM data WHERE age>50 ORDER BY age ASC </<br>Step 18; Avg weight = -7.089041<br>Particle 4; Weight = -5.552115<br>        ↳ resample_indices particle 0",
          "Token:    `<b> <</b>`<br>Context:   SELECT age, age, gender FROM data WHERE age>50 ORDER BY age DESC<br>Step 18; Avg weight = -7.089041<br>Particle 5; Weight = -8.398576<br>        ↳ resample_indices particle 0",
          "Token:    `<b>></b>`<br>Context:   SELECT age, age, gender FROM data WHERE age>50 ORDER BY age ASC </s<br>Step 19; Avg weight = -7.178617<br>Particle 0; Weight = -7.091696<br>        ↳ resample_indices particle 0",
          "Token:    `<b>▪</b>`<br>Context:   SELECT age, age, gender FROM data WHERE age>50 ORDER BY age ASC </s><br>Step 20; Avg weight = -12.008721<br>Particle 0; Weight = -11.930188<br>        ↳ resample_indices particle 0",
          "Token:    `<b>▪</b>`<br>Context:   SELECT age, age, gender FROM data WHERE age>50 ORDER BY age ASC </s><br>Step 21; Avg weight = -12.009044<br>Particle 0; Weight = -11.930188<br>        ↳ resample_indices particle 0",
          "Token:    `<b>▪</b>`<br>Context:   SELECT age, age, gender FROM data WHERE age>50 ORDER BY age ASC </s><br>Step 22; Avg weight = -12.017148<br>Particle 0; Weight = -11.930188<br>        ↳ resample_indices particle 0"
         ],
         "marker": {
          "color": "rgb(255.0, 0.0, 0.0)",
          "opacity": 0.15,
          "size": [
           14.14213562373095,
           13.891126090421569,
           2.4358077027512643,
           0.012978919864271684,
           0.006912766489842525,
           0.004284780030806656,
           0.0043788938687830585,
           0.003802588178546813,
           0.0039663584030554255,
           0.003967136384814403,
           0.0041695708014252405,
           19.722554325440598,
           18.102489174454064,
           16.65629240116565,
           16.178314306224586,
           30.496793035138364,
           7.347729099142625,
           7.347729099142625,
           7.347729099142625,
           30.496793035138364,
           7.347729099142625,
           14.770311111243538,
           14.708490989826693,
           14.71087305688561,
           14.770599395992788
          ]
         },
         "mode": "markers+text",
         "showlegend": false,
         "text": [
          " SELECT",
          " v",
          "ot",
          "e",
          ",",
          " gender",
          " FROM",
          " data",
          " WHERE",
          " v",
          "ot",
          " BY",
          " age",
          " ASC",
          " </",
          "s",
          " <",
          " <",
          " <",
          "s",
          " <",
          ">",
          "▪",
          "▪",
          "▪"
         ],
         "type": "scatter",
         "x": [
          1,
          2,
          3,
          4,
          5,
          6,
          7,
          8,
          9,
          10,
          11,
          13,
          15,
          16,
          17,
          18,
          18,
          18,
          18,
          18,
          18,
          19,
          20,
          21,
          22
         ],
         "y": [
          0,
          0,
          0,
          0,
          0,
          0,
          0,
          0,
          0,
          0,
          0,
          0,
          0,
          0,
          0,
          0,
          1,
          2,
          3,
          4,
          5,
          0,
          0,
          0,
          0
         ]
        },
        {
         "hoverinfo": "text",
         "hovertext": [
          "Token:    `<b> SELECT</b>`<br>Context:  <br>Step 1; Avg weight = -0.203624<br>Particle 1; Weight = -0.203624<br>",
          "Token:    `<b> vote</b>`<br>Context:   SELECT<br>Step 2; Avg weight = -0.752665<br>Particle 1; Weight = -0.788482<br>        ↳ resample_indices particle 1",
          "Token:    `<b>,</b>`<br>Context:   SELECT vote<br>Step 3; Avg weight = -0.907984<br>Particle 1; Weight = -0.841301<br>        ↳ resample_indices particle 1",
          "Token:    `<b> zip</b>`<br>Context:   SELECT vote,<br>Step 4; Avg weight = -1.142763<br>Particle 1; Weight = -0.929335<br>        ↳ resample_indices particle 1",
          "Token:    `<b>code</b>`<br>Context:   SELECT vote, zip<br>Step 5; Avg weight = -1.242839<br>Particle 1; Weight = -0.929878<br>        ↳ resample_indices particle 1",
          "Token:    `<b>,</b>`<br>Context:   SELECT vote, zipcode<br>Step 6; Avg weight = -1.324834<br>Particle 1; Weight = -0.936365<br>        ↳ resample_indices particle 1",
          "Token:    `<b> age</b>`<br>Context:   SELECT vote, zipcode,<br>Step 7; Avg weight = -1.460656<br>Particle 1; Weight = -1.056670<br>        ↳ resample_indices particle 1",
          "Token:    `<b> FROM</b>`<br>Context:   SELECT vote, zipcode, age<br>Step 8; Avg weight = -1.541746<br>Particle 1; Weight = -1.095189<br>        ↳ resample_indices particle 1",
          "Token:    `<b> data</b>`<br>Context:   SELECT vote, zipcode, age FROM<br>Step 9; Avg weight = -1.819899<br>Particle 1; Weight = -1.236798<br>        ↳ resample_indices particle 1",
          "Token:    `<b> ORDER</b>`<br>Context:   SELECT vote, zipcode, age FROM data<br>Step 10; Avg weight = -1.963044<br>Particle 1; Weight = -1.309828<br>        ↳ resample_indices particle 1",
          "Token:    `<b> BY</b>`<br>Context:   SELECT vote, zipcode, age FROM data ORDER<br>Step 11; Avg weight = -2.140760<br>Particle 1; Weight = -1.310617<br>        ↳ resample_indices particle 1",
          "Token:    `<b> <</b>`<br>Context:   SELECT age, age, gender FROM data WHERE age>50<br>Step 13; Avg weight = -3.071397<br>Particle 1; Weight = -3.269107<br>        ↳ resample_indices particle 1",
          "Token:    `<b> age</b>`<br>Context:   SELECT age, age, gender FROM data WHERE age>50 ORDER BY<br>Step 15; Avg weight = -4.408953<br>Particle 1; Weight = -3.915171<br>        ↳ resample_indices particle 1",
          "Token:    `<b> DES</b>`<br>Context:   SELECT age, age, gender FROM data WHERE age>50 ORDER BY age<br>Step 16; Avg weight = -4.760292<br>Particle 1; Weight = -4.417535<br>        ↳ resample_indices particle 1",
          "Token:    `<b>C</b>`<br>Context:   SELECT age, age, gender FROM data WHERE age>50 ORDER BY age DES<br>Step 17; Avg weight = -5.551449<br>Particle 1; Weight = -4.422002<br>        ↳ resample_indices particle 1",
          "Token:    `<b> </</b>`<br>Context:   SELECT age, age, gender FROM data WHERE age>50 ORDER BY age ASC<br>Step 17; Avg weight = -5.551449<br>Particle 2; Weight = -5.282423<br>        ↳ resample_indices particle 1",
          "Token:    `<b>C</b>`<br>Context:   SELECT age, age, gender FROM data WHERE age>50 ORDER BY age DES<br>Step 17; Avg weight = -5.551449<br>Particle 3; Weight = -4.422002<br>        ↳ resample_indices particle 1",
          "Token:    `<b>></b>`<br>Context:   SELECT age, age, gender FROM data WHERE age>50 ORDER BY age ASC </s<br>Step 19; Avg weight = -7.178617<br>Particle 1; Weight = -7.091696<br>        ↳ resample_indices particle 1",
          "Token:    `<b>▪</b>`<br>Context:   SELECT age, age, gender FROM data WHERE age>50 ORDER BY age ASC </s><br>Step 20; Avg weight = -12.008721<br>Particle 1; Weight = -11.930188<br>        ↳ resample_indices particle 1",
          "Token:    `<b>▪</b>`<br>Context:   SELECT age, age, gender FROM data WHERE age>50 ORDER BY age ASC </s><br>Step 21; Avg weight = -12.009044<br>Particle 1; Weight = -11.930188<br>        ↳ resample_indices particle 1",
          "Token:    `<b>▪</b>`<br>Context:   SELECT age, age, gender FROM data WHERE age>50 ORDER BY age ASC </s><br>Step 22; Avg weight = -12.017148<br>Particle 1; Weight = -11.930188<br>        ↳ resample_indices particle 1"
         ],
         "marker": {
          "color": "rgb(231.8181818181818, 11.363636363636363, 23.181818181818183)",
          "opacity": 0.15,
          "size": [
           14.14213562373095,
           13.891126090421569,
           14.621604203634892,
           15.734769497182448,
           16.537643236482868,
           17.173944493489532,
           17.307707055561362,
           17.680052985127126,
           18.929261470665814,
           19.604643942022555,
           21.417966330970216,
           12.81099581978628,
           18.102489174454064,
           16.78586704717311,
           24.875464608949823,
           16.178314306224586,
           24.875464608949823,
           14.770311111243538,
           14.708490989826693,
           14.71087305688561,
           14.770599395992788
          ]
         },
         "mode": "markers+text",
         "showlegend": false,
         "text": [
          " SELECT",
          " vote",
          ",",
          " zip",
          "code",
          ",",
          " age",
          " FROM",
          " data",
          " ORDER",
          " BY",
          " <",
          " age",
          " DES",
          "C",
          " </",
          "C",
          ">",
          "▪",
          "▪",
          "▪"
         ],
         "type": "scatter",
         "x": [
          1,
          2,
          3,
          4,
          5,
          6,
          7,
          8,
          9,
          10,
          11,
          13,
          15,
          16,
          17,
          17,
          17,
          19,
          20,
          21,
          22
         ],
         "y": [
          1,
          1,
          1,
          1,
          1,
          1,
          1,
          1,
          1,
          1,
          1,
          1,
          1,
          1,
          1,
          2,
          3,
          1,
          1,
          1,
          1
         ]
        },
        {
         "hoverinfo": "text",
         "hovertext": [
          "Token:    `<b> SELECT</b>`<br>Context:  <br>Step 1; Avg weight = -0.203624<br>Particle 2; Weight = -0.203624<br>",
          "Token:    `<b> vote</b>`<br>Context:   SELECT<br>Step 2; Avg weight = -0.752665<br>Particle 2; Weight = -0.788482<br>        ↳ resample_indices particle 2",
          "Token:    `<b>,</b>`<br>Context:   SELECT vote<br>Step 3; Avg weight = -0.907984<br>Particle 2; Weight = -0.841301<br>        ↳ resample_indices particle 2",
          "Token:    `<b> age</b>`<br>Context:   SELECT vote,<br>Step 4; Avg weight = -1.142763<br>Particle 2; Weight = -0.967626<br>        ↳ resample_indices particle 2",
          "Token:    `<b> FROM</b>`<br>Context:   SELECT vote, age<br>Step 5; Avg weight = -1.242839<br>Particle 2; Weight = -1.071489<br>        ↳ resample_indices particle 2",
          "Token:    `<b> data</b>`<br>Context:   SELECT vote, age FROM<br>Step 6; Avg weight = -1.324834<br>Particle 2; Weight = -1.350956<br>        ↳ resample_indices particle 2",
          "Token:    `<b> ORDER</b>`<br>Context:   SELECT vote, age FROM data<br>Step 7; Avg weight = -1.460656<br>Particle 2; Weight = -1.507175<br>        ↳ resample_indices particle 2",
          "Token:    `<b> BY</b>`<br>Context:   SELECT vote, age FROM data ORDER<br>Step 8; Avg weight = -1.541746<br>Particle 2; Weight = -1.508034<br>        ↳ resample_indices particle 2",
          "Token:    `<b> vote</b>`<br>Context:   SELECT vote, age FROM data ORDER BY<br>Step 9; Avg weight = -1.819899<br>Particle 2; Weight = -1.917015<br>        ↳ resample_indices particle 2",
          "Token:    `<b> DES</b>`<br>Context:   SELECT vote, age FROM data ORDER BY vote<br>Step 10; Avg weight = -1.963044<br>Particle 2; Weight = -2.440068<br>        ↳ resample_indices particle 2",
          "Token:    `<b>C</b>`<br>Context:   SELECT vote, age FROM data ORDER BY vote DES<br>Step 11; Avg weight = -2.140760<br>Particle 2; Weight = -2.443634<br>        ↳ resample_indices particle 2",
          "Token:    `<b> ORDER</b>`<br>Context:   SELECT age, age, gender FROM data WHERE age>50<br>Step 13; Avg weight = -3.071397<br>Particle 2; Weight = -3.303900<br>        ↳ resample_indices particle 2",
          "Token:    `<b> age</b>`<br>Context:   SELECT vote, zipcode, age, gender FROM data ORDER BY<br>Step 14; Avg weight = -3.840961<br>Particle 0; Weight = -2.533852<br>        ↳ resample_indices particle 2",
          "Token:    `<b>/</b>`<br>Context:   SELECT age, age, gender FROM data WHERE age>50 <<br>Step 14; Avg weight = -3.840961<br>Particle 1; Weight = -9.246348<br>        ↳ resample_indices particle 2",
          "Token:    `<b> BY</b>`<br>Context:   SELECT age, age, gender FROM data WHERE age>50 ORDER<br>Step 14; Avg weight = -3.840961<br>Particle 2; Weight = -3.305017<br>        ↳ resample_indices particle 2",
          "Token:    `<b>/</b>`<br>Context:   SELECT age, age, gender FROM data WHERE age>50 <<br>Step 14; Avg weight = -3.840961<br>Particle 3; Weight = -9.246348<br>        ↳ resample_indices particle 2",
          "Token:    `<b>C</b>`<br>Context:   SELECT vote, zipcode, age FROM data ORDER BY age DES<br>Step 14; Avg weight = -3.840961<br>Particle 4; Weight = -3.011542<br>        ↳ resample_indices particle 2",
          "Token:    `<b> age</b>`<br>Context:   SELECT age, age, gender FROM data WHERE age>50 ORDER BY<br>Step 15; Avg weight = -4.408953<br>Particle 2; Weight = -3.915171<br>        ↳ resample_indices particle 2",
          "Token:    `<b> ASC</b>`<br>Context:   SELECT age, age, gender FROM data WHERE age>50 ORDER BY age<br>Step 16; Avg weight = -4.760292<br>Particle 2; Weight = -4.433034<br>        ↳ resample_indices particle 2",
          "Token:    `<b>C</b>`<br>Context:   SELECT age, age, gender FROM data WHERE age>50 ORDER BY age DES<br>Step 17; Avg weight = -5.551449<br>Particle 4; Weight = -4.422002<br>        ↳ resample_indices particle 2",
          "Token:    `<b>></b>`<br>Context:   SELECT age, age, gender FROM data WHERE age>50 ORDER BY age ASC </s<br>Step 19; Avg weight = -7.178617<br>Particle 2; Weight = -7.091696<br>        ↳ resample_indices particle 2",
          "Token:    `<b>▪</b>`<br>Context:   SELECT age, age, gender FROM data WHERE age>50 ORDER BY age ASC </s><br>Step 20; Avg weight = -12.008721<br>Particle 2; Weight = -11.930188<br>        ↳ resample_indices particle 2",
          "Token:    `<b>▪</b>`<br>Context:   SELECT age, age, gender FROM data WHERE age>50 ORDER BY age ASC </s><br>Step 21; Avg weight = -12.009044<br>Particle 2; Weight = -11.930188<br>        ↳ resample_indices particle 2",
          "Token:    `<b>▪</b>`<br>Context:   SELECT age, age, gender FROM data WHERE age>50 ORDER BY age ASC </s><br>Step 22; Avg weight = -12.017148<br>Particle 2; Weight = -11.930188<br>        ↳ resample_indices particle 2"
         ],
         "marker": {
          "color": "rgb(208.63636363636363, 22.727272727272727, 46.36363636363637)",
          "opacity": 0.15,
          "size": [
           14.14213562373095,
           13.891126090421569,
           14.621604203634892,
           15.43638652471222,
           15.407183531090313,
           13.958625139213332,
           13.816996779237035,
           14.382531313613013,
           13.471824698409616,
           11.141161294824272,
           12.154766915208178,
           12.590053067942172,
           27.186295882413603,
           0.9478728856885188,
           18.488159807984463,
           0.9478728856885188,
           21.410210742276444,
           18.102489174454064,
           16.65629240116565,
           24.875464608949823,
           14.770311111243538,
           14.708490989826693,
           14.71087305688561,
           14.770599395992788
          ]
         },
         "mode": "markers+text",
         "showlegend": false,
         "text": [
          " SELECT",
          " vote",
          ",",
          " age",
          " FROM",
          " data",
          " ORDER",
          " BY",
          " vote",
          " DES",
          "C",
          " ORDER",
          " age",
          "/",
          " BY",
          "/",
          "C",
          " age",
          " ASC",
          "C",
          ">",
          "▪",
          "▪",
          "▪"
         ],
         "type": "scatter",
         "x": [
          1,
          2,
          3,
          4,
          5,
          6,
          7,
          8,
          9,
          10,
          11,
          13,
          14,
          14,
          14,
          14,
          14,
          15,
          16,
          17,
          19,
          20,
          21,
          22
         ],
         "y": [
          2,
          2,
          2,
          2,
          2,
          2,
          2,
          2,
          2,
          2,
          2,
          2,
          0,
          1,
          2,
          3,
          4,
          2,
          2,
          4,
          2,
          2,
          2,
          2
         ]
        },
        {
         "hoverinfo": "text",
         "hovertext": [
          "Token:    `<b> SELECT</b>`<br>Context:  <br>Step 1; Avg weight = -0.203624<br>Particle 3; Weight = -0.203624<br>",
          "Token:    `<b> vote</b>`<br>Context:   SELECT<br>Step 2; Avg weight = -0.752665<br>Particle 3; Weight = -0.788482<br>        ↳ resample_indices particle 3",
          "Token:    `<b>,</b>`<br>Context:   SELECT vote<br>Step 3; Avg weight = -0.907984<br>Particle 3; Weight = -0.841301<br>        ↳ resample_indices particle 3",
          "Token:    `<b> zip</b>`<br>Context:   SELECT vote,<br>Step 4; Avg weight = -1.142763<br>Particle 3; Weight = -0.929335<br>        ↳ resample_indices particle 3",
          "Token:    `<b>code</b>`<br>Context:   SELECT vote, zip<br>Step 5; Avg weight = -1.242839<br>Particle 3; Weight = -0.929878<br>        ↳ resample_indices particle 3",
          "Token:    `<b>,</b>`<br>Context:   SELECT vote, zipcode<br>Step 6; Avg weight = -1.324834<br>Particle 3; Weight = -0.936365<br>        ↳ resample_indices particle 3",
          "Token:    `<b> age</b>`<br>Context:   SELECT vote, zipcode,<br>Step 7; Avg weight = -1.460656<br>Particle 3; Weight = -1.056670<br>        ↳ resample_indices particle 3",
          "Token:    `<b>,</b>`<br>Context:   SELECT vote, zipcode, age<br>Step 8; Avg weight = -1.541746<br>Particle 3; Weight = -1.061104<br>        ↳ resample_indices particle 3",
          "Token:    `<b> gender</b>`<br>Context:   SELECT vote, zipcode, age,<br>Step 9; Avg weight = -1.819899<br>Particle 3; Weight = -2.102736<br>        ↳ resample_indices particle 3",
          "Token:    `<b> FROM</b>`<br>Context:   SELECT vote, zipcode, age, gender<br>Step 10; Avg weight = -1.963044<br>Particle 3; Weight = -2.165042<br>        ↳ resample_indices particle 3",
          "Token:    `<b> data</b>`<br>Context:   SELECT vote, zipcode, age, gender FROM<br>Step 11; Avg weight = -2.140760<br>Particle 3; Weight = -2.301792<br>        ↳ resample_indices particle 3",
          "Token:    `<b>e</b>`<br>Context:   SELECT vote, gender FROM data WHERE vot<br>Step 12; Avg weight = -2.405342<br>Particle 0; Weight = -18.466450<br>        ↳ resample_indices particle 3",
          "Token:    `<b> <</b>`<br>Context:   SELECT age, age, gender FROM data WHERE age>50<br>Step 13; Avg weight = -3.071397<br>Particle 3; Weight = -3.269107<br>        ↳ resample_indices particle 3",
          "Token:    `<b> age</b>`<br>Context:   SELECT age, age, gender FROM data WHERE age>50 ORDER BY<br>Step 15; Avg weight = -4.408953<br>Particle 3; Weight = -3.915171<br>        ↳ resample_indices particle 3",
          "Token:    `<b> DES</b>`<br>Context:   SELECT age, age, gender FROM data WHERE age>50 ORDER BY age<br>Step 16; Avg weight = -4.760292<br>Particle 3; Weight = -4.417535<br>        ↳ resample_indices particle 3",
          "Token:    `<b>s</b>`<br>Context:   SELECT vote, zipcode, age FROM data ORDER BY age DESC </<br>Step 17; Avg weight = -5.551449<br>Particle 5; Weight = -14.645199<br>        ↳ resample_indices particle 3",
          "Token:    `<b>/</b>`<br>Context:   SELECT vote, zipcode, age FROM data ORDER BY age DESC <<br>Step 17; Avg weight = -5.551449<br>Particle 6; Weight = -23.980938<br>        ↳ resample_indices particle 3",
          "Token:    `<b>s</b>`<br>Context:   SELECT vote, zipcode, age FROM data ORDER BY age DESC </<br>Step 17; Avg weight = -5.551449<br>Particle 7; Weight = -14.645199<br>        ↳ resample_indices particle 3",
          "Token:    `<b>></b>`<br>Context:   SELECT age, age, gender FROM data WHERE age>50 ORDER BY age ASC </s<br>Step 19; Avg weight = -7.178617<br>Particle 3; Weight = -7.091696<br>        ↳ resample_indices particle 3",
          "Token:    `<b>▪</b>`<br>Context:   SELECT age, age, gender FROM data WHERE age>50 ORDER BY age ASC </s><br>Step 20; Avg weight = -12.008721<br>Particle 3; Weight = -11.930188<br>        ↳ resample_indices particle 3",
          "Token:    `<b>▪</b>`<br>Context:   SELECT age, age, gender FROM data WHERE age>50 ORDER BY age ASC </s><br>Step 21; Avg weight = -12.009044<br>Particle 3; Weight = -11.930188<br>        ↳ resample_indices particle 3",
          "Token:    `<b>▪</b>`<br>Context:   SELECT age, age, gender FROM data WHERE age>50 ORDER BY age ASC </s><br>Step 22; Avg weight = -12.017148<br>Particle 3; Weight = -11.930188<br>        ↳ resample_indices particle 3"
         ],
         "marker": {
          "color": "rgb(185.45454545454544, 34.09090909090909, 69.54545454545455)",
          "opacity": 0.15,
          "size": [
           14.14213562373095,
           13.891126090421569,
           14.621604203634892,
           15.734769497182448,
           16.537643236482868,
           17.173944493489532,
           17.307707055561362,
           17.983949300436457,
           12.277155039139538,
           12.783554731934656,
           13.048101122221027,
           0.00460139795521246,
           12.81099581978628,
           18.102489174454064,
           16.78586704717311,
           0.14991059398637277,
           0.0014079984839387469,
           0.14991059398637277,
           14.770311111243538,
           14.708490989826693,
           14.71087305688561,
           14.770599395992788
          ]
         },
         "mode": "markers+text",
         "showlegend": false,
         "text": [
          " SELECT",
          " vote",
          ",",
          " zip",
          "code",
          ",",
          " age",
          ",",
          " gender",
          " FROM",
          " data",
          "e",
          " <",
          " age",
          " DES",
          "s",
          "/",
          "s",
          ">",
          "▪",
          "▪",
          "▪"
         ],
         "type": "scatter",
         "x": [
          1,
          2,
          3,
          4,
          5,
          6,
          7,
          8,
          9,
          10,
          11,
          12,
          13,
          15,
          16,
          17,
          17,
          17,
          19,
          20,
          21,
          22
         ],
         "y": [
          3,
          3,
          3,
          3,
          3,
          3,
          3,
          3,
          3,
          3,
          3,
          0,
          3,
          3,
          3,
          5,
          6,
          7,
          3,
          3,
          3,
          3
         ]
        },
        {
         "hoverinfo": "text",
         "hovertext": [
          "Token:    `<b> SELECT</b>`<br>Context:  <br>Step 1; Avg weight = -0.203624<br>Particle 4; Weight = -0.203624<br>",
          "Token:    `<b> age</b>`<br>Context:   SELECT<br>Step 2; Avg weight = -0.752665<br>Particle 4; Weight = -0.718087<br>        ↳ resample_indices particle 4",
          "Token:    `<b>,</b>`<br>Context:   SELECT age<br>Step 3; Avg weight = -0.907984<br>Particle 4; Weight = -0.743442<br>        ↳ resample_indices particle 4",
          "Token:    `<b> age</b>`<br>Context:   SELECT age,<br>Step 4; Avg weight = -1.142763<br>Particle 4; Weight = -0.990283<br>        ↳ resample_indices particle 4",
          "Token:    `<b>,</b>`<br>Context:   SELECT age, age<br>Step 5; Avg weight = -1.242839<br>Particle 4; Weight = -1.112676<br>        ↳ resample_indices particle 4",
          "Token:    `<b> gender</b>`<br>Context:   SELECT age, age,<br>Step 6; Avg weight = -1.324834<br>Particle 4; Weight = -1.368322<br>        ↳ resample_indices particle 4",
          "Token:    `<b> FROM</b>`<br>Context:   SELECT age, age, gender<br>Step 7; Avg weight = -1.460656<br>Particle 4; Weight = -1.405213<br>        ↳ resample_indices particle 4",
          "Token:    `<b> data</b>`<br>Context:   SELECT age, age, gender FROM<br>Step 8; Avg weight = -1.541746<br>Particle 4; Weight = -1.566408<br>        ↳ resample_indices particle 4",
          "Token:    `<b> WHERE</b>`<br>Context:   SELECT age, age, gender FROM data<br>Step 9; Avg weight = -1.819899<br>Particle 4; Weight = -1.692568<br>        ↳ resample_indices particle 4",
          "Token:    `<b> age</b>`<br>Context:   SELECT age, age, gender FROM data WHERE<br>Step 10; Avg weight = -1.963044<br>Particle 4; Weight = -1.772128<br>        ↳ resample_indices particle 4",
          "Token:    `<b>></b>`<br>Context:   SELECT age, age, gender FROM data WHERE age<br>Step 11; Avg weight = -2.140760<br>Particle 4; Weight = -1.989026<br>        ↳ resample_indices particle 4",
          "Token:    `<b> age</b>`<br>Context:   SELECT vote, zipcode, age FROM data ORDER BY<br>Step 12; Avg weight = -2.405342<br>Particle 1; Weight = -1.413790<br>        ↳ resample_indices particle 4",
          "Token:    `<b> <</b>`<br>Context:   SELECT vote, age FROM data ORDER BY vote DESC<br>Step 12; Avg weight = -2.405342<br>Particle 2; Weight = -5.892850<br>        ↳ resample_indices particle 4",
          "Token:    `<b> ORDER</b>`<br>Context:   SELECT vote, zipcode, age, gender FROM data<br>Step 12; Avg weight = -2.405342<br>Particle 3; Weight = -2.410036<br>        ↳ resample_indices particle 4",
          "Token:    `<b> DES</b>`<br>Context:   SELECT vote, zipcode, age FROM data ORDER BY age<br>Step 13; Avg weight = -3.071397<br>Particle 4; Weight = -3.008532<br>        ↳ resample_indices particle 4",
          "Token:    `<b> </</b>`<br>Context:   SELECT vote, zipcode, age FROM data ORDER BY age ASC<br>Step 14; Avg weight = -3.840961<br>Particle 5; Weight = -4.223872<br>        ↳ resample_indices particle 4",
          "Token:    `<b> </</b>`<br>Context:   SELECT vote, zipcode, age FROM data ORDER BY age ASC<br>Step 14; Avg weight = -3.840961<br>Particle 6; Weight = -4.223872<br>        ↳ resample_indices particle 4",
          "Token:    `<b> </</b>`<br>Context:   SELECT vote, zipcode, age FROM data ORDER BY age ASC<br>Step 14; Avg weight = -3.840961<br>Particle 7; Weight = -4.223872<br>        ↳ resample_indices particle 4",
          "Token:    `<b> age</b>`<br>Context:   SELECT age, age, gender FROM data WHERE age>50 ORDER BY<br>Step 15; Avg weight = -4.408953<br>Particle 4; Weight = -3.915171<br>        ↳ resample_indices particle 4",
          "Token:    `<b> DES</b>`<br>Context:   SELECT age, age, gender FROM data WHERE age>50 ORDER BY age<br>Step 16; Avg weight = -4.760292<br>Particle 4; Weight = -4.417535<br>        ↳ resample_indices particle 4",
          "Token:    `<b>▪</b>`<br>Context:   SELECT vote, zipcode, age FROM data ORDER BY age ASC </s><br>Step 17; Avg weight = -5.551449<br>Particle 8; Weight = -8.559290<br>        ↳ resample_indices particle 4",
          "Token:    `<b>▪</b>`<br>Context:   SELECT vote, zipcode, age FROM data ORDER BY age ASC </s><br>Step 17; Avg weight = -5.551449<br>Particle 9; Weight = -8.559290<br>        ↳ resample_indices particle 4",
          "Token:    `<b>></b>`<br>Context:   SELECT vote, zipcode, age FROM data ORDER BY age ASC </s<br>Step 17; Avg weight = -5.551449<br>Particle 10; Weight = -11.889696<br>        ↳ resample_indices particle 4",
          "Token:    `<b>s</b>`<br>Context:   SELECT vote, zipcode, age FROM data ORDER BY age ASC </<br>Step 17; Avg weight = -5.551449<br>Particle 11; Weight = -18.754761<br>        ↳ resample_indices particle 4",
          "Token:    `<b> <</b>`<br>Context:   SELECT age, age, gender FROM data WHERE age>50 ORDER BY age DESC<br>Step 18; Avg weight = -7.089041<br>Particle 6; Weight = -8.398576<br>        ↳ resample_indices particle 4",
          "Token:    `<b> <</b>`<br>Context:   SELECT age, age, gender FROM data WHERE age>50 ORDER BY age DESC<br>Step 18; Avg weight = -7.089041<br>Particle 7; Weight = -8.398576<br>        ↳ resample_indices particle 4",
          "Token:    `<b> <</b>`<br>Context:   SELECT age, age, gender FROM data WHERE age>50 ORDER BY age DESC<br>Step 18; Avg weight = -7.089041<br>Particle 8; Weight = -8.398576<br>        ↳ resample_indices particle 4",
          "Token:    `<b> <</b>`<br>Context:   SELECT age, age, gender FROM data WHERE age>50 ORDER BY age DESC<br>Step 18; Avg weight = -7.089041<br>Particle 9; Weight = -8.398576<br>        ↳ resample_indices particle 4",
          "Token:    `<b> <</b>`<br>Context:   SELECT age, age, gender FROM data WHERE age>50 ORDER BY age DESC<br>Step 18; Avg weight = -7.089041<br>Particle 10; Weight = -8.398576<br>        ↳ resample_indices particle 4",
          "Token:    `<b>></b>`<br>Context:   SELECT age, age, gender FROM data WHERE age>50 ORDER BY age ASC </s<br>Step 19; Avg weight = -7.178617<br>Particle 4; Weight = -7.091696<br>        ↳ resample_indices particle 4",
          "Token:    `<b>▪</b>`<br>Context:   SELECT age, age, gender FROM data WHERE age>50 ORDER BY age ASC </s><br>Step 20; Avg weight = -12.008721<br>Particle 4; Weight = -11.930188<br>        ↳ resample_indices particle 4",
          "Token:    `<b>▪</b>`<br>Context:   SELECT age, age, gender FROM data WHERE age>50 ORDER BY age ASC </s><br>Step 21; Avg weight = -12.009044<br>Particle 4; Weight = -11.930188<br>        ↳ resample_indices particle 4",
          "Token:    `<b>▪</b>`<br>Context:   SELECT age, age, gender FROM data WHERE age>50 ORDER BY age ASC </s><br>Step 22; Avg weight = -12.017148<br>Particle 4; Weight = -11.930188<br>        ↳ resample_indices particle 4"
         ],
         "marker": {
          "color": "rgb(162.27272727272725, 45.45454545454545, 92.72727272727273)",
          "opacity": 0.15,
          "size": [
           14.14213562373095,
           14.388767005550173,
           15.354821920776637,
           15.262495869043134,
           15.093136706354256,
           13.83794984502502,
           14.539664607914212,
           13.968820572981636,
           15.071783215555739,
           15.558648898176795,
           15.256807331331125,
           23.218160896132943,
           2.47293256871018,
           14.10898099458996,
           14.59371649456103,
           11.67795515409499,
           11.67795515409499,
           11.67795515409499,
           18.102489174454064,
           16.78586704717311,
           3.1431892477442607,
           3.1431892477442607,
           0.5945412846962195,
           0.01920667476378184,
           7.347729099142625,
           7.347729099142625,
           7.347729099142625,
           7.347729099142625,
           7.347729099142625,
           14.770311111243538,
           14.708490989826693,
           14.71087305688561,
           14.770599395992788
          ]
         },
         "mode": "markers+text",
         "showlegend": false,
         "text": [
          " SELECT",
          " age",
          ",",
          " age",
          ",",
          " gender",
          " FROM",
          " data",
          " WHERE",
          " age",
          ">",
          " age",
          " <",
          " ORDER",
          " DES",
          " </",
          " </",
          " </",
          " age",
          " DES",
          "▪",
          "▪",
          ">",
          "s",
          " <",
          " <",
          " <",
          " <",
          " <",
          ">",
          "▪",
          "▪",
          "▪"
         ],
         "type": "scatter",
         "x": [
          1,
          2,
          3,
          4,
          5,
          6,
          7,
          8,
          9,
          10,
          11,
          12,
          12,
          12,
          13,
          14,
          14,
          14,
          15,
          16,
          17,
          17,
          17,
          17,
          18,
          18,
          18,
          18,
          18,
          19,
          20,
          21,
          22
         ],
         "y": [
          4,
          4,
          4,
          4,
          4,
          4,
          4,
          4,
          4,
          4,
          4,
          1,
          2,
          3,
          4,
          5,
          6,
          7,
          4,
          4,
          8,
          9,
          10,
          11,
          6,
          7,
          8,
          9,
          10,
          4,
          4,
          4,
          4
         ]
        },
        {
         "hoverinfo": "text",
         "hovertext": [
          "Token:    `<b> SELECT</b>`<br>Context:  <br>Step 1; Avg weight = -0.203624<br>Particle 5; Weight = -0.203624<br>",
          "Token:    `<b> age</b>`<br>Context:   SELECT<br>Step 2; Avg weight = -0.752665<br>Particle 5; Weight = -0.718087<br>        ↳ resample_indices particle 5",
          "Token:    `<b> FROM</b>`<br>Context:   SELECT age<br>Step 3; Avg weight = -0.907984<br>Particle 5; Weight = -0.953954<br>        ↳ resample_indices particle 5",
          "Token:    `<b> data</b>`<br>Context:   SELECT age FROM<br>Step 4; Avg weight = -1.142763<br>Particle 5; Weight = -1.315187<br>        ↳ resample_indices particle 5",
          "Token:    `<b> ORDER</b>`<br>Context:   SELECT age FROM data<br>Step 5; Avg weight = -1.242839<br>Particle 5; Weight = -1.457206<br>        ↳ resample_indices particle 5",
          "Token:    `<b> BY</b>`<br>Context:   SELECT age FROM data ORDER<br>Step 6; Avg weight = -1.324834<br>Particle 5; Weight = -1.458194<br>        ↳ resample_indices particle 5",
          "Token:    `<b> age</b>`<br>Context:   SELECT age FROM data ORDER BY<br>Step 7; Avg weight = -1.460656<br>Particle 5; Weight = -1.623558<br>        ↳ resample_indices particle 5",
          "Token:    `<b> ASC</b>`<br>Context:   SELECT age FROM data ORDER BY age<br>Step 8; Avg weight = -1.541746<br>Particle 5; Weight = -2.363071<br>        ↳ resample_indices particle 5",
          "Token:    `<b> </</b>`<br>Context:   SELECT age FROM data ORDER BY age ASC<br>Step 9; Avg weight = -1.819899<br>Particle 5; Weight = -3.500288<br>        ↳ resample_indices particle 5",
          "Token:    `<b>s</b>`<br>Context:   SELECT age FROM data ORDER BY age ASC </<br>Step 10; Avg weight = -1.963044<br>Particle 5; Weight = -3.501146<br>        ↳ resample_indices particle 5",
          "Token:    `<b>></b>`<br>Context:   SELECT age FROM data ORDER BY age ASC </s<br>Step 11; Avg weight = -2.140760<br>Particle 5; Weight = -3.504211<br>        ↳ resample_indices particle 5",
          "Token:    `<b> ASC</b>`<br>Context:   SELECT vote, zipcode, age FROM data ORDER BY age<br>Step 13; Avg weight = -3.071397<br>Particle 5; Weight = -2.997190<br>        ↳ resample_indices particle 5",
          "Token:    `<b> </b>`<br>Context:   SELECT vote, zipcode, age FROM data ORDER BY age ASC<br>Step 14; Avg weight = -3.840961<br>Particle 8; Weight = -4.223872<br>        ↳ resample_indices particle 5",
          "Token:    `<b> <</b>`<br>Context:   SELECT vote, zipcode, age FROM data ORDER BY age DESC<br>Step 15; Avg weight = -4.408953<br>Particle 5; Weight = -6.783543<br>        ↳ resample_indices particle 5",
          "Token:    `<b>/</b>`<br>Context:   SELECT vote, zipcode, age FROM data ORDER BY age DESC <<br>Step 16; Avg weight = -4.760292<br>Particle 5; Weight = -14.235232<br>        ↳ resample_indices particle 5",
          "Token:    `<b>></b>`<br>Context:   SELECT age, age, gender FROM data WHERE age>50 ORDER BY age ASC </s<br>Step 19; Avg weight = -7.178617<br>Particle 5; Weight = -7.091696<br>        ↳ resample_indices particle 5",
          "Token:    `<b>▪</b>`<br>Context:   SELECT age, age, gender FROM data WHERE age>50 ORDER BY age ASC </s><br>Step 20; Avg weight = -12.008721<br>Particle 5; Weight = -11.930188<br>        ↳ resample_indices particle 5",
          "Token:    `<b>▪</b>`<br>Context:   SELECT age, age, gender FROM data WHERE age>50 ORDER BY age ASC </s><br>Step 21; Avg weight = -12.009044<br>Particle 5; Weight = -11.930188<br>        ↳ resample_indices particle 5",
          "Token:    `<b>▪</b>`<br>Context:   SELECT age, age, gender FROM data WHERE age>50 ORDER BY age ASC </s><br>Step 22; Avg weight = -12.017148<br>Particle 5; Weight = -11.930188<br>        ↳ resample_indices particle 5"
         ],
         "marker": {
          "color": "rgb(139.09090909090907, 56.81818181818181, 115.90909090909092)",
          "opacity": 0.15,
          "size": [
           14.14213562373095,
           14.388767005550173,
           13.820782693490973,
           12.973989668578506,
           12.704738683702049,
           13.22989198367427,
           13.03591035570363,
           9.379215215939729,
           6.104120146142481,
           6.554210658447488,
           7.152295407373116,
           14.676716739295912,
           11.67795515409499,
           4.313991165475976,
           0.12389621361201775,
           14.770311111243538,
           14.708490989826693,
           14.71087305688561,
           14.770599395992788
          ]
         },
         "mode": "markers+text",
         "showlegend": false,
         "text": [
          " SELECT",
          " age",
          " FROM",
          " data",
          " ORDER",
          " BY",
          " age",
          " ASC",
          " </",
          "s",
          ">",
          " ASC",
          " ",
          " <",
          "/",
          ">",
          "▪",
          "▪",
          "▪"
         ],
         "type": "scatter",
         "x": [
          1,
          2,
          3,
          4,
          5,
          6,
          7,
          8,
          9,
          10,
          11,
          13,
          14,
          15,
          16,
          19,
          20,
          21,
          22
         ],
         "y": [
          5,
          5,
          5,
          5,
          5,
          5,
          5,
          5,
          5,
          5,
          5,
          5,
          8,
          5,
          5,
          5,
          5,
          5,
          5
         ]
        },
        {
         "hoverinfo": "text",
         "hovertext": [
          "Token:    `<b> SELECT</b>`<br>Context:  <br>Step 1; Avg weight = -0.203624<br>Particle 6; Weight = -0.203624<br>",
          "Token:    `<b> vote</b>`<br>Context:   SELECT<br>Step 2; Avg weight = -0.752665<br>Particle 6; Weight = -0.788482<br>        ↳ resample_indices particle 6",
          "Token:    `<b>,</b>`<br>Context:   SELECT vote<br>Step 3; Avg weight = -0.907984<br>Particle 6; Weight = -0.841301<br>        ↳ resample_indices particle 6",
          "Token:    `<b> zip</b>`<br>Context:   SELECT vote,<br>Step 4; Avg weight = -1.142763<br>Particle 6; Weight = -0.929335<br>        ↳ resample_indices particle 6",
          "Token:    `<b>code</b>`<br>Context:   SELECT vote, zip<br>Step 5; Avg weight = -1.242839<br>Particle 6; Weight = -0.929878<br>        ↳ resample_indices particle 6",
          "Token:    `<b>,</b>`<br>Context:   SELECT vote, zipcode<br>Step 6; Avg weight = -1.324834<br>Particle 6; Weight = -0.936365<br>        ↳ resample_indices particle 6",
          "Token:    `<b> age</b>`<br>Context:   SELECT vote, zipcode,<br>Step 7; Avg weight = -1.460656<br>Particle 6; Weight = -1.056670<br>        ↳ resample_indices particle 6",
          "Token:    `<b> FROM</b>`<br>Context:   SELECT vote, zipcode, age<br>Step 8; Avg weight = -1.541746<br>Particle 6; Weight = -1.095189<br>        ↳ resample_indices particle 6",
          "Token:    `<b> data</b>`<br>Context:   SELECT vote, zipcode, age FROM<br>Step 9; Avg weight = -1.819899<br>Particle 6; Weight = -1.236798<br>        ↳ resample_indices particle 6",
          "Token:    `<b> ORDER</b>`<br>Context:   SELECT vote, zipcode, age FROM data<br>Step 10; Avg weight = -1.963044<br>Particle 6; Weight = -1.309828<br>        ↳ resample_indices particle 6",
          "Token:    `<b> BY</b>`<br>Context:   SELECT vote, zipcode, age FROM data ORDER<br>Step 11; Avg weight = -2.140760<br>Particle 6; Weight = -1.310617<br>        ↳ resample_indices particle 6",
          "Token:    `<b>50</b>`<br>Context:   SELECT age, age, gender FROM data WHERE age><br>Step 12; Avg weight = -2.405342<br>Particle 4; Weight = -2.003693<br>        ↳ resample_indices particle 6",
          "Token:    `<b>▪</b>`<br>Context:   SELECT age FROM data ORDER BY age ASC </s><br>Step 12; Avg weight = -2.405342<br>Particle 5; Weight = -8.336699<br>        ↳ resample_indices particle 6",
          "Token:    `<b> age</b>`<br>Context:   SELECT vote, zipcode, age FROM data ORDER BY<br>Step 12; Avg weight = -2.405342<br>Particle 6; Weight = -1.413790<br>        ↳ resample_indices particle 6",
          "Token:    `<b> age</b>`<br>Context:   SELECT vote, zipcode, age FROM data ORDER BY<br>Step 12; Avg weight = -2.405342<br>Particle 7; Weight = -1.413790<br>        ↳ resample_indices particle 6",
          "Token:    `<b> ASC</b>`<br>Context:   SELECT vote, zipcode, age FROM data ORDER BY age<br>Step 13; Avg weight = -3.071397<br>Particle 6; Weight = -2.997190<br>        ↳ resample_indices particle 6",
          "Token:    `<b> </b>`<br>Context:   SELECT vote, zipcode, age FROM data ORDER BY age DESC<br>Step 15; Avg weight = -4.408953<br>Particle 6; Weight = -6.783543<br>        ↳ resample_indices particle 6",
          "Token:    `<b><</b>`<br>Context:   SELECT vote, zipcode, age FROM data ORDER BY age DESC <br>Step 16; Avg weight = -4.760292<br>Particle 6; Weight = -16.612241<br>        ↳ resample_indices particle 6",
          "Token:    `<b> <</b>`<br>Context:   SELECT age, age, gender FROM data WHERE age>50 ORDER BY age DESC<br>Step 18; Avg weight = -7.089041<br>Particle 11; Weight = -8.398576<br>        ↳ resample_indices particle 6",
          "Token:    `<b>></b>`<br>Context:   SELECT age, age, gender FROM data WHERE age>50 ORDER BY age ASC </s<br>Step 19; Avg weight = -7.178617<br>Particle 6; Weight = -7.091696<br>        ↳ resample_indices particle 6",
          "Token:    `<b>▪</b>`<br>Context:   SELECT age, age, gender FROM data WHERE age>50 ORDER BY age ASC </s><br>Step 20; Avg weight = -12.008721<br>Particle 6; Weight = -11.930188<br>        ↳ resample_indices particle 6",
          "Token:    `<b>▪</b>`<br>Context:   SELECT age, age, gender FROM data WHERE age>50 ORDER BY age ASC </s><br>Step 21; Avg weight = -12.009044<br>Particle 6; Weight = -11.930188<br>        ↳ resample_indices particle 6",
          "Token:    `<b>▪</b>`<br>Context:   SELECT age, age, gender FROM data WHERE age>50 ORDER BY age ASC </s><br>Step 22; Avg weight = -12.017148<br>Particle 6; Weight = -11.930188<br>        ↳ resample_indices particle 6"
         ],
         "marker": {
          "color": "rgb(115.9090909090909, 68.18181818181819, 139.0909090909091)",
          "opacity": 0.15,
          "size": [
           14.14213562373095,
           13.891126090421569,
           14.621604203634892,
           15.734769497182448,
           16.537643236482868,
           17.173944493489532,
           17.307707055561362,
           17.680052985127126,
           18.929261470665814,
           19.604643942022555,
           21.417966330970216,
           17.28749003555135,
           0.7286804009372672,
           23.218160896132943,
           23.218160896132943,
           14.676716739295912,
           4.313991165475976,
           0.03774826308052713,
           7.347729099142625,
           14.770311111243538,
           14.708490989826693,
           14.71087305688561,
           14.770599395992788
          ]
         },
         "mode": "markers+text",
         "showlegend": false,
         "text": [
          " SELECT",
          " vote",
          ",",
          " zip",
          "code",
          ",",
          " age",
          " FROM",
          " data",
          " ORDER",
          " BY",
          "50",
          "▪",
          " age",
          " age",
          " ASC",
          " ",
          "<",
          " <",
          ">",
          "▪",
          "▪",
          "▪"
         ],
         "type": "scatter",
         "x": [
          1,
          2,
          3,
          4,
          5,
          6,
          7,
          8,
          9,
          10,
          11,
          12,
          12,
          12,
          12,
          13,
          15,
          16,
          18,
          19,
          20,
          21,
          22
         ],
         "y": [
          6,
          6,
          6,
          6,
          6,
          6,
          6,
          6,
          6,
          6,
          6,
          4,
          5,
          6,
          7,
          6,
          6,
          6,
          11,
          6,
          6,
          6,
          6
         ]
        },
        {
         "hoverinfo": "text",
         "hovertext": [
          "Token:    `<b> SELECT</b>`<br>Context:  <br>Step 1; Avg weight = -0.203624<br>Particle 7; Weight = -0.203624<br>",
          "Token:    `<b> vote</b>`<br>Context:   SELECT<br>Step 2; Avg weight = -0.752665<br>Particle 7; Weight = -0.788482<br>        ↳ resample_indices particle 7",
          "Token:    `<b>,</b>`<br>Context:   SELECT vote<br>Step 3; Avg weight = -0.907984<br>Particle 7; Weight = -0.841301<br>        ↳ resample_indices particle 7",
          "Token:    `<b> zip</b>`<br>Context:   SELECT vote,<br>Step 4; Avg weight = -1.142763<br>Particle 7; Weight = -0.929335<br>        ↳ resample_indices particle 7",
          "Token:    `<b>code</b>`<br>Context:   SELECT vote, zip<br>Step 5; Avg weight = -1.242839<br>Particle 7; Weight = -0.929878<br>        ↳ resample_indices particle 7",
          "Token:    `<b>,</b>`<br>Context:   SELECT vote, zipcode<br>Step 6; Avg weight = -1.324834<br>Particle 7; Weight = -0.936365<br>        ↳ resample_indices particle 7",
          "Token:    `<b> age</b>`<br>Context:   SELECT vote, zipcode,<br>Step 7; Avg weight = -1.460656<br>Particle 7; Weight = -1.056670<br>        ↳ resample_indices particle 7",
          "Token:    `<b> FROM</b>`<br>Context:   SELECT vote, zipcode, age<br>Step 8; Avg weight = -1.541746<br>Particle 7; Weight = -1.095189<br>        ↳ resample_indices particle 7",
          "Token:    `<b> data</b>`<br>Context:   SELECT vote, zipcode, age FROM<br>Step 9; Avg weight = -1.819899<br>Particle 7; Weight = -1.236798<br>        ↳ resample_indices particle 7",
          "Token:    `<b> ORDER</b>`<br>Context:   SELECT vote, zipcode, age FROM data<br>Step 10; Avg weight = -1.963044<br>Particle 7; Weight = -1.309828<br>        ↳ resample_indices particle 7",
          "Token:    `<b> BY</b>`<br>Context:   SELECT vote, zipcode, age FROM data ORDER<br>Step 11; Avg weight = -2.140760<br>Particle 7; Weight = -1.310617<br>        ↳ resample_indices particle 7",
          "Token:    `<b>C</b>`<br>Context:   SELECT age, zipcode FROM data ORDER BY age DES<br>Step 12; Avg weight = -2.405342<br>Particle 8; Weight = -2.078162<br>        ↳ resample_indices particle 7",
          "Token:    `<b> BY</b>`<br>Context:   SELECT age, year, age FROM data ORDER<br>Step 12; Avg weight = -2.405342<br>Particle 9; Weight = -21.514576<br>        ↳ resample_indices particle 7",
          "Token:    `<b>▪</b>`<br>Context:   SELECT age FROM data WHERE age>50 </s><br>Step 12; Avg weight = -2.405342<br>Particle 10; Weight = -8.171637<br>        ↳ resample_indices particle 7",
          "Token:    `<b> ASC</b>`<br>Context:   SELECT vote, zipcode, age FROM data ORDER BY age<br>Step 13; Avg weight = -3.071397<br>Particle 7; Weight = -2.997190<br>        ↳ resample_indices particle 7",
          "Token:    `<b> <</b>`<br>Context:   SELECT vote, zipcode, age FROM data ORDER BY age ASC<br>Step 14; Avg weight = -3.840961<br>Particle 9; Weight = -4.223872<br>        ↳ resample_indices particle 7",
          "Token:    `<b> <</b>`<br>Context:   SELECT vote, zipcode, age FROM data ORDER BY age DESC<br>Step 15; Avg weight = -4.408953<br>Particle 7; Weight = -6.783543<br>        ↳ resample_indices particle 7",
          "Token:    `<b>/</b>`<br>Context:   SELECT vote, zipcode, age FROM data ORDER BY age DESC <<br>Step 16; Avg weight = -4.760292<br>Particle 7; Weight = -14.235232<br>        ↳ resample_indices particle 7",
          "Token:    `<b>></b>`<br>Context:   SELECT age, age, gender FROM data WHERE age>50 ORDER BY age ASC </s<br>Step 19; Avg weight = -7.178617<br>Particle 7; Weight = -7.091696<br>        ↳ resample_indices particle 7",
          "Token:    `<b>▪</b>`<br>Context:   SELECT age, age, gender FROM data WHERE age>50 ORDER BY age ASC </s><br>Step 20; Avg weight = -12.008721<br>Particle 7; Weight = -11.930188<br>        ↳ resample_indices particle 7",
          "Token:    `<b>▪</b>`<br>Context:   SELECT age, age, gender FROM data WHERE age>50 ORDER BY age ASC </s><br>Step 21; Avg weight = -12.009044<br>Particle 7; Weight = -11.930188<br>        ↳ resample_indices particle 7",
          "Token:    `<b>▪</b>`<br>Context:   SELECT age, age, gender FROM data WHERE age>50 ORDER BY age ASC </s><br>Step 22; Avg weight = -12.017148<br>Particle 7; Weight = -11.930188<br>        ↳ resample_indices particle 7"
         ],
         "marker": {
          "color": "rgb(92.72727272727272, 79.54545454545455, 162.27272727272728)",
          "opacity": 0.15,
          "size": [
           14.14213562373095,
           13.891126090421569,
           14.621604203634892,
           15.734769497182448,
           16.537643236482868,
           17.173944493489532,
           17.307707055561362,
           17.680052985127126,
           18.929261470665814,
           19.604643942022555,
           21.417966330970216,
           16.655638986140993,
           0.0010022993869808487,
           0.7913705040050026,
           14.676716739295912,
           11.67795515409499,
           4.313991165475976,
           0.12389621361201775,
           14.770311111243538,
           14.708490989826693,
           14.71087305688561,
           14.770599395992788
          ]
         },
         "mode": "markers+text",
         "showlegend": false,
         "text": [
          " SELECT",
          " vote",
          ",",
          " zip",
          "code",
          ",",
          " age",
          " FROM",
          " data",
          " ORDER",
          " BY",
          "C",
          " BY",
          "▪",
          " ASC",
          " <",
          " <",
          "/",
          ">",
          "▪",
          "▪",
          "▪"
         ],
         "type": "scatter",
         "x": [
          1,
          2,
          3,
          4,
          5,
          6,
          7,
          8,
          9,
          10,
          11,
          12,
          12,
          12,
          13,
          14,
          15,
          16,
          19,
          20,
          21,
          22
         ],
         "y": [
          7,
          7,
          7,
          7,
          7,
          7,
          7,
          7,
          7,
          7,
          7,
          8,
          9,
          10,
          7,
          9,
          7,
          7,
          7,
          7,
          7,
          7
         ]
        },
        {
         "hoverinfo": "text",
         "hovertext": [
          "Token:    `<b> SELECT</b>`<br>Context:  <br>Step 1; Avg weight = -0.203624<br>Particle 8; Weight = -0.203624<br>",
          "Token:    `<b> age</b>`<br>Context:   SELECT<br>Step 2; Avg weight = -0.752665<br>Particle 8; Weight = -0.718087<br>        ↳ resample_indices particle 8",
          "Token:    `<b>,</b>`<br>Context:   SELECT age<br>Step 3; Avg weight = -0.907984<br>Particle 8; Weight = -0.743442<br>        ↳ resample_indices particle 8",
          "Token:    `<b> zip</b>`<br>Context:   SELECT age,<br>Step 4; Avg weight = -1.142763<br>Particle 8; Weight = -0.954768<br>        ↳ resample_indices particle 8",
          "Token:    `<b>code</b>`<br>Context:   SELECT age, zip<br>Step 5; Avg weight = -1.242839<br>Particle 8; Weight = -0.955642<br>        ↳ resample_indices particle 8",
          "Token:    `<b> FROM</b>`<br>Context:   SELECT age, zipcode<br>Step 6; Avg weight = -1.324834<br>Particle 8; Weight = -1.019629<br>        ↳ resample_indices particle 8",
          "Token:    `<b> data</b>`<br>Context:   SELECT age, zipcode FROM<br>Step 7; Avg weight = -1.460656<br>Particle 8; Weight = -1.178353<br>        ↳ resample_indices particle 8",
          "Token:    `<b> ORDER</b>`<br>Context:   SELECT age, zipcode FROM data<br>Step 8; Avg weight = -1.541746<br>Particle 8; Weight = -1.294237<br>        ↳ resample_indices particle 8",
          "Token:    `<b> BY</b>`<br>Context:   SELECT age, zipcode FROM data ORDER<br>Step 9; Avg weight = -1.819899<br>Particle 8; Weight = -1.295081<br>        ↳ resample_indices particle 8",
          "Token:    `<b> age</b>`<br>Context:   SELECT age, zipcode FROM data ORDER BY<br>Step 10; Avg weight = -1.963044<br>Particle 8; Weight = -1.387990<br>        ↳ resample_indices particle 8",
          "Token:    `<b> DES</b>`<br>Context:   SELECT age, zipcode FROM data ORDER BY age<br>Step 11; Avg weight = -2.140760<br>Particle 8; Weight = -2.074597<br>        ↳ resample_indices particle 8",
          "Token:    `<b>/</b>`<br>Context:   SELECT age, gender FROM data ORDER BY gender ASC <<br>Step 12; Avg weight = -2.405342<br>Particle 11; Weight = -9.618351<br>        ↳ resample_indices particle 8",
          "Token:    `<b> ASC</b>`<br>Context:   SELECT vote, zipcode, age FROM data ORDER BY age<br>Step 13; Avg weight = -3.071397<br>Particle 8; Weight = -2.997190<br>        ↳ resample_indices particle 8",
          "Token:    `<b> </</b>`<br>Context:   SELECT vote, zipcode, age FROM data ORDER BY age ASC<br>Step 14; Avg weight = -3.840961<br>Particle 10; Weight = -4.223872<br>        ↳ resample_indices particle 8",
          "Token:    `<b>s</b>`<br>Context:   SELECT age, zipcode FROM data ORDER BY age DESC </<br>Step 14; Avg weight = -3.840961<br>Particle 11; Weight = -5.434245<br>        ↳ resample_indices particle 8",
          "Token:    `<b>s</b>`<br>Context:   SELECT vote, zipcode, age FROM data ORDER BY age ASC </<br>Step 15; Avg weight = -4.408953<br>Particle 8; Weight = -3.841608<br>        ↳ resample_indices particle 8",
          "Token:    `<b>></b>`<br>Context:   SELECT vote, zipcode, age FROM data ORDER BY age ASC </s<br>Step 16; Avg weight = -4.760292<br>Particle 8; Weight = -3.844359<br>        ↳ resample_indices particle 8",
          "Token:    `<b>></b>`<br>Context:   SELECT age, age, gender FROM data WHERE age>50 ORDER BY age ASC </s<br>Step 19; Avg weight = -7.178617<br>Particle 8; Weight = -7.091696<br>        ↳ resample_indices particle 8",
          "Token:    `<b>▪</b>`<br>Context:   SELECT age, age, gender FROM data WHERE age>50 ORDER BY age ASC </s><br>Step 20; Avg weight = -12.008721<br>Particle 8; Weight = -11.930188<br>        ↳ resample_indices particle 8",
          "Token:    `<b>▪</b>`<br>Context:   SELECT age, age, gender FROM data WHERE age>50 ORDER BY age ASC </s><br>Step 21; Avg weight = -12.009044<br>Particle 8; Weight = -11.930188<br>        ↳ resample_indices particle 8",
          "Token:    `<b>▪</b>`<br>Context:   SELECT age, age, gender FROM data WHERE age>50 ORDER BY age ASC </s><br>Step 22; Avg weight = -12.017148<br>Particle 8; Weight = -11.930188<br>        ↳ resample_indices particle 8"
         ],
         "marker": {
          "color": "rgb(69.54545454545453, 90.9090909090909, 185.45454545454547)",
          "opacity": 0.15,
          "size": [
           14.14213562373095,
           14.388767005550173,
           15.354821920776637,
           15.535946076359007,
           16.32597244491667,
           16.473636155820586,
           16.286071571335345,
           16.00519172981639,
           18.385600653251924,
           18.8532504546295,
           14.617804922646165,
           0.3839104896044325,
           14.676716739295912,
           11.67795515409499,
           6.375844538445905,
           18.780731327966553,
           22.35668653029218,
           14.770311111243538,
           14.708490989826693,
           14.71087305688561,
           14.770599395992788
          ]
         },
         "mode": "markers+text",
         "showlegend": false,
         "text": [
          " SELECT",
          " age",
          ",",
          " zip",
          "code",
          " FROM",
          " data",
          " ORDER",
          " BY",
          " age",
          " DES",
          "/",
          " ASC",
          " </",
          "s",
          "s",
          ">",
          ">",
          "▪",
          "▪",
          "▪"
         ],
         "type": "scatter",
         "x": [
          1,
          2,
          3,
          4,
          5,
          6,
          7,
          8,
          9,
          10,
          11,
          12,
          13,
          14,
          14,
          15,
          16,
          19,
          20,
          21,
          22
         ],
         "y": [
          8,
          8,
          8,
          8,
          8,
          8,
          8,
          8,
          8,
          8,
          8,
          11,
          8,
          10,
          11,
          8,
          8,
          8,
          8,
          8,
          8
         ]
        },
        {
         "hoverinfo": "text",
         "hovertext": [
          "Token:    `<b> SELECT</b>`<br>Context:  <br>Step 1; Avg weight = -0.203624<br>Particle 9; Weight = -0.203624<br>",
          "Token:    `<b> age</b>`<br>Context:   SELECT<br>Step 2; Avg weight = -0.752665<br>Particle 9; Weight = -0.718087<br>        ↳ resample_indices particle 9",
          "Token:    `<b>,</b>`<br>Context:   SELECT age<br>Step 3; Avg weight = -0.907984<br>Particle 9; Weight = -0.743442<br>        ↳ resample_indices particle 9",
          "Token:    `<b> y</b>`<br>Context:   SELECT age,<br>Step 4; Avg weight = -1.142763<br>Particle 9; Weight = -1.624270<br>        ↳ resample_indices particle 9",
          "Token:    `<b>e</b>`<br>Context:   SELECT age, y<br>Step 5; Avg weight = -1.242839<br>Particle 9; Weight = -10.130509<br>        ↳ resample_indices particle 9",
          "Token:    `<b>ar</b>`<br>Context:   SELECT age, ye<br>Step 6; Avg weight = -1.324834<br>Particle 9; Weight = -19.407412<br>        ↳ resample_indices particle 9",
          "Token:    `<b>,</b>`<br>Context:   SELECT age, year<br>Step 7; Avg weight = -1.460656<br>Particle 9; Weight = -19.930022<br>        ↳ resample_indices particle 9",
          "Token:    `<b> age</b>`<br>Context:   SELECT age, year,<br>Step 8; Avg weight = -1.541746<br>Particle 9; Weight = -20.712920<br>        ↳ resample_indices particle 9",
          "Token:    `<b> FROM</b>`<br>Context:   SELECT age, year, age<br>Step 9; Avg weight = -1.819899<br>Particle 9; Weight = -21.004871<br>        ↳ resample_indices particle 9",
          "Token:    `<b> data</b>`<br>Context:   SELECT age, year, age FROM<br>Step 10; Avg weight = -1.963044<br>Particle 9; Weight = -21.323640<br>        ↳ resample_indices particle 9",
          "Token:    `<b> ORDER</b>`<br>Context:   SELECT age, year, age FROM data<br>Step 11; Avg weight = -2.140760<br>Particle 9; Weight = -21.512586<br>        ↳ resample_indices particle 9",
          "Token:    `<b> ASC</b>`<br>Context:   SELECT vote, zipcode, age FROM data ORDER BY age<br>Step 13; Avg weight = -3.071397<br>Particle 9; Weight = -2.997190<br>        ↳ resample_indices particle 9",
          "Token:    `<b>s</b>`<br>Context:   SELECT vote, zipcode, age FROM data ORDER BY age ASC </<br>Step 15; Avg weight = -4.408953<br>Particle 9; Weight = -3.841608<br>        ↳ resample_indices particle 9",
          "Token:    `<b>></b>`<br>Context:   SELECT vote, zipcode, age FROM data ORDER BY age ASC </s<br>Step 16; Avg weight = -4.760292<br>Particle 9; Weight = -3.844359<br>        ↳ resample_indices particle 9",
          "Token:    `<b>></b>`<br>Context:   SELECT age, age, gender FROM data WHERE age>50 ORDER BY age ASC </s<br>Step 19; Avg weight = -7.178617<br>Particle 9; Weight = -7.091696<br>        ↳ resample_indices particle 9",
          "Token:    `<b>▪</b>`<br>Context:   SELECT age, age, gender FROM data WHERE age>50 ORDER BY age ASC </s><br>Step 20; Avg weight = -12.008721<br>Particle 9; Weight = -11.930188<br>        ↳ resample_indices particle 9",
          "Token:    `<b>▪</b>`<br>Context:   SELECT age, age, gender FROM data WHERE age>50 ORDER BY age ASC </s><br>Step 21; Avg weight = -12.009044<br>Particle 9; Weight = -11.930188<br>        ↳ resample_indices particle 9",
          "Token:    `<b>▪</b>`<br>Context:   SELECT age, age, gender FROM data WHERE age>50 ORDER BY age ASC </s><br>Step 22; Avg weight = -12.017148<br>Particle 9; Weight = -11.930188<br>        ↳ resample_indices particle 9"
         ],
         "marker": {
          "color": "rgb(46.363636363636346, 102.27272727272727, 208.63636363636365)",
          "opacity": 0.15,
          "size": [
           14.14213562373095,
           14.388767005550173,
           15.354821920776637,
           11.116217711954775,
           0.16618126960298088,
           0.0016746851513831501,
           0.00138020350302959,
           0.0009717338456734539,
           0.00096505328965292,
           0.0008839241052115317,
           0.0008789747307054695,
           14.676716739295912,
           18.780731327966553,
           22.35668653029218,
           14.770311111243538,
           14.708490989826693,
           14.71087305688561,
           14.770599395992788
          ]
         },
         "mode": "markers+text",
         "showlegend": false,
         "text": [
          " SELECT",
          " age",
          ",",
          " y",
          "e",
          "ar",
          ",",
          " age",
          " FROM",
          " data",
          " ORDER",
          " ASC",
          "s",
          ">",
          ">",
          "▪",
          "▪",
          "▪"
         ],
         "type": "scatter",
         "x": [
          1,
          2,
          3,
          4,
          5,
          6,
          7,
          8,
          9,
          10,
          11,
          13,
          15,
          16,
          19,
          20,
          21,
          22
         ],
         "y": [
          9,
          9,
          9,
          9,
          9,
          9,
          9,
          9,
          9,
          9,
          9,
          9,
          9,
          9,
          9,
          9,
          9,
          9
         ]
        },
        {
         "hoverinfo": "text",
         "hovertext": [
          "Token:    `<b> SELECT</b>`<br>Context:  <br>Step 1; Avg weight = -0.203624<br>Particle 10; Weight = -0.203624<br>",
          "Token:    `<b> age</b>`<br>Context:   SELECT<br>Step 2; Avg weight = -0.752665<br>Particle 10; Weight = -0.718087<br>        ↳ resample_indices particle 10",
          "Token:    `<b> FROM</b>`<br>Context:   SELECT age<br>Step 3; Avg weight = -0.907984<br>Particle 10; Weight = -0.953954<br>        ↳ resample_indices particle 10",
          "Token:    `<b> data</b>`<br>Context:   SELECT age FROM<br>Step 4; Avg weight = -1.142763<br>Particle 10; Weight = -1.315187<br>        ↳ resample_indices particle 10",
          "Token:    `<b> WHERE</b>`<br>Context:   SELECT age FROM data<br>Step 5; Avg weight = -1.242839<br>Particle 10; Weight = -1.456953<br>        ↳ resample_indices particle 10",
          "Token:    `<b> age</b>`<br>Context:   SELECT age FROM data WHERE<br>Step 6; Avg weight = -1.324834<br>Particle 10; Weight = -1.599787<br>        ↳ resample_indices particle 10",
          "Token:    `<b>></b>`<br>Context:   SELECT age FROM data WHERE age<br>Step 7; Avg weight = -1.460656<br>Particle 10; Weight = -1.968732<br>        ↳ resample_indices particle 10",
          "Token:    `<b>50</b>`<br>Context:   SELECT age FROM data WHERE age><br>Step 8; Avg weight = -1.541746<br>Particle 10; Weight = -1.985283<br>        ↳ resample_indices particle 10",
          "Token:    `<b> </</b>`<br>Context:   SELECT age FROM data WHERE age>50<br>Step 9; Avg weight = -1.819899<br>Particle 10; Weight = -2.870557<br>        ↳ resample_indices particle 10",
          "Token:    `<b>s</b>`<br>Context:   SELECT age FROM data WHERE age>50 </<br>Step 10; Avg weight = -1.963044<br>Particle 10; Weight = -2.876539<br>        ↳ resample_indices particle 10",
          "Token:    `<b>></b>`<br>Context:   SELECT age FROM data WHERE age>50 </s<br>Step 11; Avg weight = -2.140760<br>Particle 10; Weight = -2.881987<br>        ↳ resample_indices particle 10",
          "Token:    `<b> ASC</b>`<br>Context:   SELECT vote, zipcode, age FROM data ORDER BY age<br>Step 13; Avg weight = -3.071397<br>Particle 10; Weight = -2.997190<br>        ↳ resample_indices particle 10",
          "Token:    `<b></</b>`<br>Context:   SELECT vote, zipcode, age FROM data ORDER BY age ASC <br>Step 15; Avg weight = -4.408953<br>Particle 10; Weight = -11.843787<br>        ↳ resample_indices particle 10",
          "Token:    `<b>s</b>`<br>Context:   SELECT vote, zipcode, age FROM data ORDER BY age ASC </<br>Step 16; Avg weight = -4.760292<br>Particle 10; Weight = -11.862785<br>        ↳ resample_indices particle 10",
          "Token:    `<b>></b>`<br>Context:   SELECT age, age, gender FROM data WHERE age>50 ORDER BY age ASC </s<br>Step 19; Avg weight = -7.178617<br>Particle 10; Weight = -7.091696<br>        ↳ resample_indices particle 10",
          "Token:    `<b>▪</b>`<br>Context:   SELECT age, age, gender FROM data WHERE age>50 ORDER BY age ASC </s><br>Step 20; Avg weight = -12.008721<br>Particle 10; Weight = -11.930188<br>        ↳ resample_indices particle 10",
          "Token:    `<b>▪</b>`<br>Context:   SELECT age, age, gender FROM data WHERE age>50 ORDER BY age ASC </s><br>Step 21; Avg weight = -12.009044<br>Particle 10; Weight = -11.930188<br>        ↳ resample_indices particle 10",
          "Token:    `<b>▪</b>`<br>Context:   SELECT age, age, gender FROM data WHERE age>50 ORDER BY age ASC </s><br>Step 22; Avg weight = -12.017148<br>Particle 10; Weight = -11.930188<br>        ↳ resample_indices particle 10"
         ],
         "marker": {
          "color": "rgb(23.18181818181816, 113.63636363636363, 231.81818181818184)",
          "opacity": 0.15,
          "size": [
           14.14213562373095,
           14.388767005550173,
           13.820782693490973,
           12.973989668578506,
           12.706345708049781,
           12.325647351874421,
           10.969521248555173,
           11.329276382936778,
           8.363104580375108,
           8.95678178940341,
           9.76246710702456,
           14.676716739295912,
           0.343606380850918,
           0.4057217971712954,
           14.770311111243538,
           14.708490989826693,
           14.71087305688561,
           14.770599395992788
          ]
         },
         "mode": "markers+text",
         "showlegend": false,
         "text": [
          " SELECT",
          " age",
          " FROM",
          " data",
          " WHERE",
          " age",
          ">",
          "50",
          " </",
          "s",
          ">",
          " ASC",
          "</",
          "s",
          ">",
          "▪",
          "▪",
          "▪"
         ],
         "type": "scatter",
         "x": [
          1,
          2,
          3,
          4,
          5,
          6,
          7,
          8,
          9,
          10,
          11,
          13,
          15,
          16,
          19,
          20,
          21,
          22
         ],
         "y": [
          10,
          10,
          10,
          10,
          10,
          10,
          10,
          10,
          10,
          10,
          10,
          10,
          10,
          10,
          10,
          10,
          10,
          10
         ]
        },
        {
         "hoverinfo": "text",
         "hovertext": [
          "Token:    `<b> SELECT</b>`<br>Context:  <br>Step 1; Avg weight = -0.203624<br>Particle 11; Weight = -0.203624<br>",
          "Token:    `<b> age</b>`<br>Context:   SELECT<br>Step 2; Avg weight = -0.752665<br>Particle 11; Weight = -0.718087<br>        ↳ resample_indices particle 11",
          "Token:    `<b>,</b>`<br>Context:   SELECT age<br>Step 3; Avg weight = -0.907984<br>Particle 11; Weight = -0.743442<br>        ↳ resample_indices particle 11",
          "Token:    `<b> gender</b>`<br>Context:   SELECT age,<br>Step 4; Avg weight = -1.142763<br>Particle 11; Weight = -0.973622<br>        ↳ resample_indices particle 11",
          "Token:    `<b> FROM</b>`<br>Context:   SELECT age, gender<br>Step 5; Avg weight = -1.242839<br>Particle 11; Weight = -1.014053<br>        ↳ resample_indices particle 11",
          "Token:    `<b> data</b>`<br>Context:   SELECT age, gender FROM<br>Step 6; Avg weight = -1.324834<br>Particle 11; Weight = -1.161194<br>        ↳ resample_indices particle 11",
          "Token:    `<b> ORDER</b>`<br>Context:   SELECT age, gender FROM data<br>Step 7; Avg weight = -1.460656<br>Particle 11; Weight = -1.261968<br>        ↳ resample_indices particle 11",
          "Token:    `<b> BY</b>`<br>Context:   SELECT age, gender FROM data ORDER<br>Step 8; Avg weight = -1.541746<br>Particle 11; Weight = -1.262784<br>        ↳ resample_indices particle 11",
          "Token:    `<b> gender</b>`<br>Context:   SELECT age, gender FROM data ORDER BY<br>Step 9; Avg weight = -1.819899<br>Particle 11; Weight = -1.348522<br>        ↳ resample_indices particle 11",
          "Token:    `<b> ASC</b>`<br>Context:   SELECT age, gender FROM data ORDER BY gender<br>Step 10; Avg weight = -1.963044<br>Particle 11; Weight = -1.786024<br>        ↳ resample_indices particle 11",
          "Token:    `<b> <</b>`<br>Context:   SELECT age, gender FROM data ORDER BY gender ASC<br>Step 11; Avg weight = -2.140760<br>Particle 11; Weight = -2.712492<br>        ↳ resample_indices particle 11",
          "Token:    `<b> </</b>`<br>Context:   SELECT age, zipcode FROM data ORDER BY age DESC<br>Step 13; Avg weight = -3.071397<br>Particle 11; Weight = -5.432908<br>        ↳ resample_indices particle 11",
          "Token:    `<b><</b>`<br>Context:   SELECT vote, zipcode, age FROM data ORDER BY age ASC <br>Step 15; Avg weight = -4.408953<br>Particle 11; Weight = -11.843787<br>        ↳ resample_indices particle 11",
          "Token:    `<b>/</b>`<br>Context:   SELECT vote, zipcode, age FROM data ORDER BY age ASC <<br>Step 16; Avg weight = -4.760292<br>Particle 11; Weight = -18.358925<br>        ↳ resample_indices particle 11",
          "Token:    `<b>/</b>`<br>Context:   SELECT age, age, gender FROM data WHERE age>50 ORDER BY age DESC <<br>Step 19; Avg weight = -7.178617<br>Particle 11; Weight = -14.004763<br>        ↳ resample_indices particle 11",
          "Token:    `<b>s</b>`<br>Context:   SELECT age, age, gender FROM data WHERE age>50 ORDER BY age DESC </<br>Step 20; Avg weight = -12.008721<br>Particle 11; Weight = -14.298230<br>        ↳ resample_indices particle 11",
          "Token:    `<b>></b>`<br>Context:   SELECT age, age, gender FROM data WHERE age>50 ORDER BY age DESC </s<br>Step 21; Avg weight = -12.009044<br>Particle 11; Weight = -14.337340<br>        ↳ resample_indices particle 11",
          "Token:    `<b>▪</b>`<br>Context:   SELECT age, age, gender FROM data WHERE age>50 ORDER BY age DESC </s><br>Step 22; Avg weight = -12.017148<br>Particle 11; Weight = -19.408371<br>        ↳ resample_indices particle 11"
         ],
         "marker": {
          "color": "rgb(0.0, 125.0, 255.0)",
          "opacity": 0.15,
          "size": [
           14.14213562373095,
           14.388767005550173,
           15.354821920776637,
           15.390172363850736,
           15.856061875110566,
           15.34790267583582,
           15.61923030999385,
           16.258881651620435,
           17.900832540528,
           15.450916445259239,
           10.625881168526808,
           4.3422966550530955,
           0.343606380850918,
           0.015761934237666513,
           0.46583950866551393,
           4.50146874076151,
           4.41501448991555,
           0.3511813122456466
          ]
         },
         "mode": "markers+text",
         "showlegend": false,
         "text": [
          " SELECT",
          " age",
          ",",
          " gender",
          " FROM",
          " data",
          " ORDER",
          " BY",
          " gender",
          " ASC",
          " <",
          " </",
          "<",
          "/",
          "/",
          "s",
          ">",
          "▪"
         ],
         "type": "scatter",
         "x": [
          1,
          2,
          3,
          4,
          5,
          6,
          7,
          8,
          9,
          10,
          11,
          13,
          15,
          16,
          19,
          20,
          21,
          22
         ],
         "y": [
          11,
          11,
          11,
          11,
          11,
          11,
          11,
          11,
          11,
          11,
          11,
          11,
          11,
          11,
          11,
          11,
          11,
          11
         ]
        },
        {
         "line": {
          "color": "rgb(255.0, 0.0, 0.0)"
         },
         "mode": "lines",
         "name": "0",
         "opacity": 0.2,
         "showlegend": false,
         "type": "scatter",
         "x": [
          1,
          2
         ],
         "y": [
          0,
          0
         ]
        },
        {
         "line": {
          "color": "rgb(255.0, 0.0, 0.0)"
         },
         "mode": "lines",
         "name": "0",
         "opacity": 0.2,
         "showlegend": false,
         "type": "scatter",
         "x": [
          2,
          3
         ],
         "y": [
          0,
          0
         ]
        },
        {
         "line": {
          "color": "rgb(255.0, 0.0, 0.0)"
         },
         "mode": "lines",
         "name": "0",
         "opacity": 0.2,
         "showlegend": false,
         "type": "scatter",
         "x": [
          3,
          4
         ],
         "y": [
          0,
          0
         ]
        },
        {
         "line": {
          "color": "rgb(255.0, 0.0, 0.0)"
         },
         "mode": "lines",
         "name": "0",
         "opacity": 0.2,
         "showlegend": false,
         "type": "scatter",
         "x": [
          4,
          5
         ],
         "y": [
          0,
          0
         ]
        },
        {
         "line": {
          "color": "rgb(255.0, 0.0, 0.0)"
         },
         "mode": "lines",
         "name": "0",
         "opacity": 0.2,
         "showlegend": false,
         "type": "scatter",
         "x": [
          5,
          6
         ],
         "y": [
          0,
          0
         ]
        },
        {
         "line": {
          "color": "rgb(255.0, 0.0, 0.0)"
         },
         "mode": "lines",
         "name": "0",
         "opacity": 0.2,
         "showlegend": false,
         "type": "scatter",
         "x": [
          6,
          7
         ],
         "y": [
          0,
          0
         ]
        },
        {
         "line": {
          "color": "rgb(255.0, 0.0, 0.0)"
         },
         "mode": "lines",
         "name": "0",
         "opacity": 0.2,
         "showlegend": false,
         "type": "scatter",
         "x": [
          7,
          8
         ],
         "y": [
          0,
          0
         ]
        },
        {
         "line": {
          "color": "rgb(255.0, 0.0, 0.0)"
         },
         "mode": "lines",
         "name": "0",
         "opacity": 0.2,
         "showlegend": false,
         "type": "scatter",
         "x": [
          8,
          9
         ],
         "y": [
          0,
          0
         ]
        },
        {
         "line": {
          "color": "rgb(255.0, 0.0, 0.0)"
         },
         "mode": "lines",
         "name": "0",
         "opacity": 0.2,
         "showlegend": false,
         "type": "scatter",
         "x": [
          9,
          10
         ],
         "y": [
          0,
          0
         ]
        },
        {
         "line": {
          "color": "rgb(255.0, 0.0, 0.0)"
         },
         "mode": "lines",
         "name": "0",
         "opacity": 0.2,
         "showlegend": false,
         "type": "scatter",
         "x": [
          10,
          11
         ],
         "y": [
          0,
          0
         ]
        },
        {
         "line": {
          "color": "rgb(255.0, 0.0, 0.0)"
         },
         "mode": "lines",
         "name": "0",
         "opacity": 0.2,
         "showlegend": false,
         "type": "scatter",
         "x": [
          11,
          12
         ],
         "y": [
          0,
          0
         ]
        },
        {
         "line": {
          "color": "rgb(255.0, 0.0, 0.0)"
         },
         "mode": "lines",
         "name": "0",
         "opacity": 0.2,
         "showlegend": false,
         "type": "scatter",
         "x": [
          13,
          14
         ],
         "y": [
          0,
          0
         ]
        },
        {
         "line": {
          "color": "rgb(255.0, 0.0, 0.0)"
         },
         "mode": "lines",
         "name": "0",
         "opacity": 0.2,
         "showlegend": false,
         "type": "scatter",
         "x": [
          15,
          16
         ],
         "y": [
          0,
          0
         ]
        },
        {
         "line": {
          "color": "rgb(255.0, 0.0, 0.0)"
         },
         "mode": "lines",
         "name": "0",
         "opacity": 0.2,
         "showlegend": false,
         "type": "scatter",
         "x": [
          16,
          17
         ],
         "y": [
          0,
          0
         ]
        },
        {
         "line": {
          "color": "rgb(255.0, 0.0, 0.0)"
         },
         "mode": "lines",
         "name": "0",
         "opacity": 0.2,
         "showlegend": false,
         "type": "scatter",
         "x": [
          17,
          18
         ],
         "y": [
          0,
          0
         ]
        },
        {
         "line": {
          "color": "rgb(255.0, 0.0, 0.0)"
         },
         "mode": "lines",
         "name": "0",
         "opacity": 0.2,
         "showlegend": false,
         "type": "scatter",
         "x": [
          18,
          19
         ],
         "y": [
          0,
          0
         ]
        },
        {
         "line": {
          "color": "rgb(255.0, 0.0, 0.0)"
         },
         "mode": "lines",
         "name": "0",
         "opacity": 0.2,
         "showlegend": false,
         "type": "scatter",
         "x": [
          18,
          19
         ],
         "y": [
          0,
          1
         ]
        },
        {
         "line": {
          "color": "rgb(255.0, 0.0, 0.0)"
         },
         "mode": "lines",
         "name": "0",
         "opacity": 0.2,
         "showlegend": false,
         "type": "scatter",
         "x": [
          18,
          19
         ],
         "y": [
          0,
          2
         ]
        },
        {
         "line": {
          "color": "rgb(255.0, 0.0, 0.0)"
         },
         "mode": "lines",
         "name": "0",
         "opacity": 0.2,
         "showlegend": false,
         "type": "scatter",
         "x": [
          18,
          19
         ],
         "y": [
          0,
          3
         ]
        },
        {
         "line": {
          "color": "rgb(255.0, 0.0, 0.0)"
         },
         "mode": "lines",
         "name": "0",
         "opacity": 0.2,
         "showlegend": false,
         "type": "scatter",
         "x": [
          18,
          19
         ],
         "y": [
          0,
          4
         ]
        },
        {
         "line": {
          "color": "rgb(255.0, 0.0, 0.0)"
         },
         "mode": "lines",
         "name": "0",
         "opacity": 0.2,
         "showlegend": false,
         "type": "scatter",
         "x": [
          18,
          19
         ],
         "y": [
          0,
          5
         ]
        },
        {
         "line": {
          "color": "rgb(255.0, 0.0, 0.0)"
         },
         "mode": "lines",
         "name": "0",
         "opacity": 0.2,
         "showlegend": false,
         "type": "scatter",
         "x": [
          19,
          20
         ],
         "y": [
          0,
          0
         ]
        },
        {
         "line": {
          "color": "rgb(255.0, 0.0, 0.0)"
         },
         "mode": "lines",
         "name": "0",
         "opacity": 0.2,
         "showlegend": false,
         "type": "scatter",
         "x": [
          20,
          21
         ],
         "y": [
          0,
          0
         ]
        },
        {
         "line": {
          "color": "rgb(255.0, 0.0, 0.0)"
         },
         "mode": "lines",
         "name": "0",
         "opacity": 0.2,
         "showlegend": false,
         "type": "scatter",
         "x": [
          21,
          22
         ],
         "y": [
          0,
          0
         ]
        },
        {
         "line": {
          "color": "rgb(255.0, 0.0, 0.0)"
         },
         "mode": "lines",
         "name": "0",
         "opacity": 0.2,
         "showlegend": false,
         "type": "scatter",
         "x": [
          22,
          23
         ],
         "y": [
          0,
          0
         ]
        },
        {
         "line": {
          "color": "rgb(231.8181818181818, 11.363636363636363, 23.181818181818183)"
         },
         "mode": "lines",
         "name": "1",
         "opacity": 0.2,
         "showlegend": false,
         "type": "scatter",
         "x": [
          1,
          2
         ],
         "y": [
          1,
          1
         ]
        },
        {
         "line": {
          "color": "rgb(231.8181818181818, 11.363636363636363, 23.181818181818183)"
         },
         "mode": "lines",
         "name": "1",
         "opacity": 0.2,
         "showlegend": false,
         "type": "scatter",
         "x": [
          2,
          3
         ],
         "y": [
          1,
          1
         ]
        },
        {
         "line": {
          "color": "rgb(231.8181818181818, 11.363636363636363, 23.181818181818183)"
         },
         "mode": "lines",
         "name": "1",
         "opacity": 0.2,
         "showlegend": false,
         "type": "scatter",
         "x": [
          3,
          4
         ],
         "y": [
          1,
          1
         ]
        },
        {
         "line": {
          "color": "rgb(231.8181818181818, 11.363636363636363, 23.181818181818183)"
         },
         "mode": "lines",
         "name": "1",
         "opacity": 0.2,
         "showlegend": false,
         "type": "scatter",
         "x": [
          4,
          5
         ],
         "y": [
          1,
          1
         ]
        },
        {
         "line": {
          "color": "rgb(231.8181818181818, 11.363636363636363, 23.181818181818183)"
         },
         "mode": "lines",
         "name": "1",
         "opacity": 0.2,
         "showlegend": false,
         "type": "scatter",
         "x": [
          5,
          6
         ],
         "y": [
          1,
          1
         ]
        },
        {
         "line": {
          "color": "rgb(231.8181818181818, 11.363636363636363, 23.181818181818183)"
         },
         "mode": "lines",
         "name": "1",
         "opacity": 0.2,
         "showlegend": false,
         "type": "scatter",
         "x": [
          6,
          7
         ],
         "y": [
          1,
          1
         ]
        },
        {
         "line": {
          "color": "rgb(231.8181818181818, 11.363636363636363, 23.181818181818183)"
         },
         "mode": "lines",
         "name": "1",
         "opacity": 0.2,
         "showlegend": false,
         "type": "scatter",
         "x": [
          7,
          8
         ],
         "y": [
          1,
          1
         ]
        },
        {
         "line": {
          "color": "rgb(231.8181818181818, 11.363636363636363, 23.181818181818183)"
         },
         "mode": "lines",
         "name": "1",
         "opacity": 0.2,
         "showlegend": false,
         "type": "scatter",
         "x": [
          8,
          9
         ],
         "y": [
          1,
          1
         ]
        },
        {
         "line": {
          "color": "rgb(231.8181818181818, 11.363636363636363, 23.181818181818183)"
         },
         "mode": "lines",
         "name": "1",
         "opacity": 0.2,
         "showlegend": false,
         "type": "scatter",
         "x": [
          9,
          10
         ],
         "y": [
          1,
          1
         ]
        },
        {
         "line": {
          "color": "rgb(231.8181818181818, 11.363636363636363, 23.181818181818183)"
         },
         "mode": "lines",
         "name": "1",
         "opacity": 0.2,
         "showlegend": false,
         "type": "scatter",
         "x": [
          10,
          11
         ],
         "y": [
          1,
          1
         ]
        },
        {
         "line": {
          "color": "rgb(231.8181818181818, 11.363636363636363, 23.181818181818183)"
         },
         "mode": "lines",
         "name": "1",
         "opacity": 0.2,
         "showlegend": false,
         "type": "scatter",
         "x": [
          11,
          12
         ],
         "y": [
          1,
          1
         ]
        },
        {
         "line": {
          "color": "rgb(231.8181818181818, 11.363636363636363, 23.181818181818183)"
         },
         "mode": "lines",
         "name": "1",
         "opacity": 0.2,
         "showlegend": false,
         "type": "scatter",
         "x": [
          13,
          14
         ],
         "y": [
          1,
          1
         ]
        },
        {
         "line": {
          "color": "rgb(231.8181818181818, 11.363636363636363, 23.181818181818183)"
         },
         "mode": "lines",
         "name": "1",
         "opacity": 0.2,
         "showlegend": false,
         "type": "scatter",
         "x": [
          15,
          16
         ],
         "y": [
          1,
          1
         ]
        },
        {
         "line": {
          "color": "rgb(231.8181818181818, 11.363636363636363, 23.181818181818183)"
         },
         "mode": "lines",
         "name": "1",
         "opacity": 0.2,
         "showlegend": false,
         "type": "scatter",
         "x": [
          16,
          17
         ],
         "y": [
          1,
          1
         ]
        },
        {
         "line": {
          "color": "rgb(231.8181818181818, 11.363636363636363, 23.181818181818183)"
         },
         "mode": "lines",
         "name": "1",
         "opacity": 0.2,
         "showlegend": false,
         "type": "scatter",
         "x": [
          17,
          18
         ],
         "y": [
          1,
          1
         ]
        },
        {
         "line": {
          "color": "rgb(231.8181818181818, 11.363636363636363, 23.181818181818183)"
         },
         "mode": "lines",
         "name": "1",
         "opacity": 0.2,
         "showlegend": false,
         "type": "scatter",
         "x": [
          17,
          18
         ],
         "y": [
          1,
          2
         ]
        },
        {
         "line": {
          "color": "rgb(231.8181818181818, 11.363636363636363, 23.181818181818183)"
         },
         "mode": "lines",
         "name": "1",
         "opacity": 0.2,
         "showlegend": false,
         "type": "scatter",
         "x": [
          17,
          18
         ],
         "y": [
          1,
          3
         ]
        },
        {
         "line": {
          "color": "rgb(231.8181818181818, 11.363636363636363, 23.181818181818183)"
         },
         "mode": "lines",
         "name": "1",
         "opacity": 0.2,
         "showlegend": false,
         "type": "scatter",
         "x": [
          19,
          20
         ],
         "y": [
          1,
          1
         ]
        },
        {
         "line": {
          "color": "rgb(231.8181818181818, 11.363636363636363, 23.181818181818183)"
         },
         "mode": "lines",
         "name": "1",
         "opacity": 0.2,
         "showlegend": false,
         "type": "scatter",
         "x": [
          20,
          21
         ],
         "y": [
          1,
          1
         ]
        },
        {
         "line": {
          "color": "rgb(231.8181818181818, 11.363636363636363, 23.181818181818183)"
         },
         "mode": "lines",
         "name": "1",
         "opacity": 0.2,
         "showlegend": false,
         "type": "scatter",
         "x": [
          21,
          22
         ],
         "y": [
          1,
          1
         ]
        },
        {
         "line": {
          "color": "rgb(231.8181818181818, 11.363636363636363, 23.181818181818183)"
         },
         "mode": "lines",
         "name": "1",
         "opacity": 0.2,
         "showlegend": false,
         "type": "scatter",
         "x": [
          22,
          23
         ],
         "y": [
          1,
          1
         ]
        },
        {
         "line": {
          "color": "rgb(208.63636363636363, 22.727272727272727, 46.36363636363637)"
         },
         "mode": "lines",
         "name": "2",
         "opacity": 0.2,
         "showlegend": false,
         "type": "scatter",
         "x": [
          1,
          2
         ],
         "y": [
          2,
          2
         ]
        },
        {
         "line": {
          "color": "rgb(208.63636363636363, 22.727272727272727, 46.36363636363637)"
         },
         "mode": "lines",
         "name": "2",
         "opacity": 0.2,
         "showlegend": false,
         "type": "scatter",
         "x": [
          2,
          3
         ],
         "y": [
          2,
          2
         ]
        },
        {
         "line": {
          "color": "rgb(208.63636363636363, 22.727272727272727, 46.36363636363637)"
         },
         "mode": "lines",
         "name": "2",
         "opacity": 0.2,
         "showlegend": false,
         "type": "scatter",
         "x": [
          3,
          4
         ],
         "y": [
          2,
          2
         ]
        },
        {
         "line": {
          "color": "rgb(208.63636363636363, 22.727272727272727, 46.36363636363637)"
         },
         "mode": "lines",
         "name": "2",
         "opacity": 0.2,
         "showlegend": false,
         "type": "scatter",
         "x": [
          4,
          5
         ],
         "y": [
          2,
          2
         ]
        },
        {
         "line": {
          "color": "rgb(208.63636363636363, 22.727272727272727, 46.36363636363637)"
         },
         "mode": "lines",
         "name": "2",
         "opacity": 0.2,
         "showlegend": false,
         "type": "scatter",
         "x": [
          5,
          6
         ],
         "y": [
          2,
          2
         ]
        },
        {
         "line": {
          "color": "rgb(208.63636363636363, 22.727272727272727, 46.36363636363637)"
         },
         "mode": "lines",
         "name": "2",
         "opacity": 0.2,
         "showlegend": false,
         "type": "scatter",
         "x": [
          6,
          7
         ],
         "y": [
          2,
          2
         ]
        },
        {
         "line": {
          "color": "rgb(208.63636363636363, 22.727272727272727, 46.36363636363637)"
         },
         "mode": "lines",
         "name": "2",
         "opacity": 0.2,
         "showlegend": false,
         "type": "scatter",
         "x": [
          7,
          8
         ],
         "y": [
          2,
          2
         ]
        },
        {
         "line": {
          "color": "rgb(208.63636363636363, 22.727272727272727, 46.36363636363637)"
         },
         "mode": "lines",
         "name": "2",
         "opacity": 0.2,
         "showlegend": false,
         "type": "scatter",
         "x": [
          8,
          9
         ],
         "y": [
          2,
          2
         ]
        },
        {
         "line": {
          "color": "rgb(208.63636363636363, 22.727272727272727, 46.36363636363637)"
         },
         "mode": "lines",
         "name": "2",
         "opacity": 0.2,
         "showlegend": false,
         "type": "scatter",
         "x": [
          9,
          10
         ],
         "y": [
          2,
          2
         ]
        },
        {
         "line": {
          "color": "rgb(208.63636363636363, 22.727272727272727, 46.36363636363637)"
         },
         "mode": "lines",
         "name": "2",
         "opacity": 0.2,
         "showlegend": false,
         "type": "scatter",
         "x": [
          10,
          11
         ],
         "y": [
          2,
          2
         ]
        },
        {
         "line": {
          "color": "rgb(208.63636363636363, 22.727272727272727, 46.36363636363637)"
         },
         "mode": "lines",
         "name": "2",
         "opacity": 0.2,
         "showlegend": false,
         "type": "scatter",
         "x": [
          11,
          12
         ],
         "y": [
          2,
          2
         ]
        },
        {
         "line": {
          "color": "rgb(208.63636363636363, 22.727272727272727, 46.36363636363637)"
         },
         "mode": "lines",
         "name": "2",
         "opacity": 0.2,
         "showlegend": false,
         "type": "scatter",
         "x": [
          13,
          14
         ],
         "y": [
          2,
          2
         ]
        },
        {
         "line": {
          "color": "rgb(208.63636363636363, 22.727272727272727, 46.36363636363637)"
         },
         "mode": "lines",
         "name": "2",
         "opacity": 0.2,
         "showlegend": false,
         "type": "scatter",
         "x": [
          14,
          15
         ],
         "y": [
          2,
          0
         ]
        },
        {
         "line": {
          "color": "rgb(208.63636363636363, 22.727272727272727, 46.36363636363637)"
         },
         "mode": "lines",
         "name": "2",
         "opacity": 0.2,
         "showlegend": false,
         "type": "scatter",
         "x": [
          14,
          15
         ],
         "y": [
          2,
          1
         ]
        },
        {
         "line": {
          "color": "rgb(208.63636363636363, 22.727272727272727, 46.36363636363637)"
         },
         "mode": "lines",
         "name": "2",
         "opacity": 0.2,
         "showlegend": false,
         "type": "scatter",
         "x": [
          14,
          15
         ],
         "y": [
          2,
          2
         ]
        },
        {
         "line": {
          "color": "rgb(208.63636363636363, 22.727272727272727, 46.36363636363637)"
         },
         "mode": "lines",
         "name": "2",
         "opacity": 0.2,
         "showlegend": false,
         "type": "scatter",
         "x": [
          14,
          15
         ],
         "y": [
          2,
          3
         ]
        },
        {
         "line": {
          "color": "rgb(208.63636363636363, 22.727272727272727, 46.36363636363637)"
         },
         "mode": "lines",
         "name": "2",
         "opacity": 0.2,
         "showlegend": false,
         "type": "scatter",
         "x": [
          14,
          15
         ],
         "y": [
          2,
          4
         ]
        },
        {
         "line": {
          "color": "rgb(208.63636363636363, 22.727272727272727, 46.36363636363637)"
         },
         "mode": "lines",
         "name": "2",
         "opacity": 0.2,
         "showlegend": false,
         "type": "scatter",
         "x": [
          15,
          16
         ],
         "y": [
          2,
          2
         ]
        },
        {
         "line": {
          "color": "rgb(208.63636363636363, 22.727272727272727, 46.36363636363637)"
         },
         "mode": "lines",
         "name": "2",
         "opacity": 0.2,
         "showlegend": false,
         "type": "scatter",
         "x": [
          16,
          17
         ],
         "y": [
          2,
          2
         ]
        },
        {
         "line": {
          "color": "rgb(208.63636363636363, 22.727272727272727, 46.36363636363637)"
         },
         "mode": "lines",
         "name": "2",
         "opacity": 0.2,
         "showlegend": false,
         "type": "scatter",
         "x": [
          17,
          18
         ],
         "y": [
          2,
          4
         ]
        },
        {
         "line": {
          "color": "rgb(208.63636363636363, 22.727272727272727, 46.36363636363637)"
         },
         "mode": "lines",
         "name": "2",
         "opacity": 0.2,
         "showlegend": false,
         "type": "scatter",
         "x": [
          19,
          20
         ],
         "y": [
          2,
          2
         ]
        },
        {
         "line": {
          "color": "rgb(208.63636363636363, 22.727272727272727, 46.36363636363637)"
         },
         "mode": "lines",
         "name": "2",
         "opacity": 0.2,
         "showlegend": false,
         "type": "scatter",
         "x": [
          20,
          21
         ],
         "y": [
          2,
          2
         ]
        },
        {
         "line": {
          "color": "rgb(208.63636363636363, 22.727272727272727, 46.36363636363637)"
         },
         "mode": "lines",
         "name": "2",
         "opacity": 0.2,
         "showlegend": false,
         "type": "scatter",
         "x": [
          21,
          22
         ],
         "y": [
          2,
          2
         ]
        },
        {
         "line": {
          "color": "rgb(208.63636363636363, 22.727272727272727, 46.36363636363637)"
         },
         "mode": "lines",
         "name": "2",
         "opacity": 0.2,
         "showlegend": false,
         "type": "scatter",
         "x": [
          22,
          23
         ],
         "y": [
          2,
          2
         ]
        },
        {
         "line": {
          "color": "rgb(185.45454545454544, 34.09090909090909, 69.54545454545455)"
         },
         "mode": "lines",
         "name": "3",
         "opacity": 0.2,
         "showlegend": false,
         "type": "scatter",
         "x": [
          1,
          2
         ],
         "y": [
          3,
          3
         ]
        },
        {
         "line": {
          "color": "rgb(185.45454545454544, 34.09090909090909, 69.54545454545455)"
         },
         "mode": "lines",
         "name": "3",
         "opacity": 0.2,
         "showlegend": false,
         "type": "scatter",
         "x": [
          2,
          3
         ],
         "y": [
          3,
          3
         ]
        },
        {
         "line": {
          "color": "rgb(185.45454545454544, 34.09090909090909, 69.54545454545455)"
         },
         "mode": "lines",
         "name": "3",
         "opacity": 0.2,
         "showlegend": false,
         "type": "scatter",
         "x": [
          3,
          4
         ],
         "y": [
          3,
          3
         ]
        },
        {
         "line": {
          "color": "rgb(185.45454545454544, 34.09090909090909, 69.54545454545455)"
         },
         "mode": "lines",
         "name": "3",
         "opacity": 0.2,
         "showlegend": false,
         "type": "scatter",
         "x": [
          4,
          5
         ],
         "y": [
          3,
          3
         ]
        },
        {
         "line": {
          "color": "rgb(185.45454545454544, 34.09090909090909, 69.54545454545455)"
         },
         "mode": "lines",
         "name": "3",
         "opacity": 0.2,
         "showlegend": false,
         "type": "scatter",
         "x": [
          5,
          6
         ],
         "y": [
          3,
          3
         ]
        },
        {
         "line": {
          "color": "rgb(185.45454545454544, 34.09090909090909, 69.54545454545455)"
         },
         "mode": "lines",
         "name": "3",
         "opacity": 0.2,
         "showlegend": false,
         "type": "scatter",
         "x": [
          6,
          7
         ],
         "y": [
          3,
          3
         ]
        },
        {
         "line": {
          "color": "rgb(185.45454545454544, 34.09090909090909, 69.54545454545455)"
         },
         "mode": "lines",
         "name": "3",
         "opacity": 0.2,
         "showlegend": false,
         "type": "scatter",
         "x": [
          7,
          8
         ],
         "y": [
          3,
          3
         ]
        },
        {
         "line": {
          "color": "rgb(185.45454545454544, 34.09090909090909, 69.54545454545455)"
         },
         "mode": "lines",
         "name": "3",
         "opacity": 0.2,
         "showlegend": false,
         "type": "scatter",
         "x": [
          8,
          9
         ],
         "y": [
          3,
          3
         ]
        },
        {
         "line": {
          "color": "rgb(185.45454545454544, 34.09090909090909, 69.54545454545455)"
         },
         "mode": "lines",
         "name": "3",
         "opacity": 0.2,
         "showlegend": false,
         "type": "scatter",
         "x": [
          9,
          10
         ],
         "y": [
          3,
          3
         ]
        },
        {
         "line": {
          "color": "rgb(185.45454545454544, 34.09090909090909, 69.54545454545455)"
         },
         "mode": "lines",
         "name": "3",
         "opacity": 0.2,
         "showlegend": false,
         "type": "scatter",
         "x": [
          10,
          11
         ],
         "y": [
          3,
          3
         ]
        },
        {
         "line": {
          "color": "rgb(185.45454545454544, 34.09090909090909, 69.54545454545455)"
         },
         "mode": "lines",
         "name": "3",
         "opacity": 0.2,
         "showlegend": false,
         "type": "scatter",
         "x": [
          11,
          12
         ],
         "y": [
          3,
          3
         ]
        },
        {
         "line": {
          "color": "rgb(185.45454545454544, 34.09090909090909, 69.54545454545455)"
         },
         "mode": "lines",
         "name": "3",
         "opacity": 0.2,
         "showlegend": false,
         "type": "scatter",
         "x": [
          12,
          13
         ],
         "y": [
          3,
          0
         ]
        },
        {
         "line": {
          "color": "rgb(185.45454545454544, 34.09090909090909, 69.54545454545455)"
         },
         "mode": "lines",
         "name": "3",
         "opacity": 0.2,
         "showlegend": false,
         "type": "scatter",
         "x": [
          13,
          14
         ],
         "y": [
          3,
          3
         ]
        },
        {
         "line": {
          "color": "rgb(185.45454545454544, 34.09090909090909, 69.54545454545455)"
         },
         "mode": "lines",
         "name": "3",
         "opacity": 0.2,
         "showlegend": false,
         "type": "scatter",
         "x": [
          15,
          16
         ],
         "y": [
          3,
          3
         ]
        },
        {
         "line": {
          "color": "rgb(185.45454545454544, 34.09090909090909, 69.54545454545455)"
         },
         "mode": "lines",
         "name": "3",
         "opacity": 0.2,
         "showlegend": false,
         "type": "scatter",
         "x": [
          16,
          17
         ],
         "y": [
          3,
          3
         ]
        },
        {
         "line": {
          "color": "rgb(185.45454545454544, 34.09090909090909, 69.54545454545455)"
         },
         "mode": "lines",
         "name": "3",
         "opacity": 0.2,
         "showlegend": false,
         "type": "scatter",
         "x": [
          17,
          18
         ],
         "y": [
          3,
          5
         ]
        },
        {
         "line": {
          "color": "rgb(185.45454545454544, 34.09090909090909, 69.54545454545455)"
         },
         "mode": "lines",
         "name": "3",
         "opacity": 0.2,
         "showlegend": false,
         "type": "scatter",
         "x": [
          17,
          18
         ],
         "y": [
          3,
          6
         ]
        },
        {
         "line": {
          "color": "rgb(185.45454545454544, 34.09090909090909, 69.54545454545455)"
         },
         "mode": "lines",
         "name": "3",
         "opacity": 0.2,
         "showlegend": false,
         "type": "scatter",
         "x": [
          17,
          18
         ],
         "y": [
          3,
          7
         ]
        },
        {
         "line": {
          "color": "rgb(185.45454545454544, 34.09090909090909, 69.54545454545455)"
         },
         "mode": "lines",
         "name": "3",
         "opacity": 0.2,
         "showlegend": false,
         "type": "scatter",
         "x": [
          19,
          20
         ],
         "y": [
          3,
          3
         ]
        },
        {
         "line": {
          "color": "rgb(185.45454545454544, 34.09090909090909, 69.54545454545455)"
         },
         "mode": "lines",
         "name": "3",
         "opacity": 0.2,
         "showlegend": false,
         "type": "scatter",
         "x": [
          20,
          21
         ],
         "y": [
          3,
          3
         ]
        },
        {
         "line": {
          "color": "rgb(185.45454545454544, 34.09090909090909, 69.54545454545455)"
         },
         "mode": "lines",
         "name": "3",
         "opacity": 0.2,
         "showlegend": false,
         "type": "scatter",
         "x": [
          21,
          22
         ],
         "y": [
          3,
          3
         ]
        },
        {
         "line": {
          "color": "rgb(185.45454545454544, 34.09090909090909, 69.54545454545455)"
         },
         "mode": "lines",
         "name": "3",
         "opacity": 0.2,
         "showlegend": false,
         "type": "scatter",
         "x": [
          22,
          23
         ],
         "y": [
          3,
          3
         ]
        },
        {
         "line": {
          "color": "rgb(162.27272727272725, 45.45454545454545, 92.72727272727273)"
         },
         "mode": "lines",
         "name": "4",
         "opacity": 0.2,
         "showlegend": false,
         "type": "scatter",
         "x": [
          1,
          2
         ],
         "y": [
          4,
          4
         ]
        },
        {
         "line": {
          "color": "rgb(162.27272727272725, 45.45454545454545, 92.72727272727273)"
         },
         "mode": "lines",
         "name": "4",
         "opacity": 0.2,
         "showlegend": false,
         "type": "scatter",
         "x": [
          2,
          3
         ],
         "y": [
          4,
          4
         ]
        },
        {
         "line": {
          "color": "rgb(162.27272727272725, 45.45454545454545, 92.72727272727273)"
         },
         "mode": "lines",
         "name": "4",
         "opacity": 0.2,
         "showlegend": false,
         "type": "scatter",
         "x": [
          3,
          4
         ],
         "y": [
          4,
          4
         ]
        },
        {
         "line": {
          "color": "rgb(162.27272727272725, 45.45454545454545, 92.72727272727273)"
         },
         "mode": "lines",
         "name": "4",
         "opacity": 0.2,
         "showlegend": false,
         "type": "scatter",
         "x": [
          4,
          5
         ],
         "y": [
          4,
          4
         ]
        },
        {
         "line": {
          "color": "rgb(162.27272727272725, 45.45454545454545, 92.72727272727273)"
         },
         "mode": "lines",
         "name": "4",
         "opacity": 0.2,
         "showlegend": false,
         "type": "scatter",
         "x": [
          5,
          6
         ],
         "y": [
          4,
          4
         ]
        },
        {
         "line": {
          "color": "rgb(162.27272727272725, 45.45454545454545, 92.72727272727273)"
         },
         "mode": "lines",
         "name": "4",
         "opacity": 0.2,
         "showlegend": false,
         "type": "scatter",
         "x": [
          6,
          7
         ],
         "y": [
          4,
          4
         ]
        },
        {
         "line": {
          "color": "rgb(162.27272727272725, 45.45454545454545, 92.72727272727273)"
         },
         "mode": "lines",
         "name": "4",
         "opacity": 0.2,
         "showlegend": false,
         "type": "scatter",
         "x": [
          7,
          8
         ],
         "y": [
          4,
          4
         ]
        },
        {
         "line": {
          "color": "rgb(162.27272727272725, 45.45454545454545, 92.72727272727273)"
         },
         "mode": "lines",
         "name": "4",
         "opacity": 0.2,
         "showlegend": false,
         "type": "scatter",
         "x": [
          8,
          9
         ],
         "y": [
          4,
          4
         ]
        },
        {
         "line": {
          "color": "rgb(162.27272727272725, 45.45454545454545, 92.72727272727273)"
         },
         "mode": "lines",
         "name": "4",
         "opacity": 0.2,
         "showlegend": false,
         "type": "scatter",
         "x": [
          9,
          10
         ],
         "y": [
          4,
          4
         ]
        },
        {
         "line": {
          "color": "rgb(162.27272727272725, 45.45454545454545, 92.72727272727273)"
         },
         "mode": "lines",
         "name": "4",
         "opacity": 0.2,
         "showlegend": false,
         "type": "scatter",
         "x": [
          10,
          11
         ],
         "y": [
          4,
          4
         ]
        },
        {
         "line": {
          "color": "rgb(162.27272727272725, 45.45454545454545, 92.72727272727273)"
         },
         "mode": "lines",
         "name": "4",
         "opacity": 0.2,
         "showlegend": false,
         "type": "scatter",
         "x": [
          11,
          12
         ],
         "y": [
          4,
          4
         ]
        },
        {
         "line": {
          "color": "rgb(162.27272727272725, 45.45454545454545, 92.72727272727273)"
         },
         "mode": "lines",
         "name": "4",
         "opacity": 0.2,
         "showlegend": false,
         "type": "scatter",
         "x": [
          12,
          13
         ],
         "y": [
          4,
          1
         ]
        },
        {
         "line": {
          "color": "rgb(162.27272727272725, 45.45454545454545, 92.72727272727273)"
         },
         "mode": "lines",
         "name": "4",
         "opacity": 0.2,
         "showlegend": false,
         "type": "scatter",
         "x": [
          12,
          13
         ],
         "y": [
          4,
          2
         ]
        },
        {
         "line": {
          "color": "rgb(162.27272727272725, 45.45454545454545, 92.72727272727273)"
         },
         "mode": "lines",
         "name": "4",
         "opacity": 0.2,
         "showlegend": false,
         "type": "scatter",
         "x": [
          12,
          13
         ],
         "y": [
          4,
          3
         ]
        },
        {
         "line": {
          "color": "rgb(162.27272727272725, 45.45454545454545, 92.72727272727273)"
         },
         "mode": "lines",
         "name": "4",
         "opacity": 0.2,
         "showlegend": false,
         "type": "scatter",
         "x": [
          13,
          14
         ],
         "y": [
          4,
          4
         ]
        },
        {
         "line": {
          "color": "rgb(162.27272727272725, 45.45454545454545, 92.72727272727273)"
         },
         "mode": "lines",
         "name": "4",
         "opacity": 0.2,
         "showlegend": false,
         "type": "scatter",
         "x": [
          14,
          15
         ],
         "y": [
          4,
          5
         ]
        },
        {
         "line": {
          "color": "rgb(162.27272727272725, 45.45454545454545, 92.72727272727273)"
         },
         "mode": "lines",
         "name": "4",
         "opacity": 0.2,
         "showlegend": false,
         "type": "scatter",
         "x": [
          14,
          15
         ],
         "y": [
          4,
          6
         ]
        },
        {
         "line": {
          "color": "rgb(162.27272727272725, 45.45454545454545, 92.72727272727273)"
         },
         "mode": "lines",
         "name": "4",
         "opacity": 0.2,
         "showlegend": false,
         "type": "scatter",
         "x": [
          14,
          15
         ],
         "y": [
          4,
          7
         ]
        },
        {
         "line": {
          "color": "rgb(162.27272727272725, 45.45454545454545, 92.72727272727273)"
         },
         "mode": "lines",
         "name": "4",
         "opacity": 0.2,
         "showlegend": false,
         "type": "scatter",
         "x": [
          15,
          16
         ],
         "y": [
          4,
          4
         ]
        },
        {
         "line": {
          "color": "rgb(162.27272727272725, 45.45454545454545, 92.72727272727273)"
         },
         "mode": "lines",
         "name": "4",
         "opacity": 0.2,
         "showlegend": false,
         "type": "scatter",
         "x": [
          16,
          17
         ],
         "y": [
          4,
          4
         ]
        },
        {
         "line": {
          "color": "rgb(162.27272727272725, 45.45454545454545, 92.72727272727273)"
         },
         "mode": "lines",
         "name": "4",
         "opacity": 0.2,
         "showlegend": false,
         "type": "scatter",
         "x": [
          17,
          18
         ],
         "y": [
          4,
          8
         ]
        },
        {
         "line": {
          "color": "rgb(162.27272727272725, 45.45454545454545, 92.72727272727273)"
         },
         "mode": "lines",
         "name": "4",
         "opacity": 0.2,
         "showlegend": false,
         "type": "scatter",
         "x": [
          17,
          18
         ],
         "y": [
          4,
          9
         ]
        },
        {
         "line": {
          "color": "rgb(162.27272727272725, 45.45454545454545, 92.72727272727273)"
         },
         "mode": "lines",
         "name": "4",
         "opacity": 0.2,
         "showlegend": false,
         "type": "scatter",
         "x": [
          17,
          18
         ],
         "y": [
          4,
          10
         ]
        },
        {
         "line": {
          "color": "rgb(162.27272727272725, 45.45454545454545, 92.72727272727273)"
         },
         "mode": "lines",
         "name": "4",
         "opacity": 0.2,
         "showlegend": false,
         "type": "scatter",
         "x": [
          17,
          18
         ],
         "y": [
          4,
          11
         ]
        },
        {
         "line": {
          "color": "rgb(162.27272727272725, 45.45454545454545, 92.72727272727273)"
         },
         "mode": "lines",
         "name": "4",
         "opacity": 0.2,
         "showlegend": false,
         "type": "scatter",
         "x": [
          18,
          19
         ],
         "y": [
          4,
          6
         ]
        },
        {
         "line": {
          "color": "rgb(162.27272727272725, 45.45454545454545, 92.72727272727273)"
         },
         "mode": "lines",
         "name": "4",
         "opacity": 0.2,
         "showlegend": false,
         "type": "scatter",
         "x": [
          18,
          19
         ],
         "y": [
          4,
          7
         ]
        },
        {
         "line": {
          "color": "rgb(162.27272727272725, 45.45454545454545, 92.72727272727273)"
         },
         "mode": "lines",
         "name": "4",
         "opacity": 0.2,
         "showlegend": false,
         "type": "scatter",
         "x": [
          18,
          19
         ],
         "y": [
          4,
          8
         ]
        },
        {
         "line": {
          "color": "rgb(162.27272727272725, 45.45454545454545, 92.72727272727273)"
         },
         "mode": "lines",
         "name": "4",
         "opacity": 0.2,
         "showlegend": false,
         "type": "scatter",
         "x": [
          18,
          19
         ],
         "y": [
          4,
          9
         ]
        },
        {
         "line": {
          "color": "rgb(162.27272727272725, 45.45454545454545, 92.72727272727273)"
         },
         "mode": "lines",
         "name": "4",
         "opacity": 0.2,
         "showlegend": false,
         "type": "scatter",
         "x": [
          18,
          19
         ],
         "y": [
          4,
          10
         ]
        },
        {
         "line": {
          "color": "rgb(162.27272727272725, 45.45454545454545, 92.72727272727273)"
         },
         "mode": "lines",
         "name": "4",
         "opacity": 0.2,
         "showlegend": false,
         "type": "scatter",
         "x": [
          19,
          20
         ],
         "y": [
          4,
          4
         ]
        },
        {
         "line": {
          "color": "rgb(162.27272727272725, 45.45454545454545, 92.72727272727273)"
         },
         "mode": "lines",
         "name": "4",
         "opacity": 0.2,
         "showlegend": false,
         "type": "scatter",
         "x": [
          20,
          21
         ],
         "y": [
          4,
          4
         ]
        },
        {
         "line": {
          "color": "rgb(162.27272727272725, 45.45454545454545, 92.72727272727273)"
         },
         "mode": "lines",
         "name": "4",
         "opacity": 0.2,
         "showlegend": false,
         "type": "scatter",
         "x": [
          21,
          22
         ],
         "y": [
          4,
          4
         ]
        },
        {
         "line": {
          "color": "rgb(162.27272727272725, 45.45454545454545, 92.72727272727273)"
         },
         "mode": "lines",
         "name": "4",
         "opacity": 0.2,
         "showlegend": false,
         "type": "scatter",
         "x": [
          22,
          23
         ],
         "y": [
          4,
          4
         ]
        },
        {
         "line": {
          "color": "rgb(139.09090909090907, 56.81818181818181, 115.90909090909092)"
         },
         "mode": "lines",
         "name": "5",
         "opacity": 0.2,
         "showlegend": false,
         "type": "scatter",
         "x": [
          1,
          2
         ],
         "y": [
          5,
          5
         ]
        },
        {
         "line": {
          "color": "rgb(139.09090909090907, 56.81818181818181, 115.90909090909092)"
         },
         "mode": "lines",
         "name": "5",
         "opacity": 0.2,
         "showlegend": false,
         "type": "scatter",
         "x": [
          2,
          3
         ],
         "y": [
          5,
          5
         ]
        },
        {
         "line": {
          "color": "rgb(139.09090909090907, 56.81818181818181, 115.90909090909092)"
         },
         "mode": "lines",
         "name": "5",
         "opacity": 0.2,
         "showlegend": false,
         "type": "scatter",
         "x": [
          3,
          4
         ],
         "y": [
          5,
          5
         ]
        },
        {
         "line": {
          "color": "rgb(139.09090909090907, 56.81818181818181, 115.90909090909092)"
         },
         "mode": "lines",
         "name": "5",
         "opacity": 0.2,
         "showlegend": false,
         "type": "scatter",
         "x": [
          4,
          5
         ],
         "y": [
          5,
          5
         ]
        },
        {
         "line": {
          "color": "rgb(139.09090909090907, 56.81818181818181, 115.90909090909092)"
         },
         "mode": "lines",
         "name": "5",
         "opacity": 0.2,
         "showlegend": false,
         "type": "scatter",
         "x": [
          5,
          6
         ],
         "y": [
          5,
          5
         ]
        },
        {
         "line": {
          "color": "rgb(139.09090909090907, 56.81818181818181, 115.90909090909092)"
         },
         "mode": "lines",
         "name": "5",
         "opacity": 0.2,
         "showlegend": false,
         "type": "scatter",
         "x": [
          6,
          7
         ],
         "y": [
          5,
          5
         ]
        },
        {
         "line": {
          "color": "rgb(139.09090909090907, 56.81818181818181, 115.90909090909092)"
         },
         "mode": "lines",
         "name": "5",
         "opacity": 0.2,
         "showlegend": false,
         "type": "scatter",
         "x": [
          7,
          8
         ],
         "y": [
          5,
          5
         ]
        },
        {
         "line": {
          "color": "rgb(139.09090909090907, 56.81818181818181, 115.90909090909092)"
         },
         "mode": "lines",
         "name": "5",
         "opacity": 0.2,
         "showlegend": false,
         "type": "scatter",
         "x": [
          8,
          9
         ],
         "y": [
          5,
          5
         ]
        },
        {
         "line": {
          "color": "rgb(139.09090909090907, 56.81818181818181, 115.90909090909092)"
         },
         "mode": "lines",
         "name": "5",
         "opacity": 0.2,
         "showlegend": false,
         "type": "scatter",
         "x": [
          9,
          10
         ],
         "y": [
          5,
          5
         ]
        },
        {
         "line": {
          "color": "rgb(139.09090909090907, 56.81818181818181, 115.90909090909092)"
         },
         "mode": "lines",
         "name": "5",
         "opacity": 0.2,
         "showlegend": false,
         "type": "scatter",
         "x": [
          10,
          11
         ],
         "y": [
          5,
          5
         ]
        },
        {
         "line": {
          "color": "rgb(139.09090909090907, 56.81818181818181, 115.90909090909092)"
         },
         "mode": "lines",
         "name": "5",
         "opacity": 0.2,
         "showlegend": false,
         "type": "scatter",
         "x": [
          11,
          12
         ],
         "y": [
          5,
          5
         ]
        },
        {
         "line": {
          "color": "rgb(139.09090909090907, 56.81818181818181, 115.90909090909092)"
         },
         "mode": "lines",
         "name": "5",
         "opacity": 0.2,
         "showlegend": false,
         "type": "scatter",
         "x": [
          13,
          14
         ],
         "y": [
          5,
          5
         ]
        },
        {
         "line": {
          "color": "rgb(139.09090909090907, 56.81818181818181, 115.90909090909092)"
         },
         "mode": "lines",
         "name": "5",
         "opacity": 0.2,
         "showlegend": false,
         "type": "scatter",
         "x": [
          14,
          15
         ],
         "y": [
          5,
          8
         ]
        },
        {
         "line": {
          "color": "rgb(139.09090909090907, 56.81818181818181, 115.90909090909092)"
         },
         "mode": "lines",
         "name": "5",
         "opacity": 0.2,
         "showlegend": false,
         "type": "scatter",
         "x": [
          15,
          16
         ],
         "y": [
          5,
          5
         ]
        },
        {
         "line": {
          "color": "rgb(139.09090909090907, 56.81818181818181, 115.90909090909092)"
         },
         "mode": "lines",
         "name": "5",
         "opacity": 0.2,
         "showlegend": false,
         "type": "scatter",
         "x": [
          16,
          17
         ],
         "y": [
          5,
          5
         ]
        },
        {
         "line": {
          "color": "rgb(139.09090909090907, 56.81818181818181, 115.90909090909092)"
         },
         "mode": "lines",
         "name": "5",
         "opacity": 0.2,
         "showlegend": false,
         "type": "scatter",
         "x": [
          19,
          20
         ],
         "y": [
          5,
          5
         ]
        },
        {
         "line": {
          "color": "rgb(139.09090909090907, 56.81818181818181, 115.90909090909092)"
         },
         "mode": "lines",
         "name": "5",
         "opacity": 0.2,
         "showlegend": false,
         "type": "scatter",
         "x": [
          20,
          21
         ],
         "y": [
          5,
          5
         ]
        },
        {
         "line": {
          "color": "rgb(139.09090909090907, 56.81818181818181, 115.90909090909092)"
         },
         "mode": "lines",
         "name": "5",
         "opacity": 0.2,
         "showlegend": false,
         "type": "scatter",
         "x": [
          21,
          22
         ],
         "y": [
          5,
          5
         ]
        },
        {
         "line": {
          "color": "rgb(139.09090909090907, 56.81818181818181, 115.90909090909092)"
         },
         "mode": "lines",
         "name": "5",
         "opacity": 0.2,
         "showlegend": false,
         "type": "scatter",
         "x": [
          22,
          23
         ],
         "y": [
          5,
          5
         ]
        },
        {
         "line": {
          "color": "rgb(115.9090909090909, 68.18181818181819, 139.0909090909091)"
         },
         "mode": "lines",
         "name": "6",
         "opacity": 0.2,
         "showlegend": false,
         "type": "scatter",
         "x": [
          1,
          2
         ],
         "y": [
          6,
          6
         ]
        },
        {
         "line": {
          "color": "rgb(115.9090909090909, 68.18181818181819, 139.0909090909091)"
         },
         "mode": "lines",
         "name": "6",
         "opacity": 0.2,
         "showlegend": false,
         "type": "scatter",
         "x": [
          2,
          3
         ],
         "y": [
          6,
          6
         ]
        },
        {
         "line": {
          "color": "rgb(115.9090909090909, 68.18181818181819, 139.0909090909091)"
         },
         "mode": "lines",
         "name": "6",
         "opacity": 0.2,
         "showlegend": false,
         "type": "scatter",
         "x": [
          3,
          4
         ],
         "y": [
          6,
          6
         ]
        },
        {
         "line": {
          "color": "rgb(115.9090909090909, 68.18181818181819, 139.0909090909091)"
         },
         "mode": "lines",
         "name": "6",
         "opacity": 0.2,
         "showlegend": false,
         "type": "scatter",
         "x": [
          4,
          5
         ],
         "y": [
          6,
          6
         ]
        },
        {
         "line": {
          "color": "rgb(115.9090909090909, 68.18181818181819, 139.0909090909091)"
         },
         "mode": "lines",
         "name": "6",
         "opacity": 0.2,
         "showlegend": false,
         "type": "scatter",
         "x": [
          5,
          6
         ],
         "y": [
          6,
          6
         ]
        },
        {
         "line": {
          "color": "rgb(115.9090909090909, 68.18181818181819, 139.0909090909091)"
         },
         "mode": "lines",
         "name": "6",
         "opacity": 0.2,
         "showlegend": false,
         "type": "scatter",
         "x": [
          6,
          7
         ],
         "y": [
          6,
          6
         ]
        },
        {
         "line": {
          "color": "rgb(115.9090909090909, 68.18181818181819, 139.0909090909091)"
         },
         "mode": "lines",
         "name": "6",
         "opacity": 0.2,
         "showlegend": false,
         "type": "scatter",
         "x": [
          7,
          8
         ],
         "y": [
          6,
          6
         ]
        },
        {
         "line": {
          "color": "rgb(115.9090909090909, 68.18181818181819, 139.0909090909091)"
         },
         "mode": "lines",
         "name": "6",
         "opacity": 0.2,
         "showlegend": false,
         "type": "scatter",
         "x": [
          8,
          9
         ],
         "y": [
          6,
          6
         ]
        },
        {
         "line": {
          "color": "rgb(115.9090909090909, 68.18181818181819, 139.0909090909091)"
         },
         "mode": "lines",
         "name": "6",
         "opacity": 0.2,
         "showlegend": false,
         "type": "scatter",
         "x": [
          9,
          10
         ],
         "y": [
          6,
          6
         ]
        },
        {
         "line": {
          "color": "rgb(115.9090909090909, 68.18181818181819, 139.0909090909091)"
         },
         "mode": "lines",
         "name": "6",
         "opacity": 0.2,
         "showlegend": false,
         "type": "scatter",
         "x": [
          10,
          11
         ],
         "y": [
          6,
          6
         ]
        },
        {
         "line": {
          "color": "rgb(115.9090909090909, 68.18181818181819, 139.0909090909091)"
         },
         "mode": "lines",
         "name": "6",
         "opacity": 0.2,
         "showlegend": false,
         "type": "scatter",
         "x": [
          11,
          12
         ],
         "y": [
          6,
          6
         ]
        },
        {
         "line": {
          "color": "rgb(115.9090909090909, 68.18181818181819, 139.0909090909091)"
         },
         "mode": "lines",
         "name": "6",
         "opacity": 0.2,
         "showlegend": false,
         "type": "scatter",
         "x": [
          12,
          13
         ],
         "y": [
          6,
          4
         ]
        },
        {
         "line": {
          "color": "rgb(115.9090909090909, 68.18181818181819, 139.0909090909091)"
         },
         "mode": "lines",
         "name": "6",
         "opacity": 0.2,
         "showlegend": false,
         "type": "scatter",
         "x": [
          12,
          13
         ],
         "y": [
          6,
          5
         ]
        },
        {
         "line": {
          "color": "rgb(115.9090909090909, 68.18181818181819, 139.0909090909091)"
         },
         "mode": "lines",
         "name": "6",
         "opacity": 0.2,
         "showlegend": false,
         "type": "scatter",
         "x": [
          12,
          13
         ],
         "y": [
          6,
          6
         ]
        },
        {
         "line": {
          "color": "rgb(115.9090909090909, 68.18181818181819, 139.0909090909091)"
         },
         "mode": "lines",
         "name": "6",
         "opacity": 0.2,
         "showlegend": false,
         "type": "scatter",
         "x": [
          12,
          13
         ],
         "y": [
          6,
          7
         ]
        },
        {
         "line": {
          "color": "rgb(115.9090909090909, 68.18181818181819, 139.0909090909091)"
         },
         "mode": "lines",
         "name": "6",
         "opacity": 0.2,
         "showlegend": false,
         "type": "scatter",
         "x": [
          13,
          14
         ],
         "y": [
          6,
          6
         ]
        },
        {
         "line": {
          "color": "rgb(115.9090909090909, 68.18181818181819, 139.0909090909091)"
         },
         "mode": "lines",
         "name": "6",
         "opacity": 0.2,
         "showlegend": false,
         "type": "scatter",
         "x": [
          15,
          16
         ],
         "y": [
          6,
          6
         ]
        },
        {
         "line": {
          "color": "rgb(115.9090909090909, 68.18181818181819, 139.0909090909091)"
         },
         "mode": "lines",
         "name": "6",
         "opacity": 0.2,
         "showlegend": false,
         "type": "scatter",
         "x": [
          16,
          17
         ],
         "y": [
          6,
          6
         ]
        },
        {
         "line": {
          "color": "rgb(115.9090909090909, 68.18181818181819, 139.0909090909091)"
         },
         "mode": "lines",
         "name": "6",
         "opacity": 0.2,
         "showlegend": false,
         "type": "scatter",
         "x": [
          18,
          19
         ],
         "y": [
          6,
          11
         ]
        },
        {
         "line": {
          "color": "rgb(115.9090909090909, 68.18181818181819, 139.0909090909091)"
         },
         "mode": "lines",
         "name": "6",
         "opacity": 0.2,
         "showlegend": false,
         "type": "scatter",
         "x": [
          19,
          20
         ],
         "y": [
          6,
          6
         ]
        },
        {
         "line": {
          "color": "rgb(115.9090909090909, 68.18181818181819, 139.0909090909091)"
         },
         "mode": "lines",
         "name": "6",
         "opacity": 0.2,
         "showlegend": false,
         "type": "scatter",
         "x": [
          20,
          21
         ],
         "y": [
          6,
          6
         ]
        },
        {
         "line": {
          "color": "rgb(115.9090909090909, 68.18181818181819, 139.0909090909091)"
         },
         "mode": "lines",
         "name": "6",
         "opacity": 0.2,
         "showlegend": false,
         "type": "scatter",
         "x": [
          21,
          22
         ],
         "y": [
          6,
          6
         ]
        },
        {
         "line": {
          "color": "rgb(115.9090909090909, 68.18181818181819, 139.0909090909091)"
         },
         "mode": "lines",
         "name": "6",
         "opacity": 0.2,
         "showlegend": false,
         "type": "scatter",
         "x": [
          22,
          23
         ],
         "y": [
          6,
          6
         ]
        },
        {
         "line": {
          "color": "rgb(92.72727272727272, 79.54545454545455, 162.27272727272728)"
         },
         "mode": "lines",
         "name": "7",
         "opacity": 0.2,
         "showlegend": false,
         "type": "scatter",
         "x": [
          1,
          2
         ],
         "y": [
          7,
          7
         ]
        },
        {
         "line": {
          "color": "rgb(92.72727272727272, 79.54545454545455, 162.27272727272728)"
         },
         "mode": "lines",
         "name": "7",
         "opacity": 0.2,
         "showlegend": false,
         "type": "scatter",
         "x": [
          2,
          3
         ],
         "y": [
          7,
          7
         ]
        },
        {
         "line": {
          "color": "rgb(92.72727272727272, 79.54545454545455, 162.27272727272728)"
         },
         "mode": "lines",
         "name": "7",
         "opacity": 0.2,
         "showlegend": false,
         "type": "scatter",
         "x": [
          3,
          4
         ],
         "y": [
          7,
          7
         ]
        },
        {
         "line": {
          "color": "rgb(92.72727272727272, 79.54545454545455, 162.27272727272728)"
         },
         "mode": "lines",
         "name": "7",
         "opacity": 0.2,
         "showlegend": false,
         "type": "scatter",
         "x": [
          4,
          5
         ],
         "y": [
          7,
          7
         ]
        },
        {
         "line": {
          "color": "rgb(92.72727272727272, 79.54545454545455, 162.27272727272728)"
         },
         "mode": "lines",
         "name": "7",
         "opacity": 0.2,
         "showlegend": false,
         "type": "scatter",
         "x": [
          5,
          6
         ],
         "y": [
          7,
          7
         ]
        },
        {
         "line": {
          "color": "rgb(92.72727272727272, 79.54545454545455, 162.27272727272728)"
         },
         "mode": "lines",
         "name": "7",
         "opacity": 0.2,
         "showlegend": false,
         "type": "scatter",
         "x": [
          6,
          7
         ],
         "y": [
          7,
          7
         ]
        },
        {
         "line": {
          "color": "rgb(92.72727272727272, 79.54545454545455, 162.27272727272728)"
         },
         "mode": "lines",
         "name": "7",
         "opacity": 0.2,
         "showlegend": false,
         "type": "scatter",
         "x": [
          7,
          8
         ],
         "y": [
          7,
          7
         ]
        },
        {
         "line": {
          "color": "rgb(92.72727272727272, 79.54545454545455, 162.27272727272728)"
         },
         "mode": "lines",
         "name": "7",
         "opacity": 0.2,
         "showlegend": false,
         "type": "scatter",
         "x": [
          8,
          9
         ],
         "y": [
          7,
          7
         ]
        },
        {
         "line": {
          "color": "rgb(92.72727272727272, 79.54545454545455, 162.27272727272728)"
         },
         "mode": "lines",
         "name": "7",
         "opacity": 0.2,
         "showlegend": false,
         "type": "scatter",
         "x": [
          9,
          10
         ],
         "y": [
          7,
          7
         ]
        },
        {
         "line": {
          "color": "rgb(92.72727272727272, 79.54545454545455, 162.27272727272728)"
         },
         "mode": "lines",
         "name": "7",
         "opacity": 0.2,
         "showlegend": false,
         "type": "scatter",
         "x": [
          10,
          11
         ],
         "y": [
          7,
          7
         ]
        },
        {
         "line": {
          "color": "rgb(92.72727272727272, 79.54545454545455, 162.27272727272728)"
         },
         "mode": "lines",
         "name": "7",
         "opacity": 0.2,
         "showlegend": false,
         "type": "scatter",
         "x": [
          11,
          12
         ],
         "y": [
          7,
          7
         ]
        },
        {
         "line": {
          "color": "rgb(92.72727272727272, 79.54545454545455, 162.27272727272728)"
         },
         "mode": "lines",
         "name": "7",
         "opacity": 0.2,
         "showlegend": false,
         "type": "scatter",
         "x": [
          12,
          13
         ],
         "y": [
          7,
          8
         ]
        },
        {
         "line": {
          "color": "rgb(92.72727272727272, 79.54545454545455, 162.27272727272728)"
         },
         "mode": "lines",
         "name": "7",
         "opacity": 0.2,
         "showlegend": false,
         "type": "scatter",
         "x": [
          12,
          13
         ],
         "y": [
          7,
          9
         ]
        },
        {
         "line": {
          "color": "rgb(92.72727272727272, 79.54545454545455, 162.27272727272728)"
         },
         "mode": "lines",
         "name": "7",
         "opacity": 0.2,
         "showlegend": false,
         "type": "scatter",
         "x": [
          12,
          13
         ],
         "y": [
          7,
          10
         ]
        },
        {
         "line": {
          "color": "rgb(92.72727272727272, 79.54545454545455, 162.27272727272728)"
         },
         "mode": "lines",
         "name": "7",
         "opacity": 0.2,
         "showlegend": false,
         "type": "scatter",
         "x": [
          13,
          14
         ],
         "y": [
          7,
          7
         ]
        },
        {
         "line": {
          "color": "rgb(92.72727272727272, 79.54545454545455, 162.27272727272728)"
         },
         "mode": "lines",
         "name": "7",
         "opacity": 0.2,
         "showlegend": false,
         "type": "scatter",
         "x": [
          14,
          15
         ],
         "y": [
          7,
          9
         ]
        },
        {
         "line": {
          "color": "rgb(92.72727272727272, 79.54545454545455, 162.27272727272728)"
         },
         "mode": "lines",
         "name": "7",
         "opacity": 0.2,
         "showlegend": false,
         "type": "scatter",
         "x": [
          15,
          16
         ],
         "y": [
          7,
          7
         ]
        },
        {
         "line": {
          "color": "rgb(92.72727272727272, 79.54545454545455, 162.27272727272728)"
         },
         "mode": "lines",
         "name": "7",
         "opacity": 0.2,
         "showlegend": false,
         "type": "scatter",
         "x": [
          16,
          17
         ],
         "y": [
          7,
          7
         ]
        },
        {
         "line": {
          "color": "rgb(92.72727272727272, 79.54545454545455, 162.27272727272728)"
         },
         "mode": "lines",
         "name": "7",
         "opacity": 0.2,
         "showlegend": false,
         "type": "scatter",
         "x": [
          19,
          20
         ],
         "y": [
          7,
          7
         ]
        },
        {
         "line": {
          "color": "rgb(92.72727272727272, 79.54545454545455, 162.27272727272728)"
         },
         "mode": "lines",
         "name": "7",
         "opacity": 0.2,
         "showlegend": false,
         "type": "scatter",
         "x": [
          20,
          21
         ],
         "y": [
          7,
          7
         ]
        },
        {
         "line": {
          "color": "rgb(92.72727272727272, 79.54545454545455, 162.27272727272728)"
         },
         "mode": "lines",
         "name": "7",
         "opacity": 0.2,
         "showlegend": false,
         "type": "scatter",
         "x": [
          21,
          22
         ],
         "y": [
          7,
          7
         ]
        },
        {
         "line": {
          "color": "rgb(92.72727272727272, 79.54545454545455, 162.27272727272728)"
         },
         "mode": "lines",
         "name": "7",
         "opacity": 0.2,
         "showlegend": false,
         "type": "scatter",
         "x": [
          22,
          23
         ],
         "y": [
          7,
          7
         ]
        },
        {
         "line": {
          "color": "rgb(69.54545454545453, 90.9090909090909, 185.45454545454547)"
         },
         "mode": "lines",
         "name": "8",
         "opacity": 0.2,
         "showlegend": false,
         "type": "scatter",
         "x": [
          1,
          2
         ],
         "y": [
          8,
          8
         ]
        },
        {
         "line": {
          "color": "rgb(69.54545454545453, 90.9090909090909, 185.45454545454547)"
         },
         "mode": "lines",
         "name": "8",
         "opacity": 0.2,
         "showlegend": false,
         "type": "scatter",
         "x": [
          2,
          3
         ],
         "y": [
          8,
          8
         ]
        },
        {
         "line": {
          "color": "rgb(69.54545454545453, 90.9090909090909, 185.45454545454547)"
         },
         "mode": "lines",
         "name": "8",
         "opacity": 0.2,
         "showlegend": false,
         "type": "scatter",
         "x": [
          3,
          4
         ],
         "y": [
          8,
          8
         ]
        },
        {
         "line": {
          "color": "rgb(69.54545454545453, 90.9090909090909, 185.45454545454547)"
         },
         "mode": "lines",
         "name": "8",
         "opacity": 0.2,
         "showlegend": false,
         "type": "scatter",
         "x": [
          4,
          5
         ],
         "y": [
          8,
          8
         ]
        },
        {
         "line": {
          "color": "rgb(69.54545454545453, 90.9090909090909, 185.45454545454547)"
         },
         "mode": "lines",
         "name": "8",
         "opacity": 0.2,
         "showlegend": false,
         "type": "scatter",
         "x": [
          5,
          6
         ],
         "y": [
          8,
          8
         ]
        },
        {
         "line": {
          "color": "rgb(69.54545454545453, 90.9090909090909, 185.45454545454547)"
         },
         "mode": "lines",
         "name": "8",
         "opacity": 0.2,
         "showlegend": false,
         "type": "scatter",
         "x": [
          6,
          7
         ],
         "y": [
          8,
          8
         ]
        },
        {
         "line": {
          "color": "rgb(69.54545454545453, 90.9090909090909, 185.45454545454547)"
         },
         "mode": "lines",
         "name": "8",
         "opacity": 0.2,
         "showlegend": false,
         "type": "scatter",
         "x": [
          7,
          8
         ],
         "y": [
          8,
          8
         ]
        },
        {
         "line": {
          "color": "rgb(69.54545454545453, 90.9090909090909, 185.45454545454547)"
         },
         "mode": "lines",
         "name": "8",
         "opacity": 0.2,
         "showlegend": false,
         "type": "scatter",
         "x": [
          8,
          9
         ],
         "y": [
          8,
          8
         ]
        },
        {
         "line": {
          "color": "rgb(69.54545454545453, 90.9090909090909, 185.45454545454547)"
         },
         "mode": "lines",
         "name": "8",
         "opacity": 0.2,
         "showlegend": false,
         "type": "scatter",
         "x": [
          9,
          10
         ],
         "y": [
          8,
          8
         ]
        },
        {
         "line": {
          "color": "rgb(69.54545454545453, 90.9090909090909, 185.45454545454547)"
         },
         "mode": "lines",
         "name": "8",
         "opacity": 0.2,
         "showlegend": false,
         "type": "scatter",
         "x": [
          10,
          11
         ],
         "y": [
          8,
          8
         ]
        },
        {
         "line": {
          "color": "rgb(69.54545454545453, 90.9090909090909, 185.45454545454547)"
         },
         "mode": "lines",
         "name": "8",
         "opacity": 0.2,
         "showlegend": false,
         "type": "scatter",
         "x": [
          11,
          12
         ],
         "y": [
          8,
          8
         ]
        },
        {
         "line": {
          "color": "rgb(69.54545454545453, 90.9090909090909, 185.45454545454547)"
         },
         "mode": "lines",
         "name": "8",
         "opacity": 0.2,
         "showlegend": false,
         "type": "scatter",
         "x": [
          12,
          13
         ],
         "y": [
          8,
          11
         ]
        },
        {
         "line": {
          "color": "rgb(69.54545454545453, 90.9090909090909, 185.45454545454547)"
         },
         "mode": "lines",
         "name": "8",
         "opacity": 0.2,
         "showlegend": false,
         "type": "scatter",
         "x": [
          13,
          14
         ],
         "y": [
          8,
          8
         ]
        },
        {
         "line": {
          "color": "rgb(69.54545454545453, 90.9090909090909, 185.45454545454547)"
         },
         "mode": "lines",
         "name": "8",
         "opacity": 0.2,
         "showlegend": false,
         "type": "scatter",
         "x": [
          14,
          15
         ],
         "y": [
          8,
          10
         ]
        },
        {
         "line": {
          "color": "rgb(69.54545454545453, 90.9090909090909, 185.45454545454547)"
         },
         "mode": "lines",
         "name": "8",
         "opacity": 0.2,
         "showlegend": false,
         "type": "scatter",
         "x": [
          14,
          15
         ],
         "y": [
          8,
          11
         ]
        },
        {
         "line": {
          "color": "rgb(69.54545454545453, 90.9090909090909, 185.45454545454547)"
         },
         "mode": "lines",
         "name": "8",
         "opacity": 0.2,
         "showlegend": false,
         "type": "scatter",
         "x": [
          15,
          16
         ],
         "y": [
          8,
          8
         ]
        },
        {
         "line": {
          "color": "rgb(69.54545454545453, 90.9090909090909, 185.45454545454547)"
         },
         "mode": "lines",
         "name": "8",
         "opacity": 0.2,
         "showlegend": false,
         "type": "scatter",
         "x": [
          16,
          17
         ],
         "y": [
          8,
          8
         ]
        },
        {
         "line": {
          "color": "rgb(69.54545454545453, 90.9090909090909, 185.45454545454547)"
         },
         "mode": "lines",
         "name": "8",
         "opacity": 0.2,
         "showlegend": false,
         "type": "scatter",
         "x": [
          19,
          20
         ],
         "y": [
          8,
          8
         ]
        },
        {
         "line": {
          "color": "rgb(69.54545454545453, 90.9090909090909, 185.45454545454547)"
         },
         "mode": "lines",
         "name": "8",
         "opacity": 0.2,
         "showlegend": false,
         "type": "scatter",
         "x": [
          20,
          21
         ],
         "y": [
          8,
          8
         ]
        },
        {
         "line": {
          "color": "rgb(69.54545454545453, 90.9090909090909, 185.45454545454547)"
         },
         "mode": "lines",
         "name": "8",
         "opacity": 0.2,
         "showlegend": false,
         "type": "scatter",
         "x": [
          21,
          22
         ],
         "y": [
          8,
          8
         ]
        },
        {
         "line": {
          "color": "rgb(69.54545454545453, 90.9090909090909, 185.45454545454547)"
         },
         "mode": "lines",
         "name": "8",
         "opacity": 0.2,
         "showlegend": false,
         "type": "scatter",
         "x": [
          22,
          23
         ],
         "y": [
          8,
          8
         ]
        },
        {
         "line": {
          "color": "rgb(46.363636363636346, 102.27272727272727, 208.63636363636365)"
         },
         "mode": "lines",
         "name": "9",
         "opacity": 0.2,
         "showlegend": false,
         "type": "scatter",
         "x": [
          1,
          2
         ],
         "y": [
          9,
          9
         ]
        },
        {
         "line": {
          "color": "rgb(46.363636363636346, 102.27272727272727, 208.63636363636365)"
         },
         "mode": "lines",
         "name": "9",
         "opacity": 0.2,
         "showlegend": false,
         "type": "scatter",
         "x": [
          2,
          3
         ],
         "y": [
          9,
          9
         ]
        },
        {
         "line": {
          "color": "rgb(46.363636363636346, 102.27272727272727, 208.63636363636365)"
         },
         "mode": "lines",
         "name": "9",
         "opacity": 0.2,
         "showlegend": false,
         "type": "scatter",
         "x": [
          3,
          4
         ],
         "y": [
          9,
          9
         ]
        },
        {
         "line": {
          "color": "rgb(46.363636363636346, 102.27272727272727, 208.63636363636365)"
         },
         "mode": "lines",
         "name": "9",
         "opacity": 0.2,
         "showlegend": false,
         "type": "scatter",
         "x": [
          4,
          5
         ],
         "y": [
          9,
          9
         ]
        },
        {
         "line": {
          "color": "rgb(46.363636363636346, 102.27272727272727, 208.63636363636365)"
         },
         "mode": "lines",
         "name": "9",
         "opacity": 0.2,
         "showlegend": false,
         "type": "scatter",
         "x": [
          5,
          6
         ],
         "y": [
          9,
          9
         ]
        },
        {
         "line": {
          "color": "rgb(46.363636363636346, 102.27272727272727, 208.63636363636365)"
         },
         "mode": "lines",
         "name": "9",
         "opacity": 0.2,
         "showlegend": false,
         "type": "scatter",
         "x": [
          6,
          7
         ],
         "y": [
          9,
          9
         ]
        },
        {
         "line": {
          "color": "rgb(46.363636363636346, 102.27272727272727, 208.63636363636365)"
         },
         "mode": "lines",
         "name": "9",
         "opacity": 0.2,
         "showlegend": false,
         "type": "scatter",
         "x": [
          7,
          8
         ],
         "y": [
          9,
          9
         ]
        },
        {
         "line": {
          "color": "rgb(46.363636363636346, 102.27272727272727, 208.63636363636365)"
         },
         "mode": "lines",
         "name": "9",
         "opacity": 0.2,
         "showlegend": false,
         "type": "scatter",
         "x": [
          8,
          9
         ],
         "y": [
          9,
          9
         ]
        },
        {
         "line": {
          "color": "rgb(46.363636363636346, 102.27272727272727, 208.63636363636365)"
         },
         "mode": "lines",
         "name": "9",
         "opacity": 0.2,
         "showlegend": false,
         "type": "scatter",
         "x": [
          9,
          10
         ],
         "y": [
          9,
          9
         ]
        },
        {
         "line": {
          "color": "rgb(46.363636363636346, 102.27272727272727, 208.63636363636365)"
         },
         "mode": "lines",
         "name": "9",
         "opacity": 0.2,
         "showlegend": false,
         "type": "scatter",
         "x": [
          10,
          11
         ],
         "y": [
          9,
          9
         ]
        },
        {
         "line": {
          "color": "rgb(46.363636363636346, 102.27272727272727, 208.63636363636365)"
         },
         "mode": "lines",
         "name": "9",
         "opacity": 0.2,
         "showlegend": false,
         "type": "scatter",
         "x": [
          11,
          12
         ],
         "y": [
          9,
          9
         ]
        },
        {
         "line": {
          "color": "rgb(46.363636363636346, 102.27272727272727, 208.63636363636365)"
         },
         "mode": "lines",
         "name": "9",
         "opacity": 0.2,
         "showlegend": false,
         "type": "scatter",
         "x": [
          13,
          14
         ],
         "y": [
          9,
          9
         ]
        },
        {
         "line": {
          "color": "rgb(46.363636363636346, 102.27272727272727, 208.63636363636365)"
         },
         "mode": "lines",
         "name": "9",
         "opacity": 0.2,
         "showlegend": false,
         "type": "scatter",
         "x": [
          15,
          16
         ],
         "y": [
          9,
          9
         ]
        },
        {
         "line": {
          "color": "rgb(46.363636363636346, 102.27272727272727, 208.63636363636365)"
         },
         "mode": "lines",
         "name": "9",
         "opacity": 0.2,
         "showlegend": false,
         "type": "scatter",
         "x": [
          16,
          17
         ],
         "y": [
          9,
          9
         ]
        },
        {
         "line": {
          "color": "rgb(46.363636363636346, 102.27272727272727, 208.63636363636365)"
         },
         "mode": "lines",
         "name": "9",
         "opacity": 0.2,
         "showlegend": false,
         "type": "scatter",
         "x": [
          19,
          20
         ],
         "y": [
          9,
          9
         ]
        },
        {
         "line": {
          "color": "rgb(46.363636363636346, 102.27272727272727, 208.63636363636365)"
         },
         "mode": "lines",
         "name": "9",
         "opacity": 0.2,
         "showlegend": false,
         "type": "scatter",
         "x": [
          20,
          21
         ],
         "y": [
          9,
          9
         ]
        },
        {
         "line": {
          "color": "rgb(46.363636363636346, 102.27272727272727, 208.63636363636365)"
         },
         "mode": "lines",
         "name": "9",
         "opacity": 0.2,
         "showlegend": false,
         "type": "scatter",
         "x": [
          21,
          22
         ],
         "y": [
          9,
          9
         ]
        },
        {
         "line": {
          "color": "rgb(46.363636363636346, 102.27272727272727, 208.63636363636365)"
         },
         "mode": "lines",
         "name": "9",
         "opacity": 0.2,
         "showlegend": false,
         "type": "scatter",
         "x": [
          22,
          23
         ],
         "y": [
          9,
          9
         ]
        },
        {
         "line": {
          "color": "rgb(23.18181818181816, 113.63636363636363, 231.81818181818184)"
         },
         "mode": "lines",
         "name": "10",
         "opacity": 0.2,
         "showlegend": false,
         "type": "scatter",
         "x": [
          1,
          2
         ],
         "y": [
          10,
          10
         ]
        },
        {
         "line": {
          "color": "rgb(23.18181818181816, 113.63636363636363, 231.81818181818184)"
         },
         "mode": "lines",
         "name": "10",
         "opacity": 0.2,
         "showlegend": false,
         "type": "scatter",
         "x": [
          2,
          3
         ],
         "y": [
          10,
          10
         ]
        },
        {
         "line": {
          "color": "rgb(23.18181818181816, 113.63636363636363, 231.81818181818184)"
         },
         "mode": "lines",
         "name": "10",
         "opacity": 0.2,
         "showlegend": false,
         "type": "scatter",
         "x": [
          3,
          4
         ],
         "y": [
          10,
          10
         ]
        },
        {
         "line": {
          "color": "rgb(23.18181818181816, 113.63636363636363, 231.81818181818184)"
         },
         "mode": "lines",
         "name": "10",
         "opacity": 0.2,
         "showlegend": false,
         "type": "scatter",
         "x": [
          4,
          5
         ],
         "y": [
          10,
          10
         ]
        },
        {
         "line": {
          "color": "rgb(23.18181818181816, 113.63636363636363, 231.81818181818184)"
         },
         "mode": "lines",
         "name": "10",
         "opacity": 0.2,
         "showlegend": false,
         "type": "scatter",
         "x": [
          5,
          6
         ],
         "y": [
          10,
          10
         ]
        },
        {
         "line": {
          "color": "rgb(23.18181818181816, 113.63636363636363, 231.81818181818184)"
         },
         "mode": "lines",
         "name": "10",
         "opacity": 0.2,
         "showlegend": false,
         "type": "scatter",
         "x": [
          6,
          7
         ],
         "y": [
          10,
          10
         ]
        },
        {
         "line": {
          "color": "rgb(23.18181818181816, 113.63636363636363, 231.81818181818184)"
         },
         "mode": "lines",
         "name": "10",
         "opacity": 0.2,
         "showlegend": false,
         "type": "scatter",
         "x": [
          7,
          8
         ],
         "y": [
          10,
          10
         ]
        },
        {
         "line": {
          "color": "rgb(23.18181818181816, 113.63636363636363, 231.81818181818184)"
         },
         "mode": "lines",
         "name": "10",
         "opacity": 0.2,
         "showlegend": false,
         "type": "scatter",
         "x": [
          8,
          9
         ],
         "y": [
          10,
          10
         ]
        },
        {
         "line": {
          "color": "rgb(23.18181818181816, 113.63636363636363, 231.81818181818184)"
         },
         "mode": "lines",
         "name": "10",
         "opacity": 0.2,
         "showlegend": false,
         "type": "scatter",
         "x": [
          9,
          10
         ],
         "y": [
          10,
          10
         ]
        },
        {
         "line": {
          "color": "rgb(23.18181818181816, 113.63636363636363, 231.81818181818184)"
         },
         "mode": "lines",
         "name": "10",
         "opacity": 0.2,
         "showlegend": false,
         "type": "scatter",
         "x": [
          10,
          11
         ],
         "y": [
          10,
          10
         ]
        },
        {
         "line": {
          "color": "rgb(23.18181818181816, 113.63636363636363, 231.81818181818184)"
         },
         "mode": "lines",
         "name": "10",
         "opacity": 0.2,
         "showlegend": false,
         "type": "scatter",
         "x": [
          11,
          12
         ],
         "y": [
          10,
          10
         ]
        },
        {
         "line": {
          "color": "rgb(23.18181818181816, 113.63636363636363, 231.81818181818184)"
         },
         "mode": "lines",
         "name": "10",
         "opacity": 0.2,
         "showlegend": false,
         "type": "scatter",
         "x": [
          13,
          14
         ],
         "y": [
          10,
          10
         ]
        },
        {
         "line": {
          "color": "rgb(23.18181818181816, 113.63636363636363, 231.81818181818184)"
         },
         "mode": "lines",
         "name": "10",
         "opacity": 0.2,
         "showlegend": false,
         "type": "scatter",
         "x": [
          15,
          16
         ],
         "y": [
          10,
          10
         ]
        },
        {
         "line": {
          "color": "rgb(23.18181818181816, 113.63636363636363, 231.81818181818184)"
         },
         "mode": "lines",
         "name": "10",
         "opacity": 0.2,
         "showlegend": false,
         "type": "scatter",
         "x": [
          16,
          17
         ],
         "y": [
          10,
          10
         ]
        },
        {
         "line": {
          "color": "rgb(23.18181818181816, 113.63636363636363, 231.81818181818184)"
         },
         "mode": "lines",
         "name": "10",
         "opacity": 0.2,
         "showlegend": false,
         "type": "scatter",
         "x": [
          19,
          20
         ],
         "y": [
          10,
          10
         ]
        },
        {
         "line": {
          "color": "rgb(23.18181818181816, 113.63636363636363, 231.81818181818184)"
         },
         "mode": "lines",
         "name": "10",
         "opacity": 0.2,
         "showlegend": false,
         "type": "scatter",
         "x": [
          20,
          21
         ],
         "y": [
          10,
          10
         ]
        },
        {
         "line": {
          "color": "rgb(23.18181818181816, 113.63636363636363, 231.81818181818184)"
         },
         "mode": "lines",
         "name": "10",
         "opacity": 0.2,
         "showlegend": false,
         "type": "scatter",
         "x": [
          21,
          22
         ],
         "y": [
          10,
          10
         ]
        },
        {
         "line": {
          "color": "rgb(23.18181818181816, 113.63636363636363, 231.81818181818184)"
         },
         "mode": "lines",
         "name": "10",
         "opacity": 0.2,
         "showlegend": false,
         "type": "scatter",
         "x": [
          22,
          23
         ],
         "y": [
          10,
          10
         ]
        },
        {
         "line": {
          "color": "rgb(0.0, 125.0, 255.0)"
         },
         "mode": "lines",
         "name": "11",
         "opacity": 0.2,
         "showlegend": false,
         "type": "scatter",
         "x": [
          1,
          2
         ],
         "y": [
          11,
          11
         ]
        },
        {
         "line": {
          "color": "rgb(0.0, 125.0, 255.0)"
         },
         "mode": "lines",
         "name": "11",
         "opacity": 0.2,
         "showlegend": false,
         "type": "scatter",
         "x": [
          2,
          3
         ],
         "y": [
          11,
          11
         ]
        },
        {
         "line": {
          "color": "rgb(0.0, 125.0, 255.0)"
         },
         "mode": "lines",
         "name": "11",
         "opacity": 0.2,
         "showlegend": false,
         "type": "scatter",
         "x": [
          3,
          4
         ],
         "y": [
          11,
          11
         ]
        },
        {
         "line": {
          "color": "rgb(0.0, 125.0, 255.0)"
         },
         "mode": "lines",
         "name": "11",
         "opacity": 0.2,
         "showlegend": false,
         "type": "scatter",
         "x": [
          4,
          5
         ],
         "y": [
          11,
          11
         ]
        },
        {
         "line": {
          "color": "rgb(0.0, 125.0, 255.0)"
         },
         "mode": "lines",
         "name": "11",
         "opacity": 0.2,
         "showlegend": false,
         "type": "scatter",
         "x": [
          5,
          6
         ],
         "y": [
          11,
          11
         ]
        },
        {
         "line": {
          "color": "rgb(0.0, 125.0, 255.0)"
         },
         "mode": "lines",
         "name": "11",
         "opacity": 0.2,
         "showlegend": false,
         "type": "scatter",
         "x": [
          6,
          7
         ],
         "y": [
          11,
          11
         ]
        },
        {
         "line": {
          "color": "rgb(0.0, 125.0, 255.0)"
         },
         "mode": "lines",
         "name": "11",
         "opacity": 0.2,
         "showlegend": false,
         "type": "scatter",
         "x": [
          7,
          8
         ],
         "y": [
          11,
          11
         ]
        },
        {
         "line": {
          "color": "rgb(0.0, 125.0, 255.0)"
         },
         "mode": "lines",
         "name": "11",
         "opacity": 0.2,
         "showlegend": false,
         "type": "scatter",
         "x": [
          8,
          9
         ],
         "y": [
          11,
          11
         ]
        },
        {
         "line": {
          "color": "rgb(0.0, 125.0, 255.0)"
         },
         "mode": "lines",
         "name": "11",
         "opacity": 0.2,
         "showlegend": false,
         "type": "scatter",
         "x": [
          9,
          10
         ],
         "y": [
          11,
          11
         ]
        },
        {
         "line": {
          "color": "rgb(0.0, 125.0, 255.0)"
         },
         "mode": "lines",
         "name": "11",
         "opacity": 0.2,
         "showlegend": false,
         "type": "scatter",
         "x": [
          10,
          11
         ],
         "y": [
          11,
          11
         ]
        },
        {
         "line": {
          "color": "rgb(0.0, 125.0, 255.0)"
         },
         "mode": "lines",
         "name": "11",
         "opacity": 0.2,
         "showlegend": false,
         "type": "scatter",
         "x": [
          11,
          12
         ],
         "y": [
          11,
          11
         ]
        },
        {
         "line": {
          "color": "rgb(0.0, 125.0, 255.0)"
         },
         "mode": "lines",
         "name": "11",
         "opacity": 0.2,
         "showlegend": false,
         "type": "scatter",
         "x": [
          13,
          14
         ],
         "y": [
          11,
          11
         ]
        },
        {
         "line": {
          "color": "rgb(0.0, 125.0, 255.0)"
         },
         "mode": "lines",
         "name": "11",
         "opacity": 0.2,
         "showlegend": false,
         "type": "scatter",
         "x": [
          15,
          16
         ],
         "y": [
          11,
          11
         ]
        },
        {
         "line": {
          "color": "rgb(0.0, 125.0, 255.0)"
         },
         "mode": "lines",
         "name": "11",
         "opacity": 0.2,
         "showlegend": false,
         "type": "scatter",
         "x": [
          16,
          17
         ],
         "y": [
          11,
          11
         ]
        },
        {
         "line": {
          "color": "rgb(0.0, 125.0, 255.0)"
         },
         "mode": "lines",
         "name": "11",
         "opacity": 0.2,
         "showlegend": false,
         "type": "scatter",
         "x": [
          19,
          20
         ],
         "y": [
          11,
          11
         ]
        },
        {
         "line": {
          "color": "rgb(0.0, 125.0, 255.0)"
         },
         "mode": "lines",
         "name": "11",
         "opacity": 0.2,
         "showlegend": false,
         "type": "scatter",
         "x": [
          20,
          21
         ],
         "y": [
          11,
          11
         ]
        },
        {
         "line": {
          "color": "rgb(0.0, 125.0, 255.0)"
         },
         "mode": "lines",
         "name": "11",
         "opacity": 0.2,
         "showlegend": false,
         "type": "scatter",
         "x": [
          21,
          22
         ],
         "y": [
          11,
          11
         ]
        },
        {
         "line": {
          "color": "rgb(0.0, 125.0, 255.0)"
         },
         "mode": "lines",
         "name": "11",
         "opacity": 0.2,
         "showlegend": false,
         "type": "scatter",
         "x": [
          22,
          23
         ],
         "y": [
          11,
          11
         ]
        },
        {
         "hoverinfo": "text",
         "hovertext": [
          null,
          null,
          null,
          null,
          null,
          null,
          null,
          null,
          null,
          null,
          null,
          null,
          -0.5490405735240245,
          -0.5490405735240245,
          -0.5490405735240245,
          -0.5490405735240245,
          -0.5490405735240245,
          -0.5490405735240245,
          -0.5490405735240245,
          -0.5490405735240245,
          -0.5490405735240245,
          -0.5490405735240245,
          -0.5490405735240245,
          -0.5490405735240245,
          -0.15531910028891693,
          -0.15531910028891693,
          -0.15531910028891693,
          -0.15531910028891693,
          -0.15531910028891693,
          -0.15531910028891693,
          -0.15531910028891693,
          -0.15531910028891693,
          -0.15531910028891693,
          -0.15531910028891693,
          -0.15531910028891693,
          -0.15531910028891693,
          -0.23477930703970729,
          -0.23477930703970729,
          -0.23477930703970729,
          -0.23477930703970729,
          -0.23477930703970729,
          -0.23477930703970729,
          -0.23477930703970729,
          -0.23477930703970729,
          -0.23477930703970729,
          -0.23477930703970729,
          -0.23477930703970729,
          -0.23477930703970729,
          -0.10007574285051835,
          -0.10007574285051835,
          -0.10007574285051835,
          -0.10007574285051835,
          -0.10007574285051835,
          -0.10007574285051835,
          -0.10007574285051835,
          -0.10007574285051835,
          -0.10007574285051835,
          -0.10007574285051835,
          -0.10007574285051835,
          -0.10007574285051835,
          -0.0819953771894093,
          -0.0819953771894093,
          -0.0819953771894093,
          -0.0819953771894093,
          -0.0819953771894093,
          -0.0819953771894093,
          -0.0819953771894093,
          -0.0819953771894093,
          -0.0819953771894093,
          -0.0819953771894093,
          -0.0819953771894093,
          -0.0819953771894093,
          -0.13582198065975004,
          -0.13582198065975004,
          -0.13582198065975004,
          -0.13582198065975004,
          -0.13582198065975004,
          -0.13582198065975004,
          -0.13582198065975004,
          -0.13582198065975004,
          -0.13582198065975004,
          -0.13582198065975004,
          -0.13582198065975004,
          -0.13582198065975004,
          -0.08108940691518796,
          -0.08108940691518796,
          -0.08108940691518796,
          -0.08108940691518796,
          -0.08108940691518796,
          -0.08108940691518796,
          -0.08108940691518796,
          -0.08108940691518796,
          -0.08108940691518796,
          -0.08108940691518796,
          -0.08108940691518796,
          -0.08108940691518796,
          -0.2781531049431043,
          -0.2781531049431043,
          -0.2781531049431043,
          -0.2781531049431043,
          -0.2781531049431043,
          -0.2781531049431043,
          -0.2781531049431043,
          -0.2781531049431043,
          -0.2781531049431043,
          -0.2781531049431043,
          -0.2781531049431043,
          -0.2781531049431043,
          -0.1431449118369088,
          -0.1431449118369088,
          -0.1431449118369088,
          -0.1431449118369088,
          -0.1431449118369088,
          -0.1431449118369088,
          -0.1431449118369088,
          -0.1431449118369088,
          -0.1431449118369088,
          -0.1431449118369088,
          -0.1431449118369088,
          -0.1431449118369088,
          -0.17771615284710385,
          -0.17771615284710385,
          -0.17771615284710385,
          -0.17771615284710385,
          -0.17771615284710385,
          -0.17771615284710385,
          -0.17771615284710385,
          -0.17771615284710385,
          -0.17771615284710385,
          -0.17771615284710385,
          -0.17771615284710385,
          -0.17771615284710385,
          -0.26458211448560753,
          -0.26458211448560753,
          -0.26458211448560753,
          -0.26458211448560753,
          -0.26458211448560753,
          -0.26458211448560753,
          -0.26458211448560753,
          -0.26458211448560753,
          -0.26458211448560753,
          -0.26458211448560753,
          -0.26458211448560753,
          -0.26458211448560753,
          -0.6660549888284057,
          -0.6660549888284057,
          -0.6660549888284057,
          -0.6660549888284057,
          -0.6660549888284057,
          -0.6660549888284057,
          -0.6660549888284057,
          -0.6660549888284057,
          -0.6660549888284057,
          -0.6660549888284057,
          -0.6660549888284057,
          -0.6660549888284057,
          -0.7695638036728725,
          -0.7695638036728725,
          -0.7695638036728725,
          -0.7695638036728725,
          -0.7695638036728725,
          -0.7695638036728725,
          -0.7695638036728725,
          -0.7695638036728725,
          -0.7695638036728725,
          -0.7695638036728725,
          -0.7695638036728725,
          -0.7695638036728725,
          -0.5679922038718268,
          -0.5679922038718268,
          -0.5679922038718268,
          -0.5679922038718268,
          -0.5679922038718268,
          -0.5679922038718268,
          -0.5679922038718268,
          -0.5679922038718268,
          -0.5679922038718268,
          -0.5679922038718268,
          -0.5679922038718268,
          -0.5679922038718268,
          -0.35133944699416997,
          -0.35133944699416997,
          -0.35133944699416997,
          -0.35133944699416997,
          -0.35133944699416997,
          -0.35133944699416997,
          -0.35133944699416997,
          -0.35133944699416997,
          -0.35133944699416997,
          -0.35133944699416997,
          -0.35133944699416997,
          -0.35133944699416997,
          -0.7911564295765929,
          -0.7911564295765929,
          -0.7911564295765929,
          -0.7911564295765929,
          -0.7911564295765929,
          -0.7911564295765929,
          -0.7911564295765929,
          -0.7911564295765929,
          -0.7911564295765929,
          -0.7911564295765929,
          -0.7911564295765929,
          -0.7911564295765929,
          -1.5375920006808173,
          -1.5375920006808173,
          -1.5375920006808173,
          -1.5375920006808173,
          -1.5375920006808173,
          -1.5375920006808173,
          -1.5375920006808173,
          -1.5375920006808173,
          -1.5375920006808173,
          -1.5375920006808173,
          -1.5375920006808173,
          -1.5375920006808173,
          -0.08957628647251958,
          -0.08957628647251958,
          -0.08957628647251958,
          -0.08957628647251958,
          -0.08957628647251958,
          -0.08957628647251958,
          -0.08957628647251958,
          -0.08957628647251958,
          -0.08957628647251958,
          -0.08957628647251958,
          -0.08957628647251958,
          -0.08957628647251958,
          -4.830103385001145,
          -4.830103385001145,
          -4.830103385001145,
          -4.830103385001145,
          -4.830103385001145,
          -4.830103385001145,
          -4.830103385001145,
          -4.830103385001145,
          -4.830103385001145,
          -4.830103385001145,
          -4.830103385001145,
          -4.830103385001145,
          -0.00032387743804918045,
          -0.00032387743804918045,
          -0.00032387743804918045,
          -0.00032387743804918045,
          -0.00032387743804918045,
          -0.00032387743804918045,
          -0.00032387743804918045,
          -0.00032387743804918045,
          -0.00032387743804918045,
          -0.00032387743804918045,
          -0.00032387743804918045,
          -0.00032387743804918045,
          -0.008103587215785524,
          -0.008103587215785524,
          -0.008103587215785524,
          -0.008103587215785524,
          -0.008103587215785524,
          -0.008103587215785524,
          -0.008103587215785524,
          -0.008103587215785524,
          -0.008103587215785524,
          -0.008103587215785524,
          -0.008103587215785524,
          -0.008103587215785524
         ],
         "line": {
          "color": "green"
         },
         "mode": "lines+markers",
         "type": "scatter",
         "x": [
          1,
          1,
          1,
          1,
          1,
          1,
          1,
          1,
          1,
          1,
          1,
          1,
          2,
          2,
          2,
          2,
          2,
          2,
          2,
          2,
          2,
          2,
          2,
          2,
          3,
          3,
          3,
          3,
          3,
          3,
          3,
          3,
          3,
          3,
          3,
          3,
          4,
          4,
          4,
          4,
          4,
          4,
          4,
          4,
          4,
          4,
          4,
          4,
          5,
          5,
          5,
          5,
          5,
          5,
          5,
          5,
          5,
          5,
          5,
          5,
          6,
          6,
          6,
          6,
          6,
          6,
          6,
          6,
          6,
          6,
          6,
          6,
          7,
          7,
          7,
          7,
          7,
          7,
          7,
          7,
          7,
          7,
          7,
          7,
          8,
          8,
          8,
          8,
          8,
          8,
          8,
          8,
          8,
          8,
          8,
          8,
          9,
          9,
          9,
          9,
          9,
          9,
          9,
          9,
          9,
          9,
          9,
          9,
          10,
          10,
          10,
          10,
          10,
          10,
          10,
          10,
          10,
          10,
          10,
          10,
          11,
          11,
          11,
          11,
          11,
          11,
          11,
          11,
          11,
          11,
          11,
          11,
          12,
          12,
          12,
          12,
          12,
          12,
          12,
          12,
          12,
          12,
          12,
          12,
          13,
          13,
          13,
          13,
          13,
          13,
          13,
          13,
          13,
          13,
          13,
          13,
          14,
          14,
          14,
          14,
          14,
          14,
          14,
          14,
          14,
          14,
          14,
          14,
          15,
          15,
          15,
          15,
          15,
          15,
          15,
          15,
          15,
          15,
          15,
          15,
          16,
          16,
          16,
          16,
          16,
          16,
          16,
          16,
          16,
          16,
          16,
          16,
          17,
          17,
          17,
          17,
          17,
          17,
          17,
          17,
          17,
          17,
          17,
          17,
          18,
          18,
          18,
          18,
          18,
          18,
          18,
          18,
          18,
          18,
          18,
          18,
          19,
          19,
          19,
          19,
          19,
          19,
          19,
          19,
          19,
          19,
          19,
          19,
          20,
          20,
          20,
          20,
          20,
          20,
          20,
          20,
          20,
          20,
          20,
          20,
          21,
          21,
          21,
          21,
          21,
          21,
          21,
          21,
          21,
          21,
          21,
          21,
          22,
          22,
          22,
          22,
          22,
          22,
          22,
          22,
          22,
          22,
          22,
          22
         ],
         "xaxis": "x2",
         "y": [
          null,
          null,
          null,
          null,
          null,
          null,
          null,
          null,
          null,
          null,
          null,
          null,
          -0.5490405735240245,
          -0.5490405735240245,
          -0.5490405735240245,
          -0.5490405735240245,
          -0.5490405735240245,
          -0.5490405735240245,
          -0.5490405735240245,
          -0.5490405735240245,
          -0.5490405735240245,
          -0.5490405735240245,
          -0.5490405735240245,
          -0.5490405735240245,
          -0.15531910028891693,
          -0.15531910028891693,
          -0.15531910028891693,
          -0.15531910028891693,
          -0.15531910028891693,
          -0.15531910028891693,
          -0.15531910028891693,
          -0.15531910028891693,
          -0.15531910028891693,
          -0.15531910028891693,
          -0.15531910028891693,
          -0.15531910028891693,
          -0.23477930703970729,
          -0.23477930703970729,
          -0.23477930703970729,
          -0.23477930703970729,
          -0.23477930703970729,
          -0.23477930703970729,
          -0.23477930703970729,
          -0.23477930703970729,
          -0.23477930703970729,
          -0.23477930703970729,
          -0.23477930703970729,
          -0.23477930703970729,
          -0.10007574285051835,
          -0.10007574285051835,
          -0.10007574285051835,
          -0.10007574285051835,
          -0.10007574285051835,
          -0.10007574285051835,
          -0.10007574285051835,
          -0.10007574285051835,
          -0.10007574285051835,
          -0.10007574285051835,
          -0.10007574285051835,
          -0.10007574285051835,
          -0.0819953771894093,
          -0.0819953771894093,
          -0.0819953771894093,
          -0.0819953771894093,
          -0.0819953771894093,
          -0.0819953771894093,
          -0.0819953771894093,
          -0.0819953771894093,
          -0.0819953771894093,
          -0.0819953771894093,
          -0.0819953771894093,
          -0.0819953771894093,
          -0.13582198065975004,
          -0.13582198065975004,
          -0.13582198065975004,
          -0.13582198065975004,
          -0.13582198065975004,
          -0.13582198065975004,
          -0.13582198065975004,
          -0.13582198065975004,
          -0.13582198065975004,
          -0.13582198065975004,
          -0.13582198065975004,
          -0.13582198065975004,
          -0.08108940691518796,
          -0.08108940691518796,
          -0.08108940691518796,
          -0.08108940691518796,
          -0.08108940691518796,
          -0.08108940691518796,
          -0.08108940691518796,
          -0.08108940691518796,
          -0.08108940691518796,
          -0.08108940691518796,
          -0.08108940691518796,
          -0.08108940691518796,
          -0.2781531049431043,
          -0.2781531049431043,
          -0.2781531049431043,
          -0.2781531049431043,
          -0.2781531049431043,
          -0.2781531049431043,
          -0.2781531049431043,
          -0.2781531049431043,
          -0.2781531049431043,
          -0.2781531049431043,
          -0.2781531049431043,
          -0.2781531049431043,
          -0.1431449118369088,
          -0.1431449118369088,
          -0.1431449118369088,
          -0.1431449118369088,
          -0.1431449118369088,
          -0.1431449118369088,
          -0.1431449118369088,
          -0.1431449118369088,
          -0.1431449118369088,
          -0.1431449118369088,
          -0.1431449118369088,
          -0.1431449118369088,
          -0.17771615284710385,
          -0.17771615284710385,
          -0.17771615284710385,
          -0.17771615284710385,
          -0.17771615284710385,
          -0.17771615284710385,
          -0.17771615284710385,
          -0.17771615284710385,
          -0.17771615284710385,
          -0.17771615284710385,
          -0.17771615284710385,
          -0.17771615284710385,
          -0.26458211448560753,
          -0.26458211448560753,
          -0.26458211448560753,
          -0.26458211448560753,
          -0.26458211448560753,
          -0.26458211448560753,
          -0.26458211448560753,
          -0.26458211448560753,
          -0.26458211448560753,
          -0.26458211448560753,
          -0.26458211448560753,
          -0.26458211448560753,
          -0.6660549888284057,
          -0.6660549888284057,
          -0.6660549888284057,
          -0.6660549888284057,
          -0.6660549888284057,
          -0.6660549888284057,
          -0.6660549888284057,
          -0.6660549888284057,
          -0.6660549888284057,
          -0.6660549888284057,
          -0.6660549888284057,
          -0.6660549888284057,
          -0.7695638036728725,
          -0.7695638036728725,
          -0.7695638036728725,
          -0.7695638036728725,
          -0.7695638036728725,
          -0.7695638036728725,
          -0.7695638036728725,
          -0.7695638036728725,
          -0.7695638036728725,
          -0.7695638036728725,
          -0.7695638036728725,
          -0.7695638036728725,
          -0.5679922038718268,
          -0.5679922038718268,
          -0.5679922038718268,
          -0.5679922038718268,
          -0.5679922038718268,
          -0.5679922038718268,
          -0.5679922038718268,
          -0.5679922038718268,
          -0.5679922038718268,
          -0.5679922038718268,
          -0.5679922038718268,
          -0.5679922038718268,
          -0.35133944699416997,
          -0.35133944699416997,
          -0.35133944699416997,
          -0.35133944699416997,
          -0.35133944699416997,
          -0.35133944699416997,
          -0.35133944699416997,
          -0.35133944699416997,
          -0.35133944699416997,
          -0.35133944699416997,
          -0.35133944699416997,
          -0.35133944699416997,
          -0.7911564295765929,
          -0.7911564295765929,
          -0.7911564295765929,
          -0.7911564295765929,
          -0.7911564295765929,
          -0.7911564295765929,
          -0.7911564295765929,
          -0.7911564295765929,
          -0.7911564295765929,
          -0.7911564295765929,
          -0.7911564295765929,
          -0.7911564295765929,
          -1.5375920006808173,
          -1.5375920006808173,
          -1.5375920006808173,
          -1.5375920006808173,
          -1.5375920006808173,
          -1.5375920006808173,
          -1.5375920006808173,
          -1.5375920006808173,
          -1.5375920006808173,
          -1.5375920006808173,
          -1.5375920006808173,
          -1.5375920006808173,
          -0.08957628647251958,
          -0.08957628647251958,
          -0.08957628647251958,
          -0.08957628647251958,
          -0.08957628647251958,
          -0.08957628647251958,
          -0.08957628647251958,
          -0.08957628647251958,
          -0.08957628647251958,
          -0.08957628647251958,
          -0.08957628647251958,
          -0.08957628647251958,
          -4.830103385001145,
          -4.830103385001145,
          -4.830103385001145,
          -4.830103385001145,
          -4.830103385001145,
          -4.830103385001145,
          -4.830103385001145,
          -4.830103385001145,
          -4.830103385001145,
          -4.830103385001145,
          -4.830103385001145,
          -4.830103385001145,
          -0.00032387743804918045,
          -0.00032387743804918045,
          -0.00032387743804918045,
          -0.00032387743804918045,
          -0.00032387743804918045,
          -0.00032387743804918045,
          -0.00032387743804918045,
          -0.00032387743804918045,
          -0.00032387743804918045,
          -0.00032387743804918045,
          -0.00032387743804918045,
          -0.00032387743804918045,
          -0.008103587215785524,
          -0.008103587215785524,
          -0.008103587215785524,
          -0.008103587215785524,
          -0.008103587215785524,
          -0.008103587215785524,
          -0.008103587215785524,
          -0.008103587215785524,
          -0.008103587215785524,
          -0.008103587215785524,
          -0.008103587215785524,
          -0.008103587215785524
         ],
         "yaxis": "y2"
        }
       ],
       "layout": {
        "annotations": [
         {
          "font": {
           "size": 16
          },
          "showarrow": false,
          "text": "particles",
          "x": 0.5,
          "xanchor": "center",
          "xref": "paper",
          "y": 1,
          "yanchor": "bottom",
          "yref": "paper"
         },
         {
          "font": {
           "size": 16
          },
          "showarrow": false,
          "text": "est. logprob (change in average weight)",
          "x": 0.5,
          "xanchor": "center",
          "xref": "paper",
          "y": 0.18000000000000002,
          "yanchor": "bottom",
          "yref": "paper"
         }
        ],
        "height": 600,
        "margin": {
         "b": 10,
         "l": 10,
         "r": 10,
         "t": 40
        },
        "plot_bgcolor": "#fff",
        "shapes": [
         {
          "line": {
           "color": "gray",
           "width": 4
          },
          "opacity": 0.15,
          "type": "line",
          "x0": 2,
          "x1": 2,
          "xref": "x2",
          "y0": 0,
          "y1": 1,
          "yref": "y2 domain"
         },
         {
          "line": {
           "color": "gray",
           "width": 4
          },
          "opacity": 0.15,
          "type": "line",
          "x0": 3,
          "x1": 3,
          "xref": "x2",
          "y0": 0,
          "y1": 1,
          "yref": "y2 domain"
         },
         {
          "line": {
           "color": "gray",
           "width": 4
          },
          "opacity": 0.15,
          "type": "line",
          "x0": 4,
          "x1": 4,
          "xref": "x2",
          "y0": 0,
          "y1": 1,
          "yref": "y2 domain"
         },
         {
          "line": {
           "color": "gray",
           "width": 4
          },
          "opacity": 0.15,
          "type": "line",
          "x0": 5,
          "x1": 5,
          "xref": "x2",
          "y0": 0,
          "y1": 1,
          "yref": "y2 domain"
         },
         {
          "line": {
           "color": "gray",
           "width": 4
          },
          "opacity": 0.15,
          "type": "line",
          "x0": 6,
          "x1": 6,
          "xref": "x2",
          "y0": 0,
          "y1": 1,
          "yref": "y2 domain"
         },
         {
          "line": {
           "color": "gray",
           "width": 4
          },
          "opacity": 0.15,
          "type": "line",
          "x0": 7,
          "x1": 7,
          "xref": "x2",
          "y0": 0,
          "y1": 1,
          "yref": "y2 domain"
         },
         {
          "line": {
           "color": "gray",
           "width": 4
          },
          "opacity": 0.15,
          "type": "line",
          "x0": 8,
          "x1": 8,
          "xref": "x2",
          "y0": 0,
          "y1": 1,
          "yref": "y2 domain"
         },
         {
          "line": {
           "color": "gray",
           "width": 4
          },
          "opacity": 0.15,
          "type": "line",
          "x0": 9,
          "x1": 9,
          "xref": "x2",
          "y0": 0,
          "y1": 1,
          "yref": "y2 domain"
         },
         {
          "line": {
           "color": "gray",
           "width": 4
          },
          "opacity": 0.15,
          "type": "line",
          "x0": 10,
          "x1": 10,
          "xref": "x2",
          "y0": 0,
          "y1": 1,
          "yref": "y2 domain"
         },
         {
          "line": {
           "color": "gray",
           "width": 4
          },
          "opacity": 0.15,
          "type": "line",
          "x0": 11,
          "x1": 11,
          "xref": "x2",
          "y0": 0,
          "y1": 1,
          "yref": "y2 domain"
         },
         {
          "line": {
           "color": "gray",
           "width": 4
          },
          "opacity": 0.15,
          "type": "line",
          "x0": 12,
          "x1": 12,
          "xref": "x2",
          "y0": 0,
          "y1": 1,
          "yref": "y2 domain"
         },
         {
          "line": {
           "color": "gray",
           "width": 4
          },
          "opacity": 0.15,
          "type": "line",
          "x0": 13,
          "x1": 13,
          "xref": "x2",
          "y0": 0,
          "y1": 1,
          "yref": "y2 domain"
         },
         {
          "line": {
           "color": "gray",
           "width": 4
          },
          "opacity": 0.15,
          "type": "line",
          "x0": 14,
          "x1": 14,
          "xref": "x2",
          "y0": 0,
          "y1": 1,
          "yref": "y2 domain"
         },
         {
          "line": {
           "color": "gray",
           "width": 4
          },
          "opacity": 0.15,
          "type": "line",
          "x0": 15,
          "x1": 15,
          "xref": "x2",
          "y0": 0,
          "y1": 1,
          "yref": "y2 domain"
         },
         {
          "line": {
           "color": "gray",
           "width": 4
          },
          "opacity": 0.15,
          "type": "line",
          "x0": 16,
          "x1": 16,
          "xref": "x2",
          "y0": 0,
          "y1": 1,
          "yref": "y2 domain"
         },
         {
          "line": {
           "color": "gray",
           "width": 4
          },
          "opacity": 0.15,
          "type": "line",
          "x0": 17,
          "x1": 17,
          "xref": "x2",
          "y0": 0,
          "y1": 1,
          "yref": "y2 domain"
         },
         {
          "line": {
           "color": "gray",
           "width": 4
          },
          "opacity": 0.15,
          "type": "line",
          "x0": 18,
          "x1": 18,
          "xref": "x2",
          "y0": 0,
          "y1": 1,
          "yref": "y2 domain"
         },
         {
          "line": {
           "color": "gray",
           "width": 4
          },
          "opacity": 0.15,
          "type": "line",
          "x0": 19,
          "x1": 19,
          "xref": "x2",
          "y0": 0,
          "y1": 1,
          "yref": "y2 domain"
         },
         {
          "line": {
           "color": "gray",
           "width": 4
          },
          "opacity": 0.15,
          "type": "line",
          "x0": 20,
          "x1": 20,
          "xref": "x2",
          "y0": 0,
          "y1": 1,
          "yref": "y2 domain"
         },
         {
          "line": {
           "color": "gray",
           "width": 4
          },
          "opacity": 0.15,
          "type": "line",
          "x0": 21,
          "x1": 21,
          "xref": "x2",
          "y0": 0,
          "y1": 1,
          "yref": "y2 domain"
         },
         {
          "line": {
           "color": "gray",
           "width": 4
          },
          "opacity": 0.15,
          "type": "line",
          "x0": 22,
          "x1": 22,
          "xref": "x2",
          "y0": 0,
          "y1": 1,
          "yref": "y2 domain"
         }
        ],
        "showlegend": false,
        "template": {
         "data": {
          "bar": [
           {
            "error_x": {
             "color": "#2a3f5f"
            },
            "error_y": {
             "color": "#2a3f5f"
            },
            "marker": {
             "line": {
              "color": "#E5ECF6",
              "width": 0.5
             },
             "pattern": {
              "fillmode": "overlay",
              "size": 10,
              "solidity": 0.2
             }
            },
            "type": "bar"
           }
          ],
          "barpolar": [
           {
            "marker": {
             "line": {
              "color": "#E5ECF6",
              "width": 0.5
             },
             "pattern": {
              "fillmode": "overlay",
              "size": 10,
              "solidity": 0.2
             }
            },
            "type": "barpolar"
           }
          ],
          "carpet": [
           {
            "aaxis": {
             "endlinecolor": "#2a3f5f",
             "gridcolor": "white",
             "linecolor": "white",
             "minorgridcolor": "white",
             "startlinecolor": "#2a3f5f"
            },
            "baxis": {
             "endlinecolor": "#2a3f5f",
             "gridcolor": "white",
             "linecolor": "white",
             "minorgridcolor": "white",
             "startlinecolor": "#2a3f5f"
            },
            "type": "carpet"
           }
          ],
          "choropleth": [
           {
            "colorbar": {
             "outlinewidth": 0,
             "ticks": ""
            },
            "type": "choropleth"
           }
          ],
          "contour": [
           {
            "colorbar": {
             "outlinewidth": 0,
             "ticks": ""
            },
            "colorscale": [
             [
              0,
              "#0d0887"
             ],
             [
              0.1111111111111111,
              "#46039f"
             ],
             [
              0.2222222222222222,
              "#7201a8"
             ],
             [
              0.3333333333333333,
              "#9c179e"
             ],
             [
              0.4444444444444444,
              "#bd3786"
             ],
             [
              0.5555555555555556,
              "#d8576b"
             ],
             [
              0.6666666666666666,
              "#ed7953"
             ],
             [
              0.7777777777777778,
              "#fb9f3a"
             ],
             [
              0.8888888888888888,
              "#fdca26"
             ],
             [
              1,
              "#f0f921"
             ]
            ],
            "type": "contour"
           }
          ],
          "contourcarpet": [
           {
            "colorbar": {
             "outlinewidth": 0,
             "ticks": ""
            },
            "type": "contourcarpet"
           }
          ],
          "heatmap": [
           {
            "colorbar": {
             "outlinewidth": 0,
             "ticks": ""
            },
            "colorscale": [
             [
              0,
              "#0d0887"
             ],
             [
              0.1111111111111111,
              "#46039f"
             ],
             [
              0.2222222222222222,
              "#7201a8"
             ],
             [
              0.3333333333333333,
              "#9c179e"
             ],
             [
              0.4444444444444444,
              "#bd3786"
             ],
             [
              0.5555555555555556,
              "#d8576b"
             ],
             [
              0.6666666666666666,
              "#ed7953"
             ],
             [
              0.7777777777777778,
              "#fb9f3a"
             ],
             [
              0.8888888888888888,
              "#fdca26"
             ],
             [
              1,
              "#f0f921"
             ]
            ],
            "type": "heatmap"
           }
          ],
          "heatmapgl": [
           {
            "colorbar": {
             "outlinewidth": 0,
             "ticks": ""
            },
            "colorscale": [
             [
              0,
              "#0d0887"
             ],
             [
              0.1111111111111111,
              "#46039f"
             ],
             [
              0.2222222222222222,
              "#7201a8"
             ],
             [
              0.3333333333333333,
              "#9c179e"
             ],
             [
              0.4444444444444444,
              "#bd3786"
             ],
             [
              0.5555555555555556,
              "#d8576b"
             ],
             [
              0.6666666666666666,
              "#ed7953"
             ],
             [
              0.7777777777777778,
              "#fb9f3a"
             ],
             [
              0.8888888888888888,
              "#fdca26"
             ],
             [
              1,
              "#f0f921"
             ]
            ],
            "type": "heatmapgl"
           }
          ],
          "histogram": [
           {
            "marker": {
             "pattern": {
              "fillmode": "overlay",
              "size": 10,
              "solidity": 0.2
             }
            },
            "type": "histogram"
           }
          ],
          "histogram2d": [
           {
            "colorbar": {
             "outlinewidth": 0,
             "ticks": ""
            },
            "colorscale": [
             [
              0,
              "#0d0887"
             ],
             [
              0.1111111111111111,
              "#46039f"
             ],
             [
              0.2222222222222222,
              "#7201a8"
             ],
             [
              0.3333333333333333,
              "#9c179e"
             ],
             [
              0.4444444444444444,
              "#bd3786"
             ],
             [
              0.5555555555555556,
              "#d8576b"
             ],
             [
              0.6666666666666666,
              "#ed7953"
             ],
             [
              0.7777777777777778,
              "#fb9f3a"
             ],
             [
              0.8888888888888888,
              "#fdca26"
             ],
             [
              1,
              "#f0f921"
             ]
            ],
            "type": "histogram2d"
           }
          ],
          "histogram2dcontour": [
           {
            "colorbar": {
             "outlinewidth": 0,
             "ticks": ""
            },
            "colorscale": [
             [
              0,
              "#0d0887"
             ],
             [
              0.1111111111111111,
              "#46039f"
             ],
             [
              0.2222222222222222,
              "#7201a8"
             ],
             [
              0.3333333333333333,
              "#9c179e"
             ],
             [
              0.4444444444444444,
              "#bd3786"
             ],
             [
              0.5555555555555556,
              "#d8576b"
             ],
             [
              0.6666666666666666,
              "#ed7953"
             ],
             [
              0.7777777777777778,
              "#fb9f3a"
             ],
             [
              0.8888888888888888,
              "#fdca26"
             ],
             [
              1,
              "#f0f921"
             ]
            ],
            "type": "histogram2dcontour"
           }
          ],
          "mesh3d": [
           {
            "colorbar": {
             "outlinewidth": 0,
             "ticks": ""
            },
            "type": "mesh3d"
           }
          ],
          "parcoords": [
           {
            "line": {
             "colorbar": {
              "outlinewidth": 0,
              "ticks": ""
             }
            },
            "type": "parcoords"
           }
          ],
          "pie": [
           {
            "automargin": true,
            "type": "pie"
           }
          ],
          "scatter": [
           {
            "fillpattern": {
             "fillmode": "overlay",
             "size": 10,
             "solidity": 0.2
            },
            "type": "scatter"
           }
          ],
          "scatter3d": [
           {
            "line": {
             "colorbar": {
              "outlinewidth": 0,
              "ticks": ""
             }
            },
            "marker": {
             "colorbar": {
              "outlinewidth": 0,
              "ticks": ""
             }
            },
            "type": "scatter3d"
           }
          ],
          "scattercarpet": [
           {
            "marker": {
             "colorbar": {
              "outlinewidth": 0,
              "ticks": ""
             }
            },
            "type": "scattercarpet"
           }
          ],
          "scattergeo": [
           {
            "marker": {
             "colorbar": {
              "outlinewidth": 0,
              "ticks": ""
             }
            },
            "type": "scattergeo"
           }
          ],
          "scattergl": [
           {
            "marker": {
             "colorbar": {
              "outlinewidth": 0,
              "ticks": ""
             }
            },
            "type": "scattergl"
           }
          ],
          "scattermapbox": [
           {
            "marker": {
             "colorbar": {
              "outlinewidth": 0,
              "ticks": ""
             }
            },
            "type": "scattermapbox"
           }
          ],
          "scatterpolar": [
           {
            "marker": {
             "colorbar": {
              "outlinewidth": 0,
              "ticks": ""
             }
            },
            "type": "scatterpolar"
           }
          ],
          "scatterpolargl": [
           {
            "marker": {
             "colorbar": {
              "outlinewidth": 0,
              "ticks": ""
             }
            },
            "type": "scatterpolargl"
           }
          ],
          "scatterternary": [
           {
            "marker": {
             "colorbar": {
              "outlinewidth": 0,
              "ticks": ""
             }
            },
            "type": "scatterternary"
           }
          ],
          "surface": [
           {
            "colorbar": {
             "outlinewidth": 0,
             "ticks": ""
            },
            "colorscale": [
             [
              0,
              "#0d0887"
             ],
             [
              0.1111111111111111,
              "#46039f"
             ],
             [
              0.2222222222222222,
              "#7201a8"
             ],
             [
              0.3333333333333333,
              "#9c179e"
             ],
             [
              0.4444444444444444,
              "#bd3786"
             ],
             [
              0.5555555555555556,
              "#d8576b"
             ],
             [
              0.6666666666666666,
              "#ed7953"
             ],
             [
              0.7777777777777778,
              "#fb9f3a"
             ],
             [
              0.8888888888888888,
              "#fdca26"
             ],
             [
              1,
              "#f0f921"
             ]
            ],
            "type": "surface"
           }
          ],
          "table": [
           {
            "cells": {
             "fill": {
              "color": "#EBF0F8"
             },
             "line": {
              "color": "white"
             }
            },
            "header": {
             "fill": {
              "color": "#C8D4E3"
             },
             "line": {
              "color": "white"
             }
            },
            "type": "table"
           }
          ]
         },
         "layout": {
          "annotationdefaults": {
           "arrowcolor": "#2a3f5f",
           "arrowhead": 0,
           "arrowwidth": 1
          },
          "autotypenumbers": "strict",
          "coloraxis": {
           "colorbar": {
            "outlinewidth": 0,
            "ticks": ""
           }
          },
          "colorscale": {
           "diverging": [
            [
             0,
             "#8e0152"
            ],
            [
             0.1,
             "#c51b7d"
            ],
            [
             0.2,
             "#de77ae"
            ],
            [
             0.3,
             "#f1b6da"
            ],
            [
             0.4,
             "#fde0ef"
            ],
            [
             0.5,
             "#f7f7f7"
            ],
            [
             0.6,
             "#e6f5d0"
            ],
            [
             0.7,
             "#b8e186"
            ],
            [
             0.8,
             "#7fbc41"
            ],
            [
             0.9,
             "#4d9221"
            ],
            [
             1,
             "#276419"
            ]
           ],
           "sequential": [
            [
             0,
             "#0d0887"
            ],
            [
             0.1111111111111111,
             "#46039f"
            ],
            [
             0.2222222222222222,
             "#7201a8"
            ],
            [
             0.3333333333333333,
             "#9c179e"
            ],
            [
             0.4444444444444444,
             "#bd3786"
            ],
            [
             0.5555555555555556,
             "#d8576b"
            ],
            [
             0.6666666666666666,
             "#ed7953"
            ],
            [
             0.7777777777777778,
             "#fb9f3a"
            ],
            [
             0.8888888888888888,
             "#fdca26"
            ],
            [
             1,
             "#f0f921"
            ]
           ],
           "sequentialminus": [
            [
             0,
             "#0d0887"
            ],
            [
             0.1111111111111111,
             "#46039f"
            ],
            [
             0.2222222222222222,
             "#7201a8"
            ],
            [
             0.3333333333333333,
             "#9c179e"
            ],
            [
             0.4444444444444444,
             "#bd3786"
            ],
            [
             0.5555555555555556,
             "#d8576b"
            ],
            [
             0.6666666666666666,
             "#ed7953"
            ],
            [
             0.7777777777777778,
             "#fb9f3a"
            ],
            [
             0.8888888888888888,
             "#fdca26"
            ],
            [
             1,
             "#f0f921"
            ]
           ]
          },
          "colorway": [
           "#636efa",
           "#EF553B",
           "#00cc96",
           "#ab63fa",
           "#FFA15A",
           "#19d3f3",
           "#FF6692",
           "#B6E880",
           "#FF97FF",
           "#FECB52"
          ],
          "font": {
           "color": "#2a3f5f"
          },
          "geo": {
           "bgcolor": "white",
           "lakecolor": "white",
           "landcolor": "#E5ECF6",
           "showlakes": true,
           "showland": true,
           "subunitcolor": "white"
          },
          "hoverlabel": {
           "align": "left"
          },
          "hovermode": "closest",
          "mapbox": {
           "style": "light"
          },
          "paper_bgcolor": "white",
          "plot_bgcolor": "#E5ECF6",
          "polar": {
           "angularaxis": {
            "gridcolor": "white",
            "linecolor": "white",
            "ticks": ""
           },
           "bgcolor": "#E5ECF6",
           "radialaxis": {
            "gridcolor": "white",
            "linecolor": "white",
            "ticks": ""
           }
          },
          "scene": {
           "xaxis": {
            "backgroundcolor": "#E5ECF6",
            "gridcolor": "white",
            "gridwidth": 2,
            "linecolor": "white",
            "showbackground": true,
            "ticks": "",
            "zerolinecolor": "white"
           },
           "yaxis": {
            "backgroundcolor": "#E5ECF6",
            "gridcolor": "white",
            "gridwidth": 2,
            "linecolor": "white",
            "showbackground": true,
            "ticks": "",
            "zerolinecolor": "white"
           },
           "zaxis": {
            "backgroundcolor": "#E5ECF6",
            "gridcolor": "white",
            "gridwidth": 2,
            "linecolor": "white",
            "showbackground": true,
            "ticks": "",
            "zerolinecolor": "white"
           }
          },
          "shapedefaults": {
           "line": {
            "color": "#2a3f5f"
           }
          },
          "ternary": {
           "aaxis": {
            "gridcolor": "white",
            "linecolor": "white",
            "ticks": ""
           },
           "baxis": {
            "gridcolor": "white",
            "linecolor": "white",
            "ticks": ""
           },
           "bgcolor": "#E5ECF6",
           "caxis": {
            "gridcolor": "white",
            "linecolor": "white",
            "ticks": ""
           }
          },
          "title": {
           "x": 0.05
          },
          "xaxis": {
           "automargin": true,
           "gridcolor": "white",
           "linecolor": "white",
           "ticks": "",
           "title": {
            "standoff": 15
           },
           "zerolinecolor": "white",
           "zerolinewidth": 2
          },
          "yaxis": {
           "automargin": true,
           "gridcolor": "white",
           "linecolor": "white",
           "ticks": "",
           "title": {
            "standoff": 15
           },
           "zerolinecolor": "white",
           "zerolinewidth": 2
          }
         }
        },
        "xaxis": {
         "anchor": "y",
         "domain": [
          0,
          1
         ],
         "matches": "x2",
         "showticklabels": false
        },
        "xaxis2": {
         "anchor": "y2",
         "domain": [
          0,
          1
         ]
        },
        "yaxis": {
         "anchor": "x",
         "domain": [
          0.28,
          1
         ]
        },
        "yaxis2": {
         "anchor": "x2",
         "domain": [
          0,
          0.18000000000000002
         ]
        }
       }
      }
     },
     "metadata": {},
     "output_type": "display_data"
    }
   ],
   "source": [
    "record.plotly(\n",
    "    # xrange=[12,17], #edit x range like [0,10] to see a subset\n",
    "    show_est_logprob=True,\n",
    "    height=600,\n",
    "    untangle=True,  # reorder the particles before plotting to avoid crossing lines in resampling\n",
    ")"
   ]
  },
  {
   "cell_type": "code",
   "execution_count": 10,
   "metadata": {},
   "outputs": [],
   "source": [
    "# Save an example\n",
    "import json\n",
    "import numpy as np\n",
    "\n",
    "WRITE_EXAMPLE = 0\n",
    "READ_EXAMPLE = 0\n",
    "\n",
    "\n",
    "class NumpyEncoder(json.JSONEncoder):\n",
    "    def default(self, obj):\n",
    "        if isinstance(obj, np.integer):\n",
    "            return int(obj)\n",
    "        elif isinstance(obj, np.floating):\n",
    "            return float(obj)\n",
    "        elif isinstance(obj, np.ndarray):\n",
    "            return obj.tolist()\n",
    "        return super(NumpyEncoder, self).default(obj)\n",
    "\n",
    "\n",
    "if WRITE_EXAMPLE:\n",
    "    with open('smc_viz/MyExample.json', 'w') as f:\n",
    "        json.dump(particle_approx.record, f, cls=NumpyEncoder)\n",
    "if READ_EXAMPLE:\n",
    "    from genparse.record import SMCRecord\n",
    "\n",
    "    with open('smc_viz/MyExample.json', 'r') as f:\n",
    "        record = SMCRecord(**json.load(f))"
   ]
  },
  {
   "cell_type": "markdown",
   "metadata": {},
   "source": [
    "Write out example figures"
   ]
  },
  {
   "cell_type": "code",
   "execution_count": 21,
   "metadata": {},
   "outputs": [],
   "source": [
    "import os\n",
    "\n",
    "\n",
    "def write_images_scrollby(windowsize=10, outdir='figs', height=800, width=1000):\n",
    "    record.plotly(height=height, width=width).write_image(\n",
    "        os.path.join(outdir, 'EXAMPLE.png')\n",
    "    )\n",
    "    for x_ in range(len(record['step'])):\n",
    "        record.plotly(xrange=[0, x_], height=height, width=width).write_image(\n",
    "            os.path.join(outdir, f'TMP{x_:02d}.png')\n",
    "        )\n",
    "\n",
    "\n",
    "if 0:\n",
    "    write_images_scrollby()"
   ]
  }
 ],
 "metadata": {
  "kernelspec": {
   "display_name": "Python 3 (ipykernel)",
   "language": "python",
   "name": "python3"
  },
  "language_info": {
   "codemirror_mode": {
    "name": "ipython",
    "version": 3
   },
   "file_extension": ".py",
   "mimetype": "text/x-python",
   "name": "python",
   "nbconvert_exporter": "python",
   "pygments_lexer": "ipython3",
   "version": "3.10.14"
  }
 },
 "nbformat": 4,
 "nbformat_minor": 4
}
