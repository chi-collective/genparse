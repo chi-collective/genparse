{
 "cells": [
  {
   "cell_type": "code",
   "execution_count": 1,
   "metadata": {},
   "outputs": [],
   "source": [
    "%load_ext autoreload\n",
    "%autoreload all"
   ]
  },
  {
   "cell_type": "code",
   "execution_count": 2,
   "metadata": {},
   "outputs": [],
   "source": [
    "import nest_asyncio\n",
    "\n",
    "nest_asyncio.apply()\n",
    "\n",
    "prompt = \"\"\"\n",
    "    You have access to a political survey data table named \"data\", which includes the following columns:\n",
    "    - \"age\" (integer)\n",
    "    - \"gender\" (\"male\" or \"female\"),\n",
    "    - \"year\" (integer)\n",
    "    - \"state_color\" (\"blue\" or \"red\")\n",
    "    - \"zipcode\" (integer)\n",
    "    - \"vote\" (\"democrat\" or \"republican\") \n",
    "    - \"race_ethnicity\" (\"white\", \"black\", or \"latino\").\n",
    "\n",
    "    Q: Write a SQL query that shows individuals' age and gender, for people over 50 years old.\n",
    "    A: SELECT age, gender FROM data WHERE age>50 </s>\n",
    "    Q: Write a SQL query that shows individuals' vote and zipcode, ordered from lowest to highest age.\n",
    "    A: SELECT vote, zipcode, age FROM data ORDER BY age ASC </s>\n",
    "    Q: Write a SQL query that returns white voters' average age for each state color. \n",
    "    A:\"\"\"\n",
    "\n",
    "# an ambiguous prompt\n",
    "prompt = \"\"\"\n",
    "    You have access to a political survey data table named \"data\", which includes the following columns:\n",
    "    - \"age\" (integer)\n",
    "    - \"gender\" (\"male\" or \"female\"),\n",
    "    - \"year\" (integer)\n",
    "    - \"state_color\" (\"blue\" or \"red\")\n",
    "    - \"zipcode\" (integer)\n",
    "    - \"vote\" (\"democrat\" or \"republican\") \n",
    "    - \"race_ethnicity\" (\"white\", \"black\", or \"latino\").\n",
    "\n",
    "    Q: Write a SQL query that shows individuals' age and gender, for people over 50 years old.\n",
    "    A: SELECT age, gender FROM data WHERE age>50 </s>\n",
    "    Q: Write a SQL query that shows individuals' vote and zipcode, ordered from lowest to highest age.\n",
    "    A: SELECT vote, zipcode, age FROM data ORDER BY age ASC </s>\n",
    "    Q: Write a SQL query that returns the average proportion of votes by party for young versus old voters. \n",
    "    A:\"\"\"\n",
    "\n",
    "very_restricted_sql = r\"\"\"\n",
    "    start: WS? \"SELECT\" WS select_expr WS \"FROM\" WS from_expr [WS \"WHERE\" WS bool_condition] [WS \"GROUP BY\" WS var_list] [WS \"ORDER BY\" WS orderby_expr] WS EOS\n",
    "    EOS: \"</s>\"\n",
    "    select_expr: STAR | select_list\n",
    "    bool_condition: bool_expr | \"(\" bool_condition WS \"AND\" WS bool_condition \")\" | \"(\" bool_condition WS \"OR\" WS bool_condition \")\"\n",
    "    bool_expr: var \"=\" value | var \">\" value | var \"<\" value\n",
    "    from_expr: \"data\"\n",
    "    orderby_expr: var_list WS \"ASC\" | var_list WS \"DESC\"\n",
    "    select_list: select_var (\",\" WS select_var)*\n",
    "    var_list: var (\",\" WS var)*\n",
    "    select_var: var | \"AVG(\" var \")\" | \"MEDIAN(\" var \")\" | \"COUNT(\" var \")\"\n",
    "    var: \"age\" | \"gender\" | \"year\" | \"state_color\" | \"zipcode\" | \"vote\" | \"race_ethnicity\"\n",
    "    value: NUMBER | \"'red'\" | \"'blue'\" | \"'white'\" | \"'black'\" | \"'latino'\" | \"'republican'\" | \"'democrat'\" | \"'male'\" | \"'female'\"\n",
    "    STAR: \"*\"\n",
    "    NUMBER: /\\d+/\n",
    "    WS: /[ ]/\n",
    "\"\"\""
   ]
  },
  {
   "cell_type": "code",
   "execution_count": 3,
   "metadata": {},
   "outputs": [],
   "source": [
    "from genparse.util import load_model_by_name, lark_guide\n",
    "from torch.cuda import is_available as is_cuda_available\n",
    "\n",
    "if is_cuda_available():\n",
    "    genparse_llm = load_model_by_name('codellama', batch_size=40)\n",
    "\n",
    "else:\n",
    "    genparse_llm = load_model_by_name('gpt2', batch_size=5)\n",
    "\n",
    "MAX_TOKENS = 100"
   ]
  },
  {
   "cell_type": "code",
   "execution_count": 4,
   "metadata": {},
   "outputs": [],
   "source": [
    "from genparse.steer import HFPPLSampler\n",
    "from genparse.proposal import CharacterProposal\n",
    "\n",
    "guide = lark_guide(very_restricted_sql, ignore='[ ]?')\n",
    "\n",
    "sampler = HFPPLSampler(llm=genparse_llm, guide=guide)\n",
    "\n",
    "proposal = CharacterProposal(llm=genparse_llm, guide=guide)"
   ]
  },
  {
   "cell_type": "code",
   "execution_count": 5,
   "metadata": {},
   "outputs": [],
   "source": [
    "particle_approx = sampler.run_inference(\n",
    "    prompt=prompt,\n",
    "    proposal=proposal,\n",
    "    method='smc-standard',\n",
    "    return_record=True,  # use version of smc that keeps a record\n",
    "    n_particles=12,\n",
    "    max_tokens=60,\n",
    "    verbosity=0,\n",
    ")\n",
    "record = particle_approx.record"
   ]
  },
  {
   "cell_type": "code",
   "execution_count": 6,
   "metadata": {},
   "outputs": [
    {
     "data": {
      "text/html": [
       "<div style=\"font-family: Monospace;\"><table><tr style=\"font-weight: bold;\"><td>key</td><td>value</td></tr><tr><td><pre> SELECT vote, zipcode, age FROM data ORDER BY age ASC &lt;/s&gt;▪</pre></td><td><pre>0.5555555549220536</pre></td> </tr><tr><td><pre> SELECT age, vote, zipcode FROM data ORDER BY age ASC &lt;/s&gt;▪</pre></td><td><pre>0.33333333295323214</pre></td> </tr><tr><td><pre> SELECT vote, zipcode, age FROM data GROUP BY zipcode ORDER BY age DESC &lt;/s&gt; ▪</pre></td><td><pre>1.1403035095527383e-09</pre></td> </tr><tr><td><pre> SELECT vote, zipcode, age FROM data ORDER BY age, age ASC &lt;/s&gt;▪</pre></td><td><pre>0.11111111098441072</pre></td> </tr></table></div>"
      ],
      "text/plain": [
       "{' SELECT vote, zipcode, age FROM data ORDER BY age ASC </s>▪': 0.5555555549220536, ' SELECT age, vote, zipcode FROM data ORDER BY age ASC </s>▪': 0.33333333295323214, ' SELECT vote, zipcode, age FROM data GROUP BY zipcode ORDER BY age DESC </s> ▪': 1.1403035095527383e-09, ' SELECT vote, zipcode, age FROM data ORDER BY age, age ASC </s>▪': 0.11111111098441072}"
      ]
     },
     "execution_count": 6,
     "metadata": {},
     "output_type": "execute_result"
    }
   ],
   "source": [
    "particle_approx.posterior"
   ]
  },
  {
   "cell_type": "markdown",
   "metadata": {},
   "source": [
    "## Plotting the particle beam"
   ]
  },
  {
   "cell_type": "code",
   "execution_count": 12,
   "metadata": {},
   "outputs": [
    {
     "data": {
      "application/vnd.plotly.v1+json": {
       "config": {
        "plotlyServerURL": "https://plot.ly"
       },
       "data": [
        {
         "hoverinfo": "text",
         "hovertext": [
          "Token:    `<b> SELECT</b>`<br>Context:  <br>Step 1; Avg weight = -0.215236<br>Particle 0; Weight = -0.215236<br>",
          "Token:    `<b> age</b>`<br>Context:   SELECT<br>Step 2; Avg weight = -0.961201<br>Particle 0; Weight = -0.734823<br>",
          "Token:    `<b>,</b>`<br>Context:   SELECT age<br>Step 3; Avg weight = -1.140976<br>Particle 0; Weight = -0.760894<br>",
          "Token:    `<b> gender</b>`<br>Context:   SELECT age,<br>Step 4; Avg weight = -1.441307<br>Particle 0; Weight = -0.996671<br>",
          "Token:    `<b> FROM</b>`<br>Context:   SELECT age, gender<br>Step 5; Avg weight = -1.587926<br>Particle 0; Weight = -1.037797<br>",
          "Token:    `<b> data</b>`<br>Context:   SELECT age, gender FROM<br>Step 6; Avg weight = -1.727242<br>Particle 0; Weight = -1.199347<br>",
          "Token:    `<b> ORDER</b>`<br>Context:   SELECT age, gender FROM data<br>Step 7; Avg weight = -1.876419<br>Particle 0; Weight = -1.309608<br>",
          "Token:    `<b> BY</b>`<br>Context:   SELECT age, gender FROM data ORDER<br>Step 8; Avg weight = -2.006252<br>Particle 0; Weight = -1.310426<br>",
          "Token:    `<b> ORDER</b>`<br>Context:   SELECT vote, zipcode, age FROM data<br>Step 10; Avg weight = -2.448142<br>Particle 0; Weight = -2.446152<br>",
          "Token:    `<b> BY</b>`<br>Context:   SELECT vote, zipcode, age FROM data ORDER<br>Step 11; Avg weight = -2.596647<br>Particle 0; Weight = -2.446938<br>",
          "Token:    `<b> age</b>`<br>Context:   SELECT vote, zipcode, age FROM data ORDER BY<br>Step 12; Avg weight = -3.324525<br>Particle 0; Weight = -2.543991<br>",
          "Token:    `<b> ASC</b>`<br>Context:   SELECT vote, zipcode, age FROM data ORDER BY age<br>Step 13; Avg weight = -3.974729<br>Particle 0; Weight = -3.153399<br>        ↳ resample_indices particle 0",
          "Token:    `<b>s</b>`<br>Context:   SELECT vote, zipcode FROM data ORDER BY age ASC </<br>Step 13; Avg weight = -3.974729<br>Particle 1; Weight = -4.459293<br>        ↳ resample_indices particle 0",
          "Token:    `<b> <</b>`<br>Context:   SELECT vote, zipcode FROM data ORDER BY age DESC<br>Step 13; Avg weight = -3.974729<br>Particle 2; Weight = -6.080074<br>        ↳ resample_indices particle 0",
          "Token:    `<b> </</b>`<br>Context:   SELECT vote, zipcode, age FROM data ORDER BY age ASC<br>Step 14; Avg weight = -5.116664<br>Particle 0; Weight = -5.199054<br>",
          "Token:    `<b>s</b>`<br>Context:   SELECT vote, zipcode, age FROM data WHERE age>20 </<br>Step 15; Avg weight = -5.567801<br>Particle 0; Weight = -5.006730<br>",
          "Token:    `<b>></b>`<br>Context:   SELECT vote, zipcode, age FROM data WHERE age>20 </s<br>Step 16; Avg weight = -5.611234<br>Particle 0; Weight = -5.012238<br>",
          "Token:    `<b>▪</b>`<br>Context:   SELECT vote, zipcode, age FROM data ORDER BY age ASC </s> <br>Step 18; Avg weight = -16.217581<br>Particle 0; Weight = -17.200695<br>",
          "Token:    `<b>▪</b>`<br>Context:   SELECT vote, zipcode, age FROM data ORDER BY age ASC </s> <br>Step 19; Avg weight = -16.222084<br>Particle 0; Weight = -17.200695<br>",
          "Token:    `<b>▪</b>`<br>Context:   SELECT vote, zipcode, age FROM data ORDER BY age ASC </s> <br>Step 20; Avg weight = -16.237169<br>Particle 0; Weight = -17.200695<br>",
          "Token:    `<b>▪</b>`<br>Context:   SELECT vote, zipcode, age FROM data ORDER BY age ASC </s> <br>Step 21; Avg weight = -18.057405<br>Particle 0; Weight = -17.200695<br>",
          "Token:    `<b>▪</b>`<br>Context:   SELECT vote, zipcode, age FROM data ORDER BY age ASC </s> <br>Step 22; Avg weight = -18.122911<br>Particle 0; Weight = -17.200695<br>        ↳ resample_indices particle 0",
          "Token:    `<b>▪</b>`<br>Context:   SELECT vote, zipcode, age FROM data WHERE age>20 GROUP BY age </s><br>Step 22; Avg weight = -18.122911<br>Particle 1; Weight = -18.153316<br>        ↳ resample_indices particle 0",
          "Token:    `<b>▪</b>`<br>Context:   SELECT vote, zipcode, age FROM data WHERE age>20 GROUP BY age </s> <br>Step 22; Avg weight = -18.122911<br>Particle 2; Weight = -27.575953<br>        ↳ resample_indices particle 0",
          "Token:    `<b>▪</b>`<br>Context:   SELECT vote, zipcode, age FROM data WHERE age>20 GROUP BY age </s><br>Step 22; Avg weight = -18.122911<br>Particle 3; Weight = -18.153316<br>        ↳ resample_indices particle 0"
         ],
         "marker": {
          "color": "rgb(255.0, 0.0, 0.0)",
          "opacity": 0.15,
          "size": [
           14.142135623730953,
           15.836980919937403,
           17.102073714026798,
           17.66308342242786,
           18.61974990679071,
           18.413909040789,
           18.775706756390328,
           20.026813776277073,
           14.156217600095935,
           15.241369203446403,
           20.893236093619606,
           21.32379526221797,
           11.099238808707367,
           4.935658189399931,
           13.571387612523925,
           18.72190244138968,
           19.08030576021085,
           8.65036537158013,
           8.66986175645105,
           8.73550359016711,
           21.70436678396755,
           22.427020735606042,
           13.92876202355605,
           0.12526018326826724,
           13.92876202355605
          ]
         },
         "mode": "markers+text",
         "showlegend": false,
         "text": [
          " SELECT",
          " age",
          ",",
          " gender",
          " FROM",
          " data",
          " ORDER",
          " BY",
          " ORDER",
          " BY",
          " age",
          " ASC",
          "s",
          " <",
          " </",
          "s",
          ">",
          "▪",
          "▪",
          "▪",
          "▪",
          "▪",
          "▪",
          "▪",
          "▪"
         ],
         "type": "scatter",
         "x": [
          1,
          2,
          3,
          4,
          5,
          6,
          7,
          8,
          10,
          11,
          12,
          13,
          13,
          13,
          14,
          15,
          16,
          18,
          19,
          20,
          21,
          22,
          22,
          22,
          22
         ],
         "y": [
          0,
          0,
          0,
          0,
          0,
          0,
          0,
          0,
          0,
          0,
          0,
          0,
          1,
          2,
          0,
          0,
          0,
          0,
          0,
          0,
          0,
          0,
          1,
          2,
          3
         ]
        },
        {
         "hoverinfo": "text",
         "hovertext": [
          "Token:    `<b> SELECT</b>`<br>Context:  <br>Step 1; Avg weight = -0.215236<br>Particle 1; Weight = -0.215236<br>",
          "Token:    `<b> race</b>`<br>Context:   SELECT<br>Step 2; Avg weight = -0.961201<br>Particle 1; Weight = -2.033913<br>",
          "Token:    `<b>_</b>`<br>Context:   SELECT race<br>Step 3; Avg weight = -1.140976<br>Particle 1; Weight = -4.021430<br>",
          "Token:    `<b>ethnic</b>`<br>Context:   SELECT race_<br>Step 4; Avg weight = -1.441307<br>Particle 1; Weight = -4.052223<br>",
          "Token:    `<b>ity</b>`<br>Context:   SELECT race_ethnic<br>Step 5; Avg weight = -1.587926<br>Particle 1; Weight = -4.054863<br>",
          "Token:    `<b> FROM</b>`<br>Context:   SELECT race_ethnicity<br>Step 6; Avg weight = -1.727242<br>Particle 1; Weight = -4.280661<br>",
          "Token:    `<b> data</b>`<br>Context:   SELECT race_ethnicity FROM<br>Step 7; Avg weight = -1.876419<br>Particle 1; Weight = -4.561546<br>",
          "Token:    `<b> ORDER</b>`<br>Context:   SELECT race_ethnicity FROM data<br>Step 8; Avg weight = -2.006252<br>Particle 1; Weight = -4.753655<br>",
          "Token:    `<b> ORDER</b>`<br>Context:   SELECT vote, zipcode, age FROM data<br>Step 10; Avg weight = -2.448142<br>Particle 1; Weight = -2.446152<br>",
          "Token:    `<b> ASC</b>`<br>Context:   SELECT vote, zipcode FROM data ORDER BY age<br>Step 11; Avg weight = -2.596647<br>Particle 1; Weight = -3.124825<br>",
          "Token:    `<b> </</b>`<br>Context:   SELECT vote, zipcode FROM data ORDER BY age ASC<br>Step 12; Avg weight = -3.324525<br>Particle 1; Weight = -4.458631<br>",
          "Token:    `<b> </</b>`<br>Context:   SELECT vote, zipcode, age FROM data ORDER BY age ASC<br>Step 14; Avg weight = -5.116664<br>Particle 1; Weight = -5.199054<br>",
          "Token:    `<b>/</b>`<br>Context:   SELECT vote, zipcode, age FROM data WHERE age>20 <<br>Step 15; Avg weight = -5.567801<br>Particle 1; Weight = -11.483083<br>",
          "Token:    `<b>s</b>`<br>Context:   SELECT vote, zipcode, age FROM data WHERE age>20 </<br>Step 16; Avg weight = -5.611234<br>Particle 1; Weight = -11.490313<br>",
          "Token:    `<b>/</b>`<br>Context:   SELECT vote, zipcode, age FROM data WHERE age>20 GROUP BY age <<br>Step 18; Avg weight = -16.217581<br>Particle 1; Weight = -15.945321<br>",
          "Token:    `<b>s</b>`<br>Context:   SELECT vote, zipcode, age FROM data WHERE age>20 GROUP BY age </<br>Step 19; Avg weight = -16.222084<br>Particle 1; Weight = -15.950467<br>",
          "Token:    `<b>></b>`<br>Context:   SELECT vote, zipcode, age FROM data WHERE age>20 GROUP BY age </s<br>Step 20; Avg weight = -16.237169<br>Particle 1; Weight = -15.967732<br>",
          "Token:    `<b>▪</b>`<br>Context:   SELECT vote, zipcode, age FROM data WHERE age>20 GROUP BY age </s><br>Step 21; Avg weight = -18.057405<br>Particle 1; Weight = -18.153316<br>",
          "Token:    `<b>▪</b>`<br>Context:   SELECT vote, zipcode, age FROM data WHERE age>20 GROUP BY age </s> <br>Step 22; Avg weight = -18.122911<br>Particle 4; Weight = -27.575953<br>        ↳ resample_indices particle 1",
          "Token:    `<b>▪</b>`<br>Context:   SELECT vote, zipcode, age FROM data WHERE age>20 GROUP BY age </s> <br>Step 22; Avg weight = -18.122911<br>Particle 5; Weight = -27.575953<br>        ↳ resample_indices particle 1"
         ],
         "marker": {
          "color": "rgb(231.8181818181818, 11.363636363636363, 23.181818181818183)",
          "opacity": 0.15,
          "size": [
           14.142135623730953,
           8.271391599988705,
           3.349904352273638,
           3.833202873882781,
           4.11932669288788,
           3.945002006091268,
           3.693575384177991,
           3.5803378357360294,
           14.156217600095935,
           10.859819576458383,
           8.021339517922454,
           13.571387612523925,
           0.7345607418737298,
           0.7479786522605425,
           16.204492879108667,
           16.19928234712926,
           16.18164047657371,
           13.479942938916142,
           0.12526018326826724,
           0.12526018326826724
          ]
         },
         "mode": "markers+text",
         "showlegend": false,
         "text": [
          " SELECT",
          " race",
          "_",
          "ethnic",
          "ity",
          " FROM",
          " data",
          " ORDER",
          " ORDER",
          " ASC",
          " </",
          " </",
          "/",
          "s",
          "/",
          "s",
          ">",
          "▪",
          "▪",
          "▪"
         ],
         "type": "scatter",
         "x": [
          1,
          2,
          3,
          4,
          5,
          6,
          7,
          8,
          10,
          11,
          12,
          14,
          15,
          16,
          18,
          19,
          20,
          21,
          22,
          22
         ],
         "y": [
          1,
          1,
          1,
          1,
          1,
          1,
          1,
          1,
          1,
          1,
          1,
          1,
          1,
          1,
          1,
          1,
          1,
          1,
          4,
          5
         ]
        },
        {
         "hoverinfo": "text",
         "hovertext": [
          "Token:    `<b> SELECT</b>`<br>Context:  <br>Step 1; Avg weight = -0.215236<br>Particle 2; Weight = -0.215236<br>",
          "Token:    `<b> age</b>`<br>Context:   SELECT<br>Step 2; Avg weight = -0.961201<br>Particle 2; Weight = -0.734823<br>",
          "Token:    `<b>,</b>`<br>Context:   SELECT age<br>Step 3; Avg weight = -1.140976<br>Particle 2; Weight = -0.760894<br>",
          "Token:    `<b> vote</b>`<br>Context:   SELECT age,<br>Step 4; Avg weight = -1.441307<br>Particle 2; Weight = -1.444713<br>",
          "Token:    `<b> FROM</b>`<br>Context:   SELECT age, vote<br>Step 5; Avg weight = -1.587926<br>Particle 2; Weight = -2.001562<br>",
          "Token:    `<b> data</b>`<br>Context:   SELECT age, vote FROM<br>Step 6; Avg weight = -1.727242<br>Particle 2; Weight = -2.253402<br>",
          "Token:    `<b> WHERE</b>`<br>Context:   SELECT age, vote FROM data<br>Step 7; Avg weight = -1.876419<br>Particle 2; Weight = -2.448980<br>",
          "Token:    `<b> race</b>`<br>Context:   SELECT age, vote FROM data WHERE<br>Step 8; Avg weight = -2.006252<br>Particle 2; Weight = -3.634634<br>",
          "Token:    `<b> WHERE</b>`<br>Context:   SELECT vote, zipcode, age FROM data<br>Step 10; Avg weight = -2.448142<br>Particle 2; Weight = -2.458981<br>",
          "Token:    `<b> DES</b>`<br>Context:   SELECT vote, zipcode FROM data ORDER BY age<br>Step 11; Avg weight = -2.596647<br>Particle 2; Weight = -3.146489<br>",
          "Token:    `<b>C</b>`<br>Context:   SELECT vote, zipcode FROM data ORDER BY age DES<br>Step 12; Avg weight = -3.324525<br>Particle 2; Weight = -3.149546<br>",
          "Token:    `<b> </</b>`<br>Context:   SELECT vote, zipcode, age FROM data ORDER BY age ASC<br>Step 14; Avg weight = -5.116664<br>Particle 2; Weight = -5.199054<br>",
          "Token:    `<b>/</b>`<br>Context:   SELECT vote, zipcode, age FROM data WHERE age>20 <<br>Step 15; Avg weight = -5.567801<br>Particle 2; Weight = -11.483083<br>",
          "Token:    `<b>s</b>`<br>Context:   SELECT vote, zipcode, age FROM data WHERE age>20 </<br>Step 16; Avg weight = -5.611234<br>Particle 2; Weight = -11.490313<br>",
          "Token:    `<b>/</b>`<br>Context:   SELECT vote, zipcode, age FROM data WHERE age>20 GROUP BY age <<br>Step 18; Avg weight = -16.217581<br>Particle 2; Weight = -15.945321<br>",
          "Token:    `<b>s</b>`<br>Context:   SELECT vote, zipcode, age FROM data WHERE age>20 GROUP BY age </<br>Step 19; Avg weight = -16.222084<br>Particle 2; Weight = -15.950467<br>",
          "Token:    `<b>></b>`<br>Context:   SELECT vote, zipcode, age FROM data WHERE age>20 GROUP BY age </s<br>Step 20; Avg weight = -16.237169<br>Particle 2; Weight = -15.967732<br>",
          "Token:    `<b> </b>`<br>Context:   SELECT vote, zipcode, age FROM data WHERE age>20 GROUP BY age </s><br>Step 21; Avg weight = -18.057405<br>Particle 2; Weight = -20.121865<br>"
         ],
         "marker": {
          "color": "rgb(208.63636363636363, 22.727272727272727, 46.36363636363637)",
          "opacity": 0.15,
          "size": [
           14.142135623730953,
           15.836980919937403,
           17.102073714026798,
           14.118073929188725,
           11.49992402246467,
           10.870784438614626,
           10.621475429135513,
           6.264932033331144,
           14.065699904751213,
           10.742822701023062,
           15.435163010694804,
           13.571387612523925,
           0.7345607418737298,
           0.7479786522605425,
           16.204492879108667,
           16.19928234712926,
           16.18164047657371,
           5.03759411417719
          ]
         },
         "mode": "markers+text",
         "showlegend": false,
         "text": [
          " SELECT",
          " age",
          ",",
          " vote",
          " FROM",
          " data",
          " WHERE",
          " race",
          " WHERE",
          " DES",
          "C",
          " </",
          "/",
          "s",
          "/",
          "s",
          ">",
          " "
         ],
         "type": "scatter",
         "x": [
          1,
          2,
          3,
          4,
          5,
          6,
          7,
          8,
          10,
          11,
          12,
          14,
          15,
          16,
          18,
          19,
          20,
          21
         ],
         "y": [
          2,
          2,
          2,
          2,
          2,
          2,
          2,
          2,
          2,
          2,
          2,
          2,
          2,
          2,
          2,
          2,
          2,
          2
         ]
        },
        {
         "hoverinfo": "text",
         "hovertext": [
          "Token:    `<b> SELECT</b>`<br>Context:  <br>Step 1; Avg weight = -0.215236<br>Particle 3; Weight = -0.215236<br>",
          "Token:    `<b> age</b>`<br>Context:   SELECT<br>Step 2; Avg weight = -0.961201<br>Particle 3; Weight = -0.734823<br>",
          "Token:    `<b>,</b>`<br>Context:   SELECT age<br>Step 3; Avg weight = -1.140976<br>Particle 3; Weight = -0.760894<br>",
          "Token:    `<b> age</b>`<br>Context:   SELECT age,<br>Step 4; Avg weight = -1.441307<br>Particle 3; Weight = -1.015375<br>",
          "Token:    `<b> FROM</b>`<br>Context:   SELECT age, age<br>Step 5; Avg weight = -1.587926<br>Particle 3; Weight = -1.447352<br>",
          "Token:    `<b> data</b>`<br>Context:   SELECT age, age FROM<br>Step 6; Avg weight = -1.727242<br>Particle 3; Weight = -1.738820<br>",
          "Token:    `<b> ORDER</b>`<br>Context:   SELECT age, age FROM data<br>Step 7; Avg weight = -1.876419<br>Particle 3; Weight = -1.883625<br>",
          "Token:    `<b> BY</b>`<br>Context:   SELECT age, age FROM data ORDER<br>Step 8; Avg weight = -2.006252<br>Particle 3; Weight = -1.884559<br>",
          "Token:    `<b> ORDER</b>`<br>Context:   SELECT vote, zipcode, age FROM data<br>Step 10; Avg weight = -2.448142<br>Particle 3; Weight = -2.446152<br>",
          "Token:    `<b>,</b>`<br>Context:   SELECT vote, zipcode FROM data ORDER BY age<br>Step 11; Avg weight = -2.596647<br>Particle 3; Weight = -2.582921<br>",
          "Token:    `<b> vote</b>`<br>Context:   SELECT vote, zipcode FROM data ORDER BY age,<br>Step 12; Avg weight = -3.324525<br>Particle 3; Weight = -3.870305<br>",
          "Token:    `<b> </</b>`<br>Context:   SELECT vote, zipcode, age FROM data WHERE age>20<br>Step 14; Avg weight = -5.116664<br>Particle 3; Weight = -4.999500<br>",
          "Token:    `<b>s</b>`<br>Context:   SELECT vote, zipcode, age FROM data ORDER BY age ASC </<br>Step 15; Avg weight = -5.567801<br>Particle 3; Weight = -5.199687<br>",
          "Token:    `<b>></b>`<br>Context:   SELECT vote, zipcode, age FROM data ORDER BY age ASC </s<br>Step 16; Avg weight = -5.611234<br>Particle 3; Weight = -5.202318<br>",
          "Token:    `<b> </b>`<br>Context:   SELECT vote, zipcode, age FROM data WHERE age>20 </s><br>Step 17; Avg weight = -8.820980<br>Particle 0; Weight = -9.435572<br>        ↳ resample_indices particle 3",
          "Token:    `<b>/</b>`<br>Context:   SELECT vote, zipcode, age FROM data WHERE age>20 GROUP BY age <<br>Step 18; Avg weight = -16.217581<br>Particle 3; Weight = -15.945321<br>",
          "Token:    `<b>s</b>`<br>Context:   SELECT vote, zipcode, age FROM data WHERE age>20 GROUP BY age </<br>Step 19; Avg weight = -16.222084<br>Particle 3; Weight = -15.950467<br>",
          "Token:    `<b>></b>`<br>Context:   SELECT vote, zipcode, age FROM data WHERE age>20 GROUP BY age </s<br>Step 20; Avg weight = -16.237169<br>Particle 3; Weight = -15.967732<br>",
          "Token:    `<b>▪</b>`<br>Context:   SELECT vote, zipcode, age FROM data WHERE age>20 GROUP BY age </s><br>Step 21; Avg weight = -18.057405<br>Particle 3; Weight = -18.153316<br>"
         ],
         "marker": {
          "color": "rgb(185.45454545454544, 34.09090909090909, 69.54545454545455)",
          "opacity": 0.15,
          "size": [
           14.142135623730953,
           15.836980919937403,
           17.102073714026798,
           17.498665840855065,
           15.171906656603564,
           14.06050751996838,
           14.091271987270979,
           15.029354448778436,
           14.156217600095935,
           14.239532309101959,
           10.764658126251822,
           14.99535864615535,
           17.00003751786656,
           17.35042355173063,
           10.400593875459611,
           16.204492879108667,
           16.19928234712926,
           16.18164047657371,
           13.479942938916142
          ]
         },
         "mode": "markers+text",
         "showlegend": false,
         "text": [
          " SELECT",
          " age",
          ",",
          " age",
          " FROM",
          " data",
          " ORDER",
          " BY",
          " ORDER",
          ",",
          " vote",
          " </",
          "s",
          ">",
          " ",
          "/",
          "s",
          ">",
          "▪"
         ],
         "type": "scatter",
         "x": [
          1,
          2,
          3,
          4,
          5,
          6,
          7,
          8,
          10,
          11,
          12,
          14,
          15,
          16,
          17,
          18,
          19,
          20,
          21
         ],
         "y": [
          3,
          3,
          3,
          3,
          3,
          3,
          3,
          3,
          3,
          3,
          3,
          3,
          3,
          3,
          0,
          3,
          3,
          3,
          3
         ]
        },
        {
         "hoverinfo": "text",
         "hovertext": [
          "Token:    `<b> SELECT</b>`<br>Context:  <br>Step 1; Avg weight = -0.215236<br>Particle 4; Weight = -0.215236<br>",
          "Token:    `<b> vote</b>`<br>Context:   SELECT<br>Step 2; Avg weight = -0.961201<br>Particle 4; Weight = -0.796163<br>",
          "Token:    `<b>,</b>`<br>Context:   SELECT vote<br>Step 3; Avg weight = -1.140976<br>Particle 4; Weight = -0.851548<br>",
          "Token:    `<b> zip</b>`<br>Context:   SELECT vote,<br>Step 4; Avg weight = -1.441307<br>Particle 4; Weight = -0.941902<br>",
          "Token:    `<b>code</b>`<br>Context:   SELECT vote, zip<br>Step 5; Avg weight = -1.587926<br>Particle 4; Weight = -0.942445<br>",
          "Token:    `<b>,</b>`<br>Context:   SELECT vote, zipcode<br>Step 6; Avg weight = -1.727242<br>Particle 4; Weight = -0.949012<br>",
          "Token:    `<b> age</b>`<br>Context:   SELECT vote, zipcode,<br>Step 7; Avg weight = -1.876419<br>Particle 4; Weight = -1.070734<br>",
          "Token:    `<b> FROM</b>`<br>Context:   SELECT vote, zipcode, age<br>Step 8; Avg weight = -2.006252<br>Particle 4; Weight = -1.109006<br>",
          "Token:    `<b> age</b>`<br>Context:   SELECT age, gender FROM data ORDER BY<br>Step 9; Avg weight = -2.368406<br>Particle 0; Weight = -1.377004<br>        ↳ resample_indices particle 4",
          "Token:    `<b> BY</b>`<br>Context:   SELECT race_ethnicity FROM data ORDER<br>Step 9; Avg weight = -2.368406<br>Particle 1; Weight = -4.754848<br>        ↳ resample_indices particle 4",
          "Token:    `<b>_</b>`<br>Context:   SELECT age, vote FROM data WHERE race<br>Step 9; Avg weight = -2.368406<br>Particle 2; Weight = -5.277943<br>        ↳ resample_indices particle 4",
          "Token:    `<b> age</b>`<br>Context:   SELECT age, age FROM data ORDER BY<br>Step 9; Avg weight = -2.368406<br>Particle 3; Weight = -2.032345<br>        ↳ resample_indices particle 4",
          "Token:    `<b> age</b>`<br>Context:   SELECT vote, zipcode FROM data ORDER BY<br>Step 10; Avg weight = -2.448142<br>Particle 4; Weight = -2.495095<br>",
          "Token:    `<b> ASC</b>`<br>Context:   SELECT vote, zipcode FROM data ORDER BY age<br>Step 11; Avg weight = -2.596647<br>Particle 4; Weight = -3.124825<br>",
          "Token:    `<b> <</b>`<br>Context:   SELECT vote, zipcode FROM data ORDER BY age ASC<br>Step 12; Avg weight = -3.324525<br>Particle 4; Weight = -4.458631<br>",
          "Token:    `<b> <</b>`<br>Context:   SELECT vote, zipcode, age FROM data WHERE age>20<br>Step 14; Avg weight = -5.116664<br>Particle 4; Weight = -4.999500<br>",
          "Token:    `<b> BY</b>`<br>Context:   SELECT vote, zipcode, age FROM data WHERE age>20 GROUP<br>Step 15; Avg weight = -5.567801<br>Particle 4; Weight = -5.116929<br>",
          "Token:    `<b> age</b>`<br>Context:   SELECT vote, zipcode, age FROM data WHERE age>20 GROUP BY<br>Step 16; Avg weight = -5.611234<br>Particle 4; Weight = -5.479712<br>",
          "Token:    `<b>></b>`<br>Context:   SELECT vote, zipcode, age FROM data WHERE age>20 </s<br>Step 17; Avg weight = -8.820980<br>Particle 1; Weight = -11.495822<br>        ↳ resample_indices particle 4",
          "Token:    `<b>></b>`<br>Context:   SELECT vote, zipcode, age FROM data WHERE age>20 </s<br>Step 17; Avg weight = -8.820980<br>Particle 2; Weight = -11.495822<br>        ↳ resample_indices particle 4",
          "Token:    `<b> </b>`<br>Context:   SELECT vote, zipcode, age FROM data ORDER BY age ASC </s><br>Step 17; Avg weight = -8.820980<br>Particle 3; Weight = -8.911625<br>        ↳ resample_indices particle 4",
          "Token:    `<b> <</b>`<br>Context:   SELECT vote, zipcode, age FROM data WHERE age>20 GROUP BY age<br>Step 17; Avg weight = -8.820980<br>Particle 4; Weight = -7.066392<br>        ↳ resample_indices particle 4",
          "Token:    `<b>></b>`<br>Context:   SELECT vote, zipcode, age FROM data ORDER BY age ASC </s<br>Step 17; Avg weight = -8.820980<br>Particle 5; Weight = -11.631271<br>        ↳ resample_indices particle 4",
          "Token:    `<b> </b>`<br>Context:   SELECT vote, zipcode, age FROM data ORDER BY age ASC </s><br>Step 17; Avg weight = -8.820980<br>Particle 6; Weight = -8.911625<br>        ↳ resample_indices particle 4",
          "Token:    `<b> </b>`<br>Context:   SELECT vote, zipcode, age FROM data ORDER BY age ASC </s><br>Step 17; Avg weight = -8.820980<br>Particle 7; Weight = -8.911625<br>        ↳ resample_indices particle 4",
          "Token:    `<b> </b>`<br>Context:   SELECT vote, zipcode, age FROM data ORDER BY age ASC </s><br>Step 17; Avg weight = -8.820980<br>Particle 8; Weight = -8.911625<br>        ↳ resample_indices particle 4",
          "Token:    `<b>/</b>`<br>Context:   SELECT vote, zipcode, age FROM data WHERE age>20 GROUP BY age <<br>Step 18; Avg weight = -16.217581<br>Particle 4; Weight = -15.945321<br>",
          "Token:    `<b>s</b>`<br>Context:   SELECT vote, zipcode, age FROM data WHERE age>20 GROUP BY age </<br>Step 19; Avg weight = -16.222084<br>Particle 4; Weight = -15.950467<br>",
          "Token:    `<b>></b>`<br>Context:   SELECT vote, zipcode, age FROM data WHERE age>20 GROUP BY age </s<br>Step 20; Avg weight = -16.237169<br>Particle 4; Weight = -15.967732<br>",
          "Token:    `<b> </b>`<br>Context:   SELECT vote, zipcode, age FROM data WHERE age>20 GROUP BY age </s><br>Step 21; Avg weight = -18.057405<br>Particle 4; Weight = -20.121865<br>"
         ],
         "marker": {
          "color": "rgb(162.27272727272725, 45.45454545454545, 92.72727272727273)",
          "opacity": 0.15,
          "size": [
           14.142135623730953,
           15.358631362482843,
           16.344192356845546,
           18.15346512493272,
           19.528967015695557,
           20.869191622166763,
           21.157637250541505,
           22.148770701823757,
           23.216415379548422,
           4.288502955537677,
           3.3015440498535393,
           16.729759271428176,
           13.813995211327223,
           10.859819576458383,
           8.021339517922454,
           14.99535864615535,
           17.71824355114461,
           15.103397156716861,
           3.7126203146175234,
           3.7126203146175234,
           13.515485751168406,
           34.00313044694834,
           3.4695104801481182,
           13.515485751168406,
           13.515485751168406,
           13.515485751168406,
           16.204492879108667,
           16.19928234712926,
           16.18164047657371,
           5.03759411417719
          ]
         },
         "mode": "markers+text",
         "showlegend": false,
         "text": [
          " SELECT",
          " vote",
          ",",
          " zip",
          "code",
          ",",
          " age",
          " FROM",
          " age",
          " BY",
          "_",
          " age",
          " age",
          " ASC",
          " <",
          " <",
          " BY",
          " age",
          ">",
          ">",
          " ",
          " <",
          ">",
          " ",
          " ",
          " ",
          "/",
          "s",
          ">",
          " "
         ],
         "type": "scatter",
         "x": [
          1,
          2,
          3,
          4,
          5,
          6,
          7,
          8,
          9,
          9,
          9,
          9,
          10,
          11,
          12,
          14,
          15,
          16,
          17,
          17,
          17,
          17,
          17,
          17,
          17,
          17,
          18,
          19,
          20,
          21
         ],
         "y": [
          4,
          4,
          4,
          4,
          4,
          4,
          4,
          4,
          0,
          1,
          2,
          3,
          4,
          4,
          4,
          4,
          4,
          4,
          1,
          2,
          3,
          4,
          5,
          6,
          7,
          8,
          4,
          4,
          4,
          4
         ]
        },
        {
         "hoverinfo": "text",
         "hovertext": [
          "Token:    `<b> SELECT</b>`<br>Context:  <br>Step 1; Avg weight = -0.215236<br>Particle 5; Weight = -0.215236<br>",
          "Token:    `<b> vote</b>`<br>Context:   SELECT<br>Step 2; Avg weight = -0.961201<br>Particle 5; Weight = -0.796163<br>",
          "Token:    `<b>,</b>`<br>Context:   SELECT vote<br>Step 3; Avg weight = -1.140976<br>Particle 5; Weight = -0.851548<br>",
          "Token:    `<b> zip</b>`<br>Context:   SELECT vote,<br>Step 4; Avg weight = -1.441307<br>Particle 5; Weight = -0.941902<br>",
          "Token:    `<b>code</b>`<br>Context:   SELECT vote, zip<br>Step 5; Avg weight = -1.587926<br>Particle 5; Weight = -0.942445<br>",
          "Token:    `<b> FROM</b>`<br>Context:   SELECT vote, zipcode<br>Step 6; Avg weight = -1.727242<br>Particle 5; Weight = -1.031302<br>",
          "Token:    `<b> data</b>`<br>Context:   SELECT vote, zipcode FROM<br>Step 7; Avg weight = -1.876419<br>Particle 5; Weight = -1.193922<br>",
          "Token:    `<b> ORDER</b>`<br>Context:   SELECT vote, zipcode FROM data<br>Step 8; Avg weight = -2.006252<br>Particle 5; Weight = -1.311954<br>",
          "Token:    `<b> data</b>`<br>Context:   SELECT vote, zipcode, age FROM<br>Step 9; Avg weight = -2.368406<br>Particle 4; Weight = -1.266943<br>        ↳ resample_indices particle 5",
          "Token:    `<b> BY</b>`<br>Context:   SELECT vote, zipcode FROM data ORDER<br>Step 9; Avg weight = -2.368406<br>Particle 5; Weight = -1.312746<br>        ↳ resample_indices particle 5",
          "Token:    `<b> ORDER</b>`<br>Context:   SELECT age FROM data WHERE vote > 50<br>Step 9; Avg weight = -2.368406<br>Particle 6; Weight = -4.270796<br>        ↳ resample_indices particle 5",
          "Token:    `<b> data</b>`<br>Context:   SELECT state_color, zipcode FROM<br>Step 9; Avg weight = -2.368406<br>Particle 7; Weight = -5.075843<br>        ↳ resample_indices particle 5",
          "Token:    `<b> </</b>`<br>Context:   SELECT age FROM data WHERE age>50<br>Step 9; Avg weight = -2.368406<br>Particle 8; Weight = -2.556327<br>        ↳ resample_indices particle 5",
          "Token:    `<b> age</b>`<br>Context:   SELECT vote, zipcode FROM data ORDER BY<br>Step 10; Avg weight = -2.448142<br>Particle 5; Weight = -2.495095<br>",
          "Token:    `<b>></b>`<br>Context:   SELECT age FROM data ORDER BY age ASC </s<br>Step 11; Avg weight = -2.596647<br>Particle 5; Weight = -2.372038<br>",
          "Token:    `<b> </b>`<br>Context:   SELECT age FROM data ORDER BY age ASC </s><br>Step 12; Avg weight = -3.324525<br>Particle 5; Weight = -6.190378<br>",
          "Token:    `<b> <</b>`<br>Context:   SELECT vote, zipcode, age FROM data WHERE age>20<br>Step 14; Avg weight = -5.116664<br>Particle 5; Weight = -4.999500<br>",
          "Token:    `<b>/</b>`<br>Context:   SELECT vote, zipcode, age FROM data ORDER BY age ASC <<br>Step 15; Avg weight = -5.567801<br>Particle 5; Weight = -11.628007<br>",
          "Token:    `<b>s</b>`<br>Context:   SELECT vote, zipcode, age FROM data ORDER BY age ASC </<br>Step 16; Avg weight = -5.611234<br>Particle 5; Weight = -11.628640<br>",
          "Token:    `<b>/</b>`<br>Context:   SELECT vote, zipcode, age FROM data WHERE age>20 GROUP BY age <<br>Step 18; Avg weight = -16.217581<br>Particle 5; Weight = -15.945321<br>",
          "Token:    `<b>s</b>`<br>Context:   SELECT vote, zipcode, age FROM data WHERE age>20 GROUP BY age </<br>Step 19; Avg weight = -16.222084<br>Particle 5; Weight = -15.950467<br>",
          "Token:    `<b>></b>`<br>Context:   SELECT vote, zipcode, age FROM data WHERE age>20 GROUP BY age </s<br>Step 20; Avg weight = -16.237169<br>Particle 5; Weight = -15.967732<br>",
          "Token:    `<b> </b>`<br>Context:   SELECT vote, zipcode, age FROM data WHERE age>20 GROUP BY age </s><br>Step 21; Avg weight = -18.057405<br>Particle 5; Weight = -20.121865<br>"
         ],
         "marker": {
          "color": "rgb(139.09090909090907, 56.81818181818181, 115.90909090909092)",
          "opacity": 0.15,
          "size": [
           14.142135623730953,
           15.358631362482843,
           16.344192356845546,
           18.15346512493272,
           19.528967015695557,
           20.027946105717174,
           19.89377862275035,
           20.01151343029677,
           24.529841625545465,
           23.974447924402813,
           5.462812972639878,
           3.652604287824952,
           12.873849419729417,
           13.813995211327223,
           15.822980549749047,
           3.3744495647303823,
           14.99535864615535,
           0.6832159980336724,
           0.6979945327191618,
           16.204492879108667,
           16.19928234712926,
           16.18164047657371,
           5.03759411417719
          ]
         },
         "mode": "markers+text",
         "showlegend": false,
         "text": [
          " SELECT",
          " vote",
          ",",
          " zip",
          "code",
          " FROM",
          " data",
          " ORDER",
          " data",
          " BY",
          " ORDER",
          " data",
          " </",
          " age",
          ">",
          " ",
          " <",
          "/",
          "s",
          "/",
          "s",
          ">",
          " "
         ],
         "type": "scatter",
         "x": [
          1,
          2,
          3,
          4,
          5,
          6,
          7,
          8,
          9,
          9,
          9,
          9,
          9,
          10,
          11,
          12,
          14,
          15,
          16,
          18,
          19,
          20,
          21
         ],
         "y": [
          5,
          5,
          5,
          5,
          5,
          5,
          5,
          5,
          4,
          5,
          6,
          7,
          8,
          5,
          5,
          5,
          5,
          5,
          5,
          5,
          5,
          5,
          5
         ]
        },
        {
         "hoverinfo": "text",
         "hovertext": [
          "Token:    `<b> SELECT</b>`<br>Context:  <br>Step 1; Avg weight = -0.215236<br>Particle 6; Weight = -0.215236<br>",
          "Token:    `<b> age</b>`<br>Context:   SELECT<br>Step 2; Avg weight = -0.961201<br>Particle 6; Weight = -0.734823<br>",
          "Token:    `<b> FROM</b>`<br>Context:   SELECT age<br>Step 3; Avg weight = -1.140976<br>Particle 6; Weight = -0.952321<br>",
          "Token:    `<b> data</b>`<br>Context:   SELECT age FROM<br>Step 4; Avg weight = -1.441307<br>Particle 6; Weight = -1.325067<br>",
          "Token:    `<b> WHERE</b>`<br>Context:   SELECT age FROM data<br>Step 5; Avg weight = -1.587926<br>Particle 6; Weight = -1.470257<br>",
          "Token:    `<b> vote</b>`<br>Context:   SELECT age FROM data WHERE<br>Step 6; Avg weight = -1.727242<br>Particle 6; Weight = -1.865965<br>",
          "Token:    `<b> ></b>`<br>Context:   SELECT age FROM data WHERE vote<br>Step 7; Avg weight = -1.876419<br>Particle 6; Weight = -2.523104<br>",
          "Token:    `<b> 50</b>`<br>Context:   SELECT age FROM data WHERE vote ><br>Step 8; Avg weight = -2.006252<br>Particle 6; Weight = -2.579819<br>",
          "Token:    `<b> age</b>`<br>Context:   SELECT vote, zipcode FROM data ORDER BY<br>Step 10; Avg weight = -2.448142<br>Particle 6; Weight = -2.495095<br>",
          "Token:    `<b>></b>`<br>Context:   SELECT age FROM data WHERE age>25 </s<br>Step 11; Avg weight = -2.596647<br>Particle 6; Weight = -2.383201<br>",
          "Token:    `<b> </b>`<br>Context:   SELECT age FROM data WHERE age>25 </s><br>Step 12; Avg weight = -3.324525<br>Particle 6; Weight = -7.141233<br>",
          "Token:    `<b> GROUP</b>`<br>Context:   SELECT vote, zipcode, age FROM data WHERE age>20<br>Step 14; Avg weight = -5.116664<br>Particle 6; Weight = -5.108811<br>",
          "Token:    `<b>s</b>`<br>Context:   SELECT vote, zipcode, age FROM data ORDER BY age ASC </<br>Step 15; Avg weight = -5.567801<br>Particle 6; Weight = -5.199687<br>",
          "Token:    `<b>></b>`<br>Context:   SELECT vote, zipcode, age FROM data ORDER BY age ASC </s<br>Step 16; Avg weight = -5.611234<br>Particle 6; Weight = -5.202318<br>",
          "Token:    `<b>/</b>`<br>Context:   SELECT vote, zipcode, age FROM data WHERE age>20 GROUP BY age <<br>Step 18; Avg weight = -16.217581<br>Particle 6; Weight = -15.945321<br>",
          "Token:    `<b>▪</b>`<br>Context:   SELECT vote, zipcode, age FROM data ORDER BY age ASC </s> <br>Step 19; Avg weight = -16.222084<br>Particle 6; Weight = -17.200695<br>",
          "Token:    `<b>▪</b>`<br>Context:   SELECT vote, zipcode, age FROM data ORDER BY age ASC </s> <br>Step 20; Avg weight = -16.237169<br>Particle 6; Weight = -17.200695<br>",
          "Token:    `<b>▪</b>`<br>Context:   SELECT vote, zipcode, age FROM data ORDER BY age ASC </s> <br>Step 21; Avg weight = -18.057405<br>Particle 6; Weight = -17.200695<br>"
         ],
         "marker": {
          "color": "rgb(115.9090909090909, 68.18181818181819, 139.0909090909091)",
          "opacity": 0.15,
          "size": [
           14.142135623730953,
           15.836980919937403,
           15.541068299816242,
           14.988432314852265,
           14.999139757603773,
           13.194463928496665,
           10.235029992906078,
           10.616140038717488,
           13.813995211327223,
           15.734913392556487,
           2.0976227886446046,
           14.197772975072406,
           17.00003751786656,
           17.35042355173063,
           16.204492879108667,
           8.66986175645105,
           8.73550359016711,
           21.70436678396755
          ]
         },
         "mode": "markers+text",
         "showlegend": false,
         "text": [
          " SELECT",
          " age",
          " FROM",
          " data",
          " WHERE",
          " vote",
          " >",
          " 50",
          " age",
          ">",
          " ",
          " GROUP",
          "s",
          ">",
          "/",
          "▪",
          "▪",
          "▪"
         ],
         "type": "scatter",
         "x": [
          1,
          2,
          3,
          4,
          5,
          6,
          7,
          8,
          10,
          11,
          12,
          14,
          15,
          16,
          18,
          19,
          20,
          21
         ],
         "y": [
          6,
          6,
          6,
          6,
          6,
          6,
          6,
          6,
          6,
          6,
          6,
          6,
          6,
          6,
          6,
          6,
          6,
          6
         ]
        },
        {
         "hoverinfo": "text",
         "hovertext": [
          "Token:    `<b> SELECT</b>`<br>Context:  <br>Step 1; Avg weight = -0.215236<br>Particle 7; Weight = -0.215236<br>",
          "Token:    `<b> state</b>`<br>Context:   SELECT<br>Step 2; Avg weight = -0.961201<br>Particle 7; Weight = -2.683716<br>",
          "Token:    `<b>_</b>`<br>Context:   SELECT state<br>Step 3; Avg weight = -1.140976<br>Particle 7; Weight = -4.052127<br>",
          "Token:    `<b>color</b>`<br>Context:   SELECT state_<br>Step 4; Avg weight = -1.441307<br>Particle 7; Weight = -4.428145<br>",
          "Token:    `<b>,</b>`<br>Context:   SELECT state_color<br>Step 5; Avg weight = -1.587926<br>Particle 7; Weight = -4.454506<br>",
          "Token:    `<b> zip</b>`<br>Context:   SELECT state_color,<br>Step 6; Avg weight = -1.727242<br>Particle 7; Weight = -4.589978<br>",
          "Token:    `<b>code</b>`<br>Context:   SELECT state_color, zip<br>Step 7; Avg weight = -1.876419<br>Particle 7; Weight = -4.593100<br>",
          "Token:    `<b> FROM</b>`<br>Context:   SELECT state_color, zipcode<br>Step 8; Avg weight = -2.006252<br>Particle 7; Weight = -4.669188<br>",
          "Token:    `<b> age</b>`<br>Context:   SELECT vote, zipcode FROM data ORDER BY<br>Step 10; Avg weight = -2.448142<br>Particle 7; Weight = -2.495095<br>",
          "Token:    `<b>></b>`<br>Context:   SELECT age FROM data WHERE age>50 </s<br>Step 11; Avg weight = -2.596647<br>Particle 7; Weight = -2.379248<br>",
          "Token:    `<b> </b>`<br>Context:   SELECT age FROM data WHERE age>50 </s><br>Step 12; Avg weight = -3.324525<br>Particle 7; Weight = -6.917493<br>",
          "Token:    `<b> OR</b>`<br>Context:   SELECT vote, zipcode, age FROM data WHERE age>20<br>Step 14; Avg weight = -5.116664<br>Particle 7; Weight = -4.957257<br>",
          "Token:    `<b>s</b>`<br>Context:   SELECT vote, zipcode, age FROM data ORDER BY age ASC </<br>Step 15; Avg weight = -5.567801<br>Particle 7; Weight = -5.199687<br>",
          "Token:    `<b>></b>`<br>Context:   SELECT vote, zipcode, age FROM data ORDER BY age ASC </s<br>Step 16; Avg weight = -5.611234<br>Particle 7; Weight = -5.202318<br>",
          "Token:    `<b> </b>`<br>Context:   SELECT vote, zipcode, age FROM data ORDER BY age ASC </s><br>Step 17; Avg weight = -8.820980<br>Particle 9; Weight = -8.911625<br>        ↳ resample_indices particle 7",
          "Token:    `<b>/</b>`<br>Context:   SELECT vote, zipcode, age FROM data WHERE age>20 GROUP BY age <<br>Step 18; Avg weight = -16.217581<br>Particle 7; Weight = -15.945321<br>",
          "Token:    `<b>▪</b>`<br>Context:   SELECT vote, zipcode, age FROM data ORDER BY age ASC </s> <br>Step 19; Avg weight = -16.222084<br>Particle 7; Weight = -17.200695<br>",
          "Token:    `<b>▪</b>`<br>Context:   SELECT vote, zipcode, age FROM data ORDER BY age ASC </s> <br>Step 20; Avg weight = -16.237169<br>Particle 7; Weight = -17.200695<br>",
          "Token:    `<b>▪</b>`<br>Context:   SELECT vote, zipcode, age FROM data ORDER BY age ASC </s> <br>Step 21; Avg weight = -18.057405<br>Particle 7; Weight = -17.200695<br>",
          "Token:    `<b>▪</b>`<br>Context:   SELECT vote, zipcode, age FROM data ORDER BY age ASC </s> <br>Step 22; Avg weight = -18.122911<br>Particle 6; Weight = -17.200695<br>        ↳ resample_indices particle 7",
          "Token:    `<b>▪</b>`<br>Context:   SELECT vote, zipcode, age FROM data ORDER BY age ASC </s> <br>Step 22; Avg weight = -18.122911<br>Particle 7; Weight = -17.200695<br>        ↳ resample_indices particle 7",
          "Token:    `<b>▪</b>`<br>Context:   SELECT vote, zipcode, age FROM data ORDER BY age ASC </s> <br>Step 22; Avg weight = -18.122911<br>Particle 8; Weight = -17.200695<br>        ↳ resample_indices particle 7"
         ],
         "marker": {
          "color": "rgb(92.72727272727272, 79.54545454545455, 162.27272727272728)",
          "opacity": 0.15,
          "size": [
           14.142135623730953,
           5.976896747707819,
           3.2988801058509885,
           3.1763722371843084,
           3.373221796936415,
           3.3797134622759657,
           3.6357601389678864,
           3.7347874376539045,
           13.813995211327223,
           15.766044949385492,
           2.345912317202543,
           15.31544866016831,
           17.00003751786656,
           17.35042355173063,
           13.515485751168406,
           16.204492879108667,
           8.66986175645105,
           8.73550359016711,
           21.70436678396755,
           22.427020735606042,
           22.427020735606042,
           22.427020735606042
          ]
         },
         "mode": "markers+text",
         "showlegend": false,
         "text": [
          " SELECT",
          " state",
          "_",
          "color",
          ",",
          " zip",
          "code",
          " FROM",
          " age",
          ">",
          " ",
          " OR",
          "s",
          ">",
          " ",
          "/",
          "▪",
          "▪",
          "▪",
          "▪",
          "▪",
          "▪"
         ],
         "type": "scatter",
         "x": [
          1,
          2,
          3,
          4,
          5,
          6,
          7,
          8,
          10,
          11,
          12,
          14,
          15,
          16,
          17,
          18,
          19,
          20,
          21,
          22,
          22,
          22
         ],
         "y": [
          7,
          7,
          7,
          7,
          7,
          7,
          7,
          7,
          7,
          7,
          7,
          7,
          7,
          7,
          9,
          7,
          7,
          7,
          7,
          6,
          7,
          8
         ]
        },
        {
         "hoverinfo": "text",
         "hovertext": [
          "Token:    `<b> SELECT</b>`<br>Context:  <br>Step 1; Avg weight = -0.215236<br>Particle 8; Weight = -0.215236<br>",
          "Token:    `<b> age</b>`<br>Context:   SELECT<br>Step 2; Avg weight = -0.961201<br>Particle 8; Weight = -0.734823<br>",
          "Token:    `<b> FROM</b>`<br>Context:   SELECT age<br>Step 3; Avg weight = -1.140976<br>Particle 8; Weight = -0.952321<br>",
          "Token:    `<b> data</b>`<br>Context:   SELECT age FROM<br>Step 4; Avg weight = -1.441307<br>Particle 8; Weight = -1.325067<br>",
          "Token:    `<b> WHERE</b>`<br>Context:   SELECT age FROM data<br>Step 5; Avg weight = -1.587926<br>Particle 8; Weight = -1.470257<br>",
          "Token:    `<b> age</b>`<br>Context:   SELECT age FROM data WHERE<br>Step 6; Avg weight = -1.727242<br>Particle 8; Weight = -1.611374<br>",
          "Token:    `<b>></b>`<br>Context:   SELECT age FROM data WHERE age<br>Step 7; Avg weight = -1.876419<br>Particle 8; Weight = -1.643531<br>",
          "Token:    `<b>50</b>`<br>Context:   SELECT age FROM data WHERE age><br>Step 8; Avg weight = -2.006252<br>Particle 8; Weight = -1.658438<br>",
          "Token:    `<b> </</b>`<br>Context:   SELECT age FROM data WHERE age>25<br>Step 9; Avg weight = -2.368406<br>Particle 9; Weight = -3.045899<br>        ↳ resample_indices particle 8",
          "Token:    `<b> age</b>`<br>Context:   SELECT vote, zipcode FROM data ORDER BY<br>Step 10; Avg weight = -2.448142<br>Particle 8; Weight = -2.495095<br>",
          "Token:    `<b>,</b>`<br>Context:   SELECT vote, zipcode FROM data ORDER BY age<br>Step 11; Avg weight = -2.596647<br>Particle 8; Weight = -2.582921<br>",
          "Token:    `<b> gender</b>`<br>Context:   SELECT vote, zipcode FROM data ORDER BY age,<br>Step 12; Avg weight = -3.324525<br>Particle 8; Weight = -3.412661<br>",
          "Token:    `<b> </</b>`<br>Context:   SELECT vote, zipcode, age FROM data ORDER BY age ASC<br>Step 14; Avg weight = -5.116664<br>Particle 8; Weight = -5.199054<br>",
          "Token:    `<b>s</b>`<br>Context:   SELECT vote, zipcode, age FROM data ORDER BY age ASC </<br>Step 15; Avg weight = -5.567801<br>Particle 8; Weight = -5.199687<br>",
          "Token:    `<b>></b>`<br>Context:   SELECT vote, zipcode, age FROM data ORDER BY age ASC </s<br>Step 16; Avg weight = -5.611234<br>Particle 8; Weight = -5.202318<br>",
          "Token:    `<b>/</b>`<br>Context:   SELECT vote, zipcode, age FROM data WHERE age>20 GROUP BY age <<br>Step 18; Avg weight = -16.217581<br>Particle 8; Weight = -15.945321<br>",
          "Token:    `<b>▪</b>`<br>Context:   SELECT vote, zipcode, age FROM data ORDER BY age ASC </s> <br>Step 19; Avg weight = -16.222084<br>Particle 8; Weight = -17.200695<br>",
          "Token:    `<b>▪</b>`<br>Context:   SELECT vote, zipcode, age FROM data ORDER BY age ASC </s> <br>Step 20; Avg weight = -16.237169<br>Particle 8; Weight = -17.200695<br>",
          "Token:    `<b>▪</b>`<br>Context:   SELECT vote, zipcode, age FROM data ORDER BY age ASC </s> <br>Step 21; Avg weight = -18.057405<br>Particle 8; Weight = -17.200695<br>",
          "Token:    `<b>▪</b>`<br>Context:   SELECT vote, zipcode, age FROM data WHERE age>20 GROUP BY age </s> <br>Step 22; Avg weight = -18.122911<br>Particle 9; Weight = -27.575953<br>        ↳ resample_indices particle 8",
          "Token:    `<b>▪</b>`<br>Context:   SELECT vote, zipcode, age FROM data WHERE age>20 GROUP BY age </s> <br>Step 22; Avg weight = -18.122911<br>Particle 10; Weight = -27.575953<br>        ↳ resample_indices particle 8",
          "Token:    `<b>▪</b>`<br>Context:   SELECT vote, zipcode, age FROM data WHERE age>20 GROUP BY age </s> <br>Step 22; Avg weight = -18.122911<br>Particle 11; Weight = -27.575953<br>        ↳ resample_indices particle 8"
         ],
         "marker": {
          "color": "rgb(69.54545454545453, 90.9090909090909, 185.45454545454547)",
          "opacity": 0.15,
          "size": [
           14.142135623730953,
           15.836980919937403,
           15.541068299816242,
           14.988432314852265,
           14.999139757603773,
           14.98564555192736,
           15.88861245813017,
           16.8283669188764,
           10.07857876986362,
           13.813995211327223,
           14.239532309101959,
           13.532448711584378,
           13.571387612523925,
           17.00003751786656,
           17.35042355173063,
           16.204492879108667,
           8.66986175645105,
           8.73550359016711,
           21.70436678396755,
           0.12526018326826724,
           0.12526018326826724,
           0.12526018326826724
          ]
         },
         "mode": "markers+text",
         "showlegend": false,
         "text": [
          " SELECT",
          " age",
          " FROM",
          " data",
          " WHERE",
          " age",
          ">",
          "50",
          " </",
          " age",
          ",",
          " gender",
          " </",
          "s",
          ">",
          "/",
          "▪",
          "▪",
          "▪",
          "▪",
          "▪",
          "▪"
         ],
         "type": "scatter",
         "x": [
          1,
          2,
          3,
          4,
          5,
          6,
          7,
          8,
          9,
          10,
          11,
          12,
          14,
          15,
          16,
          18,
          19,
          20,
          21,
          22,
          22,
          22
         ],
         "y": [
          8,
          8,
          8,
          8,
          8,
          8,
          8,
          8,
          9,
          8,
          8,
          8,
          8,
          8,
          8,
          8,
          8,
          8,
          8,
          9,
          10,
          11
         ]
        },
        {
         "hoverinfo": "text",
         "hovertext": [
          "Token:    `<b> SELECT</b>`<br>Context:  <br>Step 1; Avg weight = -0.215236<br>Particle 9; Weight = -0.215236<br>",
          "Token:    `<b> age</b>`<br>Context:   SELECT<br>Step 2; Avg weight = -0.961201<br>Particle 9; Weight = -0.734823<br>",
          "Token:    `<b> FROM</b>`<br>Context:   SELECT age<br>Step 3; Avg weight = -1.140976<br>Particle 9; Weight = -0.952321<br>",
          "Token:    `<b> data</b>`<br>Context:   SELECT age FROM<br>Step 4; Avg weight = -1.441307<br>Particle 9; Weight = -1.325067<br>",
          "Token:    `<b> WHERE</b>`<br>Context:   SELECT age FROM data<br>Step 5; Avg weight = -1.587926<br>Particle 9; Weight = -1.470257<br>",
          "Token:    `<b> age</b>`<br>Context:   SELECT age FROM data WHERE<br>Step 6; Avg weight = -1.727242<br>Particle 9; Weight = -1.611374<br>",
          "Token:    `<b>></b>`<br>Context:   SELECT age FROM data WHERE age<br>Step 7; Avg weight = -1.876419<br>Particle 9; Weight = -1.643531<br>",
          "Token:    `<b>25</b>`<br>Context:   SELECT age FROM data WHERE age><br>Step 8; Avg weight = -2.006252<br>Particle 9; Weight = -1.658438<br>",
          "Token:    `<b> </</b>`<br>Context:   SELECT age FROM data ORDER BY age ASC<br>Step 9; Avg weight = -2.368406<br>Particle 10; Weight = -3.494849<br>        ↳ resample_indices particle 9",
          "Token:    `<b>s</b>`<br>Context:   SELECT age FROM data WHERE age>50 </<br>Step 10; Avg weight = -2.448142<br>Particle 9; Weight = -2.373646<br>",
          "Token:    `<b> BY</b>`<br>Context:   SELECT vote, zipcode, age FROM data ORDER<br>Step 11; Avg weight = -2.596647<br>Particle 9; Weight = -2.446938<br>",
          "Token:    `<b> age</b>`<br>Context:   SELECT vote, zipcode, age FROM data ORDER BY<br>Step 12; Avg weight = -3.324525<br>Particle 9; Weight = -2.543991<br>",
          "Token:    `<b> <</b>`<br>Context:   SELECT vote, zipcode, age FROM data ORDER BY age ASC<br>Step 14; Avg weight = -5.116664<br>Particle 9; Weight = -5.199054<br>",
          "Token:    `<b>s</b>`<br>Context:   SELECT vote, zipcode, age FROM data ORDER BY age ASC </<br>Step 15; Avg weight = -5.567801<br>Particle 9; Weight = -5.199687<br>",
          "Token:    `<b>></b>`<br>Context:   SELECT vote, zipcode, age FROM data ORDER BY age ASC </s<br>Step 16; Avg weight = -5.611234<br>Particle 9; Weight = -5.202318<br>",
          "Token:    `<b> </b>`<br>Context:   SELECT vote, zipcode, age FROM data ORDER BY age ASC </s><br>Step 17; Avg weight = -8.820980<br>Particle 10; Weight = -8.911625<br>        ↳ resample_indices particle 9",
          "Token:    `<b>▪</b>`<br>Context:   SELECT vote, zipcode, age FROM data ORDER BY age ASC </s> <br>Step 18; Avg weight = -16.217581<br>Particle 9; Weight = -17.200695<br>",
          "Token:    `<b>s</b>`<br>Context:   SELECT vote, zipcode, age FROM data WHERE age>20 GROUP BY age </<br>Step 19; Avg weight = -16.222084<br>Particle 9; Weight = -15.950467<br>",
          "Token:    `<b>></b>`<br>Context:   SELECT vote, zipcode, age FROM data WHERE age>20 GROUP BY age </s<br>Step 20; Avg weight = -16.237169<br>Particle 9; Weight = -15.967732<br>",
          "Token:    `<b> </b>`<br>Context:   SELECT vote, zipcode, age FROM data WHERE age>20 GROUP BY age </s><br>Step 21; Avg weight = -18.057405<br>Particle 9; Weight = -20.121865<br>"
         ],
         "marker": {
          "color": "rgb(46.363636363636346, 102.27272727272727, 208.63636363636365)",
          "opacity": 0.15,
          "size": [
           14.142135623730953,
           15.836980919937403,
           15.541068299816242,
           14.988432314852265,
           14.999139757603773,
           14.98564555192736,
           15.88861245813017,
           16.8283669188764,
           8.05213540740132,
           14.678837273881129,
           15.241369203446403,
           20.893236093619606,
           13.571387612523925,
           17.00003751786656,
           17.35042355173063,
           13.515485751168406,
           8.65036537158013,
           16.19928234712926,
           16.18164047657371,
           5.03759411417719
          ]
         },
         "mode": "markers+text",
         "showlegend": false,
         "text": [
          " SELECT",
          " age",
          " FROM",
          " data",
          " WHERE",
          " age",
          ">",
          "25",
          " </",
          "s",
          " BY",
          " age",
          " <",
          "s",
          ">",
          " ",
          "▪",
          "s",
          ">",
          " "
         ],
         "type": "scatter",
         "x": [
          1,
          2,
          3,
          4,
          5,
          6,
          7,
          8,
          9,
          10,
          11,
          12,
          14,
          15,
          16,
          17,
          18,
          19,
          20,
          21
         ],
         "y": [
          9,
          9,
          9,
          9,
          9,
          9,
          9,
          9,
          10,
          9,
          9,
          9,
          9,
          9,
          9,
          10,
          9,
          9,
          9,
          9
         ]
        },
        {
         "hoverinfo": "text",
         "hovertext": [
          "Token:    `<b> SELECT</b>`<br>Context:  <br>Step 1; Avg weight = -0.215236<br>Particle 10; Weight = -0.215236<br>",
          "Token:    `<b> age</b>`<br>Context:   SELECT<br>Step 2; Avg weight = -0.961201<br>Particle 10; Weight = -0.734823<br>",
          "Token:    `<b> FROM</b>`<br>Context:   SELECT age<br>Step 3; Avg weight = -1.140976<br>Particle 10; Weight = -0.952321<br>",
          "Token:    `<b> data</b>`<br>Context:   SELECT age FROM<br>Step 4; Avg weight = -1.441307<br>Particle 10; Weight = -1.325067<br>",
          "Token:    `<b> ORDER</b>`<br>Context:   SELECT age FROM data<br>Step 5; Avg weight = -1.587926<br>Particle 10; Weight = -1.470859<br>",
          "Token:    `<b> BY</b>`<br>Context:   SELECT age FROM data ORDER<br>Step 6; Avg weight = -1.727242<br>Particle 10; Weight = -1.471841<br>",
          "Token:    `<b> age</b>`<br>Context:   SELECT age FROM data ORDER BY<br>Step 7; Avg weight = -1.876419<br>Particle 10; Weight = -1.628887<br>",
          "Token:    `<b> ASC</b>`<br>Context:   SELECT age FROM data ORDER BY age<br>Step 8; Avg weight = -2.006252<br>Particle 10; Weight = -2.385250<br>",
          "Token:    `<b>,</b>`<br>Context:   SELECT race_ethnicity<br>Step 9; Avg weight = -2.368406<br>Particle 11; Weight = -22.691262<br>        ↳ resample_indices particle 10",
          "Token:    `<b>s</b>`<br>Context:   SELECT age FROM data WHERE age>25 </<br>Step 10; Avg weight = -2.448142<br>Particle 10; Weight = -2.376130<br>",
          "Token:    `<b> age</b>`<br>Context:   SELECT vote, zipcode, age FROM data WHERE<br>Step 11; Avg weight = -2.596647<br>Particle 10; Weight = -2.597791<br>",
          "Token:    `<b>></b>`<br>Context:   SELECT vote, zipcode, age FROM data WHERE age<br>Step 12; Avg weight = -3.324525<br>Particle 10; Weight = -2.623422<br>",
          "Token:    `<b> ASC</b>`<br>Context:   SELECT vote, zipcode FROM data ORDER BY age, vote<br>Step 13; Avg weight = -3.974729<br>Particle 3; Weight = -5.055326<br>        ↳ resample_indices particle 10",
          "Token:    `<b>/</b>`<br>Context:   SELECT vote, zipcode FROM data ORDER BY age ASC <<br>Step 13; Avg weight = -3.974729<br>Particle 4; Weight = -10.850582<br>        ↳ resample_indices particle 10",
          "Token:    `<b>▪</b>`<br>Context:   SELECT age FROM data ORDER BY age ASC </s> <br>Step 13; Avg weight = -3.974729<br>Particle 5; Weight = -13.823336<br>        ↳ resample_indices particle 10",
          "Token:    `<b>▪</b>`<br>Context:   SELECT age FROM data WHERE age>25 </s> <br>Step 13; Avg weight = -3.974729<br>Particle 6; Weight = -14.687897<br>        ↳ resample_indices particle 10",
          "Token:    `<b>▪</b>`<br>Context:   SELECT age FROM data WHERE age>50 </s> <br>Step 13; Avg weight = -3.974729<br>Particle 7; Weight = -14.392327<br>        ↳ resample_indices particle 10",
          "Token:    `<b> </</b>`<br>Context:   SELECT vote, zipcode, age FROM data ORDER BY age ASC<br>Step 14; Avg weight = -5.116664<br>Particle 10; Weight = -5.199054<br>",
          "Token:    `<b>s</b>`<br>Context:   SELECT vote, zipcode, age FROM data ORDER BY age ASC </<br>Step 15; Avg weight = -5.567801<br>Particle 10; Weight = -5.199687<br>",
          "Token:    `<b>></b>`<br>Context:   SELECT vote, zipcode, age FROM data ORDER BY age ASC </s<br>Step 16; Avg weight = -5.611234<br>Particle 10; Weight = -5.202318<br>",
          "Token:    `<b> BY</b>`<br>Context:   SELECT vote, zipcode, age FROM data WHERE age>20 ORDER<br>Step 17; Avg weight = -8.820980<br>Particle 11; Weight = -24.404559<br>        ↳ resample_indices particle 10",
          "Token:    `<b>▪</b>`<br>Context:   SELECT vote, zipcode, age FROM data ORDER BY age ASC </s> <br>Step 18; Avg weight = -16.217581<br>Particle 10; Weight = -17.200695<br>",
          "Token:    `<b>s</b>`<br>Context:   SELECT vote, zipcode, age FROM data WHERE age>20 GROUP BY age </<br>Step 19; Avg weight = -16.222084<br>Particle 10; Weight = -15.950467<br>",
          "Token:    `<b>></b>`<br>Context:   SELECT vote, zipcode, age FROM data WHERE age>20 GROUP BY age </s<br>Step 20; Avg weight = -16.237169<br>Particle 10; Weight = -15.967732<br>",
          "Token:    `<b> </b>`<br>Context:   SELECT vote, zipcode, age FROM data WHERE age>20 GROUP BY age </s><br>Step 21; Avg weight = -18.057405<br>Particle 10; Weight = -20.121865<br>"
         ],
         "marker": {
          "color": "rgb(23.18181818181816, 113.63636363636363, 231.81818181818184)",
          "opacity": 0.15,
          "size": [
           14.142135623730953,
           15.836980919937403,
           15.541068299816242,
           14.988432314852265,
           14.99462386111394,
           16.068472733080803,
           16.00537427340878,
           11.700828859487464,
           0.0005463398985640349,
           14.660615430999126,
           14.134052684976151,
           20.07971004729475,
           8.238844275585729,
           0.45440432167635086,
           0.10278202702036741,
           0.06670832899406227,
           0.07733256516881154,
           13.571387612523925,
           17.00003751786656,
           17.35042355173063,
           0.005842300130306628,
           8.65036537158013,
           16.19928234712926,
           16.18164047657371,
           5.03759411417719
          ]
         },
         "mode": "markers+text",
         "showlegend": false,
         "text": [
          " SELECT",
          " age",
          " FROM",
          " data",
          " ORDER",
          " BY",
          " age",
          " ASC",
          ",",
          "s",
          " age",
          ">",
          " ASC",
          "/",
          "▪",
          "▪",
          "▪",
          " </",
          "s",
          ">",
          " BY",
          "▪",
          "s",
          ">",
          " "
         ],
         "type": "scatter",
         "x": [
          1,
          2,
          3,
          4,
          5,
          6,
          7,
          8,
          9,
          10,
          11,
          12,
          13,
          13,
          13,
          13,
          13,
          14,
          15,
          16,
          17,
          18,
          19,
          20,
          21
         ],
         "y": [
          10,
          10,
          10,
          10,
          10,
          10,
          10,
          10,
          11,
          10,
          10,
          10,
          3,
          4,
          5,
          6,
          7,
          10,
          10,
          10,
          11,
          10,
          10,
          10,
          10
         ]
        },
        {
         "hoverinfo": "text",
         "hovertext": [
          "Token:    `<b> SELECT</b>`<br>Context:  <br>Step 1; Avg weight = -0.215236<br>Particle 11; Weight = -0.215236<br>",
          "Token:    `<b> r</b>`<br>Context:   SELECT<br>Step 2; Avg weight = -0.961201<br>Particle 11; Weight = -2.033913<br>",
          "Token:    `<b>a</b>`<br>Context:   SELECT r<br>Step 3; Avg weight = -1.140976<br>Particle 11; Weight = -8.866402<br>",
          "Token:    `<b>c</b>`<br>Context:   SELECT ra<br>Step 4; Avg weight = -1.441307<br>Particle 11; Weight = -14.624592<br>",
          "Token:    `<b>e</b>`<br>Context:   SELECT rac<br>Step 5; Avg weight = -1.587926<br>Particle 11; Weight = -20.648761<br>",
          "Token:    `<b>_</b>`<br>Context:   SELECT race<br>Step 6; Avg weight = -1.727242<br>Particle 11; Weight = -22.636278<br>",
          "Token:    `<b>ethnic</b>`<br>Context:   SELECT race_<br>Step 7; Avg weight = -1.876419<br>Particle 11; Weight = -22.667071<br>",
          "Token:    `<b>ity</b>`<br>Context:   SELECT race_ethnic<br>Step 8; Avg weight = -2.006252<br>Particle 11; Weight = -22.669712<br>",
          "Token:    `<b>s</b>`<br>Context:   SELECT age FROM data ORDER BY age ASC </<br>Step 10; Avg weight = -2.448142<br>Particle 11; Weight = -2.369209<br>",
          "Token:    `<b> BY</b>`<br>Context:   SELECT vote, zipcode, age FROM data ORDER<br>Step 11; Avg weight = -2.596647<br>Particle 11; Weight = -2.446938<br>",
          "Token:    `<b> age</b>`<br>Context:   SELECT vote, zipcode, age FROM data ORDER BY<br>Step 12; Avg weight = -3.324525<br>Particle 11; Weight = -2.543991<br>",
          "Token:    `<b> DE</b>`<br>Context:   SELECT vote, zipcode FROM data ORDER BY age, gender<br>Step 13; Avg weight = -3.974729<br>Particle 8; Weight = -5.157251<br>        ↳ resample_indices particle 11",
          "Token:    `<b> ASC</b>`<br>Context:   SELECT vote, zipcode, age FROM data ORDER BY age<br>Step 13; Avg weight = -3.974729<br>Particle 9; Weight = -3.153399<br>        ↳ resample_indices particle 11",
          "Token:    `<b>20</b>`<br>Context:   SELECT vote, zipcode, age FROM data WHERE age><br>Step 13; Avg weight = -3.974729<br>Particle 10; Weight = -2.641142<br>        ↳ resample_indices particle 11",
          "Token:    `<b> ASC</b>`<br>Context:   SELECT vote, zipcode, age FROM data ORDER BY age<br>Step 13; Avg weight = -3.974729<br>Particle 11; Weight = -3.153399<br>        ↳ resample_indices particle 11",
          "Token:    `<b> </</b>`<br>Context:   SELECT vote, zipcode, age FROM data ORDER BY age ASC<br>Step 14; Avg weight = -5.116664<br>Particle 11; Weight = -5.199054<br>",
          "Token:    `<b>D</b>`<br>Context:   SELECT vote, zipcode, age FROM data WHERE age>20 OR<br>Step 15; Avg weight = -5.567801<br>Particle 11; Weight = -18.255598<br>",
          "Token:    `<b>ER</b>`<br>Context:   SELECT vote, zipcode, age FROM data WHERE age>20 ORD<br>Step 16; Avg weight = -5.611234<br>Particle 11; Weight = -24.402641<br>",
          "Token:    `<b>▪</b>`<br>Context:   SELECT vote, zipcode, age FROM data ORDER BY age ASC </s> <br>Step 18; Avg weight = -16.217581<br>Particle 11; Weight = -17.200695<br>",
          "Token:    `<b>s</b>`<br>Context:   SELECT vote, zipcode, age FROM data WHERE age>20 GROUP BY age </<br>Step 19; Avg weight = -16.222084<br>Particle 11; Weight = -15.950467<br>",
          "Token:    `<b>></b>`<br>Context:   SELECT vote, zipcode, age FROM data WHERE age>20 GROUP BY age </s<br>Step 20; Avg weight = -16.237169<br>Particle 11; Weight = -15.967732<br>",
          "Token:    `<b> </b>`<br>Context:   SELECT vote, zipcode, age FROM data WHERE age>20 GROUP BY age </s><br>Step 21; Avg weight = -18.057405<br>Particle 11; Weight = -20.121865<br>"
         ],
         "marker": {
          "color": "rgb(0.0, 125.0, 255.0)",
          "opacity": 0.15,
          "size": [
           14.142135623730953,
           8.271391599988705,
           0.29713923414845267,
           0.019399973760344764,
           0.0010268502684390877,
           0.00040754497897119315,
           0.00043239649939380255,
           0.0004607887054996138,
           14.711436671654305,
           15.241369203446403,
           20.893236093619606,
           7.829491831631256,
           21.32379526221797,
           27.548620071636318,
           21.32379526221797,
           13.571387612523925,
           0.024853917431893927,
           0.0011749326511012175,
           8.65036537158013,
           16.19928234712926,
           16.18164047657371,
           5.03759411417719
          ]
         },
         "mode": "markers+text",
         "showlegend": false,
         "text": [
          " SELECT",
          " r",
          "a",
          "c",
          "e",
          "_",
          "ethnic",
          "ity",
          "s",
          " BY",
          " age",
          " DE",
          " ASC",
          "20",
          " ASC",
          " </",
          "D",
          "ER",
          "▪",
          "s",
          ">",
          " "
         ],
         "type": "scatter",
         "x": [
          1,
          2,
          3,
          4,
          5,
          6,
          7,
          8,
          10,
          11,
          12,
          13,
          13,
          13,
          13,
          14,
          15,
          16,
          18,
          19,
          20,
          21
         ],
         "y": [
          11,
          11,
          11,
          11,
          11,
          11,
          11,
          11,
          11,
          11,
          11,
          8,
          9,
          10,
          11,
          11,
          11,
          11,
          11,
          11,
          11,
          11
         ]
        },
        {
         "line": {
          "color": "rgb(255.0, 0.0, 0.0)"
         },
         "mode": "lines",
         "name": "0",
         "opacity": 0.2,
         "showlegend": false,
         "type": "scatter",
         "x": [
          1,
          2
         ],
         "y": [
          0,
          0
         ]
        },
        {
         "line": {
          "color": "rgb(255.0, 0.0, 0.0)"
         },
         "mode": "lines",
         "name": "0",
         "opacity": 0.2,
         "showlegend": false,
         "type": "scatter",
         "x": [
          2,
          3
         ],
         "y": [
          0,
          0
         ]
        },
        {
         "line": {
          "color": "rgb(255.0, 0.0, 0.0)"
         },
         "mode": "lines",
         "name": "0",
         "opacity": 0.2,
         "showlegend": false,
         "type": "scatter",
         "x": [
          3,
          4
         ],
         "y": [
          0,
          0
         ]
        },
        {
         "line": {
          "color": "rgb(255.0, 0.0, 0.0)"
         },
         "mode": "lines",
         "name": "0",
         "opacity": 0.2,
         "showlegend": false,
         "type": "scatter",
         "x": [
          4,
          5
         ],
         "y": [
          0,
          0
         ]
        },
        {
         "line": {
          "color": "rgb(255.0, 0.0, 0.0)"
         },
         "mode": "lines",
         "name": "0",
         "opacity": 0.2,
         "showlegend": false,
         "type": "scatter",
         "x": [
          5,
          6
         ],
         "y": [
          0,
          0
         ]
        },
        {
         "line": {
          "color": "rgb(255.0, 0.0, 0.0)"
         },
         "mode": "lines",
         "name": "0",
         "opacity": 0.2,
         "showlegend": false,
         "type": "scatter",
         "x": [
          6,
          7
         ],
         "y": [
          0,
          0
         ]
        },
        {
         "line": {
          "color": "rgb(255.0, 0.0, 0.0)"
         },
         "mode": "lines",
         "name": "0",
         "opacity": 0.2,
         "showlegend": false,
         "type": "scatter",
         "x": [
          7,
          8
         ],
         "y": [
          0,
          0
         ]
        },
        {
         "line": {
          "color": "rgb(255.0, 0.0, 0.0)"
         },
         "mode": "lines",
         "name": "0",
         "opacity": 0.2,
         "showlegend": false,
         "type": "scatter",
         "x": [
          8,
          9
         ],
         "y": [
          0,
          0
         ]
        },
        {
         "line": {
          "color": "rgb(255.0, 0.0, 0.0)"
         },
         "mode": "lines",
         "name": "0",
         "opacity": 0.2,
         "showlegend": false,
         "type": "scatter",
         "x": [
          10,
          11
         ],
         "y": [
          0,
          0
         ]
        },
        {
         "line": {
          "color": "rgb(255.0, 0.0, 0.0)"
         },
         "mode": "lines",
         "name": "0",
         "opacity": 0.2,
         "showlegend": false,
         "type": "scatter",
         "x": [
          11,
          12
         ],
         "y": [
          0,
          0
         ]
        },
        {
         "line": {
          "color": "rgb(255.0, 0.0, 0.0)"
         },
         "mode": "lines",
         "name": "0",
         "opacity": 0.2,
         "showlegend": false,
         "type": "scatter",
         "x": [
          12,
          13
         ],
         "y": [
          0,
          0
         ]
        },
        {
         "line": {
          "color": "rgb(255.0, 0.0, 0.0)"
         },
         "mode": "lines",
         "name": "0",
         "opacity": 0.2,
         "showlegend": false,
         "type": "scatter",
         "x": [
          13,
          14
         ],
         "y": [
          0,
          0
         ]
        },
        {
         "line": {
          "color": "rgb(255.0, 0.0, 0.0)"
         },
         "mode": "lines",
         "name": "0",
         "opacity": 0.2,
         "showlegend": false,
         "type": "scatter",
         "x": [
          13,
          14
         ],
         "y": [
          0,
          1
         ]
        },
        {
         "line": {
          "color": "rgb(255.0, 0.0, 0.0)"
         },
         "mode": "lines",
         "name": "0",
         "opacity": 0.2,
         "showlegend": false,
         "type": "scatter",
         "x": [
          13,
          14
         ],
         "y": [
          0,
          2
         ]
        },
        {
         "line": {
          "color": "rgb(255.0, 0.0, 0.0)"
         },
         "mode": "lines",
         "name": "0",
         "opacity": 0.2,
         "showlegend": false,
         "type": "scatter",
         "x": [
          14,
          15
         ],
         "y": [
          0,
          0
         ]
        },
        {
         "line": {
          "color": "rgb(255.0, 0.0, 0.0)"
         },
         "mode": "lines",
         "name": "0",
         "opacity": 0.2,
         "showlegend": false,
         "type": "scatter",
         "x": [
          15,
          16
         ],
         "y": [
          0,
          0
         ]
        },
        {
         "line": {
          "color": "rgb(255.0, 0.0, 0.0)"
         },
         "mode": "lines",
         "name": "0",
         "opacity": 0.2,
         "showlegend": false,
         "type": "scatter",
         "x": [
          16,
          17
         ],
         "y": [
          0,
          0
         ]
        },
        {
         "line": {
          "color": "rgb(255.0, 0.0, 0.0)"
         },
         "mode": "lines",
         "name": "0",
         "opacity": 0.2,
         "showlegend": false,
         "type": "scatter",
         "x": [
          18,
          19
         ],
         "y": [
          0,
          0
         ]
        },
        {
         "line": {
          "color": "rgb(255.0, 0.0, 0.0)"
         },
         "mode": "lines",
         "name": "0",
         "opacity": 0.2,
         "showlegend": false,
         "type": "scatter",
         "x": [
          19,
          20
         ],
         "y": [
          0,
          0
         ]
        },
        {
         "line": {
          "color": "rgb(255.0, 0.0, 0.0)"
         },
         "mode": "lines",
         "name": "0",
         "opacity": 0.2,
         "showlegend": false,
         "type": "scatter",
         "x": [
          20,
          21
         ],
         "y": [
          0,
          0
         ]
        },
        {
         "line": {
          "color": "rgb(255.0, 0.0, 0.0)"
         },
         "mode": "lines",
         "name": "0",
         "opacity": 0.2,
         "showlegend": false,
         "type": "scatter",
         "x": [
          21,
          22
         ],
         "y": [
          0,
          0
         ]
        },
        {
         "line": {
          "color": "rgb(255.0, 0.0, 0.0)"
         },
         "mode": "lines",
         "name": "0",
         "opacity": 0.2,
         "showlegend": false,
         "type": "scatter",
         "x": [
          22,
          23
         ],
         "y": [
          0,
          0
         ]
        },
        {
         "line": {
          "color": "rgb(255.0, 0.0, 0.0)"
         },
         "mode": "lines",
         "name": "0",
         "opacity": 0.2,
         "showlegend": false,
         "type": "scatter",
         "x": [
          22,
          23
         ],
         "y": [
          0,
          1
         ]
        },
        {
         "line": {
          "color": "rgb(255.0, 0.0, 0.0)"
         },
         "mode": "lines",
         "name": "0",
         "opacity": 0.2,
         "showlegend": false,
         "type": "scatter",
         "x": [
          22,
          23
         ],
         "y": [
          0,
          2
         ]
        },
        {
         "line": {
          "color": "rgb(255.0, 0.0, 0.0)"
         },
         "mode": "lines",
         "name": "0",
         "opacity": 0.2,
         "showlegend": false,
         "type": "scatter",
         "x": [
          22,
          23
         ],
         "y": [
          0,
          3
         ]
        },
        {
         "line": {
          "color": "rgb(231.8181818181818, 11.363636363636363, 23.181818181818183)"
         },
         "mode": "lines",
         "name": "1",
         "opacity": 0.2,
         "showlegend": false,
         "type": "scatter",
         "x": [
          1,
          2
         ],
         "y": [
          1,
          1
         ]
        },
        {
         "line": {
          "color": "rgb(231.8181818181818, 11.363636363636363, 23.181818181818183)"
         },
         "mode": "lines",
         "name": "1",
         "opacity": 0.2,
         "showlegend": false,
         "type": "scatter",
         "x": [
          2,
          3
         ],
         "y": [
          1,
          1
         ]
        },
        {
         "line": {
          "color": "rgb(231.8181818181818, 11.363636363636363, 23.181818181818183)"
         },
         "mode": "lines",
         "name": "1",
         "opacity": 0.2,
         "showlegend": false,
         "type": "scatter",
         "x": [
          3,
          4
         ],
         "y": [
          1,
          1
         ]
        },
        {
         "line": {
          "color": "rgb(231.8181818181818, 11.363636363636363, 23.181818181818183)"
         },
         "mode": "lines",
         "name": "1",
         "opacity": 0.2,
         "showlegend": false,
         "type": "scatter",
         "x": [
          4,
          5
         ],
         "y": [
          1,
          1
         ]
        },
        {
         "line": {
          "color": "rgb(231.8181818181818, 11.363636363636363, 23.181818181818183)"
         },
         "mode": "lines",
         "name": "1",
         "opacity": 0.2,
         "showlegend": false,
         "type": "scatter",
         "x": [
          5,
          6
         ],
         "y": [
          1,
          1
         ]
        },
        {
         "line": {
          "color": "rgb(231.8181818181818, 11.363636363636363, 23.181818181818183)"
         },
         "mode": "lines",
         "name": "1",
         "opacity": 0.2,
         "showlegend": false,
         "type": "scatter",
         "x": [
          6,
          7
         ],
         "y": [
          1,
          1
         ]
        },
        {
         "line": {
          "color": "rgb(231.8181818181818, 11.363636363636363, 23.181818181818183)"
         },
         "mode": "lines",
         "name": "1",
         "opacity": 0.2,
         "showlegend": false,
         "type": "scatter",
         "x": [
          7,
          8
         ],
         "y": [
          1,
          1
         ]
        },
        {
         "line": {
          "color": "rgb(231.8181818181818, 11.363636363636363, 23.181818181818183)"
         },
         "mode": "lines",
         "name": "1",
         "opacity": 0.2,
         "showlegend": false,
         "type": "scatter",
         "x": [
          8,
          9
         ],
         "y": [
          1,
          1
         ]
        },
        {
         "line": {
          "color": "rgb(231.8181818181818, 11.363636363636363, 23.181818181818183)"
         },
         "mode": "lines",
         "name": "1",
         "opacity": 0.2,
         "showlegend": false,
         "type": "scatter",
         "x": [
          10,
          11
         ],
         "y": [
          1,
          1
         ]
        },
        {
         "line": {
          "color": "rgb(231.8181818181818, 11.363636363636363, 23.181818181818183)"
         },
         "mode": "lines",
         "name": "1",
         "opacity": 0.2,
         "showlegend": false,
         "type": "scatter",
         "x": [
          11,
          12
         ],
         "y": [
          1,
          1
         ]
        },
        {
         "line": {
          "color": "rgb(231.8181818181818, 11.363636363636363, 23.181818181818183)"
         },
         "mode": "lines",
         "name": "1",
         "opacity": 0.2,
         "showlegend": false,
         "type": "scatter",
         "x": [
          12,
          13
         ],
         "y": [
          1,
          1
         ]
        },
        {
         "line": {
          "color": "rgb(231.8181818181818, 11.363636363636363, 23.181818181818183)"
         },
         "mode": "lines",
         "name": "1",
         "opacity": 0.2,
         "showlegend": false,
         "type": "scatter",
         "x": [
          14,
          15
         ],
         "y": [
          1,
          1
         ]
        },
        {
         "line": {
          "color": "rgb(231.8181818181818, 11.363636363636363, 23.181818181818183)"
         },
         "mode": "lines",
         "name": "1",
         "opacity": 0.2,
         "showlegend": false,
         "type": "scatter",
         "x": [
          15,
          16
         ],
         "y": [
          1,
          1
         ]
        },
        {
         "line": {
          "color": "rgb(231.8181818181818, 11.363636363636363, 23.181818181818183)"
         },
         "mode": "lines",
         "name": "1",
         "opacity": 0.2,
         "showlegend": false,
         "type": "scatter",
         "x": [
          16,
          17
         ],
         "y": [
          1,
          1
         ]
        },
        {
         "line": {
          "color": "rgb(231.8181818181818, 11.363636363636363, 23.181818181818183)"
         },
         "mode": "lines",
         "name": "1",
         "opacity": 0.2,
         "showlegend": false,
         "type": "scatter",
         "x": [
          18,
          19
         ],
         "y": [
          1,
          1
         ]
        },
        {
         "line": {
          "color": "rgb(231.8181818181818, 11.363636363636363, 23.181818181818183)"
         },
         "mode": "lines",
         "name": "1",
         "opacity": 0.2,
         "showlegend": false,
         "type": "scatter",
         "x": [
          19,
          20
         ],
         "y": [
          1,
          1
         ]
        },
        {
         "line": {
          "color": "rgb(231.8181818181818, 11.363636363636363, 23.181818181818183)"
         },
         "mode": "lines",
         "name": "1",
         "opacity": 0.2,
         "showlegend": false,
         "type": "scatter",
         "x": [
          20,
          21
         ],
         "y": [
          1,
          1
         ]
        },
        {
         "line": {
          "color": "rgb(231.8181818181818, 11.363636363636363, 23.181818181818183)"
         },
         "mode": "lines",
         "name": "1",
         "opacity": 0.2,
         "showlegend": false,
         "type": "scatter",
         "x": [
          21,
          22
         ],
         "y": [
          1,
          1
         ]
        },
        {
         "line": {
          "color": "rgb(231.8181818181818, 11.363636363636363, 23.181818181818183)"
         },
         "mode": "lines",
         "name": "1",
         "opacity": 0.2,
         "showlegend": false,
         "type": "scatter",
         "x": [
          22,
          23
         ],
         "y": [
          1,
          4
         ]
        },
        {
         "line": {
          "color": "rgb(231.8181818181818, 11.363636363636363, 23.181818181818183)"
         },
         "mode": "lines",
         "name": "1",
         "opacity": 0.2,
         "showlegend": false,
         "type": "scatter",
         "x": [
          22,
          23
         ],
         "y": [
          1,
          5
         ]
        },
        {
         "line": {
          "color": "rgb(208.63636363636363, 22.727272727272727, 46.36363636363637)"
         },
         "mode": "lines",
         "name": "2",
         "opacity": 0.2,
         "showlegend": false,
         "type": "scatter",
         "x": [
          1,
          2
         ],
         "y": [
          2,
          2
         ]
        },
        {
         "line": {
          "color": "rgb(208.63636363636363, 22.727272727272727, 46.36363636363637)"
         },
         "mode": "lines",
         "name": "2",
         "opacity": 0.2,
         "showlegend": false,
         "type": "scatter",
         "x": [
          2,
          3
         ],
         "y": [
          2,
          2
         ]
        },
        {
         "line": {
          "color": "rgb(208.63636363636363, 22.727272727272727, 46.36363636363637)"
         },
         "mode": "lines",
         "name": "2",
         "opacity": 0.2,
         "showlegend": false,
         "type": "scatter",
         "x": [
          3,
          4
         ],
         "y": [
          2,
          2
         ]
        },
        {
         "line": {
          "color": "rgb(208.63636363636363, 22.727272727272727, 46.36363636363637)"
         },
         "mode": "lines",
         "name": "2",
         "opacity": 0.2,
         "showlegend": false,
         "type": "scatter",
         "x": [
          4,
          5
         ],
         "y": [
          2,
          2
         ]
        },
        {
         "line": {
          "color": "rgb(208.63636363636363, 22.727272727272727, 46.36363636363637)"
         },
         "mode": "lines",
         "name": "2",
         "opacity": 0.2,
         "showlegend": false,
         "type": "scatter",
         "x": [
          5,
          6
         ],
         "y": [
          2,
          2
         ]
        },
        {
         "line": {
          "color": "rgb(208.63636363636363, 22.727272727272727, 46.36363636363637)"
         },
         "mode": "lines",
         "name": "2",
         "opacity": 0.2,
         "showlegend": false,
         "type": "scatter",
         "x": [
          6,
          7
         ],
         "y": [
          2,
          2
         ]
        },
        {
         "line": {
          "color": "rgb(208.63636363636363, 22.727272727272727, 46.36363636363637)"
         },
         "mode": "lines",
         "name": "2",
         "opacity": 0.2,
         "showlegend": false,
         "type": "scatter",
         "x": [
          7,
          8
         ],
         "y": [
          2,
          2
         ]
        },
        {
         "line": {
          "color": "rgb(208.63636363636363, 22.727272727272727, 46.36363636363637)"
         },
         "mode": "lines",
         "name": "2",
         "opacity": 0.2,
         "showlegend": false,
         "type": "scatter",
         "x": [
          8,
          9
         ],
         "y": [
          2,
          2
         ]
        },
        {
         "line": {
          "color": "rgb(208.63636363636363, 22.727272727272727, 46.36363636363637)"
         },
         "mode": "lines",
         "name": "2",
         "opacity": 0.2,
         "showlegend": false,
         "type": "scatter",
         "x": [
          10,
          11
         ],
         "y": [
          2,
          2
         ]
        },
        {
         "line": {
          "color": "rgb(208.63636363636363, 22.727272727272727, 46.36363636363637)"
         },
         "mode": "lines",
         "name": "2",
         "opacity": 0.2,
         "showlegend": false,
         "type": "scatter",
         "x": [
          11,
          12
         ],
         "y": [
          2,
          2
         ]
        },
        {
         "line": {
          "color": "rgb(208.63636363636363, 22.727272727272727, 46.36363636363637)"
         },
         "mode": "lines",
         "name": "2",
         "opacity": 0.2,
         "showlegend": false,
         "type": "scatter",
         "x": [
          12,
          13
         ],
         "y": [
          2,
          2
         ]
        },
        {
         "line": {
          "color": "rgb(208.63636363636363, 22.727272727272727, 46.36363636363637)"
         },
         "mode": "lines",
         "name": "2",
         "opacity": 0.2,
         "showlegend": false,
         "type": "scatter",
         "x": [
          14,
          15
         ],
         "y": [
          2,
          2
         ]
        },
        {
         "line": {
          "color": "rgb(208.63636363636363, 22.727272727272727, 46.36363636363637)"
         },
         "mode": "lines",
         "name": "2",
         "opacity": 0.2,
         "showlegend": false,
         "type": "scatter",
         "x": [
          15,
          16
         ],
         "y": [
          2,
          2
         ]
        },
        {
         "line": {
          "color": "rgb(208.63636363636363, 22.727272727272727, 46.36363636363637)"
         },
         "mode": "lines",
         "name": "2",
         "opacity": 0.2,
         "showlegend": false,
         "type": "scatter",
         "x": [
          16,
          17
         ],
         "y": [
          2,
          2
         ]
        },
        {
         "line": {
          "color": "rgb(208.63636363636363, 22.727272727272727, 46.36363636363637)"
         },
         "mode": "lines",
         "name": "2",
         "opacity": 0.2,
         "showlegend": false,
         "type": "scatter",
         "x": [
          18,
          19
         ],
         "y": [
          2,
          2
         ]
        },
        {
         "line": {
          "color": "rgb(208.63636363636363, 22.727272727272727, 46.36363636363637)"
         },
         "mode": "lines",
         "name": "2",
         "opacity": 0.2,
         "showlegend": false,
         "type": "scatter",
         "x": [
          19,
          20
         ],
         "y": [
          2,
          2
         ]
        },
        {
         "line": {
          "color": "rgb(208.63636363636363, 22.727272727272727, 46.36363636363637)"
         },
         "mode": "lines",
         "name": "2",
         "opacity": 0.2,
         "showlegend": false,
         "type": "scatter",
         "x": [
          20,
          21
         ],
         "y": [
          2,
          2
         ]
        },
        {
         "line": {
          "color": "rgb(208.63636363636363, 22.727272727272727, 46.36363636363637)"
         },
         "mode": "lines",
         "name": "2",
         "opacity": 0.2,
         "showlegend": false,
         "type": "scatter",
         "x": [
          21,
          22
         ],
         "y": [
          2,
          2
         ]
        },
        {
         "line": {
          "color": "rgb(185.45454545454544, 34.09090909090909, 69.54545454545455)"
         },
         "mode": "lines",
         "name": "3",
         "opacity": 0.2,
         "showlegend": false,
         "type": "scatter",
         "x": [
          1,
          2
         ],
         "y": [
          3,
          3
         ]
        },
        {
         "line": {
          "color": "rgb(185.45454545454544, 34.09090909090909, 69.54545454545455)"
         },
         "mode": "lines",
         "name": "3",
         "opacity": 0.2,
         "showlegend": false,
         "type": "scatter",
         "x": [
          2,
          3
         ],
         "y": [
          3,
          3
         ]
        },
        {
         "line": {
          "color": "rgb(185.45454545454544, 34.09090909090909, 69.54545454545455)"
         },
         "mode": "lines",
         "name": "3",
         "opacity": 0.2,
         "showlegend": false,
         "type": "scatter",
         "x": [
          3,
          4
         ],
         "y": [
          3,
          3
         ]
        },
        {
         "line": {
          "color": "rgb(185.45454545454544, 34.09090909090909, 69.54545454545455)"
         },
         "mode": "lines",
         "name": "3",
         "opacity": 0.2,
         "showlegend": false,
         "type": "scatter",
         "x": [
          4,
          5
         ],
         "y": [
          3,
          3
         ]
        },
        {
         "line": {
          "color": "rgb(185.45454545454544, 34.09090909090909, 69.54545454545455)"
         },
         "mode": "lines",
         "name": "3",
         "opacity": 0.2,
         "showlegend": false,
         "type": "scatter",
         "x": [
          5,
          6
         ],
         "y": [
          3,
          3
         ]
        },
        {
         "line": {
          "color": "rgb(185.45454545454544, 34.09090909090909, 69.54545454545455)"
         },
         "mode": "lines",
         "name": "3",
         "opacity": 0.2,
         "showlegend": false,
         "type": "scatter",
         "x": [
          6,
          7
         ],
         "y": [
          3,
          3
         ]
        },
        {
         "line": {
          "color": "rgb(185.45454545454544, 34.09090909090909, 69.54545454545455)"
         },
         "mode": "lines",
         "name": "3",
         "opacity": 0.2,
         "showlegend": false,
         "type": "scatter",
         "x": [
          7,
          8
         ],
         "y": [
          3,
          3
         ]
        },
        {
         "line": {
          "color": "rgb(185.45454545454544, 34.09090909090909, 69.54545454545455)"
         },
         "mode": "lines",
         "name": "3",
         "opacity": 0.2,
         "showlegend": false,
         "type": "scatter",
         "x": [
          8,
          9
         ],
         "y": [
          3,
          3
         ]
        },
        {
         "line": {
          "color": "rgb(185.45454545454544, 34.09090909090909, 69.54545454545455)"
         },
         "mode": "lines",
         "name": "3",
         "opacity": 0.2,
         "showlegend": false,
         "type": "scatter",
         "x": [
          10,
          11
         ],
         "y": [
          3,
          3
         ]
        },
        {
         "line": {
          "color": "rgb(185.45454545454544, 34.09090909090909, 69.54545454545455)"
         },
         "mode": "lines",
         "name": "3",
         "opacity": 0.2,
         "showlegend": false,
         "type": "scatter",
         "x": [
          11,
          12
         ],
         "y": [
          3,
          3
         ]
        },
        {
         "line": {
          "color": "rgb(185.45454545454544, 34.09090909090909, 69.54545454545455)"
         },
         "mode": "lines",
         "name": "3",
         "opacity": 0.2,
         "showlegend": false,
         "type": "scatter",
         "x": [
          12,
          13
         ],
         "y": [
          3,
          3
         ]
        },
        {
         "line": {
          "color": "rgb(185.45454545454544, 34.09090909090909, 69.54545454545455)"
         },
         "mode": "lines",
         "name": "3",
         "opacity": 0.2,
         "showlegend": false,
         "type": "scatter",
         "x": [
          14,
          15
         ],
         "y": [
          3,
          3
         ]
        },
        {
         "line": {
          "color": "rgb(185.45454545454544, 34.09090909090909, 69.54545454545455)"
         },
         "mode": "lines",
         "name": "3",
         "opacity": 0.2,
         "showlegend": false,
         "type": "scatter",
         "x": [
          15,
          16
         ],
         "y": [
          3,
          3
         ]
        },
        {
         "line": {
          "color": "rgb(185.45454545454544, 34.09090909090909, 69.54545454545455)"
         },
         "mode": "lines",
         "name": "3",
         "opacity": 0.2,
         "showlegend": false,
         "type": "scatter",
         "x": [
          16,
          17
         ],
         "y": [
          3,
          3
         ]
        },
        {
         "line": {
          "color": "rgb(185.45454545454544, 34.09090909090909, 69.54545454545455)"
         },
         "mode": "lines",
         "name": "3",
         "opacity": 0.2,
         "showlegend": false,
         "type": "scatter",
         "x": [
          17,
          18
         ],
         "y": [
          3,
          0
         ]
        },
        {
         "line": {
          "color": "rgb(185.45454545454544, 34.09090909090909, 69.54545454545455)"
         },
         "mode": "lines",
         "name": "3",
         "opacity": 0.2,
         "showlegend": false,
         "type": "scatter",
         "x": [
          18,
          19
         ],
         "y": [
          3,
          3
         ]
        },
        {
         "line": {
          "color": "rgb(185.45454545454544, 34.09090909090909, 69.54545454545455)"
         },
         "mode": "lines",
         "name": "3",
         "opacity": 0.2,
         "showlegend": false,
         "type": "scatter",
         "x": [
          19,
          20
         ],
         "y": [
          3,
          3
         ]
        },
        {
         "line": {
          "color": "rgb(185.45454545454544, 34.09090909090909, 69.54545454545455)"
         },
         "mode": "lines",
         "name": "3",
         "opacity": 0.2,
         "showlegend": false,
         "type": "scatter",
         "x": [
          20,
          21
         ],
         "y": [
          3,
          3
         ]
        },
        {
         "line": {
          "color": "rgb(185.45454545454544, 34.09090909090909, 69.54545454545455)"
         },
         "mode": "lines",
         "name": "3",
         "opacity": 0.2,
         "showlegend": false,
         "type": "scatter",
         "x": [
          21,
          22
         ],
         "y": [
          3,
          3
         ]
        },
        {
         "line": {
          "color": "rgb(162.27272727272725, 45.45454545454545, 92.72727272727273)"
         },
         "mode": "lines",
         "name": "4",
         "opacity": 0.2,
         "showlegend": false,
         "type": "scatter",
         "x": [
          1,
          2
         ],
         "y": [
          4,
          4
         ]
        },
        {
         "line": {
          "color": "rgb(162.27272727272725, 45.45454545454545, 92.72727272727273)"
         },
         "mode": "lines",
         "name": "4",
         "opacity": 0.2,
         "showlegend": false,
         "type": "scatter",
         "x": [
          2,
          3
         ],
         "y": [
          4,
          4
         ]
        },
        {
         "line": {
          "color": "rgb(162.27272727272725, 45.45454545454545, 92.72727272727273)"
         },
         "mode": "lines",
         "name": "4",
         "opacity": 0.2,
         "showlegend": false,
         "type": "scatter",
         "x": [
          3,
          4
         ],
         "y": [
          4,
          4
         ]
        },
        {
         "line": {
          "color": "rgb(162.27272727272725, 45.45454545454545, 92.72727272727273)"
         },
         "mode": "lines",
         "name": "4",
         "opacity": 0.2,
         "showlegend": false,
         "type": "scatter",
         "x": [
          4,
          5
         ],
         "y": [
          4,
          4
         ]
        },
        {
         "line": {
          "color": "rgb(162.27272727272725, 45.45454545454545, 92.72727272727273)"
         },
         "mode": "lines",
         "name": "4",
         "opacity": 0.2,
         "showlegend": false,
         "type": "scatter",
         "x": [
          5,
          6
         ],
         "y": [
          4,
          4
         ]
        },
        {
         "line": {
          "color": "rgb(162.27272727272725, 45.45454545454545, 92.72727272727273)"
         },
         "mode": "lines",
         "name": "4",
         "opacity": 0.2,
         "showlegend": false,
         "type": "scatter",
         "x": [
          6,
          7
         ],
         "y": [
          4,
          4
         ]
        },
        {
         "line": {
          "color": "rgb(162.27272727272725, 45.45454545454545, 92.72727272727273)"
         },
         "mode": "lines",
         "name": "4",
         "opacity": 0.2,
         "showlegend": false,
         "type": "scatter",
         "x": [
          7,
          8
         ],
         "y": [
          4,
          4
         ]
        },
        {
         "line": {
          "color": "rgb(162.27272727272725, 45.45454545454545, 92.72727272727273)"
         },
         "mode": "lines",
         "name": "4",
         "opacity": 0.2,
         "showlegend": false,
         "type": "scatter",
         "x": [
          8,
          9
         ],
         "y": [
          4,
          4
         ]
        },
        {
         "line": {
          "color": "rgb(162.27272727272725, 45.45454545454545, 92.72727272727273)"
         },
         "mode": "lines",
         "name": "4",
         "opacity": 0.2,
         "showlegend": false,
         "type": "scatter",
         "x": [
          9,
          10
         ],
         "y": [
          4,
          0
         ]
        },
        {
         "line": {
          "color": "rgb(162.27272727272725, 45.45454545454545, 92.72727272727273)"
         },
         "mode": "lines",
         "name": "4",
         "opacity": 0.2,
         "showlegend": false,
         "type": "scatter",
         "x": [
          9,
          10
         ],
         "y": [
          4,
          1
         ]
        },
        {
         "line": {
          "color": "rgb(162.27272727272725, 45.45454545454545, 92.72727272727273)"
         },
         "mode": "lines",
         "name": "4",
         "opacity": 0.2,
         "showlegend": false,
         "type": "scatter",
         "x": [
          9,
          10
         ],
         "y": [
          4,
          2
         ]
        },
        {
         "line": {
          "color": "rgb(162.27272727272725, 45.45454545454545, 92.72727272727273)"
         },
         "mode": "lines",
         "name": "4",
         "opacity": 0.2,
         "showlegend": false,
         "type": "scatter",
         "x": [
          9,
          10
         ],
         "y": [
          4,
          3
         ]
        },
        {
         "line": {
          "color": "rgb(162.27272727272725, 45.45454545454545, 92.72727272727273)"
         },
         "mode": "lines",
         "name": "4",
         "opacity": 0.2,
         "showlegend": false,
         "type": "scatter",
         "x": [
          10,
          11
         ],
         "y": [
          4,
          4
         ]
        },
        {
         "line": {
          "color": "rgb(162.27272727272725, 45.45454545454545, 92.72727272727273)"
         },
         "mode": "lines",
         "name": "4",
         "opacity": 0.2,
         "showlegend": false,
         "type": "scatter",
         "x": [
          11,
          12
         ],
         "y": [
          4,
          4
         ]
        },
        {
         "line": {
          "color": "rgb(162.27272727272725, 45.45454545454545, 92.72727272727273)"
         },
         "mode": "lines",
         "name": "4",
         "opacity": 0.2,
         "showlegend": false,
         "type": "scatter",
         "x": [
          12,
          13
         ],
         "y": [
          4,
          4
         ]
        },
        {
         "line": {
          "color": "rgb(162.27272727272725, 45.45454545454545, 92.72727272727273)"
         },
         "mode": "lines",
         "name": "4",
         "opacity": 0.2,
         "showlegend": false,
         "type": "scatter",
         "x": [
          14,
          15
         ],
         "y": [
          4,
          4
         ]
        },
        {
         "line": {
          "color": "rgb(162.27272727272725, 45.45454545454545, 92.72727272727273)"
         },
         "mode": "lines",
         "name": "4",
         "opacity": 0.2,
         "showlegend": false,
         "type": "scatter",
         "x": [
          15,
          16
         ],
         "y": [
          4,
          4
         ]
        },
        {
         "line": {
          "color": "rgb(162.27272727272725, 45.45454545454545, 92.72727272727273)"
         },
         "mode": "lines",
         "name": "4",
         "opacity": 0.2,
         "showlegend": false,
         "type": "scatter",
         "x": [
          16,
          17
         ],
         "y": [
          4,
          4
         ]
        },
        {
         "line": {
          "color": "rgb(162.27272727272725, 45.45454545454545, 92.72727272727273)"
         },
         "mode": "lines",
         "name": "4",
         "opacity": 0.2,
         "showlegend": false,
         "type": "scatter",
         "x": [
          17,
          18
         ],
         "y": [
          4,
          1
         ]
        },
        {
         "line": {
          "color": "rgb(162.27272727272725, 45.45454545454545, 92.72727272727273)"
         },
         "mode": "lines",
         "name": "4",
         "opacity": 0.2,
         "showlegend": false,
         "type": "scatter",
         "x": [
          17,
          18
         ],
         "y": [
          4,
          2
         ]
        },
        {
         "line": {
          "color": "rgb(162.27272727272725, 45.45454545454545, 92.72727272727273)"
         },
         "mode": "lines",
         "name": "4",
         "opacity": 0.2,
         "showlegend": false,
         "type": "scatter",
         "x": [
          17,
          18
         ],
         "y": [
          4,
          3
         ]
        },
        {
         "line": {
          "color": "rgb(162.27272727272725, 45.45454545454545, 92.72727272727273)"
         },
         "mode": "lines",
         "name": "4",
         "opacity": 0.2,
         "showlegend": false,
         "type": "scatter",
         "x": [
          17,
          18
         ],
         "y": [
          4,
          4
         ]
        },
        {
         "line": {
          "color": "rgb(162.27272727272725, 45.45454545454545, 92.72727272727273)"
         },
         "mode": "lines",
         "name": "4",
         "opacity": 0.2,
         "showlegend": false,
         "type": "scatter",
         "x": [
          17,
          18
         ],
         "y": [
          4,
          5
         ]
        },
        {
         "line": {
          "color": "rgb(162.27272727272725, 45.45454545454545, 92.72727272727273)"
         },
         "mode": "lines",
         "name": "4",
         "opacity": 0.2,
         "showlegend": false,
         "type": "scatter",
         "x": [
          17,
          18
         ],
         "y": [
          4,
          6
         ]
        },
        {
         "line": {
          "color": "rgb(162.27272727272725, 45.45454545454545, 92.72727272727273)"
         },
         "mode": "lines",
         "name": "4",
         "opacity": 0.2,
         "showlegend": false,
         "type": "scatter",
         "x": [
          17,
          18
         ],
         "y": [
          4,
          7
         ]
        },
        {
         "line": {
          "color": "rgb(162.27272727272725, 45.45454545454545, 92.72727272727273)"
         },
         "mode": "lines",
         "name": "4",
         "opacity": 0.2,
         "showlegend": false,
         "type": "scatter",
         "x": [
          17,
          18
         ],
         "y": [
          4,
          8
         ]
        },
        {
         "line": {
          "color": "rgb(162.27272727272725, 45.45454545454545, 92.72727272727273)"
         },
         "mode": "lines",
         "name": "4",
         "opacity": 0.2,
         "showlegend": false,
         "type": "scatter",
         "x": [
          18,
          19
         ],
         "y": [
          4,
          4
         ]
        },
        {
         "line": {
          "color": "rgb(162.27272727272725, 45.45454545454545, 92.72727272727273)"
         },
         "mode": "lines",
         "name": "4",
         "opacity": 0.2,
         "showlegend": false,
         "type": "scatter",
         "x": [
          19,
          20
         ],
         "y": [
          4,
          4
         ]
        },
        {
         "line": {
          "color": "rgb(162.27272727272725, 45.45454545454545, 92.72727272727273)"
         },
         "mode": "lines",
         "name": "4",
         "opacity": 0.2,
         "showlegend": false,
         "type": "scatter",
         "x": [
          20,
          21
         ],
         "y": [
          4,
          4
         ]
        },
        {
         "line": {
          "color": "rgb(162.27272727272725, 45.45454545454545, 92.72727272727273)"
         },
         "mode": "lines",
         "name": "4",
         "opacity": 0.2,
         "showlegend": false,
         "type": "scatter",
         "x": [
          21,
          22
         ],
         "y": [
          4,
          4
         ]
        },
        {
         "line": {
          "color": "rgb(139.09090909090907, 56.81818181818181, 115.90909090909092)"
         },
         "mode": "lines",
         "name": "5",
         "opacity": 0.2,
         "showlegend": false,
         "type": "scatter",
         "x": [
          1,
          2
         ],
         "y": [
          5,
          5
         ]
        },
        {
         "line": {
          "color": "rgb(139.09090909090907, 56.81818181818181, 115.90909090909092)"
         },
         "mode": "lines",
         "name": "5",
         "opacity": 0.2,
         "showlegend": false,
         "type": "scatter",
         "x": [
          2,
          3
         ],
         "y": [
          5,
          5
         ]
        },
        {
         "line": {
          "color": "rgb(139.09090909090907, 56.81818181818181, 115.90909090909092)"
         },
         "mode": "lines",
         "name": "5",
         "opacity": 0.2,
         "showlegend": false,
         "type": "scatter",
         "x": [
          3,
          4
         ],
         "y": [
          5,
          5
         ]
        },
        {
         "line": {
          "color": "rgb(139.09090909090907, 56.81818181818181, 115.90909090909092)"
         },
         "mode": "lines",
         "name": "5",
         "opacity": 0.2,
         "showlegend": false,
         "type": "scatter",
         "x": [
          4,
          5
         ],
         "y": [
          5,
          5
         ]
        },
        {
         "line": {
          "color": "rgb(139.09090909090907, 56.81818181818181, 115.90909090909092)"
         },
         "mode": "lines",
         "name": "5",
         "opacity": 0.2,
         "showlegend": false,
         "type": "scatter",
         "x": [
          5,
          6
         ],
         "y": [
          5,
          5
         ]
        },
        {
         "line": {
          "color": "rgb(139.09090909090907, 56.81818181818181, 115.90909090909092)"
         },
         "mode": "lines",
         "name": "5",
         "opacity": 0.2,
         "showlegend": false,
         "type": "scatter",
         "x": [
          6,
          7
         ],
         "y": [
          5,
          5
         ]
        },
        {
         "line": {
          "color": "rgb(139.09090909090907, 56.81818181818181, 115.90909090909092)"
         },
         "mode": "lines",
         "name": "5",
         "opacity": 0.2,
         "showlegend": false,
         "type": "scatter",
         "x": [
          7,
          8
         ],
         "y": [
          5,
          5
         ]
        },
        {
         "line": {
          "color": "rgb(139.09090909090907, 56.81818181818181, 115.90909090909092)"
         },
         "mode": "lines",
         "name": "5",
         "opacity": 0.2,
         "showlegend": false,
         "type": "scatter",
         "x": [
          8,
          9
         ],
         "y": [
          5,
          5
         ]
        },
        {
         "line": {
          "color": "rgb(139.09090909090907, 56.81818181818181, 115.90909090909092)"
         },
         "mode": "lines",
         "name": "5",
         "opacity": 0.2,
         "showlegend": false,
         "type": "scatter",
         "x": [
          9,
          10
         ],
         "y": [
          5,
          4
         ]
        },
        {
         "line": {
          "color": "rgb(139.09090909090907, 56.81818181818181, 115.90909090909092)"
         },
         "mode": "lines",
         "name": "5",
         "opacity": 0.2,
         "showlegend": false,
         "type": "scatter",
         "x": [
          9,
          10
         ],
         "y": [
          5,
          5
         ]
        },
        {
         "line": {
          "color": "rgb(139.09090909090907, 56.81818181818181, 115.90909090909092)"
         },
         "mode": "lines",
         "name": "5",
         "opacity": 0.2,
         "showlegend": false,
         "type": "scatter",
         "x": [
          9,
          10
         ],
         "y": [
          5,
          6
         ]
        },
        {
         "line": {
          "color": "rgb(139.09090909090907, 56.81818181818181, 115.90909090909092)"
         },
         "mode": "lines",
         "name": "5",
         "opacity": 0.2,
         "showlegend": false,
         "type": "scatter",
         "x": [
          9,
          10
         ],
         "y": [
          5,
          7
         ]
        },
        {
         "line": {
          "color": "rgb(139.09090909090907, 56.81818181818181, 115.90909090909092)"
         },
         "mode": "lines",
         "name": "5",
         "opacity": 0.2,
         "showlegend": false,
         "type": "scatter",
         "x": [
          9,
          10
         ],
         "y": [
          5,
          8
         ]
        },
        {
         "line": {
          "color": "rgb(139.09090909090907, 56.81818181818181, 115.90909090909092)"
         },
         "mode": "lines",
         "name": "5",
         "opacity": 0.2,
         "showlegend": false,
         "type": "scatter",
         "x": [
          10,
          11
         ],
         "y": [
          5,
          5
         ]
        },
        {
         "line": {
          "color": "rgb(139.09090909090907, 56.81818181818181, 115.90909090909092)"
         },
         "mode": "lines",
         "name": "5",
         "opacity": 0.2,
         "showlegend": false,
         "type": "scatter",
         "x": [
          11,
          12
         ],
         "y": [
          5,
          5
         ]
        },
        {
         "line": {
          "color": "rgb(139.09090909090907, 56.81818181818181, 115.90909090909092)"
         },
         "mode": "lines",
         "name": "5",
         "opacity": 0.2,
         "showlegend": false,
         "type": "scatter",
         "x": [
          12,
          13
         ],
         "y": [
          5,
          5
         ]
        },
        {
         "line": {
          "color": "rgb(139.09090909090907, 56.81818181818181, 115.90909090909092)"
         },
         "mode": "lines",
         "name": "5",
         "opacity": 0.2,
         "showlegend": false,
         "type": "scatter",
         "x": [
          14,
          15
         ],
         "y": [
          5,
          5
         ]
        },
        {
         "line": {
          "color": "rgb(139.09090909090907, 56.81818181818181, 115.90909090909092)"
         },
         "mode": "lines",
         "name": "5",
         "opacity": 0.2,
         "showlegend": false,
         "type": "scatter",
         "x": [
          15,
          16
         ],
         "y": [
          5,
          5
         ]
        },
        {
         "line": {
          "color": "rgb(139.09090909090907, 56.81818181818181, 115.90909090909092)"
         },
         "mode": "lines",
         "name": "5",
         "opacity": 0.2,
         "showlegend": false,
         "type": "scatter",
         "x": [
          16,
          17
         ],
         "y": [
          5,
          5
         ]
        },
        {
         "line": {
          "color": "rgb(139.09090909090907, 56.81818181818181, 115.90909090909092)"
         },
         "mode": "lines",
         "name": "5",
         "opacity": 0.2,
         "showlegend": false,
         "type": "scatter",
         "x": [
          18,
          19
         ],
         "y": [
          5,
          5
         ]
        },
        {
         "line": {
          "color": "rgb(139.09090909090907, 56.81818181818181, 115.90909090909092)"
         },
         "mode": "lines",
         "name": "5",
         "opacity": 0.2,
         "showlegend": false,
         "type": "scatter",
         "x": [
          19,
          20
         ],
         "y": [
          5,
          5
         ]
        },
        {
         "line": {
          "color": "rgb(139.09090909090907, 56.81818181818181, 115.90909090909092)"
         },
         "mode": "lines",
         "name": "5",
         "opacity": 0.2,
         "showlegend": false,
         "type": "scatter",
         "x": [
          20,
          21
         ],
         "y": [
          5,
          5
         ]
        },
        {
         "line": {
          "color": "rgb(139.09090909090907, 56.81818181818181, 115.90909090909092)"
         },
         "mode": "lines",
         "name": "5",
         "opacity": 0.2,
         "showlegend": false,
         "type": "scatter",
         "x": [
          21,
          22
         ],
         "y": [
          5,
          5
         ]
        },
        {
         "line": {
          "color": "rgb(115.9090909090909, 68.18181818181819, 139.0909090909091)"
         },
         "mode": "lines",
         "name": "6",
         "opacity": 0.2,
         "showlegend": false,
         "type": "scatter",
         "x": [
          1,
          2
         ],
         "y": [
          6,
          6
         ]
        },
        {
         "line": {
          "color": "rgb(115.9090909090909, 68.18181818181819, 139.0909090909091)"
         },
         "mode": "lines",
         "name": "6",
         "opacity": 0.2,
         "showlegend": false,
         "type": "scatter",
         "x": [
          2,
          3
         ],
         "y": [
          6,
          6
         ]
        },
        {
         "line": {
          "color": "rgb(115.9090909090909, 68.18181818181819, 139.0909090909091)"
         },
         "mode": "lines",
         "name": "6",
         "opacity": 0.2,
         "showlegend": false,
         "type": "scatter",
         "x": [
          3,
          4
         ],
         "y": [
          6,
          6
         ]
        },
        {
         "line": {
          "color": "rgb(115.9090909090909, 68.18181818181819, 139.0909090909091)"
         },
         "mode": "lines",
         "name": "6",
         "opacity": 0.2,
         "showlegend": false,
         "type": "scatter",
         "x": [
          4,
          5
         ],
         "y": [
          6,
          6
         ]
        },
        {
         "line": {
          "color": "rgb(115.9090909090909, 68.18181818181819, 139.0909090909091)"
         },
         "mode": "lines",
         "name": "6",
         "opacity": 0.2,
         "showlegend": false,
         "type": "scatter",
         "x": [
          5,
          6
         ],
         "y": [
          6,
          6
         ]
        },
        {
         "line": {
          "color": "rgb(115.9090909090909, 68.18181818181819, 139.0909090909091)"
         },
         "mode": "lines",
         "name": "6",
         "opacity": 0.2,
         "showlegend": false,
         "type": "scatter",
         "x": [
          6,
          7
         ],
         "y": [
          6,
          6
         ]
        },
        {
         "line": {
          "color": "rgb(115.9090909090909, 68.18181818181819, 139.0909090909091)"
         },
         "mode": "lines",
         "name": "6",
         "opacity": 0.2,
         "showlegend": false,
         "type": "scatter",
         "x": [
          7,
          8
         ],
         "y": [
          6,
          6
         ]
        },
        {
         "line": {
          "color": "rgb(115.9090909090909, 68.18181818181819, 139.0909090909091)"
         },
         "mode": "lines",
         "name": "6",
         "opacity": 0.2,
         "showlegend": false,
         "type": "scatter",
         "x": [
          8,
          9
         ],
         "y": [
          6,
          6
         ]
        },
        {
         "line": {
          "color": "rgb(115.9090909090909, 68.18181818181819, 139.0909090909091)"
         },
         "mode": "lines",
         "name": "6",
         "opacity": 0.2,
         "showlegend": false,
         "type": "scatter",
         "x": [
          10,
          11
         ],
         "y": [
          6,
          6
         ]
        },
        {
         "line": {
          "color": "rgb(115.9090909090909, 68.18181818181819, 139.0909090909091)"
         },
         "mode": "lines",
         "name": "6",
         "opacity": 0.2,
         "showlegend": false,
         "type": "scatter",
         "x": [
          11,
          12
         ],
         "y": [
          6,
          6
         ]
        },
        {
         "line": {
          "color": "rgb(115.9090909090909, 68.18181818181819, 139.0909090909091)"
         },
         "mode": "lines",
         "name": "6",
         "opacity": 0.2,
         "showlegend": false,
         "type": "scatter",
         "x": [
          12,
          13
         ],
         "y": [
          6,
          6
         ]
        },
        {
         "line": {
          "color": "rgb(115.9090909090909, 68.18181818181819, 139.0909090909091)"
         },
         "mode": "lines",
         "name": "6",
         "opacity": 0.2,
         "showlegend": false,
         "type": "scatter",
         "x": [
          14,
          15
         ],
         "y": [
          6,
          6
         ]
        },
        {
         "line": {
          "color": "rgb(115.9090909090909, 68.18181818181819, 139.0909090909091)"
         },
         "mode": "lines",
         "name": "6",
         "opacity": 0.2,
         "showlegend": false,
         "type": "scatter",
         "x": [
          15,
          16
         ],
         "y": [
          6,
          6
         ]
        },
        {
         "line": {
          "color": "rgb(115.9090909090909, 68.18181818181819, 139.0909090909091)"
         },
         "mode": "lines",
         "name": "6",
         "opacity": 0.2,
         "showlegend": false,
         "type": "scatter",
         "x": [
          16,
          17
         ],
         "y": [
          6,
          6
         ]
        },
        {
         "line": {
          "color": "rgb(115.9090909090909, 68.18181818181819, 139.0909090909091)"
         },
         "mode": "lines",
         "name": "6",
         "opacity": 0.2,
         "showlegend": false,
         "type": "scatter",
         "x": [
          18,
          19
         ],
         "y": [
          6,
          6
         ]
        },
        {
         "line": {
          "color": "rgb(115.9090909090909, 68.18181818181819, 139.0909090909091)"
         },
         "mode": "lines",
         "name": "6",
         "opacity": 0.2,
         "showlegend": false,
         "type": "scatter",
         "x": [
          19,
          20
         ],
         "y": [
          6,
          6
         ]
        },
        {
         "line": {
          "color": "rgb(115.9090909090909, 68.18181818181819, 139.0909090909091)"
         },
         "mode": "lines",
         "name": "6",
         "opacity": 0.2,
         "showlegend": false,
         "type": "scatter",
         "x": [
          20,
          21
         ],
         "y": [
          6,
          6
         ]
        },
        {
         "line": {
          "color": "rgb(115.9090909090909, 68.18181818181819, 139.0909090909091)"
         },
         "mode": "lines",
         "name": "6",
         "opacity": 0.2,
         "showlegend": false,
         "type": "scatter",
         "x": [
          21,
          22
         ],
         "y": [
          6,
          6
         ]
        },
        {
         "line": {
          "color": "rgb(92.72727272727272, 79.54545454545455, 162.27272727272728)"
         },
         "mode": "lines",
         "name": "7",
         "opacity": 0.2,
         "showlegend": false,
         "type": "scatter",
         "x": [
          1,
          2
         ],
         "y": [
          7,
          7
         ]
        },
        {
         "line": {
          "color": "rgb(92.72727272727272, 79.54545454545455, 162.27272727272728)"
         },
         "mode": "lines",
         "name": "7",
         "opacity": 0.2,
         "showlegend": false,
         "type": "scatter",
         "x": [
          2,
          3
         ],
         "y": [
          7,
          7
         ]
        },
        {
         "line": {
          "color": "rgb(92.72727272727272, 79.54545454545455, 162.27272727272728)"
         },
         "mode": "lines",
         "name": "7",
         "opacity": 0.2,
         "showlegend": false,
         "type": "scatter",
         "x": [
          3,
          4
         ],
         "y": [
          7,
          7
         ]
        },
        {
         "line": {
          "color": "rgb(92.72727272727272, 79.54545454545455, 162.27272727272728)"
         },
         "mode": "lines",
         "name": "7",
         "opacity": 0.2,
         "showlegend": false,
         "type": "scatter",
         "x": [
          4,
          5
         ],
         "y": [
          7,
          7
         ]
        },
        {
         "line": {
          "color": "rgb(92.72727272727272, 79.54545454545455, 162.27272727272728)"
         },
         "mode": "lines",
         "name": "7",
         "opacity": 0.2,
         "showlegend": false,
         "type": "scatter",
         "x": [
          5,
          6
         ],
         "y": [
          7,
          7
         ]
        },
        {
         "line": {
          "color": "rgb(92.72727272727272, 79.54545454545455, 162.27272727272728)"
         },
         "mode": "lines",
         "name": "7",
         "opacity": 0.2,
         "showlegend": false,
         "type": "scatter",
         "x": [
          6,
          7
         ],
         "y": [
          7,
          7
         ]
        },
        {
         "line": {
          "color": "rgb(92.72727272727272, 79.54545454545455, 162.27272727272728)"
         },
         "mode": "lines",
         "name": "7",
         "opacity": 0.2,
         "showlegend": false,
         "type": "scatter",
         "x": [
          7,
          8
         ],
         "y": [
          7,
          7
         ]
        },
        {
         "line": {
          "color": "rgb(92.72727272727272, 79.54545454545455, 162.27272727272728)"
         },
         "mode": "lines",
         "name": "7",
         "opacity": 0.2,
         "showlegend": false,
         "type": "scatter",
         "x": [
          8,
          9
         ],
         "y": [
          7,
          7
         ]
        },
        {
         "line": {
          "color": "rgb(92.72727272727272, 79.54545454545455, 162.27272727272728)"
         },
         "mode": "lines",
         "name": "7",
         "opacity": 0.2,
         "showlegend": false,
         "type": "scatter",
         "x": [
          10,
          11
         ],
         "y": [
          7,
          7
         ]
        },
        {
         "line": {
          "color": "rgb(92.72727272727272, 79.54545454545455, 162.27272727272728)"
         },
         "mode": "lines",
         "name": "7",
         "opacity": 0.2,
         "showlegend": false,
         "type": "scatter",
         "x": [
          11,
          12
         ],
         "y": [
          7,
          7
         ]
        },
        {
         "line": {
          "color": "rgb(92.72727272727272, 79.54545454545455, 162.27272727272728)"
         },
         "mode": "lines",
         "name": "7",
         "opacity": 0.2,
         "showlegend": false,
         "type": "scatter",
         "x": [
          12,
          13
         ],
         "y": [
          7,
          7
         ]
        },
        {
         "line": {
          "color": "rgb(92.72727272727272, 79.54545454545455, 162.27272727272728)"
         },
         "mode": "lines",
         "name": "7",
         "opacity": 0.2,
         "showlegend": false,
         "type": "scatter",
         "x": [
          14,
          15
         ],
         "y": [
          7,
          7
         ]
        },
        {
         "line": {
          "color": "rgb(92.72727272727272, 79.54545454545455, 162.27272727272728)"
         },
         "mode": "lines",
         "name": "7",
         "opacity": 0.2,
         "showlegend": false,
         "type": "scatter",
         "x": [
          15,
          16
         ],
         "y": [
          7,
          7
         ]
        },
        {
         "line": {
          "color": "rgb(92.72727272727272, 79.54545454545455, 162.27272727272728)"
         },
         "mode": "lines",
         "name": "7",
         "opacity": 0.2,
         "showlegend": false,
         "type": "scatter",
         "x": [
          16,
          17
         ],
         "y": [
          7,
          7
         ]
        },
        {
         "line": {
          "color": "rgb(92.72727272727272, 79.54545454545455, 162.27272727272728)"
         },
         "mode": "lines",
         "name": "7",
         "opacity": 0.2,
         "showlegend": false,
         "type": "scatter",
         "x": [
          17,
          18
         ],
         "y": [
          7,
          9
         ]
        },
        {
         "line": {
          "color": "rgb(92.72727272727272, 79.54545454545455, 162.27272727272728)"
         },
         "mode": "lines",
         "name": "7",
         "opacity": 0.2,
         "showlegend": false,
         "type": "scatter",
         "x": [
          18,
          19
         ],
         "y": [
          7,
          7
         ]
        },
        {
         "line": {
          "color": "rgb(92.72727272727272, 79.54545454545455, 162.27272727272728)"
         },
         "mode": "lines",
         "name": "7",
         "opacity": 0.2,
         "showlegend": false,
         "type": "scatter",
         "x": [
          19,
          20
         ],
         "y": [
          7,
          7
         ]
        },
        {
         "line": {
          "color": "rgb(92.72727272727272, 79.54545454545455, 162.27272727272728)"
         },
         "mode": "lines",
         "name": "7",
         "opacity": 0.2,
         "showlegend": false,
         "type": "scatter",
         "x": [
          20,
          21
         ],
         "y": [
          7,
          7
         ]
        },
        {
         "line": {
          "color": "rgb(92.72727272727272, 79.54545454545455, 162.27272727272728)"
         },
         "mode": "lines",
         "name": "7",
         "opacity": 0.2,
         "showlegend": false,
         "type": "scatter",
         "x": [
          21,
          22
         ],
         "y": [
          7,
          7
         ]
        },
        {
         "line": {
          "color": "rgb(92.72727272727272, 79.54545454545455, 162.27272727272728)"
         },
         "mode": "lines",
         "name": "7",
         "opacity": 0.2,
         "showlegend": false,
         "type": "scatter",
         "x": [
          22,
          23
         ],
         "y": [
          7,
          6
         ]
        },
        {
         "line": {
          "color": "rgb(92.72727272727272, 79.54545454545455, 162.27272727272728)"
         },
         "mode": "lines",
         "name": "7",
         "opacity": 0.2,
         "showlegend": false,
         "type": "scatter",
         "x": [
          22,
          23
         ],
         "y": [
          7,
          7
         ]
        },
        {
         "line": {
          "color": "rgb(92.72727272727272, 79.54545454545455, 162.27272727272728)"
         },
         "mode": "lines",
         "name": "7",
         "opacity": 0.2,
         "showlegend": false,
         "type": "scatter",
         "x": [
          22,
          23
         ],
         "y": [
          7,
          8
         ]
        },
        {
         "line": {
          "color": "rgb(69.54545454545453, 90.9090909090909, 185.45454545454547)"
         },
         "mode": "lines",
         "name": "8",
         "opacity": 0.2,
         "showlegend": false,
         "type": "scatter",
         "x": [
          1,
          2
         ],
         "y": [
          8,
          8
         ]
        },
        {
         "line": {
          "color": "rgb(69.54545454545453, 90.9090909090909, 185.45454545454547)"
         },
         "mode": "lines",
         "name": "8",
         "opacity": 0.2,
         "showlegend": false,
         "type": "scatter",
         "x": [
          2,
          3
         ],
         "y": [
          8,
          8
         ]
        },
        {
         "line": {
          "color": "rgb(69.54545454545453, 90.9090909090909, 185.45454545454547)"
         },
         "mode": "lines",
         "name": "8",
         "opacity": 0.2,
         "showlegend": false,
         "type": "scatter",
         "x": [
          3,
          4
         ],
         "y": [
          8,
          8
         ]
        },
        {
         "line": {
          "color": "rgb(69.54545454545453, 90.9090909090909, 185.45454545454547)"
         },
         "mode": "lines",
         "name": "8",
         "opacity": 0.2,
         "showlegend": false,
         "type": "scatter",
         "x": [
          4,
          5
         ],
         "y": [
          8,
          8
         ]
        },
        {
         "line": {
          "color": "rgb(69.54545454545453, 90.9090909090909, 185.45454545454547)"
         },
         "mode": "lines",
         "name": "8",
         "opacity": 0.2,
         "showlegend": false,
         "type": "scatter",
         "x": [
          5,
          6
         ],
         "y": [
          8,
          8
         ]
        },
        {
         "line": {
          "color": "rgb(69.54545454545453, 90.9090909090909, 185.45454545454547)"
         },
         "mode": "lines",
         "name": "8",
         "opacity": 0.2,
         "showlegend": false,
         "type": "scatter",
         "x": [
          6,
          7
         ],
         "y": [
          8,
          8
         ]
        },
        {
         "line": {
          "color": "rgb(69.54545454545453, 90.9090909090909, 185.45454545454547)"
         },
         "mode": "lines",
         "name": "8",
         "opacity": 0.2,
         "showlegend": false,
         "type": "scatter",
         "x": [
          7,
          8
         ],
         "y": [
          8,
          8
         ]
        },
        {
         "line": {
          "color": "rgb(69.54545454545453, 90.9090909090909, 185.45454545454547)"
         },
         "mode": "lines",
         "name": "8",
         "opacity": 0.2,
         "showlegend": false,
         "type": "scatter",
         "x": [
          8,
          9
         ],
         "y": [
          8,
          8
         ]
        },
        {
         "line": {
          "color": "rgb(69.54545454545453, 90.9090909090909, 185.45454545454547)"
         },
         "mode": "lines",
         "name": "8",
         "opacity": 0.2,
         "showlegend": false,
         "type": "scatter",
         "x": [
          9,
          10
         ],
         "y": [
          8,
          9
         ]
        },
        {
         "line": {
          "color": "rgb(69.54545454545453, 90.9090909090909, 185.45454545454547)"
         },
         "mode": "lines",
         "name": "8",
         "opacity": 0.2,
         "showlegend": false,
         "type": "scatter",
         "x": [
          10,
          11
         ],
         "y": [
          8,
          8
         ]
        },
        {
         "line": {
          "color": "rgb(69.54545454545453, 90.9090909090909, 185.45454545454547)"
         },
         "mode": "lines",
         "name": "8",
         "opacity": 0.2,
         "showlegend": false,
         "type": "scatter",
         "x": [
          11,
          12
         ],
         "y": [
          8,
          8
         ]
        },
        {
         "line": {
          "color": "rgb(69.54545454545453, 90.9090909090909, 185.45454545454547)"
         },
         "mode": "lines",
         "name": "8",
         "opacity": 0.2,
         "showlegend": false,
         "type": "scatter",
         "x": [
          12,
          13
         ],
         "y": [
          8,
          8
         ]
        },
        {
         "line": {
          "color": "rgb(69.54545454545453, 90.9090909090909, 185.45454545454547)"
         },
         "mode": "lines",
         "name": "8",
         "opacity": 0.2,
         "showlegend": false,
         "type": "scatter",
         "x": [
          14,
          15
         ],
         "y": [
          8,
          8
         ]
        },
        {
         "line": {
          "color": "rgb(69.54545454545453, 90.9090909090909, 185.45454545454547)"
         },
         "mode": "lines",
         "name": "8",
         "opacity": 0.2,
         "showlegend": false,
         "type": "scatter",
         "x": [
          15,
          16
         ],
         "y": [
          8,
          8
         ]
        },
        {
         "line": {
          "color": "rgb(69.54545454545453, 90.9090909090909, 185.45454545454547)"
         },
         "mode": "lines",
         "name": "8",
         "opacity": 0.2,
         "showlegend": false,
         "type": "scatter",
         "x": [
          16,
          17
         ],
         "y": [
          8,
          8
         ]
        },
        {
         "line": {
          "color": "rgb(69.54545454545453, 90.9090909090909, 185.45454545454547)"
         },
         "mode": "lines",
         "name": "8",
         "opacity": 0.2,
         "showlegend": false,
         "type": "scatter",
         "x": [
          18,
          19
         ],
         "y": [
          8,
          8
         ]
        },
        {
         "line": {
          "color": "rgb(69.54545454545453, 90.9090909090909, 185.45454545454547)"
         },
         "mode": "lines",
         "name": "8",
         "opacity": 0.2,
         "showlegend": false,
         "type": "scatter",
         "x": [
          19,
          20
         ],
         "y": [
          8,
          8
         ]
        },
        {
         "line": {
          "color": "rgb(69.54545454545453, 90.9090909090909, 185.45454545454547)"
         },
         "mode": "lines",
         "name": "8",
         "opacity": 0.2,
         "showlegend": false,
         "type": "scatter",
         "x": [
          20,
          21
         ],
         "y": [
          8,
          8
         ]
        },
        {
         "line": {
          "color": "rgb(69.54545454545453, 90.9090909090909, 185.45454545454547)"
         },
         "mode": "lines",
         "name": "8",
         "opacity": 0.2,
         "showlegend": false,
         "type": "scatter",
         "x": [
          21,
          22
         ],
         "y": [
          8,
          8
         ]
        },
        {
         "line": {
          "color": "rgb(69.54545454545453, 90.9090909090909, 185.45454545454547)"
         },
         "mode": "lines",
         "name": "8",
         "opacity": 0.2,
         "showlegend": false,
         "type": "scatter",
         "x": [
          22,
          23
         ],
         "y": [
          8,
          9
         ]
        },
        {
         "line": {
          "color": "rgb(69.54545454545453, 90.9090909090909, 185.45454545454547)"
         },
         "mode": "lines",
         "name": "8",
         "opacity": 0.2,
         "showlegend": false,
         "type": "scatter",
         "x": [
          22,
          23
         ],
         "y": [
          8,
          10
         ]
        },
        {
         "line": {
          "color": "rgb(69.54545454545453, 90.9090909090909, 185.45454545454547)"
         },
         "mode": "lines",
         "name": "8",
         "opacity": 0.2,
         "showlegend": false,
         "type": "scatter",
         "x": [
          22,
          23
         ],
         "y": [
          8,
          11
         ]
        },
        {
         "line": {
          "color": "rgb(46.363636363636346, 102.27272727272727, 208.63636363636365)"
         },
         "mode": "lines",
         "name": "9",
         "opacity": 0.2,
         "showlegend": false,
         "type": "scatter",
         "x": [
          1,
          2
         ],
         "y": [
          9,
          9
         ]
        },
        {
         "line": {
          "color": "rgb(46.363636363636346, 102.27272727272727, 208.63636363636365)"
         },
         "mode": "lines",
         "name": "9",
         "opacity": 0.2,
         "showlegend": false,
         "type": "scatter",
         "x": [
          2,
          3
         ],
         "y": [
          9,
          9
         ]
        },
        {
         "line": {
          "color": "rgb(46.363636363636346, 102.27272727272727, 208.63636363636365)"
         },
         "mode": "lines",
         "name": "9",
         "opacity": 0.2,
         "showlegend": false,
         "type": "scatter",
         "x": [
          3,
          4
         ],
         "y": [
          9,
          9
         ]
        },
        {
         "line": {
          "color": "rgb(46.363636363636346, 102.27272727272727, 208.63636363636365)"
         },
         "mode": "lines",
         "name": "9",
         "opacity": 0.2,
         "showlegend": false,
         "type": "scatter",
         "x": [
          4,
          5
         ],
         "y": [
          9,
          9
         ]
        },
        {
         "line": {
          "color": "rgb(46.363636363636346, 102.27272727272727, 208.63636363636365)"
         },
         "mode": "lines",
         "name": "9",
         "opacity": 0.2,
         "showlegend": false,
         "type": "scatter",
         "x": [
          5,
          6
         ],
         "y": [
          9,
          9
         ]
        },
        {
         "line": {
          "color": "rgb(46.363636363636346, 102.27272727272727, 208.63636363636365)"
         },
         "mode": "lines",
         "name": "9",
         "opacity": 0.2,
         "showlegend": false,
         "type": "scatter",
         "x": [
          6,
          7
         ],
         "y": [
          9,
          9
         ]
        },
        {
         "line": {
          "color": "rgb(46.363636363636346, 102.27272727272727, 208.63636363636365)"
         },
         "mode": "lines",
         "name": "9",
         "opacity": 0.2,
         "showlegend": false,
         "type": "scatter",
         "x": [
          7,
          8
         ],
         "y": [
          9,
          9
         ]
        },
        {
         "line": {
          "color": "rgb(46.363636363636346, 102.27272727272727, 208.63636363636365)"
         },
         "mode": "lines",
         "name": "9",
         "opacity": 0.2,
         "showlegend": false,
         "type": "scatter",
         "x": [
          8,
          9
         ],
         "y": [
          9,
          9
         ]
        },
        {
         "line": {
          "color": "rgb(46.363636363636346, 102.27272727272727, 208.63636363636365)"
         },
         "mode": "lines",
         "name": "9",
         "opacity": 0.2,
         "showlegend": false,
         "type": "scatter",
         "x": [
          9,
          10
         ],
         "y": [
          9,
          10
         ]
        },
        {
         "line": {
          "color": "rgb(46.363636363636346, 102.27272727272727, 208.63636363636365)"
         },
         "mode": "lines",
         "name": "9",
         "opacity": 0.2,
         "showlegend": false,
         "type": "scatter",
         "x": [
          10,
          11
         ],
         "y": [
          9,
          9
         ]
        },
        {
         "line": {
          "color": "rgb(46.363636363636346, 102.27272727272727, 208.63636363636365)"
         },
         "mode": "lines",
         "name": "9",
         "opacity": 0.2,
         "showlegend": false,
         "type": "scatter",
         "x": [
          11,
          12
         ],
         "y": [
          9,
          9
         ]
        },
        {
         "line": {
          "color": "rgb(46.363636363636346, 102.27272727272727, 208.63636363636365)"
         },
         "mode": "lines",
         "name": "9",
         "opacity": 0.2,
         "showlegend": false,
         "type": "scatter",
         "x": [
          12,
          13
         ],
         "y": [
          9,
          9
         ]
        },
        {
         "line": {
          "color": "rgb(46.363636363636346, 102.27272727272727, 208.63636363636365)"
         },
         "mode": "lines",
         "name": "9",
         "opacity": 0.2,
         "showlegend": false,
         "type": "scatter",
         "x": [
          14,
          15
         ],
         "y": [
          9,
          9
         ]
        },
        {
         "line": {
          "color": "rgb(46.363636363636346, 102.27272727272727, 208.63636363636365)"
         },
         "mode": "lines",
         "name": "9",
         "opacity": 0.2,
         "showlegend": false,
         "type": "scatter",
         "x": [
          15,
          16
         ],
         "y": [
          9,
          9
         ]
        },
        {
         "line": {
          "color": "rgb(46.363636363636346, 102.27272727272727, 208.63636363636365)"
         },
         "mode": "lines",
         "name": "9",
         "opacity": 0.2,
         "showlegend": false,
         "type": "scatter",
         "x": [
          16,
          17
         ],
         "y": [
          9,
          9
         ]
        },
        {
         "line": {
          "color": "rgb(46.363636363636346, 102.27272727272727, 208.63636363636365)"
         },
         "mode": "lines",
         "name": "9",
         "opacity": 0.2,
         "showlegend": false,
         "type": "scatter",
         "x": [
          17,
          18
         ],
         "y": [
          9,
          10
         ]
        },
        {
         "line": {
          "color": "rgb(46.363636363636346, 102.27272727272727, 208.63636363636365)"
         },
         "mode": "lines",
         "name": "9",
         "opacity": 0.2,
         "showlegend": false,
         "type": "scatter",
         "x": [
          18,
          19
         ],
         "y": [
          9,
          9
         ]
        },
        {
         "line": {
          "color": "rgb(46.363636363636346, 102.27272727272727, 208.63636363636365)"
         },
         "mode": "lines",
         "name": "9",
         "opacity": 0.2,
         "showlegend": false,
         "type": "scatter",
         "x": [
          19,
          20
         ],
         "y": [
          9,
          9
         ]
        },
        {
         "line": {
          "color": "rgb(46.363636363636346, 102.27272727272727, 208.63636363636365)"
         },
         "mode": "lines",
         "name": "9",
         "opacity": 0.2,
         "showlegend": false,
         "type": "scatter",
         "x": [
          20,
          21
         ],
         "y": [
          9,
          9
         ]
        },
        {
         "line": {
          "color": "rgb(46.363636363636346, 102.27272727272727, 208.63636363636365)"
         },
         "mode": "lines",
         "name": "9",
         "opacity": 0.2,
         "showlegend": false,
         "type": "scatter",
         "x": [
          21,
          22
         ],
         "y": [
          9,
          9
         ]
        },
        {
         "line": {
          "color": "rgb(23.18181818181816, 113.63636363636363, 231.81818181818184)"
         },
         "mode": "lines",
         "name": "10",
         "opacity": 0.2,
         "showlegend": false,
         "type": "scatter",
         "x": [
          1,
          2
         ],
         "y": [
          10,
          10
         ]
        },
        {
         "line": {
          "color": "rgb(23.18181818181816, 113.63636363636363, 231.81818181818184)"
         },
         "mode": "lines",
         "name": "10",
         "opacity": 0.2,
         "showlegend": false,
         "type": "scatter",
         "x": [
          2,
          3
         ],
         "y": [
          10,
          10
         ]
        },
        {
         "line": {
          "color": "rgb(23.18181818181816, 113.63636363636363, 231.81818181818184)"
         },
         "mode": "lines",
         "name": "10",
         "opacity": 0.2,
         "showlegend": false,
         "type": "scatter",
         "x": [
          3,
          4
         ],
         "y": [
          10,
          10
         ]
        },
        {
         "line": {
          "color": "rgb(23.18181818181816, 113.63636363636363, 231.81818181818184)"
         },
         "mode": "lines",
         "name": "10",
         "opacity": 0.2,
         "showlegend": false,
         "type": "scatter",
         "x": [
          4,
          5
         ],
         "y": [
          10,
          10
         ]
        },
        {
         "line": {
          "color": "rgb(23.18181818181816, 113.63636363636363, 231.81818181818184)"
         },
         "mode": "lines",
         "name": "10",
         "opacity": 0.2,
         "showlegend": false,
         "type": "scatter",
         "x": [
          5,
          6
         ],
         "y": [
          10,
          10
         ]
        },
        {
         "line": {
          "color": "rgb(23.18181818181816, 113.63636363636363, 231.81818181818184)"
         },
         "mode": "lines",
         "name": "10",
         "opacity": 0.2,
         "showlegend": false,
         "type": "scatter",
         "x": [
          6,
          7
         ],
         "y": [
          10,
          10
         ]
        },
        {
         "line": {
          "color": "rgb(23.18181818181816, 113.63636363636363, 231.81818181818184)"
         },
         "mode": "lines",
         "name": "10",
         "opacity": 0.2,
         "showlegend": false,
         "type": "scatter",
         "x": [
          7,
          8
         ],
         "y": [
          10,
          10
         ]
        },
        {
         "line": {
          "color": "rgb(23.18181818181816, 113.63636363636363, 231.81818181818184)"
         },
         "mode": "lines",
         "name": "10",
         "opacity": 0.2,
         "showlegend": false,
         "type": "scatter",
         "x": [
          8,
          9
         ],
         "y": [
          10,
          10
         ]
        },
        {
         "line": {
          "color": "rgb(23.18181818181816, 113.63636363636363, 231.81818181818184)"
         },
         "mode": "lines",
         "name": "10",
         "opacity": 0.2,
         "showlegend": false,
         "type": "scatter",
         "x": [
          9,
          10
         ],
         "y": [
          10,
          11
         ]
        },
        {
         "line": {
          "color": "rgb(23.18181818181816, 113.63636363636363, 231.81818181818184)"
         },
         "mode": "lines",
         "name": "10",
         "opacity": 0.2,
         "showlegend": false,
         "type": "scatter",
         "x": [
          10,
          11
         ],
         "y": [
          10,
          10
         ]
        },
        {
         "line": {
          "color": "rgb(23.18181818181816, 113.63636363636363, 231.81818181818184)"
         },
         "mode": "lines",
         "name": "10",
         "opacity": 0.2,
         "showlegend": false,
         "type": "scatter",
         "x": [
          11,
          12
         ],
         "y": [
          10,
          10
         ]
        },
        {
         "line": {
          "color": "rgb(23.18181818181816, 113.63636363636363, 231.81818181818184)"
         },
         "mode": "lines",
         "name": "10",
         "opacity": 0.2,
         "showlegend": false,
         "type": "scatter",
         "x": [
          12,
          13
         ],
         "y": [
          10,
          10
         ]
        },
        {
         "line": {
          "color": "rgb(23.18181818181816, 113.63636363636363, 231.81818181818184)"
         },
         "mode": "lines",
         "name": "10",
         "opacity": 0.2,
         "showlegend": false,
         "type": "scatter",
         "x": [
          13,
          14
         ],
         "y": [
          10,
          3
         ]
        },
        {
         "line": {
          "color": "rgb(23.18181818181816, 113.63636363636363, 231.81818181818184)"
         },
         "mode": "lines",
         "name": "10",
         "opacity": 0.2,
         "showlegend": false,
         "type": "scatter",
         "x": [
          13,
          14
         ],
         "y": [
          10,
          4
         ]
        },
        {
         "line": {
          "color": "rgb(23.18181818181816, 113.63636363636363, 231.81818181818184)"
         },
         "mode": "lines",
         "name": "10",
         "opacity": 0.2,
         "showlegend": false,
         "type": "scatter",
         "x": [
          13,
          14
         ],
         "y": [
          10,
          5
         ]
        },
        {
         "line": {
          "color": "rgb(23.18181818181816, 113.63636363636363, 231.81818181818184)"
         },
         "mode": "lines",
         "name": "10",
         "opacity": 0.2,
         "showlegend": false,
         "type": "scatter",
         "x": [
          13,
          14
         ],
         "y": [
          10,
          6
         ]
        },
        {
         "line": {
          "color": "rgb(23.18181818181816, 113.63636363636363, 231.81818181818184)"
         },
         "mode": "lines",
         "name": "10",
         "opacity": 0.2,
         "showlegend": false,
         "type": "scatter",
         "x": [
          13,
          14
         ],
         "y": [
          10,
          7
         ]
        },
        {
         "line": {
          "color": "rgb(23.18181818181816, 113.63636363636363, 231.81818181818184)"
         },
         "mode": "lines",
         "name": "10",
         "opacity": 0.2,
         "showlegend": false,
         "type": "scatter",
         "x": [
          14,
          15
         ],
         "y": [
          10,
          10
         ]
        },
        {
         "line": {
          "color": "rgb(23.18181818181816, 113.63636363636363, 231.81818181818184)"
         },
         "mode": "lines",
         "name": "10",
         "opacity": 0.2,
         "showlegend": false,
         "type": "scatter",
         "x": [
          15,
          16
         ],
         "y": [
          10,
          10
         ]
        },
        {
         "line": {
          "color": "rgb(23.18181818181816, 113.63636363636363, 231.81818181818184)"
         },
         "mode": "lines",
         "name": "10",
         "opacity": 0.2,
         "showlegend": false,
         "type": "scatter",
         "x": [
          16,
          17
         ],
         "y": [
          10,
          10
         ]
        },
        {
         "line": {
          "color": "rgb(23.18181818181816, 113.63636363636363, 231.81818181818184)"
         },
         "mode": "lines",
         "name": "10",
         "opacity": 0.2,
         "showlegend": false,
         "type": "scatter",
         "x": [
          17,
          18
         ],
         "y": [
          10,
          11
         ]
        },
        {
         "line": {
          "color": "rgb(23.18181818181816, 113.63636363636363, 231.81818181818184)"
         },
         "mode": "lines",
         "name": "10",
         "opacity": 0.2,
         "showlegend": false,
         "type": "scatter",
         "x": [
          18,
          19
         ],
         "y": [
          10,
          10
         ]
        },
        {
         "line": {
          "color": "rgb(23.18181818181816, 113.63636363636363, 231.81818181818184)"
         },
         "mode": "lines",
         "name": "10",
         "opacity": 0.2,
         "showlegend": false,
         "type": "scatter",
         "x": [
          19,
          20
         ],
         "y": [
          10,
          10
         ]
        },
        {
         "line": {
          "color": "rgb(23.18181818181816, 113.63636363636363, 231.81818181818184)"
         },
         "mode": "lines",
         "name": "10",
         "opacity": 0.2,
         "showlegend": false,
         "type": "scatter",
         "x": [
          20,
          21
         ],
         "y": [
          10,
          10
         ]
        },
        {
         "line": {
          "color": "rgb(23.18181818181816, 113.63636363636363, 231.81818181818184)"
         },
         "mode": "lines",
         "name": "10",
         "opacity": 0.2,
         "showlegend": false,
         "type": "scatter",
         "x": [
          21,
          22
         ],
         "y": [
          10,
          10
         ]
        },
        {
         "line": {
          "color": "rgb(0.0, 125.0, 255.0)"
         },
         "mode": "lines",
         "name": "11",
         "opacity": 0.2,
         "showlegend": false,
         "type": "scatter",
         "x": [
          1,
          2
         ],
         "y": [
          11,
          11
         ]
        },
        {
         "line": {
          "color": "rgb(0.0, 125.0, 255.0)"
         },
         "mode": "lines",
         "name": "11",
         "opacity": 0.2,
         "showlegend": false,
         "type": "scatter",
         "x": [
          2,
          3
         ],
         "y": [
          11,
          11
         ]
        },
        {
         "line": {
          "color": "rgb(0.0, 125.0, 255.0)"
         },
         "mode": "lines",
         "name": "11",
         "opacity": 0.2,
         "showlegend": false,
         "type": "scatter",
         "x": [
          3,
          4
         ],
         "y": [
          11,
          11
         ]
        },
        {
         "line": {
          "color": "rgb(0.0, 125.0, 255.0)"
         },
         "mode": "lines",
         "name": "11",
         "opacity": 0.2,
         "showlegend": false,
         "type": "scatter",
         "x": [
          4,
          5
         ],
         "y": [
          11,
          11
         ]
        },
        {
         "line": {
          "color": "rgb(0.0, 125.0, 255.0)"
         },
         "mode": "lines",
         "name": "11",
         "opacity": 0.2,
         "showlegend": false,
         "type": "scatter",
         "x": [
          5,
          6
         ],
         "y": [
          11,
          11
         ]
        },
        {
         "line": {
          "color": "rgb(0.0, 125.0, 255.0)"
         },
         "mode": "lines",
         "name": "11",
         "opacity": 0.2,
         "showlegend": false,
         "type": "scatter",
         "x": [
          6,
          7
         ],
         "y": [
          11,
          11
         ]
        },
        {
         "line": {
          "color": "rgb(0.0, 125.0, 255.0)"
         },
         "mode": "lines",
         "name": "11",
         "opacity": 0.2,
         "showlegend": false,
         "type": "scatter",
         "x": [
          7,
          8
         ],
         "y": [
          11,
          11
         ]
        },
        {
         "line": {
          "color": "rgb(0.0, 125.0, 255.0)"
         },
         "mode": "lines",
         "name": "11",
         "opacity": 0.2,
         "showlegend": false,
         "type": "scatter",
         "x": [
          8,
          9
         ],
         "y": [
          11,
          11
         ]
        },
        {
         "line": {
          "color": "rgb(0.0, 125.0, 255.0)"
         },
         "mode": "lines",
         "name": "11",
         "opacity": 0.2,
         "showlegend": false,
         "type": "scatter",
         "x": [
          10,
          11
         ],
         "y": [
          11,
          11
         ]
        },
        {
         "line": {
          "color": "rgb(0.0, 125.0, 255.0)"
         },
         "mode": "lines",
         "name": "11",
         "opacity": 0.2,
         "showlegend": false,
         "type": "scatter",
         "x": [
          11,
          12
         ],
         "y": [
          11,
          11
         ]
        },
        {
         "line": {
          "color": "rgb(0.0, 125.0, 255.0)"
         },
         "mode": "lines",
         "name": "11",
         "opacity": 0.2,
         "showlegend": false,
         "type": "scatter",
         "x": [
          12,
          13
         ],
         "y": [
          11,
          11
         ]
        },
        {
         "line": {
          "color": "rgb(0.0, 125.0, 255.0)"
         },
         "mode": "lines",
         "name": "11",
         "opacity": 0.2,
         "showlegend": false,
         "type": "scatter",
         "x": [
          13,
          14
         ],
         "y": [
          11,
          8
         ]
        },
        {
         "line": {
          "color": "rgb(0.0, 125.0, 255.0)"
         },
         "mode": "lines",
         "name": "11",
         "opacity": 0.2,
         "showlegend": false,
         "type": "scatter",
         "x": [
          13,
          14
         ],
         "y": [
          11,
          9
         ]
        },
        {
         "line": {
          "color": "rgb(0.0, 125.0, 255.0)"
         },
         "mode": "lines",
         "name": "11",
         "opacity": 0.2,
         "showlegend": false,
         "type": "scatter",
         "x": [
          13,
          14
         ],
         "y": [
          11,
          10
         ]
        },
        {
         "line": {
          "color": "rgb(0.0, 125.0, 255.0)"
         },
         "mode": "lines",
         "name": "11",
         "opacity": 0.2,
         "showlegend": false,
         "type": "scatter",
         "x": [
          13,
          14
         ],
         "y": [
          11,
          11
         ]
        },
        {
         "line": {
          "color": "rgb(0.0, 125.0, 255.0)"
         },
         "mode": "lines",
         "name": "11",
         "opacity": 0.2,
         "showlegend": false,
         "type": "scatter",
         "x": [
          14,
          15
         ],
         "y": [
          11,
          11
         ]
        },
        {
         "line": {
          "color": "rgb(0.0, 125.0, 255.0)"
         },
         "mode": "lines",
         "name": "11",
         "opacity": 0.2,
         "showlegend": false,
         "type": "scatter",
         "x": [
          15,
          16
         ],
         "y": [
          11,
          11
         ]
        },
        {
         "line": {
          "color": "rgb(0.0, 125.0, 255.0)"
         },
         "mode": "lines",
         "name": "11",
         "opacity": 0.2,
         "showlegend": false,
         "type": "scatter",
         "x": [
          16,
          17
         ],
         "y": [
          11,
          11
         ]
        },
        {
         "line": {
          "color": "rgb(0.0, 125.0, 255.0)"
         },
         "mode": "lines",
         "name": "11",
         "opacity": 0.2,
         "showlegend": false,
         "type": "scatter",
         "x": [
          18,
          19
         ],
         "y": [
          11,
          11
         ]
        },
        {
         "line": {
          "color": "rgb(0.0, 125.0, 255.0)"
         },
         "mode": "lines",
         "name": "11",
         "opacity": 0.2,
         "showlegend": false,
         "type": "scatter",
         "x": [
          19,
          20
         ],
         "y": [
          11,
          11
         ]
        },
        {
         "line": {
          "color": "rgb(0.0, 125.0, 255.0)"
         },
         "mode": "lines",
         "name": "11",
         "opacity": 0.2,
         "showlegend": false,
         "type": "scatter",
         "x": [
          20,
          21
         ],
         "y": [
          11,
          11
         ]
        },
        {
         "line": {
          "color": "rgb(0.0, 125.0, 255.0)"
         },
         "mode": "lines",
         "name": "11",
         "opacity": 0.2,
         "showlegend": false,
         "type": "scatter",
         "x": [
          21,
          22
         ],
         "y": [
          11,
          11
         ]
        },
        {
         "hoverinfo": "text",
         "hovertext": [
          null,
          null,
          null,
          null,
          null,
          null,
          null,
          null,
          null,
          null,
          null,
          null,
          -0.7459651378477687,
          -0.7459651378477687,
          -0.7459651378477687,
          -0.7459651378477687,
          -0.7459651378477687,
          -0.7459651378477687,
          -0.7459651378477687,
          -0.7459651378477687,
          -0.7459651378477687,
          -0.7459651378477687,
          -0.7459651378477687,
          -0.7459651378477687,
          -0.17977492092171832,
          -0.17977492092171832,
          -0.17977492092171832,
          -0.17977492092171832,
          -0.17977492092171832,
          -0.17977492092171832,
          -0.17977492092171832,
          -0.17977492092171832,
          -0.17977492092171832,
          -0.17977492092171832,
          -0.17977492092171832,
          -0.17977492092171832,
          -0.30033108994011526,
          -0.30033108994011526,
          -0.30033108994011526,
          -0.30033108994011526,
          -0.30033108994011526,
          -0.30033108994011526,
          -0.30033108994011526,
          -0.30033108994011526,
          -0.30033108994011526,
          -0.30033108994011526,
          -0.30033108994011526,
          -0.30033108994011526,
          -0.14661830753222982,
          -0.14661830753222982,
          -0.14661830753222982,
          -0.14661830753222982,
          -0.14661830753222982,
          -0.14661830753222982,
          -0.14661830753222982,
          -0.14661830753222982,
          -0.14661830753222982,
          -0.14661830753222982,
          -0.14661830753222982,
          -0.14661830753222982,
          -0.13931666511104535,
          -0.13931666511104535,
          -0.13931666511104535,
          -0.13931666511104535,
          -0.13931666511104535,
          -0.13931666511104535,
          -0.13931666511104535,
          -0.13931666511104535,
          -0.13931666511104535,
          -0.13931666511104535,
          -0.13931666511104535,
          -0.13931666511104535,
          -0.1491766223152442,
          -0.1491766223152442,
          -0.1491766223152442,
          -0.1491766223152442,
          -0.1491766223152442,
          -0.1491766223152442,
          -0.1491766223152442,
          -0.1491766223152442,
          -0.1491766223152442,
          -0.1491766223152442,
          -0.1491766223152442,
          -0.1491766223152442,
          -0.12983349902301522,
          -0.12983349902301522,
          -0.12983349902301522,
          -0.12983349902301522,
          -0.12983349902301522,
          -0.12983349902301522,
          -0.12983349902301522,
          -0.12983349902301522,
          -0.12983349902301522,
          -0.12983349902301522,
          -0.12983349902301522,
          -0.12983349902301522,
          -0.3621537670034094,
          -0.3621537670034094,
          -0.3621537670034094,
          -0.3621537670034094,
          -0.3621537670034094,
          -0.3621537670034094,
          -0.3621537670034094,
          -0.3621537670034094,
          -0.3621537670034094,
          -0.3621537670034094,
          -0.3621537670034094,
          -0.3621537670034094,
          -0.07973616318139687,
          -0.07973616318139687,
          -0.07973616318139687,
          -0.07973616318139687,
          -0.07973616318139687,
          -0.07973616318139687,
          -0.07973616318139687,
          -0.07973616318139687,
          -0.07973616318139687,
          -0.07973616318139687,
          -0.07973616318139687,
          -0.07973616318139687,
          -0.1485050852083769,
          -0.1485050852083769,
          -0.1485050852083769,
          -0.1485050852083769,
          -0.1485050852083769,
          -0.1485050852083769,
          -0.1485050852083769,
          -0.1485050852083769,
          -0.1485050852083769,
          -0.1485050852083769,
          -0.1485050852083769,
          -0.1485050852083769,
          -0.7278772895470058,
          -0.7278772895470058,
          -0.7278772895470058,
          -0.7278772895470058,
          -0.7278772895470058,
          -0.7278772895470058,
          -0.7278772895470058,
          -0.7278772895470058,
          -0.7278772895470058,
          -0.7278772895470058,
          -0.7278772895470058,
          -0.7278772895470058,
          -0.6502044481435787,
          -0.6502044481435787,
          -0.6502044481435787,
          -0.6502044481435787,
          -0.6502044481435787,
          -0.6502044481435787,
          -0.6502044481435787,
          -0.6502044481435787,
          -0.6502044481435787,
          -0.6502044481435787,
          -0.6502044481435787,
          -0.6502044481435787,
          -1.1419350295247597,
          -1.1419350295247597,
          -1.1419350295247597,
          -1.1419350295247597,
          -1.1419350295247597,
          -1.1419350295247597,
          -1.1419350295247597,
          -1.1419350295247597,
          -1.1419350295247597,
          -1.1419350295247597,
          -1.1419350295247597,
          -1.1419350295247597,
          -0.4511367950570193,
          -0.4511367950570193,
          -0.4511367950570193,
          -0.4511367950570193,
          -0.4511367950570193,
          -0.4511367950570193,
          -0.4511367950570193,
          -0.4511367950570193,
          -0.4511367950570193,
          -0.4511367950570193,
          -0.4511367950570193,
          -0.4511367950570193,
          -0.04343356496562478,
          -0.04343356496562478,
          -0.04343356496562478,
          -0.04343356496562478,
          -0.04343356496562478,
          -0.04343356496562478,
          -0.04343356496562478,
          -0.04343356496562478,
          -0.04343356496562478,
          -0.04343356496562478,
          -0.04343356496562478,
          -0.04343356496562478,
          -3.2097458724125882,
          -3.2097458724125882,
          -3.2097458724125882,
          -3.2097458724125882,
          -3.2097458724125882,
          -3.2097458724125882,
          -3.2097458724125882,
          -3.2097458724125882,
          -3.2097458724125882,
          -3.2097458724125882,
          -3.2097458724125882,
          -3.2097458724125882,
          -7.396600692639195,
          -7.396600692639195,
          -7.396600692639195,
          -7.396600692639195,
          -7.396600692639195,
          -7.396600692639195,
          -7.396600692639195,
          -7.396600692639195,
          -7.396600692639195,
          -7.396600692639195,
          -7.396600692639195,
          -7.396600692639195,
          -0.00450257215710792,
          -0.00450257215710792,
          -0.00450257215710792,
          -0.00450257215710792,
          -0.00450257215710792,
          -0.00450257215710792,
          -0.00450257215710792,
          -0.00450257215710792,
          -0.00450257215710792,
          -0.00450257215710792,
          -0.00450257215710792,
          -0.00450257215710792,
          -0.015085496597681214,
          -0.015085496597681214,
          -0.015085496597681214,
          -0.015085496597681214,
          -0.015085496597681214,
          -0.015085496597681214,
          -0.015085496597681214,
          -0.015085496597681214,
          -0.015085496597681214,
          -0.015085496597681214,
          -0.015085496597681214,
          -0.015085496597681214,
          -1.8202357613351552,
          -1.8202357613351552,
          -1.8202357613351552,
          -1.8202357613351552,
          -1.8202357613351552,
          -1.8202357613351552,
          -1.8202357613351552,
          -1.8202357613351552,
          -1.8202357613351552,
          -1.8202357613351552,
          -1.8202357613351552,
          -1.8202357613351552,
          -0.06550608028048188,
          -0.06550608028048188,
          -0.06550608028048188,
          -0.06550608028048188,
          -0.06550608028048188,
          -0.06550608028048188,
          -0.06550608028048188,
          -0.06550608028048188,
          -0.06550608028048188,
          -0.06550608028048188,
          -0.06550608028048188,
          -0.06550608028048188
         ],
         "line": {
          "color": "green"
         },
         "mode": "lines+markers",
         "type": "scatter",
         "x": [
          1,
          1,
          1,
          1,
          1,
          1,
          1,
          1,
          1,
          1,
          1,
          1,
          2,
          2,
          2,
          2,
          2,
          2,
          2,
          2,
          2,
          2,
          2,
          2,
          3,
          3,
          3,
          3,
          3,
          3,
          3,
          3,
          3,
          3,
          3,
          3,
          4,
          4,
          4,
          4,
          4,
          4,
          4,
          4,
          4,
          4,
          4,
          4,
          5,
          5,
          5,
          5,
          5,
          5,
          5,
          5,
          5,
          5,
          5,
          5,
          6,
          6,
          6,
          6,
          6,
          6,
          6,
          6,
          6,
          6,
          6,
          6,
          7,
          7,
          7,
          7,
          7,
          7,
          7,
          7,
          7,
          7,
          7,
          7,
          8,
          8,
          8,
          8,
          8,
          8,
          8,
          8,
          8,
          8,
          8,
          8,
          9,
          9,
          9,
          9,
          9,
          9,
          9,
          9,
          9,
          9,
          9,
          9,
          10,
          10,
          10,
          10,
          10,
          10,
          10,
          10,
          10,
          10,
          10,
          10,
          11,
          11,
          11,
          11,
          11,
          11,
          11,
          11,
          11,
          11,
          11,
          11,
          12,
          12,
          12,
          12,
          12,
          12,
          12,
          12,
          12,
          12,
          12,
          12,
          13,
          13,
          13,
          13,
          13,
          13,
          13,
          13,
          13,
          13,
          13,
          13,
          14,
          14,
          14,
          14,
          14,
          14,
          14,
          14,
          14,
          14,
          14,
          14,
          15,
          15,
          15,
          15,
          15,
          15,
          15,
          15,
          15,
          15,
          15,
          15,
          16,
          16,
          16,
          16,
          16,
          16,
          16,
          16,
          16,
          16,
          16,
          16,
          17,
          17,
          17,
          17,
          17,
          17,
          17,
          17,
          17,
          17,
          17,
          17,
          18,
          18,
          18,
          18,
          18,
          18,
          18,
          18,
          18,
          18,
          18,
          18,
          19,
          19,
          19,
          19,
          19,
          19,
          19,
          19,
          19,
          19,
          19,
          19,
          20,
          20,
          20,
          20,
          20,
          20,
          20,
          20,
          20,
          20,
          20,
          20,
          21,
          21,
          21,
          21,
          21,
          21,
          21,
          21,
          21,
          21,
          21,
          21,
          22,
          22,
          22,
          22,
          22,
          22,
          22,
          22,
          22,
          22,
          22,
          22
         ],
         "xaxis": "x2",
         "y": [
          null,
          null,
          null,
          null,
          null,
          null,
          null,
          null,
          null,
          null,
          null,
          null,
          -0.7459651378477687,
          -0.7459651378477687,
          -0.7459651378477687,
          -0.7459651378477687,
          -0.7459651378477687,
          -0.7459651378477687,
          -0.7459651378477687,
          -0.7459651378477687,
          -0.7459651378477687,
          -0.7459651378477687,
          -0.7459651378477687,
          -0.7459651378477687,
          -0.17977492092171832,
          -0.17977492092171832,
          -0.17977492092171832,
          -0.17977492092171832,
          -0.17977492092171832,
          -0.17977492092171832,
          -0.17977492092171832,
          -0.17977492092171832,
          -0.17977492092171832,
          -0.17977492092171832,
          -0.17977492092171832,
          -0.17977492092171832,
          -0.30033108994011526,
          -0.30033108994011526,
          -0.30033108994011526,
          -0.30033108994011526,
          -0.30033108994011526,
          -0.30033108994011526,
          -0.30033108994011526,
          -0.30033108994011526,
          -0.30033108994011526,
          -0.30033108994011526,
          -0.30033108994011526,
          -0.30033108994011526,
          -0.14661830753222982,
          -0.14661830753222982,
          -0.14661830753222982,
          -0.14661830753222982,
          -0.14661830753222982,
          -0.14661830753222982,
          -0.14661830753222982,
          -0.14661830753222982,
          -0.14661830753222982,
          -0.14661830753222982,
          -0.14661830753222982,
          -0.14661830753222982,
          -0.13931666511104535,
          -0.13931666511104535,
          -0.13931666511104535,
          -0.13931666511104535,
          -0.13931666511104535,
          -0.13931666511104535,
          -0.13931666511104535,
          -0.13931666511104535,
          -0.13931666511104535,
          -0.13931666511104535,
          -0.13931666511104535,
          -0.13931666511104535,
          -0.1491766223152442,
          -0.1491766223152442,
          -0.1491766223152442,
          -0.1491766223152442,
          -0.1491766223152442,
          -0.1491766223152442,
          -0.1491766223152442,
          -0.1491766223152442,
          -0.1491766223152442,
          -0.1491766223152442,
          -0.1491766223152442,
          -0.1491766223152442,
          -0.12983349902301522,
          -0.12983349902301522,
          -0.12983349902301522,
          -0.12983349902301522,
          -0.12983349902301522,
          -0.12983349902301522,
          -0.12983349902301522,
          -0.12983349902301522,
          -0.12983349902301522,
          -0.12983349902301522,
          -0.12983349902301522,
          -0.12983349902301522,
          -0.3621537670034094,
          -0.3621537670034094,
          -0.3621537670034094,
          -0.3621537670034094,
          -0.3621537670034094,
          -0.3621537670034094,
          -0.3621537670034094,
          -0.3621537670034094,
          -0.3621537670034094,
          -0.3621537670034094,
          -0.3621537670034094,
          -0.3621537670034094,
          -0.07973616318139687,
          -0.07973616318139687,
          -0.07973616318139687,
          -0.07973616318139687,
          -0.07973616318139687,
          -0.07973616318139687,
          -0.07973616318139687,
          -0.07973616318139687,
          -0.07973616318139687,
          -0.07973616318139687,
          -0.07973616318139687,
          -0.07973616318139687,
          -0.1485050852083769,
          -0.1485050852083769,
          -0.1485050852083769,
          -0.1485050852083769,
          -0.1485050852083769,
          -0.1485050852083769,
          -0.1485050852083769,
          -0.1485050852083769,
          -0.1485050852083769,
          -0.1485050852083769,
          -0.1485050852083769,
          -0.1485050852083769,
          -0.7278772895470058,
          -0.7278772895470058,
          -0.7278772895470058,
          -0.7278772895470058,
          -0.7278772895470058,
          -0.7278772895470058,
          -0.7278772895470058,
          -0.7278772895470058,
          -0.7278772895470058,
          -0.7278772895470058,
          -0.7278772895470058,
          -0.7278772895470058,
          -0.6502044481435787,
          -0.6502044481435787,
          -0.6502044481435787,
          -0.6502044481435787,
          -0.6502044481435787,
          -0.6502044481435787,
          -0.6502044481435787,
          -0.6502044481435787,
          -0.6502044481435787,
          -0.6502044481435787,
          -0.6502044481435787,
          -0.6502044481435787,
          -1.1419350295247597,
          -1.1419350295247597,
          -1.1419350295247597,
          -1.1419350295247597,
          -1.1419350295247597,
          -1.1419350295247597,
          -1.1419350295247597,
          -1.1419350295247597,
          -1.1419350295247597,
          -1.1419350295247597,
          -1.1419350295247597,
          -1.1419350295247597,
          -0.4511367950570193,
          -0.4511367950570193,
          -0.4511367950570193,
          -0.4511367950570193,
          -0.4511367950570193,
          -0.4511367950570193,
          -0.4511367950570193,
          -0.4511367950570193,
          -0.4511367950570193,
          -0.4511367950570193,
          -0.4511367950570193,
          -0.4511367950570193,
          -0.04343356496562478,
          -0.04343356496562478,
          -0.04343356496562478,
          -0.04343356496562478,
          -0.04343356496562478,
          -0.04343356496562478,
          -0.04343356496562478,
          -0.04343356496562478,
          -0.04343356496562478,
          -0.04343356496562478,
          -0.04343356496562478,
          -0.04343356496562478,
          -3.2097458724125882,
          -3.2097458724125882,
          -3.2097458724125882,
          -3.2097458724125882,
          -3.2097458724125882,
          -3.2097458724125882,
          -3.2097458724125882,
          -3.2097458724125882,
          -3.2097458724125882,
          -3.2097458724125882,
          -3.2097458724125882,
          -3.2097458724125882,
          -7.396600692639195,
          -7.396600692639195,
          -7.396600692639195,
          -7.396600692639195,
          -7.396600692639195,
          -7.396600692639195,
          -7.396600692639195,
          -7.396600692639195,
          -7.396600692639195,
          -7.396600692639195,
          -7.396600692639195,
          -7.396600692639195,
          -0.00450257215710792,
          -0.00450257215710792,
          -0.00450257215710792,
          -0.00450257215710792,
          -0.00450257215710792,
          -0.00450257215710792,
          -0.00450257215710792,
          -0.00450257215710792,
          -0.00450257215710792,
          -0.00450257215710792,
          -0.00450257215710792,
          -0.00450257215710792,
          -0.015085496597681214,
          -0.015085496597681214,
          -0.015085496597681214,
          -0.015085496597681214,
          -0.015085496597681214,
          -0.015085496597681214,
          -0.015085496597681214,
          -0.015085496597681214,
          -0.015085496597681214,
          -0.015085496597681214,
          -0.015085496597681214,
          -0.015085496597681214,
          -1.8202357613351552,
          -1.8202357613351552,
          -1.8202357613351552,
          -1.8202357613351552,
          -1.8202357613351552,
          -1.8202357613351552,
          -1.8202357613351552,
          -1.8202357613351552,
          -1.8202357613351552,
          -1.8202357613351552,
          -1.8202357613351552,
          -1.8202357613351552,
          -0.06550608028048188,
          -0.06550608028048188,
          -0.06550608028048188,
          -0.06550608028048188,
          -0.06550608028048188,
          -0.06550608028048188,
          -0.06550608028048188,
          -0.06550608028048188,
          -0.06550608028048188,
          -0.06550608028048188,
          -0.06550608028048188,
          -0.06550608028048188
         ],
         "yaxis": "y2"
        }
       ],
       "layout": {
        "annotations": [
         {
          "font": {
           "size": 16
          },
          "showarrow": false,
          "text": "particles",
          "x": 0.5,
          "xanchor": "center",
          "xref": "paper",
          "y": 1,
          "yanchor": "bottom",
          "yref": "paper"
         },
         {
          "font": {
           "size": 16
          },
          "showarrow": false,
          "text": "est. logprob (change in average weight)",
          "x": 0.5,
          "xanchor": "center",
          "xref": "paper",
          "y": 0.18000000000000002,
          "yanchor": "bottom",
          "yref": "paper"
         }
        ],
        "height": 600,
        "margin": {
         "b": 10,
         "l": 10,
         "r": 10,
         "t": 40
        },
        "plot_bgcolor": "#fff",
        "shapes": [
         {
          "line": {
           "color": "gray",
           "width": 4
          },
          "opacity": 0.15,
          "type": "line",
          "x0": 9,
          "x1": 9,
          "xref": "x2",
          "y0": 0,
          "y1": 1,
          "yref": "y2 domain"
         },
         {
          "line": {
           "color": "gray",
           "width": 4
          },
          "opacity": 0.15,
          "type": "line",
          "x0": 13,
          "x1": 13,
          "xref": "x2",
          "y0": 0,
          "y1": 1,
          "yref": "y2 domain"
         },
         {
          "line": {
           "color": "gray",
           "width": 4
          },
          "opacity": 0.15,
          "type": "line",
          "x0": 17,
          "x1": 17,
          "xref": "x2",
          "y0": 0,
          "y1": 1,
          "yref": "y2 domain"
         },
         {
          "line": {
           "color": "gray",
           "width": 4
          },
          "opacity": 0.15,
          "type": "line",
          "x0": 22,
          "x1": 22,
          "xref": "x2",
          "y0": 0,
          "y1": 1,
          "yref": "y2 domain"
         }
        ],
        "showlegend": false,
        "template": {
         "data": {
          "bar": [
           {
            "error_x": {
             "color": "#2a3f5f"
            },
            "error_y": {
             "color": "#2a3f5f"
            },
            "marker": {
             "line": {
              "color": "#E5ECF6",
              "width": 0.5
             },
             "pattern": {
              "fillmode": "overlay",
              "size": 10,
              "solidity": 0.2
             }
            },
            "type": "bar"
           }
          ],
          "barpolar": [
           {
            "marker": {
             "line": {
              "color": "#E5ECF6",
              "width": 0.5
             },
             "pattern": {
              "fillmode": "overlay",
              "size": 10,
              "solidity": 0.2
             }
            },
            "type": "barpolar"
           }
          ],
          "carpet": [
           {
            "aaxis": {
             "endlinecolor": "#2a3f5f",
             "gridcolor": "white",
             "linecolor": "white",
             "minorgridcolor": "white",
             "startlinecolor": "#2a3f5f"
            },
            "baxis": {
             "endlinecolor": "#2a3f5f",
             "gridcolor": "white",
             "linecolor": "white",
             "minorgridcolor": "white",
             "startlinecolor": "#2a3f5f"
            },
            "type": "carpet"
           }
          ],
          "choropleth": [
           {
            "colorbar": {
             "outlinewidth": 0,
             "ticks": ""
            },
            "type": "choropleth"
           }
          ],
          "contour": [
           {
            "colorbar": {
             "outlinewidth": 0,
             "ticks": ""
            },
            "colorscale": [
             [
              0,
              "#0d0887"
             ],
             [
              0.1111111111111111,
              "#46039f"
             ],
             [
              0.2222222222222222,
              "#7201a8"
             ],
             [
              0.3333333333333333,
              "#9c179e"
             ],
             [
              0.4444444444444444,
              "#bd3786"
             ],
             [
              0.5555555555555556,
              "#d8576b"
             ],
             [
              0.6666666666666666,
              "#ed7953"
             ],
             [
              0.7777777777777778,
              "#fb9f3a"
             ],
             [
              0.8888888888888888,
              "#fdca26"
             ],
             [
              1,
              "#f0f921"
             ]
            ],
            "type": "contour"
           }
          ],
          "contourcarpet": [
           {
            "colorbar": {
             "outlinewidth": 0,
             "ticks": ""
            },
            "type": "contourcarpet"
           }
          ],
          "heatmap": [
           {
            "colorbar": {
             "outlinewidth": 0,
             "ticks": ""
            },
            "colorscale": [
             [
              0,
              "#0d0887"
             ],
             [
              0.1111111111111111,
              "#46039f"
             ],
             [
              0.2222222222222222,
              "#7201a8"
             ],
             [
              0.3333333333333333,
              "#9c179e"
             ],
             [
              0.4444444444444444,
              "#bd3786"
             ],
             [
              0.5555555555555556,
              "#d8576b"
             ],
             [
              0.6666666666666666,
              "#ed7953"
             ],
             [
              0.7777777777777778,
              "#fb9f3a"
             ],
             [
              0.8888888888888888,
              "#fdca26"
             ],
             [
              1,
              "#f0f921"
             ]
            ],
            "type": "heatmap"
           }
          ],
          "heatmapgl": [
           {
            "colorbar": {
             "outlinewidth": 0,
             "ticks": ""
            },
            "colorscale": [
             [
              0,
              "#0d0887"
             ],
             [
              0.1111111111111111,
              "#46039f"
             ],
             [
              0.2222222222222222,
              "#7201a8"
             ],
             [
              0.3333333333333333,
              "#9c179e"
             ],
             [
              0.4444444444444444,
              "#bd3786"
             ],
             [
              0.5555555555555556,
              "#d8576b"
             ],
             [
              0.6666666666666666,
              "#ed7953"
             ],
             [
              0.7777777777777778,
              "#fb9f3a"
             ],
             [
              0.8888888888888888,
              "#fdca26"
             ],
             [
              1,
              "#f0f921"
             ]
            ],
            "type": "heatmapgl"
           }
          ],
          "histogram": [
           {
            "marker": {
             "pattern": {
              "fillmode": "overlay",
              "size": 10,
              "solidity": 0.2
             }
            },
            "type": "histogram"
           }
          ],
          "histogram2d": [
           {
            "colorbar": {
             "outlinewidth": 0,
             "ticks": ""
            },
            "colorscale": [
             [
              0,
              "#0d0887"
             ],
             [
              0.1111111111111111,
              "#46039f"
             ],
             [
              0.2222222222222222,
              "#7201a8"
             ],
             [
              0.3333333333333333,
              "#9c179e"
             ],
             [
              0.4444444444444444,
              "#bd3786"
             ],
             [
              0.5555555555555556,
              "#d8576b"
             ],
             [
              0.6666666666666666,
              "#ed7953"
             ],
             [
              0.7777777777777778,
              "#fb9f3a"
             ],
             [
              0.8888888888888888,
              "#fdca26"
             ],
             [
              1,
              "#f0f921"
             ]
            ],
            "type": "histogram2d"
           }
          ],
          "histogram2dcontour": [
           {
            "colorbar": {
             "outlinewidth": 0,
             "ticks": ""
            },
            "colorscale": [
             [
              0,
              "#0d0887"
             ],
             [
              0.1111111111111111,
              "#46039f"
             ],
             [
              0.2222222222222222,
              "#7201a8"
             ],
             [
              0.3333333333333333,
              "#9c179e"
             ],
             [
              0.4444444444444444,
              "#bd3786"
             ],
             [
              0.5555555555555556,
              "#d8576b"
             ],
             [
              0.6666666666666666,
              "#ed7953"
             ],
             [
              0.7777777777777778,
              "#fb9f3a"
             ],
             [
              0.8888888888888888,
              "#fdca26"
             ],
             [
              1,
              "#f0f921"
             ]
            ],
            "type": "histogram2dcontour"
           }
          ],
          "mesh3d": [
           {
            "colorbar": {
             "outlinewidth": 0,
             "ticks": ""
            },
            "type": "mesh3d"
           }
          ],
          "parcoords": [
           {
            "line": {
             "colorbar": {
              "outlinewidth": 0,
              "ticks": ""
             }
            },
            "type": "parcoords"
           }
          ],
          "pie": [
           {
            "automargin": true,
            "type": "pie"
           }
          ],
          "scatter": [
           {
            "fillpattern": {
             "fillmode": "overlay",
             "size": 10,
             "solidity": 0.2
            },
            "type": "scatter"
           }
          ],
          "scatter3d": [
           {
            "line": {
             "colorbar": {
              "outlinewidth": 0,
              "ticks": ""
             }
            },
            "marker": {
             "colorbar": {
              "outlinewidth": 0,
              "ticks": ""
             }
            },
            "type": "scatter3d"
           }
          ],
          "scattercarpet": [
           {
            "marker": {
             "colorbar": {
              "outlinewidth": 0,
              "ticks": ""
             }
            },
            "type": "scattercarpet"
           }
          ],
          "scattergeo": [
           {
            "marker": {
             "colorbar": {
              "outlinewidth": 0,
              "ticks": ""
             }
            },
            "type": "scattergeo"
           }
          ],
          "scattergl": [
           {
            "marker": {
             "colorbar": {
              "outlinewidth": 0,
              "ticks": ""
             }
            },
            "type": "scattergl"
           }
          ],
          "scattermapbox": [
           {
            "marker": {
             "colorbar": {
              "outlinewidth": 0,
              "ticks": ""
             }
            },
            "type": "scattermapbox"
           }
          ],
          "scatterpolar": [
           {
            "marker": {
             "colorbar": {
              "outlinewidth": 0,
              "ticks": ""
             }
            },
            "type": "scatterpolar"
           }
          ],
          "scatterpolargl": [
           {
            "marker": {
             "colorbar": {
              "outlinewidth": 0,
              "ticks": ""
             }
            },
            "type": "scatterpolargl"
           }
          ],
          "scatterternary": [
           {
            "marker": {
             "colorbar": {
              "outlinewidth": 0,
              "ticks": ""
             }
            },
            "type": "scatterternary"
           }
          ],
          "surface": [
           {
            "colorbar": {
             "outlinewidth": 0,
             "ticks": ""
            },
            "colorscale": [
             [
              0,
              "#0d0887"
             ],
             [
              0.1111111111111111,
              "#46039f"
             ],
             [
              0.2222222222222222,
              "#7201a8"
             ],
             [
              0.3333333333333333,
              "#9c179e"
             ],
             [
              0.4444444444444444,
              "#bd3786"
             ],
             [
              0.5555555555555556,
              "#d8576b"
             ],
             [
              0.6666666666666666,
              "#ed7953"
             ],
             [
              0.7777777777777778,
              "#fb9f3a"
             ],
             [
              0.8888888888888888,
              "#fdca26"
             ],
             [
              1,
              "#f0f921"
             ]
            ],
            "type": "surface"
           }
          ],
          "table": [
           {
            "cells": {
             "fill": {
              "color": "#EBF0F8"
             },
             "line": {
              "color": "white"
             }
            },
            "header": {
             "fill": {
              "color": "#C8D4E3"
             },
             "line": {
              "color": "white"
             }
            },
            "type": "table"
           }
          ]
         },
         "layout": {
          "annotationdefaults": {
           "arrowcolor": "#2a3f5f",
           "arrowhead": 0,
           "arrowwidth": 1
          },
          "autotypenumbers": "strict",
          "coloraxis": {
           "colorbar": {
            "outlinewidth": 0,
            "ticks": ""
           }
          },
          "colorscale": {
           "diverging": [
            [
             0,
             "#8e0152"
            ],
            [
             0.1,
             "#c51b7d"
            ],
            [
             0.2,
             "#de77ae"
            ],
            [
             0.3,
             "#f1b6da"
            ],
            [
             0.4,
             "#fde0ef"
            ],
            [
             0.5,
             "#f7f7f7"
            ],
            [
             0.6,
             "#e6f5d0"
            ],
            [
             0.7,
             "#b8e186"
            ],
            [
             0.8,
             "#7fbc41"
            ],
            [
             0.9,
             "#4d9221"
            ],
            [
             1,
             "#276419"
            ]
           ],
           "sequential": [
            [
             0,
             "#0d0887"
            ],
            [
             0.1111111111111111,
             "#46039f"
            ],
            [
             0.2222222222222222,
             "#7201a8"
            ],
            [
             0.3333333333333333,
             "#9c179e"
            ],
            [
             0.4444444444444444,
             "#bd3786"
            ],
            [
             0.5555555555555556,
             "#d8576b"
            ],
            [
             0.6666666666666666,
             "#ed7953"
            ],
            [
             0.7777777777777778,
             "#fb9f3a"
            ],
            [
             0.8888888888888888,
             "#fdca26"
            ],
            [
             1,
             "#f0f921"
            ]
           ],
           "sequentialminus": [
            [
             0,
             "#0d0887"
            ],
            [
             0.1111111111111111,
             "#46039f"
            ],
            [
             0.2222222222222222,
             "#7201a8"
            ],
            [
             0.3333333333333333,
             "#9c179e"
            ],
            [
             0.4444444444444444,
             "#bd3786"
            ],
            [
             0.5555555555555556,
             "#d8576b"
            ],
            [
             0.6666666666666666,
             "#ed7953"
            ],
            [
             0.7777777777777778,
             "#fb9f3a"
            ],
            [
             0.8888888888888888,
             "#fdca26"
            ],
            [
             1,
             "#f0f921"
            ]
           ]
          },
          "colorway": [
           "#636efa",
           "#EF553B",
           "#00cc96",
           "#ab63fa",
           "#FFA15A",
           "#19d3f3",
           "#FF6692",
           "#B6E880",
           "#FF97FF",
           "#FECB52"
          ],
          "font": {
           "color": "#2a3f5f"
          },
          "geo": {
           "bgcolor": "white",
           "lakecolor": "white",
           "landcolor": "#E5ECF6",
           "showlakes": true,
           "showland": true,
           "subunitcolor": "white"
          },
          "hoverlabel": {
           "align": "left"
          },
          "hovermode": "closest",
          "mapbox": {
           "style": "light"
          },
          "paper_bgcolor": "white",
          "plot_bgcolor": "#E5ECF6",
          "polar": {
           "angularaxis": {
            "gridcolor": "white",
            "linecolor": "white",
            "ticks": ""
           },
           "bgcolor": "#E5ECF6",
           "radialaxis": {
            "gridcolor": "white",
            "linecolor": "white",
            "ticks": ""
           }
          },
          "scene": {
           "xaxis": {
            "backgroundcolor": "#E5ECF6",
            "gridcolor": "white",
            "gridwidth": 2,
            "linecolor": "white",
            "showbackground": true,
            "ticks": "",
            "zerolinecolor": "white"
           },
           "yaxis": {
            "backgroundcolor": "#E5ECF6",
            "gridcolor": "white",
            "gridwidth": 2,
            "linecolor": "white",
            "showbackground": true,
            "ticks": "",
            "zerolinecolor": "white"
           },
           "zaxis": {
            "backgroundcolor": "#E5ECF6",
            "gridcolor": "white",
            "gridwidth": 2,
            "linecolor": "white",
            "showbackground": true,
            "ticks": "",
            "zerolinecolor": "white"
           }
          },
          "shapedefaults": {
           "line": {
            "color": "#2a3f5f"
           }
          },
          "ternary": {
           "aaxis": {
            "gridcolor": "white",
            "linecolor": "white",
            "ticks": ""
           },
           "baxis": {
            "gridcolor": "white",
            "linecolor": "white",
            "ticks": ""
           },
           "bgcolor": "#E5ECF6",
           "caxis": {
            "gridcolor": "white",
            "linecolor": "white",
            "ticks": ""
           }
          },
          "title": {
           "x": 0.05
          },
          "xaxis": {
           "automargin": true,
           "gridcolor": "white",
           "linecolor": "white",
           "ticks": "",
           "title": {
            "standoff": 15
           },
           "zerolinecolor": "white",
           "zerolinewidth": 2
          },
          "yaxis": {
           "automargin": true,
           "gridcolor": "white",
           "linecolor": "white",
           "ticks": "",
           "title": {
            "standoff": 15
           },
           "zerolinecolor": "white",
           "zerolinewidth": 2
          }
         }
        },
        "xaxis": {
         "anchor": "y",
         "domain": [
          0,
          1
         ],
         "matches": "x2",
         "showticklabels": false
        },
        "xaxis2": {
         "anchor": "y2",
         "domain": [
          0,
          1
         ]
        },
        "yaxis": {
         "anchor": "x",
         "domain": [
          0.28,
          1
         ]
        },
        "yaxis2": {
         "anchor": "x2",
         "domain": [
          0,
          0.18000000000000002
         ]
        }
       }
      }
     },
     "metadata": {},
     "output_type": "display_data"
    }
   ],
   "source": [
    "record.plotly(\n",
    "    # xrange=[12,17], #edit x range like [0,10] to see a subset\n",
    "    show_est_logprob=True,\n",
    "    height=600,\n",
    "    untangle=True,  # reorder the particles before plotting to avoid crossing lines in resampling\n",
    ")"
   ]
  },
  {
   "cell_type": "code",
   "execution_count": 11,
   "metadata": {},
   "outputs": [],
   "source": [
    "# Save an example\n",
    "import json\n",
    "import numpy as np\n",
    "\n",
    "WRITE_EXAMPLE = 0\n",
    "READ_EXAMPLE = 0\n",
    "\n",
    "\n",
    "class NumpyEncoder(json.JSONEncoder):\n",
    "    def default(self, obj):\n",
    "        if isinstance(obj, np.integer):\n",
    "            return int(obj)\n",
    "        elif isinstance(obj, np.floating):\n",
    "            return float(obj)\n",
    "        elif isinstance(obj, np.ndarray):\n",
    "            return obj.tolist()\n",
    "        return super(NumpyEncoder, self).default(obj)\n",
    "\n",
    "\n",
    "if WRITE_EXAMPLE:\n",
    "    with open('smc_viz/MyExample.json', 'w') as f:\n",
    "        json.dump(particle_approx.record, f, cls=NumpyEncoder)\n",
    "if READ_EXAMPLE:\n",
    "    from genparse.record import SMCRecord\n",
    "\n",
    "    with open('smc_viz/MyExample.json', 'r') as f:\n",
    "        record = SMCRecord(**json.load(f))"
   ]
  },
  {
   "cell_type": "markdown",
   "metadata": {},
   "source": [
    "Write out example figures"
   ]
  },
  {
   "cell_type": "code",
   "execution_count": 21,
   "metadata": {},
   "outputs": [],
   "source": [
    "import os\n",
    "\n",
    "\n",
    "def write_images_scrollby(windowsize=10, outdir='figs', height=800, width=1000):\n",
    "    record.plotly(height=height, width=width).write_image(\n",
    "        os.path.join(outdir, 'EXAMPLE.png')\n",
    "    )\n",
    "    for x_ in range(len(record['step'])):\n",
    "        record.plotly(xrange=[0, x_], height=height, width=width).write_image(\n",
    "            os.path.join(outdir, f'TMP{x_:02d}.png')\n",
    "        )\n",
    "\n",
    "\n",
    "if 0:\n",
    "    write_images_scrollby()"
   ]
  }
 ],
 "metadata": {
  "kernelspec": {
   "display_name": "Python 3 (ipykernel)",
   "language": "python",
   "name": "python3"
  },
  "language_info": {
   "codemirror_mode": {
    "name": "ipython",
    "version": 3
   },
   "file_extension": ".py",
   "mimetype": "text/x-python",
   "name": "python",
   "nbconvert_exporter": "python",
   "pygments_lexer": "ipython3",
   "version": "3.10.14"
  }
 },
 "nbformat": 4,
 "nbformat_minor": 4
}
