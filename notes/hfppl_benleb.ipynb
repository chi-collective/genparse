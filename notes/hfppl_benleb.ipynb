{
 "cells": [
  {
   "cell_type": "code",
   "execution_count": 1,
   "id": "3dce4cbf-90c7-4b38-9e9d-048eed7edd50",
   "metadata": {},
   "outputs": [],
   "source": [
    "%load_ext autoreload\n",
    "%autoreload 2"
   ]
  },
  {
   "cell_type": "code",
   "execution_count": 2,
   "id": "9851ed1e",
   "metadata": {},
   "outputs": [
    {
     "name": "stdout",
     "output_type": "stream",
     "text": [
      "HF cache set; path updated\n"
     ]
    }
   ],
   "source": [
    "import sys\n",
    "import os\n",
    "import getpass\n",
    "\n",
    "if getpass.getuser() == \"benjamin.lebrun\":\n",
    "    sys.path.append(\"/home/mila/b/benjamin.lebrun/genparse\")\n",
    "    os.environ[\"HF_HOME\"] = os.path.join(os.environ[\"SCRATCH\"], \"hf_cache\")\n",
    "    print(\"HF cache set; path updated\")\n",
    "\n",
    "import numpy as np\n",
    "import asyncio\n",
    "import nest_asyncio\n",
    "nest_asyncio.apply()"
   ]
  },
  {
   "cell_type": "code",
   "execution_count": 3,
   "id": "4c0402ad",
   "metadata": {},
   "outputs": [
    {
     "name": "stderr",
     "output_type": "stream",
     "text": [
      "/home/mila/b/benjamin.lebrun/miniconda3/envs/genparse/lib/python3.10/site-packages/tqdm/auto.py:21: TqdmWarning: IProgress not found. Please update jupyter and ipywidgets. See https://ipywidgets.readthedocs.io/en/stable/user_install.html\n",
      "  from .autonotebook import tqdm as notebook_tqdm\n"
     ]
    }
   ],
   "source": [
    "from hfppl import Model, CachedCausalLM"
   ]
  },
  {
   "cell_type": "code",
   "execution_count": 4,
   "id": "22f679d6",
   "metadata": {},
   "outputs": [],
   "source": [
    "from genparse import EOS, add_EOS, Boolean, Float"
   ]
  },
  {
   "cell_type": "code",
   "execution_count": 14,
   "id": "3e7d310e",
   "metadata": {},
   "outputs": [],
   "source": [
    "from genparse.lm import LM\n",
    "\n",
    "class EarleyBoolMaskCFGLM2(LM):\n",
    "    \"LM-like interface for Boolean-masking CFG models; uses Earley's algorithm for inference.\"\n",
    "\n",
    "    def __init__(self, cfg):\n",
    "        from genparse.experimental.earley import Earley\n",
    "        if EOS not in cfg.V: cfg = add_EOS(cfg)\n",
    "        cfg = cfg.nullaryremove(binarize=True).unarycycleremove().renumber()\n",
    "        if cfg.R != Boolean: cfg = cfg.map_values(lambda x: Boolean(x>0), Boolean)\n",
    "        self.model = Earley(cfg.prefix_grammar)\n",
    "        super().__init__(eos = EOS, V = cfg.V)\n",
    "\n",
    "    def p_next(self, context):\n",
    "        p = self.model.p_next(context).trim()\n",
    "        return Float.chart({w: 1 for w in p})\n",
    "\n",
    "    def __call__(self, context):\n",
    "        assert context[-1] == EOS\n",
    "        return float(self.model(context) != Boolean.zero)"
   ]
  },
  {
   "cell_type": "code",
   "execution_count": 5,
   "id": "b3069ee9",
   "metadata": {},
   "outputs": [
    {
     "name": "stderr",
     "output_type": "stream",
     "text": [
      "The `load_in_4bit` and `load_in_8bit` arguments are deprecated and will be removed in the future versions. Please, pass a `BitsAndBytesConfig` object in `quantization_config` argument instead.\n",
      "Loading checkpoint shards: 100%|██████████| 2/2 [00:25<00:00, 12.58s/it]\n"
     ]
    }
   ],
   "source": [
    "from genparse.lm import AsyncGreedilyTokenizedLLM\n",
    "llm = AsyncGreedilyTokenizedLLM(\"codellama/CodeLlama-7b-Instruct-hf\")"
   ]
  },
  {
   "cell_type": "code",
   "execution_count": 6,
   "id": "1cda62ee",
   "metadata": {},
   "outputs": [],
   "source": [
    "restricted_sql = r\"\"\"\n",
    "start: query_expr \"</s>\"\n",
    "\n",
    "query_expr: select [ \"ORDER\" \"BY\" (order_by_expr \",\")*  order_by_expr] [ \"LIMIT\" integer_ ]\n",
    "\n",
    "select: \"SELECT\" [(select_expr \",\")*] select_expr \"FROM\" \"data\" [ \"WHERE\" bool_expression ] [ \"GROUP\" \"BY\" [(expression \",\")*] expression ]\n",
    "\n",
    "select_expr.0: expression_math [ [ \"AS\" ] alias ] -> select_expression\n",
    "\n",
    "?expression_math: expression_product\n",
    "               | expression_math PLUS expression_product -> expression_add\n",
    "               | expression_math MINUS expression_product -> expression_sub\n",
    "               | AGGREGATION expression_math /\\)/ -> sql_aggregation\n",
    "\n",
    "?expression: (name | STAR) -> column_name\n",
    "            | literal\n",
    "\n",
    "?expression_product: expression_parens\n",
    "                  | expression_product STAR expression_parens -> expression_mul\n",
    "                  | expression_product \"/\" expression_parens -> expression_div\n",
    "\n",
    "?expression_parens: expression\n",
    "                  | /\\(/ expression_parens STAR expression /\\)/ -> expression_mul\n",
    "                  | /\\(/  expression_parens \"/\" expression /\\)/ -> expression_div\n",
    "                  | /\\(/  expression_parens PLUS expression /\\)/ -> expression_add\n",
    "                  | /\\(/  expression_parens MINUS expression /\\)/ -> expression_sub\n",
    "\n",
    "bool_expression: bool_parentheses\n",
    "                 | bool_expression \"AND\" bool_parentheses -> bool_and\n",
    "                 | bool_expression \"OR\" bool_parentheses -> bool_or\n",
    "bool_parentheses: comparison_type\n",
    "                 | /\\(/   bool_expression \"AND\" comparison_type /\\)/ -> bool_and\n",
    "                 | /\\(/  bool_expression \"OR\" comparison_type /\\)/ -> bool_or\n",
    "comparison_type: equals | not_equals | greater_than | less_than | greater_than_or_equal\n",
    "| less_than_or_equal | is_null | is_not_null\n",
    "equals: expression_math \"=\" expression_math\n",
    "not_equals: expression_math (\"<>\" | \"!=\") expression_math\n",
    "greater_than: expression_math \">\" expression_math\n",
    "less_than: expression_math \"<\" expression_math\n",
    "greater_than_or_equal: expression_math \">=\" expression_math\n",
    "less_than_or_equal: expression_math \"<=\" expression_math\n",
    "is_null: expression_math \"is\" \"null\"\n",
    "is_not_null: expression_math \"is\" \"not\" \"null\"\n",
    "\n",
    "alias: /[A-Za-z]/\n",
    "name: /[A-Za-z]/\n",
    "PLUS: /\\+/\n",
    "MINUS: /[\\-]/\n",
    "\n",
    "order_by_expr: expression_math [\"ASC\"] -> order_asc\n",
    "        | expression_math \"DESC\" -> order_desc\n",
    "\n",
    "AGGREGATION.8: (\"sum(\" | \"avg(\" | \"min(\" | \"max(\" | \"count(\" \"distinct\" | \"count(\")\n",
    "STAR: /\\*/\n",
    "integer_: /[1-9][0-9]*/\n",
    "?literal: boolean -> bool\n",
    "       | integer_ -> number\n",
    "       | /'([^']|\\s)+'|''/ -> string\n",
    "\n",
    "boolean: \"true\" -> true\n",
    "       | \"false\" -> false\n",
    "\n",
    "%import common.WS\n",
    "%ignore WS\n",
    "\"\"\"\n",
    "\n",
    "very_restricted_sql = r\"\"\"\n",
    "        start: WS? \"SELECT\" WS select_expr WS \"FROM\" WS from_expr [WS \"WHERE\" WS bool_condition] [WS \"GROUP BY\" WS var_list] [WS \"ORDER BY\" WS orderby_expr] WS EOS\n",
    "        EOS: \"</s>\"\n",
    "        select_expr: STAR | select_list\n",
    "        bool_condition: bool_expr | \"(\" bool_condition WS \"AND\" WS bool_condition \")\" | \"(\" bool_condition WS \"OR\" WS bool_condition \")\"\n",
    "        bool_expr: var \"=\" value | var \">\" value | var \"<\" value\n",
    "        from_expr: \"data\"\n",
    "        orderby_expr: var_list WS \"ASC\" | var_list WS \"DESC\"\n",
    "        select_list: select_var (\",\" WS select_var)*\n",
    "        var_list: var (\",\" WS var)*\n",
    "        select_var: var | \"AVG(\" var \")\" | \"MEDIAN(\" var \")\" | \"COUNT(\" var \")\"\n",
    "        var: \"age\" | \"gender\" | \"year\" | \"state_color\" | \"zipcode\" | \"vote\" | \"race_ethnicity\"\n",
    "        value: NUMBER | \"'red'\" | \"'blue'\" | \"'white'\" | \"'black'\" | \"'latino'\" | \"'republican'\" | \"'democrat'\" | \"'male'\" | \"'female'\"\n",
    "        STAR: \"*\"\n",
    "        NUMBER: /\\d+/\n",
    "        WS: /[ ]/\n",
    "    \"\"\""
   ]
  },
  {
   "cell_type": "code",
   "execution_count": 7,
   "id": "ae582c60",
   "metadata": {},
   "outputs": [],
   "source": [
    "from genparse.cfglm import EarleyBoolMaskCFGLM\n",
    "from genparse.util import LarkStuff\n",
    "guide = EarleyBoolMaskCFGLM(LarkStuff(very_restricted_sql).char_cfg(.99, ignore='[ ]?'))"
   ]
  },
  {
   "cell_type": "code",
   "execution_count": 17,
   "id": "7e2b0ed6",
   "metadata": {},
   "outputs": [],
   "source": [
    "from genparse.steer import SteeredSampler"
   ]
  },
  {
   "cell_type": "code",
   "execution_count": 18,
   "id": "8932acfb",
   "metadata": {},
   "outputs": [],
   "source": [
    "sampler = SteeredSampler(llm, guide)"
   ]
  },
  {
   "cell_type": "code",
   "execution_count": 19,
   "id": "390f6d6b",
   "metadata": {},
   "outputs": [],
   "source": [
    "from genparse.proposal import TokenProposal, CharacterProposal\n",
    "proposal = TokenProposal(llm=llm, guide=guide)"
   ]
  },
  {
   "cell_type": "code",
   "execution_count": 20,
   "id": "784c5677",
   "metadata": {},
   "outputs": [],
   "source": [
    "prompt = \"Write an SQL query: \"\n",
    "sampler.run_inference(\n",
    "    prompt = prompt,\n",
    "    proposal = proposal,\n",
    "    method = \"smc-standard\",\n",
    "    n_particles = 2\n",
    ")"
   ]
  },
  {
   "cell_type": "code",
   "execution_count": 21,
   "id": "dfe9979e",
   "metadata": {},
   "outputs": [
    {
     "data": {
      "text/html": [
       "<div style=\"font-family: Monospace;\"><table><tr style=\"font-weight: bold;\"><td>key</td><td>value</td></tr><tr><td><pre>[&#x27; SELECT&#x27;, &#x27; *&#x27;, &#x27; FROM&#x27;, &#x27; &#x27;, &#x27; dat&#x27;, &#x27;a&#x27;, &#x27; GROUP&#x27;, &#x27; BY&#x27;, &#x27; &#x27;, &#x27; year&#x27;, &#x27;,&#x27;, &#x27; year&#x27;, &#x27;,&#x27;, &#x27; year&#x27;, &#x27;,&#x27;, &#x27; year&#x27;, &#x27;,&#x27;, &#x27; year&#x27;, &#x27;,&#x27;, &#x27; year&#x27;, &#x27;  &#x27;, &#x27; ORDER&#x27;, &#x27; BY&#x27;, &#x27; &#x27;, &#x27; year&#x27;, &#x27; DESC&#x27;, &#x27; &#x27;, &#x27; &lt;&#x27;, &#x27;/&#x27;, &#x27;s&#x27;, &#x27;&gt;&#x27;, &#x27; &#x27;, &#x27;▪&#x27;]</pre></td><td><pre>1.8920063240579024e-41</pre></td> </tr><tr><td><pre>[&#x27; SE&#x27;, &#x27;L&#x27;, &#x27;ECT&#x27;, &#x27; *&#x27;, &#x27; FROM&#x27;, &#x27; &#x27;, &#x27; data&#x27;, &#x27; &#x27;, &#x27; WHERE&#x27;, &#x27; &#x27;, &#x27; (&#x27;, &#x27;((&#x27;, &#x27;s&#x27;, &#x27;t&#x27;, &#x27;at&#x27;, &#x27;e&#x27;, &#x27;_&#x27;, &#x27;co&#x27;, &#x27;lor&#x27;, &#x27;=&#x27;, &#x27;0&#x27;, &#x27; OR&#x27;, &#x27; state&#x27;, &#x27;_&#x27;, &#x27;color&#x27;, &#x27;=&#x27;, &#x27;2&#x27;, &#x27;)&#x27;, &#x27; AND&#x27;, &#x27; (&#x27;, &#x27; (&#x27;, &#x27;state&#x27;, &#x27;_&#x27;, &#x27;color&#x27;, &#x27; =&#x27;, &#x27; &#x27;, &#x27;0&#x27;, &#x27; OR&#x27;, &#x27; state&#x27;, &#x27;_&#x27;, &#x27;color&#x27;, &#x27; =&#x27;, &#x27; &#x27;, &#x27;3&#x27;, &#x27;)&#x27;, &#x27; AND&#x27;, &#x27; state&#x27;, &#x27;_&#x27;, &#x27;color&#x27;, &#x27; =&#x27;, &#x27; &#x27;, &#x27;5&#x27;, &#x27;)&#x27;, &#x27; &#x27;, &#x27;)&#x27;, &#x27; AND&#x27;, &#x27; (&#x27;, &#x27; (&#x27;, &#x27;state&#x27;, &#x27;_&#x27;, &#x27;color&#x27;, &#x27; =&#x27;, &#x27; &#x27;, &#x27;6&#x27;, &#x27; AND&#x27;, &#x27; state&#x27;, &#x27;_&#x27;, &#x27;color&#x27;, &#x27; =&#x27;, &#x27; &#x27;, &#x27;9&#x27;, &#x27;)&#x27;, &#x27; OR&#x27;, &#x27; state&#x27;, &#x27;_&#x27;, &#x27;color&#x27;, &#x27; =&#x27;, &#x27; &#x27;, &#x27;5&#x27;, &#x27;)&#x27;, &#x27; )&#x27;, &#x27; ORDER&#x27;, &#x27; BY&#x27;, &#x27; &#x27;, &#x27; state&#x27;, &#x27;_&#x27;, &#x27;color&#x27;, &#x27; DESC&#x27;, &#x27;  &#x27;, &#x27; &lt;&#x27;, &#x27;/&#x27;, &#x27;s&#x27;, &#x27;&gt;&#x27;, &#x27; &#x27;, &#x27;▪&#x27;]</pre></td><td><pre>3.3962177866286767e-76</pre></td> </tr></table></div>"
      ],
      "text/plain": [
       "{\"[' SELECT', ' *', ' FROM', ' ', ' dat', 'a', ' GROUP', ' BY', ' ', ' year', ',', ' year', ',', ' year', ',', ' year', ',', ' year', ',', ' year', '  ', ' ORDER', ' BY', ' ', ' year', ' DESC', ' ', ' <', '/', 's', '>', ' ', '▪']\": 1.8920063240579024e-41, \"[' SE', 'L', 'ECT', ' *', ' FROM', ' ', ' data', ' ', ' WHERE', ' ', ' (', '((', 's', 't', 'at', 'e', '_', 'co', 'lor', '=', '0', ' OR', ' state', '_', 'color', '=', '2', ')', ' AND', ' (', ' (', 'state', '_', 'color', ' =', ' ', '0', ' OR', ' state', '_', 'color', ' =', ' ', '3', ')', ' AND', ' state', '_', 'color', ' =', ' ', '5', ')', ' ', ')', ' AND', ' (', ' (', 'state', '_', 'color', ' =', ' ', '6', ' AND', ' state', '_', 'color', ' =', ' ', '9', ')', ' OR', ' state', '_', 'color', ' =', ' ', '5', ')', ' )', ' ORDER', ' BY', ' ', ' state', '_', 'color', ' DESC', '  ', ' <', '/', 's', '>', ' ', '▪']\": 3.3962177866286767e-76}"
      ]
     },
     "execution_count": 21,
     "metadata": {},
     "output_type": "execute_result"
    }
   ],
   "source": [
    "sampler.posterior"
   ]
  },
  {
   "cell_type": "code",
   "execution_count": 38,
   "id": "41fff1cb",
   "metadata": {},
   "outputs": [],
   "source": [
    "p_llm = await llm.p_next(prompt)"
   ]
  },
  {
   "cell_type": "code",
   "execution_count": 39,
   "id": "cd3177b5",
   "metadata": {},
   "outputs": [],
   "source": [
    "proposal._update_trie(p_llm)"
   ]
  },
  {
   "cell_type": "code",
   "execution_count": 40,
   "id": "21a42059",
   "metadata": {},
   "outputs": [],
   "source": [
    "paths = proposal._enumerate_paths(\"\")"
   ]
  },
  {
   "cell_type": "code",
   "execution_count": 41,
   "id": "d9e83279",
   "metadata": {},
   "outputs": [
    {
     "data": {
      "text/plain": [
       "[]"
      ]
     },
     "execution_count": 41,
     "metadata": {},
     "output_type": "execute_result"
    }
   ],
   "source": [
    "paths"
   ]
  },
  {
   "cell_type": "code",
   "execution_count": 27,
   "id": "22485fab",
   "metadata": {},
   "outputs": [
    {
     "ename": "IndexError",
     "evalue": "index -1 is out of bounds for axis 0 with size 0",
     "output_type": "error",
     "traceback": [
      "\u001b[0;31m---------------------------------------------------------------------------\u001b[0m",
      "\u001b[0;31mIndexError\u001b[0m                                Traceback (most recent call last)",
      "Cell \u001b[0;32mIn[27], line 1\u001b[0m\n\u001b[0;32m----> 1\u001b[0m p_next \u001b[38;5;241m=\u001b[39m \u001b[38;5;28;01mawait\u001b[39;00m proposal\u001b[38;5;241m.\u001b[39msample_next_token(\n\u001b[1;32m      2\u001b[0m     prompt \u001b[38;5;241m=\u001b[39m \u001b[38;5;124m\"\u001b[39m\u001b[38;5;124mWrite an SQL query: \u001b[39m\u001b[38;5;124m\"\u001b[39m, context \u001b[38;5;241m=\u001b[39m \u001b[38;5;124m\"\u001b[39m\u001b[38;5;124m\"\u001b[39m\n\u001b[1;32m      3\u001b[0m )\n",
      "File \u001b[0;32m~/genparse/genparse/proposal/character.py:90\u001b[0m, in \u001b[0;36mCharacterProposal.sample_next_token\u001b[0;34m(self, prompt, context, verbosity, compare_time, **kwargs)\u001b[0m\n\u001b[1;32m     88\u001b[0m \u001b[38;5;28;01mwith\u001b[39;00m \u001b[38;5;28mself\u001b[39m\u001b[38;5;241m.\u001b[39mtimer[\u001b[38;5;124m'\u001b[39m\u001b[38;5;124mcfg+trie\u001b[39m\u001b[38;5;124m'\u001b[39m]:\n\u001b[1;32m     89\u001b[0m     \u001b[38;5;28mself\u001b[39m\u001b[38;5;241m.\u001b[39m_update_trie(p_llm)\n\u001b[0;32m---> 90\u001b[0m     (path, llm_prob, guide_prob, proposal_prob) \u001b[38;5;241m=\u001b[39m \u001b[38;5;28;43mself\u001b[39;49m\u001b[38;5;241;43m.\u001b[39;49m\u001b[43m_guided_sample_trie\u001b[49m\u001b[43m(\u001b[49m\n\u001b[1;32m     91\u001b[0m \u001b[43m        \u001b[49m\u001b[38;5;28;43mself\u001b[39;49m\u001b[38;5;241;43m.\u001b[39;49m\u001b[43mroot\u001b[49m\u001b[43m,\u001b[49m\u001b[43m \u001b[49m\u001b[43mcontext\u001b[49m\u001b[43m,\u001b[49m\u001b[43m \u001b[49m\u001b[43mverbosity\u001b[49m\u001b[38;5;241;43m=\u001b[39;49m\u001b[43mverbosity\u001b[49m\u001b[43m,\u001b[49m\u001b[43m \u001b[49m\u001b[38;5;241;43m*\u001b[39;49m\u001b[38;5;241;43m*\u001b[39;49m\u001b[43mkwargs\u001b[49m\n\u001b[1;32m     92\u001b[0m \u001b[43m    \u001b[49m\u001b[43m)\u001b[49m\n\u001b[1;32m     93\u001b[0m \u001b[38;5;28;01mif\u001b[39;00m compare_time:\n\u001b[1;32m     94\u001b[0m     \u001b[38;5;28mself\u001b[39m\u001b[38;5;241m.\u001b[39mtimer\u001b[38;5;241m.\u001b[39mcompare()\n",
      "File \u001b[0;32m~/genparse/genparse/proposal/character.py:173\u001b[0m, in \u001b[0;36mCharacterProposal._guided_sample_trie\u001b[0;34m(self, root, context, draw, verbosity)\u001b[0m\n\u001b[1;32m    169\u001b[0m exits \u001b[38;5;241m=\u001b[39m exits\u001b[38;5;241m.\u001b[39mnormalize()\n\u001b[1;32m    171\u001b[0m \u001b[38;5;28;01mif\u001b[39;00m verbosity \u001b[38;5;241m>\u001b[39m \u001b[38;5;241m1\u001b[39m: \u001b[38;5;28mprint\u001b[39m(colors\u001b[38;5;241m.\u001b[39mlight\u001b[38;5;241m.\u001b[39mgreen \u001b[38;5;241m%\u001b[39m \u001b[38;5;124m'\u001b[39m\u001b[38;5;124mp exits:\u001b[39m\u001b[38;5;124m'\u001b[39m, exits)\n\u001b[0;32m--> 173\u001b[0m path \u001b[38;5;241m=\u001b[39m \u001b[43mdraw\u001b[49m\u001b[43m(\u001b[49m\u001b[43mexits\u001b[49m\u001b[43m)\u001b[49m\n\u001b[1;32m    175\u001b[0m \u001b[38;5;28;01mif\u001b[39;00m verbosity \u001b[38;5;241m>\u001b[39m \u001b[38;5;241m1\u001b[39m: \u001b[38;5;28mprint\u001b[39m(colors\u001b[38;5;241m.\u001b[39morange \u001b[38;5;241m%\u001b[39m \u001b[38;5;124m'\u001b[39m\u001b[38;5;124mpicked exit\u001b[39m\u001b[38;5;124m'\u001b[39m, \u001b[38;5;28mrepr\u001b[39m(path))\n\u001b[1;32m    177\u001b[0m proposal_prob \u001b[38;5;241m*\u001b[39m\u001b[38;5;241m=\u001b[39m exits[path]\n",
      "File \u001b[0;32m~/miniconda3/envs/genparse/lib/python3.10/site-packages/arsenal/maths/rvs.py:414\u001b[0m, in \u001b[0;36msample_dict\u001b[0;34m(x, *args, **kwargs)\u001b[0m\n\u001b[1;32m    412\u001b[0m keys \u001b[38;5;241m=\u001b[39m np\u001b[38;5;241m.\u001b[39marray(\u001b[38;5;28mlist\u001b[39m(x\u001b[38;5;241m.\u001b[39mkeys()))\n\u001b[1;32m    413\u001b[0m vals \u001b[38;5;241m=\u001b[39m np\u001b[38;5;241m.\u001b[39marray(\u001b[38;5;28mlist\u001b[39m(x\u001b[38;5;241m.\u001b[39mvalues()))\n\u001b[0;32m--> 414\u001b[0m \u001b[38;5;28;01mreturn\u001b[39;00m keys[\u001b[43msample\u001b[49m\u001b[43m(\u001b[49m\u001b[43mvals\u001b[49m\u001b[43m,\u001b[49m\u001b[43m \u001b[49m\u001b[38;5;241;43m*\u001b[39;49m\u001b[43margs\u001b[49m\u001b[43m,\u001b[49m\u001b[43m \u001b[49m\u001b[38;5;241;43m*\u001b[39;49m\u001b[38;5;241;43m*\u001b[39;49m\u001b[43mkwargs\u001b[49m\u001b[43m)\u001b[49m]\n",
      "File \u001b[0;32m~/miniconda3/envs/genparse/lib/python3.10/site-packages/arsenal/maths/rvs.py:399\u001b[0m, in \u001b[0;36msample\u001b[0;34m(w, size, u)\u001b[0m\n\u001b[1;32m    397\u001b[0m \u001b[38;5;28;01mif\u001b[39;00m u \u001b[38;5;129;01mis\u001b[39;00m \u001b[38;5;28;01mNone\u001b[39;00m:\n\u001b[1;32m    398\u001b[0m     u \u001b[38;5;241m=\u001b[39m np\u001b[38;5;241m.\u001b[39mrandom\u001b[38;5;241m.\u001b[39muniform(\u001b[38;5;241m0\u001b[39m,\u001b[38;5;241m1\u001b[39m,size\u001b[38;5;241m=\u001b[39msize)\n\u001b[0;32m--> 399\u001b[0m \u001b[38;5;28;01mreturn\u001b[39;00m c\u001b[38;5;241m.\u001b[39msearchsorted(u \u001b[38;5;241m*\u001b[39m \u001b[43mc\u001b[49m\u001b[43m[\u001b[49m\u001b[38;5;241;43m-\u001b[39;49m\u001b[38;5;241;43m1\u001b[39;49m\u001b[43m]\u001b[49m)\n",
      "\u001b[0;31mIndexError\u001b[0m: index -1 is out of bounds for axis 0 with size 0"
     ]
    }
   ],
   "source": [
    "p_next = await proposal.sample_next_token(\n",
    "    prompt = \"Write an SQL query: \", context = \"\"\n",
    ")"
   ]
  },
  {
   "cell_type": "code",
   "execution_count": 26,
   "id": "20c40e34",
   "metadata": {},
   "outputs": [
    {
     "ename": "IndexError",
     "evalue": "index -1 is out of bounds for axis 0 with size 0",
     "output_type": "error",
     "traceback": [
      "\u001b[0;31m---------------------------------------------------------------------------\u001b[0m",
      "\u001b[0;31mIndexError\u001b[0m                                Traceback (most recent call last)",
      "Cell \u001b[0;32mIn[26], line 2\u001b[0m\n\u001b[1;32m      1\u001b[0m prompt \u001b[38;5;241m=\u001b[39m \u001b[38;5;124m\"\u001b[39m\u001b[38;5;124mWrite an SQL query: \u001b[39m\u001b[38;5;124m\"\u001b[39m\n\u001b[0;32m----> 2\u001b[0m \u001b[43msampler\u001b[49m\u001b[38;5;241;43m.\u001b[39;49m\u001b[43mrun_inference\u001b[49m\u001b[43m(\u001b[49m\n\u001b[1;32m      3\u001b[0m \u001b[43m    \u001b[49m\u001b[43mprompt\u001b[49m\u001b[43m \u001b[49m\u001b[38;5;241;43m=\u001b[39;49m\u001b[43m \u001b[49m\u001b[43mprompt\u001b[49m\u001b[43m,\u001b[49m\n\u001b[1;32m      4\u001b[0m \u001b[43m    \u001b[49m\u001b[43mproposal\u001b[49m\u001b[43m \u001b[49m\u001b[38;5;241;43m=\u001b[39;49m\u001b[43m \u001b[49m\u001b[43mproposal\u001b[49m\u001b[43m,\u001b[49m\n\u001b[1;32m      5\u001b[0m \u001b[43m    \u001b[49m\u001b[43mmethod\u001b[49m\u001b[43m \u001b[49m\u001b[38;5;241;43m=\u001b[39;49m\u001b[43m \u001b[49m\u001b[38;5;124;43m\"\u001b[39;49m\u001b[38;5;124;43msmc-standard\u001b[39;49m\u001b[38;5;124;43m\"\u001b[39;49m\u001b[43m,\u001b[49m\n\u001b[1;32m      6\u001b[0m \u001b[43m    \u001b[49m\u001b[43mn_particles\u001b[49m\u001b[43m \u001b[49m\u001b[38;5;241;43m=\u001b[39;49m\u001b[43m \u001b[49m\u001b[38;5;241;43m2\u001b[39;49m\n\u001b[1;32m      7\u001b[0m \u001b[43m)\u001b[49m\n",
      "File \u001b[0;32m~/genparse/genparse/steer.py:254\u001b[0m, in \u001b[0;36mrun_inference\u001b[0;34m(self, prompt, proposal, method, n_particles, n_beam, max_tokens, verbosity)\u001b[0m\n\u001b[1;32m    252\u001b[0m elif method == \"smc-standard\":\n\u001b[1;32m    253\u001b[0m     self.particles = asyncio.run(smc_standard(steering_model, n_particles=n_particles))\n\u001b[0;32m--> 254\u001b[0m else:\n\u001b[1;32m    255\u001b[0m     ValueError(f\"Unknown inference method {method}. Must be either smc-steer or smc-standard.\")\n\u001b[1;32m    257\u001b[0m self._compute_posterior()\n",
      "File \u001b[0;32m~/miniconda3/envs/genparse/lib/python3.10/site-packages/nest_asyncio.py:30\u001b[0m, in \u001b[0;36m_patch_asyncio.<locals>.run\u001b[0;34m(main, debug)\u001b[0m\n\u001b[1;32m     28\u001b[0m task \u001b[38;5;241m=\u001b[39m asyncio\u001b[38;5;241m.\u001b[39mensure_future(main)\n\u001b[1;32m     29\u001b[0m \u001b[38;5;28;01mtry\u001b[39;00m:\n\u001b[0;32m---> 30\u001b[0m     \u001b[38;5;28;01mreturn\u001b[39;00m \u001b[43mloop\u001b[49m\u001b[38;5;241;43m.\u001b[39;49m\u001b[43mrun_until_complete\u001b[49m\u001b[43m(\u001b[49m\u001b[43mtask\u001b[49m\u001b[43m)\u001b[49m\n\u001b[1;32m     31\u001b[0m \u001b[38;5;28;01mfinally\u001b[39;00m:\n\u001b[1;32m     32\u001b[0m     \u001b[38;5;28;01mif\u001b[39;00m \u001b[38;5;129;01mnot\u001b[39;00m task\u001b[38;5;241m.\u001b[39mdone():\n",
      "File \u001b[0;32m~/miniconda3/envs/genparse/lib/python3.10/site-packages/nest_asyncio.py:98\u001b[0m, in \u001b[0;36m_patch_loop.<locals>.run_until_complete\u001b[0;34m(self, future)\u001b[0m\n\u001b[1;32m     95\u001b[0m \u001b[38;5;28;01mif\u001b[39;00m \u001b[38;5;129;01mnot\u001b[39;00m f\u001b[38;5;241m.\u001b[39mdone():\n\u001b[1;32m     96\u001b[0m     \u001b[38;5;28;01mraise\u001b[39;00m \u001b[38;5;167;01mRuntimeError\u001b[39;00m(\n\u001b[1;32m     97\u001b[0m         \u001b[38;5;124m'\u001b[39m\u001b[38;5;124mEvent loop stopped before Future completed.\u001b[39m\u001b[38;5;124m'\u001b[39m)\n\u001b[0;32m---> 98\u001b[0m \u001b[38;5;28;01mreturn\u001b[39;00m \u001b[43mf\u001b[49m\u001b[38;5;241;43m.\u001b[39;49m\u001b[43mresult\u001b[49m\u001b[43m(\u001b[49m\u001b[43m)\u001b[49m\n",
      "File \u001b[0;32m~/miniconda3/envs/genparse/lib/python3.10/asyncio/futures.py:201\u001b[0m, in \u001b[0;36mFuture.result\u001b[0;34m(self)\u001b[0m\n\u001b[1;32m    199\u001b[0m \u001b[38;5;28mself\u001b[39m\u001b[38;5;241m.\u001b[39m__log_traceback \u001b[38;5;241m=\u001b[39m \u001b[38;5;28;01mFalse\u001b[39;00m\n\u001b[1;32m    200\u001b[0m \u001b[38;5;28;01mif\u001b[39;00m \u001b[38;5;28mself\u001b[39m\u001b[38;5;241m.\u001b[39m_exception \u001b[38;5;129;01mis\u001b[39;00m \u001b[38;5;129;01mnot\u001b[39;00m \u001b[38;5;28;01mNone\u001b[39;00m:\n\u001b[0;32m--> 201\u001b[0m     \u001b[38;5;28;01mraise\u001b[39;00m \u001b[38;5;28mself\u001b[39m\u001b[38;5;241m.\u001b[39m_exception\u001b[38;5;241m.\u001b[39mwith_traceback(\u001b[38;5;28mself\u001b[39m\u001b[38;5;241m.\u001b[39m_exception_tb)\n\u001b[1;32m    202\u001b[0m \u001b[38;5;28;01mreturn\u001b[39;00m \u001b[38;5;28mself\u001b[39m\u001b[38;5;241m.\u001b[39m_result\n",
      "File \u001b[0;32m~/miniconda3/envs/genparse/lib/python3.10/asyncio/tasks.py:234\u001b[0m, in \u001b[0;36mTask.__step\u001b[0;34m(***failed resolving arguments***)\u001b[0m\n\u001b[1;32m    232\u001b[0m         result \u001b[38;5;241m=\u001b[39m coro\u001b[38;5;241m.\u001b[39msend(\u001b[38;5;28;01mNone\u001b[39;00m)\n\u001b[1;32m    233\u001b[0m     \u001b[38;5;28;01melse\u001b[39;00m:\n\u001b[0;32m--> 234\u001b[0m         result \u001b[38;5;241m=\u001b[39m \u001b[43mcoro\u001b[49m\u001b[38;5;241;43m.\u001b[39;49m\u001b[43mthrow\u001b[49m\u001b[43m(\u001b[49m\u001b[43mexc\u001b[49m\u001b[43m)\u001b[49m\n\u001b[1;32m    235\u001b[0m \u001b[38;5;28;01mexcept\u001b[39;00m \u001b[38;5;167;01mStopIteration\u001b[39;00m \u001b[38;5;28;01mas\u001b[39;00m exc:\n\u001b[1;32m    236\u001b[0m     \u001b[38;5;28;01mif\u001b[39;00m \u001b[38;5;28mself\u001b[39m\u001b[38;5;241m.\u001b[39m_must_cancel:\n\u001b[1;32m    237\u001b[0m         \u001b[38;5;66;03m# Task is cancelled right before coro stops.\u001b[39;00m\n",
      "File \u001b[0;32m~/genparse/genparse/inference.py:172\u001b[0m, in \u001b[0;36msmc_standard\u001b[0;34m(model, n_particles, ess_threshold)\u001b[0m\n\u001b[1;32m    170\u001b[0m \u001b[38;5;28;01mfor\u001b[39;00m p \u001b[38;5;129;01min\u001b[39;00m particles:\n\u001b[1;32m    171\u001b[0m     p\u001b[38;5;241m.\u001b[39muntwist()\n\u001b[0;32m--> 172\u001b[0m \u001b[38;5;28;01mawait\u001b[39;00m asyncio\u001b[38;5;241m.\u001b[39mgather(\u001b[38;5;241m*\u001b[39m[p\u001b[38;5;241m.\u001b[39mstep() \u001b[38;5;28;01mfor\u001b[39;00m p \u001b[38;5;129;01min\u001b[39;00m particles \u001b[38;5;28;01mif\u001b[39;00m \u001b[38;5;129;01mnot\u001b[39;00m p\u001b[38;5;241m.\u001b[39mdone_stepping()])\n\u001b[1;32m    174\u001b[0m \u001b[38;5;66;03m# Normalize weights\u001b[39;00m\n\u001b[1;32m    175\u001b[0m W \u001b[38;5;241m=\u001b[39m np\u001b[38;5;241m.\u001b[39marray([p\u001b[38;5;241m.\u001b[39mweight \u001b[38;5;28;01mfor\u001b[39;00m p \u001b[38;5;129;01min\u001b[39;00m particles])\n",
      "File \u001b[0;32m~/miniconda3/envs/genparse/lib/python3.10/asyncio/tasks.py:304\u001b[0m, in \u001b[0;36mTask.__wakeup\u001b[0;34m(self, future)\u001b[0m\n\u001b[1;32m    302\u001b[0m \u001b[38;5;28;01mdef\u001b[39;00m \u001b[38;5;21m__wakeup\u001b[39m(\u001b[38;5;28mself\u001b[39m, future):\n\u001b[1;32m    303\u001b[0m     \u001b[38;5;28;01mtry\u001b[39;00m:\n\u001b[0;32m--> 304\u001b[0m         \u001b[43mfuture\u001b[49m\u001b[38;5;241;43m.\u001b[39;49m\u001b[43mresult\u001b[49m\u001b[43m(\u001b[49m\u001b[43m)\u001b[49m\n\u001b[1;32m    305\u001b[0m     \u001b[38;5;28;01mexcept\u001b[39;00m \u001b[38;5;167;01mBaseException\u001b[39;00m \u001b[38;5;28;01mas\u001b[39;00m exc:\n\u001b[1;32m    306\u001b[0m         \u001b[38;5;66;03m# This may also be a cancellation.\u001b[39;00m\n\u001b[1;32m    307\u001b[0m         \u001b[38;5;28mself\u001b[39m\u001b[38;5;241m.\u001b[39m__step(exc)\n",
      "File \u001b[0;32m~/miniconda3/envs/genparse/lib/python3.10/asyncio/tasks.py:232\u001b[0m, in \u001b[0;36mTask.__step\u001b[0;34m(***failed resolving arguments***)\u001b[0m\n\u001b[1;32m    228\u001b[0m \u001b[38;5;28;01mtry\u001b[39;00m:\n\u001b[1;32m    229\u001b[0m     \u001b[38;5;28;01mif\u001b[39;00m exc \u001b[38;5;129;01mis\u001b[39;00m \u001b[38;5;28;01mNone\u001b[39;00m:\n\u001b[1;32m    230\u001b[0m         \u001b[38;5;66;03m# We use the `send` method directly, because coroutines\u001b[39;00m\n\u001b[1;32m    231\u001b[0m         \u001b[38;5;66;03m# don't have `__iter__` and `__next__` methods.\u001b[39;00m\n\u001b[0;32m--> 232\u001b[0m         result \u001b[38;5;241m=\u001b[39m \u001b[43mcoro\u001b[49m\u001b[38;5;241;43m.\u001b[39;49m\u001b[43msend\u001b[49m\u001b[43m(\u001b[49m\u001b[38;5;28;43;01mNone\u001b[39;49;00m\u001b[43m)\u001b[49m\n\u001b[1;32m    233\u001b[0m     \u001b[38;5;28;01melse\u001b[39;00m:\n\u001b[1;32m    234\u001b[0m         result \u001b[38;5;241m=\u001b[39m coro\u001b[38;5;241m.\u001b[39mthrow(exc)\n",
      "File \u001b[0;32m~/genparse/genparse/steer.py:196\u001b[0m, in \u001b[0;36mstep\u001b[0;34m(self)\u001b[0m\n\u001b[1;32m    194\u001b[0m \u001b[38;5;28;01masync\u001b[39;00m \u001b[38;5;28;01mdef\u001b[39;00m \u001b[38;5;21mstep\u001b[39m(\u001b[38;5;28mself\u001b[39m):\n\u001b[1;32m    195\u001b[0m     (token, llm_prob, guide_prob, proposal_prob) \u001b[38;5;241m=\u001b[39m \u001b[38;5;28;01mawait\u001b[39;00m \u001b[38;5;28mself\u001b[39m\u001b[38;5;241m.\u001b[39mproposal\u001b[38;5;241m.\u001b[39msample_next_token(\n\u001b[0;32m--> 196\u001b[0m         prompt\u001b[38;5;241m=\u001b[39m\u001b[38;5;28mself\u001b[39m\u001b[38;5;241m.\u001b[39mprompt, context\u001b[38;5;241m=\u001b[39m\u001b[38;5;124m'\u001b[39m\u001b[38;5;124m'\u001b[39m\u001b[38;5;241m.\u001b[39mjoin(\u001b[38;5;28mself\u001b[39m\u001b[38;5;241m.\u001b[39mcontext), compare_time\u001b[38;5;241m=\u001b[39m(\u001b[38;5;28mself\u001b[39m\u001b[38;5;241m.\u001b[39mverbosity \u001b[38;5;241m>\u001b[39m \u001b[38;5;241m1\u001b[39m)\n\u001b[1;32m    197\u001b[0m     )\n\u001b[1;32m    198\u001b[0m     \u001b[38;5;28mself\u001b[39m\u001b[38;5;241m.\u001b[39mcontext\u001b[38;5;241m.\u001b[39mappend(token)\n\u001b[1;32m    199\u001b[0m     \u001b[38;5;28mself\u001b[39m\u001b[38;5;241m.\u001b[39mweight \u001b[38;5;241m+\u001b[39m\u001b[38;5;241m=\u001b[39m np\u001b[38;5;241m.\u001b[39mlog(llm_prob) \u001b[38;5;241m+\u001b[39m np\u001b[38;5;241m.\u001b[39mlog(guide_prob) \u001b[38;5;241m-\u001b[39m np\u001b[38;5;241m.\u001b[39mlog(proposal_prob)\n",
      "File \u001b[0;32m~/genparse/genparse/proposal/character.py:90\u001b[0m, in \u001b[0;36mCharacterProposal.sample_next_token\u001b[0;34m(self, prompt, context, verbosity, compare_time, **kwargs)\u001b[0m\n\u001b[1;32m     88\u001b[0m \u001b[38;5;28;01mwith\u001b[39;00m \u001b[38;5;28mself\u001b[39m\u001b[38;5;241m.\u001b[39mtimer[\u001b[38;5;124m'\u001b[39m\u001b[38;5;124mcfg+trie\u001b[39m\u001b[38;5;124m'\u001b[39m]:\n\u001b[1;32m     89\u001b[0m     \u001b[38;5;28mself\u001b[39m\u001b[38;5;241m.\u001b[39m_update_trie(p_llm)\n\u001b[0;32m---> 90\u001b[0m     (path, llm_prob, guide_prob, proposal_prob) \u001b[38;5;241m=\u001b[39m \u001b[38;5;28;43mself\u001b[39;49m\u001b[38;5;241;43m.\u001b[39;49m\u001b[43m_guided_sample_trie\u001b[49m\u001b[43m(\u001b[49m\n\u001b[1;32m     91\u001b[0m \u001b[43m        \u001b[49m\u001b[38;5;28;43mself\u001b[39;49m\u001b[38;5;241;43m.\u001b[39;49m\u001b[43mroot\u001b[49m\u001b[43m,\u001b[49m\u001b[43m \u001b[49m\u001b[43mcontext\u001b[49m\u001b[43m,\u001b[49m\u001b[43m \u001b[49m\u001b[43mverbosity\u001b[49m\u001b[38;5;241;43m=\u001b[39;49m\u001b[43mverbosity\u001b[49m\u001b[43m,\u001b[49m\u001b[43m \u001b[49m\u001b[38;5;241;43m*\u001b[39;49m\u001b[38;5;241;43m*\u001b[39;49m\u001b[43mkwargs\u001b[49m\n\u001b[1;32m     92\u001b[0m \u001b[43m    \u001b[49m\u001b[43m)\u001b[49m\n\u001b[1;32m     93\u001b[0m \u001b[38;5;28;01mif\u001b[39;00m compare_time:\n\u001b[1;32m     94\u001b[0m     \u001b[38;5;28mself\u001b[39m\u001b[38;5;241m.\u001b[39mtimer\u001b[38;5;241m.\u001b[39mcompare()\n",
      "File \u001b[0;32m~/genparse/genparse/proposal/character.py:173\u001b[0m, in \u001b[0;36mCharacterProposal._guided_sample_trie\u001b[0;34m(self, root, context, draw, verbosity)\u001b[0m\n\u001b[1;32m    169\u001b[0m exits \u001b[38;5;241m=\u001b[39m exits\u001b[38;5;241m.\u001b[39mnormalize()\n\u001b[1;32m    171\u001b[0m \u001b[38;5;28;01mif\u001b[39;00m verbosity \u001b[38;5;241m>\u001b[39m \u001b[38;5;241m1\u001b[39m: \u001b[38;5;28mprint\u001b[39m(colors\u001b[38;5;241m.\u001b[39mlight\u001b[38;5;241m.\u001b[39mgreen \u001b[38;5;241m%\u001b[39m \u001b[38;5;124m'\u001b[39m\u001b[38;5;124mp exits:\u001b[39m\u001b[38;5;124m'\u001b[39m, exits)\n\u001b[0;32m--> 173\u001b[0m path \u001b[38;5;241m=\u001b[39m \u001b[43mdraw\u001b[49m\u001b[43m(\u001b[49m\u001b[43mexits\u001b[49m\u001b[43m)\u001b[49m\n\u001b[1;32m    175\u001b[0m \u001b[38;5;28;01mif\u001b[39;00m verbosity \u001b[38;5;241m>\u001b[39m \u001b[38;5;241m1\u001b[39m: \u001b[38;5;28mprint\u001b[39m(colors\u001b[38;5;241m.\u001b[39morange \u001b[38;5;241m%\u001b[39m \u001b[38;5;124m'\u001b[39m\u001b[38;5;124mpicked exit\u001b[39m\u001b[38;5;124m'\u001b[39m, \u001b[38;5;28mrepr\u001b[39m(path))\n\u001b[1;32m    177\u001b[0m proposal_prob \u001b[38;5;241m*\u001b[39m\u001b[38;5;241m=\u001b[39m exits[path]\n",
      "File \u001b[0;32m~/miniconda3/envs/genparse/lib/python3.10/site-packages/arsenal/maths/rvs.py:414\u001b[0m, in \u001b[0;36msample_dict\u001b[0;34m(x, *args, **kwargs)\u001b[0m\n\u001b[1;32m    412\u001b[0m keys \u001b[38;5;241m=\u001b[39m np\u001b[38;5;241m.\u001b[39marray(\u001b[38;5;28mlist\u001b[39m(x\u001b[38;5;241m.\u001b[39mkeys()))\n\u001b[1;32m    413\u001b[0m vals \u001b[38;5;241m=\u001b[39m np\u001b[38;5;241m.\u001b[39marray(\u001b[38;5;28mlist\u001b[39m(x\u001b[38;5;241m.\u001b[39mvalues()))\n\u001b[0;32m--> 414\u001b[0m \u001b[38;5;28;01mreturn\u001b[39;00m keys[\u001b[43msample\u001b[49m\u001b[43m(\u001b[49m\u001b[43mvals\u001b[49m\u001b[43m,\u001b[49m\u001b[43m \u001b[49m\u001b[38;5;241;43m*\u001b[39;49m\u001b[43margs\u001b[49m\u001b[43m,\u001b[49m\u001b[43m \u001b[49m\u001b[38;5;241;43m*\u001b[39;49m\u001b[38;5;241;43m*\u001b[39;49m\u001b[43mkwargs\u001b[49m\u001b[43m)\u001b[49m]\n",
      "File \u001b[0;32m~/miniconda3/envs/genparse/lib/python3.10/site-packages/arsenal/maths/rvs.py:399\u001b[0m, in \u001b[0;36msample\u001b[0;34m(w, size, u)\u001b[0m\n\u001b[1;32m    397\u001b[0m \u001b[38;5;28;01mif\u001b[39;00m u \u001b[38;5;129;01mis\u001b[39;00m \u001b[38;5;28;01mNone\u001b[39;00m:\n\u001b[1;32m    398\u001b[0m     u \u001b[38;5;241m=\u001b[39m np\u001b[38;5;241m.\u001b[39mrandom\u001b[38;5;241m.\u001b[39muniform(\u001b[38;5;241m0\u001b[39m,\u001b[38;5;241m1\u001b[39m,size\u001b[38;5;241m=\u001b[39msize)\n\u001b[0;32m--> 399\u001b[0m \u001b[38;5;28;01mreturn\u001b[39;00m c\u001b[38;5;241m.\u001b[39msearchsorted(u \u001b[38;5;241m*\u001b[39m \u001b[43mc\u001b[49m\u001b[43m[\u001b[49m\u001b[38;5;241;43m-\u001b[39;49m\u001b[38;5;241;43m1\u001b[39;49m\u001b[43m]\u001b[49m)\n",
      "\u001b[0;31mIndexError\u001b[0m: index -1 is out of bounds for axis 0 with size 0"
     ]
    }
   ],
   "source": [
    "prompt = \"Write an SQL query: \"\n",
    "sampler.run_inference(\n",
    "    prompt = prompt,\n",
    "    proposal = proposal,\n",
    "    method = \"smc-standard\",\n",
    "    n_particles = 2\n",
    ")"
   ]
  },
  {
   "cell_type": "code",
   "execution_count": null,
   "id": "1084c212",
   "metadata": {},
   "outputs": [],
   "source": []
  },
  {
   "cell_type": "code",
   "execution_count": 4,
   "id": "9c8e3eba",
   "metadata": {},
   "outputs": [],
   "source": [
    "from hfppl import Model, CachedCausalLM, LMContext\n",
    "from transformers import AutoTokenizer"
   ]
  },
  {
   "cell_type": "code",
   "execution_count": 5,
   "id": "19a1d26a",
   "metadata": {},
   "outputs": [
    {
     "name": "stderr",
     "output_type": "stream",
     "text": [
      "The `load_in_4bit` and `load_in_8bit` arguments are deprecated and will be removed in the future versions. Please, pass a `BitsAndBytesConfig` object in `quantization_config` argument instead.\n",
      "Loading checkpoint shards: 100%|██████████| 2/2 [01:27<00:00, 43.91s/it]\n"
     ]
    }
   ],
   "source": [
    "MODEL_ID = \"codellama/CodeLlama-7b-Instruct-hf\"\n",
    "hfppl_llm = CachedCausalLM.from_pretrained(MODEL_ID, load_in_8bit=True)\n",
    "tokenizer = AutoTokenizer.from_pretrained(\n",
    "    MODEL_ID, \n",
    "    use_fast=True,\n",
    "    prefix_token=None, \n",
    "    middle_token=None, \n",
    "    suffix_token=None, \n",
    "    eot_token=None, \n",
    "    fill_token=None\n",
    ")"
   ]
  },
  {
   "cell_type": "code",
   "execution_count": 43,
   "id": "c9e4b233",
   "metadata": {},
   "outputs": [],
   "source": [
    "import genparse\n",
    "from genparse.cfglm import EarleyBoolMaskCFGLM, BoolMaskCFGLM\n",
    "from genparse.util import LarkStuff\n",
    "from genparse import EOS, Float\n",
    "from arsenal.maths import sample_dict, logsumexp\n",
    "from genparse.proposal import CharacterProposal, TokenProposal\n",
    "from genparse.lm import AsyncGreedilyTokenizedLLM\n",
    "from genparse.inference import smc_standard, smc_steer"
   ]
  },
  {
   "cell_type": "code",
   "execution_count": 15,
   "id": "3cb4d36c",
   "metadata": {},
   "outputs": [],
   "source": [
    "from genparse.experimental.earley import Earley\n",
    "from genparse.lm import LM\n",
    "from genparse.semiring import Float, Boolean"
   ]
  },
  {
   "cell_type": "code",
   "execution_count": 40,
   "id": "9f60a4c5",
   "metadata": {},
   "outputs": [],
   "source": [
    "class EarleyBoolMaskCFGLM2(LM):\n",
    "    \"LM-like interface for Boolean-masking CFG models; uses Earley's algorithm for inference.\"\n",
    "\n",
    "    def __init__(self, cfg):\n",
    "        from genparse.experimental.earley import Earley\n",
    "        if EOS not in cfg.V: cfg = add_EOS(cfg)\n",
    "        cfg = cfg.nullaryremove(binarize=True).unarycycleremove().renumber()\n",
    "        if cfg.R != Boolean: cfg = cfg.map_values(lambda x: Boolean(x>0), Boolean)\n",
    "        self.model = Earley(cfg.prefix_grammar)\n",
    "        super().__init__(eos = EOS, V = cfg.V)\n",
    "\n",
    "    def p_next(self, context):\n",
    "        p = self.model.p_next(context).trim()\n",
    "        return Float.chart({w: 1 for w in p})\n",
    "\n",
    "    def __call__(self, context):\n",
    "        assert context[-1] == EOS\n",
    "        return float(self.model(context) != Boolean.zero)"
   ]
  },
  {
   "cell_type": "code",
   "execution_count": 41,
   "id": "bd66fe45",
   "metadata": {},
   "outputs": [],
   "source": [
    "# fails\n",
    "cfg = LarkStuff(open(\"../assets/sql_grammar_case_sensitive.lark\").read()).char_cfg(.99, ignore='[ ]?')\n",
    "guide = EarleyBoolMaskCFGLM(cfg)"
   ]
  },
  {
   "cell_type": "code",
   "execution_count": 42,
   "id": "fcde5692",
   "metadata": {},
   "outputs": [],
   "source": [
    "class PureModel(Model):\n",
    "    def __init__(self, llm, prompt, max_tokens):\n",
    "        super().__init__()\n",
    "        self.LLM = llm\n",
    "        self.context = LMContext(self.LLM, prompt)\n",
    "        self.max_tokens = max_tokens\n",
    "        \n",
    "    async def step(self):\n",
    "        token = await self.sample(self.context.next_token())\n",
    "\n",
    "        self.max_tokens -= 1\n",
    "\n",
    "        print(f\"{token} : {str(self.context)}\")\n",
    "        \n",
    "        # Check if done\n",
    "        if token == self.LLM.tokenizer.eos_token_id or self.max_tokens == 0:\n",
    "            self.finish()\n",
    "            return\n",
    "\n",
    "class SteeringModel(Model):\n",
    "    def __init__(self, llm, guide, proposal, prompt, max_tokens, compare_time=False):\n",
    "        super().__init__()\n",
    "        self.llm = llm # AsyncGreedilyTokenizedLM\n",
    "        self.guide = guide # PCFGLM\n",
    "        self.prompt = prompt\n",
    "        self.context = []\n",
    "        self.proposal = proposal \n",
    "        self.max_tokens = max_tokens\n",
    "        self.compare_time = compare_time\n",
    "\n",
    "    async def step(self):\n",
    "        (token, llm_prob, guide_prob, proposal_prob) = await self.proposal.sample_next_token(\n",
    "            prompt=self.prompt, context=''.join(self.context), compare_time=self.compare_time\n",
    "        )\n",
    "        self.context.append(token)\n",
    "        self.weight += np.log(llm_prob) + np.log(guide_prob) - np.log(proposal_prob)\n",
    "        self.max_tokens -= 1\n",
    "\n",
    "        print(f\"`{token}` : {''.join(self.context)} : {self.weight}\")\n",
    "\n",
    "        if token == self.llm.eos or self.max_tokens == 0 or token == genparse.EOS:\n",
    "            self.finish()\n",
    "            return\n",
    "        \n",
    "    def immutable_properties(self):\n",
    "        return ['llm', 'prompt', 'guide', 'compare_token']\n",
    "    \n",
    "    def __repr__(self):\n",
    "        return f\"`{'' if not self.context else self.context[-1]}` : {''.join(self.context)} : {self.weight}\""
   ]
  },
  {
   "cell_type": "code",
   "execution_count": 44,
   "id": "e9933277",
   "metadata": {},
   "outputs": [
    {
     "ename": "NameError",
     "evalue": "name 'prompt' is not defined",
     "output_type": "error",
     "traceback": [
      "\u001b[0;31m---------------------------------------------------------------------------\u001b[0m",
      "\u001b[0;31mNameError\u001b[0m                                 Traceback (most recent call last)",
      "Cell \u001b[0;32mIn[44], line 8\u001b[0m\n\u001b[1;32m      5\u001b[0m genparse_llm \u001b[38;5;241m=\u001b[39m AsyncGreedilyTokenizedLLM(hfppl_llm, tokenizer)\n\u001b[1;32m      6\u001b[0m proposal \u001b[38;5;241m=\u001b[39m TokenProposal(llm\u001b[38;5;241m=\u001b[39mgenparse_llm, guide\u001b[38;5;241m=\u001b[39mguide)\n\u001b[1;32m      7\u001b[0m steering_model \u001b[38;5;241m=\u001b[39m SteeringModel(\n\u001b[0;32m----> 8\u001b[0m     genparse_llm, guide, proposal, \u001b[43mprompt\u001b[49m, MAX_TOKENS, compare_time\u001b[38;5;241m=\u001b[39m\u001b[38;5;28;01mFalse\u001b[39;00m\n\u001b[1;32m      9\u001b[0m )\n",
      "\u001b[0;31mNameError\u001b[0m: name 'prompt' is not defined"
     ]
    }
   ],
   "source": [
    "MAX_TOKENS = 100\n",
    "BATCH_SIZE = 80\n",
    "\n",
    "hfppl_llm.batch_size = BATCH_SIZE\n",
    "genparse_llm = AsyncGreedilyTokenizedLLM(hfppl_llm, tokenizer)\n",
    "proposal = TokenProposal(llm=genparse_llm, guide=guide)\n",
    "steering_model = SteeringModel(\n",
    "    genparse_llm, guide, proposal, prompt, MAX_TOKENS, compare_time=False\n",
    ")"
   ]
  },
  {
   "cell_type": "code",
   "execution_count": null,
   "id": "bfd9a5be",
   "metadata": {},
   "outputs": [],
   "source": [
    "particles = asyncio.run(smc_standard(steering_model, n_particles=20))"
   ]
  },
  {
   "cell_type": "code",
   "execution_count": null,
   "id": "d09008a1",
   "metadata": {},
   "outputs": [],
   "source": [
    "posterior = Float.chart()\n",
    "for p in particles:\n",
    "    posterior[''.join(p.context)] += np.exp(p.weight)\n",
    "posterior.normalize()"
   ]
  }
 ],
 "metadata": {
  "kernelspec": {
   "display_name": "genparse",
   "language": "python",
   "name": "python3"
  },
  "language_info": {
   "codemirror_mode": {
    "name": "ipython",
    "version": 3
   },
   "file_extension": ".py",
   "mimetype": "text/x-python",
   "name": "python",
   "nbconvert_exporter": "python",
   "pygments_lexer": "ipython3",
   "version": "3.10.13"
  }
 },
 "nbformat": 4,
 "nbformat_minor": 5
}
