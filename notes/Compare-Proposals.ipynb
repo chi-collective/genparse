{
 "cells": [
  {
   "cell_type": "code",
   "execution_count": 1,
   "id": "cca04ca2-ec72-447c-ba72-ddd8d2ba873e",
   "metadata": {},
   "outputs": [],
   "source": [
    "%load_ext autoreload\n",
    "%autoreload 2"
   ]
  },
  {
   "cell_type": "code",
   "execution_count": 2,
   "id": "9c8654a6-b354-4eea-88ab-70afea55464c",
   "metadata": {},
   "outputs": [],
   "source": [
    "import nest_asyncio\n",
    "nest_asyncio.apply()"
   ]
  },
  {
   "cell_type": "code",
   "execution_count": 3,
   "id": "28c2112d-0a6f-4328-bfdf-a2d3ba32a61b",
   "metadata": {},
   "outputs": [],
   "source": [
    "import numpy as np\n",
    "import pylab as pl\n",
    "from genparse.util import lark_guide, set_seed, load_model_by_name\n",
    "from genparse.proposal import TokenProposal, CharacterProposal\n",
    "from genparse.steer import HFPPLSampler\n",
    "from arsenal import timers, timeit, iterview"
   ]
  },
  {
   "cell_type": "code",
   "execution_count": 4,
   "id": "e701efe3-2548-4a8d-a92e-ddd985267223",
   "metadata": {},
   "outputs": [],
   "source": [
    "guide = lark_guide(\n",
    "    r\"\"\"\n",
    "    start: /[ ]*Tim(othy)?[ ](Fabbri[ ])?Vieira\\./\n",
    "    \"\"\"\n",
    ")\n",
    "\n",
    "llm = load_model_by_name('gpt2')\n",
    "prompt = llm.encode_prompt('Hello my name is')\n",
    "\n",
    "guide.V |= {w for word in llm.V for w in word}"
   ]
  },
  {
   "cell_type": "code",
   "execution_count": 5,
   "id": "00cac414-3fdf-4058-9d2d-94dde86fc418",
   "metadata": {},
   "outputs": [],
   "source": [
    "tok = TokenProposal(llm=llm, guide=guide, K=None)"
   ]
  },
  {
   "cell_type": "code",
   "execution_count": 6,
   "id": "588da8bd-c399-456e-a697-7a126aac9e8f",
   "metadata": {},
   "outputs": [],
   "source": [
    "char = CharacterProposal(llm=llm, guide=guide)"
   ]
  },
  {
   "cell_type": "code",
   "execution_count": 7,
   "id": "e6bde31a-327f-42fa-8339-170991ae4fee",
   "metadata": {},
   "outputs": [],
   "source": [
    "sampler = HFPPLSampler(llm=llm, guide=guide)"
   ]
  },
  {
   "cell_type": "code",
   "execution_count": 8,
   "id": "732751db-ac84-4e9a-ae26-72d2f4aca0f3",
   "metadata": {},
   "outputs": [],
   "source": [
    "opts = dict(\n",
    "    n_particles=100,\n",
    "    method='importance-sampling',\n",
    "    max_tokens=100,\n",
    "    prompt=prompt,\n",
    "    seed=8675309,\n",
    ")"
   ]
  },
  {
   "cell_type": "code",
   "execution_count": 9,
   "id": "060e5ae9-fe01-4c40-b8c0-fbf546b19a4c",
   "metadata": {},
   "outputs": [],
   "source": [
    "T = timers()"
   ]
  },
  {
   "cell_type": "code",
   "execution_count": 10,
   "id": "936f17c0-ff9a-4d5c-8bd7-9ef5f3558c02",
   "metadata": {},
   "outputs": [],
   "source": [
    "with T['token']:\n",
    "    tok_posterior = sampler.run_inference(proposal=tok, **opts)"
   ]
  },
  {
   "cell_type": "code",
   "execution_count": 11,
   "id": "17922770-881e-4132-92f2-a53f662a0d96",
   "metadata": {},
   "outputs": [],
   "source": [
    "with T['character']:\n",
    "    char_posterior = sampler.run_inference(proposal=char, **opts)"
   ]
  },
  {
   "cell_type": "code",
   "execution_count": 12,
   "id": "e0c74bae-799b-4df0-a3cb-5c4af45429de",
   "metadata": {},
   "outputs": [
    {
     "name": "stdout",
     "output_type": "stream",
     "text": [
      "character is 1.2159x faster than token (\u001b[0;33mp=1.00000\u001b[0m, median: token: 38.4704, character: 31.6397)\n"
     ]
    }
   ],
   "source": [
    "T.compare()"
   ]
  },
  {
   "cell_type": "code",
   "execution_count": 13,
   "id": "6a52c39d-536e-479d-b478-d0fd99657353",
   "metadata": {},
   "outputs": [],
   "source": [
    "char_posterior = char_posterior.finalize(guide.eos)"
   ]
  },
  {
   "cell_type": "code",
   "execution_count": 14,
   "id": "4394981c-a863-4ab2-8a27-85bc1c2ddce6",
   "metadata": {},
   "outputs": [],
   "source": [
    "tok_posterior = tok_posterior.finalize(guide.eos)"
   ]
  },
  {
   "cell_type": "code",
   "execution_count": 15,
   "id": "bd7a76fa-ec39-441d-80e2-b7d1afe0b97e",
   "metadata": {},
   "outputs": [],
   "source": [
    "tok_W = np.mean([np.exp(p.weight) for p in tok_posterior.particles])"
   ]
  },
  {
   "cell_type": "code",
   "execution_count": 16,
   "id": "2d7cf78e-f938-459e-b6a7-d47107dc4d00",
   "metadata": {},
   "outputs": [],
   "source": [
    "char_W = np.mean([np.exp(p.weight) for p in char_posterior.particles])"
   ]
  },
  {
   "cell_type": "code",
   "execution_count": 17,
   "id": "f77387ea-594f-493f-9db8-9fd480588085",
   "metadata": {},
   "outputs": [],
   "source": [
    "#np.exp(tok_posterior.log_ml - char_posterior.log_ml), tok_posterior.log_ml, char_posterior.log_ml"
   ]
  },
  {
   "cell_type": "markdown",
   "id": "0ed5a020-5be6-406a-b0e2-3f666fddd1bb",
   "metadata": {},
   "source": [
    "The variance of the weights"
   ]
  },
  {
   "cell_type": "code",
   "execution_count": 18,
   "id": "8e675bf7-bc39-4471-9856-37c04804a362",
   "metadata": {},
   "outputs": [
    {
     "data": {
      "text/plain": [
       "0.11759647739214407"
      ]
     },
     "execution_count": 18,
     "metadata": {},
     "output_type": "execute_result"
    }
   ],
   "source": [
    "np.std(np.exp(tok_posterior.log_weights)) / np.std(np.exp(char_posterior.log_weights)) "
   ]
  },
  {
   "cell_type": "code",
   "execution_count": 19,
   "id": "617017a8-e01f-4233-9559-986927272175",
   "metadata": {},
   "outputs": [
    {
     "data": {
      "text/html": [
       "<div style=\"font-family: Monospace;\"><table><tr style=\"font-weight: bold;\"><td>key</td><td>value</td></tr><tr><td><pre>Tim Vieira.▪</pre></td><td><pre>0.7153231204779898</pre></td> </tr><tr><td><pre> Timothy Vieira.▪</pre></td><td><pre>0.18915298381987752</pre></td> </tr><tr><td><pre> Tim Vieira.▪</pre></td><td><pre>0.0955238457513762</pre></td> </tr><tr><td><pre> Tim Fabbri Vieira.▪</pre></td><td><pre>4.9950584974639104e-08</pre></td> </tr><tr><td><pre> Timothy Fabbri Vieira.▪</pre></td><td><pre>1.7151987777599886e-13</pre></td> </tr></table></div>"
      ],
      "text/plain": [
       "<genparse.steer.ParticleApproximation at 0x7a5a30c99c60>"
      ]
     },
     "execution_count": 19,
     "metadata": {},
     "output_type": "execute_result"
    }
   ],
   "source": [
    "char_posterior"
   ]
  },
  {
   "cell_type": "code",
   "execution_count": 20,
   "id": "7b7f5c36-3d4b-456f-8de3-9c8618430d8d",
   "metadata": {},
   "outputs": [
    {
     "data": {
      "text/html": [
       "<div style=\"font-family: Monospace;\"><table><tr style=\"font-weight: bold;\"><td>key</td><td>value</td></tr><tr><td><pre> Tim Vieira.▪</pre></td><td><pre>0.9999977478288168</pre></td> </tr><tr><td><pre> Timothy Vieira.▪</pre></td><td><pre>2.252168557823613e-06</pre></td> </tr><tr><td><pre> Timothy Fabbri Vieira.▪</pre></td><td><pre>1.4360158318861312e-12</pre></td> </tr><tr><td><pre> Tim Fabbri Vieira.▪</pre></td><td><pre>1.1893443531848075e-12</pre></td> </tr></table></div>"
      ],
      "text/plain": [
       "<genparse.steer.ParticleApproximation at 0x7a5a30a853f0>"
      ]
     },
     "execution_count": 20,
     "metadata": {},
     "output_type": "execute_result"
    }
   ],
   "source": [
    "tok_posterior"
   ]
  },
  {
   "cell_type": "code",
   "execution_count": 21,
   "id": "781cd3e3-095e-42a8-9034-97f33e406e60",
   "metadata": {},
   "outputs": [
    {
     "name": "stdout",
     "output_type": "stream",
     "text": [
      "-26.70:\t\u001b[1;36m[\u001b[0mTim\u001b[1;36m|\u001b[0m V\u001b[1;36m|\u001b[0mie\u001b[1;36m|\u001b[0mira\u001b[1;36m|\u001b[0m.\u001b[1;36m|\u001b[0m▪\u001b[1;36m]\u001b[0m\n",
      "-29.13:\t\u001b[1;36m[\u001b[0m Timothy\u001b[1;36m|\u001b[0m V\u001b[1;36m|\u001b[0mie\u001b[1;36m|\u001b[0mira\u001b[1;36m|\u001b[0m.\u001b[1;36m|\u001b[0m▪\u001b[1;36m]\u001b[0m\n",
      "-29.13:\t\u001b[1;36m[\u001b[0m Timothy\u001b[1;36m|\u001b[0m V\u001b[1;36m|\u001b[0mie\u001b[1;36m|\u001b[0mira\u001b[1;36m|\u001b[0m.\u001b[1;36m|\u001b[0m▪\u001b[1;36m]\u001b[0m\n",
      "-29.13:\t\u001b[1;36m[\u001b[0m Timothy\u001b[1;36m|\u001b[0m V\u001b[1;36m|\u001b[0mie\u001b[1;36m|\u001b[0mira\u001b[1;36m|\u001b[0m.\u001b[1;36m|\u001b[0m▪\u001b[1;36m]\u001b[0m\n",
      "-30.50:\t\u001b[1;36m[\u001b[0m Tim\u001b[1;36m|\u001b[0m V\u001b[1;36m|\u001b[0mie\u001b[1;36m|\u001b[0mira\u001b[1;36m|\u001b[0m.\u001b[1;36m|\u001b[0m▪\u001b[1;36m]\u001b[0m\n",
      "-30.50:\t\u001b[1;36m[\u001b[0m Tim\u001b[1;36m|\u001b[0m V\u001b[1;36m|\u001b[0mie\u001b[1;36m|\u001b[0mira\u001b[1;36m|\u001b[0m.\u001b[1;36m|\u001b[0m▪\u001b[1;36m]\u001b[0m\n",
      "-30.50:\t\u001b[1;36m[\u001b[0m Tim\u001b[1;36m|\u001b[0m V\u001b[1;36m|\u001b[0mie\u001b[1;36m|\u001b[0mira\u001b[1;36m|\u001b[0m.\u001b[1;36m|\u001b[0m▪\u001b[1;36m]\u001b[0m\n",
      "-30.50:\t\u001b[1;36m[\u001b[0m Tim\u001b[1;36m|\u001b[0m V\u001b[1;36m|\u001b[0mie\u001b[1;36m|\u001b[0mira\u001b[1;36m|\u001b[0m.\u001b[1;36m|\u001b[0m▪\u001b[1;36m]\u001b[0m\n",
      "-30.50:\t\u001b[1;36m[\u001b[0m Tim\u001b[1;36m|\u001b[0m V\u001b[1;36m|\u001b[0mie\u001b[1;36m|\u001b[0mira\u001b[1;36m|\u001b[0m.\u001b[1;36m|\u001b[0m▪\u001b[1;36m]\u001b[0m\n",
      "-30.50:\t\u001b[1;36m[\u001b[0m Tim\u001b[1;36m|\u001b[0m V\u001b[1;36m|\u001b[0mie\u001b[1;36m|\u001b[0mira\u001b[1;36m|\u001b[0m.\u001b[1;36m|\u001b[0m▪\u001b[1;36m]\u001b[0m\n",
      "-37.81:\t\u001b[1;36m[\u001b[0m Tim\u001b[1;36m|\u001b[0m V\u001b[1;36m|\u001b[0mie\u001b[1;36m|\u001b[0mir\u001b[1;36m|\u001b[0ma\u001b[1;36m|\u001b[0m.\u001b[1;36m|\u001b[0m▪\u001b[1;36m]\u001b[0m\n",
      "-39.80:\t\u001b[1;36m[\u001b[0m T\u001b[1;36m|\u001b[0mim\u001b[1;36m|\u001b[0m V\u001b[1;36m|\u001b[0mie\u001b[1;36m|\u001b[0mira\u001b[1;36m|\u001b[0m.\u001b[1;36m|\u001b[0m▪\u001b[1;36m]\u001b[0m\n",
      "-43.17:\t\u001b[1;36m[\u001b[0m Tim\u001b[1;36m|\u001b[0m F\u001b[1;36m|\u001b[0mabb\u001b[1;36m|\u001b[0mri\u001b[1;36m|\u001b[0m V\u001b[1;36m|\u001b[0mie\u001b[1;36m|\u001b[0mira\u001b[1;36m|\u001b[0m.\u001b[1;36m|\u001b[0m▪\u001b[1;36m]\u001b[0m\n",
      "-48.96:\t\u001b[1;36m[\u001b[0m T\u001b[1;36m|\u001b[0mim\u001b[1;36m|\u001b[0m \u001b[1;36m|\u001b[0mV\u001b[1;36m|\u001b[0mie\u001b[1;36m|\u001b[0mira\u001b[1;36m|\u001b[0m.\u001b[1;36m|\u001b[0m▪\u001b[1;36m]\u001b[0m\n",
      "-50.79:\t\u001b[1;36m[\u001b[0m T\u001b[1;36m|\u001b[0mim\u001b[1;36m|\u001b[0m V\u001b[1;36m|\u001b[0mie\u001b[1;36m|\u001b[0mi\u001b[1;36m|\u001b[0mra\u001b[1;36m|\u001b[0m.\u001b[1;36m|\u001b[0m▪\u001b[1;36m]\u001b[0m\n",
      "-53.08:\t\u001b[1;36m[\u001b[0m Tim\u001b[1;36m|\u001b[0m Fab\u001b[1;36m|\u001b[0mb\u001b[1;36m|\u001b[0mri\u001b[1;36m|\u001b[0m V\u001b[1;36m|\u001b[0mie\u001b[1;36m|\u001b[0mira\u001b[1;36m|\u001b[0m.\u001b[1;36m|\u001b[0m▪\u001b[1;36m]\u001b[0m\n",
      "-56.00:\t\u001b[1;36m[\u001b[0m T\u001b[1;36m|\u001b[0mimo\u001b[1;36m|\u001b[0mth\u001b[1;36m|\u001b[0my\u001b[1;36m|\u001b[0m V\u001b[1;36m|\u001b[0mie\u001b[1;36m|\u001b[0mira\u001b[1;36m|\u001b[0m.\u001b[1;36m|\u001b[0m▪\u001b[1;36m]\u001b[0m\n",
      "-56.85:\t\u001b[1;36m[\u001b[0m Timothy\u001b[1;36m|\u001b[0m F\u001b[1;36m|\u001b[0mabb\u001b[1;36m|\u001b[0mri\u001b[1;36m|\u001b[0m \u001b[1;36m|\u001b[0mV\u001b[1;36m|\u001b[0mie\u001b[1;36m|\u001b[0mira\u001b[1;36m|\u001b[0m.\u001b[1;36m|\u001b[0m▪\u001b[1;36m]\u001b[0m\n",
      "-56.85:\t\u001b[1;36m[\u001b[0m Timothy\u001b[1;36m|\u001b[0m F\u001b[1;36m|\u001b[0mabb\u001b[1;36m|\u001b[0mri\u001b[1;36m|\u001b[0m \u001b[1;36m|\u001b[0mV\u001b[1;36m|\u001b[0mie\u001b[1;36m|\u001b[0mira\u001b[1;36m|\u001b[0m.\u001b[1;36m|\u001b[0m▪\u001b[1;36m]\u001b[0m\n",
      "-56.85:\t\u001b[1;36m[\u001b[0m Timothy\u001b[1;36m|\u001b[0m F\u001b[1;36m|\u001b[0mabb\u001b[1;36m|\u001b[0mri\u001b[1;36m|\u001b[0m \u001b[1;36m|\u001b[0mV\u001b[1;36m|\u001b[0mie\u001b[1;36m|\u001b[0mira\u001b[1;36m|\u001b[0m.\u001b[1;36m|\u001b[0m▪\u001b[1;36m]\u001b[0m\n",
      "-57.36:\t\u001b[1;36m[\u001b[0m Tim\u001b[1;36m|\u001b[0m F\u001b[1;36m|\u001b[0mabb\u001b[1;36m|\u001b[0mri\u001b[1;36m|\u001b[0m \u001b[1;36m|\u001b[0mV\u001b[1;36m|\u001b[0mie\u001b[1;36m|\u001b[0mira\u001b[1;36m|\u001b[0m.\u001b[1;36m|\u001b[0m▪\u001b[1;36m]\u001b[0m\n",
      "-57.36:\t\u001b[1;36m[\u001b[0m Tim\u001b[1;36m|\u001b[0m F\u001b[1;36m|\u001b[0mabb\u001b[1;36m|\u001b[0mri\u001b[1;36m|\u001b[0m \u001b[1;36m|\u001b[0mV\u001b[1;36m|\u001b[0mie\u001b[1;36m|\u001b[0mira\u001b[1;36m|\u001b[0m.\u001b[1;36m|\u001b[0m▪\u001b[1;36m]\u001b[0m\n",
      "-57.36:\t\u001b[1;36m[\u001b[0m Tim\u001b[1;36m|\u001b[0m F\u001b[1;36m|\u001b[0mabb\u001b[1;36m|\u001b[0mri\u001b[1;36m|\u001b[0m \u001b[1;36m|\u001b[0mV\u001b[1;36m|\u001b[0mie\u001b[1;36m|\u001b[0mira\u001b[1;36m|\u001b[0m.\u001b[1;36m|\u001b[0m▪\u001b[1;36m]\u001b[0m\n",
      "-57.36:\t\u001b[1;36m[\u001b[0m Tim\u001b[1;36m|\u001b[0m F\u001b[1;36m|\u001b[0mabb\u001b[1;36m|\u001b[0mri\u001b[1;36m|\u001b[0m \u001b[1;36m|\u001b[0mV\u001b[1;36m|\u001b[0mie\u001b[1;36m|\u001b[0mira\u001b[1;36m|\u001b[0m.\u001b[1;36m|\u001b[0m▪\u001b[1;36m]\u001b[0m\n",
      "-57.36:\t\u001b[1;36m[\u001b[0m Tim\u001b[1;36m|\u001b[0m F\u001b[1;36m|\u001b[0mabb\u001b[1;36m|\u001b[0mri\u001b[1;36m|\u001b[0m \u001b[1;36m|\u001b[0mV\u001b[1;36m|\u001b[0mie\u001b[1;36m|\u001b[0mira\u001b[1;36m|\u001b[0m.\u001b[1;36m|\u001b[0m▪\u001b[1;36m]\u001b[0m\n",
      "-57.36:\t\u001b[1;36m[\u001b[0m Tim\u001b[1;36m|\u001b[0m F\u001b[1;36m|\u001b[0mabb\u001b[1;36m|\u001b[0mri\u001b[1;36m|\u001b[0m \u001b[1;36m|\u001b[0mV\u001b[1;36m|\u001b[0mie\u001b[1;36m|\u001b[0mira\u001b[1;36m|\u001b[0m.\u001b[1;36m|\u001b[0m▪\u001b[1;36m]\u001b[0m\n",
      "-57.36:\t\u001b[1;36m[\u001b[0m Tim\u001b[1;36m|\u001b[0m F\u001b[1;36m|\u001b[0mabb\u001b[1;36m|\u001b[0mri\u001b[1;36m|\u001b[0m \u001b[1;36m|\u001b[0mV\u001b[1;36m|\u001b[0mie\u001b[1;36m|\u001b[0mira\u001b[1;36m|\u001b[0m.\u001b[1;36m|\u001b[0m▪\u001b[1;36m]\u001b[0m\n",
      "-57.36:\t\u001b[1;36m[\u001b[0m Tim\u001b[1;36m|\u001b[0m F\u001b[1;36m|\u001b[0mabb\u001b[1;36m|\u001b[0mri\u001b[1;36m|\u001b[0m \u001b[1;36m|\u001b[0mV\u001b[1;36m|\u001b[0mie\u001b[1;36m|\u001b[0mira\u001b[1;36m|\u001b[0m.\u001b[1;36m|\u001b[0m▪\u001b[1;36m]\u001b[0m\n",
      "-57.36:\t\u001b[1;36m[\u001b[0m Tim\u001b[1;36m|\u001b[0m F\u001b[1;36m|\u001b[0mabb\u001b[1;36m|\u001b[0mri\u001b[1;36m|\u001b[0m \u001b[1;36m|\u001b[0mV\u001b[1;36m|\u001b[0mie\u001b[1;36m|\u001b[0mira\u001b[1;36m|\u001b[0m.\u001b[1;36m|\u001b[0m▪\u001b[1;36m]\u001b[0m\n",
      "-57.36:\t\u001b[1;36m[\u001b[0m Tim\u001b[1;36m|\u001b[0m F\u001b[1;36m|\u001b[0mabb\u001b[1;36m|\u001b[0mri\u001b[1;36m|\u001b[0m \u001b[1;36m|\u001b[0mV\u001b[1;36m|\u001b[0mie\u001b[1;36m|\u001b[0mira\u001b[1;36m|\u001b[0m.\u001b[1;36m|\u001b[0m▪\u001b[1;36m]\u001b[0m\n",
      "-57.36:\t\u001b[1;36m[\u001b[0m Tim\u001b[1;36m|\u001b[0m F\u001b[1;36m|\u001b[0mabb\u001b[1;36m|\u001b[0mri\u001b[1;36m|\u001b[0m \u001b[1;36m|\u001b[0mV\u001b[1;36m|\u001b[0mie\u001b[1;36m|\u001b[0mira\u001b[1;36m|\u001b[0m.\u001b[1;36m|\u001b[0m▪\u001b[1;36m]\u001b[0m\n",
      "-58.46:\t\u001b[1;36m[\u001b[0m Tim\u001b[1;36m|\u001b[0m \u001b[1;36m|\u001b[0mF\u001b[1;36m|\u001b[0mabb\u001b[1;36m|\u001b[0mri\u001b[1;36m|\u001b[0m \u001b[1;36m|\u001b[0mV\u001b[1;36m|\u001b[0mie\u001b[1;36m|\u001b[0mira\u001b[1;36m|\u001b[0m.\u001b[1;36m|\u001b[0m▪\u001b[1;36m]\u001b[0m\n",
      "-59.47:\t\u001b[1;36m[\u001b[0m T\u001b[1;36m|\u001b[0mim\u001b[1;36m|\u001b[0m V\u001b[1;36m|\u001b[0mie\u001b[1;36m|\u001b[0mi\u001b[1;36m|\u001b[0mr\u001b[1;36m|\u001b[0ma\u001b[1;36m|\u001b[0m.\u001b[1;36m|\u001b[0m▪\u001b[1;36m]\u001b[0m\n",
      "-59.87:\t\u001b[1;36m[\u001b[0m T\u001b[1;36m|\u001b[0mim\u001b[1;36m|\u001b[0m Fab\u001b[1;36m|\u001b[0mbr\u001b[1;36m|\u001b[0mi\u001b[1;36m|\u001b[0m V\u001b[1;36m|\u001b[0mie\u001b[1;36m|\u001b[0mira\u001b[1;36m|\u001b[0m.\u001b[1;36m|\u001b[0m▪\u001b[1;36m]\u001b[0m\n",
      "-60.38:\t\u001b[1;36m[\u001b[0m T\u001b[1;36m|\u001b[0mim\u001b[1;36m|\u001b[0m Fab\u001b[1;36m|\u001b[0mb\u001b[1;36m|\u001b[0mri\u001b[1;36m|\u001b[0m V\u001b[1;36m|\u001b[0mie\u001b[1;36m|\u001b[0mira\u001b[1;36m|\u001b[0m.\u001b[1;36m|\u001b[0m▪\u001b[1;36m]\u001b[0m\n",
      "-60.38:\t\u001b[1;36m[\u001b[0m T\u001b[1;36m|\u001b[0mim\u001b[1;36m|\u001b[0m Fab\u001b[1;36m|\u001b[0mb\u001b[1;36m|\u001b[0mri\u001b[1;36m|\u001b[0m V\u001b[1;36m|\u001b[0mie\u001b[1;36m|\u001b[0mira\u001b[1;36m|\u001b[0m.\u001b[1;36m|\u001b[0m▪\u001b[1;36m]\u001b[0m\n",
      "-60.43:\t\u001b[1;36m[\u001b[0m T\u001b[1;36m|\u001b[0mi\u001b[1;36m|\u001b[0mm\u001b[1;36m|\u001b[0m V\u001b[1;36m|\u001b[0mie\u001b[1;36m|\u001b[0mi\u001b[1;36m|\u001b[0mra\u001b[1;36m|\u001b[0m.\u001b[1;36m|\u001b[0m▪\u001b[1;36m]\u001b[0m\n",
      "-64.53:\t\u001b[1;36m[\u001b[0m T\u001b[1;36m|\u001b[0mim\u001b[1;36m|\u001b[0m F\u001b[1;36m|\u001b[0mab\u001b[1;36m|\u001b[0mb\u001b[1;36m|\u001b[0mri\u001b[1;36m|\u001b[0m V\u001b[1;36m|\u001b[0mie\u001b[1;36m|\u001b[0mira\u001b[1;36m|\u001b[0m.\u001b[1;36m|\u001b[0m▪\u001b[1;36m]\u001b[0m\n",
      "-64.86:\t\u001b[1;36m[\u001b[0m Timothy\u001b[1;36m|\u001b[0m F\u001b[1;36m|\u001b[0mabb\u001b[1;36m|\u001b[0mri\u001b[1;36m|\u001b[0m \u001b[1;36m|\u001b[0mVi\u001b[1;36m|\u001b[0me\u001b[1;36m|\u001b[0mira\u001b[1;36m|\u001b[0m.\u001b[1;36m|\u001b[0m▪\u001b[1;36m]\u001b[0m\n",
      "-66.05:\t\u001b[1;36m[\u001b[0m T\u001b[1;36m|\u001b[0mim\u001b[1;36m|\u001b[0m F\u001b[1;36m|\u001b[0mabb\u001b[1;36m|\u001b[0mri\u001b[1;36m|\u001b[0m \u001b[1;36m|\u001b[0mV\u001b[1;36m|\u001b[0mie\u001b[1;36m|\u001b[0mira\u001b[1;36m|\u001b[0m.\u001b[1;36m|\u001b[0m▪\u001b[1;36m]\u001b[0m\n",
      "-66.05:\t\u001b[1;36m[\u001b[0m T\u001b[1;36m|\u001b[0mim\u001b[1;36m|\u001b[0m F\u001b[1;36m|\u001b[0mabb\u001b[1;36m|\u001b[0mri\u001b[1;36m|\u001b[0m \u001b[1;36m|\u001b[0mV\u001b[1;36m|\u001b[0mie\u001b[1;36m|\u001b[0mira\u001b[1;36m|\u001b[0m.\u001b[1;36m|\u001b[0m▪\u001b[1;36m]\u001b[0m\n",
      "-66.05:\t\u001b[1;36m[\u001b[0m T\u001b[1;36m|\u001b[0mim\u001b[1;36m|\u001b[0m F\u001b[1;36m|\u001b[0mabb\u001b[1;36m|\u001b[0mri\u001b[1;36m|\u001b[0m \u001b[1;36m|\u001b[0mV\u001b[1;36m|\u001b[0mie\u001b[1;36m|\u001b[0mira\u001b[1;36m|\u001b[0m.\u001b[1;36m|\u001b[0m▪\u001b[1;36m]\u001b[0m\n",
      "-66.05:\t\u001b[1;36m[\u001b[0m T\u001b[1;36m|\u001b[0mim\u001b[1;36m|\u001b[0m F\u001b[1;36m|\u001b[0mabb\u001b[1;36m|\u001b[0mri\u001b[1;36m|\u001b[0m \u001b[1;36m|\u001b[0mV\u001b[1;36m|\u001b[0mie\u001b[1;36m|\u001b[0mira\u001b[1;36m|\u001b[0m.\u001b[1;36m|\u001b[0m▪\u001b[1;36m]\u001b[0m\n",
      "-66.05:\t\u001b[1;36m[\u001b[0m T\u001b[1;36m|\u001b[0mim\u001b[1;36m|\u001b[0m F\u001b[1;36m|\u001b[0mabb\u001b[1;36m|\u001b[0mri\u001b[1;36m|\u001b[0m \u001b[1;36m|\u001b[0mV\u001b[1;36m|\u001b[0mie\u001b[1;36m|\u001b[0mira\u001b[1;36m|\u001b[0m.\u001b[1;36m|\u001b[0m▪\u001b[1;36m]\u001b[0m\n",
      "-66.11:\t\u001b[1;36m[\u001b[0m Tim\u001b[1;36m|\u001b[0m Fab\u001b[1;36m|\u001b[0mbr\u001b[1;36m|\u001b[0mi\u001b[1;36m|\u001b[0m \u001b[1;36m|\u001b[0mV\u001b[1;36m|\u001b[0mie\u001b[1;36m|\u001b[0mira\u001b[1;36m|\u001b[0m.\u001b[1;36m|\u001b[0m▪\u001b[1;36m]\u001b[0m\n",
      "-66.84:\t\u001b[1;36m[\u001b[0m T\u001b[1;36m|\u001b[0mim\u001b[1;36m|\u001b[0m \u001b[1;36m|\u001b[0mF\u001b[1;36m|\u001b[0mabb\u001b[1;36m|\u001b[0mri\u001b[1;36m|\u001b[0m \u001b[1;36m|\u001b[0mV\u001b[1;36m|\u001b[0mie\u001b[1;36m|\u001b[0mira\u001b[1;36m|\u001b[0m.\u001b[1;36m|\u001b[0m▪\u001b[1;36m]\u001b[0m\n",
      "-66.88:\t\u001b[1;36m[\u001b[0m T\u001b[1;36m|\u001b[0mi\u001b[1;36m|\u001b[0mmot\u001b[1;36m|\u001b[0mh\u001b[1;36m|\u001b[0my\u001b[1;36m|\u001b[0m V\u001b[1;36m|\u001b[0mie\u001b[1;36m|\u001b[0mira\u001b[1;36m|\u001b[0m.\u001b[1;36m|\u001b[0m▪\u001b[1;36m]\u001b[0m\n",
      "-67.59:\t\u001b[1;36m[\u001b[0m Timothy\u001b[1;36m|\u001b[0m F\u001b[1;36m|\u001b[0mab\u001b[1;36m|\u001b[0mb\u001b[1;36m|\u001b[0mri\u001b[1;36m|\u001b[0m \u001b[1;36m|\u001b[0mV\u001b[1;36m|\u001b[0mie\u001b[1;36m|\u001b[0mira\u001b[1;36m|\u001b[0m.\u001b[1;36m|\u001b[0m▪\u001b[1;36m]\u001b[0m\n",
      "-69.23:\t\u001b[1;36m[\u001b[0m Tim\u001b[1;36m|\u001b[0m F\u001b[1;36m|\u001b[0mab\u001b[1;36m|\u001b[0mbr\u001b[1;36m|\u001b[0mi\u001b[1;36m|\u001b[0m \u001b[1;36m|\u001b[0mV\u001b[1;36m|\u001b[0mie\u001b[1;36m|\u001b[0mira\u001b[1;36m|\u001b[0m.\u001b[1;36m|\u001b[0m▪\u001b[1;36m]\u001b[0m\n",
      "-69.23:\t\u001b[1;36m[\u001b[0m Tim\u001b[1;36m|\u001b[0m F\u001b[1;36m|\u001b[0mab\u001b[1;36m|\u001b[0mbr\u001b[1;36m|\u001b[0mi\u001b[1;36m|\u001b[0m \u001b[1;36m|\u001b[0mV\u001b[1;36m|\u001b[0mie\u001b[1;36m|\u001b[0mira\u001b[1;36m|\u001b[0m.\u001b[1;36m|\u001b[0m▪\u001b[1;36m]\u001b[0m\n",
      "-69.23:\t\u001b[1;36m[\u001b[0m Tim\u001b[1;36m|\u001b[0m F\u001b[1;36m|\u001b[0mab\u001b[1;36m|\u001b[0mbr\u001b[1;36m|\u001b[0mi\u001b[1;36m|\u001b[0m \u001b[1;36m|\u001b[0mV\u001b[1;36m|\u001b[0mie\u001b[1;36m|\u001b[0mira\u001b[1;36m|\u001b[0m.\u001b[1;36m|\u001b[0m▪\u001b[1;36m]\u001b[0m\n",
      "-69.49:\t\u001b[1;36m[\u001b[0m T\u001b[1;36m|\u001b[0mi\u001b[1;36m|\u001b[0mm\u001b[1;36m|\u001b[0m \u001b[1;36m|\u001b[0mV\u001b[1;36m|\u001b[0mie\u001b[1;36m|\u001b[0mi\u001b[1;36m|\u001b[0mra\u001b[1;36m|\u001b[0m.\u001b[1;36m|\u001b[0m▪\u001b[1;36m]\u001b[0m\n",
      "-69.88:\t\u001b[1;36m[\u001b[0m T\u001b[1;36m|\u001b[0mimo\u001b[1;36m|\u001b[0mt\u001b[1;36m|\u001b[0mh\u001b[1;36m|\u001b[0my\u001b[1;36m|\u001b[0m V\u001b[1;36m|\u001b[0mie\u001b[1;36m|\u001b[0mira\u001b[1;36m|\u001b[0m.\u001b[1;36m|\u001b[0m▪\u001b[1;36m]\u001b[0m\n",
      "-69.88:\t\u001b[1;36m[\u001b[0m T\u001b[1;36m|\u001b[0mimo\u001b[1;36m|\u001b[0mt\u001b[1;36m|\u001b[0mh\u001b[1;36m|\u001b[0my\u001b[1;36m|\u001b[0m V\u001b[1;36m|\u001b[0mie\u001b[1;36m|\u001b[0mira\u001b[1;36m|\u001b[0m.\u001b[1;36m|\u001b[0m▪\u001b[1;36m]\u001b[0m\n",
      "-69.88:\t\u001b[1;36m[\u001b[0m T\u001b[1;36m|\u001b[0mimo\u001b[1;36m|\u001b[0mt\u001b[1;36m|\u001b[0mh\u001b[1;36m|\u001b[0my\u001b[1;36m|\u001b[0m V\u001b[1;36m|\u001b[0mie\u001b[1;36m|\u001b[0mira\u001b[1;36m|\u001b[0m.\u001b[1;36m|\u001b[0m▪\u001b[1;36m]\u001b[0m\n",
      "-69.88:\t\u001b[1;36m[\u001b[0m T\u001b[1;36m|\u001b[0mimo\u001b[1;36m|\u001b[0mt\u001b[1;36m|\u001b[0mh\u001b[1;36m|\u001b[0my\u001b[1;36m|\u001b[0m V\u001b[1;36m|\u001b[0mie\u001b[1;36m|\u001b[0mira\u001b[1;36m|\u001b[0m.\u001b[1;36m|\u001b[0m▪\u001b[1;36m]\u001b[0m\n",
      "-69.94:\t\u001b[1;36m[\u001b[0m T\u001b[1;36m|\u001b[0mimo\u001b[1;36m|\u001b[0mth\u001b[1;36m|\u001b[0my\u001b[1;36m|\u001b[0m Vi\u001b[1;36m|\u001b[0me\u001b[1;36m|\u001b[0mi\u001b[1;36m|\u001b[0mra\u001b[1;36m|\u001b[0m.\u001b[1;36m|\u001b[0m▪\u001b[1;36m]\u001b[0m\n",
      "-72.10:\t\u001b[1;36m[\u001b[0m Tim\u001b[1;36m|\u001b[0m F\u001b[1;36m|\u001b[0mabb\u001b[1;36m|\u001b[0mri\u001b[1;36m|\u001b[0m \u001b[1;36m|\u001b[0mV\u001b[1;36m|\u001b[0mi\u001b[1;36m|\u001b[0me\u001b[1;36m|\u001b[0mira\u001b[1;36m|\u001b[0m.\u001b[1;36m|\u001b[0m▪\u001b[1;36m]\u001b[0m\n",
      "-72.10:\t\u001b[1;36m[\u001b[0m Tim\u001b[1;36m|\u001b[0m F\u001b[1;36m|\u001b[0mabb\u001b[1;36m|\u001b[0mri\u001b[1;36m|\u001b[0m \u001b[1;36m|\u001b[0mV\u001b[1;36m|\u001b[0mi\u001b[1;36m|\u001b[0me\u001b[1;36m|\u001b[0mira\u001b[1;36m|\u001b[0m.\u001b[1;36m|\u001b[0m▪\u001b[1;36m]\u001b[0m\n",
      "-72.22:\t\u001b[1;36m[\u001b[0m T\u001b[1;36m|\u001b[0mi\u001b[1;36m|\u001b[0mm\u001b[1;36m|\u001b[0moth\u001b[1;36m|\u001b[0my\u001b[1;36m|\u001b[0m V\u001b[1;36m|\u001b[0mie\u001b[1;36m|\u001b[0mi\u001b[1;36m|\u001b[0mra\u001b[1;36m|\u001b[0m.\u001b[1;36m|\u001b[0m▪\u001b[1;36m]\u001b[0m\n",
      "-72.30:\t\u001b[1;36m[\u001b[0m T\u001b[1;36m|\u001b[0mi\u001b[1;36m|\u001b[0mm\u001b[1;36m|\u001b[0m \u001b[1;36m|\u001b[0mV\u001b[1;36m|\u001b[0mi\u001b[1;36m|\u001b[0me\u001b[1;36m|\u001b[0mira\u001b[1;36m|\u001b[0m.\u001b[1;36m|\u001b[0m▪\u001b[1;36m]\u001b[0m\n",
      "-72.46:\t\u001b[1;36m[\u001b[0m Tim\u001b[1;36m|\u001b[0m F\u001b[1;36m|\u001b[0mabb\u001b[1;36m|\u001b[0mri\u001b[1;36m|\u001b[0m \u001b[1;36m|\u001b[0mVi\u001b[1;36m|\u001b[0me\u001b[1;36m|\u001b[0mir\u001b[1;36m|\u001b[0ma\u001b[1;36m|\u001b[0m.\u001b[1;36m|\u001b[0m▪\u001b[1;36m]\u001b[0m\n",
      "-72.63:\t\u001b[1;36m[\u001b[0m T\u001b[1;36m|\u001b[0mi\u001b[1;36m|\u001b[0mm\u001b[1;36m|\u001b[0moth\u001b[1;36m|\u001b[0my\u001b[1;36m|\u001b[0m \u001b[1;36m|\u001b[0mV\u001b[1;36m|\u001b[0mie\u001b[1;36m|\u001b[0mira\u001b[1;36m|\u001b[0m.\u001b[1;36m|\u001b[0m▪\u001b[1;36m]\u001b[0m\n",
      "-73.04:\t\u001b[1;36m[\u001b[0m T\u001b[1;36m|\u001b[0mim\u001b[1;36m|\u001b[0m Fab\u001b[1;36m|\u001b[0mbr\u001b[1;36m|\u001b[0mi\u001b[1;36m|\u001b[0m \u001b[1;36m|\u001b[0mV\u001b[1;36m|\u001b[0mie\u001b[1;36m|\u001b[0mira\u001b[1;36m|\u001b[0m.\u001b[1;36m|\u001b[0m▪\u001b[1;36m]\u001b[0m\n",
      "-73.24:\t\u001b[1;36m[\u001b[0m T\u001b[1;36m|\u001b[0mim\u001b[1;36m|\u001b[0m F\u001b[1;36m|\u001b[0mabb\u001b[1;36m|\u001b[0mri\u001b[1;36m|\u001b[0m \u001b[1;36m|\u001b[0mVi\u001b[1;36m|\u001b[0me\u001b[1;36m|\u001b[0mira\u001b[1;36m|\u001b[0m.\u001b[1;36m|\u001b[0m▪\u001b[1;36m]\u001b[0m\n",
      "-73.73:\t\u001b[1;36m[\u001b[0m T\u001b[1;36m|\u001b[0mim\u001b[1;36m|\u001b[0mo\u001b[1;36m|\u001b[0mth\u001b[1;36m|\u001b[0my\u001b[1;36m|\u001b[0m V\u001b[1;36m|\u001b[0mi\u001b[1;36m|\u001b[0me\u001b[1;36m|\u001b[0mira\u001b[1;36m|\u001b[0m.\u001b[1;36m|\u001b[0m▪\u001b[1;36m]\u001b[0m\n",
      "-74.03:\t\u001b[1;36m[\u001b[0m T\u001b[1;36m|\u001b[0mimo\u001b[1;36m|\u001b[0mt\u001b[1;36m|\u001b[0mh\u001b[1;36m|\u001b[0my\u001b[1;36m|\u001b[0m Vi\u001b[1;36m|\u001b[0me\u001b[1;36m|\u001b[0mira\u001b[1;36m|\u001b[0m.\u001b[1;36m|\u001b[0m▪\u001b[1;36m]\u001b[0m\n",
      "-74.03:\t\u001b[1;36m[\u001b[0m T\u001b[1;36m|\u001b[0mimo\u001b[1;36m|\u001b[0mt\u001b[1;36m|\u001b[0mh\u001b[1;36m|\u001b[0my\u001b[1;36m|\u001b[0m Vi\u001b[1;36m|\u001b[0me\u001b[1;36m|\u001b[0mira\u001b[1;36m|\u001b[0m.\u001b[1;36m|\u001b[0m▪\u001b[1;36m]\u001b[0m\n",
      "-74.21:\t\u001b[1;36m[\u001b[0m T\u001b[1;36m|\u001b[0mimo\u001b[1;36m|\u001b[0mth\u001b[1;36m|\u001b[0my\u001b[1;36m|\u001b[0m V\u001b[1;36m|\u001b[0mie\u001b[1;36m|\u001b[0mi\u001b[1;36m|\u001b[0mr\u001b[1;36m|\u001b[0ma\u001b[1;36m|\u001b[0m.\u001b[1;36m|\u001b[0m▪\u001b[1;36m]\u001b[0m\n",
      "-76.88:\t\u001b[1;36m[\u001b[0m T\u001b[1;36m|\u001b[0mi\u001b[1;36m|\u001b[0mmot\u001b[1;36m|\u001b[0mh\u001b[1;36m|\u001b[0my\u001b[1;36m|\u001b[0m V\u001b[1;36m|\u001b[0mie\u001b[1;36m|\u001b[0mi\u001b[1;36m|\u001b[0mra\u001b[1;36m|\u001b[0m.\u001b[1;36m|\u001b[0m▪\u001b[1;36m]\u001b[0m\n",
      "-77.01:\t\u001b[1;36m[\u001b[0m T\u001b[1;36m|\u001b[0mi\u001b[1;36m|\u001b[0mm\u001b[1;36m|\u001b[0m F\u001b[1;36m|\u001b[0mabb\u001b[1;36m|\u001b[0mri\u001b[1;36m|\u001b[0m \u001b[1;36m|\u001b[0mV\u001b[1;36m|\u001b[0mie\u001b[1;36m|\u001b[0mira\u001b[1;36m|\u001b[0m.\u001b[1;36m|\u001b[0m▪\u001b[1;36m]\u001b[0m\n",
      "-78.01:\t\u001b[1;36m[\u001b[0m T\u001b[1;36m|\u001b[0mim\u001b[1;36m|\u001b[0m F\u001b[1;36m|\u001b[0mab\u001b[1;36m|\u001b[0mb\u001b[1;36m|\u001b[0mri\u001b[1;36m|\u001b[0m \u001b[1;36m|\u001b[0mV\u001b[1;36m|\u001b[0mie\u001b[1;36m|\u001b[0mira\u001b[1;36m|\u001b[0m.\u001b[1;36m|\u001b[0m▪\u001b[1;36m]\u001b[0m\n",
      "-78.01:\t\u001b[1;36m[\u001b[0m T\u001b[1;36m|\u001b[0mim\u001b[1;36m|\u001b[0m F\u001b[1;36m|\u001b[0mab\u001b[1;36m|\u001b[0mb\u001b[1;36m|\u001b[0mri\u001b[1;36m|\u001b[0m \u001b[1;36m|\u001b[0mV\u001b[1;36m|\u001b[0mie\u001b[1;36m|\u001b[0mira\u001b[1;36m|\u001b[0m.\u001b[1;36m|\u001b[0m▪\u001b[1;36m]\u001b[0m\n",
      "-79.45:\t\u001b[1;36m[\u001b[0m Tim\u001b[1;36m|\u001b[0m F\u001b[1;36m|\u001b[0mabb\u001b[1;36m|\u001b[0mri\u001b[1;36m|\u001b[0m \u001b[1;36m|\u001b[0mV\u001b[1;36m|\u001b[0mi\u001b[1;36m|\u001b[0me\u001b[1;36m|\u001b[0mir\u001b[1;36m|\u001b[0ma\u001b[1;36m|\u001b[0m.\u001b[1;36m|\u001b[0m▪\u001b[1;36m]\u001b[0m\n",
      "-80.51:\t\u001b[1;36m[\u001b[0m Ti\u001b[1;36m|\u001b[0mm\u001b[1;36m|\u001b[0moth\u001b[1;36m|\u001b[0my\u001b[1;36m|\u001b[0m F\u001b[1;36m|\u001b[0mabb\u001b[1;36m|\u001b[0mri\u001b[1;36m|\u001b[0m \u001b[1;36m|\u001b[0mV\u001b[1;36m|\u001b[0mie\u001b[1;36m|\u001b[0mira\u001b[1;36m|\u001b[0m.\u001b[1;36m|\u001b[0m▪\u001b[1;36m]\u001b[0m\n",
      "-81.89:\t\u001b[1;36m[\u001b[0m Ti\u001b[1;36m|\u001b[0mm\u001b[1;36m|\u001b[0m F\u001b[1;36m|\u001b[0mabb\u001b[1;36m|\u001b[0mri\u001b[1;36m|\u001b[0m \u001b[1;36m|\u001b[0mV\u001b[1;36m|\u001b[0mi\u001b[1;36m|\u001b[0me\u001b[1;36m|\u001b[0mira\u001b[1;36m|\u001b[0m.\u001b[1;36m|\u001b[0m▪\u001b[1;36m]\u001b[0m\n",
      "-82.05:\t\u001b[1;36m[\u001b[0m T\u001b[1;36m|\u001b[0mi\u001b[1;36m|\u001b[0mm\u001b[1;36m|\u001b[0moth\u001b[1;36m|\u001b[0my\u001b[1;36m|\u001b[0m \u001b[1;36m|\u001b[0mV\u001b[1;36m|\u001b[0mie\u001b[1;36m|\u001b[0mi\u001b[1;36m|\u001b[0mra\u001b[1;36m|\u001b[0m.\u001b[1;36m|\u001b[0m▪\u001b[1;36m]\u001b[0m\n",
      "-83.72:\t\u001b[1;36m[\u001b[0m T\u001b[1;36m|\u001b[0mim\u001b[1;36m|\u001b[0mothy\u001b[1;36m|\u001b[0m F\u001b[1;36m|\u001b[0mabb\u001b[1;36m|\u001b[0mri\u001b[1;36m|\u001b[0m \u001b[1;36m|\u001b[0mVi\u001b[1;36m|\u001b[0me\u001b[1;36m|\u001b[0mir\u001b[1;36m|\u001b[0ma\u001b[1;36m|\u001b[0m.\u001b[1;36m|\u001b[0m▪\u001b[1;36m]\u001b[0m\n",
      "-83.90:\t\u001b[1;36m[\u001b[0m Tim\u001b[1;36m|\u001b[0m F\u001b[1;36m|\u001b[0mab\u001b[1;36m|\u001b[0mb\u001b[1;36m|\u001b[0mri\u001b[1;36m|\u001b[0m \u001b[1;36m|\u001b[0mVi\u001b[1;36m|\u001b[0me\u001b[1;36m|\u001b[0mir\u001b[1;36m|\u001b[0ma\u001b[1;36m|\u001b[0m.\u001b[1;36m|\u001b[0m▪\u001b[1;36m]\u001b[0m\n",
      "-83.96:\t\u001b[1;36m[\u001b[0m T\u001b[1;36m|\u001b[0mi\u001b[1;36m|\u001b[0mm\u001b[1;36m|\u001b[0m F\u001b[1;36m|\u001b[0mabb\u001b[1;36m|\u001b[0mri\u001b[1;36m|\u001b[0m \u001b[1;36m|\u001b[0mVi\u001b[1;36m|\u001b[0me\u001b[1;36m|\u001b[0mira\u001b[1;36m|\u001b[0m.\u001b[1;36m|\u001b[0m▪\u001b[1;36m]\u001b[0m\n",
      "-87.17:\t\u001b[1;36m[\u001b[0m T\u001b[1;36m|\u001b[0mim\u001b[1;36m|\u001b[0m F\u001b[1;36m|\u001b[0mabb\u001b[1;36m|\u001b[0mri\u001b[1;36m|\u001b[0m \u001b[1;36m|\u001b[0mV\u001b[1;36m|\u001b[0mi\u001b[1;36m|\u001b[0me\u001b[1;36m|\u001b[0mir\u001b[1;36m|\u001b[0ma\u001b[1;36m|\u001b[0m.\u001b[1;36m|\u001b[0m▪\u001b[1;36m]\u001b[0m\n",
      "-88.76:\t\u001b[1;36m[\u001b[0m T\u001b[1;36m|\u001b[0mi\u001b[1;36m|\u001b[0mmo\u001b[1;36m|\u001b[0mt\u001b[1;36m|\u001b[0mh\u001b[1;36m|\u001b[0my\u001b[1;36m|\u001b[0m V\u001b[1;36m|\u001b[0mie\u001b[1;36m|\u001b[0mi\u001b[1;36m|\u001b[0mra\u001b[1;36m|\u001b[0m.\u001b[1;36m|\u001b[0m▪\u001b[1;36m]\u001b[0m\n",
      "-90.45:\t\u001b[1;36m[\u001b[0m T\u001b[1;36m|\u001b[0mi\u001b[1;36m|\u001b[0mmot\u001b[1;36m|\u001b[0mh\u001b[1;36m|\u001b[0my\u001b[1;36m|\u001b[0m F\u001b[1;36m|\u001b[0mab\u001b[1;36m|\u001b[0mbr\u001b[1;36m|\u001b[0mi\u001b[1;36m|\u001b[0m V\u001b[1;36m|\u001b[0mie\u001b[1;36m|\u001b[0mira\u001b[1;36m|\u001b[0m.\u001b[1;36m|\u001b[0m▪\u001b[1;36m]\u001b[0m\n",
      "-91.18:\t\u001b[1;36m[\u001b[0m Tim\u001b[1;36m|\u001b[0m F\u001b[1;36m|\u001b[0mab\u001b[1;36m|\u001b[0mbr\u001b[1;36m|\u001b[0mi\u001b[1;36m|\u001b[0m \u001b[1;36m|\u001b[0mV\u001b[1;36m|\u001b[0mi\u001b[1;36m|\u001b[0me\u001b[1;36m|\u001b[0mir\u001b[1;36m|\u001b[0ma\u001b[1;36m|\u001b[0m.\u001b[1;36m|\u001b[0m▪\u001b[1;36m]\u001b[0m\n",
      "-101.02:\t\u001b[1;36m[\u001b[0m \u001b[1;36m|\u001b[0mTi\u001b[1;36m|\u001b[0mm\u001b[1;36m|\u001b[0m \u001b[1;36m|\u001b[0mF\u001b[1;36m|\u001b[0mab\u001b[1;36m|\u001b[0mbr\u001b[1;36m|\u001b[0mi\u001b[1;36m|\u001b[0m \u001b[1;36m|\u001b[0mV\u001b[1;36m|\u001b[0mi\u001b[1;36m|\u001b[0me\u001b[1;36m|\u001b[0mir\u001b[1;36m|\u001b[0ma\u001b[1;36m|\u001b[0m.\u001b[1;36m|\u001b[0m▪\u001b[1;36m]\u001b[0m\n",
      "-103.12:\t\u001b[1;36m[\u001b[0m T\u001b[1;36m|\u001b[0mimo\u001b[1;36m|\u001b[0mt\u001b[1;36m|\u001b[0mh\u001b[1;36m|\u001b[0my\u001b[1;36m|\u001b[0m F\u001b[1;36m|\u001b[0mabb\u001b[1;36m|\u001b[0mri\u001b[1;36m|\u001b[0m \u001b[1;36m|\u001b[0mV\u001b[1;36m|\u001b[0mie\u001b[1;36m|\u001b[0mir\u001b[1;36m|\u001b[0ma\u001b[1;36m|\u001b[0m.\u001b[1;36m|\u001b[0m▪\u001b[1;36m]\u001b[0m\n",
      "-104.31:\t\u001b[1;36m[\u001b[0m T\u001b[1;36m|\u001b[0mi\u001b[1;36m|\u001b[0mm\u001b[1;36m|\u001b[0mothy\u001b[1;36m|\u001b[0m F\u001b[1;36m|\u001b[0mabb\u001b[1;36m|\u001b[0mri\u001b[1;36m|\u001b[0m \u001b[1;36m|\u001b[0mV\u001b[1;36m|\u001b[0mi\u001b[1;36m|\u001b[0me\u001b[1;36m|\u001b[0mir\u001b[1;36m|\u001b[0ma\u001b[1;36m|\u001b[0m.\u001b[1;36m|\u001b[0m▪\u001b[1;36m]\u001b[0m\n",
      "-107.02:\t\u001b[1;36m[\u001b[0m T\u001b[1;36m|\u001b[0mi\u001b[1;36m|\u001b[0mm\u001b[1;36m|\u001b[0moth\u001b[1;36m|\u001b[0my\u001b[1;36m|\u001b[0m Fa\u001b[1;36m|\u001b[0mb\u001b[1;36m|\u001b[0mbr\u001b[1;36m|\u001b[0mi\u001b[1;36m|\u001b[0m \u001b[1;36m|\u001b[0mV\u001b[1;36m|\u001b[0mie\u001b[1;36m|\u001b[0mira\u001b[1;36m|\u001b[0m.\u001b[1;36m|\u001b[0m▪\u001b[1;36m]\u001b[0m\n",
      "-110.22:\t\u001b[1;36m[\u001b[0m Ti\u001b[1;36m|\u001b[0mm\u001b[1;36m|\u001b[0moth\u001b[1;36m|\u001b[0my\u001b[1;36m|\u001b[0m Fa\u001b[1;36m|\u001b[0mbb\u001b[1;36m|\u001b[0mri\u001b[1;36m|\u001b[0m \u001b[1;36m|\u001b[0mV\u001b[1;36m|\u001b[0mi\u001b[1;36m|\u001b[0me\u001b[1;36m|\u001b[0mi\u001b[1;36m|\u001b[0mra\u001b[1;36m|\u001b[0m.\u001b[1;36m|\u001b[0m▪\u001b[1;36m]\u001b[0m\n",
      "-118.60:\t\u001b[1;36m[\u001b[0m T\u001b[1;36m|\u001b[0mi\u001b[1;36m|\u001b[0mmo\u001b[1;36m|\u001b[0mt\u001b[1;36m|\u001b[0mh\u001b[1;36m|\u001b[0my\u001b[1;36m|\u001b[0m \u001b[1;36m|\u001b[0mF\u001b[1;36m|\u001b[0mab\u001b[1;36m|\u001b[0mb\u001b[1;36m|\u001b[0mri\u001b[1;36m|\u001b[0m \u001b[1;36m|\u001b[0mV\u001b[1;36m|\u001b[0mie\u001b[1;36m|\u001b[0mira\u001b[1;36m|\u001b[0m.\u001b[1;36m|\u001b[0m▪\u001b[1;36m]\u001b[0m\n",
      "-129.52:\t\u001b[1;36m[\u001b[0m T\u001b[1;36m|\u001b[0mi\u001b[1;36m|\u001b[0mm\u001b[1;36m|\u001b[0mot\u001b[1;36m|\u001b[0mh\u001b[1;36m|\u001b[0my\u001b[1;36m|\u001b[0m F\u001b[1;36m|\u001b[0mab\u001b[1;36m|\u001b[0mbr\u001b[1;36m|\u001b[0mi\u001b[1;36m|\u001b[0m \u001b[1;36m|\u001b[0mV\u001b[1;36m|\u001b[0mi\u001b[1;36m|\u001b[0me\u001b[1;36m|\u001b[0mir\u001b[1;36m|\u001b[0ma\u001b[1;36m|\u001b[0m.\u001b[1;36m|\u001b[0m▪\u001b[1;36m]\u001b[0m\n",
      "-130.90:\t\u001b[1;36m[\u001b[0m T\u001b[1;36m|\u001b[0mi\u001b[1;36m|\u001b[0mmo\u001b[1;36m|\u001b[0mt\u001b[1;36m|\u001b[0mhy\u001b[1;36m|\u001b[0m \u001b[1;36m|\u001b[0mF\u001b[1;36m|\u001b[0mab\u001b[1;36m|\u001b[0mb\u001b[1;36m|\u001b[0mri\u001b[1;36m|\u001b[0m \u001b[1;36m|\u001b[0mV\u001b[1;36m|\u001b[0mi\u001b[1;36m|\u001b[0me\u001b[1;36m|\u001b[0mir\u001b[1;36m|\u001b[0ma\u001b[1;36m|\u001b[0m.\u001b[1;36m|\u001b[0m▪\u001b[1;36m]\u001b[0m\n",
      "-138.40:\t\u001b[1;36m[\u001b[0m T\u001b[1;36m|\u001b[0mi\u001b[1;36m|\u001b[0mmo\u001b[1;36m|\u001b[0mt\u001b[1;36m|\u001b[0mh\u001b[1;36m|\u001b[0my\u001b[1;36m|\u001b[0m \u001b[1;36m|\u001b[0mFab\u001b[1;36m|\u001b[0mbr\u001b[1;36m|\u001b[0mi\u001b[1;36m|\u001b[0m \u001b[1;36m|\u001b[0mV\u001b[1;36m|\u001b[0mi\u001b[1;36m|\u001b[0mei\u001b[1;36m|\u001b[0mr\u001b[1;36m|\u001b[0ma\u001b[1;36m|\u001b[0m.\u001b[1;36m|\u001b[0m▪\u001b[1;36m]\u001b[0m\n",
      "-inf:\t\u001b[1;36m[\u001b[0m \u001b[1;36m|\u001b[0m \u001b[1;36m|\u001b[0m \u001b[1;36m|\u001b[0m \u001b[1;36m|\u001b[0m \u001b[1;36m|\u001b[0m \u001b[1;36m|\u001b[0m \u001b[1;36m|\u001b[0m \u001b[1;36m|\u001b[0m \u001b[1;36m|\u001b[0m \u001b[1;36m|\u001b[0m \u001b[1;36m|\u001b[0m \u001b[1;36m|\u001b[0m \u001b[1;36m|\u001b[0m \u001b[1;36m|\u001b[0m \u001b[1;36m|\u001b[0m \u001b[1;36m|\u001b[0m \u001b[1;36m|\u001b[0m \u001b[1;36m|\u001b[0m \u001b[1;36m|\u001b[0m \u001b[1;36m|\u001b[0m \u001b[1;36m|\u001b[0m \u001b[1;36m|\u001b[0m \u001b[1;36m|\u001b[0m \u001b[1;36m|\u001b[0m \u001b[1;36m|\u001b[0m \u001b[1;36m|\u001b[0m \u001b[1;36m|\u001b[0m \u001b[1;36m|\u001b[0m \u001b[1;36m|\u001b[0m \u001b[1;36m|\u001b[0m \u001b[1;36m|\u001b[0m \u001b[1;36m|\u001b[0m \u001b[1;36m|\u001b[0m \u001b[1;36m|\u001b[0m \u001b[1;36m|\u001b[0m \u001b[1;36m|\u001b[0m \u001b[1;36m|\u001b[0m \u001b[1;36m|\u001b[0m \u001b[1;36m|\u001b[0m \u001b[1;36m|\u001b[0m \u001b[1;36m|\u001b[0m \u001b[1;36m|\u001b[0m \u001b[1;36m|\u001b[0m \u001b[1;36m|\u001b[0m \u001b[1;36m|\u001b[0m \u001b[1;36m|\u001b[0m \u001b[1;36m|\u001b[0m \u001b[1;36m|\u001b[0m \u001b[1;36m|\u001b[0m \u001b[1;36m|\u001b[0m \u001b[1;36m|\u001b[0m \u001b[1;36m|\u001b[0m \u001b[1;36m|\u001b[0m \u001b[1;36m|\u001b[0m \u001b[1;36m|\u001b[0m \u001b[1;36m|\u001b[0m \u001b[1;36m|\u001b[0m \u001b[1;36m|\u001b[0m \u001b[1;36m|\u001b[0m \u001b[1;36m|\u001b[0m \u001b[1;36m|\u001b[0m \u001b[1;36m|\u001b[0m \u001b[1;36m|\u001b[0m \u001b[1;36m|\u001b[0m \u001b[1;36m|\u001b[0m \u001b[1;36m|\u001b[0m \u001b[1;36m|\u001b[0m \u001b[1;36m|\u001b[0m \u001b[1;36m|\u001b[0m \u001b[1;36m|\u001b[0m \u001b[1;36m|\u001b[0m \u001b[1;36m|\u001b[0m \u001b[1;36m|\u001b[0m \u001b[1;36m|\u001b[0m \u001b[1;36m|\u001b[0m \u001b[1;36m|\u001b[0m \u001b[1;36m|\u001b[0m \u001b[1;36m|\u001b[0m \u001b[1;36m|\u001b[0m \u001b[1;36m|\u001b[0m \u001b[1;36m|\u001b[0m \u001b[1;36m|\u001b[0m \u001b[1;36m|\u001b[0m \u001b[1;36m|\u001b[0m \u001b[1;36m|\u001b[0m \u001b[1;36m|\u001b[0m \u001b[1;36m|\u001b[0m \u001b[1;36m|\u001b[0m \u001b[1;36m|\u001b[0m \u001b[1;36m|\u001b[0m \u001b[1;36m|\u001b[0m \u001b[1;36m|\u001b[0m \u001b[1;36m|\u001b[0m \u001b[1;36m|\u001b[0m \u001b[1;36m|\u001b[0m \u001b[1;36m|\u001b[0m \u001b[1;36m|\u001b[0m \u001b[1;36m|\u001b[0m \u001b[1;36m|\u001b[0m \u001b[1;36m]\u001b[0m\n",
      "-inf:\t\u001b[1;36m[\u001b[0m \u001b[1;36m|\u001b[0m \u001b[1;36m|\u001b[0m \u001b[1;36m|\u001b[0m \u001b[1;36m|\u001b[0m \u001b[1;36m|\u001b[0m \u001b[1;36m|\u001b[0m \u001b[1;36m|\u001b[0m \u001b[1;36m|\u001b[0m \u001b[1;36m|\u001b[0m \u001b[1;36m|\u001b[0m \u001b[1;36m|\u001b[0m \u001b[1;36m|\u001b[0m \u001b[1;36m|\u001b[0m \u001b[1;36m|\u001b[0m \u001b[1;36m|\u001b[0m \u001b[1;36m|\u001b[0m \u001b[1;36m|\u001b[0m \u001b[1;36m|\u001b[0m \u001b[1;36m|\u001b[0m \u001b[1;36m|\u001b[0m \u001b[1;36m|\u001b[0m \u001b[1;36m|\u001b[0m \u001b[1;36m|\u001b[0m \u001b[1;36m|\u001b[0m \u001b[1;36m|\u001b[0m \u001b[1;36m|\u001b[0m \u001b[1;36m|\u001b[0m \u001b[1;36m|\u001b[0m \u001b[1;36m|\u001b[0m \u001b[1;36m|\u001b[0m \u001b[1;36m|\u001b[0m \u001b[1;36m|\u001b[0m \u001b[1;36m|\u001b[0m \u001b[1;36m|\u001b[0m \u001b[1;36m|\u001b[0m \u001b[1;36m|\u001b[0m \u001b[1;36m|\u001b[0m \u001b[1;36m|\u001b[0m \u001b[1;36m|\u001b[0m \u001b[1;36m|\u001b[0m \u001b[1;36m|\u001b[0m \u001b[1;36m|\u001b[0m \u001b[1;36m|\u001b[0m \u001b[1;36m|\u001b[0m \u001b[1;36m|\u001b[0m \u001b[1;36m|\u001b[0m \u001b[1;36m|\u001b[0m \u001b[1;36m|\u001b[0m \u001b[1;36m|\u001b[0m \u001b[1;36m|\u001b[0m \u001b[1;36m|\u001b[0m \u001b[1;36m|\u001b[0m \u001b[1;36m|\u001b[0m \u001b[1;36m|\u001b[0m \u001b[1;36m|\u001b[0m \u001b[1;36m|\u001b[0m \u001b[1;36m|\u001b[0m \u001b[1;36m|\u001b[0m \u001b[1;36m|\u001b[0m \u001b[1;36m|\u001b[0m \u001b[1;36m|\u001b[0m \u001b[1;36m|\u001b[0m \u001b[1;36m|\u001b[0m \u001b[1;36m|\u001b[0m \u001b[1;36m|\u001b[0m \u001b[1;36m|\u001b[0m \u001b[1;36m|\u001b[0m \u001b[1;36m|\u001b[0m \u001b[1;36m|\u001b[0m \u001b[1;36m|\u001b[0m \u001b[1;36m|\u001b[0m \u001b[1;36m|\u001b[0m \u001b[1;36m|\u001b[0m \u001b[1;36m|\u001b[0m \u001b[1;36m|\u001b[0m \u001b[1;36m|\u001b[0m \u001b[1;36m|\u001b[0m \u001b[1;36m|\u001b[0m \u001b[1;36m|\u001b[0m \u001b[1;36m|\u001b[0m \u001b[1;36m|\u001b[0m \u001b[1;36m|\u001b[0m \u001b[1;36m|\u001b[0m \u001b[1;36m|\u001b[0m \u001b[1;36m|\u001b[0m \u001b[1;36m|\u001b[0m \u001b[1;36m|\u001b[0m \u001b[1;36m|\u001b[0m \u001b[1;36m|\u001b[0m \u001b[1;36m|\u001b[0m \u001b[1;36m|\u001b[0m \u001b[1;36m|\u001b[0m \u001b[1;36m|\u001b[0m \u001b[1;36m|\u001b[0m \u001b[1;36m|\u001b[0m \u001b[1;36m|\u001b[0m \u001b[1;36m|\u001b[0m \u001b[1;36m|\u001b[0m \u001b[1;36m|\u001b[0m \u001b[1;36m]\u001b[0m\n",
      "-inf:\t\u001b[1;36m[\u001b[0m \u001b[1;36m|\u001b[0m \u001b[1;36m|\u001b[0m \u001b[1;36m|\u001b[0m \u001b[1;36m|\u001b[0m \u001b[1;36m|\u001b[0m \u001b[1;36m|\u001b[0m \u001b[1;36m|\u001b[0m \u001b[1;36m|\u001b[0m \u001b[1;36m|\u001b[0m \u001b[1;36m|\u001b[0m \u001b[1;36m|\u001b[0m \u001b[1;36m|\u001b[0m \u001b[1;36m|\u001b[0m \u001b[1;36m|\u001b[0m \u001b[1;36m|\u001b[0m \u001b[1;36m|\u001b[0m \u001b[1;36m|\u001b[0m \u001b[1;36m|\u001b[0m \u001b[1;36m|\u001b[0m \u001b[1;36m|\u001b[0m \u001b[1;36m|\u001b[0m \u001b[1;36m|\u001b[0m \u001b[1;36m|\u001b[0m \u001b[1;36m|\u001b[0m \u001b[1;36m|\u001b[0m \u001b[1;36m|\u001b[0m \u001b[1;36m|\u001b[0m \u001b[1;36m|\u001b[0m \u001b[1;36m|\u001b[0m \u001b[1;36m|\u001b[0m \u001b[1;36m|\u001b[0m \u001b[1;36m|\u001b[0m \u001b[1;36m|\u001b[0m \u001b[1;36m|\u001b[0m \u001b[1;36m|\u001b[0m \u001b[1;36m|\u001b[0m \u001b[1;36m|\u001b[0m \u001b[1;36m|\u001b[0m \u001b[1;36m|\u001b[0m \u001b[1;36m|\u001b[0m \u001b[1;36m|\u001b[0m \u001b[1;36m|\u001b[0m \u001b[1;36m|\u001b[0m \u001b[1;36m|\u001b[0m \u001b[1;36m|\u001b[0m \u001b[1;36m|\u001b[0m \u001b[1;36m|\u001b[0m \u001b[1;36m|\u001b[0m \u001b[1;36m|\u001b[0m \u001b[1;36m|\u001b[0m \u001b[1;36m|\u001b[0m \u001b[1;36m|\u001b[0m \u001b[1;36m|\u001b[0m \u001b[1;36m|\u001b[0m \u001b[1;36m|\u001b[0m \u001b[1;36m|\u001b[0m \u001b[1;36m|\u001b[0m \u001b[1;36m|\u001b[0m \u001b[1;36m|\u001b[0m \u001b[1;36m|\u001b[0m \u001b[1;36m|\u001b[0m \u001b[1;36m|\u001b[0m \u001b[1;36m|\u001b[0m \u001b[1;36m|\u001b[0m \u001b[1;36m|\u001b[0m \u001b[1;36m|\u001b[0m \u001b[1;36m|\u001b[0m \u001b[1;36m|\u001b[0m \u001b[1;36m|\u001b[0m \u001b[1;36m|\u001b[0m \u001b[1;36m|\u001b[0m \u001b[1;36m|\u001b[0m \u001b[1;36m|\u001b[0m \u001b[1;36m|\u001b[0m \u001b[1;36m|\u001b[0m \u001b[1;36m|\u001b[0m \u001b[1;36m|\u001b[0m \u001b[1;36m|\u001b[0m \u001b[1;36m|\u001b[0m \u001b[1;36m|\u001b[0m \u001b[1;36m|\u001b[0m \u001b[1;36m|\u001b[0m \u001b[1;36m|\u001b[0m \u001b[1;36m|\u001b[0m \u001b[1;36m|\u001b[0m \u001b[1;36m|\u001b[0m \u001b[1;36m|\u001b[0m \u001b[1;36m|\u001b[0m \u001b[1;36m|\u001b[0m \u001b[1;36m|\u001b[0m \u001b[1;36m|\u001b[0m \u001b[1;36m|\u001b[0m \u001b[1;36m|\u001b[0m \u001b[1;36m|\u001b[0m \u001b[1;36m|\u001b[0m \u001b[1;36m|\u001b[0m \u001b[1;36m|\u001b[0m \u001b[1;36m|\u001b[0m \u001b[1;36m|\u001b[0m \u001b[1;36m]\u001b[0m\n",
      "-inf:\t\u001b[1;36m[\u001b[0m \u001b[1;36m|\u001b[0m \u001b[1;36m|\u001b[0m \u001b[1;36m|\u001b[0m \u001b[1;36m|\u001b[0m \u001b[1;36m|\u001b[0m \u001b[1;36m|\u001b[0m \u001b[1;36m|\u001b[0m \u001b[1;36m|\u001b[0m \u001b[1;36m|\u001b[0m \u001b[1;36m|\u001b[0m \u001b[1;36m|\u001b[0m \u001b[1;36m|\u001b[0m \u001b[1;36m|\u001b[0m \u001b[1;36m|\u001b[0m \u001b[1;36m|\u001b[0m \u001b[1;36m|\u001b[0m \u001b[1;36m|\u001b[0m \u001b[1;36m|\u001b[0m \u001b[1;36m|\u001b[0m \u001b[1;36m|\u001b[0m \u001b[1;36m|\u001b[0m \u001b[1;36m|\u001b[0m \u001b[1;36m|\u001b[0m \u001b[1;36m|\u001b[0m \u001b[1;36m|\u001b[0m \u001b[1;36m|\u001b[0m \u001b[1;36m|\u001b[0m \u001b[1;36m|\u001b[0m \u001b[1;36m|\u001b[0m \u001b[1;36m|\u001b[0m \u001b[1;36m|\u001b[0m \u001b[1;36m|\u001b[0m \u001b[1;36m|\u001b[0m \u001b[1;36m|\u001b[0m \u001b[1;36m|\u001b[0m \u001b[1;36m|\u001b[0m \u001b[1;36m|\u001b[0m \u001b[1;36m|\u001b[0m \u001b[1;36m|\u001b[0m \u001b[1;36m|\u001b[0m \u001b[1;36m|\u001b[0m \u001b[1;36m|\u001b[0m \u001b[1;36m|\u001b[0m \u001b[1;36m|\u001b[0m \u001b[1;36m|\u001b[0m \u001b[1;36m|\u001b[0m \u001b[1;36m|\u001b[0m \u001b[1;36m|\u001b[0m \u001b[1;36m|\u001b[0m \u001b[1;36m|\u001b[0m \u001b[1;36m|\u001b[0m \u001b[1;36m|\u001b[0m \u001b[1;36m|\u001b[0m \u001b[1;36m|\u001b[0m \u001b[1;36m|\u001b[0m \u001b[1;36m|\u001b[0m \u001b[1;36m|\u001b[0m \u001b[1;36m|\u001b[0m \u001b[1;36m|\u001b[0m \u001b[1;36m|\u001b[0m \u001b[1;36m|\u001b[0m \u001b[1;36m|\u001b[0m \u001b[1;36m|\u001b[0m \u001b[1;36m|\u001b[0m \u001b[1;36m|\u001b[0m \u001b[1;36m|\u001b[0m \u001b[1;36m|\u001b[0m \u001b[1;36m|\u001b[0m \u001b[1;36m|\u001b[0m \u001b[1;36m|\u001b[0m \u001b[1;36m|\u001b[0m \u001b[1;36m|\u001b[0m \u001b[1;36m|\u001b[0m \u001b[1;36m|\u001b[0m \u001b[1;36m|\u001b[0m \u001b[1;36m|\u001b[0m \u001b[1;36m|\u001b[0m \u001b[1;36m|\u001b[0m \u001b[1;36m|\u001b[0m \u001b[1;36m|\u001b[0m \u001b[1;36m|\u001b[0m \u001b[1;36m|\u001b[0m \u001b[1;36m|\u001b[0m \u001b[1;36m|\u001b[0m \u001b[1;36m|\u001b[0m \u001b[1;36m|\u001b[0m \u001b[1;36m|\u001b[0m \u001b[1;36m|\u001b[0m \u001b[1;36m|\u001b[0m \u001b[1;36m|\u001b[0m \u001b[1;36m|\u001b[0m \u001b[1;36m|\u001b[0m \u001b[1;36m|\u001b[0m \u001b[1;36m|\u001b[0m \u001b[1;36m|\u001b[0m \u001b[1;36m|\u001b[0m \u001b[1;36m|\u001b[0m \u001b[1;36m|\u001b[0m \u001b[1;36m|\u001b[0m \u001b[1;36m]\u001b[0m\n",
      "-inf:\t\u001b[1;36m[\u001b[0m \u001b[1;36m|\u001b[0m \u001b[1;36m|\u001b[0m \u001b[1;36m|\u001b[0m \u001b[1;36m|\u001b[0m \u001b[1;36m|\u001b[0m \u001b[1;36m|\u001b[0m \u001b[1;36m|\u001b[0m \u001b[1;36m|\u001b[0m \u001b[1;36m|\u001b[0m \u001b[1;36m|\u001b[0m \u001b[1;36m|\u001b[0m \u001b[1;36m|\u001b[0m \u001b[1;36m|\u001b[0m \u001b[1;36m|\u001b[0m \u001b[1;36m|\u001b[0m \u001b[1;36m|\u001b[0m \u001b[1;36m|\u001b[0m \u001b[1;36m|\u001b[0m \u001b[1;36m|\u001b[0m \u001b[1;36m|\u001b[0m \u001b[1;36m|\u001b[0m \u001b[1;36m|\u001b[0m \u001b[1;36m|\u001b[0m \u001b[1;36m|\u001b[0m \u001b[1;36m|\u001b[0m \u001b[1;36m|\u001b[0m \u001b[1;36m|\u001b[0m \u001b[1;36m|\u001b[0m \u001b[1;36m|\u001b[0m \u001b[1;36m|\u001b[0m \u001b[1;36m|\u001b[0m \u001b[1;36m|\u001b[0m \u001b[1;36m|\u001b[0m \u001b[1;36m|\u001b[0m \u001b[1;36m|\u001b[0m \u001b[1;36m|\u001b[0m \u001b[1;36m|\u001b[0m \u001b[1;36m|\u001b[0m \u001b[1;36m|\u001b[0m \u001b[1;36m|\u001b[0m \u001b[1;36m|\u001b[0m \u001b[1;36m|\u001b[0m \u001b[1;36m|\u001b[0m \u001b[1;36m|\u001b[0m \u001b[1;36m|\u001b[0m \u001b[1;36m|\u001b[0m \u001b[1;36m|\u001b[0m \u001b[1;36m|\u001b[0m \u001b[1;36m|\u001b[0m \u001b[1;36m|\u001b[0m \u001b[1;36m|\u001b[0m \u001b[1;36m|\u001b[0m \u001b[1;36m|\u001b[0m \u001b[1;36m|\u001b[0m \u001b[1;36m|\u001b[0m \u001b[1;36m|\u001b[0m \u001b[1;36m|\u001b[0m \u001b[1;36m|\u001b[0m \u001b[1;36m|\u001b[0m \u001b[1;36m|\u001b[0m \u001b[1;36m|\u001b[0m \u001b[1;36m|\u001b[0m \u001b[1;36m|\u001b[0m \u001b[1;36m|\u001b[0m \u001b[1;36m|\u001b[0m \u001b[1;36m|\u001b[0m \u001b[1;36m|\u001b[0m \u001b[1;36m|\u001b[0m \u001b[1;36m|\u001b[0m \u001b[1;36m|\u001b[0m \u001b[1;36m|\u001b[0m \u001b[1;36m|\u001b[0m \u001b[1;36m|\u001b[0m \u001b[1;36m|\u001b[0m \u001b[1;36m|\u001b[0m \u001b[1;36m|\u001b[0m \u001b[1;36m|\u001b[0m \u001b[1;36m|\u001b[0m \u001b[1;36m|\u001b[0m \u001b[1;36m|\u001b[0m \u001b[1;36m|\u001b[0m \u001b[1;36m|\u001b[0m \u001b[1;36m|\u001b[0m \u001b[1;36m|\u001b[0m \u001b[1;36m|\u001b[0m \u001b[1;36m|\u001b[0m \u001b[1;36m|\u001b[0m \u001b[1;36m|\u001b[0m \u001b[1;36m|\u001b[0m \u001b[1;36m|\u001b[0m \u001b[1;36m|\u001b[0m \u001b[1;36m|\u001b[0m \u001b[1;36m|\u001b[0m \u001b[1;36m|\u001b[0m \u001b[1;36m|\u001b[0m \u001b[1;36m|\u001b[0m \u001b[1;36m|\u001b[0m \u001b[1;36m|\u001b[0m \u001b[1;36m|\u001b[0m \u001b[1;36m]\u001b[0m\n",
      "-inf:\t\u001b[1;36m[\u001b[0m \u001b[1;36m|\u001b[0m \u001b[1;36m|\u001b[0m \u001b[1;36m|\u001b[0m \u001b[1;36m|\u001b[0m \u001b[1;36m|\u001b[0m \u001b[1;36m|\u001b[0m \u001b[1;36m|\u001b[0m \u001b[1;36m|\u001b[0m \u001b[1;36m|\u001b[0m \u001b[1;36m|\u001b[0m \u001b[1;36m|\u001b[0m \u001b[1;36m|\u001b[0m \u001b[1;36m|\u001b[0m \u001b[1;36m|\u001b[0m \u001b[1;36m|\u001b[0m \u001b[1;36m|\u001b[0m \u001b[1;36m|\u001b[0m \u001b[1;36m|\u001b[0m \u001b[1;36m|\u001b[0m \u001b[1;36m|\u001b[0m \u001b[1;36m|\u001b[0m \u001b[1;36m|\u001b[0m \u001b[1;36m|\u001b[0m \u001b[1;36m|\u001b[0m \u001b[1;36m|\u001b[0m \u001b[1;36m|\u001b[0m \u001b[1;36m|\u001b[0m \u001b[1;36m|\u001b[0m \u001b[1;36m|\u001b[0m \u001b[1;36m|\u001b[0m \u001b[1;36m|\u001b[0m \u001b[1;36m|\u001b[0m \u001b[1;36m|\u001b[0m \u001b[1;36m|\u001b[0m \u001b[1;36m|\u001b[0m \u001b[1;36m|\u001b[0m \u001b[1;36m|\u001b[0m \u001b[1;36m|\u001b[0m \u001b[1;36m|\u001b[0m \u001b[1;36m|\u001b[0m \u001b[1;36m|\u001b[0m \u001b[1;36m|\u001b[0m \u001b[1;36m|\u001b[0m \u001b[1;36m|\u001b[0m \u001b[1;36m|\u001b[0m \u001b[1;36m|\u001b[0m \u001b[1;36m|\u001b[0m \u001b[1;36m|\u001b[0m \u001b[1;36m|\u001b[0m \u001b[1;36m|\u001b[0m \u001b[1;36m|\u001b[0m \u001b[1;36m|\u001b[0m \u001b[1;36m|\u001b[0m \u001b[1;36m|\u001b[0m \u001b[1;36m|\u001b[0m \u001b[1;36m|\u001b[0m \u001b[1;36m|\u001b[0m \u001b[1;36m|\u001b[0m \u001b[1;36m|\u001b[0m \u001b[1;36m|\u001b[0m \u001b[1;36m|\u001b[0m \u001b[1;36m|\u001b[0m \u001b[1;36m|\u001b[0m \u001b[1;36m|\u001b[0m \u001b[1;36m|\u001b[0m \u001b[1;36m|\u001b[0m \u001b[1;36m|\u001b[0m \u001b[1;36m|\u001b[0m \u001b[1;36m|\u001b[0m \u001b[1;36m|\u001b[0m \u001b[1;36m|\u001b[0m \u001b[1;36m|\u001b[0m \u001b[1;36m|\u001b[0m \u001b[1;36m|\u001b[0m \u001b[1;36m|\u001b[0m \u001b[1;36m|\u001b[0m \u001b[1;36m|\u001b[0m \u001b[1;36m|\u001b[0m \u001b[1;36m|\u001b[0m \u001b[1;36m|\u001b[0m \u001b[1;36m|\u001b[0m \u001b[1;36m|\u001b[0m \u001b[1;36m|\u001b[0m \u001b[1;36m|\u001b[0m \u001b[1;36m|\u001b[0m \u001b[1;36m|\u001b[0m \u001b[1;36m|\u001b[0m \u001b[1;36m|\u001b[0m \u001b[1;36m|\u001b[0m \u001b[1;36m|\u001b[0m \u001b[1;36m|\u001b[0m \u001b[1;36m|\u001b[0m \u001b[1;36m|\u001b[0m \u001b[1;36m|\u001b[0m \u001b[1;36m|\u001b[0m \u001b[1;36m|\u001b[0m \u001b[1;36m|\u001b[0m \u001b[1;36m|\u001b[0m \u001b[1;36m|\u001b[0m \u001b[1;36m]\u001b[0m\n",
      "-inf:\t\u001b[1;36m[\u001b[0m \u001b[1;36m|\u001b[0m \u001b[1;36m|\u001b[0m \u001b[1;36m|\u001b[0m \u001b[1;36m|\u001b[0m \u001b[1;36m|\u001b[0m \u001b[1;36m|\u001b[0m \u001b[1;36m|\u001b[0m \u001b[1;36m|\u001b[0m \u001b[1;36m|\u001b[0m \u001b[1;36m|\u001b[0m \u001b[1;36m|\u001b[0m \u001b[1;36m|\u001b[0m \u001b[1;36m|\u001b[0m \u001b[1;36m|\u001b[0m \u001b[1;36m|\u001b[0m \u001b[1;36m|\u001b[0m \u001b[1;36m|\u001b[0m \u001b[1;36m|\u001b[0m \u001b[1;36m|\u001b[0m \u001b[1;36m|\u001b[0m \u001b[1;36m|\u001b[0m \u001b[1;36m|\u001b[0m \u001b[1;36m|\u001b[0m \u001b[1;36m|\u001b[0m \u001b[1;36m|\u001b[0m \u001b[1;36m|\u001b[0m \u001b[1;36m|\u001b[0m \u001b[1;36m|\u001b[0m \u001b[1;36m|\u001b[0m \u001b[1;36m|\u001b[0m \u001b[1;36m|\u001b[0m \u001b[1;36m|\u001b[0m \u001b[1;36m|\u001b[0m \u001b[1;36m|\u001b[0m \u001b[1;36m|\u001b[0m \u001b[1;36m|\u001b[0m \u001b[1;36m|\u001b[0m \u001b[1;36m|\u001b[0m \u001b[1;36m|\u001b[0m \u001b[1;36m|\u001b[0m \u001b[1;36m|\u001b[0m \u001b[1;36m|\u001b[0m \u001b[1;36m|\u001b[0m \u001b[1;36m|\u001b[0m \u001b[1;36m|\u001b[0m \u001b[1;36m|\u001b[0m \u001b[1;36m|\u001b[0m \u001b[1;36m|\u001b[0m \u001b[1;36m|\u001b[0m \u001b[1;36m|\u001b[0m \u001b[1;36m|\u001b[0m \u001b[1;36m|\u001b[0m \u001b[1;36m|\u001b[0m \u001b[1;36m|\u001b[0m \u001b[1;36m|\u001b[0m \u001b[1;36m|\u001b[0m \u001b[1;36m|\u001b[0m \u001b[1;36m|\u001b[0m \u001b[1;36m|\u001b[0m \u001b[1;36m|\u001b[0m \u001b[1;36m|\u001b[0m \u001b[1;36m|\u001b[0m \u001b[1;36m|\u001b[0m \u001b[1;36m|\u001b[0m \u001b[1;36m|\u001b[0m \u001b[1;36m|\u001b[0m \u001b[1;36m|\u001b[0m \u001b[1;36m|\u001b[0m \u001b[1;36m|\u001b[0m \u001b[1;36m|\u001b[0m \u001b[1;36m|\u001b[0m \u001b[1;36m|\u001b[0m \u001b[1;36m|\u001b[0m \u001b[1;36m|\u001b[0m \u001b[1;36m|\u001b[0m \u001b[1;36m|\u001b[0m \u001b[1;36m|\u001b[0m \u001b[1;36m|\u001b[0m \u001b[1;36m|\u001b[0m \u001b[1;36m|\u001b[0m \u001b[1;36m|\u001b[0m \u001b[1;36m|\u001b[0m \u001b[1;36m|\u001b[0m \u001b[1;36m|\u001b[0m \u001b[1;36m|\u001b[0m \u001b[1;36m|\u001b[0m \u001b[1;36m|\u001b[0m \u001b[1;36m|\u001b[0m \u001b[1;36m|\u001b[0m \u001b[1;36m|\u001b[0m \u001b[1;36m|\u001b[0m \u001b[1;36m|\u001b[0m \u001b[1;36m|\u001b[0m \u001b[1;36m|\u001b[0m \u001b[1;36m|\u001b[0m \u001b[1;36m|\u001b[0m \u001b[1;36m|\u001b[0m \u001b[1;36m|\u001b[0m \u001b[1;36m|\u001b[0m \u001b[1;36m]\u001b[0m\n"
     ]
    }
   ],
   "source": [
    "char_posterior.show()"
   ]
  },
  {
   "cell_type": "code",
   "execution_count": 22,
   "id": "a7d1f5f9-6921-41c0-b057-dce13b16a1df",
   "metadata": {},
   "outputs": [
    {
     "name": "stdout",
     "output_type": "stream",
     "text": [
      "-29.17:\t\u001b[1;36m[\u001b[0m Tim\u001b[1;36m|\u001b[0m V\u001b[1;36m|\u001b[0mie\u001b[1;36m|\u001b[0mira\u001b[1;36m|\u001b[0m.\u001b[1;36m|\u001b[0m▪\u001b[1;36m]\u001b[0m\n",
      "-29.17:\t\u001b[1;36m[\u001b[0m Tim\u001b[1;36m|\u001b[0m V\u001b[1;36m|\u001b[0mie\u001b[1;36m|\u001b[0mira\u001b[1;36m|\u001b[0m.\u001b[1;36m|\u001b[0m▪\u001b[1;36m]\u001b[0m\n",
      "-39.91:\t\u001b[1;36m[\u001b[0m Tim\u001b[1;36m|\u001b[0m V\u001b[1;36m|\u001b[0mie\u001b[1;36m|\u001b[0mi\u001b[1;36m|\u001b[0mra\u001b[1;36m|\u001b[0m.\u001b[1;36m|\u001b[0m▪\u001b[1;36m]\u001b[0m\n",
      "-42.58:\t\u001b[1;36m[\u001b[0m T\u001b[1;36m|\u001b[0mim\u001b[1;36m|\u001b[0mothy\u001b[1;36m|\u001b[0m V\u001b[1;36m|\u001b[0mie\u001b[1;36m|\u001b[0mira\u001b[1;36m|\u001b[0m.\u001b[1;36m|\u001b[0m▪\u001b[1;36m]\u001b[0m\n",
      "-42.58:\t\u001b[1;36m[\u001b[0m T\u001b[1;36m|\u001b[0mim\u001b[1;36m|\u001b[0mothy\u001b[1;36m|\u001b[0m V\u001b[1;36m|\u001b[0mie\u001b[1;36m|\u001b[0mira\u001b[1;36m|\u001b[0m.\u001b[1;36m|\u001b[0m▪\u001b[1;36m]\u001b[0m\n",
      "-42.58:\t\u001b[1;36m[\u001b[0m T\u001b[1;36m|\u001b[0mim\u001b[1;36m|\u001b[0mothy\u001b[1;36m|\u001b[0m V\u001b[1;36m|\u001b[0mie\u001b[1;36m|\u001b[0mira\u001b[1;36m|\u001b[0m.\u001b[1;36m|\u001b[0m▪\u001b[1;36m]\u001b[0m\n",
      "-53.68:\t\u001b[1;36m[\u001b[0m Tim\u001b[1;36m|\u001b[0mo\u001b[1;36m|\u001b[0mth\u001b[1;36m|\u001b[0my\u001b[1;36m|\u001b[0m V\u001b[1;36m|\u001b[0mie\u001b[1;36m|\u001b[0mira\u001b[1;36m|\u001b[0m.\u001b[1;36m|\u001b[0m▪\u001b[1;36m]\u001b[0m\n",
      "-53.68:\t\u001b[1;36m[\u001b[0m Tim\u001b[1;36m|\u001b[0mo\u001b[1;36m|\u001b[0mth\u001b[1;36m|\u001b[0my\u001b[1;36m|\u001b[0m V\u001b[1;36m|\u001b[0mie\u001b[1;36m|\u001b[0mira\u001b[1;36m|\u001b[0m.\u001b[1;36m|\u001b[0m▪\u001b[1;36m]\u001b[0m\n",
      "-53.68:\t\u001b[1;36m[\u001b[0m Tim\u001b[1;36m|\u001b[0mo\u001b[1;36m|\u001b[0mth\u001b[1;36m|\u001b[0my\u001b[1;36m|\u001b[0m V\u001b[1;36m|\u001b[0mie\u001b[1;36m|\u001b[0mira\u001b[1;36m|\u001b[0m.\u001b[1;36m|\u001b[0m▪\u001b[1;36m]\u001b[0m\n",
      "-54.36:\t\u001b[1;36m[\u001b[0m Tim\u001b[1;36m|\u001b[0mot\u001b[1;36m|\u001b[0mh\u001b[1;36m|\u001b[0my\u001b[1;36m|\u001b[0m V\u001b[1;36m|\u001b[0mie\u001b[1;36m|\u001b[0mira\u001b[1;36m|\u001b[0m.\u001b[1;36m|\u001b[0m▪\u001b[1;36m]\u001b[0m\n",
      "-55.94:\t\u001b[1;36m[\u001b[0m Tim\u001b[1;36m|\u001b[0m F\u001b[1;36m|\u001b[0mabb\u001b[1;36m|\u001b[0mri\u001b[1;36m|\u001b[0m \u001b[1;36m|\u001b[0mV\u001b[1;36m|\u001b[0mie\u001b[1;36m|\u001b[0mira\u001b[1;36m|\u001b[0m.\u001b[1;36m|\u001b[0m▪\u001b[1;36m]\u001b[0m\n",
      "-56.06:\t\u001b[1;36m[\u001b[0m T\u001b[1;36m|\u001b[0mimo\u001b[1;36m|\u001b[0mth\u001b[1;36m|\u001b[0my\u001b[1;36m|\u001b[0m V\u001b[1;36m|\u001b[0mie\u001b[1;36m|\u001b[0mira\u001b[1;36m|\u001b[0m.\u001b[1;36m|\u001b[0m▪\u001b[1;36m]\u001b[0m\n",
      "-56.06:\t\u001b[1;36m[\u001b[0m T\u001b[1;36m|\u001b[0mimo\u001b[1;36m|\u001b[0mth\u001b[1;36m|\u001b[0my\u001b[1;36m|\u001b[0m V\u001b[1;36m|\u001b[0mie\u001b[1;36m|\u001b[0mira\u001b[1;36m|\u001b[0m.\u001b[1;36m|\u001b[0m▪\u001b[1;36m]\u001b[0m\n",
      "-56.84:\t\u001b[1;36m[\u001b[0m Tim\u001b[1;36m|\u001b[0mo\u001b[1;36m|\u001b[0mthy\u001b[1;36m|\u001b[0m \u001b[1;36m|\u001b[0mV\u001b[1;36m|\u001b[0mie\u001b[1;36m|\u001b[0mira\u001b[1;36m|\u001b[0m.\u001b[1;36m|\u001b[0m▪\u001b[1;36m]\u001b[0m\n",
      "-56.85:\t\u001b[1;36m[\u001b[0m Timothy\u001b[1;36m|\u001b[0m F\u001b[1;36m|\u001b[0mabb\u001b[1;36m|\u001b[0mri\u001b[1;36m|\u001b[0m \u001b[1;36m|\u001b[0mV\u001b[1;36m|\u001b[0mie\u001b[1;36m|\u001b[0mira\u001b[1;36m|\u001b[0m.\u001b[1;36m|\u001b[0m▪\u001b[1;36m]\u001b[0m\n",
      "-56.85:\t\u001b[1;36m[\u001b[0m Timothy\u001b[1;36m|\u001b[0m F\u001b[1;36m|\u001b[0mabb\u001b[1;36m|\u001b[0mri\u001b[1;36m|\u001b[0m \u001b[1;36m|\u001b[0mV\u001b[1;36m|\u001b[0mie\u001b[1;36m|\u001b[0mira\u001b[1;36m|\u001b[0m.\u001b[1;36m|\u001b[0m▪\u001b[1;36m]\u001b[0m\n",
      "-56.85:\t\u001b[1;36m[\u001b[0m Timothy\u001b[1;36m|\u001b[0m F\u001b[1;36m|\u001b[0mabb\u001b[1;36m|\u001b[0mri\u001b[1;36m|\u001b[0m \u001b[1;36m|\u001b[0mV\u001b[1;36m|\u001b[0mie\u001b[1;36m|\u001b[0mira\u001b[1;36m|\u001b[0m.\u001b[1;36m|\u001b[0m▪\u001b[1;36m]\u001b[0m\n",
      "-59.24:\t\u001b[1;36m[\u001b[0m T\u001b[1;36m|\u001b[0mimo\u001b[1;36m|\u001b[0mthy\u001b[1;36m|\u001b[0m V\u001b[1;36m|\u001b[0mie\u001b[1;36m|\u001b[0mi\u001b[1;36m|\u001b[0mra\u001b[1;36m|\u001b[0m.\u001b[1;36m|\u001b[0m▪\u001b[1;36m]\u001b[0m\n",
      "-60.32:\t\u001b[1;36m[\u001b[0m Tim\u001b[1;36m|\u001b[0mo\u001b[1;36m|\u001b[0mth\u001b[1;36m|\u001b[0my\u001b[1;36m|\u001b[0m V\u001b[1;36m|\u001b[0mie\u001b[1;36m|\u001b[0mir\u001b[1;36m|\u001b[0ma\u001b[1;36m|\u001b[0m.\u001b[1;36m|\u001b[0m▪\u001b[1;36m]\u001b[0m\n",
      "-61.15:\t\u001b[1;36m[\u001b[0m Tim\u001b[1;36m|\u001b[0mothy\u001b[1;36m|\u001b[0m F\u001b[1;36m|\u001b[0mabb\u001b[1;36m|\u001b[0mri\u001b[1;36m|\u001b[0m \u001b[1;36m|\u001b[0mV\u001b[1;36m|\u001b[0mie\u001b[1;36m|\u001b[0mira\u001b[1;36m|\u001b[0m.\u001b[1;36m|\u001b[0m▪\u001b[1;36m]\u001b[0m\n",
      "-63.33:\t\u001b[1;36m[\u001b[0m Tim\u001b[1;36m|\u001b[0mo\u001b[1;36m|\u001b[0mth\u001b[1;36m|\u001b[0my\u001b[1;36m|\u001b[0m \u001b[1;36m|\u001b[0mV\u001b[1;36m|\u001b[0mie\u001b[1;36m|\u001b[0mira\u001b[1;36m|\u001b[0m.\u001b[1;36m|\u001b[0m▪\u001b[1;36m]\u001b[0m\n",
      "-63.89:\t\u001b[1;36m[\u001b[0m T\u001b[1;36m|\u001b[0mimo\u001b[1;36m|\u001b[0mthy\u001b[1;36m|\u001b[0m V\u001b[1;36m|\u001b[0mi\u001b[1;36m|\u001b[0me\u001b[1;36m|\u001b[0mira\u001b[1;36m|\u001b[0m.\u001b[1;36m|\u001b[0m▪\u001b[1;36m]\u001b[0m\n",
      "-64.03:\t\u001b[1;36m[\u001b[0m T\u001b[1;36m|\u001b[0mi\u001b[1;36m|\u001b[0mm\u001b[1;36m|\u001b[0m V\u001b[1;36m|\u001b[0mi\u001b[1;36m|\u001b[0me\u001b[1;36m|\u001b[0mira\u001b[1;36m|\u001b[0m.\u001b[1;36m|\u001b[0m▪\u001b[1;36m]\u001b[0m\n",
      "-64.15:\t\u001b[1;36m[\u001b[0m T\u001b[1;36m|\u001b[0mim\u001b[1;36m|\u001b[0mothy\u001b[1;36m|\u001b[0m V\u001b[1;36m|\u001b[0mi\u001b[1;36m|\u001b[0me\u001b[1;36m|\u001b[0mir\u001b[1;36m|\u001b[0ma\u001b[1;36m|\u001b[0m.\u001b[1;36m|\u001b[0m▪\u001b[1;36m]\u001b[0m\n",
      "-65.41:\t\u001b[1;36m[\u001b[0m Tim\u001b[1;36m|\u001b[0mo\u001b[1;36m|\u001b[0mth\u001b[1;36m|\u001b[0my\u001b[1;36m|\u001b[0m Vi\u001b[1;36m|\u001b[0me\u001b[1;36m|\u001b[0mir\u001b[1;36m|\u001b[0ma\u001b[1;36m|\u001b[0m.\u001b[1;36m|\u001b[0m▪\u001b[1;36m]\u001b[0m\n",
      "-65.60:\t\u001b[1;36m[\u001b[0m T\u001b[1;36m|\u001b[0mi\u001b[1;36m|\u001b[0mmo\u001b[1;36m|\u001b[0mth\u001b[1;36m|\u001b[0my\u001b[1;36m|\u001b[0m V\u001b[1;36m|\u001b[0mie\u001b[1;36m|\u001b[0mira\u001b[1;36m|\u001b[0m.\u001b[1;36m|\u001b[0m▪\u001b[1;36m]\u001b[0m\n",
      "-67.04:\t\u001b[1;36m[\u001b[0m Tim\u001b[1;36m|\u001b[0mo\u001b[1;36m|\u001b[0mt\u001b[1;36m|\u001b[0mh\u001b[1;36m|\u001b[0my\u001b[1;36m|\u001b[0m V\u001b[1;36m|\u001b[0mie\u001b[1;36m|\u001b[0mira\u001b[1;36m|\u001b[0m.\u001b[1;36m|\u001b[0m▪\u001b[1;36m]\u001b[0m\n",
      "-67.53:\t\u001b[1;36m[\u001b[0m Tim\u001b[1;36m|\u001b[0moth\u001b[1;36m|\u001b[0my\u001b[1;36m|\u001b[0m F\u001b[1;36m|\u001b[0mabb\u001b[1;36m|\u001b[0mri\u001b[1;36m|\u001b[0m \u001b[1;36m|\u001b[0mV\u001b[1;36m|\u001b[0mie\u001b[1;36m|\u001b[0mira\u001b[1;36m|\u001b[0m.\u001b[1;36m|\u001b[0m▪\u001b[1;36m]\u001b[0m\n",
      "-69.58:\t\u001b[1;36m[\u001b[0m T\u001b[1;36m|\u001b[0mi\u001b[1;36m|\u001b[0mm\u001b[1;36m|\u001b[0m V\u001b[1;36m|\u001b[0mie\u001b[1;36m|\u001b[0mi\u001b[1;36m|\u001b[0mr\u001b[1;36m|\u001b[0ma\u001b[1;36m|\u001b[0m.\u001b[1;36m|\u001b[0m▪\u001b[1;36m]\u001b[0m\n",
      "-69.76:\t\u001b[1;36m[\u001b[0m T\u001b[1;36m|\u001b[0mim\u001b[1;36m|\u001b[0mothy\u001b[1;36m|\u001b[0m F\u001b[1;36m|\u001b[0mabb\u001b[1;36m|\u001b[0mri\u001b[1;36m|\u001b[0m \u001b[1;36m|\u001b[0mV\u001b[1;36m|\u001b[0mie\u001b[1;36m|\u001b[0mira\u001b[1;36m|\u001b[0m.\u001b[1;36m|\u001b[0m▪\u001b[1;36m]\u001b[0m\n",
      "-69.76:\t\u001b[1;36m[\u001b[0m T\u001b[1;36m|\u001b[0mim\u001b[1;36m|\u001b[0mothy\u001b[1;36m|\u001b[0m F\u001b[1;36m|\u001b[0mabb\u001b[1;36m|\u001b[0mri\u001b[1;36m|\u001b[0m \u001b[1;36m|\u001b[0mV\u001b[1;36m|\u001b[0mie\u001b[1;36m|\u001b[0mira\u001b[1;36m|\u001b[0m.\u001b[1;36m|\u001b[0m▪\u001b[1;36m]\u001b[0m\n",
      "-69.76:\t\u001b[1;36m[\u001b[0m T\u001b[1;36m|\u001b[0mim\u001b[1;36m|\u001b[0mothy\u001b[1;36m|\u001b[0m F\u001b[1;36m|\u001b[0mabb\u001b[1;36m|\u001b[0mri\u001b[1;36m|\u001b[0m \u001b[1;36m|\u001b[0mV\u001b[1;36m|\u001b[0mie\u001b[1;36m|\u001b[0mira\u001b[1;36m|\u001b[0m.\u001b[1;36m|\u001b[0m▪\u001b[1;36m]\u001b[0m\n",
      "-69.76:\t\u001b[1;36m[\u001b[0m T\u001b[1;36m|\u001b[0mim\u001b[1;36m|\u001b[0mothy\u001b[1;36m|\u001b[0m F\u001b[1;36m|\u001b[0mabb\u001b[1;36m|\u001b[0mri\u001b[1;36m|\u001b[0m \u001b[1;36m|\u001b[0mV\u001b[1;36m|\u001b[0mie\u001b[1;36m|\u001b[0mira\u001b[1;36m|\u001b[0m.\u001b[1;36m|\u001b[0m▪\u001b[1;36m]\u001b[0m\n",
      "-69.88:\t\u001b[1;36m[\u001b[0m T\u001b[1;36m|\u001b[0mimo\u001b[1;36m|\u001b[0mt\u001b[1;36m|\u001b[0mh\u001b[1;36m|\u001b[0my\u001b[1;36m|\u001b[0m V\u001b[1;36m|\u001b[0mie\u001b[1;36m|\u001b[0mira\u001b[1;36m|\u001b[0m.\u001b[1;36m|\u001b[0m▪\u001b[1;36m]\u001b[0m\n",
      "-69.88:\t\u001b[1;36m[\u001b[0m T\u001b[1;36m|\u001b[0mimo\u001b[1;36m|\u001b[0mt\u001b[1;36m|\u001b[0mh\u001b[1;36m|\u001b[0my\u001b[1;36m|\u001b[0m V\u001b[1;36m|\u001b[0mie\u001b[1;36m|\u001b[0mira\u001b[1;36m|\u001b[0m.\u001b[1;36m|\u001b[0m▪\u001b[1;36m]\u001b[0m\n",
      "-70.68:\t\u001b[1;36m[\u001b[0m T\u001b[1;36m|\u001b[0mim\u001b[1;36m|\u001b[0m F\u001b[1;36m|\u001b[0mabb\u001b[1;36m|\u001b[0mri\u001b[1;36m|\u001b[0m \u001b[1;36m|\u001b[0mV\u001b[1;36m|\u001b[0mie\u001b[1;36m|\u001b[0mir\u001b[1;36m|\u001b[0ma\u001b[1;36m|\u001b[0m.\u001b[1;36m|\u001b[0m▪\u001b[1;36m]\u001b[0m\n",
      "-71.28:\t\u001b[1;36m[\u001b[0m T\u001b[1;36m|\u001b[0mimo\u001b[1;36m|\u001b[0mt\u001b[1;36m|\u001b[0mhy\u001b[1;36m|\u001b[0m V\u001b[1;36m|\u001b[0mie\u001b[1;36m|\u001b[0mi\u001b[1;36m|\u001b[0mra\u001b[1;36m|\u001b[0m.\u001b[1;36m|\u001b[0m▪\u001b[1;36m]\u001b[0m\n",
      "-71.33:\t\u001b[1;36m[\u001b[0m Tim\u001b[1;36m|\u001b[0mo\u001b[1;36m|\u001b[0mt\u001b[1;36m|\u001b[0mhy\u001b[1;36m|\u001b[0m V\u001b[1;36m|\u001b[0mi\u001b[1;36m|\u001b[0me\u001b[1;36m|\u001b[0mira\u001b[1;36m|\u001b[0m.\u001b[1;36m|\u001b[0m▪\u001b[1;36m]\u001b[0m\n",
      "-71.89:\t\u001b[1;36m[\u001b[0m Tim\u001b[1;36m|\u001b[0mo\u001b[1;36m|\u001b[0mthy\u001b[1;36m|\u001b[0m F\u001b[1;36m|\u001b[0mab\u001b[1;36m|\u001b[0mb\u001b[1;36m|\u001b[0mri\u001b[1;36m|\u001b[0m V\u001b[1;36m|\u001b[0mie\u001b[1;36m|\u001b[0mira\u001b[1;36m|\u001b[0m.\u001b[1;36m|\u001b[0m▪\u001b[1;36m]\u001b[0m\n",
      "-73.25:\t\u001b[1;36m[\u001b[0m T\u001b[1;36m|\u001b[0mi\u001b[1;36m|\u001b[0mm\u001b[1;36m|\u001b[0mot\u001b[1;36m|\u001b[0mh\u001b[1;36m|\u001b[0my\u001b[1;36m|\u001b[0m V\u001b[1;36m|\u001b[0mie\u001b[1;36m|\u001b[0mira\u001b[1;36m|\u001b[0m.\u001b[1;36m|\u001b[0m▪\u001b[1;36m]\u001b[0m\n",
      "-74.16:\t\u001b[1;36m[\u001b[0m Ti\u001b[1;36m|\u001b[0mm\u001b[1;36m|\u001b[0m F\u001b[1;36m|\u001b[0mabb\u001b[1;36m|\u001b[0mri\u001b[1;36m|\u001b[0m \u001b[1;36m|\u001b[0mVi\u001b[1;36m|\u001b[0me\u001b[1;36m|\u001b[0mira\u001b[1;36m|\u001b[0m.\u001b[1;36m|\u001b[0m▪\u001b[1;36m]\u001b[0m\n",
      "-74.49:\t\u001b[1;36m[\u001b[0m T\u001b[1;36m|\u001b[0mi\u001b[1;36m|\u001b[0mmo\u001b[1;36m|\u001b[0mt\u001b[1;36m|\u001b[0mhy\u001b[1;36m|\u001b[0m Vi\u001b[1;36m|\u001b[0me\u001b[1;36m|\u001b[0mira\u001b[1;36m|\u001b[0m.\u001b[1;36m|\u001b[0m▪\u001b[1;36m]\u001b[0m\n",
      "-75.76:\t\u001b[1;36m[\u001b[0m T\u001b[1;36m|\u001b[0mi\u001b[1;36m|\u001b[0mmo\u001b[1;36m|\u001b[0mth\u001b[1;36m|\u001b[0my\u001b[1;36m|\u001b[0m \u001b[1;36m|\u001b[0mV\u001b[1;36m|\u001b[0mie\u001b[1;36m|\u001b[0mira\u001b[1;36m|\u001b[0m.\u001b[1;36m|\u001b[0m▪\u001b[1;36m]\u001b[0m\n",
      "-76.24:\t\u001b[1;36m[\u001b[0m T\u001b[1;36m|\u001b[0mimo\u001b[1;36m|\u001b[0mthy\u001b[1;36m|\u001b[0m F\u001b[1;36m|\u001b[0mabb\u001b[1;36m|\u001b[0mri\u001b[1;36m|\u001b[0m \u001b[1;36m|\u001b[0mV\u001b[1;36m|\u001b[0mie\u001b[1;36m|\u001b[0mira\u001b[1;36m|\u001b[0m.\u001b[1;36m|\u001b[0m▪\u001b[1;36m]\u001b[0m\n",
      "-76.24:\t\u001b[1;36m[\u001b[0m T\u001b[1;36m|\u001b[0mimo\u001b[1;36m|\u001b[0mthy\u001b[1;36m|\u001b[0m F\u001b[1;36m|\u001b[0mabb\u001b[1;36m|\u001b[0mri\u001b[1;36m|\u001b[0m \u001b[1;36m|\u001b[0mV\u001b[1;36m|\u001b[0mie\u001b[1;36m|\u001b[0mira\u001b[1;36m|\u001b[0m.\u001b[1;36m|\u001b[0m▪\u001b[1;36m]\u001b[0m\n",
      "-76.31:\t\u001b[1;36m[\u001b[0m Timothy\u001b[1;36m|\u001b[0m F\u001b[1;36m|\u001b[0mabb\u001b[1;36m|\u001b[0mr\u001b[1;36m|\u001b[0mi\u001b[1;36m|\u001b[0m \u001b[1;36m|\u001b[0mVi\u001b[1;36m|\u001b[0me\u001b[1;36m|\u001b[0mira\u001b[1;36m|\u001b[0m.\u001b[1;36m|\u001b[0m▪\u001b[1;36m]\u001b[0m\n",
      "-76.51:\t\u001b[1;36m[\u001b[0m T\u001b[1;36m|\u001b[0mim\u001b[1;36m|\u001b[0moth\u001b[1;36m|\u001b[0my\u001b[1;36m|\u001b[0m F\u001b[1;36m|\u001b[0mabb\u001b[1;36m|\u001b[0mri\u001b[1;36m|\u001b[0m \u001b[1;36m|\u001b[0mV\u001b[1;36m|\u001b[0mie\u001b[1;36m|\u001b[0mira\u001b[1;36m|\u001b[0m.\u001b[1;36m|\u001b[0m▪\u001b[1;36m]\u001b[0m\n",
      "-76.56:\t\u001b[1;36m[\u001b[0m T\u001b[1;36m|\u001b[0mim\u001b[1;36m|\u001b[0m \u001b[1;36m|\u001b[0mF\u001b[1;36m|\u001b[0mab\u001b[1;36m|\u001b[0mb\u001b[1;36m|\u001b[0mri\u001b[1;36m|\u001b[0m \u001b[1;36m|\u001b[0mV\u001b[1;36m|\u001b[0mie\u001b[1;36m|\u001b[0mira\u001b[1;36m|\u001b[0m.\u001b[1;36m|\u001b[0m▪\u001b[1;36m]\u001b[0m\n",
      "-77.09:\t\u001b[1;36m[\u001b[0m T\u001b[1;36m|\u001b[0mi\u001b[1;36m|\u001b[0mm\u001b[1;36m|\u001b[0m F\u001b[1;36m|\u001b[0mabb\u001b[1;36m|\u001b[0mri\u001b[1;36m|\u001b[0m \u001b[1;36m|\u001b[0mV\u001b[1;36m|\u001b[0mie\u001b[1;36m|\u001b[0mira\u001b[1;36m|\u001b[0m.\u001b[1;36m|\u001b[0m▪\u001b[1;36m]\u001b[0m\n",
      "-77.48:\t\u001b[1;36m[\u001b[0m Tim\u001b[1;36m|\u001b[0mo\u001b[1;36m|\u001b[0mth\u001b[1;36m|\u001b[0my\u001b[1;36m|\u001b[0m \u001b[1;36m|\u001b[0mVi\u001b[1;36m|\u001b[0me\u001b[1;36m|\u001b[0mir\u001b[1;36m|\u001b[0ma\u001b[1;36m|\u001b[0m.\u001b[1;36m|\u001b[0m▪\u001b[1;36m]\u001b[0m\n",
      "-77.77:\t\u001b[1;36m[\u001b[0m Tim\u001b[1;36m|\u001b[0mo\u001b[1;36m|\u001b[0mt\u001b[1;36m|\u001b[0mh\u001b[1;36m|\u001b[0my\u001b[1;36m|\u001b[0m V\u001b[1;36m|\u001b[0mie\u001b[1;36m|\u001b[0mi\u001b[1;36m|\u001b[0mra\u001b[1;36m|\u001b[0m.\u001b[1;36m|\u001b[0m▪\u001b[1;36m]\u001b[0m\n",
      "-77.80:\t\u001b[1;36m[\u001b[0m Tim\u001b[1;36m|\u001b[0mo\u001b[1;36m|\u001b[0mth\u001b[1;36m|\u001b[0my\u001b[1;36m|\u001b[0m F\u001b[1;36m|\u001b[0mab\u001b[1;36m|\u001b[0mb\u001b[1;36m|\u001b[0mri\u001b[1;36m|\u001b[0m V\u001b[1;36m|\u001b[0mie\u001b[1;36m|\u001b[0mira\u001b[1;36m|\u001b[0m.\u001b[1;36m|\u001b[0m▪\u001b[1;36m]\u001b[0m\n",
      "-79.25:\t\u001b[1;36m[\u001b[0m T\u001b[1;36m|\u001b[0mi\u001b[1;36m|\u001b[0mmot\u001b[1;36m|\u001b[0mh\u001b[1;36m|\u001b[0my\u001b[1;36m|\u001b[0m V\u001b[1;36m|\u001b[0mi\u001b[1;36m|\u001b[0me\u001b[1;36m|\u001b[0mira\u001b[1;36m|\u001b[0m.\u001b[1;36m|\u001b[0m▪\u001b[1;36m]\u001b[0m\n",
      "-79.92:\t\u001b[1;36m[\u001b[0m Tim\u001b[1;36m|\u001b[0m F\u001b[1;36m|\u001b[0mabb\u001b[1;36m|\u001b[0mri\u001b[1;36m|\u001b[0m \u001b[1;36m|\u001b[0mV\u001b[1;36m|\u001b[0mi\u001b[1;36m|\u001b[0me\u001b[1;36m|\u001b[0mi\u001b[1;36m|\u001b[0mra\u001b[1;36m|\u001b[0m.\u001b[1;36m|\u001b[0m▪\u001b[1;36m]\u001b[0m\n",
      "-79.99:\t\u001b[1;36m[\u001b[0m T\u001b[1;36m|\u001b[0mi\u001b[1;36m|\u001b[0mm\u001b[1;36m|\u001b[0mo\u001b[1;36m|\u001b[0mth\u001b[1;36m|\u001b[0my\u001b[1;36m|\u001b[0m V\u001b[1;36m|\u001b[0mie\u001b[1;36m|\u001b[0mir\u001b[1;36m|\u001b[0ma\u001b[1;36m|\u001b[0m.\u001b[1;36m|\u001b[0m▪\u001b[1;36m]\u001b[0m\n",
      "-80.16:\t\u001b[1;36m[\u001b[0m Tim\u001b[1;36m|\u001b[0mot\u001b[1;36m|\u001b[0mh\u001b[1;36m|\u001b[0my\u001b[1;36m|\u001b[0m F\u001b[1;36m|\u001b[0mabb\u001b[1;36m|\u001b[0mri\u001b[1;36m|\u001b[0m \u001b[1;36m|\u001b[0mV\u001b[1;36m|\u001b[0mie\u001b[1;36m|\u001b[0mira\u001b[1;36m|\u001b[0m.\u001b[1;36m|\u001b[0m▪\u001b[1;36m]\u001b[0m\n",
      "-80.18:\t\u001b[1;36m[\u001b[0m Tim\u001b[1;36m|\u001b[0mo\u001b[1;36m|\u001b[0mth\u001b[1;36m|\u001b[0my\u001b[1;36m|\u001b[0m F\u001b[1;36m|\u001b[0mabb\u001b[1;36m|\u001b[0mri\u001b[1;36m|\u001b[0m \u001b[1;36m|\u001b[0mV\u001b[1;36m|\u001b[0mie\u001b[1;36m|\u001b[0mira\u001b[1;36m|\u001b[0m.\u001b[1;36m|\u001b[0m▪\u001b[1;36m]\u001b[0m\n",
      "-80.57:\t\u001b[1;36m[\u001b[0m T\u001b[1;36m|\u001b[0mim\u001b[1;36m|\u001b[0mothy\u001b[1;36m|\u001b[0m F\u001b[1;36m|\u001b[0mab\u001b[1;36m|\u001b[0mb\u001b[1;36m|\u001b[0mri\u001b[1;36m|\u001b[0m V\u001b[1;36m|\u001b[0mi\u001b[1;36m|\u001b[0me\u001b[1;36m|\u001b[0mira\u001b[1;36m|\u001b[0m.\u001b[1;36m|\u001b[0m▪\u001b[1;36m]\u001b[0m\n",
      "-82.96:\t\u001b[1;36m[\u001b[0m T\u001b[1;36m|\u001b[0mimo\u001b[1;36m|\u001b[0mt\u001b[1;36m|\u001b[0mh\u001b[1;36m|\u001b[0my\u001b[1;36m|\u001b[0m V\u001b[1;36m|\u001b[0mi\u001b[1;36m|\u001b[0me\u001b[1;36m|\u001b[0mira\u001b[1;36m|\u001b[0m.\u001b[1;36m|\u001b[0m▪\u001b[1;36m]\u001b[0m\n",
      "-83.59:\t\u001b[1;36m[\u001b[0m T\u001b[1;36m|\u001b[0mi\u001b[1;36m|\u001b[0mm\u001b[1;36m|\u001b[0m F\u001b[1;36m|\u001b[0mabb\u001b[1;36m|\u001b[0mri\u001b[1;36m|\u001b[0m \u001b[1;36m|\u001b[0mV\u001b[1;36m|\u001b[0mie\u001b[1;36m|\u001b[0mir\u001b[1;36m|\u001b[0ma\u001b[1;36m|\u001b[0m.\u001b[1;36m|\u001b[0m▪\u001b[1;36m]\u001b[0m\n",
      "-84.20:\t\u001b[1;36m[\u001b[0m T\u001b[1;36m|\u001b[0mim\u001b[1;36m|\u001b[0m Fa\u001b[1;36m|\u001b[0mb\u001b[1;36m|\u001b[0mb\u001b[1;36m|\u001b[0mri\u001b[1;36m|\u001b[0m \u001b[1;36m|\u001b[0mV\u001b[1;36m|\u001b[0mie\u001b[1;36m|\u001b[0mira\u001b[1;36m|\u001b[0m.\u001b[1;36m|\u001b[0m▪\u001b[1;36m]\u001b[0m\n",
      "-84.28:\t\u001b[1;36m[\u001b[0m T\u001b[1;36m|\u001b[0mi\u001b[1;36m|\u001b[0mmo\u001b[1;36m|\u001b[0mt\u001b[1;36m|\u001b[0mhy\u001b[1;36m|\u001b[0m F\u001b[1;36m|\u001b[0mabb\u001b[1;36m|\u001b[0mri\u001b[1;36m|\u001b[0m V\u001b[1;36m|\u001b[0mie\u001b[1;36m|\u001b[0mira\u001b[1;36m|\u001b[0m.\u001b[1;36m|\u001b[0m▪\u001b[1;36m]\u001b[0m\n",
      "-84.34:\t\u001b[1;36m[\u001b[0m T\u001b[1;36m|\u001b[0mim\u001b[1;36m|\u001b[0mothy\u001b[1;36m|\u001b[0m F\u001b[1;36m|\u001b[0mabb\u001b[1;36m|\u001b[0mri\u001b[1;36m|\u001b[0m \u001b[1;36m|\u001b[0mV\u001b[1;36m|\u001b[0mi\u001b[1;36m|\u001b[0me\u001b[1;36m|\u001b[0mira\u001b[1;36m|\u001b[0m.\u001b[1;36m|\u001b[0m▪\u001b[1;36m]\u001b[0m\n",
      "-84.71:\t\u001b[1;36m[\u001b[0m T\u001b[1;36m|\u001b[0mim\u001b[1;36m|\u001b[0mo\u001b[1;36m|\u001b[0mth\u001b[1;36m|\u001b[0my\u001b[1;36m|\u001b[0m V\u001b[1;36m|\u001b[0mi\u001b[1;36m|\u001b[0me\u001b[1;36m|\u001b[0mi\u001b[1;36m|\u001b[0mra\u001b[1;36m|\u001b[0m.\u001b[1;36m|\u001b[0m▪\u001b[1;36m]\u001b[0m\n",
      "-85.48:\t\u001b[1;36m[\u001b[0m Tim\u001b[1;36m|\u001b[0mo\u001b[1;36m|\u001b[0mt\u001b[1;36m|\u001b[0mhy\u001b[1;36m|\u001b[0m \u001b[1;36m|\u001b[0mF\u001b[1;36m|\u001b[0mabb\u001b[1;36m|\u001b[0mri\u001b[1;36m|\u001b[0m \u001b[1;36m|\u001b[0mV\u001b[1;36m|\u001b[0mie\u001b[1;36m|\u001b[0mira\u001b[1;36m|\u001b[0m.\u001b[1;36m|\u001b[0m▪\u001b[1;36m]\u001b[0m\n",
      "-86.27:\t\u001b[1;36m[\u001b[0m Tim\u001b[1;36m|\u001b[0mo\u001b[1;36m|\u001b[0mth\u001b[1;36m|\u001b[0my\u001b[1;36m|\u001b[0m F\u001b[1;36m|\u001b[0mabb\u001b[1;36m|\u001b[0mri\u001b[1;36m|\u001b[0m V\u001b[1;36m|\u001b[0mie\u001b[1;36m|\u001b[0mi\u001b[1;36m|\u001b[0mr\u001b[1;36m|\u001b[0ma\u001b[1;36m|\u001b[0m.\u001b[1;36m|\u001b[0m▪\u001b[1;36m]\u001b[0m\n",
      "-86.56:\t\u001b[1;36m[\u001b[0m Tim\u001b[1;36m|\u001b[0m Fa\u001b[1;36m|\u001b[0mb\u001b[1;36m|\u001b[0mbr\u001b[1;36m|\u001b[0mi\u001b[1;36m|\u001b[0m \u001b[1;36m|\u001b[0mV\u001b[1;36m|\u001b[0mie\u001b[1;36m|\u001b[0mi\u001b[1;36m|\u001b[0mra\u001b[1;36m|\u001b[0m.\u001b[1;36m|\u001b[0m▪\u001b[1;36m]\u001b[0m\n",
      "-86.63:\t\u001b[1;36m[\u001b[0m T\u001b[1;36m|\u001b[0mim\u001b[1;36m|\u001b[0mothy\u001b[1;36m|\u001b[0m F\u001b[1;36m|\u001b[0mabb\u001b[1;36m|\u001b[0mri\u001b[1;36m|\u001b[0m \u001b[1;36m|\u001b[0mVi\u001b[1;36m|\u001b[0me\u001b[1;36m|\u001b[0mi\u001b[1;36m|\u001b[0mra\u001b[1;36m|\u001b[0m.\u001b[1;36m|\u001b[0m▪\u001b[1;36m]\u001b[0m\n",
      "-86.88:\t\u001b[1;36m[\u001b[0m T\u001b[1;36m|\u001b[0mim\u001b[1;36m|\u001b[0mo\u001b[1;36m|\u001b[0mt\u001b[1;36m|\u001b[0mh\u001b[1;36m|\u001b[0my\u001b[1;36m|\u001b[0m Vi\u001b[1;36m|\u001b[0me\u001b[1;36m|\u001b[0mir\u001b[1;36m|\u001b[0ma\u001b[1;36m|\u001b[0m.\u001b[1;36m|\u001b[0m▪\u001b[1;36m]\u001b[0m\n",
      "-87.88:\t\u001b[1;36m[\u001b[0m T\u001b[1;36m|\u001b[0mi\u001b[1;36m|\u001b[0mmo\u001b[1;36m|\u001b[0mthy\u001b[1;36m|\u001b[0m F\u001b[1;36m|\u001b[0mabb\u001b[1;36m|\u001b[0mri\u001b[1;36m|\u001b[0m \u001b[1;36m|\u001b[0mV\u001b[1;36m|\u001b[0mie\u001b[1;36m|\u001b[0mira\u001b[1;36m|\u001b[0m.\u001b[1;36m|\u001b[0m▪\u001b[1;36m]\u001b[0m\n",
      "-88.63:\t\u001b[1;36m[\u001b[0m T\u001b[1;36m|\u001b[0mim\u001b[1;36m|\u001b[0mothy\u001b[1;36m|\u001b[0m \u001b[1;36m|\u001b[0mFab\u001b[1;36m|\u001b[0mb\u001b[1;36m|\u001b[0mr\u001b[1;36m|\u001b[0mi\u001b[1;36m|\u001b[0m \u001b[1;36m|\u001b[0mV\u001b[1;36m|\u001b[0mie\u001b[1;36m|\u001b[0mira\u001b[1;36m|\u001b[0m.\u001b[1;36m|\u001b[0m▪\u001b[1;36m]\u001b[0m\n",
      "-89.26:\t\u001b[1;36m[\u001b[0m T\u001b[1;36m|\u001b[0mimo\u001b[1;36m|\u001b[0mt\u001b[1;36m|\u001b[0mh\u001b[1;36m|\u001b[0my\u001b[1;36m|\u001b[0m V\u001b[1;36m|\u001b[0mie\u001b[1;36m|\u001b[0mi\u001b[1;36m|\u001b[0mr\u001b[1;36m|\u001b[0ma\u001b[1;36m|\u001b[0m.\u001b[1;36m|\u001b[0m▪\u001b[1;36m]\u001b[0m\n",
      "-89.27:\t\u001b[1;36m[\u001b[0m T\u001b[1;36m|\u001b[0mi\u001b[1;36m|\u001b[0mmo\u001b[1;36m|\u001b[0mth\u001b[1;36m|\u001b[0my\u001b[1;36m|\u001b[0m F\u001b[1;36m|\u001b[0mabb\u001b[1;36m|\u001b[0mri\u001b[1;36m|\u001b[0m V\u001b[1;36m|\u001b[0mie\u001b[1;36m|\u001b[0mi\u001b[1;36m|\u001b[0mra\u001b[1;36m|\u001b[0m.\u001b[1;36m|\u001b[0m▪\u001b[1;36m]\u001b[0m\n",
      "-90.22:\t\u001b[1;36m[\u001b[0m Tim\u001b[1;36m|\u001b[0mo\u001b[1;36m|\u001b[0mth\u001b[1;36m|\u001b[0my\u001b[1;36m|\u001b[0m F\u001b[1;36m|\u001b[0mabb\u001b[1;36m|\u001b[0mri\u001b[1;36m|\u001b[0m \u001b[1;36m|\u001b[0mV\u001b[1;36m|\u001b[0mie\u001b[1;36m|\u001b[0mi\u001b[1;36m|\u001b[0mra\u001b[1;36m|\u001b[0m.\u001b[1;36m|\u001b[0m▪\u001b[1;36m]\u001b[0m\n",
      "-91.27:\t\u001b[1;36m[\u001b[0m T\u001b[1;36m|\u001b[0mi\u001b[1;36m|\u001b[0mm\u001b[1;36m|\u001b[0moth\u001b[1;36m|\u001b[0my\u001b[1;36m|\u001b[0m \u001b[1;36m|\u001b[0mF\u001b[1;36m|\u001b[0mabb\u001b[1;36m|\u001b[0mri\u001b[1;36m|\u001b[0m \u001b[1;36m|\u001b[0mV\u001b[1;36m|\u001b[0mie\u001b[1;36m|\u001b[0mira\u001b[1;36m|\u001b[0m.\u001b[1;36m|\u001b[0m▪\u001b[1;36m]\u001b[0m\n",
      "-91.35:\t\u001b[1;36m[\u001b[0m T\u001b[1;36m|\u001b[0mimo\u001b[1;36m|\u001b[0mth\u001b[1;36m|\u001b[0my\u001b[1;36m|\u001b[0m \u001b[1;36m|\u001b[0mFab\u001b[1;36m|\u001b[0mb\u001b[1;36m|\u001b[0mri\u001b[1;36m|\u001b[0m \u001b[1;36m|\u001b[0mV\u001b[1;36m|\u001b[0mie\u001b[1;36m|\u001b[0mira\u001b[1;36m|\u001b[0m.\u001b[1;36m|\u001b[0m▪\u001b[1;36m]\u001b[0m\n",
      "-91.47:\t\u001b[1;36m[\u001b[0m T\u001b[1;36m|\u001b[0mim\u001b[1;36m|\u001b[0mothy\u001b[1;36m|\u001b[0m F\u001b[1;36m|\u001b[0mabb\u001b[1;36m|\u001b[0mri\u001b[1;36m|\u001b[0m \u001b[1;36m|\u001b[0mV\u001b[1;36m|\u001b[0mi\u001b[1;36m|\u001b[0me\u001b[1;36m|\u001b[0mir\u001b[1;36m|\u001b[0ma\u001b[1;36m|\u001b[0m.\u001b[1;36m|\u001b[0m▪\u001b[1;36m]\u001b[0m\n",
      "-96.34:\t\u001b[1;36m[\u001b[0m T\u001b[1;36m|\u001b[0mim\u001b[1;36m|\u001b[0mo\u001b[1;36m|\u001b[0mth\u001b[1;36m|\u001b[0my\u001b[1;36m|\u001b[0m \u001b[1;36m|\u001b[0mFab\u001b[1;36m|\u001b[0mbr\u001b[1;36m|\u001b[0mi\u001b[1;36m|\u001b[0m \u001b[1;36m|\u001b[0mV\u001b[1;36m|\u001b[0mie\u001b[1;36m|\u001b[0mira\u001b[1;36m|\u001b[0m.\u001b[1;36m|\u001b[0m▪\u001b[1;36m]\u001b[0m\n",
      "-96.48:\t\u001b[1;36m[\u001b[0m T\u001b[1;36m|\u001b[0mimo\u001b[1;36m|\u001b[0mt\u001b[1;36m|\u001b[0mh\u001b[1;36m|\u001b[0my\u001b[1;36m|\u001b[0m F\u001b[1;36m|\u001b[0mabb\u001b[1;36m|\u001b[0mri\u001b[1;36m|\u001b[0m \u001b[1;36m|\u001b[0mV\u001b[1;36m|\u001b[0mie\u001b[1;36m|\u001b[0mira\u001b[1;36m|\u001b[0m.\u001b[1;36m|\u001b[0m▪\u001b[1;36m]\u001b[0m\n",
      "-96.48:\t\u001b[1;36m[\u001b[0m T\u001b[1;36m|\u001b[0mimo\u001b[1;36m|\u001b[0mt\u001b[1;36m|\u001b[0mh\u001b[1;36m|\u001b[0my\u001b[1;36m|\u001b[0m F\u001b[1;36m|\u001b[0mabb\u001b[1;36m|\u001b[0mri\u001b[1;36m|\u001b[0m \u001b[1;36m|\u001b[0mV\u001b[1;36m|\u001b[0mie\u001b[1;36m|\u001b[0mira\u001b[1;36m|\u001b[0m.\u001b[1;36m|\u001b[0m▪\u001b[1;36m]\u001b[0m\n",
      "-98.63:\t\u001b[1;36m[\u001b[0m Tim\u001b[1;36m|\u001b[0mo\u001b[1;36m|\u001b[0mth\u001b[1;36m|\u001b[0my\u001b[1;36m|\u001b[0m Fa\u001b[1;36m|\u001b[0mb\u001b[1;36m|\u001b[0mbr\u001b[1;36m|\u001b[0mi\u001b[1;36m|\u001b[0m \u001b[1;36m|\u001b[0mV\u001b[1;36m|\u001b[0mie\u001b[1;36m|\u001b[0mira\u001b[1;36m|\u001b[0m.\u001b[1;36m|\u001b[0m▪\u001b[1;36m]\u001b[0m\n",
      "-99.26:\t\u001b[1;36m[\u001b[0m T\u001b[1;36m|\u001b[0mi\u001b[1;36m|\u001b[0mmo\u001b[1;36m|\u001b[0mth\u001b[1;36m|\u001b[0my\u001b[1;36m|\u001b[0m F\u001b[1;36m|\u001b[0mabb\u001b[1;36m|\u001b[0mri\u001b[1;36m|\u001b[0m \u001b[1;36m|\u001b[0mVi\u001b[1;36m|\u001b[0me\u001b[1;36m|\u001b[0mira\u001b[1;36m|\u001b[0m.\u001b[1;36m|\u001b[0m▪\u001b[1;36m]\u001b[0m\n",
      "-100.21:\t\u001b[1;36m[\u001b[0m Ti\u001b[1;36m|\u001b[0mm\u001b[1;36m|\u001b[0mot\u001b[1;36m|\u001b[0mhy\u001b[1;36m|\u001b[0m \u001b[1;36m|\u001b[0mFab\u001b[1;36m|\u001b[0mbr\u001b[1;36m|\u001b[0mi\u001b[1;36m|\u001b[0m \u001b[1;36m|\u001b[0mV\u001b[1;36m|\u001b[0mie\u001b[1;36m|\u001b[0mi\u001b[1;36m|\u001b[0mra\u001b[1;36m|\u001b[0m.\u001b[1;36m|\u001b[0m▪\u001b[1;36m]\u001b[0m\n",
      "-102.03:\t\u001b[1;36m[\u001b[0m T\u001b[1;36m|\u001b[0mi\u001b[1;36m|\u001b[0mmo\u001b[1;36m|\u001b[0mth\u001b[1;36m|\u001b[0my\u001b[1;36m|\u001b[0m F\u001b[1;36m|\u001b[0mab\u001b[1;36m|\u001b[0mb\u001b[1;36m|\u001b[0mri\u001b[1;36m|\u001b[0m \u001b[1;36m|\u001b[0mV\u001b[1;36m|\u001b[0mie\u001b[1;36m|\u001b[0mira\u001b[1;36m|\u001b[0m.\u001b[1;36m|\u001b[0m▪\u001b[1;36m]\u001b[0m\n",
      "-102.48:\t\u001b[1;36m[\u001b[0m T\u001b[1;36m|\u001b[0mi\u001b[1;36m|\u001b[0mmot\u001b[1;36m|\u001b[0mh\u001b[1;36m|\u001b[0my\u001b[1;36m|\u001b[0m F\u001b[1;36m|\u001b[0mabb\u001b[1;36m|\u001b[0mri\u001b[1;36m|\u001b[0m \u001b[1;36m|\u001b[0mV\u001b[1;36m|\u001b[0mie\u001b[1;36m|\u001b[0mi\u001b[1;36m|\u001b[0mra\u001b[1;36m|\u001b[0m.\u001b[1;36m|\u001b[0m▪\u001b[1;36m]\u001b[0m\n",
      "-104.68:\t\u001b[1;36m[\u001b[0m T\u001b[1;36m|\u001b[0mi\u001b[1;36m|\u001b[0mm\u001b[1;36m|\u001b[0m \u001b[1;36m|\u001b[0mFa\u001b[1;36m|\u001b[0mb\u001b[1;36m|\u001b[0mbr\u001b[1;36m|\u001b[0mi\u001b[1;36m|\u001b[0m \u001b[1;36m|\u001b[0mV\u001b[1;36m|\u001b[0mi\u001b[1;36m|\u001b[0me\u001b[1;36m|\u001b[0mira\u001b[1;36m|\u001b[0m.\u001b[1;36m|\u001b[0m▪\u001b[1;36m]\u001b[0m\n",
      "-105.58:\t\u001b[1;36m[\u001b[0m T\u001b[1;36m|\u001b[0mimo\u001b[1;36m|\u001b[0mt\u001b[1;36m|\u001b[0mhy\u001b[1;36m|\u001b[0m \u001b[1;36m|\u001b[0mFab\u001b[1;36m|\u001b[0mbr\u001b[1;36m|\u001b[0mi\u001b[1;36m|\u001b[0m \u001b[1;36m|\u001b[0mV\u001b[1;36m|\u001b[0mie\u001b[1;36m|\u001b[0mi\u001b[1;36m|\u001b[0mra\u001b[1;36m|\u001b[0m.\u001b[1;36m|\u001b[0m▪\u001b[1;36m]\u001b[0m\n",
      "-107.35:\t\u001b[1;36m[\u001b[0m T\u001b[1;36m|\u001b[0mi\u001b[1;36m|\u001b[0mm\u001b[1;36m|\u001b[0mot\u001b[1;36m|\u001b[0mh\u001b[1;36m|\u001b[0my\u001b[1;36m|\u001b[0m \u001b[1;36m|\u001b[0mFab\u001b[1;36m|\u001b[0mbr\u001b[1;36m|\u001b[0mi\u001b[1;36m|\u001b[0m \u001b[1;36m|\u001b[0mV\u001b[1;36m|\u001b[0mie\u001b[1;36m|\u001b[0mira\u001b[1;36m|\u001b[0m.\u001b[1;36m|\u001b[0m▪\u001b[1;36m]\u001b[0m\n",
      "-107.88:\t\u001b[1;36m[\u001b[0m Tim\u001b[1;36m|\u001b[0mo\u001b[1;36m|\u001b[0mt\u001b[1;36m|\u001b[0mhy\u001b[1;36m|\u001b[0m \u001b[1;36m|\u001b[0mF\u001b[1;36m|\u001b[0ma\u001b[1;36m|\u001b[0mb\u001b[1;36m|\u001b[0mbr\u001b[1;36m|\u001b[0mi\u001b[1;36m|\u001b[0m \u001b[1;36m|\u001b[0mV\u001b[1;36m|\u001b[0mie\u001b[1;36m|\u001b[0mira\u001b[1;36m|\u001b[0m.\u001b[1;36m|\u001b[0m▪\u001b[1;36m]\u001b[0m\n",
      "-112.40:\t\u001b[1;36m[\u001b[0m T\u001b[1;36m|\u001b[0mi\u001b[1;36m|\u001b[0mm\u001b[1;36m|\u001b[0m \u001b[1;36m|\u001b[0mF\u001b[1;36m|\u001b[0ma\u001b[1;36m|\u001b[0mbb\u001b[1;36m|\u001b[0mr\u001b[1;36m|\u001b[0mi\u001b[1;36m|\u001b[0m \u001b[1;36m|\u001b[0mV\u001b[1;36m|\u001b[0mi\u001b[1;36m|\u001b[0me\u001b[1;36m|\u001b[0mira\u001b[1;36m|\u001b[0m.\u001b[1;36m|\u001b[0m▪\u001b[1;36m]\u001b[0m\n",
      "-113.47:\t\u001b[1;36m[\u001b[0m Tim\u001b[1;36m|\u001b[0mo\u001b[1;36m|\u001b[0mt\u001b[1;36m|\u001b[0mh\u001b[1;36m|\u001b[0my\u001b[1;36m|\u001b[0m F\u001b[1;36m|\u001b[0mabb\u001b[1;36m|\u001b[0mri\u001b[1;36m|\u001b[0m \u001b[1;36m|\u001b[0mV\u001b[1;36m|\u001b[0mi\u001b[1;36m|\u001b[0me\u001b[1;36m|\u001b[0mir\u001b[1;36m|\u001b[0ma\u001b[1;36m|\u001b[0m.\u001b[1;36m|\u001b[0m▪\u001b[1;36m]\u001b[0m\n",
      "-118.22:\t\u001b[1;36m[\u001b[0m T\u001b[1;36m|\u001b[0mimo\u001b[1;36m|\u001b[0mt\u001b[1;36m|\u001b[0mh\u001b[1;36m|\u001b[0my\u001b[1;36m|\u001b[0m \u001b[1;36m|\u001b[0mF\u001b[1;36m|\u001b[0mabb\u001b[1;36m|\u001b[0mri\u001b[1;36m|\u001b[0m \u001b[1;36m|\u001b[0mV\u001b[1;36m|\u001b[0mi\u001b[1;36m|\u001b[0me\u001b[1;36m|\u001b[0mir\u001b[1;36m|\u001b[0ma\u001b[1;36m|\u001b[0m.\u001b[1;36m|\u001b[0m▪\u001b[1;36m]\u001b[0m\n",
      "-119.64:\t\u001b[1;36m[\u001b[0m T\u001b[1;36m|\u001b[0mimo\u001b[1;36m|\u001b[0mt\u001b[1;36m|\u001b[0mh\u001b[1;36m|\u001b[0my\u001b[1;36m|\u001b[0m \u001b[1;36m|\u001b[0mFa\u001b[1;36m|\u001b[0mbb\u001b[1;36m|\u001b[0mri\u001b[1;36m|\u001b[0m \u001b[1;36m|\u001b[0mV\u001b[1;36m|\u001b[0mi\u001b[1;36m|\u001b[0me\u001b[1;36m|\u001b[0mira\u001b[1;36m|\u001b[0m.\u001b[1;36m|\u001b[0m▪\u001b[1;36m]\u001b[0m\n",
      "-132.85:\t\u001b[1;36m[\u001b[0m T\u001b[1;36m|\u001b[0mim\u001b[1;36m|\u001b[0mo\u001b[1;36m|\u001b[0mt\u001b[1;36m|\u001b[0mh\u001b[1;36m|\u001b[0my\u001b[1;36m|\u001b[0m F\u001b[1;36m|\u001b[0mab\u001b[1;36m|\u001b[0mb\u001b[1;36m|\u001b[0mri\u001b[1;36m|\u001b[0m \u001b[1;36m|\u001b[0mV\u001b[1;36m|\u001b[0mi\u001b[1;36m|\u001b[0me\u001b[1;36m|\u001b[0mir\u001b[1;36m|\u001b[0ma\u001b[1;36m|\u001b[0m.\u001b[1;36m|\u001b[0m▪\u001b[1;36m]\u001b[0m\n",
      "-inf:\t\u001b[1;36m[\u001b[0m \u001b[1;36m|\u001b[0m \u001b[1;36m|\u001b[0m \u001b[1;36m|\u001b[0m \u001b[1;36m|\u001b[0m \u001b[1;36m|\u001b[0m \u001b[1;36m|\u001b[0m \u001b[1;36m|\u001b[0m \u001b[1;36m|\u001b[0m \u001b[1;36m|\u001b[0m \u001b[1;36m|\u001b[0m \u001b[1;36m|\u001b[0m \u001b[1;36m|\u001b[0m \u001b[1;36m|\u001b[0m \u001b[1;36m|\u001b[0m \u001b[1;36m|\u001b[0m \u001b[1;36m|\u001b[0m \u001b[1;36m|\u001b[0m \u001b[1;36m|\u001b[0m \u001b[1;36m|\u001b[0m \u001b[1;36m|\u001b[0m \u001b[1;36m|\u001b[0m \u001b[1;36m|\u001b[0m \u001b[1;36m|\u001b[0m \u001b[1;36m|\u001b[0m \u001b[1;36m|\u001b[0m \u001b[1;36m|\u001b[0m \u001b[1;36m|\u001b[0m \u001b[1;36m|\u001b[0m \u001b[1;36m|\u001b[0m \u001b[1;36m|\u001b[0m \u001b[1;36m|\u001b[0m \u001b[1;36m|\u001b[0m \u001b[1;36m|\u001b[0m \u001b[1;36m|\u001b[0m \u001b[1;36m|\u001b[0m \u001b[1;36m|\u001b[0m \u001b[1;36m|\u001b[0m \u001b[1;36m|\u001b[0m \u001b[1;36m|\u001b[0m \u001b[1;36m|\u001b[0m \u001b[1;36m|\u001b[0m \u001b[1;36m|\u001b[0m \u001b[1;36m|\u001b[0m \u001b[1;36m|\u001b[0m \u001b[1;36m|\u001b[0m \u001b[1;36m|\u001b[0m \u001b[1;36m|\u001b[0m \u001b[1;36m|\u001b[0m \u001b[1;36m|\u001b[0m \u001b[1;36m|\u001b[0m \u001b[1;36m|\u001b[0m \u001b[1;36m|\u001b[0m \u001b[1;36m|\u001b[0m \u001b[1;36m|\u001b[0m \u001b[1;36m|\u001b[0m \u001b[1;36m|\u001b[0m \u001b[1;36m|\u001b[0m \u001b[1;36m|\u001b[0m \u001b[1;36m|\u001b[0m \u001b[1;36m|\u001b[0m \u001b[1;36m|\u001b[0m \u001b[1;36m|\u001b[0m \u001b[1;36m|\u001b[0m \u001b[1;36m|\u001b[0m \u001b[1;36m|\u001b[0m \u001b[1;36m|\u001b[0m \u001b[1;36m|\u001b[0m \u001b[1;36m|\u001b[0m \u001b[1;36m|\u001b[0m \u001b[1;36m|\u001b[0m \u001b[1;36m|\u001b[0m \u001b[1;36m|\u001b[0m \u001b[1;36m|\u001b[0m \u001b[1;36m|\u001b[0m \u001b[1;36m|\u001b[0m \u001b[1;36m|\u001b[0m \u001b[1;36m|\u001b[0m \u001b[1;36m|\u001b[0m \u001b[1;36m|\u001b[0m \u001b[1;36m|\u001b[0m \u001b[1;36m|\u001b[0m \u001b[1;36m|\u001b[0m \u001b[1;36m|\u001b[0m \u001b[1;36m|\u001b[0m \u001b[1;36m|\u001b[0m \u001b[1;36m|\u001b[0m \u001b[1;36m|\u001b[0m \u001b[1;36m|\u001b[0m \u001b[1;36m|\u001b[0m \u001b[1;36m|\u001b[0m \u001b[1;36m|\u001b[0m \u001b[1;36m|\u001b[0m \u001b[1;36m|\u001b[0m \u001b[1;36m|\u001b[0m \u001b[1;36m|\u001b[0m \u001b[1;36m|\u001b[0m \u001b[1;36m|\u001b[0m \u001b[1;36m|\u001b[0m \u001b[1;36m|\u001b[0m \u001b[1;36m]\u001b[0m\n",
      "-inf:\t\u001b[1;36m[\u001b[0m \u001b[1;36m|\u001b[0m \u001b[1;36m|\u001b[0m \u001b[1;36m|\u001b[0m \u001b[1;36m|\u001b[0m \u001b[1;36m|\u001b[0m \u001b[1;36m|\u001b[0m \u001b[1;36m|\u001b[0m \u001b[1;36m|\u001b[0m \u001b[1;36m|\u001b[0m \u001b[1;36m|\u001b[0m \u001b[1;36m|\u001b[0m \u001b[1;36m|\u001b[0m \u001b[1;36m|\u001b[0m \u001b[1;36m|\u001b[0m \u001b[1;36m|\u001b[0m \u001b[1;36m|\u001b[0m \u001b[1;36m|\u001b[0m \u001b[1;36m|\u001b[0m \u001b[1;36m|\u001b[0m \u001b[1;36m|\u001b[0m \u001b[1;36m|\u001b[0m \u001b[1;36m|\u001b[0m \u001b[1;36m|\u001b[0m \u001b[1;36m|\u001b[0m \u001b[1;36m|\u001b[0m \u001b[1;36m|\u001b[0m \u001b[1;36m|\u001b[0m \u001b[1;36m|\u001b[0m \u001b[1;36m|\u001b[0m \u001b[1;36m|\u001b[0m \u001b[1;36m|\u001b[0m \u001b[1;36m|\u001b[0m \u001b[1;36m|\u001b[0m \u001b[1;36m|\u001b[0m \u001b[1;36m|\u001b[0m \u001b[1;36m|\u001b[0m \u001b[1;36m|\u001b[0m \u001b[1;36m|\u001b[0m \u001b[1;36m|\u001b[0m \u001b[1;36m|\u001b[0m \u001b[1;36m|\u001b[0m \u001b[1;36m|\u001b[0m \u001b[1;36m|\u001b[0m \u001b[1;36m|\u001b[0m \u001b[1;36m|\u001b[0m \u001b[1;36m|\u001b[0m \u001b[1;36m|\u001b[0m \u001b[1;36m|\u001b[0m \u001b[1;36m|\u001b[0m \u001b[1;36m|\u001b[0m \u001b[1;36m|\u001b[0m \u001b[1;36m|\u001b[0m \u001b[1;36m|\u001b[0m \u001b[1;36m|\u001b[0m \u001b[1;36m|\u001b[0m \u001b[1;36m|\u001b[0m \u001b[1;36m|\u001b[0m \u001b[1;36m|\u001b[0m \u001b[1;36m|\u001b[0m \u001b[1;36m|\u001b[0m \u001b[1;36m|\u001b[0m \u001b[1;36m|\u001b[0m \u001b[1;36m|\u001b[0m \u001b[1;36m|\u001b[0m \u001b[1;36m|\u001b[0m \u001b[1;36m|\u001b[0m \u001b[1;36m|\u001b[0m \u001b[1;36m|\u001b[0m \u001b[1;36m|\u001b[0m \u001b[1;36m|\u001b[0m \u001b[1;36m|\u001b[0m \u001b[1;36m|\u001b[0m \u001b[1;36m|\u001b[0m \u001b[1;36m|\u001b[0m \u001b[1;36m|\u001b[0m \u001b[1;36m|\u001b[0m \u001b[1;36m|\u001b[0m \u001b[1;36m|\u001b[0m \u001b[1;36m|\u001b[0m \u001b[1;36m|\u001b[0m \u001b[1;36m|\u001b[0m \u001b[1;36m|\u001b[0m \u001b[1;36m|\u001b[0m \u001b[1;36m|\u001b[0m \u001b[1;36m|\u001b[0m \u001b[1;36m|\u001b[0m \u001b[1;36m|\u001b[0m \u001b[1;36m|\u001b[0m \u001b[1;36m|\u001b[0m \u001b[1;36m|\u001b[0m \u001b[1;36m|\u001b[0m \u001b[1;36m|\u001b[0m \u001b[1;36m|\u001b[0m \u001b[1;36m|\u001b[0m \u001b[1;36m|\u001b[0m \u001b[1;36m|\u001b[0m \u001b[1;36m|\u001b[0m \u001b[1;36m|\u001b[0m \u001b[1;36m|\u001b[0m \u001b[1;36m]\u001b[0m\n",
      "-inf:\t\u001b[1;36m[\u001b[0m \u001b[1;36m|\u001b[0m \u001b[1;36m|\u001b[0m \u001b[1;36m|\u001b[0m \u001b[1;36m|\u001b[0m \u001b[1;36m|\u001b[0m \u001b[1;36m|\u001b[0m \u001b[1;36m|\u001b[0m \u001b[1;36m|\u001b[0m \u001b[1;36m|\u001b[0m \u001b[1;36m|\u001b[0m \u001b[1;36m|\u001b[0m \u001b[1;36m|\u001b[0m \u001b[1;36m|\u001b[0m \u001b[1;36m|\u001b[0m \u001b[1;36m|\u001b[0m \u001b[1;36m|\u001b[0m \u001b[1;36m|\u001b[0m \u001b[1;36m|\u001b[0m \u001b[1;36m|\u001b[0m \u001b[1;36m|\u001b[0m \u001b[1;36m|\u001b[0m \u001b[1;36m|\u001b[0m \u001b[1;36m|\u001b[0m \u001b[1;36m|\u001b[0m \u001b[1;36m|\u001b[0m \u001b[1;36m|\u001b[0m \u001b[1;36m|\u001b[0m \u001b[1;36m|\u001b[0m \u001b[1;36m|\u001b[0m \u001b[1;36m|\u001b[0m \u001b[1;36m|\u001b[0m \u001b[1;36m|\u001b[0m \u001b[1;36m|\u001b[0m \u001b[1;36m|\u001b[0m \u001b[1;36m|\u001b[0m \u001b[1;36m|\u001b[0m \u001b[1;36m|\u001b[0m \u001b[1;36m|\u001b[0m \u001b[1;36m|\u001b[0m \u001b[1;36m|\u001b[0m \u001b[1;36m|\u001b[0m \u001b[1;36m|\u001b[0m \u001b[1;36m|\u001b[0m \u001b[1;36m|\u001b[0m \u001b[1;36m|\u001b[0m \u001b[1;36m|\u001b[0m \u001b[1;36m|\u001b[0m \u001b[1;36m|\u001b[0m \u001b[1;36m|\u001b[0m \u001b[1;36m|\u001b[0m \u001b[1;36m|\u001b[0m \u001b[1;36m|\u001b[0m \u001b[1;36m|\u001b[0m \u001b[1;36m|\u001b[0m \u001b[1;36m|\u001b[0m \u001b[1;36m|\u001b[0m \u001b[1;36m|\u001b[0m \u001b[1;36m|\u001b[0m \u001b[1;36m|\u001b[0m \u001b[1;36m|\u001b[0m \u001b[1;36m|\u001b[0m \u001b[1;36m|\u001b[0m \u001b[1;36m|\u001b[0m \u001b[1;36m|\u001b[0m \u001b[1;36m|\u001b[0m \u001b[1;36m|\u001b[0m \u001b[1;36m|\u001b[0m \u001b[1;36m|\u001b[0m \u001b[1;36m|\u001b[0m \u001b[1;36m|\u001b[0m \u001b[1;36m|\u001b[0m \u001b[1;36m|\u001b[0m \u001b[1;36m|\u001b[0m \u001b[1;36m|\u001b[0m \u001b[1;36m|\u001b[0m \u001b[1;36m|\u001b[0m \u001b[1;36m|\u001b[0m \u001b[1;36m|\u001b[0m \u001b[1;36m|\u001b[0m \u001b[1;36m|\u001b[0m \u001b[1;36m|\u001b[0m \u001b[1;36m|\u001b[0m \u001b[1;36m|\u001b[0m \u001b[1;36m|\u001b[0m \u001b[1;36m|\u001b[0m \u001b[1;36m|\u001b[0m \u001b[1;36m|\u001b[0m \u001b[1;36m|\u001b[0m \u001b[1;36m|\u001b[0m \u001b[1;36m|\u001b[0m \u001b[1;36m|\u001b[0m \u001b[1;36m|\u001b[0m \u001b[1;36m|\u001b[0m \u001b[1;36m|\u001b[0m \u001b[1;36m|\u001b[0m \u001b[1;36m|\u001b[0m \u001b[1;36m|\u001b[0m \u001b[1;36m|\u001b[0m \u001b[1;36m|\u001b[0m \u001b[1;36m]\u001b[0m\n",
      "-inf:\t\u001b[1;36m[\u001b[0m \u001b[1;36m|\u001b[0m \u001b[1;36m|\u001b[0m \u001b[1;36m|\u001b[0m \u001b[1;36m|\u001b[0m \u001b[1;36m|\u001b[0m \u001b[1;36m|\u001b[0m \u001b[1;36m|\u001b[0m \u001b[1;36m|\u001b[0m \u001b[1;36m|\u001b[0m \u001b[1;36m|\u001b[0m \u001b[1;36m|\u001b[0m \u001b[1;36m|\u001b[0m \u001b[1;36m|\u001b[0m \u001b[1;36m|\u001b[0m \u001b[1;36m|\u001b[0m \u001b[1;36m|\u001b[0m \u001b[1;36m|\u001b[0m \u001b[1;36m|\u001b[0m \u001b[1;36m|\u001b[0m \u001b[1;36m|\u001b[0m \u001b[1;36m|\u001b[0m \u001b[1;36m|\u001b[0m \u001b[1;36m|\u001b[0m \u001b[1;36m|\u001b[0m \u001b[1;36m|\u001b[0m \u001b[1;36m|\u001b[0m \u001b[1;36m|\u001b[0m \u001b[1;36m|\u001b[0m \u001b[1;36m|\u001b[0m \u001b[1;36m|\u001b[0m \u001b[1;36m|\u001b[0m \u001b[1;36m|\u001b[0m \u001b[1;36m|\u001b[0m \u001b[1;36m|\u001b[0m \u001b[1;36m|\u001b[0m \u001b[1;36m|\u001b[0m \u001b[1;36m|\u001b[0m \u001b[1;36m|\u001b[0m \u001b[1;36m|\u001b[0m \u001b[1;36m|\u001b[0m \u001b[1;36m|\u001b[0m \u001b[1;36m|\u001b[0m \u001b[1;36m|\u001b[0m \u001b[1;36m|\u001b[0m \u001b[1;36m|\u001b[0m \u001b[1;36m|\u001b[0m \u001b[1;36m|\u001b[0m \u001b[1;36m|\u001b[0m \u001b[1;36m|\u001b[0m \u001b[1;36m|\u001b[0m \u001b[1;36m|\u001b[0m \u001b[1;36m|\u001b[0m \u001b[1;36m|\u001b[0m \u001b[1;36m|\u001b[0m \u001b[1;36m|\u001b[0m \u001b[1;36m|\u001b[0m \u001b[1;36m|\u001b[0m \u001b[1;36m|\u001b[0m \u001b[1;36m|\u001b[0m \u001b[1;36m|\u001b[0m \u001b[1;36m|\u001b[0m \u001b[1;36m|\u001b[0m \u001b[1;36m|\u001b[0m \u001b[1;36m|\u001b[0m \u001b[1;36m|\u001b[0m \u001b[1;36m|\u001b[0m \u001b[1;36m|\u001b[0m \u001b[1;36m|\u001b[0m \u001b[1;36m|\u001b[0m \u001b[1;36m|\u001b[0m \u001b[1;36m|\u001b[0m \u001b[1;36m|\u001b[0m \u001b[1;36m|\u001b[0m \u001b[1;36m|\u001b[0m \u001b[1;36m|\u001b[0m \u001b[1;36m|\u001b[0m \u001b[1;36m|\u001b[0m \u001b[1;36m|\u001b[0m \u001b[1;36m|\u001b[0m \u001b[1;36m|\u001b[0m \u001b[1;36m|\u001b[0m \u001b[1;36m|\u001b[0m \u001b[1;36m|\u001b[0m \u001b[1;36m|\u001b[0m \u001b[1;36m|\u001b[0m \u001b[1;36m|\u001b[0m \u001b[1;36m|\u001b[0m \u001b[1;36m|\u001b[0m \u001b[1;36m|\u001b[0m \u001b[1;36m|\u001b[0m \u001b[1;36m|\u001b[0m \u001b[1;36m|\u001b[0m \u001b[1;36m|\u001b[0m \u001b[1;36m|\u001b[0m \u001b[1;36m|\u001b[0m \u001b[1;36m|\u001b[0m \u001b[1;36m|\u001b[0m \u001b[1;36m|\u001b[0m \u001b[1;36m|\u001b[0m \u001b[1;36m]\u001b[0m\n",
      "-inf:\t\u001b[1;36m[\u001b[0m \u001b[1;36m|\u001b[0m \u001b[1;36m|\u001b[0m \u001b[1;36m|\u001b[0m \u001b[1;36m|\u001b[0m \u001b[1;36m|\u001b[0m \u001b[1;36m|\u001b[0m \u001b[1;36m|\u001b[0m \u001b[1;36m|\u001b[0m \u001b[1;36m|\u001b[0m \u001b[1;36m|\u001b[0m \u001b[1;36m|\u001b[0m \u001b[1;36m|\u001b[0m \u001b[1;36m|\u001b[0m \u001b[1;36m|\u001b[0m \u001b[1;36m|\u001b[0m \u001b[1;36m|\u001b[0m \u001b[1;36m|\u001b[0m \u001b[1;36m|\u001b[0m \u001b[1;36m|\u001b[0m \u001b[1;36m|\u001b[0m \u001b[1;36m|\u001b[0m \u001b[1;36m|\u001b[0m \u001b[1;36m|\u001b[0m \u001b[1;36m|\u001b[0m \u001b[1;36m|\u001b[0m \u001b[1;36m|\u001b[0m \u001b[1;36m|\u001b[0m \u001b[1;36m|\u001b[0m \u001b[1;36m|\u001b[0m \u001b[1;36m|\u001b[0m \u001b[1;36m|\u001b[0m \u001b[1;36m|\u001b[0m \u001b[1;36m|\u001b[0m \u001b[1;36m|\u001b[0m \u001b[1;36m|\u001b[0m \u001b[1;36m|\u001b[0m \u001b[1;36m|\u001b[0m \u001b[1;36m|\u001b[0m \u001b[1;36m|\u001b[0m \u001b[1;36m|\u001b[0m \u001b[1;36m|\u001b[0m \u001b[1;36m|\u001b[0m \u001b[1;36m|\u001b[0m \u001b[1;36m|\u001b[0m \u001b[1;36m|\u001b[0m \u001b[1;36m|\u001b[0m \u001b[1;36m|\u001b[0m \u001b[1;36m|\u001b[0m \u001b[1;36m|\u001b[0m \u001b[1;36m|\u001b[0m \u001b[1;36m|\u001b[0m \u001b[1;36m|\u001b[0m \u001b[1;36m|\u001b[0m \u001b[1;36m|\u001b[0m \u001b[1;36m|\u001b[0m \u001b[1;36m|\u001b[0m \u001b[1;36m|\u001b[0m \u001b[1;36m|\u001b[0m \u001b[1;36m|\u001b[0m \u001b[1;36m|\u001b[0m \u001b[1;36m|\u001b[0m \u001b[1;36m|\u001b[0m \u001b[1;36m|\u001b[0m \u001b[1;36m|\u001b[0m \u001b[1;36m|\u001b[0m \u001b[1;36m|\u001b[0m \u001b[1;36m|\u001b[0m \u001b[1;36m|\u001b[0m \u001b[1;36m|\u001b[0m \u001b[1;36m|\u001b[0m \u001b[1;36m|\u001b[0m \u001b[1;36m|\u001b[0m \u001b[1;36m|\u001b[0m \u001b[1;36m|\u001b[0m \u001b[1;36m|\u001b[0m \u001b[1;36m|\u001b[0m \u001b[1;36m|\u001b[0m \u001b[1;36m|\u001b[0m \u001b[1;36m|\u001b[0m \u001b[1;36m|\u001b[0m \u001b[1;36m|\u001b[0m \u001b[1;36m|\u001b[0m \u001b[1;36m|\u001b[0m \u001b[1;36m|\u001b[0m \u001b[1;36m|\u001b[0m \u001b[1;36m|\u001b[0m \u001b[1;36m|\u001b[0m \u001b[1;36m|\u001b[0m \u001b[1;36m|\u001b[0m \u001b[1;36m|\u001b[0m \u001b[1;36m|\u001b[0m \u001b[1;36m|\u001b[0m \u001b[1;36m|\u001b[0m \u001b[1;36m|\u001b[0m \u001b[1;36m|\u001b[0m \u001b[1;36m|\u001b[0m \u001b[1;36m|\u001b[0m \u001b[1;36m|\u001b[0m \u001b[1;36m|\u001b[0m \u001b[1;36m]\u001b[0m\n",
      "-inf:\t\u001b[1;36m[\u001b[0m \u001b[1;36m|\u001b[0m \u001b[1;36m|\u001b[0m \u001b[1;36m|\u001b[0m \u001b[1;36m|\u001b[0m \u001b[1;36m|\u001b[0m \u001b[1;36m|\u001b[0m \u001b[1;36m|\u001b[0m \u001b[1;36m|\u001b[0m \u001b[1;36m|\u001b[0m \u001b[1;36m|\u001b[0m \u001b[1;36m|\u001b[0m \u001b[1;36m|\u001b[0m \u001b[1;36m|\u001b[0m \u001b[1;36m|\u001b[0m \u001b[1;36m|\u001b[0m \u001b[1;36m|\u001b[0m \u001b[1;36m|\u001b[0m \u001b[1;36m|\u001b[0m \u001b[1;36m|\u001b[0m \u001b[1;36m|\u001b[0m \u001b[1;36m|\u001b[0m \u001b[1;36m|\u001b[0m \u001b[1;36m|\u001b[0m \u001b[1;36m|\u001b[0m \u001b[1;36m|\u001b[0m \u001b[1;36m|\u001b[0m \u001b[1;36m|\u001b[0m \u001b[1;36m|\u001b[0m \u001b[1;36m|\u001b[0m \u001b[1;36m|\u001b[0m \u001b[1;36m|\u001b[0m \u001b[1;36m|\u001b[0m \u001b[1;36m|\u001b[0m \u001b[1;36m|\u001b[0m \u001b[1;36m|\u001b[0m \u001b[1;36m|\u001b[0m \u001b[1;36m|\u001b[0m \u001b[1;36m|\u001b[0m \u001b[1;36m|\u001b[0m \u001b[1;36m|\u001b[0m \u001b[1;36m|\u001b[0m \u001b[1;36m|\u001b[0m \u001b[1;36m|\u001b[0m \u001b[1;36m|\u001b[0m \u001b[1;36m|\u001b[0m \u001b[1;36m|\u001b[0m \u001b[1;36m|\u001b[0m \u001b[1;36m|\u001b[0m \u001b[1;36m|\u001b[0m \u001b[1;36m|\u001b[0m \u001b[1;36m|\u001b[0m \u001b[1;36m|\u001b[0m \u001b[1;36m|\u001b[0m \u001b[1;36m|\u001b[0m \u001b[1;36m|\u001b[0m \u001b[1;36m|\u001b[0m \u001b[1;36m|\u001b[0m \u001b[1;36m|\u001b[0m \u001b[1;36m|\u001b[0m \u001b[1;36m|\u001b[0m \u001b[1;36m|\u001b[0m \u001b[1;36m|\u001b[0m \u001b[1;36m|\u001b[0m \u001b[1;36m|\u001b[0m \u001b[1;36m|\u001b[0m \u001b[1;36m|\u001b[0m \u001b[1;36m|\u001b[0m \u001b[1;36m|\u001b[0m \u001b[1;36m|\u001b[0m \u001b[1;36m|\u001b[0m \u001b[1;36m|\u001b[0m \u001b[1;36m|\u001b[0m \u001b[1;36m|\u001b[0m \u001b[1;36m|\u001b[0m \u001b[1;36m|\u001b[0m \u001b[1;36m|\u001b[0m \u001b[1;36m|\u001b[0m \u001b[1;36m|\u001b[0m \u001b[1;36m|\u001b[0m \u001b[1;36m|\u001b[0m \u001b[1;36m|\u001b[0m \u001b[1;36m|\u001b[0m \u001b[1;36m|\u001b[0m \u001b[1;36m|\u001b[0m \u001b[1;36m|\u001b[0m \u001b[1;36m|\u001b[0m \u001b[1;36m|\u001b[0m \u001b[1;36m|\u001b[0m \u001b[1;36m|\u001b[0m \u001b[1;36m|\u001b[0m \u001b[1;36m|\u001b[0m \u001b[1;36m|\u001b[0m \u001b[1;36m|\u001b[0m \u001b[1;36m|\u001b[0m \u001b[1;36m|\u001b[0m \u001b[1;36m|\u001b[0m \u001b[1;36m|\u001b[0m \u001b[1;36m|\u001b[0m \u001b[1;36m|\u001b[0m \u001b[1;36m]\u001b[0m\n"
     ]
    }
   ],
   "source": [
    "tok_posterior.show()"
   ]
  },
  {
   "cell_type": "code",
   "execution_count": 23,
   "id": "6ae036a7-ff19-42db-8a0f-61d24256290b",
   "metadata": {},
   "outputs": [
    {
     "data": {
      "text/plain": [
       "(3.557148208356298e-14, 4.289079284518432e-15)"
      ]
     },
     "execution_count": 23,
     "metadata": {},
     "output_type": "execute_result"
    }
   ],
   "source": [
    "np.mean(np.exp(char_posterior.log_weights)), np.mean(np.exp(tok_posterior.log_weights))"
   ]
  },
  {
   "cell_type": "code",
   "execution_count": 24,
   "id": "afd11b82-bc27-4c0e-837c-01d03a1581bc",
   "metadata": {},
   "outputs": [
    {
     "data": {
      "text/plain": [
       "(2.553065821405889e-13, 3.002315471476134e-14)"
      ]
     },
     "execution_count": 24,
     "metadata": {},
     "output_type": "execute_result"
    }
   ],
   "source": [
    "np.std(np.exp(char_posterior.log_weights)), np.std(np.exp(tok_posterior.log_weights))"
   ]
  },
  {
   "cell_type": "code",
   "execution_count": 25,
   "id": "f619a5f5-90ee-4681-bac0-4f56ac47b9ed",
   "metadata": {},
   "outputs": [],
   "source": [
    "import seaborn as sns"
   ]
  },
  {
   "cell_type": "code",
   "execution_count": 26,
   "id": "25280096-53c8-41eb-8afb-10a2c4be6a02",
   "metadata": {},
   "outputs": [
    {
     "data": {
      "text/plain": [
       "(0.12057634468090803, -33.082704303998085, -30.96723214314523)"
      ]
     },
     "execution_count": 26,
     "metadata": {},
     "output_type": "execute_result"
    }
   ],
   "source": [
    "np.exp(tok_posterior.log_ml - char_posterior.log_ml), tok_posterior.log_ml, char_posterior.log_ml"
   ]
  },
  {
   "cell_type": "code",
   "execution_count": 27,
   "id": "441b3deb-1d32-4e7b-bd3e-3d4a01e60d75",
   "metadata": {},
   "outputs": [],
   "source": [
    "from arsenal.maths.rvs import Empirical"
   ]
  },
  {
   "cell_type": "code",
   "execution_count": 28,
   "id": "cd1f44ad-3dd8-42f6-8734-f9a98c1c89b6",
   "metadata": {},
   "outputs": [
    {
     "data": {
      "image/png": "[encoded data removed]",
      "text/plain": [
       "<Figure size 640x480 with 1 Axes>"
      ]
     },
     "metadata": {},
     "output_type": "display_data"
    }
   ],
   "source": [
    "Empirical(np.exp(char_posterior.log_weights)).plot(label='char', color='r')\n",
    "Empirical(np.exp(tok_posterior.log_weights)).plot(label='token', color='b')\n",
    "pl.semilogx(); pl.legend();"
   ]
  },
  {
   "cell_type": "code",
   "execution_count": 29,
   "id": "5f20e22f-aebb-45ca-960d-1c6d7a6d744d",
   "metadata": {},
   "outputs": [
    {
     "data": {
      "text/plain": [
       "(2.0000522628271185, 1.9042763462011414)"
      ]
     },
     "execution_count": 29,
     "metadata": {},
     "output_type": "execute_result"
    }
   ],
   "source": [
    "tok_posterior.ess, char_posterior.ess"
   ]
  },
  {
   "cell_type": "code",
   "execution_count": 30,
   "id": "353bbed1-956a-496d-859f-f7840064514f",
   "metadata": {},
   "outputs": [],
   "source": [
    "from genparse.proposal.crunch import Crunching"
   ]
  },
  {
   "cell_type": "code",
   "execution_count": 31,
   "id": "781c85e8-04ed-4757-906b-6bfceb9a0311",
   "metadata": {},
   "outputs": [],
   "source": [
    "cruncher = Crunching(guide=guide, llm=llm)"
   ]
  },
  {
   "cell_type": "code",
   "execution_count": 32,
   "id": "609cab2d-3b6d-4335-8812-d670b1ef799a",
   "metadata": {},
   "outputs": [
    {
     "data": {
      "application/vnd.jupyter.widget-view+json": {
       "model_id": "59ca1441f5c544eda95418a539f3ebd8",
       "version_major": 2,
       "version_minor": 0
      },
      "text/plain": [
       "Output()"
      ]
     },
     "metadata": {},
     "output_type": "display_data"
    },
    {
     "data": {
      "text/html": [
       "<pre style=\"white-space:pre;overflow-x:auto;line-height:normal;font-family:Menlo,'DejaVu Sans Mono',consolas,'Courier New',monospace\">Item(ps=2.193959222251446e-17, xs=(' Tim', 'othy', ' V', 'ie', 'ira', '.', '▪'), ys=('Hello', ' my', ' name', ' \n",
       "is', ' Tim', 'othy', ' V', 'ie', 'ira', '.', '&lt;|endoftext|&gt;'))\n",
       "</pre>\n"
      ],
      "text/plain": [
       "Item(ps=2.193959222251446e-17, xs=(' Tim', 'othy', ' V', 'ie', 'ira', '.', '▪'), ys=('Hello', ' my', ' name', ' \n",
       "is', ' Tim', 'othy', ' V', 'ie', 'ira', '.', '<|endoftext|>'))\n"
      ]
     },
     "metadata": {},
     "output_type": "display_data"
    },
    {
     "data": {
      "text/html": [
       "<pre style=\"white-space:pre;overflow-x:auto;line-height:normal;font-family:Menlo,'DejaVu Sans Mono',consolas,'Courier New',monospace\">Item(ps=1.4178393080367892e-21, xs=(' Tim', ' F', 'abb', 'ri', ' V', 'ie', 'ira', '.', '▪'), ys=('Hello', ' my', ' \n",
       "name', ' is', ' Tim', ' F', 'abb', 'ri', ' V', 'ie', 'ira', '.', '&lt;|endoftext|&gt;'))\n",
       "</pre>\n"
      ],
      "text/plain": [
       "Item(ps=1.4178393080367892e-21, xs=(' Tim', ' F', 'abb', 'ri', ' V', 'ie', 'ira', '.', '▪'), ys=('Hello', ' my', ' \n",
       "name', ' is', ' Tim', ' F', 'abb', 'ri', ' V', 'ie', 'ira', '.', '<|endoftext|>'))\n"
      ]
     },
     "metadata": {},
     "output_type": "display_data"
    },
    {
     "data": {
      "text/html": [
       "<pre style=\"white-space:pre;overflow-x:auto;line-height:normal;font-family:Menlo,'DejaVu Sans Mono',consolas,'Courier New',monospace\">Item(ps=5.838058318966165e-24, xs=(' Tim', 'othy', ' F', 'abb', 'ri', ' V', 'ie', 'ira', '.', '▪'), ys=('Hello', ' \n",
       "my', ' name', ' is', ' Tim', 'othy', ' F', 'abb', 'ri', ' V', 'ie', 'ira', '.', '&lt;|endoftext|&gt;'))\n",
       "</pre>\n"
      ],
      "text/plain": [
       "Item(ps=5.838058318966165e-24, xs=(' Tim', 'othy', ' F', 'abb', 'ri', ' V', 'ie', 'ira', '.', '▪'), ys=('Hello', ' \n",
       "my', ' name', ' is', ' Tim', 'othy', ' F', 'abb', 'ri', ' V', 'ie', 'ira', '.', '<|endoftext|>'))\n"
      ]
     },
     "metadata": {},
     "output_type": "display_data"
    },
    {
     "data": {
      "text/html": [
       "<pre style=\"white-space:pre;overflow-x:auto;line-height:normal;font-family:Menlo,'DejaVu Sans Mono',consolas,'Courier New',monospace\">Item(ps=4.280729397266641e-26, xs=(' Tim', ' F', 'abb', 'ri', ' V', 'ie', 'ir', 'a', '.', '▪'), ys=('Hello', ' my',\n",
       "' name', ' is', ' Tim', ' F', 'abb', 'ri', ' V', 'ie', 'ir', 'a', '.', '&lt;|endoftext|&gt;'))\n",
       "</pre>\n"
      ],
      "text/plain": [
       "Item(ps=4.280729397266641e-26, xs=(' Tim', ' F', 'abb', 'ri', ' V', 'ie', 'ir', 'a', '.', '▪'), ys=('Hello', ' my',\n",
       "' name', ' is', ' Tim', ' F', 'abb', 'ri', ' V', 'ie', 'ir', 'a', '.', '<|endoftext|>'))\n"
      ]
     },
     "metadata": {},
     "output_type": "display_data"
    },
    {
     "data": {
      "text/html": [
       "<pre style=\"white-space:pre;overflow-x:auto;line-height:normal;font-family:Menlo,'DejaVu Sans Mono',consolas,'Courier New',monospace\">Item(ps=1.0636463468099347e-28, xs=(' Tim', 'othy', ' F', 'abb', 'ri', ' V', 'ie', 'ir', 'a', '.', '▪'), \n",
       "ys=('Hello', ' my', ' name', ' is', ' Tim', 'othy', ' F', 'abb', 'ri', ' V', 'ie', 'ir', 'a', '.', \n",
       "'&lt;|endoftext|&gt;'))\n",
       "</pre>\n"
      ],
      "text/plain": [
       "Item(ps=1.0636463468099347e-28, xs=(' Tim', 'othy', ' F', 'abb', 'ri', ' V', 'ie', 'ir', 'a', '.', '▪'), \n",
       "ys=('Hello', ' my', ' name', ' is', ' Tim', 'othy', ' F', 'abb', 'ri', ' V', 'ie', 'ir', 'a', '.', \n",
       "'<|endoftext|>'))\n"
      ]
     },
     "metadata": {},
     "output_type": "display_data"
    },
    {
     "data": {
      "text/html": [
       "<pre style=\"white-space:pre;overflow-x:auto;line-height:normal;font-family:Menlo,'DejaVu Sans Mono',consolas,'Courier New',monospace\">Item(ps=1.0760814575024308e-29, xs=(' Tim', 'othy', ' F', 'abb', 'ri', ' V', 'ie', 'i', 'ra', '.', '▪'), \n",
       "ys=('Hello', ' my', ' name', ' is', ' Tim', 'othy', ' F', 'abb', 'ri', ' V', 'ie', 'i', 'ra', '.', \n",
       "'&lt;|endoftext|&gt;'))\n",
       "</pre>\n"
      ],
      "text/plain": [
       "Item(ps=1.0760814575024308e-29, xs=(' Tim', 'othy', ' F', 'abb', 'ri', ' V', 'ie', 'i', 'ra', '.', '▪'), \n",
       "ys=('Hello', ' my', ' name', ' is', ' Tim', 'othy', ' F', 'abb', 'ri', ' V', 'ie', 'i', 'ra', '.', \n",
       "'<|endoftext|>'))\n"
      ]
     },
     "metadata": {},
     "output_type": "display_data"
    },
    {
     "data": {
      "text/html": [
       "<pre style=\"white-space:pre;overflow-x:auto;line-height:normal;font-family:Menlo,'DejaVu Sans Mono',consolas,'Courier New',monospace\"></pre>\n"
      ],
      "text/plain": []
     },
     "metadata": {},
     "output_type": "display_data"
    },
    {
     "data": {
      "text/html": [
       "<pre style=\"white-space:pre;overflow-x:auto;line-height:normal;font-family:Menlo,'DejaVu Sans Mono',consolas,'Courier New',monospace\">\n",
       "</pre>\n"
      ],
      "text/plain": [
       "\n"
      ]
     },
     "metadata": {},
     "output_type": "display_data"
    }
   ],
   "source": [
    "for x in cruncher.posterior_enumerate(prompt=prompt, beam_width=5, max_generations=1):\n",
    "    print(x)"
   ]
  },
  {
   "cell_type": "code",
   "execution_count": 33,
   "id": "a462b121-c3d5-4d03-9c58-cb93946db3ca",
   "metadata": {},
   "outputs": [],
   "source": [
    "# f = lambda x: x\n",
    "# f = np.exp\n",
    "\n",
    "# pl.axvline(tok_posterior.log_ml, alpha=0.5, c='r', linestyle=':')\n",
    "\n",
    "# sns.histplot(f(tok_posterior.log_weights), label='token',  alpha=0.5, color='r', cumulative=True, fill=False, element='step', stat=\"density\")\n",
    "\n",
    "# pl.axvline(char_posterior.log_ml, alpha=0.5, c='b', linestyle=':')\n",
    "# sns.histplot(f(char_posterior.log_weights), label='char', alpha=0.5, color='b', cumulative=True, fill=False, element='step', stat=\"density\")\n",
    "\n",
    "# pl.legend();"
   ]
  }
 ],
 "metadata": {
  "kernelspec": {
   "display_name": "Python 3 (ipykernel)",
   "language": "python",
   "name": "python3"
  },
  "language_info": {
   "codemirror_mode": {
    "name": "ipython",
    "version": 3
   },
   "file_extension": ".py",
   "mimetype": "text/x-python",
   "name": "python",
   "nbconvert_exporter": "python",
   "pygments_lexer": "ipython3",
   "version": "3.10.12"
  }
 },
 "nbformat": 4,
 "nbformat_minor": 5
}
