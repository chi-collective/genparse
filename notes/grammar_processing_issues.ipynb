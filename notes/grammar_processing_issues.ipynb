{
 "cells": [
  {
   "cell_type": "code",
   "execution_count": 1,
   "id": "3dce4cbf-90c7-4b38-9e9d-048eed7edd50",
   "metadata": {},
   "outputs": [],
   "source": [
    "%load_ext autoreload\n",
    "%autoreload 2"
   ]
  },
  {
   "cell_type": "code",
   "execution_count": 2,
   "id": "9851ed1e",
   "metadata": {},
   "outputs": [],
   "source": [
    "import sys\n",
    "import getpass\n",
    "if getpass.getuser() == \"benjamin.lebrun\": sys.path.append(\"/home/mila/b/benjamin.lebrun/genparse\")"
   ]
  },
  {
   "cell_type": "code",
   "execution_count": 8,
   "id": "fee5964d",
   "metadata": {},
   "outputs": [],
   "source": [
    "import numpy as np\n",
    "from genparse.util import LarkStuff\n",
    "from genparse import locally_normalize\n",
    "from genparse.cfglm import EarleyBoolMaskCFGLM\n",
    "from arsenal import timeit"
   ]
  },
  {
   "cell_type": "code",
   "execution_count": 9,
   "id": "8633ffe1",
   "metadata": {},
   "outputs": [
    {
     "name": "stderr",
     "output_type": "stream",
     "text": [
      "boolean EarleyCFGLM preprocessing (3.2224 sec)\n"
     ]
    }
   ],
   "source": [
    "cfg = LarkStuff(open(\"../benchmark/grammars/sql_case_sensitive.lark\").read()).char_cfg(.99, ignore='[ ]?')\n",
    "cfg = locally_normalize(cfg, tol=1e-40, maxiter=np.inf)\n",
    "\n",
    "with timeit('boolean EarleyCFGLM preprocessing'):\n",
    "    guide = EarleyBoolMaskCFGLM(cfg) # should take forever\n"
   ]
  },
  {
   "cell_type": "code",
   "execution_count": null,
   "id": "171d98b8-9ffb-4bc3-9608-10833637491f",
   "metadata": {},
   "outputs": [],
   "source": []
  },
  {
   "cell_type": "code",
   "execution_count": null,
   "id": "5205929a",
   "metadata": {},
   "outputs": [],
   "source": [
    "# try booleanization after unary and nullary removal\n",
    "# comment out line 48 of earley.py (cfg = cfg.nullaryremove(binarize=True).unarycycleremove().renumber())\n",
    "# this terminates, but guide.p_next('') is empty.\n",
    "\n",
    "from genparse.lm import LM\n",
    "from genparse import EOS, add_EOS, Boolean, Float\n",
    "\n",
    "class EarleyBoolMaskCFGLM2(LM):\n",
    "    \"LM-like interface for Boolean-masking CFG models; uses Earley's algorithm for inference.\"\n",
    "\n",
    "    def __init__(self, cfg):\n",
    "        from genparse.experimental.earley import Earley\n",
    "        if EOS not in cfg.V: cfg = add_EOS(cfg)\n",
    "        cfg = cfg.nullaryremove(binarize=True).unarycycleremove().renumber()\n",
    "        if cfg.R != Boolean: cfg = cfg.map_values(lambda x: Boolean(x>0), Boolean)\n",
    "        self.model = Earley(cfg.prefix_grammar)\n",
    "        super().__init__(eos = EOS, V = cfg.V)\n",
    "\n",
    "    def p_next(self, context):\n",
    "        p = self.model.p_next(context).trim()\n",
    "        return Float.chart({w: 1 for w in p})\n",
    "\n",
    "    def __call__(self, context):\n",
    "        assert context[-1] == EOS\n",
    "        return float(self.model(context) != Boolean.zero)\n"
   ]
  },
  {
   "cell_type": "code",
   "execution_count": null,
   "id": "8ff7a54d",
   "metadata": {},
   "outputs": [],
   "source": [
    "guide = EarleyBoolMaskCFGLM2(cfg)"
   ]
  },
  {
   "cell_type": "code",
   "execution_count": null,
   "id": "8513c679",
   "metadata": {},
   "outputs": [],
   "source": [
    "guide.p_next(\"\") "
   ]
  }
 ],
 "metadata": {
  "kernelspec": {
   "display_name": "Python 3 (ipykernel)",
   "language": "python",
   "name": "python3"
  },
  "language_info": {
   "codemirror_mode": {
    "name": "ipython",
    "version": 3
   },
   "file_extension": ".py",
   "mimetype": "text/x-python",
   "name": "python",
   "nbconvert_exporter": "python",
   "pygments_lexer": "ipython3",
   "version": "3.10.12"
  }
 },
 "nbformat": 4,
 "nbformat_minor": 5
}
