{
 "cells": [
  {
   "cell_type": "code",
   "execution_count": 1,
   "id": "3dce4cbf-90c7-4b38-9e9d-048eed7edd50",
   "metadata": {},
   "outputs": [],
   "source": [
    "%load_ext autoreload\n",
    "%autoreload 2"
   ]
  },
  {
   "cell_type": "code",
   "execution_count": 2,
   "id": "9851ed1e",
   "metadata": {},
   "outputs": [],
   "source": [
    "import sys\n",
    "import getpass\n",
    "if getpass.getuser() == \"benjamin.lebrun\": sys.path.append(\"/home/mila/b/benjamin.lebrun/genparse\")"
   ]
  },
  {
   "cell_type": "code",
   "execution_count": 3,
   "id": "fee5964d",
   "metadata": {},
   "outputs": [
    {
     "name": "stderr",
     "output_type": "stream",
     "text": [
      "/home/mila/b/benjamin.lebrun/miniconda3/envs/genparse/lib/python3.10/site-packages/tqdm/auto.py:21: TqdmWarning: IProgress not found. Please update jupyter and ipywidgets. See https://ipywidgets.readthedocs.io/en/stable/user_install.html\n",
      "  from .autonotebook import tqdm as notebook_tqdm\n"
     ]
    }
   ],
   "source": [
    "import numpy as np\n",
    "from genparse.util import LarkStuff\n",
    "from genparse import locally_normalize\n",
    "from genparse.cfglm import EarleyBoolMaskCFGLM"
   ]
  },
  {
   "cell_type": "code",
   "execution_count": 4,
   "id": "8633ffe1",
   "metadata": {},
   "outputs": [
    {
     "ename": "KeyboardInterrupt",
     "evalue": "",
     "output_type": "error",
     "traceback": [
      "\u001b[0;31m---------------------------------------------------------------------------\u001b[0m",
      "\u001b[0;31mKeyboardInterrupt\u001b[0m                         Traceback (most recent call last)",
      "Cell \u001b[0;32mIn[4], line 3\u001b[0m\n\u001b[1;32m      1\u001b[0m cfg \u001b[38;5;241m=\u001b[39m LarkStuff(\u001b[38;5;28mopen\u001b[39m(\u001b[38;5;124m\"\u001b[39m\u001b[38;5;124m../benchmark/grammars/sql_case_sensitive.lark\u001b[39m\u001b[38;5;124m\"\u001b[39m)\u001b[38;5;241m.\u001b[39mread())\u001b[38;5;241m.\u001b[39mchar_cfg(\u001b[38;5;241m.99\u001b[39m, ignore\u001b[38;5;241m=\u001b[39m\u001b[38;5;124m'\u001b[39m\u001b[38;5;124m[ ]?\u001b[39m\u001b[38;5;124m'\u001b[39m)\n\u001b[1;32m      2\u001b[0m cfg \u001b[38;5;241m=\u001b[39m locally_normalize(cfg, tol\u001b[38;5;241m=\u001b[39m\u001b[38;5;241m1e-40\u001b[39m, maxiter\u001b[38;5;241m=\u001b[39mnp\u001b[38;5;241m.\u001b[39minf)\n\u001b[0;32m----> 3\u001b[0m guide \u001b[38;5;241m=\u001b[39m \u001b[43mEarleyBoolMaskCFGLM\u001b[49m\u001b[43m(\u001b[49m\u001b[43mcfg\u001b[49m\u001b[43m)\u001b[49m\n",
      "File \u001b[0;32m~/genparse/genparse/cfglm.py:68\u001b[0m, in \u001b[0;36mEarleyBoolMaskCFGLM.__init__\u001b[0;34m(self, cfg)\u001b[0m\n\u001b[1;32m     66\u001b[0m \u001b[38;5;28;01mif\u001b[39;00m EOS \u001b[38;5;129;01mnot\u001b[39;00m \u001b[38;5;129;01min\u001b[39;00m cfg\u001b[38;5;241m.\u001b[39mV: cfg \u001b[38;5;241m=\u001b[39m add_EOS(cfg)\n\u001b[1;32m     67\u001b[0m \u001b[38;5;28;01mif\u001b[39;00m cfg\u001b[38;5;241m.\u001b[39mR \u001b[38;5;241m!=\u001b[39m Boolean: cfg \u001b[38;5;241m=\u001b[39m cfg\u001b[38;5;241m.\u001b[39mmap_values(\u001b[38;5;28;01mlambda\u001b[39;00m x: Boolean(x\u001b[38;5;241m>\u001b[39m\u001b[38;5;241m0\u001b[39m), Boolean)\n\u001b[0;32m---> 68\u001b[0m \u001b[38;5;28mself\u001b[39m\u001b[38;5;241m.\u001b[39mmodel \u001b[38;5;241m=\u001b[39m \u001b[43mEarley\u001b[49m\u001b[43m(\u001b[49m\u001b[43mcfg\u001b[49m\u001b[38;5;241;43m.\u001b[39;49m\u001b[43mprefix_grammar\u001b[49m\u001b[43m)\u001b[49m\n\u001b[1;32m     69\u001b[0m \u001b[38;5;28msuper\u001b[39m()\u001b[38;5;241m.\u001b[39m\u001b[38;5;21m__init__\u001b[39m(eos \u001b[38;5;241m=\u001b[39m EOS, V \u001b[38;5;241m=\u001b[39m cfg\u001b[38;5;241m.\u001b[39mV)\n",
      "File \u001b[0;32m~/genparse/genparse/experimental/earley.py:48\u001b[0m, in \u001b[0;36mEarley.__init__\u001b[0;34m(self, cfg)\u001b[0m\n\u001b[1;32m     46\u001b[0m \u001b[38;5;28;01mdef\u001b[39;00m \u001b[38;5;21m__init__\u001b[39m(\u001b[38;5;28mself\u001b[39m, cfg):\n\u001b[0;32m---> 48\u001b[0m     cfg \u001b[38;5;241m=\u001b[39m \u001b[43mcfg\u001b[49m\u001b[38;5;241;43m.\u001b[39;49m\u001b[43mnullaryremove\u001b[49m\u001b[43m(\u001b[49m\u001b[43mbinarize\u001b[49m\u001b[38;5;241;43m=\u001b[39;49m\u001b[38;5;28;43;01mTrue\u001b[39;49;00m\u001b[43m)\u001b[49m\u001b[38;5;241;43m.\u001b[39;49m\u001b[43munarycycleremove\u001b[49m\u001b[43m(\u001b[49m\u001b[43m)\u001b[49m\u001b[38;5;241m.\u001b[39mrenumber()\n\u001b[1;32m     49\u001b[0m     \u001b[38;5;28mself\u001b[39m\u001b[38;5;241m.\u001b[39mcfg \u001b[38;5;241m=\u001b[39m cfg\n\u001b[1;32m     51\u001b[0m     \u001b[38;5;66;03m# cache of chart columns\u001b[39;00m\n",
      "File \u001b[0;32m~/genparse/genparse/cfg.py:378\u001b[0m, in \u001b[0;36mCFG.unarycycleremove\u001b[0;34m(self, trim)\u001b[0m\n\u001b[1;32m    375\u001b[0m bucket \u001b[38;5;241m=\u001b[39m G\u001b[38;5;241m.\u001b[39mbuckets\n\u001b[1;32m    377\u001b[0m acyclic \u001b[38;5;241m=\u001b[39m \u001b[38;5;28mset\u001b[39m()\n\u001b[0;32m--> 378\u001b[0m \u001b[38;5;28;01mfor\u001b[39;00m nodes, _ \u001b[38;5;129;01min\u001b[39;00m \u001b[43mG\u001b[49m\u001b[38;5;241;43m.\u001b[39;49m\u001b[43mBlocks\u001b[49m:\n\u001b[1;32m    379\u001b[0m     \u001b[38;5;28;01mif\u001b[39;00m \u001b[38;5;28mlen\u001b[39m(nodes) \u001b[38;5;241m==\u001b[39m \u001b[38;5;241m1\u001b[39m:\n\u001b[1;32m    380\u001b[0m         [X] \u001b[38;5;241m=\u001b[39m nodes\n",
      "File \u001b[0;32m~/miniconda3/envs/genparse/lib/python3.10/functools.py:981\u001b[0m, in \u001b[0;36mcached_property.__get__\u001b[0;34m(self, instance, owner)\u001b[0m\n\u001b[1;32m    979\u001b[0m val \u001b[38;5;241m=\u001b[39m cache\u001b[38;5;241m.\u001b[39mget(\u001b[38;5;28mself\u001b[39m\u001b[38;5;241m.\u001b[39mattrname, _NOT_FOUND)\n\u001b[1;32m    980\u001b[0m \u001b[38;5;28;01mif\u001b[39;00m val \u001b[38;5;129;01mis\u001b[39;00m _NOT_FOUND:\n\u001b[0;32m--> 981\u001b[0m     val \u001b[38;5;241m=\u001b[39m \u001b[38;5;28;43mself\u001b[39;49m\u001b[38;5;241;43m.\u001b[39;49m\u001b[43mfunc\u001b[49m\u001b[43m(\u001b[49m\u001b[43minstance\u001b[49m\u001b[43m)\u001b[49m\n\u001b[1;32m    982\u001b[0m     \u001b[38;5;28;01mtry\u001b[39;00m:\n\u001b[1;32m    983\u001b[0m         cache[\u001b[38;5;28mself\u001b[39m\u001b[38;5;241m.\u001b[39mattrname] \u001b[38;5;241m=\u001b[39m val\n",
      "File \u001b[0;32m~/genparse/genparse/linear.py:139\u001b[0m, in \u001b[0;36mWeightedGraph.Blocks\u001b[0;34m(self)\u001b[0m\n\u001b[1;32m    137\u001b[0m \u001b[38;5;129m@cached_property\u001b[39m\n\u001b[1;32m    138\u001b[0m \u001b[38;5;28;01mdef\u001b[39;00m \u001b[38;5;21mBlocks\u001b[39m(\u001b[38;5;28mself\u001b[39m):\n\u001b[0;32m--> 139\u001b[0m     \u001b[38;5;28;01mreturn\u001b[39;00m [(block, \u001b[38;5;28mself\u001b[39m\u001b[38;5;241m.\u001b[39m_closure(\u001b[38;5;28mself\u001b[39m\u001b[38;5;241m.\u001b[39mE, block)) \u001b[38;5;28;01mfor\u001b[39;00m block \u001b[38;5;129;01min\u001b[39;00m \u001b[38;5;28mself\u001b[39m\u001b[38;5;241m.\u001b[39mblocks]\n",
      "File \u001b[0;32m~/genparse/genparse/linear.py:139\u001b[0m, in \u001b[0;36m<listcomp>\u001b[0;34m(.0)\u001b[0m\n\u001b[1;32m    137\u001b[0m \u001b[38;5;129m@cached_property\u001b[39m\n\u001b[1;32m    138\u001b[0m \u001b[38;5;28;01mdef\u001b[39;00m \u001b[38;5;21mBlocks\u001b[39m(\u001b[38;5;28mself\u001b[39m):\n\u001b[0;32m--> 139\u001b[0m     \u001b[38;5;28;01mreturn\u001b[39;00m [(block, \u001b[38;5;28;43mself\u001b[39;49m\u001b[38;5;241;43m.\u001b[39;49m\u001b[43m_closure\u001b[49m\u001b[43m(\u001b[49m\u001b[38;5;28;43mself\u001b[39;49m\u001b[38;5;241;43m.\u001b[39;49m\u001b[43mE\u001b[49m\u001b[43m,\u001b[49m\u001b[43m \u001b[49m\u001b[43mblock\u001b[49m\u001b[43m)\u001b[49m) \u001b[38;5;28;01mfor\u001b[39;00m block \u001b[38;5;129;01min\u001b[39;00m \u001b[38;5;28mself\u001b[39m\u001b[38;5;241m.\u001b[39mblocks]\n",
      "File \u001b[0;32m~/genparse/genparse/linear.py:119\u001b[0m, in \u001b[0;36mWeightedGraph._closure\u001b[0;34m(self, A, N)\u001b[0m\n\u001b[1;32m    117\u001b[0m     \u001b[38;5;28;01mfor\u001b[39;00m i \u001b[38;5;129;01min\u001b[39;00m N:\n\u001b[1;32m    118\u001b[0m         \u001b[38;5;28;01mfor\u001b[39;00m k \u001b[38;5;129;01min\u001b[39;00m N:\n\u001b[0;32m--> 119\u001b[0m             new[i,k] \u001b[38;5;241m=\u001b[39m old[i,k] \u001b[38;5;241m+\u001b[39m \u001b[43mold\u001b[49m\u001b[43m[\u001b[49m\u001b[43mi\u001b[49m\u001b[43m,\u001b[49m\u001b[43mj\u001b[49m\u001b[43m]\u001b[49m\u001b[43m \u001b[49m\u001b[38;5;241;43m*\u001b[39;49m\u001b[43m \u001b[49m\u001b[43msjj\u001b[49m \u001b[38;5;241m*\u001b[39m old[j,k]\n\u001b[1;32m    120\u001b[0m     old, new \u001b[38;5;241m=\u001b[39m new, old\n\u001b[1;32m    121\u001b[0m \u001b[38;5;66;03m# reflexive closure\u001b[39;00m\n",
      "File \u001b[0;32m~/genparse/genparse/semiring.py:118\u001b[0m, in \u001b[0;36mBoolean.__mul__\u001b[0;34m(self, other)\u001b[0m\n\u001b[1;32m    115\u001b[0m \u001b[38;5;28;01mdef\u001b[39;00m \u001b[38;5;21m__add__\u001b[39m(\u001b[38;5;28mself\u001b[39m, other):\n\u001b[1;32m    116\u001b[0m     \u001b[38;5;28;01mreturn\u001b[39;00m Boolean(\u001b[38;5;28mself\u001b[39m\u001b[38;5;241m.\u001b[39mscore \u001b[38;5;129;01mor\u001b[39;00m other\u001b[38;5;241m.\u001b[39mscore)\n\u001b[0;32m--> 118\u001b[0m \u001b[38;5;28;01mdef\u001b[39;00m \u001b[38;5;21m__mul__\u001b[39m(\u001b[38;5;28mself\u001b[39m, other):\n\u001b[1;32m    119\u001b[0m     \u001b[38;5;28;01mreturn\u001b[39;00m Boolean(other\u001b[38;5;241m.\u001b[39mscore \u001b[38;5;129;01mand\u001b[39;00m \u001b[38;5;28mself\u001b[39m\u001b[38;5;241m.\u001b[39mscore)\n\u001b[1;32m    121\u001b[0m \u001b[38;5;28;01mdef\u001b[39;00m \u001b[38;5;21m__repr__\u001b[39m(\u001b[38;5;28mself\u001b[39m):\n",
      "\u001b[0;31mKeyboardInterrupt\u001b[0m: "
     ]
    }
   ],
   "source": [
    "cfg = LarkStuff(open(\"../benchmark/grammars/sql_case_sensitive.lark\").read()).char_cfg(.99, ignore='[ ]?')\n",
    "cfg = locally_normalize(cfg, tol=1e-40, maxiter=np.inf)\n",
    "guide = EarleyBoolMaskCFGLM(cfg) # should take forever"
   ]
  },
  {
   "cell_type": "code",
   "execution_count": 5,
   "id": "5205929a",
   "metadata": {},
   "outputs": [],
   "source": [
    "# try booleanization after unary and nullary removal\n",
    "# comment out line 48 of earley.py (cfg = cfg.nullaryremove(binarize=True).unarycycleremove().renumber())\n",
    "# this terminates, but guide.p_next('') is empty.\n",
    "\n",
    "from genparse.lm import LM\n",
    "from genparse import EOS, add_EOS, Boolean, Float\n",
    "\n",
    "class EarleyBoolMaskCFGLM2(LM):\n",
    "    \"LM-like interface for Boolean-masking CFG models; uses Earley's algorithm for inference.\"\n",
    "\n",
    "    def __init__(self, cfg):\n",
    "        from genparse.experimental.earley import Earley\n",
    "        if EOS not in cfg.V: cfg = add_EOS(cfg)\n",
    "        cfg = cfg.nullaryremove(binarize=True).unarycycleremove().renumber()\n",
    "        if cfg.R != Boolean: cfg = cfg.map_values(lambda x: Boolean(x>0), Boolean)\n",
    "        self.model = Earley(cfg.prefix_grammar)\n",
    "        super().__init__(eos = EOS, V = cfg.V)\n",
    "\n",
    "    def p_next(self, context):\n",
    "        p = self.model.p_next(context).trim()\n",
    "        return Float.chart({w: 1 for w in p})\n",
    "\n",
    "    def __call__(self, context):\n",
    "        assert context[-1] == EOS\n",
    "        return float(self.model(context) != Boolean.zero)\n"
   ]
  },
  {
   "cell_type": "code",
   "execution_count": 6,
   "id": "8ff7a54d",
   "metadata": {},
   "outputs": [],
   "source": [
    "guide = EarleyBoolMaskCFGLM2(cfg)"
   ]
  },
  {
   "cell_type": "code",
   "execution_count": 7,
   "id": "8513c679",
   "metadata": {},
   "outputs": [
    {
     "data": {
      "text/html": [
       "<div style=\"font-family: Monospace;\"><table><tr style=\"font-weight: bold;\"><td>key</td><td>value</td></tr></table></div>"
      ],
      "text/plain": [
       "{}"
      ]
     },
     "execution_count": 7,
     "metadata": {},
     "output_type": "execute_result"
    }
   ],
   "source": [
    "guide.p_next(\"\") "
   ]
  }
 ],
 "metadata": {
  "kernelspec": {
   "display_name": "genparse",
   "language": "python",
   "name": "python3"
  },
  "language_info": {
   "codemirror_mode": {
    "name": "ipython",
    "version": 3
   },
   "file_extension": ".py",
   "mimetype": "text/x-python",
   "name": "python",
   "nbconvert_exporter": "python",
   "pygments_lexer": "ipython3",
   "version": "3.10.14"
  }
 },
 "nbformat": 4,
 "nbformat_minor": 5
}
