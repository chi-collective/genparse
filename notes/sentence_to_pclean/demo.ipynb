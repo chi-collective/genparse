{
 "cells": [
  {
   "cell_type": "code",
   "execution_count": 1,
   "id": "c8ae16ed-e3b5-441d-8f0a-5d78b9fb835a",
   "metadata": {},
   "outputs": [],
   "source": [
    "import gc\n",
    "import json\n",
    "import logging\n",
    "from pathlib import Path\n",
    "import sqlite3\n",
    "import string\n",
    "from typing import Any, TypeVar, Union\n",
    "\n",
    "from IPython.display import display, Markdown\n",
    "import nest_asyncio\n",
    "import requests\n",
    "import spacy\n",
    "import torch\n",
    "import transformers\n",
    "\n",
    "from genparse import InferenceSetup, InferenceSetupVLLM\n",
    "\n",
    "nest_asyncio.apply()\n",
    "\n",
    "logger = logging.getLogger(\"notebook\")"
   ]
  },
  {
   "cell_type": "code",
   "execution_count": 19,
   "id": "088033b5-c175-43e6-9332-5ffa2aa9cd59",
   "metadata": {},
   "outputs": [],
   "source": [
    "debug_sentences_path = Path().resolve() / \"debug_sentences.jsonl\"\n",
    "debug_sentences = [json.loads(line) for line in debug_sentences_path.read_text(encoding=\"utf-8\").splitlines() if line.strip()]"
   ]
  },
  {
   "cell_type": "code",
   "execution_count": 20,
   "id": "61c079f1-91a3-4c2b-a075-56c460f12d5f",
   "metadata": {},
   "outputs": [
    {
     "data": {
      "text/markdown": [
       "| Sentence | Example PClean preamble code |\n",
       "| --- | --- |\n",
       "| Just had an insightful consultation with Dr. Kay Ryan in Baltimore. Feeling optimistic about my health! #HealthMatters #Baltimore | <pre>name_key = PClean.resolve_dot_expression(trace.model, :Obs, :name)<br>row_trace[name_key] = \"Kay Ryan\"<br>name_key = PClean.resolve_dot_expression(trace.model, :Obs, :family_name)<br>city_key = PClean.resolve_dot_expression(trace.model, :Obs, :city)<br>row_trace[city_key] = \"Baltimore\"</pre> |\n",
       "| Dr. Kay Ryan's office at 321 Pine St. in Baltimore is so welcoming and efficient. Highly recommend! #CityCare | <pre>name_key = PClean.resolve_dot_expression(trace.model, :Obs, :name)<br>row_trace[name_key] = \"Kay Ryan\"<br>name_key = PClean.resolve_dot_expression(trace.model, :Obs, :family_name)<br>city_key = PClean.resolve_dot_expression(trace.model, :Obs, :city)<br>row_trace[city_key] = \"Baltimore\"<br>address_key = PClean.resolve_dot_expression(trace.model, :Obs, :address)<br>row_trace[address_key] = \"321 Pine St.\"</pre> |\n",
       "| Exploring Baltimore after an informative appointment with Dr. Kay Ryan. Loving this city's vibe! #BaltimoreAdventures #DoctorVisit | <pre>name_key = PClean.resolve_dot_expression(trace.model, :Obs, :name)<br>row_trace[name_key] = \"Kay Ryan\"<br>name_key = PClean.resolve_dot_expression(trace.model, :Obs, :family_name)<br>city_key = PClean.resolve_dot_expression(trace.model, :Obs, :city)<br>row_trace[city_key] = \"Baltimore\"</pre> |\n",
       "| Dr. Kay Ryan, a neurologist, provided excellent care today. Grateful for her expertise! #Healthcare #BaltimoreDoctors | <pre>name_key = PClean.resolve_dot_expression(trace.model, :Obs, :name)<br>row_trace[name_key] = \"Kay Ryan\"<br>name_key = PClean.resolve_dot_expression(trace.model, :Obs, :family_name)<br>city_key = PClean.resolve_dot_expression(trace.model, :Obs, :city)<br>row_trace[city_key] = \"Baltimore\"<br>occupation_key = PClean.resolve_dot_expression(trace.model, :Obs, :occupation)<br>row_trace[occupation_key] = \"neurologist\"</pre> |\n",
       "| Feeling reassured after my visit to Dr. Kay Ryan in Baltimore. She's truly exceptional! #FeelingGood #CityOfCharm | <pre>name_key = PClean.resolve_dot_expression(trace.model, :Obs, :name)<br>row_trace[name_key] = \"Kay Ryan\"<br>name_key = PClean.resolve_dot_expression(trace.model, :Obs, :family_name)<br>city_key = PClean.resolve_dot_expression(trace.model, :Obs, :city)<br>row_trace[city_key] = \"Baltimore\"</pre> |\n",
       "| Had a great experience with Dr. Kay Ryan at 321 Pine St. in Baltimore. Her attention to detail is unmatched! #HealthCheck | <pre>name_key = PClean.resolve_dot_expression(trace.model, :Obs, :name)<br>row_trace[name_key] = \"Kay Ryan\"<br>name_key = PClean.resolve_dot_expression(trace.model, :Obs, :family_name)<br>city_key = PClean.resolve_dot_expression(trace.model, :Obs, :city)<br>row_trace[city_key] = \"Baltimore\"<br>address_key = PClean.resolve_dot_expression(trace.model, :Obs, :address)<br>row_trace[address_key] = \"321 Pine St.\"</pre> |\n",
       "| From diagnosis to treatment, Dr. Kay Ryan, a cardiologist, covered it all. Baltimore, you're lucky to have her! #MedicalCare | <pre>name_key = PClean.resolve_dot_expression(trace.model, :Obs, :name)<br>row_trace[name_key] = \"Kay Ryan\"<br>name_key = PClean.resolve_dot_expression(trace.model, :Obs, :family_name)<br>city_key = PClean.resolve_dot_expression(trace.model, :Obs, :city)<br>row_trace[city_key] = \"Baltimore\"<br>occupation_key = PClean.resolve_dot_expression(trace.model, :Obs, :occupation)<br>row_trace[occupation_key] = \"cardiologist\"</pre> |\n",
       "| Just wrapped up my appointment with Dr. Kay Ryan in Baltimore. Her professionalism is top-notch. #HealthJourney | <pre>name_key = PClean.resolve_dot_expression(trace.model, :Obs, :name)<br>row_trace[name_key] = \"Kay Ryan\"<br>name_key = PClean.resolve_dot_expression(trace.model, :Obs, :family_name)<br>city_key = PClean.resolve_dot_expression(trace.model, :Obs, :city)<br>row_trace[city_key] = \"Baltimore\"</pre> |\n",
       "| Dr. Kay Ryan's office in Baltimore is so efficient and welcoming. A great experience overall! #DoctorVisit #CityCare | <pre>name_key = PClean.resolve_dot_expression(trace.model, :Obs, :name)<br>row_trace[name_key] = \"Kay Ryan\"<br>name_key = PClean.resolve_dot_expression(trace.model, :Obs, :family_name)<br>city_key = PClean.resolve_dot_expression(trace.model, :Obs, :city)<br>row_trace[city_key] = \"Baltimore\"</pre> |\n",
       "| Can't say enough good things about Dr. Kay Ryan, a pediatrician, in Baltimore. Truly an outstanding doctor! #Grateful | <pre>name_key = PClean.resolve_dot_expression(trace.model, :Obs, :name)<br>row_trace[name_key] = \"Kay Ryan\"<br>name_key = PClean.resolve_dot_expression(trace.model, :Obs, :family_name)<br>city_key = PClean.resolve_dot_expression(trace.model, :Obs, :city)<br>row_trace[city_key] = \"Baltimore\"<br>occupation_key = PClean.resolve_dot_expression(trace.model, :Obs, :occupation)<br>row_trace[occupation_key] = \"pediatrician\"</pre> |"
      ],
      "text/plain": [
       "<IPython.core.display.Markdown object>"
      ]
     },
     "metadata": {},
     "output_type": "display_data"
    }
   ],
   "source": [
    "sentence_table_row_template = string.Template(\"| $sentence | <pre>$example_output</pre> |\")\n",
    "def show_sentences(sentence_data):\n",
    "    lines = [\"| Sentence | Example PClean preamble code |\", \"| --- | --- |\"]\n",
    "    for sentence_datum in sentence_data:\n",
    "        lines.append(sentence_table_row_template.substitute(sentence=sentence_datum[\"sentence\"], example_output=sentence_datum[\"example_output\"].replace(\"\\n\", \"<br>\")))\n",
    "    markdown = \"\\n\".join(lines)\n",
    "    display(Markdown(markdown))\n",
    "\n",
    "\n",
    "show_sentences(debug_sentences)"
   ]
  },
  {
   "cell_type": "code",
   "execution_count": 21,
   "id": "9ad06c20-4e09-4ca2-84af-285dd23c3dbc",
   "metadata": {},
   "outputs": [
    {
     "name": "stdout",
     "output_type": "stream",
     "text": [
      "Just had an insightful consultation with Dr. Kay Ryan in Baltimore. Feeling optimistic about my health! #HealthMatters #Baltimore\n",
      "(Kay Ryan, Baltimore, Baltimore)\n",
      "\n",
      "Dr. Kay Ryan's office at 321 Pine St. in Baltimore is so welcoming and efficient. Highly recommend! #CityCare\n",
      "(Kay Ryan, Baltimore, CityCare)\n",
      "\n",
      "Exploring Baltimore after an informative appointment with Dr. Kay Ryan. Loving this city's vibe! #BaltimoreAdventures #DoctorVisit\n",
      "(Baltimore, Kay Ryan)\n",
      "\n",
      "Dr. Kay Ryan, a neurologist, provided excellent care today. Grateful for her expertise! #Healthcare #BaltimoreDoctors\n",
      "(Kay Ryan, today)\n",
      "\n",
      "Feeling reassured after my visit to Dr. Kay Ryan in Baltimore. She's truly exceptional! #FeelingGood #CityOfCharm\n",
      "(Kay Ryan, Baltimore)\n",
      "\n",
      "Had a great experience with Dr. Kay Ryan at 321 Pine St. in Baltimore. Her attention to detail is unmatched! #HealthCheck\n",
      "(Kay Ryan, Baltimore)\n",
      "\n",
      "From diagnosis to treatment, Dr. Kay Ryan, a cardiologist, covered it all. Baltimore, you're lucky to have her! #MedicalCare\n",
      "(Kay Ryan, Baltimore)\n",
      "\n",
      "Just wrapped up my appointment with Dr. Kay Ryan in Baltimore. Her professionalism is top-notch. #HealthJourney\n",
      "(Kay Ryan, Baltimore)\n",
      "\n",
      "Dr. Kay Ryan's office in Baltimore is so efficient and welcoming. A great experience overall! #DoctorVisit #CityCare\n",
      "(Kay Ryan, Baltimore)\n",
      "\n",
      "Can't say enough good things about Dr. Kay Ryan, a pediatrician, in Baltimore. Truly an outstanding doctor! #Grateful\n",
      "(Kay Ryan, Baltimore)\n",
      "\n"
     ]
    }
   ],
   "source": [
    "# Supporting code for entity extraction.\n",
    "_SPACY_MODEL_NAME = 'en_core_web_trf'\n",
    "spacy_model = spacy.load(_SPACY_MODEL_NAME)\n",
    "_PERSON_LABEL = 'PERSON'\n",
    "_LOCATION_LABEL = 'LOC'\n",
    "_SPACY_LABELS = spacy_model.get_pipe(\"ner\").labels\n",
    "assert _PERSON_LABEL in _SPACY_LABELS\n",
    "\n",
    "T = TypeVar('T')\n",
    "\n",
    "def _uniquify(items: list[T]) -> list[T]:\n",
    "    \"\"\"\n",
    "    O(n^2) order-preserving uniquification.\n",
    "\n",
    "    Fine for short lists like a single sentence's list of PERSON entities.\n",
    "    \"\"\"\n",
    "    result = []\n",
    "    for item in items:\n",
    "        if item not in result:\n",
    "            result.append(item)\n",
    "    return result\n",
    "\n",
    "def get_people(sentence: str) -> list[str]:\n",
    "    return _uniquify(\n",
    "        [ent.text for ent in spacy_model(sentence).ents if ent.label_ == _PERSON_LABEL]\n",
    "    )\n",
    "\n",
    "def get_locations(sentence: str) -> list[str]:\n",
    "    return _uniquify(\n",
    "        [ent.text for ent in spacy_model(sentence).ents if ent.label_ == _LOCATION_LABEL]\n",
    "    )\n",
    "\n",
    "def show_ents(sentence: str) -> None:\n",
    "    print(sentence)\n",
    "    print(spacy_model(sentence).ents)\n",
    "\n",
    "for sentence_datum in debug_sentences:\n",
    "    show_ents(sentence_datum[\"sentence\"])\n",
    "    print()"
   ]
  }
 ],
 "metadata": {
  "kernelspec": {
   "display_name": "Python 3 (ipykernel)",
   "language": "python",
   "name": "python3"
  },
  "language_info": {
   "codemirror_mode": {
    "name": "ipython",
    "version": 3
   },
   "file_extension": ".py",
   "mimetype": "text/x-python",
   "name": "python",
   "nbconvert_exporter": "python",
   "pygments_lexer": "ipython3",
   "version": "3.10.14"
  }
 },
 "nbformat": 4,
 "nbformat_minor": 5
}
