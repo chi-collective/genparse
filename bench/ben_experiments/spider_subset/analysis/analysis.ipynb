{
 "cells": [
  {
   "cell_type": "markdown",
   "metadata": {},
   "source": [
    "Install `R` with `sudo apt-get install r-base`.\n",
    "\n",
    "In `R` console: \n",
    "\n",
    "```R\n",
    "install.packages('IRkernel')\n",
    "IRkernel::installspec(user = TRUE)\n",
    "```\n",
    "\n",
    "\n",
    "check for `ir` in `jupyter kernelspec list`"
   ]
  },
  {
   "cell_type": "code",
   "execution_count": 2,
   "metadata": {
    "vscode": {
     "languageId": "r"
    }
   },
   "outputs": [
    {
     "name": "stderr",
     "output_type": "stream",
     "text": [
      "Installing package into ‘/home/lebrunb/R/x86_64-pc-linux-gnu-library/4.0’\n",
      "(as ‘lib’ is unspecified)\n",
      "\n"
     ]
    },
    {
     "name": "stderr",
     "output_type": "stream",
     "text": [
      "Installing package into ‘/home/lebrunb/R/x86_64-pc-linux-gnu-library/4.0’\n",
      "(as ‘lib’ is unspecified)\n",
      "\n",
      "Installing package into ‘/home/lebrunb/R/x86_64-pc-linux-gnu-library/4.0’\n",
      "(as ‘lib’ is unspecified)\n",
      "\n"
     ]
    }
   ],
   "source": [
    "install.packages(\"ggplot2\")\n",
    "install.packages(\"dplyr\")\n",
    "install.packages(\"boot\")"
   ]
  },
  {
   "cell_type": "code",
   "execution_count": 4,
   "metadata": {
    "vscode": {
     "languageId": "r"
    }
   },
   "outputs": [
    {
     "name": "stderr",
     "output_type": "stream",
     "text": [
      "Warning message in file(file, \"rt\"):\n",
      "“cannot open file 'llama-3.1-experiment-data.csv': No such file or directory”\n"
     ]
    },
    {
     "ename": "ERROR",
     "evalue": "Error in file(file, \"rt\"): cannot open the connection\n",
     "output_type": "error",
     "traceback": [
      "Error in file(file, \"rt\"): cannot open the connection\nTraceback:\n",
      "1. read.csv(\"llama-3.1-experiment-data.csv\")",
      "2. read.table(file = file, header = header, sep = sep, quote = quote, \n .     dec = dec, fill = fill, comment.char = comment.char, ...)",
      "3. file(file, \"rt\")"
     ]
    }
   ],
   "source": [
    "library(dplyr)\n",
    "library(boot)\n",
    "library(ggplot2)\n",
    "\n",
    "# Sample data\n",
    "data <- read.csv('llama-3-experiment-data.csv')\n",
    "data$mbr <- as.logical(data$mbr)\n",
    "\n",
    "data2 <- read.csv('llama-3.1-experiment-data.csv')\n",
    "data2$mbr <- as.logical(data2$mbr)\n",
    "\n",
    "data <- rbind(data, data2)\n",
    "\n",
    "# Calculate proportions\n",
    "proportions <- data %>%\n",
    "  group_by(model, n_particles, LM) %>%\n",
    "  summarize(proportion = mean(mbr))\n",
    "\n",
    "# Bootstrap confidence intervals function\n",
    "bootstrap_ci <- function(x, n_iterations=1000, ci=95) {\n",
    "  boot_fn <- function(data, indices) {\n",
    "    mean(data[indices])\n",
    "  }\n",
    "  \n",
    "  results <- boot(x, boot_fn, R=n_iterations)\n",
    "  ci <- boot.ci(results, type=\"perc\")$perc[4:5]\n",
    "  return(ci)\n",
    "}\n",
    "\n",
    "# Compute confidence intervals\n",
    "conf_intervals <- data %>%\n",
    "  group_by(model, n_particles, LM) %>%\n",
    "  summarize(\n",
    "    proportion = mean(mbr),\n",
    "    ci = list(bootstrap_ci(mbr)),\n",
    "    ci_lower = ci[[1]][1],\n",
    "    ci_upper = ci[[1]][2]\n",
    "  ) %>%\n",
    "  ungroup()"
   ]
  },
  {
   "cell_type": "code",
   "execution_count": 3,
   "metadata": {
    "vscode": {
     "languageId": "r"
    }
   },
   "outputs": [
    {
     "data": {
      "text/html": [
       "<table class=\"dataframe\">\n",
       "<caption>A grouped_df: 10 × 4</caption>\n",
       "<thead>\n",
       "\t<tr><th scope=col>model</th><th scope=col>n_particles</th><th scope=col>LM</th><th scope=col>proportion</th></tr>\n",
       "\t<tr><th scope=col>&lt;chr&gt;</th><th scope=col>&lt;int&gt;</th><th scope=col>&lt;chr&gt;</th><th scope=col>&lt;dbl&gt;</th></tr>\n",
       "</thead>\n",
       "<tbody>\n",
       "\t<tr><td>Baseline LM</td><td>  1</td><td>Meta-Llama-3-8B-Instruct</td><td>0.4829268</td></tr>\n",
       "\t<tr><td>Baseline LM</td><td> 10</td><td>Meta-Llama-3-8B-Instruct</td><td>0.5707317</td></tr>\n",
       "\t<tr><td>Baseline LM</td><td> 20</td><td>Meta-Llama-3-8B-Instruct</td><td>0.5658537</td></tr>\n",
       "\t<tr><td>Baseline LM</td><td> 50</td><td>Meta-Llama-3-8B-Instruct</td><td>0.5609756</td></tr>\n",
       "\t<tr><td>Baseline LM</td><td>100</td><td>Meta-Llama-3-8B-Instruct</td><td>0.5658537</td></tr>\n",
       "\t<tr><td>GenParse   </td><td>  1</td><td>Meta-Llama-3-8B-Instruct</td><td>0.4829268</td></tr>\n",
       "\t<tr><td>GenParse   </td><td> 10</td><td>Meta-Llama-3-8B-Instruct</td><td>0.7609756</td></tr>\n",
       "\t<tr><td>GenParse   </td><td> 20</td><td>Meta-Llama-3-8B-Instruct</td><td>0.7951220</td></tr>\n",
       "\t<tr><td>GenParse   </td><td> 50</td><td>Meta-Llama-3-8B-Instruct</td><td>0.7853659</td></tr>\n",
       "\t<tr><td>GenParse   </td><td>100</td><td>Meta-Llama-3-8B-Instruct</td><td>0.8097561</td></tr>\n",
       "</tbody>\n",
       "</table>\n"
      ],
      "text/latex": [
       "A grouped\\_df: 10 × 4\n",
       "\\begin{tabular}{llll}\n",
       " model & n\\_particles & LM & proportion\\\\\n",
       " <chr> & <int> & <chr> & <dbl>\\\\\n",
       "\\hline\n",
       "\t Baseline LM &   1 & Meta-Llama-3-8B-Instruct & 0.4829268\\\\\n",
       "\t Baseline LM &  10 & Meta-Llama-3-8B-Instruct & 0.5707317\\\\\n",
       "\t Baseline LM &  20 & Meta-Llama-3-8B-Instruct & 0.5658537\\\\\n",
       "\t Baseline LM &  50 & Meta-Llama-3-8B-Instruct & 0.5609756\\\\\n",
       "\t Baseline LM & 100 & Meta-Llama-3-8B-Instruct & 0.5658537\\\\\n",
       "\t GenParse    &   1 & Meta-Llama-3-8B-Instruct & 0.4829268\\\\\n",
       "\t GenParse    &  10 & Meta-Llama-3-8B-Instruct & 0.7609756\\\\\n",
       "\t GenParse    &  20 & Meta-Llama-3-8B-Instruct & 0.7951220\\\\\n",
       "\t GenParse    &  50 & Meta-Llama-3-8B-Instruct & 0.7853659\\\\\n",
       "\t GenParse    & 100 & Meta-Llama-3-8B-Instruct & 0.8097561\\\\\n",
       "\\end{tabular}\n"
      ],
      "text/markdown": [
       "\n",
       "A grouped_df: 10 × 4\n",
       "\n",
       "| model &lt;chr&gt; | n_particles &lt;int&gt; | LM &lt;chr&gt; | proportion &lt;dbl&gt; |\n",
       "|---|---|---|---|\n",
       "| Baseline LM |   1 | Meta-Llama-3-8B-Instruct | 0.4829268 |\n",
       "| Baseline LM |  10 | Meta-Llama-3-8B-Instruct | 0.5707317 |\n",
       "| Baseline LM |  20 | Meta-Llama-3-8B-Instruct | 0.5658537 |\n",
       "| Baseline LM |  50 | Meta-Llama-3-8B-Instruct | 0.5609756 |\n",
       "| Baseline LM | 100 | Meta-Llama-3-8B-Instruct | 0.5658537 |\n",
       "| GenParse    |   1 | Meta-Llama-3-8B-Instruct | 0.4829268 |\n",
       "| GenParse    |  10 | Meta-Llama-3-8B-Instruct | 0.7609756 |\n",
       "| GenParse    |  20 | Meta-Llama-3-8B-Instruct | 0.7951220 |\n",
       "| GenParse    |  50 | Meta-Llama-3-8B-Instruct | 0.7853659 |\n",
       "| GenParse    | 100 | Meta-Llama-3-8B-Instruct | 0.8097561 |\n",
       "\n"
      ],
      "text/plain": [
       "   model       n_particles LM                       proportion\n",
       "1  Baseline LM   1         Meta-Llama-3-8B-Instruct 0.4829268 \n",
       "2  Baseline LM  10         Meta-Llama-3-8B-Instruct 0.5707317 \n",
       "3  Baseline LM  20         Meta-Llama-3-8B-Instruct 0.5658537 \n",
       "4  Baseline LM  50         Meta-Llama-3-8B-Instruct 0.5609756 \n",
       "5  Baseline LM 100         Meta-Llama-3-8B-Instruct 0.5658537 \n",
       "6  GenParse      1         Meta-Llama-3-8B-Instruct 0.4829268 \n",
       "7  GenParse     10         Meta-Llama-3-8B-Instruct 0.7609756 \n",
       "8  GenParse     20         Meta-Llama-3-8B-Instruct 0.7951220 \n",
       "9  GenParse     50         Meta-Llama-3-8B-Instruct 0.7853659 \n",
       "10 GenParse    100         Meta-Llama-3-8B-Instruct 0.8097561 "
      ]
     },
     "metadata": {},
     "output_type": "display_data"
    }
   ],
   "source": [
    "proportions"
   ]
  },
  {
   "cell_type": "code",
   "execution_count": 4,
   "metadata": {
    "vscode": {
     "languageId": "r"
    }
   },
   "outputs": [
    {
     "data": {
      "text/html": [
       "<table class=\"dataframe\">\n",
       "<caption>A tibble: 10 × 7</caption>\n",
       "<thead>\n",
       "\t<tr><th scope=col>model</th><th scope=col>n_particles</th><th scope=col>LM</th><th scope=col>proportion</th><th scope=col>ci</th><th scope=col>NA</th><th scope=col>NA</th><th scope=col>NA</th><th scope=col>NA</th><th scope=col>NA</th><th scope=col>NA</th><th scope=col>NA</th><th scope=col>NA</th><th scope=col>NA</th><th scope=col>ci_lower</th><th scope=col>ci_upper</th></tr>\n",
       "\t<tr><th scope=col>&lt;chr&gt;</th><th scope=col>&lt;int&gt;</th><th scope=col>&lt;chr&gt;</th><th scope=col>&lt;dbl&gt;</th><th scope=col>&lt;list&gt;</th><th scope=col>&lt;dbl&gt;</th><th scope=col>&lt;dbl&gt;</th></tr>\n",
       "</thead>\n",
       "<tbody>\n",
       "\t<tr><td>Baseline LM</td><td>  1</td><td>Meta-Llama-3-8B-Instruct</td><td>0.4829268</td><td>0.4146341</td><td>0.5073171</td><td>0.5024390</td><td>0.4879288</td><td>0.4976849</td><td>0.4098800</td><td>0.7024390</td><td>0.7365854</td><td>0.7268293</td><td>0.7560976</td><td>0.4146341</td><td>0.5560976</td></tr>\n",
       "\t<tr><td>Baseline LM</td><td> 10</td><td>Meta-Llama-3-8B-Instruct</td><td>0.5707317</td><td>0.5560976</td><td>0.6341463</td><td>0.6340224</td><td>0.6292683</td><td>0.6292683</td><td>0.5512195</td><td>0.8195122</td><td>0.8439024</td><td>0.8439024</td><td>0.8634146</td><td>0.5073171</td><td>0.6341463</td></tr>\n",
       "\t<tr><td>Baseline LM</td><td> 20</td><td>Meta-Llama-3-8B-Instruct</td><td>0.5658537</td><td>0.4146341</td><td>0.5073171</td><td>0.5024390</td><td>0.4879288</td><td>0.4976849</td><td>0.4098800</td><td>0.7024390</td><td>0.7365854</td><td>0.7268293</td><td>0.7560976</td><td>0.5024390</td><td>0.6340224</td></tr>\n",
       "\t<tr><td>Baseline LM</td><td> 50</td><td>Meta-Llama-3-8B-Instruct</td><td>0.5609756</td><td>0.5560976</td><td>0.6341463</td><td>0.6340224</td><td>0.6292683</td><td>0.6292683</td><td>0.5512195</td><td>0.8195122</td><td>0.8439024</td><td>0.8439024</td><td>0.8634146</td><td>0.4879288</td><td>0.6292683</td></tr>\n",
       "\t<tr><td>Baseline LM</td><td>100</td><td>Meta-Llama-3-8B-Instruct</td><td>0.5658537</td><td>0.4146341</td><td>0.5073171</td><td>0.5024390</td><td>0.4879288</td><td>0.4976849</td><td>0.4098800</td><td>0.7024390</td><td>0.7365854</td><td>0.7268293</td><td>0.7560976</td><td>0.4976849</td><td>0.6292683</td></tr>\n",
       "\t<tr><td>GenParse   </td><td>  1</td><td>Meta-Llama-3-8B-Instruct</td><td>0.4829268</td><td>0.5560976</td><td>0.6341463</td><td>0.6340224</td><td>0.6292683</td><td>0.6292683</td><td>0.5512195</td><td>0.8195122</td><td>0.8439024</td><td>0.8439024</td><td>0.8634146</td><td>0.4098800</td><td>0.5512195</td></tr>\n",
       "\t<tr><td>GenParse   </td><td> 10</td><td>Meta-Llama-3-8B-Instruct</td><td>0.7609756</td><td>0.4146341</td><td>0.5073171</td><td>0.5024390</td><td>0.4879288</td><td>0.4976849</td><td>0.4098800</td><td>0.7024390</td><td>0.7365854</td><td>0.7268293</td><td>0.7560976</td><td>0.7024390</td><td>0.8195122</td></tr>\n",
       "\t<tr><td>GenParse   </td><td> 20</td><td>Meta-Llama-3-8B-Instruct</td><td>0.7951220</td><td>0.5560976</td><td>0.6341463</td><td>0.6340224</td><td>0.6292683</td><td>0.6292683</td><td>0.5512195</td><td>0.8195122</td><td>0.8439024</td><td>0.8439024</td><td>0.8634146</td><td>0.7365854</td><td>0.8439024</td></tr>\n",
       "\t<tr><td>GenParse   </td><td> 50</td><td>Meta-Llama-3-8B-Instruct</td><td>0.7853659</td><td>0.4146341</td><td>0.5073171</td><td>0.5024390</td><td>0.4879288</td><td>0.4976849</td><td>0.4098800</td><td>0.7024390</td><td>0.7365854</td><td>0.7268293</td><td>0.7560976</td><td>0.7268293</td><td>0.8439024</td></tr>\n",
       "\t<tr><td>GenParse   </td><td>100</td><td>Meta-Llama-3-8B-Instruct</td><td>0.8097561</td><td>0.5560976</td><td>0.6341463</td><td>0.6340224</td><td>0.6292683</td><td>0.6292683</td><td>0.5512195</td><td>0.8195122</td><td>0.8439024</td><td>0.8439024</td><td>0.8634146</td><td>0.7560976</td><td>0.8634146</td></tr>\n",
       "</tbody>\n",
       "</table>\n"
      ],
      "text/latex": [
       "A tibble: 10 × 7\n",
       "\\begin{tabular}{lllllll}\n",
       " model & n\\_particles & LM & proportion & ci & NA & NA & NA & NA & NA & NA & NA & NA & NA & ci\\_lower & ci\\_upper\\\\\n",
       " <chr> & <int> & <chr> & <dbl> & <list> & <dbl> & <dbl>\\\\\n",
       "\\hline\n",
       "\t Baseline LM &   1 & Meta-Llama-3-8B-Instruct & 0.4829268 & 0.4146341 & 0.5073171 & 0.5024390 & 0.4879288 & 0.4976849 & 0.4098800 & 0.7024390 & 0.7365854 & 0.7268293 & 0.7560976 & 0.4146341 & 0.5560976\\\\\n",
       "\t Baseline LM &  10 & Meta-Llama-3-8B-Instruct & 0.5707317 & 0.5560976 & 0.6341463 & 0.6340224 & 0.6292683 & 0.6292683 & 0.5512195 & 0.8195122 & 0.8439024 & 0.8439024 & 0.8634146 & 0.5073171 & 0.6341463\\\\\n",
       "\t Baseline LM &  20 & Meta-Llama-3-8B-Instruct & 0.5658537 & 0.4146341 & 0.5073171 & 0.5024390 & 0.4879288 & 0.4976849 & 0.4098800 & 0.7024390 & 0.7365854 & 0.7268293 & 0.7560976 & 0.5024390 & 0.6340224\\\\\n",
       "\t Baseline LM &  50 & Meta-Llama-3-8B-Instruct & 0.5609756 & 0.5560976 & 0.6341463 & 0.6340224 & 0.6292683 & 0.6292683 & 0.5512195 & 0.8195122 & 0.8439024 & 0.8439024 & 0.8634146 & 0.4879288 & 0.6292683\\\\\n",
       "\t Baseline LM & 100 & Meta-Llama-3-8B-Instruct & 0.5658537 & 0.4146341 & 0.5073171 & 0.5024390 & 0.4879288 & 0.4976849 & 0.4098800 & 0.7024390 & 0.7365854 & 0.7268293 & 0.7560976 & 0.4976849 & 0.6292683\\\\\n",
       "\t GenParse    &   1 & Meta-Llama-3-8B-Instruct & 0.4829268 & 0.5560976 & 0.6341463 & 0.6340224 & 0.6292683 & 0.6292683 & 0.5512195 & 0.8195122 & 0.8439024 & 0.8439024 & 0.8634146 & 0.4098800 & 0.5512195\\\\\n",
       "\t GenParse    &  10 & Meta-Llama-3-8B-Instruct & 0.7609756 & 0.4146341 & 0.5073171 & 0.5024390 & 0.4879288 & 0.4976849 & 0.4098800 & 0.7024390 & 0.7365854 & 0.7268293 & 0.7560976 & 0.7024390 & 0.8195122\\\\\n",
       "\t GenParse    &  20 & Meta-Llama-3-8B-Instruct & 0.7951220 & 0.5560976 & 0.6341463 & 0.6340224 & 0.6292683 & 0.6292683 & 0.5512195 & 0.8195122 & 0.8439024 & 0.8439024 & 0.8634146 & 0.7365854 & 0.8439024\\\\\n",
       "\t GenParse    &  50 & Meta-Llama-3-8B-Instruct & 0.7853659 & 0.4146341 & 0.5073171 & 0.5024390 & 0.4879288 & 0.4976849 & 0.4098800 & 0.7024390 & 0.7365854 & 0.7268293 & 0.7560976 & 0.7268293 & 0.8439024\\\\\n",
       "\t GenParse    & 100 & Meta-Llama-3-8B-Instruct & 0.8097561 & 0.5560976 & 0.6341463 & 0.6340224 & 0.6292683 & 0.6292683 & 0.5512195 & 0.8195122 & 0.8439024 & 0.8439024 & 0.8634146 & 0.7560976 & 0.8634146\\\\\n",
       "\\end{tabular}\n"
      ],
      "text/markdown": [
       "\n",
       "A tibble: 10 × 7\n",
       "\n",
       "| model &lt;chr&gt; | n_particles &lt;int&gt; | LM &lt;chr&gt; | proportion &lt;dbl&gt; | ci &lt;list&gt; | NA &lt;dbl&gt; | NA &lt;dbl&gt; | NA &lt;chr&gt; | NA &lt;int&gt; | NA &lt;chr&gt; | NA &lt;dbl&gt; | NA &lt;list&gt; | NA &lt;dbl&gt; | NA &lt;dbl&gt; | ci_lower &lt;chr&gt; | ci_upper &lt;int&gt; |\n",
       "|---|---|---|---|---|---|---|\n",
       "| Baseline LM |   1 | Meta-Llama-3-8B-Instruct | 0.4829268 | 0.4146341 | 0.5073171 | 0.5024390 | 0.4879288 | 0.4976849 | 0.4098800 | 0.7024390 | 0.7365854 | 0.7268293 | 0.7560976 | 0.4146341 | 0.5560976 |\n",
       "| Baseline LM |  10 | Meta-Llama-3-8B-Instruct | 0.5707317 | 0.5560976 | 0.6341463 | 0.6340224 | 0.6292683 | 0.6292683 | 0.5512195 | 0.8195122 | 0.8439024 | 0.8439024 | 0.8634146 | 0.5073171 | 0.6341463 |\n",
       "| Baseline LM |  20 | Meta-Llama-3-8B-Instruct | 0.5658537 | 0.4146341 | 0.5073171 | 0.5024390 | 0.4879288 | 0.4976849 | 0.4098800 | 0.7024390 | 0.7365854 | 0.7268293 | 0.7560976 | 0.5024390 | 0.6340224 |\n",
       "| Baseline LM |  50 | Meta-Llama-3-8B-Instruct | 0.5609756 | 0.5560976 | 0.6341463 | 0.6340224 | 0.6292683 | 0.6292683 | 0.5512195 | 0.8195122 | 0.8439024 | 0.8439024 | 0.8634146 | 0.4879288 | 0.6292683 |\n",
       "| Baseline LM | 100 | Meta-Llama-3-8B-Instruct | 0.5658537 | 0.4146341 | 0.5073171 | 0.5024390 | 0.4879288 | 0.4976849 | 0.4098800 | 0.7024390 | 0.7365854 | 0.7268293 | 0.7560976 | 0.4976849 | 0.6292683 |\n",
       "| GenParse    |   1 | Meta-Llama-3-8B-Instruct | 0.4829268 | 0.5560976 | 0.6341463 | 0.6340224 | 0.6292683 | 0.6292683 | 0.5512195 | 0.8195122 | 0.8439024 | 0.8439024 | 0.8634146 | 0.4098800 | 0.5512195 |\n",
       "| GenParse    |  10 | Meta-Llama-3-8B-Instruct | 0.7609756 | 0.4146341 | 0.5073171 | 0.5024390 | 0.4879288 | 0.4976849 | 0.4098800 | 0.7024390 | 0.7365854 | 0.7268293 | 0.7560976 | 0.7024390 | 0.8195122 |\n",
       "| GenParse    |  20 | Meta-Llama-3-8B-Instruct | 0.7951220 | 0.5560976 | 0.6341463 | 0.6340224 | 0.6292683 | 0.6292683 | 0.5512195 | 0.8195122 | 0.8439024 | 0.8439024 | 0.8634146 | 0.7365854 | 0.8439024 |\n",
       "| GenParse    |  50 | Meta-Llama-3-8B-Instruct | 0.7853659 | 0.4146341 | 0.5073171 | 0.5024390 | 0.4879288 | 0.4976849 | 0.4098800 | 0.7024390 | 0.7365854 | 0.7268293 | 0.7560976 | 0.7268293 | 0.8439024 |\n",
       "| GenParse    | 100 | Meta-Llama-3-8B-Instruct | 0.8097561 | 0.5560976 | 0.6341463 | 0.6340224 | 0.6292683 | 0.6292683 | 0.5512195 | 0.8195122 | 0.8439024 | 0.8439024 | 0.8634146 | 0.7560976 | 0.8634146 |\n",
       "\n"
      ],
      "text/plain": [
       "   model       n_particles LM                       proportion ci       \n",
       "1  Baseline LM   1         Meta-Llama-3-8B-Instruct 0.4829268  0.4146341\n",
       "2  Baseline LM  10         Meta-Llama-3-8B-Instruct 0.5707317  0.5560976\n",
       "3  Baseline LM  20         Meta-Llama-3-8B-Instruct 0.5658537  0.4146341\n",
       "4  Baseline LM  50         Meta-Llama-3-8B-Instruct 0.5609756  0.5560976\n",
       "5  Baseline LM 100         Meta-Llama-3-8B-Instruct 0.5658537  0.4146341\n",
       "6  GenParse      1         Meta-Llama-3-8B-Instruct 0.4829268  0.5560976\n",
       "7  GenParse     10         Meta-Llama-3-8B-Instruct 0.7609756  0.4146341\n",
       "8  GenParse     20         Meta-Llama-3-8B-Instruct 0.7951220  0.5560976\n",
       "9  GenParse     50         Meta-Llama-3-8B-Instruct 0.7853659  0.4146341\n",
       "10 GenParse    100         Meta-Llama-3-8B-Instruct 0.8097561  0.5560976\n",
       "   <NA>      <NA>      <NA>      <NA>      <NA>      <NA>      <NA>     \n",
       "1  0.5073171 0.5024390 0.4879288 0.4976849 0.4098800 0.7024390 0.7365854\n",
       "2  0.6341463 0.6340224 0.6292683 0.6292683 0.5512195 0.8195122 0.8439024\n",
       "3  0.5073171 0.5024390 0.4879288 0.4976849 0.4098800 0.7024390 0.7365854\n",
       "4  0.6341463 0.6340224 0.6292683 0.6292683 0.5512195 0.8195122 0.8439024\n",
       "5  0.5073171 0.5024390 0.4879288 0.4976849 0.4098800 0.7024390 0.7365854\n",
       "6  0.6341463 0.6340224 0.6292683 0.6292683 0.5512195 0.8195122 0.8439024\n",
       "7  0.5073171 0.5024390 0.4879288 0.4976849 0.4098800 0.7024390 0.7365854\n",
       "8  0.6341463 0.6340224 0.6292683 0.6292683 0.5512195 0.8195122 0.8439024\n",
       "9  0.5073171 0.5024390 0.4879288 0.4976849 0.4098800 0.7024390 0.7365854\n",
       "10 0.6341463 0.6340224 0.6292683 0.6292683 0.5512195 0.8195122 0.8439024\n",
       "   <NA>      <NA>      ci_lower  ci_upper \n",
       "1  0.7268293 0.7560976 0.4146341 0.5560976\n",
       "2  0.8439024 0.8634146 0.5073171 0.6341463\n",
       "3  0.7268293 0.7560976 0.5024390 0.6340224\n",
       "4  0.8439024 0.8634146 0.4879288 0.6292683\n",
       "5  0.7268293 0.7560976 0.4976849 0.6292683\n",
       "6  0.8439024 0.8634146 0.4098800 0.5512195\n",
       "7  0.7268293 0.7560976 0.7024390 0.8195122\n",
       "8  0.8439024 0.8634146 0.7365854 0.8439024\n",
       "9  0.7268293 0.7560976 0.7268293 0.8439024\n",
       "10 0.8439024 0.8634146 0.7560976 0.8634146"
      ]
     },
     "metadata": {},
     "output_type": "display_data"
    }
   ],
   "source": [
    "conf_intervals"
   ]
  },
  {
   "cell_type": "code",
   "execution_count": 5,
   "metadata": {
    "vscode": {
     "languageId": "r"
    }
   },
   "outputs": [
    {
     "name": "stderr",
     "output_type": "stream",
     "text": [
      "Warning message:\n",
      "“\u001b[1m\u001b[22mUsing `size` aesthetic for lines was deprecated in ggplot2 3.4.0.\n",
      "\u001b[36mℹ\u001b[39m Please use `linewidth` instead.”\n"
     ]
    },
    {
     "data": {
      "image/png": "[encoded data removed]",
      "text/plain": [
       "plot without title"
      ]
     },
     "metadata": {
      "image/png": {
       "height": 420,
       "width": 420
      }
     },
     "output_type": "display_data"
    }
   ],
   "source": [
    "p <- ggplot(conf_intervals, aes(x = n_particles, y = proportion, linetype = model)) +\n",
    "  geom_line(size = 1) +  # Add lines with size 1\n",
    "  geom_point(size = 3) +  # Add points with size 3\n",
    "  scale_x_log10() +  # Log scale for x-axis\n",
    "  geom_ribbon(aes(ymin=ci_lower, ymax=ci_upper), alpha=0.2) +\n",
    "  labs(title = \"Accuracy by number of particles\",\n",
    "        subtitle = 'Subset of Spider Text-to-SQL dataset',\n",
    "        x = \"Number of Samples (log scale)\",\n",
    "        y = \"Accuracy\",\n",
    "       color = \"Sampling \\n Method\") +\n",
    "  theme(\n",
    "    'dark',\n",
    "    legend.position = \"bottom\",  # Move legend to the bottom\n",
    "    plot.title = element_text(size = 18),\n",
    "    plot.subtitle = element_text(size = 12),\n",
    "    legend.title = element_text(size = 14),  # Increase legend title text size\n",
    "    legend.text = element_text(size = 12),   # Increase legend text size\n",
    "  ) +\n",
    "  scale_linetype_manual(values = c(\"Baseline LM\" = \"dotted\", \"GenParse\" = \"solid\"),\n",
    "                     labels = c(\"Regular\\nSampling\", \"GenParse\")) +\n",
    "  guides(\n",
    "    color = guide_legend(nrow = 2),     # Arrange color legend items in 2 rows\n",
    "    #linetype = guide_legend(nrow = 2)   # Arrange linetype legend items in 2 rows\n",
    "  )\n",
    "\n",
    "print(p)"
   ]
  },
  {
   "cell_type": "code",
   "execution_count": 9,
   "metadata": {
    "vscode": {
     "languageId": "r"
    }
   },
   "outputs": [
    {
     "name": "stderr",
     "output_type": "stream",
     "text": [
      "\u001b[1m\u001b[22m`summarise()` has grouped output by 'model', 'n_particles'. You can override\n",
      "using the `.groups` argument.\n"
     ]
    },
    {
     "data": {
      "image/png": "[encoded data removed]",
      "text/plain": [
       "plot without title"
      ]
     },
     "metadata": {
      "image/png": {
       "height": 420,
       "width": 420
      }
     },
     "output_type": "display_data"
    }
   ],
   "source": [
    "# Sample data\n",
    "data <- read.csv('experiment_data.csv')\n",
    "data$mbr <- as.logical(data$mbr)\n",
    "\n",
    "# Calculate proportions\n",
    "proportions <- data %>%\n",
    "  group_by(model, n_particles, LM) %>%\n",
    "  summarize(proportion = mean(mbr))\n",
    "\n",
    "p <- ggplot(proportions, aes(x = n_particles, y = proportion, linetype = model)) +\n",
    "  geom_line(size = 1) +  # Add lines with size 1\n",
    "  geom_point(size = 3) +  # Add points with size 3\n",
    "  scale_x_log10() +  # Log scale for x-axis\n",
    "  #geom_ribbon(aes(ymin=ci_lower, ymax=ci_upper), alpha=0.2) +\n",
    "  labs(title = \"Accuracy by number of particles\",\n",
    "        subtitle = 'Subset of Spider Text-to-SQL dataset',\n",
    "        x = \"Number of Samples (log scale)\",\n",
    "        y = \"Accuracy\",\n",
    "       color = \"Sampling \\n Method\") +\n",
    "  theme(\n",
    "    'dark',\n",
    "    legend.position = \"bottom\",  # Move legend to the bottom\n",
    "    plot.title = element_text(size = 18),\n",
    "    plot.subtitle = element_text(size = 12),\n",
    "    legend.title = element_text(size = 14),  # Increase legend title text size\n",
    "    legend.text = element_text(size = 12),   # Increase legend text size\n",
    "  ) +\n",
    "  scale_linetype_manual(values = c(\"Baseline LM\" = \"dotted\", \"GenParse\" = \"solid\"),\n",
    "                     labels = c(\"Regular\\nSampling\", \"GenParse\")) +\n",
    "  guides(\n",
    "    color = guide_legend(nrow = 2),     # Arrange color legend items in 2 rows\n",
    "    #linetype = guide_legend(nrow = 2)   # Arrange linetype legend items in 2 rows\n",
    "  )\n",
    "\n",
    "print(p)"
   ]
  },
  {
   "cell_type": "code",
   "execution_count": 6,
   "metadata": {
    "vscode": {
     "languageId": "r"
    }
   },
   "outputs": [
    {
     "ename": "ERROR",
     "evalue": "\u001b[1m\u001b[33mError\u001b[39m in `geom_ribbon()`:\u001b[22m\n\u001b[1m\u001b[22m\u001b[33m!\u001b[39m Problem while computing aesthetics.\n\u001b[36mℹ\u001b[39m Error occurred in the 3rd layer.\n\u001b[1mCaused by error in `FUN()`:\u001b[22m\n\u001b[33m!\u001b[39m object 'ci_lower' not found\n",
     "output_type": "error",
     "traceback": [
      "\u001b[1m\u001b[33mError\u001b[39m in `geom_ribbon()`:\u001b[22m\n\u001b[1m\u001b[22m\u001b[33m!\u001b[39m Problem while computing aesthetics.\n\u001b[36mℹ\u001b[39m Error occurred in the 3rd layer.\n\u001b[1mCaused by error in `FUN()`:\u001b[22m\n\u001b[33m!\u001b[39m object 'ci_lower' not found\nTraceback:\n",
      "1. print(p)",
      "2. print.ggplot(p)",
      "3. ggplot_build(x)",
      "4. ggplot_build.ggplot(x)",
      "5. by_layer(function(l, d) l$compute_aesthetics(d, plot), layers, \n .     data, \"computing aesthetics\")",
      "6. try_fetch(for (i in seq_along(data)) {\n .     out[[i]] <- f(l = layers[[i]], d = data[[i]])\n . }, error = function(cnd) {\n .     cli::cli_abort(c(\"Problem while {step}.\", i = \"Error occurred in the {ordinal(i)} layer.\"), \n .         call = layers[[i]]$constructor, parent = cnd)\n . })",
      "7. tryCatch(withCallingHandlers(expr, condition = function(cnd) {\n .     {\n .         .__handler_frame__. <- TRUE\n .         .__setup_frame__. <- frame\n .         if (inherits(cnd, \"message\")) {\n .             except <- c(\"warning\", \"error\")\n .         }\n .         else if (inherits(cnd, \"warning\")) {\n .             except <- \"error\"\n .         }\n .         else {\n .             except <- \"\"\n .         }\n .     }\n .     while (!is_null(cnd)) {\n .         if (inherits(cnd, \"error\")) {\n .             out <- handlers[[1L]](cnd)\n .             if (!inherits(out, \"rlang_zap\")) \n .                 throw(out)\n .         }\n .         inherit <- .subset2(.subset2(cnd, \"rlang\"), \"inherit\")\n .         if (is_false(inherit)) {\n .             return()\n .         }\n .         cnd <- .subset2(cnd, \"parent\")\n .     }\n . }), stackOverflowError = handlers[[1L]])",
      "8. tryCatchList(expr, classes, parentenv, handlers)",
      "9. tryCatchOne(expr, names, parentenv, handlers[[1L]])",
      "10. doTryCatch(return(expr), name, parentenv, handler)",
      "11. withCallingHandlers(expr, condition = function(cnd) {\n  .     {\n  .         .__handler_frame__. <- TRUE\n  .         .__setup_frame__. <- frame\n  .         if (inherits(cnd, \"message\")) {\n  .             except <- c(\"warning\", \"error\")\n  .         }\n  .         else if (inherits(cnd, \"warning\")) {\n  .             except <- \"error\"\n  .         }\n  .         else {\n  .             except <- \"\"\n  .         }\n  .     }\n  .     while (!is_null(cnd)) {\n  .         if (inherits(cnd, \"error\")) {\n  .             out <- handlers[[1L]](cnd)\n  .             if (!inherits(out, \"rlang_zap\")) \n  .                 throw(out)\n  .         }\n  .         inherit <- .subset2(.subset2(cnd, \"rlang\"), \"inherit\")\n  .         if (is_false(inherit)) {\n  .             return()\n  .         }\n  .         cnd <- .subset2(cnd, \"parent\")\n  .     }\n  . })",
      "12. f(l = layers[[i]], d = data[[i]])",
      "13. l$compute_aesthetics(d, plot)",
      "14. compute_aesthetics(..., self = self)",
      "15. lapply(aesthetics, eval_tidy, data = data, env = env)",
      "16. FUN(X[[i]], ...)",
      "17. .handleSimpleError(function (cnd) \n  . {\n  .     {\n  .         .__handler_frame__. <- TRUE\n  .         .__setup_frame__. <- frame\n  .         if (inherits(cnd, \"message\")) {\n  .             except <- c(\"warning\", \"error\")\n  .         }\n  .         else if (inherits(cnd, \"warning\")) {\n  .             except <- \"error\"\n  .         }\n  .         else {\n  .             except <- \"\"\n  .         }\n  .     }\n  .     while (!is_null(cnd)) {\n  .         if (inherits(cnd, \"error\")) {\n  .             out <- handlers[[1L]](cnd)\n  .             if (!inherits(out, \"rlang_zap\")) \n  .                 throw(out)\n  .         }\n  .         inherit <- .subset2(.subset2(cnd, \"rlang\"), \"inherit\")\n  .         if (is_false(inherit)) {\n  .             return()\n  .         }\n  .         cnd <- .subset2(cnd, \"parent\")\n  .     }\n  . }, \"object 'ci_lower' not found\", base::quote(FUN(X[[i]], ...)))",
      "18. h(simpleError(msg, call))",
      "19. handlers[[1L]](cnd)",
      "20. cli::cli_abort(c(\"Problem while {step}.\", i = \"Error occurred in the {ordinal(i)} layer.\"), \n  .     call = layers[[i]]$constructor, parent = cnd)",
      "21. rlang::abort(message, ..., call = call, use_cli_format = TRUE, \n  .     .frame = .frame)",
      "22. signal_abort(cnd, .file)"
     ]
    }
   ],
   "source": [
    "p <- ggplot(proportions, aes(x = n_particles, y = proportion, linetype = model, color = LM)) +\n",
    "  geom_line(size = 1) +  \n",
    "  geom_point(size = 3) + \n",
    "  scale_x_log10() + \n",
    "  geom_ribbon(aes(ymin=ci_lower, ymax=ci_upper), alpha=0.2) +\n",
    "  labs(title = \"Accuracy by number of particles\",\n",
    "        subtitle = 'Subset of Spider Text-to-SQL dataset',\n",
    "        x = \"Number of Samples (log scale)\",\n",
    "        y = \"Accuracy\",\n",
    "       color = \"Sampling \\n Method\",\n",
    "       linetype = \"Language \\n Model\") +\n",
    "  theme(\n",
    "    'dark',\n",
    "    legend.position = \"bottom\",  # Move legend to the bottom\n",
    "    plot.title = element_text(size = 18),\n",
    "    plot.subtitle = element_text(size = 12),\n",
    "    legend.title = element_text(size = 14),  # Increase legend title text size\n",
    "    legend.text = element_text(size = 12),   # Increase legend text size\n",
    "  ) +\n",
    "  scale_linetype_manual(values = c(\"Baseline LM\" = \"dotted\", \"GenParse\" = \"solid\"),\n",
    "                     labels = c(\"Regular\\nSampling\", \"GenParse\")) +\n",
    "  scale_color_manual(values = c(\"Meta-Llama-3-8B-Instruct\" = \"red\", \"Meta-Llama-3.1-8B-Instruct\" = \"blue\"),\n",
    "                        labels = c(\"Llama 3 8B\", \"Llama 3.1 8B\")) +\n",
    "  guides(\n",
    "    color = guide_legend(nrow = 2),     # Arrange color legend items in 2 rows\n",
    "    linetype = guide_legend(nrow = 2)   # Arrange linetype legend items in 2 rows\n",
    "  )\n",
    "\n",
    "print(p)"
   ]
  },
  {
   "cell_type": "code",
   "execution_count": null,
   "metadata": {
    "vscode": {
     "languageId": "r"
    }
   },
   "outputs": [],
   "source": []
  },
  {
   "cell_type": "code",
   "execution_count": 33,
   "metadata": {
    "vscode": {
     "languageId": "r"
    }
   },
   "outputs": [
    {
     "data": {
      "text/html": [
       "<table class=\"dataframe\">\n",
       "<caption>A grouped_df: 4 × 3</caption>\n",
       "<thead>\n",
       "\t<tr><th scope=col>n_particles</th><th scope=col>LM</th><th scope=col>log_ml</th></tr>\n",
       "\t<tr><th scope=col>&lt;int&gt;</th><th scope=col>&lt;chr&gt;</th><th scope=col>&lt;dbl&gt;</th></tr>\n",
       "</thead>\n",
       "<tbody>\n",
       "\t<tr><td> 1</td><td>Meta-Llama-3-8B-Instruct</td><td>NA</td></tr>\n",
       "\t<tr><td>10</td><td>Meta-Llama-3-8B-Instruct</td><td>NA</td></tr>\n",
       "\t<tr><td>20</td><td>Meta-Llama-3-8B-Instruct</td><td>NA</td></tr>\n",
       "\t<tr><td>50</td><td>Meta-Llama-3-8B-Instruct</td><td>NA</td></tr>\n",
       "</tbody>\n",
       "</table>\n"
      ],
      "text/latex": [
       "A grouped\\_df: 4 × 3\n",
       "\\begin{tabular}{lll}\n",
       " n\\_particles & LM & log\\_ml\\\\\n",
       " <int> & <chr> & <dbl>\\\\\n",
       "\\hline\n",
       "\t  1 & Meta-Llama-3-8B-Instruct & NA\\\\\n",
       "\t 10 & Meta-Llama-3-8B-Instruct & NA\\\\\n",
       "\t 20 & Meta-Llama-3-8B-Instruct & NA\\\\\n",
       "\t 50 & Meta-Llama-3-8B-Instruct & NA\\\\\n",
       "\\end{tabular}\n"
      ],
      "text/markdown": [
       "\n",
       "A grouped_df: 4 × 3\n",
       "\n",
       "| n_particles &lt;int&gt; | LM &lt;chr&gt; | log_ml &lt;dbl&gt; |\n",
       "|---|---|---|\n",
       "|  1 | Meta-Llama-3-8B-Instruct | NA |\n",
       "| 10 | Meta-Llama-3-8B-Instruct | NA |\n",
       "| 20 | Meta-Llama-3-8B-Instruct | NA |\n",
       "| 50 | Meta-Llama-3-8B-Instruct | NA |\n",
       "\n"
      ],
      "text/plain": [
       "  n_particles LM                       log_ml\n",
       "1  1          Meta-Llama-3-8B-Instruct NA    \n",
       "2 10          Meta-Llama-3-8B-Instruct NA    \n",
       "3 20          Meta-Llama-3-8B-Instruct NA    \n",
       "4 50          Meta-Llama-3-8B-Instruct NA    "
      ]
     },
     "metadata": {},
     "output_type": "display_data"
    }
   ],
   "source": [
    "log_ml"
   ]
  },
  {
   "cell_type": "code",
   "execution_count": 34,
   "metadata": {
    "vscode": {
     "languageId": "r"
    }
   },
   "outputs": [
    {
     "name": "stderr",
     "output_type": "stream",
     "text": [
      "\u001b[1m\u001b[22m`summarise()` has grouped output by 'n_particles', 'model'. You can override\n",
      "using the `.groups` argument.\n"
     ]
    },
    {
     "name": "stderr",
     "output_type": "stream",
     "text": [
      "Warning message:\n",
      "“\u001b[1m\u001b[22mRemoved 1 row containing missing values or values outside the scale range\n",
      "(`geom_line()`).”\n",
      "Warning message:\n",
      "“\u001b[1m\u001b[22mRemoved 4 rows containing missing values or values outside the scale range\n",
      "(`geom_point()`).”\n",
      "Warning message:\n",
      "“\u001b[1m\u001b[22mRemoved 1 row containing missing values or values outside the scale range\n",
      "(`geom_line()`).”\n",
      "Warning message:\n",
      "“\u001b[1m\u001b[22mRemoved 4 rows containing missing values or values outside the scale range\n",
      "(`geom_point()`).”\n"
     ]
    },
    {
     "data": {
      "image/png": "[encoded data removed]",
      "text/plain": [
       "plot without title"
      ]
     },
     "metadata": {
      "image/png": {
       "height": 420,
       "width": 420
      }
     },
     "output_type": "display_data"
    }
   ],
   "source": [
    "# Calculate proportions\n",
    "log_ml <- data %>%\n",
    "  group_by(n_particles, model, LM) %>%\n",
    "  summarize(log_ml = mean(log_ml))\n",
    "\n",
    "\n",
    "log_ml %>% ggplot(aes(x=n_particles, y=log_ml)) +\n",
    "    geom_line() +\n",
    "    geom_point() +\n",
    "    geom_line(size = 1) +\n",
    "    geom_point(size = 3) +\n",
    "    scale_x_log10() + \n",
    "    #geom_ribbon(aes(ymin=ci_lower, ymax=ci_upper), alpha=0.2) +\n",
    "    labs(\n",
    "        title = \"Accuracy by number of samples (Llama3 8B)\",\n",
    "        subtitle = 'Subset of Spider Text-to-SQL dataset',\n",
    "        x = \"Number of Samples (log scale)\",\n",
    "        y = \"Accuracy\",\n",
    "    ) +\n",
    "    theme(\n",
    "        'dark',\n",
    "        plot.title = element_text(size = 16, family = \"roboto\"),  # Title size\n",
    "        plot.subtitle = element_text(size = 12, family = \"roboto\")  # Subtitle size\n",
    "    ) + theme(\n",
    "        legend.position = \"bottom\"\n",
    "    )"
   ]
  },
  {
   "cell_type": "code",
   "execution_count": 4,
   "metadata": {
    "vscode": {
     "languageId": "r"
    }
   },
   "outputs": [
    {
     "data": {
      "text/html": [
       "<table class=\"dataframe\">\n",
       "<caption>A grouped_df: 4 × 3</caption>\n",
       "<thead>\n",
       "\t<tr><th scope=col>model</th><th scope=col>n_particles</th><th scope=col>proportion</th></tr>\n",
       "\t<tr><th scope=col>&lt;chr&gt;</th><th scope=col>&lt;int&gt;</th><th scope=col>&lt;dbl&gt;</th></tr>\n",
       "</thead>\n",
       "<tbody>\n",
       "\t<tr><td>Meta-Llama-3-8B-Instruct</td><td> 1</td><td>NA</td></tr>\n",
       "\t<tr><td>Meta-Llama-3-8B-Instruct</td><td>10</td><td>NA</td></tr>\n",
       "\t<tr><td>Meta-Llama-3-8B-Instruct</td><td>20</td><td>NA</td></tr>\n",
       "\t<tr><td>Meta-Llama-3-8B-Instruct</td><td>50</td><td>NA</td></tr>\n",
       "</tbody>\n",
       "</table>\n"
      ],
      "text/latex": [
       "A grouped\\_df: 4 × 3\n",
       "\\begin{tabular}{lll}\n",
       " model & n\\_particles & proportion\\\\\n",
       " <chr> & <int> & <dbl>\\\\\n",
       "\\hline\n",
       "\t Meta-Llama-3-8B-Instruct &  1 & NA\\\\\n",
       "\t Meta-Llama-3-8B-Instruct & 10 & NA\\\\\n",
       "\t Meta-Llama-3-8B-Instruct & 20 & NA\\\\\n",
       "\t Meta-Llama-3-8B-Instruct & 50 & NA\\\\\n",
       "\\end{tabular}\n"
      ],
      "text/markdown": [
       "\n",
       "A grouped_df: 4 × 3\n",
       "\n",
       "| model &lt;chr&gt; | n_particles &lt;int&gt; | proportion &lt;dbl&gt; |\n",
       "|---|---|---|\n",
       "| Meta-Llama-3-8B-Instruct |  1 | NA |\n",
       "| Meta-Llama-3-8B-Instruct | 10 | NA |\n",
       "| Meta-Llama-3-8B-Instruct | 20 | NA |\n",
       "| Meta-Llama-3-8B-Instruct | 50 | NA |\n",
       "\n"
      ],
      "text/plain": [
       "  model                    n_particles proportion\n",
       "1 Meta-Llama-3-8B-Instruct  1          NA        \n",
       "2 Meta-Llama-3-8B-Instruct 10          NA        \n",
       "3 Meta-Llama-3-8B-Instruct 20          NA        \n",
       "4 Meta-Llama-3-8B-Instruct 50          NA        "
      ]
     },
     "metadata": {},
     "output_type": "display_data"
    }
   ],
   "source": [
    "proportions"
   ]
  }
 ],
 "metadata": {
  "kernelspec": {
   "display_name": "R",
   "language": "R",
   "name": "ir"
  },
  "language_info": {
   "codemirror_mode": "r",
   "file_extension": ".r",
   "mimetype": "text/x-r-source",
   "name": "R",
   "pygments_lexer": "r",
   "version": "4.0.4"
  }
 },
 "nbformat": 4,
 "nbformat_minor": 2
}
