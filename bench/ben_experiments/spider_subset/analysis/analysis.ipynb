{
 "cells": [
  {
   "cell_type": "markdown",
   "metadata": {},
   "source": [
    "Install `R` with `sudo apt-get install r-base`.\n",
    "\n",
    "In `R` console: \n",
    "\n",
    "```R\n",
    "install.packages('IRkernel')\n",
    "IRkernel::installspec(user = TRUE)\n",
    "```\n",
    "\n",
    "\n",
    "check for `ir` in `jupyter kernelspec list`"
   ]
  },
  {
   "cell_type": "code",
   "execution_count": 4,
   "metadata": {
    "vscode": {
     "languageId": "r"
    }
   },
   "outputs": [
    {
     "name": "stderr",
     "output_type": "stream",
     "text": [
      "Installing package into ‘/home/lebrunb/R/x86_64-pc-linux-gnu-library/4.0’\n",
      "(as ‘lib’ is unspecified)\n",
      "\n",
      "Installing package into ‘/home/lebrunb/R/x86_64-pc-linux-gnu-library/4.0’\n",
      "(as ‘lib’ is unspecified)\n",
      "\n",
      "Installing package into ‘/home/lebrunb/R/x86_64-pc-linux-gnu-library/4.0’\n",
      "(as ‘lib’ is unspecified)\n",
      "\n"
     ]
    }
   ],
   "source": [
    "install.packages(\"ggplot2\")\n",
    "install.packages(\"dplyr\")\n",
    "install.packages(\"boot\")"
   ]
  },
  {
   "cell_type": "code",
   "execution_count": 5,
   "metadata": {
    "vscode": {
     "languageId": "r"
    }
   },
   "outputs": [
    {
     "name": "stderr",
     "output_type": "stream",
     "text": [
      "Warning message in file(file, \"rt\"):\n",
      "“cannot open file 'experiment_data.csv': No such file or directory”\n"
     ]
    },
    {
     "ename": "ERROR",
     "evalue": "Error in file(file, \"rt\"): cannot open the connection\n",
     "output_type": "error",
     "traceback": [
      "Error in file(file, \"rt\"): cannot open the connection\nTraceback:\n",
      "1. read.csv(\"experiment_data.csv\")",
      "2. read.table(file = file, header = header, sep = sep, quote = quote, \n .     dec = dec, fill = fill, comment.char = comment.char, ...)",
      "3. file(file, \"rt\")"
     ]
    }
   ],
   "source": [
    "library(dplyr)\n",
    "library(boot)\n",
    "library(ggplot2)\n",
    "\n",
    "# Sample data\n",
    "data <- read.csv('experiment_data.csv')\n",
    "\n",
    "# Calculate proportions\n",
    "proportions <- data %>%\n",
    "  group_by(model, n_particles) %>%\n",
    "  summarize(proportion = mean(mbr))\n",
    "\n",
    "# Bootstrap confidence intervals function\n",
    "bootstrap_ci <- function(x, n_iterations=1000, ci=95) {\n",
    "  boot_fn <- function(data, indices) {\n",
    "    mean(data[indices])\n",
    "  }\n",
    "  \n",
    "  results <- boot(x, boot_fn, R=n_iterations)\n",
    "  ci <- boot.ci(results, type=\"perc\")$perc[4:5]\n",
    "  return(ci)\n",
    "}\n",
    "\n",
    "# Compute confidence intervals\n",
    "conf_intervals <- data %>%\n",
    "  group_by(model, n_particles) %>%\n",
    "  summarize(\n",
    "    proportion = mean(mbr),\n",
    "    ci = list(bootstrap_ci(mbr)),\n",
    "    ci_lower = ci[[1]][1],\n",
    "    ci_upper = ci[[1]][2]\n",
    "  ) %>%\n",
    "  ungroup()"
   ]
  }
 ],
 "metadata": {
  "kernelspec": {
   "display_name": "R",
   "language": "R",
   "name": "ir"
  },
  "language_info": {
   "codemirror_mode": "r",
   "file_extension": ".r",
   "mimetype": "text/x-r-source",
   "name": "R",
   "pygments_lexer": "r",
   "version": "4.0.4"
  }
 },
 "nbformat": 4,
 "nbformat_minor": 2
}
