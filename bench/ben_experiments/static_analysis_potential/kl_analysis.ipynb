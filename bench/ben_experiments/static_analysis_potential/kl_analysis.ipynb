{
 "cells": [
  {
   "cell_type": "code",
   "execution_count": 3,
   "metadata": {},
   "outputs": [],
   "source": [
    "%load_ext autoreload\n",
    "%autoreload 2"
   ]
  },
  {
   "cell_type": "code",
   "execution_count": 4,
   "metadata": {},
   "outputs": [],
   "source": [
    "from pathlib import Path\n",
    "from bench.spider.schema import load_schemas\n",
    "from bench.spider.dialogue import load_spider_data\n",
    "from bench.spider.prompt_formatter import SpiderPromptFormatter\n",
    "\n",
    "raw_spider_dir = Path('../../spider/data/spider')\n",
    "\n",
    "train_data = load_spider_data(\n",
    "    raw_spider_dir / 'train_spider.json'\n",
    ")\n",
    "\n",
    "dev_data = load_spider_data(\n",
    "    raw_spider_dir / 'dev.json'\n",
    ")\n",
    "\n",
    "spider_schemas = load_schemas(\n",
    "    schemas_path=raw_spider_dir / 'tables.json', \n",
    "    db_path=raw_spider_dir / 'database'\n",
    ")"
   ]
  },
  {
   "cell_type": "code",
   "execution_count": 5,
   "metadata": {},
   "outputs": [],
   "source": [
    "import os\n",
    "import sys\n",
    "\n",
    "parent_dir = os.path.abspath(os.path.join(os.getcwd(), '..'))\n",
    "sys.path.append(parent_dir)\n",
    "\n",
    "from evaluation_utils import get_final_particles_from_record, load_results\n",
    "\n",
    "results = load_results('table_column_potential')"
   ]
  },
  {
   "cell_type": "code",
   "execution_count": 6,
   "metadata": {},
   "outputs": [
    {
     "data": {
      "text/plain": [
       "27"
      ]
     },
     "execution_count": 6,
     "metadata": {},
     "output_type": "execute_result"
    }
   ],
   "source": [
    "import numpy as np\n",
    "\n",
    "sis_scores = [\n",
    "    (r['question'], r['results']['posterior_weighted_acc']['result']) for r in results if r['method'] == 'sis'\n",
    "]\n",
    "\n",
    "median = np.median(np.unique([x[1] for x in sis_scores]))\n",
    "\n",
    "closest_idx = -1\n",
    "closest_diff = 1\n",
    "for i, (q, s) in enumerate(sis_scores):\n",
    "    if abs(s - median) < closest_diff:\n",
    "        closest_diff = abs(s - median)\n",
    "        closest_idx = i\n",
    "\n",
    "question = sis_scores[closest_idx][0]\n",
    "\n",
    "dev_datum_idx = [i for i, d in enumerate(dev_data) if d.utterance == question][0]\n",
    "\n",
    "dev_datum_idx"
   ]
  },
  {
   "cell_type": "markdown",
   "metadata": {},
   "source": [
    "# Single-sample analysis"
   ]
  },
  {
   "cell_type": "markdown",
   "metadata": {},
   "source": [
    "----"
   ]
  },
  {
   "cell_type": "code",
   "execution_count": 7,
   "metadata": {},
   "outputs": [
    {
     "name": "stderr",
     "output_type": "stream",
     "text": [
      "/var/tmp/ipykernel_2277127/4092400019.py:9: RuntimeWarning: divide by zero encountered in log\n",
      "  penalty = np.log(eps)\n"
     ]
    }
   ],
   "source": [
    "import numpy as np\n",
    "from lark import Lark\n",
    "from functools import lru_cache\n",
    "from functools import partial\n",
    "from table_column_verifier import ColumnValidator\n",
    "\n",
    "grammar_path = '../spider_grammars'\n",
    "eps = 0\n",
    "penalty = np.log(eps)\n",
    "\n",
    "def load_parser(schema_name):\n",
    "    parser = Lark(open(os.path.join(grammar_path, schema_name + '.lark'), 'r').read())\n",
    "\n",
    "    @lru_cache\n",
    "    def parse(x):\n",
    "        return parser.parse(x)\n",
    "\n",
    "    return parse\n",
    "\n",
    "def phi_slow(context, parser, schema_name):\n",
    "    tables = spider_schemas[schema_name].tables\n",
    "\n",
    "    try:\n",
    "        parse = parser(context)\n",
    "    except Exception:\n",
    "        return 0\n",
    "\n",
    "    validator = ColumnValidator(tables, verbosity=0)\n",
    "    try:\n",
    "        validator.transform(parse)\n",
    "        return 0 if validator.is_valid else penalty\n",
    "    except Exception as e:\n",
    "        print('Failed to validate:', context, e)\n",
    "        return 0\n",
    "        \n",
    "def phi_fast(context, parser):\n",
    "    try:\n",
    "        parser(context)\n",
    "        return 0.\n",
    "    except Exception:\n",
    "        return penalty"
   ]
  },
  {
   "cell_type": "code",
   "execution_count": 8,
   "metadata": {},
   "outputs": [],
   "source": [
    "results = load_results('single_datum_27', raw_spider_dir=raw_spider_dir)"
   ]
  },
  {
   "cell_type": "code",
   "execution_count": 9,
   "metadata": {},
   "outputs": [
    {
     "data": {
      "text/plain": [
       "(49, 0.58)"
      ]
     },
     "execution_count": 9,
     "metadata": {},
     "output_type": "execute_result"
    }
   ],
   "source": [
    "resample_n = [len([r for r in rs['record']['history'] if 'resample_indices' in r]) for rs in [r for r in results if r['method'] == 'smc']]\n",
    "len([r for r in resample_n if r > 0]), np.mean(resample_n)"
   ]
  },
  {
   "cell_type": "code",
   "execution_count": 10,
   "metadata": {},
   "outputs": [],
   "source": [
    "method2results = {}\n",
    "\n",
    "for r in results:\n",
    "    if r['method'] not in method2results:\n",
    "        method2results[r['method']] = []\n",
    "    method2results[r['method']].append(r)\n",
    "\n",
    "for method in method2results:\n",
    "    method2results[method] = sorted(method2results[method], key=lambda x: x['question'])\n",
    "\n",
    "questions = [r['question'] for r in method2results['sis']]\n",
    "schemas = [r['db_name'] for r in method2results['sis']]"
   ]
  },
  {
   "cell_type": "code",
   "execution_count": 11,
   "metadata": {},
   "outputs": [],
   "source": [
    "assert all(questions == [r['question'] for r in method2results[m]] for m in method2results)\n",
    "assert all(schemas == [r['db_name'] for r in method2results[m]] for m in method2results)\n",
    "\n",
    "parsers = {schema: load_parser(schema) for schema in set(schemas)}"
   ]
  },
  {
   "cell_type": "code",
   "execution_count": 12,
   "metadata": {},
   "outputs": [],
   "source": [
    "phi_slow_list = [partial(phi_slow, parser=parsers[schema_name], schema_name=schema_name) for schema_name in schemas]\n",
    "phi_fast_list = [partial(phi_fast, parser=parsers[schema_name]) for schema_name in schemas]"
   ]
  },
  {
   "cell_type": "code",
   "execution_count": 13,
   "metadata": {},
   "outputs": [],
   "source": [
    "from tqdm.notebook import tqdm\n",
    "from genparse import EOS\n",
    "from typing import Callable\n",
    "\n",
    "def make_contexts_per_instance(method2results, method):\n",
    "    return [\n",
    "        [''.join(x['context']).rstrip(EOS) for x in get_final_particles_from_record(instance['record'])]\n",
    "        for instance in method2results[method]\n",
    "    ]\n",
    "\n",
    "def make_w_list_per_instance(pddl_results, method):\n",
    "    return [\n",
    "        [x['weight'] for x in get_final_particles_from_record(instance['record'])]\n",
    "        for instance in method2results[method]\n",
    "    ]"
   ]
  },
  {
   "cell_type": "markdown",
   "metadata": {},
   "source": [
    "### LM"
   ]
  },
  {
   "cell_type": "code",
   "execution_count": 15,
   "metadata": {},
   "outputs": [],
   "source": [
    "import pickle\n",
    "\n",
    "eps = 0\n",
    "log_eps = np.log(eps)\n",
    "\n",
    "def lm_estimate_biased_kl_particle(context: str, phi_slow: Callable[[str], float], phi_fast: Callable[[str], float]) -> float:\n",
    "    fast = phi_fast(context=context)\n",
    "    if fast == log_eps:\n",
    "        return fast + fast\n",
    "    else:\n",
    "        return fast + phi_slow(context=context)\n",
    "\n",
    "def lm_estimate_biased_kl(contexts_per_instance: list[list[str]]) -> list[float]:\n",
    "    assert len(contexts_per_instance) == len(phi_slow_list) == len(phi_fast_list)\n",
    "    return [\n",
    "        [lm_estimate_biased_kl_particle(context, phi_slow_list[i], phi_fast_list[i]) for context in contexts]\n",
    "        for i, contexts in tqdm(enumerate(contexts_per_instance))\n",
    "    ]"
   ]
  },
  {
   "cell_type": "code",
   "execution_count": 16,
   "metadata": {},
   "outputs": [],
   "source": [
    "name = 'lm_biased_kl_single_datum.pkl'\n",
    "\n",
    "lm_contexts = make_contexts_per_instance(method2results, 'lm_baseline')\n",
    "\n",
    "if os.path.exists(name):\n",
    "    with open(name, 'rb') as f:\n",
    "        lm_biased_kl = pickle.load(f)\n",
    "else:\n",
    "    lm_biased_kl = lm_estimate_biased_kl(lm_contexts)\n",
    "    with open(name, 'wb') as f:\n",
    "        pickle.dump(lm_biased_kl, f)"
   ]
  },
  {
   "cell_type": "markdown",
   "metadata": {},
   "source": [
    "### LPOE "
   ]
  },
  {
   "cell_type": "code",
   "execution_count": 17,
   "metadata": {},
   "outputs": [],
   "source": [
    "def lpoe_estimate_biased_kl_instance(contexts: list[str], w_IS_list: list[float], phi_slow: Callable[[str], float]):\n",
    "    assert len(contexts) == len(w_IS_list)\n",
    "    return [w_IS + phi_slow(context) for w_IS, context in zip(w_IS_list, contexts)]\n",
    "\n",
    "def lpoe_estimate_biased_kl(\n",
    "    contexts_per_instance: list[list[str]], \n",
    "    w_IS_list_per_instance: list[list[float]],\n",
    "    phi_slow_list: list[Callable[[str], float]]\n",
    "):\n",
    "    assert len(contexts_per_instance) == len(w_IS_list_per_instance) == len(phi_slow_list)\n",
    "    return [\n",
    "        [w for w in lpoe_estimate_biased_kl_instance(contexts, w_IS_list, phi_slow)]\n",
    "        for contexts, w_IS_list, phi_slow in zip(contexts_per_instance, w_IS_list_per_instance, phi_slow_list)\n",
    "    ]"
   ]
  },
  {
   "cell_type": "code",
   "execution_count": 18,
   "metadata": {},
   "outputs": [],
   "source": [
    "name = 'lpoe_biased_kl_single_datum.pkl'\n",
    "\n",
    "IS_contexts_per_instance = make_contexts_per_instance(method2results, 'sis_no_potential')\n",
    "\n",
    "if os.path.exists(name):\n",
    "    with open(name, 'rb') as f:\n",
    "        lpoe_biased_kl = pickle.load(f)\n",
    "else:\n",
    "    w_IS_list_per_instance = make_w_list_per_instance(method2results, 'sis_no_potential')\n",
    "    lpoe_biased_kl = lpoe_estimate_biased_kl(IS_contexts_per_instance, w_IS_list_per_instance, phi_slow_list)\n",
    "    with open(name, 'wb') as f:\n",
    "        pickle.dump(lpoe_biased_kl, f)"
   ]
  },
  {
   "cell_type": "markdown",
   "metadata": {},
   "source": [
    "## IS"
   ]
  },
  {
   "cell_type": "code",
   "execution_count": 19,
   "metadata": {},
   "outputs": [],
   "source": [
    "from scipy.special import logsumexp\n",
    "\n",
    "def is_estimate_biased_kl_instance(contexts: list[str], w_IS_list: list[float], phi_slow: Callable[[str], float]):\n",
    "    assert len(contexts) == len(w_IS_list)\n",
    "    N = len(contexts)\n",
    "    w_IS_sum = logsumexp(w_IS_list) \n",
    "    w_IS_mean = w_IS_sum - np.log(N)\n",
    "    phi_slow_list = [phi_slow(context) for context in contexts]\n",
    "\n",
    "    normalized_w_IS_list = np.exp(w_IS_list - w_IS_sum)\n",
    "\n",
    "    return np.sum([normalized_w_IS * (w_IS_mean + phi_slow) \n",
    "        for normalized_w_IS, phi_slow in zip(normalized_w_IS_list, phi_slow_list)])\n",
    "\n",
    "\n",
    "def is_estimate_biased_kl(contexts_per_instance: list[list[str]], w_IS_list_per_instance: list[list[float]], phi_slow_list: list[Callable[[str], float]]):\n",
    "    assert len(contexts_per_instance) == len(w_IS_list_per_instance) == len(phi_slow_list)\n",
    "    return [is_estimate_biased_kl_instance(contexts, w_IS_list, phi_slow) \n",
    "            for contexts, w_IS_list, phi_slow in zip(contexts_per_instance, w_IS_list_per_instance, phi_slow_list)]"
   ]
  },
  {
   "cell_type": "code",
   "execution_count": 20,
   "metadata": {},
   "outputs": [],
   "source": [
    "file_path = 'is_biased_kl_single_datum.pkl'\n",
    "\n",
    "if os.path.exists(file_path):\n",
    "    with open(file_path, 'rb') as f:\n",
    "        is_biased_kl = pickle.load(f)\n",
    "else:\n",
    "    is_biased_kl = is_estimate_biased_kl(\n",
    "        IS_contexts_per_instance, w_IS_list_per_instance, phi_slow_list\n",
    "    )\n",
    "    with open(file_path, 'wb') as f:\n",
    "        pickle.dump(is_biased_kl, f)"
   ]
  },
  {
   "cell_type": "markdown",
   "metadata": {},
   "source": [
    "## IS Slow"
   ]
  },
  {
   "cell_type": "code",
   "execution_count": 21,
   "metadata": {},
   "outputs": [],
   "source": [
    "def is_slow_estimate_biased_kl(\n",
    "    contexts_per_instance: list[list[str]], w_IS_list_per_instance: list[list[float]], phi_slow_list: list[Callable[[str], float]]\n",
    "):\n",
    "    assert len(contexts_per_instance) == len(w_IS_list_per_instance) == len(phi_slow_list)\n",
    "    return [is_slow_estimate_biased_kl_instance(contexts, w_IS_list, phi_slow) \n",
    "            for contexts, w_IS_list, phi_slow in zip(contexts_per_instance, w_IS_list_per_instance, phi_slow_list)]\n",
    "\n",
    "def is_slow_estimate_biased_kl_instance(\n",
    "    contexts: list[str], w_IS_list: list[float], phi_slow: Callable[[str], float]\n",
    "):\n",
    "    assert len(contexts) == len(w_IS_list)\n",
    "    return np.log(np.mean([np.exp(w_IS + phi_slow(context)) for w_IS, context in zip(w_IS_list, contexts)]))"
   ]
  },
  {
   "cell_type": "code",
   "execution_count": 22,
   "metadata": {},
   "outputs": [],
   "source": [
    "file_path = 'is_slow_biased_kl_single_datum.pkl'\n",
    "\n",
    "if os.path.exists(file_path):\n",
    "    with open(file_path, 'rb') as f:\n",
    "        is_slow_biased_kl  = pickle.load(f)\n",
    "else:\n",
    "    is_slow_biased_kl = is_slow_estimate_biased_kl(\n",
    "        IS_contexts_per_instance, w_IS_list_per_instance, phi_slow_list\n",
    "    )\n",
    "    with open(file_path, 'wb') as f:\n",
    "        pickle.dump(is_slow_biased_kl , f)"
   ]
  },
  {
   "cell_type": "markdown",
   "metadata": {},
   "source": [
    "## LPOE + potential"
   ]
  },
  {
   "cell_type": "code",
   "execution_count": 23,
   "metadata": {},
   "outputs": [],
   "source": [
    "def lpoe_slow_estimate_biased_kl_instance(contexts: list[str], w_IS_list: list[float], phi_slow: Callable[[str], float]):\n",
    "    assert len(contexts) == len(w_IS_list)\n",
    "    N = len(contexts)\n",
    "    phi_slow_list = [phi_slow(context) for context in contexts]\n",
    "    phi_slow_sum = logsumexp(phi_slow_list) \n",
    "    if np.isnan(phi_slow_sum):\n",
    "        phi_slow_sum = -np.inf\n",
    "    phi_slow_mean = phi_slow_sum - np.log(N)\n",
    "\n",
    "    normalized_phi_slow_list = np.exp(phi_slow_list - phi_slow_sum)\n",
    "\n",
    "    return np.sum([normalized_phi_slow * (phi_slow_mean + w_IS) \n",
    "        for normalized_phi_slow, w_IS in zip(normalized_phi_slow_list, w_IS_list)])\n",
    "\n",
    "\n",
    "def lpoe_slow_estimate_biased_kl(contexts_per_instance: list[list[str]], w_IS_list_per_instance: list[list[float]], phi_slow_list: list[Callable[[str], float]]):\n",
    "    assert len(contexts_per_instance) == len(w_IS_list_per_instance) == len(phi_slow_list)\n",
    "    return [lpoe_slow_estimate_biased_kl_instance(contexts, w_IS_list, phi_slow) \n",
    "            for contexts, w_IS_list, phi_slow in zip(contexts_per_instance, w_IS_list_per_instance, phi_slow_list)]"
   ]
  },
  {
   "cell_type": "code",
   "execution_count": 24,
   "metadata": {},
   "outputs": [],
   "source": [
    "file_path = 'lpoe_slow_biased_kl_single_datum.pkl'\n",
    "\n",
    "if os.path.exists(file_path):\n",
    "    with open(file_path, 'rb') as f:\n",
    "        lpoe_slow_biased_kl  = pickle.load(f)\n",
    "else:\n",
    "    lpoe_slow_biased_kl = lpoe_slow_estimate_biased_kl(\n",
    "        IS_contexts_per_instance, w_IS_list_per_instance, phi_slow_list\n",
    "    )\n",
    "    with open(file_path, 'wb') as f:\n",
    "        pickle.dump(lpoe_slow_biased_kl , f)"
   ]
  },
  {
   "cell_type": "code",
   "execution_count": 25,
   "metadata": {},
   "outputs": [],
   "source": [
    "def smc_estimate_biased_kl_instance(w_SMC_list: list[float]):\n",
    "    w_SMC_sum = logsumexp(w_SMC_list)\n",
    "    w_SMC_mean = w_SMC_sum - np.log(len(w_SMC_list))\n",
    "    return w_SMC_mean\n",
    "\n",
    "def smc_estimate_biased_kl(w_SMC_list_per_instance: list[list[float]]):\n",
    "    return [smc_estimate_biased_kl_instance(w_SMC_list) for w_SMC_list in w_SMC_list_per_instance]\n",
    "\n",
    "w_SMC_list_per_instance = make_w_list_per_instance(method2results, 'smc')\n",
    "smc_biased_kl = np.array(smc_estimate_biased_kl(w_SMC_list_per_instance))"
   ]
  },
  {
   "cell_type": "markdown",
   "metadata": {},
   "source": [
    "### Analysis"
   ]
  },
  {
   "cell_type": "code",
   "execution_count": 26,
   "metadata": {},
   "outputs": [],
   "source": [
    "import polars as pl\n",
    "\n",
    "lm_biased_kl = np.nan_to_num(np.array(lm_biased_kl), nan=-np.inf)\n",
    "with_grammar_constraint = np.nan_to_num(np.array(lpoe_biased_kl), nan=-np.inf)\n",
    "with_weight_debiasing = np.nan_to_num(np.array(is_biased_kl), nan=-np.inf)\n",
    "with_potential = np.nan_to_num(np.array(lpoe_slow_biased_kl), nan=-np.inf)\n",
    "with_potential_and_debiasing = np.nan_to_num(np.array(is_slow_biased_kl), nan=-np.inf)\n",
    "with_resampling = np.nan_to_num(np.array(smc_biased_kl), nan=-np.inf)\n",
    "\n",
    "# %%\n",
    "# not sure why, but numpy is treating the division by zeros as a huge finite float sometimes\n",
    "lm_biased_kl[lm_biased_kl < -1e300] = -np.inf\n",
    "with_grammar_constraint[with_grammar_constraint < -1e300] = -np.inf\n",
    "with_weight_debiasing[with_weight_debiasing < -1e300] = -np.inf\n",
    "with_potential[with_potential < -1e300] = -np.inf\n",
    "with_potential_and_debiasing[with_potential_and_debiasing < -1e300] = -np.inf\n",
    "with_resampling[with_resampling < -1e300] = -np.inf"
   ]
  },
  {
   "cell_type": "code",
   "execution_count": 27,
   "metadata": {},
   "outputs": [],
   "source": [
    "lm_biased_kl_corrected = lm_biased_kl + np.log(np.isfinite(lm_biased_kl).mean())\n",
    "with_grammar_constraint_corrected = with_grammar_constraint + np.log(np.isfinite(with_grammar_constraint).mean())\n",
    "with_weight_debiasing_corrected = with_weight_debiasing + np.log(np.isfinite(with_weight_debiasing).mean())\n",
    "with_potential_corrected = with_potential + np.log(np.isfinite(with_potential).mean())\n",
    "with_potential_and_debiasing_corrected = with_potential_and_debiasing + np.log(np.isfinite(with_potential_and_debiasing).mean())\n",
    "with_resampling_corrected = with_resampling + np.log(np.isfinite(with_resampling).mean())"
   ]
  },
  {
   "cell_type": "code",
   "execution_count": 28,
   "metadata": {},
   "outputs": [],
   "source": [
    "lm_biased_kl_corrected[np.isinf(lm_biased_kl_corrected)] = np.nan\n",
    "with_grammar_constraint_corrected[np.isinf(with_grammar_constraint_corrected)] = np.nan\n",
    "lm_biased_kl_corrected = np.nanmean(lm_biased_kl_corrected, axis=1)\n",
    "with_grammar_constraint_corrected = np.nanmean(with_grammar_constraint_corrected, axis=1)\n",
    "lm_biased_kl_corrected[np.isnan(lm_biased_kl_corrected)] = -np.inf\n",
    "with_grammar_constraint_corrected[np.isnan(with_grammar_constraint_corrected)] = -np.inf"
   ]
  },
  {
   "cell_type": "code",
   "execution_count": 29,
   "metadata": {},
   "outputs": [
    {
     "name": "stderr",
     "output_type": "stream",
     "text": [
      "  0%|          | 0/6 [00:00<?, ?it/s]"
     ]
    },
    {
     "name": "stderr",
     "output_type": "stream",
     "text": [
      "100%|██████████| 6/6 [00:00<00:00, 16.64it/s]\n"
     ]
    }
   ],
   "source": [
    "method_arrs = {\n",
    "    'lm': lm_biased_kl,\n",
    "    'with_grammar_constraint': with_grammar_constraint,\n",
    "    'with_weight_debiasing': with_weight_debiasing,\n",
    "    'with_potential': with_potential,\n",
    "    'with_potential_and_debiasing': with_potential_and_debiasing,\n",
    "    'with_resampling': with_resampling\n",
    "}\n",
    "import scipy\n",
    "\n",
    "def kl_bootstrap(arr):\n",
    "    corrected_arr = arr + np.log(np.isfinite(arr).mean())\n",
    "    subset_arr = corrected_arr[np.isfinite(corrected_arr)]\n",
    "    return np.mean(subset_arr)\n",
    "\n",
    "def kl_independent_bootstrap(*arrs):\n",
    "    arr = np.array([arrs])\n",
    "    corrected_arr = arr + np.log(np.isfinite(arr).mean())\n",
    "    corrected_arr[np.isinf(corrected_arr)] = np.nan\n",
    "    corrected_arr = np.nanmean(corrected_arr, axis=1)\n",
    "    subset_arr = corrected_arr[np.isfinite(corrected_arr)]\n",
    "    return np.mean(subset_arr)\n",
    "\n",
    "import pandas as pd\n",
    "\n",
    "methods = method_arrs.keys()#df['method'].unique()\n",
    "ci_results = []\n",
    "\n",
    "for method in tqdm(methods):\n",
    "    arr = method_arrs[method]\n",
    "    if method in ['lm', 'with_weight_debiasing']:\n",
    "        continue\n",
    "    elif method in ['with_grammar_constraint']:\n",
    "        mean = kl_independent_bootstrap(*arr)\n",
    "        bootstrapped_ci = scipy.stats.bootstrap(\n",
    "            arr, kl_independent_bootstrap,  confidence_level=0.95, n_resamples=1000, method='percentile'\n",
    "        )\n",
    "    else:\n",
    "        mean = kl_bootstrap(arr)\n",
    "        bootstrapped_ci = scipy.stats.bootstrap(\n",
    "            (arr,), kl_bootstrap,  confidence_level=0.95, n_resamples=1000, method='percentile'\n",
    "        )\n",
    "    ci_results.append({\n",
    "        'method': method,\n",
    "        'ci_lower': bootstrapped_ci.confidence_interval.low,\n",
    "        'ci_upper': bootstrapped_ci.confidence_interval.high,\n",
    "        'mean': mean\n",
    "    })\n",
    "\n",
    "ci_df = pd.DataFrame(ci_results)"
   ]
  },
  {
   "cell_type": "code",
   "execution_count": 30,
   "metadata": {},
   "outputs": [
    {
     "data": {
      "text/html": [
       "<div>\n",
       "<style scoped>\n",
       "    .dataframe tbody tr th:only-of-type {\n",
       "        vertical-align: middle;\n",
       "    }\n",
       "\n",
       "    .dataframe tbody tr th {\n",
       "        vertical-align: top;\n",
       "    }\n",
       "\n",
       "    .dataframe thead th {\n",
       "        text-align: right;\n",
       "    }\n",
       "</style>\n",
       "<table border=\"1\" class=\"dataframe\">\n",
       "  <thead>\n",
       "    <tr style=\"text-align: right;\">\n",
       "      <th></th>\n",
       "      <th>method</th>\n",
       "      <th>ci_lower</th>\n",
       "      <th>ci_upper</th>\n",
       "      <th>mean</th>\n",
       "    </tr>\n",
       "  </thead>\n",
       "  <tbody>\n",
       "    <tr>\n",
       "      <th>0</th>\n",
       "      <td>with_grammar_constraint</td>\n",
       "      <td>-1.076894</td>\n",
       "      <td>-0.480629</td>\n",
       "      <td>-0.770471</td>\n",
       "    </tr>\n",
       "    <tr>\n",
       "      <th>1</th>\n",
       "      <td>with_potential</td>\n",
       "      <td>-1.135331</td>\n",
       "      <td>-0.473397</td>\n",
       "      <td>-0.772943</td>\n",
       "    </tr>\n",
       "    <tr>\n",
       "      <th>2</th>\n",
       "      <td>with_potential_and_debiasing</td>\n",
       "      <td>-0.126653</td>\n",
       "      <td>-0.087101</td>\n",
       "      <td>-0.106246</td>\n",
       "    </tr>\n",
       "    <tr>\n",
       "      <th>3</th>\n",
       "      <td>with_resampling</td>\n",
       "      <td>-0.139667</td>\n",
       "      <td>-0.093989</td>\n",
       "      <td>-0.115426</td>\n",
       "    </tr>\n",
       "  </tbody>\n",
       "</table>\n",
       "</div>"
      ],
      "text/plain": [
       "                         method  ci_lower  ci_upper      mean\n",
       "0       with_grammar_constraint -1.076894 -0.480629 -0.770471\n",
       "1                with_potential -1.135331 -0.473397 -0.772943\n",
       "2  with_potential_and_debiasing -0.126653 -0.087101 -0.106246\n",
       "3               with_resampling -0.139667 -0.093989 -0.115426"
      ]
     },
     "execution_count": 30,
     "metadata": {},
     "output_type": "execute_result"
    }
   ],
   "source": [
    "ci_df"
   ]
  },
  {
   "cell_type": "code",
   "execution_count": 31,
   "metadata": {},
   "outputs": [
    {
     "data": {
      "text/html": [
       "<div>\n",
       "<style scoped>\n",
       "    .dataframe tbody tr th:only-of-type {\n",
       "        vertical-align: middle;\n",
       "    }\n",
       "\n",
       "    .dataframe tbody tr th {\n",
       "        vertical-align: top;\n",
       "    }\n",
       "\n",
       "    .dataframe thead th {\n",
       "        text-align: right;\n",
       "    }\n",
       "</style>\n",
       "<table border=\"1\" class=\"dataframe\">\n",
       "  <thead>\n",
       "    <tr style=\"text-align: right;\">\n",
       "      <th></th>\n",
       "      <th>method</th>\n",
       "      <th>ci_lower</th>\n",
       "      <th>ci_upper</th>\n",
       "      <th>mean</th>\n",
       "      <th>domain</th>\n",
       "    </tr>\n",
       "  </thead>\n",
       "  <tbody>\n",
       "    <tr>\n",
       "      <th>0</th>\n",
       "      <td>with_grammar_constraint</td>\n",
       "      <td>-14.920000</td>\n",
       "      <td>-11.690000</td>\n",
       "      <td>-13.232448</td>\n",
       "      <td>Planetarium</td>\n",
       "    </tr>\n",
       "    <tr>\n",
       "      <th>1</th>\n",
       "      <td>with_potential</td>\n",
       "      <td>-15.460000</td>\n",
       "      <td>-11.800000</td>\n",
       "      <td>-13.468131</td>\n",
       "      <td>Planetarium</td>\n",
       "    </tr>\n",
       "    <tr>\n",
       "      <th>2</th>\n",
       "      <td>with_potential_and_debiasing</td>\n",
       "      <td>-14.620000</td>\n",
       "      <td>-10.550000</td>\n",
       "      <td>-12.424768</td>\n",
       "      <td>Planetarium</td>\n",
       "    </tr>\n",
       "    <tr>\n",
       "      <th>3</th>\n",
       "      <td>with_resampling</td>\n",
       "      <td>-9.470000</td>\n",
       "      <td>-8.790000</td>\n",
       "      <td>-9.100405</td>\n",
       "      <td>Planetarium</td>\n",
       "    </tr>\n",
       "    <tr>\n",
       "      <th>4</th>\n",
       "      <td>lm</td>\n",
       "      <td>NaN</td>\n",
       "      <td>NaN</td>\n",
       "      <td>NaN</td>\n",
       "      <td>GDB-17</td>\n",
       "    </tr>\n",
       "    <tr>\n",
       "      <th>5</th>\n",
       "      <td>with_grammar_constraint</td>\n",
       "      <td>-1.439798</td>\n",
       "      <td>-1.158893</td>\n",
       "      <td>-1.282258</td>\n",
       "      <td>GDB-17</td>\n",
       "    </tr>\n",
       "    <tr>\n",
       "      <th>6</th>\n",
       "      <td>with_weight_debiasing</td>\n",
       "      <td>NaN</td>\n",
       "      <td>NaN</td>\n",
       "      <td>NaN</td>\n",
       "      <td>GDB-17</td>\n",
       "    </tr>\n",
       "    <tr>\n",
       "      <th>7</th>\n",
       "      <td>with_potential</td>\n",
       "      <td>-1.488491</td>\n",
       "      <td>-1.238317</td>\n",
       "      <td>-1.358658</td>\n",
       "      <td>GDB-17</td>\n",
       "    </tr>\n",
       "    <tr>\n",
       "      <th>8</th>\n",
       "      <td>with_potential_and_debiasing</td>\n",
       "      <td>-1.324005</td>\n",
       "      <td>-1.123713</td>\n",
       "      <td>-1.224908</td>\n",
       "      <td>GDB-17</td>\n",
       "    </tr>\n",
       "    <tr>\n",
       "      <th>9</th>\n",
       "      <td>with_resampling</td>\n",
       "      <td>-1.227009</td>\n",
       "      <td>-1.058326</td>\n",
       "      <td>-1.140524</td>\n",
       "      <td>GDB-17</td>\n",
       "    </tr>\n",
       "  </tbody>\n",
       "</table>\n",
       "</div>"
      ],
      "text/plain": [
       "                         method   ci_lower   ci_upper       mean       domain\n",
       "0       with_grammar_constraint -14.920000 -11.690000 -13.232448  Planetarium\n",
       "1                with_potential -15.460000 -11.800000 -13.468131  Planetarium\n",
       "2  with_potential_and_debiasing -14.620000 -10.550000 -12.424768  Planetarium\n",
       "3               with_resampling  -9.470000  -8.790000  -9.100405  Planetarium\n",
       "4                            lm        NaN        NaN        NaN       GDB-17\n",
       "5       with_grammar_constraint  -1.439798  -1.158893  -1.282258       GDB-17\n",
       "6         with_weight_debiasing        NaN        NaN        NaN       GDB-17\n",
       "7                with_potential  -1.488491  -1.238317  -1.358658       GDB-17\n",
       "8  with_potential_and_debiasing  -1.324005  -1.123713  -1.224908       GDB-17\n",
       "9               with_resampling  -1.227009  -1.058326  -1.140524       GDB-17"
      ]
     },
     "execution_count": 31,
     "metadata": {},
     "output_type": "execute_result"
    }
   ],
   "source": [
    "smiles = pl.read_parquet('smiles_kl_ci_df.parquet').to_pandas()\n",
    "smiles"
   ]
  },
  {
   "cell_type": "code",
   "execution_count": 91,
   "metadata": {},
   "outputs": [],
   "source": [
    "ci_df['domain'] = 'Text-to-SQL'\n",
    "\n",
    "pddl = pl.read_parquet('pddl_kl_ci_df.parquet').to_pandas()\n",
    "pddl['domain'] = 'Goal inference'\n",
    "\n",
    "smiles = pl.read_parquet('smiles_kl_ci_df.parquet').to_pandas()\n",
    "smiles = smiles[smiles['domain'] == 'GDB-17']\n",
    "smiles['domain'] = 'Molecular synthesis'\n",
    "\n",
    "ds1000 = pd.DataFrame(\n",
    "    [\n",
    "        {\n",
    "            'method': 'with_potential_and_debiasing',\n",
    "            'ci_lower': -1.64,\n",
    "            'ci_upper': -1.43,\n",
    "            'mean': -1.52,\n",
    "            'domain': 'Data science'\n",
    "        },\n",
    "        {\n",
    "            'method': 'with_resampling',\n",
    "            'ci_lower': -1.36,\n",
    "            'ci_upper': -1.20,\n",
    "            'mean': -1.28,\n",
    "            'domain': 'Data science'\n",
    "        },\n",
    "    ]\n",
    ")\n",
    "\n",
    "df = pd.concat([ci_df, pddl, smiles, ds1000])\n",
    "\n",
    "method_rewrites = {\n",
    "    'with_grammar_constraint' : 'grammar constraint',\n",
    "    'with_potential' : 'semantic potential',\n",
    "    'with_potential_and_debiasing' : 'weight correction',\n",
    "    'with_resampling' : 'resampling',\n",
    "}\n",
    "\n",
    "df = df[df['method'].isin(set(method_rewrites.keys()) - set(['with_grammar_constraint']))]\n"
   ]
  },
  {
   "cell_type": "code",
   "execution_count": 92,
   "metadata": {},
   "outputs": [],
   "source": [
    "df.to_csv('ci_kl_results_all.csv', index=False)"
   ]
  },
  {
   "cell_type": "markdown",
   "metadata": {},
   "source": [
    "## with significance"
   ]
  },
  {
   "cell_type": "code",
   "execution_count": null,
   "metadata": {},
   "outputs": [],
   "source": [
    "df = pd.read_csv('ci_kl_results_all.csv')"
   ]
  },
  {
   "cell_type": "code",
   "execution_count": 48,
   "metadata": {},
   "outputs": [],
   "source": [
    "def correct_kl(arr):\n",
    "    corrected_arr = arr + np.log(np.isfinite(arr).mean())\n",
    "    subset_arr = corrected_arr[np.isfinite(corrected_arr)]\n",
    "    return subset_arr\n",
    "\n",
    "def correct_kl_ind(arr):\n",
    "    arr = np.array([arrs])\n",
    "    corrected_arr = arr + np.log(np.isfinite(arr).mean())\n",
    "    corrected_arr[np.isinf(corrected_arr)] = np.nan\n",
    "    corrected_arr = np.nanmean(corrected_arr, axis=1)\n",
    "    subset_arr = corrected_arr[np.isfinite(corrected_arr)]\n",
    "    return subset_arr\n",
    "\n",
    "def t_test(arr1, arr2, paired):\n",
    "    if paired:\n",
    "        return scipy.stats.ttest_rel(arr1, arr2)\n",
    "    else:\n",
    "        return scipy.stats.ttest_ind(arr1, arr2)"
   ]
  },
  {
   "cell_type": "code",
   "execution_count": 72,
   "metadata": {},
   "outputs": [],
   "source": [
    "def run_t_tests(method_arrs, methods):\n",
    "    for method1 in methods:\n",
    "        for method2 in methods:\n",
    "            if method1 == method2:\n",
    "                break\n",
    "            if set([method1, method2]) == set(['with_potential', 'with_potential_and_debiasing']):\n",
    "                typ = 'paired'\n",
    "                t_statistic, p_value = scipy.stats.ttest_rel(\n",
    "                    correct_kl(method_arrs[method1]), \n",
    "                    correct_kl(method_arrs[method2]), \n",
    "                )\n",
    "            else:\n",
    "                typ = 'independent'\n",
    "                t_statistic, p_value = scipy.stats.ttest_ind(\n",
    "                    correct_kl(method_arrs[method1]), \n",
    "                    correct_kl(method_arrs[method2]), \n",
    "                )\n",
    "\n",
    "            print('#', method1, method2, typ, p_value)"
   ]
  },
  {
   "cell_type": "code",
   "execution_count": 96,
   "metadata": {},
   "outputs": [],
   "source": [
    "with open('smiles_kl_method_arrs.pkl', 'rb') as f:\n",
    "    smiles_arrs = pickle.load(f)\n",
    "\n",
    "with open('pddl_kl_method_arrs.pkl', 'rb') as f:\n",
    "    pddl_arrs = pickle.load(f)\n",
    "\n",
    "import json\n",
    "with open('ds1000_kl_method_arrs.json', 'r') as f:\n",
    "    ds1000_arrs = json.load(f)"
   ]
  },
  {
   "cell_type": "code",
   "execution_count": 74,
   "metadata": {},
   "outputs": [
    {
     "name": "stdout",
     "output_type": "stream",
     "text": [
      "# with_potential_and_debiasing with_potential paired 0.003841721120493059\n",
      "# with_resampling with_potential independent 0.005031235354700541\n",
      "# with_resampling with_potential_and_debiasing independent 0.19369344172948244\n"
     ]
    }
   ],
   "source": [
    "run_t_tests(smiles_arrs, methods = ['with_potential', 'with_potential_and_debiasing', 'with_resampling'])"
   ]
  },
  {
   "cell_type": "code",
   "execution_count": 94,
   "metadata": {},
   "outputs": [
    {
     "name": "stdout",
     "output_type": "stream",
     "text": [
      "# with_potential_and_debiasing with_potential paired 0.0015003741131573154\n",
      "# with_resampling with_potential independent 5.2080362746402306e-08\n",
      "# with_resampling with_potential_and_debiasing independent 3.673456785793631e-05\n"
     ]
    }
   ],
   "source": [
    "run_t_tests(pddl_arrs, methods = ['with_potential', 'with_potential_and_debiasing', 'with_resampling'])"
   ]
  },
  {
   "cell_type": "code",
   "execution_count": 97,
   "metadata": {},
   "outputs": [
    {
     "name": "stdout",
     "output_type": "stream",
     "text": [
      "# with_resampling with_potential_and_debiasing independent 2.1082160683878767e-114\n"
     ]
    }
   ],
   "source": [
    "run_t_tests(ds1000_arrs, methods = ['with_potential_and_debiasing', 'with_resampling'])"
   ]
  },
  {
   "cell_type": "code",
   "execution_count": 98,
   "metadata": {},
   "outputs": [
    {
     "name": "stdout",
     "output_type": "stream",
     "text": [
      "# with_potential_and_debiasing with_potential paired 0.00020439623749010324\n",
      "# with_resampling with_potential independent 0.0002802874538806124\n",
      "# with_resampling with_potential_and_debiasing independent 0.5561459789948489\n"
     ]
    }
   ],
   "source": [
    "run_t_tests(method_arrs, methods = ['with_potential', 'with_potential_and_debiasing', 'with_resampling'])"
   ]
  },
  {
   "cell_type": "code",
   "execution_count": 124,
   "metadata": {},
   "outputs": [
    {
     "name": "stderr",
     "output_type": "stream",
     "text": [
      "/home/lebrunb/miniconda3/envs/genparse/lib/python3.10/site-packages/plotnine/ggplot.py:606: PlotnineWarning: Saving 10 x 4 in image.\n",
      "/home/lebrunb/miniconda3/envs/genparse/lib/python3.10/site-packages/plotnine/ggplot.py:607: PlotnineWarning: Filename: kl_plot.png\n",
      "/home/lebrunb/miniconda3/envs/genparse/lib/python3.10/site-packages/plotnine/positions/position.py:232: PlotnineWarning: position_dodge requires non-overlapping x intervals\n",
      "/home/lebrunb/miniconda3/envs/genparse/lib/python3.10/site-packages/plotnine/positions/position.py:232: PlotnineWarning: position_dodge requires non-overlapping x intervals\n",
      "/home/lebrunb/miniconda3/envs/genparse/lib/python3.10/site-packages/plotnine/positions/position.py:232: PlotnineWarning: position_dodge requires non-overlapping x intervals\n",
      "/home/lebrunb/miniconda3/envs/genparse/lib/python3.10/site-packages/plotnine/positions/position.py:232: PlotnineWarning: position_dodge requires non-overlapping x intervals\n",
      "/home/lebrunb/miniconda3/envs/genparse/lib/python3.10/site-packages/plotnine/positions/position.py:232: PlotnineWarning: position_dodge requires non-overlapping x intervals\n",
      "/home/lebrunb/miniconda3/envs/genparse/lib/python3.10/site-packages/plotnine/positions/position.py:232: PlotnineWarning: position_dodge requires non-overlapping x intervals\n"
     ]
    },
    {
     "data": {
      "image/png": "[encoded data removed]"
     },
     "metadata": {
      "image/png": {
       "height": 400,
       "width": 1000
      }
     },
     "output_type": "display_data"
    }
   ],
   "source": [
    "from plotnine import (\n",
    "        ggplot, aes, geom_bar, geom_errorbar, facet_wrap, theme_light, \n",
    "        labs, theme, element_text, guides, guide_legend, scale_fill_manual,\n",
    "        element_blank, xlab, geom_segment, geom_text, position_dodge, arrs\n",
    ")\n",
    "import plotnine as pn\n",
    "from pandas import CategoricalDtype\n",
    "\n",
    "\n",
    "method_order = CategoricalDtype(categories=methods, ordered=True)\n",
    "df['Method'] = df['method'].astype(method_order)\n",
    "\n",
    "colors = [\"#5CC863\",  \"#287D8E\", \"#3E4A89\", \"#440154\"] # \"#FDE725\", \n",
    "\n",
    "\n",
    "annotations = pd.DataFrame({\n",
    "        'domain': [\n",
    "                'Text-to-SQL', 'Text-to-SQL', \n",
    "                'Molecular synthesis', 'Molecular synthesis',\n",
    "                'Data science',\n",
    "                'Goal inference', 'Goal inference', 'Goal inference'\n",
    "        ],\n",
    "        'x_start': [\n",
    "                'with_potential', 'with_potential', \n",
    "                'with_potential', 'with_potential',\n",
    "                'with_potential_and_debiasing',\n",
    "                'with_potential', 'with_potential_and_debiasing', 'with_potential'\n",
    "        ],\n",
    "        'x_end': [\n",
    "                'with_potential_and_debiasing','with_resampling', \n",
    "                'with_potential_and_debiasing', 'with_resampling',\n",
    "                'with_resampling',\n",
    "                'with_potential_and_debiasing', 'with_resampling', 'with_resampling'\n",
    "        ],\n",
    "        'x_mid' : [\n",
    "                1.5, 2, 1.5, 2, 1.5, 1.5, 2.5, 2\n",
    "        ],\n",
    "        'y': [-1.25, -1.45, -1.65, -1.9, -1.75, -18, -16.5, -20],\n",
    "\n",
    "        'label': ['***', '***', '**', '**', '***', '**', '***', '***'],\n",
    "        'Method' : ['with_potential'] * 8 # ignored\n",
    "}\n",
    ")\n",
    "\n",
    "\n",
    "plot = (ggplot(df, aes(x='Method', y='mean', fill='Method'))\n",
    "        + geom_bar(stat='identity', position='dodge', width=0.7)\n",
    "        + geom_errorbar(aes(ymin='ci_lower', ymax='ci_upper'), width=0.2)\n",
    "        + pn.facet_wrap('~ domain', scales='free', nrow=1)\n",
    "        + theme_light()\n",
    "        + labs(title='', y='Estimated $\\log Z - \\\\text{KL}(q_\\\\text{alg} \\mid p_\\\\text{global})$', x='')\n",
    "        + theme(axis_text_x=element_blank(), legend_position='bottom', figure_size=(10, 4),)\n",
    "        + guides(fill=guide_legend())\n",
    "        + scale_fill_manual(\n",
    "                values=colors, \n",
    "                labels=[\n",
    "                        'LM with grammar constraint and potential', \n",
    "                        'LM with grammar constraint, potential and weight correction', \n",
    "                        'LM with grammar constraint, potential, weight correction and resampling'\n",
    "                ]\n",
    "        ) \n",
    "        + guides(fill=guide_legend(nrow=3))\n",
    "        + geom_segment(\n",
    "                annotations, \n",
    "                aes(x='x_start', xend='x_end', y='y', yend='y'), \n",
    "                color='grey', \n",
    "                size=0.5\n",
    "        ) +\n",
    "        geom_text(annotations, \n",
    "                aes(x='x_mid', y='y', label='label'), \n",
    "                position=position_dodge(width=0.8), \n",
    "                va='bottom', ha='center', color='grey')\n",
    ")\n",
    "\n",
    "plot.save('kl_plot.png', width=10, height=4, dpi=300)\n",
    "\n",
    "plot"
   ]
  },
  {
   "cell_type": "markdown",
   "metadata": {},
   "source": [
    "----"
   ]
  }
 ],
 "metadata": {
  "kernelspec": {
   "display_name": "genparse",
   "language": "python",
   "name": "python3"
  },
  "language_info": {
   "codemirror_mode": {
    "name": "ipython",
    "version": 3
   },
   "file_extension": ".py",
   "mimetype": "text/x-python",
   "name": "python",
   "nbconvert_exporter": "python",
   "pygments_lexer": "ipython3",
   "version": "3.10.14"
  }
 },
 "nbformat": 4,
 "nbformat_minor": 2
}
