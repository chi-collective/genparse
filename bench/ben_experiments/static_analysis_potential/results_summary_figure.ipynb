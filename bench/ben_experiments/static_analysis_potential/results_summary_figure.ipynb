{
 "cells": [
  {
   "cell_type": "code",
   "execution_count": 1,
   "metadata": {},
   "outputs": [],
   "source": [
    "import pandas as pd\n",
    "\n",
    "SMC = 'w/ resampling'\n",
    "LPOE = 'w/ grammar constraint'\n",
    "IS = 'w/ weight correction'\n",
    "IS_slow = 'w/ semantic potential'\n",
    "\n",
    "data = [\n",
    "    # SMC\n",
    "    [SMC, 'Goal inference', 0.419, 0.365, 0.476],\n",
    "    [SMC, 'Molecular synthesis', 0.577, 0.557, 0.592],\n",
    "    [SMC, 'Data science', 0.270, 0.250, 0.292],\n",
    "    [SMC, 'Text-to-SQL', 0.620, 0.597, 0.644],\n",
    "\n",
    "    [IS_slow, 'Goal inference', 0.257, 0.21, 0.31],\n",
    "    [IS_slow, 'Molecular synthesis', 0.404, 0.37, 0.44],\n",
    "    [IS_slow, 'Data science', 0.223, 0.19, 0.27],\n",
    "    [IS_slow, 'Text-to-SQL', 0.618, 0.59, 0.64],\n",
    "\n",
    "    [IS, 'Goal inference', 0.083, 0.059, 0.113],\n",
    "    [IS, 'Molecular synthesis', 0.228, 0.205, 0.252],\n",
    "    #[IS, 'DS1000', 0.116, 0.09, 0.15],\n",
    "    [IS, 'Text-to-SQL', 0.597, 0.572, 0.620],\n",
    "    \n",
    "    [LPOE, 'Goal inference', 0.086, 0.066, 0.112],\n",
    "    [LPOE, 'Molecular synthesis', 0.189, 0.170, 0.209],\n",
    "    #[LPOE, 'DS1000', 0.076, 0.06, 0.10],\n",
    "    [LPOE, 'Text-to-SQL', 0.559, 0.536, 0.581],\n",
    "    \n",
    "    ['LM', 'Goal inference', 0.063, 0.049, 0.082],\n",
    "    ['LM', 'Molecular synthesis', 0.132, 0.117, 0.148],\n",
    "    ['LM', 'Data science', 0.117, 0.093, 0.139],\n",
    "    ['LM', 'Text-to-SQL', 0.531, 0.508, 0.553]\n",
    "]\n",
    "\n",
    "df = pd.DataFrame(data, columns=['Method', 'Domain', 'Score', 'Lower', 'Upper'])"
   ]
  },
  {
   "cell_type": "code",
   "execution_count": 2,
   "metadata": {},
   "outputs": [
    {
     "name": "stderr",
     "output_type": "stream",
     "text": [
      "/home/lebrunb/miniconda3/envs/genparse/lib/python3.10/site-packages/plotnine/ggplot.py:606: PlotnineWarning: Saving 7 x 6 in image.\n",
      "/home/lebrunb/miniconda3/envs/genparse/lib/python3.10/site-packages/plotnine/ggplot.py:607: PlotnineWarning: Filename: accuracy_by_methods_plot.png\n"
     ]
    }
   ],
   "source": [
    "from plotnine import (\n",
    "        ggplot, aes, geom_bar, geom_errorbar, facet_wrap, theme_light, \n",
    "        labs, theme, element_text, guides, guide_legend, scale_fill_manual,\n",
    "        element_blank, xlab\n",
    ")\n",
    "from pandas import CategoricalDtype\n",
    "\n",
    "method_order = CategoricalDtype(categories=['LM', LPOE, IS, IS_slow, SMC], ordered=True)\n",
    "df['Method features\\n(cumulative)'] = df['Method'].astype(method_order)\n",
    "\n",
    "df['Score'] = pd.to_numeric(df['Score'], errors='coerce')\n",
    "df['Lower CI'] = pd.to_numeric(df['Lower'], errors='coerce')\n",
    "df['Upper CI'] = pd.to_numeric(df['Upper'], errors='coerce')\n",
    "\n",
    "colors = [\"#FDE725\", \"#5CC863\",  \"#287D8E\", \"#3E4A89\", \"#440154\"]\n",
    "\n",
    "plot = (ggplot(df, aes(x='Method features\\n(cumulative)', y='Score', fill='Method features\\n(cumulative)'))\n",
    "        + geom_bar(stat='identity', position='dodge', width=0.7)\n",
    "        + geom_errorbar(aes(ymin='Lower', ymax='Upper'), width=0.2)\n",
    "        + facet_wrap('~Domain', nrow=2, scales='free')\n",
    "        + theme_light()\n",
    "        + labs(title='', y='Accuracy on task', x='')\n",
    "        + theme(axis_text_x=element_blank(), legend_position='bottom')\n",
    "        + guides(fill=guide_legend(nrow=3))\n",
    "        + scale_fill_manual(values=colors)\n",
    ")\n",
    "\n",
    "# Display the plot\n",
    "plot.save(\"accuracy_by_methods_plot.png\", width=7, height=6, dpi=300)"
   ]
  },
  {
   "cell_type": "code",
   "execution_count": 1,
   "metadata": {},
   "outputs": [
    {
     "data": {
      "image/png": "[encoded data removed]",
      "text/plain": [
       "<Figure size 640x480 with 1 Axes>"
      ]
     },
     "metadata": {},
     "output_type": "display_data"
    }
   ],
   "source": [
    "import matplotlib.pyplot as plt\n",
    "\n",
    "colors = [\"#FDE725\", \"#5CC863\",  \"#287D8E\", \"#3E4A89\", \"#440154\"]\n",
    "x = range(len(colors))\n",
    "\n",
    "plt.bar(x, [1]*len(colors), color=colors)\n",
    "plt.xticks(x, colors)\n",
    "plt.xlabel('Colors')\n",
    "plt.ylabel('Value')\n",
    "plt.title('Visualization of Colors')\n",
    "plt.show()"
   ]
  }
 ],
 "metadata": {
  "kernelspec": {
   "display_name": "genparse",
   "language": "python",
   "name": "python3"
  },
  "language_info": {
   "codemirror_mode": {
    "name": "ipython",
    "version": 3
   },
   "file_extension": ".py",
   "mimetype": "text/x-python",
   "name": "python",
   "nbconvert_exporter": "python",
   "pygments_lexer": "ipython3",
   "version": "3.10.14"
  }
 },
 "nbformat": 4,
 "nbformat_minor": 2
}
