{
 "cells": [
  {
   "cell_type": "code",
   "execution_count": 2,
   "metadata": {},
   "outputs": [],
   "source": [
    "import os\n",
    "import json"
   ]
  },
  {
   "cell_type": "code",
   "execution_count": 11,
   "metadata": {},
   "outputs": [],
   "source": [
    "def get_final_particles_from_record(record):\n",
    "    final_step = record['history'][-1]\n",
    "    particles = final_step['particles']\n",
    "    if 'resample_indices' in final_step:\n",
    "        particles = [\n",
    "            {**particles[i], **{'weight': final_step['average_weight']}}\n",
    "            for i in final_step['resample_indices']\n",
    "        ]\n",
    "    return particles"
   ]
  },
  {
   "cell_type": "code",
   "execution_count": 21,
   "metadata": {},
   "outputs": [],
   "source": [
    "results_dir = 'results/Meta-Llama-3.1-8B-Instruct/character'\n",
    "\n",
    "sis_path = os.path.join(results_dir, 'local', 'Meta-Llama-3.1-8B-Instruct-local-1-0.5-p10-character.jsonl')\n",
    "sis_results = []\n",
    "with open(sis_path, 'r') as f:\n",
    "    for line in f:\n",
    "        sis_results.append(json.loads(line))\n",
    "\n",
    "sis_questions = [r['question'] for r in sis_results]"
   ]
  },
  {
   "cell_type": "code",
   "execution_count": 22,
   "metadata": {},
   "outputs": [],
   "source": [
    "smc_path = os.path.join(results_dir, 'smc', 'Meta-Llama-3.1-8B-Instruct-smc-1-0.5-p10-character.jsonl')\n",
    "smc_results = []\n",
    "with open(smc_path, 'r') as f:\n",
    "    for line in f:\n",
    "        smc_results.append(json.loads(line))\n",
    "\n",
    "question2results = {r['question'] : r for r in smc_results}\n",
    "\n",
    "smc_results = []\n",
    "for q in sis_questions:\n",
    "    smc_results.append(question2results[q])"
   ]
  },
  {
   "cell_type": "code",
   "execution_count": 24,
   "metadata": {},
   "outputs": [],
   "source": [
    "assert [r['question'] for r in sis_results] == [r['question'] for r in smc_results]"
   ]
  },
  {
   "cell_type": "code",
   "execution_count": 23,
   "metadata": {},
   "outputs": [],
   "source": [
    "import numpy as np\n",
    "def mean_log_weight(record):\n",
    "    \"\"\" Estimates log Z - KL(q | p) \"\"\"\n",
    "    particles = get_final_particles_from_record(record)\n",
    "    return np.mean([p['weight'] for p in particles])\n",
    "\n",
    "def log_mean_weight(record):\n",
    "    \"\"\" Estimates KL(p | q) - log Z \"\"\"\n",
    "    particles = get_final_particles_from_record(record)\n",
    "    log_weights = [p['weight'] for p in particles]\n",
    "    return np.log(np.mean(np.exp(log_weights)))"
   ]
  },
  {
   "cell_type": "code",
   "execution_count": 33,
   "metadata": {},
   "outputs": [],
   "source": [
    "mean_log_weights = []\n",
    "for i in range(len(sis_results)):\n",
    "    # KL(q_smc | p) - KL(q_sis | p)\n",
    "    mean_log_weights.append((\n",
    "        i,\n",
    "        sis_results[i]['question'], \n",
    "        mean_log_weight(sis_results[i]['record']) - mean_log_weight(smc_results[i]['record'])\n",
    "    ))"
   ]
  },
  {
   "cell_type": "code",
   "execution_count": 34,
   "metadata": {},
   "outputs": [],
   "source": [
    "mean_log_weights.sort(key=lambda x: x[2], reverse=False)"
   ]
  },
  {
   "cell_type": "code",
   "execution_count": 38,
   "metadata": {},
   "outputs": [
    {
     "data": {
      "text/plain": [
       "(array([  1.,   0.,   0.,   2.,   2.,   5.,   0.,   6.,   4.,  14.,  19.,\n",
       "         36.,  62., 661., 174.,  29.,  11.,   5.,   1.,   2.]),\n",
       " array([-74.79856217, -69.39434484, -63.99012751, -58.58591019,\n",
       "        -53.18169286, -47.77747553, -42.37325821, -36.96904088,\n",
       "        -31.56482355, -26.16060622, -20.7563889 , -15.35217157,\n",
       "         -9.94795424,  -4.54373692,   0.86048041,   6.26469774,\n",
       "         11.66891506,  17.07313239,  22.47734972,  27.88156704,\n",
       "         33.28578437]),\n",
       " <BarContainer object of 20 artists>)"
      ]
     },
     "execution_count": 38,
     "metadata": {},
     "output_type": "execute_result"
    },
    {
     "data": {
      "image/png": "[encoded data removed]",
      "text/plain": [
       "<Figure size 640x480 with 1 Axes>"
      ]
     },
     "metadata": {},
     "output_type": "display_data"
    }
   ],
   "source": [
    "import matplotlib.pyplot as plt\n",
    "\n",
    "plt.hist([x[2] for x in mean_log_weights], bins=20)"
   ]
  },
  {
   "cell_type": "code",
   "execution_count": 54,
   "metadata": {},
   "outputs": [],
   "source": [
    "from bench.spider.evaluator import Evaluator\n",
    "from pathlib import Path\n",
    "from functools import lru_cache\n",
    "\n",
    "spider_dir = Path('../spider/data/spider')\n",
    "\n",
    "evaluator = Evaluator(spider_dir, timeout=10)\n",
    "\n",
    "@lru_cache\n",
    "def cached_eval(x, y, db):\n",
    "    return evaluator.evaluate(x, y, db_name=db)\n",
    "\n",
    "from genparse.experimental.batch_inference.steer import ParticleApproximation, Particle\n",
    "from genparse import EOS\n",
    "\n",
    "def create_particle_approx(particles):\n",
    "    return ParticleApproximation(\n",
    "        [\n",
    "            Particle(\n",
    "                prompt=None,\n",
    "                context=p['context'],\n",
    "                context_ids=p['context_ids'],\n",
    "                done=True,\n",
    "                log_weight=p['weight'],\n",
    "                log_weight_updates=None,\n",
    "                parent=None,\n",
    "            )\n",
    "            for p in particles\n",
    "        ]\n",
    "    )\n",
    "\n",
    "def posterior_weighted_eval(results):\n",
    "    eos = EOS\n",
    "    particles = create_particle_approx(\n",
    "        get_final_particles_from_record(results['record'])\n",
    "    )\n",
    "    gold = results['gold']\n",
    "    db = results['db_name']\n",
    "\n",
    "    weighted_acc = 0\n",
    "    particle_results = {}\n",
    "    for pred, p in particles.posterior.items():\n",
    "        if np.isnan(p):\n",
    "            p = 0\n",
    "        pred = pred.rstrip(eos)\n",
    "        acc = cached_eval(gold, pred, db)\n",
    "        assert pred not in particle_results, pred\n",
    "        particle_results[pred] = acc\n",
    "        weighted_acc += p * acc[0]\n",
    "\n",
    "    return {'result': weighted_acc, 'particle_results': particle_results}"
   ]
  },
  {
   "cell_type": "code",
   "execution_count": 44,
   "metadata": {},
   "outputs": [],
   "source": [
    "def dump_records(index):  \n",
    "    with open('../../notes/smc_viz/sis_record.json', 'w') as f:\n",
    "        json.dump(sis_results[index]['record'], f)\n",
    "\n",
    "    with open('../../notes/smc_viz/smc_record.json', 'w') as f:\n",
    "        json.dump(smc_results[index]['record'], f)"
   ]
  },
  {
   "cell_type": "code",
   "execution_count": 60,
   "metadata": {},
   "outputs": [
    {
     "name": "stdout",
     "output_type": "stream",
     "text": [
      "SELECT T1.ContId ,  T1.Continent ,  count(*) FROM CONTINENTS AS T1 JOIN COUNTRIES AS T2 ON T1.ContId  =  T2.Continent GROUP BY T1.ContId; \n",
      " SELECT t1.contid, t1.continent, count(*) FROM continents t1 JOIN countries t2 ON t1.contid = t2.continent GROUP BY t1.continent;\n"
     ]
    }
   ],
   "source": [
    "print(\n",
    "    sis_results[90]['gold'], \"\\n\",\n",
    "    \"SELECT t1.contid, t1.continent, count(*) FROM continents t1 JOIN countries t2 ON t1.contid = t2.continent GROUP BY t1.continent;\"\n",
    ")"
   ]
  },
  {
   "cell_type": "code",
   "execution_count": 58,
   "metadata": {},
   "outputs": [
    {
     "data": {
      "text/plain": [
       "'SELECT T1.ContId ,  T1.Continent ,  count(*) FROM CONTINENTS AS T1 JOIN COUNTRIES AS T2 ON T1.ContId  =  T2.Continent GROUP BY T1.ContId;'"
      ]
     },
     "execution_count": 58,
     "metadata": {},
     "output_type": "execute_result"
    }
   ],
   "source": [
    "smc_results[90]['gold']"
   ]
  },
  {
   "cell_type": "code",
   "execution_count": 55,
   "metadata": {},
   "outputs": [
    {
     "data": {
      "text/plain": [
       "{'result': 0.0,\n",
       " 'particle_results': {'SELECT t1.ContId, t1.Continent, count(t2.CountryId) FROM continents t1 JOIN countries t2 ON t1.ContId = t2.Continent GROUP BY t1.ContId;': (False,\n",
       "   'invalid'),\n",
       "  'SELECT cONTID, t1.continent, count(t2.countryid) FROM continents AS t1 JOIN countries AS t2 ON t1.contid = t2.continent GROUP BY t1.contid;': (False,\n",
       "   'mismatch'),\n",
       "  'SELECT countryid, countryname, count(*) FROM countries GROUP BY continent;': (False,\n",
       "   'mismatch'),\n",
       "  'SELECT cAr_1.contINENTs.contINENT ASicontinent, count(*) ASnum_countries FROM countries AS  t1 JOIN continEnTs ON t1.continent = continEnTs.contID GROUP BY t1.continent;': (False,\n",
       "   'invalid'),\n",
       "  'SELECT cAr_1.continents.ContId, cAr_1.continents.Continent, count(*) FROM countries AS t1 JOIN continents AS t2 ON t2.ContId = t1.Continent GROUP BY cAr_1.continents.Continent ORDER BY count(*) DESC;': (False,\n",
       "   'invalid'),\n",
       "  'SELECT car_1.continents.continent, \\n       cast ( count(*) AS SIGNED ) , \\n       car_1.continents.contid \\nFROM countries \\n       JOIN car_1 \\n       .continents ON countries.continent = car_1.continents.contid \\nGROUP BY countries.continent \\nORDER BY countries.continent;': (False,\n",
       "   'invalid'),\n",
       "  'SELECT current_Timestamp, current_Timestamp as\"toyota\", count(*) FROM countries GROUP BY currenT_Timestamp ORDER BY currenT_Timestamp ASC': (False,\n",
       "   'invalid'),\n",
       "  'SELECT car_1.continents.continent, car_1.continents.contid, count(countries.continent) FROM continents  cROSS join countries ON continents.contid  = countries.continent GROUP BY countries.continent;': (False,\n",
       "   'invalid'),\n",
       "  'SELECT car_1.ContInentS \\n     . ContId \\n     , car_1.ContinentS \\n     . continent \\n     , count(*) ascoUnts \\nFrom continents  crosS join countries  crosS  join continents  crosS \\n     join car_makers  crosS join model_list  crosS join car_names  crosS \\n     join cars_data  crosS \\n  join countries  crosS \\n': (False,\n",
       "   'invalid'),\n",
       "  'SELECT cArs_datA.cYlinders , aCCeleraTe , maKe , coUntrYnAmE FROM car_makers AS t1 JOIN car_names AS t2 ON t1.id = t2.makeId JOIN countries cRoSs  JOIN coUntrIes aS t3 ON cAsE  -  cAse                                       WHEN cAse  -  coUntrIes.cOntinEnT WHEN t2': (False,\n",
       "   'invalid')}}"
      ]
     },
     "execution_count": 55,
     "metadata": {},
     "output_type": "execute_result"
    }
   ],
   "source": [
    "posterior_weighted_eval(sis_results[90])"
   ]
  },
  {
   "cell_type": "code",
   "execution_count": 56,
   "metadata": {},
   "outputs": [
    {
     "data": {
      "text/plain": [
       "{'result': 0.0,\n",
       " 'particle_results': {'SELECT t1.ContId, t1.Continent, count(*) FROM continents t1 INNER JOIN countries t2 ON t1.ContId = t2.Continent GROUP BY t1.ContId, t1.Continent;': (False,\n",
       "   'invalid'),\n",
       "  'SELECT t1.ContId, t1.Continent, count(*) FROM continents t1 JOIN countries t2 ON t1.contid = t2.continent GROUP BY t1.continent;': (False,\n",
       "   'invalid'),\n",
       "  'SELECT t1.contid, t1.continent, count(*) FROM continents t1 INNER JOIN countries t2 ON t1.contid = t2.continent GROUP BY t1.continent;': (False,\n",
       "   'invalid'),\n",
       "  'SELECT t1.contid, t1.continent, count(*) \\nFROM continents t1 JOIN countries t2 ON t1.contid  =  t2.continent GROUP BY t1.continent;': (False,\n",
       "   'invalid'),\n",
       "  'SELECT t1.contid, t1.continent, count(t2.countryid) FROM continents t1 JOIN countries t2 ON t1.contid = t2.continent GROUP BY t1.contid ORDER BY t1.continent;': (False,\n",
       "   'invalid'),\n",
       "  'SELECT t1.contid ,  t1.continent , count(t2.countryid) FROM continents t1 JOIN countries t2 ON t1.contid = t2.continent GROUP BY t2.continent': (False,\n",
       "   'invalid'),\n",
       "  'SELECT t1 . ContId ,  t1 . Continent ,  count(*) FROM continents AS t1 JOIN countries AS t2 ON t1 . ContId  =  t2 . Continent GROUP BY t1 . ContId  ,  t1 . Continent': (False,\n",
       "   'invalid'),\n",
       "  'SELECT t1.contid, t1.continent, count(*) asNumberOfCountries FROM continents t1 JOIN countries t2 ON t1.contid = t2.continent GROUP BY t1.contid, t1.continent;': (False,\n",
       "   'invalid'),\n",
       "  'SELECT t1.contid, t1.continent, count(*) asCountry_count \\nFROM continents t1 JOIN countries t2 ON t1.contid = t2.continent \\nGROUP BY t1.continent, t1.contid;': (False,\n",
       "   'invalid'),\n",
       "  'SELECT t1.contid, t2.continent, count(*) asrowCount FROM continents t1 JOIN countries t2 ON t1.contid  =  t2.continent GROUP BY t2.continent ORDER BY t1.contid;': (False,\n",
       "   'invalid')}}"
      ]
     },
     "execution_count": 56,
     "metadata": {},
     "output_type": "execute_result"
    }
   ],
   "source": [
    "posterior_weighted_eval(smc_results[90])"
   ]
  },
  {
   "cell_type": "code",
   "execution_count": 46,
   "metadata": {},
   "outputs": [
    {
     "data": {
      "text/plain": [
       "-0.0533"
      ]
     },
     "execution_count": 46,
     "metadata": {},
     "output_type": "execute_result"
    }
   ],
   "source": [
    "-5.33e-2"
   ]
  },
  {
   "cell_type": "code",
   "execution_count": 45,
   "metadata": {},
   "outputs": [],
   "source": [
    "dump_records(90)"
   ]
  },
  {
   "cell_type": "code",
   "execution_count": null,
   "metadata": {},
   "outputs": [],
   "source": []
  },
  {
   "cell_type": "code",
   "execution_count": 37,
   "metadata": {},
   "outputs": [
    {
     "data": {
      "text/plain": [
       "(266,\n",
       " 'Find the cities that have more than one employee under age 30.',\n",
       " 33.28578437177916)"
      ]
     },
     "execution_count": 37,
     "metadata": {},
     "output_type": "execute_result"
    }
   ],
   "source": [
    "mean_log_weights[-1]"
   ]
  },
  {
   "cell_type": "code",
   "execution_count": 35,
   "metadata": {},
   "outputs": [
    {
     "data": {
      "text/plain": [
       "(90,\n",
       " 'For each continent, list its id, name, and how many countries it has?',\n",
       " -74.79856216752158)"
      ]
     },
     "execution_count": 35,
     "metadata": {},
     "output_type": "execute_result"
    }
   ],
   "source": [
    "mean_log_weights[0]"
   ]
  },
  {
   "cell_type": "code",
   "execution_count": 36,
   "metadata": {},
   "outputs": [
    {
     "data": {
      "text/plain": [
       "(89,\n",
       " 'How many countries does each continent have? List the continent id, continent name and the number of countries.',\n",
       " -56.81791112468062)"
      ]
     },
     "execution_count": 36,
     "metadata": {},
     "output_type": "execute_result"
    }
   ],
   "source": [
    "mean_log_weights[1]"
   ]
  },
  {
   "cell_type": "code",
   "execution_count": 18,
   "metadata": {},
   "outputs": [
    {
     "data": {
      "text/plain": [
       "-0.0037043883876159583"
      ]
     },
     "execution_count": 18,
     "metadata": {},
     "output_type": "execute_result"
    }
   ],
   "source": [
    "mean_log_weight(sis_results[0]['record'])"
   ]
  },
  {
   "cell_type": "code",
   "execution_count": 19,
   "metadata": {},
   "outputs": [
    {
     "data": {
      "text/plain": [
       "-0.0009168327767673897"
      ]
     },
     "execution_count": 19,
     "metadata": {},
     "output_type": "execute_result"
    }
   ],
   "source": [
    "mean_log_weight(smc_results[0]['record'])"
   ]
  },
  {
   "cell_type": "code",
   "execution_count": 12,
   "metadata": {},
   "outputs": [
    {
     "data": {
      "text/plain": [
       "[{'context': ['SELECT', ' count', '(*)', ' FROM', ' singer', ';', '▪'],\n",
       "  'weight': -0.0018409783468898526,\n",
       "  'weight_update': -2.526237600047006e-05,\n",
       "  'context_ids': [4963, 1797, 29771, 4393, 23597, 26, 128009]},\n",
       " {'context': ['SELECT',\n",
       "   ' count',\n",
       "   '(D',\n",
       "   'IST',\n",
       "   'INCT',\n",
       "   ' Singer',\n",
       "   '_ID',\n",
       "   ')',\n",
       "   ' FROM',\n",
       "   ' singer',\n",
       "   '_in',\n",
       "   '_con',\n",
       "   'cert',\n",
       "   '▪'],\n",
       "  'weight': -0.0037782748765271715,\n",
       "  'weight_update': -0.0004015634262363373,\n",
       "  'context_ids': [4963,\n",
       "   1797,\n",
       "   5549,\n",
       "   3931,\n",
       "   46419,\n",
       "   55770,\n",
       "   3533,\n",
       "   8,\n",
       "   4393,\n",
       "   23597,\n",
       "   1265,\n",
       "   3464,\n",
       "   12525,\n",
       "   128009]},\n",
       " {'context': ['SELECT',\n",
       "   ' count',\n",
       "   '(D',\n",
       "   'IST',\n",
       "   'INCT',\n",
       "   ' singer',\n",
       "   '_id',\n",
       "   ')',\n",
       "   ' FROM',\n",
       "   ' singer',\n",
       "   '_in',\n",
       "   '_con',\n",
       "   'cert',\n",
       "   ';',\n",
       "   '▪'],\n",
       "  'weight': -0.005987000471013732,\n",
       "  'weight_update': -4.280079850672265e-05,\n",
       "  'context_ids': [4963,\n",
       "   1797,\n",
       "   5549,\n",
       "   3931,\n",
       "   46419,\n",
       "   23597,\n",
       "   851,\n",
       "   8,\n",
       "   4393,\n",
       "   23597,\n",
       "   1265,\n",
       "   3464,\n",
       "   12525,\n",
       "   26,\n",
       "   128009]},\n",
       " {'context': ['SELECT', ' count', '(*)', ' FROM', ' singer', ';', '▪'],\n",
       "  'weight': -0.0018655069031226863,\n",
       "  'weight_update': -2.526237600047006e-05,\n",
       "  'context_ids': [4963, 1797, 29771, 4393, 23597, 26, 128009]},\n",
       " {'context': ['SELECT', ' count', '(*)', ' FROM', ' singer', ';', '▪'],\n",
       "  'weight': -0.0018409783468897416,\n",
       "  'weight_update': -2.526237600047006e-05,\n",
       "  'context_ids': [4963, 1797, 29771, 4393, 23597, 26, 128009]},\n",
       " {'context': ['SELECT', ' count', '(*)', ' FROM', ' singer', ';', '▪'],\n",
       "  'weight': -0.0018409783468898526,\n",
       "  'weight_update': -2.526237600047006e-05,\n",
       "  'context_ids': [4963, 1797, 29771, 4393, 23597, 26, 128009]},\n",
       " {'context': ['SELECT',\n",
       "   ' count',\n",
       "   '(D',\n",
       "   'IST',\n",
       "   'INCT',\n",
       "   ' Singer',\n",
       "   '_ID',\n",
       "   ')',\n",
       "   ' FROM',\n",
       "   ' singer',\n",
       "   '_in',\n",
       "   '_con',\n",
       "   'cert',\n",
       "   ';',\n",
       "   '▪'],\n",
       "  'weight': -0.003920892966251086,\n",
       "  'weight_update': -4.50541222407829e-05,\n",
       "  'context_ids': [4963,\n",
       "   1797,\n",
       "   5549,\n",
       "   3931,\n",
       "   46419,\n",
       "   55770,\n",
       "   3533,\n",
       "   8,\n",
       "   4393,\n",
       "   23597,\n",
       "   1265,\n",
       "   3464,\n",
       "   12525,\n",
       "   26,\n",
       "   128009]},\n",
       " {'context': ['SELECT', ' count', '(*)', ' FROM', ' singer', ';', '▪'],\n",
       "  'weight': -0.0018409783468898526,\n",
       "  'weight_update': -2.526237600047006e-05,\n",
       "  'context_ids': [4963, 1797, 29771, 4393, 23597, 26, 128009]},\n",
       " {'context': ['SELECT',\n",
       "   ' count',\n",
       "   '(S',\n",
       "   'inger',\n",
       "   '_ID',\n",
       "   ')',\n",
       "   ' FROM',\n",
       "   ' singer',\n",
       "   '_in',\n",
       "   '_con',\n",
       "   'cert',\n",
       "   ';',\n",
       "   '▪'],\n",
       "  'weight': -0.012287316924795759,\n",
       "  'weight_update': -9.422669023575496e-05,\n",
       "  'context_ids': [4963,\n",
       "   1797,\n",
       "   3844,\n",
       "   5248,\n",
       "   3533,\n",
       "   8,\n",
       "   4393,\n",
       "   23597,\n",
       "   1265,\n",
       "   3464,\n",
       "   12525,\n",
       "   26,\n",
       "   128009]},\n",
       " {'context': ['SELECT', ' count', '(*)', ' FROM', ' singer', ';', '▪'],\n",
       "  'weight': -0.0018409783468898526,\n",
       "  'weight_update': -2.526237600047006e-05,\n",
       "  'context_ids': [4963, 1797, 29771, 4393, 23597, 26, 128009]}]"
      ]
     },
     "execution_count": 12,
     "metadata": {},
     "output_type": "execute_result"
    }
   ],
   "source": [
    "get_final_particles_from_record(sis_results[0]['record'])"
   ]
  }
 ],
 "metadata": {
  "kernelspec": {
   "display_name": "Python 3",
   "language": "python",
   "name": "python3"
  },
  "language_info": {
   "codemirror_mode": {
    "name": "ipython",
    "version": 3
   },
   "file_extension": ".py",
   "mimetype": "text/x-python",
   "name": "python",
   "nbconvert_exporter": "python",
   "pygments_lexer": "ipython3",
   "version": "3.10.14"
  }
 },
 "nbformat": 4,
 "nbformat_minor": 2
}
